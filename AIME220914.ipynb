{
  "nbformat": 4,
  "nbformat_minor": 0,
  "metadata": {
    "colab": {
      "provenance": [],
      "collapsed_sections": [],
      "mount_file_id": "13FZNx-JZzvdbVJ5-hjckARJb0nZGZQHH",
      "authorship_tag": "ABX9TyO92kw3x02hw8KHb2pHTprG",
      "include_colab_link": true
    },
    "kernelspec": {
      "name": "python3",
      "display_name": "Python 3"
    },
    "language_info": {
      "name": "python"
    }
  },
  "cells": [
    {
      "cell_type": "markdown",
      "metadata": {
        "id": "view-in-github",
        "colab_type": "text"
      },
      "source": [
        "<a href=\"https://colab.research.google.com/github/Zamoca42/TIL/blob/main/AIME220914.ipynb\" target=\"_parent\"><img src=\"https://colab.research.google.com/assets/colab-badge.svg\" alt=\"Open In Colab\"/></a>"
      ]
    },
    {
      "cell_type": "code",
      "execution_count": 5,
      "metadata": {
        "id": "bNjNG7yWfod6",
        "colab": {
          "base_uri": "https://localhost:8080/"
        },
        "outputId": "d239cdc9-1efa-415f-d60b-91d838ba4da0"
      },
      "outputs": [
        {
          "output_type": "stream",
          "name": "stdout",
          "text": [
            "[1, 2, 3, 4]\n",
            "[1 2 3 4]\n"
          ]
        }
      ],
      "source": [
        "# 2022. 09. 14 (수) \n",
        "import numpy as np\n",
        "\n",
        "list_num = [1,2,3,4]\n",
        "\n",
        "nparr = np.array(list_num)\n",
        "\n",
        "print(list_num)\n",
        "print(nparr)"
      ]
    },
    {
      "cell_type": "code",
      "source": [
        "print(\"np.zeros(5) ₩n\", np.zeros(5))\n",
        "print(\"np.zeros((2,3)) ₩n\", np.zeros((2,3)))"
      ],
      "metadata": {
        "colab": {
          "base_uri": "https://localhost:8080/"
        },
        "id": "-YDoPe7RjZjd",
        "outputId": "ab3771b7-5703-487a-9179-d9efd1f83128"
      },
      "execution_count": 6,
      "outputs": [
        {
          "output_type": "stream",
          "name": "stdout",
          "text": [
            "np.zeros(5) ₩n [0. 0. 0. 0. 0.]\n",
            "np.zeros((2,3)) ₩n [[0. 0. 0.]\n",
            " [0. 0. 0.]]\n"
          ]
        }
      ]
    },
    {
      "cell_type": "code",
      "source": [
        "print(\"np.ones(5) ₩n\", np.ones(5))\n",
        "print(\"np.ones((2,3)) ₩n\", np.ones((2,3)))"
      ],
      "metadata": {
        "colab": {
          "base_uri": "https://localhost:8080/"
        },
        "id": "ZF5R8w0SlXOr",
        "outputId": "2452edf8-a881-4c92-f249-d88df483dcce"
      },
      "execution_count": 7,
      "outputs": [
        {
          "output_type": "stream",
          "name": "stdout",
          "text": [
            "np.ones(5) ₩n [1. 1. 1. 1. 1.]\n",
            "np.ones((2,3)) ₩n [[1. 1. 1.]\n",
            " [1. 1. 1.]]\n"
          ]
        }
      ]
    },
    {
      "cell_type": "code",
      "source": [
        "print(\"np.arange(10) ₩n\", np.arange(10))\n",
        "print(\"np.arange(2,5) ₩n\", np.arange(2,5))"
      ],
      "metadata": {
        "colab": {
          "base_uri": "https://localhost:8080/"
        },
        "id": "WQLaMl28ljAR",
        "outputId": "8b8c05e8-d610-4bf3-af11-b12794ef0653"
      },
      "execution_count": 8,
      "outputs": [
        {
          "output_type": "stream",
          "name": "stdout",
          "text": [
            "np.arange(10) ₩n [0 1 2 3 4 5 6 7 8 9]\n",
            "np.arange(2,5) ₩n [2 3 4]\n"
          ]
        }
      ]
    },
    {
      "cell_type": "code",
      "source": [
        "print(nparr[1])\n",
        "print(nparr[1:2])"
      ],
      "metadata": {
        "colab": {
          "base_uri": "https://localhost:8080/"
        },
        "id": "_1gxn7xtltuO",
        "outputId": "7d59f6ca-4d71-4698-8133-120fa076008b"
      },
      "execution_count": 9,
      "outputs": [
        {
          "output_type": "stream",
          "name": "stdout",
          "text": [
            "2\n",
            "[2]\n"
          ]
        }
      ]
    },
    {
      "cell_type": "code",
      "source": [
        "arr1 = np.arange(5)\n",
        "print(\"arr1 : \", arr1)\n",
        "print(\"arr1[0] : \", arr1[0])\n",
        "print(\"arr1[3] : \", arr1[3])\n",
        "print(\"arr1[2:4] : \", arr1[2:4])\n",
        "print(\"arr1[:] : \", arr1[:])"
      ],
      "metadata": {
        "colab": {
          "base_uri": "https://localhost:8080/"
        },
        "id": "poPU_z4VmkSE",
        "outputId": "72e093b3-e1a1-4aa9-8929-aaab65670c30"
      },
      "execution_count": 10,
      "outputs": [
        {
          "output_type": "stream",
          "name": "stdout",
          "text": [
            "arr1 :  [0 1 2 3 4]\n",
            "arr1[0] :  0\n",
            "arr1[3] :  3\n",
            "arr1[2:4] :  [2 3]\n",
            "arr1[:] :  [0 1 2 3 4]\n"
          ]
        }
      ]
    },
    {
      "cell_type": "code",
      "source": [
        "print(nparr[1])\n",
        "print(nparr[1:2])\n",
        "# 독립적이지만 다음에 실행하는 결과에 영향을 미친다"
      ],
      "metadata": {
        "colab": {
          "base_uri": "https://localhost:8080/"
        },
        "id": "_AY1icGloTvV",
        "outputId": "f368b0d1-dd9f-46e4-c3f1-a1f24d4927cf"
      },
      "execution_count": 11,
      "outputs": [
        {
          "output_type": "stream",
          "name": "stdout",
          "text": [
            "2\n",
            "[2]\n"
          ]
        }
      ]
    },
    {
      "cell_type": "code",
      "source": [
        "nparr = np.array([['00','01','02','03'],['10','11','12','13'],['20','21','22','23']])\n",
        "\n",
        "print(nparr)\n",
        "print(nparr[1,2])\n",
        "print(nparr[1,:])\n",
        "print(nparr[0:2,1])\n",
        "print(nparr[0+2,1])\n",
        "print(nparr[[0,2],1]) # 특정 값 뽑아내기\n",
        "print(nparr[[0,2],:])"
      ],
      "metadata": {
        "colab": {
          "base_uri": "https://localhost:8080/"
        },
        "id": "gUYXB8vAnV8B",
        "outputId": "1e0214b0-bcb3-4dc1-846d-0fe392a0785f"
      },
      "execution_count": 12,
      "outputs": [
        {
          "output_type": "stream",
          "name": "stdout",
          "text": [
            "[['00' '01' '02' '03']\n",
            " ['10' '11' '12' '13']\n",
            " ['20' '21' '22' '23']]\n",
            "12\n",
            "['10' '11' '12' '13']\n",
            "['01' '11']\n",
            "21\n",
            "['01' '21']\n",
            "[['00' '01' '02' '03']\n",
            " ['20' '21' '22' '23']]\n"
          ]
        }
      ]
    },
    {
      "cell_type": "code",
      "source": [
        "print(\"0~1 사이 랜덤 값 \\n\", np.random.rand(2,4))\n",
        "print(\"정규분포 랜덤 값 (기대값 0, 표준편차 1) \\n\", np.random.randn(2,4))\n",
        "print(\"절대값 \\n\", np.abs([1, -2, -3, 2]))\n",
        "print(\"제곱근 \\n\", np.sqrt([1, 2, 3, 4]))\n",
        "print(\"제곱 \\n\", np.square([1, 2, 3, 4]))"
      ],
      "metadata": {
        "colab": {
          "base_uri": "https://localhost:8080/"
        },
        "id": "jPezEY_DpB4I",
        "outputId": "71f4d23a-7abd-42cd-f548-87e530dfd869"
      },
      "execution_count": 13,
      "outputs": [
        {
          "output_type": "stream",
          "name": "stdout",
          "text": [
            "0~1 사이 랜덤 값 \n",
            " [[0.73550678 0.86614161 0.25447687 0.54183642]\n",
            " [0.91242418 0.72423274 0.98709179 0.2259472 ]]\n",
            "정규분포 랜덤 값 (기대값 0, 표준편차 1) \n",
            " [[-0.78213414  0.75104934  0.29779566 -1.42899947]\n",
            " [-0.51448821  0.8330605  -0.0552216   0.1160866 ]]\n",
            "절대값 \n",
            " [1 2 3 2]\n",
            "제곱근 \n",
            " [1.         1.41421356 1.73205081 2.        ]\n",
            "제곱 \n",
            " [ 1  4  9 16]\n"
          ]
        }
      ]
    },
    {
      "cell_type": "code",
      "source": [
        "arr1 = np.array([[1,2,3,4],[8,8,6,5]])\n",
        "print(arr1)\n",
        "print(np.sum(arr1, axis=1))\n",
        "print(arr1.sum(axis=1))\n",
        "print(np.sum(arr1, axis=0))\n",
        "print(arr1.sum(axis=0))\n",
        "# average\n",
        "print(arr1.mean(axis=0)) \n",
        "print(arr1.mean(axis=1)) # axis = 차원\n",
        "# std = 표준편차\n",
        "print(arr1.std(axis=0)) \n",
        "print(arr1.std(axis=1))\n",
        "# 최솟값\n",
        "print(arr1.min(axis=0))\n",
        "print(arr1.min(axis=1))\n",
        "# 최소값의 좌표\n",
        "print(arr1.argmin(axis=0))\n",
        "print(arr1.argmin(axis=1))"
      ],
      "metadata": {
        "colab": {
          "base_uri": "https://localhost:8080/"
        },
        "id": "HUwaLTIBr9zQ",
        "outputId": "cf0cda7a-2cdd-4b8e-fe7e-03b537fa0121"
      },
      "execution_count": 14,
      "outputs": [
        {
          "output_type": "stream",
          "name": "stdout",
          "text": [
            "[[1 2 3 4]\n",
            " [8 8 6 5]]\n",
            "[10 27]\n",
            "[10 27]\n",
            "[ 9 10  9  9]\n",
            "[ 9 10  9  9]\n",
            "[4.5 5.  4.5 4.5]\n",
            "[2.5  6.75]\n",
            "[3.5 3.  1.5 0.5]\n",
            "[1.11803399 1.29903811]\n",
            "[1 2 3 4]\n",
            "[1 5]\n",
            "[0 0 0 0]\n",
            "[0 3]\n"
          ]
        }
      ]
    },
    {
      "cell_type": "code",
      "source": [
        "arr1 = np.array([[1,2,3],[4,5,6]])\n",
        "print(arr1)\n",
        "print(arr1.shape)\n",
        "arr2 = arr1.reshape(3,2)\n",
        "print(arr2)\n",
        "arr3 = arr1.reshape(-1,2,3) # -1 은 '알아서 계산하라'는 뜻\n",
        "print(arr3)\n",
        "arr4 = arr1.reshape(6,1)\n",
        "print(arr4)\n",
        "arr5 = arr4.squeeze() # shape에서 1인 파트를 제거\n",
        "arr2 = arr2.squeeze()\n",
        "print(arr5)\n",
        "print(arr2)"
      ],
      "metadata": {
        "colab": {
          "base_uri": "https://localhost:8080/"
        },
        "id": "E-xp-3vQvdU-",
        "outputId": "df54f46d-0437-4877-95e4-81ff19fd2d84"
      },
      "execution_count": 15,
      "outputs": [
        {
          "output_type": "stream",
          "name": "stdout",
          "text": [
            "[[1 2 3]\n",
            " [4 5 6]]\n",
            "(2, 3)\n",
            "[[1 2]\n",
            " [3 4]\n",
            " [5 6]]\n",
            "[[[1 2 3]\n",
            "  [4 5 6]]]\n",
            "[[1]\n",
            " [2]\n",
            " [3]\n",
            " [4]\n",
            " [5]\n",
            " [6]]\n",
            "[1 2 3 4 5 6]\n",
            "[[1 2]\n",
            " [3 4]\n",
            " [5 6]]\n"
          ]
        }
      ]
    },
    {
      "cell_type": "code",
      "source": [
        "import pandas as pd\n",
        "\n",
        "data = {'name' : ['Kim', 'Lee', 'Park'],\n",
        "        'score1' : [100,90,70],\n",
        "        'score2' : [80,70,90], \n",
        "        }\n",
        "df = pd.DataFrame(data)\n",
        "print(df)\n",
        "print(type(df))"
      ],
      "metadata": {
        "colab": {
          "base_uri": "https://localhost:8080/"
        },
        "id": "r0Kldd9VyExK",
        "outputId": "d422044c-b3ac-4f42-8ba6-d61ef6d8626a"
      },
      "execution_count": 40,
      "outputs": [
        {
          "output_type": "stream",
          "name": "stdout",
          "text": [
            "   name  score1  score2\n",
            "0   Kim     100      80\n",
            "1   Lee      90      70\n",
            "2  Park      70      90\n",
            "<class 'pandas.core.frame.DataFrame'>\n"
          ]
        }
      ]
    },
    {
      "cell_type": "code",
      "source": [
        "df1 = pd.DataFrame(df,columns = ['score1','name','score2'])\n",
        "print(df1)"
      ],
      "metadata": {
        "colab": {
          "base_uri": "https://localhost:8080/"
        },
        "id": "H1e5_V9s2fm6",
        "outputId": "88754e44-2d9d-40d1-c2fd-df022b179213"
      },
      "execution_count": 41,
      "outputs": [
        {
          "output_type": "stream",
          "name": "stdout",
          "text": [
            "   score1  name  score2\n",
            "0     100   Kim      80\n",
            "1      90   Lee      70\n",
            "2      70  Park      90\n"
          ]
        }
      ]
    },
    {
      "cell_type": "code",
      "source": [
        "df2 = pd.DataFrame(data,columns = ['name','score1','score2'], index=['a','b','c'])\n",
        "print(df2)"
      ],
      "metadata": {
        "colab": {
          "base_uri": "https://localhost:8080/"
        },
        "id": "Zo6ZWcoR3lAa",
        "outputId": "755e6c68-fb5e-4857-bbbe-49047803053e"
      },
      "execution_count": 42,
      "outputs": [
        {
          "output_type": "stream",
          "name": "stdout",
          "text": [
            "   name  score1  score2\n",
            "a   Kim     100      80\n",
            "b   Lee      90      70\n",
            "c  Park      70      90\n"
          ]
        }
      ]
    },
    {
      "cell_type": "code",
      "source": [
        "#print(df2.name)\n",
        "#dfname=df2.name\n",
        "#print(dfname)\n",
        "#print(type(dfname))\n",
        "dfname = df2['name']\n",
        "dfname=df2[df2.columns[0]]\n",
        "dfname=df2.iloc[:,0] # index로 접근하는 로케이션\n",
        "#dfname=df2.iloc[:,[0,2]]\n",
        "#dfname=df2.loc[:,'name'] # key로 접근하는 로케이션\n",
        "#dfname=df2.loc[:,['name','score2']]\n",
        "#dfname=df2.loc[:,df2.columns[0]]\n",
        "print(dfname)\n",
        "print(df2.columns[0])"
      ],
      "metadata": {
        "colab": {
          "base_uri": "https://localhost:8080/"
        },
        "id": "BlelNLhq38_P",
        "outputId": "770e9c0b-1cda-4820-8bc9-7c3169f2006e"
      },
      "execution_count": 45,
      "outputs": [
        {
          "output_type": "stream",
          "name": "stdout",
          "text": [
            "a     Kim\n",
            "b     Lee\n",
            "c    Park\n",
            "Name: name, dtype: object\n",
            "name\n"
          ]
        }
      ]
    },
    {
      "cell_type": "code",
      "source": [
        "# 2022. 09. 19(월)\n",
        "\n",
        "## df_temp = df2.iloc[1,0]\n",
        "## df_temp = df2.loc['b', 'name']\n",
        "## df_temp = df2.loc[df2.index[1], df2.columns[0]]\n",
        "\n",
        "# 데이터를 여러개 추출\n",
        "\n",
        "## df_temp = df2.loc[['a','b'], 'name']\n",
        "## df_temp = df2.iloc[[0:2,4],[0,2]] \n",
        "\n",
        "# print(df_temp)"
      ],
      "metadata": {
        "id": "_rmBgVHR4T9s"
      },
      "execution_count": 22,
      "outputs": []
    },
    {
      "cell_type": "code",
      "source": [
        "df2['score3'] = [20,30,50]\n",
        "\n",
        "print(df2)"
      ],
      "metadata": {
        "colab": {
          "base_uri": "https://localhost:8080/"
        },
        "id": "ADYY0FA_hvxD",
        "outputId": "582b1163-f958-4609-b3b2-32e2b5292661"
      },
      "execution_count": 23,
      "outputs": [
        {
          "output_type": "stream",
          "name": "stdout",
          "text": [
            "   name  score1  score2  score3\n",
            "a   Kim     100      80      20\n",
            "b   Lee      90      70      30\n",
            "c  Park      70      90      50\n"
          ]
        }
      ]
    },
    {
      "cell_type": "code",
      "source": [
        "data = pd.Series([60,70],index=['b','c'])\n",
        "df2['score4'] = data\n",
        "\n",
        "print(df2) \n",
        "\n",
        "# missing data = NaN\n",
        "# NaN이 들어가는 data는 예외처리 필요"
      ],
      "metadata": {
        "colab": {
          "base_uri": "https://localhost:8080/"
        },
        "id": "UzER7zeljpvM",
        "outputId": "09b1bafa-9de8-4647-d53d-7bfcc3d70681"
      },
      "execution_count": 24,
      "outputs": [
        {
          "output_type": "stream",
          "name": "stdout",
          "text": [
            "   name  score1  score2  score3  score4\n",
            "a   Kim     100      80      20     NaN\n",
            "b   Lee      90      70      30    60.0\n",
            "c  Park      70      90      50    70.0\n"
          ]
        }
      ]
    },
    {
      "cell_type": "code",
      "source": [
        "# data1 = ['one','two', 3]\n",
        "data1 = [1, 2, 3, 4, 5, 6]\n",
        "\n",
        "for i in data1:\n",
        "  print(i)"
      ],
      "metadata": {
        "colab": {
          "base_uri": "https://localhost:8080/"
        },
        "id": "FdNYQHppkBh8",
        "outputId": "d4a0cc26-4460-4cb2-81c4-e81421b264d6"
      },
      "execution_count": 25,
      "outputs": [
        {
          "output_type": "stream",
          "name": "stdout",
          "text": [
            "1\n",
            "2\n",
            "3\n",
            "4\n",
            "5\n",
            "6\n"
          ]
        }
      ]
    },
    {
      "cell_type": "code",
      "source": [
        "for i in range(3):\n",
        "  print(data1[i])"
      ],
      "metadata": {
        "colab": {
          "base_uri": "https://localhost:8080/"
        },
        "id": "wutdpXxXk0C2",
        "outputId": "b25dcbea-27e2-4cc0-a42e-61b8d3c30d32"
      },
      "execution_count": 26,
      "outputs": [
        {
          "output_type": "stream",
          "name": "stdout",
          "text": [
            "1\n",
            "2\n",
            "3\n"
          ]
        }
      ]
    },
    {
      "cell_type": "code",
      "source": [
        "data1 = [[1,2],[3,4],[5,6]]\n",
        "\n",
        "for i in data1:\n",
        "  print('i :', i)\n",
        "  print(i[0])\n",
        "  print(i[1])"
      ],
      "metadata": {
        "colab": {
          "base_uri": "https://localhost:8080/"
        },
        "id": "EnQA7sWklpcG",
        "outputId": "42f1928a-21c4-4dbb-ac65-6c72311967cf"
      },
      "execution_count": 27,
      "outputs": [
        {
          "output_type": "stream",
          "name": "stdout",
          "text": [
            "i : [1, 2]\n",
            "1\n",
            "2\n",
            "i : [3, 4]\n",
            "3\n",
            "4\n",
            "i : [5, 6]\n",
            "5\n",
            "6\n"
          ]
        }
      ]
    },
    {
      "cell_type": "code",
      "source": [
        "data1 = [[1,2,3],[3,4,5],[5,6,7]]\n",
        "\n",
        "for i,j,k in data1:\n",
        "  print(i)\n",
        "  print(j)\n",
        "  print(k)"
      ],
      "metadata": {
        "colab": {
          "base_uri": "https://localhost:8080/"
        },
        "id": "xGhO-9EpmSP5",
        "outputId": "367b49c0-3b2b-4821-c677-ac0deb461830"
      },
      "execution_count": 28,
      "outputs": [
        {
          "output_type": "stream",
          "name": "stdout",
          "text": [
            "1\n",
            "2\n",
            "3\n",
            "3\n",
            "4\n",
            "5\n",
            "5\n",
            "6\n",
            "7\n"
          ]
        }
      ]
    },
    {
      "cell_type": "code",
      "source": [
        "for i in range(1,11):\n",
        "  if (i%2 == 0):\n",
        "    print(i, \"= 짝수\")\n",
        "  elif(i%3 == 0):\n",
        "    print(i, \"= 3의 배수\")\n",
        "  else:\n",
        "    print(i, \"= 짝수도 3의 배수도 아님\")"
      ],
      "metadata": {
        "colab": {
          "base_uri": "https://localhost:8080/"
        },
        "id": "2SfSAKV4miMF",
        "outputId": "c177fad6-2f2f-45d1-c7f5-8cde6fe2c7ca"
      },
      "execution_count": 29,
      "outputs": [
        {
          "output_type": "stream",
          "name": "stdout",
          "text": [
            "1 = 짝수도 3의 배수도 아님\n",
            "2 = 짝수\n",
            "3 = 3의 배수\n",
            "4 = 짝수\n",
            "5 = 짝수도 3의 배수도 아님\n",
            "6 = 짝수\n",
            "7 = 짝수도 3의 배수도 아님\n",
            "8 = 짝수\n",
            "9 = 3의 배수\n",
            "10 = 짝수\n"
          ]
        }
      ]
    },
    {
      "cell_type": "code",
      "source": [
        "i = 1\n",
        "\n",
        "while i <= 11 : \n",
        "  if (i%2 == 0):\n",
        "    print(i, \"= 짝수\")\n",
        "  elif(i%3 == 0):\n",
        "    print(i, \"= 3의 배수\")\n",
        "  else:\n",
        "    print(i, \"= 짝수도 3의 배수도 아님\")\n",
        "  i=i+1\n"
      ],
      "metadata": {
        "colab": {
          "base_uri": "https://localhost:8080/"
        },
        "id": "tKV3mW7Cmv6j",
        "outputId": "3f876bcb-8c15-40c2-f272-f381f277fc5a"
      },
      "execution_count": 30,
      "outputs": [
        {
          "output_type": "stream",
          "name": "stdout",
          "text": [
            "1 = 짝수도 3의 배수도 아님\n",
            "2 = 짝수\n",
            "3 = 3의 배수\n",
            "4 = 짝수\n",
            "5 = 짝수도 3의 배수도 아님\n",
            "6 = 짝수\n",
            "7 = 짝수도 3의 배수도 아님\n",
            "8 = 짝수\n",
            "9 = 3의 배수\n",
            "10 = 짝수\n",
            "11 = 짝수도 3의 배수도 아님\n"
          ]
        }
      ]
    },
    {
      "cell_type": "code",
      "source": [
        "def add_sub(a,b):\n",
        "  return a+b, a-b\n",
        "\n",
        "a=4\n",
        "b=2\n",
        "\n",
        "# c,d = add_sub(a,b)\n",
        "_,d = add_sub(a,b)\n",
        "c,_ = add_sub(a,b)\n",
        "# print(d)\n",
        "print(c)"
      ],
      "metadata": {
        "colab": {
          "base_uri": "https://localhost:8080/"
        },
        "id": "wGt6oewRpAGo",
        "outputId": "9a033439-e3fc-4694-ae6c-b260e9040e4a"
      },
      "execution_count": 31,
      "outputs": [
        {
          "output_type": "stream",
          "name": "stdout",
          "text": [
            "6\n"
          ]
        }
      ]
    },
    {
      "cell_type": "code",
      "source": [
        "# 2022. 09. 21\n",
        "\n",
        "## test.txt 파일 생성 후 업로드\n",
        "\n",
        "# /content/drive/MyDrive/Colab Notebooks/test.txt\n",
        "\n",
        "from google.colab import files\n",
        "# uploaded = files.upload()"
      ],
      "metadata": {
        "id": "wUs1S8_LqELY",
        "colab": {
          "base_uri": "https://localhost:8080/",
          "height": 39
        },
        "outputId": "ed5270f2-499f-40a6-b0ad-dde89f3d06fe"
      },
      "execution_count": 32,
      "outputs": [
        {
          "output_type": "display_data",
          "data": {
            "text/plain": [
              "<IPython.core.display.HTML object>"
            ],
            "text/html": [
              "\n",
              "     <input type=\"file\" id=\"files-3f501a4f-e182-4c28-a3c3-5d3e1c0d78d2\" name=\"files[]\" multiple disabled\n",
              "        style=\"border:none\" />\n",
              "     <output id=\"result-3f501a4f-e182-4c28-a3c3-5d3e1c0d78d2\">\n",
              "      Upload widget is only available when the cell has been executed in the\n",
              "      current browser session. Please rerun this cell to enable.\n",
              "      </output>\n",
              "      <script>// Copyright 2017 Google LLC\n",
              "//\n",
              "// Licensed under the Apache License, Version 2.0 (the \"License\");\n",
              "// you may not use this file except in compliance with the License.\n",
              "// You may obtain a copy of the License at\n",
              "//\n",
              "//      http://www.apache.org/licenses/LICENSE-2.0\n",
              "//\n",
              "// Unless required by applicable law or agreed to in writing, software\n",
              "// distributed under the License is distributed on an \"AS IS\" BASIS,\n",
              "// WITHOUT WARRANTIES OR CONDITIONS OF ANY KIND, either express or implied.\n",
              "// See the License for the specific language governing permissions and\n",
              "// limitations under the License.\n",
              "\n",
              "/**\n",
              " * @fileoverview Helpers for google.colab Python module.\n",
              " */\n",
              "(function(scope) {\n",
              "function span(text, styleAttributes = {}) {\n",
              "  const element = document.createElement('span');\n",
              "  element.textContent = text;\n",
              "  for (const key of Object.keys(styleAttributes)) {\n",
              "    element.style[key] = styleAttributes[key];\n",
              "  }\n",
              "  return element;\n",
              "}\n",
              "\n",
              "// Max number of bytes which will be uploaded at a time.\n",
              "const MAX_PAYLOAD_SIZE = 100 * 1024;\n",
              "\n",
              "function _uploadFiles(inputId, outputId) {\n",
              "  const steps = uploadFilesStep(inputId, outputId);\n",
              "  const outputElement = document.getElementById(outputId);\n",
              "  // Cache steps on the outputElement to make it available for the next call\n",
              "  // to uploadFilesContinue from Python.\n",
              "  outputElement.steps = steps;\n",
              "\n",
              "  return _uploadFilesContinue(outputId);\n",
              "}\n",
              "\n",
              "// This is roughly an async generator (not supported in the browser yet),\n",
              "// where there are multiple asynchronous steps and the Python side is going\n",
              "// to poll for completion of each step.\n",
              "// This uses a Promise to block the python side on completion of each step,\n",
              "// then passes the result of the previous step as the input to the next step.\n",
              "function _uploadFilesContinue(outputId) {\n",
              "  const outputElement = document.getElementById(outputId);\n",
              "  const steps = outputElement.steps;\n",
              "\n",
              "  const next = steps.next(outputElement.lastPromiseValue);\n",
              "  return Promise.resolve(next.value.promise).then((value) => {\n",
              "    // Cache the last promise value to make it available to the next\n",
              "    // step of the generator.\n",
              "    outputElement.lastPromiseValue = value;\n",
              "    return next.value.response;\n",
              "  });\n",
              "}\n",
              "\n",
              "/**\n",
              " * Generator function which is called between each async step of the upload\n",
              " * process.\n",
              " * @param {string} inputId Element ID of the input file picker element.\n",
              " * @param {string} outputId Element ID of the output display.\n",
              " * @return {!Iterable<!Object>} Iterable of next steps.\n",
              " */\n",
              "function* uploadFilesStep(inputId, outputId) {\n",
              "  const inputElement = document.getElementById(inputId);\n",
              "  inputElement.disabled = false;\n",
              "\n",
              "  const outputElement = document.getElementById(outputId);\n",
              "  outputElement.innerHTML = '';\n",
              "\n",
              "  const pickedPromise = new Promise((resolve) => {\n",
              "    inputElement.addEventListener('change', (e) => {\n",
              "      resolve(e.target.files);\n",
              "    });\n",
              "  });\n",
              "\n",
              "  const cancel = document.createElement('button');\n",
              "  inputElement.parentElement.appendChild(cancel);\n",
              "  cancel.textContent = 'Cancel upload';\n",
              "  const cancelPromise = new Promise((resolve) => {\n",
              "    cancel.onclick = () => {\n",
              "      resolve(null);\n",
              "    };\n",
              "  });\n",
              "\n",
              "  // Wait for the user to pick the files.\n",
              "  const files = yield {\n",
              "    promise: Promise.race([pickedPromise, cancelPromise]),\n",
              "    response: {\n",
              "      action: 'starting',\n",
              "    }\n",
              "  };\n",
              "\n",
              "  cancel.remove();\n",
              "\n",
              "  // Disable the input element since further picks are not allowed.\n",
              "  inputElement.disabled = true;\n",
              "\n",
              "  if (!files) {\n",
              "    return {\n",
              "      response: {\n",
              "        action: 'complete',\n",
              "      }\n",
              "    };\n",
              "  }\n",
              "\n",
              "  for (const file of files) {\n",
              "    const li = document.createElement('li');\n",
              "    li.append(span(file.name, {fontWeight: 'bold'}));\n",
              "    li.append(span(\n",
              "        `(${file.type || 'n/a'}) - ${file.size} bytes, ` +\n",
              "        `last modified: ${\n",
              "            file.lastModifiedDate ? file.lastModifiedDate.toLocaleDateString() :\n",
              "                                    'n/a'} - `));\n",
              "    const percent = span('0% done');\n",
              "    li.appendChild(percent);\n",
              "\n",
              "    outputElement.appendChild(li);\n",
              "\n",
              "    const fileDataPromise = new Promise((resolve) => {\n",
              "      const reader = new FileReader();\n",
              "      reader.onload = (e) => {\n",
              "        resolve(e.target.result);\n",
              "      };\n",
              "      reader.readAsArrayBuffer(file);\n",
              "    });\n",
              "    // Wait for the data to be ready.\n",
              "    let fileData = yield {\n",
              "      promise: fileDataPromise,\n",
              "      response: {\n",
              "        action: 'continue',\n",
              "      }\n",
              "    };\n",
              "\n",
              "    // Use a chunked sending to avoid message size limits. See b/62115660.\n",
              "    let position = 0;\n",
              "    do {\n",
              "      const length = Math.min(fileData.byteLength - position, MAX_PAYLOAD_SIZE);\n",
              "      const chunk = new Uint8Array(fileData, position, length);\n",
              "      position += length;\n",
              "\n",
              "      const base64 = btoa(String.fromCharCode.apply(null, chunk));\n",
              "      yield {\n",
              "        response: {\n",
              "          action: 'append',\n",
              "          file: file.name,\n",
              "          data: base64,\n",
              "        },\n",
              "      };\n",
              "\n",
              "      let percentDone = fileData.byteLength === 0 ?\n",
              "          100 :\n",
              "          Math.round((position / fileData.byteLength) * 100);\n",
              "      percent.textContent = `${percentDone}% done`;\n",
              "\n",
              "    } while (position < fileData.byteLength);\n",
              "  }\n",
              "\n",
              "  // All done.\n",
              "  yield {\n",
              "    response: {\n",
              "      action: 'complete',\n",
              "    }\n",
              "  };\n",
              "}\n",
              "\n",
              "scope.google = scope.google || {};\n",
              "scope.google.colab = scope.google.colab || {};\n",
              "scope.google.colab._files = {\n",
              "  _uploadFiles,\n",
              "  _uploadFilesContinue,\n",
              "};\n",
              "})(self);\n",
              "</script> "
            ]
          },
          "metadata": {}
        }
      ]
    },
    {
      "cell_type": "code",
      "source": [
        "f = open(\"/content/drive/MyDrive/Colab Notebooks/test.txt\", 'r')\n",
        "# line = f.readline()\n",
        "while True : \n",
        "  line = f.readline()\n",
        "  if not line: break\n",
        "  print(line)\n",
        "f.close()"
      ],
      "metadata": {
        "colab": {
          "base_uri": "https://localhost:8080/"
        },
        "id": "qeVTaoacnLMx",
        "outputId": "78a6c979-db90-4f9f-b89f-0d475ad50d4c"
      },
      "execution_count": 33,
      "outputs": [
        {
          "output_type": "stream",
          "name": "stdout",
          "text": [
            "hello hi\n",
            "\n",
            "good morning\n",
            "\n",
            "\n",
            "\n",
            "111\n",
            "\n",
            "22\n",
            "\n",
            "3\n",
            "\n",
            "4\n",
            "\n",
            "5\n",
            "\n",
            "666\n"
          ]
        }
      ]
    },
    {
      "cell_type": "code",
      "source": [
        "f = open(\"/content/drive/MyDrive/Colab Notebooks/test.txt\", 'r')\n",
        "\n",
        "lines = f.readlines()\n",
        "\n",
        "print(lines)\n",
        "\n",
        "for i in lines:\n",
        "  print(i)\n",
        "\n",
        "for i in range(len(lines)) :\n",
        "  print(lines[i])\n",
        "\n",
        "f.close()"
      ],
      "metadata": {
        "colab": {
          "base_uri": "https://localhost:8080/"
        },
        "id": "3_gJ4DZPnXQq",
        "outputId": "acc7cfe0-e119-4885-a704-e4a891ef7b9e"
      },
      "execution_count": 36,
      "outputs": [
        {
          "output_type": "stream",
          "name": "stdout",
          "text": [
            "['hello hi\\n', 'good morning\\n', '\\n', '111\\n', '22\\n', '3\\n', '4\\n', '5\\n', '666']\n",
            "hello hi\n",
            "\n",
            "good morning\n",
            "\n",
            "\n",
            "\n",
            "111\n",
            "\n",
            "22\n",
            "\n",
            "3\n",
            "\n",
            "4\n",
            "\n",
            "5\n",
            "\n",
            "666\n",
            "hello hi\n",
            "\n",
            "good morning\n",
            "\n",
            "\n",
            "\n",
            "111\n",
            "\n",
            "22\n",
            "\n",
            "3\n",
            "\n",
            "4\n",
            "\n",
            "5\n",
            "\n",
            "666\n"
          ]
        }
      ]
    },
    {
      "cell_type": "code",
      "source": [
        "f = open(\"/content/test1.txt\", 'w')\n",
        "f.write(\"hello \\n\")\n",
        "f.write(\"test \\n\")\n",
        "f.write(\"32541637 \\n\")\n",
        "\n",
        "a = 100.1\n",
        "f.write(str(a)+'\\n')\n",
        "str_data = \"이렇게도 쓸 수 있습니다 \\n%.2f\\n\" %a\n",
        "\n",
        "f.write(str_data)\n",
        "f.close()"
      ],
      "metadata": {
        "id": "2nJKT_MNrz_r"
      },
      "execution_count": 43,
      "outputs": []
    },
    {
      "cell_type": "code",
      "source": [
        "import pandas as pd\n",
        "\n",
        "data1 = pd.read_csv(\"/content/drive/MyDrive/Colab Notebooks/csvtest.csv\", encoding=\"utf-8\", sep=',', index_col=[0], header=[0])\n",
        "print(data1)"
      ],
      "metadata": {
        "colab": {
          "base_uri": "https://localhost:8080/"
        },
        "id": "1QFn6LyltXqq",
        "outputId": "d9b1453a-4db7-4585-a150-6e151d03c20f"
      },
      "execution_count": 50,
      "outputs": [
        {
          "output_type": "stream",
          "name": "stdout",
          "text": [
            "   Name  Math  Science  history  music  Unnamed: 6\n",
            "a   100    90       70      100     90         NaN\n",
            "b    90    80      100      100     80         NaN\n",
            "c    80    89       80      100     70         NaN\n",
            "d    70    90       70      100     60         NaN\n",
            "e    60   100       50      100     50         NaN\n",
            "f    50   100       60      100     40         NaN\n"
          ]
        }
      ]
    },
    {
      "cell_type": "code",
      "source": [
        "data_temp = pd.Series([60,70,90], index=['b','c','f'])\n",
        "data1['art'] = data_temp\n",
        "\n",
        "print(data1)"
      ],
      "metadata": {
        "colab": {
          "base_uri": "https://localhost:8080/"
        },
        "id": "D8_qEm24zKbY",
        "outputId": "941db7e9-5202-4f78-c16b-f49e303ed27a"
      },
      "execution_count": 53,
      "outputs": [
        {
          "output_type": "stream",
          "name": "stdout",
          "text": [
            "   Name  Math  Science  history  music  Unnamed: 6   art\n",
            "a   100    90       70      100     90         NaN   NaN\n",
            "b    90    80      100      100     80         NaN  60.0\n",
            "c    80    89       80      100     70         NaN  70.0\n",
            "d    70    90       70      100     60         NaN   NaN\n",
            "e    60   100       50      100     50         NaN   NaN\n",
            "f    50   100       60      100     40         NaN  90.0\n"
          ]
        }
      ]
    },
    {
      "cell_type": "code",
      "source": [
        "data1.to_csv(\"/content/drive/MyDrive/Colab Notebooks/csv_result.csv\",mode='w')"
      ],
      "metadata": {
        "id": "yyb0QlB_0uHg"
      },
      "execution_count": 55,
      "outputs": []
    },
    {
      "cell_type": "code",
      "source": [
        "# data1 = data1.drop(['Unnamed: 6'],axis='columns')\n",
        "# 열 삭제해보기\n",
        "\n",
        "print(data1)"
      ],
      "metadata": {
        "colab": {
          "base_uri": "https://localhost:8080/"
        },
        "id": "yc7gZA3l18NR",
        "outputId": "7e6d491c-409b-4ef5-ea1a-6e54837a2b22"
      },
      "execution_count": 61,
      "outputs": [
        {
          "output_type": "stream",
          "name": "stdout",
          "text": [
            "   Name  Math  Science  history  music   art\n",
            "a   100    90       70      100     90   NaN\n",
            "b    90    80      100      100     80  60.0\n",
            "c    80    89       80      100     70  70.0\n",
            "d    70    90       70      100     60   NaN\n",
            "e    60   100       50      100     50   NaN\n",
            "f    50   100       60      100     40  90.0\n"
          ]
        }
      ]
    },
    {
      "cell_type": "code",
      "source": [
        "# HomeWork\n",
        "\n",
        "import pandas as pd\n",
        "\n",
        "data2 = pd.read_csv(\"/content/drive/MyDrive/Colab Notebooks/Hwtest.csv\", encoding=\"utf-8\", sep=',', index_col=[0], header=[0])\n",
        "\n",
        "data10 = pd.DataFrame({'i*10': range(data2.shape[0])})\n",
        "\n",
        "for i in range(data2.shape[0]):\n",
        "   data10.iloc[i,0] = i * 10\n",
        "\n",
        "data2['Unnamed: 1'] = data10\n",
        "data2.rename(columns = {'Unnamed: 1':'i*10'}, inplace = True)\n",
        "\n",
        "print(data2)\n",
        "# data2.to_csv(~)\n"
      ],
      "metadata": {
        "colab": {
          "base_uri": "https://localhost:8080/"
        },
        "id": "L5n33PbW4jdf",
        "outputId": "66aa263e-a7ce-4541-a8b4-ea864be0f8ca"
      },
      "execution_count": 61,
      "outputs": [
        {
          "output_type": "stream",
          "name": "stdout",
          "text": [
            "    i*10\n",
            "I       \n",
            "0      0\n",
            "1     10\n",
            "2     20\n",
            "3     30\n",
            "4     40\n",
            "5     50\n",
            "6     60\n",
            "7     70\n",
            "8     80\n",
            "9     90\n",
            "10   100\n"
          ]
        }
      ]
    },
    {
      "cell_type": "code",
      "source": [],
      "metadata": {
        "id": "qIIBHiho65IH"
      },
      "execution_count": null,
      "outputs": []
    }
  ]
}