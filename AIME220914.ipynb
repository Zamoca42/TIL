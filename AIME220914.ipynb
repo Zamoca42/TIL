{
  "nbformat": 4,
  "nbformat_minor": 0,
  "metadata": {
    "colab": {
      "provenance": [],
      "collapsed_sections": [],
      "mount_file_id": "13FZNx-JZzvdbVJ5-hjckARJb0nZGZQHH",
      "authorship_tag": "ABX9TyP/Eq5ZvyuVvLbWRUvl/9Ga",
      "include_colab_link": true
    },
    "kernelspec": {
      "name": "python3",
      "display_name": "Python 3"
    },
    "language_info": {
      "name": "python"
    }
  },
  "cells": [
    {
      "cell_type": "markdown",
      "metadata": {
        "id": "view-in-github",
        "colab_type": "text"
      },
      "source": [
        "<a href=\"https://colab.research.google.com/github/Zamoca42/TIL/blob/main/AIME220914.ipynb\" target=\"_parent\"><img src=\"https://colab.research.google.com/assets/colab-badge.svg\" alt=\"Open In Colab\"/></a>"
      ]
    },
    {
      "cell_type": "code",
      "execution_count": 1,
      "metadata": {
        "id": "bNjNG7yWfod6",
        "colab": {
          "base_uri": "https://localhost:8080/"
        },
        "outputId": "e53c6872-f2e3-4593-ed90-256dd78c1eb4"
      },
      "outputs": [
        {
          "output_type": "stream",
          "name": "stdout",
          "text": [
            "[1, 2, 3, 4]\n",
            "[1 2 3 4]\n"
          ]
        }
      ],
      "source": [
        "# 2022. 09. 14 (수) \n",
        "import numpy as np\n",
        "\n",
        "list_num = [1,2,3,4]\n",
        "\n",
        "nparr = np.array(list_num)\n",
        "\n",
        "print(list_num)\n",
        "print(nparr)"
      ]
    },
    {
      "cell_type": "code",
      "source": [
        "print(\"np.zeros(5) ₩n\", np.zeros(5))\n",
        "print(\"np.zeros((2,3)) ₩n\", np.zeros((2,3)))"
      ],
      "metadata": {
        "colab": {
          "base_uri": "https://localhost:8080/"
        },
        "id": "-YDoPe7RjZjd",
        "outputId": "a254cc72-a1e4-4276-a13d-7c1c73865832"
      },
      "execution_count": 2,
      "outputs": [
        {
          "output_type": "stream",
          "name": "stdout",
          "text": [
            "np.zeros(5) ₩n [0. 0. 0. 0. 0.]\n",
            "np.zeros((2,3)) ₩n [[0. 0. 0.]\n",
            " [0. 0. 0.]]\n"
          ]
        }
      ]
    },
    {
      "cell_type": "code",
      "source": [
        "print(\"np.ones(5) ₩n\", np.ones(5))\n",
        "print(\"np.ones((2,3)) ₩n\", np.ones((2,3)))"
      ],
      "metadata": {
        "colab": {
          "base_uri": "https://localhost:8080/"
        },
        "id": "ZF5R8w0SlXOr",
        "outputId": "c157d202-0098-4bd2-92b3-3cec50dbf0cb"
      },
      "execution_count": 3,
      "outputs": [
        {
          "output_type": "stream",
          "name": "stdout",
          "text": [
            "np.ones(5) ₩n [1. 1. 1. 1. 1.]\n",
            "np.ones((2,3)) ₩n [[1. 1. 1.]\n",
            " [1. 1. 1.]]\n"
          ]
        }
      ]
    },
    {
      "cell_type": "code",
      "source": [
        "print(\"np.arange(10) ₩n\", np.arange(10))\n",
        "print(\"np.arange(2,5) ₩n\", np.arange(2,5))"
      ],
      "metadata": {
        "colab": {
          "base_uri": "https://localhost:8080/"
        },
        "id": "WQLaMl28ljAR",
        "outputId": "38d40e08-e1ea-4d1c-db9e-aea5ed24a7f5"
      },
      "execution_count": 4,
      "outputs": [
        {
          "output_type": "stream",
          "name": "stdout",
          "text": [
            "np.arange(10) ₩n [0 1 2 3 4 5 6 7 8 9]\n",
            "np.arange(2,5) ₩n [2 3 4]\n"
          ]
        }
      ]
    },
    {
      "cell_type": "code",
      "source": [
        "print(nparr[1])\n",
        "print(nparr[1:2])"
      ],
      "metadata": {
        "colab": {
          "base_uri": "https://localhost:8080/"
        },
        "id": "_1gxn7xtltuO",
        "outputId": "984588ae-9ab5-4f88-f607-a08f2899ba92"
      },
      "execution_count": 5,
      "outputs": [
        {
          "output_type": "stream",
          "name": "stdout",
          "text": [
            "2\n",
            "[2]\n"
          ]
        }
      ]
    },
    {
      "cell_type": "code",
      "source": [
        "arr1 = np.arange(5)\n",
        "print(\"arr1 : \", arr1)\n",
        "print(\"arr1[0] : \", arr1[0])\n",
        "print(\"arr1[3] : \", arr1[3])\n",
        "print(\"arr1[2:4] : \", arr1[2:4])\n",
        "print(\"arr1[:] : \", arr1[:])"
      ],
      "metadata": {
        "colab": {
          "base_uri": "https://localhost:8080/"
        },
        "id": "poPU_z4VmkSE",
        "outputId": "a4070ae4-ff4d-46b1-a0e2-ca007444b625"
      },
      "execution_count": 6,
      "outputs": [
        {
          "output_type": "stream",
          "name": "stdout",
          "text": [
            "arr1 :  [0 1 2 3 4]\n",
            "arr1[0] :  0\n",
            "arr1[3] :  3\n",
            "arr1[2:4] :  [2 3]\n",
            "arr1[:] :  [0 1 2 3 4]\n"
          ]
        }
      ]
    },
    {
      "cell_type": "code",
      "source": [
        "print(nparr[1])\n",
        "print(nparr[1:2])\n",
        "# 독립적이지만 다음에 실행하는 결과에 영향을 미친다"
      ],
      "metadata": {
        "colab": {
          "base_uri": "https://localhost:8080/"
        },
        "id": "_AY1icGloTvV",
        "outputId": "361c7fad-764e-42f4-b40c-d0d6db49382d"
      },
      "execution_count": 7,
      "outputs": [
        {
          "output_type": "stream",
          "name": "stdout",
          "text": [
            "2\n",
            "[2]\n"
          ]
        }
      ]
    },
    {
      "cell_type": "code",
      "source": [
        "nparr = np.array([['00','01','02','03'],['10','11','12','13'],['20','21','22','23']])\n",
        "\n",
        "print(nparr)\n",
        "print(nparr[1,2])\n",
        "print(nparr[1,:])\n",
        "print(nparr[0:2,1])\n",
        "print(nparr[0+2,1])\n",
        "print(nparr[[0,2],1]) # 특정 값 뽑아내기\n",
        "print(nparr[[0,2],:])"
      ],
      "metadata": {
        "colab": {
          "base_uri": "https://localhost:8080/"
        },
        "id": "gUYXB8vAnV8B",
        "outputId": "bfd3c92f-eb25-4e20-80cb-af9410a3e6ed"
      },
      "execution_count": 8,
      "outputs": [
        {
          "output_type": "stream",
          "name": "stdout",
          "text": [
            "[['00' '01' '02' '03']\n",
            " ['10' '11' '12' '13']\n",
            " ['20' '21' '22' '23']]\n",
            "12\n",
            "['10' '11' '12' '13']\n",
            "['01' '11']\n",
            "21\n",
            "['01' '21']\n",
            "[['00' '01' '02' '03']\n",
            " ['20' '21' '22' '23']]\n"
          ]
        }
      ]
    },
    {
      "cell_type": "code",
      "source": [
        "print(\"0~1 사이 랜덤 값 \\n\", np.random.rand(2,4))\n",
        "print(\"정규분포 랜덤 값 (기대값 0, 표준편차 1) \\n\", np.random.randn(2,4))\n",
        "print(\"절대값 \\n\", np.abs([1, -2, -3, 2]))\n",
        "print(\"제곱근 \\n\", np.sqrt([1, 2, 3, 4]))\n",
        "print(\"제곱 \\n\", np.square([1, 2, 3, 4]))"
      ],
      "metadata": {
        "colab": {
          "base_uri": "https://localhost:8080/"
        },
        "id": "jPezEY_DpB4I",
        "outputId": "c3bd2fd1-90ef-4903-c60d-0507e1e16bfa"
      },
      "execution_count": 9,
      "outputs": [
        {
          "output_type": "stream",
          "name": "stdout",
          "text": [
            "0~1 사이 랜덤 값 \n",
            " [[0.48652871 0.71996061 0.71150938 0.79797679]\n",
            " [0.34271683 0.6967283  0.85943431 0.95586116]]\n",
            "정규분포 랜덤 값 (기대값 0, 표준편차 1) \n",
            " [[-0.89129819  0.69608688 -1.58672111 -1.65450321]\n",
            " [ 0.62025354 -0.36516637  1.36843052  0.37331751]]\n",
            "절대값 \n",
            " [1 2 3 2]\n",
            "제곱근 \n",
            " [1.         1.41421356 1.73205081 2.        ]\n",
            "제곱 \n",
            " [ 1  4  9 16]\n"
          ]
        }
      ]
    },
    {
      "cell_type": "code",
      "source": [
        "arr1 = np.array([[1,2,3,4],[8,8,6,5]])\n",
        "print(arr1)\n",
        "print(np.sum(arr1, axis=1))\n",
        "print(arr1.sum(axis=1))\n",
        "print(np.sum(arr1, axis=0))\n",
        "print(arr1.sum(axis=0))\n",
        "# average\n",
        "print(arr1.mean(axis=0)) \n",
        "print(arr1.mean(axis=1)) # axis = 차원\n",
        "# std = 표준편차\n",
        "print(arr1.std(axis=0)) \n",
        "print(arr1.std(axis=1))\n",
        "# 최솟값\n",
        "print(arr1.min(axis=0))\n",
        "print(arr1.min(axis=1))\n",
        "# 최소값의 좌표\n",
        "print(arr1.argmin(axis=0))\n",
        "print(arr1.argmin(axis=1))"
      ],
      "metadata": {
        "colab": {
          "base_uri": "https://localhost:8080/"
        },
        "id": "HUwaLTIBr9zQ",
        "outputId": "aa9502b0-32ca-4016-fe3d-41f1f78b13bd"
      },
      "execution_count": 10,
      "outputs": [
        {
          "output_type": "stream",
          "name": "stdout",
          "text": [
            "[[1 2 3 4]\n",
            " [8 8 6 5]]\n",
            "[10 27]\n",
            "[10 27]\n",
            "[ 9 10  9  9]\n",
            "[ 9 10  9  9]\n",
            "[4.5 5.  4.5 4.5]\n",
            "[2.5  6.75]\n",
            "[3.5 3.  1.5 0.5]\n",
            "[1.11803399 1.29903811]\n",
            "[1 2 3 4]\n",
            "[1 5]\n",
            "[0 0 0 0]\n",
            "[0 3]\n"
          ]
        }
      ]
    },
    {
      "cell_type": "code",
      "source": [
        "arr1 = np.array([[1,2,3],[4,5,6]])\n",
        "print(arr1)\n",
        "print(arr1.shape)\n",
        "arr2 = arr1.reshape(3,2)\n",
        "print(arr2)\n",
        "arr3 = arr1.reshape(-1,2,3) # -1 은 '알아서 계산하라'는 뜻\n",
        "print(arr3)\n",
        "arr4 = arr1.reshape(6,1)\n",
        "print(arr4)\n",
        "arr5 = arr4.squeeze() # shape에서 1인 파트를 제거\n",
        "arr2 = arr2.squeeze()\n",
        "print(arr5)\n",
        "print(arr2)"
      ],
      "metadata": {
        "colab": {
          "base_uri": "https://localhost:8080/"
        },
        "id": "E-xp-3vQvdU-",
        "outputId": "20c145ca-bf52-468e-f80c-a307be6990bb"
      },
      "execution_count": 11,
      "outputs": [
        {
          "output_type": "stream",
          "name": "stdout",
          "text": [
            "[[1 2 3]\n",
            " [4 5 6]]\n",
            "(2, 3)\n",
            "[[1 2]\n",
            " [3 4]\n",
            " [5 6]]\n",
            "[[[1 2 3]\n",
            "  [4 5 6]]]\n",
            "[[1]\n",
            " [2]\n",
            " [3]\n",
            " [4]\n",
            " [5]\n",
            " [6]]\n",
            "[1 2 3 4 5 6]\n",
            "[[1 2]\n",
            " [3 4]\n",
            " [5 6]]\n"
          ]
        }
      ]
    },
    {
      "cell_type": "code",
      "source": [
        "import pandas as pd\n",
        "\n",
        "data = {'name' : ['Kim', 'Lee', 'Park'],\n",
        "        'score1' : [100,90,70],\n",
        "        'score2' : [80,70,90], \n",
        "        }\n",
        "df = pd.DataFrame(data)\n",
        "print(df)\n",
        "print(type(df))"
      ],
      "metadata": {
        "colab": {
          "base_uri": "https://localhost:8080/"
        },
        "id": "r0Kldd9VyExK",
        "outputId": "eead3735-b74a-474e-9cf8-374bc3ce1783"
      },
      "execution_count": 12,
      "outputs": [
        {
          "output_type": "stream",
          "name": "stdout",
          "text": [
            "   name  score1  score2\n",
            "0   Kim     100      80\n",
            "1   Lee      90      70\n",
            "2  Park      70      90\n",
            "<class 'pandas.core.frame.DataFrame'>\n"
          ]
        }
      ]
    },
    {
      "cell_type": "code",
      "source": [
        "df1 = pd.DataFrame(df,columns = ['score1','name','score2'])\n",
        "print(df1)"
      ],
      "metadata": {
        "colab": {
          "base_uri": "https://localhost:8080/"
        },
        "id": "H1e5_V9s2fm6",
        "outputId": "4a8f34e0-46db-48a8-a681-b21fe44514b1"
      },
      "execution_count": 13,
      "outputs": [
        {
          "output_type": "stream",
          "name": "stdout",
          "text": [
            "   score1  name  score2\n",
            "0     100   Kim      80\n",
            "1      90   Lee      70\n",
            "2      70  Park      90\n"
          ]
        }
      ]
    },
    {
      "cell_type": "code",
      "source": [
        "df2 = pd.DataFrame(data,columns = ['name','score1','score2'], index=['a','b','c'])\n",
        "print(df2)"
      ],
      "metadata": {
        "colab": {
          "base_uri": "https://localhost:8080/"
        },
        "id": "Zo6ZWcoR3lAa",
        "outputId": "58f71426-1779-4cf1-bccd-ebb3f7b076e1"
      },
      "execution_count": 14,
      "outputs": [
        {
          "output_type": "stream",
          "name": "stdout",
          "text": [
            "   name  score1  score2\n",
            "a   Kim     100      80\n",
            "b   Lee      90      70\n",
            "c  Park      70      90\n"
          ]
        }
      ]
    },
    {
      "cell_type": "code",
      "source": [
        "print(df2.name)\n",
        "dfname=df2.name\n",
        "print(dfname)\n",
        "print(type(dfname))\n",
        "dfname = df2['name']\n",
        "dfname=df2[df2.columns[0]]\n",
        "dfname=df2.iloc[:,0] # index로 접근하는 로케이션\n",
        "dfname=df2.iloc[:,[0,2]]\n",
        "dfname=df2.loc[:,'name'] # key로 접근하는 로케이션\n",
        "dfname=df2.loc[:,['name','score2']]\n",
        "dfname=df2.loc[:,df2.columns[0]]\n",
        "print(dfname)\n",
        "print(df2.columns[0])"
      ],
      "metadata": {
        "colab": {
          "base_uri": "https://localhost:8080/"
        },
        "id": "BlelNLhq38_P",
        "outputId": "a4a31b41-2343-4db3-9b3a-5bb379204e23"
      },
      "execution_count": 15,
      "outputs": [
        {
          "output_type": "stream",
          "name": "stdout",
          "text": [
            "a     Kim\n",
            "b     Lee\n",
            "c    Park\n",
            "Name: name, dtype: object\n",
            "a     Kim\n",
            "b     Lee\n",
            "c    Park\n",
            "Name: name, dtype: object\n",
            "<class 'pandas.core.series.Series'>\n",
            "a     Kim\n",
            "b     Lee\n",
            "c    Park\n",
            "Name: name, dtype: object\n",
            "name\n"
          ]
        }
      ]
    },
    {
      "cell_type": "code",
      "source": [
        "# 2022. 09. 19(월)\n",
        "\n",
        "## df_temp = df2.iloc[1,0]\n",
        "## df_temp = df2.loc['b', 'name']\n",
        "## df_temp = df2.loc[df2.index[1], df2.columns[0]]\n",
        "\n",
        "# 데이터를 여러개 추출\n",
        "\n",
        "## df_temp = df2.loc[['a','b'], 'name']\n",
        "## df_temp = df2.iloc[[0:2,4],[0,2]] \n",
        "\n",
        "print(df_temp)"
      ],
      "metadata": {
        "id": "_rmBgVHR4T9s",
        "colab": {
          "base_uri": "https://localhost:8080/"
        },
        "outputId": "8623cbf8-8ecc-420b-df0e-5dac2a1b0f84"
      },
      "execution_count": 20,
      "outputs": [
        {
          "output_type": "stream",
          "name": "stdout",
          "text": [
            "Lee\n"
          ]
        }
      ]
    },
    {
      "cell_type": "code",
      "source": [
        "df2['score3'] = [20,30,50]\n",
        "\n",
        "print(df2)"
      ],
      "metadata": {
        "colab": {
          "base_uri": "https://localhost:8080/"
        },
        "id": "ADYY0FA_hvxD",
        "outputId": "765835a1-8f4d-4d03-b5e0-a9a67d461343"
      },
      "execution_count": 25,
      "outputs": [
        {
          "output_type": "stream",
          "name": "stdout",
          "text": [
            "   name  score1  score2  score3\n",
            "a   Kim     100      80      20\n",
            "b   Lee      90      70      30\n",
            "c  Park      70      90      50\n"
          ]
        }
      ]
    },
    {
      "cell_type": "code",
      "source": [
        "data = pd.Series([60,70],index=['b','c'])\n",
        "df2['score4'] = data\n",
        "\n",
        "print(df2) \n",
        "\n",
        "# missing data = NaN\n",
        "# NaN이 들어가는 data는 예외처리 필요"
      ],
      "metadata": {
        "colab": {
          "base_uri": "https://localhost:8080/"
        },
        "id": "UzER7zeljpvM",
        "outputId": "93f09b5e-814c-4ef9-b2d3-c34d07703a4e"
      },
      "execution_count": 28,
      "outputs": [
        {
          "output_type": "stream",
          "name": "stdout",
          "text": [
            "   name  score1  score2  score3  score4\n",
            "a   Kim     100      80      20     NaN\n",
            "b   Lee      90      70      30    60.0\n",
            "c  Park      70      90      50    70.0\n"
          ]
        }
      ]
    },
    {
      "cell_type": "code",
      "source": [
        "# data1 = ['one','two', 3]\n",
        "data1 = [1, 2, 3, 4, 5, 6]\n",
        "\n",
        "for i in data1:\n",
        "  print(i)"
      ],
      "metadata": {
        "colab": {
          "base_uri": "https://localhost:8080/"
        },
        "id": "FdNYQHppkBh8",
        "outputId": "d2d7280e-a217-4cd6-f824-7bcb524a9a47"
      },
      "execution_count": 32,
      "outputs": [
        {
          "output_type": "stream",
          "name": "stdout",
          "text": [
            "1\n",
            "2\n",
            "3\n",
            "4\n",
            "5\n",
            "6\n"
          ]
        }
      ]
    },
    {
      "cell_type": "code",
      "source": [
        "for i in range(3):\n",
        "  print(data1[i])"
      ],
      "metadata": {
        "colab": {
          "base_uri": "https://localhost:8080/"
        },
        "id": "wutdpXxXk0C2",
        "outputId": "eacd8c0f-d159-45f1-f63d-35c9a288c678"
      },
      "execution_count": 33,
      "outputs": [
        {
          "output_type": "stream",
          "name": "stdout",
          "text": [
            "1\n",
            "2\n",
            "3\n"
          ]
        }
      ]
    },
    {
      "cell_type": "code",
      "source": [
        "data1 = [[1,2],[3,4],[5,6]]\n",
        "\n",
        "for i in data1:\n",
        "  print('i :', i)\n",
        "  print(i[0])\n",
        "  print(i[1])"
      ],
      "metadata": {
        "colab": {
          "base_uri": "https://localhost:8080/"
        },
        "id": "EnQA7sWklpcG",
        "outputId": "4e16af6f-6d17-4a41-9880-21ef53a478ab"
      },
      "execution_count": 35,
      "outputs": [
        {
          "output_type": "stream",
          "name": "stdout",
          "text": [
            "i : [1, 2]\n",
            "1\n",
            "2\n",
            "i : [3, 4]\n",
            "3\n",
            "4\n",
            "i : [5, 6]\n",
            "5\n",
            "6\n"
          ]
        }
      ]
    },
    {
      "cell_type": "code",
      "source": [
        "data1 = [[1,2,3],[3,4,5],[5,6,7]]\n",
        "\n",
        "for i,j,k in data1:\n",
        "  print(i)\n",
        "  print(j)\n",
        "  print(k)"
      ],
      "metadata": {
        "colab": {
          "base_uri": "https://localhost:8080/"
        },
        "id": "xGhO-9EpmSP5",
        "outputId": "26a70040-eb2f-4b66-8c99-69c7b55def8c"
      },
      "execution_count": 45,
      "outputs": [
        {
          "output_type": "stream",
          "name": "stdout",
          "text": [
            "1\n",
            "2\n",
            "3\n",
            "3\n",
            "4\n",
            "5\n",
            "5\n",
            "6\n",
            "7\n"
          ]
        }
      ]
    },
    {
      "cell_type": "code",
      "source": [
        "for i in range(1,11):\n",
        "  if (i%2 == 0):\n",
        "    print(i, \"= 짝수\")\n",
        "  elif(i%3 == 0):\n",
        "    print(i, \"= 3의 배수\")\n",
        "  else:\n",
        "    print(i, \"= 짝수도 3의 배수도 아님\")"
      ],
      "metadata": {
        "colab": {
          "base_uri": "https://localhost:8080/"
        },
        "id": "2SfSAKV4miMF",
        "outputId": "f6c932fa-7aa7-4ddb-e42e-52f0c0a4b9f3"
      },
      "execution_count": 44,
      "outputs": [
        {
          "output_type": "stream",
          "name": "stdout",
          "text": [
            "1 = 짝수도 3의 배수도 아님\n",
            "2 = 짝수\n",
            "3 = 3의 배수\n",
            "4 = 짝수\n",
            "5 = 짝수도 3의 배수도 아님\n",
            "6 = 짝수\n",
            "7 = 짝수도 3의 배수도 아님\n",
            "8 = 짝수\n",
            "9 = 3의 배수\n",
            "10 = 짝수\n"
          ]
        }
      ]
    },
    {
      "cell_type": "code",
      "source": [
        "i = 1\n",
        "\n",
        "while i <= 11 : \n",
        "  if (i%2 == 0):\n",
        "    print(i, \"= 짝수\")\n",
        "  elif(i%3 == 0):\n",
        "    print(i, \"= 3의 배수\")\n",
        "  else:\n",
        "    print(i, \"= 짝수도 3의 배수도 아님\")\n",
        "  i=i+1\n"
      ],
      "metadata": {
        "colab": {
          "base_uri": "https://localhost:8080/"
        },
        "id": "tKV3mW7Cmv6j",
        "outputId": "e53e31c8-6f3a-4f37-9ad0-af2c9046c4f3"
      },
      "execution_count": 48,
      "outputs": [
        {
          "output_type": "stream",
          "name": "stdout",
          "text": [
            "1 = 짝수도 3의 배수도 아님\n",
            "2 = 짝수\n",
            "3 = 3의 배수\n",
            "4 = 짝수\n",
            "5 = 짝수도 3의 배수도 아님\n",
            "6 = 짝수\n",
            "7 = 짝수도 3의 배수도 아님\n",
            "8 = 짝수\n",
            "9 = 3의 배수\n",
            "10 = 짝수\n",
            "11 = 짝수도 3의 배수도 아님\n"
          ]
        }
      ]
    },
    {
      "cell_type": "code",
      "source": [
        "def add_sub(a,b):\n",
        "  return a+b, a-b\n",
        "\n",
        "a=4\n",
        "b=2\n",
        "\n",
        "# c,d = add_sub(a,b)\n",
        "_,d = add_sub(a,b)\n",
        "c,_ = add_sub(a,b)\n",
        "# print(d)\n",
        "print(c)"
      ],
      "metadata": {
        "colab": {
          "base_uri": "https://localhost:8080/"
        },
        "id": "wGt6oewRpAGo",
        "outputId": "ec65c6d9-4b20-4b34-d219-c8e3993777ed"
      },
      "execution_count": 54,
      "outputs": [
        {
          "output_type": "stream",
          "name": "stdout",
          "text": [
            "6\n"
          ]
        }
      ]
    },
    {
      "cell_type": "code",
      "source": [],
      "metadata": {
        "id": "wUs1S8_LqELY"
      },
      "execution_count": null,
      "outputs": []
    }
  ]
}