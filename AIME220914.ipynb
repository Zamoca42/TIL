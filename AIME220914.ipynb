{
  "nbformat": 4,
  "nbformat_minor": 0,
  "metadata": {
    "colab": {
      "provenance": [],
      "collapsed_sections": [],
      "mount_file_id": "13FZNx-JZzvdbVJ5-hjckARJb0nZGZQHH",
      "authorship_tag": "ABX9TyPRFHcU9Z2Hb0ATX2l9WVu+",
      "include_colab_link": true
    },
    "kernelspec": {
      "name": "python3",
      "display_name": "Python 3"
    },
    "language_info": {
      "name": "python"
    }
  },
  "cells": [
    {
      "cell_type": "markdown",
      "metadata": {
        "id": "view-in-github",
        "colab_type": "text"
      },
      "source": [
        "<a href=\"https://colab.research.google.com/github/Zamoca42/TIL/blob/main/AIME220914.ipynb\" target=\"_parent\"><img src=\"https://colab.research.google.com/assets/colab-badge.svg\" alt=\"Open In Colab\"/></a>"
      ]
    },
    {
      "cell_type": "code",
      "execution_count": 6,
      "metadata": {
        "id": "bNjNG7yWfod6",
        "colab": {
          "base_uri": "https://localhost:8080/"
        },
        "outputId": "7214953e-e46a-4e27-d719-4d3f58428384"
      },
      "outputs": [
        {
          "output_type": "stream",
          "name": "stdout",
          "text": [
            "<class 'list'>\n",
            "[1, 2, 3, 4]\n",
            "[1 2 3 4]\n"
          ]
        }
      ],
      "source": [
        "import numpy as np\n",
        "\n",
        "list_num = [1,2,3,4]\n",
        "\n",
        "nparr = np.array(list_num)\n",
        "\n",
        "print(list_num)\n",
        "print(nparr)"
      ]
    },
    {
      "cell_type": "code",
      "source": [
        "print(\"np.zeros(5) ₩n\", np.zeros(5))\n",
        "print(\"np.zeros((2,3)) ₩n\", np.zeros((2,3)))"
      ],
      "metadata": {
        "colab": {
          "base_uri": "https://localhost:8080/"
        },
        "id": "-YDoPe7RjZjd",
        "outputId": "28e3d1e4-bb24-4b1e-a290-c6f0c45a978f"
      },
      "execution_count": 8,
      "outputs": [
        {
          "output_type": "stream",
          "name": "stdout",
          "text": [
            "np.zeros(5) ₩n [0. 0. 0. 0. 0.]\n",
            "np.zeros((2,3)) ₩n [[0. 0. 0.]\n",
            " [0. 0. 0.]]\n"
          ]
        }
      ]
    },
    {
      "cell_type": "code",
      "source": [
        "print(\"np.ones(5) ₩n\", np.ones(5))\n",
        "print(\"np.ones((2,3)) ₩n\", np.ones((2,3)))"
      ],
      "metadata": {
        "colab": {
          "base_uri": "https://localhost:8080/"
        },
        "id": "ZF5R8w0SlXOr",
        "outputId": "f307c823-0cb8-44e3-fad9-baa832f2b88b"
      },
      "execution_count": 9,
      "outputs": [
        {
          "output_type": "stream",
          "name": "stdout",
          "text": [
            "np.ones(5) ₩n [1. 1. 1. 1. 1.]\n",
            "np.ones((2,3)) ₩n [[1. 1. 1.]\n",
            " [1. 1. 1.]]\n"
          ]
        }
      ]
    },
    {
      "cell_type": "code",
      "source": [
        "print(\"np.arange(10) ₩n\", np.arange(10))\n",
        "print(\"np.arange(2,5) ₩n\", np.arange(2,5))"
      ],
      "metadata": {
        "colab": {
          "base_uri": "https://localhost:8080/"
        },
        "id": "WQLaMl28ljAR",
        "outputId": "7cc338eb-aa43-4d88-82b8-f41e2c2b0b6c"
      },
      "execution_count": 11,
      "outputs": [
        {
          "output_type": "stream",
          "name": "stdout",
          "text": [
            "np.arange(10) ₩n [0 1 2 3 4 5 6 7 8 9]\n",
            "np.arange(2,5) ₩n [2 3 4]\n"
          ]
        }
      ]
    },
    {
      "cell_type": "code",
      "source": [
        "print(nparr[1])\n",
        "print(nparr[1:2])"
      ],
      "metadata": {
        "colab": {
          "base_uri": "https://localhost:8080/"
        },
        "id": "_1gxn7xtltuO",
        "outputId": "db3801ac-aad2-4ff0-8fa9-6e157bcf2d65"
      },
      "execution_count": 16,
      "outputs": [
        {
          "output_type": "stream",
          "name": "stdout",
          "text": [
            "2\n",
            "[2]\n"
          ]
        }
      ]
    },
    {
      "cell_type": "code",
      "source": [
        "arr1 = np.arange(5)\n",
        "print(\"arr1 : \", arr1)\n",
        "print(\"arr1[0] : \", arr1[0])\n",
        "print(\"arr1[3] : \", arr1[3])\n",
        "print(\"arr1[2:4] : \", arr1[2:4])\n",
        "print(\"arr1[:] : \", arr1[:])"
      ],
      "metadata": {
        "colab": {
          "base_uri": "https://localhost:8080/"
        },
        "id": "poPU_z4VmkSE",
        "outputId": "9b1d8045-ce41-47e5-d2c1-5b9e0bfc96ea"
      },
      "execution_count": 17,
      "outputs": [
        {
          "output_type": "stream",
          "name": "stdout",
          "text": [
            "arr1 :  [0 1 2 3 4]\n",
            "arr1[0] :  0\n",
            "arr1[3] :  3\n",
            "arr1[2:4] :  [2 3]\n",
            "arr1[:] :  [0 1 2 3 4]\n"
          ]
        }
      ]
    },
    {
      "cell_type": "code",
      "source": [
        "print(nparr[1])\n",
        "print(nparr[1:2])\n",
        "# 독립적이지만 다음에 실행하는 결과에 영향을 미친다"
      ],
      "metadata": {
        "colab": {
          "base_uri": "https://localhost:8080/"
        },
        "id": "_AY1icGloTvV",
        "outputId": "f81553cf-24ec-4372-d535-c7d82462b27a"
      },
      "execution_count": 20,
      "outputs": [
        {
          "output_type": "stream",
          "name": "stdout",
          "text": [
            "['10' '11' '12' '13']\n",
            "[['10' '11' '12' '13']]\n"
          ]
        }
      ]
    },
    {
      "cell_type": "code",
      "source": [
        "nparr = np.array([['00','01','02','03'],['10','11','12','13'],['20','21','22','23']])\n",
        "\n",
        "print(nparr)\n",
        "print(nparr[1,2])\n",
        "print(nparr[1,:])\n",
        "print(nparr[0:2,1])\n",
        "print(nparr[0+2,1])\n",
        "print(nparr[[0,2],1]) # 특정 값 뽑아내기\n",
        "print(nparr[[0,2],:])"
      ],
      "metadata": {
        "colab": {
          "base_uri": "https://localhost:8080/"
        },
        "id": "gUYXB8vAnV8B",
        "outputId": "507667b3-c296-4ffd-cf1b-ced2cf77ac68"
      },
      "execution_count": 24,
      "outputs": [
        {
          "output_type": "stream",
          "name": "stdout",
          "text": [
            "[['00' '01' '02' '03']\n",
            " ['10' '11' '12' '13']\n",
            " ['20' '21' '22' '23']]\n",
            "12\n",
            "['10' '11' '12' '13']\n",
            "['01' '11']\n",
            "21\n",
            "['01' '21']\n",
            "[['00' '01' '02' '03']\n",
            " ['20' '21' '22' '23']]\n"
          ]
        }
      ]
    },
    {
      "cell_type": "code",
      "source": [
        "print(\"0~1 사이 랜덤 값 \\n\", np.random.rand(2,4))\n",
        "print(\"정규분포 랜덤 값 (기대값 0, 표준편차 1) \\n\", np.random.randn(2,4))\n",
        "print(\"절대값 \\n\", np.abs([1, -2, -3, 2]))\n",
        "print(\"제곱근 \\n\", np.sqrt([1, 2, 3, 4]))\n",
        "print(\"제곱 \\n\", np.square([1, 2, 3, 4]))"
      ],
      "metadata": {
        "colab": {
          "base_uri": "https://localhost:8080/"
        },
        "id": "jPezEY_DpB4I",
        "outputId": "8a046b9a-8525-406c-bfc6-30450308a3d6"
      },
      "execution_count": 25,
      "outputs": [
        {
          "output_type": "stream",
          "name": "stdout",
          "text": [
            "0~1 사이 랜덤 값 \n",
            " [[0.75084451 0.64242931 0.54725321 0.27734823]\n",
            " [0.95431552 0.56212039 0.629066   0.68656139]]\n",
            "정규분포 랜덤 값 (기대값 0, 표준편차 1) \n",
            " [[-2.17208499 -1.39549147 -1.02592132  1.5711715 ]\n",
            " [ 0.20595471 -0.32782496 -2.04914199  0.5301672 ]]\n",
            "절대값 \n",
            " [1 2 3 2]\n",
            "제곱근 \n",
            " [1.         1.41421356 1.73205081 2.        ]\n",
            "제곱 \n",
            " [ 1  4  9 16]\n"
          ]
        }
      ]
    },
    {
      "cell_type": "code",
      "source": [
        "arr1 = np.array([[1,2,3,4],[8,8,6,5]])\n",
        "print(arr1)\n",
        "print(np.sum(arr1, axis=1))\n",
        "print(arr1.sum(axis=1))\n",
        "print(np.sum(arr1, axis=0))\n",
        "print(arr1.sum(axis=0))\n",
        "# average\n",
        "print(arr1.mean(axis=0)) \n",
        "print(arr1.mean(axis=1)) # axis = 차원\n",
        "# std = 표준편차\n",
        "print(arr1.std(axis=0)) \n",
        "print(arr1.std(axis=1))\n",
        "# 최솟값\n",
        "print(arr1.min(axis=0))\n",
        "print(arr1.min(axis=1))\n",
        "# 최소값의 좌표\n",
        "print(arr1.argmin(axis=0))\n",
        "print(arr1.argmin(axis=1))"
      ],
      "metadata": {
        "colab": {
          "base_uri": "https://localhost:8080/"
        },
        "id": "HUwaLTIBr9zQ",
        "outputId": "78f93bd6-97d6-4b38-fe42-71849e9483b6"
      },
      "execution_count": 28,
      "outputs": [
        {
          "output_type": "stream",
          "name": "stdout",
          "text": [
            "[[1 2 3 4]\n",
            " [8 8 6 5]]\n",
            "[10 27]\n",
            "[10 27]\n",
            "[ 9 10  9  9]\n",
            "[ 9 10  9  9]\n",
            "[4.5 5.  4.5 4.5]\n",
            "[2.5  6.75]\n",
            "[3.5 3.  1.5 0.5]\n",
            "[1.11803399 1.29903811]\n",
            "[1 2 3 4]\n",
            "[1 5]\n",
            "[0 0 0 0]\n",
            "[0 3]\n"
          ]
        }
      ]
    },
    {
      "cell_type": "code",
      "source": [
        "arr1 = np.array([[1,2,3],[4,5,6]])\n",
        "print(arr1)\n",
        "print(arr1.shape)\n",
        "arr2 = arr1.reshape(3,2)\n",
        "print(arr2)\n",
        "arr3 = arr1.reshape(-1,2,3) # -1 은 '알아서 계산하라'는 뜻\n",
        "print(arr3)\n",
        "arr4 = arr1.reshape(6,1)\n",
        "print(arr4)\n",
        "arr5 = arr4.squeeze() # shape에서 1인 파트를 제거\n",
        "arr2 = arr2.squeeze()\n",
        "print(arr5)\n",
        "print(arr2)"
      ],
      "metadata": {
        "colab": {
          "base_uri": "https://localhost:8080/"
        },
        "id": "E-xp-3vQvdU-",
        "outputId": "c2c2956d-29f7-4e7b-9d93-d62eb4e80380"
      },
      "execution_count": 38,
      "outputs": [
        {
          "output_type": "stream",
          "name": "stdout",
          "text": [
            "[[1 2 3]\n",
            " [4 5 6]]\n",
            "(2, 3)\n",
            "[[1 2]\n",
            " [3 4]\n",
            " [5 6]]\n",
            "[[[1 2 3]\n",
            "  [4 5 6]]]\n",
            "[[1]\n",
            " [2]\n",
            " [3]\n",
            " [4]\n",
            " [5]\n",
            " [6]]\n",
            "[1 2 3 4 5 6]\n",
            "[[1 2]\n",
            " [3 4]\n",
            " [5 6]]\n"
          ]
        }
      ]
    },
    {
      "cell_type": "code",
      "source": [
        "import pandas as pd\n",
        "\n",
        "data = {'name' : ['Kim', 'Lee', 'Park'],\n",
        "        'score1' : [100,90,70],\n",
        "        'score2' : [80,70,90], \n",
        "        }\n",
        "df = pd.DataFrame(data)\n",
        "print(df)\n",
        "print(type(df))"
      ],
      "metadata": {
        "colab": {
          "base_uri": "https://localhost:8080/"
        },
        "id": "r0Kldd9VyExK",
        "outputId": "fcdbb203-ca81-4180-b5fd-5fabb62204d1"
      },
      "execution_count": 40,
      "outputs": [
        {
          "output_type": "stream",
          "name": "stdout",
          "text": [
            "   name  score1  score2\n",
            "0   Kim     100      80\n",
            "1   Lee      90      70\n",
            "2  Park      70      90\n",
            "<class 'pandas.core.frame.DataFrame'>\n"
          ]
        }
      ]
    },
    {
      "cell_type": "code",
      "source": [
        "df1 = pd.DataFrame(df,columns = ['score1','name','score2'])\n",
        "print(df1)"
      ],
      "metadata": {
        "colab": {
          "base_uri": "https://localhost:8080/"
        },
        "id": "H1e5_V9s2fm6",
        "outputId": "20d3e867-ff99-42bf-f374-9c4239ff03f7"
      },
      "execution_count": 44,
      "outputs": [
        {
          "output_type": "stream",
          "name": "stdout",
          "text": [
            "   score1  name  score2\n",
            "0     100   Kim      80\n",
            "1      90   Lee      70\n",
            "2      70  Park      90\n"
          ]
        }
      ]
    },
    {
      "cell_type": "code",
      "source": [
        "df2 = pd.DataFrame(data,columns = ['name','score1','score2'], index=['a','b','c'])\n",
        "print(df2)"
      ],
      "metadata": {
        "colab": {
          "base_uri": "https://localhost:8080/"
        },
        "id": "Zo6ZWcoR3lAa",
        "outputId": "ea09aa68-1e2f-4c6c-9f92-6dadca16a371"
      },
      "execution_count": 47,
      "outputs": [
        {
          "output_type": "stream",
          "name": "stdout",
          "text": [
            "   name  score1  score2\n",
            "a   Kim     100      80\n",
            "b   Lee      90      70\n",
            "c  Park      70      90\n"
          ]
        }
      ]
    },
    {
      "cell_type": "code",
      "source": [
        "print(df2.name)\n",
        "dfname=df2.name\n",
        "print(dfname)\n",
        "print(type(dfname))\n",
        "dfname = df2['name']\n",
        "dfname=df2[df2.columns[0]]\n",
        "dfname=df2.iloc[:,0] # index로 읽는 로케이션\n",
        "dfname=df2.loc[:,'name'] # key로 읽는 로케이션\n",
        "dfname=df2.loc[:,df2.columns[0]]\n",
        "print(dfname)\n",
        "print(df2.columns[0])"
      ],
      "metadata": {
        "colab": {
          "base_uri": "https://localhost:8080/"
        },
        "id": "BlelNLhq38_P",
        "outputId": "e851e5aa-02cc-4f09-d5cf-bc00a5def9c2"
      },
      "execution_count": 51,
      "outputs": [
        {
          "output_type": "stream",
          "name": "stdout",
          "text": [
            "a     Kim\n",
            "b     Lee\n",
            "c    Park\n",
            "Name: name, dtype: object\n",
            "a     Kim\n",
            "b     Lee\n",
            "c    Park\n",
            "Name: name, dtype: object\n",
            "<class 'pandas.core.series.Series'>\n",
            "a     Kim\n",
            "b     Lee\n",
            "c    Park\n",
            "Name: name, dtype: object\n",
            "name\n"
          ]
        }
      ]
    },
    {
      "cell_type": "code",
      "source": [],
      "metadata": {
        "id": "_rmBgVHR4T9s"
      },
      "execution_count": null,
      "outputs": []
    }
  ]
}