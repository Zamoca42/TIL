{
  "nbformat": 4,
  "nbformat_minor": 0,
  "metadata": {
    "colab": {
      "provenance": [],
      "collapsed_sections": [],
      "authorship_tag": "ABX9TyPWMCvcUjN/fqycDVy9js4M",
      "include_colab_link": true
    },
    "kernelspec": {
      "name": "python3",
      "display_name": "Python 3"
    },
    "language_info": {
      "name": "python"
    }
  },
  "cells": [
    {
      "cell_type": "markdown",
      "metadata": {
        "id": "view-in-github",
        "colab_type": "text"
      },
      "source": [
        "<a href=\"https://colab.research.google.com/github/Zamoca42/TIL/blob/main/DS/Array_Linked_List.ipynb\" target=\"_parent\"><img src=\"https://colab.research.google.com/assets/colab-badge.svg\" alt=\"Open In Colab\"/></a>"
      ]
    },
    {
      "cell_type": "markdown",
      "source": [
        "# 자료구조\n",
        "\n",
        "![datastructure](https://user-images.githubusercontent.com/96982072/199156948-1980407b-c944-4266-bca2-c04f18e9dcbf.png)\n",
        "\n",
        "대표적인 자료구조로는 배열(Array), 스택(Stack), 큐(Queue), 링크드 리스트(Linked List), 해쉬 테이블(Hash Table), 힙(Heap) 등이 존재합니다.  \n",
        "\n",
        "Python에서는 대표적으로 List, tuple, set, dictionary가 존재하며, 위의 자료구조 대부분을 모두 구현이 가능합니다."
      ],
      "metadata": {
        "id": "M3ayIy_aYmsz"
      }
    },
    {
      "cell_type": "markdown",
      "source": [
        "![Array](https://user-images.githubusercontent.com/96982072/199157420-5d220e1d-015e-4ada-a1ad-c94e4c15656b.png)"
      ],
      "metadata": {
        "id": "7oHnYyXhZwg7"
      }
    },
    {
      "cell_type": "markdown",
      "source": [
        "# Array (배열)\n",
        "\n",
        "- 메모리 공간을 연속적으로 사용\n",
        "- 내부적으로 데이터를 저장 하므로 배열의 특성상 데이터를 리스트의 처음이나 중간에 저장하면 이후의 데이터들이 한칸씩 뒤로 물러나야 함 \n",
        "- 장점\n",
        "  - 내부적으로 배열을 이용하기 때문에 인덱스를 이용하여 접근하는 것이 빠름 \n",
        "- 단점\n",
        " - 데이터 추가와 삭제에 비용이 많이 사용. \n",
        " - 데이터 추가시, 공간이 많이 필요\n",
        " - 삭제 시 빈 공간이 생겨 이를 관리\n",
        " - 길이 조절이 어려움\n"
      ],
      "metadata": {
        "id": "Llz6QPdgIHAQ"
      }
    },
    {
      "cell_type": "code",
      "execution_count": 4,
      "metadata": {
        "id": "flu6hcqm1qtb",
        "colab": {
          "base_uri": "https://localhost:8080/"
        },
        "outputId": "3563705e-1294-40d8-ffcf-f98120ea9f51"
      },
      "outputs": [
        {
          "output_type": "stream",
          "name": "stdout",
          "text": [
            "append: [1, 2, 3, 4, 5]\n",
            "insert: [1, 2, 2, 3, 4, 5]\n"
          ]
        }
      ],
      "source": [
        "# 배열 초기화\n",
        "a = []\n",
        "b = [1, 2, 3]\n",
        "c = list()\n",
        "\n",
        "a = [1, 2, 3, 4]\n",
        "# append\n",
        "# 맨 끝에 삽입\n",
        "a.append(5)\n",
        "print(f'append: {a}')\n",
        "\n",
        "# insert\n",
        "# 특정 위치에 삽입\n",
        "a.insert(1, 2) # 1번 위치에 2 추가\n",
        "print(f'insert: {a}')\n",
        "# 한 칸씩 밀리게됨"
      ]
    },
    {
      "cell_type": "code",
      "source": [
        "a = [0, 1, 2, 3, 4, 5]\n",
        "# remove\n",
        "a.remove(5)\n",
        "print(f'remove: {a}')\n",
        "\n",
        "# remove exception\n",
        "try:\n",
        "    a.remove(5)\n",
        "except ValueError:\n",
        "    print('5 is not found.')\n",
        "\n",
        "# del\n",
        "del (a[3:5])\n",
        "print(f'del: {a}')\n",
        "\n",
        "# pop\n",
        "pop = a.pop()\n",
        "print(f'pop: {a}')"
      ],
      "metadata": {
        "colab": {
          "base_uri": "https://localhost:8080/"
        },
        "id": "QNqxfbTuJ9bL",
        "outputId": "fe59d87e-007f-4854-f3c7-097324b9b0c4"
      },
      "execution_count": 5,
      "outputs": [
        {
          "output_type": "stream",
          "name": "stdout",
          "text": [
            "remove: [0, 1, 2, 3, 4]\n",
            "5 is not found.\n",
            "del: [0, 1, 2]\n",
            "pop: [0, 1]\n"
          ]
        }
      ]
    },
    {
      "cell_type": "markdown",
      "source": [
        "- remove()를 호출할 때는 삭제를 원하는 값을 입력\n",
        "\n",
        "- 여러 동일한 값이 있어도 remove()는 가장 처음에 나오는 1개의 값만 삭제\n",
        "\n",
        "- remove()는 값이 없는 경우 ValueError 예외를 발생\n",
        "\n",
        "- 슬라이싱이나 인덱싱을 활용해서 del()로 삭제하는 것도 가능\n",
        "\n",
        "- pop() 역시 값을 제거하는 데 사용, 인덱스를 입력하면 해당 위치의 값을 삭제하고 리턴\n",
        "\n",
        "- pop()을 호출할 때 위와 같이 인덱스를 입력하지 않으면 가장 마지막의 값을 삭제하고 리턴\n",
        "\n",
        "- 리스트에서 값을 하나씩 삭제하고 동시에 처리해야 하는 경우 pop()을 사용\n",
        "\n"
      ],
      "metadata": {
        "id": "a5dFubBJLrjG"
      }
    },
    {
      "cell_type": "markdown",
      "source": [
        "![LinkedList](https://user-images.githubusercontent.com/96982072/199155589-cf280dee-da2a-46ad-aa75-a57fc0e1d7a2.png)\n"
      ],
      "metadata": {
        "id": "SmmXvfaHVI0L"
      }
    },
    {
      "cell_type": "markdown",
      "source": [
        "# LinkedList (연결 리스트)\n",
        "\n",
        "- element간 연결(link)을 통해서 리스트를 구현한 것\n",
        "- 노드(node or vertex)가 사용됨\n",
        "- head(첫번째 node)와 tail(마지막 node)\n",
        "- 메모리 제한이 없다\n",
        "- 자료의 순서를 유지한 채 삽입과 제거가 쉽다\n",
        "\n",
        "- 장점\n",
        "  - 배열의 복사나 재할당없이 데이터 추가 가능\n",
        "  - 유연한 공간\n",
        "\n",
        "- 단점\n",
        "  - 데이터 접근에 대한 시간이 늘어남\n",
        "  - 연결을 위한 별도 데이터 공간이 필요하므로 효율이 낮음\n",
        "  - 중간 데이터 삭제시, 앞 뒤를 모두 고려하여 재구성하는 코드를 작성\n",
        "\n",
        "\n",
        "### 노드(Node)\n",
        "\n",
        "- 노드는 두가지 정보를 가진다\n",
        "  - 노드의 값 (data)\n",
        "  - 다음 노드를 가르키는 참조 값 (next)\n",
        "\n",
        "### 포인터(Pointer)\n",
        "\n",
        "- 각 노드 안에서, 다음이나 이전의 노드의 주소를 가지는 값을 의미\n",
        "\n",
        "\n"
      ],
      "metadata": {
        "id": "yZo1qGQHSeGV"
      }
    },
    {
      "cell_type": "code",
      "source": [
        "# 파이썬으로 노드 구현\n",
        "\n",
        "class Node:\n",
        "    def __init__(self, data):\n",
        "        self.data = data\n",
        "        self.next = None\n",
        "    # 포인터는 next\n",
        "\n",
        "class LinkedList: \n",
        "    def __init__(self):\n",
        "        self.head = None\n",
        "\n",
        "    def add(self, data):\n",
        "      new_node = Node(data)\n",
        "      if not self.head:\n",
        "        self.head = new_node\n",
        "      else:\n",
        "        node = self.head\n",
        "        while node.next:\n",
        "          node = node.next\n",
        "        node.next = new_node\n",
        "\n",
        "    def delete(self, data):\n",
        "        node = self.head\n",
        "        if node.data == data:\n",
        "            self.head = node.next\n",
        "            del node\n",
        "        else:\n",
        "            while node.next:\n",
        "                next_node = node.next\n",
        "                if next_node.data == data:\n",
        "                    node.next = next_node.next\n",
        "                    del next_node\n",
        "                else:\n",
        "                    node = node.next\n",
        "\n",
        "    def find(self, data):\n",
        "        node = self.head\n",
        "        while node:\n",
        "            if node.data == data:\n",
        "                return print(node)\n",
        "            else:\n",
        "                node = node.next\n",
        "\n",
        "    def print(self):\n",
        "        node = self.head\n",
        "        while node:\n",
        "            print(node.data)\n",
        "            node = node.next"
      ],
      "metadata": {
        "id": "4luTLwcXUCwh"
      },
      "execution_count": 16,
      "outputs": []
    },
    {
      "cell_type": "code",
      "source": [
        "ll = LinkedList() # 링크드 리스트 ll선언\n",
        "ll.add(1) # 노드 1 리스트에 추가\n",
        "ll.add(2) # 노드 2 리스트에 추가\n",
        "ll.add(3) # 노드 3 리스트에 추가\n",
        "ll.print() # 1 2 3 출력\n",
        "\n",
        "ll.find(2)\n",
        "\n",
        "ll.delete(2) # 노드 2 삭제\n",
        "ll.print() # 1 3 출력\n",
        "\n",
        "ll.delete(1) # 노드 1 삭제\n",
        "ll.print() # 3 출력\n",
        "ll.delete(3) # 노드 3 삭제\n",
        "print(ll.head) # None 출력"
      ],
      "metadata": {
        "colab": {
          "base_uri": "https://localhost:8080/"
        },
        "id": "fOW5kAPbW1KW",
        "outputId": "0c7f10d8-0dbc-4ee2-9ec1-0fba7f0c2559"
      },
      "execution_count": 15,
      "outputs": [
        {
          "output_type": "stream",
          "name": "stdout",
          "text": [
            "1\n",
            "2\n",
            "3\n",
            "<__main__.Node object at 0x7f5dfbdff090>\n",
            "1\n",
            "3\n",
            "3\n",
            "None\n"
          ]
        }
      ]
    },
    {
      "cell_type": "markdown",
      "source": [
        "# LinkedList vs Array\n",
        "\n",
        "||LinkedList|Array|\n",
        "|:---:|:---:|:---:|\n",
        "|추가|O(N)|O(1),O(N)|\n",
        "|삽입|O(N)|O(N)|\n",
        "|삭제|O(1)|O(N)|\n",
        "|검색|O(N)|O(1)|"
      ],
      "metadata": {
        "id": "hMvXNrx-Z8xe"
      }
    },
    {
      "cell_type": "markdown",
      "source": [
        "![Double](https://user-images.githubusercontent.com/96982072/199159241-bdbd8405-f483-427a-8587-5cc4a30f5906.png)\n"
      ],
      "metadata": {
        "id": "w49eDLyNdX_e"
      }
    },
    {
      "cell_type": "markdown",
      "source": [
        "# Double Linked List (이중 연결 리스트)\n",
        "\n",
        "- 노드와 노드가 서로 연결\n",
        "- 연결 리스트(linked list)와는 다르게 노드가 이전 노드(previous)와 다음 노드(next)로 구성\n",
        "- 장점\n",
        "  - 특정 인덱스 위치의 엘리먼트를 가져올 때 탐색해야하는 엘리먼트가 반으로 줄어듬 \n",
        "    - 탐색 시간은 N/2지만 빅-오 표기법으로 O(N)\n",
        "  -  상황에 따라 탐색의 방향이 바뀌어야 하는 경우라면 앞뒤로 탐색이 가능\n",
        "\n",
        "- 단점\n",
        "  - 이전 노드를 지정하기 위한 변수를 하나 더 사용\n",
        "    - 메모리를 더 많이 사용한다는 의미\n",
        "  - 노드를 추가, 제거할 때 앞뒤 연결을 고려\n",
        "\n"
      ],
      "metadata": {
        "id": "qZzwS2t1YKQb"
      }
    },
    {
      "cell_type": "code",
      "source": [
        "# 이중 연결 리스트\n",
        "\n",
        "class Node:\n",
        "    def __init__(self, data):\n",
        "        self.data = data\n",
        "        self.next = None\n",
        "        self.prev = None\n",
        "\n",
        "class DoublyLinkedList:\n",
        "    def __init__(self):\n",
        "        self.head = None\n",
        "        self.tail = self.head\n",
        "\n",
        "    def add(self, data):\n",
        "        new_node = Node(data)\n",
        "        if not self.head:\n",
        "            self.head = new_node\n",
        "            self.tail = self.head\n",
        "        else:\n",
        "            node = self.head\n",
        "            while node.next:\n",
        "                node = node.next\n",
        "            new_node.prev = node\n",
        "            node.next = new_node\n",
        "            self.tail = new_node"
      ],
      "metadata": {
        "id": "Tv0mcguvdMOT"
      },
      "execution_count": null,
      "outputs": []
    },
    {
      "cell_type": "markdown",
      "source": [
        "## 탐색\n",
        "\n",
        "![search](https://user-images.githubusercontent.com/96982072/199160089-7ca47294-5647-4c21-bb51-856bf471b289.png)\n",
        "![search2](https://user-images.githubusercontent.com/96982072/199160092-16ba6e45-9fb2-4f47-af5f-3f340dc7dca2.png)\n",
        "\n",
        "## 삭제\n",
        "\n",
        "![delete](https://user-images.githubusercontent.com/96982072/199159812-219c8fa7-7fbf-4637-a181-181d80755688.png)"
      ],
      "metadata": {
        "id": "PCPfjssYepQ-"
      }
    },
    {
      "cell_type": "markdown",
      "source": [
        "- 출처 \n",
        "  - [파이썬으로 구현하는 자료구조 요약 정리](https://davinci-ai.tistory.com/16)\n",
        "  - [[Python] 파이썬 리스트(list) 사용 방법](https://psychoria.tistory.com/776)\n",
        "  - [[자료구조] 리스트(List/ ArrayList / LinkedList)](https://power-overwhelming.tistory.com/23)\n",
        "  - [[python] Linked List, 링크드 리스트](https://blog.naver.com/unhiistu/222884199929)\n",
        "  - [생활코딩-Doubly linked list (이중 연결 리스트)](https://opentutorials.org/module/1335/8940)"
      ],
      "metadata": {
        "id": "Y2sq0FmQMUV0"
      }
    }
  ]
}