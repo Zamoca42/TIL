{
  "nbformat": 4,
  "nbformat_minor": 0,
  "metadata": {
    "colab": {
      "provenance": [],
      "authorship_tag": "ABX9TyPtN0xQXgliPBMFWgGw0Ah3",
      "include_colab_link": true
    },
    "kernelspec": {
      "name": "python3",
      "display_name": "Python 3"
    },
    "language_info": {
      "name": "python"
    }
  },
  "cells": [
    {
      "cell_type": "markdown",
      "metadata": {
        "id": "view-in-github",
        "colab_type": "text"
      },
      "source": [
        "<a href=\"https://colab.research.google.com/github/Zamoca42/TIL/blob/main/DS/Hash.ipynb\" target=\"_parent\"><img src=\"https://colab.research.google.com/assets/colab-badge.svg\" alt=\"Open In Colab\"/></a>"
      ]
    },
    {
      "cell_type": "markdown",
      "source": [
        "![hash](https://user-images.githubusercontent.com/96982072/200609832-ab4c2755-4b0d-489b-8f6c-f1c8d799e91a.png)\n",
        "\n",
        "\n",
        "# 해싱 Hashing\n",
        "\n",
        "- 키(Key)와 값(Value)쌍으로 이루어진 데이터 구조를 의미\n",
        "\n",
        "- 데이터를 빠르게 저장하고 가져오는 기법 중 하나\n",
        "  - 공간은 많이 사용하지만, 시간은 빠르다는 장점\n",
        "\n",
        "- 키에 특정 연산을 적용하여 테이블의 주소를 계산\n",
        "\n",
        "- 시간 복잡도\n",
        "  - 일반적인 경우 (충돌이 없는 경우): O(1)\n",
        "  - 최악의 경우 (모든 경우에 충돌이 발생하는 경우): O(n)\n",
        "\n",
        "# 해시 테이블\n",
        "\n",
        "- 파이썬에서는 딕셔너리(Dictionary) 타입\n",
        "\n",
        "- (Key, Value) 쌍을 저장\n",
        "\n",
        "- 순서 X\n",
        "\n",
        "# 해싱 - Key\n",
        "\n",
        "- 키를 기준으로 값을 매핑\n",
        "\n",
        "- 고유한 값\n",
        "  - 중복 X\n",
        "\n",
        "# 해싱 - Hash Function\n",
        "\n",
        "- 임의의 데이터(키)를 특정 값(해시값)으로 매핑시키는 함수\n",
        "\n",
        "- 좋은 해시 함수\n",
        "  - 키 값을 고르게 분포 시킴\n",
        "  - 빠른 계산\n",
        "  - 충돌 최소화\n",
        "\n",
        "- 키 생성 함수\n",
        "  - SHA-1\n",
        "    - SHA-1은 해쉬값의 크기를 160으로 고정하는 알고리즘입니다.\n",
        "    - hashlib이란 라이브러리는 SHA함수들을 가지고 있는 라이브러리입니다. 'test'라는 문자와 'hello world'라는 문자를 각각 SHA-1으로 해쉬값을 출력하면 아래와 같습니다.\n",
        "\n",
        "\n"
      ],
      "metadata": {
        "id": "Bsl9cTDM3Bkb"
      }
    },
    {
      "cell_type": "code",
      "execution_count": 2,
      "metadata": {
        "colab": {
          "base_uri": "https://localhost:8080/"
        },
        "id": "2bLyfCDe23s3",
        "outputId": "2eed016c-6878-46fe-d0cd-2c6b97f71e1f"
      },
      "outputs": [
        {
          "output_type": "stream",
          "name": "stdout",
          "text": [
            "a94a8fe5ccb19ba61c4c0873d391e987982fbbd3\n",
            "2aae6c35c94fcfb415dbe95f408b9ce91ee846ed\n"
          ]
        }
      ],
      "source": [
        "import hashlib\n",
        "\n",
        "data = 'test'.encode()\n",
        "\n",
        "hash_object = hashlib.sha1()\n",
        "hash_object.update(data)\n",
        "hex_dig = hash_object.hexdigest()\n",
        "\n",
        "print(hex_dig)\n",
        "\n",
        "data2 = 'hello world'.encode()\n",
        "\n",
        "hash_object2 = hashlib.sha1()\n",
        "hash_object2.update(data2)\n",
        "hex_dig2 = hash_object2.hexdigest()\n",
        "\n",
        "print(hex_dig2)"
      ]
    },
    {
      "cell_type": "code",
      "source": [
        "# hash\n",
        "\n",
        "class Node:\n",
        "    def __init__(self, key, val):\n",
        "        self.key = key\n",
        "        self.val = val\n",
        "\n",
        "class HashTable:\n",
        "    def __init__(self, bucket_size=1024):\n",
        "        self.buckets = [[]] * bucket_size\n",
        "        self.bucket_size = bucket_size\n",
        "        self._size = 0\n",
        "\n",
        "    def put(self, key, val):\n",
        "        idx = hash(key) % self.bucket_size\n",
        "        for elem in self.buckets[idx]:\n",
        "            if elem.key == key:\n",
        "                elem.val = val\n",
        "                return\n",
        "        node = Node(key, val)\n",
        "        self.buckets[idx].append(node)\n",
        "        self._size += 1\n",
        "\n",
        "    def get(self, key):\n",
        "        idx = hash(key) % self.bucket_size\n",
        "        for elem in self.buckets[idx]:\n",
        "            if elem.key == key:\n",
        "                return elem.val\n",
        "        return None\n",
        "\n",
        "    def contains(self, key):\n",
        "        idx = hash(key) % self.bucket_size\n",
        "        for elem in self.buckets[idx]:\n",
        "            if elem.key == key:\n",
        "                return True\n",
        "        return False\n",
        "\n",
        "    def delete(self, key):\n",
        "        idx = hash(key) % self.bucket_size\n",
        "        for idx, elem in enumerate(self.buckets[idx]):\n",
        "            if elem.key == key:\n",
        "                self.buckets[idx].remove(elem)\n",
        "                self._size -= 1\n",
        "\n",
        "    def size(self):\n",
        "        return self._size\n",
        "\n",
        "\n",
        "if __name__ == \"__main__\":\n",
        "    table = HashTable()\n",
        "    print('table.put(\"s1\", \"v1\")')\n",
        "    table.put(\"s1\", \"v1\")\n",
        "    print('table.put(\"s2\", \"v2\")')\n",
        "    table.put(\"s2\", \"v2\")\n",
        "    print('table.put(\"s3\", \"v3\")')\n",
        "    table.put(\"s3\", \"v3\")\n",
        "    print(f\"table.size(): {table.size()}\")\n",
        "    print(f\"table.get('s1'): {table.get('s1')}\")\n",
        "    print(f\"table.get('s2'): {table.get('s2')}\")\n",
        "    print(f\"table.get('s3'): {table.get('s3')}\")\n",
        "    print(\"table.put('s2', 'v4')\")\n",
        "    table.put(\"s2\", \"v4\")\n",
        "    print(f\"table.get('s2'): {table.get('s2')}\")\n",
        "    print(\"table.delete('s2')\")\n",
        "    print(table.delete(\"s2\"))\n",
        "    print(f\"table.size(): {table.size()}\")\n",
        "    print(f\"table.get('s1'): {table.get('s1')}\")\n",
        "    print(f\"table.get('s2'): {table.get('s2')}\")\n",
        "    print(f\"table.get('s3'): {table.get('s3')}\")"
      ],
      "metadata": {
        "colab": {
          "base_uri": "https://localhost:8080/"
        },
        "id": "XOJJ3Ws96YMQ",
        "outputId": "d698c823-3b02-4ed4-d09a-35a366147a66"
      },
      "execution_count": 3,
      "outputs": [
        {
          "output_type": "stream",
          "name": "stdout",
          "text": [
            "table.put(\"s1\", \"v1\")\n",
            "table.put(\"s2\", \"v2\")\n",
            "table.put(\"s3\", \"v3\")\n",
            "table.size(): 3\n",
            "table.get('s1'): v1\n",
            "table.get('s2'): v2\n",
            "table.get('s3'): v3\n",
            "table.put('s2', 'v4')\n",
            "table.get('s2'): v4\n",
            "table.delete('s2')\n",
            "None\n",
            "table.size(): 2\n",
            "table.get('s1'): v1\n",
            "table.get('s2'): None\n",
            "table.get('s3'): v3\n"
          ]
        }
      ]
    },
    {
      "cell_type": "code",
      "source": [
        "class HashTable:\n",
        "    def __init__(self):\n",
        "        self.hash_table = list([0 for i in range(8)])\n",
        "\n",
        "    def hash_function(self, key):\n",
        "        return key % 8\n",
        "\n",
        "    def insert(self, key, value):\n",
        "        hash_value = self.hash_function(hash(key))\n",
        "        self.hash_table[hash_value] = value\n",
        "\n",
        "    def read(self, key):\n",
        "        hash_value = self.hash_function(hash(key))\n",
        "        return self.hash_table[hash_value]\n",
        "\n",
        "    def print(self):\n",
        "        print(self.hash_table)\n",
        "\n",
        "ht = HashTable()\n",
        "ht.insert(1, 'a')\n",
        "ht.print()\n",
        "ht.insert('name', 'kang')\n",
        "ht.print()\n",
        "ht.insert(2, 'b')\n",
        "ht.print()\n",
        "ht.insert(3, 'c')\n",
        "ht.print()\n",
        "print(ht.read(2))\n",
        "ht.insert(4, 'd')\n",
        "ht.print()"
      ],
      "metadata": {
        "colab": {
          "base_uri": "https://localhost:8080/"
        },
        "id": "rOHQ4oYb6fJG",
        "outputId": "37bff4f2-f0a4-46c9-f2e4-d1994ad0a618"
      },
      "execution_count": 4,
      "outputs": [
        {
          "output_type": "stream",
          "name": "stdout",
          "text": [
            "[0, 'a', 0, 0, 0, 0, 0, 0]\n",
            "[0, 'a', 0, 0, 0, 0, 'kang', 0]\n",
            "[0, 'a', 'b', 0, 0, 0, 'kang', 0]\n",
            "[0, 'a', 'b', 'c', 0, 0, 'kang', 0]\n",
            "b\n",
            "[0, 'a', 'b', 'c', 'd', 0, 'kang', 0]\n"
          ]
        }
      ]
    },
    {
      "cell_type": "markdown",
      "source": [
        "# 해시 충돌 Hash Collision\n",
        "\n",
        "- 키 값이 다른데, 해시 함수의 결과값이 동일한 경우\n",
        "\n",
        "  ![collision](https://user-images.githubusercontent.com/96982072/200611210-03c5b418-9d7f-481e-acea-83b5707c50ca.png)\n",
        "\n",
        "\n",
        "\n",
        "\n",
        "\n"
      ],
      "metadata": {
        "id": "md_UEZKv3vV-"
      }
    },
    {
      "cell_type": "markdown",
      "source": [
        "# Chaining 기법\n",
        "\n",
        "![chaining](https://user-images.githubusercontent.com/96982072/200612768-55c50d18-75f7-41e2-884e-32a4bbe8b05b.png)\n",
        "\n",
        "  - Open Hashing 기법 중 하나 \n",
        "    - 해쉬테이블 저장공간 외에 공간을 더 추가해서 사용하는 방법입니다.\n",
        "  \n",
        "  - 충돌이 발생시, 링크드 리스트로 데이터를 추가로 뒤에 연결시키는 방법입니다.\n",
        "\n",
        "  - 뒤로 연결시키는 모양이 chain과 닮음\n"
      ],
      "metadata": {
        "id": "uFprLGnX8lxv"
      }
    },
    {
      "cell_type": "code",
      "source": [
        "class HashTable:\n",
        "  def __init__(self):\n",
        "      self.hash_table = list([0 for i in range(8)])\n",
        "\n",
        "  def hash_function(self, key):\n",
        "      # Custom Hash Function\n",
        "      return key % 8\n",
        "\n",
        "  def insert(self, key, value):\n",
        "      gen_key = hash(key)\n",
        "      hash_value = self.hash_function(gen_key)\n",
        "\n",
        "      if self.hash_table[hash_value] != 0:\n",
        "          # 해당 hash value index를 이미 사용하고 있는 경우(충돌 시)\n",
        "          for i in range(len(self.hash_table[hash_value])):\n",
        "              # 이미 같은 키 값이 존재하는 경우 -> value 교체\n",
        "              # 이때 0은 key, 1은 value값이 존재하는 인덱스\n",
        "              if self.hash_table[hash_value][i][0] == gen_key:\n",
        "                  self.hash_table[hash_value][i][1] = value\n",
        "                  return\n",
        "          # 같은 키 값이 존재하지 않는 경우에는 [key, value]를 해당 인덱스에 삽입\n",
        "          self.hash_table[hash_value].append([gen_key, value])\n",
        "      else:\n",
        "          # 해당 hash_value를 사용하고 있지 않는 경우\n",
        "          self.hash_table[hash_value] = [[gen_key, value]]\n",
        "\n",
        "  def read(self, key):\n",
        "      gen_key = hash(key)\n",
        "      hash_value = self.hash_function(gen_key)\n",
        "\n",
        "      if self.hash_table[hash_value] != 0:\n",
        "          # 해당 해쉬 값 index에 데이터가 존재할 때,\n",
        "          for i in range(len(self.hash_table[hash_value])):\n",
        "              if self.hash_table[hash_value][i][0] == gen_key:\n",
        "                  # 키와 동일할 경우 -> 해당 value return\n",
        "                  return self.hash_table[hash_value][i][1]\n",
        "          # 동일한 키가 존재하지 않으면 None return\n",
        "          return None\n",
        "      else:\n",
        "          # 해당 해쉬 값 index에 데이터가 없을 때,\n",
        "          return None\n",
        "\n",
        "  def print(self):\n",
        "      print(self.hash_table)"
      ],
      "metadata": {
        "id": "oqqFuFom5S-A"
      },
      "execution_count": null,
      "outputs": []
    },
    {
      "cell_type": "markdown",
      "source": [
        "# Open Addressing\n",
        "\n",
        "- 충돌 발생시 다른 버킷에 데이터를 저장\n",
        "\n",
        "- 선형 탐색\n",
        "  - 해시 충돌 시 n칸을 건너뛴 다음 버킷에 저장\n",
        "  - 계산 단순\n",
        "  - 검색 시간이 많이 소요\n",
        "  - 데이터들이 특정 위치에만 밀집\n",
        "\n",
        "- 제곱 탐색\n",
        "  - $ N^2 $ 칸(1, 4, 9, 16, ...)을 건너뛴 버킷에 데이터를 저장\n",
        "  - 데이터들이 특정 위치에 밀집하는 문제를 해결\n",
        "  - 하지만 처음 해시 값이 같다면 여전히\n",
        "\n",
        "- 이중 해시\n",
        "  - 해시 값에 다른 해시 함수를 한번 더 적용\n",
        "  - Hashfunction1(): 최초의 해시 값을 구함\n",
        "  - Hashfunction2(): 충돌 발생시 이동 폭을 구함\n",
        "  - 최초 해시 값이 같더라도 이동 폭이 다르기 때문에 clustering 문제 해결 가능"
      ],
      "metadata": {
        "id": "V3ADmrPU9Fde"
      }
    },
    {
      "cell_type": "code",
      "source": [],
      "metadata": {
        "id": "6lh90tU1-VSY"
      },
      "execution_count": null,
      "outputs": []
    }
  ]
}