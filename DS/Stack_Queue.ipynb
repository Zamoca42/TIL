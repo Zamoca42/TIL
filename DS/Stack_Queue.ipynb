{
  "nbformat": 4,
  "nbformat_minor": 0,
  "metadata": {
    "colab": {
      "provenance": [],
      "authorship_tag": "ABX9TyP1wgNXtYqJmoBU+ZlxIEv5",
      "include_colab_link": true
    },
    "kernelspec": {
      "name": "python3",
      "display_name": "Python 3"
    },
    "language_info": {
      "name": "python"
    }
  },
  "cells": [
    {
      "cell_type": "markdown",
      "metadata": {
        "id": "view-in-github",
        "colab_type": "text"
      },
      "source": [
        "<a href=\"https://colab.research.google.com/github/Zamoca42/TIL/blob/main/DS/Stack_Queue.ipynb\" target=\"_parent\"><img src=\"https://colab.research.google.com/assets/colab-badge.svg\" alt=\"Open In Colab\"/></a>"
      ]
    },
    {
      "cell_type": "markdown",
      "source": [
        "![Stack](https://user-images.githubusercontent.com/96982072/200183460-2804eb81-c12c-43a8-955f-c872603e7d2b.png)\n"
      ],
      "metadata": {
        "id": "qPzBVMX41gBK"
      }
    },
    {
      "cell_type": "markdown",
      "source": [
        "# Stack\n",
        "\n",
        "- 후입선출(Last-In-First-Out - LIFO)\n",
        "\n",
        "- 예\n",
        "  - 인터넷 브라우저 뒤로가기\n",
        "  - Ctrl + Z\n",
        "\n",
        "## 기능\n",
        "\n",
        "- push()\n",
        "  - 데이터를 스택에 쌓는 기능을 의미합니다. python list의 append 메소드\n",
        "\n",
        "- pop()\n",
        "  - 데이터를 스택에서 꺼내는 기능을 의미합니다. python list에 같은 기능\n",
        "\n",
        "## 장단점\n",
        "\n",
        "- 장점\n",
        "  - 구조가 단순\n",
        "  - 데이터 저장/불러오는 속도가 빠름\n",
        "\n",
        "- 단점\n",
        "  - 데이터 최대 갯수를 사전에 정해주어야 함\n",
        "  - 저장 공간 낭비가 발생할 수 있음 ( 저장 공간 미리 확보)\n",
        "  "
      ],
      "metadata": {
        "id": "2RRn8qfNymK8"
      }
    },
    {
      "cell_type": "code",
      "execution_count": 1,
      "metadata": {
        "colab": {
          "base_uri": "https://localhost:8080/"
        },
        "id": "UI0o6zYCyY6_",
        "outputId": "0adb0d5f-99d3-4979-9faa-ccb9cab6a092"
      },
      "outputs": [
        {
          "output_type": "stream",
          "name": "stdout",
          "text": [
            "s.push(3)\n",
            "s.push(5)\n",
            "s.push(1)\n",
            "s.push(9)\n",
            "s.size(): 4\n",
            "s.peek(): 9\n",
            "s.pop(): 9\n",
            "s.pop(): 1\n",
            "s.pop(): 5\n",
            "s.pop(): 3\n"
          ]
        }
      ],
      "source": [
        "# 리스트를 통해 구현\n",
        "\n",
        "class Node:\n",
        "    def __init__(self):\n",
        "        self.next = None\n",
        "        self.data = None\n",
        "\n",
        "class Stack:\n",
        "    def __init__(self):\n",
        "        self.head = Node()\n",
        "        self._size = 0\n",
        "\n",
        "    def push(self, data):\n",
        "        new_node = Node()\n",
        "        new_node.data = data\n",
        "        new_node.next = self.head.next\n",
        "        self.head.next = new_node\n",
        "        self._size += 1\n",
        "\n",
        "    def pop(self):\n",
        "        if self.size == 0:\n",
        "            return None\n",
        "\n",
        "        ret = self.head.next\n",
        "        self.head.next = ret.next\n",
        "        self._size -= 1\n",
        "        return ret.data\n",
        "\n",
        "    def peek(self):\n",
        "        if self._size == 0:\n",
        "            return None\n",
        "        return self.head.next.data\n",
        "\n",
        "    def size(self):\n",
        "        return self._size\n",
        "        \n",
        "if __name__ == \"__main__\":\n",
        "    s = Stack()\n",
        "    print(\"s.push(3)\")\n",
        "    s.push(3)\n",
        "    print(\"s.push(5)\")\n",
        "    s.push(5)\n",
        "    print(\"s.push(1)\")\n",
        "    s.push(1)\n",
        "    print(\"s.push(9)\")\n",
        "    s.push(9)\n",
        "    print(f\"s.size(): {s.size()}\")\n",
        "    print(f\"s.peek(): {s.peek()}\")\n",
        "    print(f\"s.pop(): {s.pop()}\")\n",
        "    print(f\"s.pop(): {s.pop()}\")\n",
        "    print(f\"s.pop(): {s.pop()}\")\n",
        "    print(f\"s.pop(): {s.pop()}\")"
      ]
    },
    {
      "cell_type": "code",
      "source": [
        "# 리스트를 통해 구현2\n",
        "\n",
        "class ListStack:\n",
        "    def __init__(self):\n",
        "        self.my_list = list()\n",
        "\n",
        "    def push(self, data):\n",
        "        self.my_list.append(data)\n",
        "\n",
        "    def pop(self):\n",
        "        return self.my_list.pop()\n",
        "\n",
        "if __name__ == \"__main__\":\n",
        "    s = ListStack()\n",
        "    print(\"s.push(3)\")\n",
        "    s.push(3)\n",
        "    print(\"s.push(5)\")\n",
        "    s.push(5)\n",
        "    print(\"s.push(1)\")\n",
        "    s.push(1)\n",
        "    print(\"s.push(9)\")\n",
        "    s.push(9)\n",
        "    print(f\"s.pop(): {s.pop()}\")\n",
        "    print(f\"s.pop(): {s.pop()}\")\n",
        "    print(f\"s.pop(): {s.pop()}\")\n",
        "    print(f\"s.pop(): {s.pop()}\")"
      ],
      "metadata": {
        "colab": {
          "base_uri": "https://localhost:8080/"
        },
        "id": "3GYXOETq1wgq",
        "outputId": "6842b998-19ed-49c6-9d52-6eb202b2c9fb"
      },
      "execution_count": 3,
      "outputs": [
        {
          "output_type": "stream",
          "name": "stdout",
          "text": [
            "s.push(3)\n",
            "s.push(5)\n",
            "s.push(1)\n",
            "s.push(9)\n",
            "s.pop(): 9\n",
            "s.pop(): 1\n",
            "s.pop(): 5\n",
            "s.pop(): 3\n"
          ]
        }
      ]
    },
    {
      "cell_type": "markdown",
      "source": [
        "# Queue\n",
        "\n",
        "- 선입선출(First In, First Out - FIFO) 방식을 사용\n",
        "\n",
        "## 기능\n",
        "\n",
        "- Enqueue\n",
        "  - 큐에 데이터를 넣는 기능을 의미합니다. python list의 append() 메서드와 유사합니다.\n",
        "- Dequeue\n",
        "  - 큐에서 데이터를 꺼내는 기능을 의미합니다. python list의 pop() 메소드와 유사합니다.\n",
        "- 큐는 멀티 테스킹을 위한 프로세스 스케쥴링 방식에 사용된다.\n",
        "\n",
        "\n",
        "\n",
        "## Queue 를 구현 하는 방법\n",
        "\n",
        "1. LinkedList 를 이용한 선형 큐 구현\n",
        "  - ![linear](https://user-images.githubusercontent.com/96982072/200185592-44557c2f-859a-4376-9682-e142536f664f.png)\n",
        "\n",
        "\n",
        "2. 배열을 이용한 원형 큐 구현\n",
        "  - 배열을 이용한 선형 큐 구현은 너무 비효율적\n",
        "  - ![circular](https://user-images.githubusercontent.com/96982072/200185587-e0c9c729-8544-4c9a-bbe0-3ced56c3aac3.png)\n",
        "  - 고정된 크기의 배열로 구현\n",
        "\n",
        "\n"
      ],
      "metadata": {
        "id": "dyCVVQ7H9xwd"
      }
    },
    {
      "cell_type": "code",
      "source": [
        "# 리스트로 Queue 구현\n",
        "\n",
        "class ListQueue:\n",
        "    def __init__(self):\n",
        "        self.my_list = list()\n",
        "\n",
        "    def put(self, element):\n",
        "        self.my_list.append(element)\n",
        "\n",
        "    def get(self):\n",
        "        return self.my_list.pop(0)\n",
        "\n",
        "    def qsize(self):\n",
        "        return len(self.my_list)\n",
        "\n",
        "if __name__ == '__main__':\n",
        "    q = ListQueue()\n",
        "    for elem in [5, 3, 6, 8, 9, 10]:\n",
        "        print(f\"q.put({elem})\")\n",
        "        q.put(elem)\n",
        "\n",
        "    print(f\"q.qsize(): {q.qsize()}\")\n",
        "    while q.qsize() > 0:\n",
        "        print(f\"q.pop(): {q.get()}\")\n",
        "\n",
        "    print(f\"q.qsize(): {q.qsize()}\")"
      ],
      "metadata": {
        "colab": {
          "base_uri": "https://localhost:8080/"
        },
        "id": "qAF9VxZM_hUi",
        "outputId": "fd9b254b-22df-4a05-ec0a-4f5c2b87848d"
      },
      "execution_count": 7,
      "outputs": [
        {
          "output_type": "stream",
          "name": "stdout",
          "text": [
            "q.put(5)\n",
            "q.put(3)\n",
            "q.put(6)\n",
            "q.put(8)\n",
            "q.put(9)\n",
            "q.put(10)\n",
            "q.qsize(): 6\n",
            "q.pop(): 5\n",
            "q.pop(): 3\n",
            "q.pop(): 6\n",
            "q.pop(): 8\n",
            "q.pop(): 9\n",
            "q.pop(): 10\n",
            "q.qsize(): 0\n"
          ]
        }
      ]
    },
    {
      "cell_type": "code",
      "source": [
        "# Linked List로 구현\n",
        "\n",
        "class Node:\n",
        "    def __init__(self, data, next_=None):\n",
        "        self.data = data\n",
        "        self.next = next_\n",
        "\n",
        "class LinkedQueue:\n",
        "\n",
        "    def __init__(self):\n",
        "        self._size = 0\n",
        "        self.head = Node(None)\n",
        "        self.tail = self.head\n",
        "\n",
        "    def offer(self, data):\n",
        "        node = Node(data)\n",
        "        self.tail.next = node\n",
        "        self.tail = self.tail.next\n",
        "        self._size += 1\n",
        "\n",
        "    def poll(self):\n",
        "        if self._size == 0:\n",
        "            raise RuntimeError(\"Empty\")\n",
        "\n",
        "        ret = self.head.next\n",
        "        self.head.next = ret.next\n",
        "        ret.next = None\n",
        "        self._size -= 1\n",
        "        if self.head.next is None:\n",
        "            self.tail = self.head\n",
        "        return ret.data\n",
        "\n",
        "    def peek(self):\n",
        "        if self._size == 0:\n",
        "            raise RuntimeError(\"Empty\")\n",
        "        return self.head.next.data\n",
        "\n",
        "    def size(self):\n",
        "        return self._size\n",
        "\n",
        "    def clear(self):\n",
        "        self.head.next = None\n",
        "        self.tail = self.head\n",
        "        self._size = 0\n",
        "\n",
        "\n",
        "if __name__ == '__main__':\n",
        "    q = LinkedQueue()\n",
        "    for elem in [5, 3, 6, 8, 9, 10]:\n",
        "        print(f\"q.offer({elem})\")\n",
        "        q.offer(elem)\n",
        "\n",
        "    print(f\"q.size(): {q.size()}\")\n",
        "    while q.size() > 0:\n",
        "        print(f\"q.peek(): {q.peek()}\")\n",
        "        print(f\"q.pop(): {q.poll()}\")\n",
        "\n",
        "    print(f\"q.size(): {q.size()}\")"
      ],
      "metadata": {
        "colab": {
          "base_uri": "https://localhost:8080/"
        },
        "id": "7IEzb1XF_mLQ",
        "outputId": "c5e8072f-ce4e-4654-e7c9-f77bce84798b"
      },
      "execution_count": 5,
      "outputs": [
        {
          "output_type": "stream",
          "name": "stdout",
          "text": [
            "q.offer(5)\n",
            "q.offer(3)\n",
            "q.offer(6)\n",
            "q.offer(8)\n",
            "q.offer(9)\n",
            "q.offer(10)\n",
            "q.size(): 6\n",
            "q.peek(): 5\n",
            "q.pop(): 5\n",
            "q.peek(): 3\n",
            "q.pop(): 3\n",
            "q.peek(): 6\n",
            "q.pop(): 6\n",
            "q.peek(): 8\n",
            "q.pop(): 8\n",
            "q.peek(): 9\n",
            "q.pop(): 9\n",
            "q.peek(): 10\n",
            "q.pop(): 10\n",
            "q.size(): 0\n"
          ]
        }
      ]
    },
    {
      "cell_type": "code",
      "source": [
        "# 원형 큐 구현\n",
        "\n",
        "class CircularQueue:\n",
        "    def __init__(self, max_size):\n",
        "        self.elements = [None] * (max_size + 1)\n",
        "        self.front = 0\n",
        "        self.rear = 0\n",
        "        self.max_size = max_size + 1\n",
        "\n",
        "    def is_full(self):\n",
        "        return (self.rear + 1) % self.max_size == self.front\n",
        "\n",
        "    def is_empty(self):\n",
        "        return self.front == self.rear\n",
        "\n",
        "    def clear(self):\n",
        "        self.front = 0\n",
        "        self.rear = 0\n",
        "\n",
        "    def offer(self, data):\n",
        "        if self.is_full():\n",
        "            raise RuntimeError(\"Queue is full\")\n",
        "\n",
        "        self.rear = (self.rear + 1) % self.max_size\n",
        "        self.elements[self.rear] = data\n",
        "\n",
        "    def poll(self):\n",
        "        if self.is_empty():\n",
        "            raise RuntimeError(\"Queue is empty\")\n",
        "        self.front = (self.front + 1) % self.max_size\n",
        "        return self.elements[self.front]\n",
        "\n",
        "    def size(self):\n",
        "        if self.front <= self.rear:\n",
        "            return self.rear - self.front\n",
        "        return self.max_size - self.front + self.rear\n",
        "\n",
        "\n",
        "if __name__ == \"__main__\":\n",
        "    q = CircularQueue(5)\n",
        "    for e in range(5):\n",
        "        print(f\"is_full: {q.is_full()}, is_empty: {q.is_empty()}, size: {q.size()}\")\n",
        "        q.offer(e)\n",
        "        print(f\"q.offer({e})\")\n",
        "        print(f\"is_full: {q.is_full()}, is_empty: {q.is_empty()}, size: {q.size()}\")\n",
        "\n",
        "    print(\"--------------------------------------------\")\n",
        "    while q.size() > 0:\n",
        "        print(f\"is_full: {q.is_full()}, is_empty: {q.is_empty()}, size: {q.size()}\")\n",
        "        print(f\"q.poll(): {q.poll()}\")"
      ],
      "metadata": {
        "colab": {
          "base_uri": "https://localhost:8080/"
        },
        "id": "MRh7QHYC_zV9",
        "outputId": "c717dab4-1c0d-49ec-d520-eb24024a59d7"
      },
      "execution_count": 8,
      "outputs": [
        {
          "output_type": "stream",
          "name": "stdout",
          "text": [
            "is_full: False, is_empty: True, size: 0\n",
            "q.offer(0)\n",
            "is_full: False, is_empty: False, size: 1\n",
            "is_full: False, is_empty: False, size: 1\n",
            "q.offer(1)\n",
            "is_full: False, is_empty: False, size: 2\n",
            "is_full: False, is_empty: False, size: 2\n",
            "q.offer(2)\n",
            "is_full: False, is_empty: False, size: 3\n",
            "is_full: False, is_empty: False, size: 3\n",
            "q.offer(3)\n",
            "is_full: False, is_empty: False, size: 4\n",
            "is_full: False, is_empty: False, size: 4\n",
            "q.offer(4)\n",
            "is_full: True, is_empty: False, size: 5\n",
            "--------------------------------------------\n",
            "is_full: True, is_empty: False, size: 5\n",
            "q.poll(): 0\n",
            "is_full: False, is_empty: False, size: 4\n",
            "q.poll(): 1\n",
            "is_full: False, is_empty: False, size: 3\n",
            "q.poll(): 2\n",
            "is_full: False, is_empty: False, size: 2\n",
            "q.poll(): 3\n",
            "is_full: False, is_empty: False, size: 1\n",
            "q.poll(): 4\n"
          ]
        }
      ]
    },
    {
      "cell_type": "code",
      "source": [],
      "metadata": {
        "id": "wgXTZDTmA7ZN"
      },
      "execution_count": null,
      "outputs": []
    }
  ]
}