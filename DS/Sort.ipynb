{
  "nbformat": 4,
  "nbformat_minor": 0,
  "metadata": {
    "colab": {
      "provenance": [],
      "authorship_tag": "ABX9TyMMC8Es7TVpZxL4Rl9prM9+",
      "include_colab_link": true
    },
    "kernelspec": {
      "name": "python3",
      "display_name": "Python 3"
    },
    "language_info": {
      "name": "python"
    }
  },
  "cells": [
    {
      "cell_type": "markdown",
      "metadata": {
        "id": "view-in-github",
        "colab_type": "text"
      },
      "source": [
        "<a href=\"https://colab.research.google.com/github/Zamoca42/TIL/blob/main/DS/Sort.ipynb\" target=\"_parent\"><img src=\"https://colab.research.google.com/assets/colab-badge.svg\" alt=\"Open In Colab\"/></a>"
      ]
    },
    {
      "cell_type": "markdown",
      "source": [
        "# 이진 탐색 (Binary Search)\n",
        "\n",
        "- 정렬된 자료를 반으로 나누어 탐색하는 방법\n",
        "- O(log N)의 시간복잡도\n",
        "- 이진 탐색을 반복할수록 남아있는 자료의 개수는 1/2로 줄어든다"
      ],
      "metadata": {
        "id": "eEJkeBy6M5Jg"
      }
    },
    {
      "cell_type": "code",
      "execution_count": 1,
      "metadata": {
        "colab": {
          "base_uri": "https://localhost:8080/"
        },
        "id": "hWonzZQrMwjz",
        "outputId": "fd1ec256-a00a-4bf6-b182-3e1ed3bb54cd"
      },
      "outputs": [
        {
          "output_type": "stream",
          "name": "stdout",
          "text": [
            "2\n",
            "6\n",
            "-1\n"
          ]
        }
      ],
      "source": [
        "def binary_search(arr, target):\n",
        "    # 1. 데이터의 중간 인덱스 값을 찾는다.\n",
        "    # 2. 중간 인덱스 위치를 기준으로 arr을 절반으로 나눈다.\n",
        "    # 3. 나눠진 절반의 리스트에서 target 값을 찾는다.\n",
        "\n",
        "    l = 0 # 왼쪽 끝 값\n",
        "    r = len(arr) - 1 # 오른쪽 끝 값\n",
        "\n",
        "    while l <= r:\n",
        "        m = (l + r) // 2 # 중간 값\n",
        "        if arr[m] < target:\n",
        "            l = m + 1\n",
        "        elif arr[m] > target:\n",
        "            r = m - 1\n",
        "        else:\n",
        "            return m\n",
        "    \n",
        "    return -1\n",
        "\n",
        "\n",
        "\n",
        "if __name__ == \"__main__\":\n",
        "    arr = [1,2,3,4,5,6,7,8,9]\n",
        "    print(binary_search(arr, 3))\n",
        "    print(binary_search(arr, 7))\n",
        "    print(binary_search(arr, 15))"
      ]
    },
    {
      "cell_type": "code",
      "source": [
        "# 바이너리 서치\n",
        "# data 중에서 target 을 검색하여 index 값을 return 한다.\n",
        "# 없으면 None을 return한다.\n",
        "\n",
        "def binary_search(target, data):\n",
        "    data.sort()\n",
        "    start = 0\n",
        "    end = len(data) - 1\n",
        "\n",
        "    while start <= end:\n",
        "        mid = (start + end) // 2\n",
        "\n",
        "        if data[mid] == target:\n",
        "            return mid # 함수를 끝내버린다.\n",
        "        elif data[mid] < target:\n",
        "            start = mid + 1\n",
        "        else:\n",
        "            end = mid -1\n",
        "\n",
        "    return None\n",
        "\n",
        "# 테스트용 코드\n",
        "if __name__ == \"__main__\":\n",
        "  li = [i**2 for i in range(11)]\n",
        "  target = 9\n",
        "  idx = binary_search(target, li)\n",
        "\n",
        "  if idx:\n",
        "      print(li[idx])\n",
        "  else:\n",
        "      print(\"찾으시는 타겟 {}가 없습니다\".format(target))"
      ],
      "metadata": {
        "colab": {
          "base_uri": "https://localhost:8080/"
        },
        "id": "fqSR3y2oN1ig",
        "outputId": "b73b8d59-6400-4a56-ce39-f1d7a82d9a22"
      },
      "execution_count": 2,
      "outputs": [
        {
          "output_type": "stream",
          "name": "stdout",
          "text": [
            "9\n"
          ]
        }
      ]
    },
    {
      "cell_type": "markdown",
      "source": [
        "# 버블 정렬 (Bubble Sort)\n",
        "\n",
        "- 인접한 두 수를 비교하며 정렬해나가는 방법으로 O($ N^2 $)의 시간복잡도\n",
        "\n",
        "- 거품 정렬은 점점 큰 값들을 뒤에서 부터 앞으로 하나씩 쌓여 나가게 때문에 후반으로 갈수록 정렬 범위가 하나씩 줄어들게 됨\n",
        "\n",
        "- 무작위 배열수의 거품 정렬 예  \n",
        "  ![Bubble_sort_animation](https://user-images.githubusercontent.com/96982072/201142099-fd06657f-bb90-4696-a666-24a48a37afc9.gif)\n"
      ],
      "metadata": {
        "id": "pmNNILvnOdvo"
      }
    },
    {
      "cell_type": "code",
      "source": [
        "def bubble_sort(arr):\n",
        "    for i in range(len(arr) - 1):\n",
        "        for j in range(len(arr) - i - 1):\n",
        "            if arr[j] > arr[j + 1]:\n",
        "                arr[j], arr[j + 1] = arr[j + 1], arr[j]\n",
        "\n",
        "\n",
        "if __name__ == \"__main__\":\n",
        "    arr = [9,1,6,3,7,2,8,4,5,0]\n",
        "    bubble_sort(arr)\n",
        "\n",
        "    print(arr)"
      ],
      "metadata": {
        "colab": {
          "base_uri": "https://localhost:8080/"
        },
        "id": "aYmvUx9sPIWC",
        "outputId": "4154926d-10e1-43ce-92c3-b33db7a33806"
      },
      "execution_count": 3,
      "outputs": [
        {
          "output_type": "stream",
          "name": "stdout",
          "text": [
            "[0, 1, 2, 3, 4, 5, 6, 7, 8, 9]\n"
          ]
        }
      ]
    },
    {
      "cell_type": "markdown",
      "source": [
        "# 삽입 정렬 (Insertion Sort)\n",
        "\n",
        "- 정렬된 데이터 그룹을 늘려가며 추가되는 데이터는 알맞은 자리에 삽입하는 방식\n",
        "\n",
        "-  이미 정렬된 배열 부분과 비교하여, 자신의 위치를 찾아 삽입함으로써 정렬을 완성하는 알고리즘\n",
        "\n",
        "- $ O(n^2) $"
      ],
      "metadata": {
        "id": "pzTb9dRGPuP0"
      }
    },
    {
      "cell_type": "code",
      "source": [
        "def insertion_sort(arr):\n",
        "    for i in range(1, len(arr)):\n",
        "        key = arr[i] # 삽입 위치를 찾아줄 데이터\n",
        "        j = i - 1 # 0-j 정렬된 서브 리스트\n",
        "        while j >= 0 and arr[j] > key:\n",
        "            arr[j + 1] = arr[j]\n",
        "            j -= 1\n",
        "        arr[j + 1] = key\n",
        "\n",
        "\n",
        "if __name__ == \"__main__\":\n",
        "    arr = [9,1,6,3,7,2,8,4,5,0]\n",
        "    insertion_sort(arr)\n",
        "    print(arr)"
      ],
      "metadata": {
        "colab": {
          "base_uri": "https://localhost:8080/"
        },
        "id": "6evrvMYMRLAv",
        "outputId": "5ab954ec-eaad-400b-fb6c-158761175702"
      },
      "execution_count": 4,
      "outputs": [
        {
          "output_type": "stream",
          "name": "stdout",
          "text": [
            "[0, 1, 2, 3, 4, 5, 6, 7, 8, 9]\n"
          ]
        }
      ]
    },
    {
      "cell_type": "markdown",
      "source": [
        "# 병합 정렬(Merge Sort)\n",
        "\n",
        "- 하나의 리스트를 두 개의 균등한 크기의 리스트로 분할하고 부분 리스트를 합치면서 정렬하여 전체가 정렬\n",
        "\n",
        "- 분할 정복 (Divide and Conquer) 알고리즘\n",
        "\n",
        "- 예시\n",
        "\n",
        "  - 분할  \n",
        "    ![divide](https://user-images.githubusercontent.com/96982072/201147663-585c2e04-b934-4d03-8a0b-513234acd14b.png)\n",
        "    주어진 배열을 원소가 하나 밖에 남지 않을 때까지 둘로 쪼갠다.\n",
        "  \n",
        "  - 병합  \n",
        "  ![merge](https://user-images.githubusercontent.com/96982072/201147668-0e32958a-b6be-430f-a5be-fc8bca464321.png)\n",
        "  \n",
        "- 시간복잡도 $ O(N\\log N) $  \n",
        "  ![스크린샷 2022-11-11 오전 1 28 22](https://user-images.githubusercontent.com/96982072/201152656-d4e2db50-c786-48a2-9d2f-9338121f12e9.png)\n",
        "\n",
        "  "
      ],
      "metadata": {
        "id": "NMai0exPRKl9"
      }
    },
    {
      "cell_type": "code",
      "source": [
        "def merge_sort(arr):\n",
        "    if len(arr) <= 1:\n",
        "        return\n",
        "\n",
        "    # divide\n",
        "    mid = len(arr) // 2\n",
        "    left = arr[:mid]\n",
        "    right = arr[mid:]\n",
        "\n",
        "    merge_sort(left)\n",
        "    merge_sort(right)\n",
        "\n",
        "    # conquer\n",
        "    i = 0   # left idx\n",
        "    j = 0   # right idx\n",
        "    k = 0   # arr idx\n",
        "    while i < len(left) and j < len(right):\n",
        "        if left[i] <= right[j]:\n",
        "            arr[k] = left[i]\n",
        "            i += 1\n",
        "        else:\n",
        "            arr[k] = right[j]\n",
        "            j += 1\n",
        "        k += 1\n",
        "\n",
        "    while i < len(left):\n",
        "        arr[k] = left[i]\n",
        "        i += 1\n",
        "        k += 1\n",
        "\n",
        "    while j < len(right):\n",
        "        arr[k] = right[j]\n",
        "        j += 1\n",
        "        k += 1\n",
        "\n",
        "\n",
        "if __name__ == \"__main__\":\n",
        "    arr = [9,1,6,3,7,2,8,4,5,0]\n",
        "    merge_sort(arr)\n",
        "    print(arr)"
      ],
      "metadata": {
        "colab": {
          "base_uri": "https://localhost:8080/"
        },
        "id": "5O85hB1fZ2GM",
        "outputId": "84b0ef8d-eae4-4c1f-b7ac-47dc8bb857c4"
      },
      "execution_count": 5,
      "outputs": [
        {
          "output_type": "stream",
          "name": "stdout",
          "text": [
            "[0, 1, 2, 3, 4, 5, 6, 7, 8, 9]\n"
          ]
        }
      ]
    },
    {
      "cell_type": "markdown",
      "source": [
        "# 퀵 정렬 (Quick Sort)\n",
        "\n",
        "- 시간복잡도 $O(N \\log N)$\n",
        "  - 참조 지역성(locality of reference)\n",
        "  - 한번 결정된 pivot 값은 이후의 연산에서 제외\n",
        "  - 평균 -> $O(N \\log N)$\n",
        "  - 최악\n",
        "    - 정렬된 리스트 -> $ O(N^2) $\n",
        "\n",
        "- 추가적인 메모리 공간 사용 X\n",
        "- 불안정 정렬\n",
        "- 분할 정복 (Divide and Conquer) 알고리즘\n",
        "\n",
        "- 예시\n",
        "\n",
        "  1. 항상 정 가운데를 기준으로 분할을 하는 병합 정렬과 달리, 퀵 정렬은 흔히 피봇(pivot)이라고 불리는 임의의 기준값을 사용\n",
        "  ![quick1](https://user-images.githubusercontent.com/96982072/201157036-398570ce-30e0-4344-b6e8-a68c858d9af6.png)  \n",
        "  pivot 값보다 작은 값들은 모두 왼편으로 몰고, 큰 값들은 모두 오른편으로 몰면 기준값은 정확히 정렬된 위치에 놓이게 됨 \n",
        "  \n",
        "  2. 다음 차례로 왼쪽에 있는 값과 오른쪽의 있는 값을 pivot 기준으로 정한 뒤 \n",
        "  ![quick2](https://user-images.githubusercontent.com/96982072/201157040-0e81968c-0e31-4e9c-a74d-e47243c2cfc1.png)    \n",
        "  1번 방식대로 다시 정렬  \n",
        "  ![quick3](https://user-images.githubusercontent.com/96982072/201157047-d8b8fda8-2c37-421e-a809-582e0b034c33.png)\n",
        "\n",
        "  3. 계속 반복  \n",
        "  ![quick4](https://user-images.githubusercontent.com/96982072/201157051-91247696-6876-4972-9c3b-b085e8f4249e.png)\n",
        "\n",
        "- 최악의 시나리오\n",
        "\n",
        "  - 정렬된 리스트 -> $ O(N^2) $\n",
        "    ![bad](https://user-images.githubusercontent.com/96982072/201157030-b6ea294d-8caa-4d40-9d76-0cf9baeb5a40.png)"
      ],
      "metadata": {
        "id": "HPPLC97Ba_d3"
      }
    },
    {
      "cell_type": "code",
      "source": [
        "def quick_sort(arr):\n",
        "    __sort(arr, 0, len(arr) - 1)\n",
        "\n",
        "def __sort(arr, low, high):\n",
        "    if low >= high:\n",
        "        return\n",
        "    \n",
        "    pivot = (low + high) // 2\n",
        "    pivot_val = arr[pivot]\n",
        "\n",
        "    left, right = low, high\n",
        "    while left <= right:\n",
        "        while arr[left] < pivot_val:\n",
        "            left += 1\n",
        "\n",
        "        while arr[right] > pivot_val:\n",
        "            right -= 1\n",
        "\n",
        "        if left <= right:\n",
        "            arr[right], arr[left] = arr[left], arr[right]\n",
        "            left += 1\n",
        "            right -= 1\n",
        "\n",
        "    __sort(arr, low, right)\n",
        "    __sort(arr, left, high)\n",
        "\n",
        "\n",
        "if __name__ == \"__main__\":\n",
        "    arr = [9,1,6,3,7,2,8,4,5,0]\n",
        "    quick_sort(arr)\n",
        "    print(arr)\n"
      ],
      "metadata": {
        "colab": {
          "base_uri": "https://localhost:8080/"
        },
        "id": "Jr3izTIIeT89",
        "outputId": "9d1213cc-6a56-40d2-8942-70a4a8546855"
      },
      "execution_count": 6,
      "outputs": [
        {
          "output_type": "stream",
          "name": "stdout",
          "text": [
            "[0, 1, 2, 3, 4, 5, 6, 7, 8, 9]\n"
          ]
        }
      ]
    }
  ]
}