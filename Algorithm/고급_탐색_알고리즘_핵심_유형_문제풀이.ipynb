{
  "nbformat": 4,
  "nbformat_minor": 0,
  "metadata": {
    "colab": {
      "provenance": [],
      "authorship_tag": "ABX9TyO4WkVhEzFcMwCG/VAOPS3V",
      "include_colab_link": true
    },
    "kernelspec": {
      "name": "python3",
      "display_name": "Python 3"
    },
    "language_info": {
      "name": "python"
    }
  },
  "cells": [
    {
      "cell_type": "markdown",
      "metadata": {
        "id": "view-in-github",
        "colab_type": "text"
      },
      "source": [
        "<a href=\"https://colab.research.google.com/github/Zamoca42/TIL/blob/main/Algorithm/%EA%B3%A0%EA%B8%89_%ED%83%90%EC%83%89_%EC%95%8C%EA%B3%A0%EB%A6%AC%EC%A6%98_%ED%95%B5%EC%8B%AC_%EC%9C%A0%ED%98%95_%EB%AC%B8%EC%A0%9C%ED%92%80%EC%9D%B4.ipynb\" target=\"_parent\"><img src=\"https://colab.research.google.com/assets/colab-badge.svg\" alt=\"Open In Colab\"/></a>"
      ]
    },
    {
      "cell_type": "markdown",
      "source": [
        "# 최소 힙: https://www.acmicpc.net/problem/1927"
      ],
      "metadata": {
        "id": "_RU9kvTC1dzj"
      }
    },
    {
      "cell_type": "markdown",
      "source": [
        "- 문제 난이도: 하 (Easy)\n",
        "- 문제 유형: 힙, 자료구조\n",
        "- 추천 풀이 시간: 20분"
      ],
      "metadata": {
        "id": "wa0UTn247saJ"
      }
    },
    {
      "cell_type": "markdown",
      "source": [
        "## 핵심 아이디어"
      ],
      "metadata": {
        "id": "YXM9BgG_1wt4"
      }
    },
    {
      "cell_type": "markdown",
      "source": [
        "- 최소 힙의 기본적인 기능을 구현\n",
        "- 파이썬에서 heapq 라이브러리를 이용하면 간단히 힙 구현"
      ],
      "metadata": {
        "id": "5qRuFt6Q1qoZ"
      }
    },
    {
      "cell_type": "markdown",
      "source": [
        "<img width=\"1323\" alt=\"스크린샷 2023-06-23 오후 7 59 31\" src=\"https://github.com/Zamoca42/TIL/assets/96982072/2c89a7b4-9754-4b27-b7de-f81aaeb16324\">"
      ],
      "metadata": {
        "id": "X7WLdGNc6NHS"
      }
    },
    {
      "cell_type": "markdown",
      "source": [
        "## 코드 구현"
      ],
      "metadata": {
        "id": "rgUzerOO6kB_"
      }
    },
    {
      "cell_type": "code",
      "execution_count": 2,
      "metadata": {
        "colab": {
          "base_uri": "https://localhost:8080/"
        },
        "id": "XqrSBLWj1YX2",
        "outputId": "d2405d6e-fea6-427f-b3c9-a09fb97df978"
      },
      "outputs": [
        {
          "output_type": "stream",
          "name": "stdout",
          "text": [
            "9\n",
            "0\n",
            "0\n",
            "12345678\n",
            "1\n",
            "2\n",
            "0\n",
            "0\n",
            "0\n",
            "0\n",
            "0\n",
            "0\n",
            "0\n"
          ]
        }
      ],
      "source": [
        "import heapq\n",
        "\n",
        "N = int(input())\n",
        "heap = []\n",
        "\n",
        "for _ in range(N):\n",
        "  x = int(input())\n",
        "  if x == 0:\n",
        "    if len(heap) != 0:\n",
        "      print(heapq.heappop(heap))\n",
        "    else:\n",
        "      print(0)\n",
        "  else:\n",
        "    heapq.heappush(heap, x)"
      ]
    },
    {
      "cell_type": "markdown",
      "source": [
        "## 소스 코드"
      ],
      "metadata": {
        "id": "i4oA3Wo96m04"
      }
    },
    {
      "cell_type": "code",
      "source": [
        "import heapq\n",
        "\n",
        "N = int(input())\n",
        "heap = []\n",
        "result = []\n",
        "\n",
        "for _ in range(N):\n",
        "  x = int(input())\n",
        "  if x == 0:\n",
        "    if heap:\n",
        "      result.append(heapq.heappop(heap))\n",
        "    else:\n",
        "      result.append(0)\n",
        "  else:\n",
        "    heapq.heappush(heap, x)\n",
        "\n",
        "for x in result:\n",
        "  print(x)"
      ],
      "metadata": {
        "colab": {
          "base_uri": "https://localhost:8080/"
        },
        "id": "Ne-nUb-n3_Sb",
        "outputId": "1a9fa22f-4816-42e1-f798-de7dcc156d5d"
      },
      "execution_count": 3,
      "outputs": [
        {
          "output_type": "stream",
          "name": "stdout",
          "text": [
            "9\n",
            "0\n",
            "12345678\n",
            "1\n",
            "2\n",
            "0\n",
            "0\n",
            "0\n",
            "0\n",
            "32\n",
            "0\n",
            "1\n",
            "2\n",
            "12345678\n",
            "0\n"
          ]
        }
      ]
    },
    {
      "cell_type": "markdown",
      "source": [
        "# 카드 정렬하기: https://www.acmicpc.net/problem/1715"
      ],
      "metadata": {
        "id": "VLEhUiLbEB0x"
      }
    },
    {
      "cell_type": "markdown",
      "source": [
        "- 문제 난이도: 하 (Easy)\n",
        "- 문제 유형: 힙, 자료구조, 그리디\n",
        "- 추천 풀이 시간: 20분"
      ],
      "metadata": {
        "id": "Q3Sgkw_VEGvj"
      }
    },
    {
      "cell_type": "markdown",
      "source": [
        "## 핵심 아이디어"
      ],
      "metadata": {
        "id": "yZ-J3pdbEEX7"
      }
    },
    {
      "cell_type": "markdown",
      "source": [
        "<img width=\"1323\" alt=\"스크린샷 2023-06-23 오후 9 03 31\" src=\"https://github.com/Zamoca42/TIL/assets/96982072/5f9e91a6-1be3-4207-911d-3375ebdfb9bc\">\n",
        "<img width=\"1323\" alt=\"스크린샷 2023-06-23 오후 9 03 46\" src=\"https://github.com/Zamoca42/TIL/assets/96982072/f4f28dd7-c76b-4ce2-a29b-41f46e2aa20b\">\n"
      ],
      "metadata": {
        "id": "y5l6VMjNJFdO"
      }
    },
    {
      "cell_type": "code",
      "source": [
        "import heapq\n",
        "\n",
        "n = int(input())\n",
        "heap = []\n",
        "result = 0\n",
        "\n",
        "for _ in range(n):\n",
        "  heapq.heappush(heap, int(input()))\n",
        "\n",
        "while len(heap) != 1:\n",
        "  card1 = heapq.heappop(heap)\n",
        "  card2 = heapq.heappop(heap)\n",
        "  sum_value = card1 + card2\n",
        "  result += sum_value\n",
        "  heapq.heappush(heap, sum_value)\n",
        "\n",
        "print(result)"
      ],
      "metadata": {
        "colab": {
          "base_uri": "https://localhost:8080/"
        },
        "id": "GHqzzraREMIj",
        "outputId": "acd4224d-9bd0-4c00-de3c-d6f1db717693"
      },
      "execution_count": 8,
      "outputs": [
        {
          "output_type": "stream",
          "name": "stdout",
          "text": [
            "3\n",
            "10\n",
            "20\n",
            "40\n",
            "100\n"
          ]
        }
      ]
    },
    {
      "cell_type": "markdown",
      "source": [
        "# 문제집: https://www.acmicpc.net/problem/1766"
      ],
      "metadata": {
        "id": "J2HMuZ5mLKkp"
      }
    },
    {
      "cell_type": "markdown",
      "source": [
        "- 문제 난이도: 중 (Medium)\n",
        "- 문제 유형: 힙, 위상 정렬\n",
        "- 추천 풀이 시간: 40분"
      ],
      "metadata": {
        "id": "EPZYcjrMLWmy"
      }
    },
    {
      "cell_type": "markdown",
      "source": [
        "## 핵심 아이디어"
      ],
      "metadata": {
        "id": "45Ifa6l6Lb5c"
      }
    },
    {
      "cell_type": "markdown",
      "source": [
        "- 본 문제는 전형적인 위상 정렬 문제\n",
        "- 위상 정렬은 순서가 정해져 있는 작업을 차례로 수행해야할 때, 순서를 결정해주는 알고리즘\n",
        "- 위상 정렬의 시간 복잡도는 $O(V + E)$로 문제를 해결\n",
        "\n",
        "<img width=\"1323\" alt=\"스크린샷 2023-06-23 오후 9 17 12\" src=\"https://github.com/Zamoca42/TIL/assets/96982072/431420dc-9140-4673-ba3d-388db5569778\">"
      ],
      "metadata": {
        "id": "4QUtYSFKLxqa"
      }
    },
    {
      "cell_type": "markdown",
      "source": [
        "\n",
        "<img width=\"1323\" alt=\"스크린샷 2023-06-23 오후 9 17 28\" src=\"https://github.com/Zamoca42/TIL/assets/96982072/b1bcb650-d640-4a15-91eb-e06573a367ee\">\n",
        "<img width=\"1323\" alt=\"스크린샷 2023-06-23 오후 9 17 51\" src=\"https://github.com/Zamoca42/TIL/assets/96982072/dd88d195-f7f4-4c25-ab61-bbccc29ba8f4\">\n",
        "<img width=\"1323\" alt=\"스크린샷 2023-06-23 오후 9 18 31\" src=\"https://github.com/Zamoca42/TIL/assets/96982072/bd926595-5dc3-49d6-84bf-358ca3932268\">\n",
        "<img width=\"1323\" alt=\"스크린샷 2023-06-23 오후 9 18 43\" src=\"https://github.com/Zamoca42/TIL/assets/96982072/65b753e5-a4b4-4e91-918d-62b504a5a6fa\">\n",
        "<img width=\"1303\" alt=\"스크린샷 2023-06-23 오후 9 18 55\" src=\"https://github.com/Zamoca42/TIL/assets/96982072/f0e368b7-4b20-4302-8a2d-ba34e6af5071\">\n",
        "<img width=\"1323\" alt=\"스크린샷 2023-06-23 오후 9 19 23\" src=\"https://github.com/Zamoca42/TIL/assets/96982072/ed3ce2ba-ddfe-43ee-8022-10c115bfd23a\">"
      ],
      "metadata": {
        "id": "hoVMKvh0Qxmp"
      }
    },
    {
      "cell_type": "code",
      "source": [
        "# import sys\n",
        "# input = sys.stdin.readline\n",
        "import heapq\n",
        "\n",
        "n, m = map(int, input().split())\n",
        "\n",
        "array = [[] for i in range(n + 1)]\n",
        "indegree = [0] * (n + 1)\n",
        "\n",
        "heap = []\n",
        "result = []\n",
        "\n",
        "for _ in range(m):\n",
        "  x, y = map(int, input().split())\n",
        "  array[x].append(y)\n",
        "  indegree[y] += 1\n",
        "\n",
        "for i in range(1, n + 1):\n",
        "  if indegree[i] == 0:\n",
        "    heapq.heappush(heap, i)\n",
        "\n",
        "while heap:\n",
        "  data = heapq.heappop(heap)\n",
        "  result.append(data)\n",
        "  for y in array[data]:\n",
        "    indegree[y] -= 1\n",
        "    if indegree[y] == 0:\n",
        "      heapq.heappush(heap, y)\n",
        "\n",
        "for i in result:\n",
        "  print(i, end=' ')"
      ],
      "metadata": {
        "colab": {
          "base_uri": "https://localhost:8080/"
        },
        "id": "LH9iTgGfGvkB",
        "outputId": "66ea04c2-8d97-41af-9c67-1e10f6091428"
      },
      "execution_count": 9,
      "outputs": [
        {
          "output_type": "stream",
          "name": "stdout",
          "text": [
            "4 2\n",
            "4 2\n",
            "3 1\n",
            "3 1 4 2 "
          ]
        }
      ]
    }
  ]
}