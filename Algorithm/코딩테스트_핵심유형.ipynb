{
  "nbformat": 4,
  "nbformat_minor": 0,
  "metadata": {
    "colab": {
      "provenance": [],
      "authorship_tag": "ABX9TyPvDhXUNSPKB14cXjnKL48a",
      "include_colab_link": true
    },
    "kernelspec": {
      "name": "python3",
      "display_name": "Python 3"
    },
    "language_info": {
      "name": "python"
    }
  },
  "cells": [
    {
      "cell_type": "markdown",
      "metadata": {
        "id": "view-in-github",
        "colab_type": "text"
      },
      "source": [
        "<a href=\"https://colab.research.google.com/github/Zamoca42/TIL/blob/main/Algorithm/%EC%BD%94%EB%94%A9%ED%85%8C%EC%8A%A4%ED%8A%B8_%ED%95%B5%EC%8B%AC%EC%9C%A0%ED%98%95.ipynb\" target=\"_parent\"><img src=\"https://colab.research.google.com/assets/colab-badge.svg\" alt=\"Open In Colab\"/></a>"
      ]
    },
    {
      "cell_type": "markdown",
      "source": [
        "# 문제 : https://www.acmicpc.net/problem/1874"
      ],
      "metadata": {
        "id": "lImhNd_ItNEZ"
      }
    },
    {
      "cell_type": "code",
      "execution_count": null,
      "metadata": {
        "colab": {
          "base_uri": "https://localhost:8080/"
        },
        "id": "MuP_HcsPqKCG",
        "outputId": "cc4b88e0-b4bb-4ba7-f642-fc91ff1bd863"
      },
      "outputs": [
        {
          "output_type": "stream",
          "name": "stdout",
          "text": [
            "5\n",
            "1\n",
            "2\n",
            "5\n",
            "3\n",
            "No\n",
            "4\n",
            "+\n",
            "-\n",
            "+\n",
            "-\n",
            "+\n",
            "+\n",
            "+\n",
            "-\n",
            "-\n"
          ]
        }
      ],
      "source": [
        "N = int(input())\n",
        "\n",
        "count = 1\n",
        "stack = []\n",
        "result = []\n",
        "\n",
        "for index in range(1, N + 1):\n",
        "   Data = int(input())\n",
        "   while count <= Data:\n",
        "    stack.append(count)\n",
        "    count += 1\n",
        "    result.append('+')\n",
        "   if stack[-1] == Data: # 스택의 최상위 원소가 데이터와 같을 때 출력\n",
        "    stack.pop()\n",
        "    result.append('-')\n",
        "   else:\n",
        "    print('No')\n",
        "    exit(0)\n",
        "\n",
        "print('\\n'.join(result))"
      ]
    },
    {
      "cell_type": "markdown",
      "source": [
        "# 출력 과정 : [pythontutor - p1874](https://pythontutor.com/visualize.html#code=N%20%3D%20int%28input%28%29%29%0A%0Acount%20%3D%201%0Astack%20%3D%20%5B%5D%0Aresult%20%3D%20%5B%5D%0A%0Afor%20index%20in%20range%281,%20N%20%2B%201%29%3A%0A%20%20%20Data%20%3D%20int%28input%28%29%29%0A%20%20%20while%20count%20%3C%3D%20Data%3A%0A%20%20%20%20stack.append%28count%29%0A%20%20%20%20count%20%2B%3D%201%0A%20%20%20%20result.append%28'%2B'%29%0A%20%20%20if%20stack%5B-1%5D%20%3D%3D%20Data%3A%20%23%20%EC%8A%A4%ED%83%9D%EC%9D%98%20%EC%B5%9C%EC%83%81%EC%9C%84%20%EC%9B%90%EC%86%8C%EA%B0%80%20%EB%8D%B0%EC%9D%B4%ED%84%B0%EC%99%80%20%EA%B0%99%EC%9D%84%20%EB%95%8C%20%EC%B6%9C%EB%A0%A5%0A%20%20%20%20stack.pop%28%29%0A%20%20%20%20result.append%28'-'%29%0A%20%20%20else%3A%0A%20%20%20%20print%28'No'%29%0A%20%20%20%20break%0A%0Aprint%28'%5Cn'.join%28result%29%29&cumulative=false&curInstr=86&heapPrimitives=nevernest&mode=display&origin=opt-frontend.js&py=3&rawInputLstJSON=%5B%228%22,%224%22,%223%22,%226%22,%228%22,%227%22,%225%22,%222%22,%221%22%5D&textReferences=false)"
      ],
      "metadata": {
        "id": "CacIv0Fj4MBS"
      }
    },
    {
      "cell_type": "markdown",
      "source": [
        "# 문제: https://www.acmicpc.net/problem/1966"
      ],
      "metadata": {
        "id": "S4nOV5Pv-DZu"
      }
    },
    {
      "cell_type": "code",
      "source": [
        "test_case = int(input())\n",
        "\n",
        "for _ in range(test_case):\n",
        "  n, m = list(map(int, input().split(' ')))\n",
        "  queue = list(map(int, input().split(' ')))\n",
        "  queue = [(i, idx) for idx, i in enumerate(queue)] # 인덱스와 중요도를 튜플로 생성\n",
        "\n",
        "  count = 0\n",
        "  while True:\n",
        "    if queue[0][0] == max(queue, key=lambda x: x[0])[0]:\n",
        "      count += 1\n",
        "      if queue[0][1] == m:\n",
        "        print(count)\n",
        "        break\n",
        "      else:\n",
        "        queue.pop(0)\n",
        "    else:\n",
        "      queue.append(queue.pop(0))"
      ],
      "metadata": {
        "colab": {
          "base_uri": "https://localhost:8080/"
        },
        "id": "NlW_8Hi--GMo",
        "outputId": "3a9ea71b-ad84-47fc-923b-eab5baed456f"
      },
      "execution_count": null,
      "outputs": [
        {
          "output_type": "stream",
          "name": "stdout",
          "text": [
            "3\n",
            "1 0\n",
            "5\n",
            "1\n",
            "4 2\n",
            "1 2 3 4\n",
            "2\n",
            "6 0\n",
            "1 1 9 1 1 1\n",
            "5\n"
          ]
        }
      ]
    },
    {
      "cell_type": "markdown",
      "source": [
        "# 문제 : https://www.acmicpc.net/problem/5397"
      ],
      "metadata": {
        "id": "21KICG9AKUQJ"
      }
    },
    {
      "cell_type": "code",
      "source": [
        "test_case = int(input())\n",
        "\n",
        "for _ in range(test_case):\n",
        "  left_stack = []\n",
        "  right_stack = []\n",
        "  data = input()\n",
        "  for i in data:\n",
        "    if i == '-':\n",
        "      if left_stack:\n",
        "        left_stack.pop()\n",
        "    elif i == '<':\n",
        "      if left_stack:\n",
        "        right_stack.append(left_stack.pop())\n",
        "    elif i == '>':\n",
        "      if right_stack:\n",
        "        left_stack.append(right_stack.pop())\n",
        "    else:\n",
        "      left_stack.append(i)\n",
        "  left_stack.extend(reversed(right_stack))\n",
        "  print(''.join(left_stack))"
      ],
      "metadata": {
        "colab": {
          "base_uri": "https://localhost:8080/"
        },
        "id": "zvuon349GPxp",
        "outputId": "422abdf4-eaa7-4d68-8f7b-e7db678b7018"
      },
      "execution_count": null,
      "outputs": [
        {
          "output_type": "stream",
          "name": "stdout",
          "text": [
            "2\n",
            "<<BP<A>>Cd-\n",
            "BAPC\n",
            "ThIsIsS3Cr3t\n",
            "ThIsIsS3Cr3t\n"
          ]
        }
      ]
    }
  ]
}