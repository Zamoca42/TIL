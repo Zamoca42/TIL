{
  "nbformat": 4,
  "nbformat_minor": 0,
  "metadata": {
    "colab": {
      "provenance": [],
      "authorship_tag": "ABX9TyPLklpYUa1ijqulGF1mrGsM",
      "include_colab_link": true
    },
    "kernelspec": {
      "name": "python3",
      "display_name": "Python 3"
    },
    "language_info": {
      "name": "python"
    }
  },
  "cells": [
    {
      "cell_type": "markdown",
      "metadata": {
        "id": "view-in-github",
        "colab_type": "text"
      },
      "source": [
        "<a href=\"https://colab.research.google.com/github/Zamoca42/TIL/blob/main/Algorithm/%EC%88%9C%EC%B0%A8_%ED%83%90%EC%83%89.ipynb\" target=\"_parent\"><img src=\"https://colab.research.google.com/assets/colab-badge.svg\" alt=\"Open In Colab\"/></a>"
      ]
    },
    {
      "cell_type": "markdown",
      "source": [
        "# 순차 탐색"
      ],
      "metadata": {
        "id": "nZLs9YowmrU5"
      }
    },
    {
      "cell_type": "markdown",
      "source": [
        "### 순차 탐색 (Sequential Search) 이란?\n",
        "* 탐색은 여러 데이터 중에서 원하는 데이터를 찾아내는 것을 의미\n",
        "* 데이터가 담겨있는 리스트를 앞에서부터 하나씩 비교해서 원하는 데이터를 찾는 방법"
      ],
      "metadata": {
        "id": "4rWW4tcbmt_y"
      }
    },
    {
      "cell_type": "markdown",
      "source": [
        "<div class=\"alert alert-block alert-warning\">\n",
        "<strong><font color=\"blue\" size=\"4em\">프로그래밍 연습</font></strong><br>\n",
        "임의 리스트가 다음과 같이 rand_data_list로 있을 때, 원하는 데이터의 위치를 리턴하는 순차탐색 알고리즘 작성해보기<br>\n",
        "\n",
        "- 가장 기본적인 방법이므로, 직접 작성해보겠습니다.\n",
        "\n",
        "- 원하는 데이터가 리스트에 없을 경우 -1을 리턴\n",
        "</div>"
      ],
      "metadata": {
        "id": "tHDm8FEDmxHo"
      }
    },
    {
      "cell_type": "code",
      "source": [
        "import random\n",
        "data_list = random.sample(range(100), 10)\n",
        "data_list"
      ],
      "metadata": {
        "colab": {
          "base_uri": "https://localhost:8080/"
        },
        "id": "6KoL-H357UZ7",
        "outputId": "362325a4-f1fe-4118-c30e-da2efd5ae134"
      },
      "execution_count": 4,
      "outputs": [
        {
          "output_type": "execute_result",
          "data": {
            "text/plain": [
              "[22, 20, 61, 91, 1, 50, 87, 56, 40, 36]"
            ]
          },
          "metadata": {},
          "execution_count": 4
        }
      ]
    },
    {
      "cell_type": "code",
      "source": [
        "def sequencial(data_list, search_data):\n",
        "    for index in range(len(data_list)):\n",
        "        if data_list[index] == search_data:\n",
        "            return index\n",
        "    return -1"
      ],
      "metadata": {
        "id": "-1WlPP3Xmwpk"
      },
      "execution_count": 5,
      "outputs": []
    },
    {
      "cell_type": "code",
      "source": [
        "sequencial(data_list, 4)"
      ],
      "metadata": {
        "colab": {
          "base_uri": "https://localhost:8080/"
        },
        "id": "55HwLXjrnpav",
        "outputId": "4417d008-d29a-40b3-83e5-de806239f856"
      },
      "execution_count": 6,
      "outputs": [
        {
          "output_type": "execute_result",
          "data": {
            "text/plain": [
              "-1"
            ]
          },
          "metadata": {},
          "execution_count": 6
        }
      ]
    },
    {
      "cell_type": "markdown",
      "source": [
        "### 알고리즘 분석\n",
        "* 최악의 경우 리스트 길이가 n일 때, n번 비교해야 함\n",
        "  - O(n)"
      ],
      "metadata": {
        "id": "GCqbEgGKnzsZ"
      }
    }
  ]
}