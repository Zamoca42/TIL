{
  "nbformat": 4,
  "nbformat_minor": 0,
  "metadata": {
    "colab": {
      "provenance": [],
      "authorship_tag": "ABX9TyN9vuwqX/zF9A7Gf1S2awPK",
      "include_colab_link": true
    },
    "kernelspec": {
      "name": "python3",
      "display_name": "Python 3"
    },
    "language_info": {
      "name": "python"
    }
  },
  "cells": [
    {
      "cell_type": "markdown",
      "metadata": {
        "id": "view-in-github",
        "colab_type": "text"
      },
      "source": [
        "<a href=\"https://colab.research.google.com/github/Zamoca42/TIL/blob/main/Algorithm/%EA%B8%B0%EB%B3%B8_%EC%A0%95%EB%A0%AC_%EC%95%8C%EA%B3%A0%EB%A6%AC%EC%A6%98_%ED%95%B5%EC%8B%AC_%EB%AC%B8%EC%A0%9C%ED%92%80%EC%9D%B4.ipynb\" target=\"_parent\"><img src=\"https://colab.research.google.com/assets/colab-badge.svg\" alt=\"Open In Colab\"/></a>"
      ]
    },
    {
      "cell_type": "markdown",
      "source": [
        "# 나이순 정렬: https://www.acmicpc.net/problem/10814"
      ],
      "metadata": {
        "id": "LylJIa4li2Wl"
      }
    },
    {
      "cell_type": "markdown",
      "source": [
        "- 문제 난이도: 하(Easy)\n",
        "- 문제 유형: 정렬\n",
        "- 추천 풀이 시간: 15분"
      ],
      "metadata": {
        "id": "WI764kjgjAc9"
      }
    },
    {
      "cell_type": "markdown",
      "source": [
        "## 핵심 아이디어"
      ],
      "metadata": {
        "id": "9xAIscxejE0j"
      }
    },
    {
      "cell_type": "markdown",
      "source": [
        "1. (나이, 이름)의 정보를 입력 받은 뒤에 나이를 기준으로 정렬\n",
        "2. 파이썬의 기본 정렬 라이브러리를 이용\n",
        "3. 나이가 동일한 경우, 먼저 입력된 이름 순서를 따르도록 <U>key 속성을 설정</U>"
      ],
      "metadata": {
        "id": "QBnTn98YjF9q"
      }
    },
    {
      "cell_type": "code",
      "execution_count": 2,
      "metadata": {
        "colab": {
          "base_uri": "https://localhost:8080/"
        },
        "id": "ngJCw8cKiuUg",
        "outputId": "92fd0a73-4f7f-49b5-85fd-106504be846e"
      },
      "outputs": [
        {
          "output_type": "stream",
          "name": "stdout",
          "text": [
            "3\n",
            "21 Junkyu\n",
            "21 Dohyun\n",
            "20 Sunyoung\n",
            "20 Sunyoung\n",
            "21 Junkyu\n",
            "21 Dohyun\n"
          ]
        }
      ],
      "source": [
        "# import sys\n",
        "# input = sys.stdin.readline\n",
        "\n",
        "N = int(input())\n",
        "result = []\n",
        "\n",
        "for _ in range(N):\n",
        "  data = list(input().split())\n",
        "  age, name = int(data[0]), data[1]\n",
        "  result.append((age, name))\n",
        "\n",
        "result.sort(key=lambda x: x[0])\n",
        "\n",
        "for (age, name) in result:\n",
        "  print(age, name)"
      ]
    },
    {
      "cell_type": "markdown",
      "source": [
        "# 좌표 정렬하기 : https://www.acmicpc.net/problem/11650"
      ],
      "metadata": {
        "id": "JsqNWQ1n0dN4"
      }
    },
    {
      "cell_type": "markdown",
      "source": [
        "- 문제 난이도: 하(Easy)\n",
        "- 문제 유형: 정렬\n",
        "- 추천 풀이 시간: 15분"
      ],
      "metadata": {
        "id": "foMFBMU81ZaV"
      }
    },
    {
      "cell_type": "markdown",
      "source": [
        "## 핵심 아이디어"
      ],
      "metadata": {
        "id": "3h-Q7mDz1fcW"
      }
    },
    {
      "cell_type": "markdown",
      "source": [
        "1. (x 좌표, y 좌표)를 입력 받은 뒤 x 좌표,y 좌표 순서대로 차례대로 오름차순 정렬\n",
        "2. 파이썬의 기본 정렬 라이브러리는 기본적으로 튜플의 인덱스 순서대로 오름차순 정렬\n",
        "3. 따라서 단순히 기본 정렬 라이브러리를 이용 (key 속성 설정 없이)"
      ],
      "metadata": {
        "id": "9uiFAv7X1g-l"
      }
    },
    {
      "cell_type": "code",
      "source": [
        "# import sys\n",
        "# input = sys.stdin.readline\n",
        "\n",
        "result = []\n",
        "\n",
        "for _ in range(int(input())):\n",
        "  x, y = map(int, input().split(' '))\n",
        "  result.append((x, y))\n",
        "\n",
        "result.sort()\n",
        "\n",
        "for x, y in result:\n",
        "  print(x, y)"
      ],
      "metadata": {
        "colab": {
          "base_uri": "https://localhost:8080/"
        },
        "id": "OjVn-uan1Y2e",
        "outputId": "231fb54c-b9a5-4f53-ae3d-d6b963e0dfb5"
      },
      "execution_count": 4,
      "outputs": [
        {
          "output_type": "stream",
          "name": "stdout",
          "text": [
            "5\n",
            "3 4\n",
            "1 1\n",
            "1 -1\n",
            "2 2\n",
            "3 3\n",
            "1 -1\n",
            "1 1\n",
            "2 2\n",
            "3 3\n",
            "3 4\n"
          ]
        }
      ]
    },
    {
      "cell_type": "markdown",
      "source": [
        "# 수 정렬하기 3: https://www.acmicpc.net/problem/10989"
      ],
      "metadata": {
        "id": "rnce12xqM1bT"
      }
    },
    {
      "cell_type": "markdown",
      "source": [
        "- 문제 난이도: 하(Easy)\n",
        "- 문제 유형: 정렬\n",
        "- 추천 풀이 시간: 20분"
      ],
      "metadata": {
        "id": "efqU90zIM7S-"
      }
    },
    {
      "cell_type": "markdown",
      "source": [
        "## 핵심 아이디어"
      ],
      "metadata": {
        "id": "AUcvclHCNBm3"
      }
    },
    {
      "cell_type": "markdown",
      "source": [
        "1. 데이터의 개수가 최대 10,000,000개\n",
        "2. 시간 복잡도 $O(N)$의 정렬 알고리즘을 이용해야 합니다.\n",
        "3. 수의 범위가 1 ~ 10,000이므로 계수 정렬을 이용할 수 있습니다."
      ],
      "metadata": {
        "id": "qtPKQ5VxNPzy"
      }
    },
    {
      "cell_type": "code",
      "source": [
        "# import sys\n",
        "# input = sys.stdin.readline\n",
        "\n",
        "N = int(input())\n",
        "data = [0] * (N + 1)\n",
        "\n",
        "for _ in range(N):\n",
        "  number = int(input())\n",
        "  data[number] += 1\n",
        "\n",
        "for i in range(1, len(data)):\n",
        "  if data[i] != 0:\n",
        "    for j in range(data[i]):\n",
        "      print(i)"
      ],
      "metadata": {
        "colab": {
          "base_uri": "https://localhost:8080/"
        },
        "id": "0iXoQ_ry2qXm",
        "outputId": "f9a21ee4-3e7e-4764-fc61-525954b3133c"
      },
      "execution_count": 7,
      "outputs": [
        {
          "output_type": "stream",
          "name": "stdout",
          "text": [
            "10\n",
            "5\n",
            "2\n",
            "3\n",
            "1\n",
            "4\n",
            "2\n",
            "3\n",
            "5\n",
            "1\n",
            "7\n",
            "1\n",
            "1\n",
            "2\n",
            "2\n",
            "3\n",
            "3\n",
            "4\n",
            "5\n",
            "5\n",
            "7\n"
          ]
        }
      ]
    }
  ]
}