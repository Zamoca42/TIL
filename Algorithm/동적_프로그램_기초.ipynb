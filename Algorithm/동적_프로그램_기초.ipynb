{
  "nbformat": 4,
  "nbformat_minor": 0,
  "metadata": {
    "colab": {
      "provenance": [],
      "authorship_tag": "ABX9TyNlKTteqeSeV43xAV0zeaIU",
      "include_colab_link": true
    },
    "kernelspec": {
      "name": "python3",
      "display_name": "Python 3"
    },
    "language_info": {
      "name": "python"
    }
  },
  "cells": [
    {
      "cell_type": "markdown",
      "metadata": {
        "id": "view-in-github",
        "colab_type": "text"
      },
      "source": [
        "<a href=\"https://colab.research.google.com/github/Zamoca42/TIL/blob/main/Algorithm/%EB%8F%99%EC%A0%81_%ED%94%84%EB%A1%9C%EA%B7%B8%EB%9E%A8_%EA%B8%B0%EC%B4%88.ipynb\" target=\"_parent\"><img src=\"https://colab.research.google.com/assets/colab-badge.svg\" alt=\"Open In Colab\"/></a>"
      ]
    },
    {
      "cell_type": "markdown",
      "source": [
        "# 01타일: https://www.acmicpc.net/problem/1904"
      ],
      "metadata": {
        "id": "onkMdU9afaYs"
      }
    },
    {
      "cell_type": "markdown",
      "source": [
        "- 문제 난이도: 하 (Easy)\n",
        "- 문제 유형: 동적 프로그래밍\n",
        "- 추천 풀이 시간: 20분"
      ],
      "metadata": {
        "id": "wa0UTn247saJ"
      }
    },
    {
      "cell_type": "markdown",
      "source": [
        "## 핵심 아이디어"
      ],
      "metadata": {
        "id": "KfNiarPFfd_Y"
      }
    },
    {
      "cell_type": "markdown",
      "source": [
        "- 사용할 수 있는 타일의 종류는 2개\n",
        "- 두 가지 종류의 타일을 이용하여, N 길이의 수열을 만드는 모든 경우의 수를 구해야함\n",
        "- 가장 전형적인 동적 프로그래밍 문제\n",
        "- N이 최대 1,000,000이므로 시간 복잡도 $O(N)$으로 해결\n"
      ],
      "metadata": {
        "id": "6Hc1vB-Ef6CA"
      }
    },
    {
      "cell_type": "markdown",
      "source": [
        "<img width=\"1532\" alt=\"스크린샷 2023-06-25 오후 9 22 33\" src=\"https://github.com/Zamoca42/TIL/assets/96982072/93464094-f836-4615-94c1-83c8b4139b15\">"
      ],
      "metadata": {
        "id": "b0ggYK38hQIy"
      }
    },
    {
      "cell_type": "markdown",
      "source": [
        "<img width=\"1542\" alt=\"스크린샷 2023-06-25 오후 9 23 19\" src=\"https://github.com/Zamoca42/TIL/assets/96982072/12c740cb-0b0d-4c35-935b-2a3f0c39836c\">\n",
        "<img width=\"1539\" alt=\"스크린샷 2023-06-25 오후 9 23 28\" src=\"https://github.com/Zamoca42/TIL/assets/96982072/7bfb2b9e-20e7-42f6-8362-c048a6b43404\">\n",
        "<img width=\"1537\" alt=\"스크린샷 2023-06-25 오후 9 23 33\" src=\"https://github.com/Zamoca42/TIL/assets/96982072/34fb83fc-a25d-46d0-aaf7-db5c18f3674d\">"
      ],
      "metadata": {
        "id": "4qXl0hO7hKnb"
      }
    },
    {
      "cell_type": "code",
      "execution_count": 3,
      "metadata": {
        "colab": {
          "base_uri": "https://localhost:8080/"
        },
        "id": "f7TM1demaUf7",
        "outputId": "6ea046cb-298b-4052-9d36-28337113d2bc"
      },
      "outputs": [
        {
          "output_type": "stream",
          "name": "stdout",
          "text": [
            "4\n",
            "5\n"
          ]
        }
      ],
      "source": [
        "n = int(input())\n",
        "dp = [0] * 1000001\n",
        "\n",
        "dp[1], dp[2] = 1, 2\n",
        "\n",
        "for index in range(3, n + 1):\n",
        "  dp[index] = (dp[index - 1] + dp[index - 2]) %15746\n",
        "\n",
        "print(dp[n])"
      ]
    },
    {
      "cell_type": "markdown",
      "source": [
        "# 평범한 배낭: https://www.acmicpc.net/problem/12865"
      ],
      "metadata": {
        "id": "iLdaG3Mnkxa_"
      }
    },
    {
      "cell_type": "markdown",
      "source": [
        "- 문제 난이도: 하 (Easy)\n",
        "- 문제 유형: 동적 프로그래밍\n",
        "- 추천 풀이 시간: 30분"
      ],
      "metadata": {
        "id": "XBsAiLXNk33j"
      }
    },
    {
      "cell_type": "markdown",
      "source": [
        "## 핵심 아이디어"
      ],
      "metadata": {
        "id": "bX0z-3gfo80C"
      }
    },
    {
      "cell_type": "markdown",
      "source": [
        "- 배낭 문제(Knapsack Problem)으로도 알려져 있는 전형적인 동적 프로그래밍 문제\n",
        "- 물품의 수가 N, 배낭에 담을 수 있는 무게가 K\n",
        "- 동적 프로그래밍을 이용하여 시간복잡도 $O(NK)$로 문제를 해결"
      ],
      "metadata": {
        "id": "i0weormvo-UU"
      }
    },
    {
      "cell_type": "markdown",
      "source": [
        "\n",
        "<img width=\"1531\" alt=\"스크린샷 2023-06-25 오후 10 01 08\" src=\"https://github.com/Zamoca42/TIL/assets/96982072/176686bd-c4ea-4bc4-bf77-e4e6d9099f35\">\n",
        "<img width=\"1551\" alt=\"스크린샷 2023-06-25 오후 10 01 13\" src=\"https://github.com/Zamoca42/TIL/assets/96982072/d9e83a69-dbcf-4956-a2d4-73ee85a127e0\">\n",
        "<img width=\"1538\" alt=\"스크린샷 2023-06-25 오후 10 01 17\" src=\"https://github.com/Zamoca42/TIL/assets/96982072/40f1fc1e-ddc8-4553-9161-0c0c89721bfb\">\n",
        "<img width=\"1543\" alt=\"스크린샷 2023-06-25 오후 10 01 19\" src=\"https://github.com/Zamoca42/TIL/assets/96982072/56447745-e6fd-49c8-b8d5-a239f1ee4b42\">\n",
        "<img width=\"1527\" alt=\"스크린샷 2023-06-25 오후 10 01 23\" src=\"https://github.com/Zamoca42/TIL/assets/96982072/b74a449c-5421-47d6-8ed8-beb8b0e5ea99\">\n",
        "<img width=\"1541\" alt=\"스크린샷 2023-06-25 오후 10 01 26\" src=\"https://github.com/Zamoca42/TIL/assets/96982072/cea91d0d-f8b9-4fab-9f3f-2395db991ebf\">"
      ],
      "metadata": {
        "id": "kf4PbopGqWGj"
      }
    },
    {
      "cell_type": "markdown",
      "source": [
        "[12865 - pythontutor](https://pythontutor.com/visualize.html#code=n,%20k%20%3D%20map%28int,%20input%28%29.split%28%29%29%0Adp%20%3D%20%5B%5B0%5D%20*%20%28k%20%2B%201%29%20for%20_%20in%20range%28n%20%2B%201%29%5D%0A%0Afor%20i%20in%20range%281,%20n%20%2B%201%29%3A%0A%20%20weight,%20value%20%3D%20map%28int,%20input%28%29.split%28%29%29%0A%20%20for%20j%20in%20range%281,%20k%20%2B%201%29%3A%0A%20%20%20%20if%20j%20%3C%20weight%3A%0A%20%20%20%20%20%20dp%5Bi%5D%5Bj%5D%20%3D%20dp%5Bi%20-%201%5D%5Bj%5D%0A%20%20%20%20else%3A%0A%20%20%20%20%20%20dp%5Bi%5D%5Bj%5D%20%3D%20max%28dp%5Bi%20-%201%5D%5Bj%5D,%20dp%5Bi%20-%201%5D%5Bj%20-%20weight%5D%20%2B%20value%29%0A%0Aprint%28dp%5Bn%5D%5Bk%5D%29&cumulative=false&curInstr=108&heapPrimitives=nevernest&mode=display&origin=opt-frontend.js&py=3&rawInputLstJSON=%5B%224%207%22,%226%2013%22,%224%208%22,%223%206%22,%225%2012%22%5D&textReferences=false)"
      ],
      "metadata": {
        "id": "OmQjN8oNol1X"
      }
    },
    {
      "cell_type": "code",
      "source": [
        "n, k = map(int, input().split())\n",
        "dp = [[0] * (k + 1) for _ in range(n + 1)]\n",
        "\n",
        "for i in range(1, n + 1):\n",
        "  weight, value = map(int, input().split())\n",
        "  for j in range(1, k + 1):\n",
        "    if j < weight:\n",
        "      dp[i][j] = dp[i - 1][j]\n",
        "    else:\n",
        "      dp[i][j] = max(dp[i - 1][j], dp[i - 1][j - weight] + value)\n",
        "\n",
        "print(dp[n][k])"
      ],
      "metadata": {
        "id": "m9zqABEPfNbn"
      },
      "execution_count": null,
      "outputs": []
    },
    {
      "cell_type": "markdown",
      "source": [
        "# 가장 긴 증가하는 부분수열: https://www.acmicpc.net/problem/11053"
      ],
      "metadata": {
        "id": "ai43VDFStpsH"
      }
    },
    {
      "cell_type": "markdown",
      "source": [
        "- 문제 난이도: 하 (Easy)\n",
        "- 문제 유형: 동적 프로그래밍, LIS\n",
        "- 추천 풀이 시간: 30분"
      ],
      "metadata": {
        "id": "XdVVUh_rtypH"
      }
    },
    {
      "cell_type": "markdown",
      "source": [
        "## 핵심 아이디어"
      ],
      "metadata": {
        "id": "KYIYkd30ttjg"
      }
    },
    {
      "cell_type": "markdown",
      "source": [
        "- 가장 긴 증가하는 부분 수열(LIS) 문제는, 전형적인 동적 프로그래밍 문제\n",
        "- 수열의 크기가 N일 때, 기본적인 동적 프로그래밍 알고리즘으로 $O(N^2)에 해결$"
      ],
      "metadata": {
        "id": "bhD2l59Et13I"
      }
    }
  ]
}