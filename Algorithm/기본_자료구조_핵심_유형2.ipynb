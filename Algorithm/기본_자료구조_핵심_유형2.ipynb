{
  "nbformat": 4,
  "nbformat_minor": 0,
  "metadata": {
    "colab": {
      "provenance": [],
      "authorship_tag": "ABX9TyNoZzl48Eeq+jmBwcKLV8Xt",
      "include_colab_link": true
    },
    "kernelspec": {
      "name": "python3",
      "display_name": "Python 3"
    },
    "language_info": {
      "name": "python"
    }
  },
  "cells": [
    {
      "cell_type": "markdown",
      "metadata": {
        "id": "view-in-github",
        "colab_type": "text"
      },
      "source": [
        "<a href=\"https://colab.research.google.com/github/Zamoca42/TIL/blob/main/Algorithm/%EA%B8%B0%EB%B3%B8_%EC%9E%90%EB%A3%8C%EA%B5%AC%EC%A1%B0_%ED%95%B5%EC%8B%AC_%EC%9C%A0%ED%98%952.ipynb\" target=\"_parent\"><img src=\"https://colab.research.google.com/assets/colab-badge.svg\" alt=\"Open In Colab\"/></a>"
      ]
    },
    {
      "cell_type": "markdown",
      "source": [
        "# 오큰수 : https://www.acmicpc.net/problem/17298"
      ],
      "metadata": {
        "id": "5t9tV9CbFyNU"
      }
    },
    {
      "cell_type": "markdown",
      "source": [
        "문제 난이도: 중상\n",
        "문제 유형: 자료구조, 스택\n",
        "추천 풀이 시간: 50분"
      ],
      "metadata": {
        "id": "PFnG3dFJ2MNH"
      }
    },
    {
      "cell_type": "markdown",
      "source": [
        "## 핵심 아이디어"
      ],
      "metadata": {
        "id": "59O3FER62Rjk"
      }
    },
    {
      "cell_type": "markdown",
      "source": [
        "- 본 문제는 스택(stack) 자료구조를 이용해 해결할 수 있는 문제입니다.\n",
        "- 다양한 예시를 생각해 보며 시뮬레이션 해보면 아이디어를 떠올리기 수월합니다."
      ],
      "metadata": {
        "id": "IcQqdNyg1-4P"
      }
    },
    {
      "cell_type": "markdown",
      "source": [
        "**[알고리즘 요약]**\n",
        "\n",
        "- 수 𝑥를 하나씩 확인하며, 내림차순 혹은 같은 값의 𝑥가 나오는 경우 스택에 삽입한다.\n",
        "- 더 큰 수(오름차순) 𝑥가 나왔을 때, 𝑥는 앞선 데이터에 대해서 오큰수가 될 수 있다.\n",
        "  - 따라서 스택의 𝑝𝑜𝑝()을 이용해 역방향으로 확인하면서 오큰수를 기록한다.\n",
        "  - 만약 역방향의 수가 𝑥보다 크거나 같다면 멈추고, 해당 수부터 다시 내림차순/오름차순\n",
        "여부를 확인한다.\n",
        "- 동작 과정상 오른쪽으로 이동한 뒤에 다시 왼쪽으로(역방향으로)\n",
        "이동하는 것을 반복합니다.\n",
        "- 결과적으로 시간 복잡도 𝑂(𝑁) 으로 해결할 수 있습니다."
      ],
      "metadata": {
        "id": "UqyUQtH8TTOA"
      }
    },
    {
      "cell_type": "markdown",
      "source": [
        "<img width=\"1099\" alt=\"스크린샷 2023-06-15 오후 6 07 47\" src=\"https://github.com/Zamoca42/TIL/assets/96982072/b2c5e709-bb37-4737-b1da-61ca0ef34e86\">\n",
        "<img width=\"1099\" alt=\"스크린샷 2023-06-15 오후 6 08 11\" src=\"https://github.com/Zamoca42/TIL/assets/96982072/7169d622-3618-4aa2-bade-3972156e3632\">\n",
        "<img width=\"1099\" alt=\"스크린샷 2023-06-15 오후 6 08 28\" src=\"https://github.com/Zamoca42/TIL/assets/96982072/7295e984-cd13-4936-9c8f-7b4a6bf0350e\">\n",
        "<img width=\"1099\" alt=\"스크린샷 2023-06-15 오후 6 08 36\" src=\"https://github.com/Zamoca42/TIL/assets/96982072/2b9e37a6-8c6c-4cf6-9f3b-31d3b6514cb8\">\n"
      ],
      "metadata": {
        "id": "KFZNHD3mT0t8"
      }
    },
    {
      "cell_type": "code",
      "execution_count": 4,
      "metadata": {
        "colab": {
          "base_uri": "https://localhost:8080/"
        },
        "id": "D_5uNy1QFC8Y",
        "outputId": "1dfc06b6-97d4-464d-b8ed-d76131cf3d45"
      },
      "outputs": [
        {
          "output_type": "stream",
          "name": "stdout",
          "text": [
            "4\n",
            "3 5 2 7\n",
            "5 7 7 -1 "
          ]
        }
      ],
      "source": [
        "n = int(input())\n",
        "n_list = list(map(int, input().split()))\n",
        "stack = []\n",
        "NGE = [-1] * n # 오큰수 배열\n",
        "\n",
        "for i in range(n):\n",
        "  x = n_list[i] # 하나씩 확인\n",
        "  if len(stack) == 0 or stack[-1][0] >= x: # 내림차순\n",
        "    stack.append((x, i)) # (수, 인덱스) 형태\n",
        "  else: # 오름차순\n",
        "    while len(stack) > 0: # 역방향으로 하나씩 꺼내기\n",
        "      previous, index = stack.pop()\n",
        "      if previous >= x: # 크거나 같은 이전 원소를 만났다면 다시 삽입\n",
        "        stack.append((previous, index))\n",
        "        break\n",
        "      else:\n",
        "        NGE[index] = x # 오큰수 기록\n",
        "    stack.append((x, i)) # (수, 인덱스) 형태로 삽입\n",
        "\n",
        "for x in NGE: # 오큰수를 하나씩 출력\n",
        "  print(x, end=' ')"
      ]
    },
    {
      "cell_type": "markdown",
      "source": [
        "# 회전하는 큐 : https://www.acmicpc.net/problem/1021"
      ],
      "metadata": {
        "id": "QX9eYaliYNFS"
      }
    },
    {
      "cell_type": "markdown",
      "source": [
        "문제 난이도: 하(Easy)\n",
        "문제 유형: 자료구조, 덱\n",
        "추천 풀이 시간: 30분"
      ],
      "metadata": {
        "id": "i4iUd1-D2bJ4"
      }
    },
    {
      "cell_type": "markdown",
      "source": [
        "## 핵심 아이디어"
      ],
      "metadata": {
        "id": "scMFAi5E2XEk"
      }
    },
    {
      "cell_type": "markdown",
      "source": [
        "- 양방향 순환 큐의 기능은 덱(deque)을 이용해 대체할 수 있습니다.\n",
        "  1. 회전 연산 (왼쪽으로 돌리기): 𝑝𝑜𝑝𝑙𝑒𝑓𝑡()- 𝑎𝑝𝑝𝑒𝑛𝑑()\n",
        "  2. 회전 연산 (오른쪽으로 돌리기): 𝑝𝑜𝑝()- 𝑎𝑝𝑝𝑒𝑛𝑑𝑙𝑒𝑓𝑡()\n",
        "  3. 추출 연산 (앞에서 꺼내기): 𝑝𝑜𝑝𝑙𝑒𝑓𝑡()"
      ],
      "metadata": {
        "id": "Rwo7V1BgYVEr"
      }
    },
    {
      "cell_type": "markdown",
      "source": [
        "**[알고리즘 요약]**\n",
        "- 먼저 번호(index)가 1부터 시작하도록 𝑁개의 데이터를 덱(deque)에 삽입한다.\n",
        "- 이후에 M개의 뽑아야 하는 인덱스들이 주어질 때는 다음과 같이 한다.\n",
        "  - 매번 왼쪽과 오른쪽 중에서 어디가 더 가까운지 먼저 확인하여, 더 가까운 쪽으로\n",
        "연속적으로\"왼쪽으로 돌리기\"나\"오른쪽으로 돌리기\"를 사용한 뒤에 원소를 뽑는다.\n",
        "  - 만약 [1, 2, 3, 4, 5, 6]처럼 개수가 짝수라면, [o, o, o, o, x, x] 위치는 왼쪽으로 돌리기\n",
        "  - 만약 [1, 2, 3, 4, 5]처럼 개수가 홀수라면, [o, o, o, x, x] 위치는 왼쪽으로 돌리기\n",
        "- 이러한 간단한 알고리즘으로 항상 최적의 해를 보장할 수 있다.\n",
        "꺼내야 하는 원소는 순서대로 이미 정해져 있기 때문이다."
      ],
      "metadata": {
        "id": "PKJSGp5Zs7zl"
      }
    },
    {
      "cell_type": "code",
      "source": [
        "from collections import deque\n",
        "\n",
        "N, M = map(int, input().split())\n",
        "targets = list(map(int, input().split()))\n",
        "d = deque([i for i in range(1, N + 1)])\n",
        "count = 0\n",
        "\n",
        "for target in targets:\n",
        "    index = d.index(target)\n",
        "    if index <= len(d) // 2:\n",
        "      for i in range(index):\n",
        "        x = d.popleft()\n",
        "        d.append(x)\n",
        "        count += 1\n",
        "    else:\n",
        "      for i in range(len(d) - index):\n",
        "        x = d.pop()\n",
        "        d.appendleft(x)\n",
        "        count += 1\n",
        "    d.popleft()\n",
        "\n",
        "print(count)"
      ],
      "metadata": {
        "colab": {
          "base_uri": "https://localhost:8080/"
        },
        "id": "7fsZH-6PKZLn",
        "outputId": "29577554-6fec-48c4-8dc3-b557f75bb2cf"
      },
      "execution_count": 7,
      "outputs": [
        {
          "output_type": "stream",
          "name": "stdout",
          "text": [
            "10 3\n",
            "2 9 5\n",
            "8\n"
          ]
        }
      ]
    },
    {
      "cell_type": "markdown",
      "source": [
        "# 요세푸스 문제 0: https://www.acmicpc.net/problem/11866"
      ],
      "metadata": {
        "id": "c-fyJtkStKqP"
      }
    },
    {
      "cell_type": "markdown",
      "source": [
        "문제 난이도: 하(Easy)\n",
        "문제 유형: 자료구조, 덱\n",
        "추천 풀이 시간: 30분"
      ],
      "metadata": {
        "id": "syf5eIeg2gLb"
      }
    },
    {
      "cell_type": "markdown",
      "source": [
        "## 핵심 아이디어"
      ],
      "metadata": {
        "id": "31HTx2KN2eRJ"
      }
    },
    {
      "cell_type": "markdown",
      "source": [
        "• 회전 연산을 포함하는 큐의 기능은 덱(deque)을 이용해 대체할 수 있습니다.\n",
        "  1. 회전 연산 (왼쪽으로 돌리기): 𝑝𝑜𝑝𝑙𝑒𝑓𝑡()- 𝑎𝑝𝑝𝑒𝑛𝑑()\n",
        "  2. 추출 연산 (앞에서 꺼내기): 𝑝𝑜𝑝𝑙𝑒𝑓𝑡()"
      ],
      "metadata": {
        "id": "lzM2T0SgtS-A"
      }
    },
    {
      "cell_type": "markdown",
      "source": [
        "**[알고리즘 요약]**\n",
        "- 먼저 번호(index)가 1부터 시작하도록 𝑁개의 데이터를 덱(deque)에 삽입한다.\n",
        "- 덱(deque)이 빌 때까지 계속해서 원소를 추출한다.\n",
        "- 매번 K-1개만큼\"왼쪽으로 돌리기\"를 수행하고, 1개를 그냥 추출한다.\n",
        "- 데이터의 개수가 최대 1,000개이므로, 이러한 시뮬레이션으로 간단히 해결할 수 있다."
      ],
      "metadata": {
        "id": "kXxTyOW011gD"
      }
    },
    {
      "cell_type": "code",
      "source": [
        "import sys\n",
        "from collections import deque\n",
        "\n",
        "input = sys.stdin.readline\n",
        "\n",
        "N, K = map(int, input().split())\n",
        "d = deque([i for i in range(1, N + 1)])\n",
        "result = []\n",
        "\n",
        "for _ in range(N):\n",
        "  for index in range(K - 1):\n",
        "    x = d.popleft()\n",
        "    d.append(x)\n",
        "  result.append(d.popleft())\n",
        "\n",
        "print('<', end='')\n",
        "for i in range(len(result)):\n",
        "  if i < len(result) - 1:\n",
        "    print(result[i], end=', ')\n",
        "  else: # 마지막 원소\n",
        "    print(result[i], end='')\n",
        "print('>')"
      ],
      "metadata": {
        "colab": {
          "base_uri": "https://localhost:8080/"
        },
        "id": "5ETH3PgZtSll",
        "outputId": "be6517c7-fc48-44b2-fed3-ec94cbb3944b"
      },
      "execution_count": 14,
      "outputs": [
        {
          "output_type": "stream",
          "name": "stdout",
          "text": [
            "7 3\n",
            "<3, 6, 2, 7, 5, 1, 4>\n"
          ]
        }
      ]
    }
  ]
}