{
  "nbformat": 4,
  "nbformat_minor": 0,
  "metadata": {
    "colab": {
      "provenance": [],
      "authorship_tag": "ABX9TyObo39yfPoGyFpajnH9BPAz",
      "include_colab_link": true
    },
    "kernelspec": {
      "name": "python3",
      "display_name": "Python 3"
    },
    "language_info": {
      "name": "python"
    }
  },
  "cells": [
    {
      "cell_type": "markdown",
      "metadata": {
        "id": "view-in-github",
        "colab_type": "text"
      },
      "source": [
        "<a href=\"https://colab.research.google.com/github/Zamoca42/TIL/blob/main/Algorithm/%EB%8F%99%EC%A0%81%EA%B3%84%ED%9A%8D%EB%B2%95_%EA%B4%80%EB%A0%A8%EB%AC%B8%EC%A0%9C.ipynb\" target=\"_parent\"><img src=\"https://colab.research.google.com/assets/colab-badge.svg\" alt=\"Open In Colab\"/></a>"
      ]
    },
    {
      "cell_type": "markdown",
      "source": [
        "### 실전 코딩 테스트 - 동적 계획법"
      ],
      "metadata": {
        "id": "9L0Q2fQ0tvpX"
      }
    },
    {
      "cell_type": "markdown",
      "source": [
        "### 1. 연습 문제: https://www.acmicpc.net/problem/11726"
      ],
      "metadata": {
        "id": "95Lx2DDQtwUJ"
      }
    },
    {
      "cell_type": "markdown",
      "source": [
        "- 동적계획법 (DP 라고 많이 부름)\n",
        "  - 입력 크기가 작은 부분 문제들을 해결한 후, 해당 부분 문제의 해를 활용해서, 보다 큰 크기의 부분 문제를 해결, 최종적으로 전체 문제를 해결하는 알고리즘\n",
        "  - 상향식 접근법으로, 가장 최하위 해답을 구한 후, 이를 저장하고, 해당 결과값을 이용해서 상위 문제를 풀어가는 방식 \n",
        "  - Memoization 기법을 사용함\n",
        "    - Memoization (메모이제이션) 이란: 프로그램 실행 시 이전에 계산한 값을 저장하여, 다시 계산하지 않도록 하여 전체 실행 속도를 빠르게 하는 기술\n",
        "  - 문제를 잘게 쪼갤 때, 부분 문제는 중복되어, 재활용됨\n",
        "    - 예: 피보나치 수열"
      ],
      "metadata": {
        "id": "Wq-feLoV3Gej"
      }
    },
    {
      "cell_type": "markdown",
      "source": [
        "### 풀이 전략\n",
        "\n",
        "- 점화식 찾기\n",
        "  - 두개의 항 사이에 성립하는 관계식\n"
      ],
      "metadata": {
        "id": "lsxzb2tZ3hnf"
      }
    },
    {
      "cell_type": "markdown",
      "source": [
        "(n = 1) -> 1  \n",
        "(n = 2) -> 2  \n",
        "(n = 3) -> 3  \n",
        "(n = 4) -> 5  \n",
        "(n = 5) -> 8  \n",
        "\n",
        "f(n) = f(n-1) + f(n-2)  \n",
        "<br>\n",
        "예시) f(5) = f(4) + f(3)"
      ],
      "metadata": {
        "id": "tIH899pqzlwc"
      }
    },
    {
      "cell_type": "markdown",
      "source": [
        "> 일반적인 동적 계획법 문제는<br>\n",
        "> 통상 코드 자체는 간결하므로,\n",
        "> **가장 적은 경우의 수부터 계산을 해본 후, 패턴을 찾아,** 식(점화식)을 세우는 것이 핵심!"
      ],
      "metadata": {
        "id": "6Hh31I8w3gVz"
      }
    },
    {
      "cell_type": "markdown",
      "source": [
        "#### 구현 코드"
      ],
      "metadata": {
        "id": "4cFgk0CGzOJt"
      }
    },
    {
      "cell_type": "markdown",
      "source": [
        "1. 빈리스트 만들기 (입력 값에 따른)\n",
        "2. 초기 값 설정\n",
        "3. 점화식 기반 계산값 적용"
      ],
      "metadata": {
        "id": "2s3yeyoQ36NK"
      }
    },
    {
      "cell_type": "code",
      "source": [
        "dp = [0] * 1001\n",
        "\n",
        "dp[1] = 1\n",
        "dp[2] = 2"
      ],
      "metadata": {
        "id": "LH-wl46vuGQ6"
      },
      "execution_count": 7,
      "outputs": []
    },
    {
      "cell_type": "code",
      "source": [
        "for index in range(3, 1001):\n",
        "  dp[index] = dp[index - 1] + dp[index - 2]\n",
        "\n",
        "print(dp[2] % 10007)\n",
        "print(dp[9] % 10007)"
      ],
      "metadata": {
        "colab": {
          "base_uri": "https://localhost:8080/"
        },
        "id": "tW_dde5oyDAN",
        "outputId": "a7e0f63e-875b-4279-e5b7-cbc6e6eacbe8"
      },
      "execution_count": 8,
      "outputs": [
        {
          "output_type": "stream",
          "name": "stdout",
          "text": [
            "2\n",
            "55\n"
          ]
        }
      ]
    },
    {
      "cell_type": "markdown",
      "source": [
        "### 2. 연습문제: https://www.acmicpc.net/problem/9461"
      ],
      "metadata": {
        "id": "hnD_dv1a7y-E"
      }
    },
    {
      "cell_type": "markdown",
      "source": [
        "### 풀이 전략\n",
        "\n",
        "- 점화식 찾기\n",
        "  - 두개의 항 사이에 성립하는 관계식\n"
      ],
      "metadata": {
        "id": "ZCytKrs19iOc"
      }
    },
    {
      "cell_type": "markdown",
      "source": [
        "- 1, 1, 1, 2, 2, 3, 4, 5, 7, 9, 12, ...\n",
        "- 규칙 찾아보기: dp[ i + 3 ] = dp [ i ] + dp [ i + 1 ]"
      ],
      "metadata": {
        "id": "zBm-EcsS9j_9"
      }
    },
    {
      "cell_type": "code",
      "source": [
        "dp = [0] * 101\n",
        "\n",
        "dp[1], dp[2], dp[3] = 1, 1, 1\n",
        "\n",
        "for index in range(4, 101):\n",
        "  dp[index] = dp[index - 2] + dp[index - 3]\n",
        "\n",
        "print(dp[6])\n",
        "print(dp[12])"
      ],
      "metadata": {
        "colab": {
          "base_uri": "https://localhost:8080/"
        },
        "id": "Z0dK5WBv7zZ_",
        "outputId": "77ce8da2-4614-45cb-ecf2-7234a46bdde3"
      },
      "execution_count": 33,
      "outputs": [
        {
          "output_type": "stream",
          "name": "stdout",
          "text": [
            "3\n",
            "16\n"
          ]
        }
      ]
    },
    {
      "cell_type": "markdown",
      "source": [
        "### 추가 참고 문제: 3. https://www.acmicpc.net/problem/1904"
      ],
      "metadata": {
        "id": "m8GJTEmYDqFa"
      }
    },
    {
      "cell_type": "markdown",
      "source": [
        "- 1, 2, 3, 5, 8, 13, ...\n",
        "- 규칙 : dp[ i ] = dp[ i - 1 ] + dp[ i - 2 ]"
      ],
      "metadata": {
        "id": "6N3OmlXCG9rX"
      }
    },
    {
      "cell_type": "code",
      "source": [
        "n = 4\n",
        "dp = [0] * 1000001\n",
        "\n",
        "dp[1], dp[2] = 1, 2\n",
        "\n",
        "for index in range(3, n + 1):\n",
        "  dp[index] = dp[index - 1] + dp[index - 2]\n",
        "\n",
        "print(dp[4]%15746)"
      ],
      "metadata": {
        "colab": {
          "base_uri": "https://localhost:8080/"
        },
        "id": "t7CHhWNoHPh-",
        "outputId": "a80c5965-9b45-4e8a-9bf2-54a152d2b160"
      },
      "execution_count": 2,
      "outputs": [
        {
          "output_type": "stream",
          "name": "stdout",
          "text": [
            "5\n"
          ]
        }
      ]
    }
  ]
}