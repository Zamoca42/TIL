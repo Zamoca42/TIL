{
  "nbformat": 4,
  "nbformat_minor": 0,
  "metadata": {
    "colab": {
      "provenance": [],
      "authorship_tag": "ABX9TyPRfUyRYwGHKiSj6c768bct",
      "include_colab_link": true
    },
    "kernelspec": {
      "name": "python3",
      "display_name": "Python 3"
    },
    "language_info": {
      "name": "python"
    }
  },
  "cells": [
    {
      "cell_type": "markdown",
      "metadata": {
        "id": "view-in-github",
        "colab_type": "text"
      },
      "source": [
        "<a href=\"https://colab.research.google.com/github/Zamoca42/TIL/blob/main/Algorithm/%EC%A0%95%EB%A0%AC_%EC%95%8C%EA%B3%A0%EB%A6%AC%EC%A6%98.ipynb\" target=\"_parent\"><img src=\"https://colab.research.google.com/assets/colab-badge.svg\" alt=\"Open In Colab\"/></a>"
      ]
    },
    {
      "cell_type": "markdown",
      "source": [
        "# 버블 정렬"
      ],
      "metadata": {
        "id": "N-QYiwblORt_"
      }
    },
    {
      "cell_type": "markdown",
      "source": [
        "### 버블 정렬 (bubble sort) 란?\n",
        "* 두 인접한 데이터를 비교해서, 앞에 있는 데이터가 뒤에 있는 데이터보다 크면, 자리를 바꾸는 정렬 알고리즘\n",
        "\n",
        "#### 직접 눈으로 보면 더 이해가 쉽다: https://visualgo.net/en/sorting\n",
        "\n",
        "<img src=\"https://upload.wikimedia.org/wikipedia/commons/c/c8/Bubble-sort-example-300px.gif\" width=600/>\n",
        "\n",
        "> 출처: https://en.wikipedia.org/wiki/Bubble_sort"
      ],
      "metadata": {
        "id": "FnJZA0h8OWDC"
      }
    },
    {
      "cell_type": "markdown",
      "source": [
        "### 5. 알고리즘 분석\n",
        "* 반복문이 두 개 O($n^2$)\n",
        "  - 최악의 경우, <font size=5em>$\\frac { n * (n - 1)}{ 2 }$</font>\n",
        "* 완전 정렬이 되어 있는 상태라면 최선은 O(n)"
      ],
      "metadata": {
        "id": "kkJ_Gk__QXxR"
      }
    },
    {
      "cell_type": "markdown",
      "source": [
        "\n",
        "1. for num in range(len(data_list)) 반복\n",
        "2. swap = 0 (교환이 되었는지를 확인하는 변수를 두자)\n",
        "2. 반복문 안에서, for index in range(len(data_list) - num - 1) n - 1번 반복해야 하므로\n",
        "3. 반복문안의 반복문 안에서, if data_list[index] > data_list[index + 1] 이면\n",
        "4.                data_list[index], data_list[index + 1] = data_list[index + 1], data_list[index]\n",
        "5.                swap += 1\n",
        "6. 반복문 안에서, if swap == 0 이면, break 끝\n"
      ],
      "metadata": {
        "id": "jKJ8sbQNOf8f"
      }
    },
    {
      "cell_type": "code",
      "execution_count": 15,
      "metadata": {
        "id": "XXYKHQz65OXe"
      },
      "outputs": [],
      "source": [
        "def bubblesort(data):\n",
        "    for index in range(len(data) - 1):\n",
        "        swap = False\n",
        "        print(data)\n",
        "        for index2 in range(len(data) - index - 1):\n",
        "            if data[index2] > data[index2 + 1]:\n",
        "                data[index2], data[index2 + 1] = data[index2 + 1], data[index2]\n",
        "                swap = True\n",
        "        if swap == False:\n",
        "            break\n",
        "    \n",
        "    return data"
      ]
    },
    {
      "cell_type": "code",
      "source": [
        "import random\n",
        "\n",
        "data_list = random.sample(range(100), 4)\n",
        "print(bubblesort(data_list))"
      ],
      "metadata": {
        "colab": {
          "base_uri": "https://localhost:8080/"
        },
        "id": "Gz2DBva0MYyt",
        "outputId": "73cb4377-87ef-4706-f84f-f76cf50fdb18"
      },
      "execution_count": 18,
      "outputs": [
        {
          "output_type": "stream",
          "name": "stdout",
          "text": [
            "[30, 71, 29, 88]\n",
            "[30, 29, 71, 88]\n",
            "[29, 30, 71, 88]\n",
            "[29, 30, 71, 88]\n"
          ]
        }
      ]
    },
    {
      "cell_type": "markdown",
      "source": [
        "# 삽입 정렬"
      ],
      "metadata": {
        "id": "ex3nLhHkPLWE"
      }
    },
    {
      "cell_type": "markdown",
      "source": [
        "### 삽입 정렬 (insertion sort) 란?\n",
        "* 삽입 정렬은 두 번째 인덱스부터 시작\n",
        "* 해당 인덱스(key 값) 앞에 있는 데이터(B)부터 비교해서 key 값이 더 작으면, B값을 뒤 인덱스로 복사\n",
        "* 이를 key 값이 더 큰 데이터를 만날때까지 반복, 그리고 큰 데이터를 만난 위치 바로 뒤에 key 값을 이동\n",
        "\n",
        "#### 직접 눈으로 보면 더 이해가 쉽다: https://visualgo.net/en/sorting\n",
        "\n",
        "<img src=\"https://upload.wikimedia.org/wikipedia/commons/9/9c/Insertion-sort-example.gif\" />\n",
        "\n",
        "> 출처: https://commons.wikimedia.org/wiki/File:Insertion-sort-example.gif"
      ],
      "metadata": {
        "id": "uzrxc8BkPOOI"
      }
    },
    {
      "cell_type": "markdown",
      "source": [
        "### 3. 알고리즘 구현\n",
        "1. for stand in range(len(data_list)) 로 반복\n",
        "2. key = data_list[stand]\n",
        "3. for num in range(stand, 0, -1) 반복\n",
        "   - 내부 반복문 안에서 data_list[stand] < data_list[num - 1] 이면, \n",
        "     - data_list[num - 1], data_list[num] = data_list[num], data_list[num - 1]   "
      ],
      "metadata": {
        "id": "g6X6rXVdQDil"
      }
    },
    {
      "cell_type": "markdown",
      "source": [
        "### 4. 알고리즘 분석\n",
        "* 반복문이 두 개 O($n^2$)\n",
        "  - 최악의 경우, <font size=5em>$\\frac { n * (n - 1)}{ 2 }$</font>\n",
        "* 완전 정렬이 되어 있는 상태라면 최선은 O(n)"
      ],
      "metadata": {
        "id": "Iw5PTKJKVkFH"
      }
    },
    {
      "cell_type": "code",
      "source": [
        "def insertion_sort(data):\n",
        "  for index in range(len(data) - 1):\n",
        "    print(data)\n",
        "    for index2 in range(index + 1, 0, -1):\n",
        "      if data[index2] > data[index2 - 1]:\n",
        "        data[index2 - 1], data[index2] = data[index2], data[index2 - 1]\n",
        "      else:\n",
        "        break\n",
        "  return data"
      ],
      "metadata": {
        "id": "qbZ5bZ5mMho7"
      },
      "execution_count": 22,
      "outputs": []
    },
    {
      "cell_type": "code",
      "source": [
        "import random\n",
        "\n",
        "data_list = random.sample(range(100), 4)\n",
        "print(bubblesort(data_list))"
      ],
      "metadata": {
        "colab": {
          "base_uri": "https://localhost:8080/"
        },
        "id": "Afo9K4poUpen",
        "outputId": "8925a92e-a93c-452e-f786-65b71e968e64"
      },
      "execution_count": 23,
      "outputs": [
        {
          "output_type": "stream",
          "name": "stdout",
          "text": [
            "[84, 42, 17, 82]\n",
            "[42, 17, 82, 84]\n",
            "[17, 42, 82, 84]\n",
            "[17, 42, 82, 84]\n"
          ]
        }
      ]
    },
    {
      "cell_type": "code",
      "source": [],
      "metadata": {
        "id": "eKoTHUwlVNtT"
      },
      "execution_count": null,
      "outputs": []
    }
  ]
}