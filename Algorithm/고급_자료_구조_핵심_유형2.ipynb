{
  "nbformat": 4,
  "nbformat_minor": 0,
  "metadata": {
    "colab": {
      "provenance": [],
      "authorship_tag": "ABX9TyMM77NGPFPBfR5FDZ8Ea9/9",
      "include_colab_link": true
    },
    "kernelspec": {
      "name": "python3",
      "display_name": "Python 3"
    },
    "language_info": {
      "name": "python"
    }
  },
  "cells": [
    {
      "cell_type": "markdown",
      "metadata": {
        "id": "view-in-github",
        "colab_type": "text"
      },
      "source": [
        "<a href=\"https://colab.research.google.com/github/Zamoca42/TIL/blob/main/%EA%B3%A0%EA%B8%89_%EC%9E%90%EB%A3%8C_%EA%B5%AC%EC%A1%B0_%ED%95%B5%EC%8B%AC_%EC%9C%A0%ED%98%952.ipynb\" target=\"_parent\"><img src=\"https://colab.research.google.com/assets/colab-badge.svg\" alt=\"Open In Colab\"/></a>"
      ]
    },
    {
      "cell_type": "markdown",
      "source": [
        "# 사이클 게임: https://www.acmicpc.net/problem/20040"
      ],
      "metadata": {
        "id": "J6BXXEWT0MpU"
      }
    },
    {
      "cell_type": "markdown",
      "source": [
        "- 문제 난이도: 중(Medium)\n",
        "- 문제 유형: 자료구조, Union-Find\n",
        "- 추천 풀이 시간: 50분"
      ],
      "metadata": {
        "id": "JTfaDXHc0QOQ"
      }
    },
    {
      "cell_type": "markdown",
      "source": [
        "## 핵심 아이디어"
      ],
      "metadata": {
        "id": "RrFDHxnu0TxA"
      }
    },
    {
      "cell_type": "markdown",
      "source": [
        "- 본 문제는 **Union-Find 자료구조**를 이용해 해결할 수 있는 문제입니다.\n",
        "- 두 명의 플레이어가 차례를 반복하는 것을 “간선”으로 간주할 수 있습니다.\n",
        "- 결과적으로 그래프에 간선을 하나씩 추가하면서 사이클을 판별하면 됩니다.\n",
        "- 사이클: 한 정점에서 출발해 출발점으로 돌아오는 것이 가능"
      ],
      "metadata": {
        "id": "JMLppZ1x0VMs"
      }
    },
    {
      "cell_type": "code",
      "execution_count": 3,
      "metadata": {
        "colab": {
          "base_uri": "https://localhost:8080/"
        },
        "id": "pBqc0DiPz8qu",
        "outputId": "6b77bfef-5c8c-4e98-ba91-62519400363b"
      },
      "outputs": [
        {
          "output_type": "stream",
          "name": "stdout",
          "text": [
            "6 5\n",
            "0 1\n",
            "1 2\n",
            "2 3\n",
            "5 4\n",
            "0 4\n",
            "1\n"
          ]
        }
      ],
      "source": [
        "# import sys\n",
        "# 빠른 입력 함수 사용\n",
        "# input = sys.stdin.readline\n",
        "\n",
        "# 특정 원소가 속한 집합을 찾기\n",
        "def find_parent(parent, x):\n",
        "  # 루트 노드가 아니라면\n",
        "  if parent[x] != x:\n",
        "    # 루트 노드를 찾을 때까지 재귀적으로 호출\n",
        "    parent[x] = find_parent(parent, parent[x])\n",
        "  return parent[x]\n",
        "\n",
        "# 두 원소가 속한 집합을 합치기\n",
        "def union_parent(parent, a, b):\n",
        "  a = find_parent(parent, a)\n",
        "  b = find_parent(parent, b)\n",
        "  if a < b:\n",
        "    parent[b] = a\n",
        "  else:\n",
        "    parent[a] = b\n",
        "\n",
        "# 정점의 개수 N과 간선의 개수 M\n",
        "n, m = map(int, input().split())\n",
        "parent = [0] * n # 부모 테이블 초기화하기\n",
        "\n",
        "# 부모 테이블상에서, 부모를 자기 자신으로 초기화\n",
        "for i in range(n):\n",
        "  parent[i] = i\n",
        "\n",
        "cycle = False\n",
        "for i in range(m): # M은 합치기(union) 연산의 수와 동일\n",
        "  a, b = map(int, input().split())\n",
        "  if find_parent(parent, a) == find_parent(parent, b):\n",
        "    cycle = True\n",
        "    print(i + 1)\n",
        "    break\n",
        "  else:\n",
        "    union_parent(parent, a, b)\n",
        "\n",
        "if not cycle:\n",
        "  print(0)\n"
      ]
    },
    {
      "cell_type": "markdown",
      "source": [
        "# 연결 요소의 개수 : https://www.acmicpc.net/problem/11724"
      ],
      "metadata": {
        "id": "CtF61nn4R0U2"
      }
    },
    {
      "cell_type": "markdown",
      "source": [
        "- 문제 난이도: 중(Medium)\n",
        "- 문제 유형: 자료구조, Union-Find, DFS/BFS\n",
        "- 추천 풀이 시간: 40분"
      ],
      "metadata": {
        "id": "5kdaJTkQR5N_"
      }
    },
    {
      "cell_type": "markdown",
      "source": [
        "## 핵심 아이디어"
      ],
      "metadata": {
        "id": "o0QdSKJbSEhQ"
      }
    },
    {
      "cell_type": "markdown",
      "source": [
        "- 연결 요소의 개수를 세는 방법은 다양합니다.\n",
        "- 본 문제는 **Union-Find 자료구조**를 이용해 해결할 수 있는 문제입니다."
      ],
      "metadata": {
        "id": "gvoZtDHQSJCk"
      }
    },
    {
      "cell_type": "markdown",
      "source": [
        "**[알고리즘 요약]**\n",
        "- 무방향 그래프에서 연결 요소(connected component)의 개수를 세는 문제다.\n",
        "- 단순히 Union-Find 자료구조를 사용하여 연결 요소의 개수를 셀 수 있다.\n",
        "- 모든 합치기 연산을 수행한 뒤에 고유한 집합의 개수를 세면 된다."
      ],
      "metadata": {
        "id": "lTjwQX5JhHT7"
      }
    },
    {
      "cell_type": "code",
      "source": [
        "#import sys\n",
        "# 빠른 입력 함수 사용\n",
        "#input = sys.stdin.readline\n",
        "\n",
        "def find_parent(parent, x):\n",
        "  if parent[x] != x:\n",
        "    parent[x] = find_parent(parent, parent[x])\n",
        "  return parent[x]\n",
        "\n",
        "def union_parent(parent, a, b):\n",
        "  a = find_parent(parent, a)\n",
        "  b = find_parent(parent, b)\n",
        "  if a < b:\n",
        "    parent[b] = a\n",
        "  else:\n",
        "    parent[a] = b\n",
        "\n",
        "\n",
        "# 정점의 개수 N과 간선의 개수 M\n",
        "n, m = map(int, input().split())\n",
        "parent = [0] * n # 부모 테이블 초기화하기\n",
        "\n",
        "\n",
        "# 부모 테이블상에서, 부모를 자기 자신으로 초기화\n",
        "for i in range(1, n + 1):\n",
        "  parent[i] = i\n",
        "\n",
        "for i in range(m): # M은 합치기(union) 연산의 수와 동일\n",
        "  a, b = map(int, input().split())\n",
        "  union_parent(parent, a, b)\n",
        "\n",
        "counter = set()\n",
        "for i in range(1, n + 1):\n",
        "  counter.add(find_parent(parent, i))\n",
        "\n",
        "# 고유한 집합의 수 출력\n",
        "print(len(counter))"
      ],
      "metadata": {
        "id": "IPp_oMgnSOAx"
      },
      "execution_count": null,
      "outputs": []
    },
    {
      "cell_type": "markdown",
      "source": [
        "# 알파벳 찾기: https://www.acmicpc.net/problem/10809"
      ],
      "metadata": {
        "id": "Q30A5R02hLr2"
      }
    },
    {
      "cell_type": "markdown",
      "source": [
        "- 알파벳 a부터 z까지의 범위를 포함하는 배열을 선언한다.\n",
        "1. 배열의 모든 원소의 초기값은 -1(등장하지 않음)로 설정한다.\n",
        "2. 입력 문자열에 포함된 문자를 하나씩 확인하여, 각 문자가 처음 등장한 위치를 기록한다."
      ],
      "metadata": {
        "id": "1p0iaFhdhOpZ"
      }
    },
    {
      "cell_type": "code",
      "source": [
        "# import sys\n",
        "# input = sys.stdin.readline\n",
        "from string import ascii_lowercase\n",
        "\n",
        "alphabet_dict = {}\n",
        "\n",
        "for i in ascii_lowercase:\n",
        "\talphabet_dict[i] = -1\n",
        "\n",
        "S = input().strip()\n",
        "count = 0\n",
        "\n",
        "for char in S:\n",
        "  if alphabet_dict[char] == -1:\n",
        "    alphabet_dict[char] = count\n",
        "  count += 1\n",
        "\n",
        "for i in ascii_lowercase:\n",
        "\tprint(alphabet_dict[i], end=' ')"
      ],
      "metadata": {
        "colab": {
          "base_uri": "https://localhost:8080/"
        },
        "id": "WbPXBoOGhkJJ",
        "outputId": "18c2fe96-fca8-4618-922c-ee189e5c185f"
      },
      "execution_count": 6,
      "outputs": [
        {
          "output_type": "stream",
          "name": "stdout",
          "text": [
            "baekjoon\n",
            "1 0 -1 -1 2 -1 -1 -1 -1 4 3 -1 -1 7 5 -1 -1 -1 -1 -1 -1 -1 -1 -1 -1 -1 "
          ]
        }
      ]
    },
    {
      "cell_type": "code",
      "source": [
        "# import sys\n",
        "# input = sys.stdin.readline # 빠른 입력 함수 사용\n",
        "\n",
        "arr = [-1] * 26 # a부터 z까지의 알파벳은 총 26개\n",
        "data = input().strip() # 문자열 입력\n",
        "\n",
        "for i in range(len(data)): # 문자를 하나씩 확인\n",
        "  # 알파벳 a는 인덱스 0, z는 인덱스 25에 해당\n",
        "  index = ord(data[i]) - ord('a')\n",
        "  if arr[index] == -1: # 처음 등장한 알파벳이라면\n",
        "    arr[index] = i # 등장한 위치 기록\n",
        "\n",
        "for x in arr: # 각 알파벳이 처음 등장하는 위치 출력\n",
        "  print(x, end=' ')"
      ],
      "metadata": {
        "id": "Hw3ShLKBiGiT"
      },
      "execution_count": null,
      "outputs": []
    }
  ]
}
