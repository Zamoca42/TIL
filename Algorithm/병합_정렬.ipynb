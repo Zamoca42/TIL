{
  "nbformat": 4,
  "nbformat_minor": 0,
  "metadata": {
    "colab": {
      "provenance": [],
      "authorship_tag": "ABX9TyPW2bdAppwlqmO4KAzXNH76",
      "include_colab_link": true
    },
    "kernelspec": {
      "name": "python3",
      "display_name": "Python 3"
    },
    "language_info": {
      "name": "python"
    }
  },
  "cells": [
    {
      "cell_type": "markdown",
      "metadata": {
        "id": "view-in-github",
        "colab_type": "text"
      },
      "source": [
        "<a href=\"https://colab.research.google.com/github/Zamoca42/TIL/blob/main/Algorithm/%EB%B3%91%ED%95%A9_%EC%A0%95%EB%A0%AC.ipynb\" target=\"_parent\"><img src=\"https://colab.research.google.com/assets/colab-badge.svg\" alt=\"Open In Colab\"/></a>"
      ]
    },
    {
      "cell_type": "markdown",
      "source": [
        "# 병합 정렬 (merge sort)"
      ],
      "metadata": {
        "id": "9GIRFhLT5CEf"
      }
    },
    {
      "cell_type": "markdown",
      "source": [
        "### 병합 정렬 (merge sort) \n",
        "* 재귀용법을 활용한 정렬 알고리즘\n",
        "  1. 리스트를 절반으로 잘라 비슷한 크기의 두 부분 리스트로 나눈다.\n",
        "  2. 각 부분 리스트를 재귀적으로 합병 정렬을 이용해 정렬한다.\n",
        "  3. 두 부분 리스트를 다시 하나의 정렬된 리스트로 합병한다.\n",
        "  4. 분할 정복 알고리즘 중 하나\n",
        "\n",
        "#### 직접 눈으로 보면 더 이해가 쉽다: https://visualgo.net/en/sorting\n",
        "\n",
        "<img src=\"https://upload.wikimedia.org/wikipedia/commons/c/cc/Merge-sort-example-300px.gif\" width=500/>\n",
        "\n",
        "출처: [위키피디아](https://ko.wikipedia.org/wiki/%ED%95%A9%EB%B3%91_%EC%A0%95%EB%A0%AC)"
      ],
      "metadata": {
        "id": "VLFP7Wah5Gho"
      }
    },
    {
      "cell_type": "markdown",
      "source": [
        "### 알고리즘 구현\n",
        "* mergesplit 함수 만들기\n",
        "  - 만약 리스트 갯수가 한개이면 해당 값 리턴\n",
        "  - 그렇지 않으면, 리스트를 앞뒤, 두 개로 나누기\n",
        "  - left = mergesplit(앞)\n",
        "  - right = mergesplit(뒤)\n",
        "  - merge(left, right)\n",
        "\n",
        "* merge 함수 만들기\n",
        "  - 리스트 변수 하나 만들기 (sorted)\n",
        "  - left_index, right_index = 0\n",
        "  - while left_index < len(left) or right_index < len(right):\n",
        "    - 만약 left_index 나 right_index 가 이미 left 또는 right 리스트를 다 순회했다면, 그 반대쪽 데이터를 그대로 넣고, 해당 인덱스 1 증가\n",
        "    - if left[left_index] < right[right_index]:\n",
        "      - sorted.append(left[left_index])\n",
        "      - left_index += 1\n",
        "    - else:\n",
        "      - sorted.append(right[right_index])\n",
        "      - right_index += 1"
      ],
      "metadata": {
        "id": "Mt866SXV5Ob5"
      }
    },
    {
      "cell_type": "markdown",
      "source": [
        "### 작은 부분부터 작성해서 하나씩 구현하기"
      ],
      "metadata": {
        "id": "IJzlyTpX59XA"
      }
    },
    {
      "cell_type": "markdown",
      "source": [
        "<div class=\"alert alert-block alert-warning\">\n",
        "<strong><font color=\"blue\" size=\"4em\">프로그래밍 연습</font></strong><br>\n",
        "어떤 데이터리스트가 있을 때 리스트를 앞뒤로 짜르는 코드 작성해보기 (일반화)\n",
        "</div>"
      ],
      "metadata": {
        "id": "50hiUIx75-y6"
      }
    },
    {
      "cell_type": "code",
      "execution_count": 5,
      "metadata": {
        "id": "HAkRxYkCylkO"
      },
      "outputs": [],
      "source": [
        "def split(data):\n",
        "  medium = int(len(data)/ 2 )\n",
        "  left = data[:medium]\n",
        "  right = data[medium:]\n",
        "  print(left, right)"
      ]
    },
    {
      "cell_type": "code",
      "source": [
        "data_list = [3, 4, 1, 3]\n",
        "split(data_list)"
      ],
      "metadata": {
        "colab": {
          "base_uri": "https://localhost:8080/"
        },
        "id": "2KN1vY4dy2V-",
        "outputId": "3ad623aa-77e0-467c-d1a0-368600def106"
      },
      "execution_count": 6,
      "outputs": [
        {
          "output_type": "stream",
          "name": "stdout",
          "text": [
            "[3, 4] [1, 3]\n"
          ]
        }
      ]
    },
    {
      "cell_type": "markdown",
      "source": [
        "### 재귀용법 활용하기"
      ],
      "metadata": {
        "id": "QplyBqks6Cd0"
      }
    },
    {
      "cell_type": "markdown",
      "source": [
        "<div class=\"alert alert-block alert-warning\">\n",
        "<strong><font color=\"blue\" size=\"4em\">프로그래밍 연습</font></strong><br>\n",
        "</div>\n",
        "<pre>\n",
        "다음 문장을 코드로 작성해보기 (merge함수는 아직은 없는 상태, 있다고만 가정)\n",
        "* mergesplit 함수 만들기\n",
        "  - 만약 리스트 갯수가 한개이면 해당 값 리턴\n",
        "  - 그렇지 않으면, 리스트를 앞뒤, 두 개로 나누기\n",
        "  - left = mergesplit(앞)\n",
        "  - right = mergesplit(뒤)\n",
        "  - merge(left, right)\n",
        "</pre>"
      ],
      "metadata": {
        "id": "xo7Golql6EUl"
      }
    },
    {
      "cell_type": "code",
      "source": [
        "def mergesplit(data):\n",
        "  if len(data) <= 1:\n",
        "    return data\n",
        "  medium = int(len(data) / 2)\n",
        "  left = mergesplit(data[:medium])\n",
        "  right = mergesplit(data[medium:])\n",
        "  return merge(left,right)"
      ],
      "metadata": {
        "id": "0IYWETEiy8r8"
      },
      "execution_count": 7,
      "outputs": []
    },
    {
      "cell_type": "markdown",
      "source": [
        "### merge 함수 만들기\n",
        "* 목표: left 와 right 의 리스트 데이터를 정렬해서 sorted_list 라는 이름으로 return 하기\n",
        "* left와 right는 이미 정렬된 상태 또는 데이터가 하나임"
      ],
      "metadata": {
        "id": "IyyKRmup6Hvk"
      }
    },
    {
      "cell_type": "code",
      "source": [
        "def merge(left, right):\n",
        "  merged = list()\n",
        "  left_point, right_point = 0, 0\n",
        "\n",
        "  # case1: left/right가 아직 남아있을 때\n",
        "  while len(left) > left_point and len(right) > right_point:\n",
        "    if left[left_point] > right[right_point]:\n",
        "      merged.append(right[right_point])\n",
        "      right_point += 1\n",
        "    else:\n",
        "      merged.append(left[left_point])\n",
        "      left_point += 1\n",
        "  \n",
        "  # case2: left만 남아있을 떄\n",
        "  while len(left) > left_point:\n",
        "    merged.append(left[left_point])\n",
        "    left_point += 1\n",
        "  \n",
        "  # case3: right만 남아있을 때\n",
        "  while len(right) > right_point:\n",
        "    merged.append(right[right_point])\n",
        "    right_point += 1\n",
        "\n",
        "  return merged"
      ],
      "metadata": {
        "id": "an-JXZiTz_gl"
      },
      "execution_count": 8,
      "outputs": []
    },
    {
      "cell_type": "code",
      "source": [
        "import random\n",
        "\n",
        "data_list = random.sample(range(100), 10)\n",
        "\n",
        "mergesplit(data_list)"
      ],
      "metadata": {
        "colab": {
          "base_uri": "https://localhost:8080/"
        },
        "id": "ioA9wL-r2QOz",
        "outputId": "01b01112-8531-4b34-896f-9e9b3fd5e27a"
      },
      "execution_count": 9,
      "outputs": [
        {
          "output_type": "execute_result",
          "data": {
            "text/plain": [
              "[3, 21, 23, 25, 45, 64, 65, 66, 86, 99]"
            ]
          },
          "metadata": {},
          "execution_count": 9
        }
      ]
    },
    {
      "cell_type": "markdown",
      "source": [
        "### 최종 코드"
      ],
      "metadata": {
        "id": "DjQmCEiK6Xjy"
      }
    },
    {
      "cell_type": "code",
      "source": [
        "def merge(left, right):\n",
        "    merged = list()\n",
        "    left_point, right_point = 0, 0\n",
        "    \n",
        "    # case1 - left/right 둘다 있을때\n",
        "    while len(left) > left_point and len(right) > right_point:\n",
        "        if left[left_point] > right[right_point]:\n",
        "            merged.append(right[right_point])\n",
        "            right_point += 1\n",
        "        else:\n",
        "            merged.append(left[left_point])\n",
        "            left_point += 1\n",
        "\n",
        "    # case2 - left 데이터가 없을 때\n",
        "    while len(left) > left_point:\n",
        "        merged.append(left[left_point])\n",
        "        left_point += 1\n",
        "        \n",
        "    # case3 - right 데이터가 없을 때\n",
        "    while len(right) > right_point:\n",
        "        merged.append(right[right_point])\n",
        "        right_point += 1\n",
        "    \n",
        "    return merged\n",
        "\n",
        "\n",
        "def mergesplit(data):\n",
        "    if len(data) <= 1:\n",
        "        return data\n",
        "    medium = int(len(data) / 2)\n",
        "    left = mergesplit(data[:medium])\n",
        "    right = mergesplit(data[medium:])\n",
        "    return merge(left, right)"
      ],
      "metadata": {
        "id": "bpkhwrbQ6Zjc"
      },
      "execution_count": null,
      "outputs": []
    },
    {
      "cell_type": "code",
      "source": [
        "import random\n",
        "\n",
        "data_list = random.sample(range(100), 10)\n",
        "mergesplit(data_list)"
      ],
      "metadata": {
        "id": "DirCwH4e6dwJ"
      },
      "execution_count": null,
      "outputs": []
    },
    {
      "cell_type": "markdown",
      "source": [
        "### 알고리즘 분석\n",
        "* 알고리즘 분석은 쉽지 않음, <font color='#BF360C'>이 부분은 참고로만 알아두자.</font>\n",
        "  - 몇 단계 깊이까지 만들어지는지를 depth 라고 하고 i로 놓자. 맨 위 단계는 0으로 놓자.\n",
        "    - 다음 그림에서 $ \\frac{n}{2^2} $ 는 2단계 깊이라고 해보자.\n",
        "    - 각 단계에 있는 하나의 노드 안의 리스트 길이는 $ \\frac{n}{2^2} $ 가 된다.\n",
        "    - 각 단계에는 $2^i$ 개의 노드가 있다.\n",
        "    - 따라서, 각 단계는 항상 <font size=4em>$2^i * \\frac { n }{ 2^i } = O(n)$</font>\n",
        "  - 단계는 항상 $log_2 n$ 개 만큼 만들어짐, 시간 복잡도는 결국 O(log n), 2는 역시 상수이므로 삭제\n",
        "  - 따라서, 단계별 시간 복잡도 O(n) * O(log n) = O(n log n)\n",
        "\n",
        "<img src=\"https://www.fun-coding.org/00_Images/mergesortcomplexity.png\" />\n"
      ],
      "metadata": {
        "id": "tosUALWB5WtU"
      }
    }
  ]
}