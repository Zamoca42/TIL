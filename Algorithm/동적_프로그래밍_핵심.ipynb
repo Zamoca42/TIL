{
  "nbformat": 4,
  "nbformat_minor": 0,
  "metadata": {
    "colab": {
      "provenance": [],
      "authorship_tag": "ABX9TyM4DPhv4pDnf3xU3NsKrqyX",
      "include_colab_link": true
    },
    "kernelspec": {
      "name": "python3",
      "display_name": "Python 3"
    },
    "language_info": {
      "name": "python"
    }
  },
  "cells": [
    {
      "cell_type": "markdown",
      "metadata": {
        "id": "view-in-github",
        "colab_type": "text"
      },
      "source": [
        "<a href=\"https://colab.research.google.com/github/Zamoca42/TIL/blob/main/Algorithm/%EB%8F%99%EC%A0%81_%ED%94%84%EB%A1%9C%EA%B7%B8%EB%9E%98%EB%B0%8D_%ED%95%B5%EC%8B%AC.ipynb\" target=\"_parent\"><img src=\"https://colab.research.google.com/assets/colab-badge.svg\" alt=\"Open In Colab\"/></a>"
      ]
    },
    {
      "cell_type": "markdown",
      "source": [
        "# LCS: https://www.acmicpc.net/problem/9251"
      ],
      "metadata": {
        "id": "okUM6tND5sR6"
      }
    },
    {
      "cell_type": "markdown",
      "source": [
        "- 문제 난이도: 하 (Easy)\n",
        "- 문제 유형: 동적 프로그래밍, LCS\n",
        "- 추천 풀이 시간: 30분"
      ],
      "metadata": {
        "id": "wa0UTn247saJ"
      }
    },
    {
      "cell_type": "markdown",
      "source": [
        "## 핵심 아이디어"
      ],
      "metadata": {
        "id": "bFman0bULo3z"
      }
    },
    {
      "cell_type": "markdown",
      "source": [
        "- 두 수열이 주어졌을 때, 두 수열 모두의 부분 수열이 되는 수열 중 가장 긴 것을 찾아야함\n",
        "- 가장 긴 공통 부분 수열(LCS)문제로 알려진 대표적인 동적 프로그래밍 문제\n",
        "- 두 수열의 길이가 N 미만일 때, 시간 복잡도 $O(N^2)$로 문제 해결"
      ],
      "metadata": {
        "id": "85tNMOjr80U0"
      }
    },
    {
      "cell_type": "markdown",
      "source": [
        "<img width=\"1321\" alt=\"스크린샷 2023-06-27 오후 5 26 31\" src=\"https://github.com/Zamoca42/TIL/assets/96982072/ec62eeba-4c70-4e16-b787-747c667a14dd\">\n",
        "<img width=\"1321\" alt=\"스크린샷 2023-06-27 오후 5 26 44\" src=\"https://github.com/Zamoca42/TIL/assets/96982072/a06a86e7-c50e-4c8e-a53b-470b66b5caf8\">\n",
        "<img width=\"1321\" alt=\"스크린샷 2023-06-27 오후 5 26 59\" src=\"https://github.com/Zamoca42/TIL/assets/96982072/95b85bb9-94ec-43cc-8f7d-68aeaa309ecf\">\n",
        "<img width=\"1321\" alt=\"스크린샷 2023-06-27 오후 5 27 11\" src=\"https://github.com/Zamoca42/TIL/assets/96982072/30decad7-24aa-4a91-bb55-0341af2513e3\">\n",
        "<img width=\"1321\" alt=\"스크린샷 2023-06-27 오후 5 27 28\" src=\"https://github.com/Zamoca42/TIL/assets/96982072/edcc708f-46f4-44ec-ae9c-8ce206c28268\">\n",
        "<img width=\"1321\" alt=\"스크린샷 2023-06-27 오후 5 27 43\" src=\"https://github.com/Zamoca42/TIL/assets/96982072/3441265a-80d7-441b-9315-79b57758ca12\">\n",
        "<img width=\"1321\" alt=\"스크린샷 2023-06-27 오후 5 28 03\" src=\"https://github.com/Zamoca42/TIL/assets/96982072/fa56e64a-8c84-4bd9-8d44-524a4e89200b\">\n",
        "<img width=\"1321\" alt=\"스크린샷 2023-06-27 오후 5 28 20\" src=\"https://github.com/Zamoca42/TIL/assets/96982072/237baef6-c619-4e3e-9b35-cc219d32204d\">"
      ],
      "metadata": {
        "id": "25maoSsi-Jmn"
      }
    },
    {
      "cell_type": "code",
      "execution_count": 5,
      "metadata": {
        "colab": {
          "base_uri": "https://localhost:8080/"
        },
        "id": "JpGlv0mN5o9Y",
        "outputId": "f7a4a5a1-5671-4a6a-c388-d04ddea3cf96"
      },
      "outputs": [
        {
          "output_type": "stream",
          "name": "stdout",
          "text": [
            "ACAYKP\n",
            "CAPCAK\n",
            "4\n"
          ]
        }
      ],
      "source": [
        "x = input()\n",
        "y = input()\n",
        "\n",
        "dp = [[0] * (len(y) + 1) for _ in range(len(x) + 1)]\n",
        "\n",
        "for i in range(1, len(x) + 1):\n",
        "  for j in range(1, len(y) + 1):\n",
        "    if x[i - 1] == y[j - 1]:\n",
        "      dp[i][j] = dp[i - 1][j - 1] + 1\n",
        "    else:\n",
        "      dp[i][j] = max(dp[i][j - 1], dp[i - 1][j])\n",
        "\n",
        "print(dp[len(x)][len(y)])"
      ]
    },
    {
      "cell_type": "markdown",
      "source": [
        "# 기타리스트 : https://www.acmicpc.net/problem/1495"
      ],
      "metadata": {
        "id": "101IgQnTLgbd"
      }
    },
    {
      "cell_type": "markdown",
      "source": [
        "- 문제 난이도: 중 (Medium)\n",
        "- 문제 유형: 동적 프로그래밍\n",
        "- 추천 풀이 시간: 40분"
      ],
      "metadata": {
        "id": "Wx4I3r4QL3iD"
      }
    },
    {
      "cell_type": "markdown",
      "source": [
        "## 핵심 아이디어"
      ],
      "metadata": {
        "id": "BBny8dLWL-H4"
      }
    },
    {
      "cell_type": "markdown",
      "source": [
        "- 차례대로 곡을 연주한다는 점에서, 동적 프로그래밍으로 해결할 수 있는 문제\n",
        "- 곡의 개수가 N, 볼륨의 최댓값은 M\n",
        "- 동적 프로그래밍을 이용하여 시간 복잡도 $O(NM)$으로 문제를 해결"
      ],
      "metadata": {
        "id": "AM7OAhofL_qw"
      }
    },
    {
      "cell_type": "markdown",
      "source": [
        "<img width=\"1321\" alt=\"스크린샷 2023-06-27 오후 6 40 51\" src=\"https://github.com/Zamoca42/TIL/assets/96982072/85d4b16c-ed3c-4b2b-9ec2-72f3905bec5c\">\n",
        "<img width=\"1321\" alt=\"스크린샷 2023-06-27 오후 6 41 05\" src=\"https://github.com/Zamoca42/TIL/assets/96982072/7dec3699-ad8f-49ce-874e-70d3ca9d23c3\">\n",
        "<img width=\"1321\" alt=\"스크린샷 2023-06-27 오후 6 41 18\" src=\"https://github.com/Zamoca42/TIL/assets/96982072/cd4be3a6-7db3-4808-9397-6e0ed7309a46\">\n",
        "<img width=\"1321\" alt=\"스크린샷 2023-06-27 오후 6 41 39\" src=\"https://github.com/Zamoca42/TIL/assets/96982072/cded913b-dcf1-4204-90bd-edd312a92cb4\">\n",
        "<img width=\"1321\" alt=\"스크린샷 2023-06-27 오후 6 41 52\" src=\"https://github.com/Zamoca42/TIL/assets/96982072/08934bd8-77a4-4726-ada9-ca7c3aa46a10\">\n"
      ],
      "metadata": {
        "id": "a32-G0dkO6P4"
      }
    },
    {
      "cell_type": "code",
      "source": [
        "n, s, m = map(int, input().split())\n",
        "array = list(map(int, input().split()))\n",
        "\n",
        "dp = [[0] * (m + 1) for _ in range(n + 1)]\n",
        "dp[0][s] = 1\n",
        "\n",
        "for i in range(1, n + 1):\n",
        "  for j in range(m + 1):\n",
        "    if dp[i - 1][j] == 0:\n",
        "      continue\n",
        "    if j - array[i - 1] >= 0:\n",
        "      dp[i][j - array[i - 1]] = 1\n",
        "    if j + array[i - 1] <= m:\n",
        "      dp[i][j + array[i - 1]] = 1\n",
        "\n",
        "result = -1\n",
        "for i in range(m, -1, -1):\n",
        "  if dp[n][i] == 1:\n",
        "    result = i\n",
        "    break\n",
        "\n",
        "print(result)"
      ],
      "metadata": {
        "colab": {
          "base_uri": "https://localhost:8080/"
        },
        "id": "zqqRqkKR6a2m",
        "outputId": "08a45d8e-6027-488f-eab7-2451e3ef19c6"
      },
      "execution_count": 7,
      "outputs": [
        {
          "output_type": "stream",
          "name": "stdout",
          "text": [
            "4 8 20\n",
            "15 2 9 10\n",
            "-1\n"
          ]
        }
      ]
    },
    {
      "cell_type": "code",
      "source": [],
      "metadata": {
        "id": "x9kZpLqhONVD"
      },
      "execution_count": null,
      "outputs": []
    }
  ]
}