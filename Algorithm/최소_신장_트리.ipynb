{
  "nbformat": 4,
  "nbformat_minor": 0,
  "metadata": {
    "colab": {
      "provenance": [],
      "authorship_tag": "ABX9TyN/OtFT00wWi41tRKdLD/F7",
      "include_colab_link": true
    },
    "kernelspec": {
      "name": "python3",
      "display_name": "Python 3"
    },
    "language_info": {
      "name": "python"
    }
  },
  "cells": [
    {
      "cell_type": "markdown",
      "metadata": {
        "id": "view-in-github",
        "colab_type": "text"
      },
      "source": [
        "<a href=\"https://colab.research.google.com/github/Zamoca42/TIL/blob/main/Algorithm/%EC%B5%9C%EC%86%8C_%EC%8B%A0%EC%9E%A5_%ED%8A%B8%EB%A6%AC.ipynb\" target=\"_parent\"><img src=\"https://colab.research.google.com/assets/colab-badge.svg\" alt=\"Open In Colab\"/></a>"
      ]
    },
    {
      "cell_type": "markdown",
      "source": [
        "# 최소 신장 트리"
      ],
      "metadata": {
        "id": "oDn7LOn7K8SI"
      }
    },
    {
      "cell_type": "markdown",
      "source": [
        "### 신장 트리 란?\n",
        "- Spanning Tree, 또는 신장 트리 라고 불리움 (Spanning Tree가 보다 자연스러워 보임)\n",
        "- 원래의 그래프의 모든 노드가 연결되어 있으면서 트리의 속성을 만족하는 그래프\n",
        "- 신장 트리의 조건\n",
        "  - 본래의 그래프의 모든 노드를 포함해야 함\n",
        "  - 모든 노드가 서로 연결\n",
        "  - 트리의 속성을 만족시킴 (사이클이 존재하지 않음)\n",
        "  \n",
        "  <img src=\"https://www.fun-coding.org/00_Images/spanningtree.png\">"
      ],
      "metadata": {
        "id": "uIKPClWyK-Ba"
      }
    },
    {
      "cell_type": "markdown",
      "source": [
        "### 최소 신장 트리 \n",
        "- Minimum Spanning Tree, MST 라고 불리움\n",
        "- 가능한 Spanning Tree 중에서, 간선의 가중치 합이 최소인 Spanning Tree를 지칭함\n",
        "\n",
        "<img src=\"https://www.fun-coding.org/00_Images/mst.png\" width=600>"
      ],
      "metadata": {
        "id": "KuJTg26pLB4s"
      }
    },
    {
      "cell_type": "markdown",
      "source": [
        "### 크루스칼 알고리즘 (Kruskal's algorithm)\n",
        "1. 모든 정점을 독립적인 집합으로 만든다.\n",
        "2. 모든 간선을 비용을 기준으로 정렬하고, 비용이 작은 간선부터 양 끝의 두 정점을 비교한다.\n",
        "3. 두 정점의 최상위 정점을 확인하고, 서로 다를 경우 두 정점을 연결한다. (최소 신장 트리는 사이클이 없으므로, 사이클이 생기지 않도록 하는 것임)\n",
        "\n",
        "> 탐욕 알고리즘을 기초로 하고 있음 (당장 눈 앞의 최소 비용을 선택해서, 결과적으로 최적의 솔루션을 찾음)"
      ],
      "metadata": {
        "id": "tzY_dM68LEmk"
      }
    },
    {
      "cell_type": "markdown",
      "source": [
        "### Union-Find 알고리즘\n",
        "- Disjoint Set을 표현할 때 사용하는 알고리즘으로 트리 구조를 활용하는 알고리즘\n",
        "- 간단하게, 노드들 중에 연결된 노드를 찾거나, 노드들을 서로 연결할 때 (합칠 때) 사용\n",
        "- Disjoint Set이란\n",
        "  - 서로 중복되지 않는 부분 집합들로 나눠진 원소들에 대한 정보를 저장하고 조작하는 자료구조\n",
        "  - 공통 원소가 없는 (서로소) 상호 배타적인 부분 집합들로 나눠진 원소들에 대한 자료구조를 의미함\n",
        "  - Disjoint Set = 서로소 집합 자료구조"
      ],
      "metadata": {
        "id": "Vcp7iotqLgv9"
      }
    },
    {
      "cell_type": "markdown",
      "source": [
        "1. 초기화\n",
        "   - n 개의 원소가 개별 집합으로 이뤄지도록 초기화\n",
        "<img src=\"https://www.fun-coding.org/00_Images/initial_findunion.png\" width=400>\n",
        "2. Union\n",
        "   - 두 개별 집합을 하나의 집합으로 합침, 두 트리를 하나의 트리로 만듬\n",
        "<img src=\"https://www.fun-coding.org/00_Images/union_findunion.png\" width=600>\n",
        "\n",
        "3. Find\n",
        "   - 여러 노드가 존재할 때, 두 개의 노드를 선택해서, 현재 두 노드가 서로 같은 그래프에 속하는지 판별하기 위해, 각 그룹의 최상단 원소 (즉, 루트 노드)를 확인\n",
        "<img src=\"https://www.fun-coding.org/00_Images/find_findunion.png\" width=500>"
      ],
      "metadata": {
        "id": "QjXRMgaxLlTw"
      }
    },
    {
      "cell_type": "markdown",
      "source": [
        "### union-by-rank 기법\n",
        "- 각 트리에 대해 높이(rank)를 기억해 두고,\n",
        "- Union시 두 트리의 높이(rank)가 다르면, 높이가 작은 트리를 높이가 큰 트리에 붙임 (즉, 높이가 큰 트리의 루트 노드가 합친 집합의 루트 노드가 되게 함)\n",
        "<img src=\"https://www.fun-coding.org/00_Images/unionbyrank_findunion.png\" width=700>\n",
        "\n",
        "- 높이가 h - 1 인 두 개의 트리를 합칠 때는 한 쪽의 트리 높이를 1 증가시켜주고, 다른 쪽의 트리를 해당 트리에 붙여줌\n",
        "<img src=\"https://www.fun-coding.org/00_Images/unionbyranksame_findunion.png\" width=700>\n",
        "\n",
        "- 초기화시, 모든 원소는 높이(rank) 가 0 인 개별 집합인 상태에서, 하나씩 원소를 합칠 때, union-by-rank 기법을 사용한다면,\n",
        "  - 높이가 h 인 트리가 만들어지려면, 높이가 h - 1 인 두 개의 트리가 합쳐져야 함\n",
        "  - 높이가 h - 1 인 트리를 만들기 위해 최소 n개의 원소가 필요하다면, 높이가 h 인 트리가 만들어지기 위해서는 최소 2n개의 원소가 필요함\n",
        "  - 따라서 union-by-rank 기법을 사용하면, union/find 연산의 시간복잡도는 O(N) 이 아닌, $ O(log{N}) $ 로 낮출 수 있음"
      ],
      "metadata": {
        "id": "vYhKhcHNLoO1"
      }
    },
    {
      "cell_type": "markdown",
      "source": [
        "### 크루스칼 알고리즘 (Kruskal's algorithm) 코드 작성"
      ],
      "metadata": {
        "id": "5C4dDaaULvR3"
      }
    },
    {
      "cell_type": "code",
      "execution_count": 3,
      "metadata": {
        "id": "COqE1xHgeybw"
      },
      "outputs": [],
      "source": [
        "mygraph = {\n",
        "    'vertices': ['A', 'B', 'C', 'D', 'E', 'F', 'G'],\n",
        "    'edges': [\n",
        "        (7, 'A', 'B'),\n",
        "        (5, 'A', 'D'),\n",
        "        (7, 'B', 'A'),\n",
        "        (8, 'B', 'C'),\n",
        "        (9, 'B', 'D'),\n",
        "        (7, 'B', 'E'),\n",
        "        (8, 'C', 'B'),\n",
        "        (5, 'C', 'E'),\n",
        "        (5, 'D', 'A'),\n",
        "        (9, 'D', 'B'),\n",
        "        (7, 'D', 'E'),\n",
        "        (6, 'D', 'F'),\n",
        "        (7, 'E', 'B'),\n",
        "        (5, 'E', 'C'),\n",
        "        (7, 'E', 'D'),\n",
        "        (8, 'E', 'F'),\n",
        "        (9, 'E', 'G'),\n",
        "        (6, 'F', 'D'),\n",
        "        (8, 'F', 'E'),\n",
        "        (11, 'F', 'G'),\n",
        "        (9, 'G', 'E'),\n",
        "        (11, 'G', 'F')\n",
        "    ]\n",
        "}"
      ]
    },
    {
      "cell_type": "code",
      "source": [
        "parent = dict()\n",
        "rank = dict()\n",
        "\n",
        "def find(node):\n",
        "  # path compression 기법\n",
        "  if parent[node] != node:\n",
        "    parent[node] = find(parent[node])\n",
        "  return parent[node]\n",
        "\n",
        "def union(node_v, node_u):\n",
        "  root1 = find(node_v)\n",
        "  root2 = find(node_u)\n",
        "\n",
        "  # union-by-rank 기법\n",
        "  if rank[root1] > rank[root2]:\n",
        "    parent[root2] = root1\n",
        "  else:\n",
        "    parent[root1] = root2\n",
        "    if rank[root1] == rank[root2]:\n",
        "      rank[root2] += 1\n",
        "\n",
        "def make_set(node):\n",
        "  parent[node] = node\n",
        "  rank[node] = 0\n",
        "\n",
        "def kruskal(graph):\n",
        "  mst = list()\n",
        "\n",
        "  # 1. 초기화\n",
        "  for node in graph['vertices']:\n",
        "    make_set(node)\n",
        "\n",
        "  # 2. 간선 weight 기반 sorting\n",
        "  edges = graph['edges']\n",
        "  edges.sort()\n",
        "\n",
        "  # 3. 사이클 없는 간선만 연결\n",
        "  for edge in edges:\n",
        "    weight, node_v, node_u = edge\n",
        "    if find(node_v) != find(node_u):\n",
        "      union(node_v, node_u)\n",
        "      mst.append(edge)\n",
        "\n",
        "  return mst"
      ],
      "metadata": {
        "id": "t5H8dP0JgEul"
      },
      "execution_count": 6,
      "outputs": []
    },
    {
      "cell_type": "code",
      "source": [
        "kruskal(mygraph)"
      ],
      "metadata": {
        "colab": {
          "base_uri": "https://localhost:8080/"
        },
        "id": "Ow8_eIsmiFF3",
        "outputId": "95badd92-761c-4b02-9311-5af1fa5831fb"
      },
      "execution_count": 7,
      "outputs": [
        {
          "output_type": "execute_result",
          "data": {
            "text/plain": [
              "[(5, 'A', 'D'),\n",
              " (5, 'C', 'E'),\n",
              " (6, 'D', 'F'),\n",
              " (7, 'A', 'B'),\n",
              " (7, 'B', 'E'),\n",
              " (9, 'E', 'G')]"
            ]
          },
          "metadata": {},
          "execution_count": 7
        }
      ]
    },
    {
      "cell_type": "markdown",
      "source": [
        "### 프림 알고리즘 (Prim's algorithm)\n",
        "- 대표적인 최소 신장 트리 알고리즘\n",
        "  - Kruskal’s algorithm (크루스칼 알고리즘), Prim's algorithm (프림 알고리즘)\n",
        "- 프림 알고리즘 \n",
        "  - 시작 정점을 선택한 후, 정점에 인접한 간선중 최소 간선으로 연결된 정점을 선택하고, 해당 정점에서 다시 최소 간선으로 연결된 정점을 선택하는 방식으로 최소 신장 트리를 확장해가는 방식\n",
        "- Kruskal's algorithm 과 Prim's algorithm 비교\n",
        "  - 둘다, 탐욕 알고리즘을 기초로 하고 있음 (당장 눈 앞의 최소 비용을 선택해서, 결과적으로 최적의 솔루션을 찾음)\n",
        "  - Kruskal's algorithm은 가장 가중치가 작은 간선부터 선택하면서 MST를 구함\n",
        "  - Prim's algorithm은 특정 정점에서 시작, 해당 정점에 연결된 가장 가중치가 작은 간선을 선택, 간선으로 연결된 정점들에 연결된 간선 중에서 가장 가중치가 작은 간선을 택하는 방식으로 MST를 구함"
      ],
      "metadata": {
        "id": "dYSlCrJ7L6_N"
      }
    },
    {
      "cell_type": "markdown",
      "source": [
        "### 프림 알고리즘 (Prim's algorithm) 코드 작성"
      ],
      "metadata": {
        "id": "k5WF58z8L-CR"
      }
    },
    {
      "cell_type": "markdown",
      "source": [
        "### 참고: heapq 라이브러리 활용을 통해 우선순위 큐 사용하기\n",
        "- heapq.heappush를 통해 데이터를 heap 형태로 넣을 수 있음 (0번 인덱스를 우선순위로 인지함)"
      ],
      "metadata": {
        "id": "thvpll9-L_BR"
      }
    },
    {
      "cell_type": "code",
      "source": [
        "import heapq\n",
        "\n",
        "queue = list()\n",
        "graph_data=[[2,'A'],[5,'B'],[3,'C']]\n",
        "\n",
        "for edge in graph_data:\n",
        "  heapq.heappush(queue, edge)\n",
        "\n",
        "for index in range(len(queue)):\n",
        "  print(heapq.heappop(queue))"
      ],
      "metadata": {
        "colab": {
          "base_uri": "https://localhost:8080/"
        },
        "id": "qqr7rnWUAuhg",
        "outputId": "420fced6-1d94-4de0-9f1a-241c558c304e"
      },
      "execution_count": 2,
      "outputs": [
        {
          "output_type": "stream",
          "name": "stdout",
          "text": [
            "[2, 'A']\n",
            "[3, 'C']\n",
            "[5, 'B']\n"
          ]
        }
      ]
    },
    {
      "cell_type": "markdown",
      "source": [
        "- heapq.heapify() 함수를 통해 리스트 데이터를 heap 형태로 한 번에 변환할 수 있음 (0번 인덱스를 우선순위로 인지함)"
      ],
      "metadata": {
        "id": "b2AiYFpCMKhQ"
      }
    },
    {
      "cell_type": "code",
      "source": [
        "import heapq\n",
        "\n",
        "graph_data=[[2,'A'],[5,'B'],[3,'C']]\n",
        "\n",
        "heapq.heapify(graph_data)\n",
        "\n",
        "for index in range(len(graph_data)):\n",
        "  print(heapq.heappop(graph_data))"
      ],
      "metadata": {
        "colab": {
          "base_uri": "https://localhost:8080/"
        },
        "id": "23bUlUFbgUxC",
        "outputId": "1938a398-0d5d-4975-ddb0-dc31e449efba"
      },
      "execution_count": 3,
      "outputs": [
        {
          "output_type": "stream",
          "name": "stdout",
          "text": [
            "[2, 'A']\n",
            "[3, 'C']\n",
            "[5, 'B']\n"
          ]
        }
      ]
    },
    {
      "cell_type": "markdown",
      "source": [
        "### 참고: collections 라이브러리의 defaultdict 함수 활용하기\n",
        "- defaultdict 함수를 사용해서, key에 대한 value를 지정하지 않았을 시, 빈 리스트로 초기화하기"
      ],
      "metadata": {
        "id": "ss8sfzQlMaEJ"
      }
    },
    {
      "cell_type": "code",
      "source": [
        "from collections import defaultdict\n",
        "\n",
        "list_dict = defaultdict(list)\n",
        "print(list_dict['key1'])"
      ],
      "metadata": {
        "colab": {
          "base_uri": "https://localhost:8080/"
        },
        "id": "0qsZ9s8VgvSF",
        "outputId": "ea398cec-af54-4123-bfcb-b3b95ac29b52"
      },
      "execution_count": 4,
      "outputs": [
        {
          "output_type": "stream",
          "name": "stdout",
          "text": [
            "[]\n"
          ]
        }
      ]
    },
    {
      "cell_type": "markdown",
      "source": [
        "### 프림 알고리즘 파이썬 코드\n",
        "0. 모든 간선 정보를 저장 (**adjacent_edges**)\n",
        "1. 임의의 정점을 선택, '연결된 노드 집합(**connected_nodes**)'에 삽입\n",
        "2. 선택된 정점에 연결된 간선들을 간선 리스트(**candidate_edge_list**)에 삽입\n",
        "3. 간선 리스트(**candidate_edge_list**)에서 최소 가중치를 가지는 간선부터 추출해서,\n",
        "   - 해당 간선에 연결된 인접 정점이 '연결된 노드 집합'에 이미 들어 있다면, 스킵함(cycle 발생을 막기 위함)\n",
        "   - 해당 간선에 연결된 인접 정점이 '연결된 노드 집합'에 들어 있지 않으면, 해당 간선을 선택하고, 해당 간선 정보를 '최소 신장 트리(**mst**)'에 삽입\n",
        "     - 해당 간선에 연결된 인접 정점의 간선들 중, '연결된 노드 집합(**connected_nodes**)' 에 없는 노드와 연결된 간선들만 간선 리스트(**candidate_edge_list**) 에 삽입 \n",
        "       - '연결된 노드 집합(**connected_nodes**)' 에 있는 노드와 연결된 간선들을 간선 리스트에 삽입해도, 해당 간선은 스킵될 것이기 때문임\n",
        "       - 어차피 스킵될 간선을 간선 리스트(**candidate_edge_list**)에 넣지 않으므로 해서, 간선 리스트(**candidate_edge_list**)에서 최소 가중치를 가지는 간선부터 추출하기 위한 자료구조 유지를 위한 effort를 줄일 수 있음 (예, 최소힙 구조 사용)\n",
        "     \n",
        "     \n",
        "4. 선택된 간선은 간선 리스트에서 제거\n",
        "5. 간선 리스트에 더 이상의 간선이 없을 때까지 3-4번을 반복"
      ],
      "metadata": {
        "id": "QRWn6r-IMdN0"
      }
    },
    {
      "cell_type": "code",
      "source": [
        "myedges = [\n",
        "    (7, 'A', 'B'), (5, 'A', 'D'),\n",
        "    (8, 'B', 'C'), (9, 'B', 'D'), (7, 'B', 'E'),\n",
        "    (5, 'C', 'E'),\n",
        "    (7, 'D', 'E'), (6, 'D', 'F'),\n",
        "    (8, 'E', 'F'), (9, 'E', 'G'),\n",
        "    (11, 'F', 'G')\n",
        "]"
      ],
      "metadata": {
        "id": "CPdDCK0diyvM"
      },
      "execution_count": 5,
      "outputs": []
    },
    {
      "cell_type": "code",
      "source": [
        "from collections import defaultdict\n",
        "from heapq import *\n",
        "\n",
        "def prim(start_node, edges):\n",
        "  mst = list()\n",
        "  adjacent_edges = defaultdict(list)\n",
        "  for weight, n1, n2 in edges:\n",
        "    adjacent_edges[n1].append((weight,n1,n2))\n",
        "    adjacent_edges[n2].append((weight,n2,n1))\n",
        "  \n",
        "  connected_nodes = set(start_node)\n",
        "  candidate_edge_list = adjacent_edges[start_node]\n",
        "  heapify(candidate_edge_list)\n",
        "\n",
        "  while candidate_edge_list:\n",
        "    weight, n1, n2 = heappop(candidate_edge_list)\n",
        "    if n2 not in connected_nodes:\n",
        "      connected_nodes.add(n2)\n",
        "      mst.append((weight, n1, n2))\n",
        "\n",
        "      for edge in adjacent_edges[n2]:\n",
        "        if edge[2] not in connected_nodes:\n",
        "          heappush(candidate_edge_list,edge)\n",
        "          \n",
        "  return mst"
      ],
      "metadata": {
        "id": "poVUCuO1mbOS"
      },
      "execution_count": null,
      "outputs": []
    }
  ]
}