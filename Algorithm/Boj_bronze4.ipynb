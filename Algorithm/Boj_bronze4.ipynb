{
  "nbformat": 4,
  "nbformat_minor": 0,
  "metadata": {
    "colab": {
      "provenance": [],
      "authorship_tag": "ABX9TyMB9NvVRDP+yVniEm8ssFqH",
      "include_colab_link": true
    },
    "kernelspec": {
      "name": "python3",
      "display_name": "Python 3"
    },
    "language_info": {
      "name": "python"
    }
  },
  "cells": [
    {
      "cell_type": "markdown",
      "metadata": {
        "id": "view-in-github",
        "colab_type": "text"
      },
      "source": [
        "<a href=\"https://colab.research.google.com/github/Zamoca42/TIL/blob/main/Algorithm/Boj_bronze4.ipynb\" target=\"_parent\"><img src=\"https://colab.research.google.com/assets/colab-badge.svg\" alt=\"Open In Colab\"/></a>"
      ]
    },
    {
      "cell_type": "markdown",
      "source": [
        "## 모음의 개수: https://www.acmicpc.net/problem/1264"
      ],
      "metadata": {
        "id": "yL5R5j6kF2hG"
      }
    },
    {
      "cell_type": "code",
      "execution_count": 3,
      "metadata": {
        "colab": {
          "base_uri": "https://localhost:8080/"
        },
        "id": "wFOptFyHFyxf",
        "outputId": "341b1a79-7d33-44b2-fe11-f93d4197cfaa"
      },
      "outputs": [
        {
          "name": "stdout",
          "output_type": "stream",
          "text": [
            "I live at number twenty four.\n",
            "9\n",
            "#\n"
          ]
        }
      ],
      "source": [
        "while True:\n",
        "  string = input().lower()\n",
        "  count = 0\n",
        "  if string == '#':\n",
        "    break\n",
        "\n",
        "  for word in string:\n",
        "    if word in ['a','e','i','o','u']:\n",
        "      count += 1\n",
        "\n",
        "  print(count)"
      ]
    },
    {
      "cell_type": "markdown",
      "source": [
        "## 럭비 클럽: https://www.acmicpc.net/problem/2083"
      ],
      "metadata": {
        "id": "x6jmFtdFHFoo"
      }
    },
    {
      "cell_type": "code",
      "source": [
        "while True:\n",
        "  command = input().split()\n",
        "  name, age, weight = command[0], int(command[1]), int(command[2])\n",
        "\n",
        "  if (name, age, weight) == ('#', 0, 0):\n",
        "    break\n",
        "\n",
        "  print(name, 'Senior' if age > 17 or weight >= 80 else 'Junior')"
      ],
      "metadata": {
        "colab": {
          "base_uri": "https://localhost:8080/"
        },
        "id": "xn70O0KWGIUU",
        "outputId": "06eaf5fb-346d-4096-dbac-89ed657e6be3"
      },
      "execution_count": 3,
      "outputs": [
        {
          "name": "stdout",
          "output_type": "stream",
          "text": [
            "Joe 16 34\n",
            "Joe Junior\n",
            "Bill 18 65\n",
            "Bill Senior\n",
            "Billy 17 65\n",
            "Billy Junior\n",
            "Sam 17 85\n",
            "Sam Senior\n",
            "# 0 0\n"
          ]
        }
      ]
    },
    {
      "cell_type": "markdown",
      "source": [
        "## 별 찍기-3: https://www.acmicpc.net/problem/2440"
      ],
      "metadata": {
        "id": "8ijBmE2zI7Zl"
      }
    },
    {
      "cell_type": "code",
      "source": [
        "n = int(input())\n",
        "\n",
        "for i in range(n, 0, -1):\n",
        "  print('*' * i)"
      ],
      "metadata": {
        "colab": {
          "base_uri": "https://localhost:8080/"
        },
        "id": "WEMbnmCZIO6b",
        "outputId": "85261894-cd6c-4d42-ca4b-ca52ea442ff5"
      },
      "execution_count": 5,
      "outputs": [
        {
          "output_type": "stream",
          "name": "stdout",
          "text": [
            "5\n",
            "*****\n",
            "****\n",
            "***\n",
            "**\n",
            "*\n"
          ]
        }
      ]
    },
    {
      "cell_type": "markdown",
      "source": [
        "## 주사위 세개: https://www.acmicpc.net/problem/2480"
      ],
      "metadata": {
        "id": "1jpf2RYpQEI1"
      }
    },
    {
      "cell_type": "code",
      "source": [
        "a, b, c = map(int, input().split())\n",
        "\n",
        "if a == b or a == c or b == c:\n",
        "  if a == b == c:\n",
        "    print(10000 + (a * 1000))\n",
        "  else:\n",
        "    if a == b or a == c:\n",
        "      print(1000 + (a * 100))\n",
        "    elif b == c:\n",
        "      print(1000 + (b * 100))\n",
        "else:\n",
        "  print(max(a, b, c) * 100)"
      ],
      "metadata": {
        "colab": {
          "base_uri": "https://localhost:8080/"
        },
        "id": "kMsnem16QGO4",
        "outputId": "40e6b6aa-6613-4623-b298-cda7c8ed4cad"
      },
      "execution_count": 14,
      "outputs": [
        {
          "output_type": "stream",
          "name": "stdout",
          "text": [
            "6 2 5\n",
            "600\n"
          ]
        }
      ]
    },
    {
      "cell_type": "markdown",
      "source": [
        "### 다른사람의 풀이"
      ],
      "metadata": {
        "id": "_bfv7Tj0UXT1"
      }
    },
    {
      "cell_type": "markdown",
      "source": [
        "https://www.acmicpc.net/board/view/119326"
      ],
      "metadata": {
        "id": "Be6MqBpaUaXV"
      }
    },
    {
      "cell_type": "code",
      "source": [
        "dice = list(map(int,input().split()))\n",
        "dset = list(set(dice))\n",
        "\n",
        "if len(dset) == 3:\n",
        "    print(max(dice) * 100)\n",
        "elif len(dset) == 2:\n",
        "    print(1000 + (sum(dice) - sum(dset)) * 100)\n",
        "    # [3, 3, 6] 일 때, set(3, 6) 이므로 sum(dice) - sum(dset) = 3\n",
        "else:\n",
        "    print(10000 + dset[0] * 1000)"
      ],
      "metadata": {
        "id": "vJYOarxPUY85"
      },
      "execution_count": null,
      "outputs": []
    },
    {
      "cell_type": "markdown",
      "source": [
        "## 인공지능 시계: https://www.acmicpc.net/problem/2530"
      ],
      "metadata": {
        "id": "Jovz1JgVYXIp"
      }
    },
    {
      "cell_type": "code",
      "source": [
        "print(500000 // 3600)\n",
        "print(500000 % 3600)"
      ],
      "metadata": {
        "colab": {
          "base_uri": "https://localhost:8080/"
        },
        "id": "Uw2bO6K6cGA7",
        "outputId": "df9315f8-079f-4875-e7d5-375d68b077ac"
      },
      "execution_count": 23,
      "outputs": [
        {
          "output_type": "stream",
          "name": "stdout",
          "text": [
            "138\n",
            "3200\n"
          ]
        }
      ]
    },
    {
      "cell_type": "code",
      "source": [
        "h, m, s = map(int, input().split())\n",
        "n = int(input())\n",
        "\n",
        "if n >= 60:\n",
        "  if n >= 3600:\n",
        "    h += n // 3600\n",
        "    n = n % 3600\n",
        "  m += n // 60\n",
        "  s += n % 60\n",
        "else:\n",
        "  s += n\n",
        "\n",
        "if s >= 60:\n",
        "  m += s // 60\n",
        "  s = s % 60\n",
        "\n",
        "if m >= 60:\n",
        "  h += m // 60\n",
        "  m = m % 60\n",
        "\n",
        "if h >= 24:\n",
        "  h = h % 24\n",
        "\n",
        "print(h, m, s)"
      ],
      "metadata": {
        "colab": {
          "base_uri": "https://localhost:8080/"
        },
        "id": "IkfxJAh1YgDW",
        "outputId": "212b3db5-04a8-4fc4-a2f3-8f56dfaddcba"
      },
      "execution_count": 37,
      "outputs": [
        {
          "output_type": "stream",
          "name": "stdout",
          "text": [
            "14 30 0\n",
            "200\n",
            "14 33 20\n"
          ]
        }
      ]
    },
    {
      "cell_type": "markdown",
      "source": [
        "### 다른 사람의 풀이 참고"
      ],
      "metadata": {
        "id": "Ghf0nDH0hmkn"
      }
    },
    {
      "cell_type": "code",
      "source": [
        "a, b, c = map(int, input().split())\n",
        "d = int(input())\n",
        "\n",
        "hour = a + ((b + ((c + d) // 60)) // 60)\n",
        "min = (b + ((c + d) // 60)) % 60\n",
        "sec = (c + d) % 60\n",
        "\n",
        "if hour >= 24 :\n",
        "  hour = hour % 24\n",
        "\n",
        "print(hour,min,sec)"
      ],
      "metadata": {
        "id": "QWJCGDR7i7bj"
      },
      "execution_count": null,
      "outputs": []
    },
    {
      "cell_type": "markdown",
      "source": [
        "### 조건문 없이 풀기"
      ],
      "metadata": {
        "id": "ZQfWWjnjjELH"
      }
    },
    {
      "cell_type": "code",
      "source": [
        "h, m, s = map(int, input().split())\n",
        "n = int(input())\n",
        "\n",
        "s += n\n",
        "m += s // 60\n",
        "h += m // 60\n",
        "\n",
        "print(h % 24, m % 60, s % 60)"
      ],
      "metadata": {
        "colab": {
          "base_uri": "https://localhost:8080/"
        },
        "id": "qg08DO-whn7n",
        "outputId": "94bb4936-fdec-481d-a056-e7e3a3733f97"
      },
      "execution_count": 44,
      "outputs": [
        {
          "output_type": "stream",
          "name": "stdout",
          "text": [
            "17 40 45\n",
            "6015\n",
            "19 21 0\n"
          ]
        }
      ]
    },
    {
      "cell_type": "markdown",
      "source": [
        "## 빠른입력"
      ],
      "metadata": {
        "id": "CYvHJa7tlfFd"
      }
    },
    {
      "cell_type": "code",
      "source": [
        "import sys\n",
        "input = sys.stdin.readline\n",
        "# 입력이 많을 때 사용"
      ],
      "metadata": {
        "id": "QFT3kkpGlgmE"
      },
      "execution_count": null,
      "outputs": []
    },
    {
      "cell_type": "markdown",
      "source": [
        "## 시간재는방법"
      ],
      "metadata": {
        "id": "l3pMLpBGMSsh"
      }
    },
    {
      "cell_type": "code",
      "source": [
        "import time\n",
        "\n",
        "n = 100000\n",
        "\n",
        "start_time = time.time()\n",
        "\n",
        "# 코드\n",
        "\n",
        "end_time = time.time()\n",
        "\n",
        "execution_time = end_time - start_time\n",
        "\n",
        "print(\"Execution time:\", execution_time, \"seconds\")"
      ],
      "metadata": {
        "colab": {
          "base_uri": "https://localhost:8080/"
        },
        "id": "Ww1o3nRNKsuY",
        "outputId": "1821a9e9-c2d2-4070-cb25-cd2b1e561a37"
      },
      "execution_count": null,
      "outputs": [
        {
          "output_type": "stream",
          "name": "stdout",
          "text": [
            "Execution time: 2.1219253540039062e-05 seconds\n"
          ]
        }
      ]
    }
  ]
}