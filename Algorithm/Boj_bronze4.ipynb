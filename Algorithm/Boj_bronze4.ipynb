{
  "nbformat": 4,
  "nbformat_minor": 0,
  "metadata": {
    "colab": {
      "provenance": [],
      "authorship_tag": "ABX9TyNjVNz+2AP5yx9XBneHc8Yw",
      "include_colab_link": true
    },
    "kernelspec": {
      "name": "python3",
      "display_name": "Python 3"
    },
    "language_info": {
      "name": "python"
    }
  },
  "cells": [
    {
      "cell_type": "markdown",
      "metadata": {
        "id": "view-in-github",
        "colab_type": "text"
      },
      "source": [
        "<a href=\"https://colab.research.google.com/github/Zamoca42/TIL/blob/main/Algorithm/Boj_bronze4.ipynb\" target=\"_parent\"><img src=\"https://colab.research.google.com/assets/colab-badge.svg\" alt=\"Open In Colab\"/></a>"
      ]
    },
    {
      "cell_type": "markdown",
      "source": [
        "## 모음의 개수: https://www.acmicpc.net/problem/1264"
      ],
      "metadata": {
        "id": "yL5R5j6kF2hG"
      }
    },
    {
      "cell_type": "code",
      "execution_count": 3,
      "metadata": {
        "colab": {
          "base_uri": "https://localhost:8080/"
        },
        "id": "wFOptFyHFyxf",
        "outputId": "341b1a79-7d33-44b2-fe11-f93d4197cfaa"
      },
      "outputs": [
        {
          "name": "stdout",
          "output_type": "stream",
          "text": [
            "I live at number twenty four.\n",
            "9\n",
            "#\n"
          ]
        }
      ],
      "source": [
        "while True:\n",
        "  string = input().lower()\n",
        "  count = 0\n",
        "  if string == '#':\n",
        "    break\n",
        "\n",
        "  for word in string:\n",
        "    if word in ['a','e','i','o','u']:\n",
        "      count += 1\n",
        "\n",
        "  print(count)"
      ]
    },
    {
      "cell_type": "markdown",
      "source": [
        "## 럭비 클럽: https://www.acmicpc.net/problem/2083"
      ],
      "metadata": {
        "id": "x6jmFtdFHFoo"
      }
    },
    {
      "cell_type": "code",
      "source": [
        "while True:\n",
        "  command = input().split()\n",
        "  name, age, weight = command[0], int(command[1]), int(command[2])\n",
        "\n",
        "  if (name, age, weight) == ('#', 0, 0):\n",
        "    break\n",
        "\n",
        "  print(name, 'Senior' if age > 17 or weight >= 80 else 'Junior')"
      ],
      "metadata": {
        "colab": {
          "base_uri": "https://localhost:8080/"
        },
        "id": "xn70O0KWGIUU",
        "outputId": "06eaf5fb-346d-4096-dbac-89ed657e6be3"
      },
      "execution_count": 3,
      "outputs": [
        {
          "name": "stdout",
          "output_type": "stream",
          "text": [
            "Joe 16 34\n",
            "Joe Junior\n",
            "Bill 18 65\n",
            "Bill Senior\n",
            "Billy 17 65\n",
            "Billy Junior\n",
            "Sam 17 85\n",
            "Sam Senior\n",
            "# 0 0\n"
          ]
        }
      ]
    },
    {
      "cell_type": "markdown",
      "source": [
        "## 별 찍기-3: https://www.acmicpc.net/problem/2440"
      ],
      "metadata": {
        "id": "8ijBmE2zI7Zl"
      }
    },
    {
      "cell_type": "code",
      "source": [
        "n = int(input())\n",
        "\n",
        "for i in range(n, 0, -1):\n",
        "  print('*' * i)"
      ],
      "metadata": {
        "colab": {
          "base_uri": "https://localhost:8080/"
        },
        "id": "WEMbnmCZIO6b",
        "outputId": "85261894-cd6c-4d42-ca4b-ca52ea442ff5"
      },
      "execution_count": 5,
      "outputs": [
        {
          "output_type": "stream",
          "name": "stdout",
          "text": [
            "5\n",
            "*****\n",
            "****\n",
            "***\n",
            "**\n",
            "*\n"
          ]
        }
      ]
    },
    {
      "cell_type": "markdown",
      "source": [
        "## 주사위 세개: https://www.acmicpc.net/problem/2480"
      ],
      "metadata": {
        "id": "1jpf2RYpQEI1"
      }
    },
    {
      "cell_type": "code",
      "source": [
        "a, b, c = map(int, input().split())\n",
        "\n",
        "if a == b or a == c or b == c:\n",
        "  if a == b == c:\n",
        "    print(10000 + (a * 1000))\n",
        "  else:\n",
        "    if a == b or a == c:\n",
        "      print(1000 + (a * 100))\n",
        "    elif b == c:\n",
        "      print(1000 + (b * 100))\n",
        "else:\n",
        "  print(max(a, b, c) * 100)"
      ],
      "metadata": {
        "colab": {
          "base_uri": "https://localhost:8080/"
        },
        "id": "kMsnem16QGO4",
        "outputId": "40e6b6aa-6613-4623-b298-cda7c8ed4cad"
      },
      "execution_count": 14,
      "outputs": [
        {
          "output_type": "stream",
          "name": "stdout",
          "text": [
            "6 2 5\n",
            "600\n"
          ]
        }
      ]
    },
    {
      "cell_type": "markdown",
      "source": [
        "### 다른사람의 풀이"
      ],
      "metadata": {
        "id": "_bfv7Tj0UXT1"
      }
    },
    {
      "cell_type": "markdown",
      "source": [
        "https://www.acmicpc.net/board/view/119326"
      ],
      "metadata": {
        "id": "Be6MqBpaUaXV"
      }
    },
    {
      "cell_type": "code",
      "source": [
        "dice = list(map(int,input().split()))\n",
        "dset = list(set(dice))\n",
        "\n",
        "if len(dset) == 3:\n",
        "    print(max(dice) * 100)\n",
        "elif len(dset) == 2:\n",
        "    print(1000 + (sum(dice) - sum(dset)) * 100)\n",
        "    # [3, 3, 6] 일 때, set(3, 6) 이므로 sum(dice) - sum(dset) = 3\n",
        "else:\n",
        "    print(10000 + dset[0] * 1000)"
      ],
      "metadata": {
        "id": "vJYOarxPUY85"
      },
      "execution_count": null,
      "outputs": []
    },
    {
      "cell_type": "markdown",
      "source": [
        "## 인공지능 시계: https://www.acmicpc.net/problem/2530"
      ],
      "metadata": {
        "id": "Jovz1JgVYXIp"
      }
    },
    {
      "cell_type": "code",
      "source": [
        "print(500000 // 3600)\n",
        "print(500000 % 3600)"
      ],
      "metadata": {
        "colab": {
          "base_uri": "https://localhost:8080/"
        },
        "id": "Uw2bO6K6cGA7",
        "outputId": "df9315f8-079f-4875-e7d5-375d68b077ac"
      },
      "execution_count": 23,
      "outputs": [
        {
          "output_type": "stream",
          "name": "stdout",
          "text": [
            "138\n",
            "3200\n"
          ]
        }
      ]
    },
    {
      "cell_type": "code",
      "source": [
        "h, m, s = map(int, input().split())\n",
        "n = int(input())\n",
        "\n",
        "if n >= 60:\n",
        "  if n >= 3600:\n",
        "    h += n // 3600\n",
        "    n = n % 3600\n",
        "  m += n // 60\n",
        "  s += n % 60\n",
        "else:\n",
        "  s += n\n",
        "\n",
        "if s >= 60:\n",
        "  m += s // 60\n",
        "  s = s % 60\n",
        "\n",
        "if m >= 60:\n",
        "  h += m // 60\n",
        "  m = m % 60\n",
        "\n",
        "if h >= 24:\n",
        "  h = h % 24\n",
        "\n",
        "print(h, m, s)"
      ],
      "metadata": {
        "colab": {
          "base_uri": "https://localhost:8080/"
        },
        "id": "IkfxJAh1YgDW",
        "outputId": "212b3db5-04a8-4fc4-a2f3-8f56dfaddcba"
      },
      "execution_count": 37,
      "outputs": [
        {
          "output_type": "stream",
          "name": "stdout",
          "text": [
            "14 30 0\n",
            "200\n",
            "14 33 20\n"
          ]
        }
      ]
    },
    {
      "cell_type": "markdown",
      "source": [
        "### 다른 사람의 풀이 참고"
      ],
      "metadata": {
        "id": "Ghf0nDH0hmkn"
      }
    },
    {
      "cell_type": "code",
      "source": [
        "a, b, c = map(int, input().split())\n",
        "d = int(input())\n",
        "\n",
        "hour = a + ((b + ((c + d) // 60)) // 60)\n",
        "min = (b + ((c + d) // 60)) % 60\n",
        "sec = (c + d) % 60\n",
        "\n",
        "if hour >= 24 :\n",
        "  hour = hour % 24\n",
        "\n",
        "print(hour,min,sec)"
      ],
      "metadata": {
        "id": "QWJCGDR7i7bj"
      },
      "execution_count": null,
      "outputs": []
    },
    {
      "cell_type": "markdown",
      "source": [
        "### 조건문 없이 풀기"
      ],
      "metadata": {
        "id": "ZQfWWjnjjELH"
      }
    },
    {
      "cell_type": "code",
      "source": [
        "h, m, s = map(int, input().split())\n",
        "n = int(input())\n",
        "\n",
        "s += n\n",
        "m += s // 60\n",
        "h += m // 60\n",
        "\n",
        "print(h % 24, m % 60, s % 60)"
      ],
      "metadata": {
        "colab": {
          "base_uri": "https://localhost:8080/"
        },
        "id": "qg08DO-whn7n",
        "outputId": "94bb4936-fdec-481d-a056-e7e3a3733f97"
      },
      "execution_count": 44,
      "outputs": [
        {
          "output_type": "stream",
          "name": "stdout",
          "text": [
            "17 40 45\n",
            "6015\n",
            "19 21 0\n"
          ]
        }
      ]
    },
    {
      "cell_type": "markdown",
      "source": [
        "## 기찍 N: https://www.acmicpc.net/problem/2742"
      ],
      "metadata": {
        "id": "sQ0WyCgnVVKB"
      }
    },
    {
      "cell_type": "code",
      "source": [
        "N = int(input())\n",
        "\n",
        "for i in range(N, 0, -1):\n",
        "  print(i)"
      ],
      "metadata": {
        "colab": {
          "base_uri": "https://localhost:8080/"
        },
        "id": "fFb2VNBsVYG9",
        "outputId": "1df9051f-b2ad-4109-8a60-c1e488d09264"
      },
      "execution_count": 1,
      "outputs": [
        {
          "output_type": "stream",
          "name": "stdout",
          "text": [
            "5\n",
            "5\n",
            "4\n",
            "3\n",
            "2\n",
            "1\n"
          ]
        }
      ]
    },
    {
      "cell_type": "markdown",
      "source": [
        "## 세수정렬: https://www.acmicpc.net/problem/2752"
      ],
      "metadata": {
        "id": "dfww7cdeVuKT"
      }
    },
    {
      "cell_type": "code",
      "source": [
        "nums = list(map(int, input().split()))\n",
        "\n",
        "nums.sort()\n",
        "for n in nums:\n",
        "  print(n, end=' ')"
      ],
      "metadata": {
        "colab": {
          "base_uri": "https://localhost:8080/"
        },
        "id": "k8v6UZfCVwXo",
        "outputId": "37cf33f4-3d1d-462d-917d-c5ab5461821d"
      },
      "execution_count": 3,
      "outputs": [
        {
          "output_type": "stream",
          "name": "stdout",
          "text": [
            "3 1 2\n",
            "1 2 3 "
          ]
        }
      ]
    },
    {
      "cell_type": "markdown",
      "source": [
        "## 파티가 끝나고 난 뒤: https://www.acmicpc.net/problem/2845"
      ],
      "metadata": {
        "id": "XmTWBvh0WUhb"
      }
    },
    {
      "cell_type": "code",
      "source": [
        "n, m = map(int, input().split())\n",
        "\n",
        "people = list(map(int, input().split()))\n",
        "\n",
        "for i in people:\n",
        "  print(i - (n * m), end=' ')"
      ],
      "metadata": {
        "colab": {
          "base_uri": "https://localhost:8080/"
        },
        "id": "CngoIjzjWXfT",
        "outputId": "62b51508-6b5e-4c2d-dc47-e3cfd9424759"
      },
      "execution_count": 5,
      "outputs": [
        {
          "output_type": "stream",
          "name": "stdout",
          "text": [
            "5 20\n",
            "99 101 1000 0 97\n",
            "-1 1 900 -100 -3 "
          ]
        }
      ]
    },
    {
      "cell_type": "markdown",
      "source": [
        "## R2: https://www.acmicpc.net/problem/3046"
      ],
      "metadata": {
        "id": "igjBEW8iW_-I"
      }
    },
    {
      "cell_type": "code",
      "source": [
        "# S = (R1 + R2) // 2\n",
        "\n",
        "R1, S = map(int, input().split())\n",
        "\n",
        "print(2 * S - R1)"
      ],
      "metadata": {
        "colab": {
          "base_uri": "https://localhost:8080/"
        },
        "id": "RuPhTsGpXCJx",
        "outputId": "77140213-cefe-4fe9-a509-22f734df199d"
      },
      "execution_count": 7,
      "outputs": [
        {
          "output_type": "stream",
          "name": "stdout",
          "text": [
            "4 3\n",
            "2\n"
          ]
        }
      ]
    },
    {
      "cell_type": "markdown",
      "source": [
        "## AFC 윔블던: https://www.acmicpc.net/problem/4299"
      ],
      "metadata": {
        "id": "eSIH4OXYX8dz"
      }
    },
    {
      "cell_type": "code",
      "source": [
        "sum_score, diff_score = map(int, input().split())\n",
        "\n",
        "a = (sum_score + diff_score) / 2\n",
        "b = (sum_score - diff_score) / 2\n",
        "\n",
        "if int(a) != a or int(b) != b:\n",
        "  print(-1)\n",
        "else:\n",
        "  print(max(a, b), min(b, a))"
      ],
      "metadata": {
        "colab": {
          "base_uri": "https://localhost:8080/"
        },
        "id": "yRZXK2A6X_c8",
        "outputId": "0fe2311c-7d6c-49f2-aaab-324f058fd359"
      },
      "execution_count": 17,
      "outputs": [
        {
          "output_type": "stream",
          "name": "stdout",
          "text": [
            "3 1\n",
            "2 1\n"
          ]
        }
      ]
    },
    {
      "cell_type": "markdown",
      "source": [
        "https://www.acmicpc.net/board/view/85879"
      ],
      "metadata": {
        "id": "CChMMeV4c5dW"
      }
    },
    {
      "cell_type": "code",
      "source": [
        "s, m = map(int, input().split())\n",
        "if  s+m < 0 or s-m < 0 or (s + m) % 2:\n",
        "    print(-1)\n",
        "else:\n",
        "    a = (s + m) // 2\n",
        "    b = s - a\n",
        "    print(max(a, b), min(a, b))"
      ],
      "metadata": {
        "id": "3jR4YfriedBi"
      },
      "execution_count": null,
      "outputs": []
    },
    {
      "cell_type": "markdown",
      "source": [
        "- s + m < 0, s - m < 0 음수인 조건을 추가해야한다"
      ],
      "metadata": {
        "id": "MBDBEB_-egh7"
      }
    },
    {
      "cell_type": "markdown",
      "source": [
        "## 줄번호: https://www.acmicpc.net/problem/4470"
      ],
      "metadata": {
        "id": "Be-CsQVgfiFr"
      }
    },
    {
      "cell_type": "code",
      "source": [
        "N = int(input())\n",
        "\n",
        "for i in range(1, N + 1):\n",
        "  string = input()\n",
        "  print(f'{i}. {string}')"
      ],
      "metadata": {
        "colab": {
          "base_uri": "https://localhost:8080/"
        },
        "id": "VKxRo4shfkoo",
        "outputId": "1c42b592-0cea-4bf9-cf1d-a2a2a764b4fd"
      },
      "execution_count": 20,
      "outputs": [
        {
          "output_type": "stream",
          "name": "stdout",
          "text": [
            "5\n",
            "Lionel Cosgrove\n",
            "1. Lionel Cosgrove\n",
            "Alice\n",
            "2. Alice\n",
            "Columbus and Tallahassee\n",
            "3. Columbus and Tallahassee\n",
            "Shaun and Ed\n",
            "4. Shaun and Ed\n",
            "Fido\n",
            "5. Fido\n"
          ]
        }
      ]
    },
    {
      "cell_type": "markdown",
      "source": [
        "## 입실 관리: https://www.acmicpc.net/problem/5524"
      ],
      "metadata": {
        "id": "2kqvaYAPggvR"
      }
    },
    {
      "cell_type": "code",
      "source": [
        "for _ in range(int(input())):\n",
        "  print(input().lower())"
      ],
      "metadata": {
        "colab": {
          "base_uri": "https://localhost:8080/"
        },
        "id": "wGjbUyuUgm6H",
        "outputId": "97e43b5a-9b85-40c9-d28e-9d7aeef5769e"
      },
      "execution_count": 22,
      "outputs": [
        {
          "output_type": "stream",
          "name": "stdout",
          "text": [
            "3\n",
            "WatanabE\n",
            "watanabe\n",
            "ITO\n",
            "ito\n",
            "YamaMoto\n",
            "yamamoto\n"
          ]
        }
      ]
    },
    {
      "cell_type": "markdown",
      "source": [
        "## 방학숙제: https://www.acmicpc.net/problem/5532"
      ],
      "metadata": {
        "id": "QQ04SNA_hs4e"
      }
    },
    {
      "cell_type": "code",
      "source": [
        "L = int(input())\n",
        "A = int(input())\n",
        "B = int(input())\n",
        "C = int(input())\n",
        "D = int(input())\n",
        "\n",
        "kor = A // C\n",
        "math = B // D\n",
        "\n",
        "if A % C:\n",
        "  kor += 1\n",
        "\n",
        "if B % D:\n",
        "  math += 1\n",
        "\n",
        "print(L - max(kor, math))"
      ],
      "metadata": {
        "id": "RDOMJBx4oXm8"
      },
      "execution_count": null,
      "outputs": []
    },
    {
      "cell_type": "markdown",
      "source": [
        "### math.ceil(올림) 사용"
      ],
      "metadata": {
        "id": "l2BzTV52oY0z"
      }
    },
    {
      "cell_type": "code",
      "source": [
        "import math\n",
        "\n",
        "L = int(input())\n",
        "A = int(input())\n",
        "B = int(input())\n",
        "C = int(input())\n",
        "D = int(input())\n",
        "\n",
        "kor = math.ceil(A / C)\n",
        "math = math.ceil(B / D)\n",
        "\n",
        "print(L - max(kor, math))"
      ],
      "metadata": {
        "colab": {
          "base_uri": "https://localhost:8080/"
        },
        "id": "D_pyFk1Uhvk_",
        "outputId": "24459507-4b2b-4bd5-a2c3-eea41795bc12"
      },
      "execution_count": 27,
      "outputs": [
        {
          "output_type": "stream",
          "name": "stdout",
          "text": [
            "15\n",
            "32\n",
            "48\n",
            "4\n",
            "6\n",
            "7\n"
          ]
        }
      ]
    },
    {
      "cell_type": "markdown",
      "source": [
        "## 상근날드: https://www.acmicpc.net/problem/5543"
      ],
      "metadata": {
        "id": "kkJd_3i-oxvJ"
      }
    },
    {
      "cell_type": "code",
      "source": [
        "# 메뉴 입력\n",
        "\n",
        "menu = []\n",
        "for _ in range(5):\n",
        "  menu.append(int(input()))"
      ],
      "metadata": {
        "colab": {
          "base_uri": "https://localhost:8080/"
        },
        "id": "t_175R__o1O3",
        "outputId": "868a3183-221d-4712-bc57-f0c4804fd2a2"
      },
      "execution_count": 41,
      "outputs": [
        {
          "name": "stdout",
          "output_type": "stream",
          "text": [
            "1999\n",
            "1999\n",
            "100\n",
            "189\n",
            "100\n"
          ]
        }
      ]
    },
    {
      "cell_type": "code",
      "source": [
        "# list comprehension 사용\n",
        "\n",
        "menu = [int(input()) for _ in range(5)]"
      ],
      "metadata": {
        "id": "tXxEdXpMssUA"
      },
      "execution_count": null,
      "outputs": []
    },
    {
      "cell_type": "code",
      "source": [
        "print(menu[0:3]) # 버거\n",
        "print(menu[3:5]) # 음료"
      ],
      "metadata": {
        "colab": {
          "base_uri": "https://localhost:8080/"
        },
        "id": "GQsf654LqNoY",
        "outputId": "d757cd43-f2cc-4d4e-db88-f6f379fc303b"
      },
      "execution_count": 42,
      "outputs": [
        {
          "output_type": "stream",
          "name": "stdout",
          "text": [
            "[1999, 1999, 100]\n",
            "[189, 100]\n"
          ]
        }
      ]
    },
    {
      "cell_type": "code",
      "source": [
        "# 세트 메뉴 조합\n",
        "\n",
        "set_menu = []\n",
        "\n",
        "for i in menu[0:3]:\n",
        "  for j in menu[3:5]:\n",
        "    set_menu.append(i + j)\n",
        "\n",
        "print(min(set_menu) - 50)"
      ],
      "metadata": {
        "colab": {
          "base_uri": "https://localhost:8080/"
        },
        "id": "wHfZmKLTq7fw",
        "outputId": "8e095662-e9f1-4e4e-e942-51c59e517f84"
      },
      "execution_count": 43,
      "outputs": [
        {
          "output_type": "stream",
          "name": "stdout",
          "text": [
            "[2188, 2099, 2188, 2099, 289, 200]\n",
            "150\n"
          ]
        }
      ]
    },
    {
      "cell_type": "code",
      "source": [
        "# 버거, 음료 중 최소값만 뽑기\n",
        "\n",
        "print(min(menu[0:3]) + min(menu[3:5]) - 50)"
      ],
      "metadata": {
        "colab": {
          "base_uri": "https://localhost:8080/"
        },
        "id": "v4yylcQmsUNP",
        "outputId": "b2d8c949-6361-470c-893e-6b45223686f4"
      },
      "execution_count": 44,
      "outputs": [
        {
          "output_type": "stream",
          "name": "stdout",
          "text": [
            "150\n"
          ]
        }
      ]
    },
    {
      "cell_type": "code",
      "source": [
        "# 숏 코드 완성\n",
        "\n",
        "menu = [int(input()) for _ in range(5)]\n",
        "\n",
        "print(min(menu[0:3]) + min(menu[3:5]) - 50)"
      ],
      "metadata": {
        "id": "d2ZYOynQtbnE"
      },
      "execution_count": null,
      "outputs": []
    },
    {
      "cell_type": "markdown",
      "source": [
        "## 심부름 가는길: https://www.acmicpc.net/problem/5554"
      ],
      "metadata": {
        "id": "vgt9JWvb1hct"
      }
    },
    {
      "cell_type": "code",
      "source": [
        "time = [int(input()) for _ in range(4)]"
      ],
      "metadata": {
        "colab": {
          "base_uri": "https://localhost:8080/"
        },
        "id": "UU2rtl501jFi",
        "outputId": "1dde96a3-7dbc-486f-a876-c276f9a78199"
      },
      "execution_count": 50,
      "outputs": [
        {
          "name": "stdout",
          "output_type": "stream",
          "text": [
            "5\n",
            "10\n",
            "15\n",
            "30\n"
          ]
        }
      ]
    },
    {
      "cell_type": "code",
      "source": [
        "print((sum(time) // 60) % 60) # min\n",
        "print(sum(time) % 60) # sec"
      ],
      "metadata": {
        "colab": {
          "base_uri": "https://localhost:8080/"
        },
        "id": "1bCvPFXc2Npv",
        "outputId": "0b8ab066-f2c4-4570-8378-ff8071b16dc0"
      },
      "execution_count": 51,
      "outputs": [
        {
          "output_type": "stream",
          "name": "stdout",
          "text": [
            "1\n",
            "0\n"
          ]
        }
      ]
    },
    {
      "cell_type": "markdown",
      "source": [
        "## 타임 카드: https://www.acmicpc.net/problem/5575"
      ],
      "metadata": {
        "id": "aaLkqTsg8OOy"
      }
    },
    {
      "cell_type": "code",
      "source": [
        "result = []\n",
        "\n",
        "for _ in range(3):\n",
        "  time = list(map(int, input().split()))\n",
        "  for i in range((len(time) + 1) // 2):\n",
        "    result.append(time[i + 3] - time[i])\n",
        "\n",
        "print(result)"
      ],
      "metadata": {
        "colab": {
          "base_uri": "https://localhost:8080/"
        },
        "id": "NgRjyMhV8gSx",
        "outputId": "2a75569c-cb19-4bee-d80a-89f7df32bb25"
      },
      "execution_count": 11,
      "outputs": [
        {
          "output_type": "stream",
          "name": "stdout",
          "text": [
            "9 0 0 18 0 0\n",
            "9 0 1 18 0 0\n",
            "12 14 52 12 15 30\n",
            "[9, 0, 0, 9, 0, -1, 0, 1, -22]\n"
          ]
        }
      ]
    },
    {
      "cell_type": "code",
      "source": [
        "for _ in range(3):\n",
        "  result = []\n",
        "  time = list(map(int, input().split()))\n",
        "\n",
        "  for i in range((len(time) + 1) // 2):\n",
        "    result.append(time[i + 3] - time[i])\n",
        "\n",
        "  for i in range(len(result) - 1, -1, -1):\n",
        "    if i != 0:\n",
        "      if result[i] < 0:\n",
        "        result[i] += 60\n",
        "        result[i - 1] -= 1\n",
        "      elif result[i] > 60:\n",
        "        result[i] = result[i] % 60\n",
        "        result[i - 1] += 1\n",
        "\n",
        "  print(result[0], result[1], result[2])"
      ],
      "metadata": {
        "colab": {
          "base_uri": "https://localhost:8080/"
        },
        "id": "U7lSJKqzQWZb",
        "outputId": "29b2405e-bc1a-40e0-b11b-baa41d95f828"
      },
      "execution_count": 15,
      "outputs": [
        {
          "output_type": "stream",
          "name": "stdout",
          "text": [
            "9 0 0 18 0 0\n",
            "9 0 0\n",
            "9 0 1 18 0 0\n",
            "8 59 59\n",
            "12 14 52 12 15 30\n",
            "0 0 38\n"
          ]
        }
      ]
    },
    {
      "cell_type": "markdown",
      "source": [
        "### 시, 분, 초 -> 초로 변환 해서 풀기"
      ],
      "metadata": {
        "id": "nCHO5hAOctgx"
      }
    },
    {
      "cell_type": "code",
      "source": [
        "for _ in range(3):\n",
        "  time = [9,0,1,18,0,0]\n",
        "  # time = list(map(int, input().split()))\n",
        "  sec2 = 0\n",
        "  sec1 = 0\n",
        "\n",
        "  for i in range((len(time) + 1) // 2):\n",
        "    sec2 += time[i + 3] * (3600 // 60**i)\n",
        "    sec1 += time[i] * (3600 // 60**i)\n",
        "\n",
        "  result = sec2 - sec1\n",
        "\n",
        "  print(result)\n",
        "\n",
        "  h = int(result // 3600)\n",
        "  m = int(result // 60) % 60\n",
        "  s = int(result % 60)\n",
        "\n",
        "  print(h, m, s)"
      ],
      "metadata": {
        "colab": {
          "base_uri": "https://localhost:8080/"
        },
        "id": "hWMQ79DqUv8d",
        "outputId": "bdfd5ea4-6189-4dc9-93c3-dbb41685cff4"
      },
      "execution_count": 24,
      "outputs": [
        {
          "output_type": "stream",
          "name": "stdout",
          "text": [
            "32399\n",
            "8 59 59\n",
            "32399\n",
            "8 59 59\n",
            "32399\n",
            "8 59 59\n"
          ]
        }
      ]
    },
    {
      "cell_type": "code",
      "source": [
        "for _ in range(3):\n",
        "  time = [9,0,1,18,0,0]\n",
        "  # time = list(map(int, input().split()))\n",
        "  sec = 0\n",
        "\n",
        "  for i in range((len(time) + 1) // 2):\n",
        "    sec += (time[i + 3] - time[i]) * (3600 // 60**i)\n",
        "\n",
        "  s = sec\n",
        "  m = s // 60\n",
        "  h = m // 60\n",
        "\n",
        "  print(h, m % 60, s % 60)"
      ],
      "metadata": {
        "colab": {
          "base_uri": "https://localhost:8080/"
        },
        "id": "dQ8NMeuBZ9iH",
        "outputId": "b280ab63-65d5-4c73-81df-3f77aa96133f"
      },
      "execution_count": 39,
      "outputs": [
        {
          "output_type": "stream",
          "name": "stdout",
          "text": [
            "8 59 59\n",
            "8 59 59\n",
            "8 59 59\n"
          ]
        }
      ]
    },
    {
      "cell_type": "markdown",
      "source": [
        "## 시험 점수: https://www.acmicpc.net/problem/5596"
      ],
      "metadata": {
        "id": "zhyXHgt98Rwx"
      }
    },
    {
      "cell_type": "code",
      "source": [
        "S = sum(list(map(int, input().split())))\n",
        "T = sum(list(map(int, input().split())))\n",
        "\n",
        "print(S if S == T else max(S, T))"
      ],
      "metadata": {
        "colab": {
          "base_uri": "https://localhost:8080/"
        },
        "id": "XybtG0HW8gpH",
        "outputId": "b8450ad9-c8ea-440b-e5de-732aa64176d9"
      },
      "execution_count": 31,
      "outputs": [
        {
          "output_type": "stream",
          "name": "stdout",
          "text": [
            "100 80 70 60\n",
            "80 70 60 100\n",
            "310\n"
          ]
        }
      ]
    },
    {
      "cell_type": "markdown",
      "source": [
        "## 상근이의 친구들: https://www.acmicpc.net/problem/5717"
      ],
      "metadata": {
        "id": "66LbVFT68Vla"
      }
    },
    {
      "cell_type": "code",
      "source": [
        "while True:\n",
        "  m, f = map(int, input().split())\n",
        "\n",
        "  if (m, f) == (0, 0):\n",
        "    break\n",
        "\n",
        "  print(m + f)"
      ],
      "metadata": {
        "colab": {
          "base_uri": "https://localhost:8080/"
        },
        "id": "LkOUsT7y8g9N",
        "outputId": "754c9673-e0dc-486c-bf12-60e1a42f859d"
      },
      "execution_count": 32,
      "outputs": [
        {
          "name": "stdout",
          "output_type": "stream",
          "text": [
            "2 2\n",
            "4\n",
            "2 3\n",
            "5\n",
            "5 5\n",
            "10\n",
            "1 1\n",
            "2\n",
            "0 0\n"
          ]
        }
      ]
    },
    {
      "cell_type": "markdown",
      "source": [
        "## Hello Judge: https://www.acmicpc.net/problem/9316"
      ],
      "metadata": {
        "id": "l6RNjcuV8k0Y"
      }
    },
    {
      "cell_type": "code",
      "source": [
        "for i in range(int(input())):\n",
        "  print(f'Hello World, Judge {i + 1}!')"
      ],
      "metadata": {
        "colab": {
          "base_uri": "https://localhost:8080/"
        },
        "id": "xxcA8YTBiBo2",
        "outputId": "d3ce9ac4-7bcf-489c-a1af-9b0747ec1d26"
      },
      "execution_count": 33,
      "outputs": [
        {
          "output_type": "stream",
          "name": "stdout",
          "text": [
            "3\n",
            "Hello World, Judge 1!\n",
            "Hello World, Judge 2!\n",
            "Hello World, Judge 3!\n"
          ]
        }
      ]
    },
    {
      "cell_type": "markdown",
      "source": [
        "## 평균 점수: https://www.acmicpc.net/problem/10039"
      ],
      "metadata": {
        "id": "Qbp_Apt88lpC"
      }
    },
    {
      "cell_type": "code",
      "source": [
        "# import sys\n",
        "# input = sys.stdin.readline\n",
        "\n",
        "value = 0\n",
        "\n",
        "for i in range(5):\n",
        "  N = int(input())\n",
        "  if N < 40:\n",
        "    N = 40\n",
        "  value += N\n",
        "\n",
        "print(value // 5)"
      ],
      "metadata": {
        "colab": {
          "base_uri": "https://localhost:8080/"
        },
        "id": "HY1TKHjnijYY",
        "outputId": "949f3929-8227-4f73-9a2d-0cc0848a4d87"
      },
      "execution_count": 34,
      "outputs": [
        {
          "output_type": "stream",
          "name": "stdout",
          "text": [
            "10\n",
            "65\n",
            "100\n",
            "30\n",
            "95\n",
            "68\n"
          ]
        }
      ]
    },
    {
      "cell_type": "markdown",
      "source": [
        "## 삼각형 외우기: https://www.acmicpc.net/problem/10101"
      ],
      "metadata": {
        "id": "2ogJZSa88l0A"
      }
    },
    {
      "cell_type": "code",
      "source": [
        "angle = []\n",
        "message = ['Error', 'Equilateral', 'Isosceles', 'Scalene']\n",
        "\n",
        "for i in range(3):\n",
        "  angle.append(int(input()))\n",
        "\n",
        "print(message[0 if sum(angle) != 180 else len(set(angle))])"
      ],
      "metadata": {
        "colab": {
          "base_uri": "https://localhost:8080/"
        },
        "id": "3HnHtF4KiCih",
        "outputId": "89d8b75b-b84a-431c-aee9-3a7750f5bb3a"
      },
      "execution_count": 38,
      "outputs": [
        {
          "output_type": "stream",
          "name": "stdout",
          "text": [
            "60\n",
            "70\n",
            "50\n",
            "Scalene\n"
          ]
        }
      ]
    },
    {
      "cell_type": "markdown",
      "source": [
        "## 과자: https://www.acmicpc.net/problem/10156"
      ],
      "metadata": {
        "id": "mnuTyANS8v6y"
      }
    },
    {
      "cell_type": "code",
      "source": [
        "K, N, M = map(int, input().split())\n",
        "result = K * N - M\n",
        "\n",
        "print(result if result > 0 else 0)"
      ],
      "metadata": {
        "colab": {
          "base_uri": "https://localhost:8080/"
        },
        "id": "jhM9ZFa-iC2N",
        "outputId": "547aa777-79a7-4535-c3e8-1ac7e8a512b6"
      },
      "execution_count": 45,
      "outputs": [
        {
          "output_type": "stream",
          "name": "stdout",
          "text": [
            "20 10 320\n",
            "0\n"
          ]
        }
      ]
    },
    {
      "cell_type": "markdown",
      "source": [
        "## 특별한 날: https://www.acmicpc.net/problem/10768"
      ],
      "metadata": {
        "id": "jwR1YtFk9ZiF"
      }
    },
    {
      "cell_type": "code",
      "source": [
        "m = int(input())\n",
        "d = int(input())\n",
        "\n",
        "if m > 2:\n",
        "  print('After')\n",
        "elif m < 2:\n",
        "  print('Before')\n",
        "else:\n",
        "  if d < 18:\n",
        "    print('Before')\n",
        "  elif d > 18:\n",
        "    print('After')\n",
        "  else:\n",
        "    print('Special')"
      ],
      "metadata": {
        "colab": {
          "base_uri": "https://localhost:8080/"
        },
        "id": "31hOtQvgiDOX",
        "outputId": "d75e76d0-0a1a-40ae-fc1f-5966aaaa58ee"
      },
      "execution_count": 50,
      "outputs": [
        {
          "output_type": "stream",
          "name": "stdout",
          "text": [
            "8\n",
            "31\n",
            "After\n"
          ]
        }
      ]
    },
    {
      "cell_type": "markdown",
      "source": [
        "## 10부제 : https://www.acmicpc.net/problem/10797"
      ],
      "metadata": {
        "id": "2DuT4SJW8l6I"
      }
    },
    {
      "cell_type": "code",
      "source": [
        "N = int(input())\n",
        "M = list(map(int, input().split()))\n",
        "\n",
        "print(M.count(N))"
      ],
      "metadata": {
        "colab": {
          "base_uri": "https://localhost:8080/"
        },
        "id": "62TiM0cpiDpU",
        "outputId": "232cc829-259b-4f39-c2ad-cd93271b93c4"
      },
      "execution_count": 53,
      "outputs": [
        {
          "output_type": "stream",
          "name": "stdout",
          "text": [
            "5\n",
            "1 3 0 7 4\n",
            "0\n"
          ]
        }
      ]
    },
    {
      "cell_type": "markdown",
      "source": [
        "## 알파벳 개수: https://www.acmicpc.net/problem/10808"
      ],
      "metadata": {
        "id": "DTCkPxct8l_i"
      }
    },
    {
      "cell_type": "code",
      "source": [
        "string = input()\n",
        "ap = [0] * 26\n",
        "\n",
        "for x in string:\n",
        "  ap[ord(x) - 97] += 1\n",
        "\n",
        "for i in ap:\n",
        "  print(i, end=' ')"
      ],
      "metadata": {
        "colab": {
          "base_uri": "https://localhost:8080/"
        },
        "id": "M-APHJBYiEHG",
        "outputId": "8a18754f-2e38-410b-cc7b-4761f38c3865"
      },
      "execution_count": 55,
      "outputs": [
        {
          "output_type": "stream",
          "name": "stdout",
          "text": [
            "baekjoon\n",
            "1 1 0 0 1 0 0 0 0 1 1 0 0 1 2 0 0 0 0 0 0 0 0 0 0 0 "
          ]
        }
      ]
    },
    {
      "cell_type": "markdown",
      "source": [
        "## 한글: https://www.acmicpc.net/problem/11282"
      ],
      "metadata": {
        "id": "p3Sahwv38mCe"
      }
    },
    {
      "cell_type": "code",
      "source": [
        "print(chr(44031 + int(input())))"
      ],
      "metadata": {
        "colab": {
          "base_uri": "https://localhost:8080/"
        },
        "id": "znEyhrCMiEbt",
        "outputId": "9bb368a4-9322-4cc2-fd05-9f81abb9b156"
      },
      "execution_count": 2,
      "outputs": [
        {
          "output_type": "stream",
          "name": "stdout",
          "text": [
            "4146\n",
            "백\n"
          ]
        }
      ]
    },
    {
      "cell_type": "markdown",
      "source": [
        "## 한글 2: https://www.acmicpc.net/problem/11283"
      ],
      "metadata": {
        "id": "ao2pF7UW8mFR"
      }
    },
    {
      "cell_type": "code",
      "source": [
        "print(ord(input()) - 44031)"
      ],
      "metadata": {
        "colab": {
          "base_uri": "https://localhost:8080/"
        },
        "id": "BkjLMaGbiEua",
        "outputId": "b638a369-288d-489e-94e6-6c1377fd3c74"
      },
      "execution_count": 9,
      "outputs": [
        {
          "output_type": "stream",
          "name": "stdout",
          "text": [
            "준\n",
            "7425\n"
          ]
        }
      ]
    },
    {
      "cell_type": "markdown",
      "source": [
        "## !밀비 급일: https://www.acmicpc.net/problem/11365"
      ],
      "metadata": {
        "id": "RF-XNGhN8mIV"
      }
    },
    {
      "cell_type": "code",
      "source": [
        "while True:\n",
        "  string = input()\n",
        "\n",
        "  if string == 'END':\n",
        "    break\n",
        "\n",
        "  print(\"\".join(reversed(string)))"
      ],
      "metadata": {
        "colab": {
          "base_uri": "https://localhost:8080/"
        },
        "id": "SfRnwAM-iFBL",
        "outputId": "508ebd7e-d3bc-48a7-bdd1-a7f825da3958"
      },
      "execution_count": 11,
      "outputs": [
        {
          "name": "stdout",
          "output_type": "stream",
          "text": [
            "!edoc doog a tahW\n",
            "What a good code!\n",
            "noitacitsufbo\n",
            "obfustication\n",
            "erafraw enirambus detcirtsernu yraurbeF fo tsrif eht no nigeb ot dnetni eW\n",
            "We intend to begin on the first of February unrestricted submarine warfare\n",
            "lla sees rodroM fo drol eht ,ssertrof sih nihtiw delaecnoC\n",
            "Concealed within his fortress, the lord of Mordor sees all\n",
            "END\n"
          ]
        }
      ]
    },
    {
      "cell_type": "markdown",
      "source": [
        "## 파일 옮기기: https://www.acmicpc.net/problem/11943"
      ],
      "metadata": {
        "id": "MAS-hwlB9fWF"
      }
    },
    {
      "cell_type": "code",
      "source": [
        "a, b = map(int, input().split())\n",
        "c, d = map(int, input().split())\n",
        "\n",
        "print(min(b + c, a + d))"
      ],
      "metadata": {
        "colab": {
          "base_uri": "https://localhost:8080/"
        },
        "id": "i2Bu0f1EiFPt",
        "outputId": "603c7f2c-f0cd-4a71-cd88-fcb3f6738354"
      },
      "execution_count": 12,
      "outputs": [
        {
          "output_type": "stream",
          "name": "stdout",
          "text": [
            "1 2\n",
            "3 4\n",
            "5\n"
          ]
        }
      ]
    },
    {
      "cell_type": "markdown",
      "source": [
        "## 뜨거운 붕어빵: https://www.acmicpc.net/problem/11945"
      ],
      "metadata": {
        "id": "qsCPrYGlAa8A"
      }
    },
    {
      "cell_type": "code",
      "source": [
        "N, M = map(int, input().split())\n",
        "fish_bread = []\n",
        "\n",
        "for i in range(N):\n",
        "  bread = list(map(int, input().strip()))\n",
        "  bread.reverse()\n",
        "  fish_bread.append(bread)"
      ],
      "metadata": {
        "colab": {
          "base_uri": "https://localhost:8080/",
          "height": 305
        },
        "id": "BRX4723GiFro",
        "outputId": "ef536e5b-ccb1-4318-d835-b5829428a4ab"
      },
      "execution_count": 20,
      "outputs": [
        {
          "name": "stdout",
          "output_type": "stream",
          "text": [
            "5 7\n",
            "0010000\n",
            "0111010\n",
            "1111111\n",
            "0111010\n",
            "0010000\n"
          ]
        },
        {
          "output_type": "error",
          "ename": "AttributeError",
          "evalue": "ignored",
          "traceback": [
            "\u001b[0;31m---------------------------------------------------------------------------\u001b[0m",
            "\u001b[0;31mAttributeError\u001b[0m                            Traceback (most recent call last)",
            "\u001b[0;32m<ipython-input-20-754a7735dc40>\u001b[0m in \u001b[0;36m<cell line: 9>\u001b[0;34m()\u001b[0m\n\u001b[1;32m      9\u001b[0m \u001b[0;32mfor\u001b[0m \u001b[0mi\u001b[0m \u001b[0;32min\u001b[0m \u001b[0mrange\u001b[0m\u001b[0;34m(\u001b[0m\u001b[0mN\u001b[0m\u001b[0;34m)\u001b[0m\u001b[0;34m:\u001b[0m\u001b[0;34m\u001b[0m\u001b[0;34m\u001b[0m\u001b[0m\n\u001b[1;32m     10\u001b[0m   \u001b[0;32mfor\u001b[0m \u001b[0mj\u001b[0m \u001b[0;32min\u001b[0m \u001b[0mrange\u001b[0m\u001b[0;34m(\u001b[0m\u001b[0mM\u001b[0m\u001b[0;34m)\u001b[0m\u001b[0;34m:\u001b[0m\u001b[0;34m\u001b[0m\u001b[0;34m\u001b[0m\u001b[0m\n\u001b[0;32m---> 11\u001b[0;31m     \u001b[0mprint\u001b[0m\u001b[0;34m(\u001b[0m\u001b[0mfish_bread\u001b[0m\u001b[0;34m[\u001b[0m\u001b[0mi\u001b[0m\u001b[0;34m]\u001b[0m\u001b[0;34m[\u001b[0m\u001b[0mj\u001b[0m\u001b[0;34m]\u001b[0m\u001b[0;34m.\u001b[0m\u001b[0mstrip\u001b[0m\u001b[0;34m(\u001b[0m\u001b[0;34m)\u001b[0m\u001b[0;34m)\u001b[0m\u001b[0;34m\u001b[0m\u001b[0;34m\u001b[0m\u001b[0m\n\u001b[0m",
            "\u001b[0;31mAttributeError\u001b[0m: 'int' object has no attribute 'strip'"
          ]
        }
      ]
    },
    {
      "cell_type": "code",
      "source": [
        "for i in range(N):\n",
        "  for j in range(M):\n",
        "    print(fish_bread[i][j], end='')\n",
        "  print()"
      ],
      "metadata": {
        "colab": {
          "base_uri": "https://localhost:8080/"
        },
        "id": "fXmljtjIrYqm",
        "outputId": "47f3ac26-2de7-4939-e79c-19a6e0a1f676"
      },
      "execution_count": 22,
      "outputs": [
        {
          "output_type": "stream",
          "name": "stdout",
          "text": [
            "0000100\n",
            "0101110\n",
            "1111111\n",
            "0101110\n",
            "0000100\n"
          ]
        }
      ]
    },
    {
      "cell_type": "markdown",
      "source": [
        "## 과목선택: https://www.acmicpc.net/problem/11948"
      ],
      "metadata": {
        "id": "6YllkauvAcyP"
      }
    },
    {
      "cell_type": "code",
      "source": [
        "scores1 = [int(input()) for _ in range(4)]\n",
        "scores2 = [int(input()) for _ in range(2)]\n",
        "scores1.sort()\n",
        "scores2.sort()\n",
        "\n",
        "total_score = 0\n",
        "for i in range(3):\n",
        "  total_score += scores1.pop()\n",
        "total_score += scores2.pop()\n",
        "\n",
        "print(total_score)"
      ],
      "metadata": {
        "colab": {
          "base_uri": "https://localhost:8080/"
        },
        "id": "GwkaWt0niGAt",
        "outputId": "a3a816bb-2edc-45e0-936a-ff92b17b71a8"
      },
      "execution_count": 28,
      "outputs": [
        {
          "output_type": "stream",
          "name": "stdout",
          "text": [
            "100\n",
            "34\n",
            "76\n",
            "42\n",
            "10\n",
            "0\n",
            "228\n"
          ]
        }
      ]
    },
    {
      "cell_type": "markdown",
      "source": [
        "## 뉴턴과 사과: https://www.acmicpc.net/problem/13118"
      ],
      "metadata": {
        "id": "9LZOJWEHAgmq"
      }
    },
    {
      "cell_type": "code",
      "source": [
        "people = list(map(int, input().split()))\n",
        "x, y, r = map(int, input().split())\n",
        "result = 0\n",
        "\n",
        "for i, num in enumerate(people):\n",
        "  if num == x:\n",
        "    result = i + 1\n",
        "\n",
        "if result == 0:\n",
        "  for i, num in enumerate(people):\n",
        "    if x - r <= num <= x + r:\n",
        "      result = i + 1\n",
        "else:\n",
        "  print(result)"
      ],
      "metadata": {
        "colab": {
          "base_uri": "https://localhost:8080/"
        },
        "id": "UfKnri3EiGbZ",
        "outputId": "6df0e0e4-857c-4228-f8d7-0c8a77baaed5"
      },
      "execution_count": 31,
      "outputs": [
        {
          "output_type": "stream",
          "name": "stdout",
          "text": [
            "-5 -2 1 5\n",
            "1 4 2\n",
            "3\n"
          ]
        }
      ]
    },
    {
      "cell_type": "markdown",
      "source": [
        "- 사과가 땅에 닿은 이후는 고려하지 않아도됨"
      ],
      "metadata": {
        "id": "2enzFZ0o5YHi"
      }
    },
    {
      "cell_type": "code",
      "source": [
        "people = list(map(int, input().split()))\n",
        "x, y, r = map(int, input().split())\n",
        "\n",
        "print(people.index(x) + 1 if x in people else 0)"
      ],
      "metadata": {
        "colab": {
          "base_uri": "https://localhost:8080/"
        },
        "id": "JUjTNuJ95i7F",
        "outputId": "e176a356-b050-480f-875c-ac17046b3d07"
      },
      "execution_count": 32,
      "outputs": [
        {
          "output_type": "stream",
          "name": "stdout",
          "text": [
            "-5 -2 1 5\n",
            "1 4 2\n",
            "3\n"
          ]
        }
      ]
    },
    {
      "cell_type": "markdown",
      "source": [
        "## Do Not Touch Anything: https://www.acmicpc.net/problem/13136"
      ],
      "metadata": {
        "id": "y6jKlrk-AhyS"
      }
    },
    {
      "cell_type": "code",
      "source": [
        "import math\n",
        "\n",
        "R, C, N = map(int, input().split())\n",
        "\n",
        "print(math.ceil(R / N) * math.ceil(C / N))"
      ],
      "metadata": {
        "colab": {
          "base_uri": "https://localhost:8080/"
        },
        "id": "BB9wrLBeiGxA",
        "outputId": "86d3f611-fb7b-47b3-dacb-698c8e540d21"
      },
      "execution_count": 33,
      "outputs": [
        {
          "output_type": "stream",
          "name": "stdout",
          "text": [
            "7 9 3\n",
            "9\n"
          ]
        }
      ]
    },
    {
      "cell_type": "markdown",
      "source": [
        "## 히스토그램: https://www.acmicpc.net/problem/13752"
      ],
      "metadata": {
        "id": "9sbVAkt3AlBO"
      }
    },
    {
      "cell_type": "code",
      "source": [
        "for i in range(int(input())):\n",
        "  N = int(input())\n",
        "  print('=' * N)"
      ],
      "metadata": {
        "colab": {
          "base_uri": "https://localhost:8080/"
        },
        "id": "GX7qUojeiHEq",
        "outputId": "3e0e19cf-4802-44b0-95df-c4e8cbfb5737"
      },
      "execution_count": 34,
      "outputs": [
        {
          "output_type": "stream",
          "name": "stdout",
          "text": [
            "5\n",
            "1\n",
            "=\n",
            "3\n",
            "===\n",
            "4\n",
            "====\n",
            "6\n",
            "======\n",
            "2\n",
            "==\n"
          ]
        }
      ]
    },
    {
      "cell_type": "markdown",
      "source": [
        "## 팀 나누기: https://www.acmicpc.net/problem/13866"
      ],
      "metadata": {
        "id": "ANtgz-QAaAMB"
      }
    },
    {
      "cell_type": "code",
      "source": [
        "skills = list(map(int, input().split()))\n",
        "skills.sort()\n",
        "A = skills.pop(0) + skills.pop()\n",
        "B = skills.pop() + skills.pop()\n",
        "print(abs(A - B))"
      ],
      "metadata": {
        "colab": {
          "base_uri": "https://localhost:8080/"
        },
        "id": "BgcPO6UGaBjm",
        "outputId": "5584af9e-ec52-485d-dc63-a82f5428c279"
      },
      "execution_count": 39,
      "outputs": [
        {
          "output_type": "stream",
          "name": "stdout",
          "text": [
            "1 2 3 4\n",
            "0\n"
          ]
        }
      ]
    },
    {
      "cell_type": "markdown",
      "source": [
        "## 전자레인지: https://www.acmicpc.net/problem/14470"
      ],
      "metadata": {
        "id": "31zquQHIesWN"
      }
    },
    {
      "cell_type": "code",
      "source": [
        "data = [int(input()) for _ in range(5)]\n",
        "A, B, C, D, E = data"
      ],
      "metadata": {
        "colab": {
          "base_uri": "https://localhost:8080/"
        },
        "id": "iw70tcbTeuc2",
        "outputId": "eaff4507-2bf1-49ba-cc58-6fa42b1f3878"
      },
      "execution_count": 49,
      "outputs": [
        {
          "name": "stdout",
          "output_type": "stream",
          "text": [
            "35\n",
            "92\n",
            "31\n",
            "50\n",
            "11\n"
          ]
        }
      ]
    },
    {
      "cell_type": "code",
      "source": [
        "sec = B * E\n",
        "\n",
        "if A > 0:\n",
        "  print(sec - (A * E))\n",
        "elif A == 0:\n",
        "  print(sec - (A * E) + D)\n",
        "else:\n",
        "  print(sec - (C * A) + D)"
      ],
      "metadata": {
        "colab": {
          "base_uri": "https://localhost:8080/"
        },
        "id": "gJsyeAzDfoQK",
        "outputId": "7fff674d-8290-4492-c54a-11e2fae2c921"
      },
      "execution_count": 50,
      "outputs": [
        {
          "output_type": "stream",
          "name": "stdout",
          "text": [
            "627\n"
          ]
        }
      ]
    },
    {
      "cell_type": "code",
      "source": [
        "sec = B * E\n",
        "\n",
        "if A >= 0:\n",
        "  sec -= A * E\n",
        "  sec += D if A == 0 else 0\n",
        "else:\n",
        "  sec = sec - (C * A) + D\n",
        "\n",
        "print(sec)"
      ],
      "metadata": {
        "colab": {
          "base_uri": "https://localhost:8080/"
        },
        "id": "dc1OtGKXji7H",
        "outputId": "8d796e06-0f88-47a3-98be-ab4c7e0ec2aa"
      },
      "execution_count": 51,
      "outputs": [
        {
          "output_type": "stream",
          "name": "stdout",
          "text": [
            "627\n"
          ]
        }
      ]
    },
    {
      "cell_type": "markdown",
      "source": [
        "## 치킨 두 마리 (...): https://www.acmicpc.net/problem/14489"
      ],
      "metadata": {
        "id": "S7ND9K_dklYH"
      }
    },
    {
      "cell_type": "code",
      "source": [
        "account = list(map(int, input().split()))\n",
        "C = int(input())\n",
        "\n",
        "if sum(account) < 2 * C:\n",
        "  print(sum(account))\n",
        "else:\n",
        "  print(sum(account) - (2 * C))"
      ],
      "metadata": {
        "colab": {
          "base_uri": "https://localhost:8080/"
        },
        "id": "1H9MC7ufkos8",
        "outputId": "c7bee29f-636c-467d-e84b-1b0c587f95e4"
      },
      "execution_count": 62,
      "outputs": [
        {
          "output_type": "stream",
          "name": "stdout",
          "text": [
            "1000000000 1000000000\n",
            "1000000001\n",
            "2000000000\n"
          ]
        }
      ]
    },
    {
      "cell_type": "markdown",
      "source": [
        "## 폰 노이만과 파리: https://www.acmicpc.net/problem/14924\n"
      ],
      "metadata": {
        "id": "kjuTCshXoHvH"
      }
    },
    {
      "cell_type": "code",
      "source": [
        "S, T, D = map(int, input().split())\n",
        "\n",
        "print(T * (D // (2 * S)))"
      ],
      "metadata": {
        "colab": {
          "base_uri": "https://localhost:8080/"
        },
        "id": "1RtCJqLqoHEs",
        "outputId": "df30e7d2-db4b-402a-efad-02f26ca85742"
      },
      "execution_count": 64,
      "outputs": [
        {
          "output_type": "stream",
          "name": "stdout",
          "text": [
            "50 75 200\n",
            "150\n"
          ]
        }
      ]
    },
    {
      "cell_type": "markdown",
      "source": [
        "## FA: https://www.acmicpc.net/problem/14935"
      ],
      "metadata": {
        "id": "C4-P9K-GMaqA"
      }
    },
    {
      "cell_type": "code",
      "source": [
        "N = input()\n",
        "N_before = 0\n",
        "\n",
        "while True:\n",
        "  N = int(N[0]) * len(N)\n",
        "  if N == N_before:\n",
        "    print('FA')\n",
        "    break\n",
        "  else:\n",
        "    N_before = N\n",
        "    N = str(N)"
      ],
      "metadata": {
        "colab": {
          "base_uri": "https://localhost:8080/"
        },
        "id": "axAFCKYLMcVv",
        "outputId": "1fbf4a73-3bd4-4556-96e3-26a45a0ac2ab"
      },
      "execution_count": 1,
      "outputs": [
        {
          "output_type": "stream",
          "name": "stdout",
          "text": [
            "932\n",
            "FA\n"
          ]
        }
      ]
    },
    {
      "cell_type": "markdown",
      "source": [
        "## 베라의 패션: https://www.acmicpc.net/problem/15439"
      ],
      "metadata": {
        "id": "V3c9ahHWUpTL"
      }
    },
    {
      "cell_type": "code",
      "source": [
        "N = int(input())\n",
        "print(N * (N - 1))"
      ],
      "metadata": {
        "colab": {
          "base_uri": "https://localhost:8080/"
        },
        "id": "O8pVI6T5VFn1",
        "outputId": "89a59e2d-d5df-4201-fc0b-f8a0abd65cd5"
      },
      "execution_count": 4,
      "outputs": [
        {
          "output_type": "stream",
          "name": "stdout",
          "text": [
            "5\n",
            "20\n"
          ]
        }
      ]
    },
    {
      "cell_type": "markdown",
      "source": [
        "## 타일 채우기 4: https://www.acmicpc.net/problem/15700"
      ],
      "metadata": {
        "id": "hAgPYZCzXuDS"
      }
    },
    {
      "cell_type": "code",
      "source": [
        "r, c = map(int, input().split())\n",
        "\n",
        "print((r * c) // 2)"
      ],
      "metadata": {
        "colab": {
          "base_uri": "https://localhost:8080/"
        },
        "id": "EcyuJ9olXtYn",
        "outputId": "2c0840fd-379b-4caf-bfe3-50849b8ef058"
      },
      "execution_count": 5,
      "outputs": [
        {
          "output_type": "stream",
          "name": "stdout",
          "text": [
            "3 3\n",
            "4\n"
          ]
        }
      ]
    },
    {
      "cell_type": "markdown",
      "source": [
        "## 이칙연산: https://www.acmicpc.net/problem/15726"
      ],
      "metadata": {
        "id": "SS1m250vbGLA"
      }
    },
    {
      "cell_type": "code",
      "source": [
        "import math\n",
        "\n",
        "x, y, z = input().split()\n",
        "operators = [('*', '/'), ('/', '*')]\n",
        "result = []\n",
        "\n",
        "for operator in operators:\n",
        "  result.append(eval(x + operator[0] + y + operator[1] + z))\n",
        "\n",
        "print(math.floor(max(result)))"
      ],
      "metadata": {
        "colab": {
          "base_uri": "https://localhost:8080/"
        },
        "id": "9lfpBam5bIBd",
        "outputId": "f8224a8b-5086-46c7-933d-ceb7647692b7"
      },
      "execution_count": 10,
      "outputs": [
        {
          "output_type": "stream",
          "name": "stdout",
          "text": [
            "32 16 8\n",
            "64\n"
          ]
        }
      ]
    },
    {
      "cell_type": "code",
      "source": [
        "x, y, z = map(int, input().split())\n",
        "\n",
        "print(x * max(y, z) // min(y, z))"
      ],
      "metadata": {
        "colab": {
          "base_uri": "https://localhost:8080/"
        },
        "id": "zp6xhk4Je-wC",
        "outputId": "55ec27d6-de36-4003-c5c9-70c3a9c84f38"
      },
      "execution_count": 11,
      "outputs": [
        {
          "output_type": "stream",
          "name": "stdout",
          "text": [
            "32 16 8\n",
            "64\n"
          ]
        }
      ]
    },
    {
      "cell_type": "markdown",
      "source": [
        "## 공백 없는 A + B: https://www.acmicpc.net/problem/15873"
      ],
      "metadata": {
        "id": "mQMNKgyYfU2D"
      }
    },
    {
      "cell_type": "code",
      "source": [
        "data = input()\n",
        "\n",
        "if len(data) > 2 and int(data[0:2]) <= 10:\n",
        "  a, b = data[0:2], data[2:]\n",
        "else:\n",
        "  a, b = data[0], data[1:]\n",
        "\n",
        "print(int(a) + int(b))"
      ],
      "metadata": {
        "colab": {
          "base_uri": "https://localhost:8080/"
        },
        "id": "LECHdWq2fYU4",
        "outputId": "eaeb5a70-8c45-44bc-9d59-82cf9ec89b18"
      },
      "execution_count": 26,
      "outputs": [
        {
          "output_type": "stream",
          "name": "stdout",
          "text": [
            "102\n",
            "12\n"
          ]
        }
      ]
    },
    {
      "cell_type": "markdown",
      "source": [
        "## CASIO: https://www.acmicpc.net/problem/15963"
      ],
      "metadata": {
        "id": "wZNDzXoNos9x"
      }
    },
    {
      "cell_type": "code",
      "source": [
        "N, M = map(int, input().split())\n",
        "\n",
        "if N == M:\n",
        "  print(1)\n",
        "else:\n",
        "  print(0)"
      ],
      "metadata": {
        "colab": {
          "base_uri": "https://localhost:8080/"
        },
        "id": "3M5BgODsuRb4",
        "outputId": "1fdb4889-abad-462c-ddd5-565c38f15e60"
      },
      "execution_count": 28,
      "outputs": [
        {
          "output_type": "stream",
          "name": "stdout",
          "text": [
            "1 0\n",
            "0\n"
          ]
        }
      ]
    },
    {
      "cell_type": "markdown",
      "source": [
        "## 카드 뽑기: https://www.acmicpc.net/problem/16204"
      ],
      "metadata": {
        "id": "DuTE3eS3ybXE"
      }
    },
    {
      "cell_type": "code",
      "source": [
        "N, M, K = map(int, input().split())\n",
        "\n",
        "O = min(M, K)\n",
        "X = min(N - M, N - K)\n",
        "\n",
        "print(O + X)"
      ],
      "metadata": {
        "colab": {
          "base_uri": "https://localhost:8080/"
        },
        "id": "HPqIAHEdyg7c",
        "outputId": "111bf7df-06cf-4157-8038-ed9b8ccdfbfa"
      },
      "execution_count": 32,
      "outputs": [
        {
          "output_type": "stream",
          "name": "stdout",
          "text": [
            "7 5 2\n",
            "4\n"
          ]
        }
      ]
    },
    {
      "cell_type": "markdown",
      "source": [
        "## 운동장 한 바퀴: https://www.acmicpc.net/problem/16486"
      ],
      "metadata": {
        "id": "sTLFLbQi1HEd"
      }
    },
    {
      "cell_type": "code",
      "source": [
        "d1 = int(input())\n",
        "d2 = int(input())\n",
        "\n",
        "print((d1 * 2) + ((2 * d2) * 3.141592))"
      ],
      "metadata": {
        "colab": {
          "base_uri": "https://localhost:8080/"
        },
        "id": "Yb3pcAsV1Jgv",
        "outputId": "84dc3641-67df-468e-a1b6-e8db2fc65305"
      },
      "execution_count": 33,
      "outputs": [
        {
          "output_type": "stream",
          "name": "stdout",
          "text": [
            "13\n",
            "8\n",
            "76.265472\n"
          ]
        }
      ]
    },
    {
      "cell_type": "markdown",
      "source": [
        "## 수학은 체육과목 입니다 2: https://www.acmicpc.net/problem/17362"
      ],
      "metadata": {
        "id": "Tz3RBfmwTj3k"
      }
    },
    {
      "cell_type": "code",
      "source": [
        "n = int(input())\n",
        "\n",
        "a = n % 8\n",
        "\n",
        "if a != 0 and a <= 5:\n",
        "    print(a)\n",
        "else:\n",
        "    if a == 0:\n",
        "        print('2')\n",
        "    else:\n",
        "        a = 10 - a\n",
        "        print(a)"
      ],
      "metadata": {
        "colab": {
          "base_uri": "https://localhost:8080/"
        },
        "id": "9mhaJpMgU_o3",
        "outputId": "ccbd9bea-244a-442c-db2a-66d1dc5243da"
      },
      "execution_count": 39,
      "outputs": [
        {
          "output_type": "stream",
          "name": "stdout",
          "text": [
            "1000\n",
            "2\n"
          ]
        }
      ]
    },
    {
      "cell_type": "markdown",
      "source": [
        "## 와글와글 숭고한: https://www.acmicpc.net/problem/17388"
      ],
      "metadata": {
        "id": "Iyv_ZCVMTjfr"
      }
    },
    {
      "cell_type": "code",
      "source": [
        "data = list(map(int, input().split()))\n",
        "univ = ['Soongsil', 'Korea', 'Hanyang']\n",
        "\n",
        "print('OK' if sum(data) >= 100 else univ[data.index(min(data))])"
      ],
      "metadata": {
        "colab": {
          "base_uri": "https://localhost:8080/"
        },
        "id": "_DwC_dE7aWOs",
        "outputId": "5b37629f-3b54-4e81-bf35-847ee5b5870f"
      },
      "execution_count": 45,
      "outputs": [
        {
          "output_type": "stream",
          "name": "stdout",
          "text": [
            "19 8 9\n",
            "Korea\n"
          ]
        }
      ]
    },
    {
      "cell_type": "markdown",
      "source": [
        "## 빠른입력"
      ],
      "metadata": {
        "id": "CYvHJa7tlfFd"
      }
    },
    {
      "cell_type": "code",
      "source": [
        "# 입력이 많을 때 사용\n",
        "\n",
        "import sys\n",
        "input = sys.stdin.readline"
      ],
      "metadata": {
        "id": "QFT3kkpGlgmE"
      },
      "execution_count": null,
      "outputs": []
    },
    {
      "cell_type": "markdown",
      "source": [
        "## 시간재는방법"
      ],
      "metadata": {
        "id": "l3pMLpBGMSsh"
      }
    },
    {
      "cell_type": "code",
      "source": [
        "import time\n",
        "\n",
        "n = 100000\n",
        "\n",
        "start_time = time.time()\n",
        "\n",
        "# 코드\n",
        "\n",
        "end_time = time.time()\n",
        "\n",
        "execution_time = end_time - start_time\n",
        "\n",
        "print(\"Execution time:\", execution_time, \"seconds\")"
      ],
      "metadata": {
        "colab": {
          "base_uri": "https://localhost:8080/"
        },
        "id": "Ww1o3nRNKsuY",
        "outputId": "1821a9e9-c2d2-4070-cb25-cd2b1e561a37"
      },
      "execution_count": null,
      "outputs": [
        {
          "output_type": "stream",
          "name": "stdout",
          "text": [
            "Execution time: 2.1219253540039062e-05 seconds\n"
          ]
        }
      ]
    }
  ]
}