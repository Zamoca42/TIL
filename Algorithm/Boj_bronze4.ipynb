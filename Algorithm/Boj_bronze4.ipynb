{
  "nbformat": 4,
  "nbformat_minor": 0,
  "metadata": {
    "colab": {
      "provenance": [],
      "authorship_tag": "ABX9TyObWLPmyp9Q1VIHX6qk6Y55",
      "include_colab_link": true
    },
    "kernelspec": {
      "name": "python3",
      "display_name": "Python 3"
    },
    "language_info": {
      "name": "python"
    }
  },
  "cells": [
    {
      "cell_type": "markdown",
      "metadata": {
        "id": "view-in-github",
        "colab_type": "text"
      },
      "source": [
        "<a href=\"https://colab.research.google.com/github/Zamoca42/TIL/blob/main/Algorithm/Boj_bronze4.ipynb\" target=\"_parent\"><img src=\"https://colab.research.google.com/assets/colab-badge.svg\" alt=\"Open In Colab\"/></a>"
      ]
    },
    {
      "cell_type": "markdown",
      "source": [
        "## 모음의 개수: https://www.acmicpc.net/problem/1264"
      ],
      "metadata": {
        "id": "yL5R5j6kF2hG"
      }
    },
    {
      "cell_type": "code",
      "execution_count": 3,
      "metadata": {
        "colab": {
          "base_uri": "https://localhost:8080/"
        },
        "id": "wFOptFyHFyxf",
        "outputId": "341b1a79-7d33-44b2-fe11-f93d4197cfaa"
      },
      "outputs": [
        {
          "name": "stdout",
          "output_type": "stream",
          "text": [
            "I live at number twenty four.\n",
            "9\n",
            "#\n"
          ]
        }
      ],
      "source": [
        "while True:\n",
        "  string = input().lower()\n",
        "  count = 0\n",
        "  if string == '#':\n",
        "    break\n",
        "\n",
        "  for word in string:\n",
        "    if word in ['a','e','i','o','u']:\n",
        "      count += 1\n",
        "\n",
        "  print(count)"
      ]
    },
    {
      "cell_type": "markdown",
      "source": [
        "## 럭비 클럽: https://www.acmicpc.net/problem/2083"
      ],
      "metadata": {
        "id": "x6jmFtdFHFoo"
      }
    },
    {
      "cell_type": "code",
      "source": [
        "while True:\n",
        "  command = input().split()\n",
        "  name, age, weight = command[0], int(command[1]), int(command[2])\n",
        "\n",
        "  if (name, age, weight) == ('#', 0, 0):\n",
        "    break\n",
        "\n",
        "  print(name, 'Senior' if age > 17 or weight >= 80 else 'Junior')"
      ],
      "metadata": {
        "colab": {
          "base_uri": "https://localhost:8080/"
        },
        "id": "xn70O0KWGIUU",
        "outputId": "06eaf5fb-346d-4096-dbac-89ed657e6be3"
      },
      "execution_count": 3,
      "outputs": [
        {
          "name": "stdout",
          "output_type": "stream",
          "text": [
            "Joe 16 34\n",
            "Joe Junior\n",
            "Bill 18 65\n",
            "Bill Senior\n",
            "Billy 17 65\n",
            "Billy Junior\n",
            "Sam 17 85\n",
            "Sam Senior\n",
            "# 0 0\n"
          ]
        }
      ]
    },
    {
      "cell_type": "markdown",
      "source": [
        "## 별 찍기-3: https://www.acmicpc.net/problem/2440"
      ],
      "metadata": {
        "id": "8ijBmE2zI7Zl"
      }
    },
    {
      "cell_type": "code",
      "source": [
        "n = int(input())\n",
        "\n",
        "for i in range(n, 0, -1):\n",
        "  print('*' * i)"
      ],
      "metadata": {
        "colab": {
          "base_uri": "https://localhost:8080/"
        },
        "id": "WEMbnmCZIO6b",
        "outputId": "85261894-cd6c-4d42-ca4b-ca52ea442ff5"
      },
      "execution_count": 5,
      "outputs": [
        {
          "output_type": "stream",
          "name": "stdout",
          "text": [
            "5\n",
            "*****\n",
            "****\n",
            "***\n",
            "**\n",
            "*\n"
          ]
        }
      ]
    },
    {
      "cell_type": "markdown",
      "source": [
        "## 주사위 세개: https://www.acmicpc.net/problem/2480"
      ],
      "metadata": {
        "id": "1jpf2RYpQEI1"
      }
    },
    {
      "cell_type": "code",
      "source": [
        "a, b, c = map(int, input().split())\n",
        "\n",
        "if a == b or a == c or b == c:\n",
        "  if a == b == c:\n",
        "    print(10000 + (a * 1000))\n",
        "  else:\n",
        "    if a == b or a == c:\n",
        "      print(1000 + (a * 100))\n",
        "    elif b == c:\n",
        "      print(1000 + (b * 100))\n",
        "else:\n",
        "  print(max(a, b, c) * 100)"
      ],
      "metadata": {
        "colab": {
          "base_uri": "https://localhost:8080/"
        },
        "id": "kMsnem16QGO4",
        "outputId": "40e6b6aa-6613-4623-b298-cda7c8ed4cad"
      },
      "execution_count": 14,
      "outputs": [
        {
          "output_type": "stream",
          "name": "stdout",
          "text": [
            "6 2 5\n",
            "600\n"
          ]
        }
      ]
    },
    {
      "cell_type": "markdown",
      "source": [
        "### 다른사람의 풀이"
      ],
      "metadata": {
        "id": "_bfv7Tj0UXT1"
      }
    },
    {
      "cell_type": "markdown",
      "source": [
        "https://www.acmicpc.net/board/view/119326"
      ],
      "metadata": {
        "id": "Be6MqBpaUaXV"
      }
    },
    {
      "cell_type": "code",
      "source": [
        "dice = list(map(int,input().split()))\n",
        "dset = list(set(dice))\n",
        "\n",
        "if len(dset) == 3:\n",
        "    print(max(dice) * 100)\n",
        "elif len(dset) == 2:\n",
        "    print(1000 + (sum(dice) - sum(dset)) * 100)\n",
        "    # [3, 3, 6] 일 때, set(3, 6) 이므로 sum(dice) - sum(dset) = 3\n",
        "else:\n",
        "    print(10000 + dset[0] * 1000)"
      ],
      "metadata": {
        "id": "vJYOarxPUY85"
      },
      "execution_count": null,
      "outputs": []
    },
    {
      "cell_type": "markdown",
      "source": [
        "## 인공지능 시계: https://www.acmicpc.net/problem/2530"
      ],
      "metadata": {
        "id": "Jovz1JgVYXIp"
      }
    },
    {
      "cell_type": "code",
      "source": [
        "print(500000 // 3600)\n",
        "print(500000 % 3600)"
      ],
      "metadata": {
        "colab": {
          "base_uri": "https://localhost:8080/"
        },
        "id": "Uw2bO6K6cGA7",
        "outputId": "df9315f8-079f-4875-e7d5-375d68b077ac"
      },
      "execution_count": 23,
      "outputs": [
        {
          "output_type": "stream",
          "name": "stdout",
          "text": [
            "138\n",
            "3200\n"
          ]
        }
      ]
    },
    {
      "cell_type": "code",
      "source": [
        "h, m, s = map(int, input().split())\n",
        "n = int(input())\n",
        "\n",
        "if n >= 60:\n",
        "  if n >= 3600:\n",
        "    h += n // 3600\n",
        "    n = n % 3600\n",
        "  m += n // 60\n",
        "  s += n % 60\n",
        "else:\n",
        "  s += n\n",
        "\n",
        "if s >= 60:\n",
        "  m += s // 60\n",
        "  s = s % 60\n",
        "\n",
        "if m >= 60:\n",
        "  h += m // 60\n",
        "  m = m % 60\n",
        "\n",
        "if h >= 24:\n",
        "  h = h % 24\n",
        "\n",
        "print(h, m, s)"
      ],
      "metadata": {
        "colab": {
          "base_uri": "https://localhost:8080/"
        },
        "id": "IkfxJAh1YgDW",
        "outputId": "212b3db5-04a8-4fc4-a2f3-8f56dfaddcba"
      },
      "execution_count": 37,
      "outputs": [
        {
          "output_type": "stream",
          "name": "stdout",
          "text": [
            "14 30 0\n",
            "200\n",
            "14 33 20\n"
          ]
        }
      ]
    },
    {
      "cell_type": "markdown",
      "source": [
        "### 다른 사람의 풀이 참고"
      ],
      "metadata": {
        "id": "Ghf0nDH0hmkn"
      }
    },
    {
      "cell_type": "code",
      "source": [
        "a, b, c = map(int, input().split())\n",
        "d = int(input())\n",
        "\n",
        "hour = a + ((b + ((c + d) // 60)) // 60)\n",
        "min = (b + ((c + d) // 60)) % 60\n",
        "sec = (c + d) % 60\n",
        "\n",
        "if hour >= 24 :\n",
        "  hour = hour % 24\n",
        "\n",
        "print(hour,min,sec)"
      ],
      "metadata": {
        "id": "QWJCGDR7i7bj"
      },
      "execution_count": null,
      "outputs": []
    },
    {
      "cell_type": "markdown",
      "source": [
        "### 조건문 없이 풀기"
      ],
      "metadata": {
        "id": "ZQfWWjnjjELH"
      }
    },
    {
      "cell_type": "code",
      "source": [
        "h, m, s = map(int, input().split())\n",
        "n = int(input())\n",
        "\n",
        "s += n\n",
        "m += s // 60\n",
        "h += m // 60\n",
        "\n",
        "print(h % 24, m % 60, s % 60)"
      ],
      "metadata": {
        "colab": {
          "base_uri": "https://localhost:8080/"
        },
        "id": "qg08DO-whn7n",
        "outputId": "94bb4936-fdec-481d-a056-e7e3a3733f97"
      },
      "execution_count": 44,
      "outputs": [
        {
          "output_type": "stream",
          "name": "stdout",
          "text": [
            "17 40 45\n",
            "6015\n",
            "19 21 0\n"
          ]
        }
      ]
    },
    {
      "cell_type": "markdown",
      "source": [
        "## 기찍 N: https://www.acmicpc.net/problem/2742"
      ],
      "metadata": {
        "id": "sQ0WyCgnVVKB"
      }
    },
    {
      "cell_type": "code",
      "source": [
        "N = int(input())\n",
        "\n",
        "for i in range(N, 0, -1):\n",
        "  print(i)"
      ],
      "metadata": {
        "colab": {
          "base_uri": "https://localhost:8080/"
        },
        "id": "fFb2VNBsVYG9",
        "outputId": "1df9051f-b2ad-4109-8a60-c1e488d09264"
      },
      "execution_count": 1,
      "outputs": [
        {
          "output_type": "stream",
          "name": "stdout",
          "text": [
            "5\n",
            "5\n",
            "4\n",
            "3\n",
            "2\n",
            "1\n"
          ]
        }
      ]
    },
    {
      "cell_type": "markdown",
      "source": [
        "## 세수정렬: https://www.acmicpc.net/problem/2752"
      ],
      "metadata": {
        "id": "dfww7cdeVuKT"
      }
    },
    {
      "cell_type": "code",
      "source": [
        "nums = list(map(int, input().split()))\n",
        "\n",
        "nums.sort()\n",
        "for n in nums:\n",
        "  print(n, end=' ')"
      ],
      "metadata": {
        "colab": {
          "base_uri": "https://localhost:8080/"
        },
        "id": "k8v6UZfCVwXo",
        "outputId": "37cf33f4-3d1d-462d-917d-c5ab5461821d"
      },
      "execution_count": 3,
      "outputs": [
        {
          "output_type": "stream",
          "name": "stdout",
          "text": [
            "3 1 2\n",
            "1 2 3 "
          ]
        }
      ]
    },
    {
      "cell_type": "markdown",
      "source": [
        "## 파티가 끝나고 난 뒤: https://www.acmicpc.net/problem/2845"
      ],
      "metadata": {
        "id": "XmTWBvh0WUhb"
      }
    },
    {
      "cell_type": "code",
      "source": [
        "n, m = map(int, input().split())\n",
        "\n",
        "people = list(map(int, input().split()))\n",
        "\n",
        "for i in people:\n",
        "  print(i - (n * m), end=' ')"
      ],
      "metadata": {
        "colab": {
          "base_uri": "https://localhost:8080/"
        },
        "id": "CngoIjzjWXfT",
        "outputId": "62b51508-6b5e-4c2d-dc47-e3cfd9424759"
      },
      "execution_count": 5,
      "outputs": [
        {
          "output_type": "stream",
          "name": "stdout",
          "text": [
            "5 20\n",
            "99 101 1000 0 97\n",
            "-1 1 900 -100 -3 "
          ]
        }
      ]
    },
    {
      "cell_type": "markdown",
      "source": [
        "## R2: https://www.acmicpc.net/problem/3046"
      ],
      "metadata": {
        "id": "igjBEW8iW_-I"
      }
    },
    {
      "cell_type": "code",
      "source": [
        "# S = (R1 + R2) // 2\n",
        "\n",
        "R1, S = map(int, input().split())\n",
        "\n",
        "print(2 * S - R1)"
      ],
      "metadata": {
        "colab": {
          "base_uri": "https://localhost:8080/"
        },
        "id": "RuPhTsGpXCJx",
        "outputId": "77140213-cefe-4fe9-a509-22f734df199d"
      },
      "execution_count": 7,
      "outputs": [
        {
          "output_type": "stream",
          "name": "stdout",
          "text": [
            "4 3\n",
            "2\n"
          ]
        }
      ]
    },
    {
      "cell_type": "markdown",
      "source": [
        "## AFC 윔블던: https://www.acmicpc.net/problem/4299"
      ],
      "metadata": {
        "id": "eSIH4OXYX8dz"
      }
    },
    {
      "cell_type": "code",
      "source": [
        "sum_score, diff_score = map(int, input().split())\n",
        "\n",
        "a = (sum_score + diff_score) / 2\n",
        "b = (sum_score - diff_score) / 2\n",
        "\n",
        "if int(a) != a or int(b) != b:\n",
        "  print(-1)\n",
        "else:\n",
        "  print(max(a, b), min(b, a))"
      ],
      "metadata": {
        "colab": {
          "base_uri": "https://localhost:8080/"
        },
        "id": "yRZXK2A6X_c8",
        "outputId": "0fe2311c-7d6c-49f2-aaab-324f058fd359"
      },
      "execution_count": 17,
      "outputs": [
        {
          "output_type": "stream",
          "name": "stdout",
          "text": [
            "3 1\n",
            "2 1\n"
          ]
        }
      ]
    },
    {
      "cell_type": "markdown",
      "source": [
        "https://www.acmicpc.net/board/view/85879"
      ],
      "metadata": {
        "id": "CChMMeV4c5dW"
      }
    },
    {
      "cell_type": "code",
      "source": [
        "s, m = map(int, input().split())\n",
        "if  s+m < 0 or s-m < 0 or (s + m) % 2:\n",
        "    print(-1)\n",
        "else:\n",
        "    a = (s + m) // 2\n",
        "    b = s - a\n",
        "    print(max(a, b), min(a, b))"
      ],
      "metadata": {
        "id": "3jR4YfriedBi"
      },
      "execution_count": null,
      "outputs": []
    },
    {
      "cell_type": "markdown",
      "source": [
        "- s + m < 0, s - m < 0 음수인 조건을 추가해야한다"
      ],
      "metadata": {
        "id": "MBDBEB_-egh7"
      }
    },
    {
      "cell_type": "markdown",
      "source": [
        "## 줄번호: https://www.acmicpc.net/problem/4470"
      ],
      "metadata": {
        "id": "Be-CsQVgfiFr"
      }
    },
    {
      "cell_type": "code",
      "source": [
        "N = int(input())\n",
        "\n",
        "for i in range(1, N + 1):\n",
        "  string = input()\n",
        "  print(f'{i}. {string}')"
      ],
      "metadata": {
        "colab": {
          "base_uri": "https://localhost:8080/"
        },
        "id": "VKxRo4shfkoo",
        "outputId": "1c42b592-0cea-4bf9-cf1d-a2a2a764b4fd"
      },
      "execution_count": 20,
      "outputs": [
        {
          "output_type": "stream",
          "name": "stdout",
          "text": [
            "5\n",
            "Lionel Cosgrove\n",
            "1. Lionel Cosgrove\n",
            "Alice\n",
            "2. Alice\n",
            "Columbus and Tallahassee\n",
            "3. Columbus and Tallahassee\n",
            "Shaun and Ed\n",
            "4. Shaun and Ed\n",
            "Fido\n",
            "5. Fido\n"
          ]
        }
      ]
    },
    {
      "cell_type": "markdown",
      "source": [
        "## 입실 관리: https://www.acmicpc.net/problem/5524"
      ],
      "metadata": {
        "id": "2kqvaYAPggvR"
      }
    },
    {
      "cell_type": "code",
      "source": [
        "for _ in range(int(input())):\n",
        "  print(input().lower())"
      ],
      "metadata": {
        "colab": {
          "base_uri": "https://localhost:8080/"
        },
        "id": "wGjbUyuUgm6H",
        "outputId": "97e43b5a-9b85-40c9-d28e-9d7aeef5769e"
      },
      "execution_count": 22,
      "outputs": [
        {
          "output_type": "stream",
          "name": "stdout",
          "text": [
            "3\n",
            "WatanabE\n",
            "watanabe\n",
            "ITO\n",
            "ito\n",
            "YamaMoto\n",
            "yamamoto\n"
          ]
        }
      ]
    },
    {
      "cell_type": "markdown",
      "source": [
        "## 방학숙제: https://www.acmicpc.net/problem/5532"
      ],
      "metadata": {
        "id": "QQ04SNA_hs4e"
      }
    },
    {
      "cell_type": "code",
      "source": [
        "L = int(input())\n",
        "A = int(input())\n",
        "B = int(input())\n",
        "C = int(input())\n",
        "D = int(input())\n",
        "\n",
        "kor = A // C\n",
        "math = B // D\n",
        "\n",
        "if A % C:\n",
        "  kor += 1\n",
        "\n",
        "if B % D:\n",
        "  math += 1\n",
        "\n",
        "print(L - max(kor, math))"
      ],
      "metadata": {
        "id": "RDOMJBx4oXm8"
      },
      "execution_count": null,
      "outputs": []
    },
    {
      "cell_type": "markdown",
      "source": [
        "### math.ceil(올림) 사용"
      ],
      "metadata": {
        "id": "l2BzTV52oY0z"
      }
    },
    {
      "cell_type": "code",
      "source": [
        "import math\n",
        "\n",
        "L = int(input())\n",
        "A = int(input())\n",
        "B = int(input())\n",
        "C = int(input())\n",
        "D = int(input())\n",
        "\n",
        "kor = math.ceil(A / C)\n",
        "math = math.ceil(B / D)\n",
        "\n",
        "print(L - max(kor, math))"
      ],
      "metadata": {
        "colab": {
          "base_uri": "https://localhost:8080/"
        },
        "id": "D_pyFk1Uhvk_",
        "outputId": "24459507-4b2b-4bd5-a2c3-eea41795bc12"
      },
      "execution_count": 27,
      "outputs": [
        {
          "output_type": "stream",
          "name": "stdout",
          "text": [
            "15\n",
            "32\n",
            "48\n",
            "4\n",
            "6\n",
            "7\n"
          ]
        }
      ]
    },
    {
      "cell_type": "markdown",
      "source": [
        "## 상근날드: https://www.acmicpc.net/problem/5543"
      ],
      "metadata": {
        "id": "kkJd_3i-oxvJ"
      }
    },
    {
      "cell_type": "code",
      "source": [
        "# 메뉴 입력\n",
        "\n",
        "menu = []\n",
        "for _ in range(5):\n",
        "  menu.append(int(input()))"
      ],
      "metadata": {
        "colab": {
          "base_uri": "https://localhost:8080/"
        },
        "id": "t_175R__o1O3",
        "outputId": "868a3183-221d-4712-bc57-f0c4804fd2a2"
      },
      "execution_count": 41,
      "outputs": [
        {
          "name": "stdout",
          "output_type": "stream",
          "text": [
            "1999\n",
            "1999\n",
            "100\n",
            "189\n",
            "100\n"
          ]
        }
      ]
    },
    {
      "cell_type": "code",
      "source": [
        "# list comprehension 사용\n",
        "\n",
        "menu = [int(input()) for _ in range(5)]"
      ],
      "metadata": {
        "id": "tXxEdXpMssUA"
      },
      "execution_count": null,
      "outputs": []
    },
    {
      "cell_type": "code",
      "source": [
        "print(menu[0:3]) # 버거\n",
        "print(menu[3:5]) # 음료"
      ],
      "metadata": {
        "colab": {
          "base_uri": "https://localhost:8080/"
        },
        "id": "GQsf654LqNoY",
        "outputId": "d757cd43-f2cc-4d4e-db88-f6f379fc303b"
      },
      "execution_count": 42,
      "outputs": [
        {
          "output_type": "stream",
          "name": "stdout",
          "text": [
            "[1999, 1999, 100]\n",
            "[189, 100]\n"
          ]
        }
      ]
    },
    {
      "cell_type": "code",
      "source": [
        "# 세트 메뉴 조합\n",
        "\n",
        "set_menu = []\n",
        "\n",
        "for i in menu[0:3]:\n",
        "  for j in menu[3:5]:\n",
        "    set_menu.append(i + j)\n",
        "\n",
        "print(min(set_menu) - 50)"
      ],
      "metadata": {
        "colab": {
          "base_uri": "https://localhost:8080/"
        },
        "id": "wHfZmKLTq7fw",
        "outputId": "8e095662-e9f1-4e4e-e942-51c59e517f84"
      },
      "execution_count": 43,
      "outputs": [
        {
          "output_type": "stream",
          "name": "stdout",
          "text": [
            "[2188, 2099, 2188, 2099, 289, 200]\n",
            "150\n"
          ]
        }
      ]
    },
    {
      "cell_type": "code",
      "source": [
        "# 버거, 음료 중 최소값만 뽑기\n",
        "\n",
        "print(min(menu[0:3]) + min(menu[3:5]) - 50)"
      ],
      "metadata": {
        "colab": {
          "base_uri": "https://localhost:8080/"
        },
        "id": "v4yylcQmsUNP",
        "outputId": "b2d8c949-6361-470c-893e-6b45223686f4"
      },
      "execution_count": 44,
      "outputs": [
        {
          "output_type": "stream",
          "name": "stdout",
          "text": [
            "150\n"
          ]
        }
      ]
    },
    {
      "cell_type": "code",
      "source": [
        "# 숏 코드 완성\n",
        "\n",
        "menu = [int(input()) for _ in range(5)]\n",
        "\n",
        "print(min(menu[0:3]) + min(menu[3:5]) - 50)"
      ],
      "metadata": {
        "id": "d2ZYOynQtbnE"
      },
      "execution_count": null,
      "outputs": []
    },
    {
      "cell_type": "markdown",
      "source": [
        "## 심부름 가는길: https://www.acmicpc.net/problem/5554"
      ],
      "metadata": {
        "id": "vgt9JWvb1hct"
      }
    },
    {
      "cell_type": "code",
      "source": [
        "time = [int(input()) for _ in range(4)]"
      ],
      "metadata": {
        "colab": {
          "base_uri": "https://localhost:8080/"
        },
        "id": "UU2rtl501jFi",
        "outputId": "1dde96a3-7dbc-486f-a876-c276f9a78199"
      },
      "execution_count": 50,
      "outputs": [
        {
          "name": "stdout",
          "output_type": "stream",
          "text": [
            "5\n",
            "10\n",
            "15\n",
            "30\n"
          ]
        }
      ]
    },
    {
      "cell_type": "code",
      "source": [
        "print((sum(time) // 60) % 60) # min\n",
        "print(sum(time) % 60) # sec"
      ],
      "metadata": {
        "colab": {
          "base_uri": "https://localhost:8080/"
        },
        "id": "1bCvPFXc2Npv",
        "outputId": "0b8ab066-f2c4-4570-8378-ff8071b16dc0"
      },
      "execution_count": 51,
      "outputs": [
        {
          "output_type": "stream",
          "name": "stdout",
          "text": [
            "1\n",
            "0\n"
          ]
        }
      ]
    },
    {
      "cell_type": "markdown",
      "source": [
        "## 빠른입력"
      ],
      "metadata": {
        "id": "CYvHJa7tlfFd"
      }
    },
    {
      "cell_type": "code",
      "source": [
        "# 입력이 많을 때 사용\n",
        "\n",
        "import sys\n",
        "input = sys.stdin.readline"
      ],
      "metadata": {
        "id": "QFT3kkpGlgmE"
      },
      "execution_count": null,
      "outputs": []
    },
    {
      "cell_type": "markdown",
      "source": [
        "## 시간재는방법"
      ],
      "metadata": {
        "id": "l3pMLpBGMSsh"
      }
    },
    {
      "cell_type": "code",
      "source": [
        "import time\n",
        "\n",
        "n = 100000\n",
        "\n",
        "start_time = time.time()\n",
        "\n",
        "# 코드\n",
        "\n",
        "end_time = time.time()\n",
        "\n",
        "execution_time = end_time - start_time\n",
        "\n",
        "print(\"Execution time:\", execution_time, \"seconds\")"
      ],
      "metadata": {
        "colab": {
          "base_uri": "https://localhost:8080/"
        },
        "id": "Ww1o3nRNKsuY",
        "outputId": "1821a9e9-c2d2-4070-cb25-cd2b1e561a37"
      },
      "execution_count": null,
      "outputs": [
        {
          "output_type": "stream",
          "name": "stdout",
          "text": [
            "Execution time: 2.1219253540039062e-05 seconds\n"
          ]
        }
      ]
    }
  ]
}