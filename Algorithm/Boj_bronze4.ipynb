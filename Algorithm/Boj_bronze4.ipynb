{
  "nbformat": 4,
  "nbformat_minor": 0,
  "metadata": {
    "colab": {
      "provenance": [],
      "authorship_tag": "ABX9TyM1+LwMrtkTFDPeJhcgDi3I",
      "include_colab_link": true
    },
    "kernelspec": {
      "name": "python3",
      "display_name": "Python 3"
    },
    "language_info": {
      "name": "python"
    }
  },
  "cells": [
    {
      "cell_type": "markdown",
      "metadata": {
        "id": "view-in-github",
        "colab_type": "text"
      },
      "source": [
        "<a href=\"https://colab.research.google.com/github/Zamoca42/TIL/blob/main/Algorithm/Boj_bronze4.ipynb\" target=\"_parent\"><img src=\"https://colab.research.google.com/assets/colab-badge.svg\" alt=\"Open In Colab\"/></a>"
      ]
    },
    {
      "cell_type": "markdown",
      "source": [
        "## 모음의 개수: https://www.acmicpc.net/problem/1264"
      ],
      "metadata": {
        "id": "yL5R5j6kF2hG"
      }
    },
    {
      "cell_type": "code",
      "execution_count": null,
      "metadata": {
        "colab": {
          "base_uri": "https://localhost:8080/"
        },
        "id": "wFOptFyHFyxf",
        "outputId": "341b1a79-7d33-44b2-fe11-f93d4197cfaa"
      },
      "outputs": [
        {
          "name": "stdout",
          "output_type": "stream",
          "text": [
            "I live at number twenty four.\n",
            "9\n",
            "#\n"
          ]
        }
      ],
      "source": [
        "while True:\n",
        "  string = input().lower()\n",
        "  count = 0\n",
        "  if string == '#':\n",
        "    break\n",
        "\n",
        "  for word in string:\n",
        "    if word in ['a','e','i','o','u']:\n",
        "      count += 1\n",
        "\n",
        "  print(count)"
      ]
    },
    {
      "cell_type": "markdown",
      "source": [
        "## 럭비 클럽: https://www.acmicpc.net/problem/2083"
      ],
      "metadata": {
        "id": "x6jmFtdFHFoo"
      }
    },
    {
      "cell_type": "code",
      "source": [
        "while True:\n",
        "  command = input().split()\n",
        "  name, age, weight = command[0], int(command[1]), int(command[2])\n",
        "\n",
        "  if (name, age, weight) == ('#', 0, 0):\n",
        "    break\n",
        "\n",
        "  print(name, 'Senior' if age > 17 or weight >= 80 else 'Junior')"
      ],
      "metadata": {
        "colab": {
          "base_uri": "https://localhost:8080/"
        },
        "id": "xn70O0KWGIUU",
        "outputId": "06eaf5fb-346d-4096-dbac-89ed657e6be3"
      },
      "execution_count": null,
      "outputs": [
        {
          "name": "stdout",
          "output_type": "stream",
          "text": [
            "Joe 16 34\n",
            "Joe Junior\n",
            "Bill 18 65\n",
            "Bill Senior\n",
            "Billy 17 65\n",
            "Billy Junior\n",
            "Sam 17 85\n",
            "Sam Senior\n",
            "# 0 0\n"
          ]
        }
      ]
    },
    {
      "cell_type": "markdown",
      "source": [
        "## 별 찍기-3: https://www.acmicpc.net/problem/2440"
      ],
      "metadata": {
        "id": "8ijBmE2zI7Zl"
      }
    },
    {
      "cell_type": "code",
      "source": [
        "n = int(input())\n",
        "\n",
        "for i in range(n, 0, -1):\n",
        "  print('*' * i)"
      ],
      "metadata": {
        "colab": {
          "base_uri": "https://localhost:8080/"
        },
        "id": "WEMbnmCZIO6b",
        "outputId": "85261894-cd6c-4d42-ca4b-ca52ea442ff5"
      },
      "execution_count": null,
      "outputs": [
        {
          "output_type": "stream",
          "name": "stdout",
          "text": [
            "5\n",
            "*****\n",
            "****\n",
            "***\n",
            "**\n",
            "*\n"
          ]
        }
      ]
    },
    {
      "cell_type": "markdown",
      "source": [
        "## 주사위 세개: https://www.acmicpc.net/problem/2480"
      ],
      "metadata": {
        "id": "1jpf2RYpQEI1"
      }
    },
    {
      "cell_type": "code",
      "source": [
        "a, b, c = map(int, input().split())\n",
        "\n",
        "if a == b or a == c or b == c:\n",
        "  if a == b == c:\n",
        "    print(10000 + (a * 1000))\n",
        "  else:\n",
        "    if a == b or a == c:\n",
        "      print(1000 + (a * 100))\n",
        "    elif b == c:\n",
        "      print(1000 + (b * 100))\n",
        "else:\n",
        "  print(max(a, b, c) * 100)"
      ],
      "metadata": {
        "colab": {
          "base_uri": "https://localhost:8080/"
        },
        "id": "kMsnem16QGO4",
        "outputId": "40e6b6aa-6613-4623-b298-cda7c8ed4cad"
      },
      "execution_count": null,
      "outputs": [
        {
          "output_type": "stream",
          "name": "stdout",
          "text": [
            "6 2 5\n",
            "600\n"
          ]
        }
      ]
    },
    {
      "cell_type": "markdown",
      "source": [
        "### 다른사람의 풀이"
      ],
      "metadata": {
        "id": "_bfv7Tj0UXT1"
      }
    },
    {
      "cell_type": "markdown",
      "source": [
        "https://www.acmicpc.net/board/view/119326"
      ],
      "metadata": {
        "id": "Be6MqBpaUaXV"
      }
    },
    {
      "cell_type": "code",
      "source": [
        "dice = list(map(int,input().split()))\n",
        "dset = list(set(dice))\n",
        "\n",
        "if len(dset) == 3:\n",
        "    print(max(dice) * 100)\n",
        "elif len(dset) == 2:\n",
        "    print(1000 + (sum(dice) - sum(dset)) * 100)\n",
        "    # [3, 3, 6] 일 때, set(3, 6) 이므로 sum(dice) - sum(dset) = 3\n",
        "else:\n",
        "    print(10000 + dset[0] * 1000)"
      ],
      "metadata": {
        "id": "vJYOarxPUY85"
      },
      "execution_count": null,
      "outputs": []
    },
    {
      "cell_type": "markdown",
      "source": [
        "## 인공지능 시계: https://www.acmicpc.net/problem/2530"
      ],
      "metadata": {
        "id": "Jovz1JgVYXIp"
      }
    },
    {
      "cell_type": "code",
      "source": [
        "print(500000 // 3600)\n",
        "print(500000 % 3600)"
      ],
      "metadata": {
        "colab": {
          "base_uri": "https://localhost:8080/"
        },
        "id": "Uw2bO6K6cGA7",
        "outputId": "df9315f8-079f-4875-e7d5-375d68b077ac"
      },
      "execution_count": null,
      "outputs": [
        {
          "output_type": "stream",
          "name": "stdout",
          "text": [
            "138\n",
            "3200\n"
          ]
        }
      ]
    },
    {
      "cell_type": "code",
      "source": [
        "h, m, s = map(int, input().split())\n",
        "n = int(input())\n",
        "\n",
        "if n >= 60:\n",
        "  if n >= 3600:\n",
        "    h += n // 3600\n",
        "    n = n % 3600\n",
        "  m += n // 60\n",
        "  s += n % 60\n",
        "else:\n",
        "  s += n\n",
        "\n",
        "if s >= 60:\n",
        "  m += s // 60\n",
        "  s = s % 60\n",
        "\n",
        "if m >= 60:\n",
        "  h += m // 60\n",
        "  m = m % 60\n",
        "\n",
        "if h >= 24:\n",
        "  h = h % 24\n",
        "\n",
        "print(h, m, s)"
      ],
      "metadata": {
        "colab": {
          "base_uri": "https://localhost:8080/"
        },
        "id": "IkfxJAh1YgDW",
        "outputId": "212b3db5-04a8-4fc4-a2f3-8f56dfaddcba"
      },
      "execution_count": null,
      "outputs": [
        {
          "output_type": "stream",
          "name": "stdout",
          "text": [
            "14 30 0\n",
            "200\n",
            "14 33 20\n"
          ]
        }
      ]
    },
    {
      "cell_type": "markdown",
      "source": [
        "### 다른 사람의 풀이 참고"
      ],
      "metadata": {
        "id": "Ghf0nDH0hmkn"
      }
    },
    {
      "cell_type": "code",
      "source": [
        "a, b, c = map(int, input().split())\n",
        "d = int(input())\n",
        "\n",
        "hour = a + ((b + ((c + d) // 60)) // 60)\n",
        "min = (b + ((c + d) // 60)) % 60\n",
        "sec = (c + d) % 60\n",
        "\n",
        "if hour >= 24 :\n",
        "  hour = hour % 24\n",
        "\n",
        "print(hour,min,sec)"
      ],
      "metadata": {
        "id": "QWJCGDR7i7bj"
      },
      "execution_count": null,
      "outputs": []
    },
    {
      "cell_type": "markdown",
      "source": [
        "### 조건문 없이 풀기"
      ],
      "metadata": {
        "id": "ZQfWWjnjjELH"
      }
    },
    {
      "cell_type": "code",
      "source": [
        "h, m, s = map(int, input().split())\n",
        "n = int(input())\n",
        "\n",
        "s += n\n",
        "m += s // 60\n",
        "h += m // 60\n",
        "\n",
        "print(h % 24, m % 60, s % 60)"
      ],
      "metadata": {
        "colab": {
          "base_uri": "https://localhost:8080/"
        },
        "id": "qg08DO-whn7n",
        "outputId": "94bb4936-fdec-481d-a056-e7e3a3733f97"
      },
      "execution_count": null,
      "outputs": [
        {
          "output_type": "stream",
          "name": "stdout",
          "text": [
            "17 40 45\n",
            "6015\n",
            "19 21 0\n"
          ]
        }
      ]
    },
    {
      "cell_type": "markdown",
      "source": [
        "## 기찍 N: https://www.acmicpc.net/problem/2742"
      ],
      "metadata": {
        "id": "sQ0WyCgnVVKB"
      }
    },
    {
      "cell_type": "code",
      "source": [
        "N = int(input())\n",
        "\n",
        "for i in range(N, 0, -1):\n",
        "  print(i)"
      ],
      "metadata": {
        "colab": {
          "base_uri": "https://localhost:8080/"
        },
        "id": "fFb2VNBsVYG9",
        "outputId": "1df9051f-b2ad-4109-8a60-c1e488d09264"
      },
      "execution_count": null,
      "outputs": [
        {
          "output_type": "stream",
          "name": "stdout",
          "text": [
            "5\n",
            "5\n",
            "4\n",
            "3\n",
            "2\n",
            "1\n"
          ]
        }
      ]
    },
    {
      "cell_type": "markdown",
      "source": [
        "## 세수정렬: https://www.acmicpc.net/problem/2752"
      ],
      "metadata": {
        "id": "dfww7cdeVuKT"
      }
    },
    {
      "cell_type": "code",
      "source": [
        "nums = list(map(int, input().split()))\n",
        "\n",
        "nums.sort()\n",
        "for n in nums:\n",
        "  print(n, end=' ')"
      ],
      "metadata": {
        "colab": {
          "base_uri": "https://localhost:8080/"
        },
        "id": "k8v6UZfCVwXo",
        "outputId": "37cf33f4-3d1d-462d-917d-c5ab5461821d"
      },
      "execution_count": null,
      "outputs": [
        {
          "output_type": "stream",
          "name": "stdout",
          "text": [
            "3 1 2\n",
            "1 2 3 "
          ]
        }
      ]
    },
    {
      "cell_type": "markdown",
      "source": [
        "## 파티가 끝나고 난 뒤: https://www.acmicpc.net/problem/2845"
      ],
      "metadata": {
        "id": "XmTWBvh0WUhb"
      }
    },
    {
      "cell_type": "code",
      "source": [
        "n, m = map(int, input().split())\n",
        "\n",
        "people = list(map(int, input().split()))\n",
        "\n",
        "for i in people:\n",
        "  print(i - (n * m), end=' ')"
      ],
      "metadata": {
        "colab": {
          "base_uri": "https://localhost:8080/"
        },
        "id": "CngoIjzjWXfT",
        "outputId": "62b51508-6b5e-4c2d-dc47-e3cfd9424759"
      },
      "execution_count": null,
      "outputs": [
        {
          "output_type": "stream",
          "name": "stdout",
          "text": [
            "5 20\n",
            "99 101 1000 0 97\n",
            "-1 1 900 -100 -3 "
          ]
        }
      ]
    },
    {
      "cell_type": "markdown",
      "source": [
        "## R2: https://www.acmicpc.net/problem/3046"
      ],
      "metadata": {
        "id": "igjBEW8iW_-I"
      }
    },
    {
      "cell_type": "code",
      "source": [
        "# S = (R1 + R2) // 2\n",
        "\n",
        "R1, S = map(int, input().split())\n",
        "\n",
        "print(2 * S - R1)"
      ],
      "metadata": {
        "colab": {
          "base_uri": "https://localhost:8080/"
        },
        "id": "RuPhTsGpXCJx",
        "outputId": "77140213-cefe-4fe9-a509-22f734df199d"
      },
      "execution_count": null,
      "outputs": [
        {
          "output_type": "stream",
          "name": "stdout",
          "text": [
            "4 3\n",
            "2\n"
          ]
        }
      ]
    },
    {
      "cell_type": "markdown",
      "source": [
        "## AFC 윔블던: https://www.acmicpc.net/problem/4299"
      ],
      "metadata": {
        "id": "eSIH4OXYX8dz"
      }
    },
    {
      "cell_type": "code",
      "source": [
        "sum_score, diff_score = map(int, input().split())\n",
        "\n",
        "a = (sum_score + diff_score) / 2\n",
        "b = (sum_score - diff_score) / 2\n",
        "\n",
        "if int(a) != a or int(b) != b:\n",
        "  print(-1)\n",
        "else:\n",
        "  print(max(a, b), min(b, a))"
      ],
      "metadata": {
        "colab": {
          "base_uri": "https://localhost:8080/"
        },
        "id": "yRZXK2A6X_c8",
        "outputId": "0fe2311c-7d6c-49f2-aaab-324f058fd359"
      },
      "execution_count": null,
      "outputs": [
        {
          "output_type": "stream",
          "name": "stdout",
          "text": [
            "3 1\n",
            "2 1\n"
          ]
        }
      ]
    },
    {
      "cell_type": "markdown",
      "source": [
        "https://www.acmicpc.net/board/view/85879"
      ],
      "metadata": {
        "id": "CChMMeV4c5dW"
      }
    },
    {
      "cell_type": "code",
      "source": [
        "s, m = map(int, input().split())\n",
        "if  s+m < 0 or s-m < 0 or (s + m) % 2:\n",
        "    print(-1)\n",
        "else:\n",
        "    a = (s + m) // 2\n",
        "    b = s - a\n",
        "    print(max(a, b), min(a, b))"
      ],
      "metadata": {
        "id": "3jR4YfriedBi"
      },
      "execution_count": null,
      "outputs": []
    },
    {
      "cell_type": "markdown",
      "source": [
        "- s + m < 0, s - m < 0 음수인 조건을 추가해야한다"
      ],
      "metadata": {
        "id": "MBDBEB_-egh7"
      }
    },
    {
      "cell_type": "markdown",
      "source": [
        "## 줄번호: https://www.acmicpc.net/problem/4470"
      ],
      "metadata": {
        "id": "Be-CsQVgfiFr"
      }
    },
    {
      "cell_type": "code",
      "source": [
        "N = int(input())\n",
        "\n",
        "for i in range(1, N + 1):\n",
        "  string = input()\n",
        "  print(f'{i}. {string}')"
      ],
      "metadata": {
        "colab": {
          "base_uri": "https://localhost:8080/"
        },
        "id": "VKxRo4shfkoo",
        "outputId": "1c42b592-0cea-4bf9-cf1d-a2a2a764b4fd"
      },
      "execution_count": null,
      "outputs": [
        {
          "output_type": "stream",
          "name": "stdout",
          "text": [
            "5\n",
            "Lionel Cosgrove\n",
            "1. Lionel Cosgrove\n",
            "Alice\n",
            "2. Alice\n",
            "Columbus and Tallahassee\n",
            "3. Columbus and Tallahassee\n",
            "Shaun and Ed\n",
            "4. Shaun and Ed\n",
            "Fido\n",
            "5. Fido\n"
          ]
        }
      ]
    },
    {
      "cell_type": "markdown",
      "source": [
        "## 입실 관리: https://www.acmicpc.net/problem/5524"
      ],
      "metadata": {
        "id": "2kqvaYAPggvR"
      }
    },
    {
      "cell_type": "code",
      "source": [
        "for _ in range(int(input())):\n",
        "  print(input().lower())"
      ],
      "metadata": {
        "colab": {
          "base_uri": "https://localhost:8080/"
        },
        "id": "wGjbUyuUgm6H",
        "outputId": "97e43b5a-9b85-40c9-d28e-9d7aeef5769e"
      },
      "execution_count": null,
      "outputs": [
        {
          "output_type": "stream",
          "name": "stdout",
          "text": [
            "3\n",
            "WatanabE\n",
            "watanabe\n",
            "ITO\n",
            "ito\n",
            "YamaMoto\n",
            "yamamoto\n"
          ]
        }
      ]
    },
    {
      "cell_type": "markdown",
      "source": [
        "## 방학숙제: https://www.acmicpc.net/problem/5532"
      ],
      "metadata": {
        "id": "QQ04SNA_hs4e"
      }
    },
    {
      "cell_type": "code",
      "source": [
        "L = int(input())\n",
        "A = int(input())\n",
        "B = int(input())\n",
        "C = int(input())\n",
        "D = int(input())\n",
        "\n",
        "kor = A // C\n",
        "math = B // D\n",
        "\n",
        "if A % C:\n",
        "  kor += 1\n",
        "\n",
        "if B % D:\n",
        "  math += 1\n",
        "\n",
        "print(L - max(kor, math))"
      ],
      "metadata": {
        "id": "RDOMJBx4oXm8"
      },
      "execution_count": null,
      "outputs": []
    },
    {
      "cell_type": "markdown",
      "source": [
        "### math.ceil(올림) 사용"
      ],
      "metadata": {
        "id": "l2BzTV52oY0z"
      }
    },
    {
      "cell_type": "code",
      "source": [
        "import math\n",
        "\n",
        "L = int(input())\n",
        "A = int(input())\n",
        "B = int(input())\n",
        "C = int(input())\n",
        "D = int(input())\n",
        "\n",
        "kor = math.ceil(A / C)\n",
        "math = math.ceil(B / D)\n",
        "\n",
        "print(L - max(kor, math))"
      ],
      "metadata": {
        "colab": {
          "base_uri": "https://localhost:8080/"
        },
        "id": "D_pyFk1Uhvk_",
        "outputId": "24459507-4b2b-4bd5-a2c3-eea41795bc12"
      },
      "execution_count": null,
      "outputs": [
        {
          "output_type": "stream",
          "name": "stdout",
          "text": [
            "15\n",
            "32\n",
            "48\n",
            "4\n",
            "6\n",
            "7\n"
          ]
        }
      ]
    },
    {
      "cell_type": "markdown",
      "source": [
        "## 상근날드: https://www.acmicpc.net/problem/5543"
      ],
      "metadata": {
        "id": "kkJd_3i-oxvJ"
      }
    },
    {
      "cell_type": "code",
      "source": [
        "# 메뉴 입력\n",
        "\n",
        "menu = []\n",
        "for _ in range(5):\n",
        "  menu.append(int(input()))"
      ],
      "metadata": {
        "colab": {
          "base_uri": "https://localhost:8080/"
        },
        "id": "t_175R__o1O3",
        "outputId": "868a3183-221d-4712-bc57-f0c4804fd2a2"
      },
      "execution_count": null,
      "outputs": [
        {
          "name": "stdout",
          "output_type": "stream",
          "text": [
            "1999\n",
            "1999\n",
            "100\n",
            "189\n",
            "100\n"
          ]
        }
      ]
    },
    {
      "cell_type": "code",
      "source": [
        "# list comprehension 사용\n",
        "\n",
        "menu = [int(input()) for _ in range(5)]"
      ],
      "metadata": {
        "id": "tXxEdXpMssUA"
      },
      "execution_count": null,
      "outputs": []
    },
    {
      "cell_type": "code",
      "source": [
        "print(menu[0:3]) # 버거\n",
        "print(menu[3:5]) # 음료"
      ],
      "metadata": {
        "colab": {
          "base_uri": "https://localhost:8080/"
        },
        "id": "GQsf654LqNoY",
        "outputId": "d757cd43-f2cc-4d4e-db88-f6f379fc303b"
      },
      "execution_count": null,
      "outputs": [
        {
          "output_type": "stream",
          "name": "stdout",
          "text": [
            "[1999, 1999, 100]\n",
            "[189, 100]\n"
          ]
        }
      ]
    },
    {
      "cell_type": "code",
      "source": [
        "# 세트 메뉴 조합\n",
        "\n",
        "set_menu = []\n",
        "\n",
        "for i in menu[0:3]:\n",
        "  for j in menu[3:5]:\n",
        "    set_menu.append(i + j)\n",
        "\n",
        "print(min(set_menu) - 50)"
      ],
      "metadata": {
        "colab": {
          "base_uri": "https://localhost:8080/"
        },
        "id": "wHfZmKLTq7fw",
        "outputId": "8e095662-e9f1-4e4e-e942-51c59e517f84"
      },
      "execution_count": null,
      "outputs": [
        {
          "output_type": "stream",
          "name": "stdout",
          "text": [
            "[2188, 2099, 2188, 2099, 289, 200]\n",
            "150\n"
          ]
        }
      ]
    },
    {
      "cell_type": "code",
      "source": [
        "# 버거, 음료 중 최소값만 뽑기\n",
        "\n",
        "print(min(menu[0:3]) + min(menu[3:5]) - 50)"
      ],
      "metadata": {
        "colab": {
          "base_uri": "https://localhost:8080/"
        },
        "id": "v4yylcQmsUNP",
        "outputId": "b2d8c949-6361-470c-893e-6b45223686f4"
      },
      "execution_count": null,
      "outputs": [
        {
          "output_type": "stream",
          "name": "stdout",
          "text": [
            "150\n"
          ]
        }
      ]
    },
    {
      "cell_type": "code",
      "source": [
        "# 숏 코드 완성\n",
        "\n",
        "menu = [int(input()) for _ in range(5)]\n",
        "\n",
        "print(min(menu[0:3]) + min(menu[3:5]) - 50)"
      ],
      "metadata": {
        "id": "d2ZYOynQtbnE"
      },
      "execution_count": null,
      "outputs": []
    },
    {
      "cell_type": "markdown",
      "source": [
        "## 심부름 가는길: https://www.acmicpc.net/problem/5554"
      ],
      "metadata": {
        "id": "vgt9JWvb1hct"
      }
    },
    {
      "cell_type": "code",
      "source": [
        "time = [int(input()) for _ in range(4)]"
      ],
      "metadata": {
        "colab": {
          "base_uri": "https://localhost:8080/"
        },
        "id": "UU2rtl501jFi",
        "outputId": "1dde96a3-7dbc-486f-a876-c276f9a78199"
      },
      "execution_count": null,
      "outputs": [
        {
          "name": "stdout",
          "output_type": "stream",
          "text": [
            "5\n",
            "10\n",
            "15\n",
            "30\n"
          ]
        }
      ]
    },
    {
      "cell_type": "code",
      "source": [
        "print((sum(time) // 60) % 60) # min\n",
        "print(sum(time) % 60) # sec"
      ],
      "metadata": {
        "colab": {
          "base_uri": "https://localhost:8080/"
        },
        "id": "1bCvPFXc2Npv",
        "outputId": "0b8ab066-f2c4-4570-8378-ff8071b16dc0"
      },
      "execution_count": null,
      "outputs": [
        {
          "output_type": "stream",
          "name": "stdout",
          "text": [
            "1\n",
            "0\n"
          ]
        }
      ]
    },
    {
      "cell_type": "markdown",
      "source": [
        "## 타임 카드: https://www.acmicpc.net/problem/5575"
      ],
      "metadata": {
        "id": "aaLkqTsg8OOy"
      }
    },
    {
      "cell_type": "code",
      "source": [
        "result = []\n",
        "\n",
        "for _ in range(3):\n",
        "  time = list(map(int, input().split()))\n",
        "  for i in range((len(time) + 1) // 2):\n",
        "    result.append(time[i + 3] - time[i])\n",
        "\n",
        "print(result)"
      ],
      "metadata": {
        "colab": {
          "base_uri": "https://localhost:8080/"
        },
        "id": "NgRjyMhV8gSx",
        "outputId": "2a75569c-cb19-4bee-d80a-89f7df32bb25"
      },
      "execution_count": null,
      "outputs": [
        {
          "output_type": "stream",
          "name": "stdout",
          "text": [
            "9 0 0 18 0 0\n",
            "9 0 1 18 0 0\n",
            "12 14 52 12 15 30\n",
            "[9, 0, 0, 9, 0, -1, 0, 1, -22]\n"
          ]
        }
      ]
    },
    {
      "cell_type": "code",
      "source": [
        "for _ in range(3):\n",
        "  result = []\n",
        "  time = list(map(int, input().split()))\n",
        "\n",
        "  for i in range((len(time) + 1) // 2):\n",
        "    result.append(time[i + 3] - time[i])\n",
        "\n",
        "  for i in range(len(result) - 1, -1, -1):\n",
        "    if i != 0:\n",
        "      if result[i] < 0:\n",
        "        result[i] += 60\n",
        "        result[i - 1] -= 1\n",
        "      elif result[i] > 60:\n",
        "        result[i] = result[i] % 60\n",
        "        result[i - 1] += 1\n",
        "\n",
        "  print(result[0], result[1], result[2])"
      ],
      "metadata": {
        "colab": {
          "base_uri": "https://localhost:8080/"
        },
        "id": "U7lSJKqzQWZb",
        "outputId": "29b2405e-bc1a-40e0-b11b-baa41d95f828"
      },
      "execution_count": null,
      "outputs": [
        {
          "output_type": "stream",
          "name": "stdout",
          "text": [
            "9 0 0 18 0 0\n",
            "9 0 0\n",
            "9 0 1 18 0 0\n",
            "8 59 59\n",
            "12 14 52 12 15 30\n",
            "0 0 38\n"
          ]
        }
      ]
    },
    {
      "cell_type": "markdown",
      "source": [
        "### 시, 분, 초 -> 초로 변환 해서 풀기"
      ],
      "metadata": {
        "id": "nCHO5hAOctgx"
      }
    },
    {
      "cell_type": "code",
      "source": [
        "for _ in range(3):\n",
        "  time = [9,0,1,18,0,0]\n",
        "  # time = list(map(int, input().split()))\n",
        "  sec2 = 0\n",
        "  sec1 = 0\n",
        "\n",
        "  for i in range((len(time) + 1) // 2):\n",
        "    sec2 += time[i + 3] * (3600 // 60**i)\n",
        "    sec1 += time[i] * (3600 // 60**i)\n",
        "\n",
        "  result = sec2 - sec1\n",
        "\n",
        "  print(result)\n",
        "\n",
        "  h = int(result // 3600)\n",
        "  m = int(result // 60) % 60\n",
        "  s = int(result % 60)\n",
        "\n",
        "  print(h, m, s)"
      ],
      "metadata": {
        "colab": {
          "base_uri": "https://localhost:8080/"
        },
        "id": "hWMQ79DqUv8d",
        "outputId": "bdfd5ea4-6189-4dc9-93c3-dbb41685cff4"
      },
      "execution_count": null,
      "outputs": [
        {
          "output_type": "stream",
          "name": "stdout",
          "text": [
            "32399\n",
            "8 59 59\n",
            "32399\n",
            "8 59 59\n",
            "32399\n",
            "8 59 59\n"
          ]
        }
      ]
    },
    {
      "cell_type": "code",
      "source": [
        "for _ in range(3):\n",
        "  time = [9,0,1,18,0,0]\n",
        "  # time = list(map(int, input().split()))\n",
        "  sec = 0\n",
        "\n",
        "  for i in range((len(time) + 1) // 2):\n",
        "    sec += (time[i + 3] - time[i]) * (3600 // 60**i)\n",
        "\n",
        "  s = sec\n",
        "  m = s // 60\n",
        "  h = m // 60\n",
        "\n",
        "  print(h, m % 60, s % 60)"
      ],
      "metadata": {
        "colab": {
          "base_uri": "https://localhost:8080/"
        },
        "id": "dQ8NMeuBZ9iH",
        "outputId": "b280ab63-65d5-4c73-81df-3f77aa96133f"
      },
      "execution_count": null,
      "outputs": [
        {
          "output_type": "stream",
          "name": "stdout",
          "text": [
            "8 59 59\n",
            "8 59 59\n",
            "8 59 59\n"
          ]
        }
      ]
    },
    {
      "cell_type": "markdown",
      "source": [
        "## 시험 점수: https://www.acmicpc.net/problem/5596"
      ],
      "metadata": {
        "id": "zhyXHgt98Rwx"
      }
    },
    {
      "cell_type": "code",
      "source": [
        "S = sum(list(map(int, input().split())))\n",
        "T = sum(list(map(int, input().split())))\n",
        "\n",
        "print(S if S == T else max(S, T))"
      ],
      "metadata": {
        "colab": {
          "base_uri": "https://localhost:8080/"
        },
        "id": "XybtG0HW8gpH",
        "outputId": "b8450ad9-c8ea-440b-e5de-732aa64176d9"
      },
      "execution_count": null,
      "outputs": [
        {
          "output_type": "stream",
          "name": "stdout",
          "text": [
            "100 80 70 60\n",
            "80 70 60 100\n",
            "310\n"
          ]
        }
      ]
    },
    {
      "cell_type": "markdown",
      "source": [
        "## 상근이의 친구들: https://www.acmicpc.net/problem/5717"
      ],
      "metadata": {
        "id": "66LbVFT68Vla"
      }
    },
    {
      "cell_type": "code",
      "source": [
        "while True:\n",
        "  m, f = map(int, input().split())\n",
        "\n",
        "  if (m, f) == (0, 0):\n",
        "    break\n",
        "\n",
        "  print(m + f)"
      ],
      "metadata": {
        "colab": {
          "base_uri": "https://localhost:8080/"
        },
        "id": "LkOUsT7y8g9N",
        "outputId": "754c9673-e0dc-486c-bf12-60e1a42f859d"
      },
      "execution_count": null,
      "outputs": [
        {
          "name": "stdout",
          "output_type": "stream",
          "text": [
            "2 2\n",
            "4\n",
            "2 3\n",
            "5\n",
            "5 5\n",
            "10\n",
            "1 1\n",
            "2\n",
            "0 0\n"
          ]
        }
      ]
    },
    {
      "cell_type": "markdown",
      "source": [
        "## Hello Judge: https://www.acmicpc.net/problem/9316"
      ],
      "metadata": {
        "id": "l6RNjcuV8k0Y"
      }
    },
    {
      "cell_type": "code",
      "source": [
        "for i in range(int(input())):\n",
        "  print(f'Hello World, Judge {i + 1}!')"
      ],
      "metadata": {
        "colab": {
          "base_uri": "https://localhost:8080/"
        },
        "id": "xxcA8YTBiBo2",
        "outputId": "d3ce9ac4-7bcf-489c-a1af-9b0747ec1d26"
      },
      "execution_count": null,
      "outputs": [
        {
          "output_type": "stream",
          "name": "stdout",
          "text": [
            "3\n",
            "Hello World, Judge 1!\n",
            "Hello World, Judge 2!\n",
            "Hello World, Judge 3!\n"
          ]
        }
      ]
    },
    {
      "cell_type": "markdown",
      "source": [
        "## 평균 점수: https://www.acmicpc.net/problem/10039"
      ],
      "metadata": {
        "id": "Qbp_Apt88lpC"
      }
    },
    {
      "cell_type": "code",
      "source": [
        "# import sys\n",
        "# input = sys.stdin.readline\n",
        "\n",
        "value = 0\n",
        "\n",
        "for i in range(5):\n",
        "  N = int(input())\n",
        "  if N < 40:\n",
        "    N = 40\n",
        "  value += N\n",
        "\n",
        "print(value // 5)"
      ],
      "metadata": {
        "colab": {
          "base_uri": "https://localhost:8080/"
        },
        "id": "HY1TKHjnijYY",
        "outputId": "949f3929-8227-4f73-9a2d-0cc0848a4d87"
      },
      "execution_count": null,
      "outputs": [
        {
          "output_type": "stream",
          "name": "stdout",
          "text": [
            "10\n",
            "65\n",
            "100\n",
            "30\n",
            "95\n",
            "68\n"
          ]
        }
      ]
    },
    {
      "cell_type": "markdown",
      "source": [
        "## 삼각형 외우기: https://www.acmicpc.net/problem/10101"
      ],
      "metadata": {
        "id": "2ogJZSa88l0A"
      }
    },
    {
      "cell_type": "code",
      "source": [
        "angle = []\n",
        "message = ['Error', 'Equilateral', 'Isosceles', 'Scalene']\n",
        "\n",
        "for i in range(3):\n",
        "  angle.append(int(input()))\n",
        "\n",
        "print(message[0 if sum(angle) != 180 else len(set(angle))])"
      ],
      "metadata": {
        "colab": {
          "base_uri": "https://localhost:8080/"
        },
        "id": "3HnHtF4KiCih",
        "outputId": "89d8b75b-b84a-431c-aee9-3a7750f5bb3a"
      },
      "execution_count": null,
      "outputs": [
        {
          "output_type": "stream",
          "name": "stdout",
          "text": [
            "60\n",
            "70\n",
            "50\n",
            "Scalene\n"
          ]
        }
      ]
    },
    {
      "cell_type": "markdown",
      "source": [
        "## 과자: https://www.acmicpc.net/problem/10156"
      ],
      "metadata": {
        "id": "mnuTyANS8v6y"
      }
    },
    {
      "cell_type": "code",
      "source": [
        "K, N, M = map(int, input().split())\n",
        "result = K * N - M\n",
        "\n",
        "print(result if result > 0 else 0)"
      ],
      "metadata": {
        "colab": {
          "base_uri": "https://localhost:8080/"
        },
        "id": "jhM9ZFa-iC2N",
        "outputId": "547aa777-79a7-4535-c3e8-1ac7e8a512b6"
      },
      "execution_count": null,
      "outputs": [
        {
          "output_type": "stream",
          "name": "stdout",
          "text": [
            "20 10 320\n",
            "0\n"
          ]
        }
      ]
    },
    {
      "cell_type": "markdown",
      "source": [
        "## 특별한 날: https://www.acmicpc.net/problem/10768"
      ],
      "metadata": {
        "id": "jwR1YtFk9ZiF"
      }
    },
    {
      "cell_type": "code",
      "source": [
        "m = int(input())\n",
        "d = int(input())\n",
        "\n",
        "if m > 2:\n",
        "  print('After')\n",
        "elif m < 2:\n",
        "  print('Before')\n",
        "else:\n",
        "  if d < 18:\n",
        "    print('Before')\n",
        "  elif d > 18:\n",
        "    print('After')\n",
        "  else:\n",
        "    print('Special')"
      ],
      "metadata": {
        "colab": {
          "base_uri": "https://localhost:8080/"
        },
        "id": "31hOtQvgiDOX",
        "outputId": "d75e76d0-0a1a-40ae-fc1f-5966aaaa58ee"
      },
      "execution_count": null,
      "outputs": [
        {
          "output_type": "stream",
          "name": "stdout",
          "text": [
            "8\n",
            "31\n",
            "After\n"
          ]
        }
      ]
    },
    {
      "cell_type": "markdown",
      "source": [
        "## 10부제 : https://www.acmicpc.net/problem/10797"
      ],
      "metadata": {
        "id": "2DuT4SJW8l6I"
      }
    },
    {
      "cell_type": "code",
      "source": [
        "N = int(input())\n",
        "M = list(map(int, input().split()))\n",
        "\n",
        "print(M.count(N))"
      ],
      "metadata": {
        "colab": {
          "base_uri": "https://localhost:8080/"
        },
        "id": "62TiM0cpiDpU",
        "outputId": "232cc829-259b-4f39-c2ad-cd93271b93c4"
      },
      "execution_count": null,
      "outputs": [
        {
          "output_type": "stream",
          "name": "stdout",
          "text": [
            "5\n",
            "1 3 0 7 4\n",
            "0\n"
          ]
        }
      ]
    },
    {
      "cell_type": "markdown",
      "source": [
        "## 알파벳 개수: https://www.acmicpc.net/problem/10808"
      ],
      "metadata": {
        "id": "DTCkPxct8l_i"
      }
    },
    {
      "cell_type": "code",
      "source": [
        "string = input()\n",
        "ap = [0] * 26\n",
        "\n",
        "for x in string:\n",
        "  ap[ord(x) - 97] += 1\n",
        "\n",
        "for i in ap:\n",
        "  print(i, end=' ')"
      ],
      "metadata": {
        "colab": {
          "base_uri": "https://localhost:8080/"
        },
        "id": "M-APHJBYiEHG",
        "outputId": "8a18754f-2e38-410b-cc7b-4761f38c3865"
      },
      "execution_count": null,
      "outputs": [
        {
          "output_type": "stream",
          "name": "stdout",
          "text": [
            "baekjoon\n",
            "1 1 0 0 1 0 0 0 0 1 1 0 0 1 2 0 0 0 0 0 0 0 0 0 0 0 "
          ]
        }
      ]
    },
    {
      "cell_type": "markdown",
      "source": [
        "## 한글: https://www.acmicpc.net/problem/11282"
      ],
      "metadata": {
        "id": "p3Sahwv38mCe"
      }
    },
    {
      "cell_type": "code",
      "source": [
        "print(chr(44031 + int(input())))"
      ],
      "metadata": {
        "colab": {
          "base_uri": "https://localhost:8080/"
        },
        "id": "znEyhrCMiEbt",
        "outputId": "9bb368a4-9322-4cc2-fd05-9f81abb9b156"
      },
      "execution_count": null,
      "outputs": [
        {
          "output_type": "stream",
          "name": "stdout",
          "text": [
            "4146\n",
            "백\n"
          ]
        }
      ]
    },
    {
      "cell_type": "markdown",
      "source": [
        "## 한글 2: https://www.acmicpc.net/problem/11283"
      ],
      "metadata": {
        "id": "ao2pF7UW8mFR"
      }
    },
    {
      "cell_type": "code",
      "source": [
        "print(ord(input()) - 44031)"
      ],
      "metadata": {
        "colab": {
          "base_uri": "https://localhost:8080/"
        },
        "id": "BkjLMaGbiEua",
        "outputId": "b638a369-288d-489e-94e6-6c1377fd3c74"
      },
      "execution_count": null,
      "outputs": [
        {
          "output_type": "stream",
          "name": "stdout",
          "text": [
            "준\n",
            "7425\n"
          ]
        }
      ]
    },
    {
      "cell_type": "markdown",
      "source": [
        "## !밀비 급일: https://www.acmicpc.net/problem/11365"
      ],
      "metadata": {
        "id": "RF-XNGhN8mIV"
      }
    },
    {
      "cell_type": "code",
      "source": [
        "while True:\n",
        "  string = input()\n",
        "\n",
        "  if string == 'END':\n",
        "    break\n",
        "\n",
        "  print(\"\".join(reversed(string)))"
      ],
      "metadata": {
        "colab": {
          "base_uri": "https://localhost:8080/"
        },
        "id": "SfRnwAM-iFBL",
        "outputId": "508ebd7e-d3bc-48a7-bdd1-a7f825da3958"
      },
      "execution_count": null,
      "outputs": [
        {
          "name": "stdout",
          "output_type": "stream",
          "text": [
            "!edoc doog a tahW\n",
            "What a good code!\n",
            "noitacitsufbo\n",
            "obfustication\n",
            "erafraw enirambus detcirtsernu yraurbeF fo tsrif eht no nigeb ot dnetni eW\n",
            "We intend to begin on the first of February unrestricted submarine warfare\n",
            "lla sees rodroM fo drol eht ,ssertrof sih nihtiw delaecnoC\n",
            "Concealed within his fortress, the lord of Mordor sees all\n",
            "END\n"
          ]
        }
      ]
    },
    {
      "cell_type": "markdown",
      "source": [
        "## 파일 옮기기: https://www.acmicpc.net/problem/11943"
      ],
      "metadata": {
        "id": "MAS-hwlB9fWF"
      }
    },
    {
      "cell_type": "code",
      "source": [
        "a, b = map(int, input().split())\n",
        "c, d = map(int, input().split())\n",
        "\n",
        "print(min(b + c, a + d))"
      ],
      "metadata": {
        "colab": {
          "base_uri": "https://localhost:8080/"
        },
        "id": "i2Bu0f1EiFPt",
        "outputId": "603c7f2c-f0cd-4a71-cd88-fcb3f6738354"
      },
      "execution_count": null,
      "outputs": [
        {
          "output_type": "stream",
          "name": "stdout",
          "text": [
            "1 2\n",
            "3 4\n",
            "5\n"
          ]
        }
      ]
    },
    {
      "cell_type": "markdown",
      "source": [
        "## 뜨거운 붕어빵: https://www.acmicpc.net/problem/11945"
      ],
      "metadata": {
        "id": "qsCPrYGlAa8A"
      }
    },
    {
      "cell_type": "code",
      "source": [
        "N, M = map(int, input().split())\n",
        "fish_bread = []\n",
        "\n",
        "for i in range(N):\n",
        "  bread = list(map(int, input().strip()))\n",
        "  bread.reverse()\n",
        "  fish_bread.append(bread)"
      ],
      "metadata": {
        "colab": {
          "base_uri": "https://localhost:8080/",
          "height": 305
        },
        "id": "BRX4723GiFro",
        "outputId": "ef536e5b-ccb1-4318-d835-b5829428a4ab"
      },
      "execution_count": null,
      "outputs": [
        {
          "name": "stdout",
          "output_type": "stream",
          "text": [
            "5 7\n",
            "0010000\n",
            "0111010\n",
            "1111111\n",
            "0111010\n",
            "0010000\n"
          ]
        },
        {
          "output_type": "error",
          "ename": "AttributeError",
          "evalue": "ignored",
          "traceback": [
            "\u001b[0;31m---------------------------------------------------------------------------\u001b[0m",
            "\u001b[0;31mAttributeError\u001b[0m                            Traceback (most recent call last)",
            "\u001b[0;32m<ipython-input-20-754a7735dc40>\u001b[0m in \u001b[0;36m<cell line: 9>\u001b[0;34m()\u001b[0m\n\u001b[1;32m      9\u001b[0m \u001b[0;32mfor\u001b[0m \u001b[0mi\u001b[0m \u001b[0;32min\u001b[0m \u001b[0mrange\u001b[0m\u001b[0;34m(\u001b[0m\u001b[0mN\u001b[0m\u001b[0;34m)\u001b[0m\u001b[0;34m:\u001b[0m\u001b[0;34m\u001b[0m\u001b[0;34m\u001b[0m\u001b[0m\n\u001b[1;32m     10\u001b[0m   \u001b[0;32mfor\u001b[0m \u001b[0mj\u001b[0m \u001b[0;32min\u001b[0m \u001b[0mrange\u001b[0m\u001b[0;34m(\u001b[0m\u001b[0mM\u001b[0m\u001b[0;34m)\u001b[0m\u001b[0;34m:\u001b[0m\u001b[0;34m\u001b[0m\u001b[0;34m\u001b[0m\u001b[0m\n\u001b[0;32m---> 11\u001b[0;31m     \u001b[0mprint\u001b[0m\u001b[0;34m(\u001b[0m\u001b[0mfish_bread\u001b[0m\u001b[0;34m[\u001b[0m\u001b[0mi\u001b[0m\u001b[0;34m]\u001b[0m\u001b[0;34m[\u001b[0m\u001b[0mj\u001b[0m\u001b[0;34m]\u001b[0m\u001b[0;34m.\u001b[0m\u001b[0mstrip\u001b[0m\u001b[0;34m(\u001b[0m\u001b[0;34m)\u001b[0m\u001b[0;34m)\u001b[0m\u001b[0;34m\u001b[0m\u001b[0;34m\u001b[0m\u001b[0m\n\u001b[0m",
            "\u001b[0;31mAttributeError\u001b[0m: 'int' object has no attribute 'strip'"
          ]
        }
      ]
    },
    {
      "cell_type": "code",
      "source": [
        "for i in range(N):\n",
        "  for j in range(M):\n",
        "    print(fish_bread[i][j], end='')\n",
        "  print()"
      ],
      "metadata": {
        "colab": {
          "base_uri": "https://localhost:8080/"
        },
        "id": "fXmljtjIrYqm",
        "outputId": "47f3ac26-2de7-4939-e79c-19a6e0a1f676"
      },
      "execution_count": null,
      "outputs": [
        {
          "output_type": "stream",
          "name": "stdout",
          "text": [
            "0000100\n",
            "0101110\n",
            "1111111\n",
            "0101110\n",
            "0000100\n"
          ]
        }
      ]
    },
    {
      "cell_type": "markdown",
      "source": [
        "## 과목선택: https://www.acmicpc.net/problem/11948"
      ],
      "metadata": {
        "id": "6YllkauvAcyP"
      }
    },
    {
      "cell_type": "code",
      "source": [
        "scores1 = [int(input()) for _ in range(4)]\n",
        "scores2 = [int(input()) for _ in range(2)]\n",
        "scores1.sort()\n",
        "scores2.sort()\n",
        "\n",
        "total_score = 0\n",
        "for i in range(3):\n",
        "  total_score += scores1.pop()\n",
        "total_score += scores2.pop()\n",
        "\n",
        "print(total_score)"
      ],
      "metadata": {
        "colab": {
          "base_uri": "https://localhost:8080/"
        },
        "id": "GwkaWt0niGAt",
        "outputId": "a3a816bb-2edc-45e0-936a-ff92b17b71a8"
      },
      "execution_count": null,
      "outputs": [
        {
          "output_type": "stream",
          "name": "stdout",
          "text": [
            "100\n",
            "34\n",
            "76\n",
            "42\n",
            "10\n",
            "0\n",
            "228\n"
          ]
        }
      ]
    },
    {
      "cell_type": "markdown",
      "source": [
        "## 뉴턴과 사과: https://www.acmicpc.net/problem/13118"
      ],
      "metadata": {
        "id": "9LZOJWEHAgmq"
      }
    },
    {
      "cell_type": "code",
      "source": [
        "people = list(map(int, input().split()))\n",
        "x, y, r = map(int, input().split())\n",
        "result = 0\n",
        "\n",
        "for i, num in enumerate(people):\n",
        "  if num == x:\n",
        "    result = i + 1\n",
        "\n",
        "if result == 0:\n",
        "  for i, num in enumerate(people):\n",
        "    if x - r <= num <= x + r:\n",
        "      result = i + 1\n",
        "else:\n",
        "  print(result)"
      ],
      "metadata": {
        "colab": {
          "base_uri": "https://localhost:8080/"
        },
        "id": "UfKnri3EiGbZ",
        "outputId": "6df0e0e4-857c-4228-f8d7-0c8a77baaed5"
      },
      "execution_count": null,
      "outputs": [
        {
          "output_type": "stream",
          "name": "stdout",
          "text": [
            "-5 -2 1 5\n",
            "1 4 2\n",
            "3\n"
          ]
        }
      ]
    },
    {
      "cell_type": "markdown",
      "source": [
        "- 사과가 땅에 닿은 이후는 고려하지 않아도됨"
      ],
      "metadata": {
        "id": "2enzFZ0o5YHi"
      }
    },
    {
      "cell_type": "code",
      "source": [
        "people = list(map(int, input().split()))\n",
        "x, y, r = map(int, input().split())\n",
        "\n",
        "print(people.index(x) + 1 if x in people else 0)"
      ],
      "metadata": {
        "colab": {
          "base_uri": "https://localhost:8080/"
        },
        "id": "JUjTNuJ95i7F",
        "outputId": "e176a356-b050-480f-875c-ac17046b3d07"
      },
      "execution_count": null,
      "outputs": [
        {
          "output_type": "stream",
          "name": "stdout",
          "text": [
            "-5 -2 1 5\n",
            "1 4 2\n",
            "3\n"
          ]
        }
      ]
    },
    {
      "cell_type": "markdown",
      "source": [
        "## Do Not Touch Anything: https://www.acmicpc.net/problem/13136"
      ],
      "metadata": {
        "id": "y6jKlrk-AhyS"
      }
    },
    {
      "cell_type": "code",
      "source": [
        "import math\n",
        "\n",
        "R, C, N = map(int, input().split())\n",
        "\n",
        "print(math.ceil(R / N) * math.ceil(C / N))"
      ],
      "metadata": {
        "colab": {
          "base_uri": "https://localhost:8080/"
        },
        "id": "BB9wrLBeiGxA",
        "outputId": "86d3f611-fb7b-47b3-dacb-698c8e540d21"
      },
      "execution_count": null,
      "outputs": [
        {
          "output_type": "stream",
          "name": "stdout",
          "text": [
            "7 9 3\n",
            "9\n"
          ]
        }
      ]
    },
    {
      "cell_type": "markdown",
      "source": [
        "## 히스토그램: https://www.acmicpc.net/problem/13752"
      ],
      "metadata": {
        "id": "9sbVAkt3AlBO"
      }
    },
    {
      "cell_type": "code",
      "source": [
        "for i in range(int(input())):\n",
        "  N = int(input())\n",
        "  print('=' * N)"
      ],
      "metadata": {
        "colab": {
          "base_uri": "https://localhost:8080/"
        },
        "id": "GX7qUojeiHEq",
        "outputId": "3e0e19cf-4802-44b0-95df-c4e8cbfb5737"
      },
      "execution_count": null,
      "outputs": [
        {
          "output_type": "stream",
          "name": "stdout",
          "text": [
            "5\n",
            "1\n",
            "=\n",
            "3\n",
            "===\n",
            "4\n",
            "====\n",
            "6\n",
            "======\n",
            "2\n",
            "==\n"
          ]
        }
      ]
    },
    {
      "cell_type": "markdown",
      "source": [
        "## 팀 나누기: https://www.acmicpc.net/problem/13866"
      ],
      "metadata": {
        "id": "ANtgz-QAaAMB"
      }
    },
    {
      "cell_type": "code",
      "source": [
        "skills = list(map(int, input().split()))\n",
        "skills.sort()\n",
        "A = skills.pop(0) + skills.pop()\n",
        "B = skills.pop() + skills.pop()\n",
        "print(abs(A - B))"
      ],
      "metadata": {
        "colab": {
          "base_uri": "https://localhost:8080/"
        },
        "id": "BgcPO6UGaBjm",
        "outputId": "5584af9e-ec52-485d-dc63-a82f5428c279"
      },
      "execution_count": null,
      "outputs": [
        {
          "output_type": "stream",
          "name": "stdout",
          "text": [
            "1 2 3 4\n",
            "0\n"
          ]
        }
      ]
    },
    {
      "cell_type": "markdown",
      "source": [
        "## 전자레인지: https://www.acmicpc.net/problem/14470"
      ],
      "metadata": {
        "id": "31zquQHIesWN"
      }
    },
    {
      "cell_type": "code",
      "source": [
        "data = [int(input()) for _ in range(5)]\n",
        "A, B, C, D, E = data"
      ],
      "metadata": {
        "colab": {
          "base_uri": "https://localhost:8080/"
        },
        "id": "iw70tcbTeuc2",
        "outputId": "eaff4507-2bf1-49ba-cc58-6fa42b1f3878"
      },
      "execution_count": null,
      "outputs": [
        {
          "name": "stdout",
          "output_type": "stream",
          "text": [
            "35\n",
            "92\n",
            "31\n",
            "50\n",
            "11\n"
          ]
        }
      ]
    },
    {
      "cell_type": "code",
      "source": [
        "sec = B * E\n",
        "\n",
        "if A > 0:\n",
        "  print(sec - (A * E))\n",
        "elif A == 0:\n",
        "  print(sec - (A * E) + D)\n",
        "else:\n",
        "  print(sec - (C * A) + D)"
      ],
      "metadata": {
        "colab": {
          "base_uri": "https://localhost:8080/"
        },
        "id": "gJsyeAzDfoQK",
        "outputId": "7fff674d-8290-4492-c54a-11e2fae2c921"
      },
      "execution_count": null,
      "outputs": [
        {
          "output_type": "stream",
          "name": "stdout",
          "text": [
            "627\n"
          ]
        }
      ]
    },
    {
      "cell_type": "code",
      "source": [
        "sec = B * E\n",
        "\n",
        "if A >= 0:\n",
        "  sec -= A * E\n",
        "  sec += D if A == 0 else 0\n",
        "else:\n",
        "  sec = sec - (C * A) + D\n",
        "\n",
        "print(sec)"
      ],
      "metadata": {
        "colab": {
          "base_uri": "https://localhost:8080/"
        },
        "id": "dc1OtGKXji7H",
        "outputId": "8d796e06-0f88-47a3-98be-ab4c7e0ec2aa"
      },
      "execution_count": null,
      "outputs": [
        {
          "output_type": "stream",
          "name": "stdout",
          "text": [
            "627\n"
          ]
        }
      ]
    },
    {
      "cell_type": "markdown",
      "source": [
        "## 치킨 두 마리 (...): https://www.acmicpc.net/problem/14489"
      ],
      "metadata": {
        "id": "S7ND9K_dklYH"
      }
    },
    {
      "cell_type": "code",
      "source": [
        "account = list(map(int, input().split()))\n",
        "C = int(input())\n",
        "\n",
        "if sum(account) < 2 * C:\n",
        "  print(sum(account))\n",
        "else:\n",
        "  print(sum(account) - (2 * C))"
      ],
      "metadata": {
        "colab": {
          "base_uri": "https://localhost:8080/"
        },
        "id": "1H9MC7ufkos8",
        "outputId": "c7bee29f-636c-467d-e84b-1b0c587f95e4"
      },
      "execution_count": null,
      "outputs": [
        {
          "output_type": "stream",
          "name": "stdout",
          "text": [
            "1000000000 1000000000\n",
            "1000000001\n",
            "2000000000\n"
          ]
        }
      ]
    },
    {
      "cell_type": "markdown",
      "source": [
        "## 폰 노이만과 파리: https://www.acmicpc.net/problem/14924\n"
      ],
      "metadata": {
        "id": "kjuTCshXoHvH"
      }
    },
    {
      "cell_type": "code",
      "source": [
        "S, T, D = map(int, input().split())\n",
        "\n",
        "print(T * (D // (2 * S)))"
      ],
      "metadata": {
        "colab": {
          "base_uri": "https://localhost:8080/"
        },
        "id": "1RtCJqLqoHEs",
        "outputId": "df30e7d2-db4b-402a-efad-02f26ca85742"
      },
      "execution_count": null,
      "outputs": [
        {
          "output_type": "stream",
          "name": "stdout",
          "text": [
            "50 75 200\n",
            "150\n"
          ]
        }
      ]
    },
    {
      "cell_type": "markdown",
      "source": [
        "## FA: https://www.acmicpc.net/problem/14935"
      ],
      "metadata": {
        "id": "C4-P9K-GMaqA"
      }
    },
    {
      "cell_type": "code",
      "source": [
        "N = input()\n",
        "N_before = 0\n",
        "\n",
        "while True:\n",
        "  N = int(N[0]) * len(N)\n",
        "  if N == N_before:\n",
        "    print('FA')\n",
        "    break\n",
        "  else:\n",
        "    N_before = N\n",
        "    N = str(N)"
      ],
      "metadata": {
        "colab": {
          "base_uri": "https://localhost:8080/"
        },
        "id": "axAFCKYLMcVv",
        "outputId": "1fbf4a73-3bd4-4556-96e3-26a45a0ac2ab"
      },
      "execution_count": null,
      "outputs": [
        {
          "output_type": "stream",
          "name": "stdout",
          "text": [
            "932\n",
            "FA\n"
          ]
        }
      ]
    },
    {
      "cell_type": "markdown",
      "source": [
        "## 베라의 패션: https://www.acmicpc.net/problem/15439"
      ],
      "metadata": {
        "id": "V3c9ahHWUpTL"
      }
    },
    {
      "cell_type": "code",
      "source": [
        "N = int(input())\n",
        "print(N * (N - 1))"
      ],
      "metadata": {
        "colab": {
          "base_uri": "https://localhost:8080/"
        },
        "id": "O8pVI6T5VFn1",
        "outputId": "89a59e2d-d5df-4201-fc0b-f8a0abd65cd5"
      },
      "execution_count": null,
      "outputs": [
        {
          "output_type": "stream",
          "name": "stdout",
          "text": [
            "5\n",
            "20\n"
          ]
        }
      ]
    },
    {
      "cell_type": "markdown",
      "source": [
        "## 타일 채우기 4: https://www.acmicpc.net/problem/15700"
      ],
      "metadata": {
        "id": "hAgPYZCzXuDS"
      }
    },
    {
      "cell_type": "code",
      "source": [
        "r, c = map(int, input().split())\n",
        "\n",
        "print((r * c) // 2)"
      ],
      "metadata": {
        "colab": {
          "base_uri": "https://localhost:8080/"
        },
        "id": "EcyuJ9olXtYn",
        "outputId": "2c0840fd-379b-4caf-bfe3-50849b8ef058"
      },
      "execution_count": null,
      "outputs": [
        {
          "output_type": "stream",
          "name": "stdout",
          "text": [
            "3 3\n",
            "4\n"
          ]
        }
      ]
    },
    {
      "cell_type": "markdown",
      "source": [
        "## 이칙연산: https://www.acmicpc.net/problem/15726"
      ],
      "metadata": {
        "id": "SS1m250vbGLA"
      }
    },
    {
      "cell_type": "code",
      "source": [
        "import math\n",
        "\n",
        "x, y, z = input().split()\n",
        "operators = [('*', '/'), ('/', '*')]\n",
        "result = []\n",
        "\n",
        "for operator in operators:\n",
        "  result.append(eval(x + operator[0] + y + operator[1] + z))\n",
        "\n",
        "print(math.floor(max(result)))"
      ],
      "metadata": {
        "colab": {
          "base_uri": "https://localhost:8080/"
        },
        "id": "9lfpBam5bIBd",
        "outputId": "f8224a8b-5086-46c7-933d-ceb7647692b7"
      },
      "execution_count": null,
      "outputs": [
        {
          "output_type": "stream",
          "name": "stdout",
          "text": [
            "32 16 8\n",
            "64\n"
          ]
        }
      ]
    },
    {
      "cell_type": "code",
      "source": [
        "x, y, z = map(int, input().split())\n",
        "\n",
        "print(x * max(y, z) // min(y, z))"
      ],
      "metadata": {
        "colab": {
          "base_uri": "https://localhost:8080/"
        },
        "id": "zp6xhk4Je-wC",
        "outputId": "55ec27d6-de36-4003-c5c9-70c3a9c84f38"
      },
      "execution_count": null,
      "outputs": [
        {
          "output_type": "stream",
          "name": "stdout",
          "text": [
            "32 16 8\n",
            "64\n"
          ]
        }
      ]
    },
    {
      "cell_type": "markdown",
      "source": [
        "## 공백 없는 A + B: https://www.acmicpc.net/problem/15873"
      ],
      "metadata": {
        "id": "mQMNKgyYfU2D"
      }
    },
    {
      "cell_type": "code",
      "source": [
        "data = input()\n",
        "\n",
        "if len(data) > 2 and int(data[0:2]) <= 10:\n",
        "  a, b = data[0:2], data[2:]\n",
        "else:\n",
        "  a, b = data[0], data[1:]\n",
        "\n",
        "print(int(a) + int(b))"
      ],
      "metadata": {
        "colab": {
          "base_uri": "https://localhost:8080/"
        },
        "id": "LECHdWq2fYU4",
        "outputId": "eaeb5a70-8c45-44bc-9d59-82cf9ec89b18"
      },
      "execution_count": null,
      "outputs": [
        {
          "output_type": "stream",
          "name": "stdout",
          "text": [
            "102\n",
            "12\n"
          ]
        }
      ]
    },
    {
      "cell_type": "markdown",
      "source": [
        "## CASIO: https://www.acmicpc.net/problem/15963"
      ],
      "metadata": {
        "id": "wZNDzXoNos9x"
      }
    },
    {
      "cell_type": "code",
      "source": [
        "N, M = map(int, input().split())\n",
        "\n",
        "if N == M:\n",
        "  print(1)\n",
        "else:\n",
        "  print(0)"
      ],
      "metadata": {
        "colab": {
          "base_uri": "https://localhost:8080/"
        },
        "id": "3M5BgODsuRb4",
        "outputId": "1fdb4889-abad-462c-ddd5-565c38f15e60"
      },
      "execution_count": null,
      "outputs": [
        {
          "output_type": "stream",
          "name": "stdout",
          "text": [
            "1 0\n",
            "0\n"
          ]
        }
      ]
    },
    {
      "cell_type": "markdown",
      "source": [
        "## 카드 뽑기: https://www.acmicpc.net/problem/16204"
      ],
      "metadata": {
        "id": "DuTE3eS3ybXE"
      }
    },
    {
      "cell_type": "code",
      "source": [
        "N, M, K = map(int, input().split())\n",
        "\n",
        "O = min(M, K)\n",
        "X = min(N - M, N - K)\n",
        "\n",
        "print(O + X)"
      ],
      "metadata": {
        "colab": {
          "base_uri": "https://localhost:8080/"
        },
        "id": "HPqIAHEdyg7c",
        "outputId": "111bf7df-06cf-4157-8038-ed9b8ccdfbfa"
      },
      "execution_count": null,
      "outputs": [
        {
          "output_type": "stream",
          "name": "stdout",
          "text": [
            "7 5 2\n",
            "4\n"
          ]
        }
      ]
    },
    {
      "cell_type": "markdown",
      "source": [
        "## 운동장 한 바퀴: https://www.acmicpc.net/problem/16486"
      ],
      "metadata": {
        "id": "sTLFLbQi1HEd"
      }
    },
    {
      "cell_type": "code",
      "source": [
        "d1 = int(input())\n",
        "d2 = int(input())\n",
        "\n",
        "print((d1 * 2) + ((2 * d2) * 3.141592))"
      ],
      "metadata": {
        "colab": {
          "base_uri": "https://localhost:8080/"
        },
        "id": "Yb3pcAsV1Jgv",
        "outputId": "84dc3641-67df-468e-a1b6-e8db2fc65305"
      },
      "execution_count": null,
      "outputs": [
        {
          "output_type": "stream",
          "name": "stdout",
          "text": [
            "13\n",
            "8\n",
            "76.265472\n"
          ]
        }
      ]
    },
    {
      "cell_type": "markdown",
      "source": [
        "## 수학은 체육과목 입니다 2: https://www.acmicpc.net/problem/17362"
      ],
      "metadata": {
        "id": "Tz3RBfmwTj3k"
      }
    },
    {
      "cell_type": "code",
      "source": [
        "n = int(input())\n",
        "\n",
        "a = n % 8\n",
        "\n",
        "if a != 0 and a <= 5:\n",
        "    print(a)\n",
        "else:\n",
        "    if a == 0:\n",
        "        print('2')\n",
        "    else:\n",
        "        a = 10 - a\n",
        "        print(a)"
      ],
      "metadata": {
        "colab": {
          "base_uri": "https://localhost:8080/"
        },
        "id": "9mhaJpMgU_o3",
        "outputId": "ccbd9bea-244a-442c-db2a-66d1dc5243da"
      },
      "execution_count": null,
      "outputs": [
        {
          "output_type": "stream",
          "name": "stdout",
          "text": [
            "1000\n",
            "2\n"
          ]
        }
      ]
    },
    {
      "cell_type": "markdown",
      "source": [
        "## 와글와글 숭고한: https://www.acmicpc.net/problem/17388"
      ],
      "metadata": {
        "id": "Iyv_ZCVMTjfr"
      }
    },
    {
      "cell_type": "code",
      "source": [
        "data = list(map(int, input().split()))\n",
        "univ = ['Soongsil', 'Korea', 'Hanyang']\n",
        "\n",
        "print('OK' if sum(data) >= 100 else univ[data.index(min(data))])"
      ],
      "metadata": {
        "colab": {
          "base_uri": "https://localhost:8080/"
        },
        "id": "_DwC_dE7aWOs",
        "outputId": "5b37629f-3b54-4e81-bf35-847ee5b5870f"
      },
      "execution_count": null,
      "outputs": [
        {
          "output_type": "stream",
          "name": "stdout",
          "text": [
            "19 8 9\n",
            "Korea\n"
          ]
        }
      ]
    },
    {
      "cell_type": "markdown",
      "source": [
        "## 헛간 청약: https://www.acmicpc.net/problem/19698"
      ],
      "metadata": {
        "id": "d2UvnDwwwl5s"
      }
    },
    {
      "cell_type": "code",
      "source": [
        "N, W, H, L = map(int, input().split())\n",
        "\n",
        "print(min((W // L) * (H // L), N))"
      ],
      "metadata": {
        "colab": {
          "base_uri": "https://localhost:8080/"
        },
        "id": "WW_JM9Uzwn6m",
        "outputId": "1463d7eb-044b-423a-d025-e7251c7e00c7"
      },
      "execution_count": null,
      "outputs": [
        {
          "output_type": "stream",
          "name": "stdout",
          "text": [
            "7 17 11 5\n",
            "6\n"
          ]
        }
      ]
    },
    {
      "cell_type": "markdown",
      "source": [
        "## Darius님 한타 안 함?: https://www.acmicpc.net/problem/20499"
      ],
      "metadata": {
        "id": "Aqx1abxe8Kpu"
      }
    },
    {
      "cell_type": "code",
      "source": [
        "K, D, A = map(int, input().split('/'))\n",
        "\n",
        "if K + A < D or D == 0:\n",
        "  print('hasu')\n",
        "else:\n",
        "  print('gosu')"
      ],
      "metadata": {
        "colab": {
          "base_uri": "https://localhost:8080/"
        },
        "id": "W1iYZqm88Oyl",
        "outputId": "4b892427-ef76-4f99-b2fa-9aeaf773f9b2"
      },
      "execution_count": null,
      "outputs": [
        {
          "output_type": "stream",
          "name": "stdout",
          "text": [
            "0/0/1\n",
            "hasu\n"
          ]
        }
      ]
    },
    {
      "cell_type": "markdown",
      "source": [
        "## 사장님 도박은 재미로 하셔야 합니다: https://www.acmicpc.net/problem/23795"
      ],
      "metadata": {
        "id": "_Gknsb4U_Z80"
      }
    },
    {
      "cell_type": "code",
      "source": [
        "result = 0\n",
        "\n",
        "while True:\n",
        "  N = int(input())\n",
        "  if N == -1:\n",
        "    break\n",
        "\n",
        "  result += N\n",
        "\n",
        "print(result)"
      ],
      "metadata": {
        "colab": {
          "base_uri": "https://localhost:8080/"
        },
        "id": "sGLuwYsw_b8d",
        "outputId": "5d68344a-f176-41f8-9e05-36b4dc2a2279"
      },
      "execution_count": null,
      "outputs": [
        {
          "output_type": "stream",
          "name": "stdout",
          "text": [
            "1\n",
            "2\n",
            "3\n",
            "4\n",
            "5\n",
            "6\n",
            "7\n",
            "8\n",
            "9\n",
            "10\n",
            "-1\n",
            "55\n"
          ]
        }
      ]
    },
    {
      "cell_type": "markdown",
      "source": [
        "## SASA 모형을 만들어보자: https://www.acmicpc.net/problem/23825"
      ],
      "metadata": {
        "id": "wEgmex9qAQXk"
      }
    },
    {
      "cell_type": "code",
      "source": [
        "N, M = map(int, input().split())\n",
        "\n",
        "print(min(N, M) // 2)"
      ],
      "metadata": {
        "colab": {
          "base_uri": "https://localhost:8080/"
        },
        "id": "6cIkCTETATrT",
        "outputId": "6dbdb746-6065-4cb0-98cd-68e98285a63b"
      },
      "execution_count": null,
      "outputs": [
        {
          "output_type": "stream",
          "name": "stdout",
          "text": [
            "4 5\n",
            "2\n"
          ]
        }
      ]
    },
    {
      "cell_type": "markdown",
      "source": [
        "## 녹색거탑: https://www.acmicpc.net/problem/24723"
      ],
      "metadata": {
        "id": "Sj2meXSCCSru"
      }
    },
    {
      "cell_type": "code",
      "source": [
        "print(2 ** int(input()))"
      ],
      "metadata": {
        "colab": {
          "base_uri": "https://localhost:8080/"
        },
        "id": "CH3Np7rPCWEZ",
        "outputId": "e5386df6-a2ba-4e93-e512-fb354f7f1900"
      },
      "execution_count": null,
      "outputs": [
        {
          "output_type": "stream",
          "name": "stdout",
          "text": [
            "3\n",
            "8\n"
          ]
        }
      ]
    },
    {
      "cell_type": "markdown",
      "source": [
        "## 자동완성: https://www.acmicpc.net/problem/24883"
      ],
      "metadata": {
        "id": "uIAuMLzYDkjY"
      }
    },
    {
      "cell_type": "code",
      "source": [
        "alpa = input()\n",
        "\n",
        "print('Naver', 'D2' if alpa == 'N' or alpa == 'n' else 'Whale')"
      ],
      "metadata": {
        "colab": {
          "base_uri": "https://localhost:8080/"
        },
        "id": "nu053c9CDqAr",
        "outputId": "c99b7333-28a8-44f1-9581-b70614fe5f65"
      },
      "execution_count": null,
      "outputs": [
        {
          "output_type": "stream",
          "name": "stdout",
          "text": [
            "n\n",
            "Naver D2\n"
          ]
        }
      ]
    },
    {
      "cell_type": "markdown",
      "source": [
        "## 빵: https://www.acmicpc.net/problem/25377"
      ],
      "metadata": {
        "id": "I76MGHoAFnog"
      }
    },
    {
      "cell_type": "code",
      "source": [
        "minute = -1\n",
        "\n",
        "for i in range(int(input())):\n",
        "  A, B = map(int, input().split())\n",
        "\n",
        "  if A <= B:\n",
        "    if minute == -1:\n",
        "      minute = B\n",
        "    else:\n",
        "      minute = min(B, minute)\n",
        "\n",
        "print(minute)"
      ],
      "metadata": {
        "colab": {
          "base_uri": "https://localhost:8080/"
        },
        "id": "70OIC_GaFqp5",
        "outputId": "04aecf16-3bef-4b73-f1d6-9ad7d834e4c9"
      },
      "execution_count": null,
      "outputs": [
        {
          "output_type": "stream",
          "name": "stdout",
          "text": [
            "3\n",
            "15 18\n",
            "10 20\n",
            "20 15\n",
            "18\n"
          ]
        }
      ]
    },
    {
      "cell_type": "markdown",
      "source": [
        "## 단순한 문제 (Small): https://www.acmicpc.net/problem/25494"
      ],
      "metadata": {
        "id": "qisrBUYCIjEy"
      }
    },
    {
      "cell_type": "code",
      "source": [
        "for _ in range(int(input())):\n",
        "  a, b, c = map(int, input().split())\n",
        "  count = 0\n",
        "  for x in range(1, a + 1):\n",
        "    for y in range(1, b + 1):\n",
        "      for z in range(1, c + 1):\n",
        "        if x % y == y % z == z % x:\n",
        "          count += 1\n",
        "  print(count)"
      ],
      "metadata": {
        "colab": {
          "base_uri": "https://localhost:8080/"
        },
        "id": "puIS2z4UIlLL",
        "outputId": "aa58793e-6996-485e-8080-d13ee6d6da84"
      },
      "execution_count": null,
      "outputs": [
        {
          "output_type": "stream",
          "name": "stdout",
          "text": [
            "2\n",
            "1 2 3\n",
            "1\n",
            "3 2 4\n",
            "2\n"
          ]
        }
      ]
    },
    {
      "cell_type": "markdown",
      "source": [
        "## 푸앙이와 종윤이: https://www.acmicpc.net/problem/25591"
      ],
      "metadata": {
        "id": "r0EHuoC5LtmJ"
      }
    },
    {
      "cell_type": "code",
      "source": [
        "n, m = map(int, input().split())\n",
        "\n",
        "a, b = 100 - n, 100 - m\n",
        "c = 100 - (a + b)\n",
        "d = a * b\n",
        "q, r = divmod(d, 100)\n",
        "\n",
        "print(a, b, c, d, q, r)\n",
        "print(c + q, r)"
      ],
      "metadata": {
        "colab": {
          "base_uri": "https://localhost:8080/"
        },
        "id": "1i-ctIK7Lvfd",
        "outputId": "9c8a6574-74c2-4aba-9371-6bd4957d00ef"
      },
      "execution_count": null,
      "outputs": [
        {
          "output_type": "stream",
          "name": "stdout",
          "text": [
            "19 32\n",
            "81 68 -49 5508 55 8\n",
            "6 8\n"
          ]
        }
      ]
    },
    {
      "cell_type": "code",
      "source": [
        "for _ in range(int(input())):\n",
        "  a, b, c = map(int, input().split())\n",
        "  print(min(a, b, c))"
      ],
      "metadata": {
        "colab": {
          "base_uri": "https://localhost:8080/"
        },
        "id": "b7E8KUTjLIex",
        "outputId": "27118b21-3ba1-4f28-de34-1dc4dd36bf4e"
      },
      "execution_count": null,
      "outputs": [
        {
          "output_type": "stream",
          "name": "stdout",
          "text": [
            "2\n",
            "1 2 3\n",
            "1\n",
            "3 2 4\n",
            "2\n"
          ]
        }
      ]
    },
    {
      "cell_type": "markdown",
      "source": [
        "## Triathlon: https://www.acmicpc.net/problem/25600"
      ],
      "metadata": {
        "id": "g16Px3eWNmyi"
      }
    },
    {
      "cell_type": "code",
      "source": [
        "max_score = 0\n",
        "\n",
        "for _ in range(int(input())):\n",
        "  a, d, g = map(int, input().split())\n",
        "  score = a * (d + g)\n",
        "  if a == d + g:\n",
        "    score *= 2\n",
        "  max_score = max(score, max_score)\n",
        "\n",
        "print(max_score)"
      ],
      "metadata": {
        "colab": {
          "base_uri": "https://localhost:8080/"
        },
        "id": "R6t4XnIMNpEr",
        "outputId": "42fb0900-9303-447a-98bc-36db95c2fb74"
      },
      "execution_count": null,
      "outputs": [
        {
          "output_type": "stream",
          "name": "stdout",
          "text": [
            "5\n",
            "1 0 1\n",
            "5 2 3\n",
            "5 5 4\n",
            "0 1 4\n",
            "3 7 2\n",
            "50\n"
          ]
        }
      ]
    },
    {
      "cell_type": "markdown",
      "source": [
        "## 샤틀버스: https://www.acmicpc.net/problem/25625"
      ],
      "metadata": {
        "id": "YFCOu87bQMSK"
      }
    },
    {
      "cell_type": "code",
      "source": [
        "n, m = map(int, input().split())\n",
        "\n",
        "print(n + m if n > m else m % n)"
      ],
      "metadata": {
        "colab": {
          "base_uri": "https://localhost:8080/"
        },
        "id": "EyiKMnKoQOK_",
        "outputId": "adf777e5-24de-4e5f-e2e7-c29cd4188bc7"
      },
      "execution_count": null,
      "outputs": [
        {
          "output_type": "stream",
          "name": "stdout",
          "text": [
            "10 3\n",
            "13\n"
          ]
        }
      ]
    },
    {
      "cell_type": "markdown",
      "source": [
        "## 햄버거 만들기: https://www.acmicpc.net/problem/25628"
      ],
      "metadata": {
        "id": "jE4tVR6aV33U"
      }
    },
    {
      "cell_type": "code",
      "source": [
        "a, b = map(int, input().split())\n",
        "\n",
        "print(min(a // 2, b // 1))"
      ],
      "metadata": {
        "colab": {
          "base_uri": "https://localhost:8080/"
        },
        "id": "uaetlb0GV6M8",
        "outputId": "c2d2717d-1a50-4292-df54-d4a9ac65f933"
      },
      "execution_count": null,
      "outputs": [
        {
          "output_type": "stream",
          "name": "stdout",
          "text": [
            "1 7\n",
            "0\n"
          ]
        }
      ]
    },
    {
      "cell_type": "markdown",
      "source": [
        "## MBTI: https://www.acmicpc.net/problem/25640"
      ],
      "metadata": {
        "id": "XVwPprCnWkF5"
      }
    },
    {
      "cell_type": "code",
      "source": [
        "N = input()\n",
        "friends = []\n",
        "for i in range(int(input())):\n",
        "  friends.append(input())"
      ],
      "metadata": {
        "colab": {
          "base_uri": "https://localhost:8080/"
        },
        "id": "UqU34F6mWmC8",
        "outputId": "6b2751c4-839c-4a31-83fe-4928dc69b15a"
      },
      "execution_count": null,
      "outputs": [
        {
          "name": "stdout",
          "output_type": "stream",
          "text": [
            "ESTJ\n",
            "5\n",
            "ISTP\n",
            "ESTJ\n",
            "INTP\n",
            "ESTJ\n",
            "ENTJ\n"
          ]
        }
      ]
    },
    {
      "cell_type": "code",
      "source": [
        "print(friends)"
      ],
      "metadata": {
        "colab": {
          "base_uri": "https://localhost:8080/"
        },
        "id": "8c_53rdTXHD1",
        "outputId": "b9c38156-0a34-48a0-fa1c-6c9d484726b8"
      },
      "execution_count": null,
      "outputs": [
        {
          "output_type": "stream",
          "name": "stdout",
          "text": [
            "['ISTP', 'ESTJ', 'INTP', 'ESTJ', 'ENTJ']\n"
          ]
        }
      ]
    },
    {
      "cell_type": "code",
      "source": [
        "print(friends.count(N))"
      ],
      "metadata": {
        "colab": {
          "base_uri": "https://localhost:8080/"
        },
        "id": "S0AHrzA-XJ-A",
        "outputId": "6edb14b1-8577-4aa4-87fb-4c214099fbe5"
      },
      "execution_count": null,
      "outputs": [
        {
          "output_type": "stream",
          "name": "stdout",
          "text": [
            "2\n"
          ]
        }
      ]
    },
    {
      "cell_type": "markdown",
      "source": [
        "## 출석 이벤트: https://www.acmicpc.net/problem/25704"
      ],
      "metadata": {
        "id": "zOlOUm21Y3fx"
      }
    },
    {
      "cell_type": "code",
      "source": [
        "N = int(input())\n",
        "price = input()\n",
        "\n",
        "coupons = [' - 0', '- 500', ' * 0.9', ' - 2000', ' * 0.75']\n",
        "\n",
        "total = int(eval(price + coupons[N // 5]))\n",
        "\n",
        "if total < 0:\n",
        "  print(0)\n",
        "else:\n",
        "  print(total)"
      ],
      "metadata": {
        "colab": {
          "base_uri": "https://localhost:8080/"
        },
        "id": "1_Pt5iK7e0uu",
        "outputId": "f161d47c-791c-49bf-fd36-f3d4d6c53882"
      },
      "execution_count": null,
      "outputs": [
        {
          "output_type": "stream",
          "name": "stdout",
          "text": [
            "23\n",
            "3000\n",
            "2250\n"
          ]
        }
      ]
    },
    {
      "cell_type": "markdown",
      "source": [
        "- 출석 쿠폰이 25장이나 30장일 때의 경우가 포함되지 않아서 25, 30을 넣으면 IndexError가 발생한다"
      ],
      "metadata": {
        "id": "A9wg-BWWhes7"
      }
    },
    {
      "cell_type": "code",
      "source": [
        "N = int(input())\n",
        "price = input()\n",
        "\n",
        "coupons = [' - 0', '- 500', ' * 0.9', ' - 2000', ' * 0.75', ' - 0', ' - 0']\n",
        "\n",
        "total = int(eval(price + coupons[N // 5]))\n",
        "\n",
        "if total < 0:\n",
        "  print(0)\n",
        "else:\n",
        "  print(total)"
      ],
      "metadata": {
        "id": "S78q42YAhYI7"
      },
      "execution_count": null,
      "outputs": []
    },
    {
      "cell_type": "markdown",
      "source": [
        " - 위 코드는 최대 쿠폰이 아니라 제일 많은 출석 도장 기준으로 적용하고 있다."
      ],
      "metadata": {
        "id": "l-P7lHV0e_3z"
      }
    },
    {
      "cell_type": "code",
      "source": [
        "N = int(input())\n",
        "price = input()\n",
        "\n",
        "coupons = [' - 0', '- 500', ' * 0.9', ' - 2000', ' * 0.75', ' - 0', ' - 0']\n",
        "total = int(price)\n",
        "\n",
        "for i in range((N // 5) + 1):\n",
        "  total = min(total, int(eval(str(price) + coupons[i])))\n",
        "\n",
        "if total < 0:\n",
        "  print(0)\n",
        "else:\n",
        "  print(total)"
      ],
      "metadata": {
        "colab": {
          "base_uri": "https://localhost:8080/"
        },
        "id": "lI3VPeQCY6Sf",
        "outputId": "abf51f83-829d-4e26-9e49-ddbde16c4187"
      },
      "execution_count": null,
      "outputs": [
        {
          "output_type": "stream",
          "name": "stdout",
          "text": [
            "30\n",
            "500\n",
            "0\n"
          ]
        }
      ]
    },
    {
      "cell_type": "markdown",
      "source": [
        "- 쿠폰을 사용했을 때 가장 적은 가격이 나오게 변경"
      ],
      "metadata": {
        "id": "P_HAnxutfL92"
      }
    },
    {
      "cell_type": "markdown",
      "source": [
        "## 특식 배부: https://www.acmicpc.net/problem/27110"
      ],
      "metadata": {
        "id": "O71yDfP6hTsm"
      }
    },
    {
      "cell_type": "code",
      "source": [
        "n = int(input())\n",
        "a, b, c = map(int, input().split())\n",
        "\n",
        "print(min(a, n) + min(b, n) + min(c, n))"
      ],
      "metadata": {
        "colab": {
          "base_uri": "https://localhost:8080/"
        },
        "id": "Nm9uEQ2hi2Mi",
        "outputId": "c3521d87-83e6-4828-8752-fa437e219c05"
      },
      "execution_count": null,
      "outputs": [
        {
          "output_type": "stream",
          "name": "stdout",
          "text": [
            "10\n",
            "100 200 300\n",
            "30\n"
          ]
        }
      ]
    },
    {
      "cell_type": "markdown",
      "source": [
        "## :chino_shock: : https://www.acmicpc.net/problem/27310"
      ],
      "metadata": {
        "id": "fEbZmAE6jPkm"
      }
    },
    {
      "cell_type": "code",
      "source": [
        "emoji = input()\n",
        "colon = 0\n",
        "under_bar = 0\n",
        "\n",
        "for x in emoji:\n",
        "  if x == ':':\n",
        "    colon += 1\n",
        "  if x == '_':\n",
        "    under_bar += 5\n",
        "\n",
        "print(len(emoji) + colon + under_bar)"
      ],
      "metadata": {
        "colab": {
          "base_uri": "https://localhost:8080/"
        },
        "id": "J26c-nY9jOrl",
        "outputId": "0e725df9-c131-421b-dcb0-60ac17fe220d"
      },
      "execution_count": null,
      "outputs": [
        {
          "output_type": "stream",
          "name": "stdout",
          "text": [
            ":chino_very_shock:\n",
            "30\n"
          ]
        }
      ]
    },
    {
      "cell_type": "markdown",
      "source": [
        "## 탁구 경기: https://www.acmicpc.net/problem/27918"
      ],
      "metadata": {
        "id": "5wc2n3Yfkcpx"
      }
    },
    {
      "cell_type": "code",
      "source": [
        "X, Y = 0, 0\n",
        "\n",
        "for _ in range(int(input())):\n",
        "  N = input()\n",
        "  if abs(X - Y) >= 2:\n",
        "    break\n",
        "\n",
        "  if N == 'D':\n",
        "    X += 1\n",
        "  if N == 'P':\n",
        "    Y += 1\n",
        "\n",
        "print(f'{X}:{Y}')"
      ],
      "metadata": {
        "colab": {
          "base_uri": "https://localhost:8080/"
        },
        "id": "sJf2WiClkflc",
        "outputId": "01e7aa69-e1fa-4ae4-9a0b-29cdd1c561a0"
      },
      "execution_count": null,
      "outputs": [
        {
          "output_type": "stream",
          "name": "stdout",
          "text": [
            "10\n",
            "D\n",
            "P\n",
            "P\n",
            "D\n",
            "D\n",
            "P\n",
            "P\n",
            "P\n",
            "D\n",
            "3:5\n"
          ]
        }
      ]
    },
    {
      "cell_type": "markdown",
      "source": [
        "## 모비스: https://www.acmicpc.net/problem/28074"
      ],
      "metadata": {
        "id": "35-JOv3emEDd"
      }
    },
    {
      "cell_type": "code",
      "source": [
        "string = input()\n",
        "mobis = list('MOBIS'.strip())\n",
        "\n",
        "count = 0\n",
        "for x in mobis:\n",
        "  if x in string:\n",
        "    count += 1\n",
        "\n",
        "if count == 5:\n",
        "  print('YES')\n",
        "else:\n",
        "  print('NO')"
      ],
      "metadata": {
        "colab": {
          "base_uri": "https://localhost:8080/"
        },
        "id": "hng0241imIsz",
        "outputId": "a2a24bb0-2140-4ca5-f4c6-6e6b216fb226"
      },
      "execution_count": null,
      "outputs": [
        {
          "output_type": "stream",
          "name": "stdout",
          "text": [
            "MMMMM\n",
            "NO\n"
          ]
        }
      ]
    },
    {
      "cell_type": "markdown",
      "source": [
        "## 모범생 포닉스: https://www.acmicpc.net/problem/28097"
      ],
      "metadata": {
        "id": "tdZ6ouhWprjf"
      }
    },
    {
      "cell_type": "code",
      "source": [
        "n = int(input())\n",
        "t = sum(list(map(int, input().split())))\n",
        "d, h = divmod(t + ((n - 1) * 8), 24)\n",
        "print(d, h)"
      ],
      "metadata": {
        "colab": {
          "base_uri": "https://localhost:8080/"
        },
        "id": "d5nhtiFNptxL",
        "outputId": "f572f43e-c5f2-462c-f2a8-73eb2b7f66e0"
      },
      "execution_count": null,
      "outputs": [
        {
          "output_type": "stream",
          "name": "stdout",
          "text": [
            "1\n",
            "10\n",
            "0 10\n"
          ]
        }
      ]
    },
    {
      "cell_type": "markdown",
      "source": [
        "## 선물: https://www.acmicpc.net/problem/28281"
      ],
      "metadata": {
        "id": "9rs8tdbQzyqe"
      }
    },
    {
      "cell_type": "code",
      "source": [
        "n, x = map(int, input().split())\n",
        "days = list(map(int, input().split()))\n",
        "\n",
        "price = sum(days) * x\n",
        "\n",
        "for i in range(n - 1):\n",
        "  price = min(price, (days[i] + days[i + 1]) * x)\n",
        "\n",
        "print(price)"
      ],
      "metadata": {
        "colab": {
          "base_uri": "https://localhost:8080/"
        },
        "id": "x0etw9pr0WYS",
        "outputId": "f608d3cc-4c88-488c-eee0-d8bdf42606ab"
      },
      "execution_count": null,
      "outputs": [
        {
          "output_type": "stream",
          "name": "stdout",
          "text": [
            "7 142857\n",
            "22 35 9 12 25 19 10\n",
            "2999997\n"
          ]
        }
      ]
    },
    {
      "cell_type": "markdown",
      "source": [
        "## 안밖? 밖안? 계단? 역계단?: https://www.acmicpc.net/problem/28290"
      ],
      "metadata": {
        "id": "c-Cf8Dc93Zk6"
      }
    },
    {
      "cell_type": "markdown",
      "source": [
        "- 쉽게 풀기"
      ],
      "metadata": {
        "id": "BvPC8pgUOCjU"
      }
    },
    {
      "cell_type": "code",
      "source": [
        "keys = input()\n",
        "\n",
        "if keys == 'fdsajkl;' or keys == 'jkl;fdsa':\n",
        "  print('in-out')\n",
        "elif keys == 'asdf;lkj' or keys == ';lkjasdf':\n",
        "  print('out-in')\n",
        "elif keys == 'asdfjkl;':\n",
        "  print('stairs')\n",
        "elif keys == ';lkjfdsa':\n",
        "  print('reverse')\n",
        "else:\n",
        "  print('molu')"
      ],
      "metadata": {
        "colab": {
          "base_uri": "https://localhost:8080/"
        },
        "id": "RbNW2q1hOB38",
        "outputId": "f804bd16-2a21-4496-e8c1-4b21bc0c0968"
      },
      "execution_count": null,
      "outputs": [
        {
          "output_type": "stream",
          "name": "stdout",
          "text": [
            ";lkjfdsa\n",
            "reverse\n"
          ]
        }
      ]
    },
    {
      "cell_type": "markdown",
      "source": [
        "- 어렵게 풀어보기"
      ],
      "metadata": {
        "id": "OlswtXlzN8EA"
      }
    },
    {
      "cell_type": "markdown",
      "source": [
        "![스크린샷 2023-07-14 오후 7 54 38](https://github.com/Zamoca42/TIL/assets/96982072/99610f94-ab14-4f8f-a073-1d8e05cd5f16)\n",
        "\n",
        "- [표로 작성](https://docs.google.com/spreadsheets/d/1Sd5rATf-_gCjcXrUVY9RJGuNRZF63Jhw1mizhK6p_uE/edit?usp=sharing)"
      ],
      "metadata": {
        "id": "GTdm8-WaAGMz"
      }
    },
    {
      "cell_type": "code",
      "source": [
        "def in_out(start, end):\n",
        "  count = 0\n",
        "  for i in range(start, end - 1):\n",
        "    if result[i] > result[i + 1]:\n",
        "      count += 1\n",
        "    elif result[i] < result[i + 1]:\n",
        "      count -= 1\n",
        "\n",
        "  if count == 3:\n",
        "    flag.append('in')\n",
        "  elif count == -3:\n",
        "    flag.append('out')\n",
        "  else:\n",
        "    flag.append('no')\n",
        "\n",
        "typing = input()\n",
        "keyboard = list('asdfjkl;'.strip())\n",
        "result = [0] * len(keyboard)\n",
        "\n",
        "for i, x in enumerate(keyboard):\n",
        "  result[i] = typing.index(x)\n",
        "\n",
        "mid = len(result) // 2\n",
        "flag = []\n",
        "\n",
        "in_out(0, mid)\n",
        "in_out(mid, len(result))\n",
        "\n",
        "if flag.count('in') == 1 or flag.count('out') == 1:\n",
        "  print(f'{flag[0]}-{flag[1]}')\n",
        "elif flag.count('out') == 2:\n",
        "  print('stairs')\n",
        "elif flag.count('in') == 2:\n",
        "  print('reverse')\n",
        "else:\n",
        "  print('molu')"
      ],
      "metadata": {
        "colab": {
          "base_uri": "https://localhost:8080/"
        },
        "id": "4_ABk5Z0I-8O",
        "outputId": "4cc285df-1e14-4fca-84f6-b19349e8534f"
      },
      "execution_count": null,
      "outputs": [
        {
          "output_type": "stream",
          "name": "stdout",
          "text": [
            "asdfjkl;\n",
            "stairs\n"
          ]
        }
      ]
    },
    {
      "cell_type": "code",
      "source": [
        "def in_out(start, end):\n",
        "  count = 0\n",
        "  for i in range(start, end - 1):\n",
        "    if abs(result[i] - result[i + 1]) == 1:\n",
        "      if result[i] > result[i + 1]:\n",
        "        count += 1\n",
        "      elif result[i] < result[i + 1]:\n",
        "        count -= 1\n",
        "\n",
        "  return count\n",
        "\n",
        "typing = input()\n",
        "keyboard = list('asdfjkl;'.strip())\n",
        "result = [0] * len(keyboard)\n",
        "\n",
        "for i, x in enumerate(keyboard):\n",
        "  result[i] = typing.index(x)\n",
        "\n",
        "mid = len(result) // 2\n",
        "flag = [0] * 2\n",
        "\n",
        "f1, f2 = in_out(0, mid), in_out(mid, len(result))\n",
        "\n",
        "if (f1, f2) == (3, -3):\n",
        "    print('in-out')\n",
        "elif (f1, f2) == (3, 3):\n",
        "    print('reverse')\n",
        "elif (f1, f2) == (-3, -3):\n",
        "    print('stairs')\n",
        "elif (f1, f2) == (-3, 3):\n",
        "    print('out-in')\n",
        "else:\n",
        "  print('molu')"
      ],
      "metadata": {
        "colab": {
          "base_uri": "https://localhost:8080/"
        },
        "id": "adcAzVqpKqCm",
        "outputId": "062e1b6e-6c62-4537-aefa-dbf2dfae71c3"
      },
      "execution_count": null,
      "outputs": [
        {
          "output_type": "stream",
          "name": "stdout",
          "text": [
            "fdsa;lkj\n",
            "reverse\n"
          ]
        }
      ]
    },
    {
      "cell_type": "markdown",
      "source": [
        "## 체육은 코딩과목 입니다: https://www.acmicpc.net/problem/28295"
      ],
      "metadata": {
        "id": "OvG3zt7hRZcM"
      }
    },
    {
      "cell_type": "code",
      "source": [
        "degree = 0\n",
        "\n",
        "for _ in range(10):\n",
        "  n = int(input())\n",
        "  if n == 1:\n",
        "    degree += 1\n",
        "  elif n == 2:\n",
        "    degree += 2\n",
        "  elif n == 3:\n",
        "    degree -= 1\n",
        "\n",
        "derection = ['N','E','S','W']\n",
        "print(derection[degree % 4])"
      ],
      "metadata": {
        "colab": {
          "base_uri": "https://localhost:8080/"
        },
        "id": "6A87VmjmRcM2",
        "outputId": "f85067d8-ef89-4b3e-a3ab-2ec714e61ff9"
      },
      "execution_count": null,
      "outputs": [
        {
          "output_type": "stream",
          "name": "stdout",
          "text": [
            "1\n",
            "2\n",
            "3\n",
            "1\n",
            "2\n",
            "3\n",
            "1\n",
            "2\n",
            "3\n",
            "1\n",
            "W\n"
          ]
        }
      ]
    },
    {
      "cell_type": "markdown",
      "source": [
        "## 빠른입력"
      ],
      "metadata": {
        "id": "CYvHJa7tlfFd"
      }
    },
    {
      "cell_type": "code",
      "source": [
        "# 입력이 많을 때 사용\n",
        "\n",
        "import sys\n",
        "input = sys.stdin.readline"
      ],
      "metadata": {
        "id": "QFT3kkpGlgmE"
      },
      "execution_count": null,
      "outputs": []
    },
    {
      "cell_type": "markdown",
      "source": [
        "## 시간재는방법"
      ],
      "metadata": {
        "id": "l3pMLpBGMSsh"
      }
    },
    {
      "cell_type": "code",
      "source": [
        "import time\n",
        "\n",
        "n = 100000\n",
        "\n",
        "start_time = time.time()\n",
        "\n",
        "# 코드\n",
        "\n",
        "end_time = time.time()\n",
        "\n",
        "execution_time = end_time - start_time\n",
        "\n",
        "print(\"Execution time:\", execution_time, \"seconds\")"
      ],
      "metadata": {
        "colab": {
          "base_uri": "https://localhost:8080/"
        },
        "id": "Ww1o3nRNKsuY",
        "outputId": "1821a9e9-c2d2-4070-cb25-cd2b1e561a37"
      },
      "execution_count": null,
      "outputs": [
        {
          "output_type": "stream",
          "name": "stdout",
          "text": [
            "Execution time: 2.1219253540039062e-05 seconds\n"
          ]
        }
      ]
    }
  ]
}