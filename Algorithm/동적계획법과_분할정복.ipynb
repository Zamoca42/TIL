{
  "nbformat": 4,
  "nbformat_minor": 0,
  "metadata": {
    "colab": {
      "provenance": [],
      "authorship_tag": "ABX9TyNG7NAzK2zn2F3npEgH2jD4",
      "include_colab_link": true
    },
    "kernelspec": {
      "name": "python3",
      "display_name": "Python 3"
    },
    "language_info": {
      "name": "python"
    }
  },
  "cells": [
    {
      "cell_type": "markdown",
      "metadata": {
        "id": "view-in-github",
        "colab_type": "text"
      },
      "source": [
        "<a href=\"https://colab.research.google.com/github/Zamoca42/TIL/blob/main/Algorithm/%EB%8F%99%EC%A0%81%EA%B3%84%ED%9A%8D%EB%B2%95%EA%B3%BC_%EB%B6%84%ED%95%A0%EC%A0%95%EB%B3%B5.ipynb\" target=\"_parent\"><img src=\"https://colab.research.google.com/assets/colab-badge.svg\" alt=\"Open In Colab\"/></a>"
      ]
    },
    {
      "cell_type": "markdown",
      "source": [
        "## 동적 계획법 (Dynamic Programming)과 분할 정복 (Divide and Conquer)"
      ],
      "metadata": {
        "id": "hkARpMJub0ks"
      }
    },
    {
      "cell_type": "markdown",
      "source": [
        "### 1. 정의\n",
        "- 동적계획법 (DP 라고 많이 부름)\n",
        "  - 입력 크기가 작은 부분 문제들을 해결한 후, 해당 부분 문제의 해를 활용해서, 보다 큰 크기의 부분 문제를 해결, 최종적으로 전체 문제를 해결하는 알고리즘\n",
        "  - 상향식 접근법으로, 가장 최하위 해답을 구한 후, 이를 저장하고, 해당 결과값을 이용해서 상위 문제를 풀어가는 방식 \n",
        "  - Memoization 기법을 사용함\n",
        "    - Memoization (메모이제이션) 이란: 프로그램 실행 시 이전에 계산한 값을 저장하여, 다시 계산하지 않도록 하여 전체 실행 속도를 빠르게 하는 기술\n",
        "  - 문제를 잘게 쪼갤 때, 부분 문제는 중복되어, 재활용됨\n",
        "    - 예: 피보나치 수열\n",
        "- 분할 정복\n",
        "  - 문제를 나눌 수 없을 때까지 나누어서 각각을 풀면서 다시 합병하여 문제의 답을 얻는 알고리즘\n",
        "  - 하양식 접근법으로, 상위의 해답을 구하기 위해, 아래로 내려가면서 하위의 해답을 구하는 방식\n",
        "    - 일반적으로 재귀함수로 구현\n",
        "  - 문제를 잘게 쪼갤 때, 부분 문제는 서로 중복되지 않음\n",
        "    - 예: 병합 정렬, 퀵 정렬 등"
      ],
      "metadata": {
        "id": "806EfoGBb2lk"
      }
    },
    {
      "cell_type": "markdown",
      "source": [
        "### 2. 공통점과 차이점\n",
        "- 공통점\n",
        "  - 문제를 잘게 쪼개서, 가장 작은 단위로 분할\n",
        "- 차이점\n",
        "  - 동적 계획법\n",
        "    - 부분 문제는 중복되어, 상위 문제 해결 시 재활용됨\n",
        "    - Memoization 기법 사용 (부분 문제의 해답을 저장해서 재활용하는 최적화 기법으로 사용)\n",
        "  - 분할 정복\n",
        "    - 부분 문제는 서로 중복되지 않음\n",
        "    - Memoization 기법 사용 안함"
      ],
      "metadata": {
        "id": "iVg0CUuBb4-9"
      }
    },
    {
      "cell_type": "markdown",
      "source": [
        "### 3. 동적 계획법 알고리즘 이해"
      ],
      "metadata": {
        "id": "A9TtHAxxb8c5"
      }
    },
    {
      "cell_type": "markdown",
      "source": [
        "<div class=\"alert alert-block alert-warning\">\n",
        "<strong><font color=\"blue\" size=\"4em\">프로그래밍 연습</font></strong><br>\n",
        "피보나치 수열: n 을 입력받아서 다음과 같이 계산됨<br>\n",
        "n 을 입력받았을 때 피보나치 수열로 결과값을 출력하세요<br>\n",
        "</div>\n",
        "<img src=\"https://www.fun-coding.org/00_Images/Fibonacci.png\" />\n",
        "<pre>\n",
        "함수를 fibonacci 라고 하면,\n",
        "fibonacci(0):0\n",
        "fibonacci(1):1\n",
        "fibonacci(2):1\n",
        "fibonacci(3):2\n",
        "fibonacci(4):3\n",
        "fibonacci(5):5\n",
        "fibonacci(6):8\n",
        "fibonacci(7):13\n",
        "fibonacci(8):21\n",
        "fibonacci(9):34\n",
        "</pre>"
      ],
      "metadata": {
        "id": "e_uGdkasb91c"
      }
    },
    {
      "cell_type": "markdown",
      "source": [
        "<img src=\"https://www.fun-coding.org/00_Images/dp.png\" />"
      ],
      "metadata": {
        "id": "8kqpfTb1cAcg"
      }
    },
    {
      "cell_type": "markdown",
      "source": [
        "### recursive call 활용"
      ],
      "metadata": {
        "id": "fU0zTtetcDEa"
      }
    },
    {
      "cell_type": "code",
      "execution_count": 1,
      "metadata": {
        "id": "yW_e5ltkbyaa"
      },
      "outputs": [],
      "source": [
        "def fibonacci(n):\n",
        "  if n == 0:\n",
        "    return 0\n",
        "  if n == 1:\n",
        "    return 1\n",
        "  return fibonacci(n - 1) + fibonacci(n - 2)"
      ]
    },
    {
      "cell_type": "code",
      "source": [
        "fibonacci(9)"
      ],
      "metadata": {
        "colab": {
          "base_uri": "https://localhost:8080/"
        },
        "id": "Lgk5ZwIBdStY",
        "outputId": "2c16cf6b-f0fc-438e-9007-8357f2ce0227"
      },
      "execution_count": 5,
      "outputs": [
        {
          "output_type": "execute_result",
          "data": {
            "text/plain": [
              "34"
            ]
          },
          "metadata": {},
          "execution_count": 5
        }
      ]
    },
    {
      "cell_type": "markdown",
      "source": [
        "### 동적 계획법 활용"
      ],
      "metadata": {
        "id": "Zg3b-IHVd_3Y"
      }
    },
    {
      "cell_type": "code",
      "source": [
        "def fibo_dp(num):\n",
        "    cache = [ 0 for index in range(num + 1)]\n",
        "    cache[0] = 0\n",
        "    cache[1] = 1\n",
        "    \n",
        "    for index in range(2, num + 1):\n",
        "        cache[index] = cache[index - 1] + cache[index - 2]\n",
        "    return cache[num]"
      ],
      "metadata": {
        "id": "T4aIL5aleBBo"
      },
      "execution_count": null,
      "outputs": []
    }
  ]
}