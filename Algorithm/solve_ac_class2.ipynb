{
  "nbformat": 4,
  "nbformat_minor": 0,
  "metadata": {
    "colab": {
      "provenance": [],
      "authorship_tag": "ABX9TyPDU0HXwK1JG267uqQOJcaP",
      "include_colab_link": true
    },
    "kernelspec": {
      "name": "python3",
      "display_name": "Python 3"
    },
    "language_info": {
      "name": "python"
    }
  },
  "cells": [
    {
      "cell_type": "markdown",
      "metadata": {
        "id": "view-in-github",
        "colab_type": "text"
      },
      "source": [
        "<a href=\"https://colab.research.google.com/github/Zamoca42/TIL/blob/main/Algorithm/solve_ac_class2.ipynb\" target=\"_parent\"><img src=\"https://colab.research.google.com/assets/colab-badge.svg\" alt=\"Open In Colab\"/></a>"
      ]
    },
    {
      "cell_type": "markdown",
      "source": [
        "# 2023 - 06 - 30"
      ],
      "metadata": {
        "id": "TK4UFmf01Qog"
      }
    },
    {
      "cell_type": "markdown",
      "source": [
        "## 체스판 다시 칠하기: https://www.acmicpc.net/problem/1018"
      ],
      "metadata": {
        "id": "gF08CpbyQuir"
      }
    },
    {
      "cell_type": "code",
      "execution_count": null,
      "metadata": {
        "colab": {
          "base_uri": "https://localhost:8080/"
        },
        "id": "tK8KT4sRQoIt",
        "outputId": "a6fd1451-6244-43ff-9cf2-eef8331c365c"
      },
      "outputs": [
        {
          "output_type": "stream",
          "name": "stdout",
          "text": [
            "9 23\n",
            "BBBBBBBBBBBBBBBBBBBBBBB\n",
            "BBBBBBBBBBBBBBBBBBBBBBB\n",
            "BBBBBBBBBBBBBBBBBBBBBBB\n",
            "BBBBBBBBBBBBBBBBBBBBBBB\n",
            "BBBBBBBBBBBBBBBBBBBBBBB\n",
            "BBBBBBBBBBBBBBBBBBBBBBB\n",
            "BBBBBBBBBBBBBBBBBBBBBBB\n",
            "BBBBBBBBBBBBBBBBBBBBBBB\n",
            "BBBBBBBBBBBBBBBBBBBBBBW\n",
            "31\n"
          ]
        }
      ],
      "source": [
        "# import sys\n",
        "# input = sys.stdin.readline\n",
        "\n",
        "row, col = map(int, input().split())\n",
        "chess = [list(input().strip()) for _ in range(row)]\n",
        "result = []\n",
        "\n",
        "for i in range(row - 7):\n",
        "  for j in range(col - 7):\n",
        "    w = 0\n",
        "    b = 0\n",
        "\n",
        "    for k in range(i, i + 8):\n",
        "      for l in range(j, j + 8):\n",
        "        if (l + k) % 2 == 0:\n",
        "          if chess[k][l] != 'W':\n",
        "            w += 1\n",
        "          else:\n",
        "            b += 1\n",
        "        else:\n",
        "          if chess[k][l] != 'B':\n",
        "            w += 1\n",
        "          else:\n",
        "            b += 1\n",
        "    result.append(w)\n",
        "    result.append(b)\n",
        "\n",
        "print(min(result))"
      ]
    },
    {
      "cell_type": "markdown",
      "source": [
        "### 어려웠던 점\n",
        "\n",
        "- 완전탐색인 부분\n",
        "- 시작 좌표를 여러개 정의해서 8*8인 경우를 모두 찾는다는 아이디어\n",
        "- for 반복문을 여러번 사용하면서 헷갈림\n",
        "- W로 시작하는 경우와 B로 시작하는 경우를 나누어 확인\n",
        "- 8X8 범위 체스판을 확인할 때 행과 열의 합이 짝수, 홀수이면 각각 일정한 색을 가지게 된다.(체크무늬)\n",
        "- tag: 브루트 포스"
      ],
      "metadata": {
        "id": "Dn2LXPtBnqCK"
      }
    },
    {
      "cell_type": "markdown",
      "source": [
        "# 단어 정렬: https://www.acmicpc.net/problem/1181"
      ],
      "metadata": {
        "id": "RE4FOXF7qVfI"
      }
    },
    {
      "cell_type": "code",
      "source": [
        "result = []\n",
        "check = set()\n",
        "\n",
        "for _ in range(int(input())):\n",
        "  string = input()\n",
        "  if string not in check:\n",
        "    result.append((len(string), string))\n",
        "  check.add(string)\n",
        "\n",
        "result.sort()\n",
        "\n",
        "for x in result:\n",
        "  print(x[1])"
      ],
      "metadata": {
        "colab": {
          "base_uri": "https://localhost:8080/"
        },
        "id": "-eNAQsFgZNRS",
        "outputId": "3f64986f-53ce-4240-8f4d-e3c60021e1ff"
      },
      "execution_count": null,
      "outputs": [
        {
          "name": "stdout",
          "output_type": "stream",
          "text": [
            "13\n",
            "but\n",
            "i\n",
            "wont\n",
            "hesitate\n",
            "no\n",
            "more\n",
            "no\n",
            "more\n",
            "it\n",
            "cannot\n",
            "wait\n",
            "im\n",
            "yours\n"
          ]
        }
      ]
    },
    {
      "cell_type": "markdown",
      "source": [
        "### 다른 소스코드"
      ],
      "metadata": {
        "id": "NarWgCIYts1A"
      }
    },
    {
      "cell_type": "code",
      "source": [
        "n = int(input())\n",
        "words = set()\n",
        "\n",
        "for _ in range(n):\n",
        "    words.add(input())\n",
        "words = list(words)\n",
        "words.sort(key=lambda x:(len(x), x))\n",
        "\n",
        "for word in words:\n",
        "    print(word)"
      ],
      "metadata": {
        "colab": {
          "base_uri": "https://localhost:8080/"
        },
        "id": "XVp_B6mZtrVC",
        "outputId": "a879f547-6d03-48a5-cf90-9e38d3c27438"
      },
      "execution_count": null,
      "outputs": [
        {
          "output_type": "stream",
          "name": "stdout",
          "text": [
            "13\n",
            "but\n",
            "i\n",
            "wont\n",
            "hesitate\n",
            "no\n",
            "mor\n",
            "no\n",
            "mor\n",
            "it\n",
            "cannot\n",
            "wait\n",
            "im\n",
            "yours\n",
            "i\n",
            "im\n",
            "it\n",
            "no\n",
            "but\n",
            "mor\n",
            "wait\n",
            "wont\n",
            "yours\n",
            "cannot\n",
            "hesitate\n"
          ]
        }
      ]
    },
    {
      "cell_type": "markdown",
      "source": [
        "# 2023 - 07 - 01"
      ],
      "metadata": {
        "id": "01uTW0Xip3sn"
      }
    },
    {
      "cell_type": "markdown",
      "source": [
        "## 팰린드롬수: https://www.acmicpc.net/problem/1259"
      ],
      "metadata": {
        "id": "byu8Irzh70ht"
      }
    },
    {
      "cell_type": "code",
      "source": [
        "import copy\n",
        "# import sys\n",
        "# input = sys.stdin.readline\n",
        "\n",
        "while True:\n",
        "  result = True\n",
        "  number = list(input().strip())\n",
        "  reversed_number = copy.deepcopy(number)\n",
        "  reversed_number.reverse()\n",
        "\n",
        "  if number[0] == '0':\n",
        "    break\n",
        "\n",
        "  for i in range(len(number) // 2):\n",
        "    if number[i] != reversed_number[i]:\n",
        "      result = False\n",
        "\n",
        "  if result:\n",
        "    print('yes')\n",
        "  else:\n",
        "    print('no')"
      ],
      "metadata": {
        "colab": {
          "base_uri": "https://localhost:8080/"
        },
        "id": "tC3_IYG-q4CQ",
        "outputId": "dcd4622e-643d-4e3a-b0a0-8412a06a0b1f"
      },
      "execution_count": null,
      "outputs": [
        {
          "name": "stdout",
          "output_type": "stream",
          "text": [
            "12421\n",
            "yes\n",
            "1231\n",
            "no\n",
            "121\n",
            "yes\n",
            "0\n"
          ]
        }
      ]
    },
    {
      "cell_type": "markdown",
      "source": [
        "## 영화감독 숌: https://www.acmicpc.net/problem/1436"
      ],
      "metadata": {
        "id": "JtMdIZYDFVIP"
      }
    },
    {
      "cell_type": "code",
      "source": [
        "N = int(input())\n",
        "number = 666\n",
        "\n",
        "while N:\n",
        "  if '666' in str(number): N -= 1\n",
        "  number += 1\n",
        "\n",
        "print(number - 1)"
      ],
      "metadata": {
        "colab": {
          "base_uri": "https://localhost:8080/"
        },
        "id": "JkQGiPVzBZRS",
        "outputId": "d723f905-087e-4022-bdf9-e3e9716e4a13"
      },
      "execution_count": null,
      "outputs": [
        {
          "output_type": "stream",
          "name": "stdout",
          "text": [
            "187\n",
            "66666\n"
          ]
        }
      ]
    },
    {
      "cell_type": "markdown",
      "source": [
        "이 문제는 영화 시리즈의 제목을 연속된 3개의 6, 즉 \"666\"이 포함된 숫자들을 오름차순에 따라 짓고 싶다는 영화 감독의 바람을 담은 문제이다.\n",
        "```\n",
        "666 1666 2666 3666 4666 5666 6660 6661 6662 6663 6664 6665 6666 6667 6668 6669 7666 8666 9666 10666 11666  12666\n",
        "0   1    2    3    4    5    6    7    8    9    10   11   12   13   14   15   16   17   18   19    20     21\n",
        "```\n",
        "위와 같은 진행 방식으로 숫자를 찾아 낼 수 있다.\n",
        "\n",
        "범위를 지정하지 않고 완전 탐색해도 시간 초과가 간당간당하게 뜨지 않으니 부르트포스 방식으로 풀이한다.\n",
        "\n",
        "- 출처 : https://velog.io/@junyp1/%EB%B0%B1%EC%A4%80-1436-Python-%EC%98%81%ED%99%94%EA%B0%90%EB%8F%85-%EC%88%8C-cspbujq2"
      ],
      "metadata": {
        "id": "IdrxADGTWICt"
      }
    },
    {
      "cell_type": "markdown",
      "source": [
        "- 부르트 포스\n",
        "\n",
        "  **완전탐색 알고리즘**\n",
        "\n",
        "  가능한 모든 경우의 수를 모두 탐색하면서 요구조건에 충족되는 결과만을 가져온다."
      ],
      "metadata": {
        "id": "jQZzzI3wWcPi"
      }
    },
    {
      "cell_type": "markdown",
      "source": [
        "## 평균: https://www.acmicpc.net/problem/1546"
      ],
      "metadata": {
        "id": "Bdo98UK-qWq2"
      }
    },
    {
      "cell_type": "code",
      "source": [
        "n = int(input())\n",
        "scores = list(map(int, input().split()))\n",
        "m = max(scores)\n",
        "\n",
        "for i in range(n):\n",
        "  scores[i] = (scores[i] / m) * 100\n",
        "\n",
        "average = sum(scores) / n\n",
        "\n",
        "print(average)"
      ],
      "metadata": {
        "id": "A4Z0y0R6JIc4",
        "colab": {
          "base_uri": "https://localhost:8080/"
        },
        "outputId": "d2fbc815-7521-4ac2-a165-7eac163e33d8"
      },
      "execution_count": 37,
      "outputs": [
        {
          "output_type": "stream",
          "name": "stdout",
          "text": [
            "9\n",
            "10 20 30 40 50 60 70 80 90\n",
            "55.55555555555556\n"
          ]
        }
      ]
    },
    {
      "cell_type": "markdown",
      "source": [
        "## 랜선자르기: https://www.acmicpc.net/problem/1654"
      ],
      "metadata": {
        "id": "xBDBGE3iyNNW"
      }
    },
    {
      "cell_type": "code",
      "source": [
        "n, m = map(int, input().split())\n",
        "array = []\n",
        "\n",
        "for i in range(n):\n",
        "  array.append(int(input()))\n",
        "\n",
        "start = 1\n",
        "end = max(array)\n",
        "\n",
        "while (start <= end):\n",
        "    mid = (start + end) // 2\n",
        "    count = 0\n",
        "    for i in range(n):\n",
        "      count += array[i] // mid\n",
        "    if count >= m:\n",
        "      start = mid + 1\n",
        "    else:\n",
        "      end = mid - 1\n",
        "print(end)"
      ],
      "metadata": {
        "colab": {
          "base_uri": "https://localhost:8080/"
        },
        "id": "XlfCvVncqkCA",
        "outputId": "3790bfbb-f7bb-4eea-9985-9beb6829b882"
      },
      "execution_count": 40,
      "outputs": [
        {
          "output_type": "stream",
          "name": "stdout",
          "text": [
            "4 11\n",
            "802\n",
            "743\n",
            "457\n",
            "539\n",
            "200\n"
          ]
        }
      ]
    },
    {
      "cell_type": "markdown",
      "source": [
        "**풀이**\n",
        "\n",
        "- [이진 탐색](https://velog.io/@madfinger/Binary-Search%EC%9D%B4%EC%A7%84-%ED%83%90%EC%83%89-%ED%8C%8C%EC%9D%B4%EC%8D%AC)\n",
        "- 길이의 범위는 1부터 랜선 중 가장 긴 랜선 길이까지이다.\n",
        "- 잘라진 랜선 개수가 m보다 많으면, mid 밑으로는 볼 필요가 없다.\n",
        "- 만약 102cm 랜선을 2개로 자른다면, 50cm로 잘라도 2개, 51cm로 잘라도 2개다.\n",
        "- 이 문제에서는 최대 랜선 길이를 구해야 하므로, end를 출력시켜야 한다.\n"
      ],
      "metadata": {
        "id": "TSaURjsM2H3R"
      }
    },
    {
      "cell_type": "markdown",
      "source": [
        "### 다른 사람 풀이"
      ],
      "metadata": {
        "id": "Pt1iTXHJ2UUP"
      }
    },
    {
      "cell_type": "code",
      "source": [
        "import sys\n",
        "\n",
        "def solution():\n",
        "    K, N = map(int, input().split())\n",
        "    # sys.stdin.readline() 사용이유는 글 하단 참고\n",
        "    lan = [int(sys.stdin.readline()) for _ in range(K)]\n",
        "\n",
        "    min_value = 1 # 랜선의 최소 길이를 1로 설정\n",
        "    max_value = max(lan) # 랜선중 가장 긴 길이를 max값으로 설정\n",
        "\n",
        "    while min_value <= max_value: # 이분탐색이 완료될때까지 반복\n",
        "        mid = (min_value + max_value) // 2 # 이분탐색을 위한 중간값 설정\n",
        "        cnt = 0 # 랜선 수를 카운팅하는 변수 반복될때 마다 초기화 해야 하므로 반복문 안에서 선언\n",
        "        for i in lan:\n",
        "            cnt += i // mid # 랜선을 자른 수\n",
        "\n",
        "        if cnt >= N: # 랜선을 자른 수가 만들어야될 랜선의 수보다 클 경우\n",
        "            min_value = mid + 1 # 랜선의 최소 길이를 중간값보다 1크게 설정\n",
        "        else: # 랜선을 자른 수가 만들어야될 랜선의 수보다 작을 경우\n",
        "            max_value = mid - 1 # 랜선의 최대 길이를 중간값보다 1작게 설정\n",
        "\n",
        "    return max_value # 랜선을 자룬 수가 만들어야 될 랜선의 수와 같을경우 길이 출력\n",
        "\n",
        "print(solution())"
      ],
      "metadata": {
        "id": "WqdQ_srsz57B"
      },
      "execution_count": null,
      "outputs": []
    },
    {
      "cell_type": "markdown",
      "source": [
        "# 팩토리얼 0의 개수: https://www.acmicpc.net/problem/1676"
      ],
      "metadata": {
        "id": "AClPdrLFKQ58"
      }
    },
    {
      "cell_type": "code",
      "source": [
        "N = int(input())\n",
        "fact = 1\n",
        "\n",
        "for i in range(1, N + 1):\n",
        "  fact *= i\n",
        "\n",
        "result = list(str(fact))\n",
        "result.reverse()\n",
        "\n",
        "count = 0\n",
        "for x in result:\n",
        "  if x != '0':\n",
        "    break\n",
        "  count += 1\n",
        "\n",
        "print(count)"
      ],
      "metadata": {
        "colab": {
          "base_uri": "https://localhost:8080/"
        },
        "id": "krtsmXiIKTlf",
        "outputId": "9661285b-2985-42c4-d38d-d61f81673820"
      },
      "execution_count": 6,
      "outputs": [
        {
          "output_type": "stream",
          "name": "stdout",
          "text": [
            "10\n",
            "2\n"
          ]
        }
      ]
    },
    {
      "cell_type": "markdown",
      "source": [
        "# 스택 수열: https://www.acmicpc.net/problem/1874"
      ],
      "metadata": {
        "id": "SSLYsat6NkD2"
      }
    },
    {
      "cell_type": "code",
      "source": [
        "# import sys\n",
        "# input = sys.stdin.readline # 빠른 입력 함수 사용\n",
        "\n",
        "n = int(input())\n",
        "\n",
        "stack = []\n",
        "result = []\n",
        "\n",
        "count = 1\n",
        "\n",
        "for _ in range(n):\n",
        "  x = int(input())\n",
        "  while count <= x:\n",
        "    stack.append(count)\n",
        "    count += 1\n",
        "    result.append('+')\n",
        "  if stack[-1] == x:\n",
        "    stack.pop()\n",
        "    result.append('-')\n",
        "  else:\n",
        "    result = ['NO']\n",
        "    break\n",
        "\n",
        "for index in result:\n",
        "  print(index)"
      ],
      "metadata": {
        "colab": {
          "base_uri": "https://localhost:8080/"
        },
        "id": "hvXgl-LoL4Ky",
        "outputId": "f8ad1e98-8f9d-4f25-f1af-c94db3b7e5ea"
      },
      "execution_count": 1,
      "outputs": [
        {
          "output_type": "stream",
          "name": "stdout",
          "text": [
            "8\n",
            "4\n",
            "3\n",
            "6\n",
            "8\n",
            "7\n",
            "5\n",
            "2\n",
            "1\n",
            "No\n"
          ]
        }
      ]
    },
    {
      "cell_type": "markdown",
      "source": [
        "# 수 찾기: https://www.acmicpc.net/problem/1920"
      ],
      "metadata": {
        "id": "pBoP6WgTQF9j"
      }
    },
    {
      "cell_type": "code",
      "source": [
        "# import sys\n",
        "# input = sys.stdin.readline\n",
        "\n",
        "N = int(input())\n",
        "find_num = set(map(int, input().split()))\n",
        "M = int(input())\n",
        "num = list(map(int, input().split()))\n",
        "\n",
        "for i in num:\n",
        "  if i in find_num:\n",
        "    print(1)\n",
        "  else:\n",
        "    print(0)"
      ],
      "metadata": {
        "colab": {
          "base_uri": "https://localhost:8080/"
        },
        "id": "hUinkvecOZtd",
        "outputId": "fd8eff5b-91ca-4c2f-c1f9-6a69682eeb62"
      },
      "execution_count": 5,
      "outputs": [
        {
          "output_type": "stream",
          "name": "stdout",
          "text": [
            "5\n",
            "4 1 5 2 3\n",
            "5\n",
            "1 3 7 9 5\n",
            "1\n",
            "1\n",
            "0\n",
            "0\n",
            "1\n"
          ]
        }
      ]
    },
    {
      "cell_type": "markdown",
      "source": [
        "```\n",
        "find_num = list(map(int, input().split()))\n",
        "```\n",
        "find_num을 list로 만들면 시간 복잡도 $O(n)$로 인해 시간초과가 발생한다\n",
        "\n",
        "`set()`을 사용하면 시간 복잡도가 $O(1)$이기 때문에 테스트가 통과할 수 있다"
      ],
      "metadata": {
        "id": "HmElBQjMT2O7"
      }
    },
    {
      "cell_type": "markdown",
      "source": [
        "# 소수 구하기: https://www.acmicpc.net/problem/1929"
      ],
      "metadata": {
        "id": "qQlag7SRTzLZ"
      }
    },
    {
      "cell_type": "markdown",
      "source": [
        "#### 제곱근만 확인"
      ],
      "metadata": {
        "id": "lGRo6O2yp-LL"
      }
    },
    {
      "cell_type": "code",
      "source": [
        "def prime(num):\n",
        "  if num < 2:\n",
        "    return False\n",
        "\n",
        "  i = 2\n",
        "  while i * i <= num:\n",
        "    if num % i == 0:\n",
        "      return False\n",
        "    i += 1\n",
        "  return True\n",
        "\n",
        "n, m = map(int, input().split())\n",
        "\n",
        "for i in range(n, m + 1):\n",
        "  if prime(i):\n",
        "    print(i)"
      ],
      "metadata": {
        "id": "L6ZBccc9qBQC"
      },
      "execution_count": null,
      "outputs": []
    },
    {
      "cell_type": "markdown",
      "source": [
        "#### 에라토스테네스의 체 (메모이제이션 사용)"
      ],
      "metadata": {
        "id": "3VpRcCHAwCYs"
      }
    },
    {
      "cell_type": "code",
      "source": [
        "def sieve_of_eratosthenes(n):\n",
        "    primes = [True] * (n + 1)\n",
        "    primes[0] = primes[1] = False\n",
        "\n",
        "    p = 2\n",
        "    while p * p <= n:\n",
        "        if primes[p]:\n",
        "            for i in range(p * p, n + 1, p):\n",
        "                primes[i] = False\n",
        "        p += 1\n",
        "\n",
        "    result = []\n",
        "    for i in range(2, n + 1):\n",
        "        if primes[i]:\n",
        "            result.append(i)\n",
        "\n",
        "    return result\n",
        "\n",
        "# 범위 내의 소수 구하기\n",
        "start, end = map(int, input().split())\n",
        "primes = sieve_of_eratosthenes(end)\n",
        "for prime in primes:\n",
        "  if prime >= start:\n",
        "    print(prime)"
      ],
      "metadata": {
        "colab": {
          "base_uri": "https://localhost:8080/"
        },
        "id": "odyUkB2xwD9u",
        "outputId": "de6300a1-0ee0-4a41-e925-600e7fd9476a"
      },
      "execution_count": 28,
      "outputs": [
        {
          "output_type": "stream",
          "name": "stdout",
          "text": [
            "3 16\n",
            "3\n",
            "5\n",
            "7\n",
            "11\n",
            "13\n"
          ]
        }
      ]
    },
    {
      "cell_type": "markdown",
      "source": [
        "### 시간초과 발생"
      ],
      "metadata": {
        "id": "NHJjQxXpp4R1"
      }
    },
    {
      "cell_type": "markdown",
      "source": [
        "#### 1. 완전 탐색"
      ],
      "metadata": {
        "id": "qNy2q4XimLLl"
      }
    },
    {
      "cell_type": "code",
      "source": [
        "N, M = map(int, input().split())\n",
        "\n",
        "for i in range(N, M + 1):\n",
        "  count = 0\n",
        "  for j in range(2, i + 1):\n",
        "    if i % j == 0:\n",
        "      count += 1\n",
        "  if count == 1:\n",
        "    print(i)"
      ],
      "metadata": {
        "colab": {
          "base_uri": "https://localhost:8080/"
        },
        "id": "msOY-h3MQ632",
        "outputId": "a3a06ca1-5263-4c4a-9592-779ab18b565d"
      },
      "execution_count": 26,
      "outputs": [
        {
          "output_type": "stream",
          "name": "stdout",
          "text": [
            "3 16\n",
            "3\n",
            "5\n",
            "7\n",
            "11\n",
            "13\n"
          ]
        }
      ]
    },
    {
      "cell_type": "markdown",
      "source": [
        "#### 2. 자기자신의 절반만 나누는 방법"
      ],
      "metadata": {
        "id": "PLrTxonPmJvx"
      }
    },
    {
      "cell_type": "code",
      "source": [
        "n, m = map(int, input().split())\n",
        "\n",
        "for i in range(n, m + 1):\n",
        "  count = 0\n",
        "  for j in range(2, ( i // 2 ) + 1):\n",
        "    if i % j == 0:\n",
        "      count += 1\n",
        "  if count == 0:\n",
        "    print(i)"
      ],
      "metadata": {
        "colab": {
          "base_uri": "https://localhost:8080/"
        },
        "id": "que73FhBmXae",
        "outputId": "39aa82f5-5430-4f91-e1b5-ed1dcd64ae3e"
      },
      "execution_count": 27,
      "outputs": [
        {
          "output_type": "stream",
          "name": "stdout",
          "text": [
            "3 16\n",
            "3\n",
            "5\n",
            "7\n",
            "11\n",
            "13\n"
          ]
        }
      ]
    },
    {
      "cell_type": "markdown",
      "source": [
        "#### 3. 에라토스테네스의 체 (set 사용)"
      ],
      "metadata": {
        "id": "eT2n2dg6mQQ7"
      }
    },
    {
      "cell_type": "code",
      "source": [
        "n, m = map(int, input().split())\n",
        "num = set(range(2, m + 1))\n",
        "\n",
        "for i in range(2, m + 1):\n",
        "  if i in num:\n",
        "    num -=set(range(2*i, m + 1, i))\n",
        "\n",
        "for i in num:\n",
        "  if i >= 3:\n",
        "    print(i)"
      ],
      "metadata": {
        "colab": {
          "base_uri": "https://localhost:8080/"
        },
        "id": "WOowZNvflOVR",
        "outputId": "34ce6771-c1bc-4682-828b-24a210d5420e"
      },
      "execution_count": 22,
      "outputs": [
        {
          "output_type": "stream",
          "name": "stdout",
          "text": [
            "3 16\n",
            "3\n",
            "5\n",
            "7\n",
            "11\n",
            "13\n"
          ]
        }
      ]
    },
    {
      "cell_type": "markdown",
      "source": [
        "# 2023 - 07 - 03"
      ],
      "metadata": {
        "id": "b0aD2nFQkw8X"
      }
    },
    {
      "cell_type": "markdown",
      "source": [
        "## 소수 찾기: https://www.acmicpc.net/problem/1978\n"
      ],
      "metadata": {
        "id": "4OSHq7UAkzy7"
      }
    },
    {
      "cell_type": "code",
      "source": [
        "n = int(input())\n",
        "number = list(map(int, input().split()))\n",
        "prime = []\n",
        "\n",
        "for i in number:\n",
        "  count = 0\n",
        "  for j in range(2, i + 1):\n",
        "    if i % j == 0:\n",
        "      count += 1\n",
        "  if count == 1:\n",
        "    prime.append(i)\n",
        "\n",
        "print(len(prime))"
      ],
      "metadata": {
        "colab": {
          "base_uri": "https://localhost:8080/"
        },
        "id": "ocNP6c7ticy4",
        "outputId": "d2588440-6d93-4810-bc19-52b92c85e367"
      },
      "execution_count": 3,
      "outputs": [
        {
          "output_type": "stream",
          "name": "stdout",
          "text": [
            "4\n",
            "1 3 5 7\n",
            "3\n"
          ]
        }
      ]
    },
    {
      "cell_type": "markdown",
      "source": [
        "## 카드2: https://www.acmicpc.net/problem/2164"
      ],
      "metadata": {
        "id": "cwBhNdVIs5Gq"
      }
    },
    {
      "cell_type": "code",
      "source": [
        "from collections import deque\n",
        "\n",
        "n = int(input())\n",
        "cards = deque(i for i in range(1, n + 1))\n",
        "\n",
        "while len(cards) > 1:\n",
        "  cards.popleft()\n",
        "  cards.append(cards.popleft())\n",
        "\n",
        "print(cards[0])"
      ],
      "metadata": {
        "colab": {
          "base_uri": "https://localhost:8080/"
        },
        "id": "Q2xwZN-4luOZ",
        "outputId": "8af7b041-804a-42fa-94f4-2ff3edfe67c1"
      },
      "execution_count": 5,
      "outputs": [
        {
          "output_type": "stream",
          "name": "stdout",
          "text": [
            "6\n",
            "4\n"
          ]
        }
      ]
    },
    {
      "cell_type": "markdown",
      "source": [
        "**list 대신 deque를 쓰는 이유**\n",
        "\n",
        "list는 $O(n)$, deque는 $O(1)$의 시간복잡도를 가지기 떄문  \n",
        "-> deque가 더 빠르다\n",
        "\n",
        "[출처 - 왜 리스트대신 덱(deque)을 쓸까?](https://codingpractices.tistory.com/entry/Python%ED%8C%8C%EC%9D%B4%EC%8D%AC-%EC%99%9C-%EB%A6%AC%EC%8A%A4%ED%8A%B8%EB%8C%80%EC%8B%A0-%ED%81%90-%EB%8D%B0%ED%81%AC-deque-%EB%A5%BC-%EC%93%B8%EA%B9%8C)"
      ],
      "metadata": {
        "id": "DmFBQBjvv9Af"
      }
    },
    {
      "cell_type": "markdown",
      "source": [
        "## 최대공약수와 최소공배수: https://www.acmicpc.net/problem/2609"
      ],
      "metadata": {
        "id": "9gc-Y6uF4KNe"
      }
    },
    {
      "cell_type": "code",
      "source": [
        "n, m = map(int, input().split())\n",
        "\n",
        "# 최대공약수\n",
        "for i in range(min(n, m), 0, -1):\n",
        "  if n % i == 0 and m % i == 0:\n",
        "    print(i)\n",
        "    break\n",
        "\n",
        "# 최소공배수\n",
        "for i in range(max(n, m), (n * m) + 1):\n",
        "  if i % n == 0 and i % m == 0:\n",
        "    print(i)\n",
        "    break"
      ],
      "metadata": {
        "colab": {
          "base_uri": "https://localhost:8080/"
        },
        "id": "hoNZGpDHuDK4",
        "outputId": "169054f9-8f0b-40fc-ac92-39151be3d1ed"
      },
      "execution_count": 9,
      "outputs": [
        {
          "output_type": "stream",
          "name": "stdout",
          "text": [
            "24 18\n",
            "6\n",
            "72\n"
          ]
        }
      ]
    },
    {
      "cell_type": "markdown",
      "source": [
        "### 유클리드 호제법\n",
        "\n",
        "x, y의 최대공약수는 y, r의 최대 공약수와 같다는 원리를 이용한 유클리드 호제법\n",
        "여기서 r은 x % y를 한 나머지값\n",
        "\n",
        "![스크린샷 2023-07-03 오후 5 53 20](https://github.com/Zamoca42/TIL/assets/96982072/a6c2c78e-b535-45d7-adf3-49c71eb78300)\n",
        "\n",
        "[출처 - Python 최소공배수, 최대공약수란? 알고리즘 쉽게 이해하기](https://codingpractices.tistory.com/entry/Python-%EC%B5%9C%EC%86%8C%EA%B3%B5%EB%B0%B0%EC%88%98-%EC%B5%9C%EB%8C%80%EA%B3%B5%EC%95%BD%EC%88%98%EB%9E%80-%EC%95%8C%EA%B3%A0%EB%A6%AC%EC%A6%98-%EC%89%BD%EA%B2%8C-%EC%9D%B4%ED%95%B4%ED%95%98%EA%B8%B0)"
      ],
      "metadata": {
        "id": "CGFkygEc86pF"
      }
    },
    {
      "cell_type": "code",
      "source": [
        "def GCD(x, y):\n",
        "  while(y):\n",
        "    x, y = y, x % y\n",
        "  return x\n",
        "\n",
        "def LCM(x, y):\n",
        "  result = (x * y) // GCD(x, y)\n",
        "  return result\n",
        "\n",
        "n, m = map(int, input().split())\n",
        "\n",
        "print(GCD(n, m))\n",
        "print(LCM(n, m))"
      ],
      "metadata": {
        "colab": {
          "base_uri": "https://localhost:8080/"
        },
        "id": "-x1ZPz0D8Al5",
        "outputId": "00d322e1-88fd-418e-cb03-8a7c493a0688"
      },
      "execution_count": 10,
      "outputs": [
        {
          "output_type": "stream",
          "name": "stdout",
          "text": [
            "24 18\n",
            "6\n",
            "72\n"
          ]
        }
      ]
    },
    {
      "cell_type": "markdown",
      "source": [
        "## 블랙잭: https://www.acmicpc.net/problem/2798"
      ],
      "metadata": {
        "id": "KjJM6piC_1oB"
      }
    },
    {
      "cell_type": "code",
      "source": [
        "n, m = map(int, input().split())\n",
        "cards = list(map(int, input().split()))\n",
        "result = 0\n",
        "\n",
        "for i in range(n):\n",
        "  for j in range(i + 1, n):\n",
        "    for k in range(j + 1, n):\n",
        "      sum_value = cards[i] + cards[j] + cards[k]\n",
        "      if sum_value <= m:\n",
        "        result = max(result, sum_value)\n",
        "\n",
        "print(result)"
      ],
      "metadata": {
        "colab": {
          "base_uri": "https://localhost:8080/"
        },
        "id": "3KBXJG7M_4Y7",
        "outputId": "76390148-4b8a-4d61-dfc2-caa76c2b8e77"
      },
      "execution_count": 14,
      "outputs": [
        {
          "output_type": "stream",
          "name": "stdout",
          "text": [
            "10 500\n",
            "93 181 245 214 315 36 185 138 216 295\n",
            "497\n"
          ]
        }
      ]
    },
    {
      "cell_type": "markdown",
      "source": [
        "### itertool 모듈의 combinations 함수 사용"
      ],
      "metadata": {
        "id": "N9BI08dlDqWa"
      }
    },
    {
      "cell_type": "code",
      "source": [
        "from itertools import combinations\n",
        "\n",
        "n, m = map(int, input().split())\n",
        "cards = list(map(int, input().split()))\n",
        "result = 0\n",
        "\n",
        "for card in combinations(cards, 3):\n",
        "  sum_value = sum(card)\n",
        "  if result < sum_value <= m:\n",
        "    result = sum_value\n",
        "print(result)"
      ],
      "metadata": {
        "colab": {
          "base_uri": "https://localhost:8080/"
        },
        "id": "ahqIWRRhDeRg",
        "outputId": "dc3e55b7-2fa3-4f71-b069-b91e14f9c709"
      },
      "execution_count": 15,
      "outputs": [
        {
          "output_type": "stream",
          "name": "stdout",
          "text": [
            "10 500\n",
            "93 181 245 214 315 36 185 138 216 295\n",
            "497\n"
          ]
        }
      ]
    },
    {
      "cell_type": "markdown",
      "source": [
        "위의 코드에서는 result < sum_value <= m 비교식이 result보다 sum_value가 크고\n",
        "\n",
        "동시에 sum_value가 m보다 작거나 같은지를 확인하는 조건문입니다.\n",
        "\n",
        "이 비교식은 result보다 sum_value가 크고 동시에 sum_value가 m보다 작거나 같은지를\n",
        "\n",
        "동시에 확인하기 때문에 코드를 간결하게 작성할 수 있습니다."
      ],
      "metadata": {
        "id": "0voOyUtsGXAu"
      }
    },
    {
      "cell_type": "markdown",
      "source": [
        "- [파이썬 순열, 조합 라이브러리 (itertools)](https://slowsure.tistory.com/138)\n",
        "- [비교 연산자 체이닝](https://mimah.tistory.com/entry/Python-%EB%B9%84%EA%B5%90-%EC%97%B0%EC%82%B0%EC%9E%90-chaining-ex-False-True-False)"
      ],
      "metadata": {
        "id": "QdZiWAVGFO7g"
      }
    },
    {
      "cell_type": "markdown",
      "source": [
        "## 괄호: https://www.acmicpc.net/problem/9012"
      ],
      "metadata": {
        "id": "UX4N8eK-Tv9G"
      }
    },
    {
      "cell_type": "code",
      "source": [
        "# import sys\n",
        "# input = sys.stdin.readline\n",
        "\n",
        "for _ in range(int(input())):\n",
        "  vps = list(input().strip())\n",
        "  stack = []\n",
        "  isVPS = True\n",
        "\n",
        "  for i in range(len(vps)):\n",
        "    if vps[i] == '(':\n",
        "      stack.append(vps[i])\n",
        "    else:\n",
        "      if stack:\n",
        "        stack.pop()\n",
        "      else:\n",
        "        isVPS = False\n",
        "        break\n",
        "\n",
        "  if not stack and isVPS:\n",
        "    print('YES')\n",
        "  else:\n",
        "    print('NO')"
      ],
      "metadata": {
        "colab": {
          "base_uri": "https://localhost:8080/"
        },
        "id": "hvKGkSHPEiKM",
        "outputId": "8ed377c1-90c5-48d1-cdae-358f7038ef8e"
      },
      "execution_count": 13,
      "outputs": [
        {
          "output_type": "stream",
          "name": "stdout",
          "text": [
            "3\n",
            "((\n",
            "NO\n",
            "))\n",
            "NO\n",
            "())(()\n",
            "NO\n"
          ]
        }
      ]
    },
    {
      "cell_type": "markdown",
      "source": [
        "## 숫자 카드 2: https://www.acmicpc.net/problem/10816"
      ],
      "metadata": {
        "id": "OMLcdSOTTyTG"
      }
    },
    {
      "cell_type": "code",
      "source": [
        "from collections import defaultdict\n",
        "# import sys\n",
        "# input = sys.stdin.readline\n",
        "\n",
        "N = int(input())\n",
        "numbers = list(map(int, input().split()))\n",
        "M = int(input())\n",
        "find_num = list(map(int, input().split()))\n",
        "number_map = dict()\n",
        "\n",
        "for i in find_num:\n",
        "  number_map[i] = 0\n",
        "\n",
        "for i in numbers:\n",
        "  if i in number_map.keys():\n",
        "    number_map[i] += 1\n",
        "\n",
        "for key in number_map:\n",
        "  print(number_map[key], end=' ')"
      ],
      "metadata": {
        "colab": {
          "base_uri": "https://localhost:8080/"
        },
        "id": "S2SL-KDNJDHz",
        "outputId": "ddab90f4-4ff2-4a3d-a0bb-d6e314bcab53"
      },
      "execution_count": 31,
      "outputs": [
        {
          "output_type": "stream",
          "name": "stdout",
          "text": [
            "10\n",
            "6 3 2 10 10 10 -10 -10 7 3\n",
            "8\n",
            "10 9 -5 2 3 4 5 -10\n",
            "3 0 0 1 2 0 0 2 "
          ]
        }
      ]
    },
    {
      "cell_type": "markdown",
      "source": [
        "### 틀린 이유 해결: https://www.acmicpc.net/board/view/119005\n",
        "\n",
        "- [Defaultdict](https://dongdongfather.tistory.com/69) 활용: http://boj.kr/1f9bd09426e24270bd2370c69084730c\n",
        "- Counter 활용: http://boj.kr/1175455e02ce459d933beec8f592b508\n",
        "- 이진 탐색(bisect) 활용: http://boj.kr/75a6872318444664a286a7ff73545c98"
      ],
      "metadata": {
        "id": "xN3CyiBgcTFT"
      }
    },
    {
      "cell_type": "code",
      "source": [
        "from collections import defaultdict\n",
        "\n",
        "int(input())\n",
        "numbers = list(map(int, input().split()))\n",
        "int(input())\n",
        "find_num = list(map(int, input().split()))\n",
        "number_map = defaultdict(int)\n",
        "\n",
        "for i in numbers:\n",
        "  number_map[i] += 1\n",
        "\n",
        "for i in find_num:\n",
        "  print(number_map[i], end=' ')"
      ],
      "metadata": {
        "id": "2KTh7dZkdBgp"
      },
      "execution_count": null,
      "outputs": []
    },
    {
      "cell_type": "code",
      "source": [],
      "metadata": {
        "id": "AKpwGGzDZrJQ"
      },
      "execution_count": null,
      "outputs": []
    }
  ]
}