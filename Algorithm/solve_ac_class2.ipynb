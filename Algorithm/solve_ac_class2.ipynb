{
  "nbformat": 4,
  "nbformat_minor": 0,
  "metadata": {
    "colab": {
      "provenance": [],
      "authorship_tag": "ABX9TyPUo/f2xjeX9j5XQbx+X8Nr",
      "include_colab_link": true
    },
    "kernelspec": {
      "name": "python3",
      "display_name": "Python 3"
    },
    "language_info": {
      "name": "python"
    }
  },
  "cells": [
    {
      "cell_type": "markdown",
      "metadata": {
        "id": "view-in-github",
        "colab_type": "text"
      },
      "source": [
        "<a href=\"https://colab.research.google.com/github/Zamoca42/TIL/blob/main/Algorithm/solve_ac_class2.ipynb\" target=\"_parent\"><img src=\"https://colab.research.google.com/assets/colab-badge.svg\" alt=\"Open In Colab\"/></a>"
      ]
    },
    {
      "cell_type": "markdown",
      "source": [
        "# 2023 - 06 - 30"
      ],
      "metadata": {
        "id": "TK4UFmf01Qog"
      }
    },
    {
      "cell_type": "markdown",
      "source": [
        "## 체스판 다시 칠하기: https://www.acmicpc.net/problem/1018"
      ],
      "metadata": {
        "id": "gF08CpbyQuir"
      }
    },
    {
      "cell_type": "code",
      "execution_count": null,
      "metadata": {
        "colab": {
          "base_uri": "https://localhost:8080/"
        },
        "id": "tK8KT4sRQoIt",
        "outputId": "a6fd1451-6244-43ff-9cf2-eef8331c365c"
      },
      "outputs": [
        {
          "output_type": "stream",
          "name": "stdout",
          "text": [
            "9 23\n",
            "BBBBBBBBBBBBBBBBBBBBBBB\n",
            "BBBBBBBBBBBBBBBBBBBBBBB\n",
            "BBBBBBBBBBBBBBBBBBBBBBB\n",
            "BBBBBBBBBBBBBBBBBBBBBBB\n",
            "BBBBBBBBBBBBBBBBBBBBBBB\n",
            "BBBBBBBBBBBBBBBBBBBBBBB\n",
            "BBBBBBBBBBBBBBBBBBBBBBB\n",
            "BBBBBBBBBBBBBBBBBBBBBBB\n",
            "BBBBBBBBBBBBBBBBBBBBBBW\n",
            "31\n"
          ]
        }
      ],
      "source": [
        "# import sys\n",
        "# input = sys.stdin.readline\n",
        "\n",
        "row, col = map(int, input().split())\n",
        "chess = [list(input().strip()) for _ in range(row)]\n",
        "result = []\n",
        "\n",
        "for i in range(row - 7):\n",
        "  for j in range(col - 7):\n",
        "    w = 0\n",
        "    b = 0\n",
        "\n",
        "    for k in range(i, i + 8):\n",
        "      for l in range(j, j + 8):\n",
        "        if (l + k) % 2 == 0:\n",
        "          if chess[k][l] != 'W':\n",
        "            w += 1\n",
        "          else:\n",
        "            b += 1\n",
        "        else:\n",
        "          if chess[k][l] != 'B':\n",
        "            w += 1\n",
        "          else:\n",
        "            b += 1\n",
        "    result.append(w)\n",
        "    result.append(b)\n",
        "\n",
        "print(min(result))"
      ]
    },
    {
      "cell_type": "markdown",
      "source": [
        "### 어려웠던 점\n",
        "\n",
        "- 완전탐색인 부분\n",
        "- 시작 좌표를 여러개 정의해서 8*8인 경우를 모두 찾는다는 아이디어\n",
        "- for 반복문을 여러번 사용하면서 헷갈림\n",
        "- W로 시작하는 경우와 B로 시작하는 경우를 나누어 확인\n",
        "- 8X8 범위 체스판을 확인할 때 행과 열의 합이 짝수, 홀수이면 각각 일정한 색을 가지게 된다.(체크무늬)\n",
        "- tag: 브루트 포스"
      ],
      "metadata": {
        "id": "Dn2LXPtBnqCK"
      }
    },
    {
      "cell_type": "markdown",
      "source": [
        "# 단어 정렬: https://www.acmicpc.net/problem/1181"
      ],
      "metadata": {
        "id": "RE4FOXF7qVfI"
      }
    },
    {
      "cell_type": "code",
      "source": [
        "result = []\n",
        "check = set()\n",
        "\n",
        "for _ in range(int(input())):\n",
        "  string = input()\n",
        "  if string not in check:\n",
        "    result.append((len(string), string))\n",
        "  check.add(string)\n",
        "\n",
        "result.sort()\n",
        "\n",
        "for x in result:\n",
        "  print(x[1])"
      ],
      "metadata": {
        "colab": {
          "base_uri": "https://localhost:8080/"
        },
        "id": "-eNAQsFgZNRS",
        "outputId": "3f64986f-53ce-4240-8f4d-e3c60021e1ff"
      },
      "execution_count": null,
      "outputs": [
        {
          "name": "stdout",
          "output_type": "stream",
          "text": [
            "13\n",
            "but\n",
            "i\n",
            "wont\n",
            "hesitate\n",
            "no\n",
            "more\n",
            "no\n",
            "more\n",
            "it\n",
            "cannot\n",
            "wait\n",
            "im\n",
            "yours\n"
          ]
        }
      ]
    },
    {
      "cell_type": "markdown",
      "source": [
        "### 다른 소스코드"
      ],
      "metadata": {
        "id": "NarWgCIYts1A"
      }
    },
    {
      "cell_type": "code",
      "source": [
        "n = int(input())\n",
        "words = set()\n",
        "\n",
        "for _ in range(n):\n",
        "    words.add(input())\n",
        "words = list(words)\n",
        "words.sort(key=lambda x:(len(x), x))\n",
        "\n",
        "for word in words:\n",
        "    print(word)"
      ],
      "metadata": {
        "colab": {
          "base_uri": "https://localhost:8080/"
        },
        "id": "XVp_B6mZtrVC",
        "outputId": "a879f547-6d03-48a5-cf90-9e38d3c27438"
      },
      "execution_count": null,
      "outputs": [
        {
          "output_type": "stream",
          "name": "stdout",
          "text": [
            "13\n",
            "but\n",
            "i\n",
            "wont\n",
            "hesitate\n",
            "no\n",
            "mor\n",
            "no\n",
            "mor\n",
            "it\n",
            "cannot\n",
            "wait\n",
            "im\n",
            "yours\n",
            "i\n",
            "im\n",
            "it\n",
            "no\n",
            "but\n",
            "mor\n",
            "wait\n",
            "wont\n",
            "yours\n",
            "cannot\n",
            "hesitate\n"
          ]
        }
      ]
    },
    {
      "cell_type": "markdown",
      "source": [
        "# 2023 - 07 - 01"
      ],
      "metadata": {
        "id": "01uTW0Xip3sn"
      }
    },
    {
      "cell_type": "markdown",
      "source": [
        "## 팰린드롬수: https://www.acmicpc.net/problem/1259"
      ],
      "metadata": {
        "id": "byu8Irzh70ht"
      }
    },
    {
      "cell_type": "code",
      "source": [
        "import copy\n",
        "# import sys\n",
        "# input = sys.stdin.readline\n",
        "\n",
        "while True:\n",
        "  result = True\n",
        "  number = list(input().strip())\n",
        "  reversed_number = copy.deepcopy(number)\n",
        "  reversed_number.reverse()\n",
        "\n",
        "  if number[0] == '0':\n",
        "    break\n",
        "\n",
        "  for i in range(len(number) // 2):\n",
        "    if number[i] != reversed_number[i]:\n",
        "      result = False\n",
        "\n",
        "  if result:\n",
        "    print('yes')\n",
        "  else:\n",
        "    print('no')"
      ],
      "metadata": {
        "colab": {
          "base_uri": "https://localhost:8080/"
        },
        "id": "tC3_IYG-q4CQ",
        "outputId": "dcd4622e-643d-4e3a-b0a0-8412a06a0b1f"
      },
      "execution_count": null,
      "outputs": [
        {
          "name": "stdout",
          "output_type": "stream",
          "text": [
            "12421\n",
            "yes\n",
            "1231\n",
            "no\n",
            "121\n",
            "yes\n",
            "0\n"
          ]
        }
      ]
    },
    {
      "cell_type": "markdown",
      "source": [
        "## 영화감독 숌: https://www.acmicpc.net/problem/1436"
      ],
      "metadata": {
        "id": "JtMdIZYDFVIP"
      }
    },
    {
      "cell_type": "code",
      "source": [
        "N = int(input())\n",
        "number = 666\n",
        "\n",
        "while N:\n",
        "  if '666' in str(number): N -= 1\n",
        "  number += 1\n",
        "\n",
        "print(number - 1)"
      ],
      "metadata": {
        "colab": {
          "base_uri": "https://localhost:8080/"
        },
        "id": "JkQGiPVzBZRS",
        "outputId": "d723f905-087e-4022-bdf9-e3e9716e4a13"
      },
      "execution_count": null,
      "outputs": [
        {
          "output_type": "stream",
          "name": "stdout",
          "text": [
            "187\n",
            "66666\n"
          ]
        }
      ]
    },
    {
      "cell_type": "markdown",
      "source": [
        "이 문제는 영화 시리즈의 제목을 연속된 3개의 6, 즉 \"666\"이 포함된 숫자들을 오름차순에 따라 짓고 싶다는 영화 감독의 바람을 담은 문제이다.\n",
        "```\n",
        "666 1666 2666 3666 4666 5666 6660 6661 6662 6663 6664 6665 6666 6667 6668 6669 7666 8666 9666 10666 11666  12666\n",
        "0   1    2    3    4    5    6    7    8    9    10   11   12   13   14   15   16   17   18   19    20     21\n",
        "```\n",
        "위와 같은 진행 방식으로 숫자를 찾아 낼 수 있다.\n",
        "\n",
        "범위를 지정하지 않고 완전 탐색해도 시간 초과가 간당간당하게 뜨지 않으니 부르트포스 방식으로 풀이한다.\n",
        "\n",
        "- 출처 : https://velog.io/@junyp1/%EB%B0%B1%EC%A4%80-1436-Python-%EC%98%81%ED%99%94%EA%B0%90%EB%8F%85-%EC%88%8C-cspbujq2"
      ],
      "metadata": {
        "id": "IdrxADGTWICt"
      }
    },
    {
      "cell_type": "markdown",
      "source": [
        "- 부르트 포스\n",
        "\n",
        "  **완전탐색 알고리즘**\n",
        "\n",
        "  가능한 모든 경우의 수를 모두 탐색하면서 요구조건에 충족되는 결과만을 가져온다."
      ],
      "metadata": {
        "id": "jQZzzI3wWcPi"
      }
    },
    {
      "cell_type": "markdown",
      "source": [
        "## 평균: https://www.acmicpc.net/problem/1546"
      ],
      "metadata": {
        "id": "Bdo98UK-qWq2"
      }
    },
    {
      "cell_type": "code",
      "source": [
        "n = int(input())\n",
        "scores = list(map(int, input().split()))\n",
        "m = max(scores)\n",
        "\n",
        "for i in range(n):\n",
        "  scores[i] = (scores[i] / m) * 100\n",
        "\n",
        "average = sum(scores) / n\n",
        "\n",
        "print(average)"
      ],
      "metadata": {
        "id": "A4Z0y0R6JIc4",
        "colab": {
          "base_uri": "https://localhost:8080/"
        },
        "outputId": "d2fbc815-7521-4ac2-a165-7eac163e33d8"
      },
      "execution_count": 37,
      "outputs": [
        {
          "output_type": "stream",
          "name": "stdout",
          "text": [
            "9\n",
            "10 20 30 40 50 60 70 80 90\n",
            "55.55555555555556\n"
          ]
        }
      ]
    },
    {
      "cell_type": "markdown",
      "source": [
        "## 랜선자르기: https://www.acmicpc.net/problem/1654"
      ],
      "metadata": {
        "id": "xBDBGE3iyNNW"
      }
    },
    {
      "cell_type": "code",
      "source": [
        "n, m = map(int, input().split())\n",
        "array = []\n",
        "\n",
        "for i in range(n):\n",
        "  array.append(int(input()))\n",
        "\n",
        "start = 1\n",
        "end = max(array)\n",
        "\n",
        "while (start <= end):\n",
        "    mid = (start + end) // 2\n",
        "    count = 0\n",
        "    for i in range(n):\n",
        "      count += array[i] // mid\n",
        "    if count >= m:\n",
        "      start = mid + 1\n",
        "    else:\n",
        "      end = mid - 1\n",
        "print(end)"
      ],
      "metadata": {
        "colab": {
          "base_uri": "https://localhost:8080/"
        },
        "id": "XlfCvVncqkCA",
        "outputId": "3790bfbb-f7bb-4eea-9985-9beb6829b882"
      },
      "execution_count": 40,
      "outputs": [
        {
          "output_type": "stream",
          "name": "stdout",
          "text": [
            "4 11\n",
            "802\n",
            "743\n",
            "457\n",
            "539\n",
            "200\n"
          ]
        }
      ]
    },
    {
      "cell_type": "markdown",
      "source": [
        "**풀이**\n",
        "\n",
        "- [이진 탐색](https://velog.io/@madfinger/Binary-Search%EC%9D%B4%EC%A7%84-%ED%83%90%EC%83%89-%ED%8C%8C%EC%9D%B4%EC%8D%AC)\n",
        "- 길이의 범위는 1부터 랜선 중 가장 긴 랜선 길이까지이다.\n",
        "- 잘라진 랜선 개수가 m보다 많으면, mid 밑으로는 볼 필요가 없다.\n",
        "- 만약 102cm 랜선을 2개로 자른다면, 50cm로 잘라도 2개, 51cm로 잘라도 2개다.\n",
        "- 이 문제에서는 최대 랜선 길이를 구해야 하므로, end를 출력시켜야 한다.\n"
      ],
      "metadata": {
        "id": "TSaURjsM2H3R"
      }
    },
    {
      "cell_type": "markdown",
      "source": [
        "### 다른 사람 풀이"
      ],
      "metadata": {
        "id": "Pt1iTXHJ2UUP"
      }
    },
    {
      "cell_type": "code",
      "source": [
        "import sys\n",
        "\n",
        "def solution():\n",
        "    K, N = map(int, input().split())\n",
        "    # sys.stdin.readline() 사용이유는 글 하단 참고\n",
        "    lan = [int(sys.stdin.readline()) for _ in range(K)]\n",
        "\n",
        "    min_value = 1 # 랜선의 최소 길이를 1로 설정\n",
        "    max_value = max(lan) # 랜선중 가장 긴 길이를 max값으로 설정\n",
        "\n",
        "    while min_value <= max_value: # 이분탐색이 완료될때까지 반복\n",
        "        mid = (min_value + max_value) // 2 # 이분탐색을 위한 중간값 설정\n",
        "        cnt = 0 # 랜선 수를 카운팅하는 변수 반복될때 마다 초기화 해야 하므로 반복문 안에서 선언\n",
        "        for i in lan:\n",
        "            cnt += i // mid # 랜선을 자른 수\n",
        "\n",
        "        if cnt >= N: # 랜선을 자른 수가 만들어야될 랜선의 수보다 클 경우\n",
        "            min_value = mid + 1 # 랜선의 최소 길이를 중간값보다 1크게 설정\n",
        "        else: # 랜선을 자른 수가 만들어야될 랜선의 수보다 작을 경우\n",
        "            max_value = mid - 1 # 랜선의 최대 길이를 중간값보다 1작게 설정\n",
        "\n",
        "    return max_value # 랜선을 자룬 수가 만들어야 될 랜선의 수와 같을경우 길이 출력\n",
        "\n",
        "print(solution())"
      ],
      "metadata": {
        "id": "WqdQ_srsz57B"
      },
      "execution_count": null,
      "outputs": []
    },
    {
      "cell_type": "markdown",
      "source": [
        "# 팩토리얼 0의 개수: https://www.acmicpc.net/problem/1676"
      ],
      "metadata": {
        "id": "AClPdrLFKQ58"
      }
    },
    {
      "cell_type": "code",
      "source": [
        "N = int(input())\n",
        "fact = 1\n",
        "\n",
        "for i in range(1, N + 1):\n",
        "  fact *= i\n",
        "\n",
        "result = list(str(fact))\n",
        "result.reverse()\n",
        "\n",
        "count = 0\n",
        "for x in result:\n",
        "  if x != '0':\n",
        "    break\n",
        "  count += 1\n",
        "\n",
        "print(count)"
      ],
      "metadata": {
        "colab": {
          "base_uri": "https://localhost:8080/"
        },
        "id": "krtsmXiIKTlf",
        "outputId": "9661285b-2985-42c4-d38d-d61f81673820"
      },
      "execution_count": 6,
      "outputs": [
        {
          "output_type": "stream",
          "name": "stdout",
          "text": [
            "10\n",
            "2\n"
          ]
        }
      ]
    },
    {
      "cell_type": "markdown",
      "source": [
        "# 스택 수열: https://www.acmicpc.net/problem/1874"
      ],
      "metadata": {
        "id": "SSLYsat6NkD2"
      }
    },
    {
      "cell_type": "code",
      "source": [
        "# import sys\n",
        "# input = sys.stdin.readline # 빠른 입력 함수 사용\n",
        "\n",
        "n = int(input())\n",
        "\n",
        "stack = []\n",
        "result = []\n",
        "\n",
        "count = 1\n",
        "\n",
        "for _ in range(n):\n",
        "  x = int(input())\n",
        "  while count <= x:\n",
        "    stack.append(count)\n",
        "    count += 1\n",
        "    result.append('+')\n",
        "  if stack[-1] == x:\n",
        "    stack.pop()\n",
        "    result.append('-')\n",
        "  else:\n",
        "    result = ['NO']\n",
        "    break\n",
        "\n",
        "for index in result:\n",
        "  print(index)"
      ],
      "metadata": {
        "colab": {
          "base_uri": "https://localhost:8080/"
        },
        "id": "hvXgl-LoL4Ky",
        "outputId": "f8ad1e98-8f9d-4f25-f1af-c94db3b7e5ea"
      },
      "execution_count": 1,
      "outputs": [
        {
          "output_type": "stream",
          "name": "stdout",
          "text": [
            "8\n",
            "4\n",
            "3\n",
            "6\n",
            "8\n",
            "7\n",
            "5\n",
            "2\n",
            "1\n",
            "No\n"
          ]
        }
      ]
    },
    {
      "cell_type": "markdown",
      "source": [
        "# 수 찾기: https://www.acmicpc.net/problem/1920"
      ],
      "metadata": {
        "id": "pBoP6WgTQF9j"
      }
    },
    {
      "cell_type": "code",
      "source": [
        "# import sys\n",
        "# input = sys.stdin.readline\n",
        "\n",
        "N = int(input())\n",
        "find_num = set(map(int, input().split()))\n",
        "M = int(input())\n",
        "num = list(map(int, input().split()))\n",
        "\n",
        "for i in num:\n",
        "  if i in find_num:\n",
        "    print(1)\n",
        "  else:\n",
        "    print(0)"
      ],
      "metadata": {
        "colab": {
          "base_uri": "https://localhost:8080/"
        },
        "id": "hUinkvecOZtd",
        "outputId": "fd8eff5b-91ca-4c2f-c1f9-6a69682eeb62"
      },
      "execution_count": 5,
      "outputs": [
        {
          "output_type": "stream",
          "name": "stdout",
          "text": [
            "5\n",
            "4 1 5 2 3\n",
            "5\n",
            "1 3 7 9 5\n",
            "1\n",
            "1\n",
            "0\n",
            "0\n",
            "1\n"
          ]
        }
      ]
    },
    {
      "cell_type": "markdown",
      "source": [
        "```\n",
        "find_num = list(map(int, input().split()))\n",
        "```\n",
        "find_num을 list로 만들면 시간 복잡도 $O(n)$로 인해 시간초과가 발생한다\n",
        "\n",
        "`set()`을 사용하면 시간 복잡도가 $O(1)$이기 때문에 테스트가 통과할 수 있다"
      ],
      "metadata": {
        "id": "HmElBQjMT2O7"
      }
    },
    {
      "cell_type": "markdown",
      "source": [
        "# 소수 구하기: https://www.acmicpc.net/problem/1929"
      ],
      "metadata": {
        "id": "qQlag7SRTzLZ"
      }
    },
    {
      "cell_type": "markdown",
      "source": [
        "#### 제곱근만 확인"
      ],
      "metadata": {
        "id": "lGRo6O2yp-LL"
      }
    },
    {
      "cell_type": "code",
      "source": [
        "def prime(num):\n",
        "  if num < 2:\n",
        "    return False\n",
        "\n",
        "  i = 2\n",
        "  while i * i <= num:\n",
        "    if num % i == 0:\n",
        "      return False\n",
        "    i += 1\n",
        "  return True\n",
        "\n",
        "n, m = map(int, input().split())\n",
        "\n",
        "for i in range(n, m + 1):\n",
        "  if prime(i):\n",
        "    print(i)"
      ],
      "metadata": {
        "id": "L6ZBccc9qBQC"
      },
      "execution_count": null,
      "outputs": []
    },
    {
      "cell_type": "markdown",
      "source": [
        "#### 에라토스테네스의 체 (메모이제이션 사용)"
      ],
      "metadata": {
        "id": "3VpRcCHAwCYs"
      }
    },
    {
      "cell_type": "code",
      "source": [
        "def sieve_of_eratosthenes(n):\n",
        "    primes = [True] * (n + 1)\n",
        "    primes[0] = primes[1] = False\n",
        "\n",
        "    p = 2\n",
        "    while p * p <= n:\n",
        "        if primes[p]:\n",
        "            for i in range(p * p, n + 1, p):\n",
        "                primes[i] = False\n",
        "        p += 1\n",
        "\n",
        "    result = []\n",
        "    for i in range(2, n + 1):\n",
        "        if primes[i]:\n",
        "            result.append(i)\n",
        "\n",
        "    return result\n",
        "\n",
        "# 범위 내의 소수 구하기\n",
        "start, end = map(int, input().split())\n",
        "primes = sieve_of_eratosthenes(end)\n",
        "for prime in primes:\n",
        "  if prime >= start:\n",
        "    print(prime)"
      ],
      "metadata": {
        "colab": {
          "base_uri": "https://localhost:8080/"
        },
        "id": "odyUkB2xwD9u",
        "outputId": "de6300a1-0ee0-4a41-e925-600e7fd9476a"
      },
      "execution_count": 28,
      "outputs": [
        {
          "output_type": "stream",
          "name": "stdout",
          "text": [
            "3 16\n",
            "3\n",
            "5\n",
            "7\n",
            "11\n",
            "13\n"
          ]
        }
      ]
    },
    {
      "cell_type": "markdown",
      "source": [
        "### 시간초과 발생"
      ],
      "metadata": {
        "id": "NHJjQxXpp4R1"
      }
    },
    {
      "cell_type": "markdown",
      "source": [
        "#### 1. 완전 탐색"
      ],
      "metadata": {
        "id": "qNy2q4XimLLl"
      }
    },
    {
      "cell_type": "code",
      "source": [
        "N, M = map(int, input().split())\n",
        "\n",
        "for i in range(N, M + 1):\n",
        "  count = 0\n",
        "  for j in range(2, i + 1):\n",
        "    if i % j == 0:\n",
        "      count += 1\n",
        "  if count == 1:\n",
        "    print(i)"
      ],
      "metadata": {
        "colab": {
          "base_uri": "https://localhost:8080/"
        },
        "id": "msOY-h3MQ632",
        "outputId": "a3a06ca1-5263-4c4a-9592-779ab18b565d"
      },
      "execution_count": 26,
      "outputs": [
        {
          "output_type": "stream",
          "name": "stdout",
          "text": [
            "3 16\n",
            "3\n",
            "5\n",
            "7\n",
            "11\n",
            "13\n"
          ]
        }
      ]
    },
    {
      "cell_type": "markdown",
      "source": [
        "#### 2. 자기자신의 절반만 나누는 방법"
      ],
      "metadata": {
        "id": "PLrTxonPmJvx"
      }
    },
    {
      "cell_type": "code",
      "source": [
        "n, m = map(int, input().split())\n",
        "\n",
        "for i in range(n, m + 1):\n",
        "  count = 0\n",
        "  for j in range(2, ( i // 2 ) + 1):\n",
        "    if i % j == 0:\n",
        "      count += 1\n",
        "  if count == 0:\n",
        "    print(i)"
      ],
      "metadata": {
        "colab": {
          "base_uri": "https://localhost:8080/"
        },
        "id": "que73FhBmXae",
        "outputId": "39aa82f5-5430-4f91-e1b5-ed1dcd64ae3e"
      },
      "execution_count": 27,
      "outputs": [
        {
          "output_type": "stream",
          "name": "stdout",
          "text": [
            "3 16\n",
            "3\n",
            "5\n",
            "7\n",
            "11\n",
            "13\n"
          ]
        }
      ]
    },
    {
      "cell_type": "markdown",
      "source": [
        "#### 3. 에라토스테네스의 체 (set 사용)"
      ],
      "metadata": {
        "id": "eT2n2dg6mQQ7"
      }
    },
    {
      "cell_type": "code",
      "source": [
        "n, m = map(int, input().split())\n",
        "num = set(range(2, m + 1))\n",
        "\n",
        "for i in range(2, m + 1):\n",
        "  if i in num:\n",
        "    num -=set(range(2*i, m + 1, i))\n",
        "\n",
        "for i in num:\n",
        "  if i >= 3:\n",
        "    print(i)"
      ],
      "metadata": {
        "colab": {
          "base_uri": "https://localhost:8080/"
        },
        "id": "WOowZNvflOVR",
        "outputId": "34ce6771-c1bc-4682-828b-24a210d5420e"
      },
      "execution_count": 22,
      "outputs": [
        {
          "output_type": "stream",
          "name": "stdout",
          "text": [
            "3 16\n",
            "3\n",
            "5\n",
            "7\n",
            "11\n",
            "13\n"
          ]
        }
      ]
    },
    {
      "cell_type": "code",
      "source": [],
      "metadata": {
        "id": "ocNP6c7ticy4"
      },
      "execution_count": null,
      "outputs": []
    }
  ]
}