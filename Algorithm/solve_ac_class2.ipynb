{
  "nbformat": 4,
  "nbformat_minor": 0,
  "metadata": {
    "colab": {
      "provenance": [],
      "authorship_tag": "ABX9TyN51XfXuHL8TzjUERzYiDLk",
      "include_colab_link": true
    },
    "kernelspec": {
      "name": "python3",
      "display_name": "Python 3"
    },
    "language_info": {
      "name": "python"
    }
  },
  "cells": [
    {
      "cell_type": "markdown",
      "metadata": {
        "id": "view-in-github",
        "colab_type": "text"
      },
      "source": [
        "<a href=\"https://colab.research.google.com/github/Zamoca42/TIL/blob/main/Algorithm/solve_ac_class2.ipynb\" target=\"_parent\"><img src=\"https://colab.research.google.com/assets/colab-badge.svg\" alt=\"Open In Colab\"/></a>"
      ]
    },
    {
      "cell_type": "markdown",
      "source": [
        "# 2023 - 06 - 30"
      ],
      "metadata": {
        "id": "TK4UFmf01Qog"
      }
    },
    {
      "cell_type": "markdown",
      "source": [
        "## 체스판 다시 칠하기: https://www.acmicpc.net/problem/1018"
      ],
      "metadata": {
        "id": "gF08CpbyQuir"
      }
    },
    {
      "cell_type": "code",
      "execution_count": 6,
      "metadata": {
        "colab": {
          "base_uri": "https://localhost:8080/"
        },
        "id": "tK8KT4sRQoIt",
        "outputId": "a6fd1451-6244-43ff-9cf2-eef8331c365c"
      },
      "outputs": [
        {
          "output_type": "stream",
          "name": "stdout",
          "text": [
            "9 23\n",
            "BBBBBBBBBBBBBBBBBBBBBBB\n",
            "BBBBBBBBBBBBBBBBBBBBBBB\n",
            "BBBBBBBBBBBBBBBBBBBBBBB\n",
            "BBBBBBBBBBBBBBBBBBBBBBB\n",
            "BBBBBBBBBBBBBBBBBBBBBBB\n",
            "BBBBBBBBBBBBBBBBBBBBBBB\n",
            "BBBBBBBBBBBBBBBBBBBBBBB\n",
            "BBBBBBBBBBBBBBBBBBBBBBB\n",
            "BBBBBBBBBBBBBBBBBBBBBBW\n",
            "31\n"
          ]
        }
      ],
      "source": [
        "# import sys\n",
        "# input = sys.stdin.readline\n",
        "\n",
        "row, col = map(int, input().split())\n",
        "chess = [list(input().strip()) for _ in range(row)]\n",
        "result = []\n",
        "\n",
        "for i in range(row - 7):\n",
        "  for j in range(col - 7):\n",
        "    w = 0\n",
        "    b = 0\n",
        "\n",
        "    for k in range(i, i + 8):\n",
        "      for l in range(j, j + 8):\n",
        "        if (l + k) % 2 == 0:\n",
        "          if chess[k][l] != 'W':\n",
        "            w += 1\n",
        "          else:\n",
        "            b += 1\n",
        "        else:\n",
        "          if chess[k][l] != 'B':\n",
        "            w += 1\n",
        "          else:\n",
        "            b += 1\n",
        "    result.append(w)\n",
        "    result.append(b)\n",
        "\n",
        "print(min(result))"
      ]
    },
    {
      "cell_type": "markdown",
      "source": [
        "### 어려웠던 점\n",
        "\n",
        "- 완전탐색인 부분\n",
        "- 시작 좌표를 여러개 정의해서 8*8인 경우를 모두 찾는다는 아이디어\n",
        "- for 반복문을 여러번 사용하면서 헷갈림\n",
        "- W로 시작하는 경우와 B로 시작하는 경우를 나누어 확인\n",
        "- 8X8 범위 체스판을 확인할 때 행과 열의 합이 짝수, 홀수이면 각각 일정한 색을 가지게 된다.(체크무늬)\n",
        "- tag: 브루트 포스"
      ],
      "metadata": {
        "id": "Dn2LXPtBnqCK"
      }
    },
    {
      "cell_type": "markdown",
      "source": [
        "# 단어 정렬: https://www.acmicpc.net/problem/1181"
      ],
      "metadata": {
        "id": "RE4FOXF7qVfI"
      }
    },
    {
      "cell_type": "code",
      "source": [
        "result = []\n",
        "check = set()\n",
        "\n",
        "for _ in range(int(input())):\n",
        "  string = input()\n",
        "  if string not in check:\n",
        "    result.append((len(string), string))\n",
        "  check.add(string)\n",
        "\n",
        "result.sort()\n",
        "\n",
        "for x in result:\n",
        "  print(x[1])"
      ],
      "metadata": {
        "colab": {
          "base_uri": "https://localhost:8080/"
        },
        "id": "-eNAQsFgZNRS",
        "outputId": "3f64986f-53ce-4240-8f4d-e3c60021e1ff"
      },
      "execution_count": 12,
      "outputs": [
        {
          "name": "stdout",
          "output_type": "stream",
          "text": [
            "13\n",
            "but\n",
            "i\n",
            "wont\n",
            "hesitate\n",
            "no\n",
            "more\n",
            "no\n",
            "more\n",
            "it\n",
            "cannot\n",
            "wait\n",
            "im\n",
            "yours\n"
          ]
        }
      ]
    },
    {
      "cell_type": "markdown",
      "source": [
        "### 다른 소스코드"
      ],
      "metadata": {
        "id": "NarWgCIYts1A"
      }
    },
    {
      "cell_type": "code",
      "source": [
        "n = int(input())\n",
        "words = set()\n",
        "\n",
        "for _ in range(n):\n",
        "    words.add(input())\n",
        "words = list(words)\n",
        "words.sort(key=lambda x:(len(x), x))\n",
        "\n",
        "for word in words:\n",
        "    print(word)"
      ],
      "metadata": {
        "colab": {
          "base_uri": "https://localhost:8080/"
        },
        "id": "XVp_B6mZtrVC",
        "outputId": "a879f547-6d03-48a5-cf90-9e38d3c27438"
      },
      "execution_count": 13,
      "outputs": [
        {
          "output_type": "stream",
          "name": "stdout",
          "text": [
            "13\n",
            "but\n",
            "i\n",
            "wont\n",
            "hesitate\n",
            "no\n",
            "mor\n",
            "no\n",
            "mor\n",
            "it\n",
            "cannot\n",
            "wait\n",
            "im\n",
            "yours\n",
            "i\n",
            "im\n",
            "it\n",
            "no\n",
            "but\n",
            "mor\n",
            "wait\n",
            "wont\n",
            "yours\n",
            "cannot\n",
            "hesitate\n"
          ]
        }
      ]
    },
    {
      "cell_type": "code",
      "source": [],
      "metadata": {
        "id": "tC3_IYG-q4CQ"
      },
      "execution_count": null,
      "outputs": []
    }
  ]
}