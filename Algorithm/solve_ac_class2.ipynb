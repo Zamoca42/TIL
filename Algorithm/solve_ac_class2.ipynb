{
  "nbformat": 4,
  "nbformat_minor": 0,
  "metadata": {
    "colab": {
      "provenance": [],
      "authorship_tag": "ABX9TyOgM54CBwepNSt9Jhwreoat",
      "include_colab_link": true
    },
    "kernelspec": {
      "name": "python3",
      "display_name": "Python 3"
    },
    "language_info": {
      "name": "python"
    }
  },
  "cells": [
    {
      "cell_type": "markdown",
      "metadata": {
        "id": "view-in-github",
        "colab_type": "text"
      },
      "source": [
        "<a href=\"https://colab.research.google.com/github/Zamoca42/TIL/blob/main/Algorithm/solve_ac_class2.ipynb\" target=\"_parent\"><img src=\"https://colab.research.google.com/assets/colab-badge.svg\" alt=\"Open In Colab\"/></a>"
      ]
    },
    {
      "cell_type": "markdown",
      "source": [
        "# 2023 - 06 - 30"
      ],
      "metadata": {
        "id": "TK4UFmf01Qog"
      }
    },
    {
      "cell_type": "markdown",
      "source": [
        "## 체스판 다시 칠하기: https://www.acmicpc.net/problem/1018"
      ],
      "metadata": {
        "id": "gF08CpbyQuir"
      }
    },
    {
      "cell_type": "code",
      "execution_count": null,
      "metadata": {
        "colab": {
          "base_uri": "https://localhost:8080/"
        },
        "id": "tK8KT4sRQoIt",
        "outputId": "a6fd1451-6244-43ff-9cf2-eef8331c365c"
      },
      "outputs": [
        {
          "output_type": "stream",
          "name": "stdout",
          "text": [
            "9 23\n",
            "BBBBBBBBBBBBBBBBBBBBBBB\n",
            "BBBBBBBBBBBBBBBBBBBBBBB\n",
            "BBBBBBBBBBBBBBBBBBBBBBB\n",
            "BBBBBBBBBBBBBBBBBBBBBBB\n",
            "BBBBBBBBBBBBBBBBBBBBBBB\n",
            "BBBBBBBBBBBBBBBBBBBBBBB\n",
            "BBBBBBBBBBBBBBBBBBBBBBB\n",
            "BBBBBBBBBBBBBBBBBBBBBBB\n",
            "BBBBBBBBBBBBBBBBBBBBBBW\n",
            "31\n"
          ]
        }
      ],
      "source": [
        "# import sys\n",
        "# input = sys.stdin.readline\n",
        "\n",
        "row, col = map(int, input().split())\n",
        "chess = [list(input().strip()) for _ in range(row)]\n",
        "result = []\n",
        "\n",
        "for i in range(row - 7):\n",
        "  for j in range(col - 7):\n",
        "    w = 0\n",
        "    b = 0\n",
        "\n",
        "    for k in range(i, i + 8):\n",
        "      for l in range(j, j + 8):\n",
        "        if (l + k) % 2 == 0:\n",
        "          if chess[k][l] != 'W':\n",
        "            w += 1\n",
        "          else:\n",
        "            b += 1\n",
        "        else:\n",
        "          if chess[k][l] != 'B':\n",
        "            w += 1\n",
        "          else:\n",
        "            b += 1\n",
        "    result.append(w)\n",
        "    result.append(b)\n",
        "\n",
        "print(min(result))"
      ]
    },
    {
      "cell_type": "markdown",
      "source": [
        "### 어려웠던 점\n",
        "\n",
        "- 완전탐색인 부분\n",
        "- 시작 좌표를 여러개 정의해서 8*8인 경우를 모두 찾는다는 아이디어\n",
        "- for 반복문을 여러번 사용하면서 헷갈림\n",
        "- W로 시작하는 경우와 B로 시작하는 경우를 나누어 확인\n",
        "- 8X8 범위 체스판을 확인할 때 행과 열의 합이 짝수, 홀수이면 각각 일정한 색을 가지게 된다.(체크무늬)\n",
        "- tag: 브루트 포스"
      ],
      "metadata": {
        "id": "Dn2LXPtBnqCK"
      }
    },
    {
      "cell_type": "markdown",
      "source": [
        "# 단어 정렬: https://www.acmicpc.net/problem/1181"
      ],
      "metadata": {
        "id": "RE4FOXF7qVfI"
      }
    },
    {
      "cell_type": "code",
      "source": [
        "result = []\n",
        "check = set()\n",
        "\n",
        "for _ in range(int(input())):\n",
        "  string = input()\n",
        "  if string not in check:\n",
        "    result.append((len(string), string))\n",
        "  check.add(string)\n",
        "\n",
        "result.sort()\n",
        "\n",
        "for x in result:\n",
        "  print(x[1])"
      ],
      "metadata": {
        "colab": {
          "base_uri": "https://localhost:8080/"
        },
        "id": "-eNAQsFgZNRS",
        "outputId": "3f64986f-53ce-4240-8f4d-e3c60021e1ff"
      },
      "execution_count": null,
      "outputs": [
        {
          "name": "stdout",
          "output_type": "stream",
          "text": [
            "13\n",
            "but\n",
            "i\n",
            "wont\n",
            "hesitate\n",
            "no\n",
            "more\n",
            "no\n",
            "more\n",
            "it\n",
            "cannot\n",
            "wait\n",
            "im\n",
            "yours\n"
          ]
        }
      ]
    },
    {
      "cell_type": "markdown",
      "source": [
        "### 다른 소스코드"
      ],
      "metadata": {
        "id": "NarWgCIYts1A"
      }
    },
    {
      "cell_type": "code",
      "source": [
        "n = int(input())\n",
        "words = set()\n",
        "\n",
        "for _ in range(n):\n",
        "    words.add(input())\n",
        "words = list(words)\n",
        "words.sort(key=lambda x:(len(x), x))\n",
        "\n",
        "for word in words:\n",
        "    print(word)"
      ],
      "metadata": {
        "colab": {
          "base_uri": "https://localhost:8080/"
        },
        "id": "XVp_B6mZtrVC",
        "outputId": "a879f547-6d03-48a5-cf90-9e38d3c27438"
      },
      "execution_count": null,
      "outputs": [
        {
          "output_type": "stream",
          "name": "stdout",
          "text": [
            "13\n",
            "but\n",
            "i\n",
            "wont\n",
            "hesitate\n",
            "no\n",
            "mor\n",
            "no\n",
            "mor\n",
            "it\n",
            "cannot\n",
            "wait\n",
            "im\n",
            "yours\n",
            "i\n",
            "im\n",
            "it\n",
            "no\n",
            "but\n",
            "mor\n",
            "wait\n",
            "wont\n",
            "yours\n",
            "cannot\n",
            "hesitate\n"
          ]
        }
      ]
    },
    {
      "cell_type": "markdown",
      "source": [
        "# 2023 - 07 - 01"
      ],
      "metadata": {
        "id": "01uTW0Xip3sn"
      }
    },
    {
      "cell_type": "markdown",
      "source": [
        "## 팰린드롬수: https://www.acmicpc.net/problem/1259"
      ],
      "metadata": {
        "id": "byu8Irzh70ht"
      }
    },
    {
      "cell_type": "code",
      "source": [
        "import copy\n",
        "# import sys\n",
        "# input = sys.stdin.readline\n",
        "\n",
        "while True:\n",
        "  result = True\n",
        "  number = list(input().strip())\n",
        "  reversed_number = copy.deepcopy(number)\n",
        "  reversed_number.reverse()\n",
        "\n",
        "  if number[0] == '0':\n",
        "    break\n",
        "\n",
        "  for i in range(len(number) // 2):\n",
        "    if number[i] != reversed_number[i]:\n",
        "      result = False\n",
        "\n",
        "  if result:\n",
        "    print('yes')\n",
        "  else:\n",
        "    print('no')"
      ],
      "metadata": {
        "colab": {
          "base_uri": "https://localhost:8080/"
        },
        "id": "tC3_IYG-q4CQ",
        "outputId": "dcd4622e-643d-4e3a-b0a0-8412a06a0b1f"
      },
      "execution_count": null,
      "outputs": [
        {
          "name": "stdout",
          "output_type": "stream",
          "text": [
            "12421\n",
            "yes\n",
            "1231\n",
            "no\n",
            "121\n",
            "yes\n",
            "0\n"
          ]
        }
      ]
    },
    {
      "cell_type": "markdown",
      "source": [
        "## 영화감독 숌: https://www.acmicpc.net/problem/1436"
      ],
      "metadata": {
        "id": "JtMdIZYDFVIP"
      }
    },
    {
      "cell_type": "code",
      "source": [
        "N = int(input())\n",
        "number = 666\n",
        "\n",
        "while N:\n",
        "  if '666' in str(number): N -= 1\n",
        "  number += 1\n",
        "\n",
        "print(number - 1)"
      ],
      "metadata": {
        "colab": {
          "base_uri": "https://localhost:8080/"
        },
        "id": "JkQGiPVzBZRS",
        "outputId": "d723f905-087e-4022-bdf9-e3e9716e4a13"
      },
      "execution_count": null,
      "outputs": [
        {
          "output_type": "stream",
          "name": "stdout",
          "text": [
            "187\n",
            "66666\n"
          ]
        }
      ]
    },
    {
      "cell_type": "markdown",
      "source": [
        "이 문제는 영화 시리즈의 제목을 연속된 3개의 6, 즉 \"666\"이 포함된 숫자들을 오름차순에 따라 짓고 싶다는 영화 감독의 바람을 담은 문제이다.\n",
        "```\n",
        "666 1666 2666 3666 4666 5666 6660 6661 6662 6663 6664 6665 6666 6667 6668 6669 7666 8666 9666 10666 11666  12666\n",
        "0   1    2    3    4    5    6    7    8    9    10   11   12   13   14   15   16   17   18   19    20     21\n",
        "```\n",
        "위와 같은 진행 방식으로 숫자를 찾아 낼 수 있다.\n",
        "\n",
        "범위를 지정하지 않고 완전 탐색해도 시간 초과가 간당간당하게 뜨지 않으니 부르트포스 방식으로 풀이한다.\n",
        "\n",
        "- 출처 : https://velog.io/@junyp1/%EB%B0%B1%EC%A4%80-1436-Python-%EC%98%81%ED%99%94%EA%B0%90%EB%8F%85-%EC%88%8C-cspbujq2"
      ],
      "metadata": {
        "id": "IdrxADGTWICt"
      }
    },
    {
      "cell_type": "markdown",
      "source": [
        "- 부르트 포스\n",
        "\n",
        "  **완전탐색 알고리즘**\n",
        "\n",
        "  가능한 모든 경우의 수를 모두 탐색하면서 요구조건에 충족되는 결과만을 가져온다."
      ],
      "metadata": {
        "id": "jQZzzI3wWcPi"
      }
    },
    {
      "cell_type": "markdown",
      "source": [
        "## 평균: https://www.acmicpc.net/problem/1546"
      ],
      "metadata": {
        "id": "Bdo98UK-qWq2"
      }
    },
    {
      "cell_type": "code",
      "source": [
        "n = int(input())\n",
        "scores = list(map(int, input().split()))\n",
        "m = max(scores)\n",
        "\n",
        "for i in range(n):\n",
        "  scores[i] = (scores[i] / m) * 100\n",
        "\n",
        "average = sum(scores) / n\n",
        "\n",
        "print(average)"
      ],
      "metadata": {
        "id": "A4Z0y0R6JIc4",
        "colab": {
          "base_uri": "https://localhost:8080/"
        },
        "outputId": "d2fbc815-7521-4ac2-a165-7eac163e33d8"
      },
      "execution_count": null,
      "outputs": [
        {
          "output_type": "stream",
          "name": "stdout",
          "text": [
            "9\n",
            "10 20 30 40 50 60 70 80 90\n",
            "55.55555555555556\n"
          ]
        }
      ]
    },
    {
      "cell_type": "markdown",
      "source": [
        "## 랜선자르기: https://www.acmicpc.net/problem/1654"
      ],
      "metadata": {
        "id": "xBDBGE3iyNNW"
      }
    },
    {
      "cell_type": "code",
      "source": [
        "n, m = map(int, input().split())\n",
        "array = []\n",
        "\n",
        "for i in range(n):\n",
        "  array.append(int(input()))\n",
        "\n",
        "start = 1\n",
        "end = max(array)\n",
        "\n",
        "while (start <= end):\n",
        "    mid = (start + end) // 2\n",
        "    count = 0\n",
        "    for i in range(n):\n",
        "      count += array[i] // mid\n",
        "    if count >= m:\n",
        "      start = mid + 1\n",
        "    else:\n",
        "      end = mid - 1\n",
        "print(end)"
      ],
      "metadata": {
        "colab": {
          "base_uri": "https://localhost:8080/"
        },
        "id": "XlfCvVncqkCA",
        "outputId": "3790bfbb-f7bb-4eea-9985-9beb6829b882"
      },
      "execution_count": null,
      "outputs": [
        {
          "output_type": "stream",
          "name": "stdout",
          "text": [
            "4 11\n",
            "802\n",
            "743\n",
            "457\n",
            "539\n",
            "200\n"
          ]
        }
      ]
    },
    {
      "cell_type": "markdown",
      "source": [
        "**풀이**\n",
        "\n",
        "- [이진 탐색](https://velog.io/@madfinger/Binary-Search%EC%9D%B4%EC%A7%84-%ED%83%90%EC%83%89-%ED%8C%8C%EC%9D%B4%EC%8D%AC)\n",
        "- 길이의 범위는 1부터 랜선 중 가장 긴 랜선 길이까지이다.\n",
        "- 잘라진 랜선 개수가 m보다 많으면, mid 밑으로는 볼 필요가 없다.\n",
        "- 만약 102cm 랜선을 2개로 자른다면, 50cm로 잘라도 2개, 51cm로 잘라도 2개다.\n",
        "- 이 문제에서는 최대 랜선 길이를 구해야 하므로, end를 출력시켜야 한다.\n"
      ],
      "metadata": {
        "id": "TSaURjsM2H3R"
      }
    },
    {
      "cell_type": "markdown",
      "source": [
        "### 다른 사람 풀이"
      ],
      "metadata": {
        "id": "Pt1iTXHJ2UUP"
      }
    },
    {
      "cell_type": "code",
      "source": [
        "import sys\n",
        "\n",
        "def solution():\n",
        "    K, N = map(int, input().split())\n",
        "    # sys.stdin.readline() 사용이유는 글 하단 참고\n",
        "    lan = [int(sys.stdin.readline()) for _ in range(K)]\n",
        "\n",
        "    min_value = 1 # 랜선의 최소 길이를 1로 설정\n",
        "    max_value = max(lan) # 랜선중 가장 긴 길이를 max값으로 설정\n",
        "\n",
        "    while min_value <= max_value: # 이분탐색이 완료될때까지 반복\n",
        "        mid = (min_value + max_value) // 2 # 이분탐색을 위한 중간값 설정\n",
        "        cnt = 0 # 랜선 수를 카운팅하는 변수 반복될때 마다 초기화 해야 하므로 반복문 안에서 선언\n",
        "        for i in lan:\n",
        "            cnt += i // mid # 랜선을 자른 수\n",
        "\n",
        "        if cnt >= N: # 랜선을 자른 수가 만들어야될 랜선의 수보다 클 경우\n",
        "            min_value = mid + 1 # 랜선의 최소 길이를 중간값보다 1크게 설정\n",
        "        else: # 랜선을 자른 수가 만들어야될 랜선의 수보다 작을 경우\n",
        "            max_value = mid - 1 # 랜선의 최대 길이를 중간값보다 1작게 설정\n",
        "\n",
        "    return max_value # 랜선을 자룬 수가 만들어야 될 랜선의 수와 같을경우 길이 출력\n",
        "\n",
        "print(solution())"
      ],
      "metadata": {
        "id": "WqdQ_srsz57B"
      },
      "execution_count": null,
      "outputs": []
    },
    {
      "cell_type": "markdown",
      "source": [
        "# 팩토리얼 0의 개수: https://www.acmicpc.net/problem/1676"
      ],
      "metadata": {
        "id": "AClPdrLFKQ58"
      }
    },
    {
      "cell_type": "code",
      "source": [
        "N = int(input())\n",
        "fact = 1\n",
        "\n",
        "for i in range(1, N + 1):\n",
        "  fact *= i\n",
        "\n",
        "result = list(str(fact))\n",
        "result.reverse()\n",
        "\n",
        "count = 0\n",
        "for x in result:\n",
        "  if x != '0':\n",
        "    break\n",
        "  count += 1\n",
        "\n",
        "print(count)"
      ],
      "metadata": {
        "colab": {
          "base_uri": "https://localhost:8080/"
        },
        "id": "krtsmXiIKTlf",
        "outputId": "9661285b-2985-42c4-d38d-d61f81673820"
      },
      "execution_count": null,
      "outputs": [
        {
          "output_type": "stream",
          "name": "stdout",
          "text": [
            "10\n",
            "2\n"
          ]
        }
      ]
    },
    {
      "cell_type": "markdown",
      "source": [
        "# 스택 수열: https://www.acmicpc.net/problem/1874"
      ],
      "metadata": {
        "id": "SSLYsat6NkD2"
      }
    },
    {
      "cell_type": "code",
      "source": [
        "# import sys\n",
        "# input = sys.stdin.readline # 빠른 입력 함수 사용\n",
        "\n",
        "n = int(input())\n",
        "\n",
        "stack = []\n",
        "result = []\n",
        "\n",
        "count = 1\n",
        "\n",
        "for _ in range(n):\n",
        "  x = int(input())\n",
        "  while count <= x:\n",
        "    stack.append(count)\n",
        "    count += 1\n",
        "    result.append('+')\n",
        "  if stack[-1] == x:\n",
        "    stack.pop()\n",
        "    result.append('-')\n",
        "  else:\n",
        "    result = ['NO']\n",
        "    break\n",
        "\n",
        "for index in result:\n",
        "  print(index)"
      ],
      "metadata": {
        "colab": {
          "base_uri": "https://localhost:8080/"
        },
        "id": "hvXgl-LoL4Ky",
        "outputId": "f8ad1e98-8f9d-4f25-f1af-c94db3b7e5ea"
      },
      "execution_count": null,
      "outputs": [
        {
          "output_type": "stream",
          "name": "stdout",
          "text": [
            "8\n",
            "4\n",
            "3\n",
            "6\n",
            "8\n",
            "7\n",
            "5\n",
            "2\n",
            "1\n",
            "No\n"
          ]
        }
      ]
    },
    {
      "cell_type": "markdown",
      "source": [
        "# 수 찾기: https://www.acmicpc.net/problem/1920"
      ],
      "metadata": {
        "id": "pBoP6WgTQF9j"
      }
    },
    {
      "cell_type": "code",
      "source": [
        "# import sys\n",
        "# input = sys.stdin.readline\n",
        "\n",
        "N = int(input())\n",
        "find_num = set(map(int, input().split()))\n",
        "M = int(input())\n",
        "num = list(map(int, input().split()))\n",
        "\n",
        "for i in num:\n",
        "  if i in find_num:\n",
        "    print(1)\n",
        "  else:\n",
        "    print(0)"
      ],
      "metadata": {
        "colab": {
          "base_uri": "https://localhost:8080/"
        },
        "id": "hUinkvecOZtd",
        "outputId": "fd8eff5b-91ca-4c2f-c1f9-6a69682eeb62"
      },
      "execution_count": null,
      "outputs": [
        {
          "output_type": "stream",
          "name": "stdout",
          "text": [
            "5\n",
            "4 1 5 2 3\n",
            "5\n",
            "1 3 7 9 5\n",
            "1\n",
            "1\n",
            "0\n",
            "0\n",
            "1\n"
          ]
        }
      ]
    },
    {
      "cell_type": "markdown",
      "source": [
        "```\n",
        "find_num = list(map(int, input().split()))\n",
        "```\n",
        "find_num을 list로 만들면 시간 복잡도 $O(n)$로 인해 시간초과가 발생한다\n",
        "\n",
        "`set()`을 사용하면 시간 복잡도가 $O(1)$이기 때문에 테스트가 통과할 수 있다"
      ],
      "metadata": {
        "id": "HmElBQjMT2O7"
      }
    },
    {
      "cell_type": "markdown",
      "source": [
        "# 소수 구하기: https://www.acmicpc.net/problem/1929"
      ],
      "metadata": {
        "id": "qQlag7SRTzLZ"
      }
    },
    {
      "cell_type": "markdown",
      "source": [
        "#### 제곱근만 확인"
      ],
      "metadata": {
        "id": "lGRo6O2yp-LL"
      }
    },
    {
      "cell_type": "code",
      "source": [
        "def prime(num):\n",
        "  if num < 2:\n",
        "    return False\n",
        "\n",
        "  i = 2\n",
        "  while i * i <= num:\n",
        "    if num % i == 0:\n",
        "      return False\n",
        "    i += 1\n",
        "  return True\n",
        "\n",
        "n, m = map(int, input().split())\n",
        "\n",
        "for i in range(n, m + 1):\n",
        "  if prime(i):\n",
        "    print(i)"
      ],
      "metadata": {
        "id": "L6ZBccc9qBQC"
      },
      "execution_count": null,
      "outputs": []
    },
    {
      "cell_type": "markdown",
      "source": [
        "#### 에라토스테네스의 체 (메모이제이션 사용)"
      ],
      "metadata": {
        "id": "3VpRcCHAwCYs"
      }
    },
    {
      "cell_type": "code",
      "source": [
        "def sieve_of_eratosthenes(n):\n",
        "    primes = [True] * (n + 1)\n",
        "    primes[0] = primes[1] = False\n",
        "\n",
        "    p = 2\n",
        "    while p * p <= n:\n",
        "        if primes[p]:\n",
        "            for i in range(p * p, n + 1, p):\n",
        "                primes[i] = False\n",
        "        p += 1\n",
        "\n",
        "    result = []\n",
        "    for i in range(2, n + 1):\n",
        "        if primes[i]:\n",
        "            result.append(i)\n",
        "\n",
        "    return result\n",
        "\n",
        "# 범위 내의 소수 구하기\n",
        "start, end = map(int, input().split())\n",
        "primes = sieve_of_eratosthenes(end)\n",
        "for prime in primes:\n",
        "  if prime >= start:\n",
        "    print(prime)"
      ],
      "metadata": {
        "colab": {
          "base_uri": "https://localhost:8080/"
        },
        "id": "odyUkB2xwD9u",
        "outputId": "de6300a1-0ee0-4a41-e925-600e7fd9476a"
      },
      "execution_count": null,
      "outputs": [
        {
          "output_type": "stream",
          "name": "stdout",
          "text": [
            "3 16\n",
            "3\n",
            "5\n",
            "7\n",
            "11\n",
            "13\n"
          ]
        }
      ]
    },
    {
      "cell_type": "markdown",
      "source": [
        "### 시간초과 발생"
      ],
      "metadata": {
        "id": "NHJjQxXpp4R1"
      }
    },
    {
      "cell_type": "markdown",
      "source": [
        "#### 1. 완전 탐색"
      ],
      "metadata": {
        "id": "qNy2q4XimLLl"
      }
    },
    {
      "cell_type": "code",
      "source": [
        "N, M = map(int, input().split())\n",
        "\n",
        "for i in range(N, M + 1):\n",
        "  count = 0\n",
        "  for j in range(2, i + 1):\n",
        "    if i % j == 0:\n",
        "      count += 1\n",
        "  if count == 1:\n",
        "    print(i)"
      ],
      "metadata": {
        "colab": {
          "base_uri": "https://localhost:8080/"
        },
        "id": "msOY-h3MQ632",
        "outputId": "a3a06ca1-5263-4c4a-9592-779ab18b565d"
      },
      "execution_count": null,
      "outputs": [
        {
          "output_type": "stream",
          "name": "stdout",
          "text": [
            "3 16\n",
            "3\n",
            "5\n",
            "7\n",
            "11\n",
            "13\n"
          ]
        }
      ]
    },
    {
      "cell_type": "markdown",
      "source": [
        "#### 2. 자기자신의 절반만 나누는 방법"
      ],
      "metadata": {
        "id": "PLrTxonPmJvx"
      }
    },
    {
      "cell_type": "code",
      "source": [
        "n, m = map(int, input().split())\n",
        "\n",
        "for i in range(n, m + 1):\n",
        "  count = 0\n",
        "  for j in range(2, ( i // 2 ) + 1):\n",
        "    if i % j == 0:\n",
        "      count += 1\n",
        "  if count == 0:\n",
        "    print(i)"
      ],
      "metadata": {
        "colab": {
          "base_uri": "https://localhost:8080/"
        },
        "id": "que73FhBmXae",
        "outputId": "39aa82f5-5430-4f91-e1b5-ed1dcd64ae3e"
      },
      "execution_count": null,
      "outputs": [
        {
          "output_type": "stream",
          "name": "stdout",
          "text": [
            "3 16\n",
            "3\n",
            "5\n",
            "7\n",
            "11\n",
            "13\n"
          ]
        }
      ]
    },
    {
      "cell_type": "markdown",
      "source": [
        "#### 3. 에라토스테네스의 체 (set 사용)"
      ],
      "metadata": {
        "id": "eT2n2dg6mQQ7"
      }
    },
    {
      "cell_type": "code",
      "source": [
        "n, m = map(int, input().split())\n",
        "num = set(range(2, m + 1))\n",
        "\n",
        "for i in range(2, m + 1):\n",
        "  if i in num:\n",
        "    num -=set(range(2*i, m + 1, i))\n",
        "\n",
        "for i in num:\n",
        "  if i >= 3:\n",
        "    print(i)"
      ],
      "metadata": {
        "colab": {
          "base_uri": "https://localhost:8080/"
        },
        "id": "WOowZNvflOVR",
        "outputId": "34ce6771-c1bc-4682-828b-24a210d5420e"
      },
      "execution_count": null,
      "outputs": [
        {
          "output_type": "stream",
          "name": "stdout",
          "text": [
            "3 16\n",
            "3\n",
            "5\n",
            "7\n",
            "11\n",
            "13\n"
          ]
        }
      ]
    },
    {
      "cell_type": "markdown",
      "source": [
        "# 2023 - 07 - 03"
      ],
      "metadata": {
        "id": "b0aD2nFQkw8X"
      }
    },
    {
      "cell_type": "markdown",
      "source": [
        "## 소수 찾기: https://www.acmicpc.net/problem/1978\n"
      ],
      "metadata": {
        "id": "4OSHq7UAkzy7"
      }
    },
    {
      "cell_type": "code",
      "source": [
        "n = int(input())\n",
        "number = list(map(int, input().split()))\n",
        "prime = []\n",
        "\n",
        "for i in number:\n",
        "  count = 0\n",
        "  for j in range(2, i + 1):\n",
        "    if i % j == 0:\n",
        "      count += 1\n",
        "  if count == 1:\n",
        "    prime.append(i)\n",
        "\n",
        "print(len(prime))"
      ],
      "metadata": {
        "colab": {
          "base_uri": "https://localhost:8080/"
        },
        "id": "ocNP6c7ticy4",
        "outputId": "d2588440-6d93-4810-bc19-52b92c85e367"
      },
      "execution_count": null,
      "outputs": [
        {
          "output_type": "stream",
          "name": "stdout",
          "text": [
            "4\n",
            "1 3 5 7\n",
            "3\n"
          ]
        }
      ]
    },
    {
      "cell_type": "markdown",
      "source": [
        "## 카드2: https://www.acmicpc.net/problem/2164"
      ],
      "metadata": {
        "id": "cwBhNdVIs5Gq"
      }
    },
    {
      "cell_type": "code",
      "source": [
        "from collections import deque\n",
        "\n",
        "n = int(input())\n",
        "cards = deque(i for i in range(1, n + 1))\n",
        "\n",
        "while len(cards) > 1:\n",
        "  cards.popleft()\n",
        "  cards.append(cards.popleft())\n",
        "\n",
        "print(cards[0])"
      ],
      "metadata": {
        "colab": {
          "base_uri": "https://localhost:8080/"
        },
        "id": "Q2xwZN-4luOZ",
        "outputId": "8af7b041-804a-42fa-94f4-2ff3edfe67c1"
      },
      "execution_count": null,
      "outputs": [
        {
          "output_type": "stream",
          "name": "stdout",
          "text": [
            "6\n",
            "4\n"
          ]
        }
      ]
    },
    {
      "cell_type": "markdown",
      "source": [
        "**list 대신 deque를 쓰는 이유**\n",
        "\n",
        "list는 $O(n)$, deque는 $O(1)$의 시간복잡도를 가지기 떄문  \n",
        "-> deque가 더 빠르다\n",
        "\n",
        "[출처 - 왜 리스트대신 덱(deque)을 쓸까?](https://codingpractices.tistory.com/entry/Python%ED%8C%8C%EC%9D%B4%EC%8D%AC-%EC%99%9C-%EB%A6%AC%EC%8A%A4%ED%8A%B8%EB%8C%80%EC%8B%A0-%ED%81%90-%EB%8D%B0%ED%81%AC-deque-%EB%A5%BC-%EC%93%B8%EA%B9%8C)"
      ],
      "metadata": {
        "id": "DmFBQBjvv9Af"
      }
    },
    {
      "cell_type": "markdown",
      "source": [
        "## 최대공약수와 최소공배수: https://www.acmicpc.net/problem/2609"
      ],
      "metadata": {
        "id": "9gc-Y6uF4KNe"
      }
    },
    {
      "cell_type": "code",
      "source": [
        "n, m = map(int, input().split())\n",
        "\n",
        "# 최대공약수\n",
        "for i in range(min(n, m), 0, -1):\n",
        "  if n % i == 0 and m % i == 0:\n",
        "    print(i)\n",
        "    break\n",
        "\n",
        "# 최소공배수\n",
        "for i in range(max(n, m), (n * m) + 1):\n",
        "  if i % n == 0 and i % m == 0:\n",
        "    print(i)\n",
        "    break"
      ],
      "metadata": {
        "colab": {
          "base_uri": "https://localhost:8080/"
        },
        "id": "hoNZGpDHuDK4",
        "outputId": "169054f9-8f0b-40fc-ac92-39151be3d1ed"
      },
      "execution_count": null,
      "outputs": [
        {
          "output_type": "stream",
          "name": "stdout",
          "text": [
            "24 18\n",
            "6\n",
            "72\n"
          ]
        }
      ]
    },
    {
      "cell_type": "markdown",
      "source": [
        "### 유클리드 호제법\n",
        "\n",
        "x, y의 최대공약수는 y, r의 최대 공약수와 같다는 원리를 이용한 유클리드 호제법\n",
        "여기서 r은 x % y를 한 나머지값\n",
        "\n",
        "![스크린샷 2023-07-03 오후 5 53 20](https://github.com/Zamoca42/TIL/assets/96982072/a6c2c78e-b535-45d7-adf3-49c71eb78300)\n",
        "\n",
        "[출처 - Python 최소공배수, 최대공약수란? 알고리즘 쉽게 이해하기](https://codingpractices.tistory.com/entry/Python-%EC%B5%9C%EC%86%8C%EA%B3%B5%EB%B0%B0%EC%88%98-%EC%B5%9C%EB%8C%80%EA%B3%B5%EC%95%BD%EC%88%98%EB%9E%80-%EC%95%8C%EA%B3%A0%EB%A6%AC%EC%A6%98-%EC%89%BD%EA%B2%8C-%EC%9D%B4%ED%95%B4%ED%95%98%EA%B8%B0)"
      ],
      "metadata": {
        "id": "CGFkygEc86pF"
      }
    },
    {
      "cell_type": "code",
      "source": [
        "def GCD(x, y):\n",
        "  while(y):\n",
        "    x, y = y, x % y\n",
        "  return x\n",
        "\n",
        "def LCM(x, y):\n",
        "  result = (x * y) // GCD(x, y)\n",
        "  return result\n",
        "\n",
        "n, m = map(int, input().split())\n",
        "\n",
        "print(GCD(n, m))\n",
        "print(LCM(n, m))"
      ],
      "metadata": {
        "colab": {
          "base_uri": "https://localhost:8080/"
        },
        "id": "-x1ZPz0D8Al5",
        "outputId": "00d322e1-88fd-418e-cb03-8a7c493a0688"
      },
      "execution_count": null,
      "outputs": [
        {
          "output_type": "stream",
          "name": "stdout",
          "text": [
            "24 18\n",
            "6\n",
            "72\n"
          ]
        }
      ]
    },
    {
      "cell_type": "markdown",
      "source": [
        "## 블랙잭: https://www.acmicpc.net/problem/2798"
      ],
      "metadata": {
        "id": "KjJM6piC_1oB"
      }
    },
    {
      "cell_type": "code",
      "source": [
        "n, m = map(int, input().split())\n",
        "cards = list(map(int, input().split()))\n",
        "result = 0\n",
        "\n",
        "for i in range(n):\n",
        "  for j in range(i + 1, n):\n",
        "    for k in range(j + 1, n):\n",
        "      sum_value = cards[i] + cards[j] + cards[k]\n",
        "      if sum_value <= m:\n",
        "        result = max(result, sum_value)\n",
        "\n",
        "print(result)"
      ],
      "metadata": {
        "colab": {
          "base_uri": "https://localhost:8080/"
        },
        "id": "3KBXJG7M_4Y7",
        "outputId": "76390148-4b8a-4d61-dfc2-caa76c2b8e77"
      },
      "execution_count": null,
      "outputs": [
        {
          "output_type": "stream",
          "name": "stdout",
          "text": [
            "10 500\n",
            "93 181 245 214 315 36 185 138 216 295\n",
            "497\n"
          ]
        }
      ]
    },
    {
      "cell_type": "markdown",
      "source": [
        "### itertool 모듈의 combinations 함수 사용"
      ],
      "metadata": {
        "id": "N9BI08dlDqWa"
      }
    },
    {
      "cell_type": "code",
      "source": [
        "from itertools import combinations\n",
        "\n",
        "n, m = map(int, input().split())\n",
        "cards = list(map(int, input().split()))\n",
        "result = 0\n",
        "\n",
        "for card in combinations(cards, 3):\n",
        "  sum_value = sum(card)\n",
        "  if result < sum_value <= m:\n",
        "    result = sum_value\n",
        "print(result)"
      ],
      "metadata": {
        "colab": {
          "base_uri": "https://localhost:8080/"
        },
        "id": "ahqIWRRhDeRg",
        "outputId": "dc3e55b7-2fa3-4f71-b069-b91e14f9c709"
      },
      "execution_count": null,
      "outputs": [
        {
          "output_type": "stream",
          "name": "stdout",
          "text": [
            "10 500\n",
            "93 181 245 214 315 36 185 138 216 295\n",
            "497\n"
          ]
        }
      ]
    },
    {
      "cell_type": "markdown",
      "source": [
        "위의 코드에서는 result < sum_value <= m 비교식이 result보다 sum_value가 크고\n",
        "\n",
        "동시에 sum_value가 m보다 작거나 같은지를 확인하는 조건문입니다.\n",
        "\n",
        "이 비교식은 result보다 sum_value가 크고 동시에 sum_value가 m보다 작거나 같은지를\n",
        "\n",
        "동시에 확인하기 때문에 코드를 간결하게 작성할 수 있습니다."
      ],
      "metadata": {
        "id": "0voOyUtsGXAu"
      }
    },
    {
      "cell_type": "markdown",
      "source": [
        "- [파이썬 순열, 조합 라이브러리 (itertools)](https://slowsure.tistory.com/138)\n",
        "- [비교 연산자 체이닝](https://mimah.tistory.com/entry/Python-%EB%B9%84%EA%B5%90-%EC%97%B0%EC%82%B0%EC%9E%90-chaining-ex-False-True-False)"
      ],
      "metadata": {
        "id": "QdZiWAVGFO7g"
      }
    },
    {
      "cell_type": "markdown",
      "source": [
        "## 괄호: https://www.acmicpc.net/problem/9012"
      ],
      "metadata": {
        "id": "UX4N8eK-Tv9G"
      }
    },
    {
      "cell_type": "code",
      "source": [
        "# import sys\n",
        "# input = sys.stdin.readline\n",
        "\n",
        "for _ in range(int(input())):\n",
        "  vps = list(input().strip())\n",
        "  stack = []\n",
        "  isVPS = True\n",
        "\n",
        "  for i in range(len(vps)):\n",
        "    if vps[i] == '(':\n",
        "      stack.append(vps[i])\n",
        "    else:\n",
        "      if stack:\n",
        "        stack.pop()\n",
        "      else:\n",
        "        isVPS = False\n",
        "        break\n",
        "\n",
        "  if not stack and isVPS:\n",
        "    print('YES')\n",
        "  else:\n",
        "    print('NO')"
      ],
      "metadata": {
        "colab": {
          "base_uri": "https://localhost:8080/"
        },
        "id": "hvKGkSHPEiKM",
        "outputId": "8ed377c1-90c5-48d1-cdae-358f7038ef8e"
      },
      "execution_count": null,
      "outputs": [
        {
          "output_type": "stream",
          "name": "stdout",
          "text": [
            "3\n",
            "((\n",
            "NO\n",
            "))\n",
            "NO\n",
            "())(()\n",
            "NO\n"
          ]
        }
      ]
    },
    {
      "cell_type": "markdown",
      "source": [
        "## 숫자 카드 2: https://www.acmicpc.net/problem/10816"
      ],
      "metadata": {
        "id": "OMLcdSOTTyTG"
      }
    },
    {
      "cell_type": "code",
      "source": [
        "from collections import defaultdict\n",
        "# import sys\n",
        "# input = sys.stdin.readline\n",
        "\n",
        "N = int(input())\n",
        "numbers = list(map(int, input().split()))\n",
        "M = int(input())\n",
        "find_num = list(map(int, input().split()))\n",
        "number_map = dict()\n",
        "\n",
        "for i in find_num:\n",
        "  number_map[i] = 0\n",
        "\n",
        "for i in numbers:\n",
        "  if i in number_map.keys():\n",
        "    number_map[i] += 1\n",
        "\n",
        "for key in number_map:\n",
        "  print(number_map[key], end=' ')"
      ],
      "metadata": {
        "colab": {
          "base_uri": "https://localhost:8080/"
        },
        "id": "S2SL-KDNJDHz",
        "outputId": "ddab90f4-4ff2-4a3d-a0bb-d6e314bcab53"
      },
      "execution_count": null,
      "outputs": [
        {
          "output_type": "stream",
          "name": "stdout",
          "text": [
            "10\n",
            "6 3 2 10 10 10 -10 -10 7 3\n",
            "8\n",
            "10 9 -5 2 3 4 5 -10\n",
            "3 0 0 1 2 0 0 2 "
          ]
        }
      ]
    },
    {
      "cell_type": "markdown",
      "source": [
        "### 틀린 이유 해결: https://www.acmicpc.net/board/view/119005\n",
        "\n",
        "- [Defaultdict](https://dongdongfather.tistory.com/69) 활용: http://boj.kr/1f9bd09426e24270bd2370c69084730c\n",
        "- Counter 활용: http://boj.kr/1175455e02ce459d933beec8f592b508\n",
        "- 이진 탐색(bisect) 활용: http://boj.kr/75a6872318444664a286a7ff73545c98"
      ],
      "metadata": {
        "id": "xN3CyiBgcTFT"
      }
    },
    {
      "cell_type": "code",
      "source": [
        "from collections import defaultdict\n",
        "\n",
        "int(input())\n",
        "numbers = list(map(int, input().split()))\n",
        "int(input())\n",
        "find_num = list(map(int, input().split()))\n",
        "number_map = defaultdict(int)\n",
        "\n",
        "for i in numbers:\n",
        "  number_map[i] += 1\n",
        "\n",
        "for i in find_num:\n",
        "  print(number_map[i], end=' ')"
      ],
      "metadata": {
        "id": "2KTh7dZkdBgp"
      },
      "execution_count": null,
      "outputs": []
    },
    {
      "cell_type": "markdown",
      "source": [
        "# 2023 - 07 - 04"
      ],
      "metadata": {
        "id": "B0A9fhQmH0vb"
      }
    },
    {
      "cell_type": "markdown",
      "source": [
        "## 큐: https://www.acmicpc.net/problem/10845"
      ],
      "metadata": {
        "id": "Ynva3XO3MJOp"
      }
    },
    {
      "cell_type": "code",
      "source": [
        "# import sys\n",
        "# input = sys.stdin.readline\n",
        "\n",
        "queue = []\n",
        "\n",
        "for _ in range(int(input())):\n",
        "  operator = input().split()\n",
        "  command = operator[0]\n",
        "\n",
        "  if command == 'push':\n",
        "    queue.append(operator[1])\n",
        "  elif command == 'pop':\n",
        "    if queue:\n",
        "      print(queue.pop(0))\n",
        "    else:\n",
        "      print(-1)\n",
        "  elif command == 'size':\n",
        "    print(len(queue))\n",
        "  elif command == 'empty':\n",
        "    if len(queue) != 0:\n",
        "      print(0)\n",
        "    else:\n",
        "      print(1)\n",
        "  elif command == 'front':\n",
        "    if queue:\n",
        "      print(queue[0])\n",
        "    else:\n",
        "      print(-1)\n",
        "  elif command == 'back':\n",
        "    if queue:\n",
        "      print(queue[-1])\n",
        "    else:\n",
        "      print(-1)"
      ],
      "metadata": {
        "colab": {
          "base_uri": "https://localhost:8080/"
        },
        "id": "AKpwGGzDZrJQ",
        "outputId": "11905b4d-a604-438f-efe2-ed09c47ae41d"
      },
      "execution_count": null,
      "outputs": [
        {
          "output_type": "stream",
          "name": "stdout",
          "text": [
            "15\n",
            "push 1\n",
            "push 2\n",
            "front\n",
            "1\n",
            "back\n",
            "2\n",
            "size\n",
            "2\n",
            "empty\n",
            "0\n",
            "pop\n",
            "1\n",
            "pop\n",
            "2\n",
            "pop\n",
            "-1\n",
            "size\n",
            "0\n",
            "empty\n",
            "1\n",
            "pop\n",
            "-1\n",
            "push 3\n",
            "empty\n",
            "0\n",
            "front\n",
            "3\n"
          ]
        }
      ]
    },
    {
      "cell_type": "markdown",
      "source": [
        "## 덱: https://www.acmicpc.net/problem/10866"
      ],
      "metadata": {
        "id": "OTohAMNwRKe6"
      }
    },
    {
      "cell_type": "code",
      "source": [
        "# import sys\n",
        "# input = sys.stdin.readline\n",
        "from collections import deque\n",
        "\n",
        "queue = deque()\n",
        "\n",
        "for _ in range(int(input())):\n",
        "  operator = input().split()\n",
        "  command = operator[0]\n",
        "\n",
        "  if command == 'push_front':\n",
        "    queue.appendleft(operator[1])\n",
        "  elif command == 'push_back':\n",
        "    queue.append(operator[1])\n",
        "  elif command == 'pop_front':\n",
        "    if queue:\n",
        "      print(queue.popleft())\n",
        "    else:\n",
        "      print(-1)\n",
        "  elif command == 'pop_back':\n",
        "    if queue:\n",
        "      print(queue.pop())\n",
        "    else:\n",
        "      print(-1)\n",
        "  elif command == 'size':\n",
        "    print(len(queue))\n",
        "  elif command == 'empty':\n",
        "    if len(queue) != 0:\n",
        "      print(0)\n",
        "    else:\n",
        "      print(1)\n",
        "  elif command == 'front':\n",
        "    if queue:\n",
        "      print(queue[0])\n",
        "    else:\n",
        "      print(-1)\n",
        "  elif command == 'back':\n",
        "    if queue:\n",
        "      print(queue[-1])\n",
        "    else:\n",
        "      print(-1)"
      ],
      "metadata": {
        "colab": {
          "base_uri": "https://localhost:8080/"
        },
        "id": "DU8ZAcnTN6Yt",
        "outputId": "4cc3fa61-a53a-47f6-cee2-3d2433ce2b67"
      },
      "execution_count": null,
      "outputs": [
        {
          "output_type": "stream",
          "name": "stdout",
          "text": [
            "15\n",
            "push_back 1\n",
            "push_front 2\n",
            "front\n",
            "2\n",
            "back\n",
            "1\n",
            "size\n",
            "2\n",
            "empty\n",
            "0\n",
            "pop_front\n",
            "2\n",
            "pop_back\n",
            "1\n",
            "pop_front\n",
            "-1\n",
            "size\n",
            "0\n",
            "empty\n",
            "1\n",
            "pop_back\n",
            "-1\n",
            "push_front 3\n",
            "empty\n",
            "0\n",
            "front\n",
            "3\n"
          ]
        }
      ]
    },
    {
      "cell_type": "markdown",
      "source": [
        "## 이항 계수 1: https://www.acmicpc.net/problem/11050"
      ],
      "metadata": {
        "id": "geLzMR_-fXPu"
      }
    },
    {
      "cell_type": "code",
      "source": [
        "def bino_coef(n, r):\n",
        "    # 1.\n",
        "    cache = [[0 for _ in range(r+1)] for _ in range(n+1)]\n",
        "\n",
        "    # 2.\n",
        "    for i in range(n+1):\n",
        "        cache[i][0] = 1\n",
        "    for i in range(r+1):\n",
        "        cache[i][i] = 1\n",
        "\n",
        "    # 3.\n",
        "    for i in range(1, n+1):\n",
        "        for j in range(1, r+1):\n",
        "            cache[i][j] = cache[i-1][j] + cache[i-1][j-1]\n",
        "\n",
        "    return cache[n][r]\n",
        "\n",
        "n, r = map(int, input().split())\n",
        "print(bino_coef(n, r))"
      ],
      "metadata": {
        "colab": {
          "base_uri": "https://localhost:8080/"
        },
        "id": "xv_OcuK3Uaga",
        "outputId": "f84e128f-722e-433e-d1ba-7d27449330c5"
      },
      "execution_count": null,
      "outputs": [
        {
          "output_type": "stream",
          "name": "stdout",
          "text": [
            "5 2\n",
            "10\n"
          ]
        }
      ]
    },
    {
      "cell_type": "markdown",
      "source": [
        "### **이항 계수** 문제"
      ],
      "metadata": {
        "id": "oEHdmcRlpV9e"
      }
    },
    {
      "cell_type": "markdown",
      "source": [
        "#### 동적 계획법 vs 분할 정복법\n",
        "\n",
        "- 문제를 작은 사례로 분할하여 해결한다는 점에서 동일\n",
        "- 분할정복: 재귀 호출을 통해 분할하여 정복 (Top-Down)\n",
        "- 동적계획: 메모이제이션을 통해 상향으로 정복 (Bottom-Up)\n",
        "- ex) 피보나치 수열"
      ],
      "metadata": {
        "id": "QwzxY12Ej2Bg"
      }
    },
    {
      "cell_type": "markdown",
      "source": [
        "#### 이항 계수의 정의  \n",
        "\n",
        "  $$ {n \\choose k} = \\frac{n!}{k! (n-k)!} , \\mbox{for }0 \\le k \\le n $$\n",
        "  \n",
        "  - 문제점: $n!, k!$의 값은 매우 크기 때문에 계산이 어렵다."
      ],
      "metadata": {
        "id": "NE6zXvWDpHdY"
      }
    },
    {
      "cell_type": "markdown",
      "source": [
        "### 이항계수의 성질: **파스칼의 삼각형**\n",
        "\n",
        "![스크린샷 2023-07-04 오후 3 48 20](https://github.com/Zamoca42/TIL/assets/96982072/0c977162-7dbe-4c11-a538-6fa5862e6cf2)"
      ],
      "metadata": {
        "id": "fUYdz1Y5ptYR"
      }
    },
    {
      "cell_type": "markdown",
      "source": [
        "#### 이항 계수의 재귀적 정의: **분할 정복(Divde-and-Conquer)**\n",
        "$$ {n \\choose k} = \\begin{cases}\n",
        "{n - 1 \\choose k - 1} + {n - 1 \\choose k} & \\mbox{for } 0 \\lt k \\lt n \\\\\n",
        "1 & k = 0 \\mbox{ or } k = n\n",
        "\\end{cases} $$"
      ],
      "metadata": {
        "id": "TG4eFEqok021"
      }
    },
    {
      "cell_type": "code",
      "source": [
        "def bino_coef(n, k):\n",
        "    if k == 0 or n == k:\n",
        "        return 1\n",
        "    return bino_coef(n-1, k) + bino_coef(n-1, k-1)\n",
        "\n",
        "\n",
        "print(bino_coef(4, 2))"
      ],
      "metadata": {
        "colab": {
          "base_uri": "https://localhost:8080/"
        },
        "id": "nClndk7konxC",
        "outputId": "bc74223d-370e-465b-eff7-750f66cc6779"
      },
      "execution_count": null,
      "outputs": [
        {
          "output_type": "stream",
          "name": "stdout",
          "text": [
            "6\n"
          ]
        }
      ]
    },
    {
      "cell_type": "markdown",
      "source": [
        "#### 재귀적 호출의 문제점\n",
        "\n",
        "- 부분문제의 중복(overlapping subproblems)으로 이 때문에 함수의 성능이 치명적으로 나쁘다\n",
        "\n",
        "![스크린샷 2023-07-04 오후 3 39 13](https://github.com/Zamoca42/TIL/assets/96982072/c5fb0154-ddaa-4abd-9388-3e38217513fd)\n"
      ],
      "metadata": {
        "id": "gf5B4tCGnWiF"
      }
    },
    {
      "cell_type": "markdown",
      "source": [
        "#### 동적 계획법으로 문제 풀기\n",
        "\n",
        "**1단계** : 문제를 해결할 수 있는 **재귀 관계식**을 구한다.\n",
        "\n",
        "- 이항 계수의 재귀적 정의를 찾았다.\n",
        "\n",
        "$$B[i][j] = \\begin{cases}\n",
        "B[i - 1][j - 1] + B[i - 1][j] & \\mbox{for } 0 \\lt j \\lt i \\\\\n",
        "1 & j = 0 \\mbox{ or } j = 0\n",
        "\\end{cases}  $$\n",
        "\n",
        "\n",
        "**2단계**: 가장 작은 입력사례로부터 **상향식 방법으로 문제를 해결한다**\n",
        "\n",
        "- 파스칼의 삼각형이 가진 특성을 이용한다\n",
        "- $ B[i][j] = 1, j=0 \\mbox{ or } j = 1$\n",
        "- $ B[i][j] = B[i - 1][j - 1] + B[i - 1][j], 0 \\lt j \\lt i$\n"
      ],
      "metadata": {
        "id": "jPjMrDbfjXge"
      }
    },
    {
      "cell_type": "markdown",
      "source": [
        "![스크린샷 2023-07-04 오후 5 19 02](https://github.com/Zamoca42/TIL/assets/96982072/0d9a9365-ddc9-42cd-9f5e-6a98064d4790)\n"
      ],
      "metadata": {
        "id": "c4JncLydtlJ4"
      }
    },
    {
      "cell_type": "code",
      "source": [
        "def bin2(n, k):\n",
        "  B = [[0] * (k + 1) for _ in range(n + 1)]\n",
        "\n",
        "  for i in range(n + 1):\n",
        "    for j in range(min(i, k) + 1):\n",
        "      if (j == 0 or j == i):\n",
        "        B[i][j] = 1\n",
        "      else:\n",
        "        B[i][j] = B[i - 1][j - 1] + B[i - 1][j]\n",
        "  return B[n][k]\n",
        "\n",
        "for n in range(10):\n",
        "  for k in range(n + 1):\n",
        "    print(bin2(n, k), end = \" \")\n",
        "  print()"
      ],
      "metadata": {
        "colab": {
          "base_uri": "https://localhost:8080/"
        },
        "id": "UbY_7si5_YFc",
        "outputId": "9e2f8447-b312-4033-d2a9-fd16296a245c"
      },
      "execution_count": null,
      "outputs": [
        {
          "output_type": "stream",
          "name": "stdout",
          "text": [
            "1 \n",
            "1 1 \n",
            "1 2 1 \n",
            "1 3 3 1 \n",
            "1 4 6 4 1 \n",
            "1 5 10 10 5 1 \n",
            "1 6 15 20 15 6 1 \n",
            "1 7 21 35 35 21 7 1 \n",
            "1 8 28 56 70 56 28 8 1 \n",
            "1 9 36 84 126 126 84 36 9 1 \n"
          ]
        }
      ]
    },
    {
      "cell_type": "code",
      "source": [
        "def bino_coef(n, r):\n",
        "    # 1.\n",
        "    cache = [[0 for _ in range(r+1)] for _ in range(n+1)]\n",
        "\n",
        "    # 2.\n",
        "    for i in range(n+1):\n",
        "        cache[i][0] = 1\n",
        "    for i in range(r+1):\n",
        "        cache[i][i] = 1\n",
        "\n",
        "    # 3.\n",
        "    for i in range(1, n+1):\n",
        "        for j in range(1, r+1):\n",
        "            cache[i][j] = cache[i-1][j] + cache[i-1][j-1]\n",
        "\n",
        "    return cache[n][r]\n",
        "\n",
        "print(bino_coef(4,2))"
      ],
      "metadata": {
        "colab": {
          "base_uri": "https://localhost:8080/"
        },
        "id": "n7sTX2VskK4Y",
        "outputId": "82fc7b8b-2654-4002-c2c0-b96b1d13d694"
      },
      "execution_count": null,
      "outputs": [
        {
          "output_type": "stream",
          "name": "stdout",
          "text": [
            "6\n"
          ]
        }
      ]
    },
    {
      "cell_type": "markdown",
      "source": [
        "#### 이항 계수의 시간 복잡도와 성능 개선\n",
        "\n",
        "- 동적계획법은 분할정복법보다 훨씬 효율적\n",
        "  - 분할정복법의 시간복잡도 $ O({n \\choose k})$\n",
        "  - 동적계획법의 시간복잡도 $ O(nk) $"
      ],
      "metadata": {
        "id": "DA3GFG28AKil"
      }
    },
    {
      "cell_type": "markdown",
      "source": [
        "#### 효율적인 이항계수 계산\n",
        "\n",
        "- 다음 성질을 이용하면 성능을 더 개선할 수 있다\n",
        "  - $ {n \\choose k} = { n \\choose n - k}$: k가 n/2보다 클 경우에 적용\n",
        "    - 파스칼 삼각형이 대칭을 이루기 때문\n",
        "\n",
        "- 2차원 리스트(배열)를 사용할 필요가 있는가?\n",
        "  - 1차원 리스트(배열)만으로도 구현이 가능\n",
        "  - 1차원 리스트를 뒤에서부터 업데이트 해나가면 이차원 배열을 사용할 필요가 없다\n",
        "\n"
      ],
      "metadata": {
        "id": "dzqidxy_C_H8"
      }
    },
    {
      "cell_type": "code",
      "source": [
        "def bin3 (n, k):\n",
        "  if (k > n // 2):\n",
        "    k = n - k\n",
        "  B = [0] * (k + 1)\n",
        "  B[0] = 1\n",
        "  for i in range(1, n + 1):\n",
        "    j = min(i, k)\n",
        "    while (j > 0):\n",
        "      B[j] = B[j] + B[j - 1]\n",
        "      j -= 1\n",
        "  return B[k]\n",
        "\n",
        "for n in range(10):\n",
        "  for k in range(n + 1):\n",
        "    print(bin3(n, k), end = \" \")\n",
        "  print()\n",
        "\n",
        "print(bin3(9, 5))"
      ],
      "metadata": {
        "colab": {
          "base_uri": "https://localhost:8080/"
        },
        "id": "ObzoWC99fVDM",
        "outputId": "a358cd49-36d3-45fe-aad9-04454e567230"
      },
      "execution_count": null,
      "outputs": [
        {
          "output_type": "stream",
          "name": "stdout",
          "text": [
            "1 \n",
            "1 1 \n",
            "1 2 1 \n",
            "1 3 3 1 \n",
            "1 4 6 4 1 \n",
            "1 5 10 10 5 1 \n",
            "1 6 15 20 15 6 1 \n",
            "1 7 21 35 35 21 7 1 \n",
            "1 8 28 56 70 56 28 8 1 \n",
            "1 9 36 84 126 126 84 36 9 1 \n",
            "126\n"
          ]
        }
      ]
    },
    {
      "cell_type": "markdown",
      "source": [
        "- 참고 링크\n",
        " - [파스칼의 삼각형](https://ko.wikipedia.org/wiki/%ED%8C%8C%EC%8A%A4%EC%B9%BC%EC%9D%98_%EC%82%BC%EA%B0%81%ED%98%95)\n",
        " - [강의 - 동적계획과 이항계수](https://youtu.be/Uzgz4c7SzBw)\n",
        " - [[조합론] 이항계수 알고리즘 3가지](https://shoark7.github.io/programming/algorithm/3-ways-to-get-binomial-coefficients)\n"
      ],
      "metadata": {
        "id": "guRPTJ20HcAW"
      }
    },
    {
      "cell_type": "markdown",
      "source": [
        "## 프린터 큐: https://www.acmicpc.net/problem/2108"
      ],
      "metadata": {
        "id": "aLhn9hzoH7Mr"
      }
    },
    {
      "cell_type": "code",
      "source": [
        "from collections import deque\n",
        "\n",
        "for _ in range(int(input())):\n",
        "  n, m = map(int, input().split())\n",
        "  documents = list(map(int, input().split()))\n",
        "  queue = deque()\n",
        "  importance = max(documents)\n",
        "\n",
        "  for i in range(len(documents)):\n",
        "    queue.append((documents[i], i))\n",
        "\n",
        "  count = 0\n",
        "  while True:\n",
        "    x = queue.popleft()\n",
        "\n",
        "    if x[0] == importance:\n",
        "      count += 1\n",
        "      if x[1] == m:\n",
        "        print(count)\n",
        "        break\n",
        "      else:\n",
        "        x = queue.popleft()\n",
        "        importance = max(queue)\n",
        "    else:\n",
        "      queue.append(x)"
      ],
      "metadata": {
        "colab": {
          "base_uri": "https://localhost:8080/"
        },
        "id": "b-9GplATIBCc",
        "outputId": "30dd12e7-b321-4a39-ac04-41616c86925d"
      },
      "execution_count": null,
      "outputs": [
        {
          "output_type": "stream",
          "name": "stdout",
          "text": [
            "1\n",
            "6 0\n",
            "1 1 9 1 1 1\n",
            "1\n"
          ]
        }
      ]
    },
    {
      "cell_type": "code",
      "source": [
        "for _ in range(int(input())):\n",
        "  n, m = list(map(int, input().split()))\n",
        "  queue = list(map(int, input().split()))\n",
        "  queue = [(i, idx) for idx, i in enumerate(queue)]\n",
        "\n",
        "  count = 0\n",
        "  while True:\n",
        "    if queue[0][0] == max(queue, key=lambda x: x[0])[0]:\n",
        "      count += 1\n",
        "      if queue[0][1] == m:\n",
        "        print(count)\n",
        "        break\n",
        "      else:\n",
        "        queue.pop(0)\n",
        "    else:\n",
        "      queue.append(queue.pop(0))"
      ],
      "metadata": {
        "colab": {
          "base_uri": "https://localhost:8080/"
        },
        "id": "-KH_WteZp0Ko",
        "outputId": "c150d2ef-86a0-4050-b217-ebc78826eda2"
      },
      "execution_count": null,
      "outputs": [
        {
          "output_type": "stream",
          "name": "stdout",
          "text": [
            "1\n",
            "6 0\n",
            "1 1 9 1 1 1\n",
            "5\n"
          ]
        }
      ]
    },
    {
      "cell_type": "markdown",
      "source": [
        "#### 알아야할 내용\n",
        "\n",
        "1. [`enumerate()`](https://www.daleseo.com/python-enumerate/) 함수는 기본적으로 인덱스와 원소로 이루어진 튜플(tuple)을 만들어줍니다. 인덱스(index)와 원소를 동시에 접근하면서 루프를 돌릴 수가 있는 `enumerate()`를 사용\n",
        "  \n",
        "2. [python - lambda](https://dojang.io/mod/page/view.php?id=2359)\n",
        "\n",
        "3. [max 와 lambda 사용](https://velog.io/@kjy5947/python-max%ED%95%A8%EC%88%98%EC%9D%98-key%EB%B3%80%EC%88%98-%EC%82%AC%EC%9A%A9)"
      ],
      "metadata": {
        "id": "YkaFzhqWtEDR"
      }
    },
    {
      "cell_type": "markdown",
      "source": [
        "# 2023 - 07 - 05"
      ],
      "metadata": {
        "id": "9xvBPRJ3jT56"
      }
    },
    {
      "cell_type": "markdown",
      "source": [
        "## 통계학: https://www.acmicpc.net/problem/2108"
      ],
      "metadata": {
        "id": "DA-tvTNsH9KC"
      }
    },
    {
      "cell_type": "code",
      "source": [
        "# import sys\n",
        "# input = sys.stdin.readline\n",
        "from collections import Counter\n",
        "\n",
        "N = int(input())\n",
        "numbers = []\n",
        "\n",
        "for _ in range(N):\n",
        "  numbers.append(int(input()))\n",
        "\n",
        "numbers.sort()\n",
        "count = Counter(numbers).most_common()\n",
        "\n",
        "print(round(sum(numbers) / N))\n",
        "print(numbers[N // 2])\n",
        "\n",
        "if len(count) > 1 and count[0][1] == count[1][1]:\n",
        "  print(count[1][0])\n",
        "else:\n",
        "  print(count[0][0])\n",
        "\n",
        "print(max(numbers) - min(numbers))"
      ],
      "metadata": {
        "id": "9RaxzpWoIBTh",
        "colab": {
          "base_uri": "https://localhost:8080/"
        },
        "outputId": "9b319adf-b869-441c-e7f3-8ccf94da7eb5"
      },
      "execution_count": 23,
      "outputs": [
        {
          "output_type": "stream",
          "name": "stdout",
          "text": [
            "5\n",
            "1\n",
            "3\n",
            "8\n",
            "-2\n",
            "2\n",
            "2\n",
            "2\n",
            "1\n",
            "10\n"
          ]
        }
      ]
    },
    {
      "cell_type": "markdown",
      "source": [
        "## 직각삼각형: https://www.acmicpc.net/problem/4153"
      ],
      "metadata": {
        "id": "HZ-wYtQHIKdT"
      }
    },
    {
      "cell_type": "code",
      "source": [
        "# import sys\n",
        "# input = sys.stdin.readline\n",
        "\n",
        "while True:\n",
        "  a, b, c = sorted(map(int, input().split())) # 문제에서 3번째 수가 제일 큰 변이라는 보장이 없습니다\n",
        "\n",
        "  if (a, b, c) == (0, 0, 0):\n",
        "    break\n",
        "\n",
        "  if (a ** 2) + (b ** 2) == c ** 2:\n",
        "    print('right')\n",
        "  else:\n",
        "    print('wrong')"
      ],
      "metadata": {
        "id": "LJwkBEX2IMeK",
        "colab": {
          "base_uri": "https://localhost:8080/"
        },
        "outputId": "b86e6ec2-e8b1-47b9-dcba-53f534d8b242"
      },
      "execution_count": 28,
      "outputs": [
        {
          "name": "stdout",
          "output_type": "stream",
          "text": [
            "10 8 6\n",
            "right\n",
            "13 12 5\n",
            "right\n",
            "25 52 60\n",
            "wrong\n",
            "0 0 0\n"
          ]
        }
      ]
    },
    {
      "cell_type": "markdown",
      "source": [
        "# 분해합: https://www.acmicpc.net/problem/2231"
      ],
      "metadata": {
        "id": "SkCO1A-nGQ8N"
      }
    },
    {
      "cell_type": "code",
      "source": [
        "result = []\n",
        "\n",
        "N = int(input())\n",
        "\n",
        "for i in range(1, N + 1):\n",
        "  sum_value = i\n",
        "  string_number = list(str(i))\n",
        "  for j in range(len(string_number)):\n",
        "    sum_value += int(string_number[j])\n",
        "  if sum_value == N:\n",
        "    result.append(i)\n",
        "\n",
        "if result:\n",
        "  print(min(result))\n",
        "else:\n",
        "  print(0)"
      ],
      "metadata": {
        "colab": {
          "base_uri": "https://localhost:8080/"
        },
        "id": "d5orn-BmAlU_",
        "outputId": "58a3e554-73b1-451c-f247-62a162489dfb"
      },
      "execution_count": 37,
      "outputs": [
        {
          "output_type": "stream",
          "name": "stdout",
          "text": [
            "216\n",
            "198\n"
          ]
        }
      ]
    },
    {
      "cell_type": "markdown",
      "source": [
        "# 벌집: https://www.acmicpc.net/problem/2292"
      ],
      "metadata": {
        "id": "ZnfKdzvJOLhz"
      }
    },
    {
      "cell_type": "code",
      "source": [
        "n = int(input())\n",
        "\n",
        "room = 1  # 벌집의 개수, 1개부터 시작\n",
        "cnt = 1\n",
        "while n > room :\n",
        "    room += 6 * cnt  # 벌집이 6의 배수로 증가\n",
        "    cnt += 1  # 반복문을 반복하는 횟수\n",
        "print(cnt)"
      ],
      "metadata": {
        "colab": {
          "base_uri": "https://localhost:8080/"
        },
        "id": "gw2RsXThIno7",
        "outputId": "46509402-9f35-4c1d-fa5a-d45be2b2d68b"
      },
      "execution_count": 39,
      "outputs": [
        {
          "output_type": "stream",
          "name": "stdout",
          "text": [
            "58\n",
            "5\n"
          ]
        }
      ]
    },
    {
      "cell_type": "code",
      "source": [],
      "metadata": {
        "id": "ReTUE0knOOaL"
      },
      "execution_count": null,
      "outputs": []
    }
  ]
}