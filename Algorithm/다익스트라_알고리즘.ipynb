{
  "nbformat": 4,
  "nbformat_minor": 0,
  "metadata": {
    "colab": {
      "provenance": [],
      "authorship_tag": "ABX9TyOlSsuZZ7lOGILJvbDBN2xA",
      "include_colab_link": true
    },
    "kernelspec": {
      "name": "python3",
      "display_name": "Python 3"
    },
    "language_info": {
      "name": "python"
    }
  },
  "cells": [
    {
      "cell_type": "markdown",
      "metadata": {
        "id": "view-in-github",
        "colab_type": "text"
      },
      "source": [
        "<a href=\"https://colab.research.google.com/github/Zamoca42/TIL/blob/main/Algorithm/%EB%8B%A4%EC%9D%B5%EC%8A%A4%ED%8A%B8%EB%9D%BC_%EC%95%8C%EA%B3%A0%EB%A6%AC%EC%A6%98.ipynb\" target=\"_parent\"><img src=\"https://colab.research.google.com/assets/colab-badge.svg\" alt=\"Open In Colab\"/></a>"
      ]
    },
    {
      "cell_type": "markdown",
      "source": [
        "### 최단 경로 알고리즘 - 다익스트라 알고리즘\n",
        "- 다익스트라 알고리즘은 위의 최단 경로 문제 종류 중, 2번에 해당\n",
        "  - 하나의 정점에서 다른 모든 정점 간의 각각 **가장 짧은 거리**를 구하는 문제\n",
        "\n",
        "### 다익스트라 알고리즘 로직\n",
        "- 첫 정점을 기준으로 연결되어 있는 정점들을 추가해 가며, 최단 거리를 갱신하는 기법\n",
        "- 다익스트라 알고리즘은 너비우선탐색(BFS)와 유사\n",
        "  - 첫 정점부터 각 노드간의 거리를 저장하는 배열을 만든 후, 첫 정점의 인접 노드 간의 거리부터 먼저 계산하면서, 첫 정점부터 해당 노드간의 가장 짧은 거리를 해당 배열에 업데이트\n",
        ">  다익스트라 알고리즘의 다양한 변형 로직이 있지만, 가장 개선된 우선순위 큐를 사용하는 방식에 집중해서 설명하기로 함\n",
        "\n",
        "- 우선순위 큐를 활용한 다익스트라 알고리즘\n",
        "  - 우선순위 큐는 MinHeap 방식을 활용해서, 현재 가장 짧은 거리를 가진 노드 정보를 먼저 꺼내게 됨\n",
        "\n",
        "  1) 첫 정점을 기준으로 배열을 선언하여 첫 정점에서 각 정점까지의 거리를 저장\n",
        "     - 초기에는 첫 정점의 거리는 0, 나머지는 무한대로 저장함 (inf 라고 표현함)\n",
        "     - 우선순위 큐에 (첫 정점, 거리 0) 만 먼저 넣음 \n",
        "  \n",
        "  2) 우선순위 큐에서 노드를 꺼냄\n",
        "     - 처음에는 첫 정점만 저장되어 있으므로, 첫 정점이 꺼내짐\n",
        "     - 첫 정점에 인접한 노드들 각각에 대해, 첫 정점에서 각 노드로 가는 거리와 현재 배열에 저장되어 있는 첫 정점에서 각 정점까지의 거리를 비교한다.\n",
        "     - 배열에 저장되어 있는 거리보다, 첫 정점에서 해당 노드로 가는 거리가 더 짧을 경우, 배열에 해당 노드의 거리를 업데이트한다.\n",
        "     - 배열에 해당 노드의 거리가 업데이트된 경우, 우선순위 큐에 넣는다.\n",
        "       - 결과적으로 너비 우선 탐색 방식과 유사하게, 첫 정점에 인접한 노드들을 순차적으로 방문하게 됨\n",
        "       - 만약 배열에 기록된 현재까지 발견된 가장 짧은 거리보다, 더 긴 거리(루트)를 가진 (노드, 거리)의 경우에는 해당 노드와 인접한 노드간의 거리 계산을 하지 않음\n",
        "\n",
        "  3) 2번의 과정을 우선순위 큐에 꺼낼 노드가 없을 때까지 반복한다."
      ],
      "metadata": {
        "id": "aYgxtk790ggP"
      }
    },
    {
      "cell_type": "markdown",
      "source": [
        "<img src=\"https://www.fun-coding.org/00_Images/dijkstra.png\" width=300>"
      ],
      "metadata": {
        "id": "OOE1XOzd0l3f"
      }
    },
    {
      "cell_type": "markdown",
      "source": [
        "### 참고: heapq 라이브러리 활용을 통해 우선순위 큐 사용하기\n",
        "- 데이터가 리스트 형태일 경우, 0번 인덱스를 우선순위로 인지, 우선순위가 낮은 순서대로 pop 할 수 있음"
      ],
      "metadata": {
        "id": "yMFp-qBD0rpj"
      }
    },
    {
      "cell_type": "code",
      "execution_count": 2,
      "metadata": {
        "colab": {
          "base_uri": "https://localhost:8080/"
        },
        "id": "MtNU7Mwm9AV1",
        "outputId": "4b47ffe8-2d09-4e72-a4ec-0440c0244eaf"
      },
      "outputs": [
        {
          "output_type": "stream",
          "name": "stdout",
          "text": [
            "[[1, 'C'], [5, 'B'], [2, 'A'], [7, 'D']]\n",
            "[1, 'C']\n",
            "[2, 'A']\n",
            "[5, 'B']\n",
            "[7, 'D']\n"
          ]
        }
      ],
      "source": [
        "import heapq\n",
        "\n",
        "queue = []\n",
        "\n",
        "heapq.heappush(queue, [2, 'A'])\n",
        "heapq.heappush(queue, [5, 'B'])\n",
        "heapq.heappush(queue, [1, 'C'])\n",
        "heapq.heappush(queue, [7, 'D'])\n",
        "print(queue)\n",
        "\n",
        "for index in range(len(queue)):\n",
        "  print(heapq.heappop(queue))"
      ]
    },
    {
      "cell_type": "markdown",
      "source": [
        "### 다익스트라 알고리즘\n",
        "- 탐색할 그래프의 시작 정점과 다른 정점들간의 최단 거리 구하기"
      ],
      "metadata": {
        "id": "JUyykNZc0tWK"
      }
    },
    {
      "cell_type": "code",
      "source": [
        "mygraph = {\n",
        "    'A': {'B': 8, 'C': 1, 'D': 2},\n",
        "    'B': {},\n",
        "    'C': {'B': 5, 'D': 2},\n",
        "    'D': {'E': 3, 'F': 5},\n",
        "    'E': {'F': 1},\n",
        "    'F': {'A': 5},\n",
        "}"
      ],
      "metadata": {
        "id": "WWcpXtcE2wF9"
      },
      "execution_count": 3,
      "outputs": []
    },
    {
      "cell_type": "code",
      "source": [
        "import heapq\n",
        "\n",
        "def dijksta(graph, start):\n",
        "  distances = { node: float('inf') for node in graph }\n",
        "  distances[start] = 0\n",
        "  queue = []\n",
        "\n",
        "  heapq.heappush(queue, [distances[start], start])\n",
        "\n",
        "  while queue:\n",
        "    current_distance, current_node = heapq.heappop(queue)\n",
        "\n",
        "    if distances[current_node] < current_distance:\n",
        "      continue\n",
        "    \n",
        "    for adjacent, weight in graph[current_node].items():\n",
        "      distance = current_distance + weight\n",
        "      \n",
        "      if distance < distances[adjacent]:\n",
        "        distances[adjacent] = distance\n",
        "        heapq.heappush(queue, [distance, adjacent])\n",
        "  \n",
        "  return distances"
      ],
      "metadata": {
        "id": "DApAWo4p4R0D"
      },
      "execution_count": 6,
      "outputs": []
    },
    {
      "cell_type": "code",
      "source": [
        "dijksta(mygraph, 'A')"
      ],
      "metadata": {
        "colab": {
          "base_uri": "https://localhost:8080/"
        },
        "id": "xK0uB_4j9WS0",
        "outputId": "037e2799-b38f-423b-e7e1-a26922115bf0"
      },
      "execution_count": 7,
      "outputs": [
        {
          "output_type": "execute_result",
          "data": {
            "text/plain": [
              "{'A': 0, 'B': 6, 'C': 1, 'D': 2, 'E': 5, 'F': 6}"
            ]
          },
          "metadata": {},
          "execution_count": 7
        }
      ]
    }
  ]
}