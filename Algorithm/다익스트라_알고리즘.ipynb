{
  "nbformat": 4,
  "nbformat_minor": 0,
  "metadata": {
    "colab": {
      "provenance": [],
      "authorship_tag": "ABX9TyPG+u2fTp0Qcq5gnRGiJSPu",
      "include_colab_link": true
    },
    "kernelspec": {
      "name": "python3",
      "display_name": "Python 3"
    },
    "language_info": {
      "name": "python"
    }
  },
  "cells": [
    {
      "cell_type": "markdown",
      "metadata": {
        "id": "view-in-github",
        "colab_type": "text"
      },
      "source": [
        "<a href=\"https://colab.research.google.com/github/Zamoca42/TIL/blob/main/Algorithm/%EB%8B%A4%EC%9D%B5%EC%8A%A4%ED%8A%B8%EB%9D%BC_%EC%95%8C%EA%B3%A0%EB%A6%AC%EC%A6%98.ipynb\" target=\"_parent\"><img src=\"https://colab.research.google.com/assets/colab-badge.svg\" alt=\"Open In Colab\"/></a>"
      ]
    },
    {
      "cell_type": "code",
      "execution_count": 2,
      "metadata": {
        "colab": {
          "base_uri": "https://localhost:8080/"
        },
        "id": "MtNU7Mwm9AV1",
        "outputId": "4b47ffe8-2d09-4e72-a4ec-0440c0244eaf"
      },
      "outputs": [
        {
          "output_type": "stream",
          "name": "stdout",
          "text": [
            "[[1, 'C'], [5, 'B'], [2, 'A'], [7, 'D']]\n",
            "[1, 'C']\n",
            "[2, 'A']\n",
            "[5, 'B']\n",
            "[7, 'D']\n"
          ]
        }
      ],
      "source": [
        "import heapq\n",
        "\n",
        "queue = []\n",
        "\n",
        "heapq.heappush(queue, [2, 'A'])\n",
        "heapq.heappush(queue, [5, 'B'])\n",
        "heapq.heappush(queue, [1, 'C'])\n",
        "heapq.heappush(queue, [7, 'D'])\n",
        "print(queue)\n",
        "\n",
        "for index in range(len(queue)):\n",
        "  print(heapq.heappop(queue))"
      ]
    },
    {
      "cell_type": "code",
      "source": [
        "mygraph = {\n",
        "    'A': {'B': 8, 'C': 1, 'D': 2},\n",
        "    'B': {},\n",
        "    'C': {'B': 5, 'D': 2},\n",
        "    'D': {'E': 3, 'F': 5},\n",
        "    'E': {'F': 1},\n",
        "    'F': {'A': 5},\n",
        "}"
      ],
      "metadata": {
        "id": "WWcpXtcE2wF9"
      },
      "execution_count": 3,
      "outputs": []
    },
    {
      "cell_type": "code",
      "source": [
        "import heapq\n",
        "\n",
        "def dijksta(graph, start):\n",
        "  distances = { node: float('inf') for node in graph }\n",
        "  distances[start] = 0\n",
        "  queue = []\n",
        "\n",
        "  heapq.heappush(queue, [distances[start], start])\n",
        "\n",
        "  while queue:\n",
        "    current_distance, current_node = heapq.heappop(queue)\n",
        "\n",
        "    if distances[current_node] < current_distance:\n",
        "      continue\n",
        "    \n",
        "    for adjacent, weight in graph[current_node].items():\n",
        "      distance = current_distance + weight\n",
        "      \n",
        "      if distance < distances[adjacent]:\n",
        "        distances[adjacent] = distance\n",
        "        heapq.heappush(queue, [distance, adjacent])\n",
        "  \n",
        "  return distances"
      ],
      "metadata": {
        "id": "DApAWo4p4R0D"
      },
      "execution_count": 6,
      "outputs": []
    },
    {
      "cell_type": "code",
      "source": [
        "dijksta(mygraph, 'A')"
      ],
      "metadata": {
        "colab": {
          "base_uri": "https://localhost:8080/"
        },
        "id": "xK0uB_4j9WS0",
        "outputId": "037e2799-b38f-423b-e7e1-a26922115bf0"
      },
      "execution_count": 7,
      "outputs": [
        {
          "output_type": "execute_result",
          "data": {
            "text/plain": [
              "{'A': 0, 'B': 6, 'C': 1, 'D': 2, 'E': 5, 'F': 6}"
            ]
          },
          "metadata": {},
          "execution_count": 7
        }
      ]
    },
    {
      "cell_type": "code",
      "source": [],
      "metadata": {
        "id": "oDpStpy-9agI"
      },
      "execution_count": null,
      "outputs": []
    }
  ]
}