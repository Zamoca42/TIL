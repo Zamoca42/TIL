{
  "nbformat": 4,
  "nbformat_minor": 0,
  "metadata": {
    "colab": {
      "provenance": [],
      "authorship_tag": "ABX9TyPIwh3pEATKOL2pfbB2ykGB",
      "include_colab_link": true
    },
    "kernelspec": {
      "name": "python3",
      "display_name": "Python 3"
    },
    "language_info": {
      "name": "python"
    }
  },
  "cells": [
    {
      "cell_type": "markdown",
      "metadata": {
        "id": "view-in-github",
        "colab_type": "text"
      },
      "source": [
        "<a href=\"https://colab.research.google.com/github/Zamoca42/TIL/blob/main/Algorithm/Boj_bronze5.ipynb\" target=\"_parent\"><img src=\"https://colab.research.google.com/assets/colab-badge.svg\" alt=\"Open In Colab\"/></a>"
      ]
    },
    {
      "cell_type": "markdown",
      "source": [
        "## 엄청난 부자2: https://www.acmicpc.net/problem/1271"
      ],
      "metadata": {
        "id": "-aGyRZQ330FQ"
      }
    },
    {
      "cell_type": "code",
      "execution_count": null,
      "metadata": {
        "colab": {
          "base_uri": "https://localhost:8080/"
        },
        "id": "N9di9YwN3tMJ",
        "outputId": "3608c6ba-f8f7-48f8-dc58-3125ba5428fd"
      },
      "outputs": [
        {
          "name": "stdout",
          "output_type": "stream",
          "text": [
            "1000 100\n"
          ]
        }
      ],
      "source": [
        "n, m = map(int, input().split())"
      ]
    },
    {
      "cell_type": "code",
      "source": [
        "print(n // m)\n",
        "print(n % m)"
      ],
      "metadata": {
        "colab": {
          "base_uri": "https://localhost:8080/"
        },
        "id": "E9Ueyfi-37wX",
        "outputId": "f18b63c9-ad30-42e6-bc77-0cfe47f65e1c"
      },
      "execution_count": null,
      "outputs": [
        {
          "output_type": "stream",
          "name": "stdout",
          "text": [
            "10\n",
            "0\n"
          ]
        }
      ]
    },
    {
      "cell_type": "markdown",
      "source": [
        "## 긴자리 계산: https://www.acmicpc.net/problem/2338"
      ],
      "metadata": {
        "id": "q2TWo_hj4TyB"
      }
    },
    {
      "cell_type": "code",
      "source": [
        "a = input()\n",
        "b = input()\n",
        "\n",
        "operator = ['+', '-', '*']\n",
        "\n",
        "for i in operator:\n",
        "  print(eval(a + i + b))"
      ],
      "metadata": {
        "colab": {
          "base_uri": "https://localhost:8080/"
        },
        "id": "M0mJFl3F4FjC",
        "outputId": "b262b6ae-1c08-4a7e-a8b3-530c53436d85"
      },
      "execution_count": null,
      "outputs": [
        {
          "output_type": "stream",
          "name": "stdout",
          "text": [
            "1\n",
            "-1\n",
            "0\n",
            "2\n",
            "-1\n"
          ]
        }
      ]
    },
    {
      "cell_type": "markdown",
      "source": [
        "## A+B - 2: https://www.acmicpc.net/problem/2558"
      ],
      "metadata": {
        "id": "GzXSrZ1J5D7H"
      }
    },
    {
      "cell_type": "code",
      "source": [
        "a = int(input())\n",
        "b = int(input())\n",
        "\n",
        "print(a + b)"
      ],
      "metadata": {
        "colab": {
          "base_uri": "https://localhost:8080/"
        },
        "id": "lkkBSzoO4v2w",
        "outputId": "9f0c1028-51cc-4fcc-de59-cdf4c9264f52"
      },
      "execution_count": null,
      "outputs": [
        {
          "output_type": "stream",
          "name": "stdout",
          "text": [
            "1\n",
            "2\n",
            "3\n"
          ]
        }
      ]
    },
    {
      "cell_type": "markdown",
      "source": [
        "## 단어 길이 재기: https://www.acmicpc.net/problem/2743"
      ],
      "metadata": {
        "id": "IFldTD3T5UFz"
      }
    },
    {
      "cell_type": "code",
      "source": [
        "string = input()\n",
        "\n",
        "print(len(string))"
      ],
      "metadata": {
        "colab": {
          "base_uri": "https://localhost:8080/"
        },
        "id": "RXZ_b3nV5Pti",
        "outputId": "44801822-a12c-4aa9-dc90-647444d0bac7"
      },
      "execution_count": null,
      "outputs": [
        {
          "output_type": "stream",
          "name": "stdout",
          "text": [
            "pulljima\n",
            "8\n"
          ]
        }
      ]
    },
    {
      "cell_type": "markdown",
      "source": [
        "## 대소문자 바꾸기: https://www.acmicpc.net/problem/2744"
      ],
      "metadata": {
        "id": "LCx-uCdp5c6N"
      }
    },
    {
      "cell_type": "code",
      "source": [
        "string = input()\n",
        "\n",
        "print(string.swapcase())"
      ],
      "metadata": {
        "colab": {
          "base_uri": "https://localhost:8080/"
        },
        "id": "z98TYHoK5bAV",
        "outputId": "32283ac1-f2dc-4e7e-d4ca-9c01d2bc3d31"
      },
      "execution_count": null,
      "outputs": [
        {
          "output_type": "stream",
          "name": "stdout",
          "text": [
            "WrongAnswer\n",
            "wRONGaNSWER\n"
          ]
        }
      ]
    },
    {
      "cell_type": "markdown",
      "source": [
        "## 학점계산: https://www.acmicpc.net/problem/2754"
      ],
      "metadata": {
        "id": "RX2AnpC66Mmc"
      }
    },
    {
      "cell_type": "code",
      "source": [
        "n = input()\n",
        "\n",
        "score = {\n",
        "    'A': 4,\n",
        "    'B': 3,\n",
        "    'C': 2,\n",
        "    'D': 1,\n",
        "    'F': 0,\n",
        "    '+': 0.3,\n",
        "    '0': 0.0,\n",
        "    '-': -0.3,\n",
        "}\n",
        "\n",
        "print(float(score[n[0]] + score[n[1]] if n[0] != 'F' else 0))"
      ],
      "metadata": {
        "colab": {
          "base_uri": "https://localhost:8080/"
        },
        "id": "0jgXqMGG6BNU",
        "outputId": "e835aeb8-7d2d-4ae3-e1aa-c05e82ec3576"
      },
      "execution_count": null,
      "outputs": [
        {
          "output_type": "stream",
          "name": "stdout",
          "text": [
            "A-\n",
            "3.7\n"
          ]
        }
      ]
    },
    {
      "cell_type": "code",
      "source": [
        "n = input()\n",
        "\n",
        "score = {\n",
        "    '+': 0.3,\n",
        "    '0': 0.0,\n",
        "    '-': -0.3,\n",
        "}\n",
        "\n",
        "print(float(69 - ord(n[0]) + score[n[1]] if n[0] != 'F' else 0))"
      ],
      "metadata": {
        "colab": {
          "base_uri": "https://localhost:8080/"
        },
        "id": "fbQZLLOO7MEZ",
        "outputId": "ec9b3a17-5b1f-475f-d501-f08d8d0b29b7"
      },
      "execution_count": null,
      "outputs": [
        {
          "output_type": "stream",
          "name": "stdout",
          "text": [
            "A-\n",
            "3.7\n"
          ]
        }
      ]
    },
    {
      "cell_type": "markdown",
      "source": [
        "## 킹, 퀸, 룩, 비숍, 나이트, 폰: https://www.acmicpc.net/problem/3003"
      ],
      "metadata": {
        "id": "tqYJAS45-WnA"
      }
    },
    {
      "cell_type": "code",
      "source": [
        "n = list(map(int, input().split()))\n",
        "result = [1, 1, 2, 2, 2, 8]\n",
        "\n",
        "for i in range(len(n)):\n",
        "  result[i] -= n[i]\n",
        "  print(result[i], end=' ')"
      ],
      "metadata": {
        "colab": {
          "base_uri": "https://localhost:8080/"
        },
        "id": "sSGVWzQx9j_n",
        "outputId": "20d01f4f-15d1-4d2e-c5d0-476bc6b51e23"
      },
      "execution_count": null,
      "outputs": [
        {
          "output_type": "stream",
          "name": "stdout",
          "text": [
            "2 1 2 1 2 1\n",
            "-1 0 0 1 0 7 "
          ]
        }
      ]
    },
    {
      "cell_type": "markdown",
      "source": [
        "## 크냐?: https://www.acmicpc.net/problem/4101"
      ],
      "metadata": {
        "id": "OsvZX3Vv_d-B"
      }
    },
    {
      "cell_type": "code",
      "source": [
        "# import sys\n",
        "# input = sys.stdin.readline\n",
        "\n",
        "while True:\n",
        "  a, b = map(int, input().split())\n",
        "\n",
        "  if (a, b) == (0, 0):\n",
        "    break\n",
        "\n",
        "  if a > b:\n",
        "    print('Yes')\n",
        "  else:\n",
        "    print('No')"
      ],
      "metadata": {
        "colab": {
          "base_uri": "https://localhost:8080/"
        },
        "id": "CY7NvVbx-6z0",
        "outputId": "607cf888-89ea-496b-f043-6475efb80dd4"
      },
      "execution_count": null,
      "outputs": [
        {
          "name": "stdout",
          "output_type": "stream",
          "text": [
            "1 19\n",
            "No\n",
            "4 4\n",
            "No\n",
            "23 14\n",
            "Yes\n",
            "0 0\n"
          ]
        }
      ]
    },
    {
      "cell_type": "markdown",
      "source": [
        "## 아!: https://www.acmicpc.net/problem/4999"
      ],
      "metadata": {
        "id": "YvcwJhnkA1lY"
      }
    },
    {
      "cell_type": "code",
      "source": [
        "n = input()\n",
        "m = input()\n",
        "\n",
        "if len(n) >= len(m):\n",
        "  print('go')\n",
        "else:\n",
        "  print('no')"
      ],
      "metadata": {
        "colab": {
          "base_uri": "https://localhost:8080/"
        },
        "id": "jQu7wrU5_1QM",
        "outputId": "ab9461f3-d080-46c4-d33b-e84d2e4c74ee"
      },
      "execution_count": null,
      "outputs": [
        {
          "output_type": "stream",
          "name": "stdout",
          "text": [
            "aaah\n",
            "ah\n",
            "go\n"
          ]
        }
      ]
    },
    {
      "cell_type": "markdown",
      "source": [
        "## 카드 게임: https://www.acmicpc.net/problem/5522"
      ],
      "metadata": {
        "id": "t1T7SdM-CKMn"
      }
    },
    {
      "cell_type": "code",
      "source": [
        "# import sys\n",
        "# input = sys.stdin.readline\n",
        "\n",
        "result = 0\n",
        "\n",
        "for _ in range(5):\n",
        "  result += int(input())\n",
        "\n",
        "print(result)"
      ],
      "metadata": {
        "colab": {
          "base_uri": "https://localhost:8080/"
        },
        "id": "QKrcapd3BbM4",
        "outputId": "710f2b00-330c-4223-fd53-395645a15bc0"
      },
      "execution_count": null,
      "outputs": [
        {
          "output_type": "stream",
          "name": "stdout",
          "text": [
            "1\n",
            "2\n",
            "3\n",
            "4\n",
            "5\n",
            "15\n"
          ]
        }
      ]
    },
    {
      "cell_type": "markdown",
      "source": [
        "## 과제 안 내신 분..?: https://www.acmicpc.net/problem/5597"
      ],
      "metadata": {
        "id": "48cuBmS_NmIN"
      }
    },
    {
      "cell_type": "code",
      "source": [
        "# import sys\n",
        "# input = sys.stdin.readline\n",
        "\n",
        "result = [False] * 31\n",
        "\n",
        "for i in range(28):\n",
        "  n = int(input())\n",
        "  result[n] = True\n",
        "\n",
        "for i in range(1, len(result)):\n",
        "  if not result[i]:\n",
        "    print(i)"
      ],
      "metadata": {
        "colab": {
          "base_uri": "https://localhost:8080/"
        },
        "id": "hpmMe_UkCZlb",
        "outputId": "cb17f581-a187-4281-d6bf-84489ecf7998"
      },
      "execution_count": null,
      "outputs": [
        {
          "output_type": "stream",
          "name": "stdout",
          "text": [
            "3\n",
            "1\n",
            "4\n",
            "5\n",
            "7\n",
            "9\n",
            "6\n",
            "10\n",
            "11\n",
            "12\n",
            "13\n",
            "14\n",
            "15\n",
            "16\n",
            "17\n",
            "18\n",
            "19\n",
            "20\n",
            "21\n",
            "22\n",
            "23\n",
            "24\n",
            "25\n",
            "26\n",
            "27\n",
            "28\n",
            "29\n",
            "30\n",
            "2\n",
            "8\n"
          ]
        }
      ]
    },
    {
      "cell_type": "markdown",
      "source": [
        "## 합: https://www.acmicpc.net/problem/8393"
      ],
      "metadata": {
        "id": "1yxYsBz4QMHe"
      }
    },
    {
      "cell_type": "code",
      "source": [
        "n = int(input())\n",
        "result = 0\n",
        "\n",
        "for i in range(1, n + 1):\n",
        "  result += i\n",
        "\n",
        "print(result)"
      ],
      "metadata": {
        "colab": {
          "base_uri": "https://localhost:8080/"
        },
        "id": "kDxMLlfVOgR4",
        "outputId": "0570bc24-256f-4f95-80b2-41e7e0266796"
      },
      "execution_count": null,
      "outputs": [
        {
          "output_type": "stream",
          "name": "stdout",
          "text": [
            "3\n",
            "6\n"
          ]
        }
      ]
    },
    {
      "cell_type": "markdown",
      "source": [
        "## 문자열: https://www.acmicpc.net/problem/9086"
      ],
      "metadata": {
        "id": "4_hJq6hNQi7Z"
      }
    },
    {
      "cell_type": "code",
      "source": [
        "# import sys\n",
        "# input = sys.stdin.readline\n",
        "\n",
        "for _ in range(int(input())):\n",
        "  string = input()\n",
        "  print(string[0] + string[-1])"
      ],
      "metadata": {
        "colab": {
          "base_uri": "https://localhost:8080/"
        },
        "id": "ijU4oG4rQls2",
        "outputId": "52ce610a-3552-4f24-8712-97b0eae958d1"
      },
      "execution_count": null,
      "outputs": [
        {
          "output_type": "stream",
          "name": "stdout",
          "text": [
            "3\n",
            "ACDKJFOWIEGHE\n",
            "AE\n",
            "O\n",
            "OO\n",
            "AB\n",
            "AB\n"
          ]
        }
      ]
    },
    {
      "cell_type": "markdown",
      "source": [
        "- sys.stdin.readline 사용시 틀림으로 처리\n"
      ],
      "metadata": {
        "id": "vf1nCCYSRqqq"
      }
    },
    {
      "cell_type": "markdown",
      "source": [
        "## 나머지: https://www.acmicpc.net/problem/10430"
      ],
      "metadata": {
        "id": "8XfHwL7zTXZS"
      }
    },
    {
      "cell_type": "code",
      "source": [
        "def moding(num):\n",
        "  return int(num % c)\n",
        "\n",
        "a, b, c = map(int, input().split())\n",
        "\n",
        "print(moding(a + b))\n",
        "print(moding(moding(a) + moding(b)))\n",
        "print(moding(a * b))\n",
        "print(moding(moding(a) * moding(b)))"
      ],
      "metadata": {
        "colab": {
          "base_uri": "https://localhost:8080/"
        },
        "id": "qchEcH96QzbF",
        "outputId": "9984d447-954f-4bae-a71e-dc1b35854ea1"
      },
      "execution_count": null,
      "outputs": [
        {
          "output_type": "stream",
          "name": "stdout",
          "text": [
            "5 8 4\n",
            "1\n",
            "1\n",
            "0\n",
            "0\n"
          ]
        }
      ]
    },
    {
      "cell_type": "markdown",
      "source": [
        "## 오늘 날짜: https://www.acmicpc.net/problem/10699"
      ],
      "metadata": {
        "id": "795C0pMsUv8q"
      }
    },
    {
      "cell_type": "code",
      "source": [
        "from datetime import datetime\n",
        "\n",
        "print(datetime.today().strftime(\"%Y-%m-%d\"))"
      ],
      "metadata": {
        "colab": {
          "base_uri": "https://localhost:8080/"
        },
        "id": "wmSm6gpDURoH",
        "outputId": "2ea3b52b-8945-4f8c-b870-4027627c0e3c"
      },
      "execution_count": null,
      "outputs": [
        {
          "output_type": "stream",
          "name": "stdout",
          "text": [
            "2023-07-07\n"
          ]
        }
      ]
    },
    {
      "cell_type": "markdown",
      "source": [
        "## 큰 수 A+B: https://www.acmicpc.net/problem/10757"
      ],
      "metadata": {
        "id": "yjFP59mZbeKI"
      }
    },
    {
      "cell_type": "code",
      "source": [
        "a, b = map(int, input().split())\n",
        "\n",
        "print(a + b)"
      ],
      "metadata": {
        "colab": {
          "base_uri": "https://localhost:8080/"
        },
        "id": "Fo7tRyiBVKI7",
        "outputId": "179ce6ff-7710-4057-9d30-4aec6126cb7a"
      },
      "execution_count": null,
      "outputs": [
        {
          "output_type": "stream",
          "name": "stdout",
          "text": [
            "9223372036854775807 9223372036854775808\n",
            "18446744073709551615\n"
          ]
        }
      ]
    },
    {
      "cell_type": "markdown",
      "source": [
        "## 개수 세기: https://www.acmicpc.net/problem/10807"
      ],
      "metadata": {
        "id": "kcmXHxBEcpRH"
      }
    },
    {
      "cell_type": "code",
      "source": [
        "# import sys\n",
        "# input = sys.stdin.readline\n",
        "\n",
        "N = int(input())\n",
        "count = [0 for i in range(N + 1)]\n",
        "\n",
        "numbers = list(map(int, input().split()))\n",
        "for number in numbers:\n",
        "  count[number] += 1\n",
        "\n",
        "find_num = int(input())\n",
        "\n",
        "print(count[find_num])"
      ],
      "metadata": {
        "colab": {
          "base_uri": "https://localhost:8080/",
          "height": 253
        },
        "id": "1Wwuf20_bpBA",
        "outputId": "6feb6532-dcd0-4a32-c28a-c3d648641d26"
      },
      "execution_count": null,
      "outputs": [
        {
          "name": "stdout",
          "output_type": "stream",
          "text": [
            "11\n",
            "1 4 1 2 4 2 4 2 3 4 4\n",
            "-100\n"
          ]
        },
        {
          "output_type": "error",
          "ename": "IndexError",
          "evalue": "ignored",
          "traceback": [
            "\u001b[0;31m---------------------------------------------------------------------------\u001b[0m",
            "\u001b[0;31mIndexError\u001b[0m                                Traceback (most recent call last)",
            "\u001b[0;32m<ipython-input-46-e4c8c1381f33>\u001b[0m in \u001b[0;36m<cell line: 13>\u001b[0;34m()\u001b[0m\n\u001b[1;32m     11\u001b[0m \u001b[0mfind_num\u001b[0m \u001b[0;34m=\u001b[0m \u001b[0mint\u001b[0m\u001b[0;34m(\u001b[0m\u001b[0minput\u001b[0m\u001b[0;34m(\u001b[0m\u001b[0;34m)\u001b[0m\u001b[0;34m)\u001b[0m\u001b[0;34m\u001b[0m\u001b[0;34m\u001b[0m\u001b[0m\n\u001b[1;32m     12\u001b[0m \u001b[0;34m\u001b[0m\u001b[0m\n\u001b[0;32m---> 13\u001b[0;31m \u001b[0mprint\u001b[0m\u001b[0;34m(\u001b[0m\u001b[0mcount\u001b[0m\u001b[0;34m[\u001b[0m\u001b[0mfind_num\u001b[0m\u001b[0;34m]\u001b[0m\u001b[0;34m)\u001b[0m\u001b[0;34m\u001b[0m\u001b[0;34m\u001b[0m\u001b[0m\n\u001b[0m",
            "\u001b[0;31mIndexError\u001b[0m: list index out of range"
          ]
        }
      ]
    },
    {
      "cell_type": "markdown",
      "source": [
        "### 문제가 풀리지 않는 이유"
      ],
      "metadata": {
        "id": "RnquhtuqftGj"
      }
    },
    {
      "cell_type": "markdown",
      "source": [
        "- 위의 코드는 찾으려는 정수 -100 <= v <= 100을 만족하지 못한다 (IndexError)"
      ],
      "metadata": {
        "id": "uM_MQUxHfOgW"
      }
    },
    {
      "cell_type": "markdown",
      "source": [
        "### 해결 방법"
      ],
      "metadata": {
        "id": "5kKptKkufwRB"
      }
    },
    {
      "cell_type": "markdown",
      "source": [
        "- list대신 내장 메서드인 count를 사용"
      ],
      "metadata": {
        "id": "xpR-OQMQfnwz"
      }
    },
    {
      "cell_type": "code",
      "source": [
        "# import sys\n",
        "# input = sys.stdin.readline\n",
        "\n",
        "N = int(input())\n",
        "numbers = list(map(int, input().split()))\n",
        "find_num = int(input())\n",
        "\n",
        "print(numbers.count(find_num))"
      ],
      "metadata": {
        "colab": {
          "base_uri": "https://localhost:8080/"
        },
        "id": "MPRwnxgSdcH3",
        "outputId": "474245b5-00c7-41c4-930c-97810c6672f7"
      },
      "execution_count": null,
      "outputs": [
        {
          "output_type": "stream",
          "name": "stdout",
          "text": [
            "11\n",
            "1 4 1 2 4 2 4 2 3 4 4\n",
            "-100\n",
            "0\n"
          ]
        }
      ]
    },
    {
      "cell_type": "markdown",
      "source": [
        "## 팩토리얼: https://www.acmicpc.net/problem/10872"
      ],
      "metadata": {
        "id": "feOvOCfFgF26"
      }
    },
    {
      "cell_type": "code",
      "source": [
        "N = int(input())\n",
        "result = 1\n",
        "\n",
        "if N:\n",
        "  for i in range(1, N + 1):\n",
        "    result *= i\n",
        "  print(result)\n",
        "else:\n",
        "  print(result)"
      ],
      "metadata": {
        "colab": {
          "base_uri": "https://localhost:8080/"
        },
        "id": "kWBGkEyPffTG",
        "outputId": "3f6bc755-3c07-4b42-f2b1-1913048eb62d"
      },
      "execution_count": null,
      "outputs": [
        {
          "output_type": "stream",
          "name": "stdout",
          "text": [
            "0\n",
            "1\n"
          ]
        }
      ]
    },
    {
      "cell_type": "markdown",
      "source": [
        "## ??!: https://www.acmicpc.net/problem/10926"
      ],
      "metadata": {
        "id": "nVScp9lgg_lV"
      }
    },
    {
      "cell_type": "code",
      "source": [
        "print(input() + '??!')"
      ],
      "metadata": {
        "colab": {
          "base_uri": "https://localhost:8080/"
        },
        "id": "0kRC4DSZgaWP",
        "outputId": "f8534a29-f2c4-4548-c09f-559decce5f54"
      },
      "execution_count": null,
      "outputs": [
        {
          "output_type": "stream",
          "name": "stdout",
          "text": [
            "baekjoon\n",
            "baekjoon??!\n"
          ]
        }
      ]
    },
    {
      "cell_type": "markdown",
      "source": [
        "## A+B - 7: https://www.acmicpc.net/problem/11021"
      ],
      "metadata": {
        "id": "_EfZTMqNhvPt"
      }
    },
    {
      "cell_type": "code",
      "source": [
        "for i in range(int(input())):\n",
        "  n, m = map(int, input().split())\n",
        "  print(f'Case #{i + 1}: {n + m}')"
      ],
      "metadata": {
        "colab": {
          "base_uri": "https://localhost:8080/"
        },
        "id": "uU9jbmR4hQQP",
        "outputId": "a7224c0b-4f43-4118-c1a0-5aa7379c99c2"
      },
      "execution_count": null,
      "outputs": [
        {
          "output_type": "stream",
          "name": "stdout",
          "text": [
            "5\n",
            "1 1\n",
            "Case #1: 2\n",
            "2 3\n",
            "Case #2: 5\n",
            "3 4\n",
            "Case #3: 7\n",
            "9 8\n",
            "Case #4: 17\n",
            "5 2\n",
            "Case #5: 7\n"
          ]
        }
      ]
    },
    {
      "cell_type": "markdown",
      "source": [
        "## A+B - 8: https://www.acmicpc.net/problem/11022"
      ],
      "metadata": {
        "id": "j0E0QhfViVjR"
      }
    },
    {
      "cell_type": "code",
      "source": [
        "for i in range(int(input())):\n",
        "  n, m = map(int, input().split())\n",
        "  print(f'Case #{i + 1}: {n} + {m} = {n + m}')"
      ],
      "metadata": {
        "colab": {
          "base_uri": "https://localhost:8080/"
        },
        "id": "XO3JaqLviFdd",
        "outputId": "2f893cfa-0ee8-493b-f17b-724aaaba4913"
      },
      "execution_count": null,
      "outputs": [
        {
          "output_type": "stream",
          "name": "stdout",
          "text": [
            "5\n",
            "1 1\n",
            "Case #1: 1 + 1 = 2\n",
            "2 3\n",
            "Case #2: 2 + 3 = 5\n",
            "3 4\n",
            "Case #3: 3 + 4 = 7\n",
            "9 8\n",
            "Case #4: 9 + 8 = 17\n",
            "5 2\n",
            "Case #5: 5 + 2 = 7\n"
          ]
        }
      ]
    },
    {
      "cell_type": "markdown",
      "source": [
        "## 그대로 출력하기: https://www.acmicpc.net/problem/11718"
      ],
      "metadata": {
        "id": "IKUuLo6Cir-I"
      }
    },
    {
      "cell_type": "code",
      "source": [
        "while True:\n",
        "  string = input()\n",
        "  if string[0] == ' ' or string[-1] == ' ':\n",
        "    break\n",
        "  print(string)"
      ],
      "metadata": {
        "id": "ir9ve5j5j_O6"
      },
      "execution_count": null,
      "outputs": []
    },
    {
      "cell_type": "markdown",
      "source": [
        "### EOFError\n",
        "\n",
        "- 출력이 완료되고 아무것도 입력안했을 때 빠져나와야 하므로 except에 Error가 났을 때 break하는 식으로 구현해야한다."
      ],
      "metadata": {
        "id": "_mqXp6J-j-2u"
      }
    },
    {
      "cell_type": "code",
      "source": [
        "while True:\n",
        "  try:\n",
        "    string = input()\n",
        "    print(string)\n",
        "  except:\n",
        "    break"
      ],
      "metadata": {
        "id": "VvIXJb6XihEO"
      },
      "execution_count": null,
      "outputs": []
    },
    {
      "cell_type": "markdown",
      "source": [
        "## 큰 수 곱셈: https://www.acmicpc.net/problem/13277"
      ],
      "metadata": {
        "id": "xy_zspcbkgL_"
      }
    },
    {
      "cell_type": "code",
      "source": [
        "a, b = map(int, input().split())\n",
        "\n",
        "print(a * b)"
      ],
      "metadata": {
        "colab": {
          "base_uri": "https://localhost:8080/"
        },
        "id": "8MxLqCZCkinJ",
        "outputId": "0cb57555-8539-49fa-8883-240fb0ef4218"
      },
      "execution_count": null,
      "outputs": [
        {
          "output_type": "stream",
          "name": "stdout",
          "text": [
            "893724358493284 238947328947329\n",
            "213553048277135320552236238436\n"
          ]
        }
      ]
    },
    {
      "cell_type": "markdown",
      "source": [
        "## 와이버스 부릉부릉: https://www.acmicpc.net/problem/14645"
      ],
      "metadata": {
        "id": "r9K-Hte4saom"
      }
    },
    {
      "cell_type": "code",
      "source": [
        "N, K = map(int, input().split())\n",
        "\n",
        "for _ in range(N):\n",
        "  A, B = map(int, input().split())\n",
        "\n",
        "print('비와이')"
      ],
      "metadata": {
        "colab": {
          "base_uri": "https://localhost:8080/"
        },
        "id": "Xwyk8y3UkrJR",
        "outputId": "aa54405e-0668-4e24-e5a4-cd584b28c5ad"
      },
      "execution_count": null,
      "outputs": [
        {
          "output_type": "stream",
          "name": "stdout",
          "text": [
            "3 2\n",
            "10 3\n",
            "21 8\n",
            "0 15\n",
            "비와이\n"
          ]
        }
      ]
    },
    {
      "cell_type": "markdown",
      "source": [
        "## 나는 행복합니다~: https://www.acmicpc.net/problem/14652"
      ],
      "metadata": {
        "id": "wJorncL1tppA"
      }
    },
    {
      "cell_type": "code",
      "source": [
        "row, col, num = map(int, input().split())\n",
        "seat = -1\n",
        "\n",
        "for i in range(row):\n",
        "  for j in range(col):\n",
        "    seat += 1\n",
        "    if seat == num:\n",
        "      print(i, j)\n",
        "      break"
      ],
      "metadata": {
        "colab": {
          "base_uri": "https://localhost:8080/"
        },
        "id": "43_wB8mZssZJ",
        "outputId": "d1af5616-9d4d-4af6-ab5d-4053692878d9"
      },
      "execution_count": null,
      "outputs": [
        {
          "output_type": "stream",
          "name": "stdout",
          "text": [
            "6 4 14\n",
            "3 2\n"
          ]
        }
      ]
    },
    {
      "cell_type": "markdown",
      "source": [
        "## 사분면 고르기: https://www.acmicpc.net/problem/14681"
      ],
      "metadata": {
        "id": "M6eJxkPmzxkn"
      }
    },
    {
      "cell_type": "code",
      "source": [
        "x = int(input())\n",
        "y = int(input())\n",
        "\n",
        "if x > 0:\n",
        "  if y > 0:\n",
        "    print(1)\n",
        "  elif y < 0:\n",
        "    print(4)\n",
        "elif x < 0:\n",
        "  if y > 0:\n",
        "    print(2)\n",
        "  elif y < 0:\n",
        "    print(3)"
      ],
      "metadata": {
        "colab": {
          "base_uri": "https://localhost:8080/"
        },
        "id": "AXfsnv76u6Oo",
        "outputId": "6e9aa01b-4431-4d9c-9072-be33994e8dc5"
      },
      "execution_count": null,
      "outputs": [
        {
          "output_type": "stream",
          "name": "stdout",
          "text": [
            "9\n",
            "-13\n",
            "4\n"
          ]
        }
      ]
    },
    {
      "cell_type": "code",
      "source": [
        "x = int(input())\n",
        "y = int(input())\n",
        "\n",
        "if x > 0 and y > 0:\n",
        "  print(1)\n",
        "elif x < 0 and y > 0:\n",
        "  print(2)\n",
        "elif x < 0 and y < 0:\n",
        "  print(3)\n",
        "else:\n",
        "  print(4)"
      ],
      "metadata": {
        "id": "X_6kS4br0T7W"
      },
      "execution_count": null,
      "outputs": []
    },
    {
      "cell_type": "markdown",
      "source": [
        "## 조별과제를 하려는데 조장이 사라졌다: https://www.acmicpc.net/problem/15727"
      ],
      "metadata": {
        "id": "1n2lJ9BZ06hH"
      }
    },
    {
      "cell_type": "code",
      "source": [
        "import math\n",
        "\n",
        "n = int(input())\n",
        "\n",
        "if n % 5 == 0:\n",
        "  print(n // 5)\n",
        "else:\n",
        "  print(math.ceil(n / 5))"
      ],
      "metadata": {
        "colab": {
          "base_uri": "https://localhost:8080/"
        },
        "id": "j8hfOevI1PBH",
        "outputId": "1bd53d76-b94f-4844-a1e3-fcbbb1d079c1"
      },
      "execution_count": null,
      "outputs": [
        {
          "output_type": "stream",
          "name": "stdout",
          "text": [
            "12\n",
            "3\n"
          ]
        }
      ]
    },
    {
      "cell_type": "markdown",
      "source": [
        "## 꼬마 정민: https://www.acmicpc.net/problem/11382"
      ],
      "metadata": {
        "id": "QDYTGfaTSUMQ"
      }
    },
    {
      "cell_type": "code",
      "source": [
        "a, b, c = map(int, input().split())\n",
        "\n",
        "print(a + b + c)"
      ],
      "metadata": {
        "colab": {
          "base_uri": "https://localhost:8080/"
        },
        "id": "JrK5wuL647au",
        "outputId": "103b7675-55f0-4f53-af12-cbb193e645ed"
      },
      "execution_count": null,
      "outputs": [
        {
          "output_type": "stream",
          "name": "stdout",
          "text": [
            "77 77 7777\n",
            "7931\n"
          ]
        }
      ]
    },
    {
      "cell_type": "markdown",
      "source": [
        "## 오늘의 날짜는?: https://www.acmicpc.net/problem/16170"
      ],
      "metadata": {
        "id": "Mn8o_IQgT9vU"
      }
    },
    {
      "cell_type": "code",
      "source": [
        "import datetime\n",
        "\n",
        "dt_utc = datetime.datetime.utcnow()\n",
        "\n",
        "print(dt_utc.year)\n",
        "print('0' + str(dt_utc.month) if dt_utc.month < 10 else dt_utc.month)\n",
        "print('0' + str(dt_utc.day) if dt_utc.day < 10 else dt_utc.day)"
      ],
      "metadata": {
        "colab": {
          "base_uri": "https://localhost:8080/"
        },
        "id": "bRah6r6DSgWC",
        "outputId": "e8a939c3-ffd2-4b9c-a48b-d34bbbb7573a"
      },
      "execution_count": null,
      "outputs": [
        {
          "output_type": "stream",
          "name": "stdout",
          "text": [
            "2023\n",
            "07\n",
            "08\n"
          ]
        }
      ]
    },
    {
      "cell_type": "markdown",
      "source": [
        "## 홍익대학교: https://www.acmicpc.net/problem/16394"
      ],
      "metadata": {
        "id": "6jvB6zRZWG4b"
      }
    },
    {
      "cell_type": "code",
      "source": [
        "n = int(input())\n",
        "\n",
        "print(n - 1946)"
      ],
      "metadata": {
        "colab": {
          "base_uri": "https://localhost:8080/"
        },
        "id": "oJUTbn95Uakl",
        "outputId": "0c199d19-3c95-4952-e8d8-d53e6071a78f"
      },
      "execution_count": null,
      "outputs": [
        {
          "output_type": "stream",
          "name": "stdout",
          "text": [
            "2018\n",
            "72\n"
          ]
        }
      ]
    },
    {
      "cell_type": "markdown",
      "source": [
        "## 제리와 톰: https://www.acmicpc.net/problem/16430"
      ],
      "metadata": {
        "id": "HWTihmVsWobS"
      }
    },
    {
      "cell_type": "code",
      "source": [
        "a, b = map(int, input().split())\n",
        "\n",
        "print(b - a, b)"
      ],
      "metadata": {
        "colab": {
          "base_uri": "https://localhost:8080/"
        },
        "id": "iGf1oHFQWPBM",
        "outputId": "bd3980fe-674a-40ea-8e12-693420f58c05"
      },
      "execution_count": null,
      "outputs": [
        {
          "output_type": "stream",
          "name": "stdout",
          "text": [
            "5 8\n",
            "3 8\n"
          ]
        }
      ]
    },
    {
      "cell_type": "markdown",
      "source": [
        "## 달달함이 넘쳐흘러: https://www.acmicpc.net/problem/17256"
      ],
      "metadata": {
        "id": "JV3rPsttXqAL"
      }
    },
    {
      "cell_type": "code",
      "source": [
        "ax, ay, az = map(int, input().split())\n",
        "cx, cy, cz = map(int, input().split())\n",
        "\n",
        "print(cx - az, int(cy / ay), cz - ax)"
      ],
      "metadata": {
        "colab": {
          "base_uri": "https://localhost:8080/"
        },
        "id": "4IRBQrhWXsMI",
        "outputId": "7aa3e204-24af-482f-d065-fbb6ad62a669"
      },
      "execution_count": null,
      "outputs": [
        {
          "output_type": "stream",
          "name": "stdout",
          "text": [
            "15 16 17\n",
            "19 32 90\n",
            "2 2 75\n"
          ]
        }
      ]
    },
    {
      "cell_type": "markdown",
      "source": [
        "## 1998년생인 내가 태국에서는 2541년생?!: https://www.acmicpc.net/problem/18108"
      ],
      "metadata": {
        "id": "QmEMvntWZN15"
      }
    },
    {
      "cell_type": "code",
      "source": [
        "n = int(input())\n",
        "\n",
        "print(n - 543) # 2541 - 1998 = 543"
      ],
      "metadata": {
        "colab": {
          "base_uri": "https://localhost:8080/"
        },
        "id": "YeTnYOuSYo4s",
        "outputId": "17f5b3d6-3848-4b93-f4d9-89cbd249702d"
      },
      "execution_count": null,
      "outputs": [
        {
          "output_type": "stream",
          "name": "stdout",
          "text": [
            "2541\n",
            "1998\n"
          ]
        }
      ]
    },
    {
      "cell_type": "markdown",
      "source": [
        "## 세금: https://www.acmicpc.net/problem/20492"
      ],
      "metadata": {
        "id": "jEVFH7OnrHW4"
      }
    },
    {
      "cell_type": "code",
      "source": [
        "N = int(input())\n",
        "\n",
        "print(int(N * 0.78), int(N - ((N * 0.2) * 0.22)))"
      ],
      "metadata": {
        "colab": {
          "base_uri": "https://localhost:8080/"
        },
        "id": "vnF5TCvfZXs9",
        "outputId": "c8c63307-d302-4ec1-d963-375f805c4f25"
      },
      "execution_count": null,
      "outputs": [
        {
          "output_type": "stream",
          "name": "stdout",
          "text": [
            "1000\n",
            "780 956\n"
          ]
        }
      ]
    },
    {
      "cell_type": "markdown",
      "source": [
        "## 가희와 방어율 무시: https://www.acmicpc.net/problem/25238"
      ],
      "metadata": {
        "id": "i9at2tuXsPbo"
      }
    },
    {
      "cell_type": "code",
      "source": [
        "a, b = map(int, input().split())\n",
        "\n",
        "if a - (a * (b / 100)) >= 100:\n",
        "  print(0)\n",
        "else:\n",
        "  print(1)"
      ],
      "metadata": {
        "colab": {
          "base_uri": "https://localhost:8080/"
        },
        "id": "fqKbFgfSsg1b",
        "outputId": "542b405e-26b6-479b-c55d-0b480c99cafe"
      },
      "execution_count": null,
      "outputs": [
        {
          "output_type": "stream",
          "name": "stdout",
          "text": [
            "336 71\n",
            "1\n"
          ]
        }
      ]
    },
    {
      "cell_type": "markdown",
      "source": [
        "## 영수증: https://www.acmicpc.net/problem/25304"
      ],
      "metadata": {
        "id": "-YO8A0Wj9u2d"
      }
    },
    {
      "cell_type": "code",
      "source": [
        "X = int(input())\n",
        "N = int(input())\n",
        "result = 0\n",
        "for i in range(N):\n",
        "  a, b = map(int, input().split())\n",
        "  result += a * b\n",
        "\n",
        "if result == X:\n",
        "  print('Yes')\n",
        "else:\n",
        "  print('No')"
      ],
      "metadata": {
        "colab": {
          "base_uri": "https://localhost:8080/"
        },
        "id": "PkgLG5lus-7o",
        "outputId": "15296bdd-2cbb-425f-eda5-d6d5043c3fbd"
      },
      "execution_count": null,
      "outputs": [
        {
          "output_type": "stream",
          "name": "stdout",
          "text": [
            "260000\n",
            "4\n",
            "20000 5\n",
            "30000 2\n",
            "10000 6\n",
            "5000 8\n",
            "Yes\n"
          ]
        }
      ]
    },
    {
      "cell_type": "markdown",
      "source": [
        "## 코딩은 체육과목 입니다: https://www.acmicpc.net/problem/25314"
      ],
      "metadata": {
        "id": "LVMFDRND_iWH"
      }
    },
    {
      "cell_type": "code",
      "source": [
        "N = int(input())\n",
        "\n",
        "print('long ' * (N // 4) + 'int')"
      ],
      "metadata": {
        "colab": {
          "base_uri": "https://localhost:8080/"
        },
        "id": "VCzGkWYx-I-4",
        "outputId": "db7f3110-adeb-411f-f656-bd1e46c4a9a4"
      },
      "execution_count": null,
      "outputs": [
        {
          "output_type": "stream",
          "name": "stdout",
          "text": [
            "20\n",
            "long long long long long int\n"
          ]
        }
      ]
    },
    {
      "cell_type": "markdown",
      "source": [
        "## 성택이의 은밀한 비밀번호: https://www.acmicpc.net/problem/25372"
      ],
      "metadata": {
        "id": "a3MVASp3A830"
      }
    },
    {
      "cell_type": "code",
      "source": [
        "N = int(input())\n",
        "\n",
        "for _ in range(N):\n",
        "  string = input()\n",
        "  if 9 >= len(string) >= 6:\n",
        "    print('yes')\n",
        "  else:\n",
        "    print('no')"
      ],
      "metadata": {
        "colab": {
          "base_uri": "https://localhost:8080/"
        },
        "id": "HNXIZaJi_2Vh",
        "outputId": "75e9262f-e140-4e7b-c5d4-de3dc4cc8f21"
      },
      "execution_count": null,
      "outputs": [
        {
          "output_type": "stream",
          "name": "stdout",
          "text": [
            "3\n",
            "1245125\n",
            "yes\n",
            "asdij\n",
            "no\n",
            "120318739721\n",
            "no\n"
          ]
        }
      ]
    },
    {
      "cell_type": "markdown",
      "source": [
        "## WARBOY: https://www.acmicpc.net/problem/26082"
      ],
      "metadata": {
        "id": "XtcMYj9HCvEb"
      }
    },
    {
      "cell_type": "code",
      "source": [
        "a, b, c = map(int, input().split())\n",
        "\n",
        "print((b // a) * c * 3)"
      ],
      "metadata": {
        "colab": {
          "base_uri": "https://localhost:8080/"
        },
        "id": "DWrkAlpaBXku",
        "outputId": "cebb49de-0775-40b8-9c18-7cad3a4b0034"
      },
      "execution_count": null,
      "outputs": [
        {
          "output_type": "stream",
          "name": "stdout",
          "text": [
            "10 100 7\n",
            "210\n"
          ]
        }
      ]
    },
    {
      "cell_type": "markdown",
      "source": [
        "## 몇개고?: https://www.acmicpc.net/problem/27294"
      ],
      "metadata": {
        "id": "VaqgoLs7DcQ5"
      }
    },
    {
      "cell_type": "code",
      "source": [
        "T, S = map(int, input().split())\n",
        "\n",
        "if 16 >= T >= 12:\n",
        "  T = 1\n",
        "else:\n",
        "  T = 0\n",
        "\n",
        "if S == 0 and T:\n",
        "  print(320)\n",
        "else:\n",
        "  print(280)"
      ],
      "metadata": {
        "colab": {
          "base_uri": "https://localhost:8080/"
        },
        "id": "nOzA7kS7C6Fx",
        "outputId": "3afcb174-2ba7-4440-8577-65597ce06186"
      },
      "execution_count": null,
      "outputs": [
        {
          "output_type": "stream",
          "name": "stdout",
          "text": [
            "17 0\n",
            "280\n"
          ]
        }
      ]
    },
    {
      "cell_type": "code",
      "source": [
        "T, S = map(int, input().split())\n",
        "\n",
        "T = 1 if 16 >= T >= 12 else 0\n",
        "\n",
        "print(320 if S == 0 and T else 280)"
      ],
      "metadata": {
        "id": "TaYSGt8RE0JK"
      },
      "execution_count": null,
      "outputs": []
    },
    {
      "cell_type": "markdown",
      "source": [
        "## 직사각형: https://www.acmicpc.net/problem/27323"
      ],
      "metadata": {
        "id": "z_3A_jpJ07r4"
      }
    },
    {
      "cell_type": "code",
      "source": [
        "a = int(input())\n",
        "b = int(input())\n",
        "\n",
        "print(a * b)"
      ],
      "metadata": {
        "colab": {
          "base_uri": "https://localhost:8080/"
        },
        "id": "3AhOnAQo094g",
        "outputId": "6b589896-f8b3-44f5-919f-99aa1bf33156"
      },
      "execution_count": null,
      "outputs": [
        {
          "output_type": "stream",
          "name": "stdout",
          "text": [
            "100\n",
            "1\n",
            "100\n"
          ]
        }
      ]
    },
    {
      "cell_type": "markdown",
      "source": [
        "## 팩토리얼 2, 3: https://www.acmicpc.net/problem/27433"
      ],
      "metadata": {
        "id": "K8VyXZIB1gx_"
      }
    },
    {
      "cell_type": "code",
      "source": [
        "n = int(input())\n",
        "result = 1\n",
        "\n",
        "if n:\n",
        "  for i in range(1, n + 1):\n",
        "    result *= i\n",
        "  print(result)\n",
        "else:\n",
        "  print(result)"
      ],
      "metadata": {
        "id": "KciZbIlK4zXw"
      },
      "execution_count": null,
      "outputs": []
    },
    {
      "cell_type": "code",
      "source": [
        "n = int(input())\n",
        "result = [1 for i in range(n + 1)]\n",
        "\n",
        "for i in range(1, len(result)):\n",
        "  result[i] *= result[i - 1] * i\n",
        "\n",
        "print(result[n])"
      ],
      "metadata": {
        "colab": {
          "base_uri": "https://localhost:8080/"
        },
        "id": "i5LqLjeN1F2t",
        "outputId": "39e3602e-6412-47a9-a70f-3e4c8733a541"
      },
      "execution_count": null,
      "outputs": [
        {
          "output_type": "stream",
          "name": "stdout",
          "text": [
            "10\n",
            "3628800\n"
          ]
        }
      ]
    },
    {
      "cell_type": "markdown",
      "source": [
        "## 초코바: https://www.acmicpc.net/problem/27959"
      ],
      "metadata": {
        "id": "tBTbeF0m9u8V"
      }
    },
    {
      "cell_type": "code",
      "source": [
        "N, M = map(int, input().split())\n",
        "\n",
        "print('Yes' if N * 100 >= M else 'No')"
      ],
      "metadata": {
        "colab": {
          "base_uri": "https://localhost:8080/"
        },
        "id": "-Jy90pF512Lx",
        "outputId": "133667b9-5bb7-4cbd-dfbe-de98f8eff1fb"
      },
      "execution_count": null,
      "outputs": [
        {
          "output_type": "stream",
          "name": "stdout",
          "text": [
            "5 10000\n",
            "No\n"
          ]
        }
      ]
    },
    {
      "cell_type": "markdown",
      "source": [
        "## 정보 섬의 대중교통: https://www.acmicpc.net/problem/28113"
      ],
      "metadata": {
        "id": "8foDfs9UBr28"
      }
    },
    {
      "cell_type": "code",
      "source": [
        "n, a, b = map(int, input().split())\n",
        "\n",
        "if n <= b:\n",
        "  if a > b:\n",
        "    print('Subway')\n",
        "  elif a < b:\n",
        "    print('Bus')\n",
        "  else:\n",
        "    print('Anything')"
      ],
      "metadata": {
        "id": "L08F9dE-_YkE",
        "colab": {
          "base_uri": "https://localhost:8080/"
        },
        "outputId": "13621999-56d7-479b-9cd8-e342c42ae839"
      },
      "execution_count": 37,
      "outputs": [
        {
          "output_type": "stream",
          "name": "stdout",
          "text": [
            "1 100 1\n",
            "Subway\n"
          ]
        }
      ]
    },
    {
      "cell_type": "code",
      "source": [],
      "metadata": {
        "id": "uogLQ0pMCRtk"
      },
      "execution_count": null,
      "outputs": []
    }
  ]
}