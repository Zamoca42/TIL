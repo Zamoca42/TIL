{
  "nbformat": 4,
  "nbformat_minor": 0,
  "metadata": {
    "colab": {
      "provenance": [],
      "authorship_tag": "ABX9TyPCaz4vBWBfVl3+/wvxuD95",
      "include_colab_link": true
    },
    "kernelspec": {
      "name": "python3",
      "display_name": "Python 3"
    },
    "language_info": {
      "name": "python"
    }
  },
  "cells": [
    {
      "cell_type": "markdown",
      "metadata": {
        "id": "view-in-github",
        "colab_type": "text"
      },
      "source": [
        "<a href=\"https://colab.research.google.com/github/Zamoca42/TIL/blob/main/Algorithm/solved_ac_bronze1.ipynb\" target=\"_parent\"><img src=\"https://colab.research.google.com/assets/colab-badge.svg\" alt=\"Open In Colab\"/></a>"
      ]
    },
    {
      "cell_type": "markdown",
      "source": [
        "## 더하기 사이클: https://www.acmicpc.net/problem/1110"
      ],
      "metadata": {
        "id": "Bx_NT1AYIYoO"
      }
    },
    {
      "cell_type": "code",
      "execution_count": 15,
      "metadata": {
        "colab": {
          "base_uri": "https://localhost:8080/"
        },
        "id": "7vb-etevIPXX",
        "outputId": "a4083e7f-c03c-41f2-d2e5-6e7a2e2a2920"
      },
      "outputs": [
        {
          "output_type": "stream",
          "name": "stdout",
          "text": [
            "71\n",
            "12\n"
          ]
        }
      ],
      "source": [
        "def length(string):\n",
        "  return 0 if len(string) == 1 else 1\n",
        "\n",
        "n = input()\n",
        "array = []\n",
        "count = 0\n",
        "\n",
        "while True:\n",
        "  array.append(n)\n",
        "\n",
        "  if array.count(n) == 2:\n",
        "    print(len(array) - 1)\n",
        "    break\n",
        "\n",
        "  sum_value = 0\n",
        "\n",
        "  for i in n:\n",
        "    sum_value += int(i)\n",
        "\n",
        "  n = array[count][length(array[count])] + str(sum_value)[length(str(sum_value))]\n",
        "  count += 1"
      ]
    },
    {
      "cell_type": "code",
      "source": [
        "def addzero(string):\n",
        "  return '0' + string if len(string) == 1 else string\n",
        "\n",
        "n = input()\n",
        "array = []\n",
        "count = 0\n",
        "\n",
        "while True:\n",
        "  array.append(addzero(n))\n",
        "\n",
        "  if array.count(n) == 2:\n",
        "    print(len(array) - 1)\n",
        "    break\n",
        "\n",
        "  value = 0\n",
        "\n",
        "  for i in n:\n",
        "    value += int(i)\n",
        "\n",
        "  value = str(value)\n",
        "  value = addzero(value)\n",
        "\n",
        "  n = array[count][1] + value[1]\n",
        "  count += 1"
      ],
      "metadata": {
        "colab": {
          "base_uri": "https://localhost:8080/"
        },
        "id": "H5M8xv1sI4Um",
        "outputId": "7c0db9ca-37b4-4125-b782-6eadccd982c8"
      },
      "execution_count": 23,
      "outputs": [
        {
          "output_type": "stream",
          "name": "stdout",
          "text": [
            "71\n",
            "12\n"
          ]
        }
      ]
    },
    {
      "cell_type": "code",
      "source": [],
      "metadata": {
        "id": "QCUkfB3oI854"
      },
      "execution_count": null,
      "outputs": []
    }
  ]
}