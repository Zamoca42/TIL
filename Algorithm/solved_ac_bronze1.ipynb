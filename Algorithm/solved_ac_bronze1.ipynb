{
  "nbformat": 4,
  "nbformat_minor": 0,
  "metadata": {
    "colab": {
      "provenance": [],
      "authorship_tag": "ABX9TyNNzWgsD9qR8cAtIvqplTN8",
      "include_colab_link": true
    },
    "kernelspec": {
      "name": "python3",
      "display_name": "Python 3"
    },
    "language_info": {
      "name": "python"
    }
  },
  "cells": [
    {
      "cell_type": "markdown",
      "metadata": {
        "id": "view-in-github",
        "colab_type": "text"
      },
      "source": [
        "<a href=\"https://colab.research.google.com/github/Zamoca42/TIL/blob/main/Algorithm/solved_ac_bronze1.ipynb\" target=\"_parent\"><img src=\"https://colab.research.google.com/assets/colab-badge.svg\" alt=\"Open In Colab\"/></a>"
      ]
    },
    {
      "cell_type": "markdown",
      "source": [
        "## 더하기 사이클: https://www.acmicpc.net/problem/1110"
      ],
      "metadata": {
        "id": "Bx_NT1AYIYoO"
      }
    },
    {
      "cell_type": "code",
      "execution_count": null,
      "metadata": {
        "colab": {
          "base_uri": "https://localhost:8080/"
        },
        "id": "7vb-etevIPXX",
        "outputId": "a4083e7f-c03c-41f2-d2e5-6e7a2e2a2920"
      },
      "outputs": [
        {
          "output_type": "stream",
          "name": "stdout",
          "text": [
            "71\n",
            "12\n"
          ]
        }
      ],
      "source": [
        "def length(string):\n",
        "  return 0 if len(string) == 1 else 1\n",
        "\n",
        "n = input()\n",
        "array = []\n",
        "count = 0\n",
        "\n",
        "while True:\n",
        "  array.append(n)\n",
        "\n",
        "  if array.count(n) == 2:\n",
        "    print(len(array) - 1)\n",
        "    break\n",
        "\n",
        "  sum_value = 0\n",
        "\n",
        "  for i in n:\n",
        "    sum_value += int(i)\n",
        "\n",
        "  n = array[count][length(array[count])] + str(sum_value)[length(str(sum_value))]\n",
        "  count += 1"
      ]
    },
    {
      "cell_type": "code",
      "source": [
        "def addzero(string):\n",
        "  return '0' + string if len(string) == 1 else string\n",
        "\n",
        "n = input()\n",
        "array = []\n",
        "count = 0\n",
        "\n",
        "while True:\n",
        "  array.append(addzero(n))\n",
        "\n",
        "  if array.count(n) == 2:\n",
        "    print(len(array) - 1)\n",
        "    break\n",
        "\n",
        "  value = 0\n",
        "\n",
        "  for i in n:\n",
        "    value += int(i)\n",
        "\n",
        "  value = str(value)\n",
        "  value = addzero(value)\n",
        "\n",
        "  n = array[count][1] + value[1]\n",
        "  count += 1"
      ],
      "metadata": {
        "colab": {
          "base_uri": "https://localhost:8080/"
        },
        "id": "H5M8xv1sI4Um",
        "outputId": "7c0db9ca-37b4-4125-b782-6eadccd982c8"
      },
      "execution_count": null,
      "outputs": [
        {
          "output_type": "stream",
          "name": "stdout",
          "text": [
            "71\n",
            "12\n"
          ]
        }
      ]
    },
    {
      "cell_type": "code",
      "source": [
        "n = int(input())\n",
        "num = n\n",
        "count = 0\n",
        "\n",
        "while True:\n",
        "    a, b = divmod(num, 10)\n",
        "    c = (a + b) % 10\n",
        "    num = (b * 10) + c\n",
        "\n",
        "    count += 1\n",
        "\n",
        "    if num == n:\n",
        "        break\n",
        "\n",
        "print(count)"
      ],
      "metadata": {
        "colab": {
          "base_uri": "https://localhost:8080/"
        },
        "id": "QCUkfB3oI854",
        "outputId": "19e03353-fbfd-46d2-b3b9-0c93be9a7d01"
      },
      "execution_count": null,
      "outputs": [
        {
          "output_type": "stream",
          "name": "stdout",
          "text": [
            "71\n",
            "12\n"
          ]
        }
      ]
    },
    {
      "cell_type": "markdown",
      "source": [
        "## 평균은 넘겠지: https://www.acmicpc.net/problem/4344"
      ],
      "metadata": {
        "id": "-RibWpb2R3Vq"
      }
    },
    {
      "cell_type": "code",
      "source": [
        "for _ in range(int(input())):\n",
        "  data = list(map(int, input().split()))\n",
        "  n = data[0]\n",
        "  score = [i for i in data[1:] if i > int(sum(data[1:]) / n)]\n",
        "\n",
        "  print(f'{(len(score) / len(data[1:]) * 100):.3f}%')"
      ],
      "metadata": {
        "colab": {
          "base_uri": "https://localhost:8080/"
        },
        "id": "MbHYggf3RaRQ",
        "outputId": "cb15c83a-c02f-4c44-e3aa-093b5d623456"
      },
      "execution_count": null,
      "outputs": [
        {
          "output_type": "stream",
          "name": "stdout",
          "text": [
            "5\n",
            "5 50 50 70 80 100\n",
            "40.000%\n",
            "7 100 95 90 80 70 60 50\n",
            "57.143%\n",
            "3 70 90 80\n",
            "33.333%\n",
            "3 70 90 81\n",
            "66.667%\n",
            "9 100 99 98 97 96 95 94 93 91\n",
            "55.556%\n"
          ]
        }
      ]
    },
    {
      "cell_type": "markdown",
      "source": [
        "## 소인수분해: https://www.acmicpc.net/problem/11653"
      ],
      "metadata": {
        "id": "DTIeWOjdam6O"
      }
    },
    {
      "cell_type": "code",
      "source": [
        "import sys\n",
        "input = sys.stdin.readline\n",
        "\n",
        "n = int(input())\n",
        "for i in range(2, n + 1):\n",
        "    while n % i == 0:\n",
        "        print(i)\n",
        "        n //= i\n",
        "    if n == 1:\n",
        "        break"
      ],
      "metadata": {
        "colab": {
          "base_uri": "https://localhost:8080/"
        },
        "id": "4uh3koDjSpxc",
        "outputId": "cb24ba38-09a6-4536-ad44-4b87ce84af68"
      },
      "execution_count": null,
      "outputs": [
        {
          "output_type": "stream",
          "name": "stdout",
          "text": [
            "9991\n",
            "97\n",
            "103\n"
          ]
        }
      ]
    },
    {
      "cell_type": "markdown",
      "source": [
        "## 일곱 난쟁이: https://www.acmicpc.net/problem/2309"
      ],
      "metadata": {
        "id": "Ns067ZN0cWGf"
      }
    },
    {
      "cell_type": "code",
      "source": [
        "array = [20, 7, 23, 19, 10, 15, 25, 8, 13]"
      ],
      "metadata": {
        "id": "DVDCeQaifNv4"
      },
      "execution_count": null,
      "outputs": []
    },
    {
      "cell_type": "code",
      "source": [
        "from itertools import combinations\n",
        "\n",
        "# array = [int(input()) for _ in range(9)]\n",
        "\n",
        "combi = list(combinations(array, 7))\n",
        "combi = [i for i in combi if sum(i) == 100]\n",
        "\n",
        "for i in sorted(combi[0]):\n",
        "  print(i)"
      ],
      "metadata": {
        "colab": {
          "base_uri": "https://localhost:8080/"
        },
        "id": "cYBv97__bEzr",
        "outputId": "0d2b4834-3946-493d-96a6-f6aa950cc712"
      },
      "execution_count": null,
      "outputs": [
        {
          "output_type": "stream",
          "name": "stdout",
          "text": [
            "7\n",
            "8\n",
            "10\n",
            "13\n",
            "19\n",
            "20\n",
            "23\n"
          ]
        }
      ]
    },
    {
      "cell_type": "code",
      "source": [
        "combi"
      ],
      "metadata": {
        "colab": {
          "base_uri": "https://localhost:8080/"
        },
        "id": "as3AsuQXfTQ8",
        "outputId": "223eb2ef-c8ba-4de8-cfbf-f7c3add7444b"
      },
      "execution_count": null,
      "outputs": [
        {
          "output_type": "execute_result",
          "data": {
            "text/plain": [
              "[(20, 7, 23, 19, 10, 8, 13)]"
            ]
          },
          "metadata": {},
          "execution_count": 13
        }
      ]
    },
    {
      "cell_type": "code",
      "source": [
        "from itertools import combinations\n",
        "\n",
        "# array = [int(input()) for _ in range(9)]\n",
        "\n",
        "combi = [i for i in combinations(array, 7) if sum(i) == 100]\n",
        "\n",
        "for i in sorted(combi[0]):\n",
        "  print(i)"
      ],
      "metadata": {
        "colab": {
          "base_uri": "https://localhost:8080/"
        },
        "id": "49ewtIh5fyb2",
        "outputId": "d180528f-4ca9-43ae-cc53-7866490f6c9e"
      },
      "execution_count": null,
      "outputs": [
        {
          "output_type": "stream",
          "name": "stdout",
          "text": [
            "7\n",
            "8\n",
            "10\n",
            "13\n",
            "19\n",
            "20\n",
            "23\n"
          ]
        }
      ]
    },
    {
      "cell_type": "markdown",
      "source": [
        "## 2007년: https://www.acmicpc.net/problem/1924"
      ],
      "metadata": {
        "id": "8pBhYLgqhU8P"
      }
    },
    {
      "cell_type": "code",
      "source": [
        "from datetime import date\n",
        "\n",
        "str_week = ['MON', 'TUE', 'WED', 'THU', 'FRI', 'SAT', 'SUN']\n",
        "\n",
        "m, d = map(int, input().split())\n",
        "\n",
        "print(str_week[date(2007, m, d).weekday()])"
      ],
      "metadata": {
        "colab": {
          "base_uri": "https://localhost:8080/"
        },
        "id": "Zm7fSryhf3pZ",
        "outputId": "26f11567-c5c4-49dd-a41f-40a02d7ad9ab"
      },
      "execution_count": null,
      "outputs": [
        {
          "output_type": "stream",
          "name": "stdout",
          "text": [
            "12 25\n",
            "TUE\n"
          ]
        }
      ]
    },
    {
      "cell_type": "markdown",
      "source": [
        "## 피보나치 수 2: https://www.acmicpc.net/problem/2748"
      ],
      "metadata": {
        "id": "1xughOdVjGtM"
      }
    },
    {
      "cell_type": "code",
      "source": [
        "n = int(input())\n",
        "array = [1] * (n + 1)\n",
        "array[0] = 0\n",
        "\n",
        "for i in range(2, n + 1):\n",
        "  array[i] = array[i - 1] + array[i - 2]\n",
        "\n",
        "print(array[n])"
      ],
      "metadata": {
        "colab": {
          "base_uri": "https://localhost:8080/"
        },
        "id": "NN6PWnBWjKLW",
        "outputId": "01cb2bac-7be6-4ca3-86a6-d9d0449369d6"
      },
      "execution_count": null,
      "outputs": [
        {
          "output_type": "stream",
          "name": "stdout",
          "text": [
            "10\n",
            "55\n"
          ]
        }
      ]
    },
    {
      "cell_type": "markdown",
      "source": [
        "## 약수: https://www.acmicpc.net/problem/1037"
      ],
      "metadata": {
        "id": "RXDR8wMbIkP8"
      }
    },
    {
      "cell_type": "code",
      "source": [
        "n = int(input())\n",
        "\n",
        "array = list(map(int, input().split()))\n",
        "\n",
        "print(min(array) * max(array))"
      ],
      "metadata": {
        "colab": {
          "base_uri": "https://localhost:8080/"
        },
        "id": "G0YomXw5jXAg",
        "outputId": "94d65de6-a619-4b39-9a8e-89f7e13fad6a"
      },
      "execution_count": null,
      "outputs": [
        {
          "output_type": "stream",
          "name": "stdout",
          "text": [
            "6\n",
            "3 4 2 12 6 8\n",
            "24\n"
          ]
        }
      ]
    },
    {
      "cell_type": "markdown",
      "source": [
        "## 초콜릿 자르기: https://www.acmicpc.net/problem/2163"
      ],
      "metadata": {
        "id": "A_t8ZvJfJTnF"
      }
    },
    {
      "cell_type": "code",
      "source": [
        "n, m = map(int, input().split())\n",
        "\n",
        "print(n * m - 1)"
      ],
      "metadata": {
        "colab": {
          "base_uri": "https://localhost:8080/"
        },
        "id": "GGmr27xTIyKC",
        "outputId": "3392e5ce-8407-424f-e4f3-b61a4b13d759"
      },
      "execution_count": null,
      "outputs": [
        {
          "output_type": "stream",
          "name": "stdout",
          "text": [
            "1 1\n",
            "0\n"
          ]
        }
      ]
    },
    {
      "cell_type": "markdown",
      "source": [
        "## 세로읽기: https://www.acmicpc.net/problem/10798"
      ],
      "metadata": {
        "id": "ckIk19JwKDg-"
      }
    },
    {
      "cell_type": "code",
      "source": [
        "array = [input() for i in range(5)]\n",
        "\n",
        "for i in range(15):\n",
        "  for j in range(5):\n",
        "    try:\n",
        "      print(array[j][i], end = '')\n",
        "    except IndexError:\n",
        "      pass"
      ],
      "metadata": {
        "colab": {
          "base_uri": "https://localhost:8080/"
        },
        "id": "Wnwu4b5gJZ4K",
        "outputId": "72bb7c47-b139-476d-b95e-b3fb2f37539b"
      },
      "execution_count": null,
      "outputs": [
        {
          "output_type": "stream",
          "name": "stdout",
          "text": [
            "AABCDD\n",
            "afzz\n",
            "09121\n",
            "a8EWg6\n",
            "P5h3kx\n",
            "Aa0aPAf985Bz1EhCz2W3D1gkD6x"
          ]
        }
      ]
    },
    {
      "cell_type": "markdown",
      "source": [
        "## 명령 프롬프트: https://www.acmicpc.net/problem/1032"
      ],
      "metadata": {
        "id": "oq7KHcA87fbd"
      }
    },
    {
      "cell_type": "code",
      "source": [
        "n = int(input())\n",
        "\n",
        "array = [input() for i in range(n)]\n",
        "\n",
        "for i in range(len(array[0])):\n",
        "  chr = []\n",
        "  for j in range(n):\n",
        "    chr.append(array[j][i])\n",
        "  print(chr[0] if len(set(chr)) == 1 else '?', end = '')"
      ],
      "metadata": {
        "colab": {
          "base_uri": "https://localhost:8080/"
        },
        "id": "figs73LV7hy2",
        "outputId": "e92fea12-42bd-4084-9272-a4e7cd1b5019"
      },
      "execution_count": null,
      "outputs": [
        {
          "output_type": "stream",
          "name": "stdout",
          "text": [
            "3\n",
            "c.user.mike.programs\n",
            "c.user.nike.programs\n",
            "c.user.rice.programs\n",
            "c.user.?i?e.programs"
          ]
        }
      ]
    },
    {
      "cell_type": "markdown",
      "source": [
        "## 쉽게 푸는 문제: https://www.acmicpc.net/problem/1292"
      ],
      "metadata": {
        "id": "IDhQkvVMEAQE"
      }
    },
    {
      "cell_type": "code",
      "source": [
        "a, b = map(int, input().split())\n",
        "array = [i for i in range(1, 1001) for j in range(i)]\n",
        "\n",
        "print(sum(array[a - 1: b]))"
      ],
      "metadata": {
        "colab": {
          "base_uri": "https://localhost:8080/"
        },
        "id": "UEMkJpm1ECHm",
        "outputId": "1b51160c-48e8-4806-a72c-7686708380d7"
      },
      "execution_count": null,
      "outputs": [
        {
          "output_type": "stream",
          "name": "stdout",
          "text": [
            "1 1000\n",
            "29820\n"
          ]
        }
      ]
    },
    {
      "cell_type": "markdown",
      "source": [
        "## 단어 뒤집기: https://www.acmicpc.net/problem/9093"
      ],
      "metadata": {
        "id": "vt0LQ8fgG8Sv"
      }
    },
    {
      "cell_type": "code",
      "source": [
        "for _ in range(int(input())):\n",
        "  string = input()[::-1].split()\n",
        "  for x in string[::-1]:\n",
        "    print(x, end = ' ')\n",
        "  print()"
      ],
      "metadata": {
        "colab": {
          "base_uri": "https://localhost:8080/"
        },
        "id": "Ph1wVYXlEgF6",
        "outputId": "d26d60cf-9ae0-4617-97a9-41d06d6acae2"
      },
      "execution_count": null,
      "outputs": [
        {
          "output_type": "stream",
          "name": "stdout",
          "text": [
            "2\n",
            "I am happy today\n",
            "I ma yppah yadot \n",
            "We want to win the first prize\n",
            "eW tnaw ot niw eht tsrif ezirp \n"
          ]
        }
      ]
    },
    {
      "cell_type": "markdown",
      "source": [
        "## 진법 변환 2: https://www.acmicpc.net/problem/11005"
      ],
      "metadata": {
        "id": "YqgOVmmiIpUq"
      }
    },
    {
      "cell_type": "code",
      "source": [
        "array = []\n",
        "a, b = map(int, input().split())\n",
        "\n",
        "while True:\n",
        "\n",
        "  if a < b:\n",
        "    array.append(a)\n",
        "    break\n",
        "\n",
        "  div, mod = divmod(a, b)\n",
        "\n",
        "  a = div\n",
        "\n",
        "  array.append(mod)\n",
        "\n",
        "for i in reversed(array):\n",
        "  print(str(i) if i < 10 else chr(55 + i), end = '')"
      ],
      "metadata": {
        "colab": {
          "base_uri": "https://localhost:8080/"
        },
        "id": "2K0e1awTHPs0",
        "outputId": "54978307-78b4-4625-8dbc-82274c332d27"
      },
      "execution_count": null,
      "outputs": [
        {
          "output_type": "stream",
          "name": "stdout",
          "text": [
            "60466175 24\n",
            "7E5NNN"
          ]
        }
      ]
    },
    {
      "cell_type": "code",
      "source": [
        "base = \"0123456789ABCDEFGHIJKLMNOPQRSTUVWXYZ\"\n",
        "a, b = map(int, input().split())\n",
        "result = ''\n",
        "\n",
        "while a != 0:\n",
        "  result += base[a % b]\n",
        "  a //= b\n",
        "\n",
        "print(result[::-1])"
      ],
      "metadata": {
        "colab": {
          "base_uri": "https://localhost:8080/"
        },
        "id": "w4bd-3hYLyCv",
        "outputId": "1ea1bbf4-7024-42c8-a0e2-d7cba9889a22"
      },
      "execution_count": null,
      "outputs": [
        {
          "output_type": "stream",
          "name": "stdout",
          "text": [
            "60466175 36\n",
            "ZZZZZ\n"
          ]
        }
      ]
    },
    {
      "cell_type": "markdown",
      "source": [
        "## 약수들의 합: https://www.acmicpc.net/problem/9506"
      ],
      "metadata": {
        "id": "VH5rj767WTi8"
      }
    },
    {
      "cell_type": "code",
      "source": [
        "while True:\n",
        "  n = int(input())\n",
        "\n",
        "  if n == -1:\n",
        "    break\n",
        "\n",
        "  data = [i for i in range(2, n // 2 + 1) if not(n % i)]\n",
        "\n",
        "  if sum(data) == n - 1:\n",
        "    m = f'{n} = 1'\n",
        "    for i in data:\n",
        "      m += f' + {i}'\n",
        "  else:\n",
        "    m = f'{n} is NOT perfect.'\n",
        "\n",
        "  print(m)"
      ],
      "metadata": {
        "colab": {
          "base_uri": "https://localhost:8080/"
        },
        "id": "LrfjwJXNOHVi",
        "outputId": "1b896e84-2ab8-4a2d-9f04-bf519ba42e26"
      },
      "execution_count": null,
      "outputs": [
        {
          "name": "stdout",
          "output_type": "stream",
          "text": [
            "6\n",
            "6 = 1 + 2 + 3\n",
            "12\n",
            "12 is NOT perfect.\n",
            "28\n",
            "28 = 1 + 2 + 4 + 7 + 14\n",
            "6\n",
            "6 = 1 + 2 + 3\n",
            "-1\n"
          ]
        }
      ]
    },
    {
      "cell_type": "markdown",
      "source": [
        "## ROT13: https://www.acmicpc.net/problem/11655"
      ],
      "metadata": {
        "id": "9l7mwrKOgD6v"
      }
    },
    {
      "cell_type": "code",
      "source": [
        "string = input()\n",
        "result = ''\n",
        "\n",
        "for x in string:\n",
        "  i = ord(x) + 13\n",
        "  if x.islower():\n",
        "    if i > 122:\n",
        "      i -= 26\n",
        "    result += chr(i)\n",
        "  elif x.isupper():\n",
        "    if i > 90:\n",
        "      i -= 26\n",
        "    result += chr(i)\n",
        "  else:\n",
        "    result += x\n",
        "\n",
        "print(result)"
      ],
      "metadata": {
        "colab": {
          "base_uri": "https://localhost:8080/"
        },
        "id": "w3x4HPV6VtDq",
        "outputId": "e02e5b3e-49f0-489e-923b-b70f776f1d61"
      },
      "execution_count": null,
      "outputs": [
        {
          "output_type": "stream",
          "name": "stdout",
          "text": [
            "One is 1\n",
            "Bar vf 1\n"
          ]
        }
      ]
    },
    {
      "cell_type": "markdown",
      "source": [
        "- rot13"
      ],
      "metadata": {
        "id": "HlMv4NrNga4h"
      }
    },
    {
      "cell_type": "code",
      "source": [
        "import codecs\n",
        "print(codecs.encode(input(),'rot_13'))"
      ],
      "metadata": {
        "id": "Rz8BcspigcVJ"
      },
      "execution_count": null,
      "outputs": []
    },
    {
      "cell_type": "markdown",
      "source": [
        "## 2진수 8진수: https://www.acmicpc.net/problem/1373"
      ],
      "metadata": {
        "id": "yfgP58ZaiFGR"
      }
    },
    {
      "cell_type": "code",
      "source": [
        "print(format(int(input(), 2), 'o'))"
      ],
      "metadata": {
        "colab": {
          "base_uri": "https://localhost:8080/"
        },
        "id": "dD6rFIooiN6Z",
        "outputId": "93f9b2e2-dc02-4648-f55d-952dfd427e16"
      },
      "execution_count": null,
      "outputs": [
        {
          "output_type": "stream",
          "name": "stdout",
          "text": [
            "11001100\n",
            "314\n"
          ]
        }
      ]
    },
    {
      "cell_type": "markdown",
      "source": [
        "## 캠핑: https://www.acmicpc.net/problem/4796"
      ],
      "metadata": {
        "id": "1aVbKVlIirRt"
      }
    },
    {
      "cell_type": "code",
      "source": [
        "count = 1\n",
        "\n",
        "while True:\n",
        "  l, p, v = map(int, input().split())\n",
        "\n",
        "  if l == p == v == 0:\n",
        "    break\n",
        "\n",
        "  div, mod = divmod(v, p)\n",
        "\n",
        "  print(f'Case {count}: {(l * div) + min(mod, l)}')\n",
        "\n",
        "  count += 1"
      ],
      "metadata": {
        "colab": {
          "base_uri": "https://localhost:8080/"
        },
        "id": "NkRqyyCzi5bh",
        "outputId": "ff3831c9-90c4-4e07-d708-61d504da6267"
      },
      "execution_count": null,
      "outputs": [
        {
          "name": "stdout",
          "output_type": "stream",
          "text": [
            "5 8 20\n",
            "Case 1: 14\n",
            "5 8 17\n",
            "Case 2: 11\n",
            "0 0 0\n"
          ]
        }
      ]
    },
    {
      "cell_type": "markdown",
      "source": [
        "## 뒤집힌 덧셈: https://www.acmicpc.net/problem/1357"
      ],
      "metadata": {
        "id": "vjq5RcFBXDdq"
      }
    },
    {
      "cell_type": "code",
      "source": [
        "x, y = map(int, input()[::-1].split())\n",
        "\n",
        "print(int(str(x + y)[::-1]))"
      ],
      "metadata": {
        "colab": {
          "base_uri": "https://localhost:8080/"
        },
        "id": "K6I8_TygVx0b",
        "outputId": "2b9668c7-6690-40da-cc89-4ec54f5dca0c"
      },
      "execution_count": null,
      "outputs": [
        {
          "output_type": "stream",
          "name": "stdout",
          "text": [
            "456 789\n",
            "1461\n"
          ]
        }
      ]
    },
    {
      "cell_type": "markdown",
      "source": [
        "## N번째 큰 수 : https://www.acmicpc.net/problem/2693"
      ],
      "metadata": {
        "id": "PW3aVx9LYPnB"
      }
    },
    {
      "cell_type": "code",
      "source": [
        "for _ in range(int(input())):\n",
        "  array = sorted(list(map(int, input().split())), reverse = True)\n",
        "  print(array[2])"
      ],
      "metadata": {
        "colab": {
          "base_uri": "https://localhost:8080/"
        },
        "id": "9BA_sgZKXObh",
        "outputId": "11a3cd63-94db-41ed-8ba4-de60c24d7f85"
      },
      "execution_count": null,
      "outputs": [
        {
          "output_type": "stream",
          "name": "stdout",
          "text": [
            "4\n",
            "1 2 3 4 5 6 7 8 9 1000\n",
            "8\n",
            "338 304 619 95 343 496 489 116 98 127\n",
            "489\n",
            "931 240 986 894 826 640 965 833 136 138\n",
            "931\n",
            "940 955 364 188 133 254 501 122 768 408\n",
            "768\n"
          ]
        }
      ]
    },
    {
      "cell_type": "markdown",
      "source": [
        "## 알고리즘 수업 - 피보나치 수 1: https://www.acmicpc.net/problem/24416"
      ],
      "metadata": {
        "id": "lAlPIuD2ffTb"
      }
    },
    {
      "cell_type": "code",
      "source": [
        "def fibo(n):\n",
        "  global count\n",
        "  count = 0\n",
        "  f = [0] * (n + 1)\n",
        "  f[1] = f[2] = 1\n",
        "  for i in range(3, n + 1):\n",
        "    count += 1\n",
        "    f[i] = f[i - 1] + f[i - 2]\n",
        "  return f[n]\n",
        "\n",
        "print(fibo(int(input())), count)"
      ],
      "metadata": {
        "colab": {
          "base_uri": "https://localhost:8080/"
        },
        "id": "YEWPvYd_YgMY",
        "outputId": "fa9817a8-9b30-48a1-cb23-f4621353a27c"
      },
      "execution_count": null,
      "outputs": [
        {
          "output_type": "stream",
          "name": "stdout",
          "text": [
            "30\n",
            "832040 28\n"
          ]
        }
      ]
    },
    {
      "cell_type": "markdown",
      "source": [
        "## 컵홀더: https://www.acmicpc.net/problem/2810"
      ],
      "metadata": {
        "id": "g6vclPEusEri"
      }
    },
    {
      "cell_type": "code",
      "source": [
        "n = int(input())\n",
        "s = input()\n",
        "print(min(n, 1 + s.count('LL') + s.count('S')))"
      ],
      "metadata": {
        "colab": {
          "base_uri": "https://localhost:8080/"
        },
        "id": "3x9fElbUahpf",
        "outputId": "689e4104-e7df-4ff0-e321-f5a79a463099"
      },
      "execution_count": null,
      "outputs": [
        {
          "output_type": "stream",
          "name": "stdout",
          "text": [
            "9\n",
            "SLLLLSSLL\n",
            "7\n"
          ]
        }
      ]
    },
    {
      "cell_type": "markdown",
      "source": [
        "## 오르막길: https://www.acmicpc.net/problem/2846"
      ],
      "metadata": {
        "id": "xNZJ5DZB2rMR"
      }
    },
    {
      "cell_type": "code",
      "source": [
        "n = int(input())\n",
        "data = list(map(int, input().split()))\n",
        "data.append(0)\n",
        "hill = []\n",
        "height = 0\n",
        "\n",
        "for i in range(1, n + 1):\n",
        "  if data[i - 1] < data[i]:\n",
        "    height += data[i] - data[i - 1]\n",
        "  else:\n",
        "    hill.append(height)\n",
        "    height = 0\n",
        "\n",
        "print(max(hill))"
      ],
      "metadata": {
        "colab": {
          "base_uri": "https://localhost:8080/"
        },
        "id": "UUwIhonruK4f",
        "outputId": "7060985e-b09b-4304-d5cc-da4c59ac1230"
      },
      "execution_count": null,
      "outputs": [
        {
          "output_type": "stream",
          "name": "stdout",
          "text": [
            "5\n",
            "1 2 1 4 6\n",
            "5\n"
          ]
        }
      ]
    },
    {
      "cell_type": "markdown",
      "source": [
        "## 슈퍼 마리오: https://www.acmicpc.net/problem/2851"
      ],
      "metadata": {
        "id": "YbaIsugc2uXi"
      }
    },
    {
      "cell_type": "code",
      "source": [
        "n, result = 0, 0\n",
        "for _ in range(10):\n",
        "  mush = int(input())\n",
        "  n += mush\n",
        "  if 100 - result >= abs(100 - n):\n",
        "    result = n\n",
        "\n",
        "print(result)"
      ],
      "metadata": {
        "colab": {
          "base_uri": "https://localhost:8080/"
        },
        "id": "W0iMb7_GyGpv",
        "outputId": "b82c3b83-9d34-4afd-dcad-577f087a1670"
      },
      "execution_count": null,
      "outputs": [
        {
          "output_type": "stream",
          "name": "stdout",
          "text": [
            "40\n",
            "40\n",
            "40\n",
            "40\n",
            "40\n",
            "40\n",
            "40\n",
            "40\n",
            "40\n",
            "40\n",
            "120\n"
          ]
        }
      ]
    },
    {
      "cell_type": "code",
      "source": [
        "score = [int(input())]\n",
        "for i in range(1, 10):\n",
        "  score.append(score[i - 1] + int(input()))\n",
        "  if score[i] >= 100:\n",
        "    break\n",
        "\n",
        "score.sort(reverse = True)\n",
        "\n",
        "if abs(100 - score[0]) > abs(100 - score[1]):\n",
        "  print(score[1])\n",
        "else:\n",
        "  print(score[0])"
      ],
      "metadata": {
        "colab": {
          "base_uri": "https://localhost:8080/"
        },
        "id": "EPC_5gBl4xo_",
        "outputId": "bc603319-65c8-4291-837f-736f7eeebef1"
      },
      "execution_count": null,
      "outputs": [
        {
          "output_type": "stream",
          "name": "stdout",
          "text": [
            "40\n",
            "40\n",
            "40\n",
            "120\n"
          ]
        }
      ]
    },
    {
      "cell_type": "markdown",
      "source": [
        "## 유레카 이론: https://www.acmicpc.net/problem/10448"
      ],
      "metadata": {
        "id": "UQyP--BlC88p"
      }
    },
    {
      "cell_type": "code",
      "source": [
        "data = [0] * 51\n",
        "for i in range(1, 51):\n",
        "  data[i] = data[i - 1] + i\n",
        "\n",
        "for _ in range(int(input())):\n",
        "  n = int(input())\n",
        "  result = 0\n",
        "  if data.count(n):\n",
        "    result = 1\n",
        "  else:\n",
        "    for i in range(1, 51):\n",
        "      for j in range(i, 51):\n",
        "        for k in range(j, 51):\n",
        "          if n == data[i] + data[j] + data[k]:\n",
        "            result = 1\n",
        "  print(result)"
      ],
      "metadata": {
        "colab": {
          "base_uri": "https://localhost:8080/"
        },
        "id": "oNuycQUwC_98",
        "outputId": "1a1a12f7-4ca2-4a64-a14e-4e1e0c5bbca7"
      },
      "execution_count": null,
      "outputs": [
        {
          "output_type": "stream",
          "name": "stdout",
          "text": [
            "3\n",
            "10\n",
            "1\n",
            "20\n",
            "0\n",
            "1000\n",
            "1\n"
          ]
        }
      ]
    },
    {
      "cell_type": "code",
      "source": [
        "triangle = [n*(n+1)//2 for n in range(1, 46)]\n",
        "\n",
        "eureka = [0] * 1001\n",
        "\n",
        "for i in triangle:\n",
        "    for j in triangle:\n",
        "        for k in triangle:\n",
        "            if i+j+k <= 1000:\n",
        "                eureka[i+j+k] = 1\n",
        "\n",
        "for _ in range(int(input())):\n",
        "    print(eureka[int(input())])"
      ],
      "metadata": {
        "colab": {
          "base_uri": "https://localhost:8080/"
        },
        "id": "8O0z-abzLCti",
        "outputId": "cee3c507-6aaa-4fb1-c059-6849a7bdcbb6"
      },
      "execution_count": null,
      "outputs": [
        {
          "output_type": "stream",
          "name": "stdout",
          "text": [
            "3\n",
            "10\n",
            "1\n",
            "20\n",
            "0\n",
            "1000\n",
            "1\n"
          ]
        }
      ]
    },
    {
      "cell_type": "markdown",
      "source": [
        "## Yangjojang of The Year: https://www.acmicpc.net/problem/11557"
      ],
      "metadata": {
        "id": "QakMBN7ALy0Z"
      }
    },
    {
      "cell_type": "code",
      "source": [
        "for _ in range(int(input())):\n",
        "  data = []\n",
        "  for i in range(int(input())):\n",
        "    s, a = input().split()\n",
        "    data.append((int(a), s))\n",
        "  data.sort()\n",
        "  print(max(data)[1])"
      ],
      "metadata": {
        "colab": {
          "base_uri": "https://localhost:8080/"
        },
        "id": "x2S_fk1yLNxB",
        "outputId": "a13e7a37-2fb7-411d-dc31-b0f08ca27a71"
      },
      "execution_count": null,
      "outputs": [
        {
          "output_type": "stream",
          "name": "stdout",
          "text": [
            "2\n",
            "3\n",
            "Yonsei 10\n",
            "Korea 10000000\n",
            "Ewha 20\n",
            "Korea\n",
            "2\n",
            "Yonsei 1\n",
            "Korea 10000000\n",
            "Korea\n"
          ]
        }
      ]
    },
    {
      "cell_type": "markdown",
      "source": [
        "## 적어도 대부분의 배수: https://www.acmicpc.net/problem/1145"
      ],
      "metadata": {
        "id": "0HUVSL9mNPhr"
      }
    },
    {
      "cell_type": "code",
      "source": [
        "from math import lcm\n",
        "from itertools import combinations\n",
        "\n",
        "nums = list(map(int, input().split()))\n",
        "lcms = []\n",
        "\n",
        "for combi in combinations(nums, 3):\n",
        "    a, b, c = combi\n",
        "    lcm_ = lcm(lcm(a, b), c)\n",
        "    lcms.append(lcm_)\n",
        "\n",
        "print(min(lcms))"
      ],
      "metadata": {
        "colab": {
          "base_uri": "https://localhost:8080/"
        },
        "id": "u6vbINzLMtWl",
        "outputId": "da83fc58-909a-42ff-aafe-4a75e6238930"
      },
      "execution_count": null,
      "outputs": [
        {
          "output_type": "stream",
          "name": "stdout",
          "text": [
            "30 42 70 35 90\n",
            "210\n"
          ]
        }
      ]
    },
    {
      "cell_type": "markdown",
      "source": [
        "## 나무 조각: https://www.acmicpc.net/problem/2947"
      ],
      "metadata": {
        "id": "yWI7G5CA_PpF"
      }
    },
    {
      "cell_type": "code",
      "source": [
        "arr = list(map(int, input().split()))\n",
        "for i in range(len(arr)):\n",
        "  for j in range(len(arr) - i - 1):\n",
        "    if arr[j] > arr[j+1]:\n",
        "       arr[j], arr[j+1] = arr[j+1], arr[j]\n",
        "       print(*arr)"
      ],
      "metadata": {
        "id": "R-uoxdV-PkDv",
        "colab": {
          "base_uri": "https://localhost:8080/"
        },
        "outputId": "a0181643-553e-4239-e2d8-e3ee7d27c3ce"
      },
      "execution_count": null,
      "outputs": [
        {
          "output_type": "stream",
          "name": "stdout",
          "text": [
            "2 3 4 5 1\n",
            "2 3 4 1 5\n",
            "2 3 1 4 5\n",
            "2 1 3 4 5\n",
            "1 2 3 4 5\n"
          ]
        }
      ]
    },
    {
      "cell_type": "markdown",
      "source": [
        "## 나머지와 몫이 같은 수: https://www.acmicpc.net/problem/1834"
      ],
      "metadata": {
        "id": "6WpbS3s1EW50"
      }
    },
    {
      "cell_type": "code",
      "source": [
        "n = int(input())\n",
        "print(sum([n * i + i for i in range(1, n)]))"
      ],
      "metadata": {
        "colab": {
          "base_uri": "https://localhost:8080/"
        },
        "id": "34Zei5CW_5F3",
        "outputId": "fb8d92f2-53b7-4c12-d60d-069ce7e65852"
      },
      "execution_count": null,
      "outputs": [
        {
          "output_type": "stream",
          "name": "stdout",
          "text": [
            "2000000\n",
            "3999999999999000000\n"
          ]
        }
      ]
    },
    {
      "cell_type": "markdown",
      "source": [
        "## 딱지놀이: https://www.acmicpc.net/problem/14696"
      ],
      "metadata": {
        "id": "6Qw0dow0IqEZ"
      }
    },
    {
      "cell_type": "code",
      "source": [
        "import sys\n",
        "input = sys.stdin.readline\n",
        "\n",
        "for _ in range(int(input())):\n",
        "  a = list(map(int, input().split()[1:]))\n",
        "  b = list(map(int, input().split()[1:]))\n",
        "  for i in range(4, 0, -1):\n",
        "    if a.count(i) > b.count(i):\n",
        "      result = 'A'\n",
        "      break\n",
        "    elif a.count(i) < b.count(i):\n",
        "      result = 'B'\n",
        "      break\n",
        "    else:\n",
        "      result = 'D'\n",
        "  print(result)"
      ],
      "metadata": {
        "colab": {
          "base_uri": "https://localhost:8080/"
        },
        "id": "3G_8FH5mCbZt",
        "outputId": "2dab4ffe-f0b0-4552-8cb7-1c21dba41335"
      },
      "execution_count": null,
      "outputs": [
        {
          "output_type": "stream",
          "name": "stdout",
          "text": [
            "4\n",
            "4 4 3 2 1\n",
            "4 1 4 3 2\n",
            "D\n",
            "4 3 3 2 1\n",
            "4 4 3 3 3\n",
            "B\n",
            "4 4 3 3 3\n",
            "4 3 4 3 2\n",
            "A\n",
            "4 3 2 1 1\n",
            "3 3 2 1\n",
            "A\n"
          ]
        }
      ]
    },
    {
      "cell_type": "markdown",
      "source": [
        "## 가장 큰 금민수 : https://www.acmicpc.net/problem/1526"
      ],
      "metadata": {
        "id": "iquVNJU1I9zr"
      }
    },
    {
      "cell_type": "code",
      "source": [
        "for i in range(int(input()), 3, -1):\n",
        "  flag = True\n",
        "  for j in str(i):\n",
        "    if j not in ['4', '7']:\n",
        "      flag = False\n",
        "  if flag:\n",
        "    print(i)\n",
        "    break"
      ],
      "metadata": {
        "colab": {
          "base_uri": "https://localhost:8080/"
        },
        "id": "rcbECRSgFvV0",
        "outputId": "4eb3aca2-c90d-4ab8-fbf8-504b1eba7dd1"
      },
      "execution_count": null,
      "outputs": [
        {
          "output_type": "stream",
          "name": "stdout",
          "text": [
            "474747\n",
            "474747\n"
          ]
        }
      ]
    },
    {
      "cell_type": "code",
      "source": [
        "n = input()\n",
        "while n.count('4') + n.count('7') != len(n):\n",
        "    n = str(int(n) - 1)\n",
        "\n",
        "print(n)"
      ],
      "metadata": {
        "colab": {
          "base_uri": "https://localhost:8080/"
        },
        "id": "xhFvu8DHIy-k",
        "outputId": "2e6958a9-89d6-49f3-ef7b-b37953f3e8a4"
      },
      "execution_count": null,
      "outputs": [
        {
          "output_type": "stream",
          "name": "stdout",
          "text": [
            "474747\n",
            "474747\n"
          ]
        }
      ]
    },
    {
      "cell_type": "code",
      "source": [
        "n = int(input())\n",
        "while set(list(str(n))) - {\"4\", \"7\"}:\n",
        "    n -= 1\n",
        "print(n)"
      ],
      "metadata": {
        "id": "kzMazjlrMa-0"
      },
      "execution_count": null,
      "outputs": []
    },
    {
      "cell_type": "markdown",
      "source": [
        "## 0의 개수: https://www.acmicpc.net/problem/11170"
      ],
      "metadata": {
        "id": "S_sLTCCNNZ5y"
      }
    },
    {
      "cell_type": "code",
      "source": [
        "import sys\n",
        "input = sys.stdin.readline\n",
        "\n",
        "for _ in range(int(input())):\n",
        "  a, b = map(int, input().split())\n",
        "  count = 0\n",
        "  for i in range(a, b + 1):\n",
        "    count += str(i).count('0')\n",
        "  print(count)"
      ],
      "metadata": {
        "colab": {
          "base_uri": "https://localhost:8080/"
        },
        "id": "T7YnVjz2NZQ_",
        "outputId": "14938308-ce70-4b56-99a6-c962a575bc8c"
      },
      "execution_count": null,
      "outputs": [
        {
          "output_type": "stream",
          "name": "stdout",
          "text": [
            "3\n",
            "0 10\n",
            "2\n",
            "33 1005\n",
            "199\n",
            "1 4\n",
            "0\n"
          ]
        }
      ]
    },
    {
      "cell_type": "markdown",
      "source": [
        "## 한조서열정리하고옴ㅋㅋ: https://www.acmicpc.net/problem/14659"
      ],
      "metadata": {
        "id": "8gOVf6KKxz_H"
      }
    },
    {
      "cell_type": "code",
      "source": [
        "max_count, count = 0, 0\n",
        "\n",
        "n = int(input())\n",
        "data = list(map(int, input().split()))\n",
        "max_data = data[0]\n",
        "\n",
        "for i in range(1, n):\n",
        "  if data[i] < max_data:\n",
        "    count += 1\n",
        "  else:\n",
        "    max_data = data[i]\n",
        "    max_count = max(max_count, count)\n",
        "    count = 0\n",
        "\n",
        "print(max(max_count, count))"
      ],
      "metadata": {
        "id": "iH1hn3oSNlFl",
        "colab": {
          "base_uri": "https://localhost:8080/"
        },
        "outputId": "9027f53b-2753-419a-e3f7-f331a591a4ae"
      },
      "execution_count": null,
      "outputs": [
        {
          "output_type": "stream",
          "name": "stdout",
          "text": [
            "6\n",
            "6 4 10 2 5 7\n",
            "3\n"
          ]
        }
      ]
    },
    {
      "cell_type": "markdown",
      "source": [
        "## 싸이클: https://www.acmicpc.net/problem/2526"
      ],
      "metadata": {
        "id": "bh_ZkJ892X5e"
      }
    },
    {
      "cell_type": "code",
      "source": [
        "n, p = map(int, input().split())\n",
        "array = []\n",
        "x = n\n",
        "\n",
        "while True:\n",
        "  x = x * n % p\n",
        "  if x in array:\n",
        "    break\n",
        "  array.append(x)\n",
        "\n",
        "print(len(array) - array.index(x))"
      ],
      "metadata": {
        "colab": {
          "base_uri": "https://localhost:8080/"
        },
        "id": "AaUcK46dy3CP",
        "outputId": "c3aecb77-4f83-4c08-d207-ef1b52f30163"
      },
      "execution_count": null,
      "outputs": [
        {
          "output_type": "stream",
          "name": "stdout",
          "text": [
            "2 32\n",
            "1\n"
          ]
        }
      ]
    },
    {
      "cell_type": "code",
      "source": [
        "# 싸이클의 처음 인덱스\n",
        "print(array.index(x))"
      ],
      "metadata": {
        "colab": {
          "base_uri": "https://localhost:8080/"
        },
        "id": "3I0-7-v13i5g",
        "outputId": "a01b4eba-4711-4be0-c3c7-ca2aa8803f88"
      },
      "execution_count": null,
      "outputs": [
        {
          "output_type": "stream",
          "name": "stdout",
          "text": [
            "3\n"
          ]
        }
      ]
    },
    {
      "cell_type": "markdown",
      "source": [
        "## 소가 길을 건너간 이유 1: https://www.acmicpc.net/problem/14467"
      ],
      "metadata": {
        "id": "yhxttH-p9y45"
      }
    },
    {
      "cell_type": "code",
      "source": [
        "data = {}\n",
        "count = 0\n",
        "\n",
        "for i in range(int(input())):\n",
        "  n, p = map(int, input().split())\n",
        "  if n in data and data[n] != p:\n",
        "    count += 1\n",
        "  data[n] = p\n",
        "\n",
        "print(count)"
      ],
      "metadata": {
        "colab": {
          "base_uri": "https://localhost:8080/"
        },
        "id": "myVP_Y-P7pj8",
        "outputId": "3cdf0591-b4cc-40df-f535-6a696608fe21"
      },
      "execution_count": null,
      "outputs": [
        {
          "output_type": "stream",
          "name": "stdout",
          "text": [
            "8\n",
            "3 1\n",
            "3 0\n",
            "6 0\n",
            "2 1\n",
            "4 1\n",
            "3 0\n",
            "4 0\n",
            "3 1\n",
            "3\n"
          ]
        }
      ]
    },
    {
      "cell_type": "markdown",
      "source": [
        "## 애너그램: https://www.acmicpc.net/problem/6996"
      ],
      "metadata": {
        "id": "EREcHuVR72mK"
      }
    },
    {
      "cell_type": "code",
      "source": [
        "for _ in range(int(input())):\n",
        "  a, b = input().split()\n",
        "  string = list(a)\n",
        "  for x in b:\n",
        "    string.pop(string.index(x))\n",
        "\n",
        "  m = 'NOT ' if string else ''\n",
        "\n",
        "  print(f'{a} & {b} are {m}anagrams.')"
      ],
      "metadata": {
        "colab": {
          "base_uri": "https://localhost:8080/"
        },
        "id": "uDmIEEAb--tW",
        "outputId": "2220020e-39de-436f-de92-b4ae598f2392"
      },
      "execution_count": null,
      "outputs": [
        {
          "output_type": "stream",
          "name": "stdout",
          "text": [
            "3\n",
            "blather reblath\n",
            "blather & reblath are anagrams\n",
            "maryland landam\n",
            "maryland & landam are NOT anagrams\n",
            "bizarre brazier\n",
            "bizarre & brazier are anagrams\n"
          ]
        }
      ]
    },
    {
      "cell_type": "code",
      "source": [
        "for _ in range(int(input())):\n",
        "  a, b = input().split()\n",
        "  a1 = sorted(a)\n",
        "  b1 = sorted(b)\n",
        "\n",
        "  m = ''  if a1 == b1 else 'NOT '\n",
        "\n",
        "  print(f'{a} & {b} are {m}anagrams.')"
      ],
      "metadata": {
        "colab": {
          "base_uri": "https://localhost:8080/"
        },
        "id": "8cioLRjq9SlF",
        "outputId": "64bddf8b-72da-4103-aa8a-279e585b1b4a"
      },
      "execution_count": null,
      "outputs": [
        {
          "output_type": "stream",
          "name": "stdout",
          "text": [
            "3\n",
            "blather reblath\n",
            "blather & reblath are anagrams.\n",
            "maryland landam\n",
            "maryland & landam are NOT anagrams.\n",
            "bizarre brazier\n",
            "bizarre & brazier are anagrams.\n"
          ]
        }
      ]
    },
    {
      "cell_type": "markdown",
      "source": [
        "## 롤 케이크: https://www.acmicpc.net/problem/3985"
      ],
      "metadata": {
        "id": "Z5KsOhpb40dJ"
      }
    },
    {
      "cell_type": "code",
      "source": [
        "cake = [0] * (int(input()) + 1)\n",
        "number = []\n",
        "for i in range(1, int(input()) + 1):\n",
        "  p, k = map(int, input().split())\n",
        "  piece = range(p, k + 1)\n",
        "  for j in piece:\n",
        "    if cake[j] == 0:\n",
        "      cake[j] = i\n",
        "  number.append((len(piece), cake.count(i)))\n",
        "\n",
        "for i in range(2):\n",
        "  print(number.index(max(number, key=lambda x: x[i])) + 1)"
      ],
      "metadata": {
        "id": "XN0B1Z46_Rnv",
        "colab": {
          "base_uri": "https://localhost:8080/"
        },
        "outputId": "05bef375-f0a3-4f38-a7c0-730c8128b70a"
      },
      "execution_count": null,
      "outputs": [
        {
          "output_type": "stream",
          "name": "stdout",
          "text": [
            "10\n",
            "3\n",
            "1 3\n",
            "5 7\n",
            "8 9\n",
            "1\n",
            "1\n"
          ]
        }
      ]
    },
    {
      "cell_type": "code",
      "source": [
        "len(range(2, 4))"
      ],
      "metadata": {
        "colab": {
          "base_uri": "https://localhost:8080/"
        },
        "id": "Kw5UcubG5uaR",
        "outputId": "f54602d9-cac5-43a7-ba3b-aebf1dd5e838"
      },
      "execution_count": null,
      "outputs": [
        {
          "output_type": "execute_result",
          "data": {
            "text/plain": [
              "2"
            ]
          },
          "metadata": {},
          "execution_count": 33
        }
      ]
    },
    {
      "cell_type": "code",
      "source": [
        "cake"
      ],
      "metadata": {
        "colab": {
          "base_uri": "https://localhost:8080/"
        },
        "id": "37dWSLoqDr4a",
        "outputId": "1940955f-08bd-435a-eef2-1fdb8867d3bb"
      },
      "execution_count": null,
      "outputs": [
        {
          "output_type": "execute_result",
          "data": {
            "text/plain": [
              "[0, 0, 1, 1, 1, 0, 3, 2, 2, 3, 0]"
            ]
          },
          "metadata": {},
          "execution_count": 42
        }
      ]
    },
    {
      "cell_type": "code",
      "source": [],
      "metadata": {
        "id": "V_NJltZUDtDE"
      },
      "execution_count": null,
      "outputs": []
    },
    {
      "cell_type": "markdown",
      "source": [
        "## 단어순서 뒤집기: https://www.acmicpc.net/problem/12605"
      ],
      "metadata": {
        "id": "tDg8pu-Mx4bK"
      }
    },
    {
      "cell_type": "code",
      "source": [
        "for i in range(1, int(input()) + 1):\n",
        "  print(f'Case #{i}:', *input().split()[::-1])"
      ],
      "metadata": {
        "colab": {
          "base_uri": "https://localhost:8080/"
        },
        "id": "W6W5-jwvx5bX",
        "outputId": "9899cdbc-eb34-4bef-8982-47781b4419dc"
      },
      "execution_count": null,
      "outputs": [
        {
          "output_type": "stream",
          "name": "stdout",
          "text": [
            "3\n",
            "this is a test\n",
            "Case #1: test a is this\n",
            "foobar\n",
            "Case #2: foobar\n",
            "all your base\n",
            "Case #3: base your all\n"
          ]
        }
      ]
    },
    {
      "cell_type": "markdown",
      "source": [
        "## 임시 반장 정하기: https://www.acmicpc.net/problem/1268"
      ],
      "metadata": {
        "id": "oD1ezhR72mfH"
      }
    },
    {
      "cell_type": "code",
      "source": [
        "n = int(input())\n",
        "array = [[0 for i in range(n)] for i in range(5)]\n",
        "student = [0] * n\n",
        "\n",
        "for i in range(n):\n",
        "  data = list(map(int, input().split()))\n",
        "  for j in range(5):\n",
        "    array[j][i] = data[j]\n",
        "\n",
        "for i in array:\n",
        "  for j in range(n):\n",
        "    if i.count(i[j]) >= 2:\n",
        "      student[j] += 1\n",
        "\n",
        "print(student.index(max(student)) + 1)"
      ],
      "metadata": {
        "colab": {
          "base_uri": "https://localhost:8080/"
        },
        "id": "Kzy3ZeIm2sFd",
        "outputId": "5ea97540-a2a8-4c6b-b834-0500e3ed7f42"
      },
      "execution_count": null,
      "outputs": [
        {
          "output_type": "stream",
          "name": "stdout",
          "text": [
            "6\n",
            "2 3 1 7 3\n",
            "4 1 9 6 8\n",
            "5 5 2 4 4\n",
            "6 5 2 6 7\n",
            "8 4 2 2 2\n",
            "1 2 3 4 5\n",
            "3\n"
          ]
        }
      ]
    },
    {
      "cell_type": "code",
      "source": [
        "array"
      ],
      "metadata": {
        "id": "PZq01AR74NrH",
        "colab": {
          "base_uri": "https://localhost:8080/"
        },
        "outputId": "145ace7f-489f-435f-bd30-e0d9eafee4fa"
      },
      "execution_count": null,
      "outputs": [
        {
          "output_type": "execute_result",
          "data": {
            "text/plain": [
              "[[2, 4, 5, 6, 8, 1],\n",
              " [3, 1, 5, 5, 4, 2],\n",
              " [1, 9, 2, 2, 2, 3],\n",
              " [7, 6, 4, 6, 2, 4],\n",
              " [3, 8, 4, 7, 2, 5]]"
            ]
          },
          "metadata": {},
          "execution_count": 18
        }
      ]
    },
    {
      "cell_type": "code",
      "source": [
        "new_list = list(map(list, zip(*array)))"
      ],
      "metadata": {
        "id": "I8_1qLDOFWR3"
      },
      "execution_count": null,
      "outputs": []
    },
    {
      "cell_type": "code",
      "source": [
        "new_list"
      ],
      "metadata": {
        "colab": {
          "base_uri": "https://localhost:8080/"
        },
        "id": "mP_ns-HuGCKb",
        "outputId": "ef923ee1-2d39-439e-ebd8-4c11902e8a08"
      },
      "execution_count": null,
      "outputs": [
        {
          "output_type": "execute_result",
          "data": {
            "text/plain": [
              "[[2, 3, 1, 7, 3],\n",
              " [4, 1, 9, 6, 8],\n",
              " [5, 5, 2, 4, 4],\n",
              " [6, 5, 2, 6, 7],\n",
              " [8, 4, 2, 2, 2],\n",
              " [1, 2, 3, 4, 5]]"
            ]
          },
          "metadata": {},
          "execution_count": 21
        }
      ]
    },
    {
      "cell_type": "code",
      "source": [
        "n = int(input())\n",
        "array = [list(map(int, input().split())) for i in range(n)]\n",
        "array = list(map(list, zip(*array)))\n",
        "student = [0] * n\n",
        "\n",
        "for i in array:\n",
        "  for j in range(n):\n",
        "    if i.count(i[j]) >= 2:\n",
        "      student[j] += 1\n",
        "\n",
        "print(student.index(max(student)) + 1)"
      ],
      "metadata": {
        "colab": {
          "base_uri": "https://localhost:8080/"
        },
        "id": "o-D0Z2GJGEPe",
        "outputId": "3a1af7df-abde-4f6b-c61b-75d173388e56"
      },
      "execution_count": null,
      "outputs": [
        {
          "output_type": "stream",
          "name": "stdout",
          "text": [
            "5\n",
            "1 1 1 1 1\n",
            "1 1 1 1 1\n",
            "1 3 4 5 5\n",
            "3 3 3 3 3\n",
            "4 4 4 4 4\n",
            "1\n"
          ]
        }
      ]
    },
    {
      "cell_type": "code",
      "source": [
        "array"
      ],
      "metadata": {
        "colab": {
          "base_uri": "https://localhost:8080/"
        },
        "id": "S-6ESnnXHI0s",
        "outputId": "b072d82b-2faa-40ad-c728-7c46cb615230"
      },
      "execution_count": null,
      "outputs": [
        {
          "output_type": "execute_result",
          "data": {
            "text/plain": [
              "[[1, 1, 1, 3, 4],\n",
              " [1, 1, 3, 3, 4],\n",
              " [1, 1, 4, 3, 4],\n",
              " [1, 1, 5, 3, 4],\n",
              " [1, 1, 5, 3, 4]]"
            ]
          },
          "metadata": {},
          "execution_count": 33
        }
      ]
    },
    {
      "cell_type": "code",
      "source": [
        "student"
      ],
      "metadata": {
        "colab": {
          "base_uri": "https://localhost:8080/"
        },
        "id": "JA1v5dNdHU85",
        "outputId": "bdc9ad24-7818-426d-8482-1c89cb151e94"
      },
      "execution_count": null,
      "outputs": [
        {
          "output_type": "execute_result",
          "data": {
            "text/plain": [
              "[5, 5, 3, 1, 1]"
            ]
          },
          "metadata": {},
          "execution_count": 34
        }
      ]
    },
    {
      "cell_type": "code",
      "source": [
        "n = int(input())\n",
        "array = [list(map(int, input().split())) for i in range(n)]\n",
        "student = [0] * n\n",
        "\n",
        "for k in range(n):\n",
        "  visited = [False for _ in range(n)]\n",
        "  for i in range(5):\n",
        "    for j in range(n):\n",
        "      if j != k and array[j][i] == array[k][i]:\n",
        "        visited[j] = True\n",
        "  student[k] = len(list(filter(lambda x: x, visited)))\n",
        "\n",
        "print(student.index(max(student)) + 1)"
      ],
      "metadata": {
        "colab": {
          "base_uri": "https://localhost:8080/"
        },
        "id": "OH1QUmqEK6aw",
        "outputId": "a62e7cc5-2bcc-403a-a453-210f6ce01f27"
      },
      "execution_count": null,
      "outputs": [
        {
          "output_type": "stream",
          "name": "stdout",
          "text": [
            "5\n",
            "1 1 1 1 1\n",
            "1 1 1 1 1\n",
            "1 3 4 5 5\n",
            "3 3 3 3 3\n",
            "4 4 4 4 4\n",
            "3\n"
          ]
        }
      ]
    },
    {
      "cell_type": "markdown",
      "source": [
        "## 민균이의 비밀번호: https://www.acmicpc.net/problem/9933"
      ],
      "metadata": {
        "id": "UasLfkrenrlj"
      }
    },
    {
      "cell_type": "code",
      "source": [
        "n = int(input())\n",
        "data = [input() for _ in range(n)]\n",
        "\n",
        "for i in range(n):\n",
        "  for j in range(i, n):\n",
        "    if data[i][::-1] == data[j]:\n",
        "      string = data[i]\n",
        "\n",
        "print(len(string), string[len(string) // 2])"
      ],
      "metadata": {
        "id": "OuOgnAB0Q6Ne",
        "colab": {
          "base_uri": "https://localhost:8080/"
        },
        "outputId": "f45f3b1e-9e8a-4c0c-c673-eee8de4972fe"
      },
      "execution_count": null,
      "outputs": [
        {
          "output_type": "stream",
          "name": "stdout",
          "text": [
            "4\n",
            "kisik\n",
            "ptq\n",
            "tttrp\n",
            "tulipan\n",
            "5 s\n"
          ]
        }
      ]
    },
    {
      "cell_type": "code",
      "source": [
        "data = []\n",
        "\n",
        "for _ in range(int(input())):\n",
        "  string = input()\n",
        "  data.append(string[::-1])\n",
        "  if string in data:\n",
        "    print(len(string), string[len(string) // 2])\n",
        "    exit()"
      ],
      "metadata": {
        "colab": {
          "base_uri": "https://localhost:8080/"
        },
        "id": "DZHd_T8ArxMl",
        "outputId": "fd688450-5fbd-48e7-ad04-c4ba0f3793ee"
      },
      "execution_count": null,
      "outputs": [
        {
          "name": "stdout",
          "output_type": "stream",
          "text": [
            "4\n",
            "kisik\n",
            "5 s\n",
            "ptq\n",
            "tttrp\n",
            "tulipan\n"
          ]
        }
      ]
    },
    {
      "cell_type": "markdown",
      "source": [
        "## 유진수: https://www.acmicpc.net/problem/1356"
      ],
      "metadata": {
        "id": "aW2QSB-HsRd6"
      }
    },
    {
      "cell_type": "code",
      "source": [
        "def sol(n):\n",
        "  num = 1\n",
        "  for i in n:\n",
        "    num *= int(i)\n",
        "  return num\n",
        "\n",
        "number = input()\n",
        "m = 'NO'\n",
        "\n",
        "for i in range(1, len(number)):\n",
        "  n1, n2 = sol(number[:i]), sol(number[i:])\n",
        "  if n1 == n2:\n",
        "    m = 'YES'\n",
        "\n",
        "print(m)"
      ],
      "metadata": {
        "id": "diyzCRXRsEo5",
        "colab": {
          "base_uri": "https://localhost:8080/"
        },
        "outputId": "c7a5f7c0-1bdc-407d-9af0-17b3674f3435"
      },
      "execution_count": null,
      "outputs": [
        {
          "output_type": "stream",
          "name": "stdout",
          "text": [
            "42393338\n",
            "YES\n"
          ]
        }
      ]
    },
    {
      "cell_type": "markdown",
      "source": [
        "## 크로스워드 만들기: https://www.acmicpc.net/problem/2804"
      ],
      "metadata": {
        "id": "WPZKs2JNq2FG"
      }
    },
    {
      "cell_type": "code",
      "source": [
        "def sol(a, b):\n",
        "  for x in a:\n",
        "    if x in b:\n",
        "      return a.index(x)\n",
        "\n",
        "A, B = input().split()\n",
        "word = [['.'] * len(A) for _ in range(len(B))]\n",
        "\n",
        "h, w = sol(A, B), sol(B, A)\n",
        "\n",
        "for i in range(len(word)):\n",
        "  word[i][h] = B[i]\n",
        "word[w] = A\n",
        "\n",
        "for i in word:\n",
        "  print(''.join(i))"
      ],
      "metadata": {
        "id": "7RYg_dpeu4SL",
        "colab": {
          "base_uri": "https://localhost:8080/"
        },
        "outputId": "cea2f977-b86d-4c8d-9d09-1c52e277fa84"
      },
      "execution_count": null,
      "outputs": [
        {
          "output_type": "stream",
          "name": "stdout",
          "text": [
            "REPUBLIKA HRVATSKA\n",
            "H........\n",
            "REPUBLIKA\n",
            "V........\n",
            "A........\n",
            "T........\n",
            "S........\n",
            "K........\n",
            "A........\n"
          ]
        }
      ]
    },
    {
      "cell_type": "code",
      "source": [
        "A, B = input().split()\n",
        "word = [['.'] * len(A) for _ in range(len(B))]\n",
        "\n",
        "for i in range(len(A)):\n",
        "  if A[i] in B:\n",
        "    row = i\n",
        "    col = B.index(A[i])\n",
        "    break\n",
        "\n",
        "for i in range(len(word)):\n",
        "  word[i][row] = B[i]\n",
        "word[col] = A\n",
        "\n",
        "for i in word:\n",
        "  print(''.join(i))"
      ],
      "metadata": {
        "colab": {
          "base_uri": "https://localhost:8080/"
        },
        "id": "0IAgErG_zeU3",
        "outputId": "c38abd6e-ae6f-4273-da3f-c5375992f969"
      },
      "execution_count": null,
      "outputs": [
        {
          "output_type": "stream",
          "name": "stdout",
          "text": [
            "REPUBLIKA HRVATSKA\n",
            "H........\n",
            "REPUBLIKA\n",
            "V........\n",
            "A........\n",
            "T........\n",
            "S........\n",
            "K........\n",
            "A........\n"
          ]
        }
      ]
    },
    {
      "cell_type": "code",
      "source": [
        "word"
      ],
      "metadata": {
        "colab": {
          "base_uri": "https://localhost:8080/"
        },
        "id": "38rE2hGEzJmQ",
        "outputId": "ccb5c700-594c-406c-f79d-e1c8d031f2c9"
      },
      "execution_count": null,
      "outputs": [
        {
          "output_type": "execute_result",
          "data": {
            "text/plain": [
              "[['.', 'P', '.', '.', '.', '.'],\n",
              " ['.', 'I', '.', '.', '.', '.'],\n",
              " ['.', 'D', '.', '.', '.', '.'],\n",
              " ['.', 'Z', '.', '.', '.', '.'],\n",
              " 'BANANA',\n",
              " ['.', 'M', '.', '.', '.', '.'],\n",
              " ['.', 'A', '.', '.', '.', '.']]"
            ]
          },
          "metadata": {},
          "execution_count": 45
        }
      ]
    },
    {
      "cell_type": "code",
      "source": [
        "A, B = 'REPUBLIKA HRVATSKA'.split()\n",
        "h, w = sol(A, B), sol(B, A)\n",
        "print(h, w)"
      ],
      "metadata": {
        "colab": {
          "base_uri": "https://localhost:8080/"
        },
        "id": "LsYa-a-irilU",
        "outputId": "fc410ab3-aa33-4244-cd9b-2e45612b64f6"
      },
      "execution_count": null,
      "outputs": [
        {
          "output_type": "stream",
          "name": "stdout",
          "text": [
            "0 1\n"
          ]
        }
      ]
    },
    {
      "cell_type": "markdown",
      "source": [
        "## 행복한지 슬픈지: https://www.acmicpc.net/problem/10769"
      ],
      "metadata": {
        "id": "tHv3Z2eT0eft"
      }
    },
    {
      "cell_type": "code",
      "source": [
        "message = input()\n",
        "\n",
        "happy = message.count(':-)')\n",
        "sad = message.count(':-(')\n",
        "\n",
        "if happy == sad == 0:\n",
        "  print('none')\n",
        "elif happy == sad:\n",
        "  print('unsure')\n",
        "elif happy > sad:\n",
        "  print('happy')\n",
        "elif happy < sad:\n",
        "  print('sad')"
      ],
      "metadata": {
        "colab": {
          "base_uri": "https://localhost:8080/"
        },
        "id": "I_nQf2of0kf1",
        "outputId": "f719e297-536d-4d9c-8e0f-2991d6c4a461"
      },
      "execution_count": null,
      "outputs": [
        {
          "output_type": "stream",
          "name": "stdout",
          "text": [
            "This:-(is str:-(:-(ange te:-)xt.\n",
            "sad\n"
          ]
        }
      ]
    },
    {
      "cell_type": "markdown",
      "source": [
        "## 색종이: https://www.acmicpc.net/problem/10163"
      ],
      "metadata": {
        "id": "bSxsNM7Uyh5L"
      }
    },
    {
      "cell_type": "code",
      "source": [
        "# import sys\n",
        "# input = sys.stdin.readline\n",
        "\n",
        "N = int(input())\n",
        "matrix = [[0]*1001 for _ in range(1001)]\n",
        "for k in range(1,N+1):\n",
        "    x, y, w, h = map(int, input().split())\n",
        "    for i in range(x, x + w):\n",
        "        for j in range(y, y + h):\n",
        "            matrix[i][j] = k\n",
        "cnt_color = [0] * (N + 1)\n",
        "for i in range(1001):\n",
        "    for j in range(1001):\n",
        "        if matrix[i][j]:\n",
        "            cnt_color[matrix[i][j]] += 1\n",
        "\n",
        "for i in range(1,N+1):\n",
        "    print(cnt_color[i])"
      ],
      "metadata": {
        "colab": {
          "base_uri": "https://localhost:8080/"
        },
        "id": "0LOqxWbpykBH",
        "outputId": "b166c2a1-2a50-455f-e5df-8ad75da9d6a4"
      },
      "execution_count": null,
      "outputs": [
        {
          "output_type": "stream",
          "name": "stdout",
          "text": [
            "3\n",
            "0 2 10 10\n",
            "7 9 8 4\n",
            "8 4 10 6\n",
            "81\n",
            "25\n",
            "60\n"
          ]
        }
      ]
    },
    {
      "cell_type": "code",
      "source": [
        "cnt_color"
      ],
      "metadata": {
        "colab": {
          "base_uri": "https://localhost:8080/"
        },
        "id": "HBnRdhYB6V10",
        "outputId": "4774e0a7-459c-4a3a-8c3d-09f093829a8f"
      },
      "execution_count": null,
      "outputs": [
        {
          "output_type": "execute_result",
          "data": {
            "text/plain": [
              "[0, 81, 25, 60]"
            ]
          },
          "metadata": {},
          "execution_count": 3
        }
      ]
    },
    {
      "cell_type": "markdown",
      "source": [
        "## 수열의 변화: https://www.acmicpc.net/problem/1551"
      ],
      "metadata": {
        "id": "TPXuwEhC7Zsp"
      }
    },
    {
      "cell_type": "code",
      "source": [
        "n, k = map(int, input().split())\n",
        "series = list(map(int, input().split(',')))\n",
        "\n",
        "for _ in range(k):\n",
        "  series2 = [series[i] - series[i - 1] for i in range(1, len(series))]\n",
        "  series = series2\n",
        "\n",
        "print(*series, sep=',')"
      ],
      "metadata": {
        "colab": {
          "base_uri": "https://localhost:8080/"
        },
        "id": "EEDDM2FQ6s16",
        "outputId": "d9883317-bdd0-4206-f880-6a6659ec80d0"
      },
      "execution_count": null,
      "outputs": [
        {
          "output_type": "stream",
          "name": "stdout",
          "text": [
            "5 2\n",
            "5,6,3,9,-1\n",
            "-4,9,-16\n"
          ]
        }
      ]
    },
    {
      "cell_type": "markdown",
      "source": [
        "## 비밀 이메일: https://www.acmicpc.net/problem/2999"
      ],
      "metadata": {
        "id": "UQ9d6IT8GRc5"
      }
    },
    {
      "cell_type": "code",
      "source": [
        "string = input()\n",
        "length = len(string)\n",
        "\n",
        "for i in range(1, length // 2 + 1):\n",
        "    for j in range(i, length + 1):\n",
        "        if i * j == length:\n",
        "            x, y = i, j\n",
        "\n",
        "for i in range(x):\n",
        "    for j in range(y):\n",
        "        print(string[i + j * x], end='')"
      ],
      "metadata": {
        "colab": {
          "base_uri": "https://localhost:8080/"
        },
        "id": "1VpmWPaa9_f8",
        "outputId": "6d7372e7-3981-4fac-d9a1-0cfffa2f4f3e"
      },
      "execution_count": null,
      "outputs": [
        {
          "output_type": "stream",
          "name": "stdout",
          "text": [
            "boudonuimilcbsai\n",
            "bombonisuuladici"
          ]
        }
      ]
    },
    {
      "cell_type": "markdown",
      "source": [
        "## 유니크: https://www.acmicpc.net/problem/5533"
      ],
      "metadata": {
        "id": "qBgMWy0H0ZsQ"
      }
    },
    {
      "cell_type": "code",
      "source": [
        "n = int(input())\n",
        "game = [list(map(int, input().split())) for _ in range(n)]\n",
        "game = list(zip(*game))\n",
        "player = [0] * n\n",
        "\n",
        "for round in game:\n",
        "  for j in range(n):\n",
        "    if round.count(round[j]) == 1:\n",
        "      player[j] += round[j]\n",
        "\n",
        "for score in player:\n",
        "  print(score)"
      ],
      "metadata": {
        "id": "PAsI2icEGBFI",
        "colab": {
          "base_uri": "https://localhost:8080/"
        },
        "outputId": "1a5e8980-8b73-4561-8c41-8e3472288d9c"
      },
      "execution_count": null,
      "outputs": [
        {
          "output_type": "stream",
          "name": "stdout",
          "text": [
            "5\n",
            "100 99 98\n",
            "100 97 92\n",
            "63 89 63\n",
            "99 99 99\n",
            "89 97 98\n",
            "0\n",
            "92\n",
            "215\n",
            "198\n",
            "89\n"
          ]
        }
      ]
    },
    {
      "cell_type": "markdown",
      "source": [
        "## 나는 학급회장이다: https://www.acmicpc.net/problem/2456"
      ],
      "metadata": {
        "id": "C5MgFSA-3iSS"
      }
    },
    {
      "cell_type": "code",
      "source": [
        "vote = [list(map(int, input().split())) for _ in range(int(input()))]\n",
        "vote = list(zip(*vote))\n",
        "score = [(sum(vote[i]), vote[i].count(3), vote[i].count(2)) for i in range(len(vote))]\n",
        "score = list(zip(*score))\n",
        "chair = 0\n",
        "\n",
        "for i in range(len(score)):\n",
        "  if score[i].count(max(score[i])) == 1:\n",
        "    chair = score[i].index(max(score[i])) + 1\n",
        "    break\n",
        "\n",
        "print(chair, max(score[0]))"
      ],
      "metadata": {
        "colab": {
          "base_uri": "https://localhost:8080/"
        },
        "id": "mFrvaIT13ki2",
        "outputId": "501d8126-1c55-4ddf-8226-df50e25998d2"
      },
      "execution_count": null,
      "outputs": [
        {
          "output_type": "stream",
          "name": "stdout",
          "text": [
            "6\n",
            "1 2 3\n",
            "3 1 2\n",
            "2 3 1\n",
            "1 2 3\n",
            "3 1 2\n",
            "2 3 1\n",
            "0 12\n"
          ]
        }
      ]
    },
    {
      "cell_type": "code",
      "source": [
        "vote = [list(map(int, input().split())) for _ in range(int(input()))]\n",
        "vote = list(zip(*vote))\n",
        "score = [(sum(vote[i]), vote[i].count(3), vote[i].count(2)) for i in range(len(vote))]\n",
        "score[score.index(min(score, key = lambda x: x[0]))] = (0, 0, 0)\n",
        "score = list(zip(*score))\n",
        "chair = 0\n",
        "\n",
        "for i in range(len(score)):\n",
        "  if score[i].count(max(score[i])) == 1:\n",
        "    chair = score[i].index(max(score[i])) + 1\n",
        "    break\n",
        "\n",
        "print(chair, max(score[0]))"
      ],
      "metadata": {
        "colab": {
          "base_uri": "https://localhost:8080/"
        },
        "id": "M2YvioRO_Jjv",
        "outputId": "979d3a1d-a07e-4360-bf10-170a6cfe33a3"
      },
      "execution_count": null,
      "outputs": [
        {
          "output_type": "stream",
          "name": "stdout",
          "text": [
            "6\n",
            "1 2 3\n",
            "3 1 2\n",
            "2 3 1\n",
            "1 2 3\n",
            "3 1 2\n",
            "2 3 1\n",
            "0 12\n"
          ]
        }
      ]
    },
    {
      "cell_type": "markdown",
      "source": [
        "- 다른 사람의 코드: https://www.acmicpc.net/source/65071314"
      ],
      "metadata": {
        "id": "etyfFOxsLHd0"
      }
    },
    {
      "cell_type": "code",
      "source": [
        "vote = [list(map(int, input().split())) for _ in range(int(input()))]\n",
        "\n",
        "vote = sorted([(sum(v), v.count(3), v.count(2), i + 1) for i, v in enumerate(zip(*vote))], reverse = True)\n",
        "print(0 if vote[0][:3] == vote[1][:3] else vote[0][3], vote[0][0])"
      ],
      "metadata": {
        "colab": {
          "base_uri": "https://localhost:8080/"
        },
        "id": "Wr9A4AFdGYph",
        "outputId": "f68136ba-f8b9-4dfe-a7a8-cdd03c08d2c8"
      },
      "execution_count": null,
      "outputs": [
        {
          "output_type": "stream",
          "name": "stdout",
          "text": [
            "6\n",
            "1 2 3\n",
            "3 1 2\n",
            "2 3 1\n",
            "1 2 3\n",
            "3 1 2\n",
            "2 3 1\n",
            "0 12\n"
          ]
        }
      ]
    },
    {
      "cell_type": "code",
      "source": [
        "vote"
      ],
      "metadata": {
        "colab": {
          "base_uri": "https://localhost:8080/"
        },
        "id": "MZLnFujM4Eb-",
        "outputId": "8dfe82ac-489a-4cab-97ce-604ad4869742"
      },
      "execution_count": null,
      "outputs": [
        {
          "output_type": "execute_result",
          "data": {
            "text/plain": [
              "[(12, 2, 2, 3), (12, 2, 2, 2), (12, 2, 2, 1)]"
            ]
          },
          "metadata": {},
          "execution_count": 49
        }
      ]
    },
    {
      "cell_type": "code",
      "source": [
        "score"
      ],
      "metadata": {
        "colab": {
          "base_uri": "https://localhost:8080/"
        },
        "id": "emzh7wecE9Lu",
        "outputId": "f453263d-fc5d-4702-b0a0-0c1ebc0dd59a"
      },
      "execution_count": null,
      "outputs": [
        {
          "output_type": "execute_result",
          "data": {
            "text/plain": [
              "[(0, 12, 12), (0, 2, 2), (0, 2, 2)]"
            ]
          },
          "metadata": {},
          "execution_count": 43
        }
      ]
    },
    {
      "cell_type": "code",
      "source": [
        "max(score, key = lambda x: x[2])"
      ],
      "metadata": {
        "colab": {
          "base_uri": "https://localhost:8080/"
        },
        "id": "khMoIrpv9pZT",
        "outputId": "3f5903e9-61cf-40a5-8037-2547dafe3f85"
      },
      "execution_count": null,
      "outputs": [
        {
          "output_type": "execute_result",
          "data": {
            "text/plain": [
              "(13, 2, 3)"
            ]
          },
          "metadata": {},
          "execution_count": 36
        }
      ]
    },
    {
      "cell_type": "markdown",
      "source": [
        "## 피카츄: https://www.acmicpc.net/problem/14405"
      ],
      "metadata": {
        "id": "WrzZgOttL-Ve"
      }
    },
    {
      "cell_type": "code",
      "source": [
        "pikachu = ['pi', 'ka', 'chu']\n",
        "string = input()\n",
        "\n",
        "for x in pikachu:\n",
        "  string = string.replace(x, '', string.count(x))\n",
        "\n",
        "print('NO' if string else 'YES')"
      ],
      "metadata": {
        "colab": {
          "base_uri": "https://localhost:8080/"
        },
        "id": "A2ixPEqfSAgU",
        "outputId": "ff41a84b-596d-4ff6-9071-fd7fb6705874"
      },
      "execution_count": null,
      "outputs": [
        {
          "output_type": "stream",
          "name": "stdout",
          "text": [
            "kpia\n",
            "YES\n"
          ]
        }
      ]
    },
    {
      "cell_type": "code",
      "source": [
        "string"
      ],
      "metadata": {
        "colab": {
          "base_uri": "https://localhost:8080/",
          "height": 35
        },
        "id": "8wEP5zTYShaX",
        "outputId": "ebbbffa9-fb44-4812-9b8f-c245f811e5fe"
      },
      "execution_count": null,
      "outputs": [
        {
          "output_type": "execute_result",
          "data": {
            "text/plain": [
              "''"
            ],
            "application/vnd.google.colaboratory.intrinsic+json": {
              "type": "string"
            }
          },
          "metadata": {},
          "execution_count": 107
        }
      ]
    },
    {
      "cell_type": "markdown",
      "source": [
        "- 바꿀 문자를 공백으로 넣었을 때 반례 -> kpia"
      ],
      "metadata": {
        "id": "jCmI56ndR_-4"
      }
    },
    {
      "cell_type": "code",
      "source": [
        "pikachu = ['pi', 'ka', 'chu']\n",
        "string = input()\n",
        "\n",
        "for x in pikachu:\n",
        "  string = string.replace(x, '@', string.count(x))\n",
        "\n",
        "print('YES' if len(string) == string.count('@') else 'NO')"
      ],
      "metadata": {
        "colab": {
          "base_uri": "https://localhost:8080/"
        },
        "id": "adqffb-CD5aP",
        "outputId": "0fac6027-eb40-4b90-894f-4639b52fb6b6"
      },
      "execution_count": null,
      "outputs": [
        {
          "output_type": "stream",
          "name": "stdout",
          "text": [
            "kpia\n",
            "NO\n"
          ]
        }
      ]
    },
    {
      "cell_type": "code",
      "source": [
        "string"
      ],
      "metadata": {
        "colab": {
          "base_uri": "https://localhost:8080/",
          "height": 35
        },
        "id": "3Ae9JLaiMNzw",
        "outputId": "e70a6c0c-58f4-4b7c-979a-25e04ff219be"
      },
      "execution_count": null,
      "outputs": [
        {
          "output_type": "execute_result",
          "data": {
            "text/plain": [
              "'k@a'"
            ],
            "application/vnd.google.colaboratory.intrinsic+json": {
              "type": "string"
            }
          },
          "metadata": {},
          "execution_count": 109
        }
      ]
    },
    {
      "cell_type": "markdown",
      "source": [
        "- 참고: https://hong-devbox.tistory.com/9"
      ],
      "metadata": {
        "id": "p_MPd6qeQHd2"
      }
    },
    {
      "cell_type": "markdown",
      "source": [
        "## 차량 번호판 1: https://www.acmicpc.net/problem/16968"
      ],
      "metadata": {
        "id": "ujzFKQNBTqb1"
      }
    },
    {
      "cell_type": "code",
      "source": [
        "form = input()\n",
        "cases = [('dd', 90), ('cc', 650), ('d', 10), ('c', 26)]\n",
        "count = 1\n",
        "\n",
        "for x in cases:\n",
        "  value = form.count(x[0])\n",
        "  count *= x[1] ** value\n",
        "  form = form.replace(x[0], '@', value)\n",
        "\n",
        "print(count)"
      ],
      "metadata": {
        "id": "qEXu7EY2jiBJ"
      },
      "execution_count": null,
      "outputs": []
    },
    {
      "cell_type": "code",
      "source": [
        "form = input()\n",
        "count = 26 if form[0] == 'c' else 10\n",
        "\n",
        "for i in range(1, len(form)):\n",
        "  if form[i - 1] == 'c':\n",
        "    count *= 25 if form[i] == 'c' else 10\n",
        "  else:\n",
        "    count *= 9 if form[i] == 'd' else 26\n",
        "print(count)"
      ],
      "metadata": {
        "colab": {
          "base_uri": "https://localhost:8080/"
        },
        "id": "E26aB9hnTta2",
        "outputId": "d26d0c12-77f0-44cc-d916-2941775a5535"
      },
      "execution_count": null,
      "outputs": [
        {
          "output_type": "stream",
          "name": "stdout",
          "text": [
            "dcdd\n",
            "23400\n"
          ]
        }
      ]
    },
    {
      "cell_type": "markdown",
      "source": [
        "- 다른 사람의 코드: https://codesyun.tistory.com/175"
      ],
      "metadata": {
        "id": "5jwJFujllkD8"
      }
    },
    {
      "cell_type": "code",
      "source": [
        "cases = {'c': 26, 'd': 10}\n",
        "s = input()\n",
        "\n",
        "result = cases[s[0]]\n",
        "\n",
        "for i in range(1, len(s)):\n",
        "  result *= cases[s[i]] - (1 if s[i] == s[i - 1] else 0)\n",
        "\n",
        "print(result)"
      ],
      "metadata": {
        "id": "hvcNoDw-lJB_"
      },
      "execution_count": null,
      "outputs": []
    },
    {
      "cell_type": "code",
      "source": [
        "count"
      ],
      "metadata": {
        "colab": {
          "base_uri": "https://localhost:8080/"
        },
        "id": "JNDQSgbEVP8_",
        "outputId": "609536f5-0a14-44bb-90d3-b7df8d90fa9a"
      },
      "execution_count": null,
      "outputs": [
        {
          "output_type": "execute_result",
          "data": {
            "text/plain": [
              "23400"
            ]
          },
          "metadata": {},
          "execution_count": 116
        }
      ]
    },
    {
      "cell_type": "code",
      "source": [
        "form"
      ],
      "metadata": {
        "colab": {
          "base_uri": "https://localhost:8080/",
          "height": 35
        },
        "id": "Z6I3L3GAgNJc",
        "outputId": "c919d2bd-e6da-48d5-b9ef-0e236e9c81af"
      },
      "execution_count": null,
      "outputs": [
        {
          "output_type": "execute_result",
          "data": {
            "text/plain": [
              "'@@'"
            ],
            "application/vnd.google.colaboratory.intrinsic+json": {
              "type": "string"
            }
          },
          "metadata": {},
          "execution_count": 121
        }
      ]
    },
    {
      "cell_type": "markdown",
      "source": [
        "## 반올림: https://www.acmicpc.net/problem/2033"
      ],
      "metadata": {
        "id": "lyCk1tMFm7V4"
      }
    },
    {
      "cell_type": "code",
      "source": [
        "number = int(input())\n",
        "\n",
        "for i in range(1, len(str(number))):\n",
        "  d = 10 ** i\n",
        "  div, mod = divmod(number, d)\n",
        "  number = (div + (1 if mod >= 5 * (10 ** (i - 1)) else 0)) * d\n",
        "  # print(number)\n",
        "\n",
        "print(number)"
      ],
      "metadata": {
        "colab": {
          "base_uri": "https://localhost:8080/"
        },
        "id": "4Ks00xSYm-TB",
        "outputId": "284f3794-68a3-49b1-a8e9-e2a49e29a8fd"
      },
      "execution_count": null,
      "outputs": [
        {
          "output_type": "stream",
          "name": "stdout",
          "text": [
            "4545454545\n",
            "4545454550\n",
            "4545454600\n",
            "4545455000\n",
            "4545460000\n",
            "4545500000\n",
            "4546000000\n",
            "4550000000\n",
            "4600000000\n",
            "5000000000\n",
            "5000000000\n"
          ]
        }
      ]
    },
    {
      "cell_type": "code",
      "source": [
        "s = int(input())\n",
        "for i in range(1, len(str(s))):\n",
        "    s = int(round(s + 0.1, -i))\n",
        "print(s)"
      ],
      "metadata": {
        "colab": {
          "base_uri": "https://localhost:8080/"
        },
        "id": "5I6y6yhRugtE",
        "outputId": "c5af2415-7cba-4db6-df3f-e87aa3d16425"
      },
      "execution_count": null,
      "outputs": [
        {
          "output_type": "stream",
          "name": "stdout",
          "text": [
            "446\n",
            "450\n",
            "500\n",
            "500\n"
          ]
        }
      ]
    },
    {
      "cell_type": "markdown",
      "source": [
        "## 박스 : https://www.acmicpc.net/problem/9455"
      ],
      "metadata": {
        "id": "-ZdW6i1oBMWL"
      }
    },
    {
      "cell_type": "code",
      "source": [
        "array = [0, 0, 0, 1, 0]\n",
        "array[3:].count(0)"
      ],
      "metadata": {
        "id": "_F4U-MYduoN1",
        "colab": {
          "base_uri": "https://localhost:8080/"
        },
        "outputId": "5fd70eeb-4b80-4a8a-c22a-9f5345f80d9b"
      },
      "execution_count": 6,
      "outputs": [
        {
          "output_type": "execute_result",
          "data": {
            "text/plain": [
              "1"
            ]
          },
          "metadata": {},
          "execution_count": 6
        }
      ]
    },
    {
      "cell_type": "code",
      "source": [
        "array = [1, 0, 1, 0, 1]\n",
        "array[0:].count(0)"
      ],
      "metadata": {
        "colab": {
          "base_uri": "https://localhost:8080/"
        },
        "id": "5XKiQhKvBCeg",
        "outputId": "1ef88a51-a775-4f28-d637-d7a71f72bd17"
      },
      "execution_count": 8,
      "outputs": [
        {
          "output_type": "execute_result",
          "data": {
            "text/plain": [
              "2"
            ]
          },
          "metadata": {},
          "execution_count": 8
        }
      ]
    },
    {
      "cell_type": "code",
      "source": [
        "for _ in range(int(input())):\n",
        "  n, m = map(int, input().split())\n",
        "  array = [list(map(int,input().split())) for _ in range(n)]\n",
        "  array = list(zip(*array))"
      ],
      "metadata": {
        "colab": {
          "base_uri": "https://localhost:8080/"
        },
        "id": "3IOmGfOYBX01",
        "outputId": "f152a0ef-5483-4edc-a155-728a63015786"
      },
      "execution_count": 9,
      "outputs": [
        {
          "name": "stdout",
          "output_type": "stream",
          "text": [
            "1\n",
            "5 4\n",
            "1 0 0 0\n",
            "0 0 1 0\n",
            "1 0 0 1\n",
            "0 1 0 0\n",
            "1 0 1 0\n"
          ]
        }
      ]
    },
    {
      "cell_type": "code",
      "source": [
        "array"
      ],
      "metadata": {
        "colab": {
          "base_uri": "https://localhost:8080/"
        },
        "id": "_iNvO366CaLY",
        "outputId": "4870c0ef-10bd-4838-a80b-bd11b4c77d39"
      },
      "execution_count": 10,
      "outputs": [
        {
          "output_type": "execute_result",
          "data": {
            "text/plain": [
              "[(1, 0, 1, 0, 1), (0, 0, 0, 1, 0), (0, 1, 0, 0, 1), (0, 0, 1, 0, 0)]"
            ]
          },
          "metadata": {},
          "execution_count": 10
        }
      ]
    },
    {
      "cell_type": "code",
      "source": [
        "answer = 0\n",
        "for i in range(m):\n",
        "  for j in range(n):\n",
        "    if array[i][j] == 1:\n",
        "      answer += array[i][j:].count(0)\n",
        "\n",
        "print(answer)"
      ],
      "metadata": {
        "colab": {
          "base_uri": "https://localhost:8080/"
        },
        "id": "Fz66Uy3LCfrp",
        "outputId": "97c949ed-29ac-4580-ed90-65ec5de4c92f"
      },
      "execution_count": 12,
      "outputs": [
        {
          "output_type": "stream",
          "name": "stdout",
          "text": [
            "8\n"
          ]
        }
      ]
    },
    {
      "cell_type": "code",
      "source": [
        "# import sys\n",
        "# input = sys.stdin.readline\n",
        "\n",
        "for _ in range(int(input())):\n",
        "  n, m = map(int, input().split())\n",
        "  array = [list(map(int,input().split())) for _ in range(n)]\n",
        "  array = list(zip(*array))\n",
        "\n",
        "  answer = 0\n",
        "  for i in range(m):\n",
        "    for j in range(n):\n",
        "      if array[i][j] == 1:\n",
        "        answer += array[i][j:].count(0)\n",
        "\n",
        "  print(answer)"
      ],
      "metadata": {
        "colab": {
          "base_uri": "https://localhost:8080/"
        },
        "id": "l6pX6bn3DKwz",
        "outputId": "7fea489c-eac2-4e5d-93a3-a99041292131"
      },
      "execution_count": 13,
      "outputs": [
        {
          "output_type": "stream",
          "name": "stdout",
          "text": [
            "3\n",
            "5 4\n",
            "1 0 0 0\n",
            "0 0 1 0\n",
            "1 0 0 1\n",
            "0 1 0 0\n",
            "1 0 1 0\n",
            "8\n",
            "3 3\n",
            "1 1 1\n",
            "1 1 1\n",
            "0 0 0\n",
            "6\n",
            "5 6\n",
            "1 0 1 1 0 1\n",
            "0 0 0 0 0 0\n",
            "1 1 1 0 0 0\n",
            "0 0 0 1 1 1\n",
            "0 1 0 1 0 1\n",
            "16\n"
          ]
        }
      ]
    },
    {
      "cell_type": "code",
      "source": [
        "# import sys\n",
        "# input = sys.stdin.readline\n",
        "\n",
        "for _ in range(int(input())):\n",
        "  n, _ = map(int, input().split())\n",
        "  array = [list(map(int,input().split())) for _ in range(n)]\n",
        "\n",
        "  answer = 0\n",
        "  for box in zip(*array):\n",
        "    for j in range(n):\n",
        "      if box[j] == 1:\n",
        "        answer += box[j:].count(0)\n",
        "\n",
        "  print(answer)"
      ],
      "metadata": {
        "colab": {
          "base_uri": "https://localhost:8080/"
        },
        "id": "qaF84OcdDTEY",
        "outputId": "79194597-b5ee-490d-a487-41fd9b242041"
      },
      "execution_count": 14,
      "outputs": [
        {
          "output_type": "stream",
          "name": "stdout",
          "text": [
            "3\n",
            "5 4\n",
            "1 0 0 0\n",
            "0 0 1 0\n",
            "1 0 0 1\n",
            "0 1 0 0\n",
            "1 0 1 0\n",
            "8\n",
            "3 3\n",
            "1 1 1\n",
            "1 1 1\n",
            "0 0 0\n",
            "6\n",
            "5 6\n",
            "1 0 1 1 0 1\n",
            "0 0 0 0 0 0\n",
            "1 1 1 0 0 0\n",
            "0 0 0 1 1 1\n",
            "0 1 0 1 0 1\n",
            "16\n"
          ]
        }
      ]
    },
    {
      "cell_type": "code",
      "source": [
        "# import sys\n",
        "# input = sys.stdin.readline\n",
        "\n",
        "for _ in range(int(input())):\n",
        "  n, _ = map(int, input().split())\n",
        "  array = [list(map(int,input().split())) for _ in range(n)]\n",
        "  print(sum(box[j:].count(0) for box in zip(*array) for j in range(n) if box[j] == 1))"
      ],
      "metadata": {
        "colab": {
          "base_uri": "https://localhost:8080/"
        },
        "id": "YaxK2tfqI1WV",
        "outputId": "51c6c53d-e0e0-40e1-b616-6a3f15cc88d2"
      },
      "execution_count": 32,
      "outputs": [
        {
          "output_type": "stream",
          "name": "stdout",
          "text": [
            "3\n",
            "5 4\n",
            "1 0 0 0\n",
            "0 0 1 0\n",
            "1 0 0 1\n",
            "0 1 0 0\n",
            "1 0 1 0\n",
            "8\n",
            "3 3\n",
            "1 1 1\n",
            "1 1 1\n",
            "0 0 0\n",
            "6\n",
            "5 6\n",
            "1 0 1 1 0 1\n",
            "0 0 0 0 0 0\n",
            "1 1 1 0 0 0\n",
            "0 0 0 1 1 1\n",
            "0 1 0 1 0 1\n",
            "16\n"
          ]
        }
      ]
    },
    {
      "cell_type": "markdown",
      "source": [
        "## Doubles: https://www.acmicpc.net/problem/4641"
      ],
      "metadata": {
        "id": "4KBDY41wFL3C"
      }
    },
    {
      "cell_type": "code",
      "source": [
        "array = list(map(int, '1 4 3 2 9 7 18 22 0'.split()))\n",
        "array.pop()\n",
        "result = 0\n",
        "print(array)\n",
        "for i in array:\n",
        "  result += array.count(i * 2)\n",
        "  print(i, array.count(i * 2))\n",
        "\n",
        "print(result)"
      ],
      "metadata": {
        "colab": {
          "base_uri": "https://localhost:8080/"
        },
        "id": "oHTTVx2WEJVD",
        "outputId": "2fd3a0b7-5f83-472d-d887-1af2c477bfcc"
      },
      "execution_count": 21,
      "outputs": [
        {
          "output_type": "stream",
          "name": "stdout",
          "text": [
            "[1, 4, 3, 2, 9, 7, 18, 22]\n",
            "1 1\n",
            "4 0\n",
            "3 0\n",
            "2 1\n",
            "9 1\n",
            "7 0\n",
            "18 0\n",
            "22 0\n",
            "3\n"
          ]
        }
      ]
    },
    {
      "cell_type": "code",
      "source": [
        "while True:\n",
        "  array = list(map(int, input().split()))\n",
        "  if array[0] == -1:\n",
        "    break\n",
        "  array.pop()\n",
        "  result = 0\n",
        "  for i in array:\n",
        "    result += array.count(i * 2)\n",
        "  print(result)"
      ],
      "metadata": {
        "colab": {
          "base_uri": "https://localhost:8080/"
        },
        "id": "RvEaoM-kFZND",
        "outputId": "9aa4bec5-f29f-4a0d-801e-be0b4971dfa2"
      },
      "execution_count": 27,
      "outputs": [
        {
          "name": "stdout",
          "output_type": "stream",
          "text": [
            "1 4 3 2 9 7 18 22 0\n",
            "3\n",
            "2 4 8 10 0\n",
            "2\n",
            "7 5 11 13 1 3 0\n",
            "0\n",
            "-1\n"
          ]
        }
      ]
    },
    {
      "cell_type": "code",
      "source": [
        "while True:\n",
        "  array = list(map(int, input().split()))\n",
        "  if array[0] == -1:\n",
        "    break\n",
        "  array.pop()\n",
        "  print(sum(array.count(i * 2) for i in array))"
      ],
      "metadata": {
        "colab": {
          "base_uri": "https://localhost:8080/"
        },
        "id": "EUpIP3-wHx1A",
        "outputId": "539139d3-ec33-4ca1-94fc-787ddc34a91b"
      },
      "execution_count": 29,
      "outputs": [
        {
          "name": "stdout",
          "output_type": "stream",
          "text": [
            "1 4 3 2 9 7 18 22 0\n",
            "3\n",
            "2 4 8 10 0\n",
            "2\n",
            "7 5 11 13 1 3 0\n",
            "0\n",
            "-1\n"
          ]
        }
      ]
    },
    {
      "cell_type": "code",
      "source": [
        "while (s:=input()) > '0':\n",
        "  *array, _ = map(int, s.split())\n",
        "  print(sum(array.count(i * 2) for i in array))"
      ],
      "metadata": {
        "colab": {
          "base_uri": "https://localhost:8080/"
        },
        "id": "GM0aJIH2GHc0",
        "outputId": "a91542a3-76c0-4301-a25a-6b10e3534c51"
      },
      "execution_count": 26,
      "outputs": [
        {
          "name": "stdout",
          "output_type": "stream",
          "text": [
            "1 4 3 2 9 7 18 22 0\n",
            "3\n",
            "2 4 8 10 0\n",
            "2\n",
            "7 5 11 13 1 3 0\n",
            "0\n",
            "-1\n"
          ]
        }
      ]
    },
    {
      "cell_type": "code",
      "source": [],
      "metadata": {
        "id": "IXTs-nv8HVvO"
      },
      "execution_count": null,
      "outputs": []
    }
  ]
}