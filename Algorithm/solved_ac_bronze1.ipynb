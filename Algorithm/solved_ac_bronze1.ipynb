{
  "nbformat": 4,
  "nbformat_minor": 0,
  "metadata": {
    "colab": {
      "provenance": [],
      "authorship_tag": "ABX9TyO/+SeU87cCbKcxKQasrou9",
      "include_colab_link": true
    },
    "kernelspec": {
      "name": "python3",
      "display_name": "Python 3"
    },
    "language_info": {
      "name": "python"
    }
  },
  "cells": [
    {
      "cell_type": "markdown",
      "metadata": {
        "id": "view-in-github",
        "colab_type": "text"
      },
      "source": [
        "<a href=\"https://colab.research.google.com/github/Zamoca42/TIL/blob/main/Algorithm/solved_ac_bronze1.ipynb\" target=\"_parent\"><img src=\"https://colab.research.google.com/assets/colab-badge.svg\" alt=\"Open In Colab\"/></a>"
      ]
    },
    {
      "cell_type": "markdown",
      "source": [
        "## 더하기 사이클: https://www.acmicpc.net/problem/1110"
      ],
      "metadata": {
        "id": "Bx_NT1AYIYoO"
      }
    },
    {
      "cell_type": "code",
      "execution_count": null,
      "metadata": {
        "colab": {
          "base_uri": "https://localhost:8080/"
        },
        "id": "7vb-etevIPXX",
        "outputId": "a4083e7f-c03c-41f2-d2e5-6e7a2e2a2920"
      },
      "outputs": [
        {
          "output_type": "stream",
          "name": "stdout",
          "text": [
            "71\n",
            "12\n"
          ]
        }
      ],
      "source": [
        "def length(string):\n",
        "  return 0 if len(string) == 1 else 1\n",
        "\n",
        "n = input()\n",
        "array = []\n",
        "count = 0\n",
        "\n",
        "while True:\n",
        "  array.append(n)\n",
        "\n",
        "  if array.count(n) == 2:\n",
        "    print(len(array) - 1)\n",
        "    break\n",
        "\n",
        "  sum_value = 0\n",
        "\n",
        "  for i in n:\n",
        "    sum_value += int(i)\n",
        "\n",
        "  n = array[count][length(array[count])] + str(sum_value)[length(str(sum_value))]\n",
        "  count += 1"
      ]
    },
    {
      "cell_type": "code",
      "source": [
        "def addzero(string):\n",
        "  return '0' + string if len(string) == 1 else string\n",
        "\n",
        "n = input()\n",
        "array = []\n",
        "count = 0\n",
        "\n",
        "while True:\n",
        "  array.append(addzero(n))\n",
        "\n",
        "  if array.count(n) == 2:\n",
        "    print(len(array) - 1)\n",
        "    break\n",
        "\n",
        "  value = 0\n",
        "\n",
        "  for i in n:\n",
        "    value += int(i)\n",
        "\n",
        "  value = str(value)\n",
        "  value = addzero(value)\n",
        "\n",
        "  n = array[count][1] + value[1]\n",
        "  count += 1"
      ],
      "metadata": {
        "colab": {
          "base_uri": "https://localhost:8080/"
        },
        "id": "H5M8xv1sI4Um",
        "outputId": "7c0db9ca-37b4-4125-b782-6eadccd982c8"
      },
      "execution_count": null,
      "outputs": [
        {
          "output_type": "stream",
          "name": "stdout",
          "text": [
            "71\n",
            "12\n"
          ]
        }
      ]
    },
    {
      "cell_type": "code",
      "source": [
        "n = int(input())\n",
        "num = n\n",
        "count = 0\n",
        "\n",
        "while True:\n",
        "    a, b = divmod(num, 10)\n",
        "    c = (a + b) % 10\n",
        "    num = (b * 10) + c\n",
        "\n",
        "    count += 1\n",
        "\n",
        "    if num == n:\n",
        "        break\n",
        "\n",
        "print(count)"
      ],
      "metadata": {
        "colab": {
          "base_uri": "https://localhost:8080/"
        },
        "id": "QCUkfB3oI854",
        "outputId": "19e03353-fbfd-46d2-b3b9-0c93be9a7d01"
      },
      "execution_count": null,
      "outputs": [
        {
          "output_type": "stream",
          "name": "stdout",
          "text": [
            "71\n",
            "12\n"
          ]
        }
      ]
    },
    {
      "cell_type": "markdown",
      "source": [
        "## 평균은 넘겠지: https://www.acmicpc.net/problem/4344"
      ],
      "metadata": {
        "id": "-RibWpb2R3Vq"
      }
    },
    {
      "cell_type": "code",
      "source": [
        "for _ in range(int(input())):\n",
        "  data = list(map(int, input().split()))\n",
        "  n = data[0]\n",
        "  score = [i for i in data[1:] if i > int(sum(data[1:]) / n)]\n",
        "\n",
        "  print(f'{(len(score) / len(data[1:]) * 100):.3f}%')"
      ],
      "metadata": {
        "colab": {
          "base_uri": "https://localhost:8080/"
        },
        "id": "MbHYggf3RaRQ",
        "outputId": "cb15c83a-c02f-4c44-e3aa-093b5d623456"
      },
      "execution_count": null,
      "outputs": [
        {
          "output_type": "stream",
          "name": "stdout",
          "text": [
            "5\n",
            "5 50 50 70 80 100\n",
            "40.000%\n",
            "7 100 95 90 80 70 60 50\n",
            "57.143%\n",
            "3 70 90 80\n",
            "33.333%\n",
            "3 70 90 81\n",
            "66.667%\n",
            "9 100 99 98 97 96 95 94 93 91\n",
            "55.556%\n"
          ]
        }
      ]
    },
    {
      "cell_type": "markdown",
      "source": [
        "## 소인수분해: https://www.acmicpc.net/problem/11653"
      ],
      "metadata": {
        "id": "DTIeWOjdam6O"
      }
    },
    {
      "cell_type": "code",
      "source": [
        "import sys\n",
        "input = sys.stdin.readline\n",
        "\n",
        "n = int(input())\n",
        "for i in range(2, n + 1):\n",
        "    while n % i == 0:\n",
        "        print(i)\n",
        "        n //= i\n",
        "    if n == 1:\n",
        "        break"
      ],
      "metadata": {
        "colab": {
          "base_uri": "https://localhost:8080/"
        },
        "id": "4uh3koDjSpxc",
        "outputId": "cb24ba38-09a6-4536-ad44-4b87ce84af68"
      },
      "execution_count": null,
      "outputs": [
        {
          "output_type": "stream",
          "name": "stdout",
          "text": [
            "9991\n",
            "97\n",
            "103\n"
          ]
        }
      ]
    },
    {
      "cell_type": "markdown",
      "source": [
        "## 일곱 난쟁이: https://www.acmicpc.net/problem/2309"
      ],
      "metadata": {
        "id": "Ns067ZN0cWGf"
      }
    },
    {
      "cell_type": "code",
      "source": [
        "array = [20, 7, 23, 19, 10, 15, 25, 8, 13]"
      ],
      "metadata": {
        "id": "DVDCeQaifNv4"
      },
      "execution_count": null,
      "outputs": []
    },
    {
      "cell_type": "code",
      "source": [
        "from itertools import combinations\n",
        "\n",
        "# array = [int(input()) for _ in range(9)]\n",
        "\n",
        "combi = list(combinations(array, 7))\n",
        "combi = [i for i in combi if sum(i) == 100]\n",
        "\n",
        "for i in sorted(combi[0]):\n",
        "  print(i)"
      ],
      "metadata": {
        "colab": {
          "base_uri": "https://localhost:8080/"
        },
        "id": "cYBv97__bEzr",
        "outputId": "0d2b4834-3946-493d-96a6-f6aa950cc712"
      },
      "execution_count": null,
      "outputs": [
        {
          "output_type": "stream",
          "name": "stdout",
          "text": [
            "7\n",
            "8\n",
            "10\n",
            "13\n",
            "19\n",
            "20\n",
            "23\n"
          ]
        }
      ]
    },
    {
      "cell_type": "code",
      "source": [
        "combi"
      ],
      "metadata": {
        "colab": {
          "base_uri": "https://localhost:8080/"
        },
        "id": "as3AsuQXfTQ8",
        "outputId": "223eb2ef-c8ba-4de8-cfbf-f7c3add7444b"
      },
      "execution_count": null,
      "outputs": [
        {
          "output_type": "execute_result",
          "data": {
            "text/plain": [
              "[(20, 7, 23, 19, 10, 8, 13)]"
            ]
          },
          "metadata": {},
          "execution_count": 13
        }
      ]
    },
    {
      "cell_type": "code",
      "source": [
        "from itertools import combinations\n",
        "\n",
        "# array = [int(input()) for _ in range(9)]\n",
        "\n",
        "combi = [i for i in combinations(array, 7) if sum(i) == 100]\n",
        "\n",
        "for i in sorted(combi[0]):\n",
        "  print(i)"
      ],
      "metadata": {
        "colab": {
          "base_uri": "https://localhost:8080/"
        },
        "id": "49ewtIh5fyb2",
        "outputId": "d180528f-4ca9-43ae-cc53-7866490f6c9e"
      },
      "execution_count": null,
      "outputs": [
        {
          "output_type": "stream",
          "name": "stdout",
          "text": [
            "7\n",
            "8\n",
            "10\n",
            "13\n",
            "19\n",
            "20\n",
            "23\n"
          ]
        }
      ]
    },
    {
      "cell_type": "markdown",
      "source": [
        "## 2007년: https://www.acmicpc.net/problem/1924"
      ],
      "metadata": {
        "id": "8pBhYLgqhU8P"
      }
    },
    {
      "cell_type": "code",
      "source": [
        "from datetime import date\n",
        "\n",
        "str_week = ['MON', 'TUE', 'WED', 'THU', 'FRI', 'SAT', 'SUN']\n",
        "\n",
        "m, d = map(int, input().split())\n",
        "\n",
        "print(str_week[date(2007, m, d).weekday()])"
      ],
      "metadata": {
        "colab": {
          "base_uri": "https://localhost:8080/"
        },
        "id": "Zm7fSryhf3pZ",
        "outputId": "26f11567-c5c4-49dd-a41f-40a02d7ad9ab"
      },
      "execution_count": null,
      "outputs": [
        {
          "output_type": "stream",
          "name": "stdout",
          "text": [
            "12 25\n",
            "TUE\n"
          ]
        }
      ]
    },
    {
      "cell_type": "markdown",
      "source": [
        "## 피보나치 수 2: https://www.acmicpc.net/problem/2748"
      ],
      "metadata": {
        "id": "1xughOdVjGtM"
      }
    },
    {
      "cell_type": "code",
      "source": [
        "n = int(input())\n",
        "array = [1] * (n + 1)\n",
        "array[0] = 0\n",
        "\n",
        "for i in range(2, n + 1):\n",
        "  array[i] = array[i - 1] + array[i - 2]\n",
        "\n",
        "print(array[n])"
      ],
      "metadata": {
        "colab": {
          "base_uri": "https://localhost:8080/"
        },
        "id": "NN6PWnBWjKLW",
        "outputId": "01cb2bac-7be6-4ca3-86a6-d9d0449369d6"
      },
      "execution_count": null,
      "outputs": [
        {
          "output_type": "stream",
          "name": "stdout",
          "text": [
            "10\n",
            "55\n"
          ]
        }
      ]
    },
    {
      "cell_type": "markdown",
      "source": [
        "## 약수: https://www.acmicpc.net/problem/1037"
      ],
      "metadata": {
        "id": "RXDR8wMbIkP8"
      }
    },
    {
      "cell_type": "code",
      "source": [
        "n = int(input())\n",
        "\n",
        "array = list(map(int, input().split()))\n",
        "\n",
        "print(min(array) * max(array))"
      ],
      "metadata": {
        "colab": {
          "base_uri": "https://localhost:8080/"
        },
        "id": "G0YomXw5jXAg",
        "outputId": "94d65de6-a619-4b39-9a8e-89f7e13fad6a"
      },
      "execution_count": null,
      "outputs": [
        {
          "output_type": "stream",
          "name": "stdout",
          "text": [
            "6\n",
            "3 4 2 12 6 8\n",
            "24\n"
          ]
        }
      ]
    },
    {
      "cell_type": "markdown",
      "source": [
        "## 초콜릿 자르기: https://www.acmicpc.net/problem/2163"
      ],
      "metadata": {
        "id": "A_t8ZvJfJTnF"
      }
    },
    {
      "cell_type": "code",
      "source": [
        "n, m = map(int, input().split())\n",
        "\n",
        "print(n * m - 1)"
      ],
      "metadata": {
        "colab": {
          "base_uri": "https://localhost:8080/"
        },
        "id": "GGmr27xTIyKC",
        "outputId": "3392e5ce-8407-424f-e4f3-b61a4b13d759"
      },
      "execution_count": null,
      "outputs": [
        {
          "output_type": "stream",
          "name": "stdout",
          "text": [
            "1 1\n",
            "0\n"
          ]
        }
      ]
    },
    {
      "cell_type": "markdown",
      "source": [
        "## 세로읽기: https://www.acmicpc.net/problem/10798"
      ],
      "metadata": {
        "id": "ckIk19JwKDg-"
      }
    },
    {
      "cell_type": "code",
      "source": [
        "array = [input() for i in range(5)]\n",
        "\n",
        "for i in range(15):\n",
        "  for j in range(5):\n",
        "    try:\n",
        "      print(array[j][i], end = '')\n",
        "    except IndexError:\n",
        "      pass"
      ],
      "metadata": {
        "colab": {
          "base_uri": "https://localhost:8080/"
        },
        "id": "Wnwu4b5gJZ4K",
        "outputId": "72bb7c47-b139-476d-b95e-b3fb2f37539b"
      },
      "execution_count": null,
      "outputs": [
        {
          "output_type": "stream",
          "name": "stdout",
          "text": [
            "AABCDD\n",
            "afzz\n",
            "09121\n",
            "a8EWg6\n",
            "P5h3kx\n",
            "Aa0aPAf985Bz1EhCz2W3D1gkD6x"
          ]
        }
      ]
    },
    {
      "cell_type": "markdown",
      "source": [
        "## 명령 프롬프트: https://www.acmicpc.net/problem/1032"
      ],
      "metadata": {
        "id": "oq7KHcA87fbd"
      }
    },
    {
      "cell_type": "code",
      "source": [
        "n = int(input())\n",
        "\n",
        "array = [input() for i in range(n)]\n",
        "\n",
        "for i in range(len(array[0])):\n",
        "  chr = []\n",
        "  for j in range(n):\n",
        "    chr.append(array[j][i])\n",
        "  print(chr[0] if len(set(chr)) == 1 else '?', end = '')"
      ],
      "metadata": {
        "colab": {
          "base_uri": "https://localhost:8080/"
        },
        "id": "figs73LV7hy2",
        "outputId": "e92fea12-42bd-4084-9272-a4e7cd1b5019"
      },
      "execution_count": 5,
      "outputs": [
        {
          "output_type": "stream",
          "name": "stdout",
          "text": [
            "3\n",
            "c.user.mike.programs\n",
            "c.user.nike.programs\n",
            "c.user.rice.programs\n",
            "c.user.?i?e.programs"
          ]
        }
      ]
    }
  ]
}