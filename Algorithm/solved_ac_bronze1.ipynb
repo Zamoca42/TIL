{
  "nbformat": 4,
  "nbformat_minor": 0,
  "metadata": {
    "colab": {
      "provenance": [],
      "authorship_tag": "ABX9TyN8CnmBU1iVHzgVX4JMky6H",
      "include_colab_link": true
    },
    "kernelspec": {
      "name": "python3",
      "display_name": "Python 3"
    },
    "language_info": {
      "name": "python"
    }
  },
  "cells": [
    {
      "cell_type": "markdown",
      "metadata": {
        "id": "view-in-github",
        "colab_type": "text"
      },
      "source": [
        "<a href=\"https://colab.research.google.com/github/Zamoca42/TIL/blob/main/Algorithm/solved_ac_bronze1.ipynb\" target=\"_parent\"><img src=\"https://colab.research.google.com/assets/colab-badge.svg\" alt=\"Open In Colab\"/></a>"
      ]
    },
    {
      "cell_type": "markdown",
      "source": [
        "## 더하기 사이클: https://www.acmicpc.net/problem/1110"
      ],
      "metadata": {
        "id": "Bx_NT1AYIYoO"
      }
    },
    {
      "cell_type": "code",
      "execution_count": null,
      "metadata": {
        "colab": {
          "base_uri": "https://localhost:8080/"
        },
        "id": "7vb-etevIPXX",
        "outputId": "a4083e7f-c03c-41f2-d2e5-6e7a2e2a2920"
      },
      "outputs": [
        {
          "output_type": "stream",
          "name": "stdout",
          "text": [
            "71\n",
            "12\n"
          ]
        }
      ],
      "source": [
        "def length(string):\n",
        "  return 0 if len(string) == 1 else 1\n",
        "\n",
        "n = input()\n",
        "array = []\n",
        "count = 0\n",
        "\n",
        "while True:\n",
        "  array.append(n)\n",
        "\n",
        "  if array.count(n) == 2:\n",
        "    print(len(array) - 1)\n",
        "    break\n",
        "\n",
        "  sum_value = 0\n",
        "\n",
        "  for i in n:\n",
        "    sum_value += int(i)\n",
        "\n",
        "  n = array[count][length(array[count])] + str(sum_value)[length(str(sum_value))]\n",
        "  count += 1"
      ]
    },
    {
      "cell_type": "code",
      "source": [
        "def addzero(string):\n",
        "  return '0' + string if len(string) == 1 else string\n",
        "\n",
        "n = input()\n",
        "array = []\n",
        "count = 0\n",
        "\n",
        "while True:\n",
        "  array.append(addzero(n))\n",
        "\n",
        "  if array.count(n) == 2:\n",
        "    print(len(array) - 1)\n",
        "    break\n",
        "\n",
        "  value = 0\n",
        "\n",
        "  for i in n:\n",
        "    value += int(i)\n",
        "\n",
        "  value = str(value)\n",
        "  value = addzero(value)\n",
        "\n",
        "  n = array[count][1] + value[1]\n",
        "  count += 1"
      ],
      "metadata": {
        "colab": {
          "base_uri": "https://localhost:8080/"
        },
        "id": "H5M8xv1sI4Um",
        "outputId": "7c0db9ca-37b4-4125-b782-6eadccd982c8"
      },
      "execution_count": null,
      "outputs": [
        {
          "output_type": "stream",
          "name": "stdout",
          "text": [
            "71\n",
            "12\n"
          ]
        }
      ]
    },
    {
      "cell_type": "code",
      "source": [
        "n = int(input())\n",
        "num = n\n",
        "count = 0\n",
        "\n",
        "while True:\n",
        "    a, b = divmod(num, 10)\n",
        "    c = (a + b) % 10\n",
        "    num = (b * 10) + c\n",
        "\n",
        "    count += 1\n",
        "\n",
        "    if num == n:\n",
        "        break\n",
        "\n",
        "print(count)"
      ],
      "metadata": {
        "colab": {
          "base_uri": "https://localhost:8080/"
        },
        "id": "QCUkfB3oI854",
        "outputId": "19e03353-fbfd-46d2-b3b9-0c93be9a7d01"
      },
      "execution_count": null,
      "outputs": [
        {
          "output_type": "stream",
          "name": "stdout",
          "text": [
            "71\n",
            "12\n"
          ]
        }
      ]
    },
    {
      "cell_type": "markdown",
      "source": [
        "## 평균은 넘겠지: https://www.acmicpc.net/problem/4344"
      ],
      "metadata": {
        "id": "-RibWpb2R3Vq"
      }
    },
    {
      "cell_type": "code",
      "source": [
        "for _ in range(int(input())):\n",
        "  data = list(map(int, input().split()))\n",
        "  n = data[0]\n",
        "  score = [i for i in data[1:] if i > int(sum(data[1:]) / n)]\n",
        "\n",
        "  print(f'{(len(score) / len(data[1:]) * 100):.3f}%')"
      ],
      "metadata": {
        "colab": {
          "base_uri": "https://localhost:8080/"
        },
        "id": "MbHYggf3RaRQ",
        "outputId": "cb15c83a-c02f-4c44-e3aa-093b5d623456"
      },
      "execution_count": null,
      "outputs": [
        {
          "output_type": "stream",
          "name": "stdout",
          "text": [
            "5\n",
            "5 50 50 70 80 100\n",
            "40.000%\n",
            "7 100 95 90 80 70 60 50\n",
            "57.143%\n",
            "3 70 90 80\n",
            "33.333%\n",
            "3 70 90 81\n",
            "66.667%\n",
            "9 100 99 98 97 96 95 94 93 91\n",
            "55.556%\n"
          ]
        }
      ]
    },
    {
      "cell_type": "markdown",
      "source": [
        "## 소인수분해: https://www.acmicpc.net/problem/11653"
      ],
      "metadata": {
        "id": "DTIeWOjdam6O"
      }
    },
    {
      "cell_type": "code",
      "source": [
        "import sys\n",
        "input = sys.stdin.readline\n",
        "\n",
        "n = int(input())\n",
        "for i in range(2, n + 1):\n",
        "    while n % i == 0:\n",
        "        print(i)\n",
        "        n //= i\n",
        "    if n == 1:\n",
        "        break"
      ],
      "metadata": {
        "colab": {
          "base_uri": "https://localhost:8080/"
        },
        "id": "4uh3koDjSpxc",
        "outputId": "cb24ba38-09a6-4536-ad44-4b87ce84af68"
      },
      "execution_count": null,
      "outputs": [
        {
          "output_type": "stream",
          "name": "stdout",
          "text": [
            "9991\n",
            "97\n",
            "103\n"
          ]
        }
      ]
    },
    {
      "cell_type": "markdown",
      "source": [
        "## 일곱 난쟁이: https://www.acmicpc.net/problem/2309"
      ],
      "metadata": {
        "id": "Ns067ZN0cWGf"
      }
    },
    {
      "cell_type": "code",
      "source": [
        "array = [20, 7, 23, 19, 10, 15, 25, 8, 13]"
      ],
      "metadata": {
        "id": "DVDCeQaifNv4"
      },
      "execution_count": null,
      "outputs": []
    },
    {
      "cell_type": "code",
      "source": [
        "from itertools import combinations\n",
        "\n",
        "# array = [int(input()) for _ in range(9)]\n",
        "\n",
        "combi = list(combinations(array, 7))\n",
        "combi = [i for i in combi if sum(i) == 100]\n",
        "\n",
        "for i in sorted(combi[0]):\n",
        "  print(i)"
      ],
      "metadata": {
        "colab": {
          "base_uri": "https://localhost:8080/"
        },
        "id": "cYBv97__bEzr",
        "outputId": "0d2b4834-3946-493d-96a6-f6aa950cc712"
      },
      "execution_count": null,
      "outputs": [
        {
          "output_type": "stream",
          "name": "stdout",
          "text": [
            "7\n",
            "8\n",
            "10\n",
            "13\n",
            "19\n",
            "20\n",
            "23\n"
          ]
        }
      ]
    },
    {
      "cell_type": "code",
      "source": [
        "combi"
      ],
      "metadata": {
        "colab": {
          "base_uri": "https://localhost:8080/"
        },
        "id": "as3AsuQXfTQ8",
        "outputId": "223eb2ef-c8ba-4de8-cfbf-f7c3add7444b"
      },
      "execution_count": null,
      "outputs": [
        {
          "output_type": "execute_result",
          "data": {
            "text/plain": [
              "[(20, 7, 23, 19, 10, 8, 13)]"
            ]
          },
          "metadata": {},
          "execution_count": 13
        }
      ]
    },
    {
      "cell_type": "code",
      "source": [
        "from itertools import combinations\n",
        "\n",
        "# array = [int(input()) for _ in range(9)]\n",
        "\n",
        "combi = [i for i in combinations(array, 7) if sum(i) == 100]\n",
        "\n",
        "for i in sorted(combi[0]):\n",
        "  print(i)"
      ],
      "metadata": {
        "colab": {
          "base_uri": "https://localhost:8080/"
        },
        "id": "49ewtIh5fyb2",
        "outputId": "d180528f-4ca9-43ae-cc53-7866490f6c9e"
      },
      "execution_count": null,
      "outputs": [
        {
          "output_type": "stream",
          "name": "stdout",
          "text": [
            "7\n",
            "8\n",
            "10\n",
            "13\n",
            "19\n",
            "20\n",
            "23\n"
          ]
        }
      ]
    },
    {
      "cell_type": "markdown",
      "source": [
        "## 2007년: https://www.acmicpc.net/problem/1924"
      ],
      "metadata": {
        "id": "8pBhYLgqhU8P"
      }
    },
    {
      "cell_type": "code",
      "source": [
        "from datetime import date\n",
        "\n",
        "str_week = ['MON', 'TUE', 'WED', 'THU', 'FRI', 'SAT', 'SUN']\n",
        "\n",
        "m, d = map(int, input().split())\n",
        "\n",
        "print(str_week[date(2007, m, d).weekday()])"
      ],
      "metadata": {
        "colab": {
          "base_uri": "https://localhost:8080/"
        },
        "id": "Zm7fSryhf3pZ",
        "outputId": "26f11567-c5c4-49dd-a41f-40a02d7ad9ab"
      },
      "execution_count": null,
      "outputs": [
        {
          "output_type": "stream",
          "name": "stdout",
          "text": [
            "12 25\n",
            "TUE\n"
          ]
        }
      ]
    },
    {
      "cell_type": "markdown",
      "source": [
        "## 피보나치 수 2: https://www.acmicpc.net/problem/2748"
      ],
      "metadata": {
        "id": "1xughOdVjGtM"
      }
    },
    {
      "cell_type": "code",
      "source": [
        "n = int(input())\n",
        "array = [1] * (n + 1)\n",
        "array[0] = 0\n",
        "\n",
        "for i in range(2, n + 1):\n",
        "  array[i] = array[i - 1] + array[i - 2]\n",
        "\n",
        "print(array[n])"
      ],
      "metadata": {
        "colab": {
          "base_uri": "https://localhost:8080/"
        },
        "id": "NN6PWnBWjKLW",
        "outputId": "01cb2bac-7be6-4ca3-86a6-d9d0449369d6"
      },
      "execution_count": null,
      "outputs": [
        {
          "output_type": "stream",
          "name": "stdout",
          "text": [
            "10\n",
            "55\n"
          ]
        }
      ]
    },
    {
      "cell_type": "markdown",
      "source": [
        "## 약수: https://www.acmicpc.net/problem/1037"
      ],
      "metadata": {
        "id": "RXDR8wMbIkP8"
      }
    },
    {
      "cell_type": "code",
      "source": [
        "n = int(input())\n",
        "\n",
        "array = list(map(int, input().split()))\n",
        "\n",
        "print(min(array) * max(array))"
      ],
      "metadata": {
        "colab": {
          "base_uri": "https://localhost:8080/"
        },
        "id": "G0YomXw5jXAg",
        "outputId": "94d65de6-a619-4b39-9a8e-89f7e13fad6a"
      },
      "execution_count": null,
      "outputs": [
        {
          "output_type": "stream",
          "name": "stdout",
          "text": [
            "6\n",
            "3 4 2 12 6 8\n",
            "24\n"
          ]
        }
      ]
    },
    {
      "cell_type": "markdown",
      "source": [
        "## 초콜릿 자르기: https://www.acmicpc.net/problem/2163"
      ],
      "metadata": {
        "id": "A_t8ZvJfJTnF"
      }
    },
    {
      "cell_type": "code",
      "source": [
        "n, m = map(int, input().split())\n",
        "\n",
        "print(n * m - 1)"
      ],
      "metadata": {
        "colab": {
          "base_uri": "https://localhost:8080/"
        },
        "id": "GGmr27xTIyKC",
        "outputId": "3392e5ce-8407-424f-e4f3-b61a4b13d759"
      },
      "execution_count": null,
      "outputs": [
        {
          "output_type": "stream",
          "name": "stdout",
          "text": [
            "1 1\n",
            "0\n"
          ]
        }
      ]
    },
    {
      "cell_type": "markdown",
      "source": [
        "## 세로읽기: https://www.acmicpc.net/problem/10798"
      ],
      "metadata": {
        "id": "ckIk19JwKDg-"
      }
    },
    {
      "cell_type": "code",
      "source": [
        "array = [input() for i in range(5)]\n",
        "\n",
        "for i in range(15):\n",
        "  for j in range(5):\n",
        "    try:\n",
        "      print(array[j][i], end = '')\n",
        "    except IndexError:\n",
        "      pass"
      ],
      "metadata": {
        "colab": {
          "base_uri": "https://localhost:8080/"
        },
        "id": "Wnwu4b5gJZ4K",
        "outputId": "72bb7c47-b139-476d-b95e-b3fb2f37539b"
      },
      "execution_count": null,
      "outputs": [
        {
          "output_type": "stream",
          "name": "stdout",
          "text": [
            "AABCDD\n",
            "afzz\n",
            "09121\n",
            "a8EWg6\n",
            "P5h3kx\n",
            "Aa0aPAf985Bz1EhCz2W3D1gkD6x"
          ]
        }
      ]
    },
    {
      "cell_type": "markdown",
      "source": [
        "## 명령 프롬프트: https://www.acmicpc.net/problem/1032"
      ],
      "metadata": {
        "id": "oq7KHcA87fbd"
      }
    },
    {
      "cell_type": "code",
      "source": [
        "n = int(input())\n",
        "\n",
        "array = [input() for i in range(n)]\n",
        "\n",
        "for i in range(len(array[0])):\n",
        "  chr = []\n",
        "  for j in range(n):\n",
        "    chr.append(array[j][i])\n",
        "  print(chr[0] if len(set(chr)) == 1 else '?', end = '')"
      ],
      "metadata": {
        "colab": {
          "base_uri": "https://localhost:8080/"
        },
        "id": "figs73LV7hy2",
        "outputId": "e92fea12-42bd-4084-9272-a4e7cd1b5019"
      },
      "execution_count": null,
      "outputs": [
        {
          "output_type": "stream",
          "name": "stdout",
          "text": [
            "3\n",
            "c.user.mike.programs\n",
            "c.user.nike.programs\n",
            "c.user.rice.programs\n",
            "c.user.?i?e.programs"
          ]
        }
      ]
    },
    {
      "cell_type": "markdown",
      "source": [
        "## 쉽게 푸는 문제: https://www.acmicpc.net/problem/1292"
      ],
      "metadata": {
        "id": "IDhQkvVMEAQE"
      }
    },
    {
      "cell_type": "code",
      "source": [
        "a, b = map(int, input().split())\n",
        "array = [i for i in range(1, 1001) for j in range(i)]\n",
        "\n",
        "print(sum(array[a - 1: b]))"
      ],
      "metadata": {
        "colab": {
          "base_uri": "https://localhost:8080/"
        },
        "id": "UEMkJpm1ECHm",
        "outputId": "1b51160c-48e8-4806-a72c-7686708380d7"
      },
      "execution_count": null,
      "outputs": [
        {
          "output_type": "stream",
          "name": "stdout",
          "text": [
            "1 1000\n",
            "29820\n"
          ]
        }
      ]
    },
    {
      "cell_type": "markdown",
      "source": [
        "## 단어 뒤집기: https://www.acmicpc.net/problem/9093"
      ],
      "metadata": {
        "id": "vt0LQ8fgG8Sv"
      }
    },
    {
      "cell_type": "code",
      "source": [
        "for _ in range(int(input())):\n",
        "  string = input()[::-1].split()\n",
        "  for x in string[::-1]:\n",
        "    print(x, end = ' ')\n",
        "  print()"
      ],
      "metadata": {
        "colab": {
          "base_uri": "https://localhost:8080/"
        },
        "id": "Ph1wVYXlEgF6",
        "outputId": "d26d60cf-9ae0-4617-97a9-41d06d6acae2"
      },
      "execution_count": null,
      "outputs": [
        {
          "output_type": "stream",
          "name": "stdout",
          "text": [
            "2\n",
            "I am happy today\n",
            "I ma yppah yadot \n",
            "We want to win the first prize\n",
            "eW tnaw ot niw eht tsrif ezirp \n"
          ]
        }
      ]
    },
    {
      "cell_type": "markdown",
      "source": [
        "## 진법 변환 2: https://www.acmicpc.net/problem/11005"
      ],
      "metadata": {
        "id": "YqgOVmmiIpUq"
      }
    },
    {
      "cell_type": "code",
      "source": [
        "array = []\n",
        "a, b = map(int, input().split())\n",
        "\n",
        "while True:\n",
        "\n",
        "  if a < b:\n",
        "    array.append(a)\n",
        "    break\n",
        "\n",
        "  div, mod = divmod(a, b)\n",
        "\n",
        "  a = div\n",
        "\n",
        "  array.append(mod)\n",
        "\n",
        "for i in reversed(array):\n",
        "  print(str(i) if i < 10 else chr(55 + i), end = '')"
      ],
      "metadata": {
        "colab": {
          "base_uri": "https://localhost:8080/"
        },
        "id": "2K0e1awTHPs0",
        "outputId": "54978307-78b4-4625-8dbc-82274c332d27"
      },
      "execution_count": null,
      "outputs": [
        {
          "output_type": "stream",
          "name": "stdout",
          "text": [
            "60466175 24\n",
            "7E5NNN"
          ]
        }
      ]
    },
    {
      "cell_type": "code",
      "source": [
        "base = \"0123456789ABCDEFGHIJKLMNOPQRSTUVWXYZ\"\n",
        "a, b = map(int, input().split())\n",
        "result = ''\n",
        "\n",
        "while a != 0:\n",
        "  result += base[a % b]\n",
        "  a //= b\n",
        "\n",
        "print(result[::-1])"
      ],
      "metadata": {
        "colab": {
          "base_uri": "https://localhost:8080/"
        },
        "id": "w4bd-3hYLyCv",
        "outputId": "1ea1bbf4-7024-42c8-a0e2-d7cba9889a22"
      },
      "execution_count": null,
      "outputs": [
        {
          "output_type": "stream",
          "name": "stdout",
          "text": [
            "60466175 36\n",
            "ZZZZZ\n"
          ]
        }
      ]
    },
    {
      "cell_type": "markdown",
      "source": [
        "## 약수들의 합: https://www.acmicpc.net/problem/9506"
      ],
      "metadata": {
        "id": "VH5rj767WTi8"
      }
    },
    {
      "cell_type": "code",
      "source": [
        "while True:\n",
        "  n = int(input())\n",
        "\n",
        "  if n == -1:\n",
        "    break\n",
        "\n",
        "  data = [i for i in range(2, n // 2 + 1) if not(n % i)]\n",
        "\n",
        "  if sum(data) == n - 1:\n",
        "    m = f'{n} = 1'\n",
        "    for i in data:\n",
        "      m += f' + {i}'\n",
        "  else:\n",
        "    m = f'{n} is NOT perfect.'\n",
        "\n",
        "  print(m)"
      ],
      "metadata": {
        "colab": {
          "base_uri": "https://localhost:8080/"
        },
        "id": "LrfjwJXNOHVi",
        "outputId": "1b896e84-2ab8-4a2d-9f04-bf519ba42e26"
      },
      "execution_count": null,
      "outputs": [
        {
          "name": "stdout",
          "output_type": "stream",
          "text": [
            "6\n",
            "6 = 1 + 2 + 3\n",
            "12\n",
            "12 is NOT perfect.\n",
            "28\n",
            "28 = 1 + 2 + 4 + 7 + 14\n",
            "6\n",
            "6 = 1 + 2 + 3\n",
            "-1\n"
          ]
        }
      ]
    },
    {
      "cell_type": "markdown",
      "source": [
        "## ROT13: https://www.acmicpc.net/problem/11655"
      ],
      "metadata": {
        "id": "9l7mwrKOgD6v"
      }
    },
    {
      "cell_type": "code",
      "source": [
        "string = input()\n",
        "result = ''\n",
        "\n",
        "for x in string:\n",
        "  i = ord(x) + 13\n",
        "  if x.islower():\n",
        "    if i > 122:\n",
        "      i -= 26\n",
        "    result += chr(i)\n",
        "  elif x.isupper():\n",
        "    if i > 90:\n",
        "      i -= 26\n",
        "    result += chr(i)\n",
        "  else:\n",
        "    result += x\n",
        "\n",
        "print(result)"
      ],
      "metadata": {
        "colab": {
          "base_uri": "https://localhost:8080/"
        },
        "id": "w3x4HPV6VtDq",
        "outputId": "e02e5b3e-49f0-489e-923b-b70f776f1d61"
      },
      "execution_count": null,
      "outputs": [
        {
          "output_type": "stream",
          "name": "stdout",
          "text": [
            "One is 1\n",
            "Bar vf 1\n"
          ]
        }
      ]
    },
    {
      "cell_type": "markdown",
      "source": [
        "- rot13"
      ],
      "metadata": {
        "id": "HlMv4NrNga4h"
      }
    },
    {
      "cell_type": "code",
      "source": [
        "import codecs\n",
        "print(codecs.encode(input(),'rot_13'))"
      ],
      "metadata": {
        "id": "Rz8BcspigcVJ"
      },
      "execution_count": null,
      "outputs": []
    },
    {
      "cell_type": "markdown",
      "source": [
        "## 2진수 8진수: https://www.acmicpc.net/problem/1373"
      ],
      "metadata": {
        "id": "yfgP58ZaiFGR"
      }
    },
    {
      "cell_type": "code",
      "source": [
        "print(format(int(input(), 2), 'o'))"
      ],
      "metadata": {
        "colab": {
          "base_uri": "https://localhost:8080/"
        },
        "id": "dD6rFIooiN6Z",
        "outputId": "93f9b2e2-dc02-4648-f55d-952dfd427e16"
      },
      "execution_count": null,
      "outputs": [
        {
          "output_type": "stream",
          "name": "stdout",
          "text": [
            "11001100\n",
            "314\n"
          ]
        }
      ]
    },
    {
      "cell_type": "markdown",
      "source": [
        "## 캠핑: https://www.acmicpc.net/problem/4796"
      ],
      "metadata": {
        "id": "1aVbKVlIirRt"
      }
    },
    {
      "cell_type": "code",
      "source": [
        "count = 1\n",
        "\n",
        "while True:\n",
        "  l, p, v = map(int, input().split())\n",
        "\n",
        "  if l == p == v == 0:\n",
        "    break\n",
        "\n",
        "  div, mod = divmod(v, p)\n",
        "\n",
        "  print(f'Case {count}: {(l * div) + min(mod, l)}')\n",
        "\n",
        "  count += 1"
      ],
      "metadata": {
        "colab": {
          "base_uri": "https://localhost:8080/"
        },
        "id": "NkRqyyCzi5bh",
        "outputId": "ff3831c9-90c4-4e07-d708-61d504da6267"
      },
      "execution_count": null,
      "outputs": [
        {
          "name": "stdout",
          "output_type": "stream",
          "text": [
            "5 8 20\n",
            "Case 1: 14\n",
            "5 8 17\n",
            "Case 2: 11\n",
            "0 0 0\n"
          ]
        }
      ]
    },
    {
      "cell_type": "markdown",
      "source": [
        "## 뒤집힌 덧셈: https://www.acmicpc.net/problem/1357"
      ],
      "metadata": {
        "id": "vjq5RcFBXDdq"
      }
    },
    {
      "cell_type": "code",
      "source": [
        "x, y = map(int, input()[::-1].split())\n",
        "\n",
        "print(int(str(x + y)[::-1]))"
      ],
      "metadata": {
        "colab": {
          "base_uri": "https://localhost:8080/"
        },
        "id": "K6I8_TygVx0b",
        "outputId": "2b9668c7-6690-40da-cc89-4ec54f5dca0c"
      },
      "execution_count": null,
      "outputs": [
        {
          "output_type": "stream",
          "name": "stdout",
          "text": [
            "456 789\n",
            "1461\n"
          ]
        }
      ]
    },
    {
      "cell_type": "markdown",
      "source": [
        "## N번째 큰 수 : https://www.acmicpc.net/problem/2693"
      ],
      "metadata": {
        "id": "PW3aVx9LYPnB"
      }
    },
    {
      "cell_type": "code",
      "source": [
        "for _ in range(int(input())):\n",
        "  array = sorted(list(map(int, input().split())), reverse = True)\n",
        "  print(array[2])"
      ],
      "metadata": {
        "colab": {
          "base_uri": "https://localhost:8080/"
        },
        "id": "9BA_sgZKXObh",
        "outputId": "11a3cd63-94db-41ed-8ba4-de60c24d7f85"
      },
      "execution_count": null,
      "outputs": [
        {
          "output_type": "stream",
          "name": "stdout",
          "text": [
            "4\n",
            "1 2 3 4 5 6 7 8 9 1000\n",
            "8\n",
            "338 304 619 95 343 496 489 116 98 127\n",
            "489\n",
            "931 240 986 894 826 640 965 833 136 138\n",
            "931\n",
            "940 955 364 188 133 254 501 122 768 408\n",
            "768\n"
          ]
        }
      ]
    },
    {
      "cell_type": "markdown",
      "source": [
        "## 알고리즘 수업 - 피보나치 수 1: https://www.acmicpc.net/problem/24416"
      ],
      "metadata": {
        "id": "lAlPIuD2ffTb"
      }
    },
    {
      "cell_type": "code",
      "source": [
        "def fibo(n):\n",
        "  global count\n",
        "  count = 0\n",
        "  f = [0] * (n + 1)\n",
        "  f[1] = f[2] = 1\n",
        "  for i in range(3, n + 1):\n",
        "    count += 1\n",
        "    f[i] = f[i - 1] + f[i - 2]\n",
        "  return f[n]\n",
        "\n",
        "print(fibo(int(input())), count)"
      ],
      "metadata": {
        "colab": {
          "base_uri": "https://localhost:8080/"
        },
        "id": "YEWPvYd_YgMY",
        "outputId": "fa9817a8-9b30-48a1-cb23-f4621353a27c"
      },
      "execution_count": null,
      "outputs": [
        {
          "output_type": "stream",
          "name": "stdout",
          "text": [
            "30\n",
            "832040 28\n"
          ]
        }
      ]
    },
    {
      "cell_type": "markdown",
      "source": [
        "## 컵홀더: https://www.acmicpc.net/problem/2810"
      ],
      "metadata": {
        "id": "g6vclPEusEri"
      }
    },
    {
      "cell_type": "code",
      "source": [
        "n = int(input())\n",
        "s = input()\n",
        "print(min(n, 1 + s.count('LL') + s.count('S')))"
      ],
      "metadata": {
        "colab": {
          "base_uri": "https://localhost:8080/"
        },
        "id": "3x9fElbUahpf",
        "outputId": "689e4104-e7df-4ff0-e321-f5a79a463099"
      },
      "execution_count": null,
      "outputs": [
        {
          "output_type": "stream",
          "name": "stdout",
          "text": [
            "9\n",
            "SLLLLSSLL\n",
            "7\n"
          ]
        }
      ]
    },
    {
      "cell_type": "markdown",
      "source": [
        "## 오르막길: https://www.acmicpc.net/problem/2846"
      ],
      "metadata": {
        "id": "xNZJ5DZB2rMR"
      }
    },
    {
      "cell_type": "code",
      "source": [
        "n = int(input())\n",
        "data = list(map(int, input().split()))\n",
        "data.append(0)\n",
        "hill = []\n",
        "height = 0\n",
        "\n",
        "for i in range(1, n + 1):\n",
        "  if data[i - 1] < data[i]:\n",
        "    height += data[i] - data[i - 1]\n",
        "  else:\n",
        "    hill.append(height)\n",
        "    height = 0\n",
        "\n",
        "print(max(hill))"
      ],
      "metadata": {
        "colab": {
          "base_uri": "https://localhost:8080/"
        },
        "id": "UUwIhonruK4f",
        "outputId": "7060985e-b09b-4304-d5cc-da4c59ac1230"
      },
      "execution_count": null,
      "outputs": [
        {
          "output_type": "stream",
          "name": "stdout",
          "text": [
            "5\n",
            "1 2 1 4 6\n",
            "5\n"
          ]
        }
      ]
    },
    {
      "cell_type": "markdown",
      "source": [
        "## 슈퍼 마리오: https://www.acmicpc.net/problem/2851"
      ],
      "metadata": {
        "id": "YbaIsugc2uXi"
      }
    },
    {
      "cell_type": "code",
      "source": [
        "n, result = 0, 0\n",
        "for _ in range(10):\n",
        "  mush = int(input())\n",
        "  n += mush\n",
        "  if 100 - result >= abs(100 - n):\n",
        "    result = n\n",
        "\n",
        "print(result)"
      ],
      "metadata": {
        "colab": {
          "base_uri": "https://localhost:8080/"
        },
        "id": "W0iMb7_GyGpv",
        "outputId": "b82c3b83-9d34-4afd-dcad-577f087a1670"
      },
      "execution_count": null,
      "outputs": [
        {
          "output_type": "stream",
          "name": "stdout",
          "text": [
            "40\n",
            "40\n",
            "40\n",
            "40\n",
            "40\n",
            "40\n",
            "40\n",
            "40\n",
            "40\n",
            "40\n",
            "120\n"
          ]
        }
      ]
    },
    {
      "cell_type": "code",
      "source": [
        "score = [int(input())]\n",
        "for i in range(1, 10):\n",
        "  score.append(score[i - 1] + int(input()))\n",
        "  if score[i] >= 100:\n",
        "    break\n",
        "\n",
        "score.sort(reverse = True)\n",
        "\n",
        "if abs(100 - score[0]) > abs(100 - score[1]):\n",
        "  print(score[1])\n",
        "else:\n",
        "  print(score[0])"
      ],
      "metadata": {
        "colab": {
          "base_uri": "https://localhost:8080/"
        },
        "id": "EPC_5gBl4xo_",
        "outputId": "bc603319-65c8-4291-837f-736f7eeebef1"
      },
      "execution_count": null,
      "outputs": [
        {
          "output_type": "stream",
          "name": "stdout",
          "text": [
            "40\n",
            "40\n",
            "40\n",
            "120\n"
          ]
        }
      ]
    },
    {
      "cell_type": "markdown",
      "source": [
        "## 유레카 이론: https://www.acmicpc.net/problem/10448"
      ],
      "metadata": {
        "id": "UQyP--BlC88p"
      }
    },
    {
      "cell_type": "code",
      "source": [
        "data = [0] * 51\n",
        "for i in range(1, 51):\n",
        "  data[i] = data[i - 1] + i\n",
        "\n",
        "for _ in range(int(input())):\n",
        "  n = int(input())\n",
        "  result = 0\n",
        "  if data.count(n):\n",
        "    result = 1\n",
        "  else:\n",
        "    for i in range(1, 51):\n",
        "      for j in range(i, 51):\n",
        "        for k in range(j, 51):\n",
        "          if n == data[i] + data[j] + data[k]:\n",
        "            result = 1\n",
        "  print(result)"
      ],
      "metadata": {
        "colab": {
          "base_uri": "https://localhost:8080/"
        },
        "id": "oNuycQUwC_98",
        "outputId": "1a1a12f7-4ca2-4a64-a14e-4e1e0c5bbca7"
      },
      "execution_count": null,
      "outputs": [
        {
          "output_type": "stream",
          "name": "stdout",
          "text": [
            "3\n",
            "10\n",
            "1\n",
            "20\n",
            "0\n",
            "1000\n",
            "1\n"
          ]
        }
      ]
    },
    {
      "cell_type": "code",
      "source": [
        "triangle = [n*(n+1)//2 for n in range(1, 46)]\n",
        "\n",
        "eureka = [0] * 1001\n",
        "\n",
        "for i in triangle:\n",
        "    for j in triangle:\n",
        "        for k in triangle:\n",
        "            if i+j+k <= 1000:\n",
        "                eureka[i+j+k] = 1\n",
        "\n",
        "for _ in range(int(input())):\n",
        "    print(eureka[int(input())])"
      ],
      "metadata": {
        "colab": {
          "base_uri": "https://localhost:8080/"
        },
        "id": "8O0z-abzLCti",
        "outputId": "cee3c507-6aaa-4fb1-c059-6849a7bdcbb6"
      },
      "execution_count": null,
      "outputs": [
        {
          "output_type": "stream",
          "name": "stdout",
          "text": [
            "3\n",
            "10\n",
            "1\n",
            "20\n",
            "0\n",
            "1000\n",
            "1\n"
          ]
        }
      ]
    },
    {
      "cell_type": "markdown",
      "source": [
        "## Yangjojang of The Year: https://www.acmicpc.net/problem/11557"
      ],
      "metadata": {
        "id": "QakMBN7ALy0Z"
      }
    },
    {
      "cell_type": "code",
      "source": [
        "for _ in range(int(input())):\n",
        "  data = []\n",
        "  for i in range(int(input())):\n",
        "    s, a = input().split()\n",
        "    data.append((int(a), s))\n",
        "  data.sort()\n",
        "  print(max(data)[1])"
      ],
      "metadata": {
        "colab": {
          "base_uri": "https://localhost:8080/"
        },
        "id": "x2S_fk1yLNxB",
        "outputId": "a13e7a37-2fb7-411d-dc31-b0f08ca27a71"
      },
      "execution_count": null,
      "outputs": [
        {
          "output_type": "stream",
          "name": "stdout",
          "text": [
            "2\n",
            "3\n",
            "Yonsei 10\n",
            "Korea 10000000\n",
            "Ewha 20\n",
            "Korea\n",
            "2\n",
            "Yonsei 1\n",
            "Korea 10000000\n",
            "Korea\n"
          ]
        }
      ]
    },
    {
      "cell_type": "markdown",
      "source": [
        "## 적어도 대부분의 배수: https://www.acmicpc.net/problem/1145"
      ],
      "metadata": {
        "id": "0HUVSL9mNPhr"
      }
    },
    {
      "cell_type": "code",
      "source": [
        "from math import lcm\n",
        "from itertools import combinations\n",
        "\n",
        "nums = list(map(int, input().split()))\n",
        "lcms = []\n",
        "\n",
        "for combi in combinations(nums, 3):\n",
        "    a, b, c = combi\n",
        "    lcm_ = lcm(lcm(a, b), c)\n",
        "    lcms.append(lcm_)\n",
        "\n",
        "print(min(lcms))"
      ],
      "metadata": {
        "colab": {
          "base_uri": "https://localhost:8080/"
        },
        "id": "u6vbINzLMtWl",
        "outputId": "da83fc58-909a-42ff-aafe-4a75e6238930"
      },
      "execution_count": null,
      "outputs": [
        {
          "output_type": "stream",
          "name": "stdout",
          "text": [
            "30 42 70 35 90\n",
            "210\n"
          ]
        }
      ]
    },
    {
      "cell_type": "markdown",
      "source": [
        "## 나무 조각: https://www.acmicpc.net/problem/2947"
      ],
      "metadata": {
        "id": "yWI7G5CA_PpF"
      }
    },
    {
      "cell_type": "code",
      "source": [
        "arr = list(map(int, input().split()))\n",
        "for i in range(len(arr)):\n",
        "  for j in range(len(arr) - i - 1):\n",
        "    if arr[j] > arr[j+1]:\n",
        "       arr[j], arr[j+1] = arr[j+1], arr[j]\n",
        "       print(*arr)"
      ],
      "metadata": {
        "id": "R-uoxdV-PkDv",
        "colab": {
          "base_uri": "https://localhost:8080/"
        },
        "outputId": "a0181643-553e-4239-e2d8-e3ee7d27c3ce"
      },
      "execution_count": null,
      "outputs": [
        {
          "output_type": "stream",
          "name": "stdout",
          "text": [
            "2 3 4 5 1\n",
            "2 3 4 1 5\n",
            "2 3 1 4 5\n",
            "2 1 3 4 5\n",
            "1 2 3 4 5\n"
          ]
        }
      ]
    },
    {
      "cell_type": "markdown",
      "source": [
        "## 나머지와 몫이 같은 수: https://www.acmicpc.net/problem/1834"
      ],
      "metadata": {
        "id": "6WpbS3s1EW50"
      }
    },
    {
      "cell_type": "code",
      "source": [
        "n = int(input())\n",
        "print(sum([n * i + i for i in range(1, n)]))"
      ],
      "metadata": {
        "colab": {
          "base_uri": "https://localhost:8080/"
        },
        "id": "34Zei5CW_5F3",
        "outputId": "fb8d92f2-53b7-4c12-d60d-069ce7e65852"
      },
      "execution_count": null,
      "outputs": [
        {
          "output_type": "stream",
          "name": "stdout",
          "text": [
            "2000000\n",
            "3999999999999000000\n"
          ]
        }
      ]
    },
    {
      "cell_type": "markdown",
      "source": [
        "## 딱지놀이: https://www.acmicpc.net/problem/14696"
      ],
      "metadata": {
        "id": "6Qw0dow0IqEZ"
      }
    },
    {
      "cell_type": "code",
      "source": [
        "import sys\n",
        "input = sys.stdin.readline\n",
        "\n",
        "for _ in range(int(input())):\n",
        "  a = list(map(int, input().split()[1:]))\n",
        "  b = list(map(int, input().split()[1:]))\n",
        "  for i in range(4, 0, -1):\n",
        "    if a.count(i) > b.count(i):\n",
        "      result = 'A'\n",
        "      break\n",
        "    elif a.count(i) < b.count(i):\n",
        "      result = 'B'\n",
        "      break\n",
        "    else:\n",
        "      result = 'D'\n",
        "  print(result)"
      ],
      "metadata": {
        "colab": {
          "base_uri": "https://localhost:8080/"
        },
        "id": "3G_8FH5mCbZt",
        "outputId": "2dab4ffe-f0b0-4552-8cb7-1c21dba41335"
      },
      "execution_count": null,
      "outputs": [
        {
          "output_type": "stream",
          "name": "stdout",
          "text": [
            "4\n",
            "4 4 3 2 1\n",
            "4 1 4 3 2\n",
            "D\n",
            "4 3 3 2 1\n",
            "4 4 3 3 3\n",
            "B\n",
            "4 4 3 3 3\n",
            "4 3 4 3 2\n",
            "A\n",
            "4 3 2 1 1\n",
            "3 3 2 1\n",
            "A\n"
          ]
        }
      ]
    },
    {
      "cell_type": "markdown",
      "source": [
        "## 가장 큰 금민수 : https://www.acmicpc.net/problem/1526"
      ],
      "metadata": {
        "id": "iquVNJU1I9zr"
      }
    },
    {
      "cell_type": "code",
      "source": [
        "for i in range(int(input()), 3, -1):\n",
        "  flag = True\n",
        "  for j in str(i):\n",
        "    if j not in ['4', '7']:\n",
        "      flag = False\n",
        "  if flag:\n",
        "    print(i)\n",
        "    break"
      ],
      "metadata": {
        "colab": {
          "base_uri": "https://localhost:8080/"
        },
        "id": "rcbECRSgFvV0",
        "outputId": "4eb3aca2-c90d-4ab8-fbf8-504b1eba7dd1"
      },
      "execution_count": null,
      "outputs": [
        {
          "output_type": "stream",
          "name": "stdout",
          "text": [
            "474747\n",
            "474747\n"
          ]
        }
      ]
    },
    {
      "cell_type": "code",
      "source": [
        "n = input()\n",
        "while n.count('4') + n.count('7') != len(n):\n",
        "    n = str(int(n) - 1)\n",
        "\n",
        "print(n)"
      ],
      "metadata": {
        "colab": {
          "base_uri": "https://localhost:8080/"
        },
        "id": "xhFvu8DHIy-k",
        "outputId": "2e6958a9-89d6-49f3-ef7b-b37953f3e8a4"
      },
      "execution_count": null,
      "outputs": [
        {
          "output_type": "stream",
          "name": "stdout",
          "text": [
            "474747\n",
            "474747\n"
          ]
        }
      ]
    },
    {
      "cell_type": "code",
      "source": [
        "n = int(input())\n",
        "while set(list(str(n))) - {\"4\", \"7\"}:\n",
        "    n -= 1\n",
        "print(n)"
      ],
      "metadata": {
        "id": "kzMazjlrMa-0"
      },
      "execution_count": null,
      "outputs": []
    },
    {
      "cell_type": "markdown",
      "source": [
        "## 0의 개수: https://www.acmicpc.net/problem/11170"
      ],
      "metadata": {
        "id": "S_sLTCCNNZ5y"
      }
    },
    {
      "cell_type": "code",
      "source": [
        "import sys\n",
        "input = sys.stdin.readline\n",
        "\n",
        "for _ in range(int(input())):\n",
        "  a, b = map(int, input().split())\n",
        "  count = 0\n",
        "  for i in range(a, b + 1):\n",
        "    count += str(i).count('0')\n",
        "  print(count)"
      ],
      "metadata": {
        "colab": {
          "base_uri": "https://localhost:8080/"
        },
        "id": "T7YnVjz2NZQ_",
        "outputId": "14938308-ce70-4b56-99a6-c962a575bc8c"
      },
      "execution_count": null,
      "outputs": [
        {
          "output_type": "stream",
          "name": "stdout",
          "text": [
            "3\n",
            "0 10\n",
            "2\n",
            "33 1005\n",
            "199\n",
            "1 4\n",
            "0\n"
          ]
        }
      ]
    },
    {
      "cell_type": "markdown",
      "source": [
        "## 한조서열정리하고옴ㅋㅋ: https://www.acmicpc.net/problem/14659"
      ],
      "metadata": {
        "id": "8gOVf6KKxz_H"
      }
    },
    {
      "cell_type": "code",
      "source": [
        "max_count, count = 0, 0\n",
        "\n",
        "n = int(input())\n",
        "data = list(map(int, input().split()))\n",
        "max_data = data[0]\n",
        "\n",
        "for i in range(1, n):\n",
        "  if data[i] < max_data:\n",
        "    count += 1\n",
        "  else:\n",
        "    max_data = data[i]\n",
        "    max_count = max(max_count, count)\n",
        "    count = 0\n",
        "\n",
        "print(max(max_count, count))"
      ],
      "metadata": {
        "id": "iH1hn3oSNlFl",
        "colab": {
          "base_uri": "https://localhost:8080/"
        },
        "outputId": "9027f53b-2753-419a-e3f7-f331a591a4ae"
      },
      "execution_count": 12,
      "outputs": [
        {
          "output_type": "stream",
          "name": "stdout",
          "text": [
            "6\n",
            "6 4 10 2 5 7\n",
            "3\n"
          ]
        }
      ]
    },
    {
      "cell_type": "markdown",
      "source": [
        "## 싸이클: https://www.acmicpc.net/problem/2526"
      ],
      "metadata": {
        "id": "bh_ZkJ892X5e"
      }
    },
    {
      "cell_type": "code",
      "source": [
        "n, p = map(int, input().split())\n",
        "array = []\n",
        "x = n\n",
        "\n",
        "while True:\n",
        "  x = x * n % p\n",
        "  if x in array:\n",
        "    break\n",
        "  array.append(x)\n",
        "\n",
        "print(len(array) - array.index(x))"
      ],
      "metadata": {
        "colab": {
          "base_uri": "https://localhost:8080/"
        },
        "id": "AaUcK46dy3CP",
        "outputId": "c3aecb77-4f83-4c08-d207-ef1b52f30163"
      },
      "execution_count": 24,
      "outputs": [
        {
          "output_type": "stream",
          "name": "stdout",
          "text": [
            "2 32\n",
            "1\n"
          ]
        }
      ]
    },
    {
      "cell_type": "code",
      "source": [
        "# 싸이클의 처음 인덱스\n",
        "print(array.index(x))"
      ],
      "metadata": {
        "colab": {
          "base_uri": "https://localhost:8080/"
        },
        "id": "3I0-7-v13i5g",
        "outputId": "a01b4eba-4711-4be0-c3c7-ca2aa8803f88"
      },
      "execution_count": 25,
      "outputs": [
        {
          "output_type": "stream",
          "name": "stdout",
          "text": [
            "3\n"
          ]
        }
      ]
    },
    {
      "cell_type": "markdown",
      "source": [
        "## 소가 길을 건너간 이유 1: https://www.acmicpc.net/problem/14467"
      ],
      "metadata": {
        "id": "yhxttH-p9y45"
      }
    },
    {
      "cell_type": "code",
      "source": [
        "data = {}\n",
        "count = 0\n",
        "\n",
        "for i in range(int(input())):\n",
        "  n, p = map(int, input().split())\n",
        "  if n in data and data[n] != p:\n",
        "    count += 1\n",
        "  data[n] = p\n",
        "\n",
        "print(count)"
      ],
      "metadata": {
        "colab": {
          "base_uri": "https://localhost:8080/"
        },
        "id": "myVP_Y-P7pj8",
        "outputId": "3cdf0591-b4cc-40df-f535-6a696608fe21"
      },
      "execution_count": 27,
      "outputs": [
        {
          "output_type": "stream",
          "name": "stdout",
          "text": [
            "8\n",
            "3 1\n",
            "3 0\n",
            "6 0\n",
            "2 1\n",
            "4 1\n",
            "3 0\n",
            "4 0\n",
            "3 1\n",
            "3\n"
          ]
        }
      ]
    },
    {
      "cell_type": "markdown",
      "source": [
        "## 애너그램: https://www.acmicpc.net/problem/6996"
      ],
      "metadata": {
        "id": "EREcHuVR72mK"
      }
    },
    {
      "cell_type": "code",
      "source": [
        "for _ in range(int(input())):\n",
        "  a, b = input().split()\n",
        "  string = list(a)\n",
        "  for x in b:\n",
        "    string.pop(string.index(x))\n",
        "\n",
        "  m = 'NOT ' if string else ''\n",
        "\n",
        "  print(f'{a} & {b} are {m}anagrams.')"
      ],
      "metadata": {
        "colab": {
          "base_uri": "https://localhost:8080/"
        },
        "id": "uDmIEEAb--tW",
        "outputId": "2220020e-39de-436f-de92-b4ae598f2392"
      },
      "execution_count": 4,
      "outputs": [
        {
          "output_type": "stream",
          "name": "stdout",
          "text": [
            "3\n",
            "blather reblath\n",
            "blather & reblath are anagrams\n",
            "maryland landam\n",
            "maryland & landam are NOT anagrams\n",
            "bizarre brazier\n",
            "bizarre & brazier are anagrams\n"
          ]
        }
      ]
    },
    {
      "cell_type": "code",
      "source": [
        "for _ in range(int(input())):\n",
        "  a, b = input().split()\n",
        "  a1 = sorted(a)\n",
        "  b1 = sorted(b)\n",
        "\n",
        "  m = ''  if a1 == b1 else 'NOT '\n",
        "\n",
        "  print(f'{a} & {b} are {m}anagrams.')"
      ],
      "metadata": {
        "colab": {
          "base_uri": "https://localhost:8080/"
        },
        "id": "8cioLRjq9SlF",
        "outputId": "64bddf8b-72da-4103-aa8a-279e585b1b4a"
      },
      "execution_count": 5,
      "outputs": [
        {
          "output_type": "stream",
          "name": "stdout",
          "text": [
            "3\n",
            "blather reblath\n",
            "blather & reblath are anagrams.\n",
            "maryland landam\n",
            "maryland & landam are NOT anagrams.\n",
            "bizarre brazier\n",
            "bizarre & brazier are anagrams.\n"
          ]
        }
      ]
    },
    {
      "cell_type": "code",
      "source": [],
      "metadata": {
        "id": "XN0B1Z46_Rnv"
      },
      "execution_count": null,
      "outputs": []
    }
  ]
}