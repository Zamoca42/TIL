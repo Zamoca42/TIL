{
  "nbformat": 4,
  "nbformat_minor": 0,
  "metadata": {
    "colab": {
      "provenance": [],
      "authorship_tag": "ABX9TyPIab5JvC4ywUlHvXo4C70v",
      "include_colab_link": true
    },
    "kernelspec": {
      "name": "python3",
      "display_name": "Python 3"
    },
    "language_info": {
      "name": "python"
    }
  },
  "cells": [
    {
      "cell_type": "markdown",
      "metadata": {
        "id": "view-in-github",
        "colab_type": "text"
      },
      "source": [
        "<a href=\"https://colab.research.google.com/github/Zamoca42/TIL/blob/main/%EB%84%88%EB%B9%84_%EA%B9%8A%EC%9D%B4_%EC%9A%B0%EC%84%A0_%ED%83%90%EC%83%89.ipynb\" target=\"_parent\"><img src=\"https://colab.research.google.com/assets/colab-badge.svg\" alt=\"Open In Colab\"/></a>"
      ]
    },
    {
      "cell_type": "markdown",
      "source": [
        "# BFS 와 DFS 란?\n",
        "* 대표적인 그래프 **탐색** 알고리즘\n",
        "  - 너비 우선 탐색 (Breadth First Search): 정점들과 같은 레벨에 있는 노드들 (형제 노드들)을 먼저 탐색하는 방식\n",
        "  - 깊이 우선 탐색 (Depth First Search): 정점의 자식들을 먼저 탐색하는 방식"
      ],
      "metadata": {
        "id": "nv-y3UvvwYDp"
      }
    },
    {
      "cell_type": "markdown",
      "source": [
        "#### BFS/DFS 방식 이해를 위한 예제\n",
        "- BFS 방식: A - B - C - D - G - H - I - E - F - J \n",
        "  - 한 단계씩 내려가면서, 해당 노드와 같은 레벨에 있는 노드들 (형제 노드들)을 먼저 순회함\n",
        "- DFS 방식: A - B - D - E - F - C - G - H - I - J \n",
        "  - 한 노드의 자식을 타고 끝까지 순회한 후, 다시 돌아와서 다른 형제들의 자식을 타고 내려가며 순화함\n",
        "\n",
        "<img src=\"https://www.fun-coding.org/00_Images/BFSDFS.png\" width=700>"
      ],
      "metadata": {
        "id": "vnkmstY5waCX"
      }
    },
    {
      "cell_type": "markdown",
      "source": [
        "### 파이썬으로 그래프를 표현하는 방법\n",
        "- 파이썬에서 제공하는 딕셔너리와 리스트 자료 구조를 활용해서 그래프를 표현할 수 있음"
      ],
      "metadata": {
        "id": "i_RDiQYSwfI0"
      }
    },
    {
      "cell_type": "markdown",
      "source": [
        "### 그래프 예와 파이썬 표현\n",
        "<img src=\"https://www.fun-coding.org/00_Images/bfsgraph.png\" width=700>"
      ],
      "metadata": {
        "id": "wAT2dWD7wgY-"
      }
    },
    {
      "cell_type": "markdown",
      "source": [
        "# 너비 우선 탐색 (Breadth-First Search)"
      ],
      "metadata": {
        "id": "3fMS1ea0wUHn"
      }
    },
    {
      "cell_type": "markdown",
      "source": [
        "### 그래프 예와 파이썬 표현\n",
        "<img src=\"https://www.fun-coding.org/00_Images/bfsgraph.png\" width=700>"
      ],
      "metadata": {
        "id": "_eCZuXoGdLv9"
      }
    },
    {
      "cell_type": "code",
      "source": [
        "graph = dict()\n",
        "\n",
        "graph['A'] = ['B', 'C']\n",
        "graph['B'] = ['A', 'D']\n",
        "graph['C'] = ['A', 'G', 'H', 'I']\n",
        "graph['D'] = ['B', 'E', 'F']\n",
        "graph['E'] = ['D']\n",
        "graph['F'] = ['D']\n",
        "graph['G'] = ['C']\n",
        "graph['H'] = ['C']\n",
        "graph['I'] = ['C', 'J']\n",
        "graph['J'] = ['I']\n",
        "\n",
        "graph"
      ],
      "metadata": {
        "colab": {
          "base_uri": "https://localhost:8080/"
        },
        "id": "BTyDnv5wdEQj",
        "outputId": "1b019bad-7add-4c08-b2d3-49ea7b50c305"
      },
      "execution_count": 9,
      "outputs": [
        {
          "output_type": "execute_result",
          "data": {
            "text/plain": [
              "{'A': ['B', 'C'],\n",
              " 'B': ['A', 'D'],\n",
              " 'C': ['A', 'G', 'H', 'I'],\n",
              " 'D': ['B', 'E', 'F'],\n",
              " 'E': ['D'],\n",
              " 'F': ['D'],\n",
              " 'G': ['C'],\n",
              " 'H': ['C'],\n",
              " 'I': ['C', 'J'],\n",
              " 'J': ['I']}"
            ]
          },
          "metadata": {},
          "execution_count": 9
        }
      ]
    },
    {
      "cell_type": "markdown",
      "source": [
        "### BFS 알고리즘 구현\n",
        "\n",
        "- 자료구조 큐를 활용함\n",
        "  - need_visit 큐와 visited 큐, 두 개의 큐를 생성\n",
        "  \n",
        "<img src=\"https://www.fun-coding.org/00_Images/bfsqueue.png\" width=700>"
      ],
      "metadata": {
        "id": "dmI2w70iwpg6"
      }
    },
    {
      "cell_type": "code",
      "execution_count": 10,
      "metadata": {
        "colab": {
          "base_uri": "https://localhost:8080/"
        },
        "id": "6BjwodOWZ8JF",
        "outputId": "be54f446-a290-4a28-a5f7-dbbeafef699c"
      },
      "outputs": [
        {
          "output_type": "execute_result",
          "data": {
            "text/plain": [
              "[2, 3]"
            ]
          },
          "metadata": {},
          "execution_count": 10
        }
      ],
      "source": [
        "data = [1,2,3]\n",
        "data.pop(0) # 첫번째 데이터 뽑기, FIFO\n",
        "data"
      ]
    },
    {
      "cell_type": "code",
      "source": [
        "data = [1,2,3]\n",
        "data.extend([4,5]) # 데이터 뒤로 붙이기\n",
        "data"
      ],
      "metadata": {
        "colab": {
          "base_uri": "https://localhost:8080/"
        },
        "id": "tQGsm1PyaDRO",
        "outputId": "017a53ae-05a1-4abd-8fb3-b4c8b6106757"
      },
      "execution_count": 11,
      "outputs": [
        {
          "output_type": "execute_result",
          "data": {
            "text/plain": [
              "[1, 2, 3, 4, 5]"
            ]
          },
          "metadata": {},
          "execution_count": 11
        }
      ]
    },
    {
      "cell_type": "code",
      "source": [
        "def bfs(graph, start_node):\n",
        "  visited = list() # 탐색한 리스트 목록 - 큐처럼 사용\n",
        "  need_visit = list() # 탐색이 필요한 리스트 - 큐처럼 사용\n",
        "\n",
        "  need_visit.append(start_node)\n",
        "\n",
        "  while need_visit:\n",
        "    node = need_visit.pop(0)\n",
        "    if node not in visited: # 노드가 방문했던 큐에 없으면\n",
        "      visited.append(node)\n",
        "      need_visit.extend(graph[node]) # 그래프의 노드에 해당하는 키의 값을 방문할 큐에 추가\n",
        "\n",
        "  return visited"
      ],
      "metadata": {
        "id": "XuyEIlzNaSCx"
      },
      "execution_count": 12,
      "outputs": []
    },
    {
      "cell_type": "code",
      "source": [
        "bfs(graph, 'B')"
      ],
      "metadata": {
        "colab": {
          "base_uri": "https://localhost:8080/"
        },
        "id": "VEFpXSL8cvFl",
        "outputId": "5a88f4e7-a323-4521-bc40-de827ce4a993"
      },
      "execution_count": 14,
      "outputs": [
        {
          "output_type": "execute_result",
          "data": {
            "text/plain": [
              "['B', 'A', 'D', 'C', 'E', 'F', 'G', 'H', 'I', 'J']"
            ]
          },
          "metadata": {},
          "execution_count": 14
        }
      ]
    },
    {
      "cell_type": "markdown",
      "source": [
        "# 깊이 우선 탐색 (Depth-First Search)"
      ],
      "metadata": {
        "id": "Loi9HatjxFyv"
      }
    },
    {
      "cell_type": "markdown",
      "source": [
        "### 3. DFS 알고리즘 구현\n",
        "\n",
        "- 자료구조 스택과 큐를 활용함\n",
        "  - need_visit 스택과 visited 큐, 두 개의 자료 구조를 생성\n",
        "\n",
        "> BFS 자료구조는 두 개의 큐를 활용하는데 반해, DFS 는 스택과 큐를 활용한다는 차이가 있음을 인지해야 함"
      ],
      "metadata": {
        "id": "llURajHaxa2c"
      }
    },
    {
      "cell_type": "code",
      "source": [
        "def dfs(graph, start_node):\n",
        "    visited, need_visit = list(), list()\n",
        "    need_visit.append(start_node)\n",
        "    \n",
        "    while need_visit:\n",
        "        node = need_visit.pop()\n",
        "        if node not in visited:\n",
        "            visited.append(node)\n",
        "            need_visit.extend(graph[node])\n",
        "    \n",
        "    return visited"
      ],
      "metadata": {
        "id": "Vp11I-WUxV86"
      },
      "execution_count": null,
      "outputs": []
    },
    {
      "cell_type": "code",
      "source": [
        "dfs(graph, 'A')"
      ],
      "metadata": {
        "id": "tSOGALYwxXnB"
      },
      "execution_count": null,
      "outputs": []
    },
    {
      "cell_type": "markdown",
      "source": [
        "# 시간 복잡도\n",
        "- 일반적인 BFS 시간 복잡도\n",
        "  - 노드 수: V\n",
        "  - 간선 수: E\n",
        "    - 위 코드에서 while need_visit 은 V + E 번 만큼 수행함\n",
        "  - 시간 복잡도: O(V + E)\n",
        "  "
      ],
      "metadata": {
        "id": "VjOXrN_yw1j4"
      }
    },
    {
      "cell_type": "code",
      "source": [
        "# 시간복잡도 확인\n",
        "\n",
        "def bfs(graph, start_node):\n",
        "  visited = list()\n",
        "  need_visit = list()\n",
        "\n",
        "  need_visit.append(start_node)\n",
        "  count = 0\n",
        "\n",
        "  while need_visit:\n",
        "    count += 1\n",
        "    node = need_visit.pop(0)\n",
        "    if node not in visited:\n",
        "      visited.append(node)\n",
        "      need_visit.extend(graph[node])\n",
        "  print(count)\n",
        "  return visited"
      ],
      "metadata": {
        "id": "ydIl8gG8do1W"
      },
      "execution_count": 15,
      "outputs": []
    },
    {
      "cell_type": "code",
      "source": [
        "bfs(graph, 'A')"
      ],
      "metadata": {
        "colab": {
          "base_uri": "https://localhost:8080/"
        },
        "id": "LS1GMXcQeu5_",
        "outputId": "eee44cac-d4d5-4b2f-f28c-7ec651d774c6"
      },
      "execution_count": 16,
      "outputs": [
        {
          "output_type": "stream",
          "name": "stdout",
          "text": [
            "19\n"
          ]
        },
        {
          "output_type": "execute_result",
          "data": {
            "text/plain": [
              "['A', 'B', 'C', 'D', 'G', 'H', 'I', 'E', 'F', 'J']"
            ]
          },
          "metadata": {},
          "execution_count": 16
        }
      ]
    }
  ]
}
