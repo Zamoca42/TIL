{
  "nbformat": 4,
  "nbformat_minor": 0,
  "metadata": {
    "colab": {
      "provenance": [],
      "authorship_tag": "ABX9TyOZpa+16QkIdN0Bo/PHl0lI",
      "include_colab_link": true
    },
    "kernelspec": {
      "name": "python3",
      "display_name": "Python 3"
    },
    "language_info": {
      "name": "python"
    }
  },
  "cells": [
    {
      "cell_type": "markdown",
      "metadata": {
        "id": "view-in-github",
        "colab_type": "text"
      },
      "source": [
        "<a href=\"https://colab.research.google.com/github/Zamoca42/TIL/blob/main/Algorithm/%EA%B3%A0%EA%B8%89_%EC%A0%95%EB%A0%AC_%EC%95%8C%EA%B3%A0%EB%A6%AC%EC%A6%98_%ED%95%B5%EC%8B%AC_%EC%9C%A0%ED%98%95_%EB%AC%B8%EC%A0%9C%ED%92%80%EC%9D%B4.ipynb\" target=\"_parent\"><img src=\"https://colab.research.google.com/assets/colab-badge.svg\" alt=\"Open In Colab\"/></a>"
      ]
    },
    {
      "cell_type": "markdown",
      "source": [
        "# 수 정렬하기2 : https://www.acmicpc.net/problem/2751"
      ],
      "metadata": {
        "id": "DCSPnZEq7TFh"
      }
    },
    {
      "cell_type": "markdown",
      "source": [
        "- 문제 난이도: 하(Easy)\n",
        "- 문제 유형: 정렬\n",
        "- 추천 풀이 시간: 20분"
      ],
      "metadata": {
        "id": "vqia03cdFVlF"
      }
    },
    {
      "cell_type": "markdown",
      "source": [
        "## 핵심 아이디어"
      ],
      "metadata": {
        "id": "5t8vI-PN7cq3"
      }
    },
    {
      "cell_type": "markdown",
      "source": [
        "- 데이터의 개수가 최대 1,000,000개\n",
        "- 시간 복잡도 $O(NlogN)$의 정렬 알고리즘을 이용\n",
        "- 고급 정렬 알고리즘(병합, 퀵, 힙 정렬 등)을 이용하여 문제 해결\n",
        "- 혹은 파이썬의 **기본 정렬 라이브러리**를 이용\n",
        "- 메모리가 허용된다면, 되도록 Python3보다는 PyPy3를 선택하여 코드 제출"
      ],
      "metadata": {
        "id": "RbunAYoCkaut"
      }
    },
    {
      "cell_type": "markdown",
      "source": [
        "<img width=\"1323\" alt=\"스크린샷 2023-06-22 오후 2 28 14\" src=\"https://github.com/Zamoca42/TIL/assets/96982072/83bc5e9b-ffe5-4297-ba25-c6af65c705ad\">\n",
        "<img width=\"1323\" alt=\"스크린샷 2023-06-22 오후 2 31 09\" src=\"https://github.com/Zamoca42/TIL/assets/96982072/e68c6a1d-fb94-4229-b7e8-fb90268da53c\">\n",
        "<img width=\"1323\" alt=\"스크린샷 2023-06-22 오후 2 31 28\" src=\"https://github.com/Zamoca42/TIL/assets/96982072/34834fa4-7279-47c7-ba7a-7eae49584b82\">\n",
        "<img width=\"1323\" alt=\"스크린샷 2023-06-22 오후 2 31 38\" src=\"https://github.com/Zamoca42/TIL/assets/96982072/5673dbab-6957-45df-946b-fa83b26f76a7\">\n",
        "<img width=\"1323\" alt=\"스크린샷 2023-06-22 오후 2 31 49\" src=\"https://github.com/Zamoca42/TIL/assets/96982072/da5a8fd9-09c0-43f7-8aa9-116bf97546ef\">\n",
        "<img width=\"1323\" alt=\"스크린샷 2023-06-22 오후 2 32 05\" src=\"https://github.com/Zamoca42/TIL/assets/96982072/71507dd5-c43c-49d6-88f5-196a2a27c791\">"
      ],
      "metadata": {
        "id": "HD2yswzpksSD"
      }
    },
    {
      "cell_type": "code",
      "execution_count": 1,
      "metadata": {
        "colab": {
          "base_uri": "https://localhost:8080/"
        },
        "id": "kjH2DLuG7QO6",
        "outputId": "5ac4caac-501a-46c7-b245-df04a293a446"
      },
      "outputs": [
        {
          "output_type": "stream",
          "name": "stdout",
          "text": [
            "5\n",
            "5\n",
            "4\n",
            "3\n",
            "2\n",
            "1\n",
            "1\n",
            "2\n",
            "3\n",
            "4\n",
            "5\n"
          ]
        }
      ],
      "source": [
        "def merge_sort(array):\n",
        "  if len(array) <= 1:\n",
        "    return array\n",
        "\n",
        "  mid = len(array) // 2\n",
        "  left = merge_sort(array[:mid])\n",
        "  right = merge_sort(array[mid:])\n",
        "  i, j, k = 0, 0, 0\n",
        "\n",
        "  while i < len(left) and j < len(right):\n",
        "    if left[i] < right[j]:\n",
        "      array[k] = left[i]\n",
        "      i += 1\n",
        "    else:\n",
        "      array[k] = right[j]\n",
        "      j += 1\n",
        "    k += 1\n",
        "  if i == len(left):\n",
        "    while j < len(right):\n",
        "      array[k] = right[j]\n",
        "      j += 1\n",
        "      k += 1\n",
        "  elif j == len(right):\n",
        "    while i < len(left):\n",
        "      array[k] = left[i]\n",
        "      i += 1\n",
        "      k += 1\n",
        "  return array\n",
        "\n",
        "n = int(input())\n",
        "array = []\n",
        "\n",
        "for _ in range(n):\n",
        "  array.append(int(input()))\n",
        "\n",
        "array = merge_sort(array)\n",
        "\n",
        "for data in array:\n",
        "  print(data)"
      ]
    },
    {
      "cell_type": "code",
      "source": [
        "n = int(input())\n",
        "array = []\n",
        "\n",
        "for _ in range(n):\n",
        "  array.append(int(input()))\n",
        "\n",
        "array.sort()\n",
        "\n",
        "for data in array:\n",
        "  print(data)"
      ],
      "metadata": {
        "id": "JN8pQCr1mqmm"
      },
      "execution_count": null,
      "outputs": []
    },
    {
      "cell_type": "markdown",
      "source": [
        "# K 번째 수: https://www.acmicpc.net/problem/11004"
      ],
      "metadata": {
        "id": "qVSrgcYOv_4O"
      }
    },
    {
      "cell_type": "markdown",
      "source": [
        "- 문제 난이도: 중 (Medium)\n",
        "- 문제 유형: 정렬\n",
        "- 추천 풀이 시간: 25분"
      ],
      "metadata": {
        "id": "szq1_F91wFxG"
      }
    },
    {
      "cell_type": "markdown",
      "source": [
        "## 핵심 아이디어"
      ],
      "metadata": {
        "id": "ww0WGBwSwLq6"
      }
    },
    {
      "cell_type": "markdown",
      "source": [
        "- 데이터의 개수가 최대 5,000,000개\n",
        "- 시간 복잡도 $O(NlogN)$의 정렬 알고리즘을 이용\n",
        "- 고급 정렬 알고리즘(병합, 퀵, 힙 정렬 등)을 이용하여 문제 해결\n",
        "- 혹은 파이썬의 **기본 정렬 라이브러리**를 이용\n",
        "- 메모리가 허용된다면, 되도록 Python3보다는 PyPy3를 선택하여 코드 제출"
      ],
      "metadata": {
        "id": "VGYwaqJLwPgz"
      }
    },
    {
      "cell_type": "code",
      "source": [
        "def merge_sort(array):\n",
        "  if len(array) <= 1:\n",
        "    return array\n",
        "  mid = len(array) // 2\n",
        "  left = merge_sort(array[:mid])\n",
        "  right = merge_sort(array[mid:])\n",
        "  i, j, k = 0, 0, 0\n",
        "\n",
        "  while i < len(left) and j < len(right):\n",
        "    if left[i] < right[j]:\n",
        "      array[k] = left[i]\n",
        "      i += 1\n",
        "    else:\n",
        "      array[k] = right[j]\n",
        "      j += 1\n",
        "    k += 1\n",
        "\n",
        "  if i == len(left):\n",
        "    while j < len(right):\n",
        "      array[k] = right[j]\n",
        "      j += 1\n",
        "      k += 1\n",
        "  elif j == len(right):\n",
        "    while i < len(left):\n",
        "      array[k] = left[i]\n",
        "      i += 1\n",
        "      k += 1\n",
        "  return array\n",
        "\n",
        "n, k = map(int, input().split())\n",
        "array = list(map(int, input().split()))\n",
        "\n",
        "merge_sort(array)\n",
        "\n",
        "print(array[k - 1])"
      ],
      "metadata": {
        "colab": {
          "base_uri": "https://localhost:8080/"
        },
        "id": "9wQKlVWzd7wN",
        "outputId": "e7a6e14d-b4c0-4868-e80e-dbfe416e4810"
      },
      "execution_count": 4,
      "outputs": [
        {
          "output_type": "stream",
          "name": "stdout",
          "text": [
            "5 2\n",
            "4 1 2 3 5\n",
            "2\n"
          ]
        }
      ]
    },
    {
      "cell_type": "code",
      "source": [
        "n, k = map(int, input().split())\n",
        "array = list(map(int, input().split()))\n",
        "\n",
        "array.sort()\n",
        "\n",
        "print(array[k - 1])"
      ],
      "metadata": {
        "colab": {
          "base_uri": "https://localhost:8080/"
        },
        "id": "5tkaY9DWwTvS",
        "outputId": "55d1454c-b008-476b-b237-ce5e18ff62ea"
      },
      "execution_count": 3,
      "outputs": [
        {
          "output_type": "stream",
          "name": "stdout",
          "text": [
            "5 2\n",
            "4 1 2 3 5\n",
            "2\n"
          ]
        }
      ]
    }
  ]
}