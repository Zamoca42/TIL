{
  "nbformat": 4,
  "nbformat_minor": 0,
  "metadata": {
    "colab": {
      "provenance": [],
      "authorship_tag": "ABX9TyN4RMDqByDAJYpBLzzj2uoe",
      "include_colab_link": true
    },
    "kernelspec": {
      "name": "python3",
      "display_name": "Python 3"
    },
    "language_info": {
      "name": "python"
    }
  },
  "cells": [
    {
      "cell_type": "markdown",
      "metadata": {
        "id": "view-in-github",
        "colab_type": "text"
      },
      "source": [
        "<a href=\"https://colab.research.google.com/github/Zamoca42/TIL/blob/main/Algorithm/programmers_lv_2.ipynb\" target=\"_parent\"><img src=\"https://colab.research.google.com/assets/colab-badge.svg\" alt=\"Open In Colab\"/></a>"
      ]
    },
    {
      "cell_type": "markdown",
      "source": [
        "## 요격 시스템"
      ],
      "metadata": {
        "id": "pg18la2fRXk2"
      }
    },
    {
      "cell_type": "code",
      "execution_count": null,
      "metadata": {
        "id": "AGWGZ6MBEDGx"
      },
      "outputs": [],
      "source": [
        "def solution(targets):\n",
        "    answer = 0\n",
        "    targets.sort(key = lambda x: [x[1], x[0]])\n",
        "\n",
        "    e = 0\n",
        "    for target in targets:\n",
        "        if target[0] >= e:\n",
        "            answer += 1\n",
        "            e = target[1]\n",
        "\n",
        "    return answer"
      ]
    },
    {
      "cell_type": "code",
      "source": [
        "solution([[4,5],[4,8],[10,14],[11,13],[5,12],[3,7],[1,4]])"
      ],
      "metadata": {
        "colab": {
          "base_uri": "https://localhost:8080/"
        },
        "id": "nwWdu0XWRQ0S",
        "outputId": "3d152b3b-7e8d-43b9-be26-79e4d3c3c6cc"
      },
      "execution_count": null,
      "outputs": [
        {
          "output_type": "execute_result",
          "data": {
            "text/plain": [
              "3"
            ]
          },
          "metadata": {},
          "execution_count": 2
        }
      ]
    },
    {
      "cell_type": "code",
      "source": [
        "len(range(2, 4))"
      ],
      "metadata": {
        "colab": {
          "base_uri": "https://localhost:8080/"
        },
        "id": "J-uld-G0Tkvr",
        "outputId": "1ef9da6c-1021-479e-84bf-f6fff0a8ccb7"
      },
      "execution_count": null,
      "outputs": [
        {
          "output_type": "execute_result",
          "data": {
            "text/plain": [
              "2"
            ]
          },
          "metadata": {},
          "execution_count": 3
        }
      ]
    },
    {
      "cell_type": "markdown",
      "source": [
        "## 연속된 부분 수열의 합"
      ],
      "metadata": {
        "id": "svS7HVzflyP0"
      }
    },
    {
      "cell_type": "markdown",
      "source": [
        "- 시간 초과"
      ],
      "metadata": {
        "id": "5BOZcpcjpIdp"
      }
    },
    {
      "cell_type": "code",
      "source": [
        "def solution(sequence, k):\n",
        "  array = [[i, j] for i in range(len(sequence)) for j in range(len(sequence)) if sum(sequence[i:j + 1]) == k]\n",
        "  return sorted(array, key = lambda x: [x[1] - x[0], x[0]])"
      ],
      "metadata": {
        "id": "wJ6DnENOlzvp"
      },
      "execution_count": null,
      "outputs": []
    },
    {
      "cell_type": "code",
      "source": [
        "solution([1, 2, 3, 4, 5], 7)"
      ],
      "metadata": {
        "colab": {
          "base_uri": "https://localhost:8080/"
        },
        "id": "O9YCoVrdma_x",
        "outputId": "87248756-77ce-4f4f-985b-8825213c68c0"
      },
      "execution_count": null,
      "outputs": [
        {
          "output_type": "execute_result",
          "data": {
            "text/plain": [
              "[[2, 3]]"
            ]
          },
          "metadata": {},
          "execution_count": 150
        }
      ]
    },
    {
      "cell_type": "code",
      "source": [
        "solution([1, 1, 1, 2, 3, 4, 5], 5)"
      ],
      "metadata": {
        "colab": {
          "base_uri": "https://localhost:8080/"
        },
        "id": "DMOAAP5MmfEH",
        "outputId": "b4930622-3e08-41d5-fecb-2223a15b3adb"
      },
      "execution_count": null,
      "outputs": [
        {
          "output_type": "execute_result",
          "data": {
            "text/plain": [
              "[[6, 6], [3, 4], [0, 3]]"
            ]
          },
          "metadata": {},
          "execution_count": 151
        }
      ]
    },
    {
      "cell_type": "code",
      "source": [
        "solution([2, 2, 2, 2, 2], 6)"
      ],
      "metadata": {
        "colab": {
          "base_uri": "https://localhost:8080/"
        },
        "id": "a85yfrarmig2",
        "outputId": "a6b79568-e4db-49d5-b93a-d8c5d1947a57"
      },
      "execution_count": null,
      "outputs": [
        {
          "output_type": "execute_result",
          "data": {
            "text/plain": [
              "[[0, 2], [1, 3], [2, 4]]"
            ]
          },
          "metadata": {},
          "execution_count": 152
        }
      ]
    },
    {
      "cell_type": "markdown",
      "source": [
        "- 반복문을 한 번만 써보기"
      ],
      "metadata": {
        "id": "in7dE7abyVCV"
      }
    },
    {
      "cell_type": "code",
      "source": [
        "def solution(sequence, k):\n",
        "  n = len(sequence) - 1\n",
        "  sum_value = 0\n",
        "  array = []\n",
        "  for i, value in enumerate(sequence[::-1]):\n",
        "      sum_value += value\n",
        "      if sum_value > k:\n",
        "        sum_value -= sequence[n]\n",
        "        n -= 1\n",
        "        if sum_value == k:\n",
        "          array.append([len(sequence) - 1 - i, n])\n",
        "      elif sum_value == k:\n",
        "        array.append([len(sequence) - 1 - i, n])\n",
        "\n",
        "\n",
        "  return sorted(array, key = lambda x: [x[1] - x[0], x[0]])"
      ],
      "metadata": {
        "id": "A97R5XU5pMym"
      },
      "execution_count": null,
      "outputs": []
    },
    {
      "cell_type": "code",
      "source": [
        "solution([1, 2, 3, 4, 5], 7)"
      ],
      "metadata": {
        "colab": {
          "base_uri": "https://localhost:8080/"
        },
        "id": "Wy0EjX1yvY4g",
        "outputId": "8f9aafff-6ddd-4b57-a5d3-200aeaa608a1"
      },
      "execution_count": null,
      "outputs": [
        {
          "output_type": "execute_result",
          "data": {
            "text/plain": [
              "[[2, 3]]"
            ]
          },
          "metadata": {},
          "execution_count": 194
        }
      ]
    },
    {
      "cell_type": "code",
      "source": [
        "solution([1, 1, 1, 2, 3, 4, 5], 5)"
      ],
      "metadata": {
        "colab": {
          "base_uri": "https://localhost:8080/"
        },
        "id": "LADTTW-CvZjK",
        "outputId": "d3740c67-dba0-4aa3-9c3e-e8548192e842"
      },
      "execution_count": null,
      "outputs": [
        {
          "output_type": "execute_result",
          "data": {
            "text/plain": [
              "[[6, 6], [3, 4], [0, 3]]"
            ]
          },
          "metadata": {},
          "execution_count": 195
        }
      ]
    },
    {
      "cell_type": "code",
      "source": [
        "solution([2, 2, 2, 2, 2], 6)"
      ],
      "metadata": {
        "colab": {
          "base_uri": "https://localhost:8080/"
        },
        "id": "t4It8qYhvaQa",
        "outputId": "17af5941-9366-480d-ab12-c709cc91c929"
      },
      "execution_count": null,
      "outputs": [
        {
          "output_type": "execute_result",
          "data": {
            "text/plain": [
              "[[0, 2], [1, 3], [2, 4]]"
            ]
          },
          "metadata": {},
          "execution_count": 196
        }
      ]
    },
    {
      "cell_type": "markdown",
      "source": [
        "## 과제 진행하기"
      ],
      "metadata": {
        "id": "BM6YNsLu5tT9"
      }
    },
    {
      "cell_type": "code",
      "source": [
        "from collections import deque\n",
        "\n",
        "def time_stamp(time):\n",
        "  hour, minute = map(int, time.split(':'))\n",
        "  return 60 * hour + minute\n",
        "\n",
        "def solution(plans):\n",
        "    plans = [ (name, time_stamp(start), int(playtime)) for name, start, playtime in plans]\n",
        "    plans.sort(key = lambda x: x[1])\n",
        "    print(plans)\n",
        "    stack = list()\n",
        "    idx = 0\n",
        "    for i in range(len(plans) - 1):\n",
        "      if time_stamp(plans[i][1]) + int(plans[i][2]) > time_stamp(plans[i + 1][1]):\n",
        "        stack.append(plans[i])\n",
        "        idx = i + 1\n",
        "    return [i[0] for i in plans[idx:] + stack[::-1]]"
      ],
      "metadata": {
        "id": "50EVbA8MvbHo"
      },
      "execution_count": null,
      "outputs": []
    },
    {
      "cell_type": "code",
      "source": [
        "solution([[\"korean\", \"11:40\", \"30\"], [\"english\", \"12:10\", \"20\"], [\"math\", \"12:30\", \"40\"]])"
      ],
      "metadata": {
        "colab": {
          "base_uri": "https://localhost:8080/"
        },
        "id": "toz-efLY58vb",
        "outputId": "ce39f5fa-df99-49eb-c827-ab287bd06e49"
      },
      "execution_count": null,
      "outputs": [
        {
          "output_type": "stream",
          "name": "stdout",
          "text": [
            "[['korean', '11:40', '30'], ['english', '12:10', '20'], ['math', '12:30', '40']]\n"
          ]
        },
        {
          "output_type": "execute_result",
          "data": {
            "text/plain": [
              "['korean', 'english', 'math']"
            ]
          },
          "metadata": {},
          "execution_count": 306
        }
      ]
    },
    {
      "cell_type": "code",
      "source": [
        "solution([[\"science\", \"12:40\", \"50\"], [\"music\", \"12:20\", \"40\"], [\"history\", \"14:00\", \"30\"], [\"computer\", \"12:30\", \"100\"]])"
      ],
      "metadata": {
        "colab": {
          "base_uri": "https://localhost:8080/"
        },
        "id": "RuN9G0sT54Rm",
        "outputId": "f92462bd-ca3e-438a-ee15-c021a62783d9"
      },
      "execution_count": null,
      "outputs": [
        {
          "output_type": "stream",
          "name": "stdout",
          "text": [
            "[['music', '12:20', '40'], ['computer', '12:30', '100'], ['science', '12:40', '50'], ['history', '14:00', '30']]\n"
          ]
        },
        {
          "output_type": "execute_result",
          "data": {
            "text/plain": [
              "['science', 'history', 'computer', 'music']"
            ]
          },
          "metadata": {},
          "execution_count": 307
        }
      ]
    },
    {
      "cell_type": "code",
      "source": [
        "solution([[\"aaa\", \"12:00\", \"20\"], [\"bbb\", \"12:10\", \"30\"], [\"ccc\", \"12:40\", \"10\"]])"
      ],
      "metadata": {
        "colab": {
          "base_uri": "https://localhost:8080/"
        },
        "id": "iXn9sUmj6HEV",
        "outputId": "417be53c-1825-495e-b0b0-d71d59dd7bb6"
      },
      "execution_count": null,
      "outputs": [
        {
          "output_type": "stream",
          "name": "stdout",
          "text": [
            "[['aaa', '12:00', '20'], ['bbb', '12:10', '30'], ['ccc', '12:40', '10']]\n"
          ]
        },
        {
          "output_type": "execute_result",
          "data": {
            "text/plain": [
              "['bbb', 'ccc', 'aaa']"
            ]
          },
          "metadata": {},
          "execution_count": 308
        }
      ]
    },
    {
      "cell_type": "code",
      "source": [
        "from collections import deque\n",
        "\n",
        "def time_stamp(time):\n",
        "  hour, minute = map(int, time.split(':'))\n",
        "  return 60 * hour + minute\n",
        "\n",
        "def solution(plans):\n",
        "    answer = []\n",
        "\n",
        "    plans = [ (name, time_stamp(start), int(playtime)) for name, start, playtime in plans]\n",
        "    plans.sort(key = lambda x: x[1])\n",
        "    print(plans)\n",
        "\n",
        "    assign_q = deque()\n",
        "    left_time = 0\n",
        "\n",
        "    for i in range(len(plans)) :\n",
        "        name, start, playtime = plans[i]\n",
        "\n",
        "        while assign_q :\n",
        "            _name, _playtime = assign_q.pop()\n",
        "            if left_time >= _playtime :\n",
        "                left_time -= _playtime\n",
        "                answer.append(_name)\n",
        "            else :\n",
        "                assign_q.append((_name, _playtime - left_time))\n",
        "                break\n",
        "\n",
        "        assign_q.append((name, playtime))\n",
        "\n",
        "        if i < len(plans) - 1 :\n",
        "            next_start = plans[i+1][1]\n",
        "            left_time = next_start - start\n",
        "\n",
        "    while assign_q :\n",
        "        _name, _ = assign_q.pop()\n",
        "        answer.append(_name)\n",
        "\n",
        "    return answer"
      ],
      "metadata": {
        "id": "68GgklQnO8Vh"
      },
      "execution_count": null,
      "outputs": []
    },
    {
      "cell_type": "markdown",
      "source": [
        "## 광물 캐기"
      ],
      "metadata": {
        "id": "QxZmB-lQThcS"
      }
    },
    {
      "cell_type": "code",
      "source": [
        "def solution(picks, minerals):\n",
        "    minerals_dict = {\"diamond\": 0, \"iron\": 1, \"stone\": 2}\n",
        "    minerals = [minerals_dict[x] for x in minerals]\n",
        "    answer = 0\n",
        "    while True:\n",
        "      if sum(picks) == 0 or not minerals:\n",
        "        break\n",
        "\n",
        "      mineral = minerals[0]\n",
        "      pick = 0\n",
        "      for i in range(len(picks)):\n",
        "        if picks[i] != 0:\n",
        "          picks[i] -= 1\n",
        "          pick = i\n",
        "          break\n",
        "\n",
        "      for i in range(5):\n",
        "        if not minerals:\n",
        "          break\n",
        "        diff = pick - minerals.pop(0)\n",
        "        answer += 5 ** (diff if diff > 0 else 0)\n",
        "\n",
        "    return answer"
      ],
      "metadata": {
        "id": "6jA-4wfEMWOc"
      },
      "execution_count": null,
      "outputs": []
    },
    {
      "cell_type": "markdown",
      "source": [
        "- 실패 (점수 42.5)"
      ],
      "metadata": {
        "id": "5t4octh6gJdO"
      }
    },
    {
      "cell_type": "code",
      "source": [
        "solution([1, 3, 2], [\"diamond\", \"diamond\", \"diamond\", \"iron\", \"iron\", \"diamond\", \"iron\", \"stone\"])"
      ],
      "metadata": {
        "colab": {
          "base_uri": "https://localhost:8080/"
        },
        "id": "zHXa94jNTjtI",
        "outputId": "962ed05d-001b-4dbd-c678-0ef5da0b2da7"
      },
      "execution_count": null,
      "outputs": [
        {
          "output_type": "execute_result",
          "data": {
            "text/plain": [
              "12"
            ]
          },
          "metadata": {},
          "execution_count": 317
        }
      ]
    },
    {
      "cell_type": "code",
      "source": [
        "solution([0, 1, 1], [\"diamond\", \"diamond\", \"diamond\", \"diamond\", \"diamond\", \"iron\", \"iron\", \"iron\", \"iron\", \"iron\", \"diamond\"])"
      ],
      "metadata": {
        "colab": {
          "base_uri": "https://localhost:8080/"
        },
        "id": "Cj9yoDu2To4u",
        "outputId": "4e748fa4-dfd7-4b9e-8537-6d11f035e713"
      },
      "execution_count": null,
      "outputs": [
        {
          "output_type": "execute_result",
          "data": {
            "text/plain": [
              "50"
            ]
          },
          "metadata": {},
          "execution_count": 318
        }
      ]
    },
    {
      "cell_type": "markdown",
      "source": [
        "- 그리드 방식"
      ],
      "metadata": {
        "id": "WmT8-AtQgC-8"
      }
    },
    {
      "cell_type": "code",
      "source": [
        "def solution(picks, minerals):\n",
        "\n",
        "    answer = 0\n",
        "\n",
        "    m_dict = { \"diamond\": 0, \"iron\": 0, \"stone\": 0 }\n",
        "    dict = {0: (1, 1, 1), 1: (5, 1, 1), 2: (25, 5, 1)}\n",
        "\n",
        "    array = []\n",
        "    length = min(sum(picks) * 5, len(minerals))\n",
        "    ## 곡갱이보다 광석이 많은 경우 대비. (테스트 케이스 8번)\n",
        "\n",
        "    for i in range(length):\n",
        "        m_dict[minerals[i]] += 1\n",
        "        if (i + 1) % 5 == 0 or i == len(minerals) - 1:\n",
        "            array.append([m_dict[\"diamond\"], m_dict[\"iron\"], m_dict[\"stone\"]])\n",
        "            m_dict[\"diamond\"], m_dict[\"iron\"], m_dict[\"stone\"] = 0, 0, 0\n",
        "\n",
        "    ## 5칸마다 광석의 갯수를 세려준다.\n",
        "\n",
        "    array.sort(key = lambda x: (x[0], x[1], x[2]), reverse = True)\n",
        "\n",
        "    ## 다이아, 철, 돌 순서로 정렬해준다.\n",
        "\n",
        "    for dia, iron, stone in array:\n",
        "        for i in range(3):\n",
        "            if picks[i]:\n",
        "                picks[i] -= 1\n",
        "                answer += dia * dict[i][0] + iron * dict[i][1] + stone * dict[i][2]\n",
        "                break\n",
        "\n",
        "    ## 다이아, 철, 돌 곡갱이 순서로 사용해서 정렬된 광석을 캐준다.\n",
        "\n",
        "    return answer"
      ],
      "metadata": {
        "id": "t1aIPiEZbrt6"
      },
      "execution_count": null,
      "outputs": []
    },
    {
      "cell_type": "code",
      "source": [
        "from collections import deque\n",
        "\n",
        "\n",
        "def solution(picks, minerals):\n",
        "    pm_table = [\n",
        "        [1, 1, 1],\n",
        "        [5, 1, 1],\n",
        "        [25, 5, 1]\n",
        "    ]\n",
        "\n",
        "    dia, iron, stone = picks\n",
        "    tired, works, di, ir, st = 0, deque(), \"diamond\", \"iron\", \"stone\"\n",
        "\n",
        "    ps = deque([0] * dia + [1] * iron + [2] * stone)\n",
        "    pl, ml = len(ps), len(minerals)\n",
        "    minerals = minerals[0:pl * 5 if pl * 5 < ml else ml]\n",
        "\n",
        "    for i, m in enumerate(minerals):\n",
        "        idx, pi = i % 5, i // 5\n",
        "\n",
        "        if idx == 0:\n",
        "            works.append([0, 0, 0])\n",
        "        works[pi][0] += 1 if m == di else 0\n",
        "        works[pi][1] += 1 if m == ir else 0\n",
        "        works[pi][2] += 1 if m == st else 0\n",
        "\n",
        "    works = list(\n",
        "        reversed(sorted(list(works), key=lambda x: (x[0], x[1], x[2]))))\n",
        "\n",
        "    for p, work in zip(ps, works):\n",
        "        for m, w in enumerate(work):\n",
        "            tired += (pm_table[p][m] * w)\n",
        "\n",
        "    return tired\n",
        "\n",
        "\n",
        "print(solution([1, 3, 2], [\"diamond\", \"diamond\", \"diamond\",\n",
        "      \"iron\", \"iron\", \"diamond\", \"iron\", \"stone\"]))"
      ],
      "metadata": {
        "id": "2MCHx_kxglTJ"
      },
      "execution_count": null,
      "outputs": []
    },
    {
      "cell_type": "markdown",
      "source": [
        "## 주차 요금 계산"
      ],
      "metadata": {
        "id": "u_AL0cyylTHP"
      }
    },
    {
      "cell_type": "markdown",
      "source": [
        "- dict 사용"
      ],
      "metadata": {
        "id": "yBacDLkylV8b"
      }
    },
    {
      "cell_type": "code",
      "source": [
        "import math\n",
        "import collections\n",
        "\n",
        "def time_stamp(t):\n",
        "    h, m = map(int, t.split(':'))\n",
        "    return h * 60 + m\n",
        "\n",
        "def solution(fees, records):\n",
        "    record_dict = collections.defaultdict(int)\n",
        "    car_list = set()\n",
        "\n",
        "    for record in records:\n",
        "        t, n, s = record.split()\n",
        "        car_list.add(int(n))\n",
        "        record_dict[int(n)] += -time_stamp(t) if s == 'IN' else time_stamp(t)\n",
        "\n",
        "    answer = []\n",
        "    for i in sorted(list(car_list)):\n",
        "        time = record_dict[i]\n",
        "        if time <= 0:\n",
        "          time += 1439\n",
        "        answer.append(fees[1] + max(math.ceil((time - fees[0]) / fees[2]), 0) * fees[3])\n",
        "\n",
        "    return answer"
      ],
      "metadata": {
        "id": "YLfYpm5wf68Y"
      },
      "execution_count": null,
      "outputs": []
    },
    {
      "cell_type": "code",
      "source": [
        "solution([180, 5000, 10, 600],[\"05:34 5961 IN\", \"06:00 0000 IN\", \"06:34 0000 OUT\", \"07:59 5961 OUT\", \"07:59 0148 IN\", \"18:59 0000 IN\", \"19:09 0148 OUT\", \"22:59 5961 IN\", \"23:00 5961 OUT\"])"
      ],
      "metadata": {
        "colab": {
          "base_uri": "https://localhost:8080/"
        },
        "id": "vbm5R41qxvNN",
        "outputId": "dc7db3ca-57d8-47d6-a100-b3a7df907ea6"
      },
      "execution_count": null,
      "outputs": [
        {
          "output_type": "execute_result",
          "data": {
            "text/plain": [
              "[14600, 34400, 5000]"
            ]
          },
          "metadata": {},
          "execution_count": 71
        }
      ]
    },
    {
      "cell_type": "code",
      "source": [
        "solution([120, 0, 60, 591], [\"16:00 3961 IN\",\"16:00 0202 IN\",\"18:00 3961 OUT\",\"18:00 0202 OUT\",\"23:58 3961 IN\"])"
      ],
      "metadata": {
        "colab": {
          "base_uri": "https://localhost:8080/"
        },
        "id": "dB_Fag_Qx_id",
        "outputId": "1fed5ad7-817e-4d07-cae1-0942fb21894a"
      },
      "execution_count": null,
      "outputs": [
        {
          "output_type": "execute_result",
          "data": {
            "text/plain": [
              "[0, 591]"
            ]
          },
          "metadata": {},
          "execution_count": 72
        }
      ]
    },
    {
      "cell_type": "code",
      "source": [
        "solution([1, 461, 1, 10],[\"00:00 1234 IN\"])"
      ],
      "metadata": {
        "colab": {
          "base_uri": "https://localhost:8080/"
        },
        "id": "QOJAc8DEyGuk",
        "outputId": "5de19ad8-27ca-4221-ddcd-fd1114cffe02"
      },
      "execution_count": null,
      "outputs": [
        {
          "output_type": "execute_result",
          "data": {
            "text/plain": [
              "[14841]"
            ]
          },
          "metadata": {},
          "execution_count": 73
        }
      ]
    },
    {
      "cell_type": "markdown",
      "source": [
        "- array 사용"
      ],
      "metadata": {
        "id": "26tQwOnDlZO7"
      }
    },
    {
      "cell_type": "code",
      "source": [
        "import math\n",
        "\n",
        "def time_stamp(t):\n",
        "    h, m = map(int, t.split(':'))\n",
        "    return h * 60 + m\n",
        "\n",
        "def solution(fees, records):\n",
        "    in_time, is_in, sumT = [0] * 10000, [0] * 10000, [0] * 10000\n",
        "    car_list = set()\n",
        "\n",
        "    for record in records:\n",
        "        c = record.split()\n",
        "        time, car, command = time_stamp(c[0]), int(c[1]), c[2]\n",
        "        car_list.add(car)\n",
        "        if command == 'IN':\n",
        "            is_in[car] = 1\n",
        "            in_time[car] = time\n",
        "        else:\n",
        "            sumT[car] += time - in_time[car]\n",
        "            is_in[car] = 0\n",
        "\n",
        "    car_list = sorted(car_list)\n",
        "\n",
        "    for i in car_list:\n",
        "      if is_in[i] == 1:\n",
        "        sumT[i] += 1439 - in_time[i]\n",
        "\n",
        "    # answer = []\n",
        "    # for i in car_list:\n",
        "    #   if sumT[i] > 0:\n",
        "    #     answer.append(fees[1] + max(math.ceil((sumT[i] - fees[0]) / fees[2]), 0) * fees[3])\n",
        "\n",
        "    return [fees[1] + max(math.ceil((sumT[i] - fees[0]) / fees[2]), 0) * fees[3] for i in car_list if sumT[i] > 0]"
      ],
      "metadata": {
        "id": "4HRjW7pUlcUK"
      },
      "execution_count": null,
      "outputs": []
    },
    {
      "cell_type": "code",
      "source": [
        "solution([180, 5000, 10, 600],[\"05:34 5961 IN\", \"06:00 0000 IN\", \"06:34 0000 OUT\", \"07:59 5961 OUT\", \"07:59 0148 IN\", \"18:59 0000 IN\", \"19:09 0148 OUT\", \"22:59 5961 IN\", \"23:00 5961 OUT\"])"
      ],
      "metadata": {
        "colab": {
          "base_uri": "https://localhost:8080/"
        },
        "id": "mX4MyAtVsxFU",
        "outputId": "d611d5d2-75ea-4254-cce0-5466c4815e1a"
      },
      "execution_count": null,
      "outputs": [
        {
          "output_type": "execute_result",
          "data": {
            "text/plain": [
              "[14600, 34400, 5000]"
            ]
          },
          "metadata": {},
          "execution_count": 67
        }
      ]
    },
    {
      "cell_type": "code",
      "source": [
        "solution([120, 0, 60, 591], [\"16:00 3961 IN\",\"16:00 0202 IN\",\"18:00 3961 OUT\",\"18:00 0202 OUT\",\"23:58 3961 IN\"])"
      ],
      "metadata": {
        "colab": {
          "base_uri": "https://localhost:8080/"
        },
        "id": "TTBwuYPls538",
        "outputId": "6876ef16-e4ea-4c5b-c483-a20e3f1e1067"
      },
      "execution_count": null,
      "outputs": [
        {
          "output_type": "execute_result",
          "data": {
            "text/plain": [
              "[0, 591]"
            ]
          },
          "metadata": {},
          "execution_count": 68
        }
      ]
    },
    {
      "cell_type": "code",
      "source": [
        "solution([1, 461, 1, 10],[\"00:00 1234 IN\"])"
      ],
      "metadata": {
        "colab": {
          "base_uri": "https://localhost:8080/"
        },
        "id": "wMnuRxUXy_Ot",
        "outputId": "e8bb8215-bd01-4dc5-f52d-c4edad428f2c"
      },
      "execution_count": null,
      "outputs": [
        {
          "output_type": "execute_result",
          "data": {
            "text/plain": [
              "[14841]"
            ]
          },
          "metadata": {},
          "execution_count": 69
        }
      ]
    },
    {
      "cell_type": "markdown",
      "source": [
        "## [투 포인터] 보석 쇼핑"
      ],
      "metadata": {
        "id": "KU3J73qSE7mX"
      }
    },
    {
      "cell_type": "code",
      "source": [
        "import collections\n",
        "\n",
        "def solution(gems):\n",
        "    sH = collections.defaultdict(int)\n",
        "    k = len(set(gems))\n",
        "    lt = 0\n",
        "    answer = []\n",
        "    for rt in range(len(gems)):\n",
        "        sH[gems[rt]] += 1\n",
        "        while len(sH) == k:\n",
        "            answer.append([lt + 1, rt + 1])\n",
        "            sH[gems[lt]] -= 1\n",
        "            if sH[gems[lt]] == 0:\n",
        "                del sH[gems[lt]]\n",
        "            lt += 1\n",
        "\n",
        "    return sorted(answer, key = lambda x: [x[1] - x[0], x[0]])[0]"
      ],
      "metadata": {
        "id": "HEQDM_j2E-x5"
      },
      "execution_count": null,
      "outputs": []
    },
    {
      "cell_type": "code",
      "source": [
        "solution([\"DIA\", \"RUBY\", \"RUBY\", \"DIA\", \"DIA\", \"EMERALD\", \"SAPPHIRE\", \"DIA\"])"
      ],
      "metadata": {
        "colab": {
          "base_uri": "https://localhost:8080/"
        },
        "id": "HXZ7_fvDFGdH",
        "outputId": "65b6f533-6f6e-425d-ad74-eee809ed295d"
      },
      "execution_count": null,
      "outputs": [
        {
          "output_type": "execute_result",
          "data": {
            "text/plain": [
              "[3, 7]"
            ]
          },
          "metadata": {},
          "execution_count": 76
        }
      ]
    },
    {
      "cell_type": "code",
      "source": [
        "solution([\"AA\", \"AB\", \"AC\", \"AA\", \"AC\"])"
      ],
      "metadata": {
        "colab": {
          "base_uri": "https://localhost:8080/"
        },
        "id": "JHcGyfktFHnp",
        "outputId": "4c0d0294-2eb6-4eae-835f-21b37fb47b89"
      },
      "execution_count": null,
      "outputs": [
        {
          "output_type": "execute_result",
          "data": {
            "text/plain": [
              "[1, 3]"
            ]
          },
          "metadata": {},
          "execution_count": 77
        }
      ]
    },
    {
      "cell_type": "code",
      "source": [
        "solution([\"XYZ\", \"XYZ\", \"XYZ\"])"
      ],
      "metadata": {
        "id": "-vONl4MWFLM2",
        "outputId": "936b1b9b-febb-4172-fc9e-53131ada1f1f",
        "colab": {
          "base_uri": "https://localhost:8080/"
        }
      },
      "execution_count": null,
      "outputs": [
        {
          "output_type": "execute_result",
          "data": {
            "text/plain": [
              "[1, 1]"
            ]
          },
          "metadata": {},
          "execution_count": 78
        }
      ]
    },
    {
      "cell_type": "code",
      "source": [
        "solution([\"ZZZ\", \"YYY\", \"NNNN\", \"YYY\", \"BBB\"])"
      ],
      "metadata": {
        "id": "mJS4zQGOFNSZ",
        "outputId": "43e39c93-0848-4298-82e1-0f515dbb61ad",
        "colab": {
          "base_uri": "https://localhost:8080/"
        }
      },
      "execution_count": null,
      "outputs": [
        {
          "output_type": "execute_result",
          "data": {
            "text/plain": [
              "[1, 5]"
            ]
          },
          "metadata": {},
          "execution_count": 79
        }
      ]
    },
    {
      "cell_type": "markdown",
      "source": [
        "## [sorting & greedy] 단속카메라"
      ],
      "metadata": {
        "id": "k6LvF0ySLaRE"
      }
    },
    {
      "cell_type": "code",
      "source": [
        "def solution(routes):\n",
        "    answer = 1\n",
        "    routes.sort(key = lambda x: x[1])\n",
        "    point = routes[0][1]\n",
        "    for i in range(1, len(routes)):\n",
        "        if routes[i][0] > point:\n",
        "            point = routes[i][1]\n",
        "            answer += 1\n",
        "    return answer"
      ],
      "metadata": {
        "id": "_xhqkxstLfpT"
      },
      "execution_count": null,
      "outputs": []
    },
    {
      "cell_type": "code",
      "source": [
        "solution([[-20,-15], [-14,-5], [-18,-13], [-5,-3]])"
      ],
      "metadata": {
        "colab": {
          "base_uri": "https://localhost:8080/"
        },
        "id": "Kl3ETiPGLg2g",
        "outputId": "bf6d5057-5003-4bb2-fedb-a2df6521b204"
      },
      "execution_count": null,
      "outputs": [
        {
          "output_type": "execute_result",
          "data": {
            "text/plain": [
              "2"
            ]
          },
          "metadata": {},
          "execution_count": 82
        }
      ]
    },
    {
      "cell_type": "markdown",
      "source": [
        "## [DFS]: 피로도"
      ],
      "metadata": {
        "id": "pcJnbrdKWf8_"
      }
    },
    {
      "cell_type": "markdown",
      "source": [
        "- 다음 둘의 차이점은?"
      ],
      "metadata": {
        "id": "QxolWGbhM7xv"
      }
    },
    {
      "cell_type": "code",
      "source": [
        "def DFS(n):\n",
        "  if n > 0:\n",
        "    DFS(n-1)\n",
        "    print(n, end=' ')\n",
        "\n",
        "DFS(3)"
      ],
      "metadata": {
        "colab": {
          "base_uri": "https://localhost:8080/"
        },
        "id": "ZPOcT1S8MwsK",
        "outputId": "093f1761-4aa8-4939-80f0-bf1eb77f877a"
      },
      "execution_count": null,
      "outputs": [
        {
          "output_type": "stream",
          "name": "stdout",
          "text": [
            "1 2 3 "
          ]
        }
      ]
    },
    {
      "cell_type": "code",
      "source": [
        "def DFS(n):\n",
        "  if n > 0:\n",
        "    print(n, end=' ')\n",
        "    DFS(n-1)\n",
        "\n",
        "DFS(3)"
      ],
      "metadata": {
        "colab": {
          "base_uri": "https://localhost:8080/"
        },
        "id": "iHPFZcQhM4Nn",
        "outputId": "d790cd60-ca88-4360-f351-d99662faf8d0"
      },
      "execution_count": null,
      "outputs": [
        {
          "output_type": "stream",
          "name": "stdout",
          "text": [
            "3 2 1 "
          ]
        }
      ]
    },
    {
      "cell_type": "markdown",
      "source": [
        "- 중복순열 구현"
      ],
      "metadata": {
        "id": "5sqL8GzWQP_w"
      }
    },
    {
      "cell_type": "code",
      "source": [
        "def DFS(L, n, k, p):\n",
        "  if L == k:\n",
        "    for x in p:\n",
        "      print(x, end=' ')\n",
        "    print()\n",
        "  else:\n",
        "    for i in range(1, n + 1):\n",
        "      p.append(i)\n",
        "      DFS(L + 1, n, k, p)\n",
        "      p.pop()\n",
        "\n",
        "def solution(n, k):\n",
        "  DFS(0, n, k, [])\n",
        "  return \"end\"\n",
        "\n",
        "print(solution(3,2))"
      ],
      "metadata": {
        "colab": {
          "base_uri": "https://localhost:8080/"
        },
        "id": "exOveIyWM6cx",
        "outputId": "4fdb20da-2d7b-457b-c681-cf4c4142bb19"
      },
      "execution_count": null,
      "outputs": [
        {
          "output_type": "stream",
          "name": "stdout",
          "text": [
            "1 1 \n",
            "1 2 \n",
            "1 3 \n",
            "2 1 \n",
            "2 2 \n",
            "2 3 \n",
            "3 1 \n",
            "3 2 \n",
            "3 3 \n",
            "end\n"
          ]
        }
      ]
    },
    {
      "cell_type": "code",
      "source": [],
      "metadata": {
        "id": "GUA-yBhGQlQp"
      },
      "execution_count": null,
      "outputs": []
    }
  ]
}