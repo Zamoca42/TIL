{
  "nbformat": 4,
  "nbformat_minor": 0,
  "metadata": {
    "colab": {
      "provenance": [],
      "authorship_tag": "ABX9TyPLrlMx/6X+l7xShzJwPRwa",
      "include_colab_link": true
    },
    "kernelspec": {
      "name": "python3",
      "display_name": "Python 3"
    },
    "language_info": {
      "name": "python"
    }
  },
  "cells": [
    {
      "cell_type": "markdown",
      "metadata": {
        "id": "view-in-github",
        "colab_type": "text"
      },
      "source": [
        "<a href=\"https://colab.research.google.com/github/Zamoca42/TIL/blob/main/Algorithm/%EA%B8%B0%EB%B3%B8_%ED%83%90%EC%83%89_%EC%95%8C%EA%B3%A0%EB%A6%AC%EC%A6%98_%ED%95%B5%EC%8B%AC_%EC%9C%A0%ED%98%95_%EB%AC%B8%EC%A0%9C%ED%92%80%EC%9D%B4.ipynb\" target=\"_parent\"><img src=\"https://colab.research.google.com/assets/colab-badge.svg\" alt=\"Open In Colab\"/></a>"
      ]
    },
    {
      "cell_type": "markdown",
      "source": [
        "# 공유기 설치: https://www.acmicpc.net/problem/2110"
      ],
      "metadata": {
        "id": "ZDHL1dlVqjO6"
      }
    },
    {
      "cell_type": "markdown",
      "source": [
        "- 문제 난이도: 중 (Medium)\n",
        "- 문제 유형: 이진 탐색\n",
        "- 추천 풀이 시간: 40분"
      ],
      "metadata": {
        "id": "wa0UTn247saJ"
      }
    },
    {
      "cell_type": "markdown",
      "source": [
        "## 핵심 아이디어"
      ],
      "metadata": {
        "id": "24KOvUvcqrut"
      }
    },
    {
      "cell_type": "markdown",
      "source": [
        "- 집의 개수는 N은 최대 200,000이며, 집의 좌표 X는 최대 1,000,000,000\n",
        "- 이진 탐색을 이용하여 $O(N*logX)$에 문제를 해결\n",
        "- 가장 인접한 두 공유기 사이의 최대 Gap을 이진 탐색"
      ],
      "metadata": {
        "id": "ZOn_oqCW5kpy"
      }
    },
    {
      "cell_type": "markdown",
      "source": [
        "<img width=\"1320\" alt=\"스크린샷 2023-06-23 오후 3 18 22\" src=\"https://github.com/Zamoca42/TIL/assets/96982072/dc2c96c7-ef51-4c17-af5c-e8f4ca62faef\">\n",
        "<img width=\"1320\" alt=\"스크린샷 2023-06-23 오후 3 18 33\" src=\"https://github.com/Zamoca42/TIL/assets/96982072/70b0d16f-e4f2-4911-9d6f-68bd46af3556\">\n",
        "<img width=\"1321\" alt=\"스크린샷 2023-06-23 오후 3 18 44\" src=\"https://github.com/Zamoca42/TIL/assets/96982072/bf22842b-88f3-4c09-b0fd-aeeb88eef2b1\">\n",
        "<img width=\"1320\" alt=\"스크린샷 2023-06-23 오후 3 18 52\" src=\"https://github.com/Zamoca42/TIL/assets/96982072/f1190fa6-02ee-42ae-ad30-f5ae88debadf\">\n",
        "<img width=\"1320\" alt=\"스크린샷 2023-06-23 오후 3 19 12\" src=\"https://github.com/Zamoca42/TIL/assets/96982072/66cd7e00-b4f1-4792-848f-35d8915cd821\">\n",
        "<img width=\"1320\" alt=\"스크린샷 2023-06-23 오후 3 19 22\" src=\"https://github.com/Zamoca42/TIL/assets/96982072/c5cb13bf-edff-41ed-8d46-0ff05e18fede\">"
      ],
      "metadata": {
        "id": "RN2FyzPP5yWP"
      }
    },
    {
      "cell_type": "markdown",
      "source": [
        "## 이진 탐색 - 재귀 or <U> 반복 </U>"
      ],
      "metadata": {
        "id": "qDnD-6378xRf"
      }
    },
    {
      "cell_type": "code",
      "execution_count": null,
      "metadata": {
        "id": "erKC0tmtqf1D"
      },
      "outputs": [],
      "source": [
        "N, C = map(int, input().split())\n",
        "\n",
        "array = []\n",
        "for _ in range(N):\n",
        "  array.append(int(input()))\n",
        "\n",
        "array.sort()\n",
        "\n",
        "start = array[1] - array[0]\n",
        "end = array[-1] - array[0]\n",
        "result = 0\n",
        "\n",
        "while start <= end:\n",
        "  mid = (start + end) // 2 # mid는 gap의 중간값\n",
        "  value = array[0]\n",
        "  count = 1\n",
        "  for i inrage(1, len(array)):\n",
        "    if array[i] >= value + mid:\n",
        "      value = array[i]\n",
        "      count += 1\n",
        "  if count >= C: # C개 이상의 공유기를 설치할 수 없는 경우\n",
        "    start = mid + 1\n",
        "    result = mid\n",
        "  else: # C개 이상의 공유기를 설치할 수 없는 경우\n",
        "    end = mid - 1\n",
        "\n",
        "print(result)"
      ]
    },
    {
      "cell_type": "markdown",
      "source": [
        "# 중량 제한: https://www.acmicpc.net/problem/1939"
      ],
      "metadata": {
        "id": "54AzKMxH-FhR"
      }
    },
    {
      "cell_type": "markdown",
      "source": [
        "- 다리의 개수 M은 최대 100,000이며, 중량 제한 C는 최대 1,000,000,000\n",
        "- 이진 탐색을 이용하여 $O(M*logC)$에 문제 해결\n",
        "- 한 번의 이동에서 옮길 수 있는 물품들의 중량의 최댓값을 이진 탐색"
      ],
      "metadata": {
        "id": "z1QUC1qW-H2W"
      }
    },
    {
      "cell_type": "code",
      "source": [
        "from collections import deque\n",
        "\n",
        "n, m = map(int, input().split())\n",
        "adj = [[] for _ in range(n + 1)]\n",
        "\n",
        "def bfs(c):\n",
        "  queue = deque([start_node])\n",
        "  visited = [False] * (n + 1)\n",
        "  visited[start_node] = True\n",
        "\n",
        "  while queue:\n",
        "    x = queue.popleft()\n",
        "    for y, weight in adj[x]:\n",
        "      if not visited[y] and weight >= c:\n",
        "        visited[y] = True\n",
        "        queue.append(y)\n",
        "  return visited[end_node]\n",
        "\n",
        "start = 1000000000\n",
        "end = 1\n",
        "\n",
        "for _ in range(m):\n",
        "  x, y, weight = map(int, input().split())\n",
        "  adj[x].append((y, weight))\n",
        "  adj[y].append((x, weight))\n",
        "  start = min(start, weight)\n",
        "  end = max(end, weight)\n",
        "\n",
        "start_node, end_node = map(int, input().split())\n",
        "\n",
        "result = start\n",
        "while(start <= end):\n",
        "  mid = (start + end) // 2 # mid는 현재의 중량을 의미합니다.\n",
        "  if bfs(mid): # 이동이 가능하므로, 중량을 증가시킵니다.\n",
        "    result = mid\n",
        "    start = mid + 1\n",
        "  else: # 이동이 불가능하므로, 중량을 감소시킵니다.\n",
        "    end = mid - 1\n",
        "\n",
        "print(result)"
      ],
      "metadata": {
        "id": "EEtTwEnL-VVa"
      },
      "execution_count": null,
      "outputs": []
    }
  ]
}