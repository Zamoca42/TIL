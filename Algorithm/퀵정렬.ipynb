{
  "nbformat": 4,
  "nbformat_minor": 0,
  "metadata": {
    "colab": {
      "provenance": [],
      "authorship_tag": "ABX9TyPTJrhRM6QP0wR9fpDRwHXE",
      "include_colab_link": true
    },
    "kernelspec": {
      "name": "python3",
      "display_name": "Python 3"
    },
    "language_info": {
      "name": "python"
    }
  },
  "cells": [
    {
      "cell_type": "markdown",
      "metadata": {
        "id": "view-in-github",
        "colab_type": "text"
      },
      "source": [
        "<a href=\"https://colab.research.google.com/github/Zamoca42/TIL/blob/main/Algorithm/%ED%80%B5%EC%A0%95%EB%A0%AC.ipynb\" target=\"_parent\"><img src=\"https://colab.research.google.com/assets/colab-badge.svg\" alt=\"Open In Colab\"/></a>"
      ]
    },
    {
      "cell_type": "markdown",
      "source": [
        "# 퀵 정렬(quick sort)"
      ],
      "metadata": {
        "id": "ri2oaQ9kk_-N"
      }
    },
    {
      "cell_type": "markdown",
      "source": [
        "### 퀵 정렬 (quick sort) 이란?\n",
        "* <font color='#BF360C'>정렬 알고리즘의 꽃</font>\n",
        "* 기준점(pivot 이라고 부름)을 정해서, 기준점보다 작은 데이터는 왼쪽(left), 큰 데이터는 오른쪽(right) 으로 모으는 함수를 작성함\n",
        "* 각 왼쪽(left), 오른쪽(right)은 재귀용법을 사용해서 다시 동일 함수를 호출하여 위 작업을 반복함\n",
        "* 함수는 왼쪽(left) + 기준점(pivot) + 오른쪽(right) 을 리턴함\n",
        "\n",
        "* 분할 정복의 예시\n",
        "\n"
      ],
      "metadata": {
        "id": "YCakFmbBlDlI"
      }
    },
    {
      "cell_type": "markdown",
      "source": [
        "### 알고리즘 구현\n",
        "* quicksort 함수 만들기\n",
        "  - 만약 리스트 갯수가 한개이면 해당 리스트 리턴\n",
        "  - 그렇지 않으면, 리스트 맨 앞의 데이터를 기준점(pivot)으로 놓기\n",
        "  - left, right 리스트 변수를 만들고,\n",
        "  - 맨 앞의 데이터를 뺀 나머지 데이터를 기준점과 비교(pivot)\n",
        "    - 기준점보다 작으면 left.append(해당 데이터)\n",
        "    - 기준점보다 크면 right.append(해당 데이터)\n",
        "  - return quicksort(left) + pivot + quicksort(right) 로 재귀 호출\n",
        "  \n",
        "> 리스트로 만들어서 리턴하기: return quick_sort(left) + [pivot] + quick_sort(right)"
      ],
      "metadata": {
        "id": "PDepEE0PlWKr"
      }
    },
    {
      "cell_type": "code",
      "execution_count": 4,
      "metadata": {
        "id": "P6yxrXDre_oL"
      },
      "outputs": [],
      "source": [
        "def qsort(data):\n",
        "  if len(data) <= 1:\n",
        "    return data\n",
        "  left, right = list(), list()\n",
        "  pivot = data[0]\n",
        "\n",
        "  for index in range(1, len(data)):\n",
        "    if pivot > data[index]:\n",
        "      left.append(data[index])\n",
        "    else:\n",
        "      right.append(data[index])\n",
        "\n",
        "  return qsort(left) + [pivot] + qsort(right)"
      ]
    },
    {
      "cell_type": "code",
      "source": [
        "import random\n",
        "\n",
        "data_list = random.sample(range(100), 10)\n",
        "\n",
        "qsort(data_list)"
      ],
      "metadata": {
        "colab": {
          "base_uri": "https://localhost:8080/"
        },
        "id": "4NYBNLvBlyJI",
        "outputId": "db4a8d44-b63e-4589-a5fd-c2d8d50df543"
      },
      "execution_count": 5,
      "outputs": [
        {
          "output_type": "execute_result",
          "data": {
            "text/plain": [
              "[0, 7, 35, 37, 39, 44, 54, 57, 72, 99]"
            ]
          },
          "metadata": {},
          "execution_count": 5
        }
      ]
    },
    {
      "cell_type": "markdown",
      "source": [
        "<div class=\"alert alert-block alert-warning\">\n",
        "<strong><font color=\"blue\" size=\"4em\">프로그래밍 연습</font></strong><br>\n",
        "위 퀵정렬 코드를 파이썬 list comprehension을 사용해서 더 깔끔하게 작성해보기<br>\n",
        "</div>"
      ],
      "metadata": {
        "id": "2vsYzW2ol8hx"
      }
    },
    {
      "cell_type": "code",
      "source": [
        "def qsort(data):\n",
        "  if len(data) <= 1:\n",
        "    return data\n",
        "  \n",
        "  pivot = data[0]\n",
        "  print('pivot : ', pivot)\n",
        "\n",
        "  left = [ item for item in data[1:] if pivot > item ]\n",
        "  right = [ item for item in data[1:] if pivot <= item ]\n",
        "\n",
        "  print('left : ', left)\n",
        "  print('right : ', right)\n",
        "\n",
        "  return qsort(left) + [pivot] + qsort(right)\n"
      ],
      "metadata": {
        "id": "Z0jx_-38lz_m"
      },
      "execution_count": 16,
      "outputs": []
    },
    {
      "cell_type": "code",
      "source": [
        "import random\n",
        "\n",
        "data_list = random.sample(range(100), 10)\n",
        "\n",
        "qsort(data_list)"
      ],
      "metadata": {
        "colab": {
          "base_uri": "https://localhost:8080/"
        },
        "outputId": "2a5294d5-bb76-4a13-c907-70d01eb2ba4a",
        "id": "-wt0w3zcmVho"
      },
      "execution_count": 17,
      "outputs": [
        {
          "output_type": "stream",
          "name": "stdout",
          "text": [
            "pivot :  5\n",
            "left :  []\n",
            "right :  [32, 64, 72, 60, 77, 22, 16, 42, 67]\n",
            "pivot :  32\n",
            "left :  [22, 16]\n",
            "right :  [64, 72, 60, 77, 42, 67]\n",
            "pivot :  22\n",
            "left :  [16]\n",
            "right :  []\n",
            "pivot :  64\n",
            "left :  [60, 42]\n",
            "right :  [72, 77, 67]\n",
            "pivot :  60\n",
            "left :  [42]\n",
            "right :  []\n",
            "pivot :  72\n",
            "left :  [67]\n",
            "right :  [77]\n"
          ]
        },
        {
          "output_type": "execute_result",
          "data": {
            "text/plain": [
              "[5, 16, 22, 32, 42, 60, 64, 67, 72, 77]"
            ]
          },
          "metadata": {},
          "execution_count": 17
        }
      ]
    },
    {
      "cell_type": "markdown",
      "source": [
        "### 4. 알고리즘 분석\n",
        "* <font color='#BF360C'>병합정렬과 유사, 시간복잡도는 O(n log n)</font>\n",
        "  - 단, 최악의 경우 O($n^2$)\n",
        "    - 맨 처음 pivot이 가장 크거나, 가장 작으면\n",
        "    - 모든 데이터를 비교하는 상황이 나옴\n",
        "  \n",
        "<img src=\"https://www.fun-coding.org/00_Images/quicksortworks.jpg\" />\n"
      ],
      "metadata": {
        "id": "fdCz85QDnYeX"
      }
    },
    {
      "cell_type": "markdown",
      "source": [
        "<div class=\"alert alert-block alert-warning\">\n",
        "<strong><font color=\"blue\" size=\"4em\">프로그래밍 연습</font></strong><br>\n",
        "지금 설명한 퀵 정렬을 지금 다시 스스로 작성해보세요<br>\n",
        "</div>"
      ],
      "metadata": {
        "id": "ZkLE2ULKsFdS"
      }
    },
    {
      "cell_type": "code",
      "source": [
        "def qsort(data):\n",
        "  if len(data) <= 1:\n",
        "    return data  \n",
        "\n",
        "  pivot = data[0]\n",
        "\n",
        "  left = [ item for item in data[1:] if pivot > item ]\n",
        "  right = [ item for item in data[1:] if pivot <= item ]\n",
        "\n",
        "  return qsort(left) + [pivot] + qsort(right)"
      ],
      "metadata": {
        "id": "1tCRDPl-mXpa"
      },
      "execution_count": 23,
      "outputs": []
    },
    {
      "cell_type": "code",
      "source": [
        "import random\n",
        "\n",
        "data_list = random.sample(range(100), 10)\n",
        "\n",
        "qsort(data_list)"
      ],
      "metadata": {
        "colab": {
          "base_uri": "https://localhost:8080/"
        },
        "outputId": "895e10d4-a859-4660-c152-15105fb605ea",
        "id": "NYhrOjOFsKJB"
      },
      "execution_count": 24,
      "outputs": [
        {
          "output_type": "execute_result",
          "data": {
            "text/plain": [
              "[5, 16, 18, 19, 28, 30, 52, 56, 74, 77]"
            ]
          },
          "metadata": {},
          "execution_count": 24
        }
      ]
    }
  ]
}