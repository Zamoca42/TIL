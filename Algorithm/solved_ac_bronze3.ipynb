{
  "nbformat": 4,
  "nbformat_minor": 0,
  "metadata": {
    "colab": {
      "provenance": [],
      "authorship_tag": "ABX9TyMJs1vrHNun+bo9i7Kjsd9t",
      "include_colab_link": true
    },
    "kernelspec": {
      "name": "python3",
      "display_name": "Python 3"
    },
    "language_info": {
      "name": "python"
    }
  },
  "cells": [
    {
      "cell_type": "markdown",
      "metadata": {
        "id": "view-in-github",
        "colab_type": "text"
      },
      "source": [
        "<a href=\"https://colab.research.google.com/github/Zamoca42/TIL/blob/main/Algorithm/solved_ac_bronze3.ipynb\" target=\"_parent\"><img src=\"https://colab.research.google.com/assets/colab-badge.svg\" alt=\"Open In Colab\"/></a>"
      ]
    },
    {
      "cell_type": "markdown",
      "source": [
        "## 직사각형에서 탈출 : acmicpc.net/problem/1085"
      ],
      "metadata": {
        "id": "9I1tr8Z7jRjq"
      }
    },
    {
      "cell_type": "code",
      "execution_count": null,
      "metadata": {
        "colab": {
          "base_uri": "https://localhost:8080/"
        },
        "id": "zx-_qaGGxwvh",
        "outputId": "33d3e34e-d105-4dcf-b3c5-6d6fd574c9d3"
      },
      "outputs": [
        {
          "output_type": "stream",
          "name": "stdout",
          "text": [
            "653 375 1000 1000\n",
            "347\n"
          ]
        }
      ],
      "source": [
        "x, y, w, h = map(int, input().split())\n",
        "\n",
        "print(min(x, y, w - x, h - y))"
      ]
    },
    {
      "cell_type": "markdown",
      "source": [
        "## 핸드폰 요금: https://www.acmicpc.net/problem/1267"
      ],
      "metadata": {
        "id": "pSRb0QCXjUDe"
      }
    },
    {
      "cell_type": "code",
      "source": [
        "n = int(input())\n",
        "\n",
        "phone = list(map(int, input().split()))\n",
        "y = 0\n",
        "m = 0\n",
        "\n",
        "for i in phone:\n",
        "  y += (i // 30 + 1) * 10\n",
        "  m += (i // 60 + 1) * 15\n",
        "\n",
        "if y == m:\n",
        "  print('Y', 'M', min(y, m))\n",
        "elif y < m:\n",
        "  print('Y', y)\n",
        "else:\n",
        "  print('M', m)"
      ],
      "metadata": {
        "colab": {
          "base_uri": "https://localhost:8080/"
        },
        "id": "reDEddU1yNFB",
        "outputId": "f76f491a-a1fe-4784-de11-dd363954eb28"
      },
      "execution_count": null,
      "outputs": [
        {
          "output_type": "stream",
          "name": "stdout",
          "text": [
            "2\n",
            "60 65\n",
            "Y M 60\n"
          ]
        }
      ]
    },
    {
      "cell_type": "markdown",
      "source": [
        "## 부호: https://www.acmicpc.net/problem/1247"
      ],
      "metadata": {
        "id": "uP-qK7a0KLbf"
      }
    },
    {
      "cell_type": "code",
      "source": [
        "for _ in range(3):\n",
        "  sum_value = 0\n",
        "  for _ in range(int(input())):\n",
        "    sum_value += int(input())\n",
        "\n",
        "  if sum_value > 0:\n",
        "    print('+')\n",
        "  elif sum_value < 0:\n",
        "    print('-')\n",
        "  else:\n",
        "    print(0)"
      ],
      "metadata": {
        "id": "JmHGqkaAk_0c",
        "colab": {
          "base_uri": "https://localhost:8080/"
        },
        "outputId": "df36b212-a0c1-486e-b1f3-91a730c9c844"
      },
      "execution_count": 3,
      "outputs": [
        {
          "output_type": "stream",
          "name": "stdout",
          "text": [
            "3\n",
            "0\n",
            "0\n",
            "0\n",
            "0\n",
            "10\n",
            "1\n",
            "2\n",
            "4\n",
            "8\n",
            "16\n",
            "32\n",
            "64\n",
            "128\n",
            "256\n",
            "-512\n",
            "-\n",
            "6\n",
            "9223372036854775807\n",
            "9223372036854775806\n",
            "9223372036854775805\n",
            "-9223372036854775807\n",
            "-9223372036854775806\n",
            "-9223372036854775804\n",
            "+\n"
          ]
        }
      ]
    },
    {
      "cell_type": "markdown",
      "source": [
        "## 집 주소: https://www.acmicpc.net/problem/1284"
      ],
      "metadata": {
        "id": "IJJa3-McWnNC"
      }
    },
    {
      "cell_type": "code",
      "source": [
        "while True:\n",
        "  N = input()\n",
        "  width = 2 + (len(N) - 1)\n",
        "\n",
        "  if N == '0':\n",
        "    break\n",
        "\n",
        "  for x in N:\n",
        "    if x == '1':\n",
        "      width += 2\n",
        "    elif x == '0':\n",
        "      width += 4\n",
        "    else:\n",
        "      width += 3\n",
        "\n",
        "  print(width)"
      ],
      "metadata": {
        "colab": {
          "base_uri": "https://localhost:8080/"
        },
        "id": "jUge3M5-WpvN",
        "outputId": "2afd46db-b7cf-4590-c037-b54f6b2bea93"
      },
      "execution_count": 5,
      "outputs": [
        {
          "name": "stdout",
          "output_type": "stream",
          "text": [
            "120\n",
            "13\n",
            "5611\n",
            "15\n",
            "100\n",
            "14\n",
            "0\n"
          ]
        }
      ]
    },
    {
      "cell_type": "markdown",
      "source": [
        "## 공: https://www.acmicpc.net/problem/1547"
      ],
      "metadata": {
        "id": "32bO1G9De7PO"
      }
    },
    {
      "cell_type": "code",
      "source": [
        "cups = [1, 2, 3]\n",
        "\n",
        "for _ in range(int(input())):\n",
        "  X, Y = map(int, input().split())\n",
        "  for idx, i in enumerate(cups):\n",
        "    if i == X:\n",
        "      cups[idx] = Y\n",
        "    elif i == Y:\n",
        "      cups[idx] = X\n",
        "\n",
        "print(cups.pop(0))"
      ],
      "metadata": {
        "id": "_oGf4fhVhc76"
      },
      "execution_count": null,
      "outputs": []
    },
    {
      "cell_type": "markdown",
      "source": [
        "- 스왑하는 다른 방법"
      ],
      "metadata": {
        "id": "pL1GPKOehdXV"
      }
    },
    {
      "cell_type": "code",
      "source": [
        "cups = [1, 2, 3]\n",
        "\n",
        "for _ in range(int(input())):\n",
        "  X, Y = map(int, input().split())\n",
        "  x_idx = cups.index(X)\n",
        "  y_idx = cups.index(Y)\n",
        "  cups[x_idx], cups[y_idx] = cups[y_idx], cups[x_idx]\n",
        "\n",
        "print(cups.pop(0))"
      ],
      "metadata": {
        "colab": {
          "base_uri": "https://localhost:8080/"
        },
        "id": "Bs4g3lz3YAbQ",
        "outputId": "5c3958d0-3a22-4955-9850-78ebfde6e227"
      },
      "execution_count": 8,
      "outputs": [
        {
          "output_type": "stream",
          "name": "stdout",
          "text": [
            "4\n",
            "3 1\n",
            "2 3\n",
            "3 1\n",
            "3 2\n",
            "3\n"
          ]
        }
      ]
    },
    {
      "cell_type": "markdown",
      "source": [
        "## 꼬리를 무는 숫자 나열: https://www.acmicpc.net/problem/1598"
      ],
      "metadata": {
        "id": "wXE_pI4xiXrI"
      }
    },
    {
      "cell_type": "code",
      "source": [
        "a, b = map(int, input().split())\n",
        "\n",
        "a_x, a_y = (a - 1) // 4, (a - 1) % 4\n",
        "print(a_x, a_y)\n",
        "b_x, b_y = (b - 1) // 4, (b - 1) % 4\n",
        "print(b_x, b_y)"
      ],
      "metadata": {
        "colab": {
          "base_uri": "https://localhost:8080/"
        },
        "id": "eBqqVi_5fukP",
        "outputId": "7fdeace0-4708-4a7e-ab38-49910aed0e50"
      },
      "execution_count": 19,
      "outputs": [
        {
          "output_type": "stream",
          "name": "stdout",
          "text": [
            "11 33\n",
            "2 2\n",
            "8 0\n"
          ]
        }
      ]
    },
    {
      "cell_type": "code",
      "source": [
        "a, b = map(int, input().split())\n",
        "\n",
        "a_x, a_y = divmod(a - 1, 4)\n",
        "print(a_x, a_y)\n",
        "b_x, b_y = divmod(b - 1, 4)\n",
        "print(b_x, b_y)"
      ],
      "metadata": {
        "colab": {
          "base_uri": "https://localhost:8080/"
        },
        "id": "wInsC8OtjtU4",
        "outputId": "61fedb88-2f3f-43c8-dbbc-f94e778e6c13"
      },
      "execution_count": 20,
      "outputs": [
        {
          "output_type": "stream",
          "name": "stdout",
          "text": [
            "11 33\n",
            "2 2\n",
            "8 0\n"
          ]
        }
      ]
    },
    {
      "cell_type": "code",
      "source": [
        "a, b = map(int, input().split())\n",
        "\n",
        "a_x, a_y = divmod(a - 1, 4)\n",
        "b_x, b_y = divmod(b - 1, 4)\n",
        "\n",
        "print(abs(a_x - b_x) + abs(a_y - b_y))"
      ],
      "metadata": {
        "colab": {
          "base_uri": "https://localhost:8080/"
        },
        "id": "RSp9kHyfpqst",
        "outputId": "72b8dd8f-49a0-428e-df0f-18f9ab1d1394"
      },
      "execution_count": 24,
      "outputs": [
        {
          "output_type": "stream",
          "name": "stdout",
          "text": [
            "32 11\n",
            "6\n"
          ]
        }
      ]
    },
    {
      "cell_type": "markdown",
      "source": [
        "- 다른 사람의 코드 [[링크]](https://www.acmicpc.net/source/63967958)"
      ],
      "metadata": {
        "id": "rrdKXf1VqSLk"
      }
    },
    {
      "cell_type": "code",
      "source": [
        "def pos(n):\n",
        "    x = (n-1)//4 + 1\n",
        "    y = (n-1)%4 + 1\n",
        "    return x, y\n",
        "\n",
        "a, b = map(lambda x: pos(int(x)), input().split())\n",
        "print(abs(b[1]-a[1])+abs(b[0]-a[0]))"
      ],
      "metadata": {
        "id": "fnyJxzqFp3Er"
      },
      "execution_count": null,
      "outputs": []
    },
    {
      "cell_type": "markdown",
      "source": [
        "## 생장점: https://www.acmicpc.net/problem/1703"
      ],
      "metadata": {
        "id": "v5rEv1wvuuil"
      }
    },
    {
      "cell_type": "code",
      "source": [
        "while True:\n",
        "  N = list(map(int, input().split()))\n",
        "  branch = 1\n",
        "\n",
        "  if N[0] == 0:\n",
        "    break\n",
        "\n",
        "  for i in range(1, len(N), 2):\n",
        "    branch = branch * N[i] - N[i + 1]\n",
        "\n",
        "  print(branch)"
      ],
      "metadata": {
        "colab": {
          "base_uri": "https://localhost:8080/"
        },
        "id": "7rW6rafZuwuf",
        "outputId": "5852fdf8-484d-4486-f846-e860beef8c68"
      },
      "execution_count": 32,
      "outputs": [
        {
          "name": "stdout",
          "output_type": "stream",
          "text": [
            "1 3 0\n",
            "3\n",
            "2 3 0 2 0\n",
            "6\n",
            "3 3 0 2 0 2 0\n",
            "12\n",
            "3 3 0 2 1 2 3\n",
            "7\n",
            "2 4 1 3 4\n",
            "5\n",
            "4 5 0 5 1 5 2 5 101\n",
            "489\n",
            "0\n"
          ]
        }
      ]
    },
    {
      "cell_type": "markdown",
      "source": [
        "## 암호제작: https://www.acmicpc.net/problem/1837"
      ],
      "metadata": {
        "id": "DtTPk9M6zCSJ"
      }
    },
    {
      "cell_type": "code",
      "source": [
        "P, K = map(int, input().split())\n",
        "\n",
        "# K까지 나눠지는 수가 있는지 확인\n",
        "for i in range(2, K):\n",
        "    if P % i == 0:\n",
        "        print(\"BAD\", i)\n",
        "        break\n",
        "else:\n",
        "    print(\"GOOD\")"
      ],
      "metadata": {
        "id": "Uh_IqrORzEGh"
      },
      "execution_count": null,
      "outputs": []
    },
    {
      "cell_type": "markdown",
      "source": [
        "2 부터 K까지 나눠지는 수가 있는지 판별, 문제에서 두 소수의 곱인 수가 주어지므로, 나눠진다면 무조건 소수.\n",
        "\n",
        "- https://star7sss.tistory.com/14"
      ],
      "metadata": {
        "id": "v2Q3aix-0Ca_"
      }
    },
    {
      "cell_type": "markdown",
      "source": [
        "## 플러그: https://www.acmicpc.net/problem/2010"
      ],
      "metadata": {
        "id": "Z3cWnYzP08pQ"
      }
    },
    {
      "cell_type": "code",
      "source": [
        "N = int(input())\n",
        "count = -(N - 1)\n",
        "\n",
        "for i in range(N):\n",
        "  count += int(input())\n",
        "\n",
        "print(count)"
      ],
      "metadata": {
        "colab": {
          "base_uri": "https://localhost:8080/"
        },
        "id": "6bW56AMD0_PA",
        "outputId": "7aaf1d00-37c9-415b-c778-5077b4ab03c2"
      },
      "execution_count": 38,
      "outputs": [
        {
          "output_type": "stream",
          "name": "stdout",
          "text": [
            "2\n",
            "5\n",
            "8\n",
            "12\n"
          ]
        }
      ]
    },
    {
      "cell_type": "markdown",
      "source": [
        "## 별 찍기 - 4: https://www.acmicpc.net/problem/2441"
      ],
      "metadata": {
        "id": "GgQuymtO2-sz"
      }
    },
    {
      "cell_type": "code",
      "source": [
        "N = int(input())\n",
        "for i in range(N):\n",
        "  print(' ' * i + '*' * (N - i))"
      ],
      "metadata": {
        "colab": {
          "base_uri": "https://localhost:8080/"
        },
        "id": "6Cix9Mvd3GZZ",
        "outputId": "2644f1a3-5191-4ffd-d4b5-b9527479aff8"
      },
      "execution_count": 41,
      "outputs": [
        {
          "output_type": "stream",
          "name": "stdout",
          "text": [
            "5\n",
            "*****\n",
            " ****\n",
            "  ***\n",
            "   **\n",
            "    *\n"
          ]
        }
      ]
    },
    {
      "cell_type": "markdown",
      "source": [
        "## 별 찍기 - 5: https://www.acmicpc.net/problem/2442"
      ],
      "metadata": {
        "id": "eProH-ev4BTQ"
      }
    },
    {
      "cell_type": "code",
      "source": [
        "N = int(input())\n",
        "for i in range(1, 2 * N, 2):\n",
        "  print(' ' * ((2 * N - i) // 2) + ('*' * i))"
      ],
      "metadata": {
        "colab": {
          "base_uri": "https://localhost:8080/"
        },
        "id": "IyWzrxQo4Gct",
        "outputId": "242e2040-4662-4757-e2c7-766072203c6a"
      },
      "execution_count": 62,
      "outputs": [
        {
          "output_type": "stream",
          "name": "stdout",
          "text": [
            "5\n",
            "    *\n",
            "   ***\n",
            "  *****\n",
            " *******\n",
            "*********\n"
          ]
        }
      ]
    },
    {
      "cell_type": "markdown",
      "source": [
        "## 별 찍기 - 6: https://www.acmicpc.net/problem/2443"
      ],
      "metadata": {
        "id": "eIsG03468kLH"
      }
    },
    {
      "cell_type": "code",
      "source": [
        "N = int(input())\n",
        "for i in range(2 * N - 1, 0, -2):\n",
        "  print(' ' * ((2 * N - i) // 2) + ('*' * i))"
      ],
      "metadata": {
        "colab": {
          "base_uri": "https://localhost:8080/"
        },
        "id": "WbKTJyLP8kxw",
        "outputId": "9cc2a4f8-c615-4284-dc46-7983c6f035fb"
      },
      "execution_count": 67,
      "outputs": [
        {
          "output_type": "stream",
          "name": "stdout",
          "text": [
            "5\n",
            "*********\n",
            " *******\n",
            "  *****\n",
            "   ***\n",
            "    *\n"
          ]
        }
      ]
    },
    {
      "cell_type": "markdown",
      "source": [
        "## 별 찍기 - 7: https://www.acmicpc.net/problem/2444"
      ],
      "metadata": {
        "id": "URh7BsXd9HE-"
      }
    },
    {
      "cell_type": "code",
      "source": [
        "N = int(input())\n",
        "\n",
        "for i in range(2 * N - 1):\n",
        "    tmp = abs(i - N + 1)\n",
        "    print(' ' * tmp + '*' * (2 *(N - tmp) - 1))"
      ],
      "metadata": {
        "colab": {
          "base_uri": "https://localhost:8080/"
        },
        "id": "CT5RZawQ9nPf",
        "outputId": "f4eeda7e-4f2f-4602-e92b-5ec3520482e4"
      },
      "execution_count": 72,
      "outputs": [
        {
          "output_type": "stream",
          "name": "stdout",
          "text": [
            "5\n",
            "    *\n",
            "   ***\n",
            "  *****\n",
            " *******\n",
            "*********\n",
            " *******\n",
            "  *****\n",
            "   ***\n",
            "    *\n"
          ]
        }
      ]
    },
    {
      "cell_type": "markdown",
      "source": [
        "## 별 찍기 - 8: https://www.acmicpc.net/problem/2445"
      ],
      "metadata": {
        "id": "KGcejXjxBKOa"
      }
    },
    {
      "cell_type": "code",
      "source": [
        "N = int(input())\n",
        "\n",
        "for i in range(2 * N - 1):\n",
        "    tmp = abs(i - N + 1)\n",
        "    print('*' * (N - tmp) + ' ' * (tmp * 2) + '*' * (N - tmp))"
      ],
      "metadata": {
        "colab": {
          "base_uri": "https://localhost:8080/"
        },
        "id": "-AsB1TX__3Rr",
        "outputId": "23852989-e5ca-4b65-e039-66a2508ab6db"
      },
      "execution_count": 78,
      "outputs": [
        {
          "output_type": "stream",
          "name": "stdout",
          "text": [
            "5\n",
            "*        *\n",
            "**      **\n",
            "***    ***\n",
            "****  ****\n",
            "**********\n",
            "****  ****\n",
            "***    ***\n",
            "**      **\n",
            "*        *\n"
          ]
        }
      ]
    },
    {
      "cell_type": "markdown",
      "source": [
        "## 별 찍기 - 9: https://www.acmicpc.net/problem/2446"
      ],
      "metadata": {
        "id": "oybpL6ZmBQjl"
      }
    },
    {
      "cell_type": "code",
      "source": [
        "N = int(input())\n",
        "\n",
        "for i in range(2 * N - 1):\n",
        "    tmp = abs(i - N + 1)\n",
        "    print(' ' * ((N - tmp) - 1) + '*' * ((2 * tmp) + 1))"
      ],
      "metadata": {
        "colab": {
          "base_uri": "https://localhost:8080/"
        },
        "id": "_jo64uKCAdM5",
        "outputId": "d16d6930-12c4-4e40-a5c7-9abdbe51da39"
      },
      "execution_count": 98,
      "outputs": [
        {
          "output_type": "stream",
          "name": "stdout",
          "text": [
            "5\n",
            "*********\n",
            " *******\n",
            "  *****\n",
            "   ***\n",
            "    *\n",
            "   ***\n",
            "  *****\n",
            " *******\n",
            "*********\n"
          ]
        }
      ]
    },
    {
      "cell_type": "markdown",
      "source": [
        "## 지능형 기차: https://www.acmicpc.net/problem/2455"
      ],
      "metadata": {
        "id": "2lE35lmwFvnO"
      }
    },
    {
      "cell_type": "code",
      "source": [
        "max_count = 0\n",
        "count = 0\n",
        "\n",
        "for _ in range(4):\n",
        "  x, y = map(int, input().split())\n",
        "  count += y - x\n",
        "  max_count = max(count, max_count)\n",
        "\n",
        "print(max_count)"
      ],
      "metadata": {
        "colab": {
          "base_uri": "https://localhost:8080/"
        },
        "id": "QZqqTwVGBV30",
        "outputId": "de13a415-9df5-43bf-d2c0-29cd21e00012"
      },
      "execution_count": 99,
      "outputs": [
        {
          "output_type": "stream",
          "name": "stdout",
          "text": [
            "0 32\n",
            "3 13\n",
            "28 25\n",
            "39 0\n",
            "42\n"
          ]
        }
      ]
    },
    {
      "cell_type": "markdown",
      "source": [
        "## 지능형 기차 2: https://www.acmicpc.net/problem/2460"
      ],
      "metadata": {
        "id": "9NCjF-ZtI33u"
      }
    },
    {
      "cell_type": "code",
      "source": [
        "max_count = 0\n",
        "count = 0\n",
        "\n",
        "for _ in range(10):\n",
        "  x, y = map(int, input().split())\n",
        "  count += y - x\n",
        "  max_count = max(count, max_count)\n",
        "\n",
        "print(max_count)"
      ],
      "metadata": {
        "id": "Vc5r7eDxHYz6"
      },
      "execution_count": null,
      "outputs": []
    }
  ]
}