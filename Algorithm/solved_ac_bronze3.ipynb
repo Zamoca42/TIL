{
  "nbformat": 4,
  "nbformat_minor": 0,
  "metadata": {
    "colab": {
      "provenance": [],
      "authorship_tag": "ABX9TyM3G+bA50dY5A1Sf+AKG8Zg",
      "include_colab_link": true
    },
    "kernelspec": {
      "name": "python3",
      "display_name": "Python 3"
    },
    "language_info": {
      "name": "python"
    }
  },
  "cells": [
    {
      "cell_type": "markdown",
      "metadata": {
        "id": "view-in-github",
        "colab_type": "text"
      },
      "source": [
        "<a href=\"https://colab.research.google.com/github/Zamoca42/TIL/blob/main/Algorithm/solved_ac_bronze3.ipynb\" target=\"_parent\"><img src=\"https://colab.research.google.com/assets/colab-badge.svg\" alt=\"Open In Colab\"/></a>"
      ]
    },
    {
      "cell_type": "markdown",
      "source": [
        "## 직사각형에서 탈출 : acmicpc.net/problem/1085"
      ],
      "metadata": {
        "id": "9I1tr8Z7jRjq"
      }
    },
    {
      "cell_type": "code",
      "execution_count": null,
      "metadata": {
        "colab": {
          "base_uri": "https://localhost:8080/"
        },
        "id": "zx-_qaGGxwvh",
        "outputId": "33d3e34e-d105-4dcf-b3c5-6d6fd574c9d3"
      },
      "outputs": [
        {
          "output_type": "stream",
          "name": "stdout",
          "text": [
            "653 375 1000 1000\n",
            "347\n"
          ]
        }
      ],
      "source": [
        "x, y, w, h = map(int, input().split())\n",
        "\n",
        "print(min(x, y, w - x, h - y))"
      ]
    },
    {
      "cell_type": "markdown",
      "source": [
        "## 핸드폰 요금: https://www.acmicpc.net/problem/1267"
      ],
      "metadata": {
        "id": "pSRb0QCXjUDe"
      }
    },
    {
      "cell_type": "code",
      "source": [
        "n = int(input())\n",
        "\n",
        "phone = list(map(int, input().split()))\n",
        "y = 0\n",
        "m = 0\n",
        "\n",
        "for i in phone:\n",
        "  y += (i // 30 + 1) * 10\n",
        "  m += (i // 60 + 1) * 15\n",
        "\n",
        "if y == m:\n",
        "  print('Y', 'M', min(y, m))\n",
        "elif y < m:\n",
        "  print('Y', y)\n",
        "else:\n",
        "  print('M', m)"
      ],
      "metadata": {
        "colab": {
          "base_uri": "https://localhost:8080/"
        },
        "id": "reDEddU1yNFB",
        "outputId": "f76f491a-a1fe-4784-de11-dd363954eb28"
      },
      "execution_count": null,
      "outputs": [
        {
          "output_type": "stream",
          "name": "stdout",
          "text": [
            "2\n",
            "60 65\n",
            "Y M 60\n"
          ]
        }
      ]
    },
    {
      "cell_type": "markdown",
      "source": [
        "## 부호: https://www.acmicpc.net/problem/1247"
      ],
      "metadata": {
        "id": "uP-qK7a0KLbf"
      }
    },
    {
      "cell_type": "code",
      "source": [
        "for _ in range(3):\n",
        "  sum_value = 0\n",
        "  for _ in range(int(input())):\n",
        "    sum_value += int(input())\n",
        "\n",
        "  if sum_value > 0:\n",
        "    print('+')\n",
        "  elif sum_value < 0:\n",
        "    print('-')\n",
        "  else:\n",
        "    print(0)"
      ],
      "metadata": {
        "id": "JmHGqkaAk_0c",
        "colab": {
          "base_uri": "https://localhost:8080/"
        },
        "outputId": "df36b212-a0c1-486e-b1f3-91a730c9c844"
      },
      "execution_count": null,
      "outputs": [
        {
          "output_type": "stream",
          "name": "stdout",
          "text": [
            "3\n",
            "0\n",
            "0\n",
            "0\n",
            "0\n",
            "10\n",
            "1\n",
            "2\n",
            "4\n",
            "8\n",
            "16\n",
            "32\n",
            "64\n",
            "128\n",
            "256\n",
            "-512\n",
            "-\n",
            "6\n",
            "9223372036854775807\n",
            "9223372036854775806\n",
            "9223372036854775805\n",
            "-9223372036854775807\n",
            "-9223372036854775806\n",
            "-9223372036854775804\n",
            "+\n"
          ]
        }
      ]
    },
    {
      "cell_type": "markdown",
      "source": [
        "## 집 주소: https://www.acmicpc.net/problem/1284"
      ],
      "metadata": {
        "id": "IJJa3-McWnNC"
      }
    },
    {
      "cell_type": "code",
      "source": [
        "while True:\n",
        "  N = input()\n",
        "  width = 2 + (len(N) - 1)\n",
        "\n",
        "  if N == '0':\n",
        "    break\n",
        "\n",
        "  for x in N:\n",
        "    if x == '1':\n",
        "      width += 2\n",
        "    elif x == '0':\n",
        "      width += 4\n",
        "    else:\n",
        "      width += 3\n",
        "\n",
        "  print(width)"
      ],
      "metadata": {
        "colab": {
          "base_uri": "https://localhost:8080/"
        },
        "id": "jUge3M5-WpvN",
        "outputId": "2afd46db-b7cf-4590-c037-b54f6b2bea93"
      },
      "execution_count": null,
      "outputs": [
        {
          "name": "stdout",
          "output_type": "stream",
          "text": [
            "120\n",
            "13\n",
            "5611\n",
            "15\n",
            "100\n",
            "14\n",
            "0\n"
          ]
        }
      ]
    },
    {
      "cell_type": "markdown",
      "source": [
        "## 공: https://www.acmicpc.net/problem/1547"
      ],
      "metadata": {
        "id": "32bO1G9De7PO"
      }
    },
    {
      "cell_type": "code",
      "source": [
        "cups = [1, 2, 3]\n",
        "\n",
        "for _ in range(int(input())):\n",
        "  X, Y = map(int, input().split())\n",
        "  for idx, i in enumerate(cups):\n",
        "    if i == X:\n",
        "      cups[idx] = Y\n",
        "    elif i == Y:\n",
        "      cups[idx] = X\n",
        "\n",
        "print(cups.pop(0))"
      ],
      "metadata": {
        "id": "_oGf4fhVhc76"
      },
      "execution_count": null,
      "outputs": []
    },
    {
      "cell_type": "markdown",
      "source": [
        "- 스왑하는 다른 방법"
      ],
      "metadata": {
        "id": "pL1GPKOehdXV"
      }
    },
    {
      "cell_type": "code",
      "source": [
        "cups = [1, 2, 3]\n",
        "\n",
        "for _ in range(int(input())):\n",
        "  X, Y = map(int, input().split())\n",
        "  x_idx = cups.index(X)\n",
        "  y_idx = cups.index(Y)\n",
        "  cups[x_idx], cups[y_idx] = cups[y_idx], cups[x_idx]\n",
        "\n",
        "print(cups.pop(0))"
      ],
      "metadata": {
        "colab": {
          "base_uri": "https://localhost:8080/"
        },
        "id": "Bs4g3lz3YAbQ",
        "outputId": "5c3958d0-3a22-4955-9850-78ebfde6e227"
      },
      "execution_count": null,
      "outputs": [
        {
          "output_type": "stream",
          "name": "stdout",
          "text": [
            "4\n",
            "3 1\n",
            "2 3\n",
            "3 1\n",
            "3 2\n",
            "3\n"
          ]
        }
      ]
    },
    {
      "cell_type": "markdown",
      "source": [
        "## 꼬리를 무는 숫자 나열: https://www.acmicpc.net/problem/1598"
      ],
      "metadata": {
        "id": "wXE_pI4xiXrI"
      }
    },
    {
      "cell_type": "code",
      "source": [
        "a, b = map(int, input().split())\n",
        "\n",
        "a_x, a_y = (a - 1) // 4, (a - 1) % 4\n",
        "print(a_x, a_y)\n",
        "b_x, b_y = (b - 1) // 4, (b - 1) % 4\n",
        "print(b_x, b_y)"
      ],
      "metadata": {
        "colab": {
          "base_uri": "https://localhost:8080/"
        },
        "id": "eBqqVi_5fukP",
        "outputId": "7fdeace0-4708-4a7e-ab38-49910aed0e50"
      },
      "execution_count": null,
      "outputs": [
        {
          "output_type": "stream",
          "name": "stdout",
          "text": [
            "11 33\n",
            "2 2\n",
            "8 0\n"
          ]
        }
      ]
    },
    {
      "cell_type": "code",
      "source": [
        "a, b = map(int, input().split())\n",
        "\n",
        "a_x, a_y = divmod(a - 1, 4)\n",
        "print(a_x, a_y)\n",
        "b_x, b_y = divmod(b - 1, 4)\n",
        "print(b_x, b_y)"
      ],
      "metadata": {
        "colab": {
          "base_uri": "https://localhost:8080/"
        },
        "id": "wInsC8OtjtU4",
        "outputId": "61fedb88-2f3f-43c8-dbbc-f94e778e6c13"
      },
      "execution_count": null,
      "outputs": [
        {
          "output_type": "stream",
          "name": "stdout",
          "text": [
            "11 33\n",
            "2 2\n",
            "8 0\n"
          ]
        }
      ]
    },
    {
      "cell_type": "code",
      "source": [
        "a, b = map(int, input().split())\n",
        "\n",
        "a_x, a_y = divmod(a - 1, 4)\n",
        "b_x, b_y = divmod(b - 1, 4)\n",
        "\n",
        "print(abs(a_x - b_x) + abs(a_y - b_y))"
      ],
      "metadata": {
        "colab": {
          "base_uri": "https://localhost:8080/"
        },
        "id": "RSp9kHyfpqst",
        "outputId": "72b8dd8f-49a0-428e-df0f-18f9ab1d1394"
      },
      "execution_count": null,
      "outputs": [
        {
          "output_type": "stream",
          "name": "stdout",
          "text": [
            "32 11\n",
            "6\n"
          ]
        }
      ]
    },
    {
      "cell_type": "markdown",
      "source": [
        "- 다른 사람의 코드 [[링크]](https://www.acmicpc.net/source/63967958)"
      ],
      "metadata": {
        "id": "rrdKXf1VqSLk"
      }
    },
    {
      "cell_type": "code",
      "source": [
        "def pos(n):\n",
        "    x = (n-1)//4 + 1\n",
        "    y = (n-1)%4 + 1\n",
        "    return x, y\n",
        "\n",
        "a, b = map(lambda x: pos(int(x)), input().split())\n",
        "print(abs(b[1]-a[1])+abs(b[0]-a[0]))"
      ],
      "metadata": {
        "id": "fnyJxzqFp3Er"
      },
      "execution_count": null,
      "outputs": []
    },
    {
      "cell_type": "markdown",
      "source": [
        "## 생장점: https://www.acmicpc.net/problem/1703"
      ],
      "metadata": {
        "id": "v5rEv1wvuuil"
      }
    },
    {
      "cell_type": "code",
      "source": [
        "while True:\n",
        "  N = list(map(int, input().split()))\n",
        "  branch = 1\n",
        "\n",
        "  if N[0] == 0:\n",
        "    break\n",
        "\n",
        "  for i in range(1, len(N), 2):\n",
        "    branch = branch * N[i] - N[i + 1]\n",
        "\n",
        "  print(branch)"
      ],
      "metadata": {
        "colab": {
          "base_uri": "https://localhost:8080/"
        },
        "id": "7rW6rafZuwuf",
        "outputId": "5852fdf8-484d-4486-f846-e860beef8c68"
      },
      "execution_count": null,
      "outputs": [
        {
          "name": "stdout",
          "output_type": "stream",
          "text": [
            "1 3 0\n",
            "3\n",
            "2 3 0 2 0\n",
            "6\n",
            "3 3 0 2 0 2 0\n",
            "12\n",
            "3 3 0 2 1 2 3\n",
            "7\n",
            "2 4 1 3 4\n",
            "5\n",
            "4 5 0 5 1 5 2 5 101\n",
            "489\n",
            "0\n"
          ]
        }
      ]
    },
    {
      "cell_type": "markdown",
      "source": [
        "## 암호제작: https://www.acmicpc.net/problem/1837"
      ],
      "metadata": {
        "id": "DtTPk9M6zCSJ"
      }
    },
    {
      "cell_type": "code",
      "source": [
        "P, K = map(int, input().split())\n",
        "\n",
        "# K까지 나눠지는 수가 있는지 확인\n",
        "for i in range(2, K):\n",
        "    if P % i == 0:\n",
        "        print(\"BAD\", i)\n",
        "        break\n",
        "else:\n",
        "    print(\"GOOD\")"
      ],
      "metadata": {
        "id": "Uh_IqrORzEGh"
      },
      "execution_count": null,
      "outputs": []
    },
    {
      "cell_type": "markdown",
      "source": [
        "2 부터 K까지 나눠지는 수가 있는지 판별, 문제에서 두 소수의 곱인 수가 주어지므로, 나눠진다면 무조건 소수.\n",
        "\n",
        "- https://star7sss.tistory.com/14"
      ],
      "metadata": {
        "id": "v2Q3aix-0Ca_"
      }
    },
    {
      "cell_type": "markdown",
      "source": [
        "## 플러그: https://www.acmicpc.net/problem/2010"
      ],
      "metadata": {
        "id": "Z3cWnYzP08pQ"
      }
    },
    {
      "cell_type": "code",
      "source": [
        "N = int(input())\n",
        "count = -(N - 1)\n",
        "\n",
        "for i in range(N):\n",
        "  count += int(input())\n",
        "\n",
        "print(count)"
      ],
      "metadata": {
        "colab": {
          "base_uri": "https://localhost:8080/"
        },
        "id": "6bW56AMD0_PA",
        "outputId": "7aaf1d00-37c9-415b-c778-5077b4ab03c2"
      },
      "execution_count": null,
      "outputs": [
        {
          "output_type": "stream",
          "name": "stdout",
          "text": [
            "2\n",
            "5\n",
            "8\n",
            "12\n"
          ]
        }
      ]
    },
    {
      "cell_type": "markdown",
      "source": [
        "## 별 찍기 - 4: https://www.acmicpc.net/problem/2441"
      ],
      "metadata": {
        "id": "GgQuymtO2-sz"
      }
    },
    {
      "cell_type": "code",
      "source": [
        "N = int(input())\n",
        "for i in range(N):\n",
        "  print(' ' * i + '*' * (N - i))"
      ],
      "metadata": {
        "colab": {
          "base_uri": "https://localhost:8080/"
        },
        "id": "6Cix9Mvd3GZZ",
        "outputId": "2644f1a3-5191-4ffd-d4b5-b9527479aff8"
      },
      "execution_count": null,
      "outputs": [
        {
          "output_type": "stream",
          "name": "stdout",
          "text": [
            "5\n",
            "*****\n",
            " ****\n",
            "  ***\n",
            "   **\n",
            "    *\n"
          ]
        }
      ]
    },
    {
      "cell_type": "markdown",
      "source": [
        "## 별 찍기 - 5: https://www.acmicpc.net/problem/2442"
      ],
      "metadata": {
        "id": "eProH-ev4BTQ"
      }
    },
    {
      "cell_type": "code",
      "source": [
        "N = int(input())\n",
        "for i in range(1, 2 * N, 2):\n",
        "  print(' ' * ((2 * N - i) // 2) + ('*' * i))"
      ],
      "metadata": {
        "colab": {
          "base_uri": "https://localhost:8080/"
        },
        "id": "IyWzrxQo4Gct",
        "outputId": "242e2040-4662-4757-e2c7-766072203c6a"
      },
      "execution_count": null,
      "outputs": [
        {
          "output_type": "stream",
          "name": "stdout",
          "text": [
            "5\n",
            "    *\n",
            "   ***\n",
            "  *****\n",
            " *******\n",
            "*********\n"
          ]
        }
      ]
    },
    {
      "cell_type": "markdown",
      "source": [
        "## 별 찍기 - 6: https://www.acmicpc.net/problem/2443"
      ],
      "metadata": {
        "id": "eIsG03468kLH"
      }
    },
    {
      "cell_type": "code",
      "source": [
        "N = int(input())\n",
        "for i in range(2 * N - 1, 0, -2):\n",
        "  print(' ' * ((2 * N - i) // 2) + ('*' * i))"
      ],
      "metadata": {
        "colab": {
          "base_uri": "https://localhost:8080/"
        },
        "id": "WbKTJyLP8kxw",
        "outputId": "9cc2a4f8-c615-4284-dc46-7983c6f035fb"
      },
      "execution_count": null,
      "outputs": [
        {
          "output_type": "stream",
          "name": "stdout",
          "text": [
            "5\n",
            "*********\n",
            " *******\n",
            "  *****\n",
            "   ***\n",
            "    *\n"
          ]
        }
      ]
    },
    {
      "cell_type": "markdown",
      "source": [
        "## 별 찍기 - 7: https://www.acmicpc.net/problem/2444"
      ],
      "metadata": {
        "id": "URh7BsXd9HE-"
      }
    },
    {
      "cell_type": "code",
      "source": [
        "N = int(input())\n",
        "\n",
        "for i in range(2 * N - 1):\n",
        "    tmp = abs(i - N + 1)\n",
        "    print(' ' * tmp + '*' * (2 *(N - tmp) - 1))"
      ],
      "metadata": {
        "colab": {
          "base_uri": "https://localhost:8080/"
        },
        "id": "CT5RZawQ9nPf",
        "outputId": "f4eeda7e-4f2f-4602-e92b-5ec3520482e4"
      },
      "execution_count": null,
      "outputs": [
        {
          "output_type": "stream",
          "name": "stdout",
          "text": [
            "5\n",
            "    *\n",
            "   ***\n",
            "  *****\n",
            " *******\n",
            "*********\n",
            " *******\n",
            "  *****\n",
            "   ***\n",
            "    *\n"
          ]
        }
      ]
    },
    {
      "cell_type": "markdown",
      "source": [
        "## 별 찍기 - 8: https://www.acmicpc.net/problem/2445"
      ],
      "metadata": {
        "id": "KGcejXjxBKOa"
      }
    },
    {
      "cell_type": "code",
      "source": [
        "N = int(input())\n",
        "\n",
        "for i in range(2 * N - 1):\n",
        "    tmp = abs(i - N + 1)\n",
        "    print('*' * (N - tmp) + ' ' * (tmp * 2) + '*' * (N - tmp))"
      ],
      "metadata": {
        "colab": {
          "base_uri": "https://localhost:8080/"
        },
        "id": "-AsB1TX__3Rr",
        "outputId": "23852989-e5ca-4b65-e039-66a2508ab6db"
      },
      "execution_count": null,
      "outputs": [
        {
          "output_type": "stream",
          "name": "stdout",
          "text": [
            "5\n",
            "*        *\n",
            "**      **\n",
            "***    ***\n",
            "****  ****\n",
            "**********\n",
            "****  ****\n",
            "***    ***\n",
            "**      **\n",
            "*        *\n"
          ]
        }
      ]
    },
    {
      "cell_type": "markdown",
      "source": [
        "## 별 찍기 - 9: https://www.acmicpc.net/problem/2446"
      ],
      "metadata": {
        "id": "oybpL6ZmBQjl"
      }
    },
    {
      "cell_type": "code",
      "source": [
        "N = int(input())\n",
        "\n",
        "for i in range(2 * N - 1):\n",
        "    tmp = abs(i - N + 1)\n",
        "    print(' ' * ((N - tmp) - 1) + '*' * ((2 * tmp) + 1))"
      ],
      "metadata": {
        "colab": {
          "base_uri": "https://localhost:8080/"
        },
        "id": "_jo64uKCAdM5",
        "outputId": "d16d6930-12c4-4e40-a5c7-9abdbe51da39"
      },
      "execution_count": null,
      "outputs": [
        {
          "output_type": "stream",
          "name": "stdout",
          "text": [
            "5\n",
            "*********\n",
            " *******\n",
            "  *****\n",
            "   ***\n",
            "    *\n",
            "   ***\n",
            "  *****\n",
            " *******\n",
            "*********\n"
          ]
        }
      ]
    },
    {
      "cell_type": "markdown",
      "source": [
        "## 지능형 기차: https://www.acmicpc.net/problem/2455"
      ],
      "metadata": {
        "id": "2lE35lmwFvnO"
      }
    },
    {
      "cell_type": "code",
      "source": [
        "max_count = 0\n",
        "count = 0\n",
        "\n",
        "for _ in range(4):\n",
        "  x, y = map(int, input().split())\n",
        "  count += y - x\n",
        "  max_count = max(count, max_count)\n",
        "\n",
        "print(max_count)"
      ],
      "metadata": {
        "colab": {
          "base_uri": "https://localhost:8080/"
        },
        "id": "QZqqTwVGBV30",
        "outputId": "de13a415-9df5-43bf-d2c0-29cd21e00012"
      },
      "execution_count": null,
      "outputs": [
        {
          "output_type": "stream",
          "name": "stdout",
          "text": [
            "0 32\n",
            "3 13\n",
            "28 25\n",
            "39 0\n",
            "42\n"
          ]
        }
      ]
    },
    {
      "cell_type": "markdown",
      "source": [
        "## 지능형 기차 2: https://www.acmicpc.net/problem/2460"
      ],
      "metadata": {
        "id": "9NCjF-ZtI33u"
      }
    },
    {
      "cell_type": "code",
      "source": [
        "max_count = 0\n",
        "count = 0\n",
        "\n",
        "for _ in range(10):\n",
        "  x, y = map(int, input().split())\n",
        "  count += y - x\n",
        "  max_count = max(count, max_count)\n",
        "\n",
        "print(max_count)"
      ],
      "metadata": {
        "id": "Vc5r7eDxHYz6"
      },
      "execution_count": null,
      "outputs": []
    },
    {
      "cell_type": "markdown",
      "source": [
        "## 주사위 게임: https://www.acmicpc.net/problem/2476"
      ],
      "metadata": {
        "id": "QqDhi4iAR-VC"
      }
    },
    {
      "cell_type": "markdown",
      "source": [
        "- 2480번 문제와 같은 원리"
      ],
      "metadata": {
        "id": "lFcjdZ5sXMPH"
      }
    },
    {
      "cell_type": "code",
      "source": [
        "N = int(input())\n",
        "price = []\n",
        "\n",
        "for _ in range(N):\n",
        "  dice = list(map(int, input().split()))\n",
        "  nums = set(dice)\n",
        "\n",
        "  if len(nums) == 3:\n",
        "    price.append(max(nums) * 100)\n",
        "  elif len(nums) == 2:\n",
        "    price.append((sum(dice) - sum(nums)) * 100 + 1000)\n",
        "  else:\n",
        "    price.append(dice[0] * 1000 + 10000)\n",
        "\n",
        "print(max(price))"
      ],
      "metadata": {
        "colab": {
          "base_uri": "https://localhost:8080/"
        },
        "id": "-YOoPmWWSAdx",
        "outputId": "5b47a75a-7024-4b1c-da21-8630a9a17c4f"
      },
      "execution_count": null,
      "outputs": [
        {
          "output_type": "stream",
          "name": "stdout",
          "text": [
            "3\n",
            "3 3 6\n",
            "2 2 2\n",
            "6 2 5\n",
            "12000\n"
          ]
        }
      ]
    },
    {
      "cell_type": "markdown",
      "source": [
        "## 윷놀이: https://www.acmicpc.net/problem/2490"
      ],
      "metadata": {
        "id": "OWUgm8r8Y_YF"
      }
    },
    {
      "cell_type": "code",
      "source": [
        "array = ['E', 'A', 'B', 'C', 'D']\n",
        "\n",
        "for i in range(3):\n",
        "  data = list(map(int, input().split()))\n",
        "  print(array[data.count(0)])"
      ],
      "metadata": {
        "colab": {
          "base_uri": "https://localhost:8080/"
        },
        "id": "rrk0JkWeUZ5Y",
        "outputId": "4f1abde6-7dcd-4279-e054-df5d82d206f3"
      },
      "execution_count": null,
      "outputs": [
        {
          "output_type": "stream",
          "name": "stdout",
          "text": [
            "0 1 0 1\n",
            "B\n",
            "1 1 1 0\n",
            "A\n",
            "0 0 1 1\n",
            "B\n"
          ]
        }
      ]
    },
    {
      "cell_type": "markdown",
      "source": [
        "## 약수 구하기: https://www.acmicpc.net/problem/2501"
      ],
      "metadata": {
        "id": "H2bmK-f-arf9"
      }
    },
    {
      "cell_type": "code",
      "source": [
        "x, y = map(int, input().split())\n",
        "data = []\n",
        "\n",
        "for i in range(1, x + 1):\n",
        "  if x % i == 0:\n",
        "    data.append(i)\n",
        "\n",
        "print(0 if len(data) < y else data[y - 1])"
      ],
      "metadata": {
        "colab": {
          "base_uri": "https://localhost:8080/"
        },
        "id": "F7Up2c8RZzGo",
        "outputId": "6cedf923-98aa-42df-9741-7b8899515998"
      },
      "execution_count": null,
      "outputs": [
        {
          "output_type": "stream",
          "name": "stdout",
          "text": [
            "25 4\n",
            "0\n"
          ]
        }
      ]
    },
    {
      "cell_type": "markdown",
      "source": [
        "## 별 찍기 - 12: https://www.acmicpc.net/problem/2522"
      ],
      "metadata": {
        "id": "hZY-YKAniuyW"
      }
    },
    {
      "cell_type": "code",
      "source": [
        "N = int(input())\n",
        "\n",
        "for i in range(2 * N - 1):\n",
        "    tmp = abs(i - N + 1)\n",
        "    print(' ' * tmp + '*' * (N - tmp))"
      ],
      "metadata": {
        "colab": {
          "base_uri": "https://localhost:8080/"
        },
        "id": "iqsFicZQbVEC",
        "outputId": "752fa4bd-dca0-4afb-f165-713eff53270c"
      },
      "execution_count": null,
      "outputs": [
        {
          "output_type": "stream",
          "name": "stdout",
          "text": [
            "3\n",
            "*\n",
            "**\n",
            "***\n",
            "**\n",
            "*\n"
          ]
        }
      ]
    },
    {
      "cell_type": "markdown",
      "source": [
        "## 별 찍기 - 13: https://www.acmicpc.net/problem/2523"
      ],
      "metadata": {
        "id": "RvEGNJ5DjE2F"
      }
    },
    {
      "cell_type": "code",
      "source": [
        "N = int(input())\n",
        "\n",
        "for i in range(2 * N - 1):\n",
        "    tmp = abs(i - N + 1)\n",
        "    print('*' * (N - tmp))"
      ],
      "metadata": {
        "colab": {
          "base_uri": "https://localhost:8080/"
        },
        "id": "tNVSyYJ4iyLH",
        "outputId": "3f267a9f-5d32-490a-d446-4bac0172f73b"
      },
      "execution_count": null,
      "outputs": [
        {
          "output_type": "stream",
          "name": "stdout",
          "text": [
            "3\n",
            "*\n",
            "**\n",
            "***\n",
            "**\n",
            "*\n"
          ]
        }
      ]
    },
    {
      "cell_type": "markdown",
      "source": [
        "## 오븐 시계: https://www.acmicpc.net/problem/2525"
      ],
      "metadata": {
        "id": "XU_y2xOBpWWK"
      }
    },
    {
      "cell_type": "code",
      "source": [
        "h, m = map(int, input().split())\n",
        "time = int(input())\n",
        "\n",
        "minutes = (h * 60) + m + time\n",
        "\n",
        "h = minutes // 60\n",
        "m = minutes % 60\n",
        "\n",
        "print(h % 24, m)"
      ],
      "metadata": {
        "colab": {
          "base_uri": "https://localhost:8080/"
        },
        "id": "e9kXWI-TjIL8",
        "outputId": "3eff9130-78b2-4f83-d711-a2a5c9996e2b"
      },
      "execution_count": null,
      "outputs": [
        {
          "output_type": "stream",
          "name": "stdout",
          "text": [
            "17 40\n",
            "80\n",
            "19 0\n"
          ]
        }
      ]
    },
    {
      "cell_type": "markdown",
      "source": [
        "## 사탕 선생 고창영: https://www.acmicpc.net/problem/2547"
      ],
      "metadata": {
        "id": "rSuh0JclZuJP"
      }
    },
    {
      "cell_type": "code",
      "source": [
        "for _ in range(int(input())):\n",
        "  temp = input()\n",
        "  N = int(input())\n",
        "  candy = 0\n",
        "  for _ in range(N):\n",
        "    candy += int(input())\n",
        "  if candy % N == 0:\n",
        "    print('YES')\n",
        "  else:\n",
        "    print('NO')"
      ],
      "metadata": {
        "colab": {
          "base_uri": "https://localhost:8080/"
        },
        "id": "f71eESJHqNeC",
        "outputId": "3d06c551-e681-40de-a4d9-f82cea4fc98d"
      },
      "execution_count": null,
      "outputs": [
        {
          "output_type": "stream",
          "name": "stdout",
          "text": [
            "2\n",
            " \n",
            "5\n",
            "5\n",
            "2\n",
            "7\n",
            "3\n",
            "8\n",
            "YES\n",
            "\n",
            "6\n",
            "7\n",
            "1\n",
            "2\n",
            "7\n",
            "3\n",
            "4\n",
            "YES\n"
          ]
        }
      ]
    },
    {
      "cell_type": "markdown",
      "source": [
        "## 최댓값: https://www.acmicpc.net/problem/2566"
      ],
      "metadata": {
        "id": "moCxOUJ5f7LW"
      }
    },
    {
      "cell_type": "code",
      "source": [
        "array = []\n",
        "\n",
        "for i in range(9):\n",
        "  array += map(int, input().split())"
      ],
      "metadata": {
        "colab": {
          "base_uri": "https://localhost:8080/"
        },
        "id": "4i6ZuAZHajRs",
        "outputId": "6b19cf23-f1ab-4720-e8ab-ddc076e8979e"
      },
      "execution_count": null,
      "outputs": [
        {
          "name": "stdout",
          "output_type": "stream",
          "text": [
            "3 23 85 34 17 74 25 52 65\n",
            "10 7 39 42 88 52 14 72 63\n",
            "87 42 18 78 53 45 18 84 53\n",
            "34 28 64 85 12 16 75 36 55\n",
            "21 77 45 35 28 75 90 76 1\n",
            "25 87 65 15 28 11 37 28 74\n",
            "65 27 75 41 7 89 78 64 39\n",
            "47 47 70 45 23 65 3 41 44\n",
            "87 13 82 38 31 12 29 29 80\n"
          ]
        }
      ]
    },
    {
      "cell_type": "code",
      "source": [
        "print(array)"
      ],
      "metadata": {
        "colab": {
          "base_uri": "https://localhost:8080/"
        },
        "id": "2XgGRYJ9gjWn",
        "outputId": "409a756b-6ca1-4f34-ffc0-d51cec0378aa"
      },
      "execution_count": null,
      "outputs": [
        {
          "output_type": "stream",
          "name": "stdout",
          "text": [
            "[3, 23, 85, 34, 17, 74, 25, 52, 65, 10, 7, 39, 42, 88, 52, 14, 72, 63, 87, 42, 18, 78, 53, 45, 18, 84, 53, 34, 28, 64, 85, 12, 16, 75, 36, 55, 21, 77, 45, 35, 28, 75, 90, 76, 1, 25, 87, 65, 15, 28, 11, 37, 28, 74, 65, 27, 75, 41, 7, 89, 78, 64, 39, 47, 47, 70, 45, 23, 65, 3, 41, 44, 87, 13, 82, 38, 31, 12, 29, 29, 80]\n"
          ]
        }
      ]
    },
    {
      "cell_type": "code",
      "source": [
        "max_value = max(array)\n",
        "row, col = divmod(array.index(max_value), 9)\n",
        "print(max_value)\n",
        "print(row + 1, col + 1)"
      ],
      "metadata": {
        "colab": {
          "base_uri": "https://localhost:8080/"
        },
        "id": "BU4LjDq9gtVg",
        "outputId": "fc85f773-3ee7-4c0c-b4eb-e0b9593b1bd0"
      },
      "execution_count": null,
      "outputs": [
        {
          "output_type": "stream",
          "name": "stdout",
          "text": [
            "90\n",
            "5 7\n"
          ]
        }
      ]
    },
    {
      "cell_type": "markdown",
      "source": [
        "## 홀수: https://www.acmicpc.net/problem/2576"
      ],
      "metadata": {
        "id": "4aKBv3jGlqrX"
      }
    },
    {
      "cell_type": "code",
      "source": [
        "odd = []\n",
        "\n",
        "for _ in range(7):\n",
        "  N = int(input())\n",
        "  if N % 2 != 0:\n",
        "    odd.append(N)\n",
        "\n",
        "if odd:\n",
        "  print(sum(odd))\n",
        "  print(min(odd))\n",
        "else:\n",
        "  print(-1)"
      ],
      "metadata": {
        "colab": {
          "base_uri": "https://localhost:8080/"
        },
        "id": "ct9HJ7iqh6zP",
        "outputId": "231d7dac-8d62-4ea2-ffab-2d3dca84a12c"
      },
      "execution_count": null,
      "outputs": [
        {
          "output_type": "stream",
          "name": "stdout",
          "text": [
            "2\n",
            "4\n",
            "20\n",
            "32\n",
            "6\n",
            "10\n",
            "8\n",
            "-1\n"
          ]
        }
      ]
    },
    {
      "cell_type": "markdown",
      "source": [
        "## 곱셈: https://www.acmicpc.net/problem/2588"
      ],
      "metadata": {
        "id": "7CaOjQ-T6B08"
      }
    },
    {
      "cell_type": "code",
      "source": [
        "n = int(input())\n",
        "m = input()\n",
        "sum_value = 0\n",
        "\n",
        "for i in range(len(m) - 1, -1, -1):\n",
        "  value = int(m[i]) * n\n",
        "  print(value)\n",
        "  sum_value += value * (10**((len(m) - 1) - i))\n",
        "\n",
        "print(sum_value)"
      ],
      "metadata": {
        "colab": {
          "base_uri": "https://localhost:8080/"
        },
        "id": "TDB2c4Ih5evq",
        "outputId": "56ff2ea9-c8a8-4f46-aeb6-cc5dd2530eb9"
      },
      "execution_count": null,
      "outputs": [
        {
          "output_type": "stream",
          "name": "stdout",
          "text": [
            "472\n",
            "385\n",
            "2360\n",
            "3776\n",
            "1416\n",
            "181720\n"
          ]
        }
      ]
    },
    {
      "cell_type": "markdown",
      "source": [
        "## 미국 스타일: https://www.acmicpc.net/problem/2712"
      ],
      "metadata": {
        "id": "GiMiF3p98cuh"
      }
    },
    {
      "cell_type": "code",
      "source": [
        "for _ in range(int(input())):\n",
        "  number, unit = input().split()\n",
        "  if unit == 'kg':\n",
        "    print(f'{float(number) * 2.2046:.4f}', 'lb')\n",
        "  elif unit == 'lb':\n",
        "    print(f'{float(number) * 0.4536:.4f}', 'kg')\n",
        "  elif unit == 'l':\n",
        "    print(f'{float(number) * 0.2642:.4f}', 'g')\n",
        "  elif unit == 'g':\n",
        "    print(f'{float(number) * 3.7854:.4f}', 'l')"
      ],
      "metadata": {
        "colab": {
          "base_uri": "https://localhost:8080/"
        },
        "id": "D56dUscG7GvS",
        "outputId": "b2a062cc-99ff-4f8e-875b-c83c66c3fa30"
      },
      "execution_count": null,
      "outputs": [
        {
          "output_type": "stream",
          "name": "stdout",
          "text": [
            "5\n",
            "1 kg\n",
            "2.2046 lb\n",
            "2 l\n",
            "0.5284 g\n",
            "7 lb\n",
            "3.1752 kg\n",
            "3.5 g\n",
            "13.2489 l\n",
            "0 l\n",
            "0.0000 g\n"
          ]
        }
      ]
    },
    {
      "cell_type": "code",
      "source": [
        "def unit_format(number, nums):\n",
        "  return f'{float(number) * nums:.4f}'\n",
        "\n",
        "def unit_conv(number, unit):\n",
        "\n",
        "  conversion = {'kg': unit_format(number, 2.2046) + ' lb',\n",
        "              'lb': unit_format(number, 0.4536) + ' kg',\n",
        "              'l': unit_format(number, 0.2642) + ' g',\n",
        "              'g': unit_format(number, 3.7854) + ' l'}\n",
        "\n",
        "  return conversion[unit]\n",
        "\n",
        "for _ in range(int(input())):\n",
        "  number, unit = input().split()\n",
        "  print(unit_conv(number, unit))"
      ],
      "metadata": {
        "colab": {
          "base_uri": "https://localhost:8080/"
        },
        "id": "NtnLWkhO9_32",
        "outputId": "96eece7f-2275-4fb3-8784-571f04dc304e"
      },
      "execution_count": null,
      "outputs": [
        {
          "output_type": "stream",
          "name": "stdout",
          "text": [
            "5\n",
            "1 kg\n",
            "2.2046 lb\n",
            "2 l\n",
            "0.5284 g\n",
            "7 lb\n",
            "3.1752 kg\n",
            "3.5 g\n",
            "13.2489 l\n",
            "0 l\n",
            "0.0000 g\n"
          ]
        }
      ]
    },
    {
      "cell_type": "markdown",
      "source": [
        "## 세탁소 사장 동혁: https://www.acmicpc.net/problem/2720"
      ],
      "metadata": {
        "id": "pD45yJY1FlV5"
      }
    },
    {
      "cell_type": "code",
      "source": [
        "change = [25, 10, 5, 1]\n",
        "\n",
        "for _ in range(int(input())):\n",
        "  C = int(input())\n",
        "  for i in change:\n",
        "    count = C // i\n",
        "    print(count, end = ' ')\n",
        "    C -= count * i\n",
        "  print()"
      ],
      "metadata": {
        "colab": {
          "base_uri": "https://localhost:8080/"
        },
        "id": "hEHs0THfC8mu",
        "outputId": "49dfe926-1fce-465f-f18f-9eedca0a9b5b"
      },
      "execution_count": null,
      "outputs": [
        {
          "output_type": "stream",
          "name": "stdout",
          "text": [
            "3\n",
            "124\n",
            "4 2 0 4 \n",
            "25\n",
            "1 0 0 0 \n",
            "194\n",
            "7 1 1 4 \n"
          ]
        }
      ]
    },
    {
      "cell_type": "code",
      "source": [
        "change = [25, 10, 5, 1]\n",
        "\n",
        "for _ in range(int(input())):\n",
        "  C = int(input())\n",
        "  for i in change:\n",
        "    count, mod = divmod(C, i)\n",
        "    C = mod\n",
        "    print(count, end = ' ')\n",
        "  print()"
      ],
      "metadata": {
        "colab": {
          "base_uri": "https://localhost:8080/"
        },
        "id": "JVAfDYdaADcK",
        "outputId": "fbb7cf1c-e5fd-4a04-a9fb-91e0fa6403d9"
      },
      "execution_count": null,
      "outputs": [
        {
          "output_type": "stream",
          "name": "stdout",
          "text": [
            "3\n",
            "124\n",
            "4 2 0 4 \n",
            "25\n",
            "1 0 0 0 \n",
            "194\n",
            "7 1 1 4 \n"
          ]
        }
      ]
    },
    {
      "cell_type": "markdown",
      "source": [
        "## 삼각수의 합: https://www.acmicpc.net/problem/2721"
      ],
      "metadata": {
        "id": "6Zz81Cu1PfnG"
      }
    },
    {
      "cell_type": "code",
      "source": [
        "def tri_num(num):\n",
        "  sum = 0\n",
        "  for i in range(1, num + 1):\n",
        "    sum += i\n",
        "  return sum\n",
        "\n",
        "for _ in range(int(input())):\n",
        "  N = int(input())\n",
        "  sum_value = 0\n",
        "  for i in range(1, N + 1):\n",
        "    sum_value += i * tri_num(i + 1)\n",
        "  print(sum_value)"
      ],
      "metadata": {
        "colab": {
          "base_uri": "https://localhost:8080/"
        },
        "id": "DFGji06RIer-",
        "outputId": "925d605f-159e-494e-b809-a654f9924f64"
      },
      "execution_count": null,
      "outputs": [
        {
          "output_type": "stream",
          "name": "stdout",
          "text": [
            "4\n",
            "3\n",
            "45\n",
            "4\n",
            "105\n",
            "5\n",
            "210\n",
            "10\n",
            "2145\n"
          ]
        }
      ]
    },
    {
      "cell_type": "markdown",
      "source": [
        "- 다른 사람의 코드"
      ],
      "metadata": {
        "id": "CJvJzakPQ6vu"
      }
    },
    {
      "cell_type": "code",
      "source": [
        "for _ in range(int(input())):\n",
        "    n = int(input())\n",
        "    print(sum(i * sum(range(i + 2)) for i in range(1, n + 1)))"
      ],
      "metadata": {
        "id": "g36heXRXOiEn"
      },
      "execution_count": null,
      "outputs": []
    },
    {
      "cell_type": "markdown",
      "source": [
        "## 자전거 속도: https://www.acmicpc.net/problem/2765"
      ],
      "metadata": {
        "id": "1SAOY5pNRQ69"
      }
    },
    {
      "cell_type": "code",
      "source": [
        "count = 1\n",
        "\n",
        "while True:\n",
        "  dia, rotation, time = map(float, input().split())\n",
        "\n",
        "  if rotation == 0:\n",
        "    break\n",
        "\n",
        "  distance = dia * 3.1415927 * rotation / 63360\n",
        "  MPH = distance / (time / 3600)\n",
        "\n",
        "  print(f'Trip #{count}: {distance:.2f} {MPH:.2f}')\n",
        "  count += 1"
      ],
      "metadata": {
        "colab": {
          "base_uri": "https://localhost:8080/"
        },
        "id": "5v2QNVdRRTLC",
        "outputId": "a244c9cf-4eaf-4bdb-f608-d9489a4f8701"
      },
      "execution_count": null,
      "outputs": [
        {
          "name": "stdout",
          "output_type": "stream",
          "text": [
            "26 1000 5\n",
            "Trip #1: 1.29 928.20\n",
            "27.25 873234 3000\n",
            "Trip #2: 1179.86 1415.84\n",
            "26 0 1000\n"
          ]
        }
      ]
    },
    {
      "cell_type": "markdown",
      "source": [
        "## 삼각 김밥: https://www.acmicpc.net/problem/2783"
      ],
      "metadata": {
        "id": "knkRxVLTbldz"
      }
    },
    {
      "cell_type": "code",
      "source": [
        "X, Y = map(int, input().split())\n",
        "min_value = X / Y\n",
        "\n",
        "for _ in range(int(input())):\n",
        "  A, B = map(int, input().split())\n",
        "  min_value = min(min_value, A / B)\n",
        "\n",
        "print(f'{min_value * 1000:.2f}')"
      ],
      "metadata": {
        "colab": {
          "base_uri": "https://localhost:8080/"
        },
        "id": "o-PgZ2SPT0Nc",
        "outputId": "31102e41-172a-444c-e963-c0fcc26ee605"
      },
      "execution_count": null,
      "outputs": [
        {
          "output_type": "stream",
          "name": "stdout",
          "text": [
            "100 5\n",
            "3\n",
            "99 8\n",
            "65 14\n",
            "78 10\n",
            "4642.86\n"
          ]
        }
      ]
    },
    {
      "cell_type": "markdown",
      "source": [
        "## FBI: https://www.acmicpc.net/problem/2857"
      ],
      "metadata": {
        "id": "dUFaVtjpdqdE"
      }
    },
    {
      "cell_type": "code",
      "source": [
        "import re\n",
        "\n",
        "number = []\n",
        "for i in range(5):\n",
        "  FBI = input()\n",
        "  p = re.compile('FBI')\n",
        "  m = p.search(FBI)\n",
        "  if m:\n",
        "    number.append(i + 1)\n",
        "\n",
        "if number:\n",
        "  for i in number:\n",
        "    print(i, end= ' ')\n",
        "else:\n",
        "  print('HE GOT AWAY!')"
      ],
      "metadata": {
        "id": "1CA2SUK2gRd1"
      },
      "execution_count": null,
      "outputs": []
    },
    {
      "cell_type": "markdown",
      "source": [
        "- 다른 사람의 코드"
      ],
      "metadata": {
        "id": "MoT9srVulm4t"
      }
    },
    {
      "cell_type": "code",
      "source": [
        "nomatch = 0\n",
        "\n",
        "for i in range(5):\n",
        "  if 'FBI' in input():\n",
        "    print(i + 1, end=' ')\n",
        "  else:\n",
        "    nomatch += 1\n",
        "\n",
        "if nomatch == 5:\n",
        "  print('HE GOT AWAY!')"
      ],
      "metadata": {
        "colab": {
          "base_uri": "https://localhost:8080/"
        },
        "id": "Ji6yGzV4coiz",
        "outputId": "6847bba8-493b-40c8-c63e-f371e413fb77"
      },
      "execution_count": null,
      "outputs": [
        {
          "output_type": "stream",
          "name": "stdout",
          "text": [
            "47-FBI\n",
            "1 BOND-007\n",
            "RF-FBI18\n",
            "3 MARICA-13\n",
            "13A-FBILL\n",
            "5 "
          ]
        }
      ]
    },
    {
      "cell_type": "markdown",
      "source": [
        "## 이게 분수? : https://www.acmicpc.net/problem/2863"
      ],
      "metadata": {
        "id": "5yoGic7pppnE"
      }
    },
    {
      "cell_type": "code",
      "source": [
        "a, b = map(int, input().split())\n",
        "c, d = map(int, input().split())\n",
        "\n",
        "array = [a/c + b/d, c/d + a/b, d/b + c/a, b/a + d/c]\n",
        "\n",
        "print(array.index(max(array)))"
      ],
      "metadata": {
        "colab": {
          "base_uri": "https://localhost:8080/"
        },
        "id": "ZvJBinQEpsJs",
        "outputId": "0469568f-8cb0-4e8e-c153-295cedfa3349"
      },
      "execution_count": null,
      "outputs": [
        {
          "output_type": "stream",
          "name": "stdout",
          "text": [
            "41 99\n",
            "100 13\n",
            "1\n"
          ]
        }
      ]
    },
    {
      "cell_type": "markdown",
      "source": [
        "## 중앙 이동 알고리즘: https://www.acmicpc.net/problem/2903"
      ],
      "metadata": {
        "id": "hTmGAbaCswyT"
      }
    },
    {
      "cell_type": "markdown",
      "source": [
        "- $2^2, 3^2, 5^2, 9^2, 17^2, 33^2 ... $ 순서의 수열 규칙\n",
        "  - $ (1 + 2^n)^2 $ 으로 나타낼 수 있다"
      ],
      "metadata": {
        "id": "rHnbb5Zwu94q"
      }
    },
    {
      "cell_type": "code",
      "source": [
        "N = int(input())\n",
        "dots = 2\n",
        "for i in range(N):\n",
        "  dots += 2 ** i\n",
        "\n",
        "print(dots ** 2)"
      ],
      "metadata": {
        "id": "GUn1DkoHu6qL"
      },
      "execution_count": null,
      "outputs": []
    },
    {
      "cell_type": "markdown",
      "source": [
        "- 다른 사람의 코드"
      ],
      "metadata": {
        "id": "tFAB43Hhu8Bn"
      }
    },
    {
      "cell_type": "code",
      "source": [
        "N = int(input())\n",
        "\n",
        "print((1 + 2 ** N) ** 2)"
      ],
      "metadata": {
        "colab": {
          "base_uri": "https://localhost:8080/"
        },
        "id": "XBrN0OQVqHa6",
        "outputId": "e91b4099-8a47-46a1-8f84-b0f350141568"
      },
      "execution_count": null,
      "outputs": [
        {
          "output_type": "stream",
          "name": "stdout",
          "text": [
            "5\n",
            "1089\n"
          ]
        }
      ]
    },
    {
      "cell_type": "markdown",
      "source": [
        "## 저작권: https://www.acmicpc.net/problem/2914"
      ],
      "metadata": {
        "id": "C8YHEQK_wDz8"
      }
    },
    {
      "cell_type": "code",
      "source": [
        "A, I = map(int, input().split())\n",
        "\n",
        "print((I - 1) * A + 1)"
      ],
      "metadata": {
        "colab": {
          "base_uri": "https://localhost:8080/"
        },
        "id": "Nm5tsl4cuTbs",
        "outputId": "d38a193b-518f-44a7-ca0e-bcdd8f94485a"
      },
      "execution_count": null,
      "outputs": [
        {
          "output_type": "stream",
          "name": "stdout",
          "text": [
            "10 10\n",
            "91\n"
          ]
        }
      ]
    },
    {
      "cell_type": "markdown",
      "source": [
        "## 도미노: https://www.acmicpc.net/problem/2921"
      ],
      "metadata": {
        "id": "Q5sYAyhxxEIa"
      }
    },
    {
      "cell_type": "code",
      "source": [
        "N = int(input())\n",
        "array = []\n",
        "\n",
        "for i in range(N + 1):\n",
        "  for j in range(i, N + 1):\n",
        "    array.append((i, j))\n",
        "\n",
        "print(len(array) * N)"
      ],
      "metadata": {
        "colab": {
          "base_uri": "https://localhost:8080/"
        },
        "id": "JE3vc0sewUTg",
        "outputId": "e0e67975-da35-4755-c2a1-e3d466823219"
      },
      "execution_count": null,
      "outputs": [
        {
          "output_type": "stream",
          "name": "stdout",
          "text": [
            "15\n",
            "2040\n"
          ]
        }
      ]
    },
    {
      "cell_type": "markdown",
      "source": [
        "## 소음: https://www.acmicpc.net/problem/2935"
      ],
      "metadata": {
        "id": "t36pGuAC1vDw"
      }
    },
    {
      "cell_type": "code",
      "source": [
        "x = input()\n",
        "op = input()\n",
        "y = input()\n",
        "\n",
        "print(eval(x + op + y))"
      ],
      "metadata": {
        "colab": {
          "base_uri": "https://localhost:8080/"
        },
        "id": "GU230xzCzwmn",
        "outputId": "4cc535fb-4f3b-4720-f3cb-2fb826c99890"
      },
      "execution_count": null,
      "outputs": [
        {
          "output_type": "stream",
          "name": "stdout",
          "text": [
            "100000\n",
            "*\n",
            "100000\n",
            "10000000000\n"
          ]
        }
      ]
    },
    {
      "cell_type": "markdown",
      "source": [
        "- 다른 사람의 코드"
      ],
      "metadata": {
        "id": "QxF5UMD_2wzl"
      }
    },
    {
      "cell_type": "code",
      "source": [
        "i=input\n",
        "print(eval(i()+i()+i()))"
      ],
      "metadata": {
        "colab": {
          "base_uri": "https://localhost:8080/"
        },
        "id": "J4UYtfLh2JTF",
        "outputId": "b79b5588-b2db-406d-f65a-f89aefd9006a"
      },
      "execution_count": null,
      "outputs": [
        {
          "output_type": "stream",
          "name": "stdout",
          "text": [
            "10000000\n",
            "*\n",
            "10000000\n",
            "100000000000000\n"
          ]
        }
      ]
    },
    {
      "cell_type": "markdown",
      "source": [
        "## 사나운 개: https://www.acmicpc.net/problem/2991"
      ],
      "metadata": {
        "id": "QcbY4hfr-8W5"
      }
    },
    {
      "cell_type": "code",
      "source": [
        "a, b, c, d = map(int, input().split())\n",
        "N = list(map(int, input().split()))\n",
        "\n",
        "for i in N:\n",
        "  count = 0\n",
        "  if 0 < i % (a + b) <= a:\n",
        "    count += 1\n",
        "  if 0 < i % (c + d) <= c:\n",
        "    count += 1\n",
        "  print(count)"
      ],
      "metadata": {
        "colab": {
          "base_uri": "https://localhost:8080/"
        },
        "id": "_Xno6OdL2118",
        "outputId": "5709421e-43fd-4236-cfbb-c127fe8856b5"
      },
      "execution_count": null,
      "outputs": [
        {
          "output_type": "stream",
          "name": "stdout",
          "text": [
            "2 3 4 5\n",
            "4 9 5\n",
            "1\n",
            "0\n",
            "0\n"
          ]
        }
      ]
    },
    {
      "cell_type": "markdown",
      "source": [
        "## 네 번째 수: https://www.acmicpc.net/problem/2997"
      ],
      "metadata": {
        "id": "jvPzT9XdD2IF"
      }
    },
    {
      "cell_type": "code",
      "source": [
        "a, b, c = sorted(list(map(int, input().split())))\n",
        "\n",
        "diff1, diff2 = b - a, c - b\n",
        "\n",
        "if diff1 == diff2:\n",
        "  print(c + diff1)\n",
        "elif diff1 < diff2:\n",
        "  print(b + diff1)\n",
        "else:\n",
        "  print(b - diff2)"
      ],
      "metadata": {
        "colab": {
          "base_uri": "https://localhost:8080/"
        },
        "id": "7w-kHMKhAC82",
        "outputId": "1303dd1e-80d6-434e-f068-2eea36b8fc08"
      },
      "execution_count": null,
      "outputs": [
        {
          "output_type": "stream",
          "name": "stdout",
          "text": [
            "1 4 10\n",
            "7\n"
          ]
        }
      ]
    },
    {
      "cell_type": "markdown",
      "source": [
        "## 체스판 조각: https://www.acmicpc.net/problem/3004"
      ],
      "metadata": {
        "id": "Ei3YVEQvOL2X"
      }
    },
    {
      "cell_type": "code",
      "source": [
        "N = int(input())\n",
        "piece = 2\n",
        "\n",
        "if N != 1:\n",
        "  for i in range(1, N):\n",
        "    piece += (i + 1) // 2 + 1\n",
        "\n",
        "print(piece)"
      ],
      "metadata": {
        "colab": {
          "base_uri": "https://localhost:8080/"
        },
        "id": "1wiQunNNHaxN",
        "outputId": "163d4c65-dd17-4510-c369-908d31638c67"
      },
      "execution_count": null,
      "outputs": [
        {
          "output_type": "stream",
          "name": "stdout",
          "text": [
            "7\n",
            "20\n"
          ]
        }
      ]
    },
    {
      "cell_type": "markdown",
      "source": [
        "## 네 번째 점: https://www.acmicpc.net/problem/3009"
      ],
      "metadata": {
        "id": "v1dSM75AZ5Vy"
      }
    },
    {
      "cell_type": "code",
      "source": [
        "def solve(xy):\n",
        "  return 2 * sum(set(xy)) - sum(xy)\n",
        "\n",
        "x = []\n",
        "y = []\n",
        "\n",
        "for _ in range(3):\n",
        "  a, b = map(int, input().split())\n",
        "  x.append(a)\n",
        "  y.append(b)\n",
        "\n",
        "print(solve(x), solve(y))"
      ],
      "metadata": {
        "colab": {
          "base_uri": "https://localhost:8080/"
        },
        "id": "RrPR7wLEUmz9",
        "outputId": "06723d0c-0fb0-4769-8563-c2fb7edd7314"
      },
      "execution_count": null,
      "outputs": [
        {
          "output_type": "stream",
          "name": "stdout",
          "text": [
            "5 5\n",
            "5 7\n",
            "7 5\n",
            "7 7\n"
          ]
        }
      ]
    },
    {
      "cell_type": "markdown",
      "source": [
        "- 다른 사람의 코드 (XOR 이용)\n",
        "  - https://www.acmicpc.net/source/64129585"
      ],
      "metadata": {
        "id": "BVys7cmocYpA"
      }
    },
    {
      "cell_type": "markdown",
      "source": [
        "처음 상태에서 x와 y는 모두 0으로 초기화되어 있습니다. 그리고 코드에서는 입력을 총 3번 받으며, x와 y에 각각 a와 b와의 XOR 연산을 수행한 결과를 할당합니다.\n",
        "\n",
        "- 첫 번째 입력: x^=5이 실행되면 x는 5가 됩니다. y^=5가 실행되면 y는 5가 됩니다.\n",
        "- 두 번째 입력: x^=5이 실행되면 x는 5^5가 되어 0이 됩니다. y^=7가 실행되면 y는 5^7가 되어 2가 됩니다.\n",
        "- 세 번째 입력: x^=7이 실행되면 x는 0^7이 되어 7이 됩니다. y^=5가 실행되면 y는 2^5가 되어 7이 됩니다.\n",
        "\n",
        "따라서 최종 결과로 x는 7이 되고 y는 7이 됩니다."
      ],
      "metadata": {
        "id": "-eyVgHA6dU7D"
      }
    },
    {
      "cell_type": "code",
      "source": [
        "x=y=0\n",
        "for _ in range(3):\n",
        "    a, b=map(int, input().split())\n",
        "    x^=a;y^=b\n",
        "print(x, y)"
      ],
      "metadata": {
        "colab": {
          "base_uri": "https://localhost:8080/"
        },
        "id": "E8uYRscObTE9",
        "outputId": "2f038bf8-0aa5-40e4-b516-8c5ee55b40c6"
      },
      "execution_count": null,
      "outputs": [
        {
          "output_type": "stream",
          "name": "stdout",
          "text": [
            "5 5\n",
            "5 7\n",
            "7 5\n",
            "7 7\n"
          ]
        }
      ]
    },
    {
      "cell_type": "markdown",
      "source": [
        "## 경고 : https://www.acmicpc.net/problem/3029"
      ],
      "metadata": {
        "id": "bkICaiXsuqDB"
      }
    },
    {
      "cell_type": "code",
      "source": [
        "h1, m1, s1 = map(int, input().split(':'))\n",
        "h2, m2, s2 = map(int, input().split(':'))\n",
        "t1 = h1 * 3600 + m1 * 60 + s1\n",
        "t2 = h2 * 3600 + m2 * 60 + s2\n",
        "\n",
        "t = t2 - t1 if t2 > t1 else t2 - t1 + 24 * 60 * 60\n",
        "\n",
        "h, m = t // 3600, t // 60\n",
        "\n",
        "print(f'{h if h == 24 else h % 24:02d}:{m % 60:02d}:{t % 60:02d}')"
      ],
      "metadata": {
        "colab": {
          "base_uri": "https://localhost:8080/"
        },
        "id": "tLCMlFCYcfVR",
        "outputId": "a9fb4f77-dfba-4f94-9bce-92e5c41d74cf"
      },
      "execution_count": null,
      "outputs": [
        {
          "output_type": "stream",
          "name": "stdout",
          "text": [
            "00:00:00\n",
            "00:00:00\n",
            "24:00:00\n"
          ]
        }
      ]
    },
    {
      "cell_type": "markdown",
      "source": [
        "## 앵그리 창영: https://www.acmicpc.net/problem/3034"
      ],
      "metadata": {
        "id": "u9Ur1wBY0Glf"
      }
    },
    {
      "cell_type": "code",
      "source": [
        "n, x, y = map(int, input().split())\n",
        "\n",
        "for _ in range(n):\n",
        "  length = int(input())\n",
        "  print('DA' if length ** 2 <= x ** 2 + y ** 2 else 'NE')"
      ],
      "metadata": {
        "colab": {
          "base_uri": "https://localhost:8080/"
        },
        "id": "vGg99Z7Vv-SQ",
        "outputId": "0202d979-c93a-417a-8712-b1c182a8afc3"
      },
      "execution_count": null,
      "outputs": [
        {
          "output_type": "stream",
          "name": "stdout",
          "text": [
            "5 3 4\n",
            "3\n",
            "DA\n",
            "4\n",
            "DA\n",
            "5\n",
            "DA\n",
            "6\n",
            "NE\n",
            "7\n",
            "NE\n"
          ]
        }
      ]
    },
    {
      "cell_type": "code",
      "source": [
        "n, x, y = map(int, input().split())\n",
        "\n",
        "for _ in range(n):\n",
        "  length = int(input())\n",
        "  if length ** 2 <= x ** 2 + y ** 2:\n",
        "    print('DA')\n",
        "  else:\n",
        "    print('NE')"
      ],
      "metadata": {
        "id": "51NcMOpp0nTm"
      },
      "execution_count": null,
      "outputs": []
    },
    {
      "cell_type": "markdown",
      "source": [
        "## ABC: https://www.acmicpc.net/problem/3047"
      ],
      "metadata": {
        "id": "NwtiOnxO1boB"
      }
    },
    {
      "cell_type": "code",
      "source": [
        "a, b, c = sorted(list(map(int, input().split())))\n",
        "number = {'A': a, 'B': b, 'C': c}\n",
        "\n",
        "for x in input():\n",
        "  print(number[x], end=' ')"
      ],
      "metadata": {
        "colab": {
          "base_uri": "https://localhost:8080/"
        },
        "id": "cEgIYDaZ1doO",
        "outputId": "453d1595-c6f9-4fdc-dff8-f1159a5ddf9d"
      },
      "execution_count": null,
      "outputs": [
        {
          "output_type": "stream",
          "name": "stdout",
          "text": [
            "6 4 2\n",
            "CAB\n",
            "6 2 4 "
          ]
        }
      ]
    },
    {
      "cell_type": "code",
      "source": [
        "number = sorted(list(map(int, input().split())))\n",
        "\n",
        "for x in input():\n",
        "  print(number[ord(x) - 65], end=' ')"
      ],
      "metadata": {
        "colab": {
          "base_uri": "https://localhost:8080/"
        },
        "id": "5y_Z5nB236Ub",
        "outputId": "9769b627-44f2-472c-c24b-ca2a79430bbd"
      },
      "execution_count": null,
      "outputs": [
        {
          "output_type": "stream",
          "name": "stdout",
          "text": [
            "6 4 2\n",
            "CAB\n",
            "6 2 4 "
          ]
        }
      ]
    },
    {
      "cell_type": "markdown",
      "source": [
        "## 택시 기하학: https://www.acmicpc.net/problem/3053"
      ],
      "metadata": {
        "id": "7Q3dxQHS6myG"
      }
    },
    {
      "cell_type": "code",
      "source": [
        "import math\n",
        "\n",
        "R = int(input())\n",
        "\n",
        "print(f'{math.pi * R ** 2:.6f}')\n",
        "print(f'{2 * R ** 2:.6f}')"
      ],
      "metadata": {
        "colab": {
          "base_uri": "https://localhost:8080/"
        },
        "id": "AeBEkb1r4ajf",
        "outputId": "e35d73a4-fb8f-479d-a811-5aba1773b5fd"
      },
      "execution_count": null,
      "outputs": [
        {
          "output_type": "stream",
          "name": "stdout",
          "text": [
            "1\n",
            "3.141593\n",
            "2.000000\n"
          ]
        }
      ]
    },
    {
      "cell_type": "markdown",
      "source": [
        "## 짝수를 찾아라: https://www.acmicpc.net/problem/3058"
      ],
      "metadata": {
        "id": "pTh24rYd79Jk"
      }
    },
    {
      "cell_type": "code",
      "source": [
        "for _ in range(int(input())):\n",
        "  numbers = list(map(int, input().split()))\n",
        "  min_value = max(numbers)\n",
        "  sum_value = 0\n",
        "  for x in numbers:\n",
        "    if x % 2 == 0:\n",
        "      min_value = min(x, min_value)\n",
        "      sum_value += x\n",
        "\n",
        "  print(sum_value, min_value)"
      ],
      "metadata": {
        "colab": {
          "base_uri": "https://localhost:8080/"
        },
        "id": "mI9jkQsv6uZN",
        "outputId": "5849be9d-2830-46d5-f3b7-39b1e701be1a"
      },
      "execution_count": null,
      "outputs": [
        {
          "output_type": "stream",
          "name": "stdout",
          "text": [
            "2\n",
            "1 2 3 4 5 6 7\n",
            "12 2\n",
            "13 78 39 42 54 93 86\n",
            "260 42\n"
          ]
        }
      ]
    },
    {
      "cell_type": "markdown",
      "source": [
        "- 다른 사람의 코드"
      ],
      "metadata": {
        "id": "R-MIaN6J9Xx0"
      }
    },
    {
      "cell_type": "code",
      "source": [
        "for t in range(int(input())):\n",
        "    a = list(filter(lambda x : x % 2 == 0, map(int,input().split())))\n",
        "    print(sum(a), min(a))"
      ],
      "metadata": {
        "colab": {
          "base_uri": "https://localhost:8080/"
        },
        "id": "S1stABK48-yY",
        "outputId": "020bdf85-6e53-4da2-ecf7-92ada0401bac"
      },
      "execution_count": null,
      "outputs": [
        {
          "output_type": "stream",
          "name": "stdout",
          "text": [
            "2\n",
            "1 2 3 4 5 6 7\n",
            "12 2\n",
            "13 78 39 42 54 93 86\n",
            "260 42\n"
          ]
        }
      ]
    },
    {
      "cell_type": "markdown",
      "source": [
        "## 등장하지 않는 문자의 합: https://www.acmicpc.net/problem/3059"
      ],
      "metadata": {
        "id": "p9yf7F8R-KoM"
      }
    },
    {
      "cell_type": "code",
      "source": [
        "for _ in range(int(input())):\n",
        "  sum = 0\n",
        "  for i in range(ord('A'), ord('Z') + 1):\n",
        "    sum += i\n",
        "  for x in set(input()):\n",
        "    sum -= ord(x)\n",
        "  print(sum)"
      ],
      "metadata": {
        "colab": {
          "base_uri": "https://localhost:8080/"
        },
        "id": "HN4L84EW9j_G",
        "outputId": "21259345-9445-4cbe-ee6f-2dac20ce1820"
      },
      "execution_count": null,
      "outputs": [
        {
          "output_type": "stream",
          "name": "stdout",
          "text": [
            "2\n",
            "AA\n",
            "1950\n",
            "A\n",
            "1950\n"
          ]
        }
      ]
    },
    {
      "cell_type": "code",
      "source": [
        "for _ in range(int(input())):\n",
        "  sum = 2015\n",
        "  for x in set(input()):\n",
        "    sum -= ord(x)\n",
        "  print(sum)"
      ],
      "metadata": {
        "colab": {
          "base_uri": "https://localhost:8080/"
        },
        "id": "BrWoEqbx-mNk",
        "outputId": "ca273f64-afed-4cae-83dd-545501e86643"
      },
      "execution_count": null,
      "outputs": [
        {
          "output_type": "stream",
          "name": "stdout",
          "text": [
            "2\n",
            "AA\n",
            "1950\n",
            "A\n",
            "1950\n"
          ]
        }
      ]
    },
    {
      "cell_type": "markdown",
      "source": [
        "## 이진수: https://www.acmicpc.net/problem/3460"
      ],
      "metadata": {
        "id": "Em2iMe4NBA_t"
      }
    },
    {
      "cell_type": "code",
      "source": [
        "for _ in range(int(input())):\n",
        "  binary = list(bin(int(input())))\n",
        "  binary = list(reversed(binary[2:]))\n",
        "  for i in range(len(binary)):\n",
        "    if binary[i] == '1':\n",
        "      print(i, end = ' ')"
      ],
      "metadata": {
        "colab": {
          "base_uri": "https://localhost:8080/"
        },
        "id": "Ynk7pIupA-Uh",
        "outputId": "bbd90ae1-c9a8-4d23-dcbd-d36be09b4e7f"
      },
      "execution_count": null,
      "outputs": [
        {
          "output_type": "stream",
          "name": "stdout",
          "text": [
            "0 2 3 "
          ]
        }
      ]
    },
    {
      "cell_type": "code",
      "source": [
        "for _ in range(int(input())):\n",
        "  binary = list(bin(int(input())))\n",
        "  binary = list(reversed(binary[2:]))\n",
        "  for idx, i in enumerate(binary):\n",
        "    if i == '1':\n",
        "      print(idx, end = ' ')"
      ],
      "metadata": {
        "colab": {
          "base_uri": "https://localhost:8080/"
        },
        "id": "3HNESlvdBU8u",
        "outputId": "b2a299ef-c488-4af0-b9d4-f0a663db262e"
      },
      "execution_count": null,
      "outputs": [
        {
          "output_type": "stream",
          "name": "stdout",
          "text": [
            "1\n",
            "13\n",
            "0 2 3 "
          ]
        }
      ]
    },
    {
      "cell_type": "markdown",
      "source": [
        "## Viva la Diferencia: https://www.acmicpc.net/problem/4084"
      ],
      "metadata": {
        "id": "vS2N9bpBEfFL"
      }
    },
    {
      "cell_type": "code",
      "source": [
        "while True:\n",
        "  a, b, c, d = map(int, input().split())\n",
        "  count = 0\n",
        "\n",
        "  if (a, b, c, d) == (0, 0, 0, 0):\n",
        "    break\n",
        "\n",
        "  while True:\n",
        "\n",
        "    if a == b == c == d:\n",
        "      print(count)\n",
        "      break\n",
        "\n",
        "    a, b, c, d = abs(a-b), abs(b-c), abs(c-d), abs(d-a)\n",
        "    count += 1"
      ],
      "metadata": {
        "colab": {
          "base_uri": "https://localhost:8080/"
        },
        "id": "AnA2LXtCDG9m",
        "outputId": "494babcd-fc15-4611-93ed-1da7f02f300f"
      },
      "execution_count": null,
      "outputs": [
        {
          "name": "stdout",
          "output_type": "stream",
          "text": [
            "1 3 5 9\n",
            "6\n",
            "4 3 2 1\n",
            "4\n",
            "1 1 1 1\n",
            "0\n",
            "0 0 0 0\n"
          ]
        }
      ]
    },
    {
      "cell_type": "markdown",
      "source": [
        "## 받아올림: https://www.acmicpc.net/problem/4388"
      ],
      "metadata": {
        "id": "mGu3mZyHFyMR"
      }
    },
    {
      "cell_type": "code",
      "source": [
        "def sol(x, y):\n",
        "    return x % (10 ** (y + 1)) // (10 ** y)\n",
        "\n",
        "while True:\n",
        "  a, b = input().split()\n",
        "  carry = count = 0\n",
        "  min_length = min(len(a), len(b))\n",
        "\n",
        "  if (a, b) == ('0', '0'):\n",
        "    break\n",
        "\n",
        "  for i in range(min_length - 1, -1, -1):\n",
        "    if int(a[i]) + int(b[i]) + carry >= 10:\n",
        "      carry = 1\n",
        "      count += 1\n",
        "    else:\n",
        "      carry = 0\n",
        "\n",
        "  print(count)"
      ],
      "metadata": {
        "colab": {
          "base_uri": "https://localhost:8080/"
        },
        "id": "1sqVKHCRFeGB",
        "outputId": "7aae6fa5-d9db-42ad-8341-a4e5603ae69b"
      },
      "execution_count": null,
      "outputs": [
        {
          "name": "stdout",
          "output_type": "stream",
          "text": [
            "555 555\n",
            "3\n",
            "123 456\n",
            "0\n",
            "123 495\n",
            "1\n",
            "0 0\n"
          ]
        }
      ]
    },
    {
      "cell_type": "markdown",
      "source": [
        "- 자릿수가 다를 때를 고려해야한다"
      ],
      "metadata": {
        "id": "WAILMzMgT8XO"
      }
    },
    {
      "cell_type": "code",
      "source": [
        "a, b = '44567', '555'\n",
        "\n",
        "print(int(a[0]) + int(b[0]))"
      ],
      "metadata": {
        "colab": {
          "base_uri": "https://localhost:8080/"
        },
        "id": "9yh3uu7MHLjU",
        "outputId": "d59c317d-7059-4ce6-fd22-56b4148d1939"
      },
      "execution_count": null,
      "outputs": [
        {
          "output_type": "stream",
          "name": "stdout",
          "text": [
            "9\n"
          ]
        }
      ]
    },
    {
      "cell_type": "markdown",
      "source": [
        "- 다른 사람의 풀이1"
      ],
      "metadata": {
        "id": "MMgDM8PHY6eQ"
      }
    },
    {
      "cell_type": "code",
      "source": [
        "def digit(x, d):\n",
        "    return x % (10 ** (d + 1)) // (10 ** d)\n",
        "\n",
        "while True:\n",
        "    carry = count = 0\n",
        "    a, b = map(int, input().split())\n",
        "\n",
        "    if a == b == 0:\n",
        "        break\n",
        "\n",
        "    for i in range(len(str(max(a, b)))):\n",
        "        value = digit(a, i) + digit(b, i)\n",
        "\n",
        "        if value + carry >= 10:\n",
        "          count += 1\n",
        "          carry = 1\n",
        "        else:\n",
        "          carry = 0\n",
        "\n",
        "    print(count)"
      ],
      "metadata": {
        "colab": {
          "base_uri": "https://localhost:8080/"
        },
        "id": "T7UT75gPLNx9",
        "outputId": "4d7caaaf-e7ea-4086-8387-c6d69c1f2efd"
      },
      "execution_count": null,
      "outputs": [
        {
          "name": "stdout",
          "output_type": "stream",
          "text": [
            "123 594\n",
            "1\n",
            "0 0\n"
          ]
        }
      ]
    },
    {
      "cell_type": "markdown",
      "source": [
        "- 다른 사람의 풀이2"
      ],
      "metadata": {
        "id": "ikJBHuheY8eo"
      }
    },
    {
      "cell_type": "code",
      "source": [
        "while True:\n",
        "    carry = count = 0\n",
        "    a, b = map(int, input().split())\n",
        "\n",
        "    if a == b == 0:\n",
        "        break\n",
        "\n",
        "    while a > 0 or b > 0:\n",
        "      carry = (a % 10 + b % 10 + carry) // 10\n",
        "      a //= 10\n",
        "      b //= 10\n",
        "\n",
        "      if carry > 0:\n",
        "          count += 1\n",
        "\n",
        "    print(count)"
      ],
      "metadata": {
        "colab": {
          "base_uri": "https://localhost:8080/"
        },
        "id": "2s0bZVUVU_Yf",
        "outputId": "bc2326db-181c-4610-a8ee-f57425483aa6"
      },
      "execution_count": null,
      "outputs": [
        {
          "name": "stdout",
          "output_type": "stream",
          "text": [
            "456 1234676\n",
            "3\n",
            "0 0\n"
          ]
        }
      ]
    },
    {
      "cell_type": "markdown",
      "source": [
        "## 중간계 전쟁: https://www.acmicpc.net/problem/4435"
      ],
      "metadata": {
        "id": "eRMXgSTlaA1r"
      }
    },
    {
      "cell_type": "code",
      "source": [
        "def faction_score(faction):\n",
        "  score = 0\n",
        "  x = list(map(int, input().split()))\n",
        "\n",
        "  for i in range(len(x)):\n",
        "    score += faction[i] * x[i]\n",
        "  return score\n",
        "\n",
        "def message(diff):\n",
        "  if diff > 0:\n",
        "     return 'Good triumphs over Evil'\n",
        "  elif diff < 0:\n",
        "    return 'Evil eradicates all trace of Good'\n",
        "  else:\n",
        "    return'No victor on this battle field'\n",
        "\n",
        "gan = [1, 2, 3, 3, 4, 10]\n",
        "sau = [-1, -2, -2, -2, -3, -5, -10]\n",
        "\n",
        "for i in range(int(input())):\n",
        "  diff = faction_score(gan) + faction_score(sau)\n",
        "\n",
        "  print(f'Battle {i + 1}: {message(diff)}')"
      ],
      "metadata": {
        "colab": {
          "base_uri": "https://localhost:8080/"
        },
        "id": "b7bkfHt2XvWJ",
        "outputId": "b43e9482-0c8d-43a6-ed00-7f6362a810b8"
      },
      "execution_count": null,
      "outputs": [
        {
          "output_type": "stream",
          "name": "stdout",
          "text": [
            "3\n",
            "1 1 1 1 1 1\n",
            "1 1 1 1 1 1 1\n",
            "Battle 1: Evil eradicates all trace of Good\n",
            "0 0 0 0 0 10\n",
            "0 1 1 1 1 0 0\n",
            "Battle 2: Good triumphs over Evil\n",
            "1 0 0 0 0 0\n",
            "1 0 0 0 0 0 0\n",
            "Battle 3: No victor on this battle field\n"
          ]
        }
      ]
    },
    {
      "cell_type": "markdown",
      "source": [
        "## 첫 글자를 대문자로: https://www.acmicpc.net/problem/4458"
      ],
      "metadata": {
        "id": "tROt8L6ge7vE"
      }
    },
    {
      "cell_type": "code",
      "source": [
        "for _ in range(int(input())):\n",
        "  string = input()\n",
        "  print(string[0].upper() + string[1:])"
      ],
      "metadata": {
        "colab": {
          "base_uri": "https://localhost:8080/"
        },
        "id": "fWWMQ-4OdHqq",
        "outputId": "9dee9f1b-8388-4646-ec35-5e8e9a9b426c"
      },
      "execution_count": null,
      "outputs": [
        {
          "output_type": "stream",
          "name": "stdout",
          "text": [
            "1\n",
            "powdered Toast Man\n",
            "Powdered Toast Man\n"
          ]
        }
      ]
    },
    {
      "cell_type": "markdown",
      "source": [
        "## 가위 바위 보?: https://www.acmicpc.net/problem/4493"
      ],
      "metadata": {
        "id": "-Fvr-Wx9jU8t"
      }
    },
    {
      "cell_type": "code",
      "source": [
        "win = {\n",
        "    'R': 'S',\n",
        "    'S': 'P',\n",
        "    'P': 'R'\n",
        "}\n",
        "\n",
        "for _ in range(int(input())):\n",
        "  p1 = p2 = 0\n",
        "  for _ in range(int(input())):\n",
        "    a, b = input().split()\n",
        "    if a == b:\n",
        "      pass\n",
        "    elif win[a] == b:\n",
        "      p1 += 1\n",
        "    else:\n",
        "      p2 += 1\n",
        "\n",
        "  if p1 > p2:\n",
        "    print('Player 1')\n",
        "  elif p1 < p2:\n",
        "    print('Player 2')\n",
        "  else:\n",
        "    print('TIE')"
      ],
      "metadata": {
        "id": "tLepO8ytn9L7"
      },
      "execution_count": null,
      "outputs": []
    },
    {
      "cell_type": "code",
      "source": [
        "def rps(a, b):\n",
        "  if a == b:\n",
        "      return 0\n",
        "  elif win[a] == b:\n",
        "      return 1\n",
        "  else:\n",
        "      return -1\n",
        "\n",
        "win = {\n",
        "    'R': 'S',\n",
        "    'S': 'P',\n",
        "    'P': 'R'\n",
        "}\n",
        "\n",
        "for _ in range(int(input())):\n",
        "  player = 0\n",
        "\n",
        "  for _ in range(int(input())):\n",
        "    a, b = input().split()\n",
        "    player += rps(a, b)\n",
        "\n",
        "  if player > 0:\n",
        "    print('Player 1')\n",
        "  elif player < 0:\n",
        "    print('Player 2')\n",
        "  else:\n",
        "    print('TIE')"
      ],
      "metadata": {
        "colab": {
          "base_uri": "https://localhost:8080/"
        },
        "id": "MQcWukzEjXcj",
        "outputId": "37549829-8f83-4e52-b503-882344e3d742"
      },
      "execution_count": null,
      "outputs": [
        {
          "output_type": "stream",
          "name": "stdout",
          "text": [
            "3\n",
            "2\n",
            "R P\n",
            "S R\n",
            "Player 2\n",
            "3\n",
            "P P\n",
            "R S\n",
            "S R\n",
            "Player 2\n",
            "1\n",
            "P R\n",
            "Player 1\n"
          ]
        }
      ]
    },
    {
      "cell_type": "markdown",
      "source": [
        "## 배수 찾기: https://www.acmicpc.net/problem/4504"
      ],
      "metadata": {
        "id": "2DH6jXYFtxqg"
      }
    },
    {
      "cell_type": "code",
      "source": [
        "n = int(input())\n",
        "\n",
        "while True:\n",
        "  x = int(input())\n",
        "  message = ''\n",
        "\n",
        "  if x == 0:\n",
        "    break\n",
        "\n",
        "  if x % n != 0:\n",
        "    message = 'NOT '\n",
        "\n",
        "  print(f'{x} is {message}a multiple of {n}.')"
      ],
      "metadata": {
        "colab": {
          "base_uri": "https://localhost:8080/"
        },
        "id": "Yq4xCMD9lLuK",
        "outputId": "84e29640-0bc9-41e9-f4cc-137923ca27d2"
      },
      "execution_count": null,
      "outputs": [
        {
          "name": "stdout",
          "output_type": "stream",
          "text": [
            "3\n",
            "1\n",
            "1 is NOT a multiple of 3\n",
            "7\n",
            "7 is NOT a multiple of 3\n",
            "99\n",
            "99 is a multiple of 3\n",
            "321\n",
            "321 is a multiple of 3\n",
            "777\n",
            "777 is a multiple of 3\n",
            "0\n"
          ]
        }
      ]
    },
    {
      "cell_type": "markdown",
      "source": [
        "## 루트: https://www.acmicpc.net/problem/4619"
      ],
      "metadata": {
        "id": "1M8dXcxUwOkX"
      }
    },
    {
      "cell_type": "code",
      "source": [
        "while True:\n",
        "  b, n = map(int, input().split())\n",
        "  a = 0\n",
        "\n",
        "  if b == n == 0:\n",
        "    break\n",
        "\n",
        "  while a ** n < b:\n",
        "    a += 1\n",
        "\n",
        "  print(a if a ** n - b < b - (a - 1) ** n else a - 1)"
      ],
      "metadata": {
        "colab": {
          "base_uri": "https://localhost:8080/"
        },
        "id": "Yunhs4deu3n3",
        "outputId": "df8b9f0c-0480-4248-db0d-2e5f557ce1e9"
      },
      "execution_count": null,
      "outputs": [
        {
          "name": "stdout",
          "output_type": "stream",
          "text": [
            "4 3\n",
            "1\n",
            "5 4\n",
            "1\n",
            "5 3\n",
            "2\n",
            "27 3\n",
            "3\n",
            "750 5\n",
            "4\n",
            "1000 5\n",
            "4\n",
            "2000 5\n",
            "4\n",
            "3000 5\n",
            "5\n",
            "1000000 5\n",
            "16\n",
            "0 0\n"
          ]
        }
      ]
    },
    {
      "cell_type": "markdown",
      "source": [
        "## 대회 or 인턴: https://www.acmicpc.net/problem/2875"
      ],
      "metadata": {
        "id": "p5pH3K5f2Ya5"
      }
    },
    {
      "cell_type": "code",
      "source": [
        "n, m, k = map(int, input().split())\n",
        "\n",
        "team1, team2 = (n - k) // 2, n // 2\n",
        "\n",
        "if m - k >= team2:\n",
        "  print(team2)\n",
        "else:\n",
        "  print(team1)"
      ],
      "metadata": {
        "colab": {
          "base_uri": "https://localhost:8080/"
        },
        "id": "4_KpiDlaxPbL",
        "outputId": "13aa5958-e797-4ca5-d35f-ac2a29ed0901"
      },
      "execution_count": null,
      "outputs": [
        {
          "output_type": "stream",
          "name": "stdout",
          "text": [
            "6 10 3\n",
            "3\n"
          ]
        }
      ]
    },
    {
      "cell_type": "markdown",
      "source": [
        "- 다른 사람의 코드"
      ],
      "metadata": {
        "id": "HsPcv9SJERPA"
      }
    },
    {
      "cell_type": "code",
      "source": [
        "F, M, K = map(int, input().split())\n",
        "print(min((F + M - K) // 3, M, F // 2))"
      ],
      "metadata": {
        "colab": {
          "base_uri": "https://localhost:8080/"
        },
        "id": "VJujcjfB27jk",
        "outputId": "cbb578da-1296-49b7-830d-d3ba6801bbb2"
      },
      "execution_count": null,
      "outputs": [
        {
          "name": "stdout",
          "output_type": "stream",
          "text": [
            "6 10 3\n"
          ]
        },
        {
          "output_type": "execute_result",
          "data": {
            "text/plain": [
              "3"
            ]
          },
          "metadata": {},
          "execution_count": 38
        }
      ]
    },
    {
      "cell_type": "markdown",
      "source": [
        "## 점수계산: https://www.acmicpc.net/problem/2506"
      ],
      "metadata": {
        "id": "U_-myL7MEd2w"
      }
    },
    {
      "cell_type": "code",
      "source": [
        "q = int(input())\n",
        "n = list(map(int, input().split()))\n",
        "sum = 0\n",
        "count = 0\n",
        "\n",
        "for i in range(q):\n",
        "  if n[i] == 1:\n",
        "    count += 1\n",
        "  else:\n",
        "    count = 0\n",
        "  sum += count\n",
        "\n",
        "print(sum)"
      ],
      "metadata": {
        "colab": {
          "base_uri": "https://localhost:8080/"
        },
        "id": "yt5vtVLd-e9Y",
        "outputId": "284c182e-50ce-46c6-b0b0-b08a269f7f32"
      },
      "execution_count": null,
      "outputs": [
        {
          "output_type": "stream",
          "name": "stdout",
          "text": [
            "10\n",
            "1 0 1 1 1 0 0 1 1 0\n",
            "10\n"
          ]
        }
      ]
    },
    {
      "cell_type": "markdown",
      "source": [
        "## 거북이: https://www.acmicpc.net/problem/2959"
      ],
      "metadata": {
        "id": "gv9a0VneKqtZ"
      }
    },
    {
      "cell_type": "markdown",
      "source": [
        "- 가장 작은 값과 두번째로 큰 값의 곱이 직사각형의 면적이 된다"
      ],
      "metadata": {
        "id": "ALywXGhbLPFq"
      }
    },
    {
      "cell_type": "code",
      "source": [
        "a, b, c, d = sorted(list(map(int, input().split())))\n",
        "\n",
        "print(a * c)"
      ],
      "metadata": {
        "id": "5VZOVA0kKtz5"
      },
      "execution_count": null,
      "outputs": []
    },
    {
      "cell_type": "markdown",
      "source": [
        "## 캥거루 세마리: https://www.acmicpc.net/problem/2965"
      ],
      "metadata": {
        "id": "G2-RlEANLbsR"
      }
    },
    {
      "cell_type": "code",
      "source": [
        "a, b, c = map(int, input().split())\n",
        "\n",
        "print(max(b - a, c - b) - 1)"
      ],
      "metadata": {
        "colab": {
          "base_uri": "https://localhost:8080/"
        },
        "id": "4MgVZwU5Lebv",
        "outputId": "da5a685e-ac3f-409d-e9ce-bd73d8aeb65b"
      },
      "execution_count": null,
      "outputs": [
        {
          "output_type": "stream",
          "name": "stdout",
          "text": [
            "3 5 9\n",
            "3\n"
          ]
        }
      ]
    },
    {
      "cell_type": "markdown",
      "source": [
        "## 세 수: https://www.acmicpc.net/problem/2985"
      ],
      "metadata": {
        "id": "hGnmvoffNfyQ"
      }
    },
    {
      "cell_type": "code",
      "source": [
        "a, b, c = input().split()\n",
        "for x in '+-*/':\n",
        "  if int(eval(a + x + b)) == int(c):\n",
        "    print(a + x + b + '=' + c)\n",
        "    break\n",
        "  elif int(eval(b + x + c)) == int(a):\n",
        "    print(a + '=' + b + x + c)\n",
        "    break"
      ],
      "metadata": {
        "colab": {
          "base_uri": "https://localhost:8080/"
        },
        "id": "ca-rJEE1PTB5",
        "outputId": "9cc29818-a5e9-4ec1-99ca-52fb0accb609"
      },
      "execution_count": null,
      "outputs": [
        {
          "output_type": "stream",
          "name": "stdout",
          "text": [
            "5 15 3\n",
            "5=15/3\n"
          ]
        }
      ]
    },
    {
      "cell_type": "code",
      "source": [
        "a, b, c = input().split()\n",
        "operators = '+-*/'\n",
        "array = []\n",
        "\n",
        "for x in operators:\n",
        "  array.append(int(eval(a + x + b)))\n",
        "  array.append(int(eval(b + x + c)))\n",
        "\n",
        "if array.count(int(c)):\n",
        "  print(a + operators[array.index(int(c)) // 2] + b + '=' + c)\n",
        "elif array.count(int(a)):\n",
        "  print(a + '=' + b + operators[array.index(int(a)) // 2] + c)"
      ],
      "metadata": {
        "colab": {
          "base_uri": "https://localhost:8080/"
        },
        "id": "Rn3HIPxnSKgT",
        "outputId": "d4bd878e-b025-4179-96ad-cdc44db0f884"
      },
      "execution_count": null,
      "outputs": [
        {
          "output_type": "stream",
          "name": "stdout",
          "text": [
            "5 15 3\n",
            "5=15/3\n"
          ]
        }
      ]
    },
    {
      "cell_type": "code",
      "source": [
        "print(array)"
      ],
      "metadata": {
        "colab": {
          "base_uri": "https://localhost:8080/"
        },
        "id": "sw4k9CpBThwV",
        "outputId": "501d7596-b805-4113-a95d-9b64cd6a8f36"
      },
      "execution_count": null,
      "outputs": [
        {
          "output_type": "stream",
          "name": "stdout",
          "text": [
            "[20, 18, -10, 12, 75, 45, 0, 5]\n"
          ]
        }
      ]
    },
    {
      "cell_type": "markdown",
      "source": [
        "## 완전 세제곱: https://www.acmicpc.net/problem/4690"
      ],
      "metadata": {
        "id": "tDjCI3pmeddg"
      }
    },
    {
      "cell_type": "markdown",
      "source": [
        "- 1 보다 큰 자연수를 세 개를 찾아야 하므로 2, 3, 4를 제외한 5부터 찾는다"
      ],
      "metadata": {
        "id": "dchgMtePg_bi"
      }
    },
    {
      "cell_type": "code",
      "source": [
        "for i in range(5, 101):\n",
        "  for j in range(2, i):\n",
        "    for k in range(j, i):\n",
        "      for l in range(k, i):\n",
        "        if i ** 3 == (j ** 3) + (k ** 3) + (l ** 3):\n",
        "          print(f'Cube = {i}, Triple = ({j},{k},{l})')"
      ],
      "metadata": {
        "colab": {
          "base_uri": "https://localhost:8080/"
        },
        "id": "-62MI51yehgT",
        "outputId": "8a2be960-538e-42db-cdf5-c98f4f705fcb"
      },
      "execution_count": null,
      "outputs": [
        {
          "output_type": "stream",
          "name": "stdout",
          "text": [
            "Cube = 6, Triple = (3,4,5)\n",
            "Cube = 12, Triple = (6,8,10)\n",
            "Cube = 18, Triple = (2,12,16)\n",
            "Cube = 18, Triple = (9,12,15)\n",
            "Cube = 19, Triple = (3,10,18)\n",
            "Cube = 20, Triple = (7,14,17)\n",
            "Cube = 24, Triple = (12,16,20)\n",
            "Cube = 25, Triple = (4,17,22)\n",
            "Cube = 27, Triple = (3,18,24)\n",
            "Cube = 28, Triple = (18,19,21)\n",
            "Cube = 29, Triple = (11,15,27)\n",
            "Cube = 30, Triple = (15,20,25)\n",
            "Cube = 36, Triple = (4,24,32)\n",
            "Cube = 36, Triple = (18,24,30)\n",
            "Cube = 38, Triple = (6,20,36)\n",
            "Cube = 40, Triple = (14,28,34)\n",
            "Cube = 41, Triple = (2,17,40)\n",
            "Cube = 41, Triple = (6,32,33)\n",
            "Cube = 42, Triple = (21,28,35)\n",
            "Cube = 44, Triple = (16,23,41)\n",
            "Cube = 45, Triple = (5,30,40)\n",
            "Cube = 46, Triple = (3,36,37)\n",
            "Cube = 46, Triple = (27,30,37)\n",
            "Cube = 48, Triple = (24,32,40)\n",
            "Cube = 50, Triple = (8,34,44)\n",
            "Cube = 53, Triple = (29,34,44)\n",
            "Cube = 54, Triple = (6,36,48)\n",
            "Cube = 54, Triple = (12,19,53)\n",
            "Cube = 54, Triple = (27,36,45)\n",
            "Cube = 56, Triple = (36,38,42)\n",
            "Cube = 57, Triple = (9,30,54)\n",
            "Cube = 58, Triple = (15,42,49)\n",
            "Cube = 58, Triple = (22,30,54)\n",
            "Cube = 60, Triple = (21,42,51)\n",
            "Cube = 60, Triple = (30,40,50)\n",
            "Cube = 63, Triple = (7,42,56)\n",
            "Cube = 66, Triple = (33,44,55)\n",
            "Cube = 67, Triple = (22,51,54)\n",
            "Cube = 69, Triple = (36,38,61)\n",
            "Cube = 70, Triple = (7,54,57)\n",
            "Cube = 71, Triple = (14,23,70)\n",
            "Cube = 72, Triple = (8,48,64)\n",
            "Cube = 72, Triple = (34,39,65)\n",
            "Cube = 72, Triple = (36,48,60)\n",
            "Cube = 75, Triple = (12,51,66)\n",
            "Cube = 75, Triple = (38,43,66)\n",
            "Cube = 76, Triple = (12,40,72)\n",
            "Cube = 76, Triple = (31,33,72)\n",
            "Cube = 78, Triple = (39,52,65)\n",
            "Cube = 80, Triple = (28,56,68)\n",
            "Cube = 81, Triple = (9,54,72)\n",
            "Cube = 81, Triple = (25,48,74)\n",
            "Cube = 82, Triple = (4,34,80)\n",
            "Cube = 82, Triple = (12,64,66)\n",
            "Cube = 82, Triple = (19,60,69)\n",
            "Cube = 84, Triple = (28,53,75)\n",
            "Cube = 84, Triple = (42,56,70)\n",
            "Cube = 84, Triple = (54,57,63)\n",
            "Cube = 85, Triple = (50,61,64)\n",
            "Cube = 87, Triple = (20,54,79)\n",
            "Cube = 87, Triple = (26,55,78)\n",
            "Cube = 87, Triple = (33,45,81)\n",
            "Cube = 87, Triple = (38,48,79)\n",
            "Cube = 88, Triple = (21,43,84)\n",
            "Cube = 88, Triple = (25,31,86)\n",
            "Cube = 88, Triple = (32,46,82)\n",
            "Cube = 89, Triple = (17,40,86)\n",
            "Cube = 90, Triple = (10,60,80)\n",
            "Cube = 90, Triple = (25,38,87)\n",
            "Cube = 90, Triple = (45,60,75)\n",
            "Cube = 90, Triple = (58,59,69)\n",
            "Cube = 92, Triple = (6,72,74)\n",
            "Cube = 92, Triple = (54,60,74)\n",
            "Cube = 93, Triple = (32,54,85)\n",
            "Cube = 95, Triple = (15,50,90)\n",
            "Cube = 96, Triple = (19,53,90)\n",
            "Cube = 96, Triple = (48,64,80)\n",
            "Cube = 97, Triple = (45,69,79)\n",
            "Cube = 99, Triple = (11,66,88)\n",
            "Cube = 100, Triple = (16,68,88)\n",
            "Cube = 100, Triple = (35,70,85)\n"
          ]
        }
      ]
    },
    {
      "cell_type": "markdown",
      "source": [
        "## 거울, 오! 거울: https://www.acmicpc.net/problem/4740"
      ],
      "metadata": {
        "id": "SoDb4DfAhmLO"
      }
    },
    {
      "cell_type": "code",
      "source": [
        "while True:\n",
        "  string = input()\n",
        "\n",
        "  if string == '***':\n",
        "    break\n",
        "\n",
        "  print(string[::-1])"
      ],
      "metadata": {
        "colab": {
          "base_uri": "https://localhost:8080/"
        },
        "id": "gyOG5TY4fmtI",
        "outputId": "a27658ea-53c5-42eb-c261-f062c5ed9a6b"
      },
      "execution_count": null,
      "outputs": [
        {
          "name": "stdout",
          "output_type": "stream",
          "text": [
            "AMBULANCE\n",
            "ECNALUBMA\n",
            "Evian\n",
            "naivE\n",
            "madam, i'm adam\n",
            "mada m'i ,madam\n",
            "***\n"
          ]
        }
      ]
    },
    {
      "cell_type": "markdown",
      "source": [
        "## 일반 화학 실험: https://www.acmicpc.net/problem/4766"
      ],
      "metadata": {
        "id": "KtBRKXBQtUCC"
      }
    },
    {
      "cell_type": "code",
      "source": [
        "array = []\n",
        "\n",
        "while True:\n",
        "  temp = float(input())\n",
        "\n",
        "  if int(temp) == 999:\n",
        "    break\n",
        "\n",
        "  array.append(temp)"
      ],
      "metadata": {
        "colab": {
          "base_uri": "https://localhost:8080/"
        },
        "id": "6q77tgTYhu9v",
        "outputId": "1b5de3d3-2885-4c6b-9ba0-da9ad352caf5"
      },
      "execution_count": null,
      "outputs": [
        {
          "name": "stdout",
          "output_type": "stream",
          "text": [
            "10.0\n",
            "12.05\n",
            "30.25\n",
            "20\n",
            "999\n"
          ]
        }
      ]
    },
    {
      "cell_type": "code",
      "source": [
        "array = []\n",
        "\n",
        "while (temp:=float(input())) != 999:\n",
        "  array.append(temp)"
      ],
      "metadata": {
        "colab": {
          "base_uri": "https://localhost:8080/"
        },
        "id": "qBXaB4LHv6Ze",
        "outputId": "96e1f853-d1ae-4207-a227-dfa9675d23a1"
      },
      "execution_count": null,
      "outputs": [
        {
          "name": "stdout",
          "output_type": "stream",
          "text": [
            "10.0\n",
            "12.05\n",
            "30.25\n",
            "20\n",
            "999\n"
          ]
        }
      ]
    },
    {
      "cell_type": "code",
      "source": [
        "print(array)"
      ],
      "metadata": {
        "colab": {
          "base_uri": "https://localhost:8080/"
        },
        "id": "cGdY0Ls1uxwk",
        "outputId": "48d81d7c-1279-4e6e-9d82-16c1f4e3b0e5"
      },
      "execution_count": null,
      "outputs": [
        {
          "output_type": "stream",
          "name": "stdout",
          "text": [
            "[10.0, 12.05, 30.25, 20.0]\n"
          ]
        }
      ]
    },
    {
      "cell_type": "code",
      "source": [
        "for i in range(1, len(array)):\n",
        "  print(f'{array[i] - array[i - 1]:.2f}')"
      ],
      "metadata": {
        "colab": {
          "base_uri": "https://localhost:8080/"
        },
        "id": "rA_IBZ2huBhu",
        "outputId": "b50b46cc-4c0b-4f61-c875-0ce0f92c08f0"
      },
      "execution_count": null,
      "outputs": [
        {
          "output_type": "stream",
          "name": "stdout",
          "text": [
            "2.05\n",
            "18.20\n",
            "-10.25\n"
          ]
        }
      ]
    },
    {
      "cell_type": "markdown",
      "source": [
        "## 줄 세기: https://www.acmicpc.net/problem/4806"
      ],
      "metadata": {
        "id": "1QGKMgIty3GJ"
      }
    },
    {
      "cell_type": "code",
      "source": [
        "count = 0\n",
        "while True:\n",
        "  try:\n",
        "    n = input()\n",
        "    count += 1\n",
        "  except:\n",
        "    print(count)\n",
        "    break"
      ],
      "metadata": {
        "colab": {
          "base_uri": "https://localhost:8080/"
        },
        "id": "eZkHO8MavPEs",
        "outputId": "f6c70b99-8346-4efc-f6c4-d2600cadb22f"
      },
      "execution_count": null,
      "outputs": [
        {
          "name": "stdout",
          "output_type": "stream",
          "text": [
            "one\n",
            "two\n",
            "three\n",
            "3\n",
            "\n"
          ]
        }
      ]
    },
    {
      "cell_type": "markdown",
      "source": [
        "## 다음수: https://www.acmicpc.net/problem/4880"
      ],
      "metadata": {
        "id": "cDDPCfMe1qnx"
      }
    },
    {
      "cell_type": "code",
      "source": [
        "while True:\n",
        "  a, b, c = map(int, input().split())\n",
        "\n",
        "  if a == b == c == 0:\n",
        "    break\n",
        "\n",
        "  ratio = (c - b) // (b - a)\n",
        "\n",
        "  if abs(ratio) == 1:\n",
        "    print('AP', c + (c - b))\n",
        "  else:\n",
        "    print('GP', c * ratio)"
      ],
      "metadata": {
        "colab": {
          "base_uri": "https://localhost:8080/"
        },
        "id": "P4zk-4UH1HlM",
        "outputId": "1b741cac-ee14-4a2a-8fc0-d3356434c90c"
      },
      "execution_count": null,
      "outputs": [
        {
          "name": "stdout",
          "output_type": "stream",
          "text": [
            "4 7 10\n",
            "AP 13\n",
            "2 6 18\n",
            "GP 54\n",
            "0 0 0\n"
          ]
        }
      ]
    },
    {
      "cell_type": "markdown",
      "source": [
        "## 숫자 맞추기 게임: https://www.acmicpc.net/problem/4892"
      ],
      "metadata": {
        "id": "xs7xadkz5Bfa"
      }
    },
    {
      "cell_type": "code",
      "source": [
        "count = 1\n",
        "\n",
        "while (n := int(input())) != 0:\n",
        "  n1 = 3 * n\n",
        "  if n1 % 2 == 0:\n",
        "    n2 = n1 // 2\n",
        "    m = 'even'\n",
        "  else:\n",
        "    n2 = (n1 + 1) // 2\n",
        "    m = 'odd'\n",
        "\n",
        "  print(f'{count}. {m} {(3 * n2) // 9}')\n",
        "  count += 1"
      ],
      "metadata": {
        "colab": {
          "base_uri": "https://localhost:8080/"
        },
        "id": "CQd193pV2nmU",
        "outputId": "c1edd45c-4595-4169-be81-285a5a6b6d1a"
      },
      "execution_count": null,
      "outputs": [
        {
          "name": "stdout",
          "output_type": "stream",
          "text": [
            "37\n",
            "1. odd 18\n",
            "38\n",
            "2. even 19\n",
            "0\n"
          ]
        }
      ]
    },
    {
      "cell_type": "markdown",
      "source": [
        "## TGN: https://www.acmicpc.net/problem/5063"
      ],
      "metadata": {
        "id": "Ye2VrUH4-CZ9"
      }
    },
    {
      "cell_type": "code",
      "source": [
        "for _ in range(int(input())):\n",
        "  r, e, c = map(int, input().split())\n",
        "  profit = e - c\n",
        "\n",
        "  if r < profit:\n",
        "    m = 'advertise'\n",
        "  elif r > profit:\n",
        "    m = 'do not advertise'\n",
        "  else:\n",
        "    m = 'does not matter'\n",
        "\n",
        "  print(m)"
      ],
      "metadata": {
        "colab": {
          "base_uri": "https://localhost:8080/"
        },
        "id": "mHnTYDqc6cZh",
        "outputId": "ba532edd-f7a4-4221-dbd5-f2d7e80afc1b"
      },
      "execution_count": null,
      "outputs": [
        {
          "output_type": "stream",
          "name": "stdout",
          "text": [
            "3\n",
            "0 100 70\n",
            "advertise\n",
            "100 130 30\n",
            "does not matter\n",
            "-100 -70 40\n",
            "do not advertise\n"
          ]
        }
      ]
    },
    {
      "cell_type": "markdown",
      "source": [
        "## 삼각형과 세 변: https://www.acmicpc.net/problem/5073"
      ],
      "metadata": {
        "id": "gEU9ni9k_20Q"
      }
    },
    {
      "cell_type": "code",
      "source": [
        "triangle = ['Invalid', 'Equilateral', 'Isosceles', 'Scalene']\n",
        "\n",
        "while True:\n",
        "  a, b, c = sorted(list(map(int, input().split())))\n",
        "\n",
        "  if (a, b, c) == (0, 0, 0):\n",
        "    break\n",
        "\n",
        "  index = len(set([a, b, c]))\n",
        "\n",
        "  if  a + b > c:\n",
        "    m = triangle[index]\n",
        "  else:\n",
        "    m = triangle[0]\n",
        "\n",
        "  print(m)"
      ],
      "metadata": {
        "colab": {
          "base_uri": "https://localhost:8080/"
        },
        "id": "DARQ8CvL_M34",
        "outputId": "7ce6231e-d31f-4e0e-d70d-742e62e401a6"
      },
      "execution_count": null,
      "outputs": [
        {
          "name": "stdout",
          "output_type": "stream",
          "text": [
            "7 7 7\n",
            "Equilateral\n",
            "6 5 4\n",
            "Scalene\n",
            "3 2 5\n",
            "Invalid\n",
            "3 3 7\n",
            "Invalid\n",
            "6 2 6\n",
            "Isosceles\n",
            "0 0 0\n"
          ]
        }
      ]
    },
    {
      "cell_type": "markdown",
      "source": [
        "## 배수와 약수: https://www.acmicpc.net/problem/5086"
      ],
      "metadata": {
        "id": "gcsvqeLWF95q"
      }
    },
    {
      "cell_type": "code",
      "source": [
        "while True:\n",
        "  a, b = map(int, input().split())\n",
        "  m = 'neither'\n",
        "\n",
        "  if a == b == 0:\n",
        "    break\n",
        "\n",
        "  if b % a == 0:\n",
        "    m = 'factor'\n",
        "\n",
        "  if a % b == 0:\n",
        "    m = 'multiple'\n",
        "\n",
        "  print(m)"
      ],
      "metadata": {
        "colab": {
          "base_uri": "https://localhost:8080/"
        },
        "id": "xwG_58iPB1Tq",
        "outputId": "2d5393a7-7161-48d7-9f75-0456adadb7f6"
      },
      "execution_count": null,
      "outputs": [
        {
          "name": "stdout",
          "output_type": "stream",
          "text": [
            "8 16\n",
            "factor\n",
            "32 4\n",
            "multiple\n",
            "17 5\n",
            "neither\n",
            "0 0\n"
          ]
        }
      ]
    },
    {
      "cell_type": "markdown",
      "source": [
        "## 쌍의 합: https://www.acmicpc.net/problem/5217"
      ],
      "metadata": {
        "id": "dOE7HpTJgUL4"
      }
    },
    {
      "cell_type": "code",
      "source": [
        "for _ in range(int(input())):\n",
        "  n = int(input())\n",
        "  print(f'Pairs for {n}:', end = ' ')\n",
        "\n",
        "  for i in range(n):\n",
        "    for j in range(i, n):\n",
        "      if i + j == n and i != j:\n",
        "        print(i, j, end = '')\n",
        "        if j - i > 2:\n",
        "          print(',', end=' ')\n",
        "  print()"
      ],
      "metadata": {
        "colab": {
          "base_uri": "https://localhost:8080/"
        },
        "id": "GOFwL5lsHDuO",
        "outputId": "41ae1e46-81c6-4d19-d60d-ee57aaa38687"
      },
      "execution_count": null,
      "outputs": [
        {
          "output_type": "stream",
          "name": "stdout",
          "text": [
            "9\n",
            "2\n",
            "Pairs for 2: \n",
            "3\n",
            "Pairs for 3: 1 2\n",
            "4\n",
            "Pairs for 4: 1 3\n",
            "5\n",
            "Pairs for 5: 1 4, 2 3\n",
            "6\n",
            "Pairs for 6: 1 5, 2 4\n",
            "7\n",
            "Pairs for 7: 1 6, 2 5, 3 4\n",
            "8\n",
            "Pairs for 8: 1 7, 2 6, 3 5\n",
            "9\n",
            "Pairs for 9: 1 8, 2 7, 3 6, 4 5\n",
            "10\n",
            "Pairs for 10: 1 9, 2 8, 3 7, 4 6\n"
          ]
        }
      ]
    },
    {
      "cell_type": "markdown",
      "source": [
        "## J박스: https://www.acmicpc.net/problem/5354"
      ],
      "metadata": {
        "id": "v3hrhZmaooBu"
      }
    },
    {
      "cell_type": "code",
      "source": [
        "for i in range(int(input())):\n",
        "  n = int(input())\n",
        "  box = ['#' * n for _ in range(n)]\n",
        "\n",
        "  for i in range(1, n - 1):\n",
        "    box[i] = '#' + 'J' * (n - 2) + '#'\n",
        "\n",
        "  for x in box:\n",
        "    print(x)\n",
        "\n",
        "  print()"
      ],
      "metadata": {
        "colab": {
          "base_uri": "https://localhost:8080/"
        },
        "id": "qcA9XmenpIwV",
        "outputId": "0784b84c-dc95-4679-dfac-338c5974336b"
      },
      "execution_count": null,
      "outputs": [
        {
          "output_type": "stream",
          "name": "stdout",
          "text": [
            "3\n",
            "3\n",
            "###\n",
            "#J#\n",
            "###\n",
            "\n",
            "5\n",
            "#####\n",
            "#JJJ#\n",
            "#JJJ#\n",
            "#JJJ#\n",
            "#####\n",
            "\n",
            "4\n",
            "####\n",
            "#JJ#\n",
            "#JJ#\n",
            "####\n",
            "\n"
          ]
        }
      ]
    },
    {
      "cell_type": "markdown",
      "source": [
        "## 전투 드로이드 가격: https://www.acmicpc.net/problem/5361"
      ],
      "metadata": {
        "id": "fO8YE2v1s6os"
      }
    },
    {
      "cell_type": "code",
      "source": [
        "price = [35034, 23090, 19055, 12530, 18090]\n",
        "\n",
        "for _ in range(int(input())):\n",
        "  array = [price[idx] * x for idx, x in enumerate(list(map(int, input().split())))]\n",
        "  print(f'${sum(array) / 100 :.2f}')"
      ],
      "metadata": {
        "colab": {
          "base_uri": "https://localhost:8080/"
        },
        "id": "67CipB1msQV6",
        "outputId": "fe211eb7-a539-43bc-81b4-65ae1fc9434f"
      },
      "execution_count": null,
      "outputs": [
        {
          "output_type": "stream",
          "name": "stdout",
          "text": [
            "3\n",
            "20 10 14 3 9\n",
            "$13987.50\n",
            "19 17 12 8 10\n",
            "$15679.76\n",
            "11 9 8 22 33\n",
            "$16182.54\n"
          ]
        }
      ]
    },
    {
      "cell_type": "code",
      "source": [
        "price = [35034, 23090, 19055, 12530, 18090]\n",
        "\n",
        "for _ in range(int(input())):\n",
        "  ea = list(map(int, input().split()))\n",
        "  sum_value = 0\n",
        "\n",
        "  for i in range(len(price)):\n",
        "    sum_value += price[i] * ea[i]\n",
        "\n",
        "  print(f'${sum_value / 100 :.2f}')"
      ],
      "metadata": {
        "colab": {
          "base_uri": "https://localhost:8080/"
        },
        "id": "vjyAsrXHtzI-",
        "outputId": "c1845af6-f9e2-4637-f9fa-78180d8caa91"
      },
      "execution_count": null,
      "outputs": [
        {
          "output_type": "stream",
          "name": "stdout",
          "text": [
            "3\n",
            "20 10 14 3 9\n",
            "$13987.50\n",
            "19 17 12 8 10\n",
            "$15679.76\n",
            "11 9 8 22 33\n",
            "$16182.54\n"
          ]
        }
      ]
    },
    {
      "cell_type": "markdown",
      "source": [
        "## 경기 결과: https://www.acmicpc.net/problem/5523"
      ],
      "metadata": {
        "id": "1qqZmguUwUtM"
      }
    },
    {
      "cell_type": "code",
      "source": [
        "import sys\n",
        "input = sys.stdin.readline\n",
        "\n",
        "p1 = p2 = 0\n",
        "\n",
        "for _ in range(int(input())):\n",
        "  a, b = map(int, input().split())\n",
        "\n",
        "  if a > b:\n",
        "    p1 += 1\n",
        "  elif a < b:\n",
        "    p2 += 1\n",
        "\n",
        "print(p1, p2)"
      ],
      "metadata": {
        "colab": {
          "base_uri": "https://localhost:8080/"
        },
        "id": "4WD0qWlKueob",
        "outputId": "ea58541e-82bc-4e34-827b-ec200db61113"
      },
      "execution_count": null,
      "outputs": [
        {
          "output_type": "stream",
          "name": "stdout",
          "text": [
            "4\n",
            "100 0\n",
            "5 6\n",
            "40 50\n",
            "74 75\n",
            "1 3\n"
          ]
        }
      ]
    },
    {
      "cell_type": "markdown",
      "source": [
        "## 영수증: https://www.acmicpc.net/problem/5565"
      ],
      "metadata": {
        "id": "P0Ew8Et6xiXq"
      }
    },
    {
      "cell_type": "code",
      "source": [
        "n = int(input())\n",
        "\n",
        "for i in range(9):\n",
        "  n -= int(input())\n",
        "\n",
        "print(n)"
      ],
      "metadata": {
        "colab": {
          "base_uri": "https://localhost:8080/"
        },
        "id": "c1UQQDu5wmoA",
        "outputId": "15708fa1-80c0-4f15-9cbd-8151bb4a98c4"
      },
      "execution_count": null,
      "outputs": [
        {
          "output_type": "stream",
          "name": "stdout",
          "text": [
            "9850\n",
            "1050\n",
            "800\n",
            "420\n",
            "380\n",
            "600\n",
            "820\n",
            "2400\n",
            "1800\n",
            "980\n",
            "600\n"
          ]
        }
      ]
    },
    {
      "cell_type": "markdown",
      "source": [
        "## 터널의 입구와 출구: https://www.acmicpc.net/problem/5612"
      ],
      "metadata": {
        "id": "oJuCFblsyDyr"
      }
    },
    {
      "cell_type": "code",
      "source": [
        "n = int(input())\n",
        "m = int(input())\n",
        "flag = False\n",
        "max_value = 0\n",
        "\n",
        "for i in range(n):\n",
        "  a, b = map(int,input().split())\n",
        "  diff = a - b\n",
        "\n",
        "  if m < 0:\n",
        "    flag = True\n",
        "  max_value = max(m, m + diff)\n",
        "  m += diff\n",
        "\n",
        "print(0 if flag else max_value)"
      ],
      "metadata": {
        "colab": {
          "base_uri": "https://localhost:8080/"
        },
        "id": "FhjrvfZ3xxQg",
        "outputId": "150ad34c-bfbd-40fe-e7f1-933f37f47ce0"
      },
      "execution_count": null,
      "outputs": [
        {
          "output_type": "stream",
          "name": "stdout",
          "text": [
            "3\n",
            "2\n",
            "2 3\n",
            "2 3\n",
            "1 0\n",
            "1\n"
          ]
        }
      ]
    },
    {
      "cell_type": "code",
      "source": [
        "n = int(input())\n",
        "m = int(input())\n",
        "flow = [m]\n",
        "\n",
        "for i in range(n):\n",
        "  a, b = map(int,input().split())\n",
        "  m += a - b\n",
        "  flow.append(m)\n",
        "\n",
        "flow.sort()\n",
        "\n",
        "if flow[0] < 0:\n",
        "  print(0)\n",
        "else:\n",
        "  print(flow[-1])"
      ],
      "metadata": {
        "colab": {
          "base_uri": "https://localhost:8080/"
        },
        "id": "q6w0SMO01utZ",
        "outputId": "3bd6ad41-be72-4fa9-8c8c-08764b5bf47a"
      },
      "execution_count": null,
      "outputs": [
        {
          "output_type": "stream",
          "name": "stdout",
          "text": [
            "3\n",
            "2\n",
            "2 3\n",
            "2 3\n",
            "4 1\n",
            "3\n"
          ]
        }
      ]
    },
    {
      "cell_type": "markdown",
      "source": [
        "## 계산기 프로그램 : https://www.acmicpc.net/problem/5613"
      ],
      "metadata": {
        "id": "ubU18YIO7riA"
      }
    },
    {
      "cell_type": "code",
      "source": [
        "array = []\n",
        "\n",
        "while (n:=input()) != '=':\n",
        "\n",
        "  if n in '+-*/':\n",
        "    operator = n\n",
        "  else:\n",
        "    array.append(n)\n",
        "\n",
        "  if len(array) == 2:\n",
        "    array.append(eval(array.pop(0) + operator + array.pop(0)))\n",
        "\n",
        "print(array[0])"
      ],
      "metadata": {
        "colab": {
          "base_uri": "https://localhost:8080/",
          "height": 322
        },
        "id": "VQssqQC74pa2",
        "outputId": "16b02a89-55db-4d42-c698-e439b1a9b71f"
      },
      "execution_count": null,
      "outputs": [
        {
          "name": "stdout",
          "output_type": "stream",
          "text": [
            "10\n",
            "-\n",
            "21\n",
            "*\n",
            "5\n"
          ]
        },
        {
          "output_type": "error",
          "ename": "TypeError",
          "evalue": "ignored",
          "traceback": [
            "\u001b[0;31m---------------------------------------------------------------------------\u001b[0m",
            "\u001b[0;31mTypeError\u001b[0m                                 Traceback (most recent call last)",
            "\u001b[0;32m<ipython-input-114-f42b93f8d87c>\u001b[0m in \u001b[0;36m<cell line: 3>\u001b[0;34m()\u001b[0m\n\u001b[1;32m      9\u001b[0m \u001b[0;34m\u001b[0m\u001b[0m\n\u001b[1;32m     10\u001b[0m   \u001b[0;32mif\u001b[0m \u001b[0mlen\u001b[0m\u001b[0;34m(\u001b[0m\u001b[0marray\u001b[0m\u001b[0;34m)\u001b[0m \u001b[0;34m==\u001b[0m \u001b[0;36m2\u001b[0m\u001b[0;34m:\u001b[0m\u001b[0;34m\u001b[0m\u001b[0;34m\u001b[0m\u001b[0m\n\u001b[0;32m---> 11\u001b[0;31m     \u001b[0marray\u001b[0m\u001b[0;34m.\u001b[0m\u001b[0mappend\u001b[0m\u001b[0;34m(\u001b[0m\u001b[0meval\u001b[0m\u001b[0;34m(\u001b[0m\u001b[0marray\u001b[0m\u001b[0;34m.\u001b[0m\u001b[0mpop\u001b[0m\u001b[0;34m(\u001b[0m\u001b[0;36m0\u001b[0m\u001b[0;34m)\u001b[0m \u001b[0;34m+\u001b[0m \u001b[0moperator\u001b[0m \u001b[0;34m+\u001b[0m \u001b[0marray\u001b[0m\u001b[0;34m.\u001b[0m\u001b[0mpop\u001b[0m\u001b[0;34m(\u001b[0m\u001b[0;36m0\u001b[0m\u001b[0;34m)\u001b[0m\u001b[0;34m)\u001b[0m\u001b[0;34m)\u001b[0m\u001b[0;34m\u001b[0m\u001b[0;34m\u001b[0m\u001b[0m\n\u001b[0m\u001b[1;32m     12\u001b[0m \u001b[0;34m\u001b[0m\u001b[0m\n\u001b[1;32m     13\u001b[0m \u001b[0mprint\u001b[0m\u001b[0;34m(\u001b[0m\u001b[0marray\u001b[0m\u001b[0;34m[\u001b[0m\u001b[0;36m0\u001b[0m\u001b[0;34m]\u001b[0m\u001b[0;34m)\u001b[0m\u001b[0;34m\u001b[0m\u001b[0;34m\u001b[0m\u001b[0m\n",
            "\u001b[0;31mTypeError\u001b[0m: unsupported operand type(s) for +: 'int' and 'str'"
          ]
        }
      ]
    },
    {
      "cell_type": "code",
      "source": [
        "array = []\n",
        "\n",
        "while True:\n",
        "  n = input()\n",
        "\n",
        "  if n == '=':\n",
        "    break\n",
        "\n",
        "  if n in '+-*/':\n",
        "    operator = n\n",
        "  else:\n",
        "    array.append(n)\n",
        "\n",
        "  if len(array) == 2:\n",
        "    array.append(str(int(eval(array.pop(0) + operator + array.pop(0)))))\n",
        "\n",
        "print(int(array[0]))"
      ],
      "metadata": {
        "colab": {
          "base_uri": "https://localhost:8080/"
        },
        "id": "VIgaVJqdAfo9",
        "outputId": "ca09b827-f619-46f6-86aa-f3714271db29"
      },
      "execution_count": null,
      "outputs": [
        {
          "output_type": "stream",
          "name": "stdout",
          "text": [
            "100\n",
            "/\n",
            "3\n",
            "*\n",
            "3\n",
            "=\n",
            "99\n"
          ]
        }
      ]
    },
    {
      "cell_type": "markdown",
      "source": [
        "## 평균 중앙값 문제: https://www.acmicpc.net/problem/5691"
      ],
      "metadata": {
        "id": "2P7Wl9UvFMcS"
      }
    },
    {
      "cell_type": "code",
      "source": [
        "while True:\n",
        "  a, b = map(int, input().split())\n",
        "\n",
        "  if a == b == 0:\n",
        "    break\n",
        "\n",
        "  print(2 * a - b)"
      ],
      "metadata": {
        "colab": {
          "base_uri": "https://localhost:8080/"
        },
        "id": "Ozoy3J_9DXw8",
        "outputId": "71027b24-5f8a-484d-e7cb-704ac09def8f"
      },
      "execution_count": null,
      "outputs": [
        {
          "name": "stdout",
          "output_type": "stream",
          "text": [
            "1 2\n",
            "0\n",
            "6 10\n",
            "2\n",
            "1 1000000000\n",
            "-999999998\n",
            "0 0\n"
          ]
        }
      ]
    },
    {
      "cell_type": "markdown",
      "source": [
        "## 팩토리얼 진법: https://www.acmicpc.net/problem/5692"
      ],
      "metadata": {
        "id": "4CRN9IGe5LX-"
      }
    },
    {
      "cell_type": "code",
      "source": [
        "factorial = [math.factorial(i) for i in range(1, 6)]\n",
        "\n",
        "print(factorial)"
      ],
      "metadata": {
        "colab": {
          "base_uri": "https://localhost:8080/"
        },
        "id": "ZcZ8xA637dzM",
        "outputId": "d6e9ec29-63aa-4715-eade-3c01763efa83"
      },
      "execution_count": 7,
      "outputs": [
        {
          "output_type": "stream",
          "name": "stdout",
          "text": [
            "[1, 2, 6, 24, 120]\n"
          ]
        }
      ]
    },
    {
      "cell_type": "code",
      "source": [
        "import math\n",
        "# import sys\n",
        "\n",
        "# input = sys.stdin.readline\n",
        "\n",
        "factorial = [math.factorial(i) for i in range(1, 6)]\n",
        "\n",
        "while True:\n",
        "  n = list(map(int, input().strip()))\n",
        "  fact = 0\n",
        "\n",
        "  if n[0] == 0:\n",
        "    break\n",
        "\n",
        "  for i in range(len(n)):\n",
        "    fact += n[i] * factorial[len(n) - i - 1]\n",
        "\n",
        "  print(fact)"
      ],
      "metadata": {
        "colab": {
          "base_uri": "https://localhost:8080/"
        },
        "id": "Zs9oT_sk5NPQ",
        "outputId": "f092a96b-3e37-43b5-981d-00f76092c4d5"
      },
      "execution_count": 1,
      "outputs": [
        {
          "name": "stdout",
          "output_type": "stream",
          "text": [
            "719\n",
            "53\n",
            "1\n",
            "1\n",
            "15\n",
            "7\n",
            "110\n",
            "8\n",
            "102\n",
            "8\n",
            "0\n"
          ]
        }
      ]
    },
    {
      "cell_type": "markdown",
      "source": [
        "## 파인만: https://www.acmicpc.net/problem/5724"
      ],
      "metadata": {
        "id": "7a1rDGkfDDzt"
      }
    },
    {
      "cell_type": "code",
      "source": [
        "n = 8\n",
        "square = 0\n",
        "\n",
        "for i in range(n):\n",
        "  square += (n - i) ** 2\n",
        "\n",
        "print(square)"
      ],
      "metadata": {
        "colab": {
          "base_uri": "https://localhost:8080/"
        },
        "id": "wpX_tSOV8gEs",
        "outputId": "14ba5fd0-8a94-4de6-8071-802ec4e14fc0"
      },
      "execution_count": 12,
      "outputs": [
        {
          "output_type": "stream",
          "name": "stdout",
          "text": [
            "204\n"
          ]
        }
      ]
    },
    {
      "cell_type": "code",
      "source": [
        "while (n := int(input())) != 0:\n",
        "  square = 0\n",
        "\n",
        "  for i in range(n):\n",
        "    square += (n - i) ** 2\n",
        "\n",
        "  print(square)"
      ],
      "metadata": {
        "id": "0qlZg4eeDglE"
      },
      "execution_count": null,
      "outputs": []
    },
    {
      "cell_type": "markdown",
      "source": [
        "## 한다 안한다: https://www.acmicpc.net/problem/5789"
      ],
      "metadata": {
        "id": "cvBtJlUvJHQy"
      }
    },
    {
      "cell_type": "code",
      "source": [
        "for _ in range(int(input())):\n",
        "  n = input()\n",
        "  mid = len(n) // 2\n",
        "  m = '' if n[mid - 1] == n[mid] else '-Not'\n",
        "  print(f'Do-it{m}')"
      ],
      "metadata": {
        "colab": {
          "base_uri": "https://localhost:8080/"
        },
        "id": "HYZTo53KJJc7",
        "outputId": "6809e8d6-a3a6-4e5d-e3f4-28fb771f136b"
      },
      "execution_count": 14,
      "outputs": [
        {
          "output_type": "stream",
          "name": "stdout",
          "text": [
            "3\n",
            "00100010\n",
            "Do-it\n",
            "01010101\n",
            "Do-it-Not\n",
            "100001\n",
            "Do-it\n"
          ]
        }
      ]
    },
    {
      "cell_type": "markdown",
      "source": [
        "## 17배: https://www.acmicpc.net/problem/5893"
      ],
      "metadata": {
        "id": "78tDUQipQKcR"
      }
    },
    {
      "cell_type": "code",
      "source": [
        "n = bin(int('0b' + input(), 2) * 17)\n",
        "print(n[2:])"
      ],
      "metadata": {
        "colab": {
          "base_uri": "https://localhost:8080/"
        },
        "id": "Zb7tHcbgKS1W",
        "outputId": "9e532ddd-636a-45a8-be63-6f259e2b8bd0"
      },
      "execution_count": 20,
      "outputs": [
        {
          "output_type": "stream",
          "name": "stdout",
          "text": [
            "10110111\n",
            "110000100111\n"
          ]
        }
      ]
    },
    {
      "cell_type": "code",
      "source": [
        "print(format(int(input(), 2) * 17, 'b'))"
      ],
      "metadata": {
        "colab": {
          "base_uri": "https://localhost:8080/"
        },
        "id": "akP4N5gCQeUm",
        "outputId": "cdc09fdd-6177-4621-b8b9-728a8b415fe0"
      },
      "execution_count": 21,
      "outputs": [
        {
          "output_type": "stream",
          "name": "stdout",
          "text": [
            "10110111\n",
            "110000100111\n"
          ]
        }
      ]
    },
    {
      "cell_type": "markdown",
      "source": [
        "## 홀수일까 짝수일까: https://www.acmicpc.net/problem/5988"
      ],
      "metadata": {
        "id": "gnIgXudmSe-K"
      }
    },
    {
      "cell_type": "code",
      "source": [
        "for _ in range(int(input())):\n",
        "  print('odd' if int(input()) % 2 else 'even')"
      ],
      "metadata": {
        "colab": {
          "base_uri": "https://localhost:8080/"
        },
        "id": "qbrCxhYvRkcM",
        "outputId": "0949cfcb-5357-4c88-83f6-bb42bb1aafd0"
      },
      "execution_count": 22,
      "outputs": [
        {
          "output_type": "stream",
          "name": "stdout",
          "text": [
            "2\n",
            "1024\n",
            "even\n",
            "5931\n",
            "odd\n"
          ]
        }
      ]
    },
    {
      "cell_type": "markdown",
      "source": [
        "## 완전 제곱수: https://www.acmicpc.net/problem/6131"
      ],
      "metadata": {
        "id": "dNdew04aTq4e"
      }
    },
    {
      "cell_type": "code",
      "source": [
        "# a ** 2 - b ** 2 = N\n",
        "\n",
        "n = int(input())\n",
        "count = 0\n",
        "\n",
        "for b in range(1, 500):\n",
        "  for a in range(b, 500):\n",
        "    if a ** 2 - b ** 2 == n:\n",
        "      count += 1\n",
        "\n",
        "print(count)"
      ],
      "metadata": {
        "colab": {
          "base_uri": "https://localhost:8080/"
        },
        "id": "NP-woCnIS8e1",
        "outputId": "5c1bd378-1f8a-4459-8f05-87a893d63c25"
      },
      "execution_count": 24,
      "outputs": [
        {
          "output_type": "stream",
          "name": "stdout",
          "text": [
            "15\n",
            "2\n"
          ]
        }
      ]
    },
    {
      "cell_type": "markdown",
      "source": [
        "## IBM 빼기 1: https://www.acmicpc.net/problem/6321"
      ],
      "metadata": {
        "id": "Q0e8fcQBat2K"
      }
    },
    {
      "cell_type": "code",
      "source": [
        "for i in range(int(input())):\n",
        "  string = input()\n",
        "  if i != 0:\n",
        "    print()\n",
        "  print(f'String #{i + 1}')\n",
        "  for x in string:\n",
        "    asc = ord(x) + 1\n",
        "    if asc > 90:\n",
        "      asc = 65\n",
        "    print(chr(asc), end='')\n",
        "  print()\n"
      ],
      "metadata": {
        "colab": {
          "base_uri": "https://localhost:8080/"
        },
        "id": "Jqx77NBFU4uo",
        "outputId": "89175eb1-04f8-496c-ea1f-f637e4a53077"
      },
      "execution_count": 35,
      "outputs": [
        {
          "output_type": "stream",
          "name": "stdout",
          "text": [
            "2\n",
            "HAL\n",
            "String #1\n",
            "IBM\n",
            "SWERC\n",
            "\n",
            "String #2\n",
            "TXFSD\n"
          ]
        }
      ]
    },
    {
      "cell_type": "markdown",
      "source": [
        "## 디지털 루트: https://www.acmicpc.net/problem/6378"
      ],
      "metadata": {
        "id": "kKHwYt8spEdC"
      }
    },
    {
      "cell_type": "code",
      "source": [
        "while True:\n",
        "  n = int(input())\n",
        "  if n == 0:\n",
        "    break\n",
        "\n",
        "  while n > 9:\n",
        "    n = sum(map(int, list(str(n))))\n",
        "  print(n)"
      ],
      "metadata": {
        "colab": {
          "base_uri": "https://localhost:8080/"
        },
        "id": "l0bolAIlpGWq",
        "outputId": "2534f5af-1807-48a9-cb9d-3df649ff7b61"
      },
      "execution_count": 5,
      "outputs": [
        {
          "output_type": "stream",
          "name": "stdout",
          "text": [
            "24\n",
            "6\n",
            "39\n",
            "0\n",
            "3\n"
          ]
        }
      ]
    }
  ]
}