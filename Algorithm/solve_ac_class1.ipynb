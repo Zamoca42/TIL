{
  "nbformat": 4,
  "nbformat_minor": 0,
  "metadata": {
    "colab": {
      "provenance": [],
      "authorship_tag": "ABX9TyPYTHQpcP2deFdu0dU8x/5x",
      "include_colab_link": true
    },
    "kernelspec": {
      "name": "python3",
      "display_name": "Python 3"
    },
    "language_info": {
      "name": "python"
    }
  },
  "cells": [
    {
      "cell_type": "markdown",
      "metadata": {
        "id": "view-in-github",
        "colab_type": "text"
      },
      "source": [
        "<a href=\"https://colab.research.google.com/github/Zamoca42/TIL/blob/main/Algorithm/solve_ac_class1.ipynb\" target=\"_parent\"><img src=\"https://colab.research.google.com/assets/colab-badge.svg\" alt=\"Open In Colab\"/></a>"
      ]
    },
    {
      "cell_type": "markdown",
      "source": [
        "# 2023 - 06 - 28"
      ],
      "metadata": {
        "id": "TK4UFmf01Qog"
      }
    },
    {
      "cell_type": "markdown",
      "source": [
        "## A+B: https://www.acmicpc.net/problem/1000"
      ],
      "metadata": {
        "id": "I-f2u01vub1q"
      }
    },
    {
      "cell_type": "code",
      "execution_count": 1,
      "metadata": {
        "colab": {
          "base_uri": "https://localhost:8080/"
        },
        "id": "E0xlqA-6uOup",
        "outputId": "d67ee758-a88d-414c-fc31-63e5404e3d6f"
      },
      "outputs": [
        {
          "output_type": "stream",
          "name": "stdout",
          "text": [
            "1 2\n",
            "3\n"
          ]
        }
      ],
      "source": [
        "# import sys\n",
        "# input = sys.stdin.readline\n",
        "\n",
        "x, y = map(int, input().split())\n",
        "\n",
        "print(x + y)"
      ]
    },
    {
      "cell_type": "markdown",
      "source": [
        "## A-B: https://www.acmicpc.net/problem/1001"
      ],
      "metadata": {
        "id": "sbDQs15DvPbP"
      }
    },
    {
      "cell_type": "code",
      "source": [
        "# import sys\n",
        "# input = sys.stdin.readline\n",
        "\n",
        "x, y = map(int, input().split())\n",
        "\n",
        "print(x - y)"
      ],
      "metadata": {
        "colab": {
          "base_uri": "https://localhost:8080/"
        },
        "id": "Cl8BZVe8vRbL",
        "outputId": "d02efc58-9bdb-4c77-e3e3-e2591719b639"
      },
      "execution_count": 4,
      "outputs": [
        {
          "output_type": "stream",
          "name": "stdout",
          "text": [
            "3 2\n",
            "1\n"
          ]
        }
      ]
    },
    {
      "cell_type": "markdown",
      "source": [
        "## A/B: https://www.acmicpc.net/problem/1008"
      ],
      "metadata": {
        "id": "0i6EL3HSv2ds"
      }
    },
    {
      "cell_type": "code",
      "source": [
        "# import sys\n",
        "# input = sys.stdin.readline\n",
        "\n",
        "x, y = map(int, input().split())\n",
        "\n",
        "print(x/y)"
      ],
      "metadata": {
        "colab": {
          "base_uri": "https://localhost:8080/"
        },
        "id": "13yMDcfLv-w1",
        "outputId": "72da9367-82ec-49e6-a4b4-c07a330acbdf"
      },
      "execution_count": 5,
      "outputs": [
        {
          "output_type": "stream",
          "name": "stdout",
          "text": [
            "4 5\n",
            "0.8\n"
          ]
        }
      ]
    },
    {
      "cell_type": "markdown",
      "source": [
        "## 단어의 개수: https://www.acmicpc.net/problem/1152"
      ],
      "metadata": {
        "id": "ELy1lbLU2Fmy"
      }
    },
    {
      "cell_type": "code",
      "source": [
        "# import sys\n",
        "# input = sys.stdin.readline\n",
        "\n",
        "word = list(input().split())\n",
        "result = 0\n",
        "\n",
        "for x in word:\n",
        "  if x == '':\n",
        "    continue\n",
        "  result += 1\n",
        "\n",
        "print(word)"
      ],
      "metadata": {
        "colab": {
          "base_uri": "https://localhost:8080/"
        },
        "id": "iJ_WhtNfwFCH",
        "outputId": "beea9c19-da1a-407b-8f21-f82b331feeb7"
      },
      "execution_count": 25,
      "outputs": [
        {
          "output_type": "stream",
          "name": "stdout",
          "text": [
            " The  last character is a blank \n",
            "['', 'The', '', 'last', 'character', 'is', 'a', 'blank', '']\n"
          ]
        }
      ]
    },
    {
      "cell_type": "markdown",
      "source": [
        "### 어려웠던 점"
      ],
      "metadata": {
        "id": "BdwehjjL1M-s"
      }
    },
    {
      "cell_type": "markdown",
      "source": [
        "`word = list(input().split(' '))`를 사용했을 때는 틀렸다고 하는데  \n",
        "`word = list(input().split())` split( \\) 안의 ' '를 제거하니 맞았다고 뜸\n",
        "\n",
        "  - 공백으로 단어를 구분할 때 `split()`으로 사용하는 것이 테스트 케이스를 통과하는데 용이"
      ],
      "metadata": {
        "id": "97RfyiUI1Jk7"
      }
    },
    {
      "cell_type": "markdown",
      "source": [
        "## 단어 공부: https://www.acmicpc.net/problem/1157"
      ],
      "metadata": {
        "id": "08EHauLm2JG7"
      }
    },
    {
      "cell_type": "code",
      "source": [
        "string = list(input().upper().strip())\n",
        "chr = dict()\n",
        "\n",
        "for x in string:\n",
        "  if x not in chr:\n",
        "    chr[x] = 0\n",
        "  chr[x] += 1\n",
        "\n",
        "max_value = max(chr.values())\n",
        "result = []\n",
        "\n",
        "for key, value in chr.items():\n",
        "  if max_value == value:\n",
        "    result.append((key, value))\n",
        "\n",
        "if len(result) == 1:\n",
        "  print(result[0][0])\n",
        "else:\n",
        "  print('?')"
      ],
      "metadata": {
        "colab": {
          "base_uri": "https://localhost:8080/"
        },
        "id": "W3Jdn2YdMom9",
        "outputId": "207ef56a-dff8-494f-c287-85a1607f7dc5"
      },
      "execution_count": 36,
      "outputs": [
        {
          "output_type": "stream",
          "name": "stdout",
          "text": [
            "baaa\n",
            "A\n"
          ]
        }
      ]
    },
    {
      "cell_type": "markdown",
      "source": [
        "## 두 수 비교하기: https://www.acmicpc.net/problem/1330"
      ],
      "metadata": {
        "id": "p4bM9Y1yTKMK"
      }
    },
    {
      "cell_type": "code",
      "source": [
        "x, y = map(int, input().split())\n",
        "\n",
        "if x > y:\n",
        "  print('>')\n",
        "elif x < y:\n",
        "  print('<')\n",
        "elif x == y:\n",
        "  print('==')"
      ],
      "metadata": {
        "colab": {
          "base_uri": "https://localhost:8080/"
        },
        "id": "BHpgD3BeNe-e",
        "outputId": "5f3bc93b-2b89-457c-c263-407f89961513"
      },
      "execution_count": 39,
      "outputs": [
        {
          "output_type": "stream",
          "name": "stdout",
          "text": [
            "5 5\n",
            "==\n"
          ]
        }
      ]
    },
    {
      "cell_type": "markdown",
      "source": [
        "## 별 찍기: https://www.acmicpc.net/problem/2438"
      ],
      "metadata": {
        "id": "ObZkBPsrTtyx"
      }
    },
    {
      "cell_type": "code",
      "source": [
        "n = int(input())\n",
        "\n",
        "for i in range(1, n + 1):\n",
        "  print('*' * i)"
      ],
      "metadata": {
        "colab": {
          "base_uri": "https://localhost:8080/"
        },
        "id": "3X6jFoJ5TfPt",
        "outputId": "65d385ac-4e13-498f-c302-f11b12a0084c"
      },
      "execution_count": 40,
      "outputs": [
        {
          "output_type": "stream",
          "name": "stdout",
          "text": [
            "5\n",
            "*\n",
            "**\n",
            "***\n",
            "****\n",
            "*****\n"
          ]
        }
      ]
    },
    {
      "cell_type": "markdown",
      "source": [
        "## 별 찍기 - 2: https://www.acmicpc.net/problem/2439"
      ],
      "metadata": {
        "id": "doumQRZ_a1RD"
      }
    },
    {
      "cell_type": "code",
      "source": [
        "n = int(input())\n",
        "\n",
        "for i in range(1, n + 1):\n",
        "  print(' ' * (n - i) + '*' * i)"
      ],
      "metadata": {
        "colab": {
          "base_uri": "https://localhost:8080/"
        },
        "id": "Ottu5KvOUN74",
        "outputId": "2314a043-f86e-4a44-e1b0-ee592644cb76"
      },
      "execution_count": 64,
      "outputs": [
        {
          "output_type": "stream",
          "name": "stdout",
          "text": [
            "7\n",
            "      *\n",
            "     **\n",
            "    ***\n",
            "   ****\n",
            "  *****\n",
            " ******\n",
            "*******\n"
          ]
        }
      ]
    },
    {
      "cell_type": "markdown",
      "source": [
        "## 검증수: https://www.acmicpc.net/problem/2475"
      ],
      "metadata": {
        "id": "j_PbrMNwjZ7z"
      }
    },
    {
      "cell_type": "code",
      "source": [
        "n = list(map(int, input().split()))\n",
        "\n",
        "sum_value = 0\n",
        "\n",
        "for i in n:\n",
        "  sum_value += i ** 2\n",
        "\n",
        "print(sum_value % 10)"
      ],
      "metadata": {
        "colab": {
          "base_uri": "https://localhost:8080/"
        },
        "id": "u--vIXgWdbmp",
        "outputId": "3d7d451a-7455-4f6d-c657-27521afcf44a"
      },
      "execution_count": 71,
      "outputs": [
        {
          "output_type": "stream",
          "name": "stdout",
          "text": [
            "0 4 2 5 6\n",
            "1\n"
          ]
        }
      ]
    },
    {
      "cell_type": "markdown",
      "source": [
        "## 최댓값: https://www.acmicpc.net/problem/2562"
      ],
      "metadata": {
        "id": "FrZ44q7alok2"
      }
    },
    {
      "cell_type": "code",
      "source": [
        "num = []\n",
        "result = tuple()\n",
        "\n",
        "for i in range(9):\n",
        "  n = int(input())\n",
        "  num.append((n, i + 1))\n",
        "\n",
        "result = max(num)\n",
        "print(result[0])\n",
        "print(result[1])"
      ],
      "metadata": {
        "colab": {
          "base_uri": "https://localhost:8080/"
        },
        "id": "lDqDZp5ilO84",
        "outputId": "70a60059-7b09-49d5-a9a7-f000a86d2def"
      },
      "execution_count": 78,
      "outputs": [
        {
          "output_type": "stream",
          "name": "stdout",
          "text": [
            "3\n",
            "29\n",
            "38\n",
            "12\n",
            "57\n",
            "74\n",
            "40\n",
            "85\n",
            "61\n",
            "85\n",
            "7\n"
          ]
        }
      ]
    },
    {
      "cell_type": "markdown",
      "source": [
        "## 숫자의 개수: https://www.acmicpc.net/problem/2577"
      ],
      "metadata": {
        "id": "bI0Cr-UIreLX"
      }
    },
    {
      "cell_type": "code",
      "source": [
        "a = int(input())\n",
        "b = int(input())\n",
        "c = int(input())\n",
        "\n",
        "string = list(str(a * b * c))\n",
        "result = [0] * 10\n",
        "\n",
        "for i in string:\n",
        "  result[eval(i)] += 1\n",
        "\n",
        "for i in result:\n",
        "  print(i)"
      ],
      "metadata": {
        "colab": {
          "base_uri": "https://localhost:8080/"
        },
        "id": "NJI-JkeYmbaQ",
        "outputId": "70137f31-3427-4cc8-d690-2ed842f8324b"
      },
      "execution_count": 82,
      "outputs": [
        {
          "output_type": "stream",
          "name": "stdout",
          "text": [
            "150\n",
            "266\n",
            "427\n",
            "3\n",
            "1\n",
            "0\n",
            "2\n",
            "0\n",
            "0\n",
            "0\n",
            "2\n",
            "0\n",
            "0\n"
          ]
        }
      ]
    },
    {
      "cell_type": "markdown",
      "source": [
        "## 문자열 반복: https://www.acmicpc.net/problem/2675"
      ],
      "metadata": {
        "id": "qGafDB-Zxyaa"
      }
    },
    {
      "cell_type": "code",
      "source": [
        "for _ in range(int(input())):\n",
        "  command = input().split()\n",
        "  R = int(command[0])\n",
        "  S = list(command[1])\n",
        "\n",
        "  for string in S:\n",
        "    print(string * R, end='')\n",
        "  print()"
      ],
      "metadata": {
        "colab": {
          "base_uri": "https://localhost:8080/"
        },
        "id": "NvEqdosWvCFO",
        "outputId": "2edbba57-642a-47f7-a35d-0f6a113fb09e"
      },
      "execution_count": 85,
      "outputs": [
        {
          "output_type": "stream",
          "name": "stdout",
          "text": [
            "2\n",
            "3 ABC\n",
            "AAABBBCCC\n",
            "5 /HTP\n",
            "/////HHHHHTTTTTPPPPP\n"
          ]
        }
      ]
    },
    {
      "cell_type": "markdown",
      "source": [
        "## 구구단: https://www.acmicpc.net/problem/2739"
      ],
      "metadata": {
        "id": "ZnC8NnP50Ze-"
      }
    },
    {
      "cell_type": "code",
      "source": [
        "n = int(input())\n",
        "\n",
        "for i in range(9):\n",
        "  print( n, '*', i + 1, '=', n * (i + 1))"
      ],
      "metadata": {
        "colab": {
          "base_uri": "https://localhost:8080/"
        },
        "id": "4rRJsuCQypyA",
        "outputId": "245f6bbb-914e-43bc-ee53-cdd0b3ceb1ba"
      },
      "execution_count": 86,
      "outputs": [
        {
          "output_type": "stream",
          "name": "stdout",
          "text": [
            "2\n",
            "2 * 1 = 2\n",
            "2 * 2 = 4\n",
            "2 * 3 = 6\n",
            "2 * 4 = 8\n",
            "2 * 5 = 10\n",
            "2 * 6 = 12\n",
            "2 * 7 = 14\n",
            "2 * 8 = 16\n",
            "2 * 9 = 18\n"
          ]
        }
      ]
    },
    {
      "cell_type": "markdown",
      "source": [
        "## 최소, 최대: https://www.acmicpc.net/problem/10818"
      ],
      "metadata": {
        "id": "ZX5NSTrw2u8O"
      }
    },
    {
      "cell_type": "code",
      "source": [
        "n = int(input())\n",
        "numbers = list(map(int, input().split()))\n",
        "\n",
        "print(min(numbers), max(numbers), end=' ')"
      ],
      "metadata": {
        "colab": {
          "base_uri": "https://localhost:8080/"
        },
        "id": "yZrBrRh42xx3",
        "outputId": "41e7fde5-07a3-4119-fd78-296bff99abda"
      },
      "execution_count": 91,
      "outputs": [
        {
          "output_type": "stream",
          "name": "stdout",
          "text": [
            "5\n",
            "20 10 35 30 7\n",
            "7 35 "
          ]
        }
      ]
    },
    {
      "cell_type": "markdown",
      "source": [
        "## N 찍기: https://www.acmicpc.net/problem/2741"
      ],
      "metadata": {
        "id": "BUwwh-dS49K6"
      }
    },
    {
      "cell_type": "code",
      "source": [
        "n = int(input())\n",
        "\n",
        "for i in range(1, n + 1):\n",
        "  print(i)"
      ],
      "metadata": {
        "colab": {
          "base_uri": "https://localhost:8080/"
        },
        "id": "HUwPsQqV3SDK",
        "outputId": "be9fd7f0-c58d-4906-8a75-b42b4e773006"
      },
      "execution_count": 92,
      "outputs": [
        {
          "output_type": "stream",
          "name": "stdout",
          "text": [
            "5\n",
            "1\n",
            "2\n",
            "3\n",
            "4\n",
            "5\n"
          ]
        }
      ]
    },
    {
      "cell_type": "markdown",
      "source": [
        "## 윤년: https://www.acmicpc.net/problem/2753"
      ],
      "metadata": {
        "id": "vDJPJhnu6cCv"
      }
    },
    {
      "cell_type": "code",
      "source": [
        "year = int(input())\n",
        "result = 0\n",
        "\n",
        "if year % 4 == 0 and year % 100 != 0:\n",
        "  result = 1\n",
        "elif year % 400 == 0:\n",
        "  result = 1\n",
        "\n",
        "print(result)"
      ],
      "metadata": {
        "colab": {
          "base_uri": "https://localhost:8080/"
        },
        "id": "5Por3Dlq5Gfo",
        "outputId": "8e208521-9559-4f95-ab2f-bb84deac4f45"
      },
      "execution_count": 94,
      "outputs": [
        {
          "output_type": "stream",
          "name": "stdout",
          "text": [
            "1999\n",
            "0\n"
          ]
        }
      ]
    },
    {
      "cell_type": "code",
      "source": [],
      "metadata": {
        "id": "I_wmuGZq7M5i"
      },
      "execution_count": null,
      "outputs": []
    }
  ]
}