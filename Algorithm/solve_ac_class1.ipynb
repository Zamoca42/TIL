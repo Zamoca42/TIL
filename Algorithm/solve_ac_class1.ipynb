{
  "nbformat": 4,
  "nbformat_minor": 0,
  "metadata": {
    "colab": {
      "provenance": [],
      "authorship_tag": "ABX9TyNCjdbHd0EXJDtXMfuj7saN",
      "include_colab_link": true
    },
    "kernelspec": {
      "name": "python3",
      "display_name": "Python 3"
    },
    "language_info": {
      "name": "python"
    }
  },
  "cells": [
    {
      "cell_type": "markdown",
      "metadata": {
        "id": "view-in-github",
        "colab_type": "text"
      },
      "source": [
        "<a href=\"https://colab.research.google.com/github/Zamoca42/TIL/blob/main/Algorithm/solve_ac_class1.ipynb\" target=\"_parent\"><img src=\"https://colab.research.google.com/assets/colab-badge.svg\" alt=\"Open In Colab\"/></a>"
      ]
    },
    {
      "cell_type": "markdown",
      "source": [
        "# 2023 - 06 - 28"
      ],
      "metadata": {
        "id": "TK4UFmf01Qog"
      }
    },
    {
      "cell_type": "markdown",
      "source": [
        "## A+B: https://www.acmicpc.net/problem/1000"
      ],
      "metadata": {
        "id": "I-f2u01vub1q"
      }
    },
    {
      "cell_type": "code",
      "execution_count": 1,
      "metadata": {
        "colab": {
          "base_uri": "https://localhost:8080/"
        },
        "id": "E0xlqA-6uOup",
        "outputId": "d67ee758-a88d-414c-fc31-63e5404e3d6f"
      },
      "outputs": [
        {
          "output_type": "stream",
          "name": "stdout",
          "text": [
            "1 2\n",
            "3\n"
          ]
        }
      ],
      "source": [
        "# import sys\n",
        "# input = sys.stdin.readline\n",
        "\n",
        "x, y = map(int, input().split())\n",
        "\n",
        "print(x + y)"
      ]
    },
    {
      "cell_type": "markdown",
      "source": [
        "## A-B: https://www.acmicpc.net/problem/1001"
      ],
      "metadata": {
        "id": "sbDQs15DvPbP"
      }
    },
    {
      "cell_type": "code",
      "source": [
        "# import sys\n",
        "# input = sys.stdin.readline\n",
        "\n",
        "x, y = map(int, input().split())\n",
        "\n",
        "print(x - y)"
      ],
      "metadata": {
        "colab": {
          "base_uri": "https://localhost:8080/"
        },
        "id": "Cl8BZVe8vRbL",
        "outputId": "d02efc58-9bdb-4c77-e3e3-e2591719b639"
      },
      "execution_count": 4,
      "outputs": [
        {
          "output_type": "stream",
          "name": "stdout",
          "text": [
            "3 2\n",
            "1\n"
          ]
        }
      ]
    },
    {
      "cell_type": "markdown",
      "source": [
        "## A/B: https://www.acmicpc.net/problem/1008"
      ],
      "metadata": {
        "id": "0i6EL3HSv2ds"
      }
    },
    {
      "cell_type": "code",
      "source": [
        "# import sys\n",
        "# input = sys.stdin.readline\n",
        "\n",
        "x, y = map(int, input().split())\n",
        "\n",
        "print(x/y)"
      ],
      "metadata": {
        "colab": {
          "base_uri": "https://localhost:8080/"
        },
        "id": "13yMDcfLv-w1",
        "outputId": "72da9367-82ec-49e6-a4b4-c07a330acbdf"
      },
      "execution_count": 5,
      "outputs": [
        {
          "output_type": "stream",
          "name": "stdout",
          "text": [
            "4 5\n",
            "0.8\n"
          ]
        }
      ]
    },
    {
      "cell_type": "markdown",
      "source": [
        "## 단어의 개수: https://www.acmicpc.net/problem/1152"
      ],
      "metadata": {
        "id": "ELy1lbLU2Fmy"
      }
    },
    {
      "cell_type": "code",
      "source": [
        "# import sys\n",
        "# input = sys.stdin.readline\n",
        "\n",
        "word = list(input().split())\n",
        "result = 0\n",
        "\n",
        "for x in word:\n",
        "  if x == '':\n",
        "    continue\n",
        "  result += 1\n",
        "\n",
        "print(word)"
      ],
      "metadata": {
        "colab": {
          "base_uri": "https://localhost:8080/"
        },
        "id": "iJ_WhtNfwFCH",
        "outputId": "beea9c19-da1a-407b-8f21-f82b331feeb7"
      },
      "execution_count": 25,
      "outputs": [
        {
          "output_type": "stream",
          "name": "stdout",
          "text": [
            " The  last character is a blank \n",
            "['', 'The', '', 'last', 'character', 'is', 'a', 'blank', '']\n"
          ]
        }
      ]
    },
    {
      "cell_type": "markdown",
      "source": [
        "### 어려웠던 점"
      ],
      "metadata": {
        "id": "BdwehjjL1M-s"
      }
    },
    {
      "cell_type": "markdown",
      "source": [
        "`word = list(input().split(' '))`를 사용했을 때는 틀렸다고 하는데  \n",
        "`word = list(input().split())` split( \\) 안의 ' '를 제거하니 맞았다고 뜸\n",
        "\n",
        "  - 공백으로 단어를 구분할 때 `split()`으로 사용하는 것이 테스트 케이스를 통과하는데 용이"
      ],
      "metadata": {
        "id": "97RfyiUI1Jk7"
      }
    },
    {
      "cell_type": "markdown",
      "source": [
        "## 단어 공부: https://www.acmicpc.net/problem/1157"
      ],
      "metadata": {
        "id": "08EHauLm2JG7"
      }
    },
    {
      "cell_type": "code",
      "source": [
        "string = list(input().upper().strip())\n",
        "chr = dict()\n",
        "\n",
        "for x in string:\n",
        "  if x not in chr:\n",
        "    chr[x] = 0\n",
        "  chr[x] += 1\n",
        "\n",
        "max_value = max(chr.values())\n",
        "result = []\n",
        "\n",
        "for key, value in chr.items():\n",
        "  if max_value == value:\n",
        "    result.append((key, value))\n",
        "\n",
        "if len(result) == 1:\n",
        "  print(result[0][0])\n",
        "else:\n",
        "  print('?')"
      ],
      "metadata": {
        "colab": {
          "base_uri": "https://localhost:8080/"
        },
        "id": "W3Jdn2YdMom9",
        "outputId": "207ef56a-dff8-494f-c287-85a1607f7dc5"
      },
      "execution_count": 36,
      "outputs": [
        {
          "output_type": "stream",
          "name": "stdout",
          "text": [
            "baaa\n",
            "A\n"
          ]
        }
      ]
    },
    {
      "cell_type": "markdown",
      "source": [
        "## 두 수 비교하기: https://www.acmicpc.net/problem/1330"
      ],
      "metadata": {
        "id": "p4bM9Y1yTKMK"
      }
    },
    {
      "cell_type": "code",
      "source": [
        "x, y = map(int, input().split())\n",
        "\n",
        "if x > y:\n",
        "  print('>')\n",
        "elif x < y:\n",
        "  print('<')\n",
        "elif x == y:\n",
        "  print('==')"
      ],
      "metadata": {
        "colab": {
          "base_uri": "https://localhost:8080/"
        },
        "id": "BHpgD3BeNe-e",
        "outputId": "5f3bc93b-2b89-457c-c263-407f89961513"
      },
      "execution_count": 39,
      "outputs": [
        {
          "output_type": "stream",
          "name": "stdout",
          "text": [
            "5 5\n",
            "==\n"
          ]
        }
      ]
    },
    {
      "cell_type": "markdown",
      "source": [
        "## 별 찍기: https://www.acmicpc.net/problem/2438"
      ],
      "metadata": {
        "id": "ObZkBPsrTtyx"
      }
    },
    {
      "cell_type": "code",
      "source": [
        "n = int(input())\n",
        "\n",
        "for i in range(1, n + 1):\n",
        "  print('*' * i)"
      ],
      "metadata": {
        "colab": {
          "base_uri": "https://localhost:8080/"
        },
        "id": "3X6jFoJ5TfPt",
        "outputId": "65d385ac-4e13-498f-c302-f11b12a0084c"
      },
      "execution_count": 40,
      "outputs": [
        {
          "output_type": "stream",
          "name": "stdout",
          "text": [
            "5\n",
            "*\n",
            "**\n",
            "***\n",
            "****\n",
            "*****\n"
          ]
        }
      ]
    },
    {
      "cell_type": "markdown",
      "source": [
        "## 별 찍기 - 2: https://www.acmicpc.net/problem/2439"
      ],
      "metadata": {
        "id": "doumQRZ_a1RD"
      }
    },
    {
      "cell_type": "code",
      "source": [
        "n = int(input())\n",
        "\n",
        "for i in range(1, n + 1):\n",
        "  print(' ' * (n - i) + '*' * i)"
      ],
      "metadata": {
        "colab": {
          "base_uri": "https://localhost:8080/"
        },
        "id": "Ottu5KvOUN74",
        "outputId": "2314a043-f86e-4a44-e1b0-ee592644cb76"
      },
      "execution_count": 64,
      "outputs": [
        {
          "output_type": "stream",
          "name": "stdout",
          "text": [
            "7\n",
            "      *\n",
            "     **\n",
            "    ***\n",
            "   ****\n",
            "  *****\n",
            " ******\n",
            "*******\n"
          ]
        }
      ]
    },
    {
      "cell_type": "markdown",
      "source": [
        "## 검증수: https://www.acmicpc.net/problem/2475"
      ],
      "metadata": {
        "id": "j_PbrMNwjZ7z"
      }
    },
    {
      "cell_type": "code",
      "source": [
        "n = list(map(int, input().split()))\n",
        "\n",
        "sum_value = 0\n",
        "\n",
        "for i in n:\n",
        "  sum_value += i ** 2\n",
        "\n",
        "print(sum_value % 10)"
      ],
      "metadata": {
        "colab": {
          "base_uri": "https://localhost:8080/"
        },
        "id": "u--vIXgWdbmp",
        "outputId": "3d7d451a-7455-4f6d-c657-27521afcf44a"
      },
      "execution_count": 71,
      "outputs": [
        {
          "output_type": "stream",
          "name": "stdout",
          "text": [
            "0 4 2 5 6\n",
            "1\n"
          ]
        }
      ]
    },
    {
      "cell_type": "markdown",
      "source": [
        "## 최댓값: https://www.acmicpc.net/problem/2562"
      ],
      "metadata": {
        "id": "FrZ44q7alok2"
      }
    },
    {
      "cell_type": "code",
      "source": [
        "num = []\n",
        "result = tuple()\n",
        "\n",
        "for i in range(9):\n",
        "  n = int(input())\n",
        "  num.append((n, i + 1))\n",
        "\n",
        "result = max(num)\n",
        "print(result[0])\n",
        "print(result[1])"
      ],
      "metadata": {
        "colab": {
          "base_uri": "https://localhost:8080/"
        },
        "id": "lDqDZp5ilO84",
        "outputId": "70a60059-7b09-49d5-a9a7-f000a86d2def"
      },
      "execution_count": 78,
      "outputs": [
        {
          "output_type": "stream",
          "name": "stdout",
          "text": [
            "3\n",
            "29\n",
            "38\n",
            "12\n",
            "57\n",
            "74\n",
            "40\n",
            "85\n",
            "61\n",
            "85\n",
            "7\n"
          ]
        }
      ]
    },
    {
      "cell_type": "markdown",
      "source": [
        "## 숫자의 개수: https://www.acmicpc.net/problem/2577"
      ],
      "metadata": {
        "id": "bI0Cr-UIreLX"
      }
    },
    {
      "cell_type": "code",
      "source": [
        "a = int(input())\n",
        "b = int(input())\n",
        "c = int(input())\n",
        "\n",
        "string = list(str(a * b * c))\n",
        "result = [0] * 10\n",
        "\n",
        "for i in string:\n",
        "  result[eval(i)] += 1\n",
        "\n",
        "for i in result:\n",
        "  print(i)"
      ],
      "metadata": {
        "colab": {
          "base_uri": "https://localhost:8080/"
        },
        "id": "NJI-JkeYmbaQ",
        "outputId": "70137f31-3427-4cc8-d690-2ed842f8324b"
      },
      "execution_count": 82,
      "outputs": [
        {
          "output_type": "stream",
          "name": "stdout",
          "text": [
            "150\n",
            "266\n",
            "427\n",
            "3\n",
            "1\n",
            "0\n",
            "2\n",
            "0\n",
            "0\n",
            "0\n",
            "2\n",
            "0\n",
            "0\n"
          ]
        }
      ]
    },
    {
      "cell_type": "markdown",
      "source": [
        "## 문자열 반복: https://www.acmicpc.net/problem/2675"
      ],
      "metadata": {
        "id": "qGafDB-Zxyaa"
      }
    },
    {
      "cell_type": "code",
      "source": [
        "for _ in range(int(input())):\n",
        "  command = input().split()\n",
        "  R = int(command[0])\n",
        "  S = list(command[1])\n",
        "\n",
        "  for string in S:\n",
        "    print(string * R, end='')\n",
        "  print()"
      ],
      "metadata": {
        "colab": {
          "base_uri": "https://localhost:8080/"
        },
        "id": "NvEqdosWvCFO",
        "outputId": "2edbba57-642a-47f7-a35d-0f6a113fb09e"
      },
      "execution_count": 85,
      "outputs": [
        {
          "output_type": "stream",
          "name": "stdout",
          "text": [
            "2\n",
            "3 ABC\n",
            "AAABBBCCC\n",
            "5 /HTP\n",
            "/////HHHHHTTTTTPPPPP\n"
          ]
        }
      ]
    },
    {
      "cell_type": "markdown",
      "source": [
        "## 구구단: https://www.acmicpc.net/problem/2739"
      ],
      "metadata": {
        "id": "ZnC8NnP50Ze-"
      }
    },
    {
      "cell_type": "code",
      "source": [
        "n = int(input())\n",
        "\n",
        "for i in range(9):\n",
        "  print( n, '*', i + 1, '=', n * (i + 1))"
      ],
      "metadata": {
        "colab": {
          "base_uri": "https://localhost:8080/"
        },
        "id": "4rRJsuCQypyA",
        "outputId": "245f6bbb-914e-43bc-ee53-cdd0b3ceb1ba"
      },
      "execution_count": 86,
      "outputs": [
        {
          "output_type": "stream",
          "name": "stdout",
          "text": [
            "2\n",
            "2 * 1 = 2\n",
            "2 * 2 = 4\n",
            "2 * 3 = 6\n",
            "2 * 4 = 8\n",
            "2 * 5 = 10\n",
            "2 * 6 = 12\n",
            "2 * 7 = 14\n",
            "2 * 8 = 16\n",
            "2 * 9 = 18\n"
          ]
        }
      ]
    },
    {
      "cell_type": "markdown",
      "source": [
        "## 최소, 최대: https://www.acmicpc.net/problem/10818"
      ],
      "metadata": {
        "id": "ZX5NSTrw2u8O"
      }
    },
    {
      "cell_type": "code",
      "source": [
        "n = int(input())\n",
        "numbers = list(map(int, input().split()))\n",
        "\n",
        "print(min(numbers), max(numbers), end=' ')"
      ],
      "metadata": {
        "colab": {
          "base_uri": "https://localhost:8080/"
        },
        "id": "yZrBrRh42xx3",
        "outputId": "41e7fde5-07a3-4119-fd78-296bff99abda"
      },
      "execution_count": 91,
      "outputs": [
        {
          "output_type": "stream",
          "name": "stdout",
          "text": [
            "5\n",
            "20 10 35 30 7\n",
            "7 35 "
          ]
        }
      ]
    },
    {
      "cell_type": "markdown",
      "source": [
        "## N 찍기: https://www.acmicpc.net/problem/2741"
      ],
      "metadata": {
        "id": "BUwwh-dS49K6"
      }
    },
    {
      "cell_type": "code",
      "source": [
        "n = int(input())\n",
        "\n",
        "for i in range(1, n + 1):\n",
        "  print(i)"
      ],
      "metadata": {
        "colab": {
          "base_uri": "https://localhost:8080/"
        },
        "id": "HUwPsQqV3SDK",
        "outputId": "be9fd7f0-c58d-4906-8a75-b42b4e773006"
      },
      "execution_count": 92,
      "outputs": [
        {
          "output_type": "stream",
          "name": "stdout",
          "text": [
            "5\n",
            "1\n",
            "2\n",
            "3\n",
            "4\n",
            "5\n"
          ]
        }
      ]
    },
    {
      "cell_type": "markdown",
      "source": [
        "## 윤년: https://www.acmicpc.net/problem/2753"
      ],
      "metadata": {
        "id": "vDJPJhnu6cCv"
      }
    },
    {
      "cell_type": "code",
      "source": [
        "year = int(input())\n",
        "result = 0\n",
        "\n",
        "if year % 4 == 0 and year % 100 != 0:\n",
        "  result = 1\n",
        "elif year % 400 == 0:\n",
        "  result = 1\n",
        "\n",
        "print(result)"
      ],
      "metadata": {
        "colab": {
          "base_uri": "https://localhost:8080/"
        },
        "id": "5Por3Dlq5Gfo",
        "outputId": "8e208521-9559-4f95-ab2f-bb84deac4f45"
      },
      "execution_count": 94,
      "outputs": [
        {
          "output_type": "stream",
          "name": "stdout",
          "text": [
            "1999\n",
            "0\n"
          ]
        }
      ]
    },
    {
      "cell_type": "markdown",
      "source": [
        "# 2023 - 06 - 29"
      ],
      "metadata": {
        "id": "Vs7kLdcVc1TI"
      }
    },
    {
      "cell_type": "markdown",
      "source": [
        "## 사칙연산: https://www.acmicpc.net/problem/10869"
      ],
      "metadata": {
        "id": "_b9-FvEec8xw"
      }
    },
    {
      "cell_type": "code",
      "source": [
        "a, b = input().split()\n",
        "\n",
        "operators = ['+', '-', '*', '//', '%' ]\n",
        "\n",
        "for operator in operators:\n",
        "  print(eval(a + operator + b))"
      ],
      "metadata": {
        "colab": {
          "base_uri": "https://localhost:8080/"
        },
        "id": "I_wmuGZq7M5i",
        "outputId": "2ec1300c-5178-45a1-a3a8-9c9be669e72f"
      },
      "execution_count": 4,
      "outputs": [
        {
          "output_type": "stream",
          "name": "stdout",
          "text": [
            "7 3\n",
            "10\n",
            "4\n",
            "21\n",
            "2\n",
            "1\n"
          ]
        }
      ]
    },
    {
      "cell_type": "markdown",
      "source": [
        "# A+B - 3: https://www.acmicpc.net/problem/10950"
      ],
      "metadata": {
        "id": "EVX7FPScexVT"
      }
    },
    {
      "cell_type": "code",
      "source": [
        "for _ in range(int(input())):\n",
        "  a, b = map(int, input().split())\n",
        "  print(a + b)"
      ],
      "metadata": {
        "colab": {
          "base_uri": "https://localhost:8080/"
        },
        "id": "8PI-rJXcdICH",
        "outputId": "f1f0d0cc-0cfa-421b-8c98-4da827a2560b"
      },
      "execution_count": 6,
      "outputs": [
        {
          "output_type": "stream",
          "name": "stdout",
          "text": [
            "5\n",
            "1 1\n",
            "2\n",
            "2 3\n",
            "5\n",
            "3 4\n",
            "7\n",
            "9 8\n",
            "17\n",
            "5 2\n",
            "7\n"
          ]
        }
      ]
    },
    {
      "cell_type": "markdown",
      "source": [
        "# A+B - 4: https://www.acmicpc.net/problem/10951"
      ],
      "metadata": {
        "id": "G0d29gNrf_AL"
      }
    },
    {
      "cell_type": "code",
      "source": [
        "while True:\n",
        "    try:\n",
        "        a, b = map(int, input().split())\n",
        "        print(a + b)\n",
        "    except EOFError:\n",
        "        break"
      ],
      "metadata": {
        "colab": {
          "base_uri": "https://localhost:8080/",
          "height": 427
        },
        "id": "XLg1aYtkfu75",
        "outputId": "52ba56fe-13d8-4fe5-9a74-aad3b6bb0749"
      },
      "execution_count": 7,
      "outputs": [
        {
          "name": "stdout",
          "output_type": "stream",
          "text": [
            "1 1\n",
            "2\n",
            "2 3\n",
            "5\n",
            "3 4\n",
            "7\n",
            "9 8\n",
            "17\n",
            "5 2\n",
            "7\n",
            "\n"
          ]
        },
        {
          "output_type": "error",
          "ename": "ValueError",
          "evalue": "ignored",
          "traceback": [
            "\u001b[0;31m---------------------------------------------------------------------------\u001b[0m",
            "\u001b[0;31mValueError\u001b[0m                                Traceback (most recent call last)",
            "\u001b[0;32m<ipython-input-7-f81635abf2c7>\u001b[0m in \u001b[0;36m<cell line: 1>\u001b[0;34m()\u001b[0m\n\u001b[1;32m      1\u001b[0m \u001b[0;32mwhile\u001b[0m \u001b[0;32mTrue\u001b[0m\u001b[0;34m:\u001b[0m\u001b[0;34m\u001b[0m\u001b[0;34m\u001b[0m\u001b[0m\n\u001b[1;32m      2\u001b[0m     \u001b[0;32mtry\u001b[0m\u001b[0;34m:\u001b[0m\u001b[0;34m\u001b[0m\u001b[0;34m\u001b[0m\u001b[0m\n\u001b[0;32m----> 3\u001b[0;31m         \u001b[0mA\u001b[0m\u001b[0;34m,\u001b[0m \u001b[0mB\u001b[0m \u001b[0;34m=\u001b[0m \u001b[0mmap\u001b[0m\u001b[0;34m(\u001b[0m\u001b[0mint\u001b[0m\u001b[0;34m,\u001b[0m \u001b[0minput\u001b[0m\u001b[0;34m(\u001b[0m\u001b[0;34m)\u001b[0m\u001b[0;34m.\u001b[0m\u001b[0msplit\u001b[0m\u001b[0;34m(\u001b[0m\u001b[0;34m)\u001b[0m\u001b[0;34m)\u001b[0m\u001b[0;34m\u001b[0m\u001b[0;34m\u001b[0m\u001b[0m\n\u001b[0m\u001b[1;32m      4\u001b[0m         \u001b[0mprint\u001b[0m\u001b[0;34m(\u001b[0m\u001b[0mA\u001b[0m\u001b[0;34m+\u001b[0m\u001b[0mB\u001b[0m\u001b[0;34m)\u001b[0m\u001b[0;34m\u001b[0m\u001b[0;34m\u001b[0m\u001b[0m\n\u001b[1;32m      5\u001b[0m     \u001b[0;32mexcept\u001b[0m \u001b[0mEOFError\u001b[0m\u001b[0;34m:\u001b[0m\u001b[0;34m\u001b[0m\u001b[0;34m\u001b[0m\u001b[0m\n",
            "\u001b[0;31mValueError\u001b[0m: not enough values to unpack (expected 2, got 0)"
          ]
        }
      ]
    },
    {
      "cell_type": "markdown",
      "source": [
        "# A+B - 5: https://www.acmicpc.net/problem/10952"
      ],
      "metadata": {
        "id": "mGFkn9VGhH6a"
      }
    },
    {
      "cell_type": "code",
      "source": [
        "while True:\n",
        "  a, b = map(int, input().split())\n",
        "  if a == 0 and b == 0:\n",
        "    break\n",
        "  print(a + b)"
      ],
      "metadata": {
        "colab": {
          "base_uri": "https://localhost:8080/"
        },
        "id": "Qeub0FaJgyuI",
        "outputId": "82b337dc-3ebd-4935-e6a2-fca9e286804a"
      },
      "execution_count": 8,
      "outputs": [
        {
          "name": "stdout",
          "output_type": "stream",
          "text": [
            "1 1\n",
            "2\n",
            "2 3\n",
            "5\n",
            "3 4\n",
            "7\n",
            "9 8\n",
            "17\n",
            "5 2\n",
            "7\n",
            "0 0\n"
          ]
        }
      ]
    },
    {
      "cell_type": "markdown",
      "source": [
        "# 아스키 코드: https://www.acmicpc.net/problem/11654"
      ],
      "metadata": {
        "id": "bB1udONshyMl"
      }
    },
    {
      "cell_type": "code",
      "source": [
        "s = input()\n",
        "\n",
        "print(ord(s))"
      ],
      "metadata": {
        "colab": {
          "base_uri": "https://localhost:8080/"
        },
        "id": "iB1r-LzRhcNu",
        "outputId": "f1061e42-e555-4221-f040-6c64da54d5fa"
      },
      "execution_count": 10,
      "outputs": [
        {
          "output_type": "stream",
          "name": "stdout",
          "text": [
            "C\n",
            "67\n"
          ]
        }
      ]
    },
    {
      "cell_type": "markdown",
      "source": [
        "# 숫자의 합: https://www.acmicpc.net/problem/11720"
      ],
      "metadata": {
        "id": "e3496W7SiL_D"
      }
    },
    {
      "cell_type": "code",
      "source": [
        "N = int(input())\n",
        "number = list(map(int, input().strip()))\n",
        "result = 0\n",
        "\n",
        "for i in number:\n",
        "  result += i\n",
        "\n",
        "print(result)"
      ],
      "metadata": {
        "colab": {
          "base_uri": "https://localhost:8080/"
        },
        "id": "lneXt3kNh95t",
        "outputId": "9548783e-0a63-4393-db07-0f9e056a536e"
      },
      "execution_count": 14,
      "outputs": [
        {
          "output_type": "stream",
          "name": "stdout",
          "text": [
            "25\n",
            "7000000000000000000000000\n",
            "[7, 0, 0, 0, 0, 0, 0, 0, 0, 0, 0, 0, 0, 0, 0, 0, 0, 0, 0, 0, 0, 0, 0, 0, 0]\n",
            "7\n"
          ]
        }
      ]
    },
    {
      "cell_type": "markdown",
      "source": [
        "# 새싹: https://www.acmicpc.net/problem/25083"
      ],
      "metadata": {
        "id": "SaKTPgS6kBjv"
      }
    },
    {
      "cell_type": "code",
      "source": [
        "print('         ,r\\'\\\"7')\n",
        "print('r`-_   ,\\'  ,/')\n",
        "print(' \\. \". L_r\\'')\n",
        "print('   `~\\/')\n",
        "print('      |')\n",
        "print('      |')"
      ],
      "metadata": {
        "colab": {
          "base_uri": "https://localhost:8080/"
        },
        "id": "DDGJedmsiqe7",
        "outputId": "c32ac553-2310-4eb4-a43b-4da1f6c0cfb6"
      },
      "execution_count": 19,
      "outputs": [
        {
          "output_type": "stream",
          "name": "stdout",
          "text": [
            "         ,r'\"7\n",
            "r`-_   ,'  ,/\n",
            " \\. \". L_r'\n",
            "   `~\\/\n",
            "      |\n",
            "      |\n"
          ]
        }
      ]
    },
    {
      "cell_type": "markdown",
      "source": [
        "# 문자와 문자열: https://www.acmicpc.net/problem/27866"
      ],
      "metadata": {
        "id": "tt-HaA9MlceL"
      }
    },
    {
      "cell_type": "code",
      "source": [
        "s = list(input().strip())\n",
        "i = int(input())\n",
        "\n",
        "print(s[i - 1])"
      ],
      "metadata": {
        "colab": {
          "base_uri": "https://localhost:8080/"
        },
        "id": "CeULGpWLkKaW",
        "outputId": "e56cabe5-ef68-4adb-af81-a1c32861bc21"
      },
      "execution_count": 21,
      "outputs": [
        {
          "output_type": "stream",
          "name": "stdout",
          "text": [
            "Sprout\n",
            "3\n",
            "r\n"
          ]
        }
      ]
    },
    {
      "cell_type": "markdown",
      "source": [
        "# 알람시계: https://www.acmicpc.net/problem/2884"
      ],
      "metadata": {
        "id": "hcZU_jBVoK1P"
      }
    },
    {
      "cell_type": "code",
      "source": [
        "h, m = map(int, input().split())\n",
        "\n",
        "if m < 45:\n",
        "  if h == 0:\n",
        "    h = 23\n",
        "    m += 60\n",
        "  else:\n",
        "    h -= 1\n",
        "    m += 60\n",
        "\n",
        "print(h, m - 45)"
      ],
      "metadata": {
        "colab": {
          "base_uri": "https://localhost:8080/"
        },
        "id": "0qyr2Z0HlqsH",
        "outputId": "86a1f177-0078-4dbd-9097-4b2d21c1301a"
      },
      "execution_count": 25,
      "outputs": [
        {
          "output_type": "stream",
          "name": "stdout",
          "text": [
            "0 30\n",
            "23 45\n"
          ]
        }
      ]
    },
    {
      "cell_type": "markdown",
      "source": [
        "- [동작 과정](https://pythontutor.com/visualize.html#code=h,%20m%20%3D%20map%28int,%20input%28%29.split%28%29%29%0A%0Aif%20m%20%3C%2045%3A%0A%20%20if%20h%20%3D%3D%200%3A%0A%20%20%20%20h%20%3D%2023%0A%20%20%20%20m%20%2B%3D%2060%0A%20%20else%3A%0A%20%20%20%20h%20-%3D%201%0A%20%20%20%20m%20%2B%3D%2060%0A%0Aprint%28h,%20m%20-%2045%29&cumulative=false&curInstr=6&heapPrimitives=nevernest&mode=display&origin=opt-frontend.js&py=3&rawInputLstJSON=%5B%2210%2010%22%5D&textReferences=false)"
      ],
      "metadata": {
        "id": "eP2T6ke8hi1M"
      }
    },
    {
      "cell_type": "markdown",
      "source": [
        "# 나머지: https://www.acmicpc.net/problem/3052"
      ],
      "metadata": {
        "id": "BhYnnbbRiPRz"
      }
    },
    {
      "cell_type": "code",
      "source": [
        "# import sys\n",
        "# input = sys.stdin.readline\n",
        "\n",
        "remain = set()\n",
        "\n",
        "for _ in range(10):\n",
        "  num = int(input())\n",
        "  remain.add(num % 42)\n",
        "\n",
        "print(len(remain))"
      ],
      "metadata": {
        "colab": {
          "base_uri": "https://localhost:8080/"
        },
        "id": "c35CuCorhKjk",
        "outputId": "76f6c819-7635-4fcc-9c3c-01e54c56c673"
      },
      "execution_count": 33,
      "outputs": [
        {
          "output_type": "stream",
          "name": "stdout",
          "text": [
            "39\n",
            "40\n",
            "41\n",
            "42\n",
            "43\n",
            "44\n",
            "82\n",
            "83\n",
            "84\n",
            "85\n",
            "6\n"
          ]
        }
      ]
    },
    {
      "cell_type": "markdown",
      "source": [
        "# OX퀴즈: https://www.acmicpc.net/problem/8958"
      ],
      "metadata": {
        "id": "IOZa5p2XmBWJ"
      }
    },
    {
      "cell_type": "code",
      "source": [
        "# import sys\n",
        "# input = sys.stdin.readline\n",
        "\n",
        "for _ in range(int(input())):\n",
        "  quiz = input()\n",
        "  point = 0\n",
        "  result = 0\n",
        "\n",
        "  for check in quiz:\n",
        "    if check == 'O':\n",
        "      point += 1\n",
        "      result += point\n",
        "    elif check == 'X':\n",
        "      point = 0\n",
        "  print(result)"
      ],
      "metadata": {
        "colab": {
          "base_uri": "https://localhost:8080/"
        },
        "id": "u9cSLNrDi4Ct",
        "outputId": "2e22561c-6a57-495f-851e-a6a7395014df"
      },
      "execution_count": 35,
      "outputs": [
        {
          "output_type": "stream",
          "name": "stdout",
          "text": [
            "5\n",
            "OOXXOXXOOO\n",
            "10\n",
            "OOXXOOXXOO\n",
            "9\n",
            "OXOXOXOXOXOXOX\n",
            "7\n",
            "OOOOOOOOOO\n",
            "55\n",
            "OOOOXOOOOXOOOOX\n",
            "30\n"
          ]
        }
      ]
    },
    {
      "cell_type": "markdown",
      "source": [
        "# 시험 성적: https://www.acmicpc.net/problem/9498"
      ],
      "metadata": {
        "id": "szxtGBF0qTPr"
      }
    },
    {
      "cell_type": "code",
      "source": [
        "score = int(input())\n",
        "\n",
        "if score >= 90:\n",
        "  print('A')\n",
        "elif score >= 80:\n",
        "  print('B')\n",
        "elif score >= 70:\n",
        "  print('C')\n",
        "elif score >= 60:\n",
        "  print('D')\n",
        "else:\n",
        "  print('F')"
      ],
      "metadata": {
        "colab": {
          "base_uri": "https://localhost:8080/"
        },
        "id": "nbxE3v4RoBO_",
        "outputId": "86eb78e6-d625-478c-ae64-328fcf6d0cc1"
      },
      "execution_count": 38,
      "outputs": [
        {
          "output_type": "stream",
          "name": "stdout",
          "text": [
            "65\n",
            "D\n"
          ]
        }
      ]
    },
    {
      "cell_type": "markdown",
      "source": [
        "# 고양이: https://www.acmicpc.net/problem/10171"
      ],
      "metadata": {
        "id": "UJBCXc8jr_m2"
      }
    },
    {
      "cell_type": "code",
      "source": [
        "print(\"|\\_/|\")\n",
        "print(\"|q p|   /}\")\n",
        "print('( 0 )\"\"\"\\\\')\n",
        "print('|\"^\"`    |')\n",
        "print(\"||_/=\\\\\\__|\")"
      ],
      "metadata": {
        "colab": {
          "base_uri": "https://localhost:8080/"
        },
        "id": "6GtrGn7AsBNu",
        "outputId": "a5a2aaff-87c9-4330-d555-4494b39d7e77"
      },
      "execution_count": 48,
      "outputs": [
        {
          "output_type": "stream",
          "name": "stdout",
          "text": [
            "|\\_/|\n",
            "|q p|   /}\n",
            "( 0 )\"\"\"\\\n",
            "|\"^\"`    |\n",
            "||_/=\\\\__|\n"
          ]
        }
      ]
    },
    {
      "cell_type": "markdown",
      "source": [
        "# X보다 작은 수: https://www.acmicpc.net/problem/10871"
      ],
      "metadata": {
        "id": "RwklipAvvWFw"
      }
    },
    {
      "cell_type": "code",
      "source": [
        "# import sys\n",
        "# input = sys.stdin.readline\n",
        "\n",
        "n, x = map(int, input().split())\n",
        "a = list(map(int, input().split()))\n",
        "result = list()\n",
        "\n",
        "for i in range(n):\n",
        "  if a[i] < x:\n",
        "    result.append(a[i])\n",
        "\n",
        "for i in result:\n",
        "  print(i, end=' ')"
      ],
      "metadata": {
        "colab": {
          "base_uri": "https://localhost:8080/"
        },
        "id": "tnCIncM-tZym",
        "outputId": "0c5f8e59-d610-4065-8f89-64d2b1312178"
      },
      "execution_count": 49,
      "outputs": [
        {
          "output_type": "stream",
          "name": "stdout",
          "text": [
            "10 5\n",
            "1 10 4 9 2 3 8 5 7 6\n",
            "1 4 2 3 "
          ]
        }
      ]
    },
    {
      "cell_type": "markdown",
      "source": [
        "# A×B: https://www.acmicpc.net/problem/10998"
      ],
      "metadata": {
        "id": "GDbC0S1LxQzA"
      }
    },
    {
      "cell_type": "code",
      "source": [
        "a, b = map(int, input().split())\n",
        "\n",
        "print(a * b)"
      ],
      "metadata": {
        "colab": {
          "base_uri": "https://localhost:8080/"
        },
        "id": "w-kBm9lXwqdx",
        "outputId": "e5bdceff-8a56-4c2b-a9e7-d2da00386f26"
      },
      "execution_count": 51,
      "outputs": [
        {
          "output_type": "stream",
          "name": "stdout",
          "text": [
            "3 4\n",
            "12\n"
          ]
        }
      ]
    },
    {
      "cell_type": "markdown",
      "source": [
        "# ACM 호텔: https://www.acmicpc.net/problem/10250"
      ],
      "metadata": {
        "id": "RPOjYpnmxtoS"
      }
    },
    {
      "cell_type": "code",
      "source": [
        "for _ in range(int(input())):\n",
        "  floor, number, guest = map(int, input().split())\n",
        "  hotel = [[0 for i in range(number)]] * floor\n",
        "  last_floor, last_number = 0, 0\n",
        "\n",
        "  for i in range(number):\n",
        "    for j in range(floor):\n",
        "      guest -= 1\n",
        "      if guest == 0:\n",
        "        last_number = i + 1\n",
        "        last_floor = j + 1\n",
        "\n",
        "  if last_number < 10:\n",
        "    print(f'{last_floor}0{last_number}')\n",
        "  else:\n",
        "    print(f'{last_floor}{last_number}')"
      ],
      "metadata": {
        "colab": {
          "base_uri": "https://localhost:8080/"
        },
        "id": "w2adI5EzxwLE",
        "outputId": "0a452f28-0780-42ef-efd3-4b4485b321d9"
      },
      "execution_count": 12,
      "outputs": [
        {
          "output_type": "stream",
          "name": "stdout",
          "text": [
            "2\n",
            "6 12 10\n",
            "402\n",
            "30 50 72\n",
            "1203\n",
            "CPU times: user 2 µs, sys: 0 ns, total: 2 µs\n",
            "Wall time: 4.77 µs\n"
          ]
        }
      ]
    },
    {
      "cell_type": "code",
      "source": [],
      "metadata": {
        "id": "ho5iq7o8D0fj"
      },
      "execution_count": null,
      "outputs": []
    }
  ]
}