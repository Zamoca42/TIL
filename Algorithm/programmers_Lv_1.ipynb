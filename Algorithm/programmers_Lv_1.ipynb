{
  "nbformat": 4,
  "nbformat_minor": 0,
  "metadata": {
    "colab": {
      "provenance": [],
      "authorship_tag": "ABX9TyP1LzYGdElHEtj0A5+O3zdk",
      "include_colab_link": true
    },
    "kernelspec": {
      "name": "python3",
      "display_name": "Python 3"
    },
    "language_info": {
      "name": "python"
    }
  },
  "cells": [
    {
      "cell_type": "markdown",
      "metadata": {
        "id": "view-in-github",
        "colab_type": "text"
      },
      "source": [
        "<a href=\"https://colab.research.google.com/github/Zamoca42/TIL/blob/main/Algorithm/programmers_Lv_1.ipynb\" target=\"_parent\"><img src=\"https://colab.research.google.com/assets/colab-badge.svg\" alt=\"Open In Colab\"/></a>"
      ]
    },
    {
      "cell_type": "markdown",
      "source": [
        "## 달리기 경주"
      ],
      "metadata": {
        "id": "WRV0ek8gLj4A"
      }
    },
    {
      "cell_type": "markdown",
      "source": [
        "얀에서는 매년 달리기 경주가 열립니다. 해설진들은 선수들이 자기 바로 앞의 선수를 추월할 때 추월한 선수의 이름을 부릅니다. 예를 들어 1등부터 3등까지 \"mumu\", \"soe\", \"poe\" 선수들이 순서대로 달리고 있을 때, 해설진이 \"soe\"선수를 불렀다면 2등인 \"soe\" 선수가 1등인 \"mumu\" 선수를 추월했다는 것입니다. 즉 \"soe\" 선수가 1등, \"mumu\" 선수가 2등으로 바뀝니다.\n",
        "\n",
        "선수들의 이름이 1등부터 현재 등수 순서대로 담긴 문자열 배열 players와 해설진이 부른 이름을 담은 문자열 배열 callings가 매개변수로 주어질 때, 경주가 끝났을 때 선수들의 이름을 1등부터 등수 순서대로 배열에 담아 return 하는 solution 함수를 완성해주세요.\n",
        "\n"
      ],
      "metadata": {
        "id": "za1Ro70uLneo"
      }
    },
    {
      "cell_type": "markdown",
      "source": [
        "- 5 ≤ players의 길이 ≤ 50,000\n",
        "  - players[i]는 i번째 선수의 이름을 의미합니다.\n",
        "  - players의 원소들은 알파벳 소문자로만 이루어져 있습니다.\n",
        "  - players에는 중복된 값이 들어가 있지 않습니다.\n",
        "  - 3 ≤ players[i]의 길이 ≤ 10\n",
        "- 2 ≤ callings의 길이 ≤ 1,000,000\n",
        "  - callings는 players의 원소들로만 이루어져 있습니다.\n",
        "  - 경주 진행중 1등인 선수의 이름은 불리지 않습니다.\n"
      ],
      "metadata": {
        "id": "Om-jrj3ELp6c"
      }
    },
    {
      "cell_type": "code",
      "execution_count": null,
      "metadata": {
        "id": "-ijpBQxwLd2M"
      },
      "outputs": [],
      "source": [
        "players = [\"mumu\", \"soe\", \"poe\", \"kai\", \"mine\"]\n",
        "callings = [\"kai\", \"kai\", \"kai\", \"mine\", \"mine\", \"mine\", \"mine\", \"kai\"]"
      ]
    },
    {
      "cell_type": "code",
      "source": [
        "def solution(players, callings):\n",
        "    for call in callings:\n",
        "        i = players.index(call)\n",
        "        players[i], players[i - 1] = players[i - 1], players[i]\n",
        "\n",
        "    return players"
      ],
      "metadata": {
        "id": "UDZ7Dh41Sql5"
      },
      "execution_count": null,
      "outputs": []
    },
    {
      "cell_type": "code",
      "source": [
        "def solution(players, callings):\n",
        "    player_dict = {player: idx for idx, player in enumerate(players)}\n",
        "    print(player_dict)\n",
        "\n",
        "    for call in callings:\n",
        "        idx = player_dict[call]\n",
        "\n",
        "        players[idx], players[idx-1] = players[idx-1], players[idx]\n",
        "        player_dict[players[idx]], player_dict[players[idx-1]] = idx, idx - 1\n",
        "\n",
        "    return players"
      ],
      "metadata": {
        "id": "PiX8DJENMKKT"
      },
      "execution_count": null,
      "outputs": []
    },
    {
      "cell_type": "code",
      "source": [
        "solution(players, callings)"
      ],
      "metadata": {
        "colab": {
          "base_uri": "https://localhost:8080/"
        },
        "id": "nqG7F3oxQtUF",
        "outputId": "3d1d66e9-d7d1-4da2-eaab-33e7a84cd36d"
      },
      "execution_count": null,
      "outputs": [
        {
          "output_type": "stream",
          "name": "stdout",
          "text": [
            "{'mumu': 0, 'soe': 1, 'poe': 2, 'kai': 3, 'mine': 4}\n"
          ]
        },
        {
          "output_type": "execute_result",
          "data": {
            "text/plain": [
              "['kai', 'mine', 'mumu', 'soe', 'poe']"
            ]
          },
          "metadata": {},
          "execution_count": 26
        }
      ]
    },
    {
      "cell_type": "markdown",
      "source": [
        "## 추억 점수"
      ],
      "metadata": {
        "id": "tTnsPXe2VDPw"
      }
    },
    {
      "cell_type": "code",
      "source": [
        "name = [\"may\", \"kein\", \"kain\", \"radi\"]\n",
        "yearning = [5, 10, 1, 3]\n",
        "photo = [[\"may\", \"kein\", \"kain\", \"radi\"],[\"may\", \"kein\", \"brin\", \"deny\"], [\"kon\", \"kain\", \"may\", \"coni\"]]"
      ],
      "metadata": {
        "id": "hTzFVw6PVFEc"
      },
      "execution_count": null,
      "outputs": []
    },
    {
      "cell_type": "code",
      "source": [
        "answer = [sum(yearning[name.index(member[i])] for i in range(len(member)) if name.count(member[i]))for member in photo]"
      ],
      "metadata": {
        "id": "G9rZFiqYVLGQ"
      },
      "execution_count": null,
      "outputs": []
    },
    {
      "cell_type": "code",
      "source": [
        "print(answer)"
      ],
      "metadata": {
        "colab": {
          "base_uri": "https://localhost:8080/"
        },
        "id": "-Kb_CU6zVNq3",
        "outputId": "f625b389-c2a7-4b3e-cecc-76b9e70580a4"
      },
      "execution_count": null,
      "outputs": [
        {
          "output_type": "stream",
          "name": "stdout",
          "text": [
            "[19, 15, 6]\n"
          ]
        }
      ]
    },
    {
      "cell_type": "code",
      "source": [
        "def solution(name, yearning, photo):\n",
        "    answer = [sum(yearning[name.index(member[i])] for i in range(len(member)) if name.count(member[i]))for member in photo]\n",
        "    return answer\n",
        "\n",
        "solution(name, yearning, photo)"
      ],
      "metadata": {
        "colab": {
          "base_uri": "https://localhost:8080/"
        },
        "id": "XjIaR2HgW5t0",
        "outputId": "d66589f3-08e6-40a5-8f7e-50cac348559e"
      },
      "execution_count": null,
      "outputs": [
        {
          "output_type": "execute_result",
          "data": {
            "text/plain": [
              "[19, 15, 6]"
            ]
          },
          "metadata": {},
          "execution_count": 39
        }
      ]
    },
    {
      "cell_type": "markdown",
      "source": [
        "## 공원 산책"
      ],
      "metadata": {
        "id": "P5Un4T4QZOmt"
      }
    },
    {
      "cell_type": "code",
      "source": [
        "park2 = [\"SOO\",\"OXX\",\"OOO\"]\n",
        "routes2 = [\"E 2\",\"S 2\",\"W 1\"]"
      ],
      "metadata": {
        "id": "MVJ4XCMdZTNk"
      },
      "execution_count": null,
      "outputs": []
    },
    {
      "cell_type": "code",
      "source": [
        "park3 = [\"OSO\",\"OOO\",\"OXO\",\"OOO\"]\n",
        "routes3 = [\"E 2\",\"S 3\",\"W 1\"]"
      ],
      "metadata": {
        "id": "dBKyc0Kif2_X"
      },
      "execution_count": null,
      "outputs": []
    },
    {
      "cell_type": "code",
      "source": [
        "def solution(park, routes):\n",
        "    for i in range(len(park)):\n",
        "      if park[i].count('S'):\n",
        "        row, col = i, park[i].index('S')\n",
        "        break\n",
        "\n",
        "    for command in routes:\n",
        "      data = command.split()\n",
        "      direction, move = data[0], int(data[1])\n",
        "      if direction == 'E':\n",
        "        col += min(2, park3[row][col:].count('O')) - park[row].count('X')\n",
        "      elif direction == 'S':\n",
        "        count = 0\n",
        "        for i in range(row + 1, move):\n",
        "          if park[i][col] == 'X':\n",
        "            break\n",
        "          count += 1\n",
        "        row = count\n",
        "      elif direction == 'W':\n",
        "        col -= min(2, park3[row][col:].count('O')) - park[row].count('X')\n",
        "      elif direction == 'N':\n",
        "        count = 0\n",
        "        for i in range(move, row, -1):\n",
        "          if park[i][col] == 'X':\n",
        "            break\n",
        "          row -= 1\n",
        "        row = count\n",
        "    return [row, col]"
      ],
      "metadata": {
        "id": "JRlnDKdzXVUE"
      },
      "execution_count": null,
      "outputs": []
    },
    {
      "cell_type": "code",
      "source": [
        "def solution(park, routes):\n",
        "    w, h = len(park[0]), len(park)\n",
        "    d = {'N': (-1, 0), 'S': (1, 0), 'W': (0, -1), 'E': (0, 1)}\n",
        "\n",
        "    for i in range(h):\n",
        "      if park[i].count('S'):\n",
        "        x, y = i, park[i].index('S')\n",
        "        break\n",
        "\n",
        "    for command in routes:\n",
        "      command, move = command.split()\n",
        "      dx, dy = x, y\n",
        "      for i in range(int(move)):\n",
        "        nx, ny = x + d[command][0], y + d[command][1]\n",
        "\n",
        "        if 0 <= nx <= h - 1 and 0 <= ny <= w - 1 and park[nx][ny] != 'X':\n",
        "          x, y = nx, ny\n",
        "        else:\n",
        "          x, y = dx, dy\n",
        "          break\n",
        "\n",
        "    return [x, y]"
      ],
      "metadata": {
        "id": "owLCjTaclwfG"
      },
      "execution_count": null,
      "outputs": []
    },
    {
      "cell_type": "code",
      "source": [
        "solution(park3, routes3)"
      ],
      "metadata": {
        "colab": {
          "base_uri": "https://localhost:8080/"
        },
        "id": "Od475tEfZ8Zn",
        "outputId": "6be51281-3d0f-4327-a0bd-9fae34c6e60a"
      },
      "execution_count": null,
      "outputs": [
        {
          "output_type": "execute_result",
          "data": {
            "text/plain": [
              "[0, 0]"
            ]
          },
          "metadata": {},
          "execution_count": 100
        }
      ]
    },
    {
      "cell_type": "code",
      "source": [
        "min(2, park3[0][1:].count('O'))\n"
      ],
      "metadata": {
        "colab": {
          "base_uri": "https://localhost:8080/",
          "height": 35
        },
        "id": "P_21k3HoZ-DU",
        "outputId": "f0884f6f-e000-428a-9781-3c841b8309d7"
      },
      "execution_count": null,
      "outputs": [
        {
          "output_type": "execute_result",
          "data": {
            "text/plain": [
              "'SO'"
            ],
            "application/vnd.google.colaboratory.intrinsic+json": {
              "type": "string"
            }
          },
          "metadata": {},
          "execution_count": 75
        }
      ]
    },
    {
      "cell_type": "code",
      "source": [
        "park3[0][1:].count('O')"
      ],
      "metadata": {
        "colab": {
          "base_uri": "https://localhost:8080/"
        },
        "id": "6OJzgzchaSlC",
        "outputId": "5afbc396-98c4-4e99-e13b-385060ff5d73"
      },
      "execution_count": null,
      "outputs": [
        {
          "output_type": "execute_result",
          "data": {
            "text/plain": [
              "1"
            ]
          },
          "metadata": {},
          "execution_count": 76
        }
      ]
    },
    {
      "cell_type": "code",
      "source": [
        "for i in range(0, 3):\n",
        "  row = 0\n",
        "  if park3[i][2] == 'X':\n",
        "    break\n",
        "  row += 1\n",
        "\n",
        "print(row)"
      ],
      "metadata": {
        "colab": {
          "base_uri": "https://localhost:8080/"
        },
        "id": "-IGqXc9nhZu1",
        "outputId": "8201dfb2-ef8e-4d6c-906f-bee2fdbe8225"
      },
      "execution_count": null,
      "outputs": [
        {
          "output_type": "stream",
          "name": "stdout",
          "text": [
            "1\n"
          ]
        }
      ]
    },
    {
      "cell_type": "markdown",
      "source": [
        "## 바탕화면 정리"
      ],
      "metadata": {
        "id": "5q2lPRWCpFVc"
      }
    },
    {
      "cell_type": "code",
      "source": [
        "wallpaper = [\".##...##.\", \"#..#.#..#\", \"#...#...#\", \".#.....#.\", \"..#...#..\", \"...#.#...\", \"....#....\"]\n",
        "\n",
        "def solution(wallpaper):\n",
        "    x, y = list(), list()\n",
        "    for i in range(len(wallpaper)):\n",
        "        for j in range(len(wallpaper[0])):\n",
        "            if wallpaper[i][j] == \"#\":\n",
        "                x.append(i)\n",
        "                y.append(j)\n",
        "    return [min(x), min(y), max(x) + 1, max(y) + 1]"
      ],
      "metadata": {
        "id": "x-GqAJjxjFjV"
      },
      "execution_count": null,
      "outputs": []
    },
    {
      "cell_type": "code",
      "source": [
        "def solution(wallpaper):\n",
        "    result = [(i, j)  for i in range(len(wallpaper)) for j in range(len(wallpaper[0])) if wallpaper[i][j] == \"#\"]\n",
        "    x = sorted(result, key = lambda x: x[0])\n",
        "    y = sorted(result, key = lambda x: x[1])\n",
        "    return [x[0][0], y[0][1], x[-1][0] + 1, y[-1][1] + 1]"
      ],
      "metadata": {
        "id": "KJIz3lpdyTz_"
      },
      "execution_count": null,
      "outputs": []
    },
    {
      "cell_type": "code",
      "source": [
        "solution(wallpaper)"
      ],
      "metadata": {
        "colab": {
          "base_uri": "https://localhost:8080/"
        },
        "id": "2CQnF1CHuJ-7",
        "outputId": "5fdc095b-5d5a-4457-f08a-e6230fd1906c"
      },
      "execution_count": null,
      "outputs": [
        {
          "output_type": "stream",
          "name": "stdout",
          "text": [
            "[(0, 1), (0, 2), (0, 6), (0, 7), (1, 0), (1, 3), (1, 5), (1, 8), (2, 0), (2, 4), (2, 8), (3, 1), (3, 7), (4, 2), (4, 6), (5, 3), (5, 5), (6, 4)]\n",
            "[(1, 0), (2, 0), (0, 1), (3, 1), (0, 2), (4, 2), (1, 3), (5, 3), (2, 4), (6, 4), (1, 5), (5, 5), (0, 6), (4, 6), (0, 7), (3, 7), (1, 8), (2, 8)]\n"
          ]
        },
        {
          "output_type": "execute_result",
          "data": {
            "text/plain": [
              "[0, 0, 7, 9]"
            ]
          },
          "metadata": {},
          "execution_count": 117
        }
      ]
    },
    {
      "cell_type": "markdown",
      "source": [
        "## 덧칠하기"
      ],
      "metadata": {
        "id": "KHm7-lu21owa"
      }
    },
    {
      "cell_type": "code",
      "source": [
        "n, m = 8, 4\n",
        "section = [2, 3, 6]"
      ],
      "metadata": {
        "id": "kd85Egdp1uDy"
      },
      "execution_count": null,
      "outputs": []
    },
    {
      "cell_type": "code",
      "source": [
        "n2, m2 = 5, 4\n",
        "section2 = [1, 3]"
      ],
      "metadata": {
        "id": "wMe6zPv84dSB"
      },
      "execution_count": null,
      "outputs": []
    },
    {
      "cell_type": "code",
      "source": [
        "n3, m3 = 4, 1\n",
        "section3 = [1, 2, 3, 4]"
      ],
      "metadata": {
        "id": "WwjTIdJC4hHZ"
      },
      "execution_count": null,
      "outputs": []
    },
    {
      "cell_type": "code",
      "source": [
        "n4, m4 = 5, 2\n",
        "section4 = [1, 2, 5]"
      ],
      "metadata": {
        "id": "C0LOZFnB7Cri"
      },
      "execution_count": null,
      "outputs": []
    },
    {
      "cell_type": "code",
      "source": [
        "def solution(n, m, section):\n",
        "    wall = [1 if not i in section else 0 for i in range(n + 1)]\n",
        "    count = 0\n",
        "    while wall.count(0):\n",
        "      for i in range(section[count], section[count] + m):\n",
        "        wall[i] = 1\n",
        "      count += 1\n",
        "    return count"
      ],
      "metadata": {
        "id": "ngbPCO8AuPb1"
      },
      "execution_count": null,
      "outputs": []
    },
    {
      "cell_type": "code",
      "source": [
        "def solution(n, m, section):\n",
        "    count = paint = 0\n",
        "    for i in section:\n",
        "      if i >= paint:\n",
        "        paint = i + m\n",
        "        count += 1\n",
        "    return count"
      ],
      "metadata": {
        "id": "Z_GdvQhP9Cgr"
      },
      "execution_count": null,
      "outputs": []
    },
    {
      "cell_type": "code",
      "source": [
        "solution(n, m, section)"
      ],
      "metadata": {
        "colab": {
          "base_uri": "https://localhost:8080/"
        },
        "id": "P_dKhAoU3-6H",
        "outputId": "486745b8-6b53-4ac0-9298-7e52c5a3ac2e"
      },
      "execution_count": null,
      "outputs": [
        {
          "output_type": "execute_result",
          "data": {
            "text/plain": [
              "2"
            ]
          },
          "metadata": {},
          "execution_count": 6
        }
      ]
    },
    {
      "cell_type": "code",
      "source": [
        "solution(n2, m2, section2)"
      ],
      "metadata": {
        "colab": {
          "base_uri": "https://localhost:8080/"
        },
        "id": "qedV8NTZ4omU",
        "outputId": "71f0bed8-7274-4e40-c3a8-a0935ae9f4b6"
      },
      "execution_count": null,
      "outputs": [
        {
          "output_type": "execute_result",
          "data": {
            "text/plain": [
              "1"
            ]
          },
          "metadata": {},
          "execution_count": 7
        }
      ]
    },
    {
      "cell_type": "code",
      "source": [
        "solution(n3, m3, section3)"
      ],
      "metadata": {
        "colab": {
          "base_uri": "https://localhost:8080/"
        },
        "id": "O30y0eKU4qdZ",
        "outputId": "559f3aca-99e3-4128-ef8b-8eb150951c9e"
      },
      "execution_count": null,
      "outputs": [
        {
          "output_type": "execute_result",
          "data": {
            "text/plain": [
              "4"
            ]
          },
          "metadata": {},
          "execution_count": 8
        }
      ]
    },
    {
      "cell_type": "code",
      "source": [
        "solution(n4, m4, section4)"
      ],
      "metadata": {
        "colab": {
          "base_uri": "https://localhost:8080/"
        },
        "id": "kzehExUY7Gp-",
        "outputId": "ae9a6804-08f5-4bfc-873f-7ae3135e464b"
      },
      "execution_count": null,
      "outputs": [
        {
          "output_type": "execute_result",
          "data": {
            "text/plain": [
              "2"
            ]
          },
          "metadata": {},
          "execution_count": 9
        }
      ]
    },
    {
      "cell_type": "markdown",
      "source": [
        "## 대충 만든 자판"
      ],
      "metadata": {
        "id": "AMu5dnNdyOrB"
      }
    },
    {
      "cell_type": "code",
      "source": [
        "keymap = [\"ABACD\", \"BCEFD\"]\n",
        "targets = [\"ABCD\",\"AABB\"]"
      ],
      "metadata": {
        "id": "gqBY9ZsUyQZo"
      },
      "execution_count": null,
      "outputs": []
    },
    {
      "cell_type": "code",
      "source": [
        "keymap2 = [\"AA\"]\n",
        "targets2 = [\"B\"]"
      ],
      "metadata": {
        "id": "6q_pKfK22VJO"
      },
      "execution_count": null,
      "outputs": []
    },
    {
      "cell_type": "code",
      "source": [
        "keymap3 = [\"AGZ\", \"BSSS\"]\n",
        "targets3 = [\"ASA\", \"BGZ\"]"
      ],
      "metadata": {
        "id": "BTXtYWR13ijW"
      },
      "execution_count": null,
      "outputs": []
    },
    {
      "cell_type": "code",
      "source": [
        "keymap4 = [\"A\", \"AB\", \"B\"]\n",
        "targets4 = [\"B\"]"
      ],
      "metadata": {
        "id": "PCBxi3XK32gx"
      },
      "execution_count": null,
      "outputs": []
    },
    {
      "cell_type": "code",
      "source": [
        "keymap5 = [\"BC\"]\n",
        "targets5 = [\"AC\", \"BC\"]"
      ],
      "metadata": {
        "id": "Pl_jIJXs4eQJ"
      },
      "execution_count": null,
      "outputs": []
    },
    {
      "cell_type": "markdown",
      "source": [],
      "metadata": {
        "id": "RFjoQpP6CUzM"
      }
    },
    {
      "cell_type": "code",
      "source": [
        "def solution(keymap, targets):\n",
        "    answer = []\n",
        "    for target in targets:\n",
        "      count = 0\n",
        "      for x in target:\n",
        "        press = []\n",
        "        for key  in keymap:\n",
        "          if x not in key:\n",
        "            count = -1\n",
        "            break\n",
        "          else:\n",
        "            press.append(key.index(x) + 1)\n",
        "        count += min(press) if press else -1\n",
        "      answer.append(count)\n",
        "    return answer"
      ],
      "metadata": {
        "id": "kkpFY9_s6CfS"
      },
      "execution_count": null,
      "outputs": []
    },
    {
      "cell_type": "markdown",
      "source": [
        "- keymap5에서 맞지않는 target의 알파벳이 있다면 -1을 반환해야하지만 그냥 넘어감\n",
        "  - 키맵으로 딕셔너리를 만드는게 빠름"
      ],
      "metadata": {
        "id": "lRdqB3Q7CW2P"
      }
    },
    {
      "cell_type": "markdown",
      "source": [
        "### 다른사람의 코드: https://ryong9rrr.github.io/pgm-Lv1-%EB%8C%80%EC%B6%A9-%EB%A7%8C%EB%93%A0-%EC%9E%90%ED%8C%90/"
      ],
      "metadata": {
        "id": "J6Ssk1NyC2kR"
      }
    },
    {
      "cell_type": "code",
      "source": [
        "def solution(keymap, targets):\n",
        "    keytable = {}\n",
        "    for keys in keymap:\n",
        "        for i, key in enumerate(keys):\n",
        "          keytable[key] = i + 1 if key not in keytable else min(keytable[key], i + 1)\n",
        "\n",
        "    result = []\n",
        "    for target in targets:\n",
        "        clicked = 0\n",
        "        for key in target:\n",
        "            if key not in keytable:\n",
        "                clicked = -1\n",
        "                break\n",
        "            clicked += keytable[key]\n",
        "        result.append(clicked)\n",
        "\n",
        "    return result"
      ],
      "metadata": {
        "id": "OLYhsMM2_4Fz"
      },
      "execution_count": null,
      "outputs": []
    },
    {
      "cell_type": "code",
      "source": [
        "solution(keymap5, targets5)"
      ],
      "metadata": {
        "colab": {
          "base_uri": "https://localhost:8080/"
        },
        "id": "sk7qibRN0sDv",
        "outputId": "c76a5c64-68fa-4648-e5b3-62adf9a374d8"
      },
      "execution_count": null,
      "outputs": [
        {
          "output_type": "execute_result",
          "data": {
            "text/plain": [
              "[-1, 3]"
            ]
          },
          "metadata": {},
          "execution_count": 70
        }
      ]
    },
    {
      "cell_type": "markdown",
      "source": [
        "## 카드 뭉치"
      ],
      "metadata": {
        "id": "efhjKWFsEb4w"
      }
    },
    {
      "cell_type": "code",
      "source": [
        "cards1_1 = [\"i\", \"drink\", \"water\"]\n",
        "cards2_1 = [\"want\", \"to\"]\n",
        "goal1 = [\"i\", \"want\", \"to\", \"drink\", \"water\"]"
      ],
      "metadata": {
        "id": "WG4RkxFu0tjA"
      },
      "execution_count": null,
      "outputs": []
    },
    {
      "cell_type": "code",
      "source": [
        "cards1_2 = [\"i\", \"water\", \"drink\"]\n",
        "cards2_2 = [\"want\", \"to\"]\n",
        "goal2 = [\"i\", \"want\", \"to\", \"drink\", \"water\"]"
      ],
      "metadata": {
        "id": "lZ1x-UKUGC6q"
      },
      "execution_count": null,
      "outputs": []
    },
    {
      "cell_type": "code",
      "source": [
        "cards1_3 = [\"a\", \"b\", \"c\", \"d\", \"e\", \"f\", \"g\", \"h\", \"i\", \"j\"]\n",
        "cards2_3 = [\"string\", \"or\", \"integer\"]\n",
        "goal3 = [\"string\", \"a\", \"b\", \"c\", \"d\", \"e\", \"f\", \"g\", \"h\", \"i\", \"j\"]"
      ],
      "metadata": {
        "id": "42sjK5dQHMo1"
      },
      "execution_count": null,
      "outputs": []
    },
    {
      "cell_type": "code",
      "source": [
        "def solution(card1, card2, goal):\n",
        "    answer = 'No'\n",
        "    goal = ''.join(goal)\n",
        "    for j in range(len(card2), 0, -1):\n",
        "      for i in range(len(card1) + 1):\n",
        "        string = ''.join(card1[:i]) + ''.join(card2[:j]) + ''.join(card1[i:])\n",
        "        print(string)\n",
        "        if goal in string:\n",
        "          answer = 'Yes'\n",
        "    return answer"
      ],
      "metadata": {
        "id": "iLCVGzx7D0ev"
      },
      "execution_count": null,
      "outputs": []
    },
    {
      "cell_type": "code",
      "source": [
        "def solution(card1, card2, goal):\n",
        "    answer = 'Yes'\n",
        "    cards = [card1, card2]\n",
        "    card_idx = [0, 0]\n",
        "    for x in goal:\n",
        "      for i, card in enumerate(cards):\n",
        "        if x in card:\n",
        "          if card.index(x) == card_idx[i]:\n",
        "            card_idx[i] += 1\n",
        "          else:\n",
        "            answer = 'No'\n",
        "            break\n",
        "\n",
        "    return answer"
      ],
      "metadata": {
        "id": "_YVUuiJdO4F7"
      },
      "execution_count": 133,
      "outputs": []
    },
    {
      "cell_type": "code",
      "source": [
        "solution(cards1_1, cards2_1, goal1)"
      ],
      "metadata": {
        "colab": {
          "base_uri": "https://localhost:8080/",
          "height": 35
        },
        "id": "5VbhTdDiF-cO",
        "outputId": "210e9916-736b-4d4d-a624-df3e184fc1d0"
      },
      "execution_count": 134,
      "outputs": [
        {
          "output_type": "execute_result",
          "data": {
            "text/plain": [
              "'Yes'"
            ],
            "application/vnd.google.colaboratory.intrinsic+json": {
              "type": "string"
            }
          },
          "metadata": {},
          "execution_count": 134
        }
      ]
    },
    {
      "cell_type": "code",
      "source": [
        "solution(cards1_2, cards2_2, goal2)"
      ],
      "metadata": {
        "colab": {
          "base_uri": "https://localhost:8080/",
          "height": 35
        },
        "id": "BLE_I_RuGSXt",
        "outputId": "4c0a8ee9-a68c-46b0-cae6-caca96d12792"
      },
      "execution_count": 135,
      "outputs": [
        {
          "output_type": "execute_result",
          "data": {
            "text/plain": [
              "'No'"
            ],
            "application/vnd.google.colaboratory.intrinsic+json": {
              "type": "string"
            }
          },
          "metadata": {},
          "execution_count": 135
        }
      ]
    },
    {
      "cell_type": "code",
      "source": [
        "solution(cards1_3, cards2_3, goal3)"
      ],
      "metadata": {
        "colab": {
          "base_uri": "https://localhost:8080/",
          "height": 35
        },
        "id": "dJSK0nLhHfRy",
        "outputId": "0f6f374b-e419-408e-e28b-70b6d1af4161"
      },
      "execution_count": 136,
      "outputs": [
        {
          "output_type": "execute_result",
          "data": {
            "text/plain": [
              "'Yes'"
            ],
            "application/vnd.google.colaboratory.intrinsic+json": {
              "type": "string"
            }
          },
          "metadata": {},
          "execution_count": 136
        }
      ]
    },
    {
      "cell_type": "markdown",
      "source": [
        "## 둘만의 암호"
      ],
      "metadata": {
        "id": "zreB0q-mUfw7"
      }
    },
    {
      "cell_type": "code",
      "source": [
        "s = \"aukks\"\n",
        "skip = \"wbqd\"\n",
        "index = 5\n",
        "result = \"happy\""
      ],
      "metadata": {
        "id": "JGJtWpTNUi1a"
      },
      "execution_count": 18,
      "outputs": []
    },
    {
      "cell_type": "code",
      "source": [
        "set('bcdef') - set('wbqd')"
      ],
      "metadata": {
        "id": "hi2uQtkfHhio",
        "colab": {
          "base_uri": "https://localhost:8080/"
        },
        "outputId": "5d0e6cc6-1a42-47ed-8d4e-47ae704be6e0"
      },
      "execution_count": 19,
      "outputs": [
        {
          "output_type": "execute_result",
          "data": {
            "text/plain": [
              "{'c', 'e', 'f'}"
            ]
          },
          "metadata": {},
          "execution_count": 19
        }
      ]
    },
    {
      "cell_type": "code",
      "source": [
        "alphabet = set('abcdefghijklmnopqrstuvwxyz') - set(skip)"
      ],
      "metadata": {
        "id": "3xlOkMccULbG"
      },
      "execution_count": 20,
      "outputs": []
    },
    {
      "cell_type": "code",
      "source": [
        "print(sorted(alphabet))"
      ],
      "metadata": {
        "colab": {
          "base_uri": "https://localhost:8080/"
        },
        "id": "ZdNwb8-Named",
        "outputId": "30207a9a-3ccf-4480-a519-156e43c66748"
      },
      "execution_count": 21,
      "outputs": [
        {
          "output_type": "stream",
          "name": "stdout",
          "text": [
            "['a', 'c', 'e', 'f', 'g', 'h', 'i', 'j', 'k', 'l', 'm', 'n', 'o', 'p', 'r', 's', 't', 'u', 'v', 'x', 'y', 'z']\n"
          ]
        }
      ]
    },
    {
      "cell_type": "code",
      "source": [
        "def solution(s, skip, index):\n",
        "    word = sorted(set('abcdefghijklmnopqrstuvwxyz') - set(skip))\n",
        "    return ''.join([word[(word.index(i) + index) % len(word)] for i in s])"
      ],
      "metadata": {
        "id": "lql18pe7WGrf"
      },
      "execution_count": 24,
      "outputs": []
    },
    {
      "cell_type": "code",
      "source": [
        "print(solution(s, skip, index))"
      ],
      "metadata": {
        "colab": {
          "base_uri": "https://localhost:8080/"
        },
        "id": "a2dK_fXNb3Em",
        "outputId": "d111e013-6c22-40c2-df7e-74b7ffb492df"
      },
      "execution_count": 25,
      "outputs": [
        {
          "output_type": "stream",
          "name": "stdout",
          "text": [
            "happy\n"
          ]
        }
      ]
    },
    {
      "cell_type": "markdown",
      "source": [
        "## 개인정보 수집 유효기간"
      ],
      "metadata": {
        "id": "T5Di0O-4d2rP"
      }
    },
    {
      "cell_type": "code",
      "source": [
        "today = \"2022.05.19\"\n",
        "terms = [\"A 6\", \"B 12\", \"C 3\"]\n",
        "privacies = [\"2021.05.02 A\", \"2021.07.01 B\", \"2022.02.19 C\", \"2022.02.20 C\"]"
      ],
      "metadata": {
        "id": "ODXdI4Uib5Yq"
      },
      "execution_count": 111,
      "outputs": []
    },
    {
      "cell_type": "code",
      "source": [
        "from datetime import date, timedelta\n",
        "from dateutil.relativedelta import relativedelta\n",
        "year, month, day = map(int, today.split('.'))\n",
        "today_ = date(year, month, day)\n",
        "privacy = date(*map(int, privacies[3].split()[0].split('.')))\n",
        "limit = privacy + timedelta(days = 28 * 3)\n",
        "print((today_ - privacy).days)\n",
        "print(timedelta(days = 28 * 3))\n",
        "print(limit)"
      ],
      "metadata": {
        "colab": {
          "base_uri": "https://localhost:8080/"
        },
        "id": "LL0xoVlpeG-0",
        "outputId": "d0135c91-7d6e-43ee-d60f-a147f39678c7"
      },
      "execution_count": 118,
      "outputs": [
        {
          "output_type": "stream",
          "name": "stdout",
          "text": [
            "88\n",
            "84 days, 0:00:00\n",
            "2022-05-15\n"
          ]
        }
      ]
    },
    {
      "cell_type": "code",
      "source": [
        "def solution(today, terms, privacies):\n",
        "    from datetime import date\n",
        "    today = date(*map(int, today.split('.')))\n",
        "    termDict = dict()\n",
        "    answer = list()\n",
        "\n",
        "    for term in terms :\n",
        "        name, period = term.split()\n",
        "        termDict[name] = int(period) * 28\n",
        "\n",
        "    for i, privacy in enumerate(privacies):\n",
        "        start, name = privacy.split()\n",
        "        end = termDict[name]\n",
        "        if end <= (today - date(*map(int, start.split('.')))).days:\n",
        "            answer.append(i + 1)\n",
        "\n",
        "    return answer"
      ],
      "metadata": {
        "id": "GrYFZ1r1uUr9"
      },
      "execution_count": 116,
      "outputs": []
    },
    {
      "cell_type": "code",
      "source": [
        "solution(today, terms, privacies)"
      ],
      "metadata": {
        "colab": {
          "base_uri": "https://localhost:8080/"
        },
        "id": "GBT-_N_LwomM",
        "outputId": "0d23759f-74c1-443e-db6c-88af395395b9"
      },
      "execution_count": 117,
      "outputs": [
        {
          "output_type": "execute_result",
          "data": {
            "text/plain": [
              "[1, 3, 4]"
            ]
          },
          "metadata": {},
          "execution_count": 117
        }
      ]
    },
    {
      "cell_type": "markdown",
      "source": [
        "### 다른 사람이 작성한 코드: https://magentino.tistory.com/61"
      ],
      "metadata": {
        "id": "G042mz6Wt97P"
      }
    },
    {
      "cell_type": "markdown",
      "source": [
        "- datetime 모듈을 사용하지않고 timestamp형식으로 작성\n",
        "  - 한 달을 28일 기준으로 daystamp 함수 작성"
      ],
      "metadata": {
        "id": "DUfosOFWuDfq"
      }
    },
    {
      "cell_type": "code",
      "source": [
        "def dayStamp(t) :\n",
        "    year, month, day = map(int, t.split('.'))\n",
        "    return year * 12 * 28 + month * 28 + day\n",
        "\n",
        "def solution(today, terms, privacies):\n",
        "    today = dayStamp(today)\n",
        "    termDict = dict()\n",
        "    answer = list()\n",
        "\n",
        "    for term in terms :\n",
        "        name, period = term.split()\n",
        "        termDict[name] = int(period) * 28\n",
        "\n",
        "    for i, privacy in enumerate(privacies):\n",
        "        start, name = privacy.split()\n",
        "        end = dayStamp(start) + termDict[name]\n",
        "        if end <= today:\n",
        "            answer.append(i + 1)\n",
        "\n",
        "    return answer"
      ],
      "metadata": {
        "id": "An8j2xTfpnoT"
      },
      "execution_count": 119,
      "outputs": []
    },
    {
      "cell_type": "code",
      "source": [
        "solution(today, terms, privacies)"
      ],
      "metadata": {
        "colab": {
          "base_uri": "https://localhost:8080/"
        },
        "id": "vw9aj9SWeaSh",
        "outputId": "a32c7adf-da0b-4ebb-a034-338e6bacc41f"
      },
      "execution_count": 120,
      "outputs": [
        {
          "output_type": "execute_result",
          "data": {
            "text/plain": [
              "[1, 3]"
            ]
          },
          "metadata": {},
          "execution_count": 120
        }
      ]
    },
    {
      "cell_type": "markdown",
      "source": [
        "## 크기가 작은 부분문자열"
      ],
      "metadata": {
        "id": "rtOW4G1kDA3I"
      }
    },
    {
      "cell_type": "code",
      "source": [
        "t1, p1 = \"3141592\", \"271\"\n",
        "t2, p2 = \"500220839878\", \"7\"\n",
        "t3, p3 = \"10203\", \"15\""
      ],
      "metadata": {
        "id": "tteZgnm8DEC3"
      },
      "execution_count": 121,
      "outputs": []
    },
    {
      "cell_type": "code",
      "source": [
        "def solution(t, p):\n",
        "    return len([int(t[i:i + len(p)]) for i in range(len(t) - len(p) + 1) if int(t[i:i + len(p)]) <= int(p)])"
      ],
      "metadata": {
        "id": "Z4iyQDHBszCr"
      },
      "execution_count": 126,
      "outputs": []
    },
    {
      "cell_type": "code",
      "source": [
        "solution(t1, p1)"
      ],
      "metadata": {
        "colab": {
          "base_uri": "https://localhost:8080/"
        },
        "id": "DKYeEL44EPzp",
        "outputId": "49862fb1-7644-4a44-9a53-500b4e0d6fc6"
      },
      "execution_count": 127,
      "outputs": [
        {
          "output_type": "execute_result",
          "data": {
            "text/plain": [
              "2"
            ]
          },
          "metadata": {},
          "execution_count": 127
        }
      ]
    },
    {
      "cell_type": "code",
      "source": [
        "solution(t2, p2)"
      ],
      "metadata": {
        "colab": {
          "base_uri": "https://localhost:8080/"
        },
        "id": "ePS2Z__pERv7",
        "outputId": "310bf34d-993d-4739-a2cb-a2ef4a4c3acb"
      },
      "execution_count": 128,
      "outputs": [
        {
          "output_type": "execute_result",
          "data": {
            "text/plain": [
              "8"
            ]
          },
          "metadata": {},
          "execution_count": 128
        }
      ]
    },
    {
      "cell_type": "code",
      "source": [
        "solution(t3, p3)"
      ],
      "metadata": {
        "colab": {
          "base_uri": "https://localhost:8080/"
        },
        "id": "5hGv9sejET7G",
        "outputId": "41dee797-f607-485e-c425-b19bd5299051"
      },
      "execution_count": 129,
      "outputs": [
        {
          "output_type": "execute_result",
          "data": {
            "text/plain": [
              "3"
            ]
          },
          "metadata": {},
          "execution_count": 129
        }
      ]
    },
    {
      "cell_type": "markdown",
      "source": [
        "## 가장 가까운 같은 글자"
      ],
      "metadata": {
        "id": "zSO0CHQWFE_U"
      }
    },
    {
      "cell_type": "code",
      "source": [
        "s1 = \"banana\"\n",
        "s2 = \"foobar\""
      ],
      "metadata": {
        "id": "F-fGDtuqFF_m"
      },
      "execution_count": 138,
      "outputs": []
    },
    {
      "cell_type": "code",
      "source": [
        "def solution(s):\n",
        "    s_dict = {}\n",
        "    for i, string in enumerate(s):\n",
        "      if string not in s_dict.keys():\n",
        "        s_dict[string] = list()\n",
        "      s_dict[string].append(i)\n",
        "\n",
        "    answer = [0] * len(s)\n",
        "    for s_idx_list in s_dict.values():\n",
        "      idx = s_idx_list.pop(0)\n",
        "      answer[idx] = -1\n",
        "      if s_idx_list:\n",
        "        for i in s_idx_list:\n",
        "          answer[i] = i - idx\n",
        "          idx = i\n",
        "    return answer"
      ],
      "metadata": {
        "id": "aHB8tVaDFmJ2"
      },
      "execution_count": 156,
      "outputs": []
    },
    {
      "cell_type": "code",
      "source": [
        "solution(s1)"
      ],
      "metadata": {
        "colab": {
          "base_uri": "https://localhost:8080/"
        },
        "id": "Gqf9v8Z5IWj9",
        "outputId": "1e486ccf-cdff-411e-9d7c-32a2b0a08c66"
      },
      "execution_count": 157,
      "outputs": [
        {
          "output_type": "execute_result",
          "data": {
            "text/plain": [
              "[-1, -1, -1, 2, 2, 2]"
            ]
          },
          "metadata": {},
          "execution_count": 157
        }
      ]
    },
    {
      "cell_type": "code",
      "source": [
        "solution(s2)"
      ],
      "metadata": {
        "colab": {
          "base_uri": "https://localhost:8080/"
        },
        "id": "dmRbE3BMIYsh",
        "outputId": "50a22e16-8c28-4770-bac2-aadcc44c2f73"
      },
      "execution_count": 158,
      "outputs": [
        {
          "output_type": "execute_result",
          "data": {
            "text/plain": [
              "[-1, -1, 1, -1, -1, -1]"
            ]
          },
          "metadata": {},
          "execution_count": 158
        }
      ]
    },
    {
      "cell_type": "markdown",
      "source": [
        "## 문자열 나누기"
      ],
      "metadata": {
        "id": "vDlqEYl6RUjw"
      }
    },
    {
      "cell_type": "code",
      "source": [
        "s1 = \"banana\"\n",
        "s2 = \"abracadabra\"\n",
        "s3 = \"aaabbaccccabba\""
      ],
      "metadata": {
        "id": "VAjGUwe-RWBc"
      },
      "execution_count": 4,
      "outputs": []
    },
    {
      "cell_type": "code",
      "source": [
        "def solution(s):\n",
        "    answer, counter = 0, [0, 0]\n",
        "    for i in s:\n",
        "      if counter.count(max(counter)) == 2:\n",
        "        answer += 1\n",
        "        x = i\n",
        "      id = 0 if i == x else 1\n",
        "      counter[id] += 1\n",
        "\n",
        "    return answer"
      ],
      "metadata": {
        "id": "IwUbcTzSS7Cu"
      },
      "execution_count": 35,
      "outputs": []
    },
    {
      "cell_type": "code",
      "source": [
        "solution(s3)"
      ],
      "metadata": {
        "colab": {
          "base_uri": "https://localhost:8080/"
        },
        "id": "BaC3N5SOTa0s",
        "outputId": "d68f9950-6cd9-4efd-e9c2-b1a83fa7bf4c"
      },
      "execution_count": 38,
      "outputs": [
        {
          "output_type": "execute_result",
          "data": {
            "text/plain": [
              "3"
            ]
          },
          "metadata": {},
          "execution_count": 38
        }
      ]
    },
    {
      "cell_type": "markdown",
      "source": [
        "## 명예의 전당 (1)"
      ],
      "metadata": {
        "id": "l2nhxZzDgo9C"
      }
    },
    {
      "cell_type": "code",
      "source": [
        "k1 = 4\n",
        "score1 = [0, 300, 40, 300, 20, 70, 150, 50, 500, 1000]"
      ],
      "metadata": {
        "id": "w_oUJeGQg2_D"
      },
      "execution_count": 53,
      "outputs": []
    },
    {
      "cell_type": "code",
      "source": [
        "k2 = 3\n",
        "score2 = [10, 100, 20, 150, 1, 100, 200]"
      ],
      "metadata": {
        "id": "0IYuyo8_iIWl"
      },
      "execution_count": 54,
      "outputs": []
    },
    {
      "cell_type": "code",
      "source": [
        "def solution(k, score):\n",
        "    result = []\n",
        "    answer = []\n",
        "    for i in score:\n",
        "      result.append(i)\n",
        "      result.sort(reverse=True)\n",
        "      answer.append(result[:k][-1])\n",
        "    return answer"
      ],
      "metadata": {
        "id": "AM34UsH8X6n3"
      },
      "execution_count": 55,
      "outputs": []
    },
    {
      "cell_type": "code",
      "source": [
        "solution(k1, score1)"
      ],
      "metadata": {
        "colab": {
          "base_uri": "https://localhost:8080/"
        },
        "id": "vI_UsVDUh50N",
        "outputId": "dd2f9379-d5a3-4f67-db95-4ee47c13bec0"
      },
      "execution_count": 56,
      "outputs": [
        {
          "output_type": "execute_result",
          "data": {
            "text/plain": [
              "[0, 0, 0, 0, 20, 40, 70, 70, 150, 300]"
            ]
          },
          "metadata": {},
          "execution_count": 56
        }
      ]
    },
    {
      "cell_type": "code",
      "source": [
        "solution(k2, score2)"
      ],
      "metadata": {
        "colab": {
          "base_uri": "https://localhost:8080/"
        },
        "id": "5HR9j5ZYiGBL",
        "outputId": "d2f6e978-9cad-4a0e-937b-3ed1fa74b757"
      },
      "execution_count": 57,
      "outputs": [
        {
          "output_type": "execute_result",
          "data": {
            "text/plain": [
              "[10, 10, 10, 20, 20, 100, 100]"
            ]
          },
          "metadata": {},
          "execution_count": 57
        }
      ]
    },
    {
      "cell_type": "markdown",
      "source": [
        "## 기사단원의 무기"
      ],
      "metadata": {
        "id": "lJ4D5JKCp8wX"
      }
    },
    {
      "cell_type": "code",
      "source": [
        "import math\n",
        "\n",
        "# 소수 판별 함수(에라토스테네스의 체)\n",
        "def is_prime_number(n):\n",
        "    # 2부터 n까지의 모든 수에 대하여 소수 판별\n",
        "    array = [True for i in range(n+1)] # 처음엔 모든 수가 소수(True)인 것으로 초기화(0과 1은 제외)\n",
        "\n",
        "    # 에라토스테네스의 체\n",
        "    for i in range(2, int(math.sqrt(n)) + 1): #2부터 n의 제곱근까지의 모든 수를 확인하며\n",
        "        if array[i] == True: # i가 소수인 경우(남은 수인 경우)\n",
        "            # i를 제외한 i의 모든 배수를 지우기\n",
        "            j = 2\n",
        "            while i * j <= n:\n",
        "                array[i * j] = False\n",
        "                j += 1\n",
        "\n",
        "    return [ i for i in range(2, n+1) if array[i] ]\n",
        "\n",
        "# N이 1,000,000 이내로 주어지는 경우 활용할 것 => 이론상 400만번 정도 연산이고 메모리도 충분함\n"
      ],
      "metadata": {
        "id": "06CHYZqyn8H9"
      },
      "execution_count": 59,
      "outputs": []
    },
    {
      "cell_type": "code",
      "source": [
        "is_prime_number(10)"
      ],
      "metadata": {
        "colab": {
          "base_uri": "https://localhost:8080/"
        },
        "id": "LDEfuOOVn9H_",
        "outputId": "5f745fc6-c9a4-4275-caba-91c3633136eb"
      },
      "execution_count": 60,
      "outputs": [
        {
          "output_type": "execute_result",
          "data": {
            "text/plain": [
              "[2, 3, 5, 7]"
            ]
          },
          "metadata": {},
          "execution_count": 60
        }
      ]
    },
    {
      "cell_type": "code",
      "source": [
        "def is_prime(x):\n",
        "    for i in range(2, int(x**0.5 + 1)):\n",
        "    \tif x % i == 0:\n",
        "        \treturn False\n",
        "    return True\n",
        "\n",
        "def divisor(n):\n",
        "    data = []\n",
        "    for i in range(1, int(n**0.5 + 1)):\n",
        "        if n % i==0:\n",
        "            data.append(i)\n",
        "            data.append(n//i)\n",
        "    return len(set(data))\n",
        "\n",
        "def solution(number, limit, power):\n",
        "    array = [2 if is_prime(i) else divisor(i) for i in range(2, number + 1)]\n",
        "\n",
        "    return sum(power if i > limit else i for i in array) + 1"
      ],
      "metadata": {
        "id": "tTPmAYa9oAis"
      },
      "execution_count": 63,
      "outputs": []
    },
    {
      "cell_type": "code",
      "source": [
        "solution(5, 3, 2)"
      ],
      "metadata": {
        "colab": {
          "base_uri": "https://localhost:8080/"
        },
        "id": "SPwh_MHTp-2B",
        "outputId": "17fbdd63-35b7-405e-c7bd-4d29b282b5f0"
      },
      "execution_count": 64,
      "outputs": [
        {
          "output_type": "execute_result",
          "data": {
            "text/plain": [
              "10"
            ]
          },
          "metadata": {},
          "execution_count": 64
        }
      ]
    },
    {
      "cell_type": "code",
      "source": [
        "solution(10, 3, 2)"
      ],
      "metadata": {
        "colab": {
          "base_uri": "https://localhost:8080/"
        },
        "id": "K75u2M95qCc5",
        "outputId": "296e692f-98a1-4b46-e49e-472dbf30b9d2"
      },
      "execution_count": 65,
      "outputs": [
        {
          "output_type": "execute_result",
          "data": {
            "text/plain": [
              "21"
            ]
          },
          "metadata": {},
          "execution_count": 65
        }
      ]
    },
    {
      "cell_type": "markdown",
      "source": [
        "## 과일 장수"
      ],
      "metadata": {
        "id": "MRzcIAT2tcqc"
      }
    },
    {
      "cell_type": "code",
      "source": [
        "k1, m1, score1 = 3, 4, [1, 2, 3, 1, 2, 3, 1]"
      ],
      "metadata": {
        "id": "isL5_sQ8t_Vv"
      },
      "execution_count": 36,
      "outputs": []
    },
    {
      "cell_type": "code",
      "source": [
        "k2, m2, score2 = 4, 3, [4, 1, 2, 2, 4, 4, 4, 4, 1, 2, 4, 2]"
      ],
      "metadata": {
        "id": "9zzV8uW5uFF8"
      },
      "execution_count": 37,
      "outputs": []
    },
    {
      "cell_type": "code",
      "source": [
        "len(score2) // m2, len(score2) % m2"
      ],
      "metadata": {
        "colab": {
          "base_uri": "https://localhost:8080/"
        },
        "id": "GjYMPcOEqRiR",
        "outputId": "ca476d2c-1542-43d2-8c52-720cc4d4d24d"
      },
      "execution_count": 38,
      "outputs": [
        {
          "output_type": "execute_result",
          "data": {
            "text/plain": [
              "(4, 0)"
            ]
          },
          "metadata": {},
          "execution_count": 38
        }
      ]
    },
    {
      "cell_type": "code",
      "source": [
        "len(score1) // m1, len(score1) % m1"
      ],
      "metadata": {
        "colab": {
          "base_uri": "https://localhost:8080/"
        },
        "id": "w1ZhAdQwrwiV",
        "outputId": "af02b3bf-f1be-4575-d006-7280b1f78b22"
      },
      "execution_count": 4,
      "outputs": [
        {
          "output_type": "execute_result",
          "data": {
            "text/plain": [
              "(1, 3)"
            ]
          },
          "metadata": {},
          "execution_count": 4
        }
      ]
    },
    {
      "cell_type": "code",
      "source": [
        "def solution(k, m, score):\n",
        "    box, mod = divmod(len(score), m)\n",
        "    answer = 0\n",
        "    score.sort()\n",
        "    for _ in range(mod):\n",
        "      score.pop(0)\n",
        "    for _ in range(box):\n",
        "      value = [score.pop(0) for _ in range(m)]\n",
        "      answer += min(value) * m\n",
        "    return answer"
      ],
      "metadata": {
        "id": "jmmUAiOOr8VW"
      },
      "execution_count": 5,
      "outputs": []
    },
    {
      "cell_type": "code",
      "source": [
        "def solution(k, m, score):\n",
        "    box, mod = divmod(len(score), m)\n",
        "    answer = 0\n",
        "    score.sort()\n",
        "    score[:mod] = []\n",
        "    for i in range(0, len(score), m):\n",
        "      answer += min(score[i:i + m]) * m\n",
        "    return answer"
      ],
      "metadata": {
        "id": "smOWQhjr0W63"
      },
      "execution_count": 39,
      "outputs": []
    },
    {
      "cell_type": "code",
      "source": [
        "sorted(score2)[len(score2)%3::3]"
      ],
      "metadata": {
        "colab": {
          "base_uri": "https://localhost:8080/"
        },
        "id": "cFpZNVzN348-",
        "outputId": "273faa5f-4653-4fdb-9899-63e163cee608"
      },
      "execution_count": 46,
      "outputs": [
        {
          "output_type": "execute_result",
          "data": {
            "text/plain": [
              "[1, 2, 4, 4]"
            ]
          },
          "metadata": {},
          "execution_count": 46
        }
      ]
    },
    {
      "cell_type": "code",
      "source": [
        "def solution(k, m, score):\n",
        "    return sum(sorted(score)[len(score)%m::m])*m"
      ],
      "metadata": {
        "id": "Ys0Jcela3k4X"
      },
      "execution_count": 43,
      "outputs": []
    },
    {
      "cell_type": "code",
      "source": [
        "solution(k1, m1, score1)"
      ],
      "metadata": {
        "colab": {
          "base_uri": "https://localhost:8080/"
        },
        "id": "uNWdNfcsvBZp",
        "outputId": "3c1de5f7-e010-4104-f75d-fe45a533c2ea"
      },
      "execution_count": 44,
      "outputs": [
        {
          "output_type": "execute_result",
          "data": {
            "text/plain": [
              "8"
            ]
          },
          "metadata": {},
          "execution_count": 44
        }
      ]
    },
    {
      "cell_type": "code",
      "source": [
        "solution(k2, m2, score2)"
      ],
      "metadata": {
        "colab": {
          "base_uri": "https://localhost:8080/"
        },
        "id": "Y8eQsFt4vEPS",
        "outputId": "72cc3ef8-b411-443c-95ed-4c96d622321c"
      },
      "execution_count": 45,
      "outputs": [
        {
          "output_type": "execute_result",
          "data": {
            "text/plain": [
              "33"
            ]
          },
          "metadata": {},
          "execution_count": 45
        }
      ]
    },
    {
      "cell_type": "code",
      "source": [
        "solution(3, 4, [2, 2, 2])"
      ],
      "metadata": {
        "colab": {
          "base_uri": "https://localhost:8080/"
        },
        "id": "2R24r79EzA2o",
        "outputId": "b6304de2-5e04-487b-db1c-7daf97cd1dc0"
      },
      "execution_count": 42,
      "outputs": [
        {
          "output_type": "execute_result",
          "data": {
            "text/plain": [
              "0"
            ]
          },
          "metadata": {},
          "execution_count": 42
        }
      ]
    },
    {
      "cell_type": "markdown",
      "source": [
        "## 푸드 파이트 대회"
      ],
      "metadata": {
        "id": "LShNR8C15TI0"
      }
    },
    {
      "cell_type": "code",
      "source": [
        "def solution(food):\n",
        "    string = ''.join(str(i) * (food[i] // 2) for i in range(1, len(food)))\n",
        "    return string + '0' + string[::-1]"
      ],
      "metadata": {
        "id": "tp0v4dto5Uon"
      },
      "execution_count": 50,
      "outputs": []
    },
    {
      "cell_type": "code",
      "source": [
        "solution([1, 3, 4, 6])"
      ],
      "metadata": {
        "colab": {
          "base_uri": "https://localhost:8080/",
          "height": 35
        },
        "id": "gCbNBfPy6cC7",
        "outputId": "56bc938c-080d-4c04-fa57-74db7faef070"
      },
      "execution_count": 53,
      "outputs": [
        {
          "output_type": "execute_result",
          "data": {
            "text/plain": [
              "'1223330333221'"
            ],
            "application/vnd.google.colaboratory.intrinsic+json": {
              "type": "string"
            }
          },
          "metadata": {},
          "execution_count": 53
        }
      ]
    },
    {
      "cell_type": "code",
      "source": [
        "solution([1, 7, 1, 2])"
      ],
      "metadata": {
        "colab": {
          "base_uri": "https://localhost:8080/",
          "height": 35
        },
        "id": "LTYT-VJ96E1C",
        "outputId": "d8843a17-140a-4de4-c349-07c5d9ecac03"
      },
      "execution_count": 52,
      "outputs": [
        {
          "output_type": "execute_result",
          "data": {
            "text/plain": [
              "'111303111'"
            ],
            "application/vnd.google.colaboratory.intrinsic+json": {
              "type": "string"
            }
          },
          "metadata": {},
          "execution_count": 52
        }
      ]
    },
    {
      "cell_type": "markdown",
      "source": [
        "## 햄버거 만들기"
      ],
      "metadata": {
        "id": "TWz4MEny74l1"
      }
    },
    {
      "cell_type": "code",
      "source": [
        "def solution(ingredient):\n",
        "    ingredient = ''.join(str(i) for i in ingredient)\n",
        "    count = 0\n",
        "    while (ham:='1231') in ingredient:\n",
        "        ingredient = ingredient.replace(ham, '', 1)\n",
        "        count += 1\n",
        "    return count"
      ],
      "metadata": {
        "id": "1fkMjMetK-hV"
      },
      "execution_count": null,
      "outputs": []
    },
    {
      "cell_type": "code",
      "source": [
        "def solution(ingredient):\n",
        "    count = 0\n",
        "    string = ''\n",
        "    ham = '1231'\n",
        "    for i in ingredient:\n",
        "      string += str(i)\n",
        "      if ham in string:\n",
        "        string = string.replace(ham, '')\n",
        "        count += 1\n",
        "    return count"
      ],
      "metadata": {
        "id": "UzF0eWtS6NI2"
      },
      "execution_count": 132,
      "outputs": []
    },
    {
      "cell_type": "markdown",
      "source": [
        "- 시간 초과"
      ],
      "metadata": {
        "id": "57eTo_xlK_xg"
      }
    },
    {
      "cell_type": "code",
      "source": [
        "def solution(ingredient):\n",
        "    s = []\n",
        "    cnt = 0\n",
        "    for i in ingredient:\n",
        "        s.append(i)\n",
        "        if s[-4:] == [1, 2, 3, 1]:\n",
        "            cnt += 1\n",
        "            del s[-4:]\n",
        "    return cnt"
      ],
      "metadata": {
        "id": "w1rm2q9OGGs3"
      },
      "execution_count": 112,
      "outputs": []
    },
    {
      "cell_type": "code",
      "source": [
        "solution([1, 3, 2, 1, 2, 1, 3, 1, 2])"
      ],
      "metadata": {
        "colab": {
          "base_uri": "https://localhost:8080/"
        },
        "id": "AatBCyBj8HDN",
        "outputId": "d4646b51-ce29-4e58-dc1d-7f877346274a"
      },
      "execution_count": 133,
      "outputs": [
        {
          "output_type": "execute_result",
          "data": {
            "text/plain": [
              "0"
            ]
          },
          "metadata": {},
          "execution_count": 133
        }
      ]
    },
    {
      "cell_type": "code",
      "source": [
        "solution([2, 1, 1, 2, 3, 1, 2, 3, 1])"
      ],
      "metadata": {
        "colab": {
          "base_uri": "https://localhost:8080/"
        },
        "id": "Rqw1R0Xd9NyQ",
        "outputId": "4a0ad9d3-be3b-40df-9bc3-7070678406e4"
      },
      "execution_count": 134,
      "outputs": [
        {
          "output_type": "execute_result",
          "data": {
            "text/plain": [
              "2"
            ]
          },
          "metadata": {},
          "execution_count": 134
        }
      ]
    },
    {
      "cell_type": "code",
      "source": [
        "solution([1, 2, 3, 1, 2, 3, 1, 1])"
      ],
      "metadata": {
        "colab": {
          "base_uri": "https://localhost:8080/"
        },
        "id": "mKAOs3-V-FbF",
        "outputId": "7337f7ce-af6d-488a-a812-2a364d4c5cc7"
      },
      "execution_count": 135,
      "outputs": [
        {
          "output_type": "execute_result",
          "data": {
            "text/plain": [
              "1"
            ]
          },
          "metadata": {},
          "execution_count": 135
        }
      ]
    },
    {
      "cell_type": "code",
      "source": [
        "solution([2, 2, 2, 2, 2, 2, 1, 2, 1, 2, 3, 1, 3, 1])"
      ],
      "metadata": {
        "colab": {
          "base_uri": "https://localhost:8080/"
        },
        "id": "wMpG-9RW-krS",
        "outputId": "2b8ce16f-1fdf-472c-a3c1-ca4100fbbc7c"
      },
      "execution_count": 136,
      "outputs": [
        {
          "output_type": "execute_result",
          "data": {
            "text/plain": [
              "2"
            ]
          },
          "metadata": {},
          "execution_count": 136
        }
      ]
    },
    {
      "cell_type": "code",
      "source": [
        "solution([1,1,2,3,1,2,3,1,2,3,1,2,3,1])"
      ],
      "metadata": {
        "colab": {
          "base_uri": "https://localhost:8080/"
        },
        "id": "yyOwb-DgAfPT",
        "outputId": "fec944d9-df2f-45d2-f1d8-961ac64887fc"
      },
      "execution_count": 137,
      "outputs": [
        {
          "output_type": "execute_result",
          "data": {
            "text/plain": [
              "3"
            ]
          },
          "metadata": {},
          "execution_count": 137
        }
      ]
    },
    {
      "cell_type": "markdown",
      "source": [
        "## 옹알이 (2)"
      ],
      "metadata": {
        "id": "IvTgDX-bL0rE"
      }
    },
    {
      "cell_type": "code",
      "source": [
        "def solution(babbling):\n",
        "    say = [\"aya\", \"ye\", \"woo\", \"ma\"]\n",
        "    result = []\n",
        "    for b in babbling:\n",
        "      for s in say:\n",
        "        if s * 2 in b:\n",
        "          continue\n",
        "        else:\n",
        "          b = b.replace(s, '@')\n",
        "      result.append(b)\n",
        "    print(result)\n",
        "\n",
        "    return sum(1 for i in result if len(i) == i.count('@'))"
      ],
      "metadata": {
        "id": "acJlCGXXL2z0"
      },
      "execution_count": 184,
      "outputs": []
    },
    {
      "cell_type": "code",
      "source": [
        "solution([\"ayaye\", \"uuu\", \"yeye\", \"yemawoo\", \"ayaayaa\"])"
      ],
      "metadata": {
        "colab": {
          "base_uri": "https://localhost:8080/"
        },
        "id": "1ny_4K7NNWnZ",
        "outputId": "812b4b11-28d0-443a-ad8d-fcbcc7fdaea7"
      },
      "execution_count": 185,
      "outputs": [
        {
          "output_type": "stream",
          "name": "stdout",
          "text": [
            "['@@', 'uuu', 'yeye', '@@@', 'ayaayaa']\n"
          ]
        },
        {
          "output_type": "execute_result",
          "data": {
            "text/plain": [
              "2"
            ]
          },
          "metadata": {},
          "execution_count": 185
        }
      ]
    },
    {
      "cell_type": "code",
      "source": [
        "solution([\"aya\", \"yee\", \"u\", \"maa\"])"
      ],
      "metadata": {
        "colab": {
          "base_uri": "https://localhost:8080/"
        },
        "id": "c1ZGdNaWNalE",
        "outputId": "b35feaa1-919a-403f-b4cf-b155b75a88d2"
      },
      "execution_count": 186,
      "outputs": [
        {
          "output_type": "stream",
          "name": "stdout",
          "text": [
            "['@', '@e', 'u', '@a']\n"
          ]
        },
        {
          "output_type": "execute_result",
          "data": {
            "text/plain": [
              "1"
            ]
          },
          "metadata": {},
          "execution_count": 186
        }
      ]
    },
    {
      "cell_type": "code",
      "source": [
        "solution([\"ayayeaya\", \"uuu\", \"yewooye\", \"yemawoo\", \"ayaayaa\"])"
      ],
      "metadata": {
        "colab": {
          "base_uri": "https://localhost:8080/"
        },
        "id": "VMHbPuKOOo5l",
        "outputId": "46c39d28-2e43-4555-ee78-eb3ba0c8ce96"
      },
      "execution_count": 187,
      "outputs": [
        {
          "output_type": "stream",
          "name": "stdout",
          "text": [
            "['@@@', 'uuu', '@@@', '@@@', 'ayaayaa']\n"
          ]
        },
        {
          "output_type": "execute_result",
          "data": {
            "text/plain": [
              "3"
            ]
          },
          "metadata": {},
          "execution_count": 187
        }
      ]
    },
    {
      "cell_type": "markdown",
      "source": [
        "## 콜라 문제"
      ],
      "metadata": {
        "id": "RE5HglyJZfKG"
      }
    },
    {
      "cell_type": "code",
      "source": [
        "def solution(a, b, n):\n",
        "    answer = 0\n",
        "    while n >= a:\n",
        "        div, mod = divmod(n, a)\n",
        "        n = div * b + mod\n",
        "        answer += div * b\n",
        "    return answer"
      ],
      "metadata": {
        "id": "eFZ5PR25UZWq"
      },
      "execution_count": null,
      "outputs": []
    },
    {
      "cell_type": "markdown",
      "source": [
        "## 삼총사"
      ],
      "metadata": {
        "id": "VkcMaIbPbHvo"
      }
    },
    {
      "cell_type": "code",
      "source": [
        "def solution(number):\n",
        "    answer = 0\n",
        "    for i in range(len(number)):\n",
        "        for j in range(i + 1, len(number)):\n",
        "            for k in range(j + 1, len(number)):\n",
        "                if number[i] + number[j] + number[k] == 0:\n",
        "                    answer += 1\n",
        "\n",
        "    return answer"
      ],
      "metadata": {
        "id": "icOK4vzubI0a"
      },
      "execution_count": null,
      "outputs": []
    }
  ]
}