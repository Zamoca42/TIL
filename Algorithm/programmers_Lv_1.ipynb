{
  "nbformat": 4,
  "nbformat_minor": 0,
  "metadata": {
    "colab": {
      "provenance": [],
      "authorship_tag": "ABX9TyPMxx4NVFY+D+pUqGQ0S1z5",
      "include_colab_link": true
    },
    "kernelspec": {
      "name": "python3",
      "display_name": "Python 3"
    },
    "language_info": {
      "name": "python"
    }
  },
  "cells": [
    {
      "cell_type": "markdown",
      "metadata": {
        "id": "view-in-github",
        "colab_type": "text"
      },
      "source": [
        "<a href=\"https://colab.research.google.com/github/Zamoca42/TIL/blob/main/Algorithm/programmers_Lv_1.ipynb\" target=\"_parent\"><img src=\"https://colab.research.google.com/assets/colab-badge.svg\" alt=\"Open In Colab\"/></a>"
      ]
    },
    {
      "cell_type": "markdown",
      "source": [
        "## 달리기 경주"
      ],
      "metadata": {
        "id": "WRV0ek8gLj4A"
      }
    },
    {
      "cell_type": "markdown",
      "source": [
        "얀에서는 매년 달리기 경주가 열립니다. 해설진들은 선수들이 자기 바로 앞의 선수를 추월할 때 추월한 선수의 이름을 부릅니다. 예를 들어 1등부터 3등까지 \"mumu\", \"soe\", \"poe\" 선수들이 순서대로 달리고 있을 때, 해설진이 \"soe\"선수를 불렀다면 2등인 \"soe\" 선수가 1등인 \"mumu\" 선수를 추월했다는 것입니다. 즉 \"soe\" 선수가 1등, \"mumu\" 선수가 2등으로 바뀝니다.\n",
        "\n",
        "선수들의 이름이 1등부터 현재 등수 순서대로 담긴 문자열 배열 players와 해설진이 부른 이름을 담은 문자열 배열 callings가 매개변수로 주어질 때, 경주가 끝났을 때 선수들의 이름을 1등부터 등수 순서대로 배열에 담아 return 하는 solution 함수를 완성해주세요.\n",
        "\n"
      ],
      "metadata": {
        "id": "za1Ro70uLneo"
      }
    },
    {
      "cell_type": "markdown",
      "source": [
        "- 5 ≤ players의 길이 ≤ 50,000\n",
        "  - players[i]는 i번째 선수의 이름을 의미합니다.\n",
        "  - players의 원소들은 알파벳 소문자로만 이루어져 있습니다.\n",
        "  - players에는 중복된 값이 들어가 있지 않습니다.\n",
        "  - 3 ≤ players[i]의 길이 ≤ 10\n",
        "- 2 ≤ callings의 길이 ≤ 1,000,000\n",
        "  - callings는 players의 원소들로만 이루어져 있습니다.\n",
        "  - 경주 진행중 1등인 선수의 이름은 불리지 않습니다.\n"
      ],
      "metadata": {
        "id": "Om-jrj3ELp6c"
      }
    },
    {
      "cell_type": "code",
      "execution_count": null,
      "metadata": {
        "id": "-ijpBQxwLd2M"
      },
      "outputs": [],
      "source": [
        "players = [\"mumu\", \"soe\", \"poe\", \"kai\", \"mine\"]\n",
        "callings = [\"kai\", \"kai\", \"kai\", \"mine\", \"mine\", \"mine\", \"mine\", \"kai\"]"
      ]
    },
    {
      "cell_type": "code",
      "source": [
        "def solution(players, callings):\n",
        "    for call in callings:\n",
        "        i = players.index(call)\n",
        "        players[i], players[i - 1] = players[i - 1], players[i]\n",
        "\n",
        "    return players"
      ],
      "metadata": {
        "id": "UDZ7Dh41Sql5"
      },
      "execution_count": null,
      "outputs": []
    },
    {
      "cell_type": "code",
      "source": [
        "def solution(players, callings):\n",
        "    player_dict = {player: idx for idx, player in enumerate(players)}\n",
        "    print(player_dict)\n",
        "\n",
        "    for call in callings:\n",
        "        idx = player_dict[call]\n",
        "\n",
        "        players[idx], players[idx-1] = players[idx-1], players[idx]\n",
        "        player_dict[players[idx]], player_dict[players[idx-1]] = idx, idx - 1\n",
        "\n",
        "    return players"
      ],
      "metadata": {
        "id": "PiX8DJENMKKT"
      },
      "execution_count": null,
      "outputs": []
    },
    {
      "cell_type": "code",
      "source": [
        "solution(players, callings)"
      ],
      "metadata": {
        "colab": {
          "base_uri": "https://localhost:8080/"
        },
        "id": "nqG7F3oxQtUF",
        "outputId": "3d1d66e9-d7d1-4da2-eaab-33e7a84cd36d"
      },
      "execution_count": null,
      "outputs": [
        {
          "output_type": "stream",
          "name": "stdout",
          "text": [
            "{'mumu': 0, 'soe': 1, 'poe': 2, 'kai': 3, 'mine': 4}\n"
          ]
        },
        {
          "output_type": "execute_result",
          "data": {
            "text/plain": [
              "['kai', 'mine', 'mumu', 'soe', 'poe']"
            ]
          },
          "metadata": {},
          "execution_count": 26
        }
      ]
    },
    {
      "cell_type": "markdown",
      "source": [
        "## 추억 점수"
      ],
      "metadata": {
        "id": "tTnsPXe2VDPw"
      }
    },
    {
      "cell_type": "code",
      "source": [
        "name = [\"may\", \"kein\", \"kain\", \"radi\"]\n",
        "yearning = [5, 10, 1, 3]\n",
        "photo = [[\"may\", \"kein\", \"kain\", \"radi\"],[\"may\", \"kein\", \"brin\", \"deny\"], [\"kon\", \"kain\", \"may\", \"coni\"]]"
      ],
      "metadata": {
        "id": "hTzFVw6PVFEc"
      },
      "execution_count": null,
      "outputs": []
    },
    {
      "cell_type": "code",
      "source": [
        "answer = [sum(yearning[name.index(member[i])] for i in range(len(member)) if name.count(member[i]))for member in photo]"
      ],
      "metadata": {
        "id": "G9rZFiqYVLGQ"
      },
      "execution_count": null,
      "outputs": []
    },
    {
      "cell_type": "code",
      "source": [
        "print(answer)"
      ],
      "metadata": {
        "colab": {
          "base_uri": "https://localhost:8080/"
        },
        "id": "-Kb_CU6zVNq3",
        "outputId": "f625b389-c2a7-4b3e-cecc-76b9e70580a4"
      },
      "execution_count": null,
      "outputs": [
        {
          "output_type": "stream",
          "name": "stdout",
          "text": [
            "[19, 15, 6]\n"
          ]
        }
      ]
    },
    {
      "cell_type": "code",
      "source": [
        "def solution(name, yearning, photo):\n",
        "    answer = [sum(yearning[name.index(member[i])] for i in range(len(member)) if name.count(member[i]))for member in photo]\n",
        "    return answer\n",
        "\n",
        "solution(name, yearning, photo)"
      ],
      "metadata": {
        "colab": {
          "base_uri": "https://localhost:8080/"
        },
        "id": "XjIaR2HgW5t0",
        "outputId": "d66589f3-08e6-40a5-8f7e-50cac348559e"
      },
      "execution_count": null,
      "outputs": [
        {
          "output_type": "execute_result",
          "data": {
            "text/plain": [
              "[19, 15, 6]"
            ]
          },
          "metadata": {},
          "execution_count": 39
        }
      ]
    },
    {
      "cell_type": "markdown",
      "source": [
        "## 공원 산책"
      ],
      "metadata": {
        "id": "P5Un4T4QZOmt"
      }
    },
    {
      "cell_type": "code",
      "source": [
        "park2 = [\"SOO\",\"OXX\",\"OOO\"]\n",
        "routes2 = [\"E 2\",\"S 2\",\"W 1\"]"
      ],
      "metadata": {
        "id": "MVJ4XCMdZTNk"
      },
      "execution_count": null,
      "outputs": []
    },
    {
      "cell_type": "code",
      "source": [
        "park3 = [\"OSO\",\"OOO\",\"OXO\",\"OOO\"]\n",
        "routes3 = [\"E 2\",\"S 3\",\"W 1\"]"
      ],
      "metadata": {
        "id": "dBKyc0Kif2_X"
      },
      "execution_count": null,
      "outputs": []
    },
    {
      "cell_type": "code",
      "source": [
        "def solution(park, routes):\n",
        "    for i in range(len(park)):\n",
        "      if park[i].count('S'):\n",
        "        row, col = i, park[i].index('S')\n",
        "        break\n",
        "\n",
        "    for command in routes:\n",
        "      data = command.split()\n",
        "      direction, move = data[0], int(data[1])\n",
        "      if direction == 'E':\n",
        "        col += min(2, park3[row][col:].count('O')) - park[row].count('X')\n",
        "      elif direction == 'S':\n",
        "        count = 0\n",
        "        for i in range(row + 1, move):\n",
        "          if park[i][col] == 'X':\n",
        "            break\n",
        "          count += 1\n",
        "        row = count\n",
        "      elif direction == 'W':\n",
        "        col -= min(2, park3[row][col:].count('O')) - park[row].count('X')\n",
        "      elif direction == 'N':\n",
        "        count = 0\n",
        "        for i in range(move, row, -1):\n",
        "          if park[i][col] == 'X':\n",
        "            break\n",
        "          row -= 1\n",
        "        row = count\n",
        "    return [row, col]"
      ],
      "metadata": {
        "id": "JRlnDKdzXVUE"
      },
      "execution_count": null,
      "outputs": []
    },
    {
      "cell_type": "code",
      "source": [
        "def solution(park, routes):\n",
        "    w, h = len(park[0]), len(park)\n",
        "    d = {'N': (-1, 0), 'S': (1, 0), 'W': (0, -1), 'E': (0, 1)}\n",
        "\n",
        "    for i in range(h):\n",
        "      if park[i].count('S'):\n",
        "        x, y = i, park[i].index('S')\n",
        "        break\n",
        "\n",
        "    for command in routes:\n",
        "      command, move = command.split()\n",
        "      dx, dy = x, y\n",
        "      for i in range(int(move)):\n",
        "        nx, ny = x + d[command][0], y + d[command][1]\n",
        "\n",
        "        if 0 <= nx <= h - 1 and 0 <= ny <= w - 1 and park[nx][ny] != 'X':\n",
        "          x, y = nx, ny\n",
        "        else:\n",
        "          x, y = dx, dy\n",
        "          break\n",
        "\n",
        "    return [x, y]"
      ],
      "metadata": {
        "id": "owLCjTaclwfG"
      },
      "execution_count": null,
      "outputs": []
    },
    {
      "cell_type": "code",
      "source": [
        "solution(park3, routes3)"
      ],
      "metadata": {
        "colab": {
          "base_uri": "https://localhost:8080/"
        },
        "id": "Od475tEfZ8Zn",
        "outputId": "6be51281-3d0f-4327-a0bd-9fae34c6e60a"
      },
      "execution_count": null,
      "outputs": [
        {
          "output_type": "execute_result",
          "data": {
            "text/plain": [
              "[0, 0]"
            ]
          },
          "metadata": {},
          "execution_count": 100
        }
      ]
    },
    {
      "cell_type": "code",
      "source": [
        "min(2, park3[0][1:].count('O'))\n"
      ],
      "metadata": {
        "colab": {
          "base_uri": "https://localhost:8080/",
          "height": 35
        },
        "id": "P_21k3HoZ-DU",
        "outputId": "f0884f6f-e000-428a-9781-3c841b8309d7"
      },
      "execution_count": null,
      "outputs": [
        {
          "output_type": "execute_result",
          "data": {
            "text/plain": [
              "'SO'"
            ],
            "application/vnd.google.colaboratory.intrinsic+json": {
              "type": "string"
            }
          },
          "metadata": {},
          "execution_count": 75
        }
      ]
    },
    {
      "cell_type": "code",
      "source": [
        "park3[0][1:].count('O')"
      ],
      "metadata": {
        "colab": {
          "base_uri": "https://localhost:8080/"
        },
        "id": "6OJzgzchaSlC",
        "outputId": "5afbc396-98c4-4e99-e13b-385060ff5d73"
      },
      "execution_count": null,
      "outputs": [
        {
          "output_type": "execute_result",
          "data": {
            "text/plain": [
              "1"
            ]
          },
          "metadata": {},
          "execution_count": 76
        }
      ]
    },
    {
      "cell_type": "code",
      "source": [
        "for i in range(0, 3):\n",
        "  row = 0\n",
        "  if park3[i][2] == 'X':\n",
        "    break\n",
        "  row += 1\n",
        "\n",
        "print(row)"
      ],
      "metadata": {
        "colab": {
          "base_uri": "https://localhost:8080/"
        },
        "id": "-IGqXc9nhZu1",
        "outputId": "8201dfb2-ef8e-4d6c-906f-bee2fdbe8225"
      },
      "execution_count": null,
      "outputs": [
        {
          "output_type": "stream",
          "name": "stdout",
          "text": [
            "1\n"
          ]
        }
      ]
    },
    {
      "cell_type": "markdown",
      "source": [
        "## 바탕화면 정리"
      ],
      "metadata": {
        "id": "5q2lPRWCpFVc"
      }
    },
    {
      "cell_type": "code",
      "source": [
        "wallpaper = [\".##...##.\", \"#..#.#..#\", \"#...#...#\", \".#.....#.\", \"..#...#..\", \"...#.#...\", \"....#....\"]\n",
        "\n",
        "def solution(wallpaper):\n",
        "    x, y = list(), list()\n",
        "    for i in range(len(wallpaper)):\n",
        "        for j in range(len(wallpaper[0])):\n",
        "            if wallpaper[i][j] == \"#\":\n",
        "                x.append(i)\n",
        "                y.append(j)\n",
        "    return [min(x), min(y), max(x) + 1, max(y) + 1]"
      ],
      "metadata": {
        "id": "x-GqAJjxjFjV"
      },
      "execution_count": null,
      "outputs": []
    },
    {
      "cell_type": "code",
      "source": [
        "def solution(wallpaper):\n",
        "    result = [(i, j)  for i in range(len(wallpaper)) for j in range(len(wallpaper[0])) if wallpaper[i][j] == \"#\"]\n",
        "    x = sorted(result, key = lambda x: x[0])\n",
        "    y = sorted(result, key = lambda x: x[1])\n",
        "    return [x[0][0], y[0][1], x[-1][0] + 1, y[-1][1] + 1]"
      ],
      "metadata": {
        "id": "KJIz3lpdyTz_"
      },
      "execution_count": null,
      "outputs": []
    },
    {
      "cell_type": "code",
      "source": [
        "solution(wallpaper)"
      ],
      "metadata": {
        "colab": {
          "base_uri": "https://localhost:8080/"
        },
        "id": "2CQnF1CHuJ-7",
        "outputId": "5fdc095b-5d5a-4457-f08a-e6230fd1906c"
      },
      "execution_count": null,
      "outputs": [
        {
          "output_type": "stream",
          "name": "stdout",
          "text": [
            "[(0, 1), (0, 2), (0, 6), (0, 7), (1, 0), (1, 3), (1, 5), (1, 8), (2, 0), (2, 4), (2, 8), (3, 1), (3, 7), (4, 2), (4, 6), (5, 3), (5, 5), (6, 4)]\n",
            "[(1, 0), (2, 0), (0, 1), (3, 1), (0, 2), (4, 2), (1, 3), (5, 3), (2, 4), (6, 4), (1, 5), (5, 5), (0, 6), (4, 6), (0, 7), (3, 7), (1, 8), (2, 8)]\n"
          ]
        },
        {
          "output_type": "execute_result",
          "data": {
            "text/plain": [
              "[0, 0, 7, 9]"
            ]
          },
          "metadata": {},
          "execution_count": 117
        }
      ]
    },
    {
      "cell_type": "markdown",
      "source": [
        "## 덧칠하기"
      ],
      "metadata": {
        "id": "KHm7-lu21owa"
      }
    },
    {
      "cell_type": "code",
      "source": [
        "n, m = 8, 4\n",
        "section = [2, 3, 6]"
      ],
      "metadata": {
        "id": "kd85Egdp1uDy"
      },
      "execution_count": null,
      "outputs": []
    },
    {
      "cell_type": "code",
      "source": [
        "n2, m2 = 5, 4\n",
        "section2 = [1, 3]"
      ],
      "metadata": {
        "id": "wMe6zPv84dSB"
      },
      "execution_count": null,
      "outputs": []
    },
    {
      "cell_type": "code",
      "source": [
        "n3, m3 = 4, 1\n",
        "section3 = [1, 2, 3, 4]"
      ],
      "metadata": {
        "id": "WwjTIdJC4hHZ"
      },
      "execution_count": null,
      "outputs": []
    },
    {
      "cell_type": "code",
      "source": [
        "n4, m4 = 5, 2\n",
        "section4 = [1, 2, 5]"
      ],
      "metadata": {
        "id": "C0LOZFnB7Cri"
      },
      "execution_count": null,
      "outputs": []
    },
    {
      "cell_type": "code",
      "source": [
        "def solution(n, m, section):\n",
        "    wall = [1 if not i in section else 0 for i in range(n + 1)]\n",
        "    count = 0\n",
        "    while wall.count(0):\n",
        "      for i in range(section[count], section[count] + m):\n",
        "        wall[i] = 1\n",
        "      count += 1\n",
        "    return count"
      ],
      "metadata": {
        "id": "ngbPCO8AuPb1"
      },
      "execution_count": null,
      "outputs": []
    },
    {
      "cell_type": "code",
      "source": [
        "def solution(n, m, section):\n",
        "    count = paint = 0\n",
        "    for i in section:\n",
        "      if i >= paint:\n",
        "        paint = i + m\n",
        "        count += 1\n",
        "    return count"
      ],
      "metadata": {
        "id": "Z_GdvQhP9Cgr"
      },
      "execution_count": null,
      "outputs": []
    },
    {
      "cell_type": "code",
      "source": [
        "solution(n, m, section)"
      ],
      "metadata": {
        "colab": {
          "base_uri": "https://localhost:8080/"
        },
        "id": "P_dKhAoU3-6H",
        "outputId": "0d5d1597-6f91-43ae-cc6c-c18a6885b3d6"
      },
      "execution_count": null,
      "outputs": [
        {
          "output_type": "execute_result",
          "data": {
            "text/plain": [
              "3"
            ]
          },
          "metadata": {},
          "execution_count": 160
        }
      ]
    },
    {
      "cell_type": "code",
      "source": [
        "solution(n2, m2, section2)"
      ],
      "metadata": {
        "colab": {
          "base_uri": "https://localhost:8080/"
        },
        "id": "qedV8NTZ4omU",
        "outputId": "8656e697-12c8-4e58-ef78-adc2e9ad6011"
      },
      "execution_count": null,
      "outputs": [
        {
          "output_type": "execute_result",
          "data": {
            "text/plain": [
              "2"
            ]
          },
          "metadata": {},
          "execution_count": 161
        }
      ]
    },
    {
      "cell_type": "code",
      "source": [
        "solution(n3, m3, section3)"
      ],
      "metadata": {
        "colab": {
          "base_uri": "https://localhost:8080/"
        },
        "id": "O30y0eKU4qdZ",
        "outputId": "e51543df-c39b-4e2a-8925-53d6548573e4"
      },
      "execution_count": null,
      "outputs": [
        {
          "output_type": "execute_result",
          "data": {
            "text/plain": [
              "4"
            ]
          },
          "metadata": {},
          "execution_count": 162
        }
      ]
    },
    {
      "cell_type": "code",
      "source": [
        "solution(n4, m4, section4)"
      ],
      "metadata": {
        "colab": {
          "base_uri": "https://localhost:8080/",
          "height": 298
        },
        "id": "kzehExUY7Gp-",
        "outputId": "5b8a9555-3155-4f4a-b301-1aa620920f3b"
      },
      "execution_count": null,
      "outputs": [
        {
          "output_type": "error",
          "ename": "TypeError",
          "evalue": "ignored",
          "traceback": [
            "\u001b[0;31m---------------------------------------------------------------------------\u001b[0m",
            "\u001b[0;31mTypeError\u001b[0m                                 Traceback (most recent call last)",
            "\u001b[0;32m<ipython-input-167-69f1bf7205c5>\u001b[0m in \u001b[0;36m<cell line: 1>\u001b[0;34m()\u001b[0m\n\u001b[0;32m----> 1\u001b[0;31m \u001b[0msolution\u001b[0m\u001b[0;34m(\u001b[0m\u001b[0mn4\u001b[0m\u001b[0;34m,\u001b[0m \u001b[0mm4\u001b[0m\u001b[0;34m,\u001b[0m \u001b[0msection4\u001b[0m\u001b[0;34m)\u001b[0m\u001b[0;34m\u001b[0m\u001b[0;34m\u001b[0m\u001b[0m\n\u001b[0m",
            "\u001b[0;32m<ipython-input-166-5ab5d06070f1>\u001b[0m in \u001b[0;36msolution\u001b[0;34m(n, m, section)\u001b[0m\n\u001b[1;32m      4\u001b[0m     \u001b[0;32mfor\u001b[0m \u001b[0mi\u001b[0m \u001b[0;32min\u001b[0m \u001b[0msection\u001b[0m\u001b[0;34m:\u001b[0m\u001b[0;34m\u001b[0m\u001b[0;34m\u001b[0m\u001b[0m\n\u001b[1;32m      5\u001b[0m       \u001b[0;32mif\u001b[0m \u001b[0mi\u001b[0m \u001b[0;34m>=\u001b[0m \u001b[0mwall\u001b[0m\u001b[0;34m.\u001b[0m\u001b[0mindex\u001b[0m\u001b[0;34m(\u001b[0m\u001b[0;36m0\u001b[0m\u001b[0;34m)\u001b[0m\u001b[0;34m:\u001b[0m\u001b[0;34m\u001b[0m\u001b[0;34m\u001b[0m\u001b[0m\n\u001b[0;32m----> 6\u001b[0;31m         \u001b[0mwall\u001b[0m\u001b[0;34m[\u001b[0m\u001b[0;34m:\u001b[0m\u001b[0mwall\u001b[0m\u001b[0;34m.\u001b[0m\u001b[0mindex\u001b[0m\u001b[0;34m(\u001b[0m\u001b[0;36m0\u001b[0m\u001b[0;34m)\u001b[0m \u001b[0;34m+\u001b[0m \u001b[0mm\u001b[0m\u001b[0;34m]\u001b[0m \u001b[0;34m=\u001b[0m \u001b[0;32mTrue\u001b[0m\u001b[0;34m\u001b[0m\u001b[0;34m\u001b[0m\u001b[0m\n\u001b[0m\u001b[1;32m      7\u001b[0m         \u001b[0mcount\u001b[0m \u001b[0;34m+=\u001b[0m\u001b[0;36m1\u001b[0m\u001b[0;34m\u001b[0m\u001b[0;34m\u001b[0m\u001b[0m\n\u001b[1;32m      8\u001b[0m     \u001b[0;32mreturn\u001b[0m \u001b[0mcount\u001b[0m\u001b[0;34m\u001b[0m\u001b[0;34m\u001b[0m\u001b[0m\n",
            "\u001b[0;31mTypeError\u001b[0m: can only assign an iterable"
          ]
        }
      ]
    },
    {
      "cell_type": "code",
      "source": [],
      "metadata": {
        "id": "kzd5e19x7L7x"
      },
      "execution_count": null,
      "outputs": []
    }
  ]
}