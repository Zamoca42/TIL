{
  "nbformat": 4,
  "nbformat_minor": 0,
  "metadata": {
    "colab": {
      "provenance": [],
      "authorship_tag": "ABX9TyPL1WaSeXw7Z34OrYMe8uKr",
      "include_colab_link": true
    },
    "kernelspec": {
      "name": "python3",
      "display_name": "Python 3"
    },
    "language_info": {
      "name": "python"
    }
  },
  "cells": [
    {
      "cell_type": "markdown",
      "metadata": {
        "id": "view-in-github",
        "colab_type": "text"
      },
      "source": [
        "<a href=\"https://colab.research.google.com/github/Zamoca42/TIL/blob/main/Algorithm/%EA%B3%A0%EA%B8%89_%EC%9E%90%EB%A3%8C_%EA%B5%AC%EC%A1%B0_%ED%95%B5%EC%8B%AC_%EC%9C%A0%ED%98%951.ipynb\" target=\"_parent\"><img src=\"https://colab.research.google.com/assets/colab-badge.svg\" alt=\"Open In Colab\"/></a>"
      ]
    },
    {
      "cell_type": "markdown",
      "source": [
        "# 절댓값 힙: https://www.acmicpc.net/problem/11286"
      ],
      "metadata": {
        "id": "mp6VO8LTgdxy"
      }
    },
    {
      "cell_type": "markdown",
      "source": [
        "- 문제 난이도: 중(Medium)\n",
        "- 문제 유형: 자료구조, 우선순위 큐\n",
        "- 추천 풀이 시간: 40분"
      ],
      "metadata": {
        "id": "Tjr4-53sgiax"
      }
    },
    {
      "cell_type": "markdown",
      "source": [
        "## 핵심 아이디어"
      ],
      "metadata": {
        "id": "sRT9Vaepgoi4"
      }
    },
    {
      "cell_type": "markdown",
      "source": [
        "- 본 문제는 우선순위 큐 자료구조를 이용해 해결할 수 있는 문제입니다.\n",
        "- 파이썬의 heapq 라이브러리를 이용해 우선순위 큐를 활용해 해결합니다.\n"
      ],
      "metadata": {
        "id": "vuTnvh7vgqKh"
      }
    },
    {
      "cell_type": "markdown",
      "source": [
        "**[알고리즘 요약]**\n",
        "\n",
        "- 절댓값 힙은 단순히 하나의 힙(heap)을 이용해 구현할 수 있다.\n",
        "- 연산의 개수가 10만 개 이므로, $𝑂(𝑁𝑙𝑜𝑔𝑁)$ 의 시간 복잡도가 요구된다.\n",
        "1. 힙에 각 원소를 넣을 때 ( |𝑥| , 𝑥)를 넣으면 된다.\n",
        "2. 힙에서 원소를 꺼낼 때는 절댓값을 기준으로 꺼내게 된다.\n",
        "문제 풀이 핵심 아이디어\n",
        "  - 절댓값이 동일한 데이터가 여러 개라면 낮은 값부터 꺼내야 한다.\n",
        "  - 따라서 두 번째 원소에 원본 데이터를 넣어주는 것이다."
      ],
      "metadata": {
        "id": "jFZGLuu3j7CU"
      }
    },
    {
      "cell_type": "code",
      "execution_count": 2,
      "metadata": {
        "colab": {
          "base_uri": "https://localhost:8080/"
        },
        "id": "lga4uRlegZIC",
        "outputId": "fec5a77b-e926-4ebd-a66f-185a57c864c0"
      },
      "outputs": [
        {
          "output_type": "stream",
          "name": "stdout",
          "text": [
            "18\n",
            "1\n",
            "-1\n",
            "0\n",
            "-1\n",
            "0\n",
            "1\n",
            "0\n",
            "0\n",
            "1\n",
            "1\n",
            "-1\n",
            "-1\n",
            "2\n",
            "-2\n",
            "0\n",
            "-1\n",
            "0\n",
            "-1\n",
            "0\n",
            "1\n",
            "0\n",
            "1\n",
            "0\n",
            "-2\n",
            "0\n",
            "2\n",
            "0\n",
            "0\n"
          ]
        }
      ],
      "source": [
        "# import sys\n",
        "# input = sys.stdin.readline # 빠른 입력 함수 사용\n",
        "import heapq\n",
        "\n",
        "heap = []\n",
        "\n",
        "N = int(input())\n",
        "\n",
        "for _ in range(N):\n",
        "  x = int(input())\n",
        "  if x != 0: # 삽입이라면\n",
        "    heapq.heappush(heap, (abs(x), x))\n",
        "  else: # 삭제 연산이면\n",
        "    if len(heap) == 0: # 힙이 비어있는 경우\n",
        "      print(0)\n",
        "    else:\n",
        "      print(heapq.heappop(heap)[1])"
      ]
    },
    {
      "cell_type": "markdown",
      "source": [
        "# 이중 우선순위 큐: https://www.acmicpc.net/problem/7662"
      ],
      "metadata": {
        "id": "3_MkxAFHtz2C"
      }
    },
    {
      "cell_type": "markdown",
      "source": [
        "- 문제 난이도: 중상\n",
        "- 문제 유형: 자료구조, 우선순위 큐\n",
        "- 추천 풀이 시간: 60분"
      ],
      "metadata": {
        "id": "Zm6VVhcet66V"
      }
    },
    {
      "cell_type": "markdown",
      "source": [
        "## 핵심 아이디어"
      ],
      "metadata": {
        "id": "-uUJ4FhKuDIw"
      }
    },
    {
      "cell_type": "markdown",
      "source": [
        "- 본 문제는 우선순위 큐 자료구조를 이용해 해결할 수 있는 문제입니다.\n",
        "- 파이썬의 ℎ𝑒𝑎𝑝𝑞 라이브러리를 이용해 2개의 우선순위 큐로 해결합니다."
      ],
      "metadata": {
        "id": "ACY-O-s_uBal"
      }
    },
    {
      "cell_type": "markdown",
      "source": [
        "**[알고리즘 요약]**\n",
        "- 이중 우선순위 큐는 두 개의 힙(heap)을 이용해 구현할 수 있다.\n",
        "- 연산의 개수가 100만 개이므로, 𝑂 𝑁𝑙𝑜𝑔𝑁 의 시간 복잡도가 요구된다.\n",
        "1. 먼저 최소힙과 최대힙을 하나씩 만들어 모든 데이터를 넣는다.\n",
        "2. 데이터를 삭제할 때는 최소힙과 최대힙의 싱크를 맞추어야 한다.\n",
        "  - 예를 들어 우선순위가 높은 것을 삭제할 때는 최대힙에서 빼고, 최소힙과 싱크를 맞춘다.\n",
        "  - 따라서 각 원소에 대해서는 별도의 번호(ID) 값으로 삭제 여부를 기록한다.\n",
        "  - 즉, 데이터를 넣을 때 (값, 번호) 형태로 넣어야 한다.\n",
        "  - 나중에 데이터를 뺄 때 이미 삭제된 데이터라면 한 번 더 뽑는다."
      ],
      "metadata": {
        "id": "i6fxYptLCY9j"
      }
    },
    {
      "cell_type": "markdown",
      "source": [
        "### 구현 코드"
      ],
      "metadata": {
        "id": "jyXxqAJx5G-p"
      }
    },
    {
      "cell_type": "code",
      "source": [
        "# import sys\n",
        "# input = sys.stdin.readline # 빠른 입력 함수 사용\n",
        "import heapq\n",
        "\n",
        "test_case = int(input())\n",
        "\n",
        "for _ in range(test_case):\n",
        "  N = int(input())\n",
        "  min_heap = []\n",
        "  max_heap = []\n",
        "  count = 0\n",
        "\n",
        "  for index in range(N):\n",
        "    command = input().split()\n",
        "    operator, data = command[0], int(command[1])\n",
        "    if operator == 'I':\n",
        "      count += 1\n",
        "      heapq.heappush(min_heap, data)\n",
        "      heapq.heappush(max_heap, -data)\n",
        "    elif operator == 'D':\n",
        "      count -= 1\n",
        "      if data == 1 and max_heap:\n",
        "        heapq.heappop(max_heap)\n",
        "      elif data == -1 and min_heap:\n",
        "        heapq.heappop(min_heap)\n",
        "\n",
        "  if count > 0:\n",
        "    print(-heapq.heappop(max_heap), heapq.heappop(min_heap))\n",
        "  else:\n",
        "    print('EMPTY')"
      ],
      "metadata": {
        "colab": {
          "base_uri": "https://localhost:8080/"
        },
        "id": "QK4wOYgNiO5Q",
        "outputId": "b7822c66-4fd4-47be-850e-a70e101f7770"
      },
      "execution_count": 9,
      "outputs": [
        {
          "output_type": "stream",
          "name": "stdout",
          "text": [
            "2\n",
            "7\n",
            "I 16\n",
            "I -5643\n",
            "D -1\n",
            "D 1\n",
            "D 1\n",
            "I 123\n",
            "D -1\n",
            "EMPTY\n",
            "9\n",
            "I -45\n",
            "I 653\n",
            "D 1\n",
            "I -642\n",
            "I 45\n",
            "I 97\n",
            "D 1\n",
            "D -1\n",
            "I 333\n",
            "333 -45\n"
          ]
        }
      ]
    },
    {
      "cell_type": "markdown",
      "source": [
        "### 수정 코드"
      ],
      "metadata": {
        "id": "gN3eCex65Iu2"
      }
    },
    {
      "cell_type": "code",
      "source": [
        "# import sys\n",
        "# input = sys.stdin.readline # 빠른 입력 함수 사용\n",
        "import heapq\n",
        "\n",
        "def pop(heap):\n",
        "  while len(heap) > 0:\n",
        "    data, id = heapq.heappop(heap)\n",
        "    if not deleted[id]:\n",
        "      deleted[id] = True\n",
        "      return data\n",
        "  return None\n",
        "\n",
        "test_case = int(input())\n",
        "\n",
        "for _ in range(test_case):\n",
        "  N = int(input())\n",
        "  min_heap = []\n",
        "  max_heap = []\n",
        "  current = 0\n",
        "  deleted = [False] * (N + 1)\n",
        "\n",
        "  for index in range(N):\n",
        "    command = input().split()\n",
        "    operator, data = command[0], int(command[1])\n",
        "    if operator == 'I':\n",
        "      heapq.heappush(min_heap, (data, current))\n",
        "      heapq.heappush(max_heap, (-data, current))\n",
        "      current += 1\n",
        "    elif operator == 'D':\n",
        "      if data == 1:\n",
        "        pop(max_heap)\n",
        "      elif data == -1:\n",
        "        pop(min_heap)\n",
        "  max_value = pop(max_heap)\n",
        "  if max_value == None: print(\"EMPTY\")\n",
        "  else:\n",
        "    heapq.heappush(min_heap, (-max_value, current))\n",
        "    print(-max_value, pop(min_heap))"
      ],
      "metadata": {
        "colab": {
          "base_uri": "https://localhost:8080/"
        },
        "id": "hKzktfKb4iAn",
        "outputId": "904ae2ac-2906-4919-86c5-29ba22994491"
      },
      "execution_count": 2,
      "outputs": [
        {
          "output_type": "stream",
          "name": "stdout",
          "text": [
            "2\n",
            "7\n",
            "I 16\n",
            "I -5643\n",
            "D -1\n",
            "D 1\n",
            "D 1\n",
            "I 123\n",
            "D -1\n",
            "EMPTY\n",
            "9\n",
            "I -45\n",
            "I 653\n",
            "D 1\n",
            "I -642\n",
            "I 45\n",
            "I 97\n",
            "D 1\n",
            "D -1\n",
            "I 333\n",
            "333 -45\n"
          ]
        }
      ]
    },
    {
      "cell_type": "markdown",
      "source": [
        "# 소수의 곱: https://www.acmicpc.net/problem/2014"
      ],
      "metadata": {
        "id": "a8Sua-YhiX1W"
      }
    },
    {
      "cell_type": "markdown",
      "source": [
        "- 문제 난이도: 중상\n",
        "- 문제 유형: 자료구조, 우선순위 큐\n",
        "- 추천 풀이 시간: 60분"
      ],
      "metadata": {
        "id": "0DYW-_C6jVyY"
      }
    },
    {
      "cell_type": "markdown",
      "source": [
        "## 핵심 아이디어"
      ],
      "metadata": {
        "id": "77HE9ZNJjUkQ"
      }
    },
    {
      "cell_type": "markdown",
      "source": [
        "- 본 문제는 우선순위 큐 자료구조를 이용해 해결할 수 있는 문제입니다.\n",
        "- 소수의 곱을 오름차순으로 나타내야 하므로, 우선순위 큐를 활용할 수 있습니다.\n",
        "- 매번 가장 작은 원소를 꺼내서, 처음에 부여받은 소수와 곱하여 다시 우선순위 큐에 넣습니다."
      ],
      "metadata": {
        "id": "eQW7g5LfjNEH"
      }
    },
    {
      "cell_type": "markdown",
      "source": [
        "**[알고리즘 요약]**\n",
        "1. 최소힙(min heap)을 준비하여 “처음에 부여받은 모든 소수”를 삽입한다.\n",
        "2. 이후에 다음의 과정을 𝑁번 반복한다.\n",
        "  - 𝑡𝑜𝑝()의 원소를 꺼낸다.\n",
        "  - 처음에 부여받은 소수들과 “곱한 결과”를 다시 삽입한다.\n",
        "- 이러한 과정에서 두 가지를 고려한다.\n",
        "  1. 힙의 크기가 𝑁 이상이고, 힙의 최댓값보다 [곱한 결과]가 크다면 무시한다.\n",
        "  2. 한 번 구한 결과는 다시 큐에 넣을 필요가 없다."
      ],
      "metadata": {
        "id": "OU0pMAFpxIEF"
      }
    },
    {
      "cell_type": "code",
      "source": [
        "#import sys\n",
        "# 빠른 입력 함수 사용\n",
        "#input = sys.stdin.readline\n",
        "import heapq\n",
        "\n",
        "K, N = map(int, input().split())\n",
        "data = list(map(int, input().split()))\n",
        "\n",
        "heap = []\n",
        "visited = set()\n",
        "max_value = max(data)\n",
        "\n",
        "for x in data:\n",
        "  heapq.heappush(heap, x)\n",
        "\n",
        "for i in range(N - 1):\n",
        "  pick_number = heapq.heappop(heap)\n",
        "  for x in data:\n",
        "    now = pick_number * x\n",
        "    if len(heap) >= N and max_value < now:\n",
        "      continue\n",
        "    if now not in visited: # 중복되는 수 처리\n",
        "      heapq.heappush(heap, now)\n",
        "      max_value = max(max_value, now)\n",
        "      visited.add(now)\n",
        "\n",
        "print(heapq.heappop(heap))"
      ],
      "metadata": {
        "id": "t_xSYW7Kzn28"
      },
      "execution_count": null,
      "outputs": []
    }
  ]
}