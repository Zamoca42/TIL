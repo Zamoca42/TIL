{
  "nbformat": 4,
  "nbformat_minor": 0,
  "metadata": {
    "colab": {
      "provenance": [],
      "authorship_tag": "ABX9TyPWNTE/gLuVHZJV47Nlv88W",
      "include_colab_link": true
    },
    "kernelspec": {
      "name": "python3",
      "display_name": "Python 3"
    },
    "language_info": {
      "name": "python"
    }
  },
  "cells": [
    {
      "cell_type": "markdown",
      "metadata": {
        "id": "view-in-github",
        "colab_type": "text"
      },
      "source": [
        "<a href=\"https://colab.research.google.com/github/Zamoca42/TIL/blob/main/Algorithm/%EC%BD%94%EB%94%A9_%ED%85%8C%EC%8A%A4%ED%8A%B8_%EA%B8%B0%EC%B4%88.ipynb\" target=\"_parent\"><img src=\"https://colab.research.google.com/assets/colab-badge.svg\" alt=\"Open In Colab\"/></a>"
      ]
    },
    {
      "cell_type": "markdown",
      "source": [
        "# 문제 : https://www.acmicpc.net/problem/2920"
      ],
      "metadata": {
        "id": "gaieO6_2s_Nu"
      }
    },
    {
      "cell_type": "code",
      "execution_count": 22,
      "metadata": {
        "colab": {
          "base_uri": "https://localhost:8080/"
        },
        "id": "f--mAWXBn5ji",
        "outputId": "dff20da9-1eaf-4103-820e-58e39f96c926"
      },
      "outputs": [
        {
          "output_type": "stream",
          "name": "stdout",
          "text": [
            "mixed\n"
          ]
        }
      ],
      "source": [
        "# 직접 작성해보기\n",
        "\n",
        "Input1 = [1, 2, 3, 4, 5, 6, 7, 8]\n",
        "Input2 = [8, 7, 6, 5, 4, 3, 2, 1]\n",
        "Input3 = [8, 1, 7, 2, 6, 3, 5, 4]\n",
        "\n",
        "\n",
        "\n",
        "def sorting(data):\n",
        "  ascending = True\n",
        "  descending = True\n",
        "  \n",
        "  for index in range(len(data) - 1):\n",
        "    difference = data[index + 1] - data[index]\n",
        "    if difference == -1:\n",
        "      ascending = False\n",
        "    elif difference == 1:\n",
        "      descending = False\n",
        "    elif abs(difference) > 1:\n",
        "      ascending = False\n",
        "      descending = False\n",
        "      break\n",
        "  \n",
        "  if ascending:\n",
        "    print('ascending')\n",
        "  elif descending:\n",
        "    print('descending')\n",
        "  else:\n",
        "    print('mixed')\n",
        "\n",
        "\n",
        "sorting(Input3)"
      ]
    },
    {
      "cell_type": "code",
      "source": [
        "# 제출 코드\n",
        "\n",
        "a = list(map(int, input().split(' ')))\n",
        "\n",
        "ascending = True\n",
        "descending = True\n",
        "  \n",
        "for index in range(len(a) - 1):\n",
        "  difference = a[index + 1] - a[index]\n",
        "  if difference == -1:\n",
        "    ascending = False\n",
        "  elif difference == 1:\n",
        "    descending = False\n",
        "  elif abs(difference) > 1:\n",
        "    ascending = False\n",
        "    descending = False\n",
        "    break\n",
        "  \n",
        "if ascending:\n",
        "    print('ascending')\n",
        "elif descending:\n",
        "    print('descending')\n",
        "else:\n",
        "    print('mixed')"
      ],
      "metadata": {
        "colab": {
          "base_uri": "https://localhost:8080/"
        },
        "id": "Cppkiq4c2dl5",
        "outputId": "e0e4e3f1-9071-4f0a-9aa7-e2a1e63e5cdb"
      },
      "execution_count": 25,
      "outputs": [
        {
          "output_type": "stream",
          "name": "stdout",
          "text": [
            "3 2 5 4 1 6 3 7\n",
            "mixed\n"
          ]
        }
      ]
    },
    {
      "cell_type": "code",
      "source": [
        "# 강의 코드\n",
        "\n",
        "def sorting(data):\n",
        "  ascending = True\n",
        "  descending = True\n",
        "  \n",
        "  for i in range(1,8):\n",
        "    if data[i] > data[i - 1]:\n",
        "      desending = False\n",
        "    elif data[i] < data[i - 1]:\n",
        "      ascending = False\n",
        "  \n",
        "  if ascending:\n",
        "    print('ascending')\n",
        "  elif descending:\n",
        "    print('descending')\n",
        "  else:\n",
        "    print('mixed')\n",
        "\n",
        "\n",
        "sorting(Input1)"
      ],
      "metadata": {
        "colab": {
          "base_uri": "https://localhost:8080/"
        },
        "id": "eL9Dx7KNuFNK",
        "outputId": "5197c4e7-a02b-44b3-c061-f15525bf93e1"
      },
      "execution_count": 26,
      "outputs": [
        {
          "output_type": "stream",
          "name": "stdout",
          "text": [
            "ascending\n"
          ]
        }
      ]
    },
    {
      "cell_type": "code",
      "source": [],
      "metadata": {
        "id": "og_F-qOR19HC"
      },
      "execution_count": null,
      "outputs": []
    }
  ]
}