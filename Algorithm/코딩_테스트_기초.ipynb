{
  "nbformat": 4,
  "nbformat_minor": 0,
  "metadata": {
    "colab": {
      "provenance": [],
      "authorship_tag": "ABX9TyPXU5hB65lt9/+2x5jxf8ZK",
      "include_colab_link": true
    },
    "kernelspec": {
      "name": "python3",
      "display_name": "Python 3"
    },
    "language_info": {
      "name": "python"
    }
  },
  "cells": [
    {
      "cell_type": "markdown",
      "metadata": {
        "id": "view-in-github",
        "colab_type": "text"
      },
      "source": [
        "<a href=\"https://colab.research.google.com/github/Zamoca42/TIL/blob/main/Algorithm/%EC%BD%94%EB%94%A9_%ED%85%8C%EC%8A%A4%ED%8A%B8_%EA%B8%B0%EC%B4%88.ipynb\" target=\"_parent\"><img src=\"https://colab.research.google.com/assets/colab-badge.svg\" alt=\"Open In Colab\"/></a>"
      ]
    },
    {
      "cell_type": "markdown",
      "source": [
        "# 문제 : https://www.acmicpc.net/problem/2920"
      ],
      "metadata": {
        "id": "gaieO6_2s_Nu"
      }
    },
    {
      "cell_type": "code",
      "execution_count": 22,
      "metadata": {
        "colab": {
          "base_uri": "https://localhost:8080/"
        },
        "id": "f--mAWXBn5ji",
        "outputId": "dff20da9-1eaf-4103-820e-58e39f96c926"
      },
      "outputs": [
        {
          "output_type": "stream",
          "name": "stdout",
          "text": [
            "mixed\n"
          ]
        }
      ],
      "source": [
        "# 직접 작성해보기\n",
        "\n",
        "Input1 = [1, 2, 3, 4, 5, 6, 7, 8]\n",
        "Input2 = [8, 7, 6, 5, 4, 3, 2, 1]\n",
        "Input3 = [8, 1, 7, 2, 6, 3, 5, 4]\n",
        "\n",
        "\n",
        "\n",
        "def sorting(data):\n",
        "  ascending = True\n",
        "  descending = True\n",
        "  \n",
        "  for index in range(len(data) - 1):\n",
        "    difference = data[index + 1] - data[index]\n",
        "    if difference == -1:\n",
        "      ascending = False\n",
        "    elif difference == 1:\n",
        "      descending = False\n",
        "    elif abs(difference) > 1:\n",
        "      ascending = False\n",
        "      descending = False\n",
        "      break\n",
        "  \n",
        "  if ascending:\n",
        "    print('ascending')\n",
        "  elif descending:\n",
        "    print('descending')\n",
        "  else:\n",
        "    print('mixed')\n",
        "\n",
        "\n",
        "sorting(Input3)"
      ]
    },
    {
      "cell_type": "code",
      "source": [
        "# 제출 코드\n",
        "\n",
        "a = list(map(int, input().split(' ')))\n",
        "\n",
        "ascending = True\n",
        "descending = True\n",
        "  \n",
        "for index in range(len(a) - 1):\n",
        "  difference = a[index + 1] - a[index]\n",
        "  if difference == -1:\n",
        "    ascending = False\n",
        "  elif difference == 1:\n",
        "    descending = False\n",
        "  elif abs(difference) > 1:\n",
        "    ascending = False\n",
        "    descending = False\n",
        "    break\n",
        "  \n",
        "if ascending:\n",
        "    print('ascending')\n",
        "elif descending:\n",
        "    print('descending')\n",
        "else:\n",
        "    print('mixed')"
      ],
      "metadata": {
        "colab": {
          "base_uri": "https://localhost:8080/"
        },
        "id": "Cppkiq4c2dl5",
        "outputId": "e0e4e3f1-9071-4f0a-9aa7-e2a1e63e5cdb"
      },
      "execution_count": 25,
      "outputs": [
        {
          "output_type": "stream",
          "name": "stdout",
          "text": [
            "3 2 5 4 1 6 3 7\n",
            "mixed\n"
          ]
        }
      ]
    },
    {
      "cell_type": "code",
      "source": [
        "# 강의 코드\n",
        "\n",
        "def sorting(data):\n",
        "  ascending = True\n",
        "  descending = True\n",
        "  \n",
        "  for i in range(1,8):\n",
        "    if data[i] > data[i - 1]:\n",
        "      desending = False\n",
        "    elif data[i] < data[i - 1]:\n",
        "      ascending = False\n",
        "  \n",
        "  if ascending:\n",
        "    print('ascending')\n",
        "  elif descending:\n",
        "    print('descending')\n",
        "  else:\n",
        "    print('mixed')\n",
        "\n",
        "\n",
        "sorting(Input1)"
      ],
      "metadata": {
        "colab": {
          "base_uri": "https://localhost:8080/"
        },
        "id": "eL9Dx7KNuFNK",
        "outputId": "5197c4e7-a02b-44b3-c061-f15525bf93e1"
      },
      "execution_count": 26,
      "outputs": [
        {
          "output_type": "stream",
          "name": "stdout",
          "text": [
            "ascending\n"
          ]
        }
      ]
    },
    {
      "cell_type": "markdown",
      "source": [
        "# 문제 : https://www.acmicpc.net/problem/2798"
      ],
      "metadata": {
        "id": "fapcw85l5ROZ"
      }
    },
    {
      "cell_type": "markdown",
      "source": [
        "1. 카드 중 3개씩 뽑는 모든 경우의 수는 $ C(n,3) $이며, n은 최대 100입니다.\n",
        "2. 따라서 단순히 3중 반복문으로 모든 경우의 수를 확인하여 문제를 해결할 수 있습니다."
      ],
      "metadata": {
        "id": "8pSeI5S9_x0W"
      }
    },
    {
      "cell_type": "markdown",
      "source": [
        "<img width=\"1317\" alt=\"스크린샷 2023-06-12 오후 11 16 46\" src=\"https://github.com/Zamoca42/vue-django-blog/assets/96982072/b44d7a8e-eee3-47b8-b4a2-e0d950084d28\">"
      ],
      "metadata": {
        "id": "q0iJ3_Hv_iPx"
      }
    },
    {
      "cell_type": "code",
      "source": [
        "n, m = list(map(int, input().split(' ')))\n",
        "data = list(map(int, input().split(' ')))\n",
        "\n",
        "result = 0\n",
        "length = len(data)\n",
        "\n",
        "count = 0\n",
        "for i in range(0, length):\n",
        "  for j in range(i + 1, length):\n",
        "    for k in range(j + 1, length):\n",
        "      sum_value = data[i] + data[j] + data[k]\n",
        "      if sum_value <= m:\n",
        "        result = max(result, sum_value)\n",
        "\n",
        "print(result)"
      ],
      "metadata": {
        "colab": {
          "base_uri": "https://localhost:8080/"
        },
        "id": "a2xNRx5C95_y",
        "outputId": "8429db64-1be4-4c1d-a5b7-4b9366417dd7"
      },
      "execution_count": 28,
      "outputs": [
        {
          "output_type": "stream",
          "name": "stdout",
          "text": [
            "10 500\n",
            "93 181 245 214 315 36 185 138 216 295\n",
            "497\n"
          ]
        }
      ]
    }
  ]
}