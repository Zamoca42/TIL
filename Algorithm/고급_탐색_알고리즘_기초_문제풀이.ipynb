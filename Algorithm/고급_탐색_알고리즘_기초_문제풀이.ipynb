{
  "nbformat": 4,
  "nbformat_minor": 0,
  "metadata": {
    "colab": {
      "provenance": [],
      "authorship_tag": "ABX9TyOQ1Mb/jliT05jxNcMEN5dH",
      "include_colab_link": true
    },
    "kernelspec": {
      "name": "python3",
      "display_name": "Python 3"
    },
    "language_info": {
      "name": "python"
    }
  },
  "cells": [
    {
      "cell_type": "markdown",
      "metadata": {
        "id": "view-in-github",
        "colab_type": "text"
      },
      "source": [
        "<a href=\"https://colab.research.google.com/github/Zamoca42/TIL/blob/main/Algorithm/%EA%B3%A0%EA%B8%89_%ED%83%90%EC%83%89_%EC%95%8C%EA%B3%A0%EB%A6%AC%EC%A6%98_%EA%B8%B0%EC%B4%88_%EB%AC%B8%EC%A0%9C%ED%92%80%EC%9D%B4.ipynb\" target=\"_parent\"><img src=\"https://colab.research.google.com/assets/colab-badge.svg\" alt=\"Open In Colab\"/></a>"
      ]
    },
    {
      "cell_type": "markdown",
      "source": [
        "# 트리 순회: https://www.acmicpc.net/problem/1991"
      ],
      "metadata": {
        "id": "pX4oZTn5Ms_y"
      }
    },
    {
      "cell_type": "markdown",
      "source": [
        "- 문제 난이도: 하 (Easy)\n",
        "- 문제 유형: 트리, 구현\n",
        "- 추천 풀이 시간: 20분"
      ],
      "metadata": {
        "id": "wa0UTn247saJ"
      }
    },
    {
      "cell_type": "markdown",
      "source": [
        "## 핵심 아이디어"
      ],
      "metadata": {
        "id": "thxJZD0PixgT"
      }
    },
    {
      "cell_type": "markdown",
      "source": [
        "<img width=\"1323\" alt=\"스크린샷 2023-06-23 오후 4 56 17\" src=\"https://github.com/Zamoca42/TIL/assets/96982072/e8c98194-4ec6-48c6-884a-0454115313a2\">\n",
        "<img width=\"1323\" alt=\"스크린샷 2023-06-23 오후 4 56 30\" src=\"https://github.com/Zamoca42/TIL/assets/96982072/3f09d4ea-4787-48b4-926f-c3d1124d8635\">\n",
        "<img width=\"1323\" alt=\"스크린샷 2023-06-23 오후 4 56 41\" src=\"https://github.com/Zamoca42/TIL/assets/96982072/ff434326-7f17-467c-b183-871674c95e40\">"
      ],
      "metadata": {
        "id": "tsbZT426iw-x"
      }
    },
    {
      "cell_type": "code",
      "execution_count": 2,
      "metadata": {
        "colab": {
          "base_uri": "https://localhost:8080/"
        },
        "id": "MIymrlFrMobr",
        "outputId": "4f9e730b-0468-4e38-ddc5-515c222fc1e0"
      },
      "outputs": [
        {
          "output_type": "stream",
          "name": "stdout",
          "text": [
            "7\n",
            "A B C\n",
            "B D .\n",
            "C E F\n",
            "E . .\n",
            "F . G\n",
            "D . .\n",
            "G . .\n",
            "ABDCEFG\n",
            "DBAECFG\n",
            "DBEGFCA"
          ]
        }
      ],
      "source": [
        "class Node: # 연결 리스트\n",
        "  def __init__(self, data, left_node, right_node):\n",
        "    self.data = data\n",
        "    self.left_node = left_node\n",
        "    self.right_node = right_node\n",
        "\n",
        "def pre_order(node):\n",
        "  print(node.data, end='')\n",
        "  if node.left_node != '.':\n",
        "    pre_order(tree[node.left_node])\n",
        "  if node.right_node != '.':\n",
        "    pre_order(tree[node.right_node])\n",
        "\n",
        "def in_order(node):\n",
        "  if node.left_node != '.':\n",
        "    in_order(tree[node.left_node])\n",
        "  print(node.data, end='')\n",
        "  if node.right_node != '.':\n",
        "    in_order(tree[node.right_node])\n",
        "\n",
        "def post_order(node):\n",
        "  if node.left_node != '.':\n",
        "    post_order(tree[node.left_node])\n",
        "  if node.right_node != '.':\n",
        "    post_order(tree[node.right_node])\n",
        "  print(node.data, end='')\n",
        "\n",
        "n = int(input())\n",
        "tree = {}\n",
        "for i in range(n):\n",
        "  data, left_node, right_node = input().split()\n",
        "  tree[data] = Node(data, left_node, right_node)\n",
        "\n",
        "pre_order(tree['A'])\n",
        "print()\n",
        "in_order(tree['A'])\n",
        "print()\n",
        "post_order(tree['A'])"
      ]
    }
  ]
}