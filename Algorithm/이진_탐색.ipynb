{
  "nbformat": 4,
  "nbformat_minor": 0,
  "metadata": {
    "colab": {
      "provenance": [],
      "authorship_tag": "ABX9TyN7JX23nzfymmaiZa+rSvc9",
      "include_colab_link": true
    },
    "kernelspec": {
      "name": "python3",
      "display_name": "Python 3"
    },
    "language_info": {
      "name": "python"
    }
  },
  "cells": [
    {
      "cell_type": "markdown",
      "metadata": {
        "id": "view-in-github",
        "colab_type": "text"
      },
      "source": [
        "<a href=\"https://colab.research.google.com/github/Zamoca42/TIL/blob/main/Algorithm/%EC%9D%B4%EC%A7%84_%ED%83%90%EC%83%89.ipynb\" target=\"_parent\"><img src=\"https://colab.research.google.com/assets/colab-badge.svg\" alt=\"Open In Colab\"/></a>"
      ]
    },
    {
      "cell_type": "markdown",
      "source": [
        "# 이진 탐색 (Binary Search)\n",
        "\n"
      ],
      "metadata": {
        "id": "gOzPC7tWe96t"
      }
    },
    {
      "cell_type": "markdown",
      "source": [
        "### 1. 이진 탐색 (Binary Search) 이란?\n",
        "* 탐색할 자료를 둘로 나누어 해당 데이터가 있을만한 곳을 탐색하는 방법"
      ],
      "metadata": {
        "id": "cyQcDmtfoAyP"
      }
    },
    {
      "cell_type": "markdown",
      "source": [
        "### 다음 문제를 먼저 생각해보자\n",
        "<img src=\"https://www.fun-coding.org/00_Images/binarysearch.png\" />"
      ],
      "metadata": {
        "id": "0Gh_vAQLoE0y"
      }
    },
    {
      "cell_type": "markdown",
      "source": [
        "### 이진 탐색의 이해 (순차 탐색과 비교하며 이해하기)\n",
        "\n",
        "<img src=\"https://www.mathwarehouse.com/programming/images/binary-vs-linear-search/binary-and-linear-search-animations.gif\">\n",
        "\n",
        "* [저작자] by penjee.com [이미지 출처](https://blog.penjee.com/binary-vs-linear-search-animated-gifs)\n"
      ],
      "metadata": {
        "id": "lwJbGzCzoGKK"
      }
    },
    {
      "cell_type": "markdown",
      "source": [
        "### 분할 정복 알고리즘과 이진 탐색\n",
        "- 분할 정복 알고리즘 (Divide and Conquer)\n",
        "  - Divide: 문제를 하나 또는 둘 이상으로 나눈다.\n",
        "  - Conquer: 나눠진 문제가 충분히 작고, 해결이 가능하다면 해결하고, 그렇지 않다면 다시 나눈다.\n",
        "- 이진 탐색\n",
        "  - Divide: 리스트를 두 개의 서브 리스트로 나눈다.\n",
        "  - Comquer\n",
        "    - 검색할 숫자 (search) > 중간값 이면, 뒷 부분의 서브 리스트에서 검색할 숫자를 찾는다.\n",
        "    - 검색할 숫자 (search) < 중간값 이면, 앞 부분의 서브 리스트에서 검색할 숫자를 찾는다.  "
      ],
      "metadata": {
        "id": "jzhAg9o_oJbF"
      }
    },
    {
      "cell_type": "markdown",
      "source": [
        "### 어떻게 코드로 만들까?\n",
        "* 이진 탐색은 데이터가 정렬되있는 상태에서 진행\n",
        "* 데이터가 [2, 3, 8, 12, 20] 일 때,\n",
        "  - binary_search(data_list, find_data) 함수를 만들고\n",
        "    - find_data는 찾는 숫자\n",
        "    - data_list는 데이터 리스트\n",
        "    - data_list의 중간값을 find_data와 비교해서\n",
        "      - find_data < data_list의 중간값 이라면\n",
        "        - 맨 앞부터 data_list의 중간까지 에서 다시 find_data 찾기\n",
        "      - data_list의 중간값 < find_data 이라면\n",
        "        - data_list의 중간부터 맨 끝까지에서 다시 find_data 찾기\n",
        "      - 그렇지 않다면, data_list의 중간값은 find_data 인 경우로, return data_list 중간위치"
      ],
      "metadata": {
        "id": "tk-y38VeoRud"
      }
    },
    {
      "cell_type": "markdown",
      "source": [
        "### 알고리즘 구현"
      ],
      "metadata": {
        "id": "VRCZ5EdOoZhT"
      }
    },
    {
      "cell_type": "code",
      "execution_count": null,
      "metadata": {
        "id": "4mk76NNUe87W"
      },
      "outputs": [],
      "source": [
        "def binary_search(data, search):\n",
        "  print(data)\n",
        "  if len(data) == 1 and search == data[0]:\n",
        "    return True\n",
        "  if len(data) == 1 and search != data[0]:\n",
        "    return False\n",
        "  if len(data) == 0:\n",
        "    return False\n",
        "  \n",
        "  medium = len(data) // 2\n",
        "  if search == data[medium]:\n",
        "    return True\n",
        "  else:\n",
        "    if search > data[medium]:\n",
        "      return binary_search(data[medium:], search)\n",
        "    else:\n",
        "      return binary_search(data[:medium], search)"
      ]
    },
    {
      "cell_type": "code",
      "source": [
        "import random\n",
        "data_list = random.sample(range(100), 10)\n",
        "data_list"
      ],
      "metadata": {
        "colab": {
          "base_uri": "https://localhost:8080/"
        },
        "id": "6KoL-H357UZ7",
        "outputId": "11aecdca-5a7b-4e47-d159-afb441e19522"
      },
      "execution_count": null,
      "outputs": [
        {
          "output_type": "execute_result",
          "data": {
            "text/plain": [
              "[60, 9, 69, 96, 38, 68, 50, 47, 36, 57]"
            ]
          },
          "metadata": {},
          "execution_count": 14
        }
      ]
    },
    {
      "cell_type": "code",
      "source": [
        "data_list.sort()"
      ],
      "metadata": {
        "id": "syEAQLaC7ZtO"
      },
      "execution_count": null,
      "outputs": []
    },
    {
      "cell_type": "code",
      "source": [
        "data_list"
      ],
      "metadata": {
        "colab": {
          "base_uri": "https://localhost:8080/"
        },
        "id": "LWy51N_z7feH",
        "outputId": "5133062d-458f-4470-b7d3-43818c540b65"
      },
      "execution_count": null,
      "outputs": [
        {
          "output_type": "execute_result",
          "data": {
            "text/plain": [
              "[9, 36, 38, 47, 50, 57, 60, 68, 69, 96]"
            ]
          },
          "metadata": {},
          "execution_count": 16
        }
      ]
    },
    {
      "cell_type": "code",
      "source": [
        "binary_search(data_list, 69)"
      ],
      "metadata": {
        "colab": {
          "base_uri": "https://localhost:8080/"
        },
        "id": "Ir0Q7MzD7g4p",
        "outputId": "e9733442-6cee-42c3-deb9-9b15378fb665"
      },
      "execution_count": null,
      "outputs": [
        {
          "output_type": "stream",
          "name": "stdout",
          "text": [
            "[9, 36, 38, 47, 50, 57, 60, 68, 69, 96]\n",
            "[57, 60, 68, 69, 96]\n",
            "[68, 69, 96]\n"
          ]
        },
        {
          "output_type": "execute_result",
          "data": {
            "text/plain": [
              "True"
            ]
          },
          "metadata": {},
          "execution_count": 18
        }
      ]
    },
    {
      "cell_type": "markdown",
      "source": [
        "### 5. 알고리즘 분석\n",
        "* n개의 리스트를 매번 2로 나누어 1이 될 때까지 비교연산을 k회 진행\n",
        "  - <font size=4em>n X $\\frac { 1 }{ 2 }$ X $\\frac { 1 }{ 2 }$ X $\\frac { 1 }{ 2 }$ ... = 1</font>\n",
        "  - <font size=4em>n X $\\frac { 1 }{ 2 }^k$ = 1</font>\n",
        "  - <font size=4em>n = $2^k$ = $log_2 n$ = $log_2 2^k$</font>\n",
        "  - <font size=4em>$log_2 n$ = k</font>\n",
        "  - 빅 오 표기법으로는 k + 1 이 결국 최종 시간 복잡도임 (1이 되었을 때도, 비교연산을 한번 수행)\n",
        "    - 결국 O($log_2 n$ + 1) 이고, 2와 1, 상수는 삭제 되므로, O($log n$)"
      ],
      "metadata": {
        "id": "UOfngcsSodvU"
      }
    },
    {
      "cell_type": "markdown",
      "source": [
        "<div class=\"alert alert-block alert-warning\">\n",
        "<strong><font color=\"blue\" size=\"4em\">프로그래밍 연습</font></strong><br>\n",
        "다음 10000개의 데이터를 삽입 정렬, 퀵 정렬로 정렬하는 함수를 각각 만들어보고, 각각의 정렬 시간을 출력하기<br>\n",
        "</div>\n",
        "\n",
        "```python\n",
        "# 데이터 셋\n",
        "import random \n",
        "data_list = random.sample(range(100000), 10000)\n",
        "\n",
        "# 현재 시간 구하기\n",
        "import datetime\n",
        "print (datetime.datetime.now())\n",
        "```"
      ],
      "metadata": {
        "id": "aD9acrtdo9oG"
      }
    },
    {
      "cell_type": "code",
      "source": [
        "import random \n",
        "data_list = random.sample(range(100), 100)"
      ],
      "metadata": {
        "id": "Alg4BkagpClA"
      },
      "execution_count": 47,
      "outputs": []
    },
    {
      "cell_type": "code",
      "source": [
        "import datetime\n",
        "import time\n",
        "print (datetime.datetime.now())"
      ],
      "metadata": {
        "colab": {
          "base_uri": "https://localhost:8080/"
        },
        "id": "qh4dEhakpE_x",
        "outputId": "da3c7211-47c6-41f7-e32a-56a22e43c56a"
      },
      "execution_count": 48,
      "outputs": [
        {
          "output_type": "stream",
          "name": "stdout",
          "text": [
            "2023-06-07 11:49:08.793452\n"
          ]
        }
      ]
    },
    {
      "cell_type": "code",
      "source": [
        "def insertion_sort(data):\n",
        "  for index in range(len(data) - 1):\n",
        "    for index2 in range(index + 1, 0, -1):\n",
        "      if data[index2] > data[index2 - 1]:\n",
        "        data[index2 - 1], data[index2] = data[index2], data[index2 - 1]\n",
        "      else:\n",
        "        break\n",
        "  return data"
      ],
      "metadata": {
        "id": "3u4J2cZOo-y6"
      },
      "execution_count": 58,
      "outputs": []
    },
    {
      "cell_type": "code",
      "source": [
        "t1 = time.time()\n",
        "insertion_sort(data_list)\n",
        "t2 = time.time()\n",
        "\n",
        "msec = (t2 - t1) * 1000\n",
        "print(msec)"
      ],
      "metadata": {
        "colab": {
          "base_uri": "https://localhost:8080/"
        },
        "id": "JIFpHQ_JpGz6",
        "outputId": "86d591d9-d0d5-47b5-d732-7e765a1136e1"
      },
      "execution_count": 62,
      "outputs": [
        {
          "output_type": "stream",
          "name": "stdout",
          "text": [
            "0.10609626770019531\n"
          ]
        }
      ]
    },
    {
      "cell_type": "code",
      "source": [
        "def qsort(data):\n",
        "  if len(data) <= 1:\n",
        "    return data\n",
        "  \n",
        "  pivot = data[0]\n",
        "\n",
        "  left = [ item for item in data[1:] if pivot > item ]\n",
        "  right = [ item for item in data[1:] if pivot <= item ]\n",
        "\n",
        "  return qsort(left) + [pivot] + qsort(right)"
      ],
      "metadata": {
        "id": "D3oXp6QSq62O"
      },
      "execution_count": 63,
      "outputs": []
    },
    {
      "cell_type": "code",
      "source": [
        "t1 = time.time()\n",
        "qsort(data_list)\n",
        "t2 = time.time()\n",
        "\n",
        "msec = (t2 - t1) * 1000\n",
        "print(msec)"
      ],
      "metadata": {
        "colab": {
          "base_uri": "https://localhost:8080/"
        },
        "id": "P2Kd5lYPrjzu",
        "outputId": "be886aa5-67f8-41f7-e2ac-fac03237f969"
      },
      "execution_count": 64,
      "outputs": [
        {
          "output_type": "stream",
          "name": "stdout",
          "text": [
            "1.2645721435546875\n"
          ]
        }
      ]
    }
  ]
}