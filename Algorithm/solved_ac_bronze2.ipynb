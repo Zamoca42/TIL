{
  "nbformat": 4,
  "nbformat_minor": 0,
  "metadata": {
    "colab": {
      "provenance": [],
      "authorship_tag": "ABX9TyODjVfEd04SBOcu870y5Doq",
      "include_colab_link": true
    },
    "kernelspec": {
      "name": "python3",
      "display_name": "Python 3"
    },
    "language_info": {
      "name": "python"
    }
  },
  "cells": [
    {
      "cell_type": "markdown",
      "metadata": {
        "id": "view-in-github",
        "colab_type": "text"
      },
      "source": [
        "<a href=\"https://colab.research.google.com/github/Zamoca42/TIL/blob/main/Algorithm/solved_ac_bronze2.ipynb\" target=\"_parent\"><img src=\"https://colab.research.google.com/assets/colab-badge.svg\" alt=\"Open In Colab\"/></a>"
      ]
    },
    {
      "cell_type": "markdown",
      "source": [
        "## 분산처리: https://www.acmicpc.net/problem/1009"
      ],
      "metadata": {
        "id": "TjeyYvFNJSTa"
      }
    },
    {
      "cell_type": "code",
      "source": [
        "for _ in range(int(input())):\n",
        "  a, b = map(int, input().split())\n",
        "  b = b % 4 if b % 4 else 4\n",
        "  result = a ** b % 10\n",
        "  print(result if result else 10)"
      ],
      "metadata": {
        "colab": {
          "base_uri": "https://localhost:8080/"
        },
        "id": "agRy32jeJSGk",
        "outputId": "e74acd77-8ca0-4691-f576-cd8ae6a0380f"
      },
      "execution_count": 65,
      "outputs": [
        {
          "output_type": "stream",
          "name": "stdout",
          "text": [
            "5\n",
            "7 4\n",
            "1\n",
            "8 3\n",
            "2\n",
            "9 635\n",
            "9\n",
            "1 6\n",
            "1\n",
            "6 2\n",
            "6\n"
          ]
        }
      ]
    },
    {
      "cell_type": "markdown",
      "source": [
        "## 나누기: https://www.acmicpc.net/problem/1075"
      ],
      "metadata": {
        "id": "pt-bZXOCKKmr"
      }
    },
    {
      "cell_type": "code",
      "execution_count": 54,
      "metadata": {
        "colab": {
          "base_uri": "https://localhost:8080/"
        },
        "id": "CxYsi2H9JOZn",
        "outputId": "3f1dcbe6-ef1e-46d3-89a5-72d5e692a5eb"
      },
      "outputs": [
        {
          "output_type": "stream",
          "name": "stdout",
          "text": [
            "23442\n",
            "75\n",
            "00\n"
          ]
        }
      ],
      "source": [
        "n = int(input()[:-2] + '00')\n",
        "f = int(input())\n",
        "\n",
        "# for i in range(99):\n",
        "#   if n % f == 0:\n",
        "#     break\n",
        "#   n += 1\n",
        "\n",
        "while n % f != 0:\n",
        "  n += 1\n",
        "\n",
        "print(str(n)[-2:])"
      ]
    },
    {
      "cell_type": "markdown",
      "source": [
        "## 저항: https://www.acmicpc.net/problem/1076"
      ],
      "metadata": {
        "id": "GC0uMkEjffeC"
      }
    },
    {
      "cell_type": "code",
      "source": [
        "color = ['black', 'brown', 'red', 'orange', 'yellow', 'green', 'blue', 'violet', 'grey', 'white']\n",
        "ohm = 0\n",
        "\n",
        "for i in range(3):\n",
        "  index = color.index(input())\n",
        "  if i == 2:\n",
        "    ohm *= 10 ** index\n",
        "  else:\n",
        "    ohm += 10 ** (1 - i) * index\n",
        "\n",
        "print(ohm)"
      ],
      "metadata": {
        "colab": {
          "base_uri": "https://localhost:8080/"
        },
        "id": "ycJdyQLXT2C7",
        "outputId": "ec160b1c-669b-42b3-ad7c-6d47694bd1fe"
      },
      "execution_count": 75,
      "outputs": [
        {
          "name": "stdout",
          "output_type": "stream",
          "text": [
            "white\n",
            "white\n",
            "white\n"
          ]
        }
      ]
    },
    {
      "cell_type": "markdown",
      "source": [
        "## 하얀 칸: https://www.acmicpc.net/problem/1100"
      ],
      "metadata": {
        "id": "nRc-mkW-icdE"
      }
    },
    {
      "cell_type": "code",
      "source": [
        "count = 0\n",
        "for j in range(8):\n",
        "  chess = input()\n",
        "  chess = '.' + chess if j % 2 else chess\n",
        "  for idx, i in enumerate(chess):\n",
        "    if i == 'F' and idx % 2 == 0:\n",
        "      count += 1\n",
        "\n",
        "print(count)"
      ],
      "metadata": {
        "colab": {
          "base_uri": "https://localhost:8080/"
        },
        "id": "iGAiV2criefO",
        "outputId": "7c7e23d3-6232-46a8-ffe4-bb9409b6e6df"
      },
      "execution_count": 78,
      "outputs": [
        {
          "output_type": "stream",
          "name": "stdout",
          "text": [
            ".F.F...F\n",
            "F...F.F.\n",
            "...F.F.F\n",
            "F.F...F.\n",
            ".F...F..\n",
            "F...F.F.\n",
            ".F.F.F.F\n",
            "..FF..F.\n",
            "0\n"
          ]
        }
      ]
    },
    {
      "cell_type": "code",
      "source": [
        "count = 0\n",
        "for j in range(8):\n",
        "  chess = input()\n",
        "  chess = '.' + chess if j % 2 else chess\n",
        "  count += chess[::2].count('F')\n",
        "\n",
        "print(count)"
      ],
      "metadata": {
        "colab": {
          "base_uri": "https://localhost:8080/"
        },
        "id": "Ai0Fdd1_jTIl",
        "outputId": "15ca4412-a593-4a31-f545-a2a1aaaa2824"
      },
      "execution_count": 79,
      "outputs": [
        {
          "output_type": "stream",
          "name": "stdout",
          "text": [
            ".F.F...F\n",
            "F...F.F.\n",
            "...F.F.F\n",
            "F.F...F.\n",
            ".F...F..\n",
            "F...F.F.\n",
            ".F.F.F.F\n",
            "..FF..F.\n",
            "1\n"
          ]
        }
      ]
    },
    {
      "cell_type": "markdown",
      "source": [
        "## 농구 경기: https://www.acmicpc.net/problem/1159"
      ],
      "metadata": {
        "id": "_nAzhSF5mGhW"
      }
    },
    {
      "cell_type": "code",
      "source": [
        "n = int(input())\n",
        "player = [input()[0] for _ in range(n)]\n",
        "select = ''\n",
        "\n",
        "for x in set(player):\n",
        "  if player.count(x) >= 5:\n",
        "    select += x\n",
        "\n",
        "if select != '':\n",
        "  print(''.join(sorted(select)))\n",
        "else:\n",
        "  print('PREDAJA')"
      ],
      "metadata": {
        "colab": {
          "base_uri": "https://localhost:8080/"
        },
        "id": "jnSQR-wAmnQK",
        "outputId": "9793eae2-c9c8-40c3-8083-7b106f1452b6"
      },
      "execution_count": 20,
      "outputs": [
        {
          "output_type": "stream",
          "name": "stdout",
          "text": [
            "10\n",
            "ba\n",
            "bb\n",
            "bc\n",
            "bd\n",
            "be\n",
            "aa\n",
            "ab\n",
            "ac\n",
            "ad\n",
            "ae\n",
            "ab\n"
          ]
        }
      ]
    },
    {
      "cell_type": "markdown",
      "source": [
        "## 운동: https://www.acmicpc.net/problem/1173"
      ],
      "metadata": {
        "id": "x58tgmuNru-W"
      }
    },
    {
      "cell_type": "code",
      "source": [
        "N, m, M, T, R = map(int, input().split())\n",
        "count = 0\n",
        "\n",
        "while N != 0:\n",
        "  if m + T <= M:\n",
        "    m += T\n",
        "    N -= 1\n",
        "  else:\n",
        "    m -= R\n",
        "  count += 1\n",
        "\n",
        "print(count)"
      ],
      "metadata": {
        "colab": {
          "base_uri": "https://localhost:8080/"
        },
        "id": "g5xZfZ4kmy05",
        "outputId": "e8f5354e-057f-4306-a009-ee1d89956bf2"
      },
      "execution_count": 25,
      "outputs": [
        {
          "output_type": "stream",
          "name": "stdout",
          "text": [
            "100 50 100 5 200\n",
            "103\n"
          ]
        }
      ]
    },
    {
      "cell_type": "code",
      "source": [],
      "metadata": {
        "id": "s7k3NtCxtDg6"
      },
      "execution_count": null,
      "outputs": []
    }
  ]
}