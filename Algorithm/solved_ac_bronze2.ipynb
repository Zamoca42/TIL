{
  "nbformat": 4,
  "nbformat_minor": 0,
  "metadata": {
    "colab": {
      "provenance": [],
      "authorship_tag": "ABX9TyNvb+ZNJeFzjpwuTkAK6Phh",
      "include_colab_link": true
    },
    "kernelspec": {
      "name": "python3",
      "display_name": "Python 3"
    },
    "language_info": {
      "name": "python"
    }
  },
  "cells": [
    {
      "cell_type": "markdown",
      "metadata": {
        "id": "view-in-github",
        "colab_type": "text"
      },
      "source": [
        "<a href=\"https://colab.research.google.com/github/Zamoca42/TIL/blob/main/Algorithm/solved_ac_bronze2.ipynb\" target=\"_parent\"><img src=\"https://colab.research.google.com/assets/colab-badge.svg\" alt=\"Open In Colab\"/></a>"
      ]
    },
    {
      "cell_type": "markdown",
      "source": [
        "## 분산처리: https://www.acmicpc.net/problem/1009"
      ],
      "metadata": {
        "id": "TjeyYvFNJSTa"
      }
    },
    {
      "cell_type": "code",
      "source": [
        "for _ in range(int(input())):\n",
        "  a, b = map(int, input().split())\n",
        "  b = b % 4 if b % 4 else 4\n",
        "  result = a ** b % 10\n",
        "  print(result if result else 10)"
      ],
      "metadata": {
        "colab": {
          "base_uri": "https://localhost:8080/"
        },
        "id": "agRy32jeJSGk",
        "outputId": "e74acd77-8ca0-4691-f576-cd8ae6a0380f"
      },
      "execution_count": null,
      "outputs": [
        {
          "output_type": "stream",
          "name": "stdout",
          "text": [
            "5\n",
            "7 4\n",
            "1\n",
            "8 3\n",
            "2\n",
            "9 635\n",
            "9\n",
            "1 6\n",
            "1\n",
            "6 2\n",
            "6\n"
          ]
        }
      ]
    },
    {
      "cell_type": "markdown",
      "source": [
        "## 나누기: https://www.acmicpc.net/problem/1075"
      ],
      "metadata": {
        "id": "pt-bZXOCKKmr"
      }
    },
    {
      "cell_type": "code",
      "execution_count": null,
      "metadata": {
        "colab": {
          "base_uri": "https://localhost:8080/"
        },
        "id": "CxYsi2H9JOZn",
        "outputId": "3f1dcbe6-ef1e-46d3-89a5-72d5e692a5eb"
      },
      "outputs": [
        {
          "output_type": "stream",
          "name": "stdout",
          "text": [
            "23442\n",
            "75\n",
            "00\n"
          ]
        }
      ],
      "source": [
        "n = int(input()[:-2] + '00')\n",
        "f = int(input())\n",
        "\n",
        "# for i in range(99):\n",
        "#   if n % f == 0:\n",
        "#     break\n",
        "#   n += 1\n",
        "\n",
        "while n % f != 0:\n",
        "  n += 1\n",
        "\n",
        "print(str(n)[-2:])"
      ]
    },
    {
      "cell_type": "markdown",
      "source": [
        "## 저항: https://www.acmicpc.net/problem/1076"
      ],
      "metadata": {
        "id": "GC0uMkEjffeC"
      }
    },
    {
      "cell_type": "code",
      "source": [
        "color = ['black', 'brown', 'red', 'orange', 'yellow', 'green', 'blue', 'violet', 'grey', 'white']\n",
        "ohm = 0\n",
        "\n",
        "for i in range(3):\n",
        "  index = color.index(input())\n",
        "  if i == 2:\n",
        "    ohm *= 10 ** index\n",
        "  else:\n",
        "    ohm += 10 ** (1 - i) * index\n",
        "\n",
        "print(ohm)"
      ],
      "metadata": {
        "colab": {
          "base_uri": "https://localhost:8080/"
        },
        "id": "ycJdyQLXT2C7",
        "outputId": "ec160b1c-669b-42b3-ad7c-6d47694bd1fe"
      },
      "execution_count": null,
      "outputs": [
        {
          "name": "stdout",
          "output_type": "stream",
          "text": [
            "white\n",
            "white\n",
            "white\n"
          ]
        }
      ]
    },
    {
      "cell_type": "markdown",
      "source": [
        "## 하얀 칸: https://www.acmicpc.net/problem/1100"
      ],
      "metadata": {
        "id": "nRc-mkW-icdE"
      }
    },
    {
      "cell_type": "code",
      "source": [
        "count = 0\n",
        "for j in range(8):\n",
        "  chess = input()\n",
        "  chess = '.' + chess if j % 2 else chess\n",
        "  for idx, i in enumerate(chess):\n",
        "    if i == 'F' and idx % 2 == 0:\n",
        "      count += 1\n",
        "\n",
        "print(count)"
      ],
      "metadata": {
        "colab": {
          "base_uri": "https://localhost:8080/"
        },
        "id": "iGAiV2criefO",
        "outputId": "7c7e23d3-6232-46a8-ffe4-bb9409b6e6df"
      },
      "execution_count": null,
      "outputs": [
        {
          "output_type": "stream",
          "name": "stdout",
          "text": [
            ".F.F...F\n",
            "F...F.F.\n",
            "...F.F.F\n",
            "F.F...F.\n",
            ".F...F..\n",
            "F...F.F.\n",
            ".F.F.F.F\n",
            "..FF..F.\n",
            "0\n"
          ]
        }
      ]
    },
    {
      "cell_type": "code",
      "source": [
        "count = 0\n",
        "for j in range(8):\n",
        "  chess = input()\n",
        "  chess = '.' + chess if j % 2 else chess\n",
        "  count += chess[::2].count('F')\n",
        "\n",
        "print(count)"
      ],
      "metadata": {
        "colab": {
          "base_uri": "https://localhost:8080/"
        },
        "id": "Ai0Fdd1_jTIl",
        "outputId": "15ca4412-a593-4a31-f545-a2a1aaaa2824"
      },
      "execution_count": null,
      "outputs": [
        {
          "output_type": "stream",
          "name": "stdout",
          "text": [
            ".F.F...F\n",
            "F...F.F.\n",
            "...F.F.F\n",
            "F.F...F.\n",
            ".F...F..\n",
            "F...F.F.\n",
            ".F.F.F.F\n",
            "..FF..F.\n",
            "1\n"
          ]
        }
      ]
    },
    {
      "cell_type": "markdown",
      "source": [
        "## 농구 경기: https://www.acmicpc.net/problem/1159"
      ],
      "metadata": {
        "id": "_nAzhSF5mGhW"
      }
    },
    {
      "cell_type": "code",
      "source": [
        "n = int(input())\n",
        "player = [input()[0] for _ in range(n)]\n",
        "select = ''\n",
        "\n",
        "for x in set(player):\n",
        "  if player.count(x) >= 5:\n",
        "    select += x\n",
        "\n",
        "if select != '':\n",
        "  print(''.join(sorted(select)))\n",
        "else:\n",
        "  print('PREDAJA')"
      ],
      "metadata": {
        "colab": {
          "base_uri": "https://localhost:8080/"
        },
        "id": "jnSQR-wAmnQK",
        "outputId": "9793eae2-c9c8-40c3-8083-7b106f1452b6"
      },
      "execution_count": null,
      "outputs": [
        {
          "output_type": "stream",
          "name": "stdout",
          "text": [
            "10\n",
            "ba\n",
            "bb\n",
            "bc\n",
            "bd\n",
            "be\n",
            "aa\n",
            "ab\n",
            "ac\n",
            "ad\n",
            "ae\n",
            "ab\n"
          ]
        }
      ]
    },
    {
      "cell_type": "markdown",
      "source": [
        "## 운동: https://www.acmicpc.net/problem/1173"
      ],
      "metadata": {
        "id": "x58tgmuNru-W"
      }
    },
    {
      "cell_type": "code",
      "source": [
        "N, m, M, T, R = map(int, input().split())\n",
        "count = 0\n",
        "X = m\n",
        "\n",
        "while N > 0:\n",
        "  if m + T > M:\n",
        "    count = -1\n",
        "    break\n",
        "\n",
        "  if X + T <= M:\n",
        "    X += T\n",
        "    N -= 1\n",
        "  else:\n",
        "    X = m if m > X - R else X - R\n",
        "\n",
        "  count += 1\n",
        "\n",
        "print(count)"
      ],
      "metadata": {
        "colab": {
          "base_uri": "https://localhost:8080/"
        },
        "id": "g5xZfZ4kmy05",
        "outputId": "5bd8000e-ab96-44d7-925e-c284babe9938"
      },
      "execution_count": null,
      "outputs": [
        {
          "output_type": "stream",
          "name": "stdout",
          "text": [
            "19 89 143 17 13\n",
            "40\n"
          ]
        }
      ]
    },
    {
      "cell_type": "markdown",
      "source": [
        "## 8진수 2진수: https://www.acmicpc.net/problem/1212"
      ],
      "metadata": {
        "id": "ixSzaWuC9MDN"
      }
    },
    {
      "cell_type": "code",
      "source": [
        "n = input()\n",
        "for idx, i in enumerate(n):\n",
        "  binary = format(int(i), 'b')\n",
        "  if idx == 0:\n",
        "    print(binary, end = '')\n",
        "  else:\n",
        "    print('0' * (3 - len(binary)) + binary, end = '')"
      ],
      "metadata": {
        "colab": {
          "base_uri": "https://localhost:8080/"
        },
        "id": "KW6l2mHa9TdF",
        "outputId": "3f16a960-b751-4730-9799-07eaee6799c8"
      },
      "execution_count": null,
      "outputs": [
        {
          "output_type": "stream",
          "name": "stdout",
          "text": [
            "314\n",
            "11001100"
          ]
        }
      ]
    },
    {
      "cell_type": "code",
      "source": [
        "n = input()\n",
        "\n",
        "for idx, i in enumerate(n):\n",
        "  binary = format(int(i), 'b')\n",
        "  print(binary if idx == 0 else '0' * (3 - len(binary)) + binary, end = '')"
      ],
      "metadata": {
        "colab": {
          "base_uri": "https://localhost:8080/"
        },
        "id": "dgpwK9hl_qnX",
        "outputId": "5edb8f0b-bccf-4f46-f4d5-688d158af1e9"
      },
      "execution_count": null,
      "outputs": [
        {
          "output_type": "stream",
          "name": "stdout",
          "text": [
            "314\n",
            "11001100"
          ]
        }
      ]
    },
    {
      "cell_type": "markdown",
      "source": [
        "- int(string, radix): 문자열을 radix 진법에 맞게 반환한다. 기본 radix는 10진법이다"
      ],
      "metadata": {
        "id": "JObW9yL8AkqM"
      }
    },
    {
      "cell_type": "code",
      "source": [
        "print(format(int(input(),8),'b'))"
      ],
      "metadata": {
        "colab": {
          "base_uri": "https://localhost:8080/"
        },
        "id": "9dS6CwEBAFMN",
        "outputId": "d8c2972f-f063-4bd2-8383-fca32379cf22"
      },
      "execution_count": null,
      "outputs": [
        {
          "output_type": "stream",
          "name": "stdout",
          "text": [
            "314\n",
            "11001100\n"
          ]
        }
      ]
    },
    {
      "cell_type": "markdown",
      "source": [
        "## 이상한 곱셈: https://www.acmicpc.net/problem/1225"
      ],
      "metadata": {
        "id": "URLjqp4wBgQ4"
      }
    },
    {
      "cell_type": "markdown",
      "source": [
        "- python으로 제출시 시간초과 (2초)\n",
        "  - 10,000 * 10,000으로 약 1억번 연산 필요"
      ],
      "metadata": {
        "id": "Z_cgYDdXMvRv"
      }
    },
    {
      "cell_type": "code",
      "source": [
        "a, b = input().split()\n",
        "count = 0\n",
        "\n",
        "for i in a:\n",
        "  for j in b:\n",
        "    count += int(i) * int(j)\n",
        "\n",
        "print(count)"
      ],
      "metadata": {
        "colab": {
          "base_uri": "https://localhost:8080/"
        },
        "id": "LwSAsr4ABkUq",
        "outputId": "02cd2ed2-3de2-4ddf-e152-90c80ec02794"
      },
      "execution_count": null,
      "outputs": [
        {
          "output_type": "stream",
          "name": "stdout",
          "text": [
            "123 45\n",
            "54\n"
          ]
        }
      ]
    },
    {
      "cell_type": "code",
      "source": [
        "a, b = input().split()\n",
        "b = sum(list(int(i) for i in b))\n",
        "print(sum(list(int(i) * b for i in a)))"
      ],
      "metadata": {
        "colab": {
          "base_uri": "https://localhost:8080/"
        },
        "id": "WbE1jGQ6Cirt",
        "outputId": "cdd8671f-b90f-45b5-bc34-c5d41fee7987"
      },
      "execution_count": null,
      "outputs": [
        {
          "output_type": "stream",
          "name": "stdout",
          "text": [
            "123 45\n",
            "54\n"
          ]
        }
      ]
    },
    {
      "cell_type": "markdown",
      "source": [
        "## 이진수 덧셈: https://www.acmicpc.net/problem/1252"
      ],
      "metadata": {
        "id": "AE7t-dqTNYCi"
      }
    },
    {
      "cell_type": "code",
      "source": [
        "a, b = input().split()\n",
        "print(format(int(a, 2) + int(b, 2), 'b'))"
      ],
      "metadata": {
        "colab": {
          "base_uri": "https://localhost:8080/"
        },
        "id": "GDkErSDuDQXQ",
        "outputId": "efe0e373-e497-40d1-fedc-130d94525ea0"
      },
      "execution_count": null,
      "outputs": [
        {
          "output_type": "stream",
          "name": "stdout",
          "text": [
            "1001101 10010\n",
            "1011111\n"
          ]
        }
      ]
    },
    {
      "cell_type": "markdown",
      "source": [
        "## TV 크기: https://www.acmicpc.net/problem/1297"
      ],
      "metadata": {
        "id": "Qy6R0wONRoJF"
      }
    },
    {
      "cell_type": "code",
      "source": [
        "d, h, w = map(int,input().split())\n",
        "\n",
        "ratio = d / (h ** 2 + w ** 2) ** 0.5\n",
        "\n",
        "print(int(ratio * h), int(ratio * w))"
      ],
      "metadata": {
        "colab": {
          "base_uri": "https://localhost:8080/"
        },
        "id": "_tgoDjJqNrbq",
        "outputId": "b12822dc-7503-4bd5-d2f0-424aaec9ffd3"
      },
      "execution_count": null,
      "outputs": [
        {
          "output_type": "stream",
          "name": "stdout",
          "text": [
            "11 15 16\n",
            "7 8\n"
          ]
        }
      ]
    },
    {
      "cell_type": "markdown",
      "source": [
        "## 부재중 전화: https://www.acmicpc.net/problem/1333"
      ],
      "metadata": {
        "id": "pmOMzCTyXSch"
      }
    },
    {
      "cell_type": "code",
      "source": [
        "import math\n",
        "\n",
        "n, l, d = map(int, input().split())\n",
        "during = l + 5\n",
        "count = 0\n",
        "\n",
        "while count < n:\n",
        "  if l + (during * count) < d * (count + 1) < during + (during * count):\n",
        "    break\n",
        "  count += 1\n",
        "\n",
        "if count == n:\n",
        "  print(d * math.ceil(((l * n) + (5 * (n - 1))) / d))\n",
        "else:\n",
        "  print(d + (d * count))"
      ],
      "metadata": {
        "colab": {
          "base_uri": "https://localhost:8080/"
        },
        "id": "oR1fbsAgS3Do",
        "outputId": "bce714cf-250c-4c0a-a887-6501aadd3703"
      },
      "execution_count": null,
      "outputs": [
        {
          "output_type": "stream",
          "name": "stdout",
          "text": [
            "6 9 20\n",
            "80\n"
          ]
        }
      ]
    },
    {
      "cell_type": "code",
      "source": [
        "n, l, d = map(int, input().split())\n",
        "\n",
        "ring = list(d * i for i in range(1, (n * (l + 5)) // d))\n",
        "phase = [[i - 5, i] for i in range(l + 5, (l + 5) * n, l + 5)]\n",
        "call = 0\n",
        "\n",
        "for x in ring:\n",
        "  for j in phase:\n",
        "    if x in range(j[0], j[1]):\n",
        "      call = x\n",
        "      break\n",
        "\n",
        "if call:\n",
        "  print(call)\n",
        "else:\n",
        "  print(d * (len(ring) + 1))"
      ],
      "metadata": {
        "colab": {
          "base_uri": "https://localhost:8080/"
        },
        "id": "xA_SHdfSdegG",
        "outputId": "ea3a0325-efae-49b7-d3dd-816d37495ffa"
      },
      "execution_count": null,
      "outputs": [
        {
          "output_type": "stream",
          "name": "stdout",
          "text": [
            "4 5 20\n",
            "[20]\n",
            "[[5, 10], [15, 20], [25, 30]]\n",
            "20\n"
          ]
        }
      ]
    },
    {
      "cell_type": "code",
      "source": [
        "phase = [[i - 5, i] for i in range(14, 14 * 7, 14)]\n",
        "print(phase)"
      ],
      "metadata": {
        "colab": {
          "base_uri": "https://localhost:8080/"
        },
        "id": "EEYgcKlnidVC",
        "outputId": "f4cdab9a-5af3-4223-a827-8ceb6669e880"
      },
      "execution_count": null,
      "outputs": [
        {
          "output_type": "stream",
          "name": "stdout",
          "text": [
            "[[9, 14], [23, 28], [37, 42], [51, 56], [65, 70], [79, 84]]\n"
          ]
        },
        {
          "output_type": "execute_result",
          "data": {
            "text/plain": [
              "(9, 14)"
            ]
          },
          "metadata": {},
          "execution_count": 43
        }
      ]
    },
    {
      "cell_type": "code",
      "source": [
        "N, L, D = map(int, input().split())\n",
        "total = N * L + (N - 1) * 5 # 앨범의 총 길이\n",
        "song = [False] * total # 노래가 나오는 시간대를 체크할 것임\n",
        "\n",
        "for i in range(0, total, L + 5): # 각 노래는 0 초부터 시작해서 L + 5 초마다 나온다.\n",
        "    for j in range(i, i + L): # 시작하는 부분 i부터 노래가 끝나는 부분인 i + L 전까지 체크\n",
        "        song[j] = True\n",
        "\n",
        "for i in range(0, total, D): # 0초부터 D초마다 노래가 나오는지 체크\n",
        "    if not song[i]:\n",
        "        print(i)\n",
        "        break\n",
        "else:\n",
        "    print(i + D)"
      ],
      "metadata": {
        "id": "6fpgWT2weFFq"
      },
      "execution_count": null,
      "outputs": []
    },
    {
      "cell_type": "code",
      "source": [
        "if __name__ == '__main__':\n",
        "    n, l, d = map(int, input().split())\n",
        "    check = [False] * (n * l + 5 * (n - 1))\n",
        "\n",
        "    print(check)\n",
        "\n",
        "    for i in range(n):\n",
        "        s = (l + 5) * i\n",
        "        for j in range(s, s + l):\n",
        "            check[j] = True\n",
        "\n",
        "    answer = 0\n",
        "    while answer < len(check):\n",
        "        if not check[answer]:\n",
        "            break\n",
        "        answer += d\n",
        "    print(check)\n",
        "    print(len(check))\n",
        "    print(answer)\n"
      ],
      "metadata": {
        "colab": {
          "base_uri": "https://localhost:8080/"
        },
        "id": "M3hthoHSljSG",
        "outputId": "cb734890-8112-4236-a3d3-f029a822677f"
      },
      "execution_count": null,
      "outputs": [
        {
          "output_type": "stream",
          "name": "stdout",
          "text": [
            "6 9 20\n",
            "[False, False, False, False, False, False, False, False, False, False, False, False, False, False, False, False, False, False, False, False, False, False, False, False, False, False, False, False, False, False, False, False, False, False, False, False, False, False, False, False, False, False, False, False, False, False, False, False, False, False, False, False, False, False, False, False, False, False, False, False, False, False, False, False, False, False, False, False, False, False, False, False, False, False, False, False, False, False, False]\n",
            "[True, True, True, True, True, True, True, True, True, False, False, False, False, False, True, True, True, True, True, True, True, True, True, False, False, False, False, False, True, True, True, True, True, True, True, True, True, False, False, False, False, False, True, True, True, True, True, True, True, True, True, False, False, False, False, False, True, True, True, True, True, True, True, True, True, False, False, False, False, False, True, True, True, True, True, True, True, True, True]\n",
            "79\n",
            "40\n"
          ]
        }
      ]
    },
    {
      "cell_type": "code",
      "source": [
        "if __name__ == '__main__':\n",
        "    n, l, d = map(int, input().split())\n",
        "    check = [False] * (n * l + 5 * (n - 1))\n",
        "\n",
        "    for i in range(n):\n",
        "        s = (l + 5) * i\n",
        "        for j in range(s, s + l):\n",
        "            check[j] = True\n",
        "\n",
        "    answer = 0\n",
        "    while answer < len(check):\n",
        "        if not check[answer]:\n",
        "            break\n",
        "        answer += d\n",
        "    print(answer)"
      ],
      "metadata": {
        "id": "Quh90JFCtkj7"
      },
      "execution_count": null,
      "outputs": []
    },
    {
      "cell_type": "markdown",
      "source": [
        "- 다른사람의 코드는 공통되게 총 음악앨범의 초(음악 + 휴식)만큼 bool을 가지는 리스트생성\n",
        "  - 휴식은 False, 음악은 True의 식으로 True, False로 나누기\n",
        "  - 리스트의 d 인덱스만큼 탐색하면서 False(휴식)를 찾기\n",
        "  - 찾은 부분의 인덱스 출력"
      ],
      "metadata": {
        "id": "BfdYtL-msgnt"
      }
    },
    {
      "cell_type": "markdown",
      "source": [
        "## 진짜 공간: https://www.acmicpc.net/problem/1350"
      ],
      "metadata": {
        "id": "ou0i-66VujzJ"
      }
    },
    {
      "cell_type": "code",
      "source": [
        "divmod(600, 512)\n"
      ],
      "metadata": {
        "colab": {
          "base_uri": "https://localhost:8080/"
        },
        "id": "N83u7vj6ukz_",
        "outputId": "a28e4503-abd5-4bd2-f7c8-f8a822b7d0ca"
      },
      "execution_count": null,
      "outputs": [
        {
          "output_type": "execute_result",
          "data": {
            "text/plain": [
              "(1, 88)"
            ]
          },
          "metadata": {},
          "execution_count": 73
        }
      ]
    },
    {
      "cell_type": "code",
      "source": [
        "divmod(4096, 1024)\n",
        "divmod(33792, 1024)\n",
        "divmod(76800, 1024)"
      ],
      "metadata": {
        "colab": {
          "base_uri": "https://localhost:8080/"
        },
        "id": "tQF4wSkRumvJ",
        "outputId": "3b488085-f6f8-409a-9ab5-6d69087a2734"
      },
      "execution_count": null,
      "outputs": [
        {
          "output_type": "execute_result",
          "data": {
            "text/plain": [
              "(75, 0)"
            ]
          },
          "metadata": {},
          "execution_count": 77
        }
      ]
    },
    {
      "cell_type": "code",
      "source": [
        "divmod(0, 8)"
      ],
      "metadata": {
        "colab": {
          "base_uri": "https://localhost:8080/"
        },
        "id": "Y3vtfdRuuyED",
        "outputId": "c61c1c52-0db4-4ce7-dab6-1f94e76612cf"
      },
      "execution_count": null,
      "outputs": [
        {
          "output_type": "execute_result",
          "data": {
            "text/plain": [
              "(0, 0)"
            ]
          },
          "metadata": {},
          "execution_count": 75
        }
      ]
    },
    {
      "cell_type": "code",
      "source": [
        "divmod(0, 32768)"
      ],
      "metadata": {
        "colab": {
          "base_uri": "https://localhost:8080/"
        },
        "id": "hc4wsC3Wu6eY",
        "outputId": "9d81ed22-ffbe-4a8f-b212-e3671402ddb2"
      },
      "execution_count": null,
      "outputs": [
        {
          "output_type": "execute_result",
          "data": {
            "text/plain": [
              "(0, 0)"
            ]
          },
          "metadata": {},
          "execution_count": 80
        }
      ]
    },
    {
      "cell_type": "code",
      "source": [
        "n = int(input())\n",
        "file = list(map(int, input().split()))\n",
        "disk = int(input())\n",
        "\n",
        "for i in range(n):\n",
        "  div, mod = divmod(file[i], disk)\n",
        "  file[i] = div\n",
        "  if mod != 0:\n",
        "    file.append(1)\n",
        "\n",
        "print(sum(file) * disk)"
      ],
      "metadata": {
        "id": "fwg7kKaVxjLo"
      },
      "execution_count": null,
      "outputs": []
    },
    {
      "cell_type": "code",
      "source": [
        "from math import ceil\n",
        "\n",
        "n = int(input())\n",
        "file = list(map(int, input().split()))\n",
        "disk = int(input())\n",
        "count = 0\n",
        "\n",
        "for i in file:\n",
        "  count += ceil(i / disk)\n",
        "\n",
        "print(count * disk)"
      ],
      "metadata": {
        "colab": {
          "base_uri": "https://localhost:8080/"
        },
        "id": "soy8FmzovY1H",
        "outputId": "7dca27a7-b1df-4b04-dbd3-32b97064c4fa"
      },
      "execution_count": null,
      "outputs": [
        {
          "output_type": "stream",
          "name": "stdout",
          "text": [
            "3\n",
            "4096 33792 76800\n",
            "1024\n",
            "114688\n"
          ]
        }
      ]
    },
    {
      "cell_type": "markdown",
      "source": [
        "## 펫: https://www.acmicpc.net/problem/1362"
      ],
      "metadata": {
        "id": "lVnHnnCN2uME"
      }
    },
    {
      "cell_type": "code",
      "source": [
        "count = 0\n",
        "\n",
        "while True:\n",
        "  o, w = map(int, input().split())\n",
        "  m = ''\n",
        "\n",
        "  if (o, w) == (0, 0):\n",
        "    break\n",
        "\n",
        "  while True:\n",
        "    command = list(input().split())\n",
        "    key = command[0]\n",
        "    data = int(command[1])\n",
        "\n",
        "    if (key, data) == ('#', 0):\n",
        "      break\n",
        "\n",
        "    if key == 'E':\n",
        "      w -= data\n",
        "    elif key == 'F':\n",
        "      w += data\n",
        "\n",
        "    if w <= 0:\n",
        "      m = 'RIP'\n",
        "\n",
        "  count += 1\n",
        "  if m != 'RIP':\n",
        "    if o * 0.5 < w < o * 2:\n",
        "      m = ':-)'\n",
        "    else:\n",
        "      m = ':-('\n",
        "\n",
        "  print(count, m)"
      ],
      "metadata": {
        "colab": {
          "base_uri": "https://localhost:8080/"
        },
        "id": "CdpndeTP2wDk",
        "outputId": "6becec9f-7778-4a8a-f185-5671af232a60"
      },
      "execution_count": null,
      "outputs": [
        {
          "name": "stdout",
          "output_type": "stream",
          "text": [
            "100 100\n",
            "E 100\n",
            "F 100\n",
            "# 0\n",
            "1 RIP\n",
            "100 100\n",
            "# 0\n",
            "2 :-)\n",
            "0 0\n"
          ]
        }
      ]
    },
    {
      "cell_type": "code",
      "source": [
        "scene_num = 0\n",
        "state = [\":-)\", \":-(\", \"RIP\"]\n",
        "\n",
        "while (n:=input().split()) != [\"0\", \"0\"]:\n",
        "    o, w = map(int, n)\n",
        "    while (m:=input().split()) != [\"#\", \"0\"]:\n",
        "        if w > 0:\n",
        "            if m[0] == \"F\":\n",
        "                w += int(m[1])\n",
        "            else:\n",
        "                w -= int(m[1])\n",
        "\n",
        "    scene_num += 1\n",
        "    if (o * 0.5) < w < (o * 2):\n",
        "        print(scene_num, state[0])\n",
        "    elif w <= 0:\n",
        "        print(scene_num, state[2])\n",
        "    else:\n",
        "        print(scene_num, state[1])"
      ],
      "metadata": {
        "id": "Acc6vAzl5hpC"
      },
      "execution_count": null,
      "outputs": []
    },
    {
      "cell_type": "markdown",
      "source": [
        "## 가장 많은 글자: https://www.acmicpc.net/problem/1371"
      ],
      "metadata": {
        "id": "Vr-pn704DVFn"
      }
    },
    {
      "cell_type": "code",
      "source": [
        "# import sys\n",
        "# input = sys.stdin.read\n",
        "\n",
        "alphabet = [0] * 26\n",
        "m = input().replace(\"\\n\",\"\").replace(' ','')\n",
        "\n",
        "for i in m:\n",
        "  alphabet[ord(i) - 97] += 1\n",
        "\n",
        "r = ''\n",
        "for i in range(len(alphabet)):\n",
        "  if alphabet[i] == max(alphabet):\n",
        "    r += chr(97 + i)\n",
        "\n",
        "print(r)"
      ],
      "metadata": {
        "colab": {
          "base_uri": "https://localhost:8080/"
        },
        "id": "IUQY2JlQ-CTT",
        "outputId": "c7ee2186-e2ae-4f02-a26c-e934bb21945e"
      },
      "execution_count": null,
      "outputs": [
        {
          "output_type": "stream",
          "name": "stdout",
          "text": [
            "amanda forsaken bloomer meditated gauging knolls betas neurons integrative expender commonalities latins antidotes crutched bandwidths begetting prompting dog association athenians christian ires pompousness percolating figured bagatelles bursted ninth boyfriends longingly muddlers prudence puns groove deliberators charter collectively yorks daringly antithesis inaptness aerosol carolinas payoffs chumps chirps gentler inexpressive morales\n",
            "e\n"
          ]
        }
      ]
    },
    {
      "cell_type": "markdown",
      "source": [
        "## 노래 악보: https://www.acmicpc.net/problem/1392"
      ],
      "metadata": {
        "id": "OWR1yKWCHWRG"
      }
    },
    {
      "cell_type": "code",
      "source": [
        "n, q = map(int, input().split())\n",
        "array = []\n",
        "\n",
        "for i in range(1, n + 1):\n",
        "  m = int(input())\n",
        "  for j in range(m):\n",
        "    array.append(i)\n",
        "\n",
        "for i in range(q):\n",
        "  m = int(input())\n",
        "  print(array[m])"
      ],
      "metadata": {
        "colab": {
          "base_uri": "https://localhost:8080/"
        },
        "id": "lcqe40vNHYOj",
        "outputId": "436fe835-0dd1-4d9e-cd78-9dc985758fb8"
      },
      "execution_count": 20,
      "outputs": [
        {
          "output_type": "stream",
          "name": "stdout",
          "text": [
            "3 5\n",
            "2\n",
            "1\n",
            "3\n",
            "2\n",
            "2\n",
            "3\n",
            "3\n",
            "4\n",
            "3\n",
            "0\n",
            "1\n",
            "1\n",
            "1\n"
          ]
        }
      ]
    },
    {
      "cell_type": "markdown",
      "source": [
        "## 24: https://www.acmicpc.net/problem/1408"
      ],
      "metadata": {
        "id": "m5iSxB2hny2k"
      }
    },
    {
      "cell_type": "code",
      "source": [
        "h1, m1, s1 = map(int,input().split(':'))\n",
        "t1 = h1 * 3600 + m1 * 60 + s1\n",
        "h2, m2, s2 = map(int,input().split(':'))\n",
        "t2 = h2 * 3600 + m2 * 60 + s2\n",
        "\n",
        "time = t2 - t1\n",
        "\n",
        "h = time // 3600\n",
        "m = time // 60\n",
        "\n",
        "print(f'{h % 24:02}:{m % 60:02}:{time % 60:02}')"
      ],
      "metadata": {
        "colab": {
          "base_uri": "https://localhost:8080/"
        },
        "id": "A16Mbd3Pod20",
        "outputId": "841a6927-5649-4a91-e007-6d8974a335e4"
      },
      "execution_count": 3,
      "outputs": [
        {
          "output_type": "stream",
          "name": "stdout",
          "text": [
            "13:52:30\n",
            "14:00:00\n",
            "00:07:30\n"
          ]
        }
      ]
    },
    {
      "cell_type": "markdown",
      "source": [
        "## 책 정리: https://www.acmicpc.net/problem/1434"
      ],
      "metadata": {
        "id": "mHSdTMcYsKvX"
      }
    },
    {
      "cell_type": "code",
      "source": [
        "n, m = map(int, input().split())\n",
        "\n",
        "a = sum(list(map(int, input().split())))\n",
        "b = sum(list(map(int, input().split())))\n",
        "\n",
        "print(a - b)"
      ],
      "metadata": {
        "colab": {
          "base_uri": "https://localhost:8080/"
        },
        "id": "r2FfRQTcpKzk",
        "outputId": "9366cd67-085e-4c12-8bc9-f6e1e686dd46"
      },
      "execution_count": 4,
      "outputs": [
        {
          "output_type": "stream",
          "name": "stdout",
          "text": [
            "4 5\n",
            "3 4 5 6\n",
            "3 3 3 3 3\n",
            "3\n"
          ]
        }
      ]
    },
    {
      "cell_type": "markdown",
      "source": [
        "## 타임머신: https://www.acmicpc.net/problem/1440"
      ],
      "metadata": {
        "id": "bYh9vgJztVGc"
      }
    },
    {
      "cell_type": "code",
      "source": [
        "time = list(map(int, input().split(':')))\n",
        "count = 0\n",
        "\n",
        "for i in time:\n",
        "  if 0 < i <= 12:\n",
        "    count += 1\n",
        "\n",
        "print(count * 2)"
      ],
      "metadata": {
        "colab": {
          "base_uri": "https://localhost:8080/"
        },
        "id": "789AXthysV45",
        "outputId": "8aaf5819-0d70-475c-ccd8-c507e918ad43"
      },
      "execution_count": 13,
      "outputs": [
        {
          "output_type": "stream",
          "name": "stdout",
          "text": [
            "01:59:59\n",
            "2\n"
          ]
        }
      ]
    },
    {
      "cell_type": "markdown",
      "source": [
        "## 피시방 알바: https://www.acmicpc.net/problem/1453"
      ],
      "metadata": {
        "id": "xHHlD3Fx47NA"
      }
    },
    {
      "cell_type": "code",
      "source": [
        "n = int(input())\n",
        "array = list(map(int, input().split()))\n",
        "count = 0\n",
        "for i in range(1, n + 1):\n",
        "  if array.count(i) > 1:\n",
        "    count += array.count(i) - 1\n",
        "\n",
        "print(count)"
      ],
      "metadata": {
        "colab": {
          "base_uri": "https://localhost:8080/"
        },
        "id": "6oy4i9VrzgcN",
        "outputId": "8a4252ac-4d88-4c20-e664-09c5937c8d8f"
      },
      "execution_count": 15,
      "outputs": [
        {
          "output_type": "stream",
          "name": "stdout",
          "text": [
            "100\n",
            "1 2 3\n",
            "0\n"
          ]
        }
      ]
    },
    {
      "cell_type": "code",
      "source": [
        "int(input())\n",
        "array = [False] * 101\n",
        "nums = list(map(int, input().split()))\n",
        "count = 0\n",
        "for i in nums:\n",
        "  if array[i]:\n",
        "    count += 1\n",
        "  array[i] = True\n",
        "\n",
        "print(count)"
      ],
      "metadata": {
        "colab": {
          "base_uri": "https://localhost:8080/"
        },
        "id": "FuVp79y49Zvx",
        "outputId": "61119fca-db89-4848-b00e-0c4f94d53ebc"
      },
      "execution_count": 17,
      "outputs": [
        {
          "output_type": "stream",
          "name": "stdout",
          "text": [
            "3\n",
            "1 2 3\n",
            "0\n"
          ]
        }
      ]
    },
    {
      "cell_type": "markdown",
      "source": [
        "## 16진수: https://www.acmicpc.net/problem/1550"
      ],
      "metadata": {
        "id": "nIp6RLVB_VLW"
      }
    },
    {
      "cell_type": "code",
      "source": [
        "print(format(int(input(), 16), 'd'))"
      ],
      "metadata": {
        "colab": {
          "base_uri": "https://localhost:8080/"
        },
        "id": "im_-gHdA9E0X",
        "outputId": "204d8804-3c3b-42ba-ea27-2cb9020f2ad4"
      },
      "execution_count": 21,
      "outputs": [
        {
          "output_type": "stream",
          "name": "stdout",
          "text": [
            "A\n",
            "10\n"
          ]
        }
      ]
    },
    {
      "cell_type": "markdown",
      "source": [
        "## 영식이와 친구들: https://www.acmicpc.net/problem/1592"
      ],
      "metadata": {
        "id": "4BMtDyE-xPhC"
      }
    },
    {
      "cell_type": "code",
      "source": [
        "n, m, l = map(int, input().split())\n",
        "\n",
        "array = [0] * 125000\n",
        "array[0] = 1\n",
        "i = 1\n",
        "while array.count(1) != 2:\n",
        "  array[i] = (array[i - 1] + l) % n\n",
        "  i += 1\n",
        "\n",
        "print((i - 1) * (m - 1))"
      ],
      "metadata": {
        "colab": {
          "base_uri": "https://localhost:8080/"
        },
        "id": "7BI9JkvG_xCZ",
        "outputId": "8421af30-13fc-4c7e-910e-41c37a22fcc4"
      },
      "execution_count": 12,
      "outputs": [
        {
          "output_type": "stream",
          "name": "stdout",
          "text": [
            "15 4 9\n",
            "15\n"
          ]
        }
      ]
    },
    {
      "cell_type": "markdown",
      "source": [
        "## 트로피 진열: https://www.acmicpc.net/problem/1668"
      ],
      "metadata": {
        "id": "LZ-UcGPQloVl"
      }
    },
    {
      "cell_type": "code",
      "source": [
        "trophy = [int(input()) for i in range(int(input()))]"
      ],
      "metadata": {
        "colab": {
          "base_uri": "https://localhost:8080/"
        },
        "id": "x2Agmn4x-bfi",
        "outputId": "c7034b30-597c-49d0-f0bd-5a3f49f0ce45"
      },
      "execution_count": 5,
      "outputs": [
        {
          "name": "stdout",
          "output_type": "stream",
          "text": [
            "5\n",
            "1\n",
            "2\n",
            "3\n",
            "4\n",
            "5\n"
          ]
        }
      ]
    },
    {
      "cell_type": "code",
      "source": [
        "print(trophy)"
      ],
      "metadata": {
        "colab": {
          "base_uri": "https://localhost:8080/"
        },
        "id": "pHCsQZAGl5SZ",
        "outputId": "d8bf26ee-0890-4246-e405-3466b49d01c7"
      },
      "execution_count": 6,
      "outputs": [
        {
          "output_type": "stream",
          "name": "stdout",
          "text": [
            "[1, 2, 3, 4, 5]\n"
          ]
        }
      ]
    },
    {
      "cell_type": "code",
      "source": [
        "count = 0\n",
        "val = 0\n",
        "for i in trophy:\n",
        "  val = max(i, val)\n",
        "  if val <= i:\n",
        "    count += 1\n",
        "\n",
        "print(count)"
      ],
      "metadata": {
        "colab": {
          "base_uri": "https://localhost:8080/"
        },
        "id": "X_twQHeQl_N4",
        "outputId": "b28bd405-d9e9-4cee-a3cb-12a1e86d92c4"
      },
      "execution_count": 7,
      "outputs": [
        {
          "output_type": "stream",
          "name": "stdout",
          "text": [
            "5\n"
          ]
        }
      ]
    },
    {
      "cell_type": "code",
      "source": [
        "trophy = trophy[::-1]\n",
        "print(trophy)"
      ],
      "metadata": {
        "colab": {
          "base_uri": "https://localhost:8080/"
        },
        "id": "wNbbahU3m6ff",
        "outputId": "a02ecd57-6c0f-454d-971b-b62168fd5249"
      },
      "execution_count": 8,
      "outputs": [
        {
          "output_type": "stream",
          "name": "stdout",
          "text": [
            "[5, 4, 3, 2, 1]\n"
          ]
        }
      ]
    },
    {
      "cell_type": "code",
      "source": [
        "count = 0\n",
        "val = 0\n",
        "for i in trophy:\n",
        "  val = max(i, val)\n",
        "  if val <= i:\n",
        "    count += 1\n",
        "\n",
        "print(count)"
      ],
      "metadata": {
        "colab": {
          "base_uri": "https://localhost:8080/"
        },
        "id": "4jDY16-HnBU-",
        "outputId": "274f4f44-bfc7-4645-800d-a20c0a11df4f"
      },
      "execution_count": 9,
      "outputs": [
        {
          "output_type": "stream",
          "name": "stdout",
          "text": [
            "1\n"
          ]
        }
      ]
    },
    {
      "cell_type": "code",
      "source": [
        "def view(array):\n",
        "  count = 0\n",
        "  val = 0\n",
        "  for i in array:\n",
        "    if val < i:\n",
        "      count += 1\n",
        "      val = i\n",
        "  print(count)\n",
        "\n",
        "trophy = [int(input()) for i in range(int(input()))]\n",
        "\n",
        "view(trophy)\n",
        "trophy = trophy[::-1]\n",
        "view(trophy)"
      ],
      "metadata": {
        "colab": {
          "base_uri": "https://localhost:8080/"
        },
        "id": "i_eO40Ebnyu9",
        "outputId": "2d8fd8ae-edc5-4337-9665-c225f382b2be"
      },
      "execution_count": 15,
      "outputs": [
        {
          "output_type": "stream",
          "name": "stdout",
          "text": [
            "4\n",
            "5\n",
            "5\n",
            "5\n",
            "5\n",
            "1\n",
            "1\n"
          ]
        }
      ]
    },
    {
      "cell_type": "markdown",
      "source": [
        "## 치킨 쿠폰: https://www.acmicpc.net/problem/1673"
      ],
      "metadata": {
        "id": "Z6gkLiffrTQs"
      }
    },
    {
      "cell_type": "code",
      "source": [
        "while True:\n",
        "  try:\n",
        "    n, k = map(int, input().split())\n",
        "    coupon = n\n",
        "\n",
        "    while coupon != 0:\n",
        "      n += coupon // k\n",
        "      coupon //= k\n",
        "\n",
        "    print(n)\n",
        "  except:\n",
        "    break"
      ],
      "metadata": {
        "colab": {
          "base_uri": "https://localhost:8080/"
        },
        "id": "PL75RYPWrydg",
        "outputId": "2706e7ed-1cb6-49ad-85c8-98542a58c7f1"
      },
      "execution_count": 28,
      "outputs": [
        {
          "name": "stdout",
          "output_type": "stream",
          "text": [
            "4 3\n",
            "5\n",
            "100 5\n",
            "124\n",
            "10 3\n",
            "14\n",
            "\n"
          ]
        }
      ]
    },
    {
      "cell_type": "markdown",
      "source": [
        "## 줄 세우기: https://www.acmicpc.net/problem/1681"
      ],
      "metadata": {
        "id": "fsB_uYzCxhp3"
      }
    },
    {
      "cell_type": "code",
      "source": [
        "n, l = map(int, input().split())\n",
        "count = 0\n",
        "while n:\n",
        "  count += 1\n",
        "  if str(l) not in str(count):\n",
        "    n -= 1\n",
        "\n",
        "print(count)"
      ],
      "metadata": {
        "colab": {
          "base_uri": "https://localhost:8080/"
        },
        "id": "F7vhMCXCskvy",
        "outputId": "5356051c-1cf5-4277-9d08-a33da81bcd67"
      },
      "execution_count": 33,
      "outputs": [
        {
          "output_type": "stream",
          "name": "stdout",
          "text": [
            "10 1\n",
            "22\n"
          ]
        }
      ]
    },
    {
      "cell_type": "markdown",
      "source": [
        "## 손익분기점: https://www.acmicpc.net/problem/1712"
      ],
      "metadata": {
        "id": "NAM4xBLg0xmS"
      }
    },
    {
      "cell_type": "code",
      "source": [
        "a, b, c = map(int, input().split())\n",
        "\n",
        "print(-1 if b >= c else int(a / (c - b)) + 1)"
      ],
      "metadata": {
        "colab": {
          "base_uri": "https://localhost:8080/"
        },
        "id": "ak4SdH4Azg3S",
        "outputId": "0cfc2523-ceab-40f1-975b-403805a53bb4"
      },
      "execution_count": 53,
      "outputs": [
        {
          "output_type": "stream",
          "name": "stdout",
          "text": [
            "1000 70 170\n",
            "11\n"
          ]
        }
      ]
    },
    {
      "cell_type": "markdown",
      "source": [
        "## 암호: https://www.acmicpc.net/problem/1718"
      ],
      "metadata": {
        "id": "wGtZQ5_nGYQz"
      }
    },
    {
      "cell_type": "code",
      "source": [
        "chr(96 + abs(ord('n') - ord('l')))"
      ],
      "metadata": {
        "colab": {
          "base_uri": "https://localhost:8080/",
          "height": 35
        },
        "id": "a6b4JSFoGXoC",
        "outputId": "c9652559-754d-429b-9c81-4cc3ebf1b55e"
      },
      "execution_count": 24,
      "outputs": [
        {
          "output_type": "execute_result",
          "data": {
            "text/plain": [
              "'b'"
            ],
            "application/vnd.google.colaboratory.intrinsic+json": {
              "type": "string"
            }
          },
          "metadata": {},
          "execution_count": 24
        }
      ]
    },
    {
      "cell_type": "code",
      "source": [
        "chr(122 - abs(ord('c') - ord('v')))"
      ],
      "metadata": {
        "colab": {
          "base_uri": "https://localhost:8080/",
          "height": 35
        },
        "id": "tj36tjNmGdQl",
        "outputId": "49572957-459c-42ae-b3b5-c4c5755d5dec"
      },
      "execution_count": 40,
      "outputs": [
        {
          "output_type": "execute_result",
          "data": {
            "text/plain": [
              "'g'"
            ],
            "application/vnd.google.colaboratory.intrinsic+json": {
              "type": "string"
            }
          },
          "metadata": {},
          "execution_count": 40
        }
      ]
    },
    {
      "cell_type": "code",
      "source": [
        "plain = input()\n",
        "key = input()\n",
        "\n",
        "for i in range(len(plain)):\n",
        "  num = ord(plain[i]) - ord(key[i%len(key)])\n",
        "  string = chr(96 + abs(num) if num > 0 else 122 - abs(num))\n",
        "  print(string if plain[i] != ' ' else ' ', end = '')"
      ],
      "metadata": {
        "colab": {
          "base_uri": "https://localhost:8080/"
        },
        "id": "rr-JC23IHHT4",
        "outputId": "72aad593-ac3a-4f40-df4c-687e1e9def91"
      },
      "execution_count": 45,
      "outputs": [
        {
          "output_type": "stream",
          "name": "stdout",
          "text": [
            "nice day\n",
            "love\n",
            "btgz oet"
          ]
        }
      ]
    },
    {
      "cell_type": "markdown",
      "source": [
        "## 추론: https://www.acmicpc.net/problem/1731"
      ],
      "metadata": {
        "id": "te_PY5LHPLK6"
      }
    },
    {
      "cell_type": "code",
      "source": [
        "array = [int(input()) for _ in range(int(input()))]\n",
        "ratio = array[1] / array[0]\n",
        "\n",
        "print(array[-1] * int(ratio) if ratio.is_integer() else array[-1] + (array[1] - array[0]))"
      ],
      "metadata": {
        "colab": {
          "base_uri": "https://localhost:8080/"
        },
        "id": "FOKLxY-0J2Gv",
        "outputId": "d47ed9ad-4095-4aaf-889e-ed5354a5cc9f"
      },
      "execution_count": 50,
      "outputs": [
        {
          "output_type": "stream",
          "name": "stdout",
          "text": [
            "5\n",
            "13\n",
            "117\n",
            "1053\n",
            "9477\n",
            "85293\n",
            "767637\n"
          ]
        }
      ]
    },
    {
      "cell_type": "markdown",
      "source": [
        "## 폭죽쇼: https://www.acmicpc.net/problem/1773"
      ],
      "metadata": {
        "id": "bnGBG-CNR_i2"
      }
    },
    {
      "cell_type": "code",
      "source": [
        "n, c = map(int, input().split())\n",
        "cycle = [int(input()) for i in range(n)]\n",
        "array = [0] * (c + 1)"
      ],
      "metadata": {
        "colab": {
          "base_uri": "https://localhost:8080/"
        },
        "id": "jhEvvXUQP_vE",
        "outputId": "db48b7fe-80aa-4293-c005-b2ba9e74b7f5"
      },
      "execution_count": 52,
      "outputs": [
        {
          "name": "stdout",
          "output_type": "stream",
          "text": [
            "2 20\n",
            "4 \n",
            "6\n"
          ]
        }
      ]
    },
    {
      "cell_type": "code",
      "source": [
        "print(array, cycle)"
      ],
      "metadata": {
        "colab": {
          "base_uri": "https://localhost:8080/"
        },
        "id": "Wd-09nkvUGCu",
        "outputId": "5a33580a-ee2f-4ef9-d266-7df0c9f31e26"
      },
      "execution_count": 53,
      "outputs": [
        {
          "output_type": "stream",
          "name": "stdout",
          "text": [
            "[0, 0, 0, 0, 0, 0, 0, 0, 0, 0, 0, 0, 0, 0, 0, 0, 0, 0, 0, 0, 0] [4, 6]\n"
          ]
        }
      ]
    },
    {
      "cell_type": "code",
      "source": [
        "for i in range(1, len(array)):\n",
        "  for c in cycle:\n",
        "    if i % c == 0:\n",
        "      array[i] = 1\n",
        "\n",
        "print(sum(array))"
      ],
      "metadata": {
        "colab": {
          "base_uri": "https://localhost:8080/"
        },
        "id": "zrhzPNDOUAsu",
        "outputId": "496c1f68-9bac-45ce-f70f-9db3a149f691"
      },
      "execution_count": 54,
      "outputs": [
        {
          "output_type": "stream",
          "name": "stdout",
          "text": [
            "7\n"
          ]
        }
      ]
    },
    {
      "cell_type": "code",
      "source": [
        "n, c = map(int, input().split())\n",
        "cycle = [int(input()) for i in range(n)]\n",
        "array = [0] * (c + 1)\n",
        "\n",
        "for i in range(1, len(array)):\n",
        "  for c in cycle:\n",
        "    if i % c == 0:\n",
        "      array[i] = 1\n",
        "\n",
        "print(sum(array))"
      ],
      "metadata": {
        "id": "RKX94XUGUhTB"
      },
      "execution_count": null,
      "outputs": []
    },
    {
      "cell_type": "code",
      "source": [
        "n, c = map(int, input().split())\n",
        "li = [0] * (c + 1)\n",
        "\n",
        "for _ in range(n):\n",
        "    t = int(input())\n",
        "    if t == 1:\n",
        "        print(c)\n",
        "        break\n",
        "    for i in range(t, c + 1, t):\n",
        "        li[i] = 1\n",
        "\n",
        "print(sum(li))"
      ],
      "metadata": {
        "id": "KBDY-9PnVg9F"
      },
      "execution_count": null,
      "outputs": []
    },
    {
      "cell_type": "markdown",
      "source": [
        "## 문어 숫자: https://www.acmicpc.net/problem/1864"
      ],
      "metadata": {
        "id": "mRwmWWOwXxEg"
      }
    },
    {
      "cell_type": "code",
      "source": [
        "nums = [\"/\", \"-\", \"\\\\\", \"(\", \"@\", \"?\", \">\", \"&\", \"%\"]\n",
        "\n",
        "while True:\n",
        "  n = input()\n",
        "  octal = 0\n",
        "  if n == '#':\n",
        "    break\n",
        "\n",
        "  for i in range(len(n)):\n",
        "    octal += (nums.index(n[i]) - 1) * (8 ** (len(n) - 1 - i))\n",
        "\n",
        "  print(octal)"
      ],
      "metadata": {
        "colab": {
          "base_uri": "https://localhost:8080/"
        },
        "id": "2H5MVjuQXyBJ",
        "outputId": "9d8d6567-b8e9-4147-ab3b-a7ffb5610c86"
      },
      "execution_count": 62,
      "outputs": [
        {
          "name": "stdout",
          "output_type": "stream",
          "text": [
            "(@&\n",
            "158\n",
            "?/--\n",
            "1984\n",
            "/(\\\n",
            "-47\n",
            "?\n",
            "4\n",
            "#\n"
          ]
        }
      ]
    },
    {
      "cell_type": "markdown",
      "source": [
        "## 좋은 자동차 번호판: https://www.acmicpc.net/problem/1871"
      ],
      "metadata": {
        "id": "Qha5ErC8iTbj"
      }
    },
    {
      "cell_type": "code",
      "source": [
        "for _ in range(int(input())):\n",
        "  n = input().split('-')\n",
        "  string = [(ord(x) - 65) * (26 ** (2 - idx)) for idx, x in enumerate(n[0])]\n",
        "  number = int(n[1])\n",
        "  print(('' if abs(sum(string) - number) <= 100 else 'not ') + 'nice')"
      ],
      "metadata": {
        "colab": {
          "base_uri": "https://localhost:8080/"
        },
        "id": "cWFT19IvYwMY",
        "outputId": "563df811-576c-43fe-e0cf-38985b0ef732"
      },
      "execution_count": 74,
      "outputs": [
        {
          "output_type": "stream",
          "name": "stdout",
          "text": [
            "2\n",
            "ABC-0123\n",
            "nice\n",
            "AAA-9999\n",
            "not nice\n"
          ]
        }
      ]
    }
  ]
}