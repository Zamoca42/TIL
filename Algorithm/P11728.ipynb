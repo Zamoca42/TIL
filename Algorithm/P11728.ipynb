{
  "nbformat": 4,
  "nbformat_minor": 0,
  "metadata": {
    "colab": {
      "provenance": [],
      "collapsed_sections": [],
      "authorship_tag": "ABX9TyM+i9iI7+KhSTmQ1IzFTqkG",
      "include_colab_link": true
    },
    "kernelspec": {
      "name": "python3",
      "display_name": "Python 3"
    },
    "language_info": {
      "name": "python"
    }
  },
  "cells": [
    {
      "cell_type": "markdown",
      "metadata": {
        "id": "view-in-github",
        "colab_type": "text"
      },
      "source": [
        "<a href=\"https://colab.research.google.com/github/Zamoca42/TIL/blob/main/Algorithm/P11728.ipynb\" target=\"_parent\"><img src=\"https://colab.research.google.com/assets/colab-badge.svg\" alt=\"Open In Colab\"/></a>"
      ]
    },
    {
      "cell_type": "markdown",
      "source": [
        "# 백준 11728번\n",
        "\n",
        "### 문제\n",
        "\n",
        "정렬되어있는 두 배열 A와 B가 주어진다. 두 배열을 합친 다음 정렬해서 출력하는 프로그램을 작성하시오.\n",
        "\n",
        "### 입력\n",
        "\n",
        "첫째 줄에 배열 A의 크기 N, 배열 B의 크기 M이 주어진다. (1 ≤ N, M ≤ 1,000,000)\n",
        "\n",
        "둘째 줄에는 배열 A의 내용이, 셋째 줄에는 배열 B의 내용이 주어진다. 배열에 들어있는 수는 절댓값이 109보다 작거나 같은 정수이다.\n",
        "\n",
        "### 출력\n",
        "\n",
        "첫째 줄에 두 배열을 합친 후 정렬한 결과를 출력한다.\n",
        "\n",
        "### 예제 입력 1\n",
        "\n",
        "```\n",
        "2 2  \n",
        "3 5  \n",
        "2 9\n",
        "```  \n",
        "\n",
        "### 예제 출력 1\n",
        "\n",
        "```\n",
        "2 3 5 9\n",
        "```\n",
        "\n",
        "### 예제 입력 2\n",
        "\n",
        "```\n",
        "2 1  \n",
        "4 7  \n",
        "1  \n",
        "```\n",
        "\n",
        "### 예제 출력 2\n",
        "\n",
        "```\n",
        "1 4 7\n",
        "```\n",
        "\n",
        "### 예제 입력 3\n",
        "\n",
        "```\n",
        "4 3\n",
        "2 3 5 9\n",
        "1 4 7\n",
        "```\n",
        "\n",
        "### 예제 출력 3\n",
        "\n",
        "```\n",
        "1 2 3 4 5 7 9\n",
        "```\n",
        "\n",
        "### Keyword\n",
        "\n",
        "- 정렬\n",
        "\n",
        "- 두 포인터 \n",
        "\n",
        "### 참고\n",
        "\n",
        "- [[Python 문법] 파이썬 입력 받기(sys.stdin.readline)\n",
        "](https://velog.io/@yeseolee/Python-%ED%8C%8C%EC%9D%B4%EC%8D%AC-%EC%9E%85%EB%A0%A5-%EC%A0%95%EB%A6%ACsys.stdin.readline)"
      ],
      "metadata": {
        "id": "O9QZiPRtWwQH"
      }
    },
    {
      "cell_type": "code",
      "execution_count": 6,
      "metadata": {
        "colab": {
          "base_uri": "https://localhost:8080/"
        },
        "id": "gMxjdElkV92N",
        "outputId": "015e375f-65b3-4a2e-f88b-04cd6a7143e0"
      },
      "outputs": [
        {
          "output_type": "stream",
          "name": "stdout",
          "text": [
            "1 2 3 4 5 7 9\n"
          ]
        }
      ],
      "source": [
        "# python 파일\n",
        "\n",
        "import sys\n",
        "\n",
        "# 파이썬 파일일 때 입력받는 방법\n",
        "# 정해진 개수의 정수를 한줄에 입력받을 때\n",
        "# (N, M) = map(int, sys.stdin.readline().split())\n",
        "\n",
        "\n",
        "N = 4\n",
        "M = 3\n",
        "\n",
        "\n",
        "# 임의의 개수의 정수를 한줄에 입력받아 리스트에 저장할 때\n",
        "# A = list(map(int, sys.stdin.readline().split()))\n",
        "# B = list(map(int, sys.stdin.readline().split()))\n",
        "\n",
        "A = [2,3,5,9]\n",
        "B = [1,4,7]\n",
        "\n",
        "i = 0\n",
        "j = 0\n",
        "\n",
        "# 결과를 받을 리스트\n",
        "result = []\n",
        "\n",
        "# i가 A의 크기인 N보다 작고, j가 B의 크기인 M보다 작을 때\n",
        "while i < N and j < M:\n",
        "    if A[i] <= B[j]: # A의 i번째가 B의 j번째보다 작다면\n",
        "        result.append(A[i]) # A[i]의 숫자 결과 list에 추가\n",
        "        i += 1 # 실행 후 A는 다음 인덱스 탐색\n",
        "    \n",
        "    else: # A의 i번째가 B의 j번째보다 크다면\n",
        "        result.append(B[j]) # B[j]의 숫자 결과 list에 추가\n",
        "        j += 1 # 실행 후 B는 다음 인덱스 탐색\n",
        "\n",
        "# 예외\n",
        "while i < N:\n",
        "    result.append(A[i])\n",
        "    i += 1\n",
        "\n",
        "while j < M:\n",
        "    result.append(B[j])\n",
        "    j += 1\n",
        "\n",
        "print(' '.join(map(str, result)))\n",
        "\n",
        "# map()은 반복 가능한 객체(리스트 등)에 대해 각각의 요소들을 지정된 함수로 처리해주는 함수입니다.\n",
        "# 위와 같이 사용한다면 result에 대해 각각 str형으로 형변환을 할 수 있습니다.\n"
      ]
    },
    {
      "cell_type": "code",
      "source": [],
      "metadata": {
        "id": "wzRzz0xeWAUv"
      },
      "execution_count": null,
      "outputs": []
    }
  ]
}