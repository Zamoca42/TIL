{
  "nbformat": 4,
  "nbformat_minor": 0,
  "metadata": {
    "colab": {
      "provenance": [],
      "authorship_tag": "ABX9TyOMnm8LEkx0lzpeZZuK8c/m",
      "include_colab_link": true
    },
    "kernelspec": {
      "name": "python3",
      "display_name": "Python 3"
    },
    "language_info": {
      "name": "python"
    }
  },
  "cells": [
    {
      "cell_type": "markdown",
      "metadata": {
        "id": "view-in-github",
        "colab_type": "text"
      },
      "source": [
        "<a href=\"https://colab.research.google.com/github/Zamoca42/TIL/blob/main/Algorithm/%ED%83%90%EC%9A%95_%EC%95%8C%EA%B3%A0%EB%A6%AC%EC%A6%98.ipynb\" target=\"_parent\"><img src=\"https://colab.research.google.com/assets/colab-badge.svg\" alt=\"Open In Colab\"/></a>"
      ]
    },
    {
      "cell_type": "markdown",
      "source": [
        "# 탐욕 알고리즘"
      ],
      "metadata": {
        "id": "nhVaasAXx6mc"
      }
    },
    {
      "cell_type": "markdown",
      "source": [
        "## 탐욕 알고리즘 이란?\n",
        "- Greedy algorithm 또는 탐욕 알고리즘 이라고 불리움\n",
        "- 최적의 해에 가까운 값을 구하기 위해 사용됨\n",
        "- 여러 경우 중 하나를 결정해야할 때마다, **매순간 최적이라고 생각되는 경우를 선택**하는 방식으로 진행해서, 최종적인 값을 구하는 방식"
      ],
      "metadata": {
        "id": "1qju3HDLx8eJ"
      }
    },
    {
      "cell_type": "markdown",
      "source": [
        "## 탐욕 알고리즘 예\n",
        "### 문제1: 동전 문제\n",
        "  - 지불해야 하는 값이 4720원 일 때 1원 50원 100원, 500원 동전으로 동전의 수가 가장 적게 지불하시오.\n",
        "    - 가장 큰 동전부터 최대한 지불해야 하는 값을 채우는 방식으로 구현 가능\n",
        "    - 탐욕 알고리즘으로 매순간 최적이라고 생각되는 경우를 선택하면 됨"
      ],
      "metadata": {
        "id": "WCvCwiN0x-kS"
      }
    },
    {
      "cell_type": "code",
      "execution_count": 1,
      "metadata": {
        "colab": {
          "base_uri": "https://localhost:8080/"
        },
        "id": "9nTCMudSqm1W",
        "outputId": "ce658f32-af9c-4363-ae1c-c95c03f1a735"
      },
      "outputs": [
        {
          "output_type": "stream",
          "name": "stdout",
          "text": [
            "[1, 100, 50, 500]\n",
            "[500, 100, 50, 1]\n"
          ]
        }
      ],
      "source": [
        "coin_list = [1,100,50,500]\n",
        "print(coin_list)\n",
        "coin_list.sort(reverse=True)\n",
        "print(coin_list)"
      ]
    },
    {
      "cell_type": "code",
      "source": [
        "coin_list = [1,100,50,500]\n",
        "\n",
        "def min_coin_count(value, coin_list):\n",
        "  total_coin_count = 0\n",
        "  details = list()\n",
        "  coin_list.sort(reverse=True)\n",
        "\n",
        "  for coin in coin_list:\n",
        "    coin_num = value // coin\n",
        "    total_coin_count += coin_num\n",
        "    value -= coin_num * coin\n",
        "    details.append([coin, coin_num])\n",
        "\n",
        "  return total_coin_count, details"
      ],
      "metadata": {
        "id": "qjvEPpiE9T1W"
      },
      "execution_count": 2,
      "outputs": []
    },
    {
      "cell_type": "code",
      "source": [
        "min_coin_count(4720, coin_list)"
      ],
      "metadata": {
        "colab": {
          "base_uri": "https://localhost:8080/"
        },
        "id": "a17a4VAMTIWU",
        "outputId": "34e69d95-6b80-47cd-a79d-9443c569c143"
      },
      "execution_count": 3,
      "outputs": [
        {
          "output_type": "execute_result",
          "data": {
            "text/plain": [
              "(31, [[500, 9], [100, 2], [50, 0], [1, 20]])"
            ]
          },
          "metadata": {},
          "execution_count": 3
        }
      ]
    },
    {
      "cell_type": "markdown",
      "source": [
        "### 문제2: 부분 배낭 문제 (Fractional Knapsack Problem)\n",
        "  - 무게 제한이 k인 배낭에 최대 가치를 가지도록 물건을 넣는 문제\n",
        "    - 각 물건은 무게(w)와 가치(v)로 표현될 수 있음\n",
        "    - 물건은 쪼갤 수 있으므로 물건의 일부분이 배낭에 넣어질 수 있음, 그래서 Fractional Knapsack Problem 으로 부름\n",
        "      - Fractional Knapsack Problem 의 반대로 물건을 쪼개서 넣을 수 없는 배낭 문제도 존재함 (0/1 Knapsack Problem 으로 부름)\n",
        "    <img src=\"https://www.fun-coding.org/00_Images/knapsack.png\">"
      ],
      "metadata": {
        "id": "3tdr9C93yFLO"
      }
    },
    {
      "cell_type": "code",
      "source": [
        "data_list = [(10, 10), (15, 12), (20, 10), (25, 8), (30, 5)]"
      ],
      "metadata": {
        "id": "Vc2V6so2TPor"
      },
      "execution_count": 4,
      "outputs": []
    },
    {
      "cell_type": "code",
      "source": [
        "def get_max_value(data_list, capacity):\n",
        "  data_list = sorted(data_list, key=lambda x: x[1]/ x[0], reverse=True) # 무게 대비 가치가 높은 순으로 정렬\n",
        "  total_value = 0\n",
        "  details = list()\n",
        "\n",
        "  for data in data_list:\n",
        "    if capacity - data[0] >= 0:\n",
        "      capacity -= data[0]\n",
        "      total_value += data[1]\n",
        "      details.append([data[0], data[1], 1])\n",
        "    else:\n",
        "      fraction = capacity / data[0]\n",
        "      total_value += data[1] * fraction\n",
        "      details.append([data[0], data[1], fraction])\n",
        "      break\n",
        "\n",
        "  return total_value, details"
      ],
      "metadata": {
        "id": "r_XfeaV9fKjk"
      },
      "execution_count": 11,
      "outputs": []
    },
    {
      "cell_type": "code",
      "source": [
        "get_max_value(data_list, 30)"
      ],
      "metadata": {
        "colab": {
          "base_uri": "https://localhost:8080/"
        },
        "id": "Q_qiUMCBiZk0",
        "outputId": "9159b790-395d-4e7d-ad61-8f66ec9e3300"
      },
      "execution_count": 12,
      "outputs": [
        {
          "output_type": "execute_result",
          "data": {
            "text/plain": [
              "(24.5, [[10, 10, 1], [15, 12, 1], [20, 10, 0.25]])"
            ]
          },
          "metadata": {},
          "execution_count": 12
        }
      ]
    },
    {
      "cell_type": "markdown",
      "source": [
        "## 탐욕 알고리즘의 한계\n",
        "- 탐욕 알고리즘은 근사치 추정에 활용\n",
        "- 반드시 최적의 해를 구할 수 있는 것은 아니기 때문\n",
        "- 최적의 해에 가까운 값을 구하는 방법 중의 하나임\n",
        "\n",
        "### 예\n",
        "<img src=\"https://www.fun-coding.org/00_Images/greedy.png\" width=300>\n",
        "\n",
        "- '시작' 노드에서 시작해서 가장 작은 값을 찾아 leaf node 까지 가는 경로를 찾을 시에\n",
        "  - Greedy 알고리즘 적용시 시작 -> 7 -> 12 를 선택하게 되므로 7 + 12 = 19 가 됨 \n",
        "  - 하지만 실제 가장 작은 값은 시작 -> 10 -> 5 이며, 10 + 5 = 15 가 답"
      ],
      "metadata": {
        "id": "WpEtTgOjyIiB"
      }
    },
    {
      "cell_type": "code",
      "source": [
        "N = 5\n",
        "mins = [3, 1, 4, 3, 2]\n",
        "\n",
        "minimum = 0\n",
        "\n",
        "mins.sort()\n",
        "for i in range(N):\n",
        "  for j in range(i + 1):\n",
        "    minimum += mins[j]\n",
        "print(minimum)"
      ],
      "metadata": {
        "colab": {
          "base_uri": "https://localhost:8080/"
        },
        "id": "tasepdETicrv",
        "outputId": "629c87a5-2166-4a17-82f4-11784876333a"
      },
      "execution_count": 14,
      "outputs": [
        {
          "output_type": "stream",
          "name": "stdout",
          "text": [
            "32\n"
          ]
        }
      ]
    },
    {
      "cell_type": "markdown",
      "source": [
        "### 실전 코딩 테스트 - 탐욕 알고리즘\n",
        "> 본 문제는 각 자료구조/알고리즘을 보다 실전 문제와 연결하여 연습함으로써, 해당 자료구조/알고리즘 이해도와 숙련도를 높이기 위함입니다. 따라서, 해당 문제에서 나오는 핵심 컨셉의 구현에만 초점을 맞춤니다."
      ],
      "metadata": {
        "id": "u-Y2lizuyPEv"
      }
    },
    {
      "cell_type": "markdown",
      "source": [
        "### 1. https://www.acmicpc.net/problem/11399"
      ],
      "metadata": {
        "id": "Fv0tCX1fyQoY"
      }
    },
    {
      "cell_type": "code",
      "source": [
        "N = 5\n",
        "seconds = [3, 1, 4, 3, 2]\n",
        "minimum = 0\n",
        "seconds.sort()\n",
        "\n",
        "for i in range(N):\n",
        "    for j in range(i + 1):\n",
        "        minimum += seconds[j]\n",
        "print(minimum)"
      ],
      "metadata": {
        "id": "4q7PUyJHvixx"
      },
      "execution_count": null,
      "outputs": []
    }
  ]
}