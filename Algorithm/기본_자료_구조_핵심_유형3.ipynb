{
  "nbformat": 4,
  "nbformat_minor": 0,
  "metadata": {
    "colab": {
      "provenance": [],
      "authorship_tag": "ABX9TyPN3QJntBjrrMI1U5pEMsbg",
      "include_colab_link": true
    },
    "kernelspec": {
      "name": "python3",
      "display_name": "Python 3"
    },
    "language_info": {
      "name": "python"
    }
  },
  "cells": [
    {
      "cell_type": "markdown",
      "metadata": {
        "id": "view-in-github",
        "colab_type": "text"
      },
      "source": [
        "<a href=\"https://colab.research.google.com/github/Zamoca42/TIL/blob/main/Algorithm/%EA%B8%B0%EB%B3%B8_%EC%9E%90%EB%A3%8C_%EA%B5%AC%EC%A1%B0_%ED%95%B5%EC%8B%AC_%EC%9C%A0%ED%98%953.ipynb\" target=\"_parent\"><img src=\"https://colab.research.google.com/assets/colab-badge.svg\" alt=\"Open In Colab\"/></a>"
      ]
    },
    {
      "cell_type": "markdown",
      "source": [
        "# 풍선 터뜨리기 : https://www.acmicpc.net/problem/2346"
      ],
      "metadata": {
        "id": "6hOrlWIeSfKu"
      }
    },
    {
      "cell_type": "markdown",
      "source": [
        "문제 난이도: 하(Easy)\n",
        "문제 유형: 자료구조, 덱\n",
        "추천 풀이 시간: 30분"
      ],
      "metadata": {
        "id": "68thYbahSjde"
      }
    },
    {
      "cell_type": "markdown",
      "source": [
        "## 핵심 아이디어"
      ],
      "metadata": {
        "id": "aXY0M2IVnz72"
      }
    },
    {
      "cell_type": "markdown",
      "source": [
        "- 양방향 순환 큐의 기능은 덱(deque)을 이용해 대체할 수 있습니다.\n",
        "  1. 회전 연산 (왼쪽으로 돌리기): 𝑝𝑜𝑝𝑙𝑒𝑓𝑡()- 𝑎𝑝𝑝𝑒𝑛𝑑()\n",
        "  2. 회전 연산 (오른쪽으로 돌리기): 𝑝𝑜𝑝()- 𝑎𝑝𝑝𝑒𝑛𝑑𝑙𝑒𝑓𝑡()\n",
        "  3. 추출 연산 (앞에서 꺼내기): 𝑝𝑜𝑝𝑙𝑒𝑓𝑡()"
      ],
      "metadata": {
        "id": "PTQrVF0TSmYe"
      }
    },
    {
      "cell_type": "markdown",
      "source": [
        "**[알고리즘 요약]**\n",
        "- 풍선에 적힌 원소를 모두 덱(deque)에 삽입한다.\n",
        "- 가장 앞에 있는 풍선(원소)을 꺼내어 거기에 적힌 수를 확인한다.\n",
        "- 큐가 빌 때까지 다음을 반복 수행한다.\n",
        "  - 만약 양수라면 𝑋 − 1만큼 왼쪽으로 돌린다.\n",
        "  - 만약 음수라면 𝑋 만큼 오른쪽으로 돌린다.\n",
        "  - 이후에 원소를 꺼낸다.\n",
        "- 단, 최종적으로 풍선의 번호를 출력해야 하므로, (값, 번호) 형태로\n",
        "원소를 덱(deque)에 삽입해야 한다."
      ],
      "metadata": {
        "id": "q--97I8UTM5B"
      }
    },
    {
      "cell_type": "code",
      "execution_count": 14,
      "metadata": {
        "colab": {
          "base_uri": "https://localhost:8080/"
        },
        "id": "hEec91ofIR59",
        "outputId": "f587ed85-d53b-4635-a355-753405399303"
      },
      "outputs": [
        {
          "output_type": "stream",
          "name": "stdout",
          "text": [
            "4\n",
            "-2 -2 -2 -2\n",
            "1 3 4 2 "
          ]
        }
      ],
      "source": [
        "# import sys\n",
        "from collections import deque\n",
        "\n",
        "# input = sys.stdin.readline\n",
        "\n",
        "N = int(input())\n",
        "arr = list(map(int, input().split()))\n",
        "d = deque()\n",
        "\n",
        "for i in range(N):\n",
        "  d.append((arr[i], i + 1))\n",
        "\n",
        "result = []\n",
        "\n",
        "current, index = d.popleft()\n",
        "result.append(index)\n",
        "\n",
        "for i in range(N - 1):\n",
        "  if current > 0:\n",
        "    d.rotate(1 - current)\n",
        "  else:\n",
        "    d.rotate(-current)\n",
        "  current, index = d.popleft()\n",
        "  result.append(index)\n",
        "\n",
        "for x in result:\n",
        "  print(x, end=' ')"
      ]
    },
    {
      "cell_type": "markdown",
      "source": [
        "# 트럭 : https://www.acmicpc.net/problem/13335"
      ],
      "metadata": {
        "id": "oXBAODYnnq3u"
      }
    },
    {
      "cell_type": "markdown",
      "source": [
        "문제 난이도: 중(Medium)\n",
        "문제 유형: 자료구조, 큐\n",
        "추천 풀이 시간: 40분"
      ],
      "metadata": {
        "id": "O7y5ZgNJnuYC"
      }
    },
    {
      "cell_type": "markdown",
      "source": [
        "## 핵심 아이디어"
      ],
      "metadata": {
        "id": "yXBVARBpnxZt"
      }
    },
    {
      "cell_type": "markdown",
      "source": [
        "- 단순히 큐를 이용하여 전체 과정을 시뮬레이션하여 문제를 해결할 수 있다.\n",
        "  - 큐(다리)가 가득 찼으면 큐에서 원소 하나를 추출한다.\n",
        "    1. 트럭 배열에서 하나씩 트럭을 꺼내서 큐에 삽입한다.\n",
        "    2. 이때 만약에 트럭을 큐에 넣을 수 없다면(하중이 초과된다면) 0을 삽입한다."
      ],
      "metadata": {
        "id": "5F6vkdCp3c8D"
      }
    },
    {
      "cell_type": "markdown",
      "source": [
        "<img width=\"1100\" alt=\"스크린샷 2023-06-16 오전 1 27 03\" src=\"https://github.com/Zamoca42/TIL/assets/96982072/4a8e6da0-2172-4b1b-b298-0d8e689f549f\">\n",
        "<img width=\"1100\" alt=\"스크린샷 2023-06-16 오전 1 27 18\" src=\"https://github.com/Zamoca42/TIL/assets/96982072/0936980e-639d-46db-a5f3-172b355ac217\">\n",
        "<img width=\"1100\" alt=\"스크린샷 2023-06-16 오전 1 27 29\" src=\"https://github.com/Zamoca42/TIL/assets/96982072/920e2bfe-b7b2-4eca-aa08-a57d41b04a4f\">"
      ],
      "metadata": {
        "id": "B9KNr8_i4wcM"
      }
    },
    {
      "cell_type": "code",
      "source": [
        "# import sys\n",
        "# input = sys.stdin.readline\n",
        "from collections import deque\n",
        "\n",
        "number, length, bridge_weight = map(int, input().split())\n",
        "trucks = list(map(int, input().split()))\n",
        "trucks.reverse()\n",
        "\n",
        "bridge = deque()\n",
        "total = 0\n",
        "t = 0\n",
        "\n",
        "while True:\n",
        "  if len(trucks) == 0 and total == 0:\n",
        "    break\n",
        "\n",
        "  if len(bridge) == length:\n",
        "    truck = bridge.popleft()\n",
        "    total -= truck\n",
        "\n",
        "  if len(trucks) > 0 and total + trucks[-1] <= bridge_weight:\n",
        "    total += trucks[-1]\n",
        "    bridge.append(trucks[-1])\n",
        "    trucks.pop()\n",
        "  else:\n",
        "    bridge.append(0)\n",
        "\n",
        "  t += 1\n",
        "\n",
        "print(t)"
      ],
      "metadata": {
        "colab": {
          "base_uri": "https://localhost:8080/"
        },
        "id": "xFNqV2tbWzfU",
        "outputId": "0d8746b0-eb71-486a-a2d9-b773066173be"
      },
      "execution_count": 20,
      "outputs": [
        {
          "output_type": "stream",
          "name": "stdout",
          "text": [
            "10 100 100\n",
            "10 10 10 10 10 10 10 10 10 10\n",
            "110\n"
          ]
        }
      ]
    },
    {
      "cell_type": "markdown",
      "source": [
        "# 나는 요리사다 : https://www.acmicpc.net/problem/2953"
      ],
      "metadata": {
        "id": "AnvxRRBE5EJ1"
      }
    },
    {
      "cell_type": "markdown",
      "source": [
        "문제 난이도: 하(Easy)\n",
        "문제 유형: 문법, 배열, 이차원 배열\n",
        "추천 풀이 시간: 10분"
      ],
      "metadata": {
        "id": "ba-WzwpQ5NPW"
      }
    },
    {
      "cell_type": "markdown",
      "source": [
        "## 핵심 아이디어"
      ],
      "metadata": {
        "id": "eE-Vt6HU5JzD"
      }
    },
    {
      "cell_type": "markdown",
      "source": [
        "- 2차원 배열을 다룰 수 있다면 해결할 수 있는 문제입니다.\n",
        "- 문제 해결을 위해 단순히 2차원 배열을 이용하여 각 행(row)마다 합계를 계산합니다."
      ],
      "metadata": {
        "id": "OW3qxUe65Qqt"
      }
    },
    {
      "cell_type": "code",
      "source": [
        "result = 0\n",
        "max_value = 0\n",
        "\n",
        "for i in range(5):\n",
        "  scores = list(map(int, input().split()))\n",
        "  sum_score = sum(scores)\n",
        "  if max_value < sum_score:\n",
        "    max_value = sum_score\n",
        "    result = i + 1\n",
        "\n",
        "print(result, max_value)"
      ],
      "metadata": {
        "colab": {
          "base_uri": "https://localhost:8080/"
        },
        "id": "qLCLNHxnynn0",
        "outputId": "7e19c875-a492-400c-92c1-b727bb01e87d"
      },
      "execution_count": 22,
      "outputs": [
        {
          "output_type": "stream",
          "name": "stdout",
          "text": [
            "5 4 4 5\n",
            "5 4 4 4\n",
            "5 5 4 4\n",
            "5 5 5 4\n",
            "4 4 4 5\n",
            "4 19\n"
          ]
        }
      ]
    },
    {
      "cell_type": "code",
      "source": [
        "cook = []\n",
        "\n",
        "for i in range(1, 6):\n",
        "  scores = list(map(int, input().split()))\n",
        "  cook.append([i, sum(scores)])\n",
        "\n",
        "max_score = max(cook, key=lambda x: x[1])\n",
        "\n",
        "print(max_score[0], max_score[1])"
      ],
      "metadata": {
        "colab": {
          "base_uri": "https://localhost:8080/"
        },
        "id": "KJF2Mpqj-rbD",
        "outputId": "d374c736-9b80-443f-ed35-de50c1d504ad"
      },
      "execution_count": 26,
      "outputs": [
        {
          "output_type": "stream",
          "name": "stdout",
          "text": [
            "5 4 4 5\n",
            "5 4 4 4\n",
            "5 5 4 4\n",
            "5 5 5 4\n",
            "4 4 4 5\n",
            "4 19\n"
          ]
        }
      ]
    },
    {
      "cell_type": "code",
      "source": [
        "cook = [[sum(map(int, input().split())), i] for i in range(1, 6)]\n",
        "max_score = max(cook)\n",
        "max_value, max_index = max_score\n",
        "\n",
        "print(max_index, max_value)"
      ],
      "metadata": {
        "colab": {
          "base_uri": "https://localhost:8080/"
        },
        "id": "UUtnRw9p68Z9",
        "outputId": "dc324d61-fffd-4394-da3e-e53d59d2fb1c"
      },
      "execution_count": 25,
      "outputs": [
        {
          "output_type": "stream",
          "name": "stdout",
          "text": [
            "5 4 4 5\n",
            "5 4 4 4\n",
            "5 5 4 4\n",
            "5 5 5 4\n",
            "4 4 4 5\n",
            "4 19\n"
          ]
        }
      ]
    }
  ]
}