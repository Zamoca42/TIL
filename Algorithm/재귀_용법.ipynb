{
  "nbformat": 4,
  "nbformat_minor": 0,
  "metadata": {
    "colab": {
      "provenance": [],
      "authorship_tag": "ABX9TyP2rANT3Kev3zj8dSgl8+Vp",
      "include_colab_link": true
    },
    "kernelspec": {
      "name": "python3",
      "display_name": "Python 3"
    },
    "language_info": {
      "name": "python"
    }
  },
  "cells": [
    {
      "cell_type": "markdown",
      "metadata": {
        "id": "view-in-github",
        "colab_type": "text"
      },
      "source": [
        "<a href=\"https://colab.research.google.com/github/Zamoca42/TIL/blob/main/Algorithm/%EC%9E%AC%EA%B7%80_%EC%9A%A9%EB%B2%95.ipynb\" target=\"_parent\"><img src=\"https://colab.research.google.com/assets/colab-badge.svg\" alt=\"Open In Colab\"/></a>"
      ]
    },
    {
      "cell_type": "markdown",
      "source": [
        "## 재귀 용법 (recursive call, 재귀 호출)\n",
        "\n",
        "> 고급 정렬 알고리즘엥서 재귀 용법을 사용하므로, 고급 정렬 알고리즘을 익히기 전에 재귀 용법을 먼저 익히기로 합니다.\n"
      ],
      "metadata": {
        "id": "q0ugNLS5resI"
      }
    },
    {
      "cell_type": "markdown",
      "source": [
        "### 1. 재귀 용법 (recursive call, 재귀 호출)\n",
        "* 함수 안에서 동일한 함수를 호출하는 형태\n",
        "* 여러 알고리즘 작성시 사용되므로, 익숙해져야 함"
      ],
      "metadata": {
        "id": "dhwk6k2LrgIt"
      }
    },
    {
      "cell_type": "markdown",
      "source": [
        "### 예제 - 분석하기\n",
        "- 간단한 경우부터 생각해보기\n",
        "  * 2! = 1 X 2\n",
        "  * 3! = 1 X 2 X 3\n",
        "  * 4! = 1 X 2 X 3 X 4 = 4 X 3!\n",
        "- 규칙이 보임: n! = n X (n - 1)!\n",
        "  1. 함수를 하나 만든다.\n",
        "  2. 함수(n) 은 n > 1 이면 return n X 함수(n - 1)\n",
        "  3. 함수(n) 은 n = 1 이면 return n\n",
        "- 검증 (코드로 검증하지 않고, 직접 간단한 경우부터 대입해서 검증해야 함)\n",
        "    1. 먼저 2! 부터 \n",
        "     - 함수(2) 이면, 2 > 1 이므로 2 X 함수(1)\n",
        "       - 함수(1) 은 1 이므로, return 2 X 1 = 2 맞다!\n",
        "    2. 먼저 3! 부터 \n",
        "     - 함수(3) 이면, 3 > 1 이므로 3 X 함수(2)\n",
        "       - 함수(2) 는 결국 1번에 의해 2! 이므로, return 2 X 1 = 2 \n",
        "       - 3 X 함수(2) = 3 X 2 = 3 X 2 X 1 = 6 맞다!\n",
        "    3. 먼저 4! 부터 \n",
        "     - 함수(4) 이면, 4 > 1 이므로 4 X 함수(3)\n",
        "       - 함수(3) 은 결국 2번에 의해 3 X 2 X 1 = 6 \n",
        "       - 4 X 함수(3) = 4 X 6 = 24 맞다! "
      ],
      "metadata": {
        "id": "istOL5IDrjv7"
      }
    },
    {
      "cell_type": "markdown",
      "source": [
        "### 3. 재귀 호출의 일반적인 형태"
      ],
      "metadata": {
        "id": "U2QpYF6Nrmoj"
      }
    },
    {
      "cell_type": "code",
      "execution_count": null,
      "metadata": {
        "id": "jdgsvsGMrZZw"
      },
      "outputs": [],
      "source": [
        "# 일반적인 형태1\n",
        "def function(입력):\n",
        "    if 입력 > 일정값: # 입력이 일정 값 이상이면\n",
        "        return function(입력 - 1) # 입력보다 작은 값\n",
        "    else:\n",
        "        return 일정값, 입력값, 또는 특정값 # 재귀 호출 종료"
      ]
    },
    {
      "cell_type": "code",
      "source": [
        "# 일반적인 형태2\n",
        "def function(입력):\n",
        "    if 입력 <= 일정값:              # 입력이 일정 값보다 작으면\n",
        "        return 일정값, 입력값, 또는 특정값              # 재귀 호출 종료\n",
        "    function(입력보다 작은 값)\n",
        "    return 결과값"
      ],
      "metadata": {
        "id": "JKV6FyO8rosx"
      },
      "execution_count": null,
      "outputs": []
    },
    {
      "cell_type": "markdown",
      "source": [
        "### 재귀 호출은 스택의 전형적인 예\n",
        "* 함수는 내부적으로 스택처럼 관리된다."
      ],
      "metadata": {
        "id": "v426jS2IrsnO"
      }
    },
    {
      "cell_type": "markdown",
      "source": [
        "<img src=\"https://www.fun-coding.org/00_Images/recursivecall.png\" />"
      ],
      "metadata": {
        "id": "mZpqFi1sruMy"
      }
    }
  ]
}