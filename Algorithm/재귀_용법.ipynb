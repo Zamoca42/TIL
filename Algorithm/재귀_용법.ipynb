{
  "nbformat": 4,
  "nbformat_minor": 0,
  "metadata": {
    "colab": {
      "provenance": [],
      "authorship_tag": "ABX9TyNnjrp8khegqaxL6tgLhG8I",
      "include_colab_link": true
    },
    "kernelspec": {
      "name": "python3",
      "display_name": "Python 3"
    },
    "language_info": {
      "name": "python"
    }
  },
  "cells": [
    {
      "cell_type": "markdown",
      "metadata": {
        "id": "view-in-github",
        "colab_type": "text"
      },
      "source": [
        "<a href=\"https://colab.research.google.com/github/Zamoca42/TIL/blob/main/Algorithm/%EC%9E%AC%EA%B7%80_%EC%9A%A9%EB%B2%95.ipynb\" target=\"_parent\"><img src=\"https://colab.research.google.com/assets/colab-badge.svg\" alt=\"Open In Colab\"/></a>"
      ]
    },
    {
      "cell_type": "markdown",
      "source": [
        "## 재귀 용법 (recursive call, 재귀 호출)\n",
        "\n",
        "> 고급 정렬 알고리즘엥서 재귀 용법을 사용하므로, 고급 정렬 알고리즘을 익히기 전에 재귀 용법을 먼저 익히기로 합니다.\n"
      ],
      "metadata": {
        "id": "q0ugNLS5resI"
      }
    },
    {
      "cell_type": "markdown",
      "source": [
        "### 1. 재귀 용법 (recursive call, 재귀 호출)\n",
        "* 함수 안에서 동일한 함수를 호출하는 형태\n",
        "* 여러 알고리즘 작성시 사용되므로, 익숙해져야 함"
      ],
      "metadata": {
        "id": "dhwk6k2LrgIt"
      }
    },
    {
      "cell_type": "markdown",
      "source": [
        "### 예제 - 분석하기\n",
        "- 간단한 경우부터 생각해보기\n",
        "  * 2! = 1 X 2\n",
        "  * 3! = 1 X 2 X 3\n",
        "  * 4! = 1 X 2 X 3 X 4 = 4 X 3!\n",
        "- 규칙이 보임: n! = n X (n - 1)!\n",
        "  1. 함수를 하나 만든다.\n",
        "  2. 함수(n) 은 n > 1 이면 return n X 함수(n - 1)\n",
        "  3. 함수(n) 은 n = 1 이면 return n\n",
        "- 검증 (코드로 검증하지 않고, 직접 간단한 경우부터 대입해서 검증해야 함)\n",
        "    1. 먼저 2! 부터 \n",
        "     - 함수(2) 이면, 2 > 1 이므로 2 X 함수(1)\n",
        "       - 함수(1) 은 1 이므로, return 2 X 1 = 2 맞다!\n",
        "    2. 먼저 3! 부터 \n",
        "     - 함수(3) 이면, 3 > 1 이므로 3 X 함수(2)\n",
        "       - 함수(2) 는 결국 1번에 의해 2! 이므로, return 2 X 1 = 2 \n",
        "       - 3 X 함수(2) = 3 X 2 = 3 X 2 X 1 = 6 맞다!\n",
        "    3. 먼저 4! 부터 \n",
        "     - 함수(4) 이면, 4 > 1 이므로 4 X 함수(3)\n",
        "       - 함수(3) 은 결국 2번에 의해 3 X 2 X 1 = 6 \n",
        "       - 4 X 함수(3) = 4 X 6 = 24 맞다! "
      ],
      "metadata": {
        "id": "istOL5IDrjv7"
      }
    },
    {
      "cell_type": "markdown",
      "source": [
        "### 3. 재귀 호출의 일반적인 형태"
      ],
      "metadata": {
        "id": "U2QpYF6Nrmoj"
      }
    },
    {
      "cell_type": "code",
      "execution_count": null,
      "metadata": {
        "id": "jdgsvsGMrZZw"
      },
      "outputs": [],
      "source": [
        "# 일반적인 형태1\n",
        "def function(입력):\n",
        "    if 입력 > 일정값: # 입력이 일정 값 이상이면\n",
        "        return function(입력 - 1) # 입력보다 작은 값\n",
        "    else:\n",
        "        return 일정값, 입력값, 또는 특정값 # 재귀 호출 종료"
      ]
    },
    {
      "cell_type": "code",
      "source": [
        "# 일반적인 형태2\n",
        "def function(입력):\n",
        "    if 입력 <= 일정값:              # 입력이 일정 값보다 작으면\n",
        "        return 일정값, 입력값, 또는 특정값              # 재귀 호출 종료\n",
        "    function(입력보다 작은 값)\n",
        "    return 결과값"
      ],
      "metadata": {
        "id": "JKV6FyO8rosx"
      },
      "execution_count": null,
      "outputs": []
    },
    {
      "cell_type": "markdown",
      "source": [
        "### 재귀 호출은 스택의 전형적인 예\n",
        "* 함수는 내부적으로 스택처럼 관리된다."
      ],
      "metadata": {
        "id": "v426jS2IrsnO"
      }
    },
    {
      "cell_type": "markdown",
      "source": [
        "<img src=\"https://www.fun-coding.org/00_Images/recursivecall.png\" />"
      ],
      "metadata": {
        "id": "mZpqFi1sruMy"
      }
    },
    {
      "cell_type": "markdown",
      "source": [
        "<div class=\"alert alert-block alert-warning\">\n",
        "<strong><font color=\"blue\" size=\"4em\">프로그래밍 연습</font></strong><br>\n",
        "회문(palindrome)은 순서를 거꾸로 읽어도 제대로 읽은 것과 같은 단어와 문장을 의미함<br>\n",
        "회문을 판별할 수 있는 함수를 리스트 슬라이싱을 활용해서 만드세요\n",
        "<img src=\"https://www.fun-coding.org/00_Images/palindrome.png\" width=200/>\n",
        "</div>\n",
        "<pre>\n",
        "참고 - 리스트 슬라이싱\n",
        "string = 'Dave' \n",
        "string[-1] --> e\n",
        "string[0] --> D\n",
        "string[1:-1] --> av\n",
        "string[:-1] --> Dav\n",
        "</pre>"
      ],
      "metadata": {
        "id": "nbJyUTEeGUBA"
      }
    },
    {
      "cell_type": "code",
      "source": [
        "def palindrome(string):\n",
        "    if len(string) <= 1:\n",
        "        return True\n",
        "    \n",
        "    if string[0] == string[-1]:\n",
        "        return palindrome(string[1:-1])\n",
        "    else:\n",
        "        return False"
      ],
      "metadata": {
        "id": "vfTGXztTB4vN"
      },
      "execution_count": 4,
      "outputs": []
    },
    {
      "cell_type": "code",
      "source": [
        "palindrome('level')"
      ],
      "metadata": {
        "colab": {
          "base_uri": "https://localhost:8080/"
        },
        "id": "hedtLsFLFWap",
        "outputId": "a7bf4b95-e2ab-4905-fb75-e17c9bed35ca"
      },
      "execution_count": 6,
      "outputs": [
        {
          "output_type": "execute_result",
          "data": {
            "text/plain": [
              "True"
            ]
          },
          "metadata": {},
          "execution_count": 6
        }
      ]
    },
    {
      "cell_type": "code",
      "source": [
        "palindrome('rumor')"
      ],
      "metadata": {
        "colab": {
          "base_uri": "https://localhost:8080/"
        },
        "id": "L5LqK3ZJGXj8",
        "outputId": "072dce7e-29d6-4428-d6a3-4cb9c3042a18"
      },
      "execution_count": 7,
      "outputs": [
        {
          "output_type": "execute_result",
          "data": {
            "text/plain": [
              "False"
            ]
          },
          "metadata": {},
          "execution_count": 7
        }
      ]
    },
    {
      "cell_type": "markdown",
      "source": [
        "<div class=\"alert alert-block alert-warning\">\n",
        "<strong><font color=\"blue\" size=\"4em\">프로그래밍 연습</font></strong><br>\n",
        "1, 정수 n에 대해<br>\n",
        "2. n이 홀수이면 3 X n + 1 을 하고,<br>\n",
        "3. n이 짝수이면 n 을 2로 나눕니다.<br>\n",
        "4. 이렇게 계속 진행해서 n 이 결국 1이 될 때까지 2와 3의 과정을 반복합니다.<br>\n",
        "<br>\n",
        "예를 들어 n에 3을 넣으면,  \n",
        "<pre>\n",
        "3\n",
        "10\n",
        "5\n",
        "16\n",
        "8\n",
        "4\n",
        "2\n",
        "1\n",
        "</pre>\n",
        "이 됩니다.\n",
        "\n",
        "이렇게 정수 n을 입력받아, 위 알고리즘에 의해 1이 되는 과정을 모두 출력하는 함수를 작성하세요."
      ],
      "metadata": {
        "id": "wbzUJ1elGPsc"
      }
    },
    {
      "cell_type": "code",
      "source": [
        "def func(n):\n",
        "  print(n)\n",
        "  if n == 1:\n",
        "    return n\n",
        "  \n",
        "  if n % 2 == 1:\n",
        "    return func((3 * n) + 1)\n",
        "  else:\n",
        "    return func(int(n / 2)) "
      ],
      "metadata": {
        "id": "DVDuHKIqFaxC"
      },
      "execution_count": 14,
      "outputs": []
    },
    {
      "cell_type": "code",
      "source": [
        "func(10)"
      ],
      "metadata": {
        "colab": {
          "base_uri": "https://localhost:8080/"
        },
        "id": "bv6MkFSgGzqn",
        "outputId": "a0f4d729-e242-47d8-e10f-145ff6214c80"
      },
      "execution_count": 16,
      "outputs": [
        {
          "output_type": "stream",
          "name": "stdout",
          "text": [
            "10\n",
            "5\n",
            "16\n",
            "8\n",
            "4\n",
            "2\n",
            "1\n"
          ]
        },
        {
          "output_type": "execute_result",
          "data": {
            "text/plain": [
              "1"
            ]
          },
          "metadata": {},
          "execution_count": 16
        }
      ]
    },
    {
      "cell_type": "markdown",
      "source": [
        "<div class=\"alert alert-block alert-warning\">\n",
        "<strong><font color=\"blue\" size=\"4em\">프로그래밍 연습</font></strong><br>\n",
        "<pre>\n",
        "문제: 정수 4를 1, 2, 3의 조합으로 나타내는 방법은 다음과 같이 총 7가지가 있음\n",
        "1+1+1+1\n",
        "1+1+2\n",
        "1+2+1\n",
        "2+1+1\n",
        "2+2\n",
        "1+3\n",
        "3+1\n",
        "정수 n이 입력으로 주어졌을 때, n을 1, 2, 3의 합으로 나타낼 수 있는 방법의 수를 구하시오\n",
        "</pre>    \n",
        "\n",
        "힌트: 정수 n을 만들 수 있는 경우의 수를 리턴하는 함수를 f(n) 이라고 하면,<br>\n",
        "f(n)은 f(n-1) + f(n-2) + f(n-3) 과 동일하다는 패턴 찾기<br>\n",
        "출처: ACM-ICPC > Regionals > Asia > Korea > Asia Regional - Taejon 2001 \n",
        "</div>"
      ],
      "metadata": {
        "id": "dZ_HBakHTg3x"
      }
    },
    {
      "cell_type": "markdown",
      "source": [
        "### 문제 분석을 연습장에 작성해 본 예\n",
        "<img src=\"https://www.fun-coding.org/00_Images/algopractice.jpg\" />"
      ],
      "metadata": {
        "id": "twKenTQnTilH"
      }
    },
    {
      "cell_type": "code",
      "source": [
        "def func(data):\n",
        "  if data == 1:\n",
        "    return 1\n",
        "  elif data == 2:\n",
        "    return 2\n",
        "  elif data == 3:\n",
        "    return 4\n",
        "  \n",
        "  return func(data - 1) + func(data - 2) + func(data - 3)"
      ],
      "metadata": {
        "id": "2tLUwBDhThjg"
      },
      "execution_count": 17,
      "outputs": []
    },
    {
      "cell_type": "code",
      "source": [
        "func(5)"
      ],
      "metadata": {
        "colab": {
          "base_uri": "https://localhost:8080/"
        },
        "id": "-16TTFSqURvy",
        "outputId": "d5c40012-1884-447e-fb66-5f827098e37e"
      },
      "execution_count": 18,
      "outputs": [
        {
          "output_type": "execute_result",
          "data": {
            "text/plain": [
              "13"
            ]
          },
          "metadata": {},
          "execution_count": 18
        }
      ]
    },
    {
      "cell_type": "code",
      "source": [
        "func(4)"
      ],
      "metadata": {
        "colab": {
          "base_uri": "https://localhost:8080/"
        },
        "id": "epGjDEH0USsZ",
        "outputId": "8b4a955f-a9d3-4a5a-e02c-0a23e5bdd5fe"
      },
      "execution_count": 19,
      "outputs": [
        {
          "output_type": "execute_result",
          "data": {
            "text/plain": [
              "7"
            ]
          },
          "metadata": {},
          "execution_count": 19
        }
      ]
    }
  ]
}