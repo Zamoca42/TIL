{
  "nbformat": 4,
  "nbformat_minor": 0,
  "metadata": {
    "colab": {
      "provenance": [],
      "authorship_tag": "ABX9TyMHZFeVb25qtJuDL5i9inMv",
      "include_colab_link": true
    },
    "kernelspec": {
      "name": "python3",
      "display_name": "Python 3"
    },
    "language_info": {
      "name": "python"
    }
  },
  "cells": [
    {
      "cell_type": "markdown",
      "metadata": {
        "id": "view-in-github",
        "colab_type": "text"
      },
      "source": [
        "<a href=\"https://colab.research.google.com/github/Zamoca42/TIL/blob/main/Algorithm/%EA%B3%A0%EA%B8%89_%EC%9E%90%EB%A3%8C_%EA%B5%AC%EC%A1%B0_%ED%95%B5%EC%8B%AC_%EC%9C%A0%ED%98%953.ipynb\" target=\"_parent\"><img src=\"https://colab.research.google.com/assets/colab-badge.svg\" alt=\"Open In Colab\"/></a>"
      ]
    },
    {
      "cell_type": "markdown",
      "source": [
        "# 주사위: https://www.acmicpc.net/problem/1233"
      ],
      "metadata": {
        "id": "gwRtoZWpbRU_"
      }
    },
    {
      "cell_type": "markdown",
      "source": [
        "- 문제 난이도: 하(Easy)\n",
        "- 문제 유형: 기초 문법, 완전 탐색, 배열, 사전(dictionary) 자료형\n",
        "- 추천 풀이 시간: 30분"
      ],
      "metadata": {
        "id": "BlcS-BlzbTo8"
      }
    },
    {
      "cell_type": "markdown",
      "source": [
        "## 핵심 아이디어"
      ],
      "metadata": {
        "id": "5zeqXR2QbbCY"
      }
    },
    {
      "cell_type": "markdown",
      "source": [
        "- 주사위 세 개를 던지는 \"모든 경우의 수\"를 고려한다.\n",
        "- 따라서 3중 반복문을 이용하여 주사위 눈금의 합을 계산한다.\n",
        "- 이때 각 합에 대하여 “카운트” 하여 가장 많이 발생하는 합을 계산한다."
      ],
      "metadata": {
        "id": "AKpbg3ukberI"
      }
    },
    {
      "cell_type": "code",
      "execution_count": 2,
      "metadata": {
        "colab": {
          "base_uri": "https://localhost:8080/"
        },
        "id": "vVVzmnLXbNBb",
        "outputId": "99a5efde-5a90-47e1-9393-9f0d02cfd0c2"
      },
      "outputs": [
        {
          "output_type": "stream",
          "name": "stdout",
          "text": [
            "3 2 3\n",
            "5\n"
          ]
        }
      ],
      "source": [
        "# import sys\n",
        "# input = sys.stdin.readline\n",
        "\n",
        "S1, S2, S3 = map(int, input().split())\n",
        "counter = {}\n",
        "\n",
        "for i in range(1, S1 + 1):\n",
        "  for j in range(1, S2 + 1):\n",
        "    for k in range(1, S3 + 1):\n",
        "      summary = i + j + k\n",
        "      if summary not in counter:\n",
        "        counter[summary] = 1\n",
        "      else:\n",
        "        counter[summary] += 1\n",
        "\n",
        "max_count = -1\n",
        "answer = int(1e9)\n",
        "for (key, value) in counter.items():\n",
        "  if max_count < value:\n",
        "    max_count = value\n",
        "    answer = key\n",
        "  elif max_count == value:\n",
        "    answer = min(answer, key)\n",
        "\n",
        "print(answer)"
      ]
    },
    {
      "cell_type": "markdown",
      "source": [
        "# 강의실: https://www.acmicpc.net/problem/1374"
      ],
      "metadata": {
        "id": "C5Qq1Stmn_kV"
      }
    },
    {
      "cell_type": "markdown",
      "source": [
        "- 문제 난이도: 중(Medium)\n",
        "- 문제 유형: 자료구조, 그리디, 정렬, 우선순위 큐\n",
        "- 추천 풀이 시간: 50분"
      ],
      "metadata": {
        "id": "Qgd9Izf-oCOg"
      }
    },
    {
      "cell_type": "markdown",
      "source": [
        "## 핵심 아이디어"
      ],
      "metadata": {
        "id": "yPsal5usoGyy"
      }
    },
    {
      "cell_type": "markdown",
      "source": [
        "- 본 문제는 우선순위 큐 자료구조를 이용해 해결할 수 있는 문제입니다.\n",
        "- 파이썬의 ℎ𝑒𝑎𝑝𝑞 라이브러리를 이용해 우선순위 큐를 활용해 해결합니다."
      ],
      "metadata": {
        "id": "n0lI3RwVoKbR"
      }
    },
    {
      "cell_type": "markdown",
      "source": [
        "**[알고리즘 요약]**\n",
        "- (시작 시간, 종료 시간) 형태로 [강의 목록]에 삽입한 뒤에, 정렬한다.\n",
        "  - 강의를 하나씩 꺼내서 확인할 때 시작 시간을 기준으로 확인할 수 있다. (우선순위 큐를 사용)\n",
        "- 배정된 강의실을 처리하기 위한 우선순위 큐를 하나 더 준비한다. (강의 종료 시간을 삽입)\n",
        "- 먼저 첫 번째 강의를 꺼내어 우선순위 큐에 삽입하고, 아래를 반복한다.\n",
        "  - \"강의 목록\"에서 [새 강의]를 꺼내어 확인한다.\n",
        "  - \"배정된 강의실(우선순위 큐)\"에서 하나의 [기존 강의]를 꺼내어 확인한다.\n",
        "  1. 강의 시간이 겹치면 새로운 강의실이 필요하다. (새 강의와 기존 강의 모두 넣기)\n",
        "  2. 강의 시간이 겹치지 않으면 기존 강의실에 새 강의를 배정한다. (새 강의 넣기)"
      ],
      "metadata": {
        "id": "3jCohHebowkZ"
      }
    },
    {
      "cell_type": "code",
      "source": [
        "import heapq\n",
        "\n",
        "N = int(input())\n",
        "heap = []\n",
        "\n",
        "for _ in range(N):\n",
        "  lecture_num, lecture_start, lecture_end = map(int, input().split())\n",
        "  heapq.heappush(heap, (lecture_start, lecture_end))\n",
        "\n",
        "min_start, min_end = heapq.heappop(heap)\n",
        "count = 1\n",
        "for end, start in heap:\n",
        "  if min_end >= start:\n",
        "    count += 1\n",
        "\n",
        "print(count)"
      ],
      "metadata": {
        "colab": {
          "base_uri": "https://localhost:8080/",
          "height": 392
        },
        "id": "U8yG78HkipZV",
        "outputId": "799f4620-ae97-4d72-c07d-7ace76c84e8c"
      },
      "execution_count": 6,
      "outputs": [
        {
          "name": "stdout",
          "output_type": "stream",
          "text": [
            "8\n",
            "6 15 21\n",
            "7 20 25\n",
            "1 3 8\n",
            "3 2 14\n",
            "8 6 27\n",
            "2 7 13\n",
            "4 12 18\n",
            "5 6 20\n"
          ]
        },
        {
          "output_type": "error",
          "ename": "TypeError",
          "evalue": "ignored",
          "traceback": [
            "\u001b[0;31m---------------------------------------------------------------------------\u001b[0m",
            "\u001b[0;31mTypeError\u001b[0m                                 Traceback (most recent call last)",
            "\u001b[0;32m<ipython-input-6-ccfc433ee8e1>\u001b[0m in \u001b[0;36m<cell line: 12>\u001b[0;34m()\u001b[0m\n\u001b[1;32m     11\u001b[0m \u001b[0mcount\u001b[0m \u001b[0;34m=\u001b[0m \u001b[0;36m0\u001b[0m\u001b[0;34m\u001b[0m\u001b[0;34m\u001b[0m\u001b[0m\n\u001b[1;32m     12\u001b[0m \u001b[0;32mfor\u001b[0m \u001b[0mend\u001b[0m\u001b[0;34m,\u001b[0m \u001b[0mstart\u001b[0m \u001b[0;32min\u001b[0m \u001b[0mheap\u001b[0m\u001b[0;34m:\u001b[0m\u001b[0;34m\u001b[0m\u001b[0;34m\u001b[0m\u001b[0m\n\u001b[0;32m---> 13\u001b[0;31m   \u001b[0;32mif\u001b[0m \u001b[0mmin_end\u001b[0m \u001b[0;34m>=\u001b[0m \u001b[0mstart\u001b[0m\u001b[0;34m:\u001b[0m\u001b[0;34m\u001b[0m\u001b[0;34m\u001b[0m\u001b[0m\n\u001b[0m\u001b[1;32m     14\u001b[0m     \u001b[0mcount\u001b[0m \u001b[0;34m+=\u001b[0m \u001b[0;36m1\u001b[0m\u001b[0;34m\u001b[0m\u001b[0;34m\u001b[0m\u001b[0m\n\u001b[1;32m     15\u001b[0m \u001b[0;34m\u001b[0m\u001b[0m\n",
            "\u001b[0;31mTypeError\u001b[0m: '>=' not supported between instances of 'tuple' and 'int'"
          ]
        }
      ]
    },
    {
      "cell_type": "code",
      "source": [
        "# import sys\n",
        "# input = sys.stdin.readline\n",
        "import heapq\n",
        "\n",
        "n = int(input())\n",
        "lectures = []\n",
        "\n",
        "for i in range(n):\n",
        "  id, start, end = map(int, input().split())\n",
        "  heapq.heappush(lectures, (start, end))\n",
        "\n",
        "heap = []\n",
        "end = heapq.heappop(lectures)[1]\n",
        "heapq.heappush(heap, end)\n",
        "answer = 1\n",
        "\n",
        "for i in range(n - 1):\n",
        "  new_start, new_end = heapq.heappop(lectures)\n",
        "  end = heapq.heappop(heap)\n",
        "\n",
        "  if new_start < end:\n",
        "    heapq.heappush(heap, end)\n",
        "    heapq.heappush(heap, new_end)\n",
        "    answer += 1\n",
        "  else:\n",
        "    heapq.heappush(heap, new_end)\n",
        "\n",
        "print(answer)"
      ],
      "metadata": {
        "colab": {
          "base_uri": "https://localhost:8080/"
        },
        "id": "AJiTVxWGvMFk",
        "outputId": "e6e99d93-8fd4-4804-8124-424751fcf70a"
      },
      "execution_count": 8,
      "outputs": [
        {
          "output_type": "stream",
          "name": "stdout",
          "text": [
            "8\n",
            "6 15 21\n",
            "7 20 25\n",
            "1 3 8\n",
            "3 2 14\n",
            "8 6 27\n",
            "2 7 13\n",
            "4 12 18\n",
            "5 6 20\n",
            "5\n"
          ]
        }
      ]
    },
    {
      "cell_type": "markdown",
      "source": [
        "# 중앙값 구하기: https://www.acmicpc.net/problem/2696"
      ],
      "metadata": {
        "id": "IOg0luiypSk5"
      }
    },
    {
      "cell_type": "markdown",
      "source": [
        "- 문제 난이도: 중상\n",
        "- 문제 유형: 자료구조, 우선순위 큐\n",
        "- 추천 풀이 시간: 60분"
      ],
      "metadata": {
        "id": "L6ss_xa7pU3p"
      }
    },
    {
      "cell_type": "markdown",
      "source": [
        "## 핵심 아이디어"
      ],
      "metadata": {
        "id": "nDB8NkckpZmf"
      }
    },
    {
      "cell_type": "markdown",
      "source": [
        "- 본 문제는 우선순위 큐 자료구조를 이용해 해결할 수 있는 문제입니다.\n",
        "- 파이썬의 ℎ𝑒𝑎𝑝𝑞 라이브러리를 이용해 우선순위 큐를 활용해 해결합니다."
      ],
      "metadata": {
        "id": "zkj72LmipbBd"
      }
    },
    {
      "cell_type": "markdown",
      "source": [
        "- 가장 쉽게 떠올릴 수 있는 해결 방법은 다음과 같다.\n",
        "  1. 배열에 원소를 차례대로 넣는다.\n",
        "  2. 홀수 번째가 입력될 때마다 정렬을 수행한다.\n",
        "\n",
        "- **한계점**: 단, 정렬은 $𝑂(𝑁𝑙𝑜𝑔𝑁)$ 의 수행 시간을 요구하므로, 매번 정렬을 이용하여 중앙값을\n",
        "계산하는 것은 비효율적이다."
      ],
      "metadata": {
        "id": "vtD-CWU-5rWx"
      }
    },
    {
      "cell_type": "markdown",
      "source": [
        "**[알고리즘 요약]**\n",
        "\n",
        "- [최대 힙] - [중앙값] - [최소 힙] 형태의 구조를 갖춘다.\n",
        "- 새로운 원소가 들어오면 다음과 같이 한다.\n",
        "  - 중앙값보다 작거나 같은 원소는 왼쪽의 최대 힙에 넣는다.\n",
        "  - 중앙값보다 큰 원소는 오른쪽의 최소 힙에 넣는다.\n",
        "- 홀수 번째 원소가 입력될 때마다 최대 힙과 최소 힙의 크기를 동일하게 맞춘다.\n",
        "  - 한쪽이 더 크다면, 반대편으로 이동시킨다."
      ],
      "metadata": {
        "id": "wqk12Aj152Td"
      }
    },
    {
      "cell_type": "code",
      "source": [
        "import heapq\n",
        "\n",
        "def show_result():\n",
        "  # 출력할 총 원소의 개수\n",
        "  print(len(result))\n",
        "  for i in range(len(result)):\n",
        "    print(result[i], end=' ')\n",
        "    # 10개 단위로 줄바꿈\n",
        "    if (i + 1) % 10 == 0:\n",
        "      print()\n",
        "  print()\n",
        "\n",
        "for _ in range(int(input())):\n",
        "  m = int(input())\n",
        "  data = []\n",
        "  for i in range(m // 10 + 1):\n",
        "    data.extend(list(map(int, input().split())))\n",
        "  max_heap = []\n",
        "  min_heap = []\n",
        "  median = data[0]\n",
        "  result = [median]\n",
        "\n",
        "  for i in range(1, m):\n",
        "    if data[i] <= median:\n",
        "      heapq.heappush(max_heap, -data[i])\n",
        "    else:\n",
        "      heapq.heappush(min_heap, data[i])\n",
        "    if i % 2 == 0:\n",
        "      if len(max_heap) > len(min_heap):\n",
        "          heapq.heappush(min_heap, median)\n",
        "          median = -heapq.heappop(max_heap)\n",
        "      elif len(max_heap) < len(min_heap):\n",
        "          heapq.heappush(max_heap, -median)\n",
        "          median = heapq.heappop(min_heap)\n",
        "      result.append(median)\n",
        "  show_result()"
      ],
      "metadata": {
        "id": "SL0hZ5-DugD3"
      },
      "execution_count": null,
      "outputs": []
    }
  ]
}