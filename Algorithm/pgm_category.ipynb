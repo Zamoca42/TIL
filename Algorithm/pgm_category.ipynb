{
  "nbformat": 4,
  "nbformat_minor": 0,
  "metadata": {
    "colab": {
      "provenance": [],
      "authorship_tag": "ABX9TyP9axPR9jFcR46wYEcwmPEH",
      "include_colab_link": true
    },
    "kernelspec": {
      "name": "python3",
      "display_name": "Python 3"
    },
    "language_info": {
      "name": "python"
    }
  },
  "cells": [
    {
      "cell_type": "markdown",
      "metadata": {
        "id": "view-in-github",
        "colab_type": "text"
      },
      "source": [
        "<a href=\"https://colab.research.google.com/github/Zamoca42/TIL/blob/main/Algorithm/pgm_category.ipynb\" target=\"_parent\"><img src=\"https://colab.research.google.com/assets/colab-badge.svg\" alt=\"Open In Colab\"/></a>"
      ]
    },
    {
      "cell_type": "markdown",
      "source": [
        "# 해시"
      ],
      "metadata": {
        "id": "-3w01ZNLZ6O0"
      }
    },
    {
      "cell_type": "markdown",
      "source": [
        "## 폰켓몬: https://school.programmers.co.kr/learn/courses/30/lessons/1845"
      ],
      "metadata": {
        "id": "BQ6Ji5fSaGzu"
      }
    },
    {
      "cell_type": "code",
      "execution_count": null,
      "metadata": {
        "id": "0lkD_dxnZyjr"
      },
      "outputs": [],
      "source": [
        "def solution(nums):\n",
        "    import itertools\n",
        "\n",
        "    k_count = {i: 0 for i in set(nums)}\n",
        "    for i in nums:\n",
        "        k_count[i] += 1\n",
        "\n",
        "    choice = len(nums) // 2\n",
        "\n",
        "    return min(len(k_count.keys()) ,choice)"
      ]
    },
    {
      "cell_type": "markdown",
      "source": [
        "## 완주하지 못한 선수: https://school.programmers.co.kr/learn/courses/30/lessons/42576"
      ],
      "metadata": {
        "id": "Ijs2fGFIaJpQ"
      }
    },
    {
      "cell_type": "code",
      "source": [
        "def solution(participant, completion):\n",
        "    p_dict = {}\n",
        "    for p in participant:\n",
        "        if p not in p_dict:\n",
        "            p_dict[p] = 0\n",
        "        p_dict[p] +=1\n",
        "\n",
        "    for c in completion:\n",
        "        p_dict[c] -= 1\n",
        "        if p_dict[c] == 0:\n",
        "            del p_dict[c]\n",
        "\n",
        "    return ''.join(p_dict.keys())"
      ],
      "metadata": {
        "id": "0UY-igTPaK-V"
      },
      "execution_count": null,
      "outputs": []
    },
    {
      "cell_type": "markdown",
      "source": [
        "## 전화번호 목록 : https://school.programmers.co.kr/learn/courses/30/lessons/42577"
      ],
      "metadata": {
        "id": "1vOQ-cu-aMD7"
      }
    },
    {
      "cell_type": "code",
      "source": [
        "def solution(phone_book):\n",
        "    phone_book.sort()\n",
        "    print(phone_book)\n",
        "    for i in range(len(phone_book)-1):\n",
        "        if phone_book[i]==phone_book[i+1][:len(phone_book[i])]:\n",
        "            return False\n",
        "    return True"
      ],
      "metadata": {
        "id": "orpk36QAaNKR"
      },
      "execution_count": null,
      "outputs": []
    },
    {
      "cell_type": "markdown",
      "source": [
        "## 의상 : https://school.programmers.co.kr/learn/courses/30/lessons/42578"
      ],
      "metadata": {
        "id": "42oR7QwGaP7y"
      }
    },
    {
      "cell_type": "code",
      "source": [
        "def solution(clothes):\n",
        "    answer = 1\n",
        "    closet = dict()\n",
        "    for _ , category in clothes:\n",
        "        if category not in closet:\n",
        "            closet[category] = 1\n",
        "        closet[category] += 1\n",
        "    for i in closet.values():\n",
        "        answer *= i\n",
        "    return answer - 1"
      ],
      "metadata": {
        "id": "HEKywvwEaQuG"
      },
      "execution_count": null,
      "outputs": []
    },
    {
      "cell_type": "markdown",
      "source": [
        "## 베스트앨범: https://school.programmers.co.kr/learn/courses/30/lessons/42579"
      ],
      "metadata": {
        "id": "8IC69e7waeEJ"
      }
    },
    {
      "cell_type": "code",
      "source": [
        "def solution(genres, plays):\n",
        "    sum_play = {genre: 0 for genre in set(genres)}\n",
        "    arr = []\n",
        "\n",
        "    for i, genre in enumerate(genres):\n",
        "        sum_play[genre] += plays[i]\n",
        "    sum_play = sorted(sum_play.items(), key=lambda x: x[1], reverse = True)\n",
        "\n",
        "    for idx,(genre,play) in enumerate(zip(genres,plays)):\n",
        "        arr.append([idx, genre, play])\n",
        "    arr = sorted(arr, key=lambda x: x[2], reverse = True)\n",
        "\n",
        "    answer = []\n",
        "    for genre, _ in sum_play:\n",
        "        count = 0\n",
        "        for play in arr:\n",
        "            if count == 2:\n",
        "                break\n",
        "            if play[1] == genre:\n",
        "                answer.append(play[0])\n",
        "                count += 1\n",
        "\n",
        "    return answer"
      ],
      "metadata": {
        "id": "n902goSwadvx"
      },
      "execution_count": null,
      "outputs": []
    }
  ]
}