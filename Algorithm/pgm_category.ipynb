{
  "nbformat": 4,
  "nbformat_minor": 0,
  "metadata": {
    "colab": {
      "provenance": [],
      "authorship_tag": "ABX9TyM6XgkStyyqRkS4JNmzxQgj",
      "include_colab_link": true
    },
    "kernelspec": {
      "name": "python3",
      "display_name": "Python 3"
    },
    "language_info": {
      "name": "python"
    }
  },
  "cells": [
    {
      "cell_type": "markdown",
      "metadata": {
        "id": "view-in-github",
        "colab_type": "text"
      },
      "source": [
        "<a href=\"https://colab.research.google.com/github/Zamoca42/TIL/blob/main/Algorithm/pgm_category.ipynb\" target=\"_parent\"><img src=\"https://colab.research.google.com/assets/colab-badge.svg\" alt=\"Open In Colab\"/></a>"
      ]
    },
    {
      "cell_type": "markdown",
      "source": [
        "# 해시"
      ],
      "metadata": {
        "id": "-3w01ZNLZ6O0"
      }
    },
    {
      "cell_type": "markdown",
      "source": [
        "## 폰켓몬: https://school.programmers.co.kr/learn/courses/30/lessons/1845"
      ],
      "metadata": {
        "id": "BQ6Ji5fSaGzu"
      }
    },
    {
      "cell_type": "code",
      "execution_count": null,
      "metadata": {
        "id": "0lkD_dxnZyjr"
      },
      "outputs": [],
      "source": [
        "def solution(nums):\n",
        "    import itertools\n",
        "\n",
        "    k_count = {i: 0 for i in set(nums)}\n",
        "    for i in nums:\n",
        "        k_count[i] += 1\n",
        "\n",
        "    choice = len(nums) // 2\n",
        "\n",
        "    return min(len(k_count.keys()) ,choice)"
      ]
    },
    {
      "cell_type": "markdown",
      "source": [
        "## 완주하지 못한 선수: https://school.programmers.co.kr/learn/courses/30/lessons/42576"
      ],
      "metadata": {
        "id": "Ijs2fGFIaJpQ"
      }
    },
    {
      "cell_type": "code",
      "source": [
        "def solution(participant, completion):\n",
        "    p_dict = {}\n",
        "    for p in participant:\n",
        "        if p not in p_dict:\n",
        "            p_dict[p] = 0\n",
        "        p_dict[p] +=1\n",
        "\n",
        "    for c in completion:\n",
        "        p_dict[c] -= 1\n",
        "        if p_dict[c] == 0:\n",
        "            del p_dict[c]\n",
        "\n",
        "    return ''.join(p_dict.keys())"
      ],
      "metadata": {
        "id": "0UY-igTPaK-V"
      },
      "execution_count": null,
      "outputs": []
    },
    {
      "cell_type": "markdown",
      "source": [
        "## 전화번호 목록 : https://school.programmers.co.kr/learn/courses/30/lessons/42577"
      ],
      "metadata": {
        "id": "1vOQ-cu-aMD7"
      }
    },
    {
      "cell_type": "code",
      "source": [
        "def solution(phone_book):\n",
        "    phone_book.sort()\n",
        "    print(phone_book)\n",
        "    for i in range(len(phone_book)-1):\n",
        "        if phone_book[i]==phone_book[i+1][:len(phone_book[i])]:\n",
        "            return False\n",
        "    return True"
      ],
      "metadata": {
        "id": "orpk36QAaNKR"
      },
      "execution_count": null,
      "outputs": []
    },
    {
      "cell_type": "markdown",
      "source": [
        "## 의상 : https://school.programmers.co.kr/learn/courses/30/lessons/42578"
      ],
      "metadata": {
        "id": "42oR7QwGaP7y"
      }
    },
    {
      "cell_type": "code",
      "source": [
        "def solution(clothes):\n",
        "    answer = 1\n",
        "    closet = dict()\n",
        "    for _ , category in clothes:\n",
        "        if category not in closet:\n",
        "            closet[category] = 1\n",
        "        closet[category] += 1\n",
        "    for i in closet.values():\n",
        "        answer *= i\n",
        "    return answer - 1"
      ],
      "metadata": {
        "id": "HEKywvwEaQuG"
      },
      "execution_count": null,
      "outputs": []
    },
    {
      "cell_type": "markdown",
      "source": [
        "## 베스트앨범: https://school.programmers.co.kr/learn/courses/30/lessons/42579"
      ],
      "metadata": {
        "id": "8IC69e7waeEJ"
      }
    },
    {
      "cell_type": "code",
      "source": [
        "def solution(genres, plays):\n",
        "    sum_play = {genre: 0 for genre in set(genres)}\n",
        "    arr = []\n",
        "\n",
        "    for i, genre in enumerate(genres):\n",
        "        sum_play[genre] += plays[i]\n",
        "    sum_play = sorted(sum_play.items(), key=lambda x: x[1], reverse = True)\n",
        "\n",
        "    for idx,(genre,play) in enumerate(zip(genres,plays)):\n",
        "        arr.append([idx, genre, play])\n",
        "    arr = sorted(arr, key=lambda x: x[2], reverse = True)\n",
        "\n",
        "    answer = []\n",
        "    for genre, _ in sum_play:\n",
        "        count = 0\n",
        "        for play in arr:\n",
        "            if count == 2:\n",
        "                break\n",
        "            if play[1] == genre:\n",
        "                answer.append(play[0])\n",
        "                count += 1\n",
        "\n",
        "    return answer"
      ],
      "metadata": {
        "id": "n902goSwadvx"
      },
      "execution_count": null,
      "outputs": []
    },
    {
      "cell_type": "markdown",
      "source": [
        "# 스택 / 큐"
      ],
      "metadata": {
        "id": "V_XBVUSuK8py"
      }
    },
    {
      "cell_type": "markdown",
      "source": [
        "## 같은 숫자는 싫어: https://school.programmers.co.kr/learn/courses/30/lessons/12906"
      ],
      "metadata": {
        "id": "Qn9sM-iBLAqR"
      }
    },
    {
      "cell_type": "code",
      "source": [
        "from collections import deque\n",
        "\n",
        "def solution(arr):\n",
        "    answer = []\n",
        "    arr = deque(arr)\n",
        "    while True:\n",
        "        i = arr.popleft()\n",
        "        if not arr:\n",
        "            answer.append(i)\n",
        "            break\n",
        "        elif arr[0] != i:\n",
        "            answer.append(i)\n",
        "    return answer"
      ],
      "metadata": {
        "id": "X3_JguiPLHq2"
      },
      "execution_count": null,
      "outputs": []
    },
    {
      "cell_type": "markdown",
      "source": [
        "## 기능개발: https://school.programmers.co.kr/learn/courses/30/lessons/42586"
      ],
      "metadata": {
        "id": "Hlbbqac_LNac"
      }
    },
    {
      "cell_type": "code",
      "source": [
        "from collections import deque\n",
        "\n",
        "def solution(progresses, speeds):\n",
        "    n = len(progresses)\n",
        "    days = [len(range(progresses[i], 100, speeds[i])) for i in range(n)]\n",
        "    stack, answer = [], []\n",
        "    while True:\n",
        "        stack.append(days.pop(0))\n",
        "        if not days:\n",
        "            break\n",
        "        if stack[0] < days[0]:\n",
        "            answer.append(len(stack))\n",
        "            stack = []\n",
        "\n",
        "    answer.append(len(stack))\n",
        "\n",
        "    return answer"
      ],
      "metadata": {
        "id": "H0YKUVB1LL_T"
      },
      "execution_count": null,
      "outputs": []
    },
    {
      "cell_type": "markdown",
      "source": [
        "## 올바른 괄호: https://school.programmers.co.kr/learn/courses/30/lessons/12909"
      ],
      "metadata": {
        "id": "13KGWrWPLTJ6"
      }
    },
    {
      "cell_type": "code",
      "source": [
        "def solution(s):\n",
        "    stack = []\n",
        "    right = []\n",
        "    for i in range(len(s)):\n",
        "        if s[i] == '(':\n",
        "            stack.append(s[i])\n",
        "        elif s[i] == ')' and stack:\n",
        "            stack.pop()\n",
        "        else:\n",
        "            return False\n",
        "\n",
        "    return True if not stack else False"
      ],
      "metadata": {
        "id": "EoiKSZd3LUhI"
      },
      "execution_count": null,
      "outputs": []
    },
    {
      "cell_type": "markdown",
      "source": [
        "## 프로세스: https://school.programmers.co.kr/learn/courses/30/lessons/42587#qna"
      ],
      "metadata": {
        "id": "pOM_fMwdfjig"
      }
    },
    {
      "cell_type": "code",
      "source": [
        "def solution(priorities, location):\n",
        "    p_queue = [(v, i) for i, v in enumerate(priorities)]\n",
        "    answer = 0\n",
        "    while p_queue:\n",
        "        q = p_queue.pop(0)\n",
        "        max_value = max(p_queue, key = lambda x: x[0])[0] if p_queue else 0\n",
        "        if q[0] >= max_value:\n",
        "            answer += 1\n",
        "            if q[1] == location:\n",
        "                break\n",
        "        else:\n",
        "            p_queue.append(q)\n",
        "    return answer"
      ],
      "metadata": {
        "id": "HLxVjtPNfjWF"
      },
      "execution_count": null,
      "outputs": []
    },
    {
      "cell_type": "markdown",
      "source": [
        "## 다리를 지나는 트럭"
      ],
      "metadata": {
        "id": "HZzjfwOt3Tfo"
      }
    },
    {
      "cell_type": "code",
      "source": [
        "def solution(bridge_length, weight, truck_weights):\n",
        "    bridge = [0] * bridge_length\n",
        "    answer = 0\n",
        "    sum_weight = 0\n",
        "\n",
        "    while bridge:\n",
        "        answer += 1\n",
        "        sum_weight -= bridge.pop(0)\n",
        "        if truck_weights:\n",
        "            if sum_weight + truck_weights[0] <= weight:\n",
        "                sum_weight += truck_weights[0]\n",
        "                bridge.append(truck_weights.pop(0))\n",
        "            else:\n",
        "                bridge.append(0)\n",
        "    return answer"
      ],
      "metadata": {
        "colab": {
          "base_uri": "https://localhost:8080/"
        },
        "id": "iWhm8DyHoG4O",
        "outputId": "28f65d7d-16cb-40ad-d0ed-92dcda039aac"
      },
      "execution_count": null,
      "outputs": [
        {
          "output_type": "execute_result",
          "data": {
            "text/plain": [
              "deque([[0, 0, 0, 0, 0, 0]])"
            ]
          },
          "metadata": {},
          "execution_count": 2
        }
      ]
    },
    {
      "cell_type": "markdown",
      "source": [
        "## 주식가격: https://school.programmers.co.kr/learn/courses/30/lessons/42584"
      ],
      "metadata": {
        "id": "rbIKHKyT-aYM"
      }
    },
    {
      "cell_type": "markdown",
      "source": [
        "- 첫번째 (정확성: 66.7, 효율성: 0)"
      ],
      "metadata": {
        "id": "MjKIV2bo-d7_"
      }
    },
    {
      "cell_type": "code",
      "source": [
        "def solution(prices):\n",
        "    answer = []\n",
        "    while prices:\n",
        "        p = prices.pop(0)\n",
        "        if any(p > i for i in prices):\n",
        "            count = 1\n",
        "            for i in prices:\n",
        "                if p > i:\n",
        "                    break\n",
        "                count += 1\n",
        "            answer.append(count)\n",
        "        else:\n",
        "            answer.append(len(prices))\n",
        "    return answer"
      ],
      "metadata": {
        "id": "vijP8S9ooLBV"
      },
      "execution_count": null,
      "outputs": []
    },
    {
      "cell_type": "markdown",
      "source": [
        "- 두번째 (통과)"
      ],
      "metadata": {
        "id": "S1uCUDfP-jJJ"
      }
    },
    {
      "cell_type": "code",
      "source": [
        "from collections import deque\n",
        "\n",
        "def solution(prices):\n",
        "    prices = deque(prices)\n",
        "    answer = []\n",
        "\n",
        "    while prices:\n",
        "        price = prices.popleft()\n",
        "        count = 0\n",
        "        for q in prices:\n",
        "            count += 1\n",
        "            if price > q:\n",
        "                break\n",
        "        answer.append(count)\n",
        "    return answer\n"
      ],
      "metadata": {
        "id": "MoxYR2Ee-iM4"
      },
      "execution_count": null,
      "outputs": []
    },
    {
      "cell_type": "markdown",
      "source": [
        "# 힙 (heap)"
      ],
      "metadata": {
        "id": "mU14CD4ICMcM"
      }
    },
    {
      "cell_type": "markdown",
      "source": [
        "## 더 맵게: https://school.programmers.co.kr/learn/courses/30/lessons/42626"
      ],
      "metadata": {
        "id": "_1LuZxv2CJ9u"
      }
    },
    {
      "cell_type": "code",
      "source": [
        "import heapq\n",
        "\n",
        "def solution(scoville, K):\n",
        "    heapq.heapify(scoville)\n",
        "    count = 0\n",
        "    while (min_v := heapq.heappop(scoville)) < K:\n",
        "        if not scoville:\n",
        "            count = -1\n",
        "            break\n",
        "        heapq.heappush(scoville, min_v + (heapq.heappop(scoville) * 2))\n",
        "        count += 1\n",
        "    return count"
      ],
      "metadata": {
        "id": "uYoR_No1CRhL"
      },
      "execution_count": null,
      "outputs": []
    },
    {
      "cell_type": "markdown",
      "source": [
        "## 디스크 컨트롤러: https://school.programmers.co.kr/learn/courses/30/lessons/42627"
      ],
      "metadata": {
        "id": "HyiIoaOACT1H"
      }
    },
    {
      "cell_type": "code",
      "source": [
        "import heapq\n",
        "\n",
        "def solution(jobs):\n",
        "    jobs.sort()\n",
        "    length = len(jobs)\n",
        "    heap = []\n",
        "    time, answer, count, start = 0, 0, 0, 0\n",
        "\n",
        "    while count < length:\n",
        "      for i, f in jobs:\n",
        "        if i in range(start, time + 1):\n",
        "          heapq.heappush(heap, [f, i])\n",
        "        # print(heap)\n",
        "\n",
        "        if heap:\n",
        "            f, i = heapq.heappop(heap)\n",
        "            start = time + 1\n",
        "            time += f\n",
        "            answer += time - i\n",
        "            count += 1\n",
        "        else:\n",
        "            time += 1\n",
        "        # print(time, answer, count, start)\n",
        "\n",
        "    return answer // length"
      ],
      "metadata": {
        "id": "gOfWvyVbCXCp"
      },
      "execution_count": null,
      "outputs": []
    },
    {
      "cell_type": "markdown",
      "source": [
        "## 이중우선순위큐: https://school.programmers.co.kr/learn/courses/30/lessons/42628"
      ],
      "metadata": {
        "id": "yQwTyp8_CYpe"
      }
    },
    {
      "cell_type": "markdown",
      "source": [
        "- min_heap, max_heap 사용"
      ],
      "metadata": {
        "id": "uAP9a6ixCnbh"
      }
    },
    {
      "cell_type": "code",
      "source": [
        "import heapq\n",
        "\n",
        "def solution(operations):\n",
        "    min_heap = []\n",
        "    max_heap = []\n",
        "    for string in operations:\n",
        "        c, i = string.split()\n",
        "        if c == 'I':\n",
        "            nums = int(i)\n",
        "            heapq.heappush(min_heap, nums)\n",
        "            heapq.heappush(max_heap, -nums)\n",
        "        elif c == 'D':\n",
        "            if int(i) > 0 and max_heap:\n",
        "                heapq.heappop(max_heap)\n",
        "                min_heap.pop()\n",
        "            elif int(i) < 0 and min_heap:\n",
        "                heapq.heappop(min_heap)\n",
        "                max_heap.pop(0)\n",
        "        print(c, i, min_heap, max_heap)\n",
        "\n",
        "    return [max(min_heap), min(min_heap)] if min_heap else [0, 0]\n"
      ],
      "metadata": {
        "id": "-BoQfRnICcPs"
      },
      "execution_count": 1,
      "outputs": []
    },
    {
      "cell_type": "code",
      "source": [
        "solution([\"I 16\", \"I -5643\", \"D -1\", \"D 1\", \"D 1\", \"I 123\", \"D -1\"])"
      ],
      "metadata": {
        "colab": {
          "base_uri": "https://localhost:8080/"
        },
        "id": "3v_3wYJZDMu0",
        "outputId": "b31c9ffd-1371-4327-b9bd-868a915eb08d"
      },
      "execution_count": 2,
      "outputs": [
        {
          "output_type": "stream",
          "name": "stdout",
          "text": [
            "I 16 [16] [-16]\n",
            "I -5643 [-5643, 16] [-16, 5643]\n",
            "D -1 [16] [5643]\n",
            "D 1 [] []\n",
            "D 1 [] []\n",
            "I 123 [123] [-123]\n",
            "D -1 [] []\n"
          ]
        },
        {
          "output_type": "execute_result",
          "data": {
            "text/plain": [
              "[0, 0]"
            ]
          },
          "metadata": {},
          "execution_count": 2
        }
      ]
    },
    {
      "cell_type": "code",
      "source": [
        "solution([\"I -45\", \"I 653\", \"D 1\", \"I -642\", \"I 45\", \"I 97\", \"D 1\", \"D -1\", \"I 333\"])"
      ],
      "metadata": {
        "colab": {
          "base_uri": "https://localhost:8080/"
        },
        "id": "b14S68fhDP91",
        "outputId": "15579b5d-e4ea-48ab-d7ca-eafe97332d3c"
      },
      "execution_count": 3,
      "outputs": [
        {
          "output_type": "stream",
          "name": "stdout",
          "text": [
            "I -45 [-45] [45]\n",
            "I 653 [-45, 653] [-653, 45]\n",
            "D 1 [-45] [45]\n",
            "I -642 [-642, -45] [45, 642]\n",
            "I 45 [-642, -45, 45] [-45, 642, 45]\n",
            "I 97 [-642, -45, 45, 97] [-97, -45, 45, 642]\n",
            "D 1 [-642, -45, 45] [-45, 642, 45]\n",
            "D -1 [-45, 45] [642, 45]\n",
            "I 333 [-45, 45, 333] [-333, 45, 642]\n"
          ]
        },
        {
          "output_type": "execute_result",
          "data": {
            "text/plain": [
              "[333, -45]"
            ]
          },
          "metadata": {},
          "execution_count": 3
        }
      ]
    },
    {
      "cell_type": "markdown",
      "source": [
        "- hash + heap 사용"
      ],
      "metadata": {
        "id": "Gjejs2_YCrGJ"
      }
    },
    {
      "cell_type": "code",
      "source": [
        "def solution(operations):\n",
        "    min_max_heaps = {-1: [], 1: []}\n",
        "    for string in operations:\n",
        "        c, i = string.split()\n",
        "        i = int(i)\n",
        "        if c == 'I':\n",
        "            heapq.heappush(min_max_heaps[-1], i)\n",
        "            heapq.heappush(min_max_heaps[1], -i)\n",
        "        elif c == 'D' and min_max_heaps[i]:\n",
        "            heapq.heappop(min_max_heaps[i])\n",
        "            min_max_heaps[-i].pop(0 if i == -1 else -1)\n",
        "        print(c, i, min_max_heaps)\n",
        "\n",
        "    return [max(min_max_heaps[-1]), min(min_max_heaps[-1])] if min_max_heaps[-1] else [0, 0]"
      ],
      "metadata": {
        "id": "-ZVQ6pFuCvox"
      },
      "execution_count": 4,
      "outputs": []
    },
    {
      "cell_type": "code",
      "source": [
        "solution([\"I 16\", \"I -5643\", \"D -1\", \"D 1\", \"D 1\", \"I 123\", \"D -1\"])"
      ],
      "metadata": {
        "colab": {
          "base_uri": "https://localhost:8080/"
        },
        "id": "-veSxHXUDSd9",
        "outputId": "2a5ecc5e-5bca-4df6-def1-afaeb61dbe2e"
      },
      "execution_count": 5,
      "outputs": [
        {
          "output_type": "stream",
          "name": "stdout",
          "text": [
            "I 16 {-1: [16], 1: [-16]}\n",
            "I -5643 {-1: [-5643, 16], 1: [-16, 5643]}\n",
            "D -1 {-1: [16], 1: [5643]}\n",
            "D 1 {-1: [], 1: []}\n",
            "D 1 {-1: [], 1: []}\n",
            "I 123 {-1: [123], 1: [-123]}\n",
            "D -1 {-1: [], 1: []}\n"
          ]
        },
        {
          "output_type": "execute_result",
          "data": {
            "text/plain": [
              "[0, 0]"
            ]
          },
          "metadata": {},
          "execution_count": 5
        }
      ]
    },
    {
      "cell_type": "code",
      "source": [
        "solution([\"I -45\", \"I 653\", \"D 1\", \"I -642\", \"I 45\", \"I 97\", \"D 1\", \"D -1\", \"I 333\"])"
      ],
      "metadata": {
        "colab": {
          "base_uri": "https://localhost:8080/"
        },
        "id": "oI1HP4BLDTb_",
        "outputId": "a16aca6e-638a-4d4f-be35-3f601d0f4c96"
      },
      "execution_count": 6,
      "outputs": [
        {
          "output_type": "stream",
          "name": "stdout",
          "text": [
            "I -45 {-1: [-45], 1: [45]}\n",
            "I 653 {-1: [-45, 653], 1: [-653, 45]}\n",
            "D 1 {-1: [-45], 1: [45]}\n",
            "I -642 {-1: [-642, -45], 1: [45, 642]}\n",
            "I 45 {-1: [-642, -45, 45], 1: [-45, 642, 45]}\n",
            "I 97 {-1: [-642, -45, 45, 97], 1: [-97, -45, 45, 642]}\n",
            "D 1 {-1: [-642, -45, 45], 1: [-45, 642, 45]}\n",
            "D -1 {-1: [-45, 45], 1: [642, 45]}\n",
            "I 333 {-1: [-45, 45, 333], 1: [-333, 45, 642]}\n"
          ]
        },
        {
          "output_type": "execute_result",
          "data": {
            "text/plain": [
              "[333, -45]"
            ]
          },
          "metadata": {},
          "execution_count": 6
        }
      ]
    },
    {
      "cell_type": "code",
      "source": [],
      "metadata": {
        "id": "SNvs_YYLDUP0"
      },
      "execution_count": null,
      "outputs": []
    }
  ]
}