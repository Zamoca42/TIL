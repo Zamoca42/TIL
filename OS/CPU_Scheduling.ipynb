{
  "nbformat": 4,
  "nbformat_minor": 0,
  "metadata": {
    "colab": {
      "provenance": [],
      "authorship_tag": "ABX9TyPzqW8obAZDgHsSD4pr5ULW",
      "include_colab_link": true
    },
    "kernelspec": {
      "name": "python3",
      "display_name": "Python 3"
    },
    "language_info": {
      "name": "python"
    }
  },
  "cells": [
    {
      "cell_type": "markdown",
      "metadata": {
        "id": "view-in-github",
        "colab_type": "text"
      },
      "source": [
        "<a href=\"https://colab.research.google.com/github/Zamoca42/TIL/blob/main/OS/CPU_Scheduling.ipynb\" target=\"_parent\"><img src=\"https://colab.research.google.com/assets/colab-badge.svg\" alt=\"Open In Colab\"/></a>"
      ]
    },
    {
      "cell_type": "markdown",
      "source": [
        "# CPU 스케쥴링\n",
        "\n",
        "- 일을 쉬지않고 계속 시키는 것이 OS의 숙제! (maximize CPU utilization)\n",
        "\n",
        "- CPU – I/O 버스트(Burst) Cycle\n",
        "  - 프로세스 실행은 CPU 실행 및 입출력(I/O) 대기로 구성\n",
        "\n",
        "- CPU 버스트 분포\n",
        "  - 많은 수의 짧은 CPU 버스트와 적은 수의 긴 CPU 버스트 존재\n",
        "  - I/O-bound 프로그램 -> 많은 수의 짧은 CPU 버스트 \n",
        "  - CPU-bound 프로그램 -> 적은 수의 긴 CPU 버스트\n",
        "\n"
      ],
      "metadata": {
        "id": "wS6ZSfeF1aRZ"
      }
    }
  ]
}