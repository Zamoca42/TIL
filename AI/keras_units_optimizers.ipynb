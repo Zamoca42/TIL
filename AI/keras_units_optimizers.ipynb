{
  "nbformat": 4,
  "nbformat_minor": 0,
  "metadata": {
    "colab": {
      "provenance": [],
      "collapsed_sections": [],
      "authorship_tag": "ABX9TyPbvWpgo2LO16vPHvPaEky0",
      "include_colab_link": true
    },
    "kernelspec": {
      "name": "python3",
      "display_name": "Python 3"
    },
    "language_info": {
      "name": "python"
    }
  },
  "cells": [
    {
      "cell_type": "markdown",
      "metadata": {
        "id": "view-in-github",
        "colab_type": "text"
      },
      "source": [
        "<a href=\"https://colab.research.google.com/github/Zamoca42/TIL/blob/main/keras_units_optimizers.ipynb\" target=\"_parent\"><img src=\"https://colab.research.google.com/assets/colab-badge.svg\" alt=\"Open In Colab\"/></a>"
      ]
    },
    {
      "cell_type": "code",
      "execution_count": null,
      "metadata": {
        "id": "InWSe-2xGoaQ"
      },
      "outputs": [],
      "source": [
        "from tensorflow import keras\n",
        "import numpy as np\n",
        "import matplotlib.pyplot as plt\n",
        "\n",
        "# and, or, xor gate\n",
        "\n",
        "X_train=[[0,0],[0,1],[1,0],[1,1]]\n",
        "# Y_train=[0,0,0,1] 'and' gate\n",
        "# Y_train=[0,1,1,1] # 'or' gate\n",
        "Y_train=[0,1,1,0] # 'xor' gate\n",
        "\n",
        "model = keras.models.Sequential([\n",
        "    keras.layers.Dense(units=1, activation='sigmoid', input_shape=[2]),\n",
        "])\n",
        "\n",
        "opt = keras.optimizers.SGD(learning_rate=0.01)\n",
        "\n",
        "model.compile(loss='binary_crossentropy', optimizer=opt, metrics=['accuracy'])\n",
        "\n",
        "hist = model.fit(X_train,Y_train, batch_size=1, epochs=1000, shuffle = True, verbose = 1)\n",
        "\n",
        "print(model.weights)\n",
        "print(\"0xor0 -> \",model.predict([[0,0]]))\n",
        "print(\"0xor1 -> \",model.predict([[0,1]]))\n",
        "print(\"1xor0 -> \",model.predict([[1,0]]))\n",
        "print(\"1xor1 -> \",model.predict([[1,1]]))\n"
      ]
    },
    {
      "cell_type": "code",
      "source": [
        "from tensorflow import keras\n",
        "import numpy as np\n",
        "import matplotlib.pyplot as plt\n",
        "\n",
        "# and, or, xor gate\n",
        "\n",
        "# input\n",
        "X_train=[[0,0],[0,1],[1,0],[1,1]]\n",
        "\n",
        "# output\n",
        "# Y_train=[0,0,0,1] 'and' gate\n",
        "# Y_train=[0,1,1,1] # 'or' gate\n",
        "Y_train=[0,1,1,0] # 'xor' gate\n",
        "\n",
        "model = keras.models.Sequential([\n",
        "    keras.layers.Dense(units=2, activation='sigmoid', input_shape=[2]),\n",
        "    keras.layers.Dense(units=3, activation='sigmoid'),\n",
        "    keras.layers.Dense(units=1, activation='sigmoid'),\n",
        "])\n",
        "\n",
        "# units = Neuron의 갯수\n",
        "\n",
        "opt = keras.optimizers.Adam(learning_rate=0.1)\n",
        "\n",
        "model.compile(loss='binary_crossentropy', optimizer=opt, metrics=['accuracy'])\n",
        "\n",
        "hist = model.fit(X_train,Y_train, batch_size=4, epochs=1000, shuffle = True, verbose = 0)\n",
        "\n",
        "print(model.weights)\n",
        "print(\"0 xor 0 -> \",model.predict([[0,0]]))\n",
        "print(\"0 xor 1 -> \",model.predict([[0,1]]))\n",
        "print(\"1 xor 0 -> \",model.predict([[1,0]]))\n",
        "print(\"1 xor 1 -> \",model.predict([[1,1]]))\n",
        "\n",
        "# https://keras.io/api/optimizers/adam/\n",
        "# https://amber-chaeeunk.tistory.com/23"
      ],
      "metadata": {
        "id": "HXv8USzsGuig"
      },
      "execution_count": null,
      "outputs": []
    }
  ]
}