{
  "nbformat": 4,
  "nbformat_minor": 0,
  "metadata": {
    "colab": {
      "provenance": [],
      "collapsed_sections": [],
      "authorship_tag": "ABX9TyOLJgGQlWXcuQr09juFBrcq",
      "include_colab_link": true
    },
    "kernelspec": {
      "name": "python3",
      "display_name": "Python 3"
    },
    "language_info": {
      "name": "python"
    }
  },
  "cells": [
    {
      "cell_type": "markdown",
      "metadata": {
        "id": "view-in-github",
        "colab_type": "text"
      },
      "source": [
        "<a href=\"https://colab.research.google.com/github/Zamoca42/TIL/blob/main/AI/keras_softmax.ipynb\" target=\"_parent\"><img src=\"https://colab.research.google.com/assets/colab-badge.svg\" alt=\"Open In Colab\"/></a>"
      ]
    },
    {
      "cell_type": "code",
      "execution_count": null,
      "metadata": {
        "id": "PUDxH2hfqa2M",
        "colab": {
          "base_uri": "https://localhost:8080/"
        },
        "outputId": "ad0e98ca-9b55-4844-f299-caaf0ce2066a"
      },
      "outputs": [
        {
          "output_type": "stream",
          "name": "stdout",
          "text": [
            "[[1. 0. 0.]\n",
            " [0. 1. 0.]\n",
            " [0. 1. 0.]\n",
            " [0. 0. 1.]]\n",
            "[<tf.Variable 'dense_9/kernel:0' shape=(2, 4) dtype=float32, numpy=\n",
            "array([[ 2.4334505 ,  2.821953  , -0.3167658 ,  2.3563223 ],\n",
            "       [-2.4430728 ,  1.5909126 , -0.33014655,  2.6804435 ]],\n",
            "      dtype=float32)>, <tf.Variable 'dense_9/bias:0' shape=(4,) dtype=float32, numpy=array([-0.03113105, -1.2180376 ,  0.        , -0.604933  ], dtype=float32)>, <tf.Variable 'dense_10/kernel:0' shape=(4, 2) dtype=float32, numpy=\n",
            "array([[ 2.2533977 ,  2.8736522 ],\n",
            "       [-2.1630995 ,  3.5727046 ],\n",
            "       [-0.50213766,  0.50738454],\n",
            "       [-0.6580256 ,  3.4105844 ]], dtype=float32)>, <tf.Variable 'dense_10/bias:0' shape=(2,) dtype=float32, numpy=array([ 4.9933333, -3.347811 ], dtype=float32)>, <tf.Variable 'dense_11/kernel:0' shape=(2, 3) dtype=float32, numpy=\n",
            "array([[ 4.117405 ,  2.3446457, -6.8036594],\n",
            "       [-5.7943754,  3.1819534,  4.1658   ]], dtype=float32)>, <tf.Variable 'dense_11/bias:0' shape=(3,) dtype=float32, numpy=array([ 0.91015154, -1.4816067 ,  1.3711096 ], dtype=float32)>]\n",
            "1/1 [==============================] - 0s 50ms/step\n",
            "0,0 ->  0\n",
            "1/1 [==============================] - 0s 27ms/step\n",
            "0,1 ->  1\n",
            "1/1 [==============================] - 0s 23ms/step\n",
            "1,0 ->  1\n",
            "1/1 [==============================] - 0s 22ms/step\n",
            "1,1 ->  2\n"
          ]
        }
      ],
      "source": [
        "import tensorflow\n",
        "from tensorflow import keras\n",
        "import numpy as np\n",
        "import matplotlib.pyplot as plt\n",
        "\n",
        "def onehot_to_class(prediction):\n",
        "  idx = prediction.argmax(axis = 0)\n",
        "\n",
        "  if idx == 0:\n",
        "    return str(0)\n",
        "  if idx == 1:\n",
        "    return str(1)\n",
        "  if idx == 2:\n",
        "    return str(2)\n",
        "  else :\n",
        "    return 'error'\n",
        "\n",
        "\n",
        "\n",
        "# input\n",
        "X_train = [[0,0],[0,1],[1,0],[1,1]]\n",
        "X_train = np.array(X_train)\n",
        "\n",
        "# output\n",
        "Y_train=[[0],[1],[1],[2]] # 숫자로 분류할 때\n",
        "# Y_train=[[1,0,0],[0,1,0],[0,1,0],[0,0,1]]\n",
        "\n",
        "Y_train = (tensorflow.keras.utils.to_categorical(Y_train))\n",
        "\n",
        "print(Y_train)\n",
        "\n",
        "model = keras.models.Sequential([\n",
        "    keras.layers.Dense(units=4, activation='relu', input_shape=[2]),\n",
        "    keras.layers.Dense(units=2, activation='sigmoid'), \n",
        "    keras.layers.Dense(units=3, activation='softmax'), # 출력이 여러가지\n",
        "])\n",
        "\n",
        "# units = 해당 layer의 Neuron의 갯수\n",
        "\n",
        "opt = keras.optimizers.Adam(learning_rate=0.1)\n",
        "\n",
        "# model.compile(loss='sparse_categorical_crossentropy', optimizer=opt, metrics=['accuracy']) # 숫자로 분류할 때\n",
        "model.compile(loss='categorical_crossentropy', optimizer=opt, metrics=['accuracy']) # one-hot encoding\n",
        "\n",
        "hist = model.fit(X_train, Y_train, batch_size=4, epochs=100, shuffle=True, verbose = 0)\n",
        "\n",
        "print(model.weights)\n",
        "print(\"0,0 -> \", onehot_to_class(model.predict([[0,0]])[0]))\n",
        "print(\"0,1 -> \", onehot_to_class(model.predict([[0,1]])[0]))\n",
        "print(\"1,0 -> \",onehot_to_class(model.predict([[1,0]])[0]))\n",
        "print(\"1,1 -> \", onehot_to_class(model.predict([[1,1]])[0]))"
      ]
    },
    {
      "cell_type": "code",
      "source": [
        "temp_list = np.array([0 , 10, 3, 5, 7])\n",
        "print(temp_list.argmax(axis=0)) # max 값이 들어있는 index 출력\n",
        "print(temp_list.argmin(axis=0)) # min 값이 들어있는 index 출력"
      ],
      "metadata": {
        "colab": {
          "base_uri": "https://localhost:8080/"
        },
        "id": "7tpstBRFznwA",
        "outputId": "2e81ec91-3bd7-42c1-9a8a-7c92c8ff1730"
      },
      "execution_count": null,
      "outputs": [
        {
          "output_type": "stream",
          "name": "stdout",
          "text": [
            "1\n",
            "0\n"
          ]
        }
      ]
    },
    {
      "cell_type": "code",
      "source": [
        "(X_train, Y_train), (X_test,Y_test) = keras.datasets.mnist.load_data()"
      ],
      "metadata": {
        "id": "3wQQki0vz3QW"
      },
      "execution_count": null,
      "outputs": []
    }
  ]
}