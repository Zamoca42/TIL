{
  "cells": [
    {
      "cell_type": "markdown",
      "metadata": {
        "colab_type": "text",
        "id": "view-in-github"
      },
      "source": [
        "<a href=\"https://colab.research.google.com/github/Zamoca42/TIL/blob/main/keras_Retain_mydata.ipynb\" target=\"_parent\"><img src=\"https://colab.research.google.com/assets/colab-badge.svg\" alt=\"Open In Colab\"/></a>"
      ]
    },
    {
      "cell_type": "code",
      "execution_count": 1,
      "metadata": {
        "colab": {
          "base_uri": "https://localhost:8080/"
        },
        "id": "gO5UIi04DQzs",
        "outputId": "a57cc4bc-8e6d-40c0-ac0f-7cecf5910503"
      },
      "outputs": [
        {
          "name": "stdout",
          "output_type": "stream",
          "text": [
            "[5, 3]\n"
          ]
        }
      ],
      "source": [
        "# append를 통해서 데이터 수 늘리기\n",
        "\n",
        "myimg_list = []\n",
        "newimg = 5\n",
        "newimg1 = 3\n",
        "\n",
        "myimg_list.append(newimg)\n",
        "myimg_list.append(newimg1)\n",
        "\n",
        "print(myimg_list)"
      ]
    },
    {
      "cell_type": "code",
      "execution_count": null,
      "metadata": {
        "id": "OiskOMK__xVF"
      },
      "outputs": [],
      "source": [
        "import tensorflow\n",
        "from tensorflow import keras\n",
        "import numpy as np\n",
        "import matplotlib.pyplot as plt\n",
        "from keras.models import load_model\n",
        "import matplotlib.image as mpimg\n",
        "\n",
        "# 저장 된 모델 불러오기\n",
        "model = keras.models.load_model('/content/drive/MyDrive/mnist_conv_gpu_e5.h5')\n",
        "model.summary()\n",
        "\n",
        "# MNIST 데이터셋 불러오기\n",
        "(X_train, Y_train),(X_test,Y_test) = keras.datasets.mnist.load_data()\n",
        "\n",
        "# 데이터 전처리하기\n",
        "X_train = X_train.reshape(-1,28,28,1)\n",
        "\n",
        "# append로 데이터 추가하기\n",
        "# RGB 읽고 grayscale로 변환\n",
        "# 데이터가 여러개라면 반복문으로 추가\n",
        "myimg1 = mpimg.imread('5.png')\n",
        "myimg1_grey = 255.0 - myimg1[:,:,0]\n",
        "myimg1_grey = myimg1_grey.reshape(1,28,28,1)\n",
        "myimg1_label = 8\n",
        "\n",
        "X_train = np.append(X_train,myimg1)\n",
        "print(X_train.shape)\n",
        "Y_train = np.append(Y_train,myimg1_label)\n",
        "print(Y_train.shape)\n",
        "\n",
        "# 모델 컴파일 compile\n",
        "opt = keras.optimizers.Adam(learning_rate=0.001)\n",
        "model.compile(loss='sparse_categorical_crossentropy', optimizer=opt, metrics=['accuracy'])\n",
        "\n",
        "# 훈련하기 fit\n",
        "hist = model.fit(X_train, Y_train, batch_size = 8, epochs=5, validation_split=0.2, verbose = 1)\n",
        "\n",
        "# 평가\n",
        "loss, acc = model.evaluate(X_test,Y_test, verbose=2)\n",
        "print(\"test loss:\", loss)\n",
        "print(\"test accuracy:\", acc)"
      ]
    }
  ],
  "metadata": {
    "colab": {
      "authorship_tag": "ABX9TyNHzQiOiW8w0+tuJeSRD9/9",
      "include_colab_link": true,
      "provenance": []
    },
    "kernelspec": {
      "display_name": "Python 3.10.6 64-bit",
      "language": "python",
      "name": "python3"
    },
    "language_info": {
      "name": "python",
      "version": "3.10.6"
    },
    "vscode": {
      "interpreter": {
        "hash": "b0fa6594d8f4cbf19f97940f81e996739fb7646882a419484c72d19e05852a7e"
      }
    }
  },
  "nbformat": 4,
  "nbformat_minor": 0
}
