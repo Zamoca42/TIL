{
  "cells": [
    {
      "cell_type": "markdown",
      "metadata": {
        "colab_type": "text",
        "id": "view-in-github"
      },
      "source": [
        "<a href=\"https://colab.research.google.com/github/Zamoca42/TIL/blob/main/Train_Test_Validation.ipynb\" target=\"_parent\"><img src=\"https://colab.research.google.com/assets/colab-badge.svg\" alt=\"Open In Colab\"/></a>"
      ]
    },
    {
      "cell_type": "code",
      "execution_count": null,
      "metadata": {
        "id": "UpPoffMgvmOf"
      },
      "outputs": [],
      "source": [
        "from tensorflow import keras  \n",
        "import numpy as np\n",
        "import matplotlib.pyplot as plt\n",
        "\n",
        "X = np.random.rand(1)*20\n",
        "Y = np.zeros(1)\n",
        "X = np.append(X,np.random.rand(1)*20+80)\n",
        "Y = np.append(Y,np.ones(1))\n",
        "\n",
        "for i in range(99):\n",
        "  X = np.append(X,np.random.rand(1)*20)\n",
        "  Y = np.append(Y,np.zeros(1))\n",
        "  X = np.append(X,np.random.rand(1)*20+80)\n",
        "  Y = np.append(Y,np.ones(1))\n",
        "\n",
        "\n",
        "model = keras.models.Sequential([\n",
        "    keras.layers.Dense(units=1, activation='sigmoid', input_shape=[1]),\n",
        "])\n",
        "\n",
        "opt = keras.optimizers.SGD(learning_rate=0.01)\n",
        "\n",
        "model.compile(loss='binary_crossentropy', optimizer=opt, metrics=['accuracy'])\n",
        "# ,metrics=['accuracy'] -> 정확도\n",
        "\n",
        "hist = model.fit(X,Y, batch_size=100, epochs=1000, validation_split=0.2, shuffle = True, verbose = 0)\n",
        "# shuffle = True -> 데이터를 섞겠다. \n",
        "# validation_split=0.2 -> 200개중에 20% = 40개를 validation으로 사용하겠다.\n",
        "\n",
        "print(model.weights)\n",
        "print(model.predict([10]))\n",
        "print(model.predict([90]))\n",
        "\n",
        "plt.plot(hist.history['loss'])\n",
        "plt.plot(hist.history['val_loss'])\n",
        "plt.title('Modelloss')\n",
        "plt.xlabel('Epoch')\n",
        "plt.ylabel('Loss')\n",
        "plt.legend(['Train', 'Validation'], loc='upper left')\n",
        "plt.show()\n",
        "\n",
        "plt.plot(hist.history['accuracy'])\n",
        "plt.plot(hist.history['val_accuracy'])\n",
        "plt.title('Model accuracy')\n",
        "plt.xlabel('Epoch')\n",
        "plt.ylabel('Accuracy')\n",
        "plt.legend(['Train', 'Validation'], loc='upper left')\n",
        "plt.show()\n",
        "\n",
        "# https://www.wolframalpha.com/input?i=1%2F%281%2Bexp%28-%280.111*x-4.3986%29%29%29+x+%3D+0+to+100\n",
        "# Train, Test, Validation data 차이 학습"
      ]
    }
  ],
  "metadata": {
    "colab": {
      "authorship_tag": "ABX9TyO+OmsD0srggnGm+3xhAWgT",
      "collapsed_sections": [],
      "include_colab_link": true,
      "provenance": []
    },
    "kernelspec": {
      "display_name": "Python 3.10.6 64-bit",
      "language": "python",
      "name": "python3"
    },
    "language_info": {
      "name": "python",
      "version": "3.10.6"
    },
    "vscode": {
      "interpreter": {
        "hash": "b0fa6594d8f4cbf19f97940f81e996739fb7646882a419484c72d19e05852a7e"
      }
    }
  },
  "nbformat": 4,
  "nbformat_minor": 0
}
