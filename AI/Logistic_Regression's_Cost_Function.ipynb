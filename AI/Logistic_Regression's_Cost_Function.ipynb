{
  "cells": [
    {
      "cell_type": "markdown",
      "metadata": {
        "colab_type": "text",
        "id": "view-in-github"
      },
      "source": [
        "<a href=\"https://colab.research.google.com/github/Zamoca42/TIL/blob/main/Logistic_Regression's_Cost_Function.ipynb\" target=\"_parent\"><img src=\"https://colab.research.google.com/assets/colab-badge.svg\" alt=\"Open In Colab\"/></a>"
      ]
    },
    {
      "cell_type": "markdown",
      "metadata": {
        "id": "X29yLtMHjVvG"
      },
      "source": [
        "# 로지스틱 회귀의 비용함수 설명\n",
        "\n",
        "- 앞서 로지스틱 회귀에서 배운 손실함수를 상기해봅시다.\n",
        "\n",
        "  - y값이 1 이 될 확률 : $ P(y = 1|x) = \\hat{y} $\n",
        "  - y값이 0 이 된 확률 : $ P(y = 0|x) = 1 - \\hat{y} $\n",
        "\n",
        "- 위 두가지 경우를 하나의 수식으로 나타내면 아래와 같습니다.\n",
        "  - $ P(y|x) = \\hat{y}^y (1-\\hat{y})^{(1 - y)} $\n",
        "  - 만약에 y = 1 일 경우, $ P(y|x) = \\hat{y}^1 (1-\\hat{y})^{0} = \\hat{y} $\n",
        "  - 만약에 y = 0 일 경우, $ P(y|x) = \\hat{y}^0 (1-\\hat{y})^{1} = 1 - \\hat{y} $  \n",
        "  \n",
        "\n",
        "- 또한, 로그함수의 단조적인 성격 때문에 위 식은 아래와 동일 합니다.\n",
        "\n",
        "  - $ \\log P(y|x) = \\log(\\hat{y}^y (1-\\hat{y})^{(1 - y)}) = y\\log \\hat{y} + (1-y) \\log (1 - \\hat{y}) $\n",
        "\n",
        "- 우리의 목적은 확률( $ \\log P(y∣x)$ )을 최대화 시키는 것이기 때문에 이와 등치인   -1 을 곱한 확률 ( $ − \\log P(y∣x) $  )를 최소화를 목적으로 손실함수를 정의 합니다.\n",
        "\n",
        "- 따라서, 훈련 샘플 하나의 손실함수는 아래와 같이 정의 됩니다. \n",
        "\n",
        "  - $ L(\\hat{y},y) = - \\log P(y|x) = - (\\hat{y}^y (1-\\hat{y})^{(1 - y)}) $\n",
        "\n",
        "- 비용함수는 m개 훈련 세트 중, 각 샘플 ( $ x^{(i)} $)이 주어졌을 때,  샘플에 해당하는 라벨( $ y^{(i)} $ )값이 1 혹은 0 이 될 확률의 곱으로 구할 수 있습니다.\n",
        "  - $ P(labels\\ in\\ traing\\ set) = \\prod_{i=1}^n P(y^{(i)} | x^{(i)}) $  \n",
        "\n",
        "- 양변에 로그를 취하고, 손실함수 부분을 치환 해주면, 위의 식은 아래와 같습니다.\n",
        "  - $ \\log P(labels\\ in\\ traing\\ set) = \\log \\prod_{i=1}^n P(y^{(i)} | x^{(i)}) = - \\sum_{i=1}^m L(\\hat{y}^{(i)},y^{(i)}) $\n",
        "\n",
        "- 따라서 비용함수는 손실함수들의 평균을 최소화 하는 것으로 정의하고 아래와 같습니다.\n",
        "  - $ J(w,b) = - \\log P(labels\\ in\\ traing\\ set) = \\frac{1}{m} \\sum_{i=1}^m L(\\hat{y}^{(i)},y^{(i)}) $"
      ]
    },
    {
      "cell_type": "code",
      "execution_count": null,
      "metadata": {
        "id": "XfGz3XfrnuUE"
      },
      "outputs": [],
      "source": []
    }
  ],
  "metadata": {
    "colab": {
      "authorship_tag": "ABX9TyNB3cdlMexEmnUOVjYQXk+3",
      "collapsed_sections": [],
      "include_colab_link": true,
      "provenance": []
    },
    "kernelspec": {
      "display_name": "Python 3.10.6 64-bit",
      "language": "python",
      "name": "python3"
    },
    "language_info": {
      "name": "python",
      "version": "3.10.6"
    },
    "vscode": {
      "interpreter": {
        "hash": "b0fa6594d8f4cbf19f97940f81e996739fb7646882a419484c72d19e05852a7e"
      }
    }
  },
  "nbformat": 4,
  "nbformat_minor": 0
}
