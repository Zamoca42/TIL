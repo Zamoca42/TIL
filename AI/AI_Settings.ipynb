{
  "nbformat": 4,
  "nbformat_minor": 0,
  "metadata": {
    "colab": {
      "provenance": [],
      "collapsed_sections": [],
      "authorship_tag": "ABX9TyPZhDK6Ytj1qUTQYbbEiGuy",
      "include_colab_link": true
    },
    "kernelspec": {
      "name": "python3",
      "display_name": "Python 3"
    },
    "language_info": {
      "name": "python"
    }
  },
  "cells": [
    {
      "cell_type": "markdown",
      "metadata": {
        "id": "view-in-github",
        "colab_type": "text"
      },
      "source": [
        "<a href=\"https://colab.research.google.com/github/Zamoca42/TIL/blob/main/AI/AI_Settings.ipynb\" target=\"_parent\"><img src=\"https://colab.research.google.com/assets/colab-badge.svg\" alt=\"Open In Colab\"/></a>"
      ]
    },
    {
      "cell_type": "markdown",
      "source": [
        "# 머신러닝 어플리케이션 설정하기\n",
        "\n",
        "- 신경망이 몇 개의 층 가지는지, 각 층이 몇 개의 은닉 유닛을 가지는지, 학습률과 활성화 함수는 무엇인지 등을 결정해 신경망을 훈련시켜야 합니다.\n",
        "\n",
        "- 좋은 하이퍼 파라미터 값을 찾기 위해 사이클을 여러번 반복하며 최적의 값을 선택합니다.\n",
        "\n",
        "- 이때 훈련, 개발, 테스트 세트를 잘 설정해 과정을 효율적으로 만들 수 있습니다.\n",
        "\n",
        "- 편향-분산 트레이드 오프\n",
        "\n",
        "|높은 편향(high bias)|과소 적합(underfitting)|  \n",
        "|:---|:---|  \n",
        "|알맞음|-| \n",
        "|높은 분산(hight variance)|과대적합(overfitting)|\n",
        "\n",
        "- 훈련 세트와 개발 세트의 관계\n",
        "\n",
        "|  | 높은 분산 (과대적합) | 높은 편향 (과소 적합)| 높은 편향 & 높은 분산| 낮은편향 & 낮은 분산|  \n",
        "|---|---|---|---|---| \n",
        "|훈련 세트|1%|15%|15%|0.5%|\n",
        "|개발 세트|11%|11%|30%|1%|\n",
        "\n",
        "- 가정: 인간 수준의 성능이 기본으로 되어야 합니다. 이번 예제에서는 개와 고양이를 분류할 때 인간 수준의 성능은 0% 에 가까울 것입니다.  \n",
        "조금 더 일반적으로 이야기 하면, 베이지안 최적 오차가 0% 라는 가정이 깔려 있습니다.\n",
        "\n",
        "### 머신 러닝을 위한 기본 레시피\n",
        "\n",
        "- 레시피\n",
        "\n",
        "  ![recipe](https://user-images.githubusercontent.com/96982072/198027138-fc7d0365-c3b5-4611-9bae-af99b61adb50.png)\n",
        "\n",
        "\n"
      ],
      "metadata": {
        "id": "w0bp8TslP6u_"
      }
    }
  ]
}