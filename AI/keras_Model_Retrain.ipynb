{
  "nbformat": 4,
  "nbformat_minor": 0,
  "metadata": {
    "colab": {
      "provenance": [],
      "mount_file_id": "1mOJ_UT-nUvHUbXSk6vGcrVj_mTHVJ3Zi",
      "authorship_tag": "ABX9TyPd8PDH6Ze3z5BLKjbmzuQN",
      "include_colab_link": true
    },
    "kernelspec": {
      "name": "python3",
      "display_name": "Python 3"
    },
    "language_info": {
      "name": "python"
    },
    "accelerator": "GPU",
    "gpuClass": "standard"
  },
  "cells": [
    {
      "cell_type": "markdown",
      "metadata": {
        "id": "view-in-github",
        "colab_type": "text"
      },
      "source": [
        "<a href=\"https://colab.research.google.com/github/Zamoca42/TIL/blob/main/AI/keras_Model_Retrain.ipynb\" target=\"_parent\"><img src=\"https://colab.research.google.com/assets/colab-badge.svg\" alt=\"Open In Colab\"/></a>"
      ]
    },
    {
      "cell_type": "code",
      "execution_count": 28,
      "metadata": {
        "colab": {
          "base_uri": "https://localhost:8080/"
        },
        "id": "BsLbuwWWA1iF",
        "outputId": "2a30cd92-656b-4157-d11d-5bbe5c3b3afb"
      },
      "outputs": [
        {
          "output_type": "stream",
          "name": "stdout",
          "text": [
            "Model: \"sequential_2\"\n",
            "_________________________________________________________________\n",
            " Layer (type)                Output Shape              Param #   \n",
            "=================================================================\n",
            " conv2d_6 (Conv2D)           (None, 26, 26, 32)        320       \n",
            "                                                                 \n",
            " max_pooling2d_6 (MaxPooling  (None, 13, 13, 32)       0         \n",
            " 2D)                                                             \n",
            "                                                                 \n",
            " conv2d_7 (Conv2D)           (None, 11, 11, 64)        18496     \n",
            "                                                                 \n",
            " max_pooling2d_7 (MaxPooling  (None, 5, 5, 64)         0         \n",
            " 2D)                                                             \n",
            "                                                                 \n",
            " conv2d_8 (Conv2D)           (None, 3, 3, 64)          36928     \n",
            "                                                                 \n",
            " max_pooling2d_8 (MaxPooling  (None, 1, 1, 64)         0         \n",
            " 2D)                                                             \n",
            "                                                                 \n",
            " flatten_2 (Flatten)         (None, 64)                0         \n",
            "                                                                 \n",
            " dense_4 (Dense)             (None, 64)                4160      \n",
            "                                                                 \n",
            " dense_5 (Dense)             (None, 10)                650       \n",
            "                                                                 \n",
            "=================================================================\n",
            "Total params: 60,554\n",
            "Trainable params: 60,554\n",
            "Non-trainable params: 0\n",
            "_________________________________________________________________\n",
            "313/313 - 1s - loss: 0.0585 - accuracy: 0.9837 - 798ms/epoch - 3ms/step\n",
            "test loss: 0.05851967632770538\n",
            "test accuracy: 0.9836999773979187\n"
          ]
        }
      ],
      "source": [
        "import tensorflow\n",
        "from tensorflow import keras\n",
        "import numpy as np\n",
        "import matplotlib.pyplot as plt\n",
        "from keras.models import load_model\n",
        "\n",
        "# 저장 된 모델 불러오기\n",
        "model = keras.models.load_model('/content/drive/MyDrive/mnist_conv_gpu_e5.h5')\n",
        "model.summary()\n",
        "\n",
        "# MNIST 데이터셋 불러오기\n",
        "(X_train, Y_train),(X_test,Y_test) = keras.datasets.mnist.load_data()\n",
        "\n",
        "# 데이터 전처리하기\n",
        "X_test = X_test.astype('float32')/255.0\n",
        "X_test = X_test.reshape(10000,28,28,1)\n",
        "\n",
        "#load model 뒤에는 model Sequential과정 필요없음\n",
        "# 이미 학습 된 모델이기 때문\n",
        "\n",
        "# 모델 컴파일 compile\n",
        "# opt = keras.optimizers.Adam(learning_rate=0.001)\n",
        "# model.compile(loss='sparse_categorical_crossentropy', optimizer=opt, metrics=['accuracy'])\n",
        "\n",
        "# 훈련하기 fit\n",
        "# hist = model.fit(X_train, Y_train, batch_size = 8, epochs=5, validation_split=0.2, verbose = 1)\n",
        "\n",
        "# 평가\n",
        "loss, acc = model.evaluate(X_test,Y_test, verbose=2)\n",
        "print(\"test loss:\", loss)\n",
        "print(\"test accuracy:\", acc)"
      ]
    },
    {
      "cell_type": "code",
      "source": [
        "# 이미지를 불러오는 방법\n",
        "\n",
        "#1\n",
        "from matplotlib import image\n",
        "\n",
        "myimg1 = image.imread('1.jpg')\n",
        "\n",
        "#2\n",
        "import matplotlib.image as mpimg\n",
        "\n",
        "myimg1 = mpimg.imread('1.jpg')"
      ],
      "metadata": {
        "id": "pqZu_G1tCezW"
      },
      "execution_count": null,
      "outputs": []
    },
    {
      "cell_type": "code",
      "source": [
        "import matplotlib.image as mpimg\n",
        "\n",
        "# RGB 읽고 grayscale로 변환\n",
        "myimg1 = mpimg.imread('5.png')\n",
        "\n",
        "myimg1_grey = 255.0 - myimg1[:,:,0]\n",
        "\n",
        "myimg2 = mpimg.imread('3.png')\n",
        "\n",
        "myimg2_grey = 255.0 - myimg2[:,:,0]\n",
        "\n",
        "plt.imshow(myimg2_grey, cmap='Greys', interpolation='nearest')\n",
        "plt.show()\n",
        "\n",
        "print(myimg2_grey.shape)\n",
        "\n",
        "print('*'*100)\n",
        "\n",
        "print(\"predict: \", np.argmax(model.predict(myimg1_grey.reshape(1,28,28,1)),axis=1))\n",
        "print(\"True_value :\", '5')\n",
        "\n",
        "print('*'*100)\n",
        "\n",
        "print(\"predict: \", np.argmax(model.predict(myimg2_grey.reshape(1,28,28,1)),axis=1))\n",
        "print(\"True_value :\", '3')"
      ],
      "metadata": {
        "colab": {
          "base_uri": "https://localhost:8080/",
          "height": 421
        },
        "id": "G60ZKOPaIiIb",
        "outputId": "0ee4448c-cf07-4515-981d-bacacd03f05c"
      },
      "execution_count": 29,
      "outputs": [
        {
          "output_type": "display_data",
          "data": {
            "text/plain": [
              "<Figure size 432x288 with 1 Axes>"
            ],
            "image/png": "[encoded data removed]"
          },
          "metadata": {
            "needs_background": "light"
          }
        },
        {
          "output_type": "stream",
          "name": "stdout",
          "text": [
            "(28, 28)\n",
            "****************************************************************************************************\n",
            "1/1 [==============================] - 0s 64ms/step\n",
            "predict:  [8]\n",
            "True_value : 5\n",
            "****************************************************************************************************\n",
            "1/1 [==============================] - 0s 14ms/step\n",
            "predict:  [8]\n",
            "True_value : 3\n"
          ]
        }
      ]
    },
    {
      "cell_type": "code",
      "source": [],
      "metadata": {
        "id": "lsj8ubqZKNjl"
      },
      "execution_count": null,
      "outputs": []
    }
  ]
}