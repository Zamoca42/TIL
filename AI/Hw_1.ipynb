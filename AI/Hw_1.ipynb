{
  "cells": [
    {
      "cell_type": "markdown",
      "metadata": {
        "colab_type": "text",
        "id": "view-in-github"
      },
      "source": [
        "<a href=\"https://colab.research.google.com/github/Zamoca42/TIL/blob/main/Hw_1.ipynb\" target=\"_parent\"><img src=\"https://colab.research.google.com/assets/colab-badge.svg\" alt=\"Open In Colab\"/></a>"
      ]
    },
    {
      "cell_type": "markdown",
      "metadata": {
        "id": "_VF_yIJEfYFn"
      },
      "source": [
        "과제1 : Pandas DataFrame 활용하기\n",
        "\n",
        "1. csv 파일을 다음과 같이 작성\n",
        "header 로 i 라는 이름을 가지고\n",
        "밑으로 row에 하나씩 아래방향으로 0, 1, 2, 3, 4, 5, 6, 7, 8, 9, 10 이 들어가 있도록 쓰고,\n",
        "파일 저장\n",
        "\n",
        "2. 다음의 python 프로그램 작성\n",
        "  1. python 에서 csv파일을 DataFrame으로 읽고,\n",
        "  2. 새로운 column이 생성되도록 함. 새로운 column의 해더는 i*10이며\n",
        "왼쪽 column에 저장된 값에 10을 곱한 값이 저장되도록 함\n",
        "  3. 작성된 DataFrame을 csv파일로 저장하는 프로그램 작성\n"
      ]
    },
    {
      "cell_type": "code",
      "execution_count": null,
      "metadata": {
        "colab": {
          "base_uri": "https://localhost:8080/"
        },
        "id": "vtkTLPJJN9JV",
        "outputId": "7a7c5d7b-a729-45fd-d4f9-c26defadd247"
      },
      "outputs": [
        {
          "name": "stdout",
          "output_type": "stream",
          "text": [
            "    i*10\n",
            "I       \n",
            "0      0\n",
            "1     10\n",
            "2     20\n",
            "3     30\n",
            "4     40\n",
            "5     50\n",
            "6     60\n",
            "7     70\n",
            "8     80\n",
            "9     90\n",
            "10   100\n"
          ]
        }
      ],
      "source": [
        "# HomeWork\n",
        "\n",
        "import pandas as pd\n",
        "import numpy as np\n",
        "\n",
        "# Solution 1\n",
        "\n",
        "data2 = pd.read_csv(\"/content/drive/MyDrive/Colab Notebooks/Hwtest.csv\", encoding=\"utf-8\", sep=',', index_col=[0], header=[0])\n",
        "data10 = pd.DataFrame({'i*10': range(data2.shape[0])})\n",
        "\n",
        "for i in range(data2.shape[0]):\n",
        "   data10.iloc[i,0] = i * 10\n",
        "\n",
        "data2['Unnamed: 1'] = data10\n",
        "data2.rename(columns = {'Unnamed: 1':'i*10'}, inplace = True)\n",
        "\n",
        "print(data2)\n",
        "\n",
        "data2.to_csv(\"/content/drive/MyDrive/Colab Notebooks/HW_result.csv\",mode='w')"
      ]
    },
    {
      "cell_type": "code",
      "execution_count": null,
      "metadata": {
        "colab": {
          "base_uri": "https://localhost:8080/"
        },
        "id": "opcePNlMN9yh",
        "outputId": "318201dd-048f-4e15-87cd-e83ed8beff4f"
      },
      "outputs": [
        {
          "name": "stdout",
          "output_type": "stream",
          "text": [
            "    i*10\n",
            "I       \n",
            "0      0\n",
            "1     10\n",
            "2     20\n",
            "3     30\n",
            "4     40\n",
            "5     50\n",
            "6     60\n",
            "7     70\n",
            "8     80\n",
            "9     90\n",
            "10   100\n"
          ]
        }
      ],
      "source": [
        "# Solution 2\n",
        "\n",
        "data = pd.read_csv(\"/content/drive/MyDrive/Colab Notebooks/Hwtest.csv\", encoding=\"utf-8\", sep=',', index_col=[0], header=[0])\n",
        "\n",
        "data['i*10'] = data.index * 10\n",
        "data.drop('Unnamed: 1', axis=1,inplace=True)\n",
        "\n",
        "print(data)\n",
        "\n",
        "data.to_csv(\"/content/drive/MyDrive/Colab Notebooks/HW_result2.csv\",mode='w')"
      ]
    },
    {
      "cell_type": "code",
      "execution_count": null,
      "metadata": {
        "id": "e5H9F4Whjnle"
      },
      "outputs": [],
      "source": []
    }
  ],
  "metadata": {
    "colab": {
      "authorship_tag": "ABX9TyNe+na84ZBRR/aJv6AwS8s+",
      "collapsed_sections": [],
      "include_colab_link": true,
      "mount_file_id": "1FasbQRgmjcqiupWEjExk8q9vC6aquPEE",
      "provenance": []
    },
    "kernelspec": {
      "display_name": "Python 3.10.6 64-bit",
      "language": "python",
      "name": "python3"
    },
    "language_info": {
      "name": "python",
      "version": "3.10.6"
    },
    "vscode": {
      "interpreter": {
        "hash": "b0fa6594d8f4cbf19f97940f81e996739fb7646882a419484c72d19e05852a7e"
      }
    }
  },
  "nbformat": 4,
  "nbformat_minor": 0
}
