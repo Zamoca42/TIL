{
  "cells": [
    {
      "cell_type": "markdown",
      "metadata": {
        "colab_type": "text",
        "id": "view-in-github"
      },
      "source": [
        "<a href=\"https://colab.research.google.com/github/Zamoca42/TIL/blob/main/Computation_Graph.ipynb\" target=\"_parent\"><img src=\"https://colab.research.google.com/assets/colab-badge.svg\" alt=\"Open In Colab\"/></a>"
      ]
    },
    {
      "cell_type": "markdown",
      "metadata": {
        "id": "72HBh1843eqt"
      },
      "source": [
        "# 계산 그래프\n",
        "\n",
        "- J(a,b,c) = 3(a + bc)의 계산 그래프를 만드는 과정\n",
        "  1. u = bc\n",
        "  2. v = a + u\n",
        "  3. J = 3v\n",
        "\n",
        "![graph.png](https://user-images.githubusercontent.com/96982072/194527397-b828f9cc-742c-4f34-95f0-c827c73c1a61.png)\n",
        "\n",
        "# 계산 그래프로 미분하기\n",
        "\n",
        "- 미분의 연쇄법칙(Chain rule)이란 합성함수의 도함수에 대한 공식입니다. 합성함수의 도함수는 합성함수를 구성하는 함수의 미분을 곱함으로써 구할 수 있습니다.\n",
        "\n",
        "  - 입력변수 a 를 통해서 출력변수 J 까지 도달 하기 위해서  a → v → J  의 프로세스로 진행됩니다. 즉, 변수 a 만 보게 된다면, J = J(u(a)) 라는 합성함수가 될 것 입니다. 이는 함수 간의 영향을 미치게 되므로 역전파에 적용합니다.\n",
        "  - 강의에서 합성함수를 a로 미분한 값  $ \\frac{dJ}{da} $​  를 구하기 위해서 $ \\frac{dJ}{dv} $\n",
        "​​​   와 $ \\frac{dv}{da} $  의 곱으로 표현 했습니다. 이러한 법칙이 연쇄법칙입니다.\n",
        "- 코드 작성시 편의를 위해서 표기법을 아래와 같이 정의합니다.\n",
        "  - 최종변수를 Final output var, 미분하려고 하는 변수를 var 라고 정의 한다면 $$ \\frac{d\\ Final\\, output\\, var}{d\\ var} = d\\ var $$"
      ]
    },
    {
      "cell_type": "markdown",
      "metadata": {
        "id": "8ub5LY6zHtsm"
      },
      "source": []
    },
    {
      "cell_type": "markdown",
      "metadata": {
        "id": "u73xcyfp-dsP"
      },
      "source": [
        "# Logistic regression의 경사하강법\n",
        "\n",
        "$ z = w_1 x_1 + w_2 x_2 + b → a = \\sigma (z) → L(a,y) $\n",
        "\n",
        "- 수식\n",
        "\n",
        "  - $ da = \\frac{dL(a,y)}{da} = - \\frac{y}{a} + \\frac{1-y}{1-a} $\n",
        "  - $ dz = \\frac{dL}{dz} = \\frac{dL}{da} * \\frac{da}{dz} = a-y $\n",
        "  - $ dw_1 = \\frac{dL}{dw_1} = x_1dz $\n",
        "  - $ db = \\frac{dL}{db} = dz $\n",
        "\n",
        "$ w_1 : w_1 - \\alpha \\space dw_1 $\n",
        "\n",
        "$ w_2 : w_2 - \\alpha \\space dw_2 $\n",
        "\n",
        "$ b : b - \\alpha \\space db $ \n",
        "\n",
        "# m개 샘플의 경사하강법\n",
        "\n",
        "- 로지스틱 회귀에서 비용 함수는 다음과 같이 표현할 수 있습니다.\n",
        "\n",
        "  $$ J(w,b) = \\frac{1}{m} \\sum_{i=1}^m (L(a^{(i)},y^{(i)}) $$\n",
        "\n",
        "- 이를 코드로 표현하면 \n",
        "\n",
        "  ![decent](https://user-images.githubusercontent.com/96982072/194738770-138b8d8c-71f1-4525-bd9a-46115395255f.png)\n",
        "\n"
      ]
    },
    {
      "cell_type": "code",
      "execution_count": null,
      "metadata": {
        "id": "US4QGzJv3dJO"
      },
      "outputs": [],
      "source": []
    }
  ],
  "metadata": {
    "colab": {
      "authorship_tag": "ABX9TyMPMOJro3VULM6d/8RJAKUp",
      "collapsed_sections": [],
      "include_colab_link": true,
      "provenance": []
    },
    "kernelspec": {
      "display_name": "Python 3.10.6 64-bit",
      "language": "python",
      "name": "python3"
    },
    "language_info": {
      "name": "python",
      "version": "3.10.6"
    },
    "vscode": {
      "interpreter": {
        "hash": "b0fa6594d8f4cbf19f97940f81e996739fb7646882a419484c72d19e05852a7e"
      }
    }
  },
  "nbformat": 4,
  "nbformat_minor": 0
}
