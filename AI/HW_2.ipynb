{
  "nbformat": 4,
  "nbformat_minor": 0,
  "metadata": {
    "colab": {
      "provenance": [],
      "collapsed_sections": [],
      "mount_file_id": "1G6I-SqJ8HLlq0Sf7TDjdgZ5ZaYCXg_rx",
      "authorship_tag": "ABX9TyN2U/yG/Og/RLFA9zvNuMxe",
      "include_colab_link": true
    },
    "kernelspec": {
      "name": "python3",
      "display_name": "Python 3"
    },
    "language_info": {
      "name": "python"
    }
  },
  "cells": [
    {
      "cell_type": "markdown",
      "metadata": {
        "id": "view-in-github",
        "colab_type": "text"
      },
      "source": [
        "<a href=\"https://colab.research.google.com/github/Zamoca42/TIL/blob/main/AI/HW_2.ipynb\" target=\"_parent\"><img src=\"https://colab.research.google.com/assets/colab-badge.svg\" alt=\"Open In Colab\"/></a>"
      ]
    },
    {
      "cell_type": "markdown",
      "source": [
        "# HW#2\n",
        "\n",
        "- 본인만의 데이터 생성 후 저장 \n",
        "  - csv 파일 저장 복습\n",
        "- 본인만의 데이터 설명 \n",
        "  - 주석 등을 이용하여 파일에 표시\n",
        "- 데이터 구분하는 네트워크 생성 후 학습 \n",
        "  - 학습되는 결과 등 요약하여 첨부\n",
        "\n",
        "- 결과 도식 \n",
        "  - matplot 활용하여 accuracy, loss 등 표시하고, sigmoid 함수가 어떻게 변화하는 지 설명"
      ],
      "metadata": {
        "id": "lm8KsQYNCWf6"
      }
    },
    {
      "cell_type": "code",
      "execution_count": null,
      "metadata": {
        "id": "bnGO99llCNyR"
      },
      "outputs": [],
      "source": [
        "from tensorflow import keras\n",
        "import numpy as np\n",
        "import pandas as pd\n",
        "import matplotlib.pyplot as plt\n",
        "\n",
        "X = np.random.rand(1)*20\n",
        "Y = np.zeros(1)\n",
        "X = np.append(X,np.random.rand(1)*20+100)\n",
        "Y = np.append(Y,np.ones(1))\n",
        "\n",
        "for i in range(99):\n",
        "  X = np.append(X,np.random.rand(1)*20)\n",
        "  Y = np.append(Y,np.zeros(1))\n",
        "  # 입력 X에서 0~20사이의 값을 랜덤으로 생성하고 출력Y값은 0으로 생성\n",
        "  X = np.append(X,np.random.rand(1)*20+100)\n",
        "  Y = np.append(Y,np.ones(1))\n",
        "  # 입력 X는 100~120 사이의 값을 랜덤으로 생성하고 출력Y값은 1로 생성\n",
        "# X데이터는 0~20 사이값 100개 100~120 사이값 100개 총 200개\n",
        "\n",
        "\n",
        "Xdata = pd.DataFrame(X)\n",
        "Ydata = pd.DataFrame(Y)\n",
        "\n",
        "Xdata.to_csv(\"/content/drive/MyDrive/Colab Notebooks/inputX.csv\",mode='w')\n",
        "Ydata.to_csv(\"/content/drive/MyDrive/Colab Notebooks/outputY.csv\",mode='w')"
      ]
    },
    {
      "cell_type": "code",
      "source": [
        "model = keras.models.Sequential([\n",
        "    keras.layers.Dense(units=1, activation='sigmoid', input_shape=[1]),\n",
        "])\n",
        "\n",
        "opt = keras.optimizers.SGD(learning_rate=0.01)\n",
        "\n",
        "model.compile(loss='binary_crossentropy', optimizer=opt, metrics=['accuracy'])\n",
        "# ,metrics=['accuracy'] -> 정확도\n",
        "\n",
        "hist = model.fit(Xdata,Ydata, batch_size=100, epochs=1000, validation_split=0.2, shuffle = True, verbose = 0)\n",
        "# shuffle = True -> 데이터를 섞겠다. \n",
        "# validation_split=0.2 -> Train data 200개중에 20% = 40개의 data를 validation으로 사용하겠다.(랜덤 X)\n",
        "\n",
        "print(model.weights)\n",
        "print(model.predict([10]))\n",
        "print(model.predict([110]))\n",
        "# 10과 110을 Test데이터로 사용하여 확인\n",
        "\n",
        "plt.plot(hist.history['loss'])\n",
        "plt.plot(hist.history['val_loss'])\n",
        "plt.title('Modelloss')\n",
        "plt.xlabel('Epoch')\n",
        "plt.ylabel('Loss')\n",
        "plt.legend(['Train', 'Validation'], loc='upper left')\n",
        "plt.show()\n",
        "\n",
        "plt.plot(hist.history['accuracy'])\n",
        "plt.plot(hist.history['val_accuracy'])\n",
        "plt.title('Model accuracy')\n",
        "plt.xlabel('Epoch')\n",
        "plt.ylabel('Accuracy')\n",
        "plt.legend(['Train', 'Validation'], loc='upper left')\n",
        "plt.show()\n",
        "\n"
      ],
      "metadata": {
        "colab": {
          "base_uri": "https://localhost:8080/",
          "height": 680
        },
        "id": "XfA7zjELD5CX",
        "outputId": "7dcc7361-cc19-4cbb-dbbb-3b810b7de54f"
      },
      "execution_count": null,
      "outputs": [
        {
          "output_type": "stream",
          "name": "stdout",
          "text": [
            "[<tf.Variable 'dense/kernel:0' shape=(1, 1) dtype=float32, numpy=array([[0.06383976]], dtype=float32)>, <tf.Variable 'dense/bias:0' shape=(1,) dtype=float32, numpy=array([-2.5279992], dtype=float32)>]\n",
            "1/1 [==============================] - 0s 98ms/step\n",
            "[[0.13128993]]\n",
            "1/1 [==============================] - 0s 39ms/step\n",
            "[[0.98895174]]\n"
          ]
        },
        {
          "output_type": "display_data",
          "data": {
            "text/plain": [
              "<Figure size 432x288 with 1 Axes>"
            ],
            "image/png": "[encoded data removed]"
          },
          "metadata": {
            "needs_background": "light"
          }
        },
        {
          "output_type": "display_data",
          "data": {
            "text/plain": [
              "<Figure size 432x288 with 1 Axes>"
            ],
            "image/png": "[encoded data removed]"
          },
          "metadata": {
            "needs_background": "light"
          }
        }
      ]
    },
    {
      "cell_type": "markdown",
      "source": [
        "# 결과\n",
        "\n",
        "Test데이터를 대입한 결과 10에서는 0.1312로 0에 가까운 값이 나오고 110에서는 0.988로 1에 가까운 값이 나온다.\n",
        "\n",
        "loss 그래프 상에서 Train과 Validation이 거의 일치하고 정확도도 비슷하다는 점에서 학습이 잘 되었다는 것을 알 수 있다.\n",
        "\n",
        "여기서 나온 w의 값은 약 0.063 편향값 b는 약 -2.528 이므로 $$ y = 0.063x - 2.528$$ 을 sigmoid 함수에 대입하면\n",
        "\n",
        "![스크린샷 2022-10-25 오후 9 41 56](https://user-images.githubusercontent.com/96982072/197775934-94bcc287-ae29-48cb-a488-d5b7168a9f33.png)\n",
        "\n",
        "이런 sigmoid 그래프가 나오는 것을 알 수 있다."
      ],
      "metadata": {
        "id": "g1_CXVu1JEGD"
      }
    }
  ]
}