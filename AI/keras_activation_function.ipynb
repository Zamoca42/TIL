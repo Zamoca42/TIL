{
  "nbformat": 4,
  "nbformat_minor": 0,
  "metadata": {
    "colab": {
      "provenance": [],
      "authorship_tag": "ABX9TyOesrZGEDu1kegwtHMEtTKl",
      "include_colab_link": true
    },
    "kernelspec": {
      "name": "python3",
      "display_name": "Python 3"
    },
    "language_info": {
      "name": "python"
    }
  },
  "cells": [
    {
      "cell_type": "markdown",
      "metadata": {
        "id": "view-in-github",
        "colab_type": "text"
      },
      "source": [
        "<a href=\"https://colab.research.google.com/github/Zamoca42/TIL/blob/main/AI/keras_activation_function.ipynb\" target=\"_parent\"><img src=\"https://colab.research.google.com/assets/colab-badge.svg\" alt=\"Open In Colab\"/></a>"
      ]
    },
    {
      "cell_type": "code",
      "execution_count": 2,
      "metadata": {
        "id": "Nt-m90RNofy8",
        "colab": {
          "base_uri": "https://localhost:8080/"
        },
        "outputId": "10195056-893e-451a-e438-666a09541bc1"
      },
      "outputs": [
        {
          "output_type": "stream",
          "name": "stdout",
          "text": [
            "[<tf.Variable 'dense_3/kernel:0' shape=(2, 2) dtype=float32, numpy=\n",
            "array([[ 1.6366147, -3.3632686],\n",
            "       [ 1.6371591, -3.0237212]], dtype=float32)>, <tf.Variable 'dense_3/bias:0' shape=(2,) dtype=float32, numpy=array([-2.291348,  1.110479], dtype=float32)>, <tf.Variable 'dense_4/kernel:0' shape=(2, 2) dtype=float32, numpy=\n",
            "array([[-5.0400414 ,  0.97598547],\n",
            "       [ 0.01751438, -3.7678556 ]], dtype=float32)>, <tf.Variable 'dense_4/bias:0' shape=(2,) dtype=float32, numpy=array([0.40559042, 0.41836688], dtype=float32)>, <tf.Variable 'dense_5/kernel:0' shape=(2, 1) dtype=float32, numpy=\n",
            "array([[7.9297595],\n",
            "       [8.19083  ]], dtype=float32)>, <tf.Variable 'dense_5/bias:0' shape=(1,) dtype=float32, numpy=array([-7.7626724], dtype=float32)>]\n",
            "1/1 [==============================] - 0s 64ms/step\n",
            "0 xor 0 ->  [[0.00033166]]\n",
            "1/1 [==============================] - 0s 32ms/step\n",
            "0 xor 1 ->  [[0.9997564]]\n",
            "1/1 [==============================] - 0s 30ms/step\n",
            "1 xor 0 ->  [[0.99975693]]\n",
            "1/1 [==============================] - 0s 34ms/step\n",
            "1 xor 1 ->  [[0.00056098]]\n"
          ]
        }
      ],
      "source": [
        "# tanh, ReLU, sigmoid\n",
        "# https://www.v7labs.com/blog/neural-networks-activation-functions\n",
        "\n",
        "from tensorflow import keras\n",
        "import numpy as np\n",
        "import matplotlib.pyplot as plt\n",
        "\n",
        "# and, or, xor gate\n",
        "\n",
        "# input\n",
        "X_train=[[0,0],[0,1],[1,0],[1,1]]\n",
        "\n",
        "# output\n",
        "# Y_train=[0,0,0,1] 'and' gate\n",
        "# Y_train=[0,1,1,1] # 'or' gate\n",
        "Y_train=[0,1,1,0] # 'xor' gate\n",
        "\n",
        "model = keras.models.Sequential([\n",
        "    keras.layers.Dense(units=2, activation='tanh', input_shape=[2]),# weight = input * units -> 2 * 2\n",
        "    keras.layers.Dense(units=2, activation='tanh'),\n",
        "    keras.layers.Dense(units=1, activation='sigmoid'), # 출력이 0또는 1\n",
        "])\n",
        "\n",
        "# units = Neuron의 갯수\n",
        "\n",
        "opt = keras.optimizers.Adam(learning_rate=0.1)\n",
        "\n",
        "model.compile(loss='binary_crossentropy', optimizer=opt, metrics=['accuracy'])\n",
        "\n",
        "hist = model.fit(X_train,Y_train, batch_size=4, epochs=1000, shuffle = True, verbose = 0)\n",
        "\n",
        "print(model.weights)\n",
        "print(\"0 xor 0 -> \",model.predict([[0,0]]))\n",
        "print(\"0 xor 1 -> \",model.predict([[0,1]]))\n",
        "print(\"1 xor 0 -> \",model.predict([[1,0]]))\n",
        "print(\"1 xor 1 -> \",model.predict([[1,1]]))"
      ]
    },
    {
      "cell_type": "code",
      "source": [
        "from tensorflow import keras\n",
        "import numpy as np\n",
        "import matplotlib.pyplot as plt\n",
        "\n",
        "# input\n",
        "X_train=[[0,0],[0,1],[1,0],[1,1]]\n",
        "\n",
        "# output\n",
        "# Y_train=[0,0,0,1] 'and' gate\n",
        "# Y_train=[0,1,1,1] # 'or' gate\n",
        "# Y_train=[0,1,1,0] # 'xor' gate\n",
        "\n",
        "# 2-output\n",
        "Y_train=[[0,0],[1,0],[1,0],[0,1]]\n",
        "# Y[0,0] => XOR gate\n",
        "# Y[0,1] => AND gate\n",
        "\n",
        "model = keras.models.Sequential([\n",
        "    keras.layers.Dense(units=4, activation='tanh', input_shape=[2]),# weight = input * units -> 4 * 2\n",
        "    keras.layers.Dense(units=2, activation='tanh'), # 2 * 4\n",
        "    keras.layers.Dense(units=2, activation='sigmoid'), # 출력이 0또는 1\n",
        "])\n",
        "\n",
        "# units = Neuron의 갯수\n",
        "\n",
        "opt = keras.optimizers.Adam(learning_rate=0.1)\n",
        "\n",
        "model.compile(loss='binary_crossentropy', optimizer=opt, metrics=['accuracy'])\n",
        "\n",
        "hist = model.fit(X_train,Y_train, batch_size=4, epochs=1000, shuffle = True, verbose = 0)\n",
        "\n",
        "print(model.weights)\n",
        "print(\"0 xor 0 , 0&0 -> \",model.predict([[0,0]]))\n",
        "print(\"0 xor 1 , 0&1 -> \",model.predict([[0,1]]))\n",
        "print(\"1 xor 0 , 1&0 -> \",model.predict([[1,0]]))\n",
        "print(\"1 xor 1 , 1&1 -> \",model.predict([[1,1]]))"
      ],
      "metadata": {
        "colab": {
          "base_uri": "https://localhost:8080/"
        },
        "id": "8LSOQwFXyExb",
        "outputId": "c277b0e7-8755-49c2-b18f-6b5c24cafa6a"
      },
      "execution_count": 3,
      "outputs": [
        {
          "output_type": "stream",
          "name": "stdout",
          "text": [
            "[<tf.Variable 'dense_6/kernel:0' shape=(2, 4) dtype=float32, numpy=\n",
            "array([[ 2.871724  ,  1.3844593 ,  0.30343193, -3.0804937 ],\n",
            "       [ 2.9146614 ,  1.2101253 ,  2.6513264 , -0.11650094]],\n",
            "      dtype=float32)>, <tf.Variable 'dense_6/bias:0' shape=(4,) dtype=float32, numpy=array([-0.31211528, -1.7436028 , -1.3508008 ,  1.3859482 ], dtype=float32)>, <tf.Variable 'dense_7/kernel:0' shape=(4, 2) dtype=float32, numpy=\n",
            "array([[ 1.0933447,  3.6027727],\n",
            "       [-2.6521347,  0.5499061],\n",
            "       [-2.5026567,  1.6257554],\n",
            "       [ 2.0677445, -1.475912 ]], dtype=float32)>, <tf.Variable 'dense_7/bias:0' shape=(2,) dtype=float32, numpy=array([ 1.4720734 , -0.11989562], dtype=float32)>, <tf.Variable 'dense_8/kernel:0' shape=(2, 2) dtype=float32, numpy=\n",
            "array([[ 8.09551  , -8.77871  ],\n",
            "       [ 7.8853493,  1.5147905]], dtype=float32)>, <tf.Variable 'dense_8/bias:0' shape=(2,) dtype=float32, numpy=array([-7.6186543, -1.8553941], dtype=float32)>]\n",
            "1/1 [==============================] - 0s 64ms/step\n",
            "0 xor 0 , 0&0 ->  [[6.0701714e-04 5.2963919e-06]]\n",
            "1/1 [==============================] - 0s 37ms/step\n",
            "0 xor 1 , 0&1 ->  [[9.9975777e-01 1.1100414e-04]]\n",
            "1/1 [==============================] - 0s 33ms/step\n",
            "1 xor 0 , 1&0 ->  [[9.99758422e-01 1.10924455e-04]]\n",
            "1/1 [==============================] - 0s 36ms/step\n",
            "1 xor 1 , 1&1 ->  [[4.0341736e-04 9.9978036e-01]]\n"
          ]
        }
      ]
    },
    {
      "cell_type": "code",
      "source": [],
      "metadata": {
        "id": "-C-h7BPRzmd3"
      },
      "execution_count": null,
      "outputs": []
    }
  ]
}