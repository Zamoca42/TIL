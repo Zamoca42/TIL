{
  "nbformat": 4,
  "nbformat_minor": 0,
  "metadata": {
    "colab": {
      "provenance": [],
      "authorship_tag": "ABX9TyPAg78ZfwgHF0tKwSUwNYAZ",
      "include_colab_link": true
    },
    "kernelspec": {
      "name": "python3",
      "display_name": "Python 3"
    },
    "language_info": {
      "name": "python"
    }
  },
  "cells": [
    {
      "cell_type": "markdown",
      "metadata": {
        "id": "view-in-github",
        "colab_type": "text"
      },
      "source": [
        "<a href=\"https://colab.research.google.com/github/Zamoca42/TIL/blob/main/Stat/data_analysis.ipynb\" target=\"_parent\"><img src=\"https://colab.research.google.com/assets/colab-badge.svg\" alt=\"Open In Colab\"/></a>"
      ]
    },
    {
      "cell_type": "code",
      "execution_count": null,
      "metadata": {
        "id": "F3IRz_CsQTAP"
      },
      "outputs": [],
      "source": [
        "from sklearn.datasets import load_boston # Scikit-Learn에서 제공하는 dataset package 호출\n",
        "import pandas                            # pandas package 호출 (DataFrame 활용)"
      ]
    },
    {
      "cell_type": "code",
      "source": [
        "boston_houseprice_data = load_boston()   # Boston지역의 주택가격 데이터를 활용하기 위해 데이터 로드"
      ],
      "metadata": {
        "id": "tnbPD_AsSjTz"
      },
      "execution_count": null,
      "outputs": []
    },
    {
      "cell_type": "code",
      "source": [
        "# 가져온 데이터와 변수명들을 활용하여 DataFrame 생성\n",
        "\n",
        "df = pandas.DataFrame(\n",
        "    data = boston_houseprice_data.data,\n",
        "    columns = boston_houseprice_data.feature_names\n",
        ")"
      ],
      "metadata": {
        "id": "Zh3aiTzUSnFZ"
      },
      "execution_count": null,
      "outputs": []
    },
    {
      "cell_type": "code",
      "source": [
        "# 초기 5건의 데이터를 출력해서 간단한 데이터 구조 확인\n",
        "df.head()"
      ],
      "metadata": {
        "id": "8S9EfIBOSyY7"
      },
      "execution_count": null,
      "outputs": []
    }
  ]
}