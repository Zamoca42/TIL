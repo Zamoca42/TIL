{
  "nbformat": 4,
  "nbformat_minor": 0,
  "metadata": {
    "colab": {
      "provenance": [],
      "authorship_tag": "ABX9TyOz5QsMDfTnyp6/JUs6L+ka",
      "include_colab_link": true
    },
    "kernelspec": {
      "name": "python3",
      "display_name": "Python 3"
    },
    "language_info": {
      "name": "python"
    }
  },
  "cells": [
    {
      "cell_type": "markdown",
      "metadata": {
        "id": "view-in-github",
        "colab_type": "text"
      },
      "source": [
        "<a href=\"https://colab.research.google.com/github/Zamoca42/TIL/blob/main/Stat/data_analysis.ipynb\" target=\"_parent\"><img src=\"https://colab.research.google.com/assets/colab-badge.svg\" alt=\"Open In Colab\"/></a>"
      ]
    },
    {
      "cell_type": "code",
      "execution_count": 9,
      "metadata": {
        "id": "F3IRz_CsQTAP"
      },
      "outputs": [],
      "source": [
        "from sklearn.datasets import load_boston # Scikit-Learn에서 제공하는 dataset package 호출\n",
        "import pandas as pd                        # pandas package 호출 (DataFrame 활용)"
      ]
    },
    {
      "cell_type": "code",
      "source": [
        "boston_houseprice_data = load_boston()   # Boston지역의 주택가격 데이터를 활용하기 위해 데이터 로드"
      ],
      "metadata": {
        "colab": {
          "base_uri": "https://localhost:8080/"
        },
        "id": "tnbPD_AsSjTz",
        "outputId": "652d37c1-acc6-4bb9-92f4-de590832dd6e"
      },
      "execution_count": 2,
      "outputs": [
        {
          "output_type": "stream",
          "name": "stderr",
          "text": [
            "/usr/local/lib/python3.8/dist-packages/sklearn/utils/deprecation.py:87: FutureWarning: Function load_boston is deprecated; `load_boston` is deprecated in 1.0 and will be removed in 1.2.\n",
            "\n",
            "    The Boston housing prices dataset has an ethical problem. You can refer to\n",
            "    the documentation of this function for further details.\n",
            "\n",
            "    The scikit-learn maintainers therefore strongly discourage the use of this\n",
            "    dataset unless the purpose of the code is to study and educate about\n",
            "    ethical issues in data science and machine learning.\n",
            "\n",
            "    In this special case, you can fetch the dataset from the original\n",
            "    source::\n",
            "\n",
            "        import pandas as pd\n",
            "        import numpy as np\n",
            "\n",
            "\n",
            "        data_url = \"http://lib.stat.cmu.edu/datasets/boston\"\n",
            "        raw_df = pd.read_csv(data_url, sep=\"\\s+\", skiprows=22, header=None)\n",
            "        data = np.hstack([raw_df.values[::2, :], raw_df.values[1::2, :2]])\n",
            "        target = raw_df.values[1::2, 2]\n",
            "\n",
            "    Alternative datasets include the California housing dataset (i.e.\n",
            "    :func:`~sklearn.datasets.fetch_california_housing`) and the Ames housing\n",
            "    dataset. You can load the datasets as follows::\n",
            "\n",
            "        from sklearn.datasets import fetch_california_housing\n",
            "        housing = fetch_california_housing()\n",
            "\n",
            "    for the California housing dataset and::\n",
            "\n",
            "        from sklearn.datasets import fetch_openml\n",
            "        housing = fetch_openml(name=\"house_prices\", as_frame=True)\n",
            "\n",
            "    for the Ames housing dataset.\n",
            "    \n",
            "  warnings.warn(msg, category=FutureWarning)\n"
          ]
        }
      ]
    },
    {
      "cell_type": "code",
      "source": [
        "# 가져온 데이터와 변수명들을 활용하여 DataFrame 생성\n",
        "\n",
        "df = pandas.DataFrame(\n",
        "    data = boston_houseprice_data.data,\n",
        "    columns = boston_houseprice_data.feature_names\n",
        ")"
      ],
      "metadata": {
        "id": "Zh3aiTzUSnFZ"
      },
      "execution_count": 3,
      "outputs": []
    },
    {
      "cell_type": "code",
      "source": [
        "# 초기 5건의 데이터를 출력해서 간단한 데이터 구조 확인\n",
        "df.head()"
      ],
      "metadata": {
        "colab": {
          "base_uri": "https://localhost:8080/",
          "height": 206
        },
        "id": "8S9EfIBOSyY7",
        "outputId": "d5404572-a12a-4e92-f58c-4603e97887ee"
      },
      "execution_count": 4,
      "outputs": [
        {
          "output_type": "execute_result",
          "data": {
            "text/plain": [
              "      CRIM    ZN  INDUS  CHAS    NOX     RM   AGE     DIS  RAD    TAX  \\\n",
              "0  0.00632  18.0   2.31   0.0  0.538  6.575  65.2  4.0900  1.0  296.0   \n",
              "1  0.02731   0.0   7.07   0.0  0.469  6.421  78.9  4.9671  2.0  242.0   \n",
              "2  0.02729   0.0   7.07   0.0  0.469  7.185  61.1  4.9671  2.0  242.0   \n",
              "3  0.03237   0.0   2.18   0.0  0.458  6.998  45.8  6.0622  3.0  222.0   \n",
              "4  0.06905   0.0   2.18   0.0  0.458  7.147  54.2  6.0622  3.0  222.0   \n",
              "\n",
              "   PTRATIO       B  LSTAT  \n",
              "0     15.3  396.90   4.98  \n",
              "1     17.8  396.90   9.14  \n",
              "2     17.8  392.83   4.03  \n",
              "3     18.7  394.63   2.94  \n",
              "4     18.7  396.90   5.33  "
            ],
            "text/html": [
              "\n",
              "  <div id=\"df-4c8c00be-293b-4425-a1b3-4704dcc735cd\">\n",
              "    <div class=\"colab-df-container\">\n",
              "      <div>\n",
              "<style scoped>\n",
              "    .dataframe tbody tr th:only-of-type {\n",
              "        vertical-align: middle;\n",
              "    }\n",
              "\n",
              "    .dataframe tbody tr th {\n",
              "        vertical-align: top;\n",
              "    }\n",
              "\n",
              "    .dataframe thead th {\n",
              "        text-align: right;\n",
              "    }\n",
              "</style>\n",
              "<table border=\"1\" class=\"dataframe\">\n",
              "  <thead>\n",
              "    <tr style=\"text-align: right;\">\n",
              "      <th></th>\n",
              "      <th>CRIM</th>\n",
              "      <th>ZN</th>\n",
              "      <th>INDUS</th>\n",
              "      <th>CHAS</th>\n",
              "      <th>NOX</th>\n",
              "      <th>RM</th>\n",
              "      <th>AGE</th>\n",
              "      <th>DIS</th>\n",
              "      <th>RAD</th>\n",
              "      <th>TAX</th>\n",
              "      <th>PTRATIO</th>\n",
              "      <th>B</th>\n",
              "      <th>LSTAT</th>\n",
              "    </tr>\n",
              "  </thead>\n",
              "  <tbody>\n",
              "    <tr>\n",
              "      <th>0</th>\n",
              "      <td>0.00632</td>\n",
              "      <td>18.0</td>\n",
              "      <td>2.31</td>\n",
              "      <td>0.0</td>\n",
              "      <td>0.538</td>\n",
              "      <td>6.575</td>\n",
              "      <td>65.2</td>\n",
              "      <td>4.0900</td>\n",
              "      <td>1.0</td>\n",
              "      <td>296.0</td>\n",
              "      <td>15.3</td>\n",
              "      <td>396.90</td>\n",
              "      <td>4.98</td>\n",
              "    </tr>\n",
              "    <tr>\n",
              "      <th>1</th>\n",
              "      <td>0.02731</td>\n",
              "      <td>0.0</td>\n",
              "      <td>7.07</td>\n",
              "      <td>0.0</td>\n",
              "      <td>0.469</td>\n",
              "      <td>6.421</td>\n",
              "      <td>78.9</td>\n",
              "      <td>4.9671</td>\n",
              "      <td>2.0</td>\n",
              "      <td>242.0</td>\n",
              "      <td>17.8</td>\n",
              "      <td>396.90</td>\n",
              "      <td>9.14</td>\n",
              "    </tr>\n",
              "    <tr>\n",
              "      <th>2</th>\n",
              "      <td>0.02729</td>\n",
              "      <td>0.0</td>\n",
              "      <td>7.07</td>\n",
              "      <td>0.0</td>\n",
              "      <td>0.469</td>\n",
              "      <td>7.185</td>\n",
              "      <td>61.1</td>\n",
              "      <td>4.9671</td>\n",
              "      <td>2.0</td>\n",
              "      <td>242.0</td>\n",
              "      <td>17.8</td>\n",
              "      <td>392.83</td>\n",
              "      <td>4.03</td>\n",
              "    </tr>\n",
              "    <tr>\n",
              "      <th>3</th>\n",
              "      <td>0.03237</td>\n",
              "      <td>0.0</td>\n",
              "      <td>2.18</td>\n",
              "      <td>0.0</td>\n",
              "      <td>0.458</td>\n",
              "      <td>6.998</td>\n",
              "      <td>45.8</td>\n",
              "      <td>6.0622</td>\n",
              "      <td>3.0</td>\n",
              "      <td>222.0</td>\n",
              "      <td>18.7</td>\n",
              "      <td>394.63</td>\n",
              "      <td>2.94</td>\n",
              "    </tr>\n",
              "    <tr>\n",
              "      <th>4</th>\n",
              "      <td>0.06905</td>\n",
              "      <td>0.0</td>\n",
              "      <td>2.18</td>\n",
              "      <td>0.0</td>\n",
              "      <td>0.458</td>\n",
              "      <td>7.147</td>\n",
              "      <td>54.2</td>\n",
              "      <td>6.0622</td>\n",
              "      <td>3.0</td>\n",
              "      <td>222.0</td>\n",
              "      <td>18.7</td>\n",
              "      <td>396.90</td>\n",
              "      <td>5.33</td>\n",
              "    </tr>\n",
              "  </tbody>\n",
              "</table>\n",
              "</div>\n",
              "      <button class=\"colab-df-convert\" onclick=\"convertToInteractive('df-4c8c00be-293b-4425-a1b3-4704dcc735cd')\"\n",
              "              title=\"Convert this dataframe to an interactive table.\"\n",
              "              style=\"display:none;\">\n",
              "        \n",
              "  <svg xmlns=\"http://www.w3.org/2000/svg\" height=\"24px\"viewBox=\"0 0 24 24\"\n",
              "       width=\"24px\">\n",
              "    <path d=\"M0 0h24v24H0V0z\" fill=\"none\"/>\n",
              "    <path d=\"M18.56 5.44l.94 2.06.94-2.06 2.06-.94-2.06-.94-.94-2.06-.94 2.06-2.06.94zm-11 1L8.5 8.5l.94-2.06 2.06-.94-2.06-.94L8.5 2.5l-.94 2.06-2.06.94zm10 10l.94 2.06.94-2.06 2.06-.94-2.06-.94-.94-2.06-.94 2.06-2.06.94z\"/><path d=\"M17.41 7.96l-1.37-1.37c-.4-.4-.92-.59-1.43-.59-.52 0-1.04.2-1.43.59L10.3 9.45l-7.72 7.72c-.78.78-.78 2.05 0 2.83L4 21.41c.39.39.9.59 1.41.59.51 0 1.02-.2 1.41-.59l7.78-7.78 2.81-2.81c.8-.78.8-2.07 0-2.86zM5.41 20L4 18.59l7.72-7.72 1.47 1.35L5.41 20z\"/>\n",
              "  </svg>\n",
              "      </button>\n",
              "      \n",
              "  <style>\n",
              "    .colab-df-container {\n",
              "      display:flex;\n",
              "      flex-wrap:wrap;\n",
              "      gap: 12px;\n",
              "    }\n",
              "\n",
              "    .colab-df-convert {\n",
              "      background-color: #E8F0FE;\n",
              "      border: none;\n",
              "      border-radius: 50%;\n",
              "      cursor: pointer;\n",
              "      display: none;\n",
              "      fill: #1967D2;\n",
              "      height: 32px;\n",
              "      padding: 0 0 0 0;\n",
              "      width: 32px;\n",
              "    }\n",
              "\n",
              "    .colab-df-convert:hover {\n",
              "      background-color: #E2EBFA;\n",
              "      box-shadow: 0px 1px 2px rgba(60, 64, 67, 0.3), 0px 1px 3px 1px rgba(60, 64, 67, 0.15);\n",
              "      fill: #174EA6;\n",
              "    }\n",
              "\n",
              "    [theme=dark] .colab-df-convert {\n",
              "      background-color: #3B4455;\n",
              "      fill: #D2E3FC;\n",
              "    }\n",
              "\n",
              "    [theme=dark] .colab-df-convert:hover {\n",
              "      background-color: #434B5C;\n",
              "      box-shadow: 0px 1px 3px 1px rgba(0, 0, 0, 0.15);\n",
              "      filter: drop-shadow(0px 1px 2px rgba(0, 0, 0, 0.3));\n",
              "      fill: #FFFFFF;\n",
              "    }\n",
              "  </style>\n",
              "\n",
              "      <script>\n",
              "        const buttonEl =\n",
              "          document.querySelector('#df-4c8c00be-293b-4425-a1b3-4704dcc735cd button.colab-df-convert');\n",
              "        buttonEl.style.display =\n",
              "          google.colab.kernel.accessAllowed ? 'block' : 'none';\n",
              "\n",
              "        async function convertToInteractive(key) {\n",
              "          const element = document.querySelector('#df-4c8c00be-293b-4425-a1b3-4704dcc735cd');\n",
              "          const dataTable =\n",
              "            await google.colab.kernel.invokeFunction('convertToInteractive',\n",
              "                                                     [key], {});\n",
              "          if (!dataTable) return;\n",
              "\n",
              "          const docLinkHtml = 'Like what you see? Visit the ' +\n",
              "            '<a target=\"_blank\" href=https://colab.research.google.com/notebooks/data_table.ipynb>data table notebook</a>'\n",
              "            + ' to learn more about interactive tables.';\n",
              "          element.innerHTML = '';\n",
              "          dataTable['output_type'] = 'display_data';\n",
              "          await google.colab.output.renderOutput(dataTable, element);\n",
              "          const docLink = document.createElement('div');\n",
              "          docLink.innerHTML = docLinkHtml;\n",
              "          element.appendChild(docLink);\n",
              "        }\n",
              "      </script>\n",
              "    </div>\n",
              "  </div>\n",
              "  "
            ]
          },
          "metadata": {},
          "execution_count": 4
        }
      ]
    },
    {
      "cell_type": "code",
      "source": [
        "# AGE 컬럼 불러오기\n",
        "# 결과는 Series라는 1차원 구조로 출력됨\n",
        "df['AGE']"
      ],
      "metadata": {
        "colab": {
          "base_uri": "https://localhost:8080/"
        },
        "id": "XxKPUNh7Ty6k",
        "outputId": "dcaa1a91-53b2-4bec-8cad-ed515cfc0f1e"
      },
      "execution_count": 5,
      "outputs": [
        {
          "output_type": "execute_result",
          "data": {
            "text/plain": [
              "0      65.2\n",
              "1      78.9\n",
              "2      61.1\n",
              "3      45.8\n",
              "4      54.2\n",
              "       ... \n",
              "501    69.1\n",
              "502    76.7\n",
              "503    91.0\n",
              "504    89.3\n",
              "505    80.8\n",
              "Name: AGE, Length: 506, dtype: float64"
            ]
          },
          "metadata": {},
          "execution_count": 5
        }
      ]
    },
    {
      "cell_type": "code",
      "source": [
        "df.shape\n",
        "# 데이터 개수 : 506개 (506개 행)\n",
        "# 변수의 개수 : 13개 (13개 열)"
      ],
      "metadata": {
        "colab": {
          "base_uri": "https://localhost:8080/"
        },
        "id": "BtQerFkGUWT3",
        "outputId": "69349385-2ad2-49b4-f715-a750c71b03e3"
      },
      "execution_count": 6,
      "outputs": [
        {
          "output_type": "execute_result",
          "data": {
            "text/plain": [
              "(506, 13)"
            ]
          },
          "metadata": {},
          "execution_count": 6
        }
      ]
    },
    {
      "cell_type": "markdown",
      "source": [
        "# 3. 변수의 분류 기준\n",
        "\n",
        "- 질적 변수 / 양적 변수\n",
        "  - 질적변수(Qualitative variable)\n",
        "    - 변수의 값이 특정 범주에 포함되도록 표현가능한 변수 \n",
        "      - 예) 아이들 장난감의 색상, 특정 집단 구성원의 성별, 종교 등\n",
        "  - 양적변수(Quantitative variable) \n",
        "    - 변수의 값을 숫자로 나타낼 수 있는 변수 \n",
        "      - 예) 사람의 키나 몸무게, 한 가정의 소득, 고속도로 통행량 등\n",
        "\n",
        "- 이산 변수 / 연속 변수\n",
        "  - 이산 변수(discrete variable)\n",
        "    - 셀수 있는 변수 \n",
        "      - 예) 아파트의층수,한회사의직원의수,불량품의개수등\n",
        "  - 연속 변수(continuous variable)\n",
        "    - 셀수 없는 변수\n",
        "    - 이산 변수와 다르게 변수의 각 값 사이에 무수히 많은 또 다른 값들이 존재하는 특성을 띔\n",
        "      - 예) 사람의 키, 몸무게, 나이, 한 가구의 소득 등\n",
        "\n",
        "- 간격 변수 / 비율 변수 ( 연속형 변수 )\n",
        "  - 간격변수 \n",
        "    - 대소관계와 함께 그 차이에도 의미를 두는 변수 \n",
        "      - 예) 연도, 온도등\n",
        "  - 비율변수 \n",
        "    - 대소관계, 차이, 비 모두에 의미를 두는 변수 \n",
        "      - 예) 길이, 무게등\n",
        "\n",
        "- 명목 변수 / 순위 변수\n",
        "  - 명목변수 \n",
        "    - 단순히 분류하기 위한 변수 \n",
        "      - 예) 학생번호, 전화번호, 성별 등\n",
        "  - 순위변수 \n",
        "    - 순서관계 및 대소관계에 의미를 둔 변수 \n",
        "      - 예) 성적 순위, 설문조사의 만족도 등\n",
        "\n",
        "- 변수 분류의 중요성\n",
        "  - 데이터 크기는 상대적으로 Pandas 활용시 쉽게 측정이 가능\n",
        "  - 하지만, 변수의 분류는 변수의 성질을 파악하는 분석가로서의 지식이 필요\n",
        "    "
      ],
      "metadata": {
        "id": "vgMzcStvU1zE"
      }
    },
    {
      "cell_type": "markdown",
      "source": [
        "# 1차원 데이터 분석\n",
        "\n",
        "- 데이터 분석\n",
        "  - 평균 혹은 분산 등의 수치 지표에 따라 데이터를 요약\n",
        "  - 그림을 그려 시각적으로 데이터를 살펴보는 방법\n",
        "  - 활용할 Python Tool Package\n",
        "    - Pandas: 데이터 관리에 용이 \n",
        "    - Numpy: 수치 계산에 특화\n",
        "\n",
        "- 수치 표현 규칙\n",
        "  - 시각적으로 결과 파악을 수월하게 하기위해 소수점 3자리까지만, 유효숫자 표현을 제한\n",
        "\n"
      ],
      "metadata": {
        "id": "L6uFTE9tiFs6"
      }
    },
    {
      "cell_type": "code",
      "source": [
        "# Colab의 출력을 소수점 이하 3자리로 제한\n",
        "%precision 3\n",
        "\n",
        "# pandas DataFrame의 출력을 소수점 이하 3자리로 제한\n",
        "pd.set_option('precision', 3)"
      ],
      "metadata": {
        "id": "oG2TtKNqimCJ"
      },
      "execution_count": 10,
      "outputs": []
    },
    {
      "cell_type": "markdown",
      "source": [
        "# 1. 대표값 ‒ 평균값, 중앙값, 최빈값\n",
        "\n",
        "- 대표값이란?\n",
        "  - 주어진 데이터를 대표하는 특정 값\n",
        "  - 데이터를 하나의 값으로 요약한 지표\n",
        "  - 예) 평균값, 중앙값, 최빈값 등\n",
        "  - 즉,학창시절 어떤 시험의 난이도를 알고 싶다라고 할 때,\n",
        "  전체 학생의 시험 점수를 알고 있지 못해도, \n",
        "  평균 점수가 높은지 낮은지 여부에 따라 시험의 난이도를 파악할 수 있다.\n",
        "\n",
        "- 평균값 (Mean / Average)\n",
        "  - 가장 잘 알려진 대표값 / 계산방법이 간단 \n",
        "  - 일상생활에서도 가장 많이 쓰임\n",
        "  - 계산방법\n",
        "    - 데이터의 값을 모두 더한 뒤,데이터의 갯수로 나누어서 계산 \n",
        "  - 계산예시\n",
        "\n",
        "    ![스크린샷 2022-12-03 오후 11 53 56](https://user-images.githubusercontent.com/96982072/205447109-89ef0e9c-8d6e-44f8-beae-5f0842160c00.png)\n",
        "\n",
        "    \n"
      ],
      "metadata": {
        "id": "X_PjuORGiy-p"
      }
    },
    {
      "cell_type": "markdown",
      "source": [
        "- 평균값 (Mean / Average) 계산 방법\n",
        "\n",
        "- 공식\n",
        "  - $ \\bar{X} = { \\sum_{i=1}^n X_i \\over n} $\n",
        "  - $ X_i $ : i번째 개체의 측정값\n",
        "  - $ \\bar{X} $ : 집단의 평균"
      ],
      "metadata": {
        "id": "oAJ7wRpCbU_V"
      }
    },
    {
      "cell_type": "code",
      "source": [
        "# 평균값 Pandas 계산\n",
        "\n",
        "sum(df['AGE']) / len(df['AGE'])"
      ],
      "metadata": {
        "id": "ifjT1KHMeG3J",
        "colab": {
          "base_uri": "https://localhost:8080/"
        },
        "outputId": "5e2e4e78-3f12-4393-9588-7421f71fed7c"
      },
      "execution_count": 13,
      "outputs": [
        {
          "output_type": "execute_result",
          "data": {
            "text/plain": [
              "68.57490118577076"
            ]
          },
          "metadata": {},
          "execution_count": 13
        }
      ]
    },
    {
      "cell_type": "code",
      "source": [
        "# 평균값 Pandas 계산2\n",
        "\n",
        "df['AGE'].mean()"
      ],
      "metadata": {
        "id": "dRluCxwhcraz"
      },
      "execution_count": null,
      "outputs": []
    },
    {
      "cell_type": "code",
      "source": [
        "# 평균값 numpy 계산\n",
        "\n",
        "import numpy as np\n",
        "\n",
        "np.mean(df['AGE'])"
      ],
      "metadata": {
        "colab": {
          "base_uri": "https://localhost:8080/"
        },
        "id": "U1hxg8obccmK",
        "outputId": "569075cd-101f-49b8-b4ff-6f423c1e08dd"
      },
      "execution_count": 14,
      "outputs": [
        {
          "output_type": "execute_result",
          "data": {
            "text/plain": [
              "68.57490118577076"
            ]
          },
          "metadata": {},
          "execution_count": 14
        }
      ]
    },
    {
      "cell_type": "markdown",
      "source": [
        "- 중앙값 (Median)\n",
        "   - 데이터를 크기 순서대로 나열하였을 때, 정확하게 중앙에 위치한 값 \n",
        "   - 계산예시\n",
        "    - [9,1,3,5,7]이라는 데이터가 있을 때,\n",
        "데이터를 크기 순서대로 나열([9,1,3,5,7] -> [1,3,5,7,9]) 후 중간인 5가 중앙값이 됨\n",
        "\n",
        "- 중앙값의 특징\n",
        "  - 데이터의 이상값이 존재할 때, 평균값보다 대표값을 잘 표현해낸다.\n",
        "즉, 이상값의 영향을 덜 받는다. \n",
        "  - 계산예시\n",
        "    - [1,2,3,4,5,6,1000]이라는 데이터가 있을 때,  \n",
        "      즉, 이상치 값이 존재할 때 평균값인 150이라는 수치는 \n",
        "      1,2,3,4,5,6,1000 그 어떤 값도 비슷하게 표현하지 못한다.   \n",
        "      평균값은 약 150이 나오지만, 중앙값은 4로서 표현되며, 이상치를 제외한 데이터들의 분포를 평균값 보다 더 잘 표현됨을 확인할 수 있다.\n",
        "\n",
        "- 중앙값 (Median) 계산 방법\n",
        "  - 데이터의 개수 n이 홀수라면, ${(n+1) \\over 2}$ 번째 데이터가 중앙값\n",
        "\n",
        "  - 데이터의 개수 n이 짝수라면, $ n \\over 2 $ 번째 데이터와 $ {n \\over 2} + 1 $ 번째 데이터의 평균이 중앙값\n",
        "\n",
        "  - 계산예시\n",
        "    - [1,2,3,4,5] -> 데이터 5개 -> 3번째인 3이 중앙값\n",
        "    - [1,2,3,4,5,6] -> 데이터 6개 -> 3번째 데이터(3)와 4번째 데이터(4)의 평균인 ${3 + 4 \\over 2} = 3.5$ 가 중앙값"
      ],
      "metadata": {
        "id": "5t-dr_dJdl4h"
      }
    },
    {
      "cell_type": "code",
      "source": [
        "# 중앙값 계산 방법\n",
        "\n",
        "# len 계산\n",
        "len(df['AGE']) # 506\n",
        "\n",
        "# 253번째, 254번째 값\n",
        "print(\n",
        "    list(df['AGE'].sort_values())[int(len(df['AGE'])/2 -1)], \n",
        "    list(df['AGE'].sort_values())[int(len(df['AGE'])/2)]\n",
        ")\n",
        "# 중앙값 계산 : 253번째 값과 254번째 값의 평균값\n",
        "print(\n",
        "    (\n",
        "        list(df['AGE'].sort_values())[int(len(df['AGE'])/2 -1)] +\n",
        "        list(df['AGE'].sort_values())[int(len(df['AGE'])/2)]\n",
        "    ) / 2\n",
        ")"
      ],
      "metadata": {
        "colab": {
          "base_uri": "https://localhost:8080/"
        },
        "id": "2xGWE77pcx6T",
        "outputId": "292fe620-7439-4250-a80c-219524e1f3b3"
      },
      "execution_count": 15,
      "outputs": [
        {
          "output_type": "stream",
          "name": "stdout",
          "text": [
            "77.3 77.7\n",
            "77.5\n"
          ]
        }
      ]
    },
    {
      "cell_type": "code",
      "source": [
        "# 중앙값 pandas 계산 방법\n",
        "\n",
        "df['AGE'].median()"
      ],
      "metadata": {
        "colab": {
          "base_uri": "https://localhost:8080/"
        },
        "id": "iPTX8GMue-Ur",
        "outputId": "6d88d7d1-e946-4344-be2b-1f54e0a9bcfd"
      },
      "execution_count": 16,
      "outputs": [
        {
          "output_type": "execute_result",
          "data": {
            "text/plain": [
              "77.5"
            ]
          },
          "metadata": {},
          "execution_count": 16
        }
      ]
    },
    {
      "cell_type": "code",
      "source": [
        "# 중앙값 numpy 계산 방법\n",
        "\n",
        "np.median(df['AGE'])"
      ],
      "metadata": {
        "colab": {
          "base_uri": "https://localhost:8080/"
        },
        "id": "qKskc_ecfJl1",
        "outputId": "2e5b0043-5d06-42a6-e2e7-e0ac00ea99d8"
      },
      "execution_count": 17,
      "outputs": [
        {
          "output_type": "execute_result",
          "data": {
            "text/plain": [
              "77.5"
            ]
          },
          "metadata": {},
          "execution_count": 17
        }
      ]
    },
    {
      "cell_type": "markdown",
      "source": [
        "- 최빈값 (Mode)\n",
        "  - 데이터에서 가장 많이 나타나는 값\n",
        "  - 주로, 범주형 변수(질적 변수)의 대표값을 구할 때 사용됨\n",
        "   (점수와 같은 수치형 변수는, 동일한 점수가 여러번 반복되는 경우가 거의 드물기 때문)\n",
        "- 계산예시\n",
        "  - [1,1,1,2,2,3]이라는 데이터 존재시, 1이 가장 많이 나타나므로\n",
        "최빈값은 1이 된다."
      ],
      "metadata": {
        "id": "WsmgTCVsfQnI"
      }
    },
    {
      "cell_type": "code",
      "source": [
        "# 최빈값 Pandas 계산 방법\n",
        "\n",
        "df['AGE'].mode()"
      ],
      "metadata": {
        "colab": {
          "base_uri": "https://localhost:8080/"
        },
        "id": "Wai3gcU0fzc3",
        "outputId": "237081e4-98d7-41c5-a48d-fe37877c4c21"
      },
      "execution_count": 18,
      "outputs": [
        {
          "output_type": "execute_result",
          "data": {
            "text/plain": [
              "0    100.0\n",
              "dtype: float64"
            ]
          },
          "metadata": {},
          "execution_count": 18
        }
      ]
    },
    {
      "cell_type": "code",
      "source": [
        "# 최빈값 numpy 계산 방법\n",
        "\n",
        "np.mode(df['AGE'])\n",
        "\n",
        "# numpy는 계산불가"
      ],
      "metadata": {
        "colab": {
          "base_uri": "https://localhost:8080/",
          "height": 334
        },
        "id": "XcnYZk21f45N",
        "outputId": "93fc1f1a-3a8c-4afa-cf54-18d5b4f1bdef"
      },
      "execution_count": 19,
      "outputs": [
        {
          "output_type": "error",
          "ename": "AttributeError",
          "evalue": "ignored",
          "traceback": [
            "\u001b[0;31m---------------------------------------------------------------------------\u001b[0m",
            "\u001b[0;31mAttributeError\u001b[0m                            Traceback (most recent call last)",
            "\u001b[0;32m<ipython-input-19-3b98e91e300e>\u001b[0m in \u001b[0;36m<module>\u001b[0;34m\u001b[0m\n\u001b[1;32m      1\u001b[0m \u001b[0;31m# 최빈값 numpy 계산 방법\u001b[0m\u001b[0;34m\u001b[0m\u001b[0;34m\u001b[0m\u001b[0;34m\u001b[0m\u001b[0m\n\u001b[1;32m      2\u001b[0m \u001b[0;34m\u001b[0m\u001b[0m\n\u001b[0;32m----> 3\u001b[0;31m \u001b[0mnp\u001b[0m\u001b[0;34m.\u001b[0m\u001b[0mmode\u001b[0m\u001b[0;34m(\u001b[0m\u001b[0mdf\u001b[0m\u001b[0;34m[\u001b[0m\u001b[0;34m'AGE'\u001b[0m\u001b[0;34m]\u001b[0m\u001b[0;34m)\u001b[0m\u001b[0;34m\u001b[0m\u001b[0;34m\u001b[0m\u001b[0m\n\u001b[0m",
            "\u001b[0;32m/usr/local/lib/python3.8/dist-packages/numpy/__init__.py\u001b[0m in \u001b[0;36m__getattr__\u001b[0;34m(attr)\u001b[0m\n\u001b[1;32m    311\u001b[0m                 \u001b[0;32mreturn\u001b[0m \u001b[0mTester\u001b[0m\u001b[0;34m\u001b[0m\u001b[0;34m\u001b[0m\u001b[0m\n\u001b[1;32m    312\u001b[0m \u001b[0;34m\u001b[0m\u001b[0m\n\u001b[0;32m--> 313\u001b[0;31m             raise AttributeError(\"module {!r} has no attribute \"\n\u001b[0m\u001b[1;32m    314\u001b[0m                                  \"{!r}\".format(__name__, attr))\n\u001b[1;32m    315\u001b[0m \u001b[0;34m\u001b[0m\u001b[0m\n",
            "\u001b[0;31mAttributeError\u001b[0m: module 'numpy' has no attribute 'mode'"
          ]
        }
      ]
    },
    {
      "cell_type": "markdown",
      "source": [
        "# 2. 산포도 ‒ 분산, 표준편차, 사분위\n",
        "\n",
        "- 산포도\n",
        "  - 대표값을 중심으로 자료들이 흩어져 있는 정도  \n",
        "  (즉, 대표값이 같더라도 산포도에 따라 데이터는 다른 특성을   가진다.)\n",
        "  - 하나의 수치로서 표현된다.\n",
        "    - 수치가 작을수록 자료들이 대표값에 밀집\n",
        "    - 수치가 클수록 자료들이 대표값을 중심으로 멀리 흩어져 있다\n",
        "  - 산포도를 대표하는 값들 : 분산, 표준편차, 사분위\n",
        "\n",
        "- 편차\n",
        "  - 산포도를 구하는 첫걸음\n",
        "  - 각 데이터가 평균으로부터 어느 정도 떨어져 있는지를 나타내는 지표 \n",
        "  - 계산예시\n",
        "    - A 학생의 점수이 42점, 10명의 평균 점수가 55점이라면, A 학생의 편차는 42-55로 -13점이 된다."
      ],
      "metadata": {
        "id": "3VjP0G2LgCWD"
      }
    },
    {
      "cell_type": "code",
      "source": [
        "# 편차\n",
        "\n",
        "# 데이터 a\n",
        "score_a = [42, 69, 56, 41, 57, 48, 65, 49, 65, 58]\n",
        "df_score_a = pd.DataFrame(score_a)\n",
        "print(df_score_a)\n",
        "\n",
        "# a의 편차\n",
        "print(df_score_a - df_score_a.mean())"
      ],
      "metadata": {
        "colab": {
          "base_uri": "https://localhost:8080/"
        },
        "id": "7UcjgykOf-Ik",
        "outputId": "f63249bb-cc2e-4b3f-fa24-7a33debe9ff8"
      },
      "execution_count": 22,
      "outputs": [
        {
          "output_type": "stream",
          "name": "stdout",
          "text": [
            "    0\n",
            "0  42\n",
            "1  69\n",
            "2  56\n",
            "3  41\n",
            "4  57\n",
            "5  48\n",
            "6  65\n",
            "7  49\n",
            "8  65\n",
            "9  58\n",
            "      0\n",
            "0 -13.0\n",
            "1  14.0\n",
            "2   1.0\n",
            "3 -14.0\n",
            "4   2.0\n",
            "5  -7.0\n",
            "6  10.0\n",
            "7  -6.0\n",
            "8  10.0\n",
            "9   3.0\n"
          ]
        }
      ]
    },
    {
      "cell_type": "code",
      "source": [
        "# 데이터 b\n",
        "\n",
        "score_b = [50, 60, 58, 54, 51, 56, 57, 53, 52, 59]\n",
        "df_score_b = pd.DataFrame(score_b)\n",
        "print(df_score_b)\n",
        "\n",
        "# b의 편차\n",
        "print(df_score_b - df_score_b.mean())"
      ],
      "metadata": {
        "colab": {
          "base_uri": "https://localhost:8080/"
        },
        "id": "FfGPL6hzglKc",
        "outputId": "b4801cb7-977e-413e-b41c-5a71f1a7fa42"
      },
      "execution_count": 23,
      "outputs": [
        {
          "output_type": "stream",
          "name": "stdout",
          "text": [
            "    0\n",
            "0  50\n",
            "1  60\n",
            "2  58\n",
            "3  54\n",
            "4  51\n",
            "5  56\n",
            "6  57\n",
            "7  53\n",
            "8  52\n",
            "9  59\n",
            "     0\n",
            "0 -5.0\n",
            "1  5.0\n",
            "2  3.0\n",
            "3 -1.0\n",
            "4 -4.0\n",
            "5  1.0\n",
            "6  2.0\n",
            "7 -2.0\n",
            "8 -3.0\n",
            "9  4.0\n"
          ]
        }
      ]
    },
    {
      "cell_type": "code",
      "source": [
        "# 기초 데이터 a의 분포\n",
        "df_score_a.plot.hist(xlim=[40,70])"
      ],
      "metadata": {
        "colab": {
          "base_uri": "https://localhost:8080/",
          "height": 283
        },
        "id": "_V55SBjNhN5c",
        "outputId": "a15de295-aa19-4315-95ed-bccd9e8b5062"
      },
      "execution_count": 24,
      "outputs": [
        {
          "output_type": "execute_result",
          "data": {
            "text/plain": [
              "<matplotlib.axes._subplots.AxesSubplot at 0x7efe84f30400>"
            ]
          },
          "metadata": {},
          "execution_count": 24
        },
        {
          "output_type": "display_data",
          "data": {
            "text/plain": [
              "<Figure size 432x288 with 1 Axes>"
            ],
            "image/png": "[encoded data removed]"
          },
          "metadata": {
            "needs_background": "light"
          }
        }
      ]
    },
    {
      "cell_type": "code",
      "source": [
        "# 기초 데이터 b의 분포\n",
        "df_score_b.plot.hist(xlim=[40,70])"
      ],
      "metadata": {
        "colab": {
          "base_uri": "https://localhost:8080/",
          "height": 283
        },
        "id": "BwwonJ1whWwE",
        "outputId": "06b51201-43a6-4af7-dc9a-64a837218c37"
      },
      "execution_count": 25,
      "outputs": [
        {
          "output_type": "execute_result",
          "data": {
            "text/plain": [
              "<matplotlib.axes._subplots.AxesSubplot at 0x7efe85083730>"
            ]
          },
          "metadata": {},
          "execution_count": 25
        },
        {
          "output_type": "display_data",
          "data": {
            "text/plain": [
              "<Figure size 432x288 with 1 Axes>"
            ],
            "image/png": "[encoded data removed]"
          },
          "metadata": {
            "needs_background": "light"
          }
        }
      ]
    },
    {
      "cell_type": "markdown",
      "source": [
        "- 편차의 값의 평균을 구해보면?\n",
        "  - 편차 값들의 평균은 0\n",
        "\n",
        "    ![스크린샷 2022-12-04 오후 11 24 33](https://user-images.githubusercontent.com/96982072/205496279-cae7b3ec-8c1b-4e30-8085-3caf357c1d7d.png)\n",
        "\n",
        "\n",
        "- 즉, 편차 평균으로는 산포도를 계산할 수 없다!\n",
        "  - 분산을 활용해보자.\n",
        "\n",
        "- 분산\n",
        "  - 편차의 제곱을 합산하여 평균을 계산한 값\n",
        "    - 편차의 절대값을 합산하여 평균을 계산하는 방법도 있으나, 거의 활용되지 않는다.\n",
        "  - 편차의 평균은 항상 0이 되는 문제를 고려하였다.\n",
        "\n",
        "    ![스크린샷 2022-12-04 오후 11 29 10](https://user-images.githubusercontent.com/96982072/205496478-7c22a83e-d631-4b56-87a5-233702ae1d39.png)"
      ],
      "metadata": {
        "id": "Q-76UdOmhlIf"
      }
    },
    {
      "cell_type": "code",
      "source": [
        "# 분산 계산 방법\n",
        "\n",
        "# Pandas - var()\n",
        "\n",
        "print(df_score_a.var())\n",
        "\n",
        "print(df_score_b.var())\n",
        "\n",
        "# numpy - np.var()\n",
        "\n",
        "print(np.var(df_score_a))\n",
        "\n",
        "print(np.var(df_score_b))"
      ],
      "metadata": {
        "colab": {
          "base_uri": "https://localhost:8080/"
        },
        "id": "yLFGYG9vhagJ",
        "outputId": "fc80e9ce-6607-4e48-8635-b6c62d6ec664"
      },
      "execution_count": 28,
      "outputs": [
        {
          "output_type": "stream",
          "name": "stdout",
          "text": [
            "0    95.556\n",
            "dtype: float64\n",
            "0    12.222\n",
            "dtype: float64\n",
            "0    86.0\n",
            "dtype: float64\n",
            "0    11.0\n",
            "dtype: float64\n"
          ]
        }
      ]
    },
    {
      "cell_type": "markdown",
      "source": [
        "- 분산 계산 방법\n",
        "  - Pandas ( a: 95.556, b: 12.222, a’: 86, b’:11 )\n",
        "    * Pandas에서 기본 var() 함수로 계산된 분산 값은 Numpy에서. 계산된 분산 값과는 값이 다르다. Pandas의 Var() 함수 결과값은. 표본분산이 아닌 불편분산이며, 앞에서 알려준 기존 분산의. 개념과는 다른 어려운 개념으로 추후 Ch.10에서 다룰 예정이다.\n",
        "    * 동일하게 계산된 결과값을 얻고 싶을 때는, default 값으로 존재하던 ddof=1이 아닌 ddof=0를 직접 입력하면 동일한 결과를 확인할 수 있다.\n",
        "  - Numpy(a:86,b:11)\n",
        "    * 기본 표본분산의 개념으로 결과값을 얻을 수 있다.\n",
        "  \n",
        "- 표준편차\n",
        "  - 평균의 단위는 원래의 데이터 단위와 다르지 않지만,  \n",
        "  분산의 단위는 점수의 제곱으로 표현된다는 점에서 이해하기 어려운 단위이다. ( $86점^2$ ?! )\n",
        "  - 따라서, 분산에 제곱근을 취하여, 원래의 데이터와 동일한 단위를 쓰도록 만들어진 산포도의 지표를\n",
        "표준편차라고 한다.  \n",
        "  ![스크린샷 2022-12-04 오후 11 33 59](https://user-images.githubusercontent.com/96982072/205496710-f18c297b-b3b6-45ac-8f62-0f610d1424e9.png)\n",
        "\n",
        "- 표준편차 계산 방법\n",
        "\n",
        "  - Pandas\n",
        "    * std()함수에 ddof=0을 넣어서 확인 가능\n",
        "  \n",
        "  - Numpy\n",
        "    * sqrt() 제곱근 함수를 분산값에 적용하는 방법\n",
        "    * std() 함수를 그대로 활용하는 방법"
      ],
      "metadata": {
        "id": "fBWgfEg6jOTq"
      }
    },
    {
      "cell_type": "code",
      "source": [
        "# 표준편차 계산 방법\n",
        "\n",
        "# pandas\n",
        "\n",
        "print(df_score_a.std(ddof=0))\n",
        "print('-'*30)\n",
        "print(df_score_b.std(ddof=0))\n",
        "print('-'*30)\n",
        "\n",
        "# numpy\n",
        "\n",
        "print(np.sqrt(np.var(df_score_a)))\n",
        "print('-'*30)\n",
        "print(np.sqrt(np.var(df_score_b)))"
      ],
      "metadata": {
        "colab": {
          "base_uri": "https://localhost:8080/"
        },
        "id": "aE95B6EXi9FV",
        "outputId": "23d49956-3492-4f56-e2ac-3361b2c89003"
      },
      "execution_count": 31,
      "outputs": [
        {
          "output_type": "stream",
          "name": "stdout",
          "text": [
            "0    9.274\n",
            "dtype: float64\n",
            "------------------------------\n",
            "0    3.317\n",
            "dtype: float64\n",
            "------------------------------\n",
            "0    9.274\n",
            "dtype: float64\n",
            "------------------------------\n",
            "0    3.317\n",
            "dtype: float64\n"
          ]
        }
      ]
    },
    {
      "cell_type": "markdown",
      "source": [
        "- 범위와 사분위 범위\n",
        "  - 범위 (Range)\n",
        "    - 데이터의 최대값과 최소값만으로 산포도를 표현하는 방법 \n",
        "    - 분산 혹은 표준편차와는 달리,데이터 전체를 담은 표현 방식이 아니다\n",
        "    - 즉, 최대값-최소값의 차이가 크면 산포도가 크고, 차이가 작으면 산포도가 작다는 것으로 표현된다. \n",
        "    - 값을 2개만 활용하기에, 개략적인 지표이며, 이상값을 반영하는 데 있어서 수준이 낮은 지표이다."
      ],
      "metadata": {
        "id": "n47xphnjmO-e"
      }
    },
    {
      "cell_type": "code",
      "source": [
        "# 범위의계산방법\n",
        "\n",
        "# pandas\n",
        "\n",
        "print(df_score_a.max() - df_score_a.min())\n",
        "\n",
        "print('-'*30)\n",
        "\n",
        "# numpy\n",
        "\n",
        "print(np.max(df_score_a) - np.min(df_score_a))"
      ],
      "metadata": {
        "colab": {
          "base_uri": "https://localhost:8080/"
        },
        "id": "pd0LUTWClLaH",
        "outputId": "0358b04e-51fd-4c0b-80dd-2676028b5087"
      },
      "execution_count": 32,
      "outputs": [
        {
          "output_type": "stream",
          "name": "stdout",
          "text": [
            "0    28\n",
            "dtype: int64\n",
            "------------------------------\n",
            "0    28\n",
            "dtype: int64\n"
          ]
        }
      ]
    },
    {
      "cell_type": "markdown",
      "source": [
        "- 범위와 사분위 범위\n",
        "  - 사분위 범위 (interquartile range)\n",
        "    - 데이터의 하위 25%(Q1:제1사분위수), 50%(Q2:제2사분위수), 75%(Q3:제3사분위수)에 위치하는 값으로 표현된 범위\n",
        "    - Q3‒Q1을 사분위 범위 IQR로 정의한다. \n",
        "  - 사분위 범위의 특징\n",
        "    - 범위라는 값은 최대값 최소값만을 활용하고 있어서 이상값을 반영한 산포도를 표현하는 것이 어렵지만, 사분위 범위는 이상값을 반영한 산포도를 표현하는 것에 더욱 효과적이다.\n",
        "    - 분산과 표준편차는 평균값에 대해 정의되는 산포도 지표인 반면, 사분위 범위는 중앙값에 대해 정의되는 산포도 지표이다.  \n",
        "  (* IQR 계산시, Q2를 사용하지는 않지만 Q2의 개념은 중앙값과 일치)"
      ],
      "metadata": {
        "id": "H0Hud9NGmtNb"
      }
    },
    {
      "cell_type": "code",
      "source": [],
      "metadata": {
        "id": "uDvGhPqymqaf"
      },
      "execution_count": null,
      "outputs": []
    }
  ]
}