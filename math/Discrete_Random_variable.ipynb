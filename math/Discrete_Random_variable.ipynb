{
  "nbformat": 4,
  "nbformat_minor": 0,
  "metadata": {
    "colab": {
      "provenance": [],
      "authorship_tag": "ABX9TyMRtwPbaV510n64y98TprNx",
      "include_colab_link": true
    },
    "kernelspec": {
      "name": "python3",
      "display_name": "Python 3"
    },
    "language_info": {
      "name": "python"
    }
  },
  "cells": [
    {
      "cell_type": "markdown",
      "metadata": {
        "id": "view-in-github",
        "colab_type": "text"
      },
      "source": [
        "<a href=\"https://colab.research.google.com/github/Zamoca42/TIL/blob/main/math/Discrete_Random_variable.ipynb\" target=\"_parent\"><img src=\"https://colab.research.google.com/assets/colab-badge.svg\" alt=\"Open In Colab\"/></a>"
      ]
    },
    {
      "cell_type": "markdown",
      "source": [
        "# 이산 확률 변수\n",
        "\n",
        "## 1. 1차원 이산형 확률변수 정의\n",
        "\n",
        "### 확률변수를 이해하려면 필요한 것은?\n",
        "\n",
        "- 통계분석을 위한 기초 수학\n",
        "- Python 라이브러리를 활용한 데이터 분석\n",
        "\n",
        "\n",
        "\n"
      ],
      "metadata": {
        "id": "Ic31frgy4FLA"
      }
    },
    {
      "cell_type": "code",
      "execution_count": 3,
      "metadata": {
        "id": "veZvVHCF36Lo"
      },
      "outputs": [],
      "source": [
        "# 라이브러리 세팅 : Numpy, Matplotlib 활용\n",
        "\n",
        "import numpy as np\n",
        "import matplotlib.pyplot as plt\n",
        "\n",
        "%precision 3\n",
        "%matplotlib inline"
      ]
    },
    {
      "cell_type": "markdown",
      "source": [
        "### 이산형 VS 연속형\n",
        "- 이산형\n",
        "  - 셀 수 있는 데이터\n",
        "- 연속형\n",
        "  - 값들 사이에도 무수히 많은 값들이 존재가능한 데이터 (셀수없음)\n",
        "\n",
        "### 확률변수\n",
        "- 변수가 취할 수 있는 값과 그 값이 나오는 확률에 의해 정의 된다\n",
        "\n",
        "### 이산형 확률변수 VS 연속형 확률변수\n",
        "- 이산형 확률변수\n",
        "  - 확률변수로 취할 수 있는 값들이 셀 수 있는 데이터일 때 \n",
        "- 연속형 확률변수\n",
        "  - 확률변수로 취할 수 있는 값들이 셀 수 없는 데이터일 때\n",
        "\n",
        "### 개념 1. 확률질량함수 (Probability Mass Function)\n",
        "- 확률변수 X가 취할 수 있는 값에 대한 집합을  {$ 𝑥_1,𝑥_2,...$} 으로 가정하면, 확률변수 $X$가 $𝑥_k$라는 값을 취할 확률은\n",
        "$$ P(𝑋=𝑥_k) = 𝑝_k \\space (𝑘=1,2,...) $$\n",
        "로 정의된다.\n",
        "\n",
        "- 확률은 변수가 취할 수 있는 값 𝑥를 인수로 하는 함수이므로,\n",
        "$$ f(x) = P(𝑋=𝑥) $$\n",
        "로 표현할 수 있고, 이를 확률질량함수, 또는 확률함수라고 한다\n",
        "\n",
        "- 예시 : 불공정한 주사위  \n",
        "  \n",
        "  ![스크린샷 2022-12-22 오전 12 53 59](https://user-images.githubusercontent.com/96982072/208947183-c3bd0fa0-c52b-47f0-be35-f10ac03ede5c.png)\n",
        "\n",
        "  - $ 𝑝_1 = P(𝑋=1) = {1\\over 21}, 𝑝_2 = P(𝑋=2) = {2 \\over 21}, ... $ 로도 정의가 가능하지만, \n",
        "  - 확률질량함수로 표현시 아래와 같이 손쉽게 정의 가능하다  \n",
        "    ![스크린샷 2022-12-26 오후 11 47 59](https://user-images.githubusercontent.com/96982072/209560530-a8255c44-5e0d-4140-b76a-94e42a122cfe.png)\n",
        "  \n",
        "\n",
        "\n",
        "\n",
        "  \n",
        "\n",
        "\n",
        "\n",
        "\n",
        "\n",
        "\n"
      ],
      "metadata": {
        "id": "rdBD5mvZ4VBt"
      }
    },
    {
      "cell_type": "code",
      "source": [
        "# [Python] 확률질량함수 표현\n",
        "\n",
        "x_set = np.array([1,2,3,4,5,6])\n",
        "\n",
        "def f(x):\n",
        "    if x in x_set:\n",
        "        return x/21\n",
        "    else:\n",
        "        return 0\n",
        "      \n",
        "X = [x_set, f]\n",
        "\n",
        "# 확률질량함수 기반 P(x=k) 계산\n",
        "\n",
        "prob = np.array([f(x_k) for x_k in x_set])\n",
        "# x_k와 p_k의 대응을 사전식(dictionary type)으로 표시\n",
        "dict(zip(x_set, prob))"
      ],
      "metadata": {
        "colab": {
          "base_uri": "https://localhost:8080/"
        },
        "id": "KcJbEuqa4Ssm",
        "outputId": "a0902963-7123-4ff6-c4b0-8c7e106f2356"
      },
      "execution_count": 5,
      "outputs": [
        {
          "output_type": "execute_result",
          "data": {
            "text/plain": [
              "{1: 0.047619047619047616,\n",
              " 2: 0.09523809523809523,\n",
              " 3: 0.14285714285714285,\n",
              " 4: 0.19047619047619047,\n",
              " 5: 0.23809523809523808,\n",
              " 6: 0.2857142857142857}"
            ]
          },
          "metadata": {},
          "execution_count": 5
        }
      ]
    },
    {
      "cell_type": "markdown",
      "source": [
        "### 확률의 성질\n",
        "- 확률은 2가지 식을 만족하여야 한다\n",
        "  - 확률이 절대적으로 0이상이어야 한다 $$ f(𝑥_k) ≥ 0$$\n",
        "  - 모든 확률을 더하면 1이 되어야 한다 $$ \\sum_{k}f(𝑥_k) = 1 $$\n",
        "- 확률이 모두 0이상인지는 모든 요소가 참일 때만 참을 반환하는 `np.all` 함수로 확인이 가능하다\n",
        "\n",
        "\n"
      ],
      "metadata": {
        "id": "0ayA_0t6641M"
      }
    },
    {
      "cell_type": "code",
      "source": [
        "np.all(prob >= 0)"
      ],
      "metadata": {
        "colab": {
          "base_uri": "https://localhost:8080/"
        },
        "id": "Yi9bID-n6sKS",
        "outputId": "bc2e5220-0b84-4c0e-a7d2-be93ceb99c8b"
      },
      "execution_count": 6,
      "outputs": [
        {
          "output_type": "execute_result",
          "data": {
            "text/plain": [
              "True"
            ]
          },
          "metadata": {},
          "execution_count": 6
        }
      ]
    },
    {
      "cell_type": "code",
      "source": [
        "np.sum(prob)"
      ],
      "metadata": {
        "colab": {
          "base_uri": "https://localhost:8080/"
        },
        "id": "SpPIQhi37dDq",
        "outputId": "1311d087-e486-4cfe-8a4d-f3c2ce5050d1"
      },
      "execution_count": 7,
      "outputs": [
        {
          "output_type": "execute_result",
          "data": {
            "text/plain": [
              "0.9999999999999999"
            ]
          },
          "metadata": {},
          "execution_count": 7
        }
      ]
    },
    {
      "cell_type": "code",
      "source": [],
      "metadata": {
        "id": "Nw1UjQuc7eD7"
      },
      "execution_count": null,
      "outputs": []
    }
  ]
}