{
  "nbformat": 4,
  "nbformat_minor": 0,
  "metadata": {
    "colab": {
      "provenance": [],
      "authorship_tag": "ABX9TyOIe+pJ1qqrupNo7lKJi5+f",
      "include_colab_link": true
    },
    "kernelspec": {
      "name": "python3",
      "display_name": "Python 3"
    },
    "language_info": {
      "name": "python"
    }
  },
  "cells": [
    {
      "cell_type": "markdown",
      "metadata": {
        "id": "view-in-github",
        "colab_type": "text"
      },
      "source": [
        "<a href=\"https://colab.research.google.com/github/Zamoca42/TIL/blob/main/math/Discrete_Random_variable.ipynb\" target=\"_parent\"><img src=\"https://colab.research.google.com/assets/colab-badge.svg\" alt=\"Open In Colab\"/></a>"
      ]
    },
    {
      "cell_type": "markdown",
      "source": [
        "# 이산 확률 변수\n",
        "\n",
        "## 1. 1차원 이산형 확률변수 정의\n",
        "\n",
        "### 확률변수를 이해하려면 필요한 것은?\n",
        "\n",
        "- 통계분석을 위한 기초 수학\n",
        "- Python 라이브러리를 활용한 데이터 분석\n",
        "\n",
        "\n",
        "\n"
      ],
      "metadata": {
        "id": "Ic31frgy4FLA"
      }
    },
    {
      "cell_type": "code",
      "execution_count": 3,
      "metadata": {
        "id": "veZvVHCF36Lo"
      },
      "outputs": [],
      "source": [
        "# 라이브러리 세팅 : Numpy, Matplotlib 활용\n",
        "\n",
        "import numpy as np\n",
        "import matplotlib.pyplot as plt\n",
        "\n",
        "%precision 3\n",
        "%matplotlib inline"
      ]
    },
    {
      "cell_type": "markdown",
      "source": [
        "### 이산형 VS 연속형\n",
        "- 이산형\n",
        "  - 셀 수 있는 데이터\n",
        "- 연속형\n",
        "  - 값들 사이에도 무수히 많은 값들이 존재가능한 데이터 (셀수없음)\n",
        "\n",
        "### 확률변수\n",
        "- 변수가 취할 수 있는 값과 그 값이 나오는 확률에 의해 정의 된다\n",
        "\n",
        "### 이산형 확률변수 VS 연속형 확률변수\n",
        "- 이산형 확률변수\n",
        "  - 확률변수로 취할 수 있는 값들이 셀 수 있는 데이터일 때 \n",
        "- 연속형 확률변수\n",
        "  - 확률변수로 취할 수 있는 값들이 셀 수 없는 데이터일 때\n",
        "\n",
        "### 개념 1. 확률질량함수 (Probability Mass Function)\n",
        "- 확률변수 X가 취할 수 있는 값에 대한 집합을  {$ 𝑥_1,𝑥_2,...$} 으로 가정하면, 확률변수 $X$가 $𝑥_k$라는 값을 취할 확률은\n",
        "$$ P(𝑋=𝑥_k) = 𝑝_k \\space (𝑘=1,2,...) $$\n",
        "로 정의된다.\n",
        "\n",
        "- 확률은 변수가 취할 수 있는 값 𝑥를 인수로 하는 함수이므로,\n",
        "$$ f(x) = P(𝑋=𝑥) $$\n",
        "로 표현할 수 있고, 이를 확률질량함수, 또는 확률함수라고 한다\n",
        "\n",
        "- 예시 : 불공정한 주사위  \n",
        "  \n",
        "  ![스크린샷 2022-12-22 오전 12 53 59](https://user-images.githubusercontent.com/96982072/208947183-c3bd0fa0-c52b-47f0-be35-f10ac03ede5c.png)\n",
        "\n",
        "  - $ 𝑝_1 = P(𝑋=1) = {1\\over 21}, 𝑝_2 = P(𝑋=2) = {2 \\over 21}, ... $ 로도 정의가 가능하지만, \n",
        "  - 확률질량함수로 표현시 아래와 같이 손쉽게 정의 가능하다  \n",
        "    ![스크린샷 2022-12-26 오후 11 47 59](https://user-images.githubusercontent.com/96982072/209560530-a8255c44-5e0d-4140-b76a-94e42a122cfe.png)\n",
        "  \n",
        "\n",
        "\n",
        "\n",
        "  \n",
        "\n",
        "\n",
        "\n",
        "\n",
        "\n",
        "\n"
      ],
      "metadata": {
        "id": "rdBD5mvZ4VBt"
      }
    },
    {
      "cell_type": "code",
      "source": [
        "# [Python] 확률질량함수 표현\n",
        "\n",
        "x_set = np.array([1,2,3,4,5,6])\n",
        "\n",
        "def f(x):\n",
        "    if x in x_set:\n",
        "        return x/21\n",
        "    else:\n",
        "        return 0\n",
        "      \n",
        "X = [x_set, f]\n",
        "\n",
        "# 확률질량함수 기반 P(x=k) 계산\n",
        "\n",
        "prob = np.array([f(x_k) for x_k in x_set])\n",
        "# x_k와 p_k의 대응을 사전식(dictionary type)으로 표시\n",
        "dict(zip(x_set, prob))"
      ],
      "metadata": {
        "colab": {
          "base_uri": "https://localhost:8080/"
        },
        "id": "KcJbEuqa4Ssm",
        "outputId": "a0902963-7123-4ff6-c4b0-8c7e106f2356"
      },
      "execution_count": 5,
      "outputs": [
        {
          "output_type": "execute_result",
          "data": {
            "text/plain": [
              "{1: 0.047619047619047616,\n",
              " 2: 0.09523809523809523,\n",
              " 3: 0.14285714285714285,\n",
              " 4: 0.19047619047619047,\n",
              " 5: 0.23809523809523808,\n",
              " 6: 0.2857142857142857}"
            ]
          },
          "metadata": {},
          "execution_count": 5
        }
      ]
    },
    {
      "cell_type": "markdown",
      "source": [
        "### 확률의 성질\n",
        "- 확률은 2가지 식을 만족하여야 한다\n",
        "  - 확률이 절대적으로 0이상이어야 한다 $$ f(𝑥_k) ≥ 0$$\n",
        "  - 모든 확률을 더하면 1이 되어야 한다 $$ \\sum_{k}f(𝑥_k) = 1 $$\n",
        "- 확률이 모두 0이상인지는 모든 요소가 참일 때만 참을 반환하는 `np.all` 함수로 확인이 가능하다\n",
        "\n",
        "\n"
      ],
      "metadata": {
        "id": "0ayA_0t6641M"
      }
    },
    {
      "cell_type": "code",
      "source": [
        "np.all(prob >= 0)"
      ],
      "metadata": {
        "colab": {
          "base_uri": "https://localhost:8080/"
        },
        "id": "Yi9bID-n6sKS",
        "outputId": "bc2e5220-0b84-4c0e-a7d2-be93ceb99c8b"
      },
      "execution_count": 6,
      "outputs": [
        {
          "output_type": "execute_result",
          "data": {
            "text/plain": [
              "True"
            ]
          },
          "metadata": {},
          "execution_count": 6
        }
      ]
    },
    {
      "cell_type": "code",
      "source": [
        "np.sum(prob)"
      ],
      "metadata": {
        "colab": {
          "base_uri": "https://localhost:8080/"
        },
        "id": "SpPIQhi37dDq",
        "outputId": "1311d087-e486-4cfe-8a4d-f3c2ce5050d1"
      },
      "execution_count": 7,
      "outputs": [
        {
          "output_type": "execute_result",
          "data": {
            "text/plain": [
              "0.9999999999999999"
            ]
          },
          "metadata": {},
          "execution_count": 7
        }
      ]
    },
    {
      "cell_type": "markdown",
      "source": [
        "### 누적분포함수 (Cumulative Distribution Function: CDF)\n",
        "- 확률함수는 𝑃(𝑋 = 𝑥)로 표현이 되지만,  \n",
        "누적분포함수는 𝑃(𝑋 ≤ 𝑥)로 표현이 된다\n",
        "- 즉, 확률변수 X가 x이하가 될 때의 확률을 반환하는 함수이다\n",
        "- 확률함수는 소문자인 𝑓(𝑥)로 표현이 되고,  \n",
        "누적분포함수는 대문자인 𝐹(𝑥)로 표현이 된다\n",
        "\n",
        "$$ F(x) =  𝑃(𝑋 ≤ 𝑥) = \\sum_{x_k ≤ 𝑥}f(x_k) $$\n"
      ],
      "metadata": {
        "id": "YYMTZ-v07s72"
      }
    },
    {
      "cell_type": "code",
      "source": [
        "# 누적분포함수 표현\n",
        "\n",
        "def F(x):\n",
        "    return np.sum([f(x_k) for x_k in x_set if x_k <=x])"
      ],
      "metadata": {
        "id": "Nw1UjQuc7eD7"
      },
      "execution_count": 8,
      "outputs": []
    },
    {
      "cell_type": "code",
      "source": [
        "F(3)"
      ],
      "metadata": {
        "colab": {
          "base_uri": "https://localhost:8080/"
        },
        "id": "60lb6sGI8JxQ",
        "outputId": "8fc2dc85-00df-45c1-a5b1-f304baf8b9a9"
      },
      "execution_count": 9,
      "outputs": [
        {
          "output_type": "execute_result",
          "data": {
            "text/plain": [
              "0.2857142857142857"
            ]
          },
          "metadata": {},
          "execution_count": 9
        }
      ]
    },
    {
      "cell_type": "markdown",
      "source": [
        "### 확률변수의 변환\n",
        "- 확률변수의 X에 2를 곱하고 3을 더한 2X+3과 같은 연산을 하는 것\n",
        "- 2X+3으로 변환이 되어도,  \n",
        "확률변수의 X가 취할 수 있는 값들만이 변환될 뿐,\n",
        "그에 따른 확률값은 그대로 유지되어 2X+3 또한 확률변수가 된다\n"
      ],
      "metadata": {
        "id": "7KHzTpJd8NlT"
      }
    },
    {
      "cell_type": "code",
      "source": [
        "# 2X+3으로 변환된 확률변수 Y 계산\n",
        "\n",
        "y_set = np.array([2*x_k + 3 for x_k in x_set])\n",
        "prob = np.array([f(x_k) for x_k in x_set])\n",
        "dict(zip(y_set, prob))"
      ],
      "metadata": {
        "colab": {
          "base_uri": "https://localhost:8080/"
        },
        "id": "Hj1YhgQ88LBV",
        "outputId": "2f57e9ef-5fc5-4cc3-e4e1-acbd5d159900"
      },
      "execution_count": 10,
      "outputs": [
        {
          "output_type": "execute_result",
          "data": {
            "text/plain": [
              "{5: 0.047619047619047616,\n",
              " 7: 0.09523809523809523,\n",
              " 9: 0.14285714285714285,\n",
              " 11: 0.19047619047619047,\n",
              " 13: 0.23809523809523808,\n",
              " 15: 0.2857142857142857}"
            ]
          },
          "metadata": {},
          "execution_count": 10
        }
      ]
    },
    {
      "cell_type": "markdown",
      "source": [
        "## 2. 1차원 이산형 확률변수 지표\n",
        "\n",
        "### 1차원 이산형 확률변수의 지표\n",
        "- Chapter 2에서 배웠던 1차원 데이터의 지표인 평균과 분산을,\n",
        "동일하게 1차원 확률변수에도 정의 가능하다\n",
        "  - 평균(Mean/Average) -> 기대값(Expectation) \n",
        "  - 분산(Variance) -> 분산(Variance)\n",
        "\n",
        "### 기대값 (Expectation, Expected Value)\n",
        "- 확률변수의 평균\n",
        "- 이상적인 기대값 계산 방법\n",
        "  - 확률변수를 무제한으로 시행하여 얻어진 실현값의 평균\n",
        "- 이산형 확률변수의 평균(기대값)\n",
        "  - 확률변수가 취할 수 있는 값과 그 확률의 곱의 총합으로 정의\n",
        "\n",
        "  $$ E(X) = \\sum_{k}x_k f(x_k)$$\n",
        "\n",
        "- 기대값이 기호로 표현될 때는, 𝜇(뮤)나 𝐸(𝑋)라는 표기를 주로 사용한다\n",
        "\n"
      ],
      "metadata": {
        "id": "giWNL-7B8oiT"
      }
    },
    {
      "cell_type": "markdown",
      "source": [
        "### 기대값 (Expectation, Expected Value)\n",
        "  - [Python] 불공정한 주사위의 기대값 계산"
      ],
      "metadata": {
        "id": "p7acfBZT9PyU"
      }
    },
    {
      "cell_type": "code",
      "source": [
        "np.sum([x_k * f(x_k) for x_k in x_set])"
      ],
      "metadata": {
        "colab": {
          "base_uri": "https://localhost:8080/"
        },
        "id": "gpHQp7-y8ihf",
        "outputId": "f2e252fa-ba89-4b4d-9908-2dcb92fc72d4"
      },
      "execution_count": 11,
      "outputs": [
        {
          "output_type": "execute_result",
          "data": {
            "text/plain": [
              "4.333333333333333"
            ]
          },
          "metadata": {},
          "execution_count": 11
        }
      ]
    },
    {
      "cell_type": "markdown",
      "source": [
        "- 이상적인 기대값 계산 방법인, 무제한 시행을 통해서 얻은 실현값의 평균으로 계산  \n",
        "(단,무제한 시행 대신 100만 번 주사위를 굴림)\n"
      ],
      "metadata": {
        "id": "YPqGWxv09YK-"
      }
    },
    {
      "cell_type": "code",
      "source": [
        "sample = np.random.choice(x_set, int(1e6), p=prob)\n",
        "np.mean(sample)"
      ],
      "metadata": {
        "colab": {
          "base_uri": "https://localhost:8080/"
        },
        "id": "_k10h9Bw9Uox",
        "outputId": "c113dfd8-6d1a-41e4-ddd7-18c973307da2"
      },
      "execution_count": 12,
      "outputs": [
        {
          "output_type": "execute_result",
          "data": {
            "text/plain": [
              "4.333766"
            ]
          },
          "metadata": {},
          "execution_count": 12
        }
      ]
    },
    {
      "cell_type": "markdown",
      "source": [
        "- 정의한 기대값 계산 결과값과 이상적인 계산을 어림잡아 계산한 기대값이 거의 비슷"
      ],
      "metadata": {
        "id": "TdfbWkvK9mjS"
      }
    },
    {
      "cell_type": "markdown",
      "source": [
        "### 2X+3으로 변환한 확률변수 Y의 기대값\n",
        "\n",
        "- 기대값은 $𝑥_k$라는 값을 그대로 $2𝑥_k+3$으로 치환한 다음 식으로 정의한다\n",
        "\n",
        "$$ 𝐸(𝑌) =𝐸(2𝑋+3) = \\sum_{k}(2𝑥_k+3)𝑓(𝑥_k) $$\n",
        "\n",
        "-  더 일반화하면, 확률 변수 X가 변환된 함수 g(X)의 기대값은 다음 식으로 정의된다\n",
        "\n",
        "$$ 𝐸(𝑔(𝑋)) = \\sum_{k}𝑔(𝑥_k)𝑓(𝑥_k) $$\n"
      ],
      "metadata": {
        "id": "dF1vhUfn9pzn"
      }
    },
    {
      "cell_type": "markdown",
      "source": [
        "### [Python]변환된 확률변수 g(X)의 기대값\n",
        "\n",
        "- g(X) = X일 때"
      ],
      "metadata": {
        "id": "tIYQfYrG-b_9"
      }
    },
    {
      "cell_type": "code",
      "source": [
        "\n",
        "\n",
        "def E(X, g=lambda x: x):\n",
        "    x_set, f= X\n",
        "    return np.sum([g(x_k) * f(x_k) for x_k in x_set])\n"
      ],
      "metadata": {
        "id": "A4qlWhPz-FRV"
      },
      "execution_count": 13,
      "outputs": []
    },
    {
      "cell_type": "code",
      "source": [
        "E(X)"
      ],
      "metadata": {
        "colab": {
          "base_uri": "https://localhost:8080/"
        },
        "id": "k1w3087A-QQq",
        "outputId": "f5080579-b8ba-4432-c5f5-52abee766615"
      },
      "execution_count": 14,
      "outputs": [
        {
          "output_type": "execute_result",
          "data": {
            "text/plain": [
              "4.333333333333333"
            ]
          },
          "metadata": {},
          "execution_count": 14
        }
      ]
    },
    {
      "cell_type": "markdown",
      "source": [
        "- g(X) = 2X+3일 때"
      ],
      "metadata": {
        "id": "tJ7yaMW9-huK"
      }
    },
    {
      "cell_type": "code",
      "source": [
        "E(X, g=lambda x: 2*x+3)"
      ],
      "metadata": {
        "colab": {
          "base_uri": "https://localhost:8080/"
        },
        "id": "vnn-0Qzt-Tck",
        "outputId": "a1b1d88d-d7b5-48ac-8bf5-a4f8f4b5a3fd"
      },
      "execution_count": 15,
      "outputs": [
        {
          "output_type": "execute_result",
          "data": {
            "text/plain": [
              "11.666666666666664"
            ]
          },
          "metadata": {},
          "execution_count": 15
        }
      ]
    },
    {
      "cell_type": "markdown",
      "source": [
        "### 기대값의 선형성\n",
        "- 𝑎, 𝑏를 실수, 𝑋를 확률변수라 하면,\n",
        "$$ 𝐸(𝑎𝑋 + 𝑏) = 𝑎𝐸(𝑋) + 𝑏 $$ \n",
        "- [Python] 비교 결과 \n",
        "  $𝐸(2𝑋+3) = 2𝐸(𝑋) + 3$"
      ],
      "metadata": {
        "id": "-H3KG2wa-sgD"
      }
    },
    {
      "cell_type": "code",
      "source": [
        "E(X, g=lambda x: 2*x+3)"
      ],
      "metadata": {
        "colab": {
          "base_uri": "https://localhost:8080/"
        },
        "id": "__LK4mZg-_5X",
        "outputId": "185614e8-721a-41c9-c66a-cc5944b593b1"
      },
      "execution_count": 16,
      "outputs": [
        {
          "output_type": "execute_result",
          "data": {
            "text/plain": [
              "11.666666666666664"
            ]
          },
          "metadata": {},
          "execution_count": 16
        }
      ]
    },
    {
      "cell_type": "code",
      "source": [
        "2*E(X)+3"
      ],
      "metadata": {
        "colab": {
          "base_uri": "https://localhost:8080/"
        },
        "id": "m-jdIDrr--YA",
        "outputId": "0eb4ee9f-d384-44ef-b4be-c0c779daa85e"
      },
      "execution_count": 17,
      "outputs": [
        {
          "output_type": "execute_result",
          "data": {
            "text/plain": [
              "11.666666666666666"
            ]
          },
          "metadata": {},
          "execution_count": 17
        }
      ]
    },
    {
      "cell_type": "markdown",
      "source": [
        "### 분산 (Variance)\n",
        "- 편차 제곱의 기대값으로 정의된다\n",
        "$$ V(𝑋) = \\sum_k(𝑥_k−𝜇)^2𝑓(𝑥_k)$$\n",
        "  - 𝜇는 확률변수 X의 기대값으로 𝐸(𝑋)이다.\n",
        "\n",
        "- 분산은 기호로 𝜎(시그마)를 사용하고, $𝜎^2$이나 𝑉(𝑋)로 흔히 표기한다\n",
        "- 𝜎는 확률변수 X의 표준편차를 나타낸다\n",
        "\n",
        "### 분산\n",
        "- [Python] 불공정한 주사위의 분산 계산"
      ],
      "metadata": {
        "id": "zsQG9-rs_DSs"
      }
    },
    {
      "cell_type": "code",
      "source": [
        "mean = E(X)\n",
        "np.sum([(x_k-mean)**2*f(x_k) for x_k in x_set])"
      ],
      "metadata": {
        "colab": {
          "base_uri": "https://localhost:8080/"
        },
        "id": "RUlL7uUg_BQS",
        "outputId": "3eff8b53-3e42-4c17-ffff-aaa1ce630b0c"
      },
      "execution_count": 18,
      "outputs": [
        {
          "output_type": "execute_result",
          "data": {
            "text/plain": [
              "2.2222222222222223"
            ]
          },
          "metadata": {},
          "execution_count": 18
        }
      ]
    },
    {
      "cell_type": "markdown",
      "source": [
        "### 변환된 확률변수의 분산\n",
        "- 2X+3으로 변환되었을 때\n",
        "$$ V(2𝑋+3) = \\sum_k((2𝑥_k + 3) − 𝐸(2𝑋+3))^2 𝑓(𝑥_k) $$\n",
        "- g(X)로 변환되었을 때\n",
        "$$ V(𝑔(𝑋)) = \\sum_k (𝑔(𝑥_k) − 𝐸(𝑔(𝑋))^2 𝑓(𝑥_k) $$\n",
        "\n"
      ],
      "metadata": {
        "id": "ux7qJnab_44h"
      }
    },
    {
      "cell_type": "markdown",
      "source": [
        "### [Python] 변환된 확률변수의 분산 계산\n",
        "  -  분산 계산함수 정의\n"
      ],
      "metadata": {
        "id": "Tg3-NG_pAXWS"
      }
    },
    {
      "cell_type": "code",
      "source": [
        "def V(X, g=lambda x: x):\n",
        "    x_set, f=X\n",
        "    mean = E(X, g)\n",
        "    return np.sum([(g(x_k)-mean)**2 * f(x_k) for x_k in x_set])"
      ],
      "metadata": {
        "id": "n6f18R19_lEs"
      },
      "execution_count": 19,
      "outputs": []
    },
    {
      "cell_type": "markdown",
      "source": [
        "- g(X) = X일 때"
      ],
      "metadata": {
        "id": "qJd2uVk8Ahiy"
      }
    },
    {
      "cell_type": "code",
      "source": [
        "V(X)"
      ],
      "metadata": {
        "id": "6nbDs1CrAhDK"
      },
      "execution_count": null,
      "outputs": []
    },
    {
      "cell_type": "markdown",
      "source": [
        "- g(X) = 2X+3일 때"
      ],
      "metadata": {
        "id": "0c7UGA_KAh63"
      }
    },
    {
      "cell_type": "code",
      "source": [
        "V(X, lambda x: 2*x+3)"
      ],
      "metadata": {
        "colab": {
          "base_uri": "https://localhost:8080/"
        },
        "id": "abjbI2cLAf-N",
        "outputId": "008647c8-a948-47cc-a200-35a4c9275885"
      },
      "execution_count": 20,
      "outputs": [
        {
          "output_type": "execute_result",
          "data": {
            "text/plain": [
              "8.88888888888889"
            ]
          },
          "metadata": {},
          "execution_count": 20
        }
      ]
    },
    {
      "cell_type": "markdown",
      "source": [
        "### 분산의 선형성\n",
        "- 𝑎, 𝑏를 실수, 𝑋를 확률변수라 하면,\n",
        "$$ V(𝑎𝑋+𝑏) =𝑎^2 𝑉(𝑋) $$ 가 성립한다\n",
        "\n",
        "- [Python]비교결과 : $ 𝑉(2𝑋+3) = 2^2 𝑉(𝑋) $"
      ],
      "metadata": {
        "id": "vwHY9XW7A7Yq"
      }
    },
    {
      "cell_type": "code",
      "source": [],
      "metadata": {
        "id": "G8Q-yERaAqio"
      },
      "execution_count": null,
      "outputs": []
    }
  ]
}