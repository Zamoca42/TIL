{
  "nbformat": 4,
  "nbformat_minor": 0,
  "metadata": {
    "colab": {
      "provenance": [],
      "authorship_tag": "ABX9TyNIm/6Qg07Dga8Qi1YldT6D",
      "include_colab_link": true
    },
    "kernelspec": {
      "name": "python3",
      "display_name": "Python 3"
    },
    "language_info": {
      "name": "python"
    }
  },
  "cells": [
    {
      "cell_type": "markdown",
      "metadata": {
        "id": "view-in-github",
        "colab_type": "text"
      },
      "source": [
        "<a href=\"https://colab.research.google.com/github/Zamoca42/TIL/blob/main/math/Discrete_Probability_Distribution.ipynb\" target=\"_parent\"><img src=\"https://colab.research.google.com/assets/colab-badge.svg\" alt=\"Open In Colab\"/></a>"
      ]
    },
    {
      "cell_type": "markdown",
      "source": [
        "# 이산 확률 분포"
      ],
      "metadata": {
        "id": "HL9VvWfk6y1g"
      }
    },
    {
      "cell_type": "markdown",
      "source": [
        "## 1. 베르누이 분포\n",
        "\n"
      ],
      "metadata": {
        "id": "Um8iEWLO614b"
      }
    },
    {
      "cell_type": "markdown",
      "source": [
        "### 비모수적 기법 VS 모수적 기법 \n",
        "- 비모수적 기법\n",
        "  - 모집단의 확률 분포에 대한 특별한 가정없이, 평균과 분산이라는 지표를 추정하는 것 \n",
        "- 모수적기법\n",
        "  - 모집단의 성질에 따라 어떤 확률 분포의 형태인지를 미리 가정한 후, 기댓값 혹은 분산을 결정하는 소수의 파라미터를 추정하는 것\n",
        "\n",
        "### 모집단의 성질에 따른 확률 분포의 형태? \n",
        "- 이산확률분포의예\n",
        "  - 베르누이분포,이항분포,기하분포,푸아송분포등"
      ],
      "metadata": {
        "id": "st4erQV-65PW"
      }
    },
    {
      "cell_type": "markdown",
      "source": [
        "### 파이썬 기초 라이브러리 세팅\n",
        "- Numpy(분포구현)\n",
        "- Scipy의 stats 모듈 ( 통계 계산 )"
      ],
      "metadata": {
        "id": "-J_074xx7IFB"
      }
    },
    {
      "cell_type": "markdown",
      "source": [
        "### 통계 계산 함수 활용\n",
        "- E(X) \n",
        "  - 확률변수의 기대값을 계산하는 함수\n",
        "    - 확률변수가 가질 수 있는 값 그 값이 나올 수 있는 확률을 곱해서 더한 값\n",
        "- V(X) \n",
        "  - 확률변수의 분산을 계산하는 함수\n",
        "    1. 확률변수가 가질 수 있는 각 값에 이미 계산된 기대값을 빼어,\n",
        "    2. 그 값들을 제곱한 값에 확률을 곱하여 더한 값\n",
        "- check_prob \n",
        "  - 확률변수의 성질을 만족하는지 검정 후 기대값, 분산을 반환하는 함수\n",
        "  - 확률이 절대적으로 0이상인지 확인 $ 𝑓(𝑥_k) ≥ 0 $\n",
        "  - 모든확률을 더하면 1이 되는지 확인 $ ∑_k𝑓(𝑥_k) = 1 $\n",
        "  - 기대값, 분산 확인\n",
        "- plot_prob \n",
        "  - 확률변수의 확률밀도함수 및 기대값을 시각화하기 위한 함수"
      ],
      "metadata": {
        "id": "p4XAJebI7Wlp"
      }
    },
    {
      "cell_type": "code",
      "execution_count": null,
      "metadata": {
        "id": "cZ8iQXYF6rda"
      },
      "outputs": [],
      "source": [
        "def E(X, g=lambda x: x):\n",
        "    x_set, f = X\n",
        "    return np.sum([g(x_k) * f(x_k) for x_k in x_set])\n",
        "\n",
        "def V(X, g=lambda x: x):\n",
        "    x_set, f = X\n",
        "    mean = E(X, g)\n",
        "    return np.sum([(g(x_k)-mean)**2 * f(x_k) for x_k in x_set])\n",
        "\n",
        "def check_prob(X):\n",
        "    x_set, f = X\n",
        "    prob = np.array([f(x_k) for x_k in x_set])\n",
        "    assert np.all(prob >= 0), 'minus probability'\n",
        "    prob_sum = np.round(np.sum(prob), 6)\n",
        "    assert prob_sum == 1, f'sum of probability{prob_sum}'\n",
        "    print(f'expected value {E(X):.4}')\n",
        "    print(f'variance {(V(X)):.4}')\n",
        "\n",
        "def plot_prob(X):\n",
        "    x_set, f = X\n",
        "    prob = np.array([f(x_k) for x_k in x_set])\n",
        "    \n",
        "    fig = plt.figure(figsize=(10, 6))\n",
        "    ax = fig.add_subplot(111)\n",
        "    ax.bar(x_set, prob, label='prob')\n",
        "    ax.vlines(E(X), 0, 1, label='mean')\n",
        "    ax.set_xticks(np.append(x_set, E(X)))\n",
        "    ax.set_ylim(0, prob.max()*1.2)\n",
        "    ax.legend()\n",
        "    \n",
        "    plt.show()"
      ]
    },
    {
      "cell_type": "markdown",
      "source": [
        "### 베르누이 분포 ( Bernoulli Distribution )\n",
        "- 가장 기본적인 이산형 확률 분포\n",
        "- 취할 수 있는 값은 0혹은1 (1이 나오면 성공,0이 나오면 실패를 의미)\n",
        "- 1과 0이 나올 확률을 각각 더하면 1이 되어야 하므로,\n",
        "그 확률을 각각 𝑝와 1−𝑝로 정의\n",
        "- $ 0 ≤ 𝑝 ≤ 1 $ 이라는 조건 만족 (확률의 성질에 따라)\n",
        "- 베르누이 분포를 $𝐵𝑒𝑟𝑛(𝑝)$로 표기\n",
        "- 확률함수 공식\n",
        "$$ f(x)=\n",
        "\\begin{cases}\n",
        "p^x(1-p)^{1-x} & (x \\in \\left\\{0,1 \\right\\}) \\\\\n",
        "0 & \\mbox{(otherwise)}\n",
        "\\end{cases} $$\n",
        "- 식이 복잡해 보이지만, 0과 1을 대입해보면 $ 𝑓(1)=𝑝 $, $ 𝑓(0) = 1 − 𝑝 $ 로 간단하다\n"
      ],
      "metadata": {
        "id": "Jcjyo5Tp7_fx"
      }
    },
    {
      "cell_type": "markdown",
      "source": [
        "### 베르누이 분포 예시\n",
        "- 동전을 던져서 앞면이 나올 확률 ( 앞면과 뒷면이 나올 확률이 동일할 때 )\n",
        "  - 𝑋는 $ 𝐵𝑒𝑟𝑛({1\\over2}) $ 를 따른다 ( X~$ 𝐵𝑒𝑟𝑛({1\\over2}) $ 로 표기 ) \n",
        "  - 앞면이 나올 확률\n",
        "$$ 𝑃(𝑋=1) = \\left({1 \\over 2}\\right) \\times \\left(1- {1 \\over 2}\\right)^{(1-1)} = {1 \\over 2} $$\n",
        "- 주사위를 1회 굴려서 6이 나오지 않을 확률(1~6 각 숫자가 나올 확률이 동일할 때)\n",
        "  - 𝑋는 $ 𝐵𝑒𝑟𝑛({1 \\over 6}) $ 를 따른다 ( X~$ 𝐵𝑒𝑟𝑛({1 \\over 6}) $ 로 표기 ) \n",
        "  - 6이 나오지 않을 확률\n",
        "  $$ 𝑃(𝑋=0) = \\left({1 \\over 6}\\right)^0 \\times \\left(1- {1 \\over 6}\\right)^{(1-0)} = {5 \\over 6} $$"
      ],
      "metadata": {
        "id": "02fSKTHn9CMp"
      }
    },
    {
      "cell_type": "markdown",
      "source": [
        "### 베르누이 분포 기대값과 분산 \n",
        "- $ 𝑋\\mbox{~}𝐵𝑒𝑟𝑛(𝑝)$ 라고 할 때\n",
        "$$ 𝐸(𝑋) =𝑝 , \\quad 𝑉(𝑋) =𝑝(1−𝑝) $$\n",
        "로 표현된다\n"
      ],
      "metadata": {
        "id": "nuNAnJ0f-h4C"
      }
    },
    {
      "cell_type": "markdown",
      "source": [
        "### [Python] 베르누이 분포 구현\n",
        "- Numpy를 활용해서 $ 𝑋\\mbox{~}𝐵𝑒𝑟𝑛(𝑝)$ 구현하기"
      ],
      "metadata": {
        "id": "OEbfkdol-6R6"
      }
    },
    {
      "cell_type": "code",
      "source": [],
      "metadata": {
        "id": "HdcA9VFG_Bfo"
      },
      "execution_count": null,
      "outputs": []
    },
    {
      "cell_type": "markdown",
      "source": [
        "- $ 𝑋\\mbox{~}𝐵𝑒𝑟𝑛(0.3)$ 호출 및 기대값/분산 계산해보기"
      ],
      "metadata": {
        "id": "q6Dsh2Kl_A5d"
      }
    }
  ]
}