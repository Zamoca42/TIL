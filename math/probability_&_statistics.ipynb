{
  "nbformat": 4,
  "nbformat_minor": 0,
  "metadata": {
    "colab": {
      "provenance": [],
      "authorship_tag": "ABX9TyMhpz3gr/bRsK8m9Yor37UE",
      "include_colab_link": true
    },
    "kernelspec": {
      "name": "python3",
      "display_name": "Python 3"
    },
    "language_info": {
      "name": "python"
    }
  },
  "cells": [
    {
      "cell_type": "markdown",
      "metadata": {
        "id": "view-in-github",
        "colab_type": "text"
      },
      "source": [
        "<a href=\"https://colab.research.google.com/github/Zamoca42/TIL/blob/main/math/probability_%26_statistics.ipynb\" target=\"_parent\"><img src=\"https://colab.research.google.com/assets/colab-badge.svg\" alt=\"Open In Colab\"/></a>"
      ]
    },
    {
      "cell_type": "markdown",
      "source": [
        "# 확률 및 통계\n",
        "\n",
        "## 1. 모집단 및 표본\n",
        "\n",
        "### 추측 통계란?\n",
        "\n",
        "- 일부 데이터로부터 전체의 통계적 성질을 추측하는 방식\n",
        "- 관측 대상 전체의 통계적 성질을, 그 관측 대상의 일부분만 사용하여 추측\n",
        "\n",
        "### 기술통계란?\n",
        "\n",
        "- Ch2~3에서 배운 것처럼, 전체 데이터의 통계 지표를 계산하는 방식"
      ],
      "metadata": {
        "id": "obW--1N0RCfg"
      }
    },
    {
      "cell_type": "code",
      "execution_count": 1,
      "metadata": {
        "colab": {
          "base_uri": "https://localhost:8080/"
        },
        "id": "vNMxofsVQgrf",
        "outputId": "5035f553-fdc1-4bd1-8bf1-5490c4fbb5ef"
      },
      "outputs": [
        {
          "output_type": "stream",
          "name": "stderr",
          "text": [
            "/usr/local/lib/python3.8/dist-packages/sklearn/utils/deprecation.py:87: FutureWarning: Function load_boston is deprecated; `load_boston` is deprecated in 1.0 and will be removed in 1.2.\n",
            "\n",
            "    The Boston housing prices dataset has an ethical problem. You can refer to\n",
            "    the documentation of this function for further details.\n",
            "\n",
            "    The scikit-learn maintainers therefore strongly discourage the use of this\n",
            "    dataset unless the purpose of the code is to study and educate about\n",
            "    ethical issues in data science and machine learning.\n",
            "\n",
            "    In this special case, you can fetch the dataset from the original\n",
            "    source::\n",
            "\n",
            "        import pandas as pd\n",
            "        import numpy as np\n",
            "\n",
            "\n",
            "        data_url = \"http://lib.stat.cmu.edu/datasets/boston\"\n",
            "        raw_df = pd.read_csv(data_url, sep=\"\\s+\", skiprows=22, header=None)\n",
            "        data = np.hstack([raw_df.values[::2, :], raw_df.values[1::2, :2]])\n",
            "        target = raw_df.values[1::2, 2]\n",
            "\n",
            "    Alternative datasets include the California housing dataset (i.e.\n",
            "    :func:`~sklearn.datasets.fetch_california_housing`) and the Ames housing\n",
            "    dataset. You can load the datasets as follows::\n",
            "\n",
            "        from sklearn.datasets import fetch_california_housing\n",
            "        housing = fetch_california_housing()\n",
            "\n",
            "    for the California housing dataset and::\n",
            "\n",
            "        from sklearn.datasets import fetch_openml\n",
            "        housing = fetch_openml(name=\"house_prices\", as_frame=True)\n",
            "\n",
            "    for the Ames housing dataset.\n",
            "    \n",
            "  warnings.warn(msg, category=FutureWarning)\n"
          ]
        }
      ],
      "source": [
        "# \b라이브러리 및 Boston House Price 데이터 세팅\n",
        "\n",
        "import numpy as np\n",
        "import pandas as pd\n",
        "import matplotlib.pyplot as plt\n",
        "\n",
        "%precision 3\n",
        "%matplotlib inline\n",
        "pd.set_option('precision', 3)\n",
        "np.set_printoptions(precision=3)\n",
        "\n",
        "from sklearn.datasets import load_boston\n",
        "\n",
        "boston_houseprice_data = load_boston()\n",
        "df = pd.DataFrame(\n",
        "    data = boston_houseprice_data.data, \n",
        "    columns = boston_houseprice_data.feature_names\n",
        ")"
      ]
    },
    {
      "cell_type": "code",
      "source": [
        "df.head()"
      ],
      "metadata": {
        "colab": {
          "base_uri": "https://localhost:8080/",
          "height": 206
        },
        "id": "ZSDiqNjIRzeL",
        "outputId": "d96b92af-a546-4922-aa47-a4d62b11e0ec"
      },
      "execution_count": 2,
      "outputs": [
        {
          "output_type": "execute_result",
          "data": {
            "text/plain": [
              "    CRIM    ZN  INDUS  CHAS    NOX     RM   AGE    DIS  RAD    TAX  PTRATIO  \\\n",
              "0  0.006  18.0   2.31   0.0  0.538  6.575  65.2  4.090  1.0  296.0     15.3   \n",
              "1  0.027   0.0   7.07   0.0  0.469  6.421  78.9  4.967  2.0  242.0     17.8   \n",
              "2  0.027   0.0   7.07   0.0  0.469  7.185  61.1  4.967  2.0  242.0     17.8   \n",
              "3  0.032   0.0   2.18   0.0  0.458  6.998  45.8  6.062  3.0  222.0     18.7   \n",
              "4  0.069   0.0   2.18   0.0  0.458  7.147  54.2  6.062  3.0  222.0     18.7   \n",
              "\n",
              "        B  LSTAT  \n",
              "0  396.90   4.98  \n",
              "1  396.90   9.14  \n",
              "2  392.83   4.03  \n",
              "3  394.63   2.94  \n",
              "4  396.90   5.33  "
            ],
            "text/html": [
              "\n",
              "  <div id=\"df-6a9df96a-aca4-47d5-9a90-fc025c258a32\">\n",
              "    <div class=\"colab-df-container\">\n",
              "      <div>\n",
              "<style scoped>\n",
              "    .dataframe tbody tr th:only-of-type {\n",
              "        vertical-align: middle;\n",
              "    }\n",
              "\n",
              "    .dataframe tbody tr th {\n",
              "        vertical-align: top;\n",
              "    }\n",
              "\n",
              "    .dataframe thead th {\n",
              "        text-align: right;\n",
              "    }\n",
              "</style>\n",
              "<table border=\"1\" class=\"dataframe\">\n",
              "  <thead>\n",
              "    <tr style=\"text-align: right;\">\n",
              "      <th></th>\n",
              "      <th>CRIM</th>\n",
              "      <th>ZN</th>\n",
              "      <th>INDUS</th>\n",
              "      <th>CHAS</th>\n",
              "      <th>NOX</th>\n",
              "      <th>RM</th>\n",
              "      <th>AGE</th>\n",
              "      <th>DIS</th>\n",
              "      <th>RAD</th>\n",
              "      <th>TAX</th>\n",
              "      <th>PTRATIO</th>\n",
              "      <th>B</th>\n",
              "      <th>LSTAT</th>\n",
              "    </tr>\n",
              "  </thead>\n",
              "  <tbody>\n",
              "    <tr>\n",
              "      <th>0</th>\n",
              "      <td>0.006</td>\n",
              "      <td>18.0</td>\n",
              "      <td>2.31</td>\n",
              "      <td>0.0</td>\n",
              "      <td>0.538</td>\n",
              "      <td>6.575</td>\n",
              "      <td>65.2</td>\n",
              "      <td>4.090</td>\n",
              "      <td>1.0</td>\n",
              "      <td>296.0</td>\n",
              "      <td>15.3</td>\n",
              "      <td>396.90</td>\n",
              "      <td>4.98</td>\n",
              "    </tr>\n",
              "    <tr>\n",
              "      <th>1</th>\n",
              "      <td>0.027</td>\n",
              "      <td>0.0</td>\n",
              "      <td>7.07</td>\n",
              "      <td>0.0</td>\n",
              "      <td>0.469</td>\n",
              "      <td>6.421</td>\n",
              "      <td>78.9</td>\n",
              "      <td>4.967</td>\n",
              "      <td>2.0</td>\n",
              "      <td>242.0</td>\n",
              "      <td>17.8</td>\n",
              "      <td>396.90</td>\n",
              "      <td>9.14</td>\n",
              "    </tr>\n",
              "    <tr>\n",
              "      <th>2</th>\n",
              "      <td>0.027</td>\n",
              "      <td>0.0</td>\n",
              "      <td>7.07</td>\n",
              "      <td>0.0</td>\n",
              "      <td>0.469</td>\n",
              "      <td>7.185</td>\n",
              "      <td>61.1</td>\n",
              "      <td>4.967</td>\n",
              "      <td>2.0</td>\n",
              "      <td>242.0</td>\n",
              "      <td>17.8</td>\n",
              "      <td>392.83</td>\n",
              "      <td>4.03</td>\n",
              "    </tr>\n",
              "    <tr>\n",
              "      <th>3</th>\n",
              "      <td>0.032</td>\n",
              "      <td>0.0</td>\n",
              "      <td>2.18</td>\n",
              "      <td>0.0</td>\n",
              "      <td>0.458</td>\n",
              "      <td>6.998</td>\n",
              "      <td>45.8</td>\n",
              "      <td>6.062</td>\n",
              "      <td>3.0</td>\n",
              "      <td>222.0</td>\n",
              "      <td>18.7</td>\n",
              "      <td>394.63</td>\n",
              "      <td>2.94</td>\n",
              "    </tr>\n",
              "    <tr>\n",
              "      <th>4</th>\n",
              "      <td>0.069</td>\n",
              "      <td>0.0</td>\n",
              "      <td>2.18</td>\n",
              "      <td>0.0</td>\n",
              "      <td>0.458</td>\n",
              "      <td>7.147</td>\n",
              "      <td>54.2</td>\n",
              "      <td>6.062</td>\n",
              "      <td>3.0</td>\n",
              "      <td>222.0</td>\n",
              "      <td>18.7</td>\n",
              "      <td>396.90</td>\n",
              "      <td>5.33</td>\n",
              "    </tr>\n",
              "  </tbody>\n",
              "</table>\n",
              "</div>\n",
              "      <button class=\"colab-df-convert\" onclick=\"convertToInteractive('df-6a9df96a-aca4-47d5-9a90-fc025c258a32')\"\n",
              "              title=\"Convert this dataframe to an interactive table.\"\n",
              "              style=\"display:none;\">\n",
              "        \n",
              "  <svg xmlns=\"http://www.w3.org/2000/svg\" height=\"24px\"viewBox=\"0 0 24 24\"\n",
              "       width=\"24px\">\n",
              "    <path d=\"M0 0h24v24H0V0z\" fill=\"none\"/>\n",
              "    <path d=\"M18.56 5.44l.94 2.06.94-2.06 2.06-.94-2.06-.94-.94-2.06-.94 2.06-2.06.94zm-11 1L8.5 8.5l.94-2.06 2.06-.94-2.06-.94L8.5 2.5l-.94 2.06-2.06.94zm10 10l.94 2.06.94-2.06 2.06-.94-2.06-.94-.94-2.06-.94 2.06-2.06.94z\"/><path d=\"M17.41 7.96l-1.37-1.37c-.4-.4-.92-.59-1.43-.59-.52 0-1.04.2-1.43.59L10.3 9.45l-7.72 7.72c-.78.78-.78 2.05 0 2.83L4 21.41c.39.39.9.59 1.41.59.51 0 1.02-.2 1.41-.59l7.78-7.78 2.81-2.81c.8-.78.8-2.07 0-2.86zM5.41 20L4 18.59l7.72-7.72 1.47 1.35L5.41 20z\"/>\n",
              "  </svg>\n",
              "      </button>\n",
              "      \n",
              "  <style>\n",
              "    .colab-df-container {\n",
              "      display:flex;\n",
              "      flex-wrap:wrap;\n",
              "      gap: 12px;\n",
              "    }\n",
              "\n",
              "    .colab-df-convert {\n",
              "      background-color: #E8F0FE;\n",
              "      border: none;\n",
              "      border-radius: 50%;\n",
              "      cursor: pointer;\n",
              "      display: none;\n",
              "      fill: #1967D2;\n",
              "      height: 32px;\n",
              "      padding: 0 0 0 0;\n",
              "      width: 32px;\n",
              "    }\n",
              "\n",
              "    .colab-df-convert:hover {\n",
              "      background-color: #E2EBFA;\n",
              "      box-shadow: 0px 1px 2px rgba(60, 64, 67, 0.3), 0px 1px 3px 1px rgba(60, 64, 67, 0.15);\n",
              "      fill: #174EA6;\n",
              "    }\n",
              "\n",
              "    [theme=dark] .colab-df-convert {\n",
              "      background-color: #3B4455;\n",
              "      fill: #D2E3FC;\n",
              "    }\n",
              "\n",
              "    [theme=dark] .colab-df-convert:hover {\n",
              "      background-color: #434B5C;\n",
              "      box-shadow: 0px 1px 3px 1px rgba(0, 0, 0, 0.15);\n",
              "      filter: drop-shadow(0px 1px 2px rgba(0, 0, 0, 0.3));\n",
              "      fill: #FFFFFF;\n",
              "    }\n",
              "  </style>\n",
              "\n",
              "      <script>\n",
              "        const buttonEl =\n",
              "          document.querySelector('#df-6a9df96a-aca4-47d5-9a90-fc025c258a32 button.colab-df-convert');\n",
              "        buttonEl.style.display =\n",
              "          google.colab.kernel.accessAllowed ? 'block' : 'none';\n",
              "\n",
              "        async function convertToInteractive(key) {\n",
              "          const element = document.querySelector('#df-6a9df96a-aca4-47d5-9a90-fc025c258a32');\n",
              "          const dataTable =\n",
              "            await google.colab.kernel.invokeFunction('convertToInteractive',\n",
              "                                                     [key], {});\n",
              "          if (!dataTable) return;\n",
              "\n",
              "          const docLinkHtml = 'Like what you see? Visit the ' +\n",
              "            '<a target=\"_blank\" href=https://colab.research.google.com/notebooks/data_table.ipynb>data table notebook</a>'\n",
              "            + ' to learn more about interactive tables.';\n",
              "          element.innerHTML = '';\n",
              "          dataTable['output_type'] = 'display_data';\n",
              "          await google.colab.output.renderOutput(dataTable, element);\n",
              "          const docLink = document.createElement('div');\n",
              "          docLink.innerHTML = docLinkHtml;\n",
              "          element.appendChild(docLink);\n",
              "        }\n",
              "      </script>\n",
              "    </div>\n",
              "  </div>\n",
              "  "
            ]
          },
          "metadata": {},
          "execution_count": 2
        }
      ]
    },
    {
      "cell_type": "markdown",
      "source": [
        "### 모집단(母集團 - population) : 모체가 되는 집단\n",
        "- 추측하고 싶은 관측 대상 전체\n",
        "  - 모수 : 모집단의 평균(모평균), 분산(모분산), 상관계수 등\n",
        "\n",
        "### 표본(標本 ‒ sample) : 통계에서 조사를 위해서 데이터(표적)를 추출하는 것\n",
        "\n",
        "- 추측에 사용되는 관측 대상의 일부분\n",
        "  - 표본 추출(sampling) : 모집단에서 표본을 골라내는 일 \n",
        "  - 표본 크기(sample size) : 골라낸 표본의 수\n",
        "  - 표본통계량 : 표본을 바탕으로 계산한  \n",
        "  평균(표본평균), 분산(표본분산), 상관계수 등\n",
        "\n",
        "### 모집단 내 표본 추출의 필요성\n",
        "\n",
        "![스크린샷 2022-12-22 오전 12 24 48](https://user-images.githubusercontent.com/96982072/208941095-94554fc7-e0e1-4145-aeab-335ace7cc3f0.png)\n",
        "\n",
        "\n",
        "1. 조사해야하는 데이터 양이 많을 때\n",
        "2. 뿐만 아니라 모든 데이터를 조사하기에 환경적인 어려움이 있을 때\n",
        "\n",
        "### 추정량 (estimator)\n",
        "- 표본평균으로 모평균을 추측할 때,\n",
        "  - 표본평균 = 모평균의 추정량(estimator) ( ≈ 추상적인 형태로 표현 ) \n",
        "  \n",
        "### 추정치 (estimate)\n",
        "- 실제 표본의 데이터 값들을 이용하여 계산한 결과( ≈ 구체적인 실제 값을 활용)\n",
        "\n",
        "### 추정량 & 추정치 예시\n",
        "- A 학생은 모평균(전교생 영어 점수의 평균)의 추정량으로 표본평균(표본집단의 영어 점수의 평균)을 선택하였으며, 그 추정값(실제 표본 데이터 값들의 평균)이 70.4점이었다\n",
        "\n",
        "### 표본 추출 방법 1 - 무작위 추출(random sampling) \n",
        "\n",
        "- 편향이 심할 가능성이 높은 일반적인 방법은 X\n",
        "  - 일반적으로 교내에서 점수 데이터를 모은다고 가정하면 아래와 같이 편향되기 쉽다\n",
        "    1. 자신과 친하게 지내는 친구 20명에게 표본을 얻는다(같은 학년으로 편향될 가능성 높음)\n",
        "\n",
        "    2. 자신이 활동중인 동아리원 20명에게 표본을 얻는다 ( 동아리란 특성에 의해 편향될 가능성 있음)\n",
        "\n",
        "- 편향되지 않도록, 다양한 학년, 여러 동아리에서 활동하는 학생들, 다양한 취미 생활을 하는 학생들에게 점수를 물어보아야 함\n",
        "  - 즉, ‘우연히 만나는’ 학생들로부터 임의로 표본을 무작위 추출(random sampling)하는 것이 중요하다 \n",
        "  * 하지만, 무작위 추출 또한 편향될 수 있음은 주의하기 바란다\n",
        "\n",
        "### 표본 추출 방법 2 ‒ 복원 추출 / 비복원 추출 \n",
        "\n",
        "- 무작위 추출 시, 같은 사람에게 여러 번 시험 결과를 들을 가능성이 존재한다\n",
        "\n",
        "- 복원 추출 (sampling with replacement) \n",
        "  - 위와 같이 여러 차례 동일한 표본을 선택하는 추출 방법\n",
        "- 비복원 추출 (sampling without replacement) \n",
        "  - 동일한 표본은 한 번만 선택하는 방법\n",
        "\n",
        "### 표본 추출 with Python [1]\n",
        "- 무작위 추출시, `numpy.random.choice()` 활용\n"
      ],
      "metadata": {
        "id": "sfY3FCGlSDLy"
      }
    },
    {
      "cell_type": "code",
      "source": [
        "np.random.choice([1,2,3],3)"
      ],
      "metadata": {
        "colab": {
          "base_uri": "https://localhost:8080/"
        },
        "id": "vdU7uZ-mR_LL",
        "outputId": "48598b72-11c3-4581-8452-31999d2123bd"
      },
      "execution_count": 3,
      "outputs": [
        {
          "output_type": "execute_result",
          "data": {
            "text/plain": [
              "array([1, 3, 3])"
            ]
          },
          "metadata": {},
          "execution_count": 3
        }
      ]
    },
    {
      "cell_type": "markdown",
      "source": [
        "- 기본 설정이 복원추출이므로, 비복원추출시 `replace=False`를 인자로 넣어야함\n"
      ],
      "metadata": {
        "id": "iJu_1MZHTsh7"
      }
    },
    {
      "cell_type": "code",
      "source": [
        "np.random.choice([1,2,3],3, replace=False)"
      ],
      "metadata": {
        "colab": {
          "base_uri": "https://localhost:8080/"
        },
        "id": "jhO4gUwjTs1h",
        "outputId": "1a29294e-68dd-43a5-acc4-ca0fb494e232"
      },
      "execution_count": 4,
      "outputs": [
        {
          "output_type": "execute_result",
          "data": {
            "text/plain": [
              "array([2, 1, 3])"
            ]
          },
          "metadata": {},
          "execution_count": 4
        }
      ]
    },
    {
      "cell_type": "markdown",
      "source": [
        "- 무작위 추출시, 계산값이 매번 랜덤하게 바뀌는 특성이 있다\n",
        "  - 이는 랜덤 시드(seed)를 활용하면, 매번 동일한 난수(무작위 추출된 값)를 얻는 것이 가능하다"
      ],
      "metadata": {
        "id": "aMDnngJ0TuhB"
      }
    },
    {
      "cell_type": "code",
      "source": [
        "np.random.seed(0)\n",
        "np.random.choice([1,2,3], 3)"
      ],
      "metadata": {
        "colab": {
          "base_uri": "https://localhost:8080/"
        },
        "id": "QLCxHK5wT4Ba",
        "outputId": "2bb9d364-e6e0-4583-fe1a-37ae40d3f784"
      },
      "execution_count": 5,
      "outputs": [
        {
          "output_type": "execute_result",
          "data": {
            "text/plain": [
              "array([1, 2, 1])"
            ]
          },
          "metadata": {},
          "execution_count": 5
        }
      ]
    },
    {
      "cell_type": "markdown",
      "source": [
        "### 표본 추출 with Python [2] : Boston House Price Dataset 활용\n",
        "\n",
        "- ’AGE’ 데이터의 표본평균 계산 : 58.785\n"
      ],
      "metadata": {
        "id": "LG-_4RUcT8Mz"
      }
    },
    {
      "cell_type": "code",
      "source": [
        "np.random.seed(0)\n",
        "sample = np.random.choice(df['AGE'], 20)\n",
        "sample.mean()"
      ],
      "metadata": {
        "colab": {
          "base_uri": "https://localhost:8080/"
        },
        "id": "uRpEbvuPT4Zr",
        "outputId": "c889e11d-b425-4400-807c-9b3059f2a0ba"
      },
      "execution_count": 6,
      "outputs": [
        {
          "output_type": "execute_result",
          "data": {
            "text/plain": [
              "58.785000000000004"
            ]
          },
          "metadata": {},
          "execution_count": 6
        }
      ]
    },
    {
      "cell_type": "markdown",
      "source": [
        "- ‘AGE’ 데이터의 모평균 계산 : 68.575"
      ],
      "metadata": {
        "id": "khupOlP-UEK0"
      }
    },
    {
      "cell_type": "code",
      "source": [
        "df['AGE'].mean()"
      ],
      "metadata": {
        "colab": {
          "base_uri": "https://localhost:8080/"
        },
        "id": "z0fYZFCtUBiT",
        "outputId": "f8977672-70d3-4787-b2d4-82edf63881f4"
      },
      "execution_count": 7,
      "outputs": [
        {
          "output_type": "execute_result",
          "data": {
            "text/plain": [
              "68.57490118577076"
            ]
          },
          "metadata": {},
          "execution_count": 7
        }
      ]
    },
    {
      "cell_type": "markdown",
      "source": [
        "### 표본 추출 with Python [3] : Boston House Price Dataset 활용\n",
        "- ’AGE’ 데이터, 5번의 무작위 추출을 통해 표본평균 계산\n"
      ],
      "metadata": {
        "id": "i6BCPStxUJdM"
      }
    },
    {
      "cell_type": "code",
      "source": [
        "for i in range(5):\n",
        "    sample = np.random.choice(df['AGE'], 20)\n",
        "    print(f'{i+1}번째 무작위추출로 얻은 표본평균 :', sample.mean())"
      ],
      "metadata": {
        "colab": {
          "base_uri": "https://localhost:8080/"
        },
        "id": "I0x5Zn-zUGaK",
        "outputId": "3414103a-2494-4803-df63-85780b46373d"
      },
      "execution_count": 8,
      "outputs": [
        {
          "output_type": "stream",
          "name": "stdout",
          "text": [
            "1번째 무작위추출로 얻은 표본평균 : 60.43000000000001\n",
            "2번째 무작위추출로 얻은 표본평균 : 73.33500000000001\n",
            "3번째 무작위추출로 얻은 표본평균 : 75.33500000000001\n",
            "4번째 무작위추출로 얻은 표본평균 : 68.7\n",
            "5번째 무작위추출로 얻은 표본평균 : 77.20000000000002\n"
          ]
        }
      ]
    },
    {
      "cell_type": "markdown",
      "source": [
        "- ‘AGE’ 데이터의 모평균 계산값과 유사한 경우가 다수 존재함을 확인"
      ],
      "metadata": {
        "id": "W3LHis46UOis"
      }
    },
    {
      "cell_type": "code",
      "source": [
        "df['AGE'].mean()"
      ],
      "metadata": {
        "colab": {
          "base_uri": "https://localhost:8080/"
        },
        "id": "pRoza7syUNYU",
        "outputId": "c87dcf7d-5728-4664-ad95-7ba08497d4eb"
      },
      "execution_count": 9,
      "outputs": [
        {
          "output_type": "execute_result",
          "data": {
            "text/plain": [
              "68.57490118577076"
            ]
          },
          "metadata": {},
          "execution_count": 9
        }
      ]
    },
    {
      "cell_type": "markdown",
      "source": [
        "## 2. 확률 및 확률 분포\n",
        "\n",
        "### 무작위 추출의 문제점\n",
        "- 임의로 표본을 선택하는 것이므로, 추출 후 어떤 결과가 나올지 확인하기 어렵다\n",
        "- 어제와 오늘의 결과가 다르며, 내일의 결과를 예측하기도 어렵다\n",
        "\n",
        "### 확률 (Probability)\n",
        "- 무작위 추출의 불확정성을 수반한 현상을 해석하기 위한 개념\n",
        "\n",
        "### 확률의 기본 : 확률변수 \n",
        "- 주사위를 굴릴 때,1~6의 숫자 중 하나의 값이 동일한 확률로 나온다는 것을 경험적으로 알고있다\n",
        "\n",
        "- 확률변수 (Random Variable) \n",
        "  - 결과를 예측할 수는 없지만,취하는 값과 그 값이 나올 확률이 결정되어 있는 것\n",
        "\n",
        "  ![스크린샷 2022-12-22 오전 12 35 11](https://user-images.githubusercontent.com/96982072/208943200-f3abfbb7-def1-4ff3-8893-7ba67c1e7c40.png)\n",
        "\n",
        "### 확률의 기본 개념\n",
        "\n",
        "- 시행(Trial) \n",
        "  - 실제 경험을 통해 확률변수의 결과를 관측하는 것\n",
        "- 실현값(Realization) \n",
        "  - 시행에 의해 관측되는 값\n",
        "- 사건(Event)\n",
        "  - '눈이 1' 혹은 '눈이 홀수'와 같이, 시행 결과로 나타날 수 있는 일\n",
        "- 근원사건(Elementary Event) \n",
        "  - ‘눈이 1’처럼 더이상 세부적으로 분해할 수 없는 사건\n",
        "\n",
        "### 확률 예시\n",
        "\n",
        "- 사건에 대해서 정의되며, 주사위를 던지는 시행에서  \n",
        "  ‘눈이 1’이라는 사건에 대한 확률은 $ 1 \\over 6 $  \n",
        "  ‘눈이 홀수’라는 사건에 대한 확률은 $ 1 \\over 2 $ 이다\n",
        "\n",
        "### 수식으로 확률 표현하기\n",
        "- ‘확률변수 X = 주사위의 눈’이라고 가정\n",
        "- ‘눈이1’이 되는 사건의 확률이 $ 1 \\over 6 $ 인 것은 아래와 같이 표현 된다\n",
        "\n",
        "$$ P(X = 1) = { 1 \\over 6 } $$\n",
        "\n",
        "- ‘눈이 홀수’라는 사건의 확률은 아래와 같이 표현된다.\n",
        "  \n",
        "$$ P((X = 1) \\cup (X = 3) \\cup (X = 5)) = P(X = 1) + P(X = 3) + P(X = 5) $$  \n",
        "$$ = { 1 \\over 6 } + { 1 \\over 6 } + { 1 \\over 6 } $$  \n",
        "$$ = { 1 \\over 2 } $$\n",
        "\n",
        "- 상호배반(Mutually Exclusive)\n",
        "  - 각 사건이 동시에 일어날 수 없음을 나타낸다\n",
        "\n",
        "### 확률분포 (Probability Distribution)\n",
        " - 확률변수가 어떤 값과 확률로 움직이는지를 표현한 것\n",
        "  - 공정한 주사위   \n",
        "  ![스크린샷 2022-12-22 오전 12 53 51](https://user-images.githubusercontent.com/96982072/208947189-df8bc131-c6bf-46f5-9d53-755588b5bbc4.png)\n",
        "\n",
        "  - 불공정한 주사위  \n",
        "  ![스크린샷 2022-12-22 오전 12 53 59](https://user-images.githubusercontent.com/96982072/208947183-c3bd0fa0-c52b-47f0-be35-f10ac03ede5c.png)\n",
        "\n",
        "### 확률분포 기반 데이터 추출 (Numpy) \n",
        "\n",
        "- 불공정한 주사위의 확률분포  \n",
        "![스크린샷 2022-12-22 오전 12 53 59](https://user-images.githubusercontent.com/96982072/208947183-c3bd0fa0-c52b-47f0-be35-f10ac03ede5c.png)\n",
        "\n",
        "\n"
      ],
      "metadata": {
        "id": "pvyrKAX8UWE_"
      }
    },
    {
      "cell_type": "code",
      "source": [
        "dice = [1,2,3,4,5,6]\n",
        "prob = [1/21, 2/21, 3/21, 4/21, 5/21, 6/21]"
      ],
      "metadata": {
        "id": "99jhnY6XUUpy"
      },
      "execution_count": 10,
      "outputs": []
    },
    {
      "cell_type": "code",
      "source": [
        "np.random.choice(dice, p=prob)"
      ],
      "metadata": {
        "colab": {
          "base_uri": "https://localhost:8080/"
        },
        "id": "E9dRKnBjZd_I",
        "outputId": "54a5619b-a99a-4c14-a588-adabddfa7e38"
      },
      "execution_count": 11,
      "outputs": [
        {
          "output_type": "execute_result",
          "data": {
            "text/plain": [
              "2"
            ]
          },
          "metadata": {},
          "execution_count": 11
        }
      ]
    },
    {
      "cell_type": "markdown",
      "source": [
        "### 확률분포 기반 데이터 추출 (Numpy) - 100번 시행하기"
      ],
      "metadata": {
        "id": "RP_QtlH_Ziy1"
      }
    },
    {
      "cell_type": "code",
      "source": [
        "num_trial = 100\n",
        "sample = np.random.choice(dice, num_trial, p=prob)\n",
        "sample"
      ],
      "metadata": {
        "colab": {
          "base_uri": "https://localhost:8080/"
        },
        "id": "xDmvcoqNZeeT",
        "outputId": "f88c4baf-9fe0-4365-a750-885c6e916d4b"
      },
      "execution_count": 12,
      "outputs": [
        {
          "output_type": "execute_result",
          "data": {
            "text/plain": [
              "array([5, 2, 3, 4, 6, 2, 6, 2, 6, 4, 6, 5, 6, 1, 3, 2, 4, 2, 4, 4, 2, 5,\n",
              "       5, 3, 5, 2, 5, 6, 4, 5, 2, 6, 4, 3, 5, 1, 6, 1, 5, 3, 6, 6, 3, 5,\n",
              "       5, 5, 3, 6, 4, 6, 5, 4, 6, 4, 6, 5, 6, 5, 6, 5, 6, 5, 4, 5, 1, 4,\n",
              "       5, 4, 5, 4, 2, 4, 5, 5, 5, 5, 5, 4, 6, 4, 4, 6, 6, 5, 2, 6, 5, 6,\n",
              "       3, 6, 3, 5, 2, 6, 6, 5, 4, 2, 5, 4])"
            ]
          },
          "metadata": {},
          "execution_count": 12
        }
      ]
    },
    {
      "cell_type": "markdown",
      "source": [
        "### 확률분포 기반 데이터 추출 (Numpy) - 100번 시행 후 도수분포표 작성\n",
        "\n",
        "![스크린샷 2022-12-22 오전 12 53 59](https://user-images.githubusercontent.com/96982072/208947183-c3bd0fa0-c52b-47f0-be35-f10ac03ede5c.png)\n",
        "\n",
        "- 실제 확률 분포와 시행 후의 상대도수 값이 비슷한지 확인 필요\n",
        " "
      ],
      "metadata": {
        "id": "YZM8vz-HZoMx"
      }
    },
    {
      "cell_type": "code",
      "source": [
        "freq, _ = np.histogram(sample, bins=6, range=(1,7))\n",
        "pd.DataFrame(\n",
        "    {\n",
        "        'frequency':freq,\n",
        "        'relative frequency':freq/num_trial\n",
        "    },\n",
        "    index=pd.Index(np.arange(1,7), name='dice')\n",
        ")"
      ],
      "metadata": {
        "colab": {
          "base_uri": "https://localhost:8080/",
          "height": 269
        },
        "id": "W_FqVu58ZmH2",
        "outputId": "e61c1441-81cb-448a-bfd2-8398860f8bed"
      },
      "execution_count": 13,
      "outputs": [
        {
          "output_type": "execute_result",
          "data": {
            "text/plain": [
              "      frequency  relative frequency\n",
              "dice                               \n",
              "1             4                0.04\n",
              "2            12                0.12\n",
              "3             9                0.09\n",
              "4            20                0.20\n",
              "5            30                0.30\n",
              "6            25                0.25"
            ],
            "text/html": [
              "\n",
              "  <div id=\"df-ba8c21c2-025d-4542-8785-d072f5c3e19c\">\n",
              "    <div class=\"colab-df-container\">\n",
              "      <div>\n",
              "<style scoped>\n",
              "    .dataframe tbody tr th:only-of-type {\n",
              "        vertical-align: middle;\n",
              "    }\n",
              "\n",
              "    .dataframe tbody tr th {\n",
              "        vertical-align: top;\n",
              "    }\n",
              "\n",
              "    .dataframe thead th {\n",
              "        text-align: right;\n",
              "    }\n",
              "</style>\n",
              "<table border=\"1\" class=\"dataframe\">\n",
              "  <thead>\n",
              "    <tr style=\"text-align: right;\">\n",
              "      <th></th>\n",
              "      <th>frequency</th>\n",
              "      <th>relative frequency</th>\n",
              "    </tr>\n",
              "    <tr>\n",
              "      <th>dice</th>\n",
              "      <th></th>\n",
              "      <th></th>\n",
              "    </tr>\n",
              "  </thead>\n",
              "  <tbody>\n",
              "    <tr>\n",
              "      <th>1</th>\n",
              "      <td>4</td>\n",
              "      <td>0.04</td>\n",
              "    </tr>\n",
              "    <tr>\n",
              "      <th>2</th>\n",
              "      <td>12</td>\n",
              "      <td>0.12</td>\n",
              "    </tr>\n",
              "    <tr>\n",
              "      <th>3</th>\n",
              "      <td>9</td>\n",
              "      <td>0.09</td>\n",
              "    </tr>\n",
              "    <tr>\n",
              "      <th>4</th>\n",
              "      <td>20</td>\n",
              "      <td>0.20</td>\n",
              "    </tr>\n",
              "    <tr>\n",
              "      <th>5</th>\n",
              "      <td>30</td>\n",
              "      <td>0.30</td>\n",
              "    </tr>\n",
              "    <tr>\n",
              "      <th>6</th>\n",
              "      <td>25</td>\n",
              "      <td>0.25</td>\n",
              "    </tr>\n",
              "  </tbody>\n",
              "</table>\n",
              "</div>\n",
              "      <button class=\"colab-df-convert\" onclick=\"convertToInteractive('df-ba8c21c2-025d-4542-8785-d072f5c3e19c')\"\n",
              "              title=\"Convert this dataframe to an interactive table.\"\n",
              "              style=\"display:none;\">\n",
              "        \n",
              "  <svg xmlns=\"http://www.w3.org/2000/svg\" height=\"24px\"viewBox=\"0 0 24 24\"\n",
              "       width=\"24px\">\n",
              "    <path d=\"M0 0h24v24H0V0z\" fill=\"none\"/>\n",
              "    <path d=\"M18.56 5.44l.94 2.06.94-2.06 2.06-.94-2.06-.94-.94-2.06-.94 2.06-2.06.94zm-11 1L8.5 8.5l.94-2.06 2.06-.94-2.06-.94L8.5 2.5l-.94 2.06-2.06.94zm10 10l.94 2.06.94-2.06 2.06-.94-2.06-.94-.94-2.06-.94 2.06-2.06.94z\"/><path d=\"M17.41 7.96l-1.37-1.37c-.4-.4-.92-.59-1.43-.59-.52 0-1.04.2-1.43.59L10.3 9.45l-7.72 7.72c-.78.78-.78 2.05 0 2.83L4 21.41c.39.39.9.59 1.41.59.51 0 1.02-.2 1.41-.59l7.78-7.78 2.81-2.81c.8-.78.8-2.07 0-2.86zM5.41 20L4 18.59l7.72-7.72 1.47 1.35L5.41 20z\"/>\n",
              "  </svg>\n",
              "      </button>\n",
              "      \n",
              "  <style>\n",
              "    .colab-df-container {\n",
              "      display:flex;\n",
              "      flex-wrap:wrap;\n",
              "      gap: 12px;\n",
              "    }\n",
              "\n",
              "    .colab-df-convert {\n",
              "      background-color: #E8F0FE;\n",
              "      border: none;\n",
              "      border-radius: 50%;\n",
              "      cursor: pointer;\n",
              "      display: none;\n",
              "      fill: #1967D2;\n",
              "      height: 32px;\n",
              "      padding: 0 0 0 0;\n",
              "      width: 32px;\n",
              "    }\n",
              "\n",
              "    .colab-df-convert:hover {\n",
              "      background-color: #E2EBFA;\n",
              "      box-shadow: 0px 1px 2px rgba(60, 64, 67, 0.3), 0px 1px 3px 1px rgba(60, 64, 67, 0.15);\n",
              "      fill: #174EA6;\n",
              "    }\n",
              "\n",
              "    [theme=dark] .colab-df-convert {\n",
              "      background-color: #3B4455;\n",
              "      fill: #D2E3FC;\n",
              "    }\n",
              "\n",
              "    [theme=dark] .colab-df-convert:hover {\n",
              "      background-color: #434B5C;\n",
              "      box-shadow: 0px 1px 3px 1px rgba(0, 0, 0, 0.15);\n",
              "      filter: drop-shadow(0px 1px 2px rgba(0, 0, 0, 0.3));\n",
              "      fill: #FFFFFF;\n",
              "    }\n",
              "  </style>\n",
              "\n",
              "      <script>\n",
              "        const buttonEl =\n",
              "          document.querySelector('#df-ba8c21c2-025d-4542-8785-d072f5c3e19c button.colab-df-convert');\n",
              "        buttonEl.style.display =\n",
              "          google.colab.kernel.accessAllowed ? 'block' : 'none';\n",
              "\n",
              "        async function convertToInteractive(key) {\n",
              "          const element = document.querySelector('#df-ba8c21c2-025d-4542-8785-d072f5c3e19c');\n",
              "          const dataTable =\n",
              "            await google.colab.kernel.invokeFunction('convertToInteractive',\n",
              "                                                     [key], {});\n",
              "          if (!dataTable) return;\n",
              "\n",
              "          const docLinkHtml = 'Like what you see? Visit the ' +\n",
              "            '<a target=\"_blank\" href=https://colab.research.google.com/notebooks/data_table.ipynb>data table notebook</a>'\n",
              "            + ' to learn more about interactive tables.';\n",
              "          element.innerHTML = '';\n",
              "          dataTable['output_type'] = 'display_data';\n",
              "          await google.colab.output.renderOutput(dataTable, element);\n",
              "          const docLink = document.createElement('div');\n",
              "          docLink.innerHTML = docLinkHtml;\n",
              "          element.appendChild(docLink);\n",
              "        }\n",
              "      </script>\n",
              "    </div>\n",
              "  </div>\n",
              "  "
            ]
          },
          "metadata": {},
          "execution_count": 13
        }
      ]
    },
    {
      "cell_type": "markdown",
      "source": [
        "### 확률분포 기반 데이터 추출 (Numpy) - 100번 시행 후 데이터 시각화 \n",
        "- 실제 확률분포와 약간의 오차가 있는 것으로 보임"
      ],
      "metadata": {
        "id": "0meUg3P4Z3jd"
      }
    },
    {
      "cell_type": "code",
      "source": [
        "fig = plt.figure(figsize=(10,6))\n",
        "ax = fig.add_subplot(1, 1, 1)\n",
        "ax.hist(sample, bins=6, range=(1,7), density=True, rwidth=0.8)\n",
        "# 실제의 확률분포를 가로선으로 표시\n",
        "ax.hlines(prob, np.arange(1,7), np.arange(2,8), colors='gray')\n",
        "# 막대그래프에 계급값인 [1.5, 2.5, ..., 6.5]에 눈금을 표시\n",
        "ax.set_xticks(np.linspace(1.5, 6.5, 6))\n",
        "# 주사위 눈의 값은 [1, 2, 3, 4, 5, 6]\n",
        "ax.set_xticklabels(np.arange(1,7))\n",
        "ax.set_xlabel('dice')\n",
        "ax.set_ylabel('relative frequency')\n",
        "\n",
        "plt.show()"
      ],
      "metadata": {
        "colab": {
          "base_uri": "https://localhost:8080/",
          "height": 388
        },
        "id": "fowol9pLZ1PT",
        "outputId": "c89c3e5f-9953-4e1b-8acf-a45972316874"
      },
      "execution_count": 14,
      "outputs": [
        {
          "output_type": "display_data",
          "data": {
            "text/plain": [
              "<Figure size 720x432 with 1 Axes>"
            ],
            "image/png": "[encoded data removed]"
          },
          "metadata": {
            "needs_background": "light"
          }
        }
      ]
    },
    {
      "cell_type": "markdown",
      "source": [
        "### 확률분포 기반 데이터 추출 (Numpy) ‒ 10,000번 시행 후 데이터 시각화 \n",
        "- 실제 확률분포와 거의 흡사함을 확인"
      ],
      "metadata": {
        "id": "-sCXXfYwaAUR"
      }
    },
    {
      "cell_type": "code",
      "source": [
        "num_trial = 10000\n",
        "sample = np.random.choice(dice, num_trial, p=prob)\n",
        "\n",
        "fig = plt.figure(figsize=(10,6))\n",
        "ax = fig.add_subplot(1, 1, 1)\n",
        "ax.hist(sample, bins=6, range=(1,7), density=True, rwidth=0.8)\n",
        "# 실제의 확률분포를 가로선으로 표시\n",
        "ax.hlines(prob, np.arange(1,7), np.arange(2,8), colors='gray')\n",
        "# 막대그래프에 계급값인 [1.5, 2.5, ..., 6.5]에 눈금을 표시\n",
        "ax.set_xticks(np.linspace(1.5, 6.5, 6))\n",
        "# 주사위 눈의 값은 [1, 2, 3, 4, 5, 6]\n",
        "ax.set_xticklabels(np.arange(1,7))\n",
        "ax.set_xlabel('dice')\n",
        "ax.set_ylabel('relative frequency')\n",
        "\n",
        "plt.show()"
      ],
      "metadata": {
        "colab": {
          "base_uri": "https://localhost:8080/",
          "height": 392
        },
        "id": "Ara5USgmZ74Y",
        "outputId": "36d8f6cd-2d8e-4963-8e78-1f65f0f4d19b"
      },
      "execution_count": 15,
      "outputs": [
        {
          "output_type": "display_data",
          "data": {
            "text/plain": [
              "<Figure size 720x432 with 1 Axes>"
            ],
            "image/png": "[encoded data removed]"
          },
          "metadata": {
            "needs_background": "light"
          }
        }
      ]
    },
    {
      "cell_type": "markdown",
      "source": [
        "## 추측 통계 (with 보스턴 주택 ‘AGE’ 데이터) \n",
        "- 모집단의 확률분포 파악"
      ],
      "metadata": {
        "id": "KJHkXt_icrgB"
      }
    },
    {
      "cell_type": "code",
      "source": [
        "fig = plt.figure(figsize=(10,6))\n",
        "ax = fig.add_subplot(1, 1, 1)\n",
        "ax.hist(df['AGE'], bins=100, range=(0,100), density=True)\n",
        "ax.set_xlim(0,100)\n",
        "ax.set_ylim(0,0.1)\n",
        "ax.set_xlabel('age')\n",
        "ax.set_ylabel('relative frequency')\n",
        "\n",
        "plt.show()"
      ],
      "metadata": {
        "colab": {
          "base_uri": "https://localhost:8080/",
          "height": 392
        },
        "id": "EPUUMbGraHue",
        "outputId": "11088a12-fb5b-43b8-bec0-d8cc5ee1b2ad"
      },
      "execution_count": 16,
      "outputs": [
        {
          "output_type": "display_data",
          "data": {
            "text/plain": [
              "<Figure size 720x432 with 1 Axes>"
            ],
            "image/png": "[encoded data removed]"
          },
          "metadata": {
            "needs_background": "light"
          }
        }
      ]
    },
    {
      "cell_type": "markdown",
      "source": [
        "### 추측 통계\n",
        "- 표본의 확률분포 파악 (10,000회 무작위 추출 시행)"
      ],
      "metadata": {
        "id": "x8dKbSD0c1mh"
      }
    },
    {
      "cell_type": "code",
      "source": [
        "sample = np.random.choice(df['AGE'], 10000)\n",
        "\n",
        "fig = plt.figure(figsize=(10,6))\n",
        "ax = fig.add_subplot(1, 1, 1)\n",
        "ax.hist(sample, bins=100, range=(0,100), density=True)\n",
        "ax.set_xlim(0,100)\n",
        "ax.set_ylim(0,0.1)\n",
        "ax.set_xlabel('age')\n",
        "ax.set_ylabel('relative frequency')\n",
        "\n",
        "plt.show()"
      ],
      "metadata": {
        "colab": {
          "base_uri": "https://localhost:8080/",
          "height": 392
        },
        "id": "EBjQlMg1cz3p",
        "outputId": "09507040-2fb1-4e52-efe6-0978c05bcc0c"
      },
      "execution_count": 17,
      "outputs": [
        {
          "output_type": "display_data",
          "data": {
            "text/plain": [
              "<Figure size 720x432 with 1 Axes>"
            ],
            "image/png": "[encoded data removed]"
          },
          "metadata": {
            "needs_background": "light"
          }
        }
      ]
    },
    {
      "cell_type": "markdown",
      "source": [
        "### 추측 통계\n",
        "- 모집단과 표본의 확률분포가 거의 비슷함을 확인. 평균 또한 유사할까?\n",
        "\n",
        "![스크린샷 2022-12-22 오전 1 25 50](https://user-images.githubusercontent.com/96982072/208954884-c6c7b999-3371-40f0-ad8f-5bed757a0656.png)\n"
      ],
      "metadata": {
        "id": "1pbvFRfNgSXv"
      }
    },
    {
      "cell_type": "markdown",
      "source": [
        "### 추측 통계\n",
        "- 모평균 : 68.575\n",
        "- 표본평균의분포(표본20개씩10,000번추출시행) \n",
        "  - 표본 평균의 분포가 모평균을 중심으로 고루 분포됨\n",
        "  - 무작위 추출에 의한 표본평균으로 모평균을 추측할 수 있는 근거!!"
      ],
      "metadata": {
        "id": "trhTcxUyglFa"
      }
    },
    {
      "cell_type": "code",
      "source": [
        "sample_means = [\n",
        "    np.random.choice(df['AGE'], 20).mean()\n",
        "    for _ in range(10000)\n",
        "]\n",
        "\n",
        "fig = plt.figure(figsize=(10,6))\n",
        "ax = fig.add_subplot(1, 1, 1)\n",
        "ax.hist(sample_means, bins=100, range=(0,100), density=True)\n",
        "ax.set_xlim(40,100)\n",
        "ax.set_ylim(0,0.1)\n",
        "ax.set_xlabel('age')\n",
        "ax.set_ylabel('relative frequency')\n",
        "\n",
        "plt.show()"
      ],
      "metadata": {
        "colab": {
          "base_uri": "https://localhost:8080/",
          "height": 392
        },
        "id": "Ag80k__Cc5Lq",
        "outputId": "92567497-3dca-4d25-c3b2-5832e9e6c886"
      },
      "execution_count": 18,
      "outputs": [
        {
          "output_type": "display_data",
          "data": {
            "text/plain": [
              "<Figure size 720x432 with 1 Axes>"
            ],
            "image/png": "[encoded data removed]"
          },
          "metadata": {
            "needs_background": "light"
          }
        }
      ]
    },
    {
      "cell_type": "markdown",
      "source": [
        "## 4. 추정과 검정\n",
        "\n",
        "### 추후 배울 내용\n",
        "\n",
        "- Chapter 5~9 \n",
        "  - 확률변수의 정의와 대표적인 확률분포\n",
        "- Chapter 10~11 \n",
        "  - 추측통계 ( 추정과 검정 ) \n",
        "- Chapter12 \n",
        "  - 회귀분석 (여러 데이터 사이의 관계에 대해 분석하는 기법)\n",
        "\n",
        "![스크린샷 2022-12-22 오전 1 28 46](https://user-images.githubusercontent.com/96982072/208955358-9c196441-1937-4df0-85e6-dc16b74e4741.png)\n",
        "\n",
        "### 추정\n",
        "- 모수를 추측하는 것\n",
        "  - 점추정 : 하나의 값으로 추정하는 것\n",
        "    - 예) 모평균을 70.4점이라는 하나의 값으로 추정하는 것\n",
        "  - 구간추정: 구간으로 추정하는 것\n",
        "    - 예) 모평균은 ‘68~72점 사이에 존재한다’라고 범위를 가지고 추정하는 것\n",
        "\n",
        "### 검정\n",
        "- 모집단의 통계적 성질에 대해 가설을 세우고, \n",
        "  그 가설이 옳은지 여부를 판단하는 기법\n",
        "  - 예) 주사위를 100번 굴린 결과가 아래와 같을 때, 공정한 주사위인지 여부를 확인하고 싶을 때 검정을 사용\n",
        "- 즉, 주사위가 공정한 주사위라는 가설을 세우고, 그 가설이 옳은지 여부를 통계학적으로 판정"
      ],
      "metadata": {
        "id": "RaohAZLegyEy"
      }
    },
    {
      "cell_type": "code",
      "source": [],
      "metadata": {
        "id": "-0GTfa-CheC8"
      },
      "execution_count": null,
      "outputs": []
    }
  ]
}