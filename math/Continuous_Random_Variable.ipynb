{
  "nbformat": 4,
  "nbformat_minor": 0,
  "metadata": {
    "colab": {
      "provenance": [],
      "authorship_tag": "ABX9TyOCLlJh3wEPoVxwIdJI2Dg2",
      "include_colab_link": true
    },
    "kernelspec": {
      "name": "python3",
      "display_name": "Python 3"
    },
    "language_info": {
      "name": "python"
    }
  },
  "cells": [
    {
      "cell_type": "markdown",
      "metadata": {
        "id": "view-in-github",
        "colab_type": "text"
      },
      "source": [
        "<a href=\"https://colab.research.google.com/github/Zamoca42/TIL/blob/main/math/Continuous_Random_Variable.ipynb\" target=\"_parent\"><img src=\"https://colab.research.google.com/assets/colab-badge.svg\" alt=\"Open In Colab\"/></a>"
      ]
    },
    {
      "cell_type": "markdown",
      "source": [
        "# 연속 확률 변수"
      ],
      "metadata": {
        "id": "qQkxj4Zlfd3t"
      }
    },
    {
      "cell_type": "markdown",
      "source": [
        "## 1. 1차원 연속형 확률변수 정의"
      ],
      "metadata": {
        "id": "5iLrxSVKfeVd"
      }
    },
    {
      "cell_type": "markdown",
      "source": [
        "### 이산형 확률변수 VS 연속형 확률변수\n",
        "- 취할 수 있는 값이 셀 수 있는지(이산) 여부에 따른 차이\n",
        "- 연속형의 경우, 평균 및 분산 등의 통계지표 계산과정에 적분이 사용되는 등 계산이 더욱 복잡하다\n"
      ],
      "metadata": {
        "id": "BvzlXr6TfeZ_"
      }
    },
    {
      "cell_type": "markdown",
      "source": [
        "### Python 초기 Setting\n",
        "- 적분은 Scipy의 `Integral` 모듈을 이용하여 계산"
      ],
      "metadata": {
        "id": "CdDPJ4j3fecd"
      }
    },
    {
      "cell_type": "code",
      "source": [
        "import numpy as np\n",
        "import matplotlib.pyplot as plt\n",
        "\n",
        "%precision 3\n",
        "%matplotlib inline"
      ],
      "metadata": {
        "id": "bgOZ9smygCDX"
      },
      "execution_count": 1,
      "outputs": []
    },
    {
      "cell_type": "code",
      "source": [
        "from scipy import integrate\n",
        "import warnings\n",
        "\n",
        "# 적분에 관한 warning을 출력하지 않도록 한다\n",
        "warnings.filterwarnings('ignore',\n",
        "                        category=integrate.IntegrationWarning)"
      ],
      "metadata": {
        "id": "aq9AN09pgDRm"
      },
      "execution_count": 2,
      "outputs": []
    },
    {
      "cell_type": "markdown",
      "source": [
        "### 연속형 확률변수\n",
        "- 취할 수 있는 값이 연속인 확률변수(셀 수 없음)\n",
        "- 확률변수의 각 값이 나올 수 있는 확률은 0이며,  \n",
        "각 값들이 어떤 범위안에 속할 확률로서 확률값이 정의된다\n",
        "- 예시   \n",
        "  - 둘레가 1인 룰렛을 돌린 후 룰렛의 변화된 호의 길이\n",
        "  - 각 값이 나올 확률은 동일하다고 가정 (But, 실제확률은 0임) \n",
        "  1. 취할 수 있는 값은? \n",
        "    - 0~1사이의실수\n",
        "  2. 0.5라는 값을 취할 확률은? \n",
        "    - 1 or 0  \n",
        "    ( * 정확하게 0.50000000을 취할 확률은 1이 아니라, 0임 )\n",
        "    \n",
        "![스크린샷 2023-01-06 오후 11 36 08](https://user-images.githubusercontent.com/96982072/211033439-d2186226-7f01-4540-b50d-4a60c96115c3.png)\n"
      ],
      "metadata": {
        "id": "qTS55SWwfee-"
      }
    },
    {
      "cell_type": "markdown",
      "source": [
        "### 확률밀도함수 ( PDF : Probability Density Function )\n",
        "- 연속형 확률변수의 확률 정의에 사용되는 함수\n",
        "- [𝑎,𝑏] : 확률변수가 취할 수 있는 값의 표현\n",
        "- 𝑓(𝑥) : 확률밀도함수\n",
        "  - 연속형 확률변수는 $𝑓(𝑥) = 𝑃(𝑋=𝑥)$ 이렇게 표현되지 않는다  \n",
        "  - 밀도함수에 의한 확률은 확률변수 𝑋 가 $ 𝑥_0 ≤ 𝑋 ≤ 𝑥_1 $의 구간에 들어갈 확률로서, $ P(𝑥_0 ≤ 𝑋 ≤ 𝑥_1) $로 정의되고 아래 적분식으로 계산한다\n",
        "  $$ P(𝑥_0 ≤ 𝑋 ≤ 𝑥_1) = \\int_{x_0}^{x_1} 𝑓(𝑥)dx$$"
      ],
      "metadata": {
        "id": "u_K3FLk5fehW"
      }
    },
    {
      "cell_type": "markdown",
      "source": [
        "### 연속형 확률변수 예시\n",
        "- 불공정한 룰렛\n",
        "  - 둘레가 1인 룰렛을 돌린 후 룰렛의 변화된 호의 길이\n",
        "  - 각 값이 나올 확률밀도함수는 점점 커진다고 가정 (But,실제 확률은 0임)\n",
        "  $$ 𝑓(𝑥) = \\begin{cases}\n",
        "2x & (0 ≤ x ≤ 1) \\\\\n",
        "0 & (otherwise)\n",
        "\\end{cases}$$"
      ],
      "metadata": {
        "id": "90Y1qzpZhglp"
      }
    },
    {
      "cell_type": "markdown",
      "source": [
        "### [Python] 연속형 확률변수 정의"
      ],
      "metadata": {
        "id": "LPrIB9M9ir2h"
      }
    },
    {
      "cell_type": "code",
      "execution_count": 3,
      "metadata": {
        "id": "bVq8m3-Ufb3r"
      },
      "outputs": [],
      "source": [
        "x_range = np.array([0, 1])"
      ]
    },
    {
      "cell_type": "code",
      "source": [
        "def f(x):\n",
        "    if x_range[0] <= x <= x_range[1]:\n",
        "        return 2 * x\n",
        "    else:\n",
        "        return 0"
      ],
      "metadata": {
        "id": "W02jwQAWiuhe"
      },
      "execution_count": 4,
      "outputs": []
    },
    {
      "cell_type": "code",
      "source": [
        "X = [x_range, f]"
      ],
      "metadata": {
        "id": "6xKYmwQ7ixao"
      },
      "execution_count": 5,
      "outputs": []
    },
    {
      "cell_type": "markdown",
      "source": [
        "### [Python] 연속형 확률변수 시각화 (𝟎.𝟒 ≤ 𝒙 ≤ 𝟎.𝟔)\n",
        "\n",
        " $$ 𝑓(𝑥) = \\begin{cases}\n",
        "2x & (0 ≤ x ≤ 1) \\\\\n",
        "0 & (otherwise)\n",
        "\\end{cases}$$"
      ],
      "metadata": {
        "id": "RcmJnPIni37A"
      }
    },
    {
      "cell_type": "code",
      "source": [
        "xs = np.linspace(x_range[0], x_range[1], 100)\n",
        "\n",
        "fig = plt.figure(figsize=(10, 6))\n",
        "ax = fig.add_subplot(111)\n",
        "\n",
        "ax.plot(xs, [f(x) for x in xs], label='f(x)', color='gray')\n",
        "ax.hlines(0, -0.2, 1.2, alpha=0.3)\n",
        "ax.vlines(0, -0.2, 2.2, alpha=0.3)\n",
        "ax.vlines(xs.max(), 0, 2.2, linestyles=':', color='gray')\n",
        "\n",
        "# 0.4부터 0.6 까지 x좌표를 준비\n",
        "xs = np.linspace(0.4, 0.6, 100)\n",
        "# xs의 범위로 f(x)와 x축으로 둘러싸인 영역을 진하게 칠함\n",
        "ax.fill_between(xs, [f(x) for x in xs], label='prob')\n",
        "\n",
        "ax.set_xticks(np.arange(-0.2, 1.3, 0.1))\n",
        "ax.set_xlim(-0.1, 1.1)\n",
        "ax.set_ylim(-0.2, 2.1)\n",
        "ax.legend()\n",
        "\n",
        "plt.show()"
      ],
      "metadata": {
        "colab": {
          "base_uri": "https://localhost:8080/",
          "height": 374
        },
        "id": "NQHgtE7eiz8C",
        "outputId": "1517a0f3-958b-4465-815c-919286867a80"
      },
      "execution_count": 6,
      "outputs": [
        {
          "output_type": "display_data",
          "data": {
            "text/plain": [
              "<Figure size 720x432 with 1 Axes>"
            ],
            "image/png": "[encoded data removed]"
          },
          "metadata": {
            "needs_background": "light"
          }
        }
      ]
    },
    {
      "cell_type": "markdown",
      "source": [
        "### [Python] 연속형 확률변수 영역 면적 계산 (𝟎.𝟒 ≤ 𝒙 ≤ 𝟎.𝟔)\n",
        " \n",
        " $$ 𝑓(𝑥) = \\begin{cases}\n",
        "2x & (0 ≤ x ≤ 1) \\\\\n",
        "0 & (otherwise)\n",
        "\\end{cases}$$\n",
        "\n",
        "$$ P(0.4 ≤ x ≤ 0.6) = \\int_{0.4}^{0.6} 𝑓(𝑥)dx $$"
      ],
      "metadata": {
        "id": "GMzBRI6GjBeB"
      }
    },
    {
      "cell_type": "code",
      "source": [
        "# 첫 번째 인수는 피적분함수、두 번째 인수와 세 번째 인수는 적분 범위\n",
        "integrate.quad(f, 0.4, 0.6)"
      ],
      "metadata": {
        "colab": {
          "base_uri": "https://localhost:8080/"
        },
        "id": "6Wfssxzhi2cB",
        "outputId": "5b4c8112-1b24-4e01-a00c-b48f34b8a1c0"
      },
      "execution_count": 7,
      "outputs": [
        {
          "output_type": "execute_result",
          "data": {
            "text/plain": [
              "(0.200, 0.000)"
            ]
          },
          "metadata": {},
          "execution_count": 7
        }
      ]
    },
    {
      "cell_type": "markdown",
      "source": [
        "### [Python] 연속형 확률변수 확률의 성질\n",
        "\n",
        "$$ f(x) \\ge 0 \\\\ \\int_{-∞}^{∞} f(x)dx = 1$$"
      ],
      "metadata": {
        "id": "fJe2UiZbjgUm"
      }
    },
    {
      "cell_type": "markdown",
      "source": [
        "### [Python] 연속형 확률변수 확률의 성질 확인 방법\n",
        "\n",
        "- `scipy.optimizer`의 `minimize_scalar` 함수  ( 함수의 최소값을 구하는 함수 )를 활용\n",
        "  - $𝑓(𝑥)$ 의 최소값이 0이상으로 나오면 항상 0이상의 값을 취하는지 확인이 가능하다\n",
        "\n",
        "- 예시\n",
        "  $$ 𝑓(𝑥) = \\begin{cases}\n",
        "2x & (0 ≤ x ≤ 1) \\\\\n",
        "0 & (otherwise)\n",
        "\\end{cases}$$\n"
      ],
      "metadata": {
        "id": "r9OKyRZWjgId"
      }
    },
    {
      "cell_type": "code",
      "source": [
        "from scipy.optimize import minimize_scalar\n",
        "\n",
        "res = minimize_scalar(f)\n",
        "# 함수의 최솟값은 fun이라는 인스턴스 변수에\n",
        "res.fun"
      ],
      "metadata": {
        "colab": {
          "base_uri": "https://localhost:8080/"
        },
        "id": "K5IYJSpZjYii",
        "outputId": "1831b549-b9ad-4a9a-c33e-0773e459d2f4"
      },
      "execution_count": 8,
      "outputs": [
        {
          "output_type": "execute_result",
          "data": {
            "text/plain": [
              "0"
            ]
          },
          "metadata": {},
          "execution_count": 8
        }
      ]
    },
    {
      "cell_type": "code",
      "source": [
        "integrate.quad(f, -np.inf, np.inf)[0]"
      ],
      "metadata": {
        "colab": {
          "base_uri": "https://localhost:8080/"
        },
        "id": "Ci8X8lOwkIDm",
        "outputId": "4bca1aef-0e95-40eb-d678-a1e3da7d25a7"
      },
      "execution_count": 9,
      "outputs": [
        {
          "output_type": "execute_result",
          "data": {
            "text/plain": [
              "1.000"
            ]
          },
          "metadata": {},
          "execution_count": 9
        }
      ]
    },
    {
      "cell_type": "markdown",
      "source": [
        "### 누적분포함수 ( CDF : Cumulative Distribution Function ) \n",
        "- 확률변수 𝑋가 𝑥이하가 될 때의 확률\n",
        "- 𝐹(𝑥) : 누적분포함수\n",
        "  - 아래와 같이 정의된다\n",
        "  $$ F(x) = P(𝑋 ≤ 𝑥) = \\int_{-∞}^{x_1} 𝑓(𝑥) 𝑑𝑥 $$\n"
      ],
      "metadata": {
        "id": "olFte96EkRZu"
      }
    },
    {
      "cell_type": "markdown",
      "source": [
        "### [Python] 누적분포함수 정의 및 확률 계산\n",
        "\n",
        "$$ 𝑓(𝑥) = \\begin{cases}\n",
        "2x & (0 ≤ x ≤ 1) \\\\\n",
        "0 & (otherwise)\n",
        "\\end{cases}$$\n",
        "\n",
        "- $P(0.4 ≤ 𝑥 ≤ 0.6) = 𝐹(0.6) − 𝐹(0.4)$를 활용한 계산 또한 가능하다"
      ],
      "metadata": {
        "id": "NXd3XXd7klmt"
      }
    },
    {
      "cell_type": "code",
      "source": [
        "def F(x):\n",
        "    return integrate.quad(f, -np.inf, x)[0]"
      ],
      "metadata": {
        "id": "YKuGDyQ8kyXA"
      },
      "execution_count": 10,
      "outputs": []
    },
    {
      "cell_type": "code",
      "source": [
        "F(0.6) - F(0.4)"
      ],
      "metadata": {
        "colab": {
          "base_uri": "https://localhost:8080/"
        },
        "id": "N7FCntgxkytZ",
        "outputId": "7cd95c5a-885c-489d-f810-8a7171431d8a"
      },
      "execution_count": 11,
      "outputs": [
        {
          "output_type": "execute_result",
          "data": {
            "text/plain": [
              "0.200"
            ]
          },
          "metadata": {},
          "execution_count": 11
        }
      ]
    },
    {
      "cell_type": "markdown",
      "source": [
        "### [Python] 누적분포함수 시각화\n",
        "- 누적분포함수는 반드시 단조 증가함수의 특성을 가진다"
      ],
      "metadata": {
        "id": "lNb4xU20k3ft"
      }
    },
    {
      "cell_type": "code",
      "source": [
        "xs = np.linspace(x_range[0], x_range[1], 100)\n",
        "\n",
        "fig = plt.figure(figsize=(10, 6))\n",
        "ax = fig.add_subplot(111)\n",
        "\n",
        "ax.plot(xs, [F(x) for x in xs], label='F(x)', color='gray')\n",
        "ax.hlines(0, -0.1, 1.1, alpha=0.3)\n",
        "ax.vlines(0, -0.1, 1.1, alpha=0.3)\n",
        "ax.vlines(xs.max(), 0, 1, linestyles=':', color='gray')\n",
        "\n",
        "ax.set_xticks(np.arange(-0.1, 1.2, 0.1))\n",
        "ax.set_xlim(-0.1, 1.1)\n",
        "ax.set_ylim(-0.1, 1.1)\n",
        "ax.legend()\n",
        "\n",
        "plt.show()"
      ],
      "metadata": {
        "colab": {
          "base_uri": "https://localhost:8080/",
          "height": 374
        },
        "id": "xa3kQsBGk6dD",
        "outputId": "242d232e-d419-463b-a73b-67c53af96ea7"
      },
      "execution_count": 12,
      "outputs": [
        {
          "output_type": "display_data",
          "data": {
            "text/plain": [
              "<Figure size 720x432 with 1 Axes>"
            ],
            "image/png": "[encoded data removed]"
          },
          "metadata": {
            "needs_background": "light"
          }
        }
      ]
    },
    {
      "cell_type": "markdown",
      "source": [
        "### 확률변수의 선형 변환 ( 𝒀 = 𝟐𝑿 + 𝟑 )\n",
        "- 값에 2를 곱하고 3을 더한 2𝑋+ 을 𝑌라고 하면,𝑌 또한 연속형 확률변수가 된다\n",
        "  - 𝑌의 확률밀도함수 𝑔(𝑦) 정의\n",
        "  $$ g(y) = \\begin{cases}\n",
        "{(y-3) \\over 2} & (3 ≤ y ≤ 5) \\\\\n",
        "0 & (otherwise)\n",
        "\\end{cases}$$\n",
        "  - 𝑌의 누적분포함수 𝐺(𝑦) 정의\n",
        "  $$ G(y) = P(Y ≤ y) = \\int_{-∞}^{y} g(y) 𝑑y $$\n",
        "\n"
      ],
      "metadata": {
        "id": "m1YFZ2Ayk84V"
      }
    },
    {
      "cell_type": "markdown",
      "source": [
        "### [Python] 확률변수 𝒀 = 𝟐𝑿 + 𝟑 정의 및 시각화"
      ],
      "metadata": {
        "id": "XVCxBx9YlgnD"
      }
    },
    {
      "cell_type": "code",
      "source": [
        "y_range = [3, 5]\n",
        "\n",
        "def g(y):\n",
        "    if y_range[0] <= y <= y_range[1]:\n",
        "        return (y - 3) / 2\n",
        "    else:\n",
        "        return 0\n",
        "    \n",
        "def G(y):\n",
        "    return integrate.quad(g, -np.inf, y)[0]"
      ],
      "metadata": {
        "id": "jbB5gj6dk6tB"
      },
      "execution_count": 13,
      "outputs": []
    },
    {
      "cell_type": "code",
      "source": [
        "ys = np.linspace(y_range[0], y_range[1], 100)\n",
        "\n",
        "fig = plt.figure(figsize=(10, 6))\n",
        "ax = fig.add_subplot(111)\n",
        "\n",
        "ax.plot(ys, [g(y) for y in ys],\n",
        "        label='g(y)', color='gray')\n",
        "ax.plot(ys, [G(y) for y in ys],\n",
        "        label='G(y)', ls='--', color='gray')\n",
        "ax.hlines(0, 2.8, 5.2, alpha=0.3)\n",
        "ax.vlines(ys.max(), 0, 1, linestyles=':', color='gray')\n",
        "\n",
        "ax.set_xticks(np.arange(2.8, 5.2, 0.2))\n",
        "ax.set_xlim(2.8, 5.2)\n",
        "ax.set_ylim(-0.1, 1.1)\n",
        "ax.legend()\n",
        "\n",
        "plt.show()"
      ],
      "metadata": {
        "id": "-HmkoD_TljGd",
        "outputId": "799deb74-1e7f-4528-9a4e-a06febc8b9f3",
        "colab": {
          "base_uri": "https://localhost:8080/",
          "height": 374
        }
      },
      "execution_count": 14,
      "outputs": [
        {
          "output_type": "display_data",
          "data": {
            "text/plain": [
              "<Figure size 720x432 with 1 Axes>"
            ],
            "image/png": "[encoded data removed]"
          },
          "metadata": {
            "needs_background": "light"
          }
        }
      ]
    },
    {
      "cell_type": "code",
      "source": [],
      "metadata": {
        "id": "n9bNfT0NlkfM"
      },
      "execution_count": null,
      "outputs": []
    }
  ]
}