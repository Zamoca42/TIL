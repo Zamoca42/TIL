{
  "nbformat": 4,
  "nbformat_minor": 0,
  "metadata": {
    "colab": {
      "provenance": [],
      "authorship_tag": "ABX9TyN6aGhYLvaF0nyIXZVdnIJm",
      "include_colab_link": true
    },
    "kernelspec": {
      "name": "python3",
      "display_name": "Python 3"
    },
    "language_info": {
      "name": "python"
    }
  },
  "cells": [
    {
      "cell_type": "markdown",
      "metadata": {
        "id": "view-in-github",
        "colab_type": "text"
      },
      "source": [
        "<a href=\"https://colab.research.google.com/github/Zamoca42/TIL/blob/main/math/2D_data_analysis.ipynb\" target=\"_parent\"><img src=\"https://colab.research.google.com/assets/colab-badge.svg\" alt=\"Open In Colab\"/></a>"
      ]
    },
    {
      "cell_type": "markdown",
      "source": [
        "# 2차원 데이터 분석\n",
        "\n",
        "## 관계를 나타내는 지표 - 공분산, 상관계수\n",
        "\n",
        "- 두 가지 특성을 나타내는 변수(영어 점수, 수학 점수)가 존재할 때,  \n",
        "'영어 점수가 높은 학생이 수학 점수가 높은지?'와 같이 데이터의 상관성을 파악하는데 주로 활용된다.\n",
        "\n",
        "- 2차원 데이터 분석하는 방법 또한 크게 2가지 방법으로 나뉜다. \n",
        "  - 수치를 사용한 지표: 공분산, 상관계수\n",
        "  - 시각화 그래프: 산점도, 회귀직선\n",
        "\n",
        "  "
      ],
      "metadata": {
        "id": "H4q7JOKD0fnF"
      }
    },
    {
      "cell_type": "code",
      "execution_count": 1,
      "metadata": {
        "colab": {
          "base_uri": "https://localhost:8080/",
          "height": 394
        },
        "id": "ZQKDfJDwzxTZ",
        "outputId": "88989a90-3337-4b88-b212-3ec24a4903da"
      },
      "outputs": [
        {
          "output_type": "execute_result",
          "data": {
            "text/plain": [
              "         english  mathematics\n",
              "student                      \n",
              "A             42           65\n",
              "B             69           80\n",
              "C             56           63\n",
              "D             41           63\n",
              "E             57           76\n",
              "F             48           60\n",
              "G             65           81\n",
              "H             49           66\n",
              "I             65           82\n",
              "J             58           78"
            ],
            "text/html": [
              "\n",
              "  <div id=\"df-a56e43ca-5e7e-4973-b5eb-20979a431ec4\">\n",
              "    <div class=\"colab-df-container\">\n",
              "      <div>\n",
              "<style scoped>\n",
              "    .dataframe tbody tr th:only-of-type {\n",
              "        vertical-align: middle;\n",
              "    }\n",
              "\n",
              "    .dataframe tbody tr th {\n",
              "        vertical-align: top;\n",
              "    }\n",
              "\n",
              "    .dataframe thead th {\n",
              "        text-align: right;\n",
              "    }\n",
              "</style>\n",
              "<table border=\"1\" class=\"dataframe\">\n",
              "  <thead>\n",
              "    <tr style=\"text-align: right;\">\n",
              "      <th></th>\n",
              "      <th>english</th>\n",
              "      <th>mathematics</th>\n",
              "    </tr>\n",
              "    <tr>\n",
              "      <th>student</th>\n",
              "      <th></th>\n",
              "      <th></th>\n",
              "    </tr>\n",
              "  </thead>\n",
              "  <tbody>\n",
              "    <tr>\n",
              "      <th>A</th>\n",
              "      <td>42</td>\n",
              "      <td>65</td>\n",
              "    </tr>\n",
              "    <tr>\n",
              "      <th>B</th>\n",
              "      <td>69</td>\n",
              "      <td>80</td>\n",
              "    </tr>\n",
              "    <tr>\n",
              "      <th>C</th>\n",
              "      <td>56</td>\n",
              "      <td>63</td>\n",
              "    </tr>\n",
              "    <tr>\n",
              "      <th>D</th>\n",
              "      <td>41</td>\n",
              "      <td>63</td>\n",
              "    </tr>\n",
              "    <tr>\n",
              "      <th>E</th>\n",
              "      <td>57</td>\n",
              "      <td>76</td>\n",
              "    </tr>\n",
              "    <tr>\n",
              "      <th>F</th>\n",
              "      <td>48</td>\n",
              "      <td>60</td>\n",
              "    </tr>\n",
              "    <tr>\n",
              "      <th>G</th>\n",
              "      <td>65</td>\n",
              "      <td>81</td>\n",
              "    </tr>\n",
              "    <tr>\n",
              "      <th>H</th>\n",
              "      <td>49</td>\n",
              "      <td>66</td>\n",
              "    </tr>\n",
              "    <tr>\n",
              "      <th>I</th>\n",
              "      <td>65</td>\n",
              "      <td>82</td>\n",
              "    </tr>\n",
              "    <tr>\n",
              "      <th>J</th>\n",
              "      <td>58</td>\n",
              "      <td>78</td>\n",
              "    </tr>\n",
              "  </tbody>\n",
              "</table>\n",
              "</div>\n",
              "      <button class=\"colab-df-convert\" onclick=\"convertToInteractive('df-a56e43ca-5e7e-4973-b5eb-20979a431ec4')\"\n",
              "              title=\"Convert this dataframe to an interactive table.\"\n",
              "              style=\"display:none;\">\n",
              "        \n",
              "  <svg xmlns=\"http://www.w3.org/2000/svg\" height=\"24px\"viewBox=\"0 0 24 24\"\n",
              "       width=\"24px\">\n",
              "    <path d=\"M0 0h24v24H0V0z\" fill=\"none\"/>\n",
              "    <path d=\"M18.56 5.44l.94 2.06.94-2.06 2.06-.94-2.06-.94-.94-2.06-.94 2.06-2.06.94zm-11 1L8.5 8.5l.94-2.06 2.06-.94-2.06-.94L8.5 2.5l-.94 2.06-2.06.94zm10 10l.94 2.06.94-2.06 2.06-.94-2.06-.94-.94-2.06-.94 2.06-2.06.94z\"/><path d=\"M17.41 7.96l-1.37-1.37c-.4-.4-.92-.59-1.43-.59-.52 0-1.04.2-1.43.59L10.3 9.45l-7.72 7.72c-.78.78-.78 2.05 0 2.83L4 21.41c.39.39.9.59 1.41.59.51 0 1.02-.2 1.41-.59l7.78-7.78 2.81-2.81c.8-.78.8-2.07 0-2.86zM5.41 20L4 18.59l7.72-7.72 1.47 1.35L5.41 20z\"/>\n",
              "  </svg>\n",
              "      </button>\n",
              "      \n",
              "  <style>\n",
              "    .colab-df-container {\n",
              "      display:flex;\n",
              "      flex-wrap:wrap;\n",
              "      gap: 12px;\n",
              "    }\n",
              "\n",
              "    .colab-df-convert {\n",
              "      background-color: #E8F0FE;\n",
              "      border: none;\n",
              "      border-radius: 50%;\n",
              "      cursor: pointer;\n",
              "      display: none;\n",
              "      fill: #1967D2;\n",
              "      height: 32px;\n",
              "      padding: 0 0 0 0;\n",
              "      width: 32px;\n",
              "    }\n",
              "\n",
              "    .colab-df-convert:hover {\n",
              "      background-color: #E2EBFA;\n",
              "      box-shadow: 0px 1px 2px rgba(60, 64, 67, 0.3), 0px 1px 3px 1px rgba(60, 64, 67, 0.15);\n",
              "      fill: #174EA6;\n",
              "    }\n",
              "\n",
              "    [theme=dark] .colab-df-convert {\n",
              "      background-color: #3B4455;\n",
              "      fill: #D2E3FC;\n",
              "    }\n",
              "\n",
              "    [theme=dark] .colab-df-convert:hover {\n",
              "      background-color: #434B5C;\n",
              "      box-shadow: 0px 1px 3px 1px rgba(0, 0, 0, 0.15);\n",
              "      filter: drop-shadow(0px 1px 2px rgba(0, 0, 0, 0.3));\n",
              "      fill: #FFFFFF;\n",
              "    }\n",
              "  </style>\n",
              "\n",
              "      <script>\n",
              "        const buttonEl =\n",
              "          document.querySelector('#df-a56e43ca-5e7e-4973-b5eb-20979a431ec4 button.colab-df-convert');\n",
              "        buttonEl.style.display =\n",
              "          google.colab.kernel.accessAllowed ? 'block' : 'none';\n",
              "\n",
              "        async function convertToInteractive(key) {\n",
              "          const element = document.querySelector('#df-a56e43ca-5e7e-4973-b5eb-20979a431ec4');\n",
              "          const dataTable =\n",
              "            await google.colab.kernel.invokeFunction('convertToInteractive',\n",
              "                                                     [key], {});\n",
              "          if (!dataTable) return;\n",
              "\n",
              "          const docLinkHtml = 'Like what you see? Visit the ' +\n",
              "            '<a target=\"_blank\" href=https://colab.research.google.com/notebooks/data_table.ipynb>data table notebook</a>'\n",
              "            + ' to learn more about interactive tables.';\n",
              "          element.innerHTML = '';\n",
              "          dataTable['output_type'] = 'display_data';\n",
              "          await google.colab.output.renderOutput(dataTable, element);\n",
              "          const docLink = document.createElement('div');\n",
              "          docLink.innerHTML = docLinkHtml;\n",
              "          element.appendChild(docLink);\n",
              "        }\n",
              "      </script>\n",
              "    </div>\n",
              "  </div>\n",
              "  "
            ]
          },
          "metadata": {},
          "execution_count": 1
        }
      ],
      "source": [
        "import numpy as np\n",
        "import pandas as pd\n",
        "\n",
        "# Colab의 출력을 소수점 이하 3자리로 제한\n",
        "%precision 3\n",
        "# Pandas DataFrame의 출력을 소수점 이하 3자리로 제한\n",
        "pd.set_option('precision', 3)\n",
        "\n",
        "en_scores = [42, 69, 56, 41, 57, 48, 65, 49, 65, 58]\n",
        "ma_scores = [65, 80, 63, 63, 76, 60, 81, 66, 82, 78]\n",
        "\n",
        "scores_df = pd.DataFrame(\n",
        "    {\n",
        "        'english': en_scores,\n",
        "        'mathematics': ma_scores\n",
        "    },\n",
        "    index=pd.Index(\n",
        "        [\n",
        "            'A', 'B', 'C', 'D', 'E',\n",
        "            'F', 'G', 'H', 'I', 'J'\n",
        "        ],\n",
        "        name='student'\n",
        "    )\n",
        ")\n",
        "\n",
        "scores_df"
      ]
    },
    {
      "cell_type": "markdown",
      "source": [
        "상관관계란?\n",
        "- 영어점수가 높은 학생일수록 수학 점수도 높은 경향이 있을 때\n",
        "  - 영어 점수와 수학 점수가 양의 상관관계에 있다\n",
        "- 영어 점수가 높은 학생일수록 수학 점수는 낮은 경향을 보일 때\n",
        "  - 영어 점수와 수학 점수가 음의 상관관계에 있다\n",
        "- 영어점수와수학점수가서로직접적인영향을미치지않을때\n",
        "  - 영어 점수와 수학 점수가 무상관관계에 있다\n"
      ],
      "metadata": {
        "id": "xu7VRliN1GKb"
      }
    },
    {
      "cell_type": "markdown",
      "source": [
        "## 공분산\n",
        "\n",
        "- 영어 점수와 수학 점수의 분포가  \n",
        "  상관관계가 있어보일 때 이를 수치화하기 위한 지표  \n",
        "- 분산과 비슷한 지표\n",
        "\n",
        "  ![스크린샷 2022-12-19 오후 11 42 51](https://user-images.githubusercontent.com/96982072/208451333-21ec495a-dc34-4c7b-84cc-fc5559898008.png)\n"
      ],
      "metadata": {
        "id": "TXK3z0KF1bhl"
      }
    },
    {
      "cell_type": "markdown",
      "source": [
        "\n",
        "## 공분산 계산 방법\n",
        "\n",
        "- 직사각형의 가로 길이: 영어 점수의 편차  \n",
        "- 직사각형의 세로 길이: 수학 점수의 편차\n",
        "- 우측의 면적 값들의 총합의 평균\n",
        "  $$ Cov(X,Y) = {\\sum{(X_i - \\bar{X})(Y_j - \\bar{Y})} \\over {n}}$$\n",
        "\n",
        "- 특징\n",
        "  - 가로축과 세로축의 데이터가 달라서, 한쪽의 편차는 양이고,  \n",
        "  한쪽의 편차는 음이라면 면적이 음의 값으로 나오는 경우가 가능하다.  \n",
        "  \n",
        "  ![스크린샷 2022-12-19 오후 11 47 41](https://user-images.githubusercontent.com/96982072/208452337-44fe96e6-72a5-4472-b3ee-16690c077234.png)\n",
        "\n",
        "\n"
      ],
      "metadata": {
        "id": "dX2QH_jC276U"
      }
    },
    {
      "cell_type": "code",
      "source": [
        "# 공분산 계산 방법 (직접 계산)\n",
        "\n",
        "# 1.각 데이터 건별로 영어 점수의 편차와 수학 점수의 편차를 계산 후 곱한다.\n",
        "\n",
        "summary_df = scores_df.copy()\n",
        "summary_df['english_deviation'] = \\\n",
        "    summary_df['english'] - summary_df['mathematics'].mean()\n",
        "summary_df['mathematics_deviation'] = \\\n",
        "    summary_df['mathematics'] - summary_df['mathematics'].mean()\n",
        "summary_df['product of deviations'] = \\\n",
        "    summary_df['english_deviation'] * summary_df['mathematics_deviation']\n",
        "summary_df"
      ],
      "metadata": {
        "colab": {
          "base_uri": "https://localhost:8080/",
          "height": 394
        },
        "id": "ivskR_XH1D6J",
        "outputId": "a39393fa-7cca-421f-ae65-e50d5f43d84b"
      },
      "execution_count": 3,
      "outputs": [
        {
          "output_type": "execute_result",
          "data": {
            "text/plain": [
              "         english  mathematics  english_deviation  mathematics_deviation  \\\n",
              "student                                                                   \n",
              "A             42           65              -29.4                   -6.4   \n",
              "B             69           80               -2.4                    8.6   \n",
              "C             56           63              -15.4                   -8.4   \n",
              "D             41           63              -30.4                   -8.4   \n",
              "E             57           76              -14.4                    4.6   \n",
              "F             48           60              -23.4                  -11.4   \n",
              "G             65           81               -6.4                    9.6   \n",
              "H             49           66              -22.4                   -5.4   \n",
              "I             65           82               -6.4                   10.6   \n",
              "J             58           78              -13.4                    6.6   \n",
              "\n",
              "         product of deviations  \n",
              "student                         \n",
              "A                       188.16  \n",
              "B                       -20.64  \n",
              "C                       129.36  \n",
              "D                       255.36  \n",
              "E                       -66.24  \n",
              "F                       266.76  \n",
              "G                       -61.44  \n",
              "H                       120.96  \n",
              "I                       -67.84  \n",
              "J                       -88.44  "
            ],
            "text/html": [
              "\n",
              "  <div id=\"df-4da80f55-8d8f-4231-9d9b-2d3ec293bd2d\">\n",
              "    <div class=\"colab-df-container\">\n",
              "      <div>\n",
              "<style scoped>\n",
              "    .dataframe tbody tr th:only-of-type {\n",
              "        vertical-align: middle;\n",
              "    }\n",
              "\n",
              "    .dataframe tbody tr th {\n",
              "        vertical-align: top;\n",
              "    }\n",
              "\n",
              "    .dataframe thead th {\n",
              "        text-align: right;\n",
              "    }\n",
              "</style>\n",
              "<table border=\"1\" class=\"dataframe\">\n",
              "  <thead>\n",
              "    <tr style=\"text-align: right;\">\n",
              "      <th></th>\n",
              "      <th>english</th>\n",
              "      <th>mathematics</th>\n",
              "      <th>english_deviation</th>\n",
              "      <th>mathematics_deviation</th>\n",
              "      <th>product of deviations</th>\n",
              "    </tr>\n",
              "    <tr>\n",
              "      <th>student</th>\n",
              "      <th></th>\n",
              "      <th></th>\n",
              "      <th></th>\n",
              "      <th></th>\n",
              "      <th></th>\n",
              "    </tr>\n",
              "  </thead>\n",
              "  <tbody>\n",
              "    <tr>\n",
              "      <th>A</th>\n",
              "      <td>42</td>\n",
              "      <td>65</td>\n",
              "      <td>-29.4</td>\n",
              "      <td>-6.4</td>\n",
              "      <td>188.16</td>\n",
              "    </tr>\n",
              "    <tr>\n",
              "      <th>B</th>\n",
              "      <td>69</td>\n",
              "      <td>80</td>\n",
              "      <td>-2.4</td>\n",
              "      <td>8.6</td>\n",
              "      <td>-20.64</td>\n",
              "    </tr>\n",
              "    <tr>\n",
              "      <th>C</th>\n",
              "      <td>56</td>\n",
              "      <td>63</td>\n",
              "      <td>-15.4</td>\n",
              "      <td>-8.4</td>\n",
              "      <td>129.36</td>\n",
              "    </tr>\n",
              "    <tr>\n",
              "      <th>D</th>\n",
              "      <td>41</td>\n",
              "      <td>63</td>\n",
              "      <td>-30.4</td>\n",
              "      <td>-8.4</td>\n",
              "      <td>255.36</td>\n",
              "    </tr>\n",
              "    <tr>\n",
              "      <th>E</th>\n",
              "      <td>57</td>\n",
              "      <td>76</td>\n",
              "      <td>-14.4</td>\n",
              "      <td>4.6</td>\n",
              "      <td>-66.24</td>\n",
              "    </tr>\n",
              "    <tr>\n",
              "      <th>F</th>\n",
              "      <td>48</td>\n",
              "      <td>60</td>\n",
              "      <td>-23.4</td>\n",
              "      <td>-11.4</td>\n",
              "      <td>266.76</td>\n",
              "    </tr>\n",
              "    <tr>\n",
              "      <th>G</th>\n",
              "      <td>65</td>\n",
              "      <td>81</td>\n",
              "      <td>-6.4</td>\n",
              "      <td>9.6</td>\n",
              "      <td>-61.44</td>\n",
              "    </tr>\n",
              "    <tr>\n",
              "      <th>H</th>\n",
              "      <td>49</td>\n",
              "      <td>66</td>\n",
              "      <td>-22.4</td>\n",
              "      <td>-5.4</td>\n",
              "      <td>120.96</td>\n",
              "    </tr>\n",
              "    <tr>\n",
              "      <th>I</th>\n",
              "      <td>65</td>\n",
              "      <td>82</td>\n",
              "      <td>-6.4</td>\n",
              "      <td>10.6</td>\n",
              "      <td>-67.84</td>\n",
              "    </tr>\n",
              "    <tr>\n",
              "      <th>J</th>\n",
              "      <td>58</td>\n",
              "      <td>78</td>\n",
              "      <td>-13.4</td>\n",
              "      <td>6.6</td>\n",
              "      <td>-88.44</td>\n",
              "    </tr>\n",
              "  </tbody>\n",
              "</table>\n",
              "</div>\n",
              "      <button class=\"colab-df-convert\" onclick=\"convertToInteractive('df-4da80f55-8d8f-4231-9d9b-2d3ec293bd2d')\"\n",
              "              title=\"Convert this dataframe to an interactive table.\"\n",
              "              style=\"display:none;\">\n",
              "        \n",
              "  <svg xmlns=\"http://www.w3.org/2000/svg\" height=\"24px\"viewBox=\"0 0 24 24\"\n",
              "       width=\"24px\">\n",
              "    <path d=\"M0 0h24v24H0V0z\" fill=\"none\"/>\n",
              "    <path d=\"M18.56 5.44l.94 2.06.94-2.06 2.06-.94-2.06-.94-.94-2.06-.94 2.06-2.06.94zm-11 1L8.5 8.5l.94-2.06 2.06-.94-2.06-.94L8.5 2.5l-.94 2.06-2.06.94zm10 10l.94 2.06.94-2.06 2.06-.94-2.06-.94-.94-2.06-.94 2.06-2.06.94z\"/><path d=\"M17.41 7.96l-1.37-1.37c-.4-.4-.92-.59-1.43-.59-.52 0-1.04.2-1.43.59L10.3 9.45l-7.72 7.72c-.78.78-.78 2.05 0 2.83L4 21.41c.39.39.9.59 1.41.59.51 0 1.02-.2 1.41-.59l7.78-7.78 2.81-2.81c.8-.78.8-2.07 0-2.86zM5.41 20L4 18.59l7.72-7.72 1.47 1.35L5.41 20z\"/>\n",
              "  </svg>\n",
              "      </button>\n",
              "      \n",
              "  <style>\n",
              "    .colab-df-container {\n",
              "      display:flex;\n",
              "      flex-wrap:wrap;\n",
              "      gap: 12px;\n",
              "    }\n",
              "\n",
              "    .colab-df-convert {\n",
              "      background-color: #E8F0FE;\n",
              "      border: none;\n",
              "      border-radius: 50%;\n",
              "      cursor: pointer;\n",
              "      display: none;\n",
              "      fill: #1967D2;\n",
              "      height: 32px;\n",
              "      padding: 0 0 0 0;\n",
              "      width: 32px;\n",
              "    }\n",
              "\n",
              "    .colab-df-convert:hover {\n",
              "      background-color: #E2EBFA;\n",
              "      box-shadow: 0px 1px 2px rgba(60, 64, 67, 0.3), 0px 1px 3px 1px rgba(60, 64, 67, 0.15);\n",
              "      fill: #174EA6;\n",
              "    }\n",
              "\n",
              "    [theme=dark] .colab-df-convert {\n",
              "      background-color: #3B4455;\n",
              "      fill: #D2E3FC;\n",
              "    }\n",
              "\n",
              "    [theme=dark] .colab-df-convert:hover {\n",
              "      background-color: #434B5C;\n",
              "      box-shadow: 0px 1px 3px 1px rgba(0, 0, 0, 0.15);\n",
              "      filter: drop-shadow(0px 1px 2px rgba(0, 0, 0, 0.3));\n",
              "      fill: #FFFFFF;\n",
              "    }\n",
              "  </style>\n",
              "\n",
              "      <script>\n",
              "        const buttonEl =\n",
              "          document.querySelector('#df-4da80f55-8d8f-4231-9d9b-2d3ec293bd2d button.colab-df-convert');\n",
              "        buttonEl.style.display =\n",
              "          google.colab.kernel.accessAllowed ? 'block' : 'none';\n",
              "\n",
              "        async function convertToInteractive(key) {\n",
              "          const element = document.querySelector('#df-4da80f55-8d8f-4231-9d9b-2d3ec293bd2d');\n",
              "          const dataTable =\n",
              "            await google.colab.kernel.invokeFunction('convertToInteractive',\n",
              "                                                     [key], {});\n",
              "          if (!dataTable) return;\n",
              "\n",
              "          const docLinkHtml = 'Like what you see? Visit the ' +\n",
              "            '<a target=\"_blank\" href=https://colab.research.google.com/notebooks/data_table.ipynb>data table notebook</a>'\n",
              "            + ' to learn more about interactive tables.';\n",
              "          element.innerHTML = '';\n",
              "          dataTable['output_type'] = 'display_data';\n",
              "          await google.colab.output.renderOutput(dataTable, element);\n",
              "          const docLink = document.createElement('div');\n",
              "          docLink.innerHTML = docLinkHtml;\n",
              "          element.appendChild(docLink);\n",
              "        }\n",
              "      </script>\n",
              "    </div>\n",
              "  </div>\n",
              "  "
            ]
          },
          "metadata": {},
          "execution_count": 3
        }
      ]
    },
    {
      "cell_type": "code",
      "source": [
        "# 2.영어 및 수학 점수의 편차곱 평균 계산\n",
        "\n",
        "summary_df['product of deviations'].mean()"
      ],
      "metadata": {
        "colab": {
          "base_uri": "https://localhost:8080/"
        },
        "id": "V71iw7FO3jss",
        "outputId": "1f38a8dd-3ef7-435f-a14f-7436406ebc65"
      },
      "execution_count": 4,
      "outputs": [
        {
          "output_type": "execute_result",
          "data": {
            "text/plain": [
              "65.6000000000001"
            ]
          },
          "metadata": {},
          "execution_count": 4
        }
      ]
    },
    {
      "cell_type": "markdown",
      "source": [
        "## 공분산 계산 방법 (Numpy)\n",
        "\n",
        "- numpy.cov()를 활용하여 계산 가능\n",
        "- 다만, 계산 결과값이 단순 공분산이 아닌 ‘공분산행렬(Covariance Matrix)’로 표현\n",
        "- 서로 같은 데이터의 공분산값은 1차원 데이터는 ‘분산’값과 동일하며,  \n",
        "서로 다른 데이터간의 공분산값은 앞서 계산식에 따라 나오게 된다."
      ],
      "metadata": {
        "id": "3mP06QeJ3p5e"
      }
    },
    {
      "cell_type": "code",
      "source": [
        "np.cov(summary_df['english'], summary_df['mathematics'], ddof=0)"
      ],
      "metadata": {
        "colab": {
          "base_uri": "https://localhost:8080/"
        },
        "id": "ZeVgNSrk3nzs",
        "outputId": "b2037a8b-b029-472f-e386-4049c3726ede"
      },
      "execution_count": 5,
      "outputs": [
        {
          "output_type": "execute_result",
          "data": {
            "text/plain": [
              "array([[86.  , 65.6 ],\n",
              "       [65.6 , 68.44]])"
            ]
          },
          "metadata": {},
          "execution_count": 5
        }
      ]
    },
    {
      "cell_type": "code",
      "source": [
        "# 영어 점수의 분산 : 86.000 \n",
        "# 수학 점수의 분산 : 68.440\n",
        "# 수학 점수의 공분산 : 65.600\n",
        "\n",
        "np.var(summary_df['english'], ddof=0), np.var(summary_df['mathematics'], ddof=0)"
      ],
      "metadata": {
        "colab": {
          "base_uri": "https://localhost:8080/"
        },
        "id": "7NWhI7Hf31kV",
        "outputId": "aeda399a-e5c0-473c-cd1a-beef31d25722"
      },
      "execution_count": 6,
      "outputs": [
        {
          "output_type": "execute_result",
          "data": {
            "text/plain": [
              "(86.0, 68.44000000000001)"
            ]
          },
          "metadata": {},
          "execution_count": 6
        }
      ]
    },
    {
      "cell_type": "markdown",
      "source": [
        "## 공분산 해석시 문제점\n",
        "- 시험 점수들 간의 공분산의 단위는 (점수 X 점수)이다.\n",
        "  - 하지만, 학생의 키와 시험 점수의 상관관계를 확인하려면 공분산의 단위는 (cm X 점수)이다. \n",
        "- 즉, 분산과 마찬가지로 공분산의 이런 단위는 직감적인 이해를 어렵게 만든다.\n",
        "  - 단위에 의존하지 않는 상관을 나타내는 지표가 필요 (=> 상관계수)"
      ],
      "metadata": {
        "id": "jgjEYMuS4JSk"
      }
    },
    {
      "cell_type": "markdown",
      "source": [
        "## 상관계수 (Correlation Coefficient)\n",
        "\n",
        "- 공분산 값에서 단위에 의존하지 않도록 각 데이터의 단위인 표준편차를 나누어준 값\n",
        "\n",
        "$$ r_{xy} = {S_{xy} \\over S_x S_y} = {1 \\over n} \\sum^n_{i=1}({x_i - \\bar{x} \\over S_x})({y_i - \\bar{y} \\over S_y}) $$\n",
        "\n",
        "- 이와 같이 정의된 지표 $r_{xy}$를 상관계수(Correlation Coefficient)라고 한다\n",
        "\n",
        "\n"
      ],
      "metadata": {
        "id": "76DGVMYY4SmR"
      }
    },
    {
      "cell_type": "markdown",
      "source": [
        "## 상관계수의 특징\n",
        "- 상관계수는 반드시 -1에서 1 사이의 값을 가진다\n",
        "- 데이터 간 양의 상관관계의 형태를 보이면 상관계수는\n",
        "1에 가깝고,  \n",
        "음의 상관관계의 형태를 보이면 상관계수는 -1에 가까운 값을 가진다\n",
        "- 데이터가 정확히 1 혹은 -1이라면 데이터가 완전히 직선상에 놓인다"
      ],
      "metadata": {
        "id": "I6iNILyf5GZf"
      }
    },
    {
      "cell_type": "code",
      "source": [],
      "metadata": {
        "id": "W00HKnQT36rF"
      },
      "execution_count": null,
      "outputs": []
    }
  ]
}