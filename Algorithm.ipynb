{
  "nbformat": 4,
  "nbformat_minor": 0,
  "metadata": {
    "colab": {
      "provenance": [],
      "collapsed_sections": [],
      "authorship_tag": "ABX9TyNDZdYGjnxcszpNUGhKj/WE",
      "include_colab_link": true
    },
    "kernelspec": {
      "name": "python3",
      "display_name": "Python 3"
    },
    "language_info": {
      "name": "python"
    }
  },
  "cells": [
    {
      "cell_type": "markdown",
      "metadata": {
        "id": "view-in-github",
        "colab_type": "text"
      },
      "source": [
        "<a href=\"https://colab.research.google.com/github/Zamoca42/TIL/blob/main/Algorithm.ipynb\" target=\"_parent\"><img src=\"https://colab.research.google.com/assets/colab-badge.svg\" alt=\"Open In Colab\"/></a>"
      ]
    },
    {
      "cell_type": "markdown",
      "source": [
        "\n",
        "# 알고리즘의 효율성\n",
        "\n",
        "* 알고리즘의 성능 : 시간과 공간 사용량의 효율성\n",
        "* 알고리즘의 성능은 컴퓨터 실행속도나 메모리의 가격에 무관\n",
        "\n",
        "\n",
        "## 순차 탐색 vs 이분 검색\n",
        "\n",
        "  *   정렬되지 않은 리스트 -> 순차 탐색\n",
        "  *   정렬된 리스트 -> 이분 검색"
      ],
      "metadata": {
        "id": "hI03bjMXSufh"
      }
    },
    {
      "cell_type": "markdown",
      "source": [
        "*  이분검색\n",
        "  1. 주어진 리스트 S와 키 x에 대해서\n",
        "  2. 먼저 x를 리스트의 중앙에 위치한 원소와 비교\n",
        "  3. 만약 같으면, 찾았으므로 알고리즘을 종료\n",
        "  4. 만약 x가 그 원소보다 작으면 x는 왼쪽에 있을 것이므로\n",
        "    * 왼쪽 리스트에 대해서 이진 탐색 실행 (재귀 호출)\n",
        "  5. 만약 x가 그 원소보다 크면 x는 오른쪽에 있을 것이므로\n",
        "    * 오른쪽 리스트에 대해서 이진 탐색 실행 (재귀 호출)\n",
        "  6. 더 이상 찾을 리스트가 없으면 알고리즘을 종료\n"
      ],
      "metadata": {
        "id": "7AifQwVeTnF6"
      }
    },
    {
      "cell_type": "code",
      "source": [
        "# Binary Search\n",
        "\n",
        "def binsearch(n, S, x):\n",
        "  low = 1\n",
        "  high = n\n",
        "  location = 0\n",
        "  while (low <= high and location == 0):\n",
        "    mid = (low + high) // 2\n",
        "    print(low, mid, high)\n",
        "    if (x == S[mid]):\n",
        "      location = mid\n",
        "    elif (x < S[mid]):\n",
        "      high = mid - 1\n",
        "    else:\n",
        "      low = mid + 1\n",
        "  return location\n",
        "\n",
        "S = [-1, 5, 7, 8, 10, 11, 13]\n",
        "\n",
        "# x = 2\n",
        "x = 7\n",
        "# x = 13\n",
        "\n",
        "location = binsearch(len(S) - 1, S, x)\n",
        "print('S = ', S)\n",
        "print('x =', x)\n",
        "print('location = ', location)"
      ],
      "metadata": {
        "colab": {
          "base_uri": "https://localhost:8080/"
        },
        "id": "Xk2k8JPFUb-7",
        "outputId": "9a787340-ab45-4f71-ba51-562e2e876141"
      },
      "execution_count": 6,
      "outputs": [
        {
          "output_type": "stream",
          "name": "stdout",
          "text": [
            "1 3 6\n",
            "1 1 2\n",
            "2 2 2\n",
            "S =  [-1, 5, 7, 8, 10, 11, 13]\n",
            "x = 7\n",
            "location =  2\n"
          ]
        }
      ]
    },
    {
      "cell_type": "markdown",
      "source": [
        "\n",
        "## 순차 탐색과 이분 검색 알고리즘의 효율성 비교\n",
        "\n",
        "|리스트의 크기|순차 탐색의 비교 횟수|이분 검색의 비교횟수|\n",
        "|:---:|:---:|:---:|\n",
        "|128|128|8|\n",
        "|1,024|1,024|11|\n",
        "|1,048,576|1,048,576|21|\n",
        "|4,294,987,296|4,294,987,296|33|\n",
        "\n"
      ],
      "metadata": {
        "id": "I6Mb1ObgcbAT"
      }
    },
    {
      "cell_type": "code",
      "source": [],
      "metadata": {
        "id": "ZaEN5wipYb2G"
      },
      "execution_count": null,
      "outputs": []
    }
  ]
}