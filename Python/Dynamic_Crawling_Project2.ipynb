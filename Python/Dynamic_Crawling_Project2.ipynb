{
  "nbformat": 4,
  "nbformat_minor": 0,
  "metadata": {
    "colab": {
      "provenance": [],
      "authorship_tag": "ABX9TyMs6x48y0wt8UuWK9Pau8XL",
      "include_colab_link": true
    },
    "kernelspec": {
      "name": "python3",
      "display_name": "Python 3"
    },
    "language_info": {
      "name": "python"
    }
  },
  "cells": [
    {
      "cell_type": "markdown",
      "metadata": {
        "id": "view-in-github",
        "colab_type": "text"
      },
      "source": [
        "<a href=\"https://colab.research.google.com/github/Zamoca42/TIL/blob/main/Python/Dynamic_Crawling_Project2.ipynb\" target=\"_parent\"><img src=\"https://colab.research.google.com/assets/colab-badge.svg\" alt=\"Open In Colab\"/></a>"
      ]
    },
    {
      "cell_type": "markdown",
      "source": [
        "# 동적 크롤링2 - 네이버 쇼핑 구매하기"
      ],
      "metadata": {
        "id": "z5VZCvtnXRDq"
      }
    },
    {
      "cell_type": "markdown",
      "source": [
        "## 소개 및 로그인\n"
      ],
      "metadata": {
        "id": "KVQ59Gt7XWzw"
      }
    },
    {
      "cell_type": "markdown",
      "source": [
        "### 라이브러리"
      ],
      "metadata": {
        "id": "4iAHIPylXzw_"
      }
    },
    {
      "cell_type": "markdown",
      "source": [
        "1. 셀레니움\n",
        "  - By\n",
        "  - WebDriverWait\n",
        "  - expected_conditions\n",
        "  - Keys\n",
        "  \n",
        "2. pyperclip\n",
        "  - 클립보드에 있는 내용을 복사\n"
      ],
      "metadata": {
        "id": "hu6_8CD2X2SO"
      }
    },
    {
      "cell_type": "code",
      "source": [
        "import time\n",
        "import pyperclip\n",
        "from selenium import webdriver\n",
        "from selenium.webdriver.common.by import By\n",
        "from selenium.webdriver.support.ui import WebDriverWait\n",
        "from selenium.webdriver.support import expected_conditions as EC\n",
        "from selenium.webdriver.common.keys import Keys"
      ],
      "metadata": {
        "id": "_NZkhF77Xyza"
      },
      "execution_count": null,
      "outputs": []
    },
    {
      "cell_type": "markdown",
      "source": [
        "### 강의와 다른 변경점\n",
        "\n",
        "- 셀레니움 4.x에서 webdriver를 패키지로 가져와서 자동 업데이트 가능"
      ],
      "metadata": {
        "id": "2IKuo5lTYTdB"
      }
    },
    {
      "cell_type": "code",
      "source": [
        "# 드라이버 자동 업데이트\n",
        "# pip install webdriver_manager\n",
        "from selenium.webdriver.chrome.service import Service\n",
        "from webdriver_manager.chrome import ChromeDriverManager"
      ],
      "metadata": {
        "id": "ar8_-Y7zYf33"
      },
      "execution_count": null,
      "outputs": []
    },
    {
      "cell_type": "markdown",
      "source": [
        "### 옵션 및 Wait 설정"
      ],
      "metadata": {
        "id": "SUtOl-NGYmPj"
      }
    },
    {
      "cell_type": "code",
      "source": [
        "options = webdriver.ChromeOptions()\n",
        "options.add_argument(\"no-sandbox\")\n",
        "chrome = webdriver.Chrome(service=Service(ChromeDriverManager().install()), options=options)\n",
        "\n",
        "wait = WebDriverWait(chrome, 10)\n",
        "short_wait = WebDriverWait(chrome, 3)"
      ],
      "metadata": {
        "id": "VDnHkVCQYrM_"
      },
      "execution_count": null,
      "outputs": []
    },
    {
      "cell_type": "markdown",
      "source": [
        "### 로그인하기"
      ],
      "metadata": {
        "id": "m14oHVDuYzqu"
      }
    },
    {
      "cell_type": "markdown",
      "source": [
        "- Explicity waits에 CSS_SELECTOR를 자주 사용하므로 `find`함수로 정의\n",
        "\n",
        "- F12를 눌러 로그인 버튼에 해당하는 class를 찾아서 로그인 페이지로 이동\n",
        "\n",
        "- ID와 PW에 해당하는 input을 찾음"
      ],
      "metadata": {
        "id": "k-TC2YClY6RK"
      }
    },
    {
      "cell_type": "code",
      "source": [
        "chrome.get(\"https://shopping.naver.com/home\")\n",
        "\n",
        "def find(wait,css_selector, selector = By.CSS_SELECTOR):\n",
        "    return wait.until(EC.presence_of_element_located((selector, css_selector)))\n",
        "# login_button = wait.until(EC.presence_of_element_located((By.CSS_SELECTOR, \"a#gnb_login_button\")))\n",
        "login_button = find(wait,\"a#gnb_login_button\").click()\n",
        "\n",
        "# input_id = wait.until(EC.visibility_of_element_located((By.CSS_SELECTOR,\"input#id\")))\n",
        "input_id = find(wait,\"input#id\")\n",
        "# input_pw = wait.until(EC.visibility_of_element_located((By.CSS_SELECTOR,\"input#pw\")))\n",
        "input_pw = find(wait,\"input#pw\")"
      ],
      "metadata": {
        "id": "pCybFPQ7Y1cd"
      },
      "execution_count": null,
      "outputs": []
    },
    {
      "cell_type": "markdown",
      "source": [
        "- send_keys를 이용한 로그인은 자동로그인 방지(리캡챠)가 뜸"
      ],
      "metadata": {
        "id": "9j-xtmyeZo3H"
      }
    },
    {
      "cell_type": "code",
      "source": [
        "input_id.send_keys(\"naver-id\")\n",
        "input_pw.send_keys(\"naver-password\")\n",
        "input_pw.send_keys(\"\\n\") # 엔터로 로그인"
      ],
      "metadata": {
        "id": "7uCzxuHgZlMx"
      },
      "execution_count": null,
      "outputs": []
    },
    {
      "cell_type": "markdown",
      "source": [
        "- 클립보드를 이용한 방법은 자동로그인을 피할 수 있음\n",
        "  - pyperclip 이용"
      ],
      "metadata": {
        "id": "MN_rdhO-Z1xe"
      }
    },
    {
      "cell_type": "markdown",
      "source": [
        "- `input_id.send_keys(Keys.COMMAND, \"v\")`을 이용해서\n",
        "클립보드에 복사 - 붙여넣기 식으로 아이디, 비밀번호 입력"
      ],
      "metadata": {
        "id": "BC1hY6paaKHo"
      }
    },
    {
      "cell_type": "code",
      "source": [
        "# pip3 install pyperclip\n",
        "\n",
        "pyperclip.copy(\"naver-id\")\n",
        "input_id.send_keys(Keys.COMMAND, \"v\") # mac\n",
        "\n",
        "pyperclip.copy(\"naver-password\")\n",
        "input_pw.send_keys(Keys.COMMAND, \"v\")\n",
        "input_pw.send_keys(\"\\n\") # 엔터"
      ],
      "metadata": {
        "id": "s-qOIT8-Zm1g"
      },
      "execution_count": null,
      "outputs": []
    },
    {
      "cell_type": "markdown",
      "source": [
        "- 2023.1.19 기준 자주사용하는 기기를 등록하겠냐는 페이지가 나타남\n",
        "  - 등록 안함을 선택"
      ],
      "metadata": {
        "id": "B_Wz79YPadHV"
      }
    },
    {
      "cell_type": "code",
      "source": [
        "# 자주사용하는 기기 등록안함\n",
        "dontsave = find(wait,\"a#new\\.dontsave\").click()"
      ],
      "metadata": {
        "id": "Cjbr42L1acL8"
      },
      "execution_count": null,
      "outputs": []
    },
    {
      "cell_type": "markdown",
      "source": [
        "## 상품 검색 및 출력"
      ],
      "metadata": {
        "id": "RbK8VvZPXm7j"
      }
    },
    {
      "cell_type": "markdown",
      "source": [
        "### 명령어 입력창 찾기 방법 1\n",
        "\n",
        "- 상품 검색을 위해 키워드를 입력할 input type을 찾음\n",
        "\n",
        "  ```html\n",
        "  <input type=\"text\"  class=\"_searchInput_search_text_fSuJ6\" title=\"검색어   입력\" value=\"\">\n",
        "  ```\n",
        "  - class의 `class=\"_searchInput_search_text_fSuJ6\"` text 뒤의 글자는 무작위로 변경할 수 있음\n",
        "    - 앞의 내용만으로 class의 선택자를 가져옴"
      ],
      "metadata": {
        "id": "4j6weCIcat83"
      }
    },
    {
      "cell_type": "code",
      "source": [
        "# 상품 검색\n",
        "search = find(wait, \"input[class^=_searchInput_search_text_\")\n",
        "search.send_keys(\"아이폰 케이스\")\n",
        "time.sleep(1)\n",
        "search.send_keys(\"\\n\")"
      ],
      "metadata": {
        "id": "hyAROQIFavge"
      },
      "execution_count": null,
      "outputs": []
    },
    {
      "cell_type": "markdown",
      "source": [
        "### 명령어 입력창 찾기 방법 2\n",
        "- XPATH를 이용하여 `title = \"검색어 입력\"`인 부분을 찾기"
      ],
      "metadata": {
        "id": "GnuDmUPwbg-N"
      }
    },
    {
      "cell_type": "code",
      "source": [
        "search = find(wait, \"//input[@title='검색어 입력']\", By.XPATH)\n",
        "search.send_keys(\"아이폰 케이스\")\n",
        "time.sleep(1)\n",
        "search.send_keys(\"\\n\")"
      ],
      "metadata": {
        "id": "qZO_FuRWbuZT"
      },
      "execution_count": null,
      "outputs": []
    },
    {
      "cell_type": "markdown",
      "source": [
        "## 상품 검색 결과 및 무한 스크롤"
      ],
      "metadata": {
        "id": "Xm1X1EF7XpYt"
      }
    },
    {
      "cell_type": "markdown",
      "source": [
        "### 상품 검색 결과\n",
        "\n",
        "- \"아이폰 케이스\"를 검색했을 때 상품 목록을 가져옴\n",
        "- 여러 항목을 가져오기 위해 `find_elements` 와 `for`문 사용\n"
      ],
      "metadata": {
        "id": "ABxeDNzrb_Jp"
      }
    },
    {
      "cell_type": "code",
      "source": [
        "# 상품 목록 노드 찾기\n",
        "find(wait, \"div[class^=basicList_info_area__\")"
      ],
      "metadata": {
        "id": "4ljzJSFpchnA"
      },
      "execution_count": null,
      "outputs": []
    },
    {
      "cell_type": "code",
      "source": [
        "items = chrome.find_elements(By.CSS_SELECTOR, \"a[class^=basicList_link__]\")"
      ],
      "metadata": {
        "id": "4ILgKqnxcxx3"
      },
      "execution_count": null,
      "outputs": []
    },
    {
      "cell_type": "markdown",
      "source": [
        "- 강의 내용에서는 `find_elements_by_css_selector`였지만 셀레니움이 업데이트되면서 노드 검색하는 방법 변경\n",
        "  - `browser.find_elements(By.CSS_SELECTOR, 'css')`"
      ],
      "metadata": {
        "id": "WBNQ19SYc_Z2"
      }
    },
    {
      "cell_type": "code",
      "execution_count": null,
      "metadata": {
        "id": "FkWdB_W1XNA7"
      },
      "outputs": [],
      "source": [
        "# items = chrome.find_elements(By.CSS_SELECTOR, \"div[class^=basicList_info_area__\")\n",
        "items = chrome.find_elements(By.CSS_SELECTOR, \"a[class^=basicList_link__]\")\n",
        "\n",
        "# 상품 이름 가져와보기\n",
        "for item in items:\n",
        "    # 광고빼기\n",
        "    # try:\n",
        "    #     item.find_elements(By.CSS_SELECTOR,\"button[class^=ad_]\")\n",
        "    #     continue\n",
        "    # except:\n",
        "    #     pass\n",
        "    print(item.text)"
      ]
    },
    {
      "cell_type": "markdown",
      "source": [
        "- `find_elements`를 여러번 사용하였을 때 항목을 가져올 수 없었기 때문에 광고를 제외한 항목 가져오기 불가능  \n",
        "\n",
        "  ![스크린샷 2023-01-18 오후 10 44 31](https://user-images.githubusercontent.com/96982072/213210819-ba7b299e-ca22-4b4d-9762-67c3fe77d07e.png)\n"
      ],
      "metadata": {
        "id": "7Cz1aZpBdqml"
      }
    },
    {
      "cell_type": "markdown",
      "source": [
        "- `item.text`를 이용한 결과 항목 다수 출력  \n",
        "  - 항목이 5개 이하\n",
        "\n",
        "  ![스크린샷 2023-01-18 오후 10 04 13](https://user-images.githubusercontent.com/96982072/213211053-f44a7a83-87e3-4d4d-8fa9-375bf1798200.png)\n"
      ],
      "metadata": {
        "id": "uVn8wxKNeBhN"
      }
    },
    {
      "cell_type": "markdown",
      "source": [
        "### 무한 스크롤"
      ],
      "metadata": {
        "id": "vd4NnwGSfXrV"
      }
    },
    {
      "cell_type": "markdown",
      "source": [
        "- 동적인 페이지에서 상품항목이 화면에 보이는만큼 로드함\n",
        "  - 항목이 5개 이하\n",
        "- 여러항목을 가져오기 위해 스크롤로 화면 밑으로 내려 검색결과를 최대한 로드\n",
        "- 스크롤은 자바스크립트 명령어를 실행\n",
        "  - `execute_script()`"
      ],
      "metadata": {
        "id": "ujAk42iwfaYn"
      }
    },
    {
      "cell_type": "code",
      "source": [
        "chrome.execute_script(\"window.scrollBy(0, document.body.scrollHeight)\")"
      ],
      "metadata": {
        "id": "OQZ-w9yHfWy4"
      },
      "execution_count": null,
      "outputs": []
    },
    {
      "cell_type": "markdown",
      "source": [
        "- 이 방법은 스크롤을 끝까지 내리지 못하고 코드를 종료\n",
        "  - 반복문 사용"
      ],
      "metadata": {
        "id": "95-NXI1Jfnd5"
      }
    },
    {
      "cell_type": "code",
      "source": [
        "for i in range(8):\n",
        "    chrome.execute_script(\"window.scrollBy(0, document.body.scrollHeight)\")\n",
        "    time.sleep(1)"
      ],
      "metadata": {
        "id": "PeXi2NXlf3fs"
      },
      "execution_count": null,
      "outputs": []
    },
    {
      "cell_type": "markdown",
      "source": [
        "- 결과\n",
        "\n",
        "  <img width=\"699\" alt=\"스크린샷 2023-01-19 오전 12 28 53\" src=\"https://user-images.githubusercontent.com/96982072/213213456-4ac95df8-b53a-42f6-840c-d5644bcdf4d9.png\">\n",
        "\n",
        "  - 상품 항목이 5개이상으로 늘어남"
      ],
      "metadata": {
        "id": "Vz_L5btrf9Ge"
      }
    },
    {
      "cell_type": "markdown",
      "source": [
        "## 상품 페이지 탭이동"
      ],
      "metadata": {
        "id": "xqk358zKTNpE"
      }
    },
    {
      "cell_type": "markdown",
      "source": [
        "### 상품 클릭"
      ],
      "metadata": {
        "id": "i69JaF4rTTip"
      }
    },
    {
      "cell_type": "markdown",
      "source": [
        "- 검색결과에서 원하는 상품 클릭\n",
        "  - `.click()`\n",
        "- 상품페이지로 이동"
      ],
      "metadata": {
        "id": "fbTqXJIsTd-l"
      }
    },
    {
      "cell_type": "code",
      "source": [
        "wait.until(EC.visibility_of_element_located((By.CSS_SELECTOR,\"a[class^=basicList_link__]\"))).click()"
      ],
      "metadata": {
        "id": "vc5Cc1j0TcsL"
      },
      "execution_count": null,
      "outputs": []
    },
    {
      "cell_type": "code",
      "source": [
        "# 탭\n",
        "print(chrome.title)"
      ],
      "metadata": {
        "id": "CO6QLwvPT8Es"
      },
      "execution_count": null,
      "outputs": []
    },
    {
      "cell_type": "markdown",
      "source": [
        "- 상품페이지로 이동한 뒤 현재탭을 출력해보면  \n",
        "\n",
        "  ![스크린샷 2023-01-19 오후 10 55 54](https://user-images.githubusercontent.com/96982072/213460787-27b5efc2-7336-46c3-b9a9-836a879e3dd4.png)\n",
        "\n",
        "  - 화면과 다르게 상품페이지가 아닌 검색결과가 나온다는 것을 알 수 있음\n",
        "  - 여기서 구매버튼을 누르는 명령어 실행 시 프로세스상 현재탭이 상품페이지가 아니므로 작동 하지 않음\n",
        "  - 탭을 이동하는 명령어를 사용\n",
        "    - `window_handles`\n",
        "    - `switch_to.window()`\n"
      ],
      "metadata": {
        "id": "Za9MDnPeT9FR"
      }
    },
    {
      "cell_type": "markdown",
      "source": [
        "### 탭 이동"
      ],
      "metadata": {
        "id": "e5aaG1HgWEUY"
      }
    },
    {
      "cell_type": "code",
      "source": [
        "print(chrome.window_handles)"
      ],
      "metadata": {
        "id": "n-DxyhrPUwVn"
      },
      "execution_count": null,
      "outputs": []
    },
    {
      "cell_type": "markdown",
      "source": [
        "- `window_handles`는 현재 열려있는 탭을 리스트로 반환  \n",
        "\n",
        "  ![스크린샷 2023-01-19 오후 10 59 24](https://user-images.githubusercontent.com/96982072/213461604-d9d2ba5b-2c2c-4381-83f3-4a53f3c66941.png)\n",
        "\n",
        "  - `chrome.window_handles[0]` \n",
        "    - 먼저 열린탭 => 검색결과탭\n",
        "  - `chrome.window_handles[1]` \n",
        "    - 나중에 열린탭 => 상품페이지\n"
      ],
      "metadata": {
        "id": "WLYA9M5hUy2C"
      }
    },
    {
      "cell_type": "code",
      "source": [
        "chrome.switch_to.window(chrome.window_handles[1])\n",
        "\n",
        "# 탭\n",
        "print(chrome.title)"
      ],
      "metadata": {
        "id": "Yy__lrR7VW5N"
      },
      "execution_count": null,
      "outputs": []
    },
    {
      "cell_type": "markdown",
      "source": [
        "- `switch_to.window()`를 사용하여 탭을 상품페이지로 이동 후 현재 탭을 출력해보면  \n",
        "\n",
        "  ![스크린샷 2023-01-19 오후 11 02 37](https://user-images.githubusercontent.com/96982072/213462254-70fdded5-8c49-4ba9-9e57-ec7df9617ae0.png)\n",
        "    \n",
        "    - 현재 상품 페이지의 제목이 출력된다\n"
      ],
      "metadata": {
        "id": "RVCJy8tPTa4j"
      }
    },
    {
      "cell_type": "markdown",
      "source": [
        "## 최종코드"
      ],
      "metadata": {
        "id": "FYXJ6wa3vZTw"
      }
    },
    {
      "cell_type": "markdown",
      "source": [
        "1. 로그인하기\n",
        "2. 상품 검색\n",
        "3. 상품 목록 가져오기\n",
        "4. 상품페이지 탭 이동\n",
        "5. 옵션선택\n",
        "6. 결제하기 버튼 누르기"
      ],
      "metadata": {
        "id": "rSj_G7PJvaUn"
      }
    },
    {
      "cell_type": "code",
      "source": [
        "import time\n",
        "import pyperclip\n",
        "from selenium import webdriver\n",
        "from selenium.webdriver.common.by import By\n",
        "from selenium.webdriver.support.ui import WebDriverWait\n",
        "from selenium.webdriver.support import expected_conditions as EC\n",
        "from selenium.webdriver.common.keys import Keys\n",
        "\n",
        "# 드라이버 자동 업데이트\n",
        "# pip install webdriver_manager\n",
        "from selenium.webdriver.chrome.service import Service\n",
        "from webdriver_manager.chrome import ChromeDriverManager\n",
        "\n",
        "options = webdriver.ChromeOptions()\n",
        "options.add_argument(\"no-sandbox\")\n",
        "chrome = webdriver.Chrome(service=Service(ChromeDriverManager().install()), options=options)\n",
        "\n",
        "wait = WebDriverWait(chrome, 10)\n",
        "short_wait = WebDriverWait(chrome, 3)\n",
        "\n",
        "chrome.get(\"https://shopping.naver.com/home\")\n",
        "\n",
        "def find(wait,css_selector, selector = By.CSS_SELECTOR):\n",
        "    return wait.until(EC.presence_of_element_located((selector, css_selector)))\n",
        "login_button = find(wait,\"a#gnb_login_button\").click()\n",
        "login_tab = find(wait,\"a#loinid\").click()\n",
        "input_id = find(wait,\"input#id\")\n",
        "input_pw = find(wait,\"input#pw\")\n",
        "\n",
        "# pip3 install pyperclip\n",
        "# send_keys를 이용한 로그인은 자동로그인 방지가 뜸\n",
        "# pyperclip으로 클립보드 복사\n",
        "pyperclip.copy(\"naverid\")\n",
        "input_id.send_keys(Keys.COMMAND, \"v\") # mac\n",
        "\n",
        "pyperclip.copy(\"naverpw\")\n",
        "input_pw.send_keys(Keys.COMMAND, \"v\")\n",
        "input_pw.send_keys(\"\\n\")\n",
        "\n",
        "# 자주사용하는 기기 등록안함\n",
        "dontsave = find(wait,\"a#new\\.dontsave\").click()\n",
        "\n",
        "# 상품 검색\n",
        "search = find(wait, \"input[class^=_searchInput_search_text_\")\n",
        "search.send_keys(\"아이폰 케이스\")\n",
        "time.sleep(1)\n",
        "search.send_keys(\"\\n\")\n",
        "\n",
        "# 상품 목록 가져오기\n",
        "wait.until(EC.visibility_of_element_located((By.CSS_SELECTOR,\"div[class^=basicList_info_area__\")))\n",
        "wait.until(EC.visibility_of_element_located((By.CSS_SELECTOR,\"a[class^=basicList_link__]\"))).click()\n",
        "time.sleep(2)\n",
        "\n",
        "# 상품페이지로 탭 이동\n",
        "chrome.switch_to.window(chrome.window_handles[1])\n",
        "\n",
        "# 옵션 선택\n",
        "find(wait, \"a[aria-haspopup='listbox]\")\n",
        "item_options = chrome.find_elements(By.CSS_SELECTOR, \"a[aria-haspopup='listbox]\")\n",
        "\n",
        "# 첫번째 옵션 클릭\n",
        "item_options[0].click()\n",
        "time.sleep(1)\n",
        "chrome.find_elements(By.CSS_SELECTOR, \"ul[role=listbox] li:nth-child(2) a[role=option]\").click()\n",
        "\n",
        "# 두번째 옵션 클릭\n",
        "item_options[1].click()\n",
        "time.sleep(1)\n",
        "chrome.find_elements(By.CSS_SELECTOR, \"ul[role=listbox] li:nth-child(2) a[role=option]\").click()\n",
        "\n",
        "# 결제하기 버튼 누르기\n",
        "chrome.find_elements(By.CSS_SELECTOR,\"li[class*='N=a:pcs.buy'] a\").click()\n",
        "\n",
        "chrome.quit()"
      ],
      "metadata": {
        "id": "GkSgD7hxvnvw"
      },
      "execution_count": null,
      "outputs": []
    }
  ]
}