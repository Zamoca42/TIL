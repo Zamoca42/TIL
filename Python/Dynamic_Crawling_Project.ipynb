{
  "nbformat": 4,
  "nbformat_minor": 0,
  "metadata": {
    "colab": {
      "provenance": [],
      "authorship_tag": "ABX9TyNTICD2GbCTFuD8r3JxLMM3",
      "include_colab_link": true
    },
    "kernelspec": {
      "name": "python3",
      "display_name": "Python 3"
    },
    "language_info": {
      "name": "python"
    }
  },
  "cells": [
    {
      "cell_type": "markdown",
      "metadata": {
        "id": "view-in-github",
        "colab_type": "text"
      },
      "source": [
        "<a href=\"https://colab.research.google.com/github/Zamoca42/TIL/blob/main/Python/Dynamic_Crawling_Project.ipynb\" target=\"_parent\"><img src=\"https://colab.research.google.com/assets/colab-badge.svg\" alt=\"Open In Colab\"/></a>"
      ]
    },
    {
      "cell_type": "markdown",
      "source": [
        "# 동적 페이지 크롤링"
      ],
      "metadata": {
        "id": "HiPQpxL61N6n"
      }
    },
    {
      "cell_type": "markdown",
      "source": [
        "## 동적 크롤링 챕터에서 배울 내용\n",
        "\n",
        "1. 브라우저, 셀레니움 소개\n",
        "2. 브라우저 원리\n",
        "3. 네이버 쇼핑 검색 및 구매\n",
        "4. 이미지 업로드\n",
        "5. 자주 나는 오류 FAQs 및 한계"
      ],
      "metadata": {
        "id": "2rDigk8I1Q-q"
      }
    },
    {
      "cell_type": "markdown",
      "source": [
        "## 브라우저가 하는 일\n",
        "\n",
        "1. 렌더링\n",
        "  - html문서를 화면에 나타내는 것\n",
        "2. 편의기능\n",
        "  - 북마크 \n",
        "  - 비밀번호 채워주기\n",
        "  - 보안관리\n",
        "  - 동기화\n",
        "  - 개인화"
      ],
      "metadata": {
        "id": "SkVNLC9T1eoN"
      }
    },
    {
      "cell_type": "markdown",
      "source": [
        "### 예시 : 블로그 글 보기/쓰기\n",
        "\n",
        "1. 네이버 접속(렌더링)\n",
        "2. 블로그 버튼 클릭(인터렉션)\n",
        "3. 블로그 페이지 접속(렌더링)\n",
        "4. 블로그 검색(인터렉션)\n",
        "5. 블로그 글 검색(렌더링)\n",
        "\n",
        "</br>\n",
        "\n",
        "1. 블로그 글쓰기 클릭\n",
        "2. 글 입력(제목, 본문, 태그, 사진 등)\n",
        "3. 작성완료 버튼"
      ],
      "metadata": {
        "id": "3WuLYIgq1wGt"
      }
    },
    {
      "cell_type": "markdown",
      "source": [
        "## 셀레니움"
      ],
      "metadata": {
        "id": "trrJW5NJ2TyC"
      }
    },
    {
      "cell_type": "markdown",
      "source": [
        "### 셀레니움이란?\n",
        "\n",
        "- 브라우저 테스팅 툴\n",
        "- 브라우저 원격 조종 툴\n",
        "\n",
        "- 예시 : 페이스북 개발, 무한 스크롤이 잘 작동하는지 테스트?\n",
        "\n",
        "- 사람이 직접 테스트\n",
        "  - QA = 인력이 많이듬, 반복적 작업에 비효율적\n",
        "- 컴퓨터 자동화 테스트 \n",
        "  - 셀레니움 = 인력최소화, 반복적 작업에 매우 효율적"
      ],
      "metadata": {
        "id": "HVL5quNp2Ym5"
      }
    },
    {
      "cell_type": "markdown",
      "source": [
        "### 셀레니움 원리\n",
        "- 디버깅 모드의 브라우저와 TCP 통신, 마치 리모컨"
      ],
      "metadata": {
        "id": "wtadabX93aca"
      }
    },
    {
      "cell_type": "markdown",
      "source": [
        "## 브라우저 원리"
      ],
      "metadata": {
        "id": "pyERZmM33r2A"
      }
    },
    {
      "cell_type": "markdown",
      "source": [
        "### 정적웹사이트 vs 동적 웹사이트\n",
        "\n",
        "- 정적 웹사이트 \n",
        "  - 움직임이 없는, 고정된 웹사이트\n",
        "\n",
        "- 동적 웹사이트\n",
        "  - 움직임이 많음, 다이나믹 웹사이트"
      ],
      "metadata": {
        "id": "yHeBI2ri3vqz"
      }
    },
    {
      "cell_type": "markdown",
      "source": [
        "### 정적 웹사이트\n",
        "\n",
        "1. 데이터가 한번에 담겨져온다\n",
        "2. 중복된 데이터가 잦다\n",
        "3. 드물게 통신한다\n",
        "4. 역사가 오래되어 안정적"
      ],
      "metadata": {
        "id": "oI0OaasN3tjq"
      }
    },
    {
      "cell_type": "markdown",
      "source": [
        "### 동적 웹사이트\n",
        "\n",
        "1. 사이트가 깜빡이지 않는다\n",
        "2. 화면이 한번에 다 로딩되지 않는다\n",
        "  - DOM생성\n",
        "3. javascript가 필수다\n",
        "\n",
        "- 서버 <-> 클라이언트 흐름 및 특징  \n",
        "  1. 데이터가 따로 따로 여러군데서 온다\n",
        "  2. 서버와 자주 통신한다\n",
        "  3. 디자인이 화려하다\n",
        "  4. 기능이 많고 사용성이 편리하다"
      ],
      "metadata": {
        "id": "y0rBDodt5HS-"
      }
    },
    {
      "cell_type": "code",
      "execution_count": null,
      "metadata": {
        "id": "9_8dmkh70-0E"
      },
      "outputs": [],
      "source": []
    }
  ]
}