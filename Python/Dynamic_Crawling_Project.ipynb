{
  "nbformat": 4,
  "nbformat_minor": 0,
  "metadata": {
    "colab": {
      "provenance": [],
      "authorship_tag": "ABX9TyMS3lZzLGIrFqvK7y3CALor",
      "include_colab_link": true
    },
    "kernelspec": {
      "name": "python3",
      "display_name": "Python 3"
    },
    "language_info": {
      "name": "python"
    }
  },
  "cells": [
    {
      "cell_type": "markdown",
      "metadata": {
        "id": "view-in-github",
        "colab_type": "text"
      },
      "source": [
        "<a href=\"https://colab.research.google.com/github/Zamoca42/TIL/blob/main/Python/Dynamic_Crawling_Project.ipynb\" target=\"_parent\"><img src=\"https://colab.research.google.com/assets/colab-badge.svg\" alt=\"Open In Colab\"/></a>"
      ]
    },
    {
      "cell_type": "markdown",
      "source": [
        "# 동적 페이지 크롤링"
      ],
      "metadata": {
        "id": "HiPQpxL61N6n"
      }
    },
    {
      "cell_type": "markdown",
      "source": [
        "## 동적 크롤링 챕터에서 배울 내용\n",
        "\n",
        "1. 브라우저, 셀레니움 소개\n",
        "2. 브라우저 원리\n",
        "3. 네이버 쇼핑 검색 및 구매\n",
        "4. 이미지 업로드\n",
        "5. 자주 나는 오류 FAQs 및 한계"
      ],
      "metadata": {
        "id": "2rDigk8I1Q-q"
      }
    },
    {
      "cell_type": "markdown",
      "source": [
        "## 브라우저가 하는 일\n",
        "\n",
        "1. 렌더링\n",
        "  - html문서를 화면에 나타내는 것\n",
        "2. 편의기능\n",
        "  - 북마크 \n",
        "  - 비밀번호 채워주기\n",
        "  - 보안관리\n",
        "  - 동기화\n",
        "  - 개인화"
      ],
      "metadata": {
        "id": "SkVNLC9T1eoN"
      }
    },
    {
      "cell_type": "markdown",
      "source": [
        "### 예시 : 블로그 글 보기/쓰기\n",
        "\n",
        "1. 네이버 접속(렌더링)\n",
        "2. 블로그 버튼 클릭(인터렉션)\n",
        "3. 블로그 페이지 접속(렌더링)\n",
        "4. 블로그 검색(인터렉션)\n",
        "5. 블로그 글 검색(렌더링)\n",
        "\n",
        "</br>\n",
        "\n",
        "1. 블로그 글쓰기 클릭\n",
        "2. 글 입력(제목, 본문, 태그, 사진 등)\n",
        "3. 작성완료 버튼"
      ],
      "metadata": {
        "id": "3WuLYIgq1wGt"
      }
    },
    {
      "cell_type": "markdown",
      "source": [
        "## 셀레니움"
      ],
      "metadata": {
        "id": "trrJW5NJ2TyC"
      }
    },
    {
      "cell_type": "markdown",
      "source": [
        "### 셀레니움이란?\n",
        "\n",
        "- 브라우저 테스팅 툴\n",
        "- 브라우저 원격 조종 툴\n",
        "\n",
        "- 예시 : 페이스북 개발, 무한 스크롤이 잘 작동하는지 테스트?\n",
        "\n",
        "- 사람이 직접 테스트\n",
        "  - QA = 인력이 많이듬, 반복적 작업에 비효율적\n",
        "- 컴퓨터 자동화 테스트 \n",
        "  - 셀레니움 = 인력최소화, 반복적 작업에 매우 효율적"
      ],
      "metadata": {
        "id": "HVL5quNp2Ym5"
      }
    },
    {
      "cell_type": "markdown",
      "source": [
        "### 셀레니움 원리\n",
        "- 디버깅 모드의 브라우저와 TCP 통신, 마치 리모컨"
      ],
      "metadata": {
        "id": "wtadabX93aca"
      }
    },
    {
      "cell_type": "markdown",
      "source": [
        "## 브라우저 원리"
      ],
      "metadata": {
        "id": "pyERZmM33r2A"
      }
    },
    {
      "cell_type": "markdown",
      "source": [
        "### 정적웹사이트 vs 동적 웹사이트\n",
        "\n",
        "- 정적 웹사이트 \n",
        "  - 움직임이 없는, 고정된 웹사이트\n",
        "\n",
        "- 동적 웹사이트\n",
        "  - 움직임이 많음, 다이나믹 웹사이트"
      ],
      "metadata": {
        "id": "yHeBI2ri3vqz"
      }
    },
    {
      "cell_type": "markdown",
      "source": [
        "### 정적 웹사이트\n",
        "\n",
        "1. 데이터가 한번에 담겨져온다\n",
        "2. 중복된 데이터가 잦다\n",
        "3. 드물게 통신한다\n",
        "4. 역사가 오래되어 안정적"
      ],
      "metadata": {
        "id": "oI0OaasN3tjq"
      }
    },
    {
      "cell_type": "markdown",
      "source": [
        "### 동적 웹사이트\n",
        "\n",
        "1. 사이트가 깜빡이지 않는다\n",
        "2. 화면이 한번에 다 로딩되지 않는다\n",
        "  - DOM생성\n",
        "3. javascript가 필수다\n",
        "\n",
        "- 서버 <-> 클라이언트 흐름 및 특징  \n",
        "  1. 데이터가 따로 따로 여러군데서 온다\n",
        "  2. 서버와 자주 통신한다\n",
        "  3. 디자인이 화려하다\n",
        "  4. 기능이 많고 사용성이 편리하다"
      ],
      "metadata": {
        "id": "y0rBDodt5HS-"
      }
    },
    {
      "cell_type": "markdown",
      "source": [
        "## 네이버 쇼핑 검색하기"
      ],
      "metadata": {
        "id": "YNQ69-doUGg-"
      }
    },
    {
      "cell_type": "markdown",
      "source": [
        "### 페이지 이동"
      ],
      "metadata": {
        "id": "U095obtDUQt1"
      }
    },
    {
      "cell_type": "code",
      "source": [
        "#이 부분은 처음 한번만 실행하면 됌.\n",
        "!pip install selenium\n",
        "!apt-get update\n",
        "!apt install chromium-chromedriver\n",
        "!cp /usr/lib/chromium-browser/chromedriver /usr/bin"
      ],
      "metadata": {
        "id": "hgDv48C193io"
      },
      "execution_count": null,
      "outputs": []
    },
    {
      "cell_type": "code",
      "execution_count": null,
      "metadata": {
        "id": "9_8dmkh70-0E"
      },
      "outputs": [],
      "source": [
        "# -*- coding: UTF-8 -*-\n",
        "import time\n",
        "from selenium import webdriver\n",
        "\n",
        "#Colab에선 웹브라우저 창이 뜨지 않으므로 별도 설정한다.\n",
        " \n",
        "options = webdriver.ChromeOptions()\n",
        "options.add_argument('--headless')        # Head-less 설정\n",
        "options.add_argument('--no-sandbox')\n",
        "options.add_argument('--disable-dev-shm-usage')\n",
        "chrome = webdriver.Chrome('chromedriver', options=options)"
      ]
    },
    {
      "cell_type": "code",
      "source": [
        "#해당 url로 이동\n",
        "url = \"https://www.naver.com/\" \n",
        "\n",
        "chrome.get(url)\n",
        "\n",
        "print(chrome.title)"
      ],
      "metadata": {
        "colab": {
          "base_uri": "https://localhost:8080/"
        },
        "id": "FTKZByQd8pCK",
        "outputId": "cb3ef58b-be48-44ca-82fe-3f589de37887"
      },
      "execution_count": null,
      "outputs": [
        {
          "output_type": "stream",
          "name": "stdout",
          "text": [
            "NAVER\n"
          ]
        }
      ]
    },
    {
      "cell_type": "code",
      "source": [
        "url2 = \"https://shopping.naver.com/\" \n",
        "url = \"https://www.naver.com\"\n",
        "\n",
        "chrome.get(url)\n",
        "chrome.get(url2)\n",
        "chrome.back() # 페이지 뒤로 이동\n",
        "chrome.forward() # 페이지 앞으로 이동\n",
        "time.sleep(3)\n",
        "chrome.close()"
      ],
      "metadata": {
        "id": "xWWPRt-eMyVe"
      },
      "execution_count": null,
      "outputs": []
    },
    {
      "cell_type": "markdown",
      "source": [
        "### 페이지 로딩"
      ],
      "metadata": {
        "id": "a9EMpNtK895X"
      }
    },
    {
      "cell_type": "code",
      "source": [
        "# selenium\n",
        "# ...\n",
        "    def execute(self, driver_command: str, params: dict = None) -> dict:\n",
        "        \"\"\"\n",
        "        Sends a command to be executed by a command.CommandExecutor.\n",
        "\n",
        "        :Args:\n",
        "         - driver_command: The name of the command to execute as a string.\n",
        "         - params: A dictionary of named parameters to send with the command.\n",
        "\n",
        "        :Returns:\n",
        "          The command's JSON response loaded into a dictionary object.\n",
        "        \"\"\"\n",
        "        params = self._wrap_value(params)\n",
        "\n",
        "        if self.session_id:\n",
        "            if not params:\n",
        "                params = {\"sessionId\": self.session_id}\n",
        "            elif \"sessionId\" not in params:\n",
        "                params[\"sessionId\"] = self.session_id\n",
        "\n",
        "        response = self.command_executor.execute(driver_command, params)\n",
        "        if response:\n",
        "            self.error_handler.check_response(response)\n",
        "            response[\"value\"] = self._unwrap_value(response.get(\"value\", None))\n",
        "            return response\n",
        "        # If the server doesn't send a response, assume the command was\n",
        "        # a success\n",
        "        return {\"success\": 0, \"value\": None, \"sessionId\": self.session_id}\n",
        "\n",
        "    def get(self, url: str) -> None:\n",
        "        \"\"\"\n",
        "        Loads a web page in the current browser session.\n",
        "        \"\"\"\n",
        "        self.execute(Command.GET, {\"url\": url})\n"
      ],
      "metadata": {
        "id": "5hdKDxy1L1xi"
      },
      "execution_count": null,
      "outputs": []
    },
    {
      "cell_type": "markdown",
      "source": [
        "- selenium의 get함수 일부\n",
        "  - selenium의 브라우저에 HTTP 요청을 보낸다"
      ],
      "metadata": {
        "id": "MmeZ2vgEL3C6"
      }
    },
    {
      "cell_type": "markdown",
      "source": [
        "### Explicit Waits vs Implicit Waits vs time.sleep\n",
        "\n",
        "- Implicit Waits\n",
        "  - 일정 시간만큼을 기다림 (주로 페이지 로딩 시간을 기다림)\n",
        "  - 페이지가 2초만에 로딩된다면, 10초를 기다리지않고 바로 다음 코드로 넘어감\n",
        "\n",
        "- Explicit Waits\n",
        "  - 조건을 추가하고 조건에 맞춰서 기다림\n",
        "  - 주어진 시간을 넘기면 에러를 띄운다\n",
        "    - NoSuchElementException\n",
        "    - ElementNotVisibleException\n",
        "\n",
        "- time.sleep(10)\n",
        "  - 무조건 10초를 기다림\n"
      ],
      "metadata": {
        "id": "GYIl73Q9UsU0"
      }
    },
    {
      "cell_type": "code",
      "source": [
        "import time\n",
        "from selenium import webdriver\n",
        "from selenium.webdriver.common.by import By\n",
        "from selenium.webdriver.support.ui import WebDriverWait\n",
        "from selenium.webdriver.support import expected_conditions as EC\n",
        "\n",
        "url = \"https://m.shopping.naver.com/home\" \n",
        "\n",
        "chrome.get(url)\n",
        "# 3초 기다림\n",
        "time.sleep(3)\n",
        "# 페이지가 로딩될 때까지 3초간 기다림\n",
        "chrome.implicity_wait(3)\n",
        "\n",
        "chrome.close()"
      ],
      "metadata": {
        "id": "J7gVLHgwWN1C"
      },
      "execution_count": null,
      "outputs": []
    },
    {
      "cell_type": "markdown",
      "source": [
        "- WebDriverWait를 이용한 Explicit Waits\n",
        "  - `WebDriverWait(driver, 10)`\n",
        "    - WebDriverWait을 통해 driver를 \"최대\" 10초동안 기다림\n",
        "  - `.until(EC.presence_of_element_located((By.CSS_SELECTOR, \"input[name=query]\"))`\n",
        "    - CSS_SELECTOR가 \"myDynamicElement\"인 엘리먼트가 나올 때까지\n",
        "  "
      ],
      "metadata": {
        "id": "yrupk-grXOJc"
      }
    },
    {
      "cell_type": "code",
      "source": [
        "# Explicit waits\n",
        "WebDriverWait(chrome, 10).until(EC.presence_of_element_located((By.CSS_SELECTOR, \"input[name=query]\")))"
      ],
      "metadata": {
        "id": "ZF8pd1Y0XAuj"
      },
      "execution_count": null,
      "outputs": []
    },
    {
      "cell_type": "markdown",
      "source": [
        "- CSS_SELECTOR가 `\"input[name=query]\"`인 element가 나올 때까지 최대 10초를 기다린다."
      ],
      "metadata": {
        "id": "JN4lV8SyYCd6"
      }
    },
    {
      "cell_type": "markdown",
      "source": [
        "### Element 찾기\n"
      ],
      "metadata": {
        "id": "mt_N1s319AIc"
      }
    },
    {
      "cell_type": "code",
      "source": [
        "from selenium.webdriver.support import expected_conditions as EC"
      ],
      "metadata": {
        "id": "mDkZtBm2YljY"
      },
      "execution_count": null,
      "outputs": []
    },
    {
      "cell_type": "markdown",
      "source": [
        "- expected_conditions의 속성값\n",
        "  - 속성이름과 값이 튜플 형태\n",
        "  - `alert_is_present()`\n",
        "    - alert의 유무를 체크\n",
        "  - `all_of_expected_conditions(*expected_conditions)`\n",
        "    - 파라미터로 ExpectedConditions 객체를 가변인자로 넣으면 여러 상태를 동시에 체크\n",
        "    - AND 연산자와 비슷\n",
        "  - `any_of_expected_conditions(*expected_conditions)`\n",
        "    - 파라미터로 ExpectedConditions 객체를 가변인자로 넣으면 여러 상태 중 하나만 True일때 True를 반환\n",
        "    - OR 연산자와 비슷\n",
        "  - `element_attribute_to_include(locator, attribute_)`\n",
        "    - 해당 attribute_의 속성이 locator에 포함되어 있는지 체크\n",
        "  - `title_is(title)`\n",
        "    - 페이지 제목을 확인하기 위한 함수\n",
        "    - 현재 페이지 제목이 같다면True를, 아니라면 False를 반환\n",
        "  - `title_contains(title)`\n",
        "    - 페이지 제목을 확인\n",
        "    - 대/소문자를 구분\n",
        "    - 같으면 true, 다르면 false\n",
        "\n",
        "  - `presence_of_element_located(locator)`\n",
        "    - locator로 들어간 element가 DOM에 있는지 확인\n",
        "    - element가 존재하면 true, 없다면 false\n",
        "  \n",
        "  - `presence_of_all_elements_located(locator)`\n",
        "    - locator로 들어간 element가 하나 이상 존재하는지 확인\n",
        "    - 찾는 element들을 리스트로 반환\n",
        "\n",
        "  - `visibility_of(locator)`\n",
        "    - locator로 들어간 element가 보이는지 확인\n",
        "    - hidden등의 속성 값으로 보이지 않는 element들을 체크하는데 사용\n",
        "    - 해당 element가 보인다면 True, 그렇지 않다면 False를 반환\n",
        "  - `visibility_of_element_located(locator)`\n",
        "    - locator로 들어간 element가 보이는지 체크\n",
        "    - DOM에도 있는지 체크\n",
        "  - `invisibility_of_element_located(locator)`\n",
        "    - locator로 들어간 element가 보이지 않다면 true, 보인다면 false"
      ],
      "metadata": {
        "id": "RQWzg0NvYvA3"
      }
    },
    {
      "cell_type": "markdown",
      "source": [
        "- find element\n",
        "  -  셀레늄에서 다양한 방식으로 웹페이지의 요소(element)를 찾을 수 있는 방법중 하나"
      ],
      "metadata": {
        "id": "jfR1ZpbuahrG"
      }
    },
    {
      "cell_type": "markdown",
      "source": [
        "| 단일 element\t| 복수 elements\t| 설명 |\n",
        "| :--- | :--- | :--- |\n",
        "| find_element_by_id |   | 태그의 id값으로 추출|\n",
        "|find_element_by_name|find_elements_by_name|태그의 name값으로 추출|\n",
        "|find_element_by_xpath\t| find_elements_by_xpath\t|태그의 경로로 추출|\n",
        "|find_element_by_link_text |\tfind_elements_by_link_text|\ta태그 텍스트값으로 추출|\n",
        "|find_element_by_partial_link_text\t|find_elements_by_partial_link_text\t|a태그의 자식 텍스트 값을 추출|\n",
        "|find_element_by_tag_name|\tfind_elements_by_tag_name\t|태그 이름으로 추출|\n",
        "|find_element_by_class_name\t|find_elements_by_class_name|\t태그의 클래스명으로 추출|\n",
        "|find_element_by_css_selector\t|find_elements_by_css_selector\t|css선택자로 추출"
      ],
      "metadata": {
        "id": "vIjjpvoIaqLm"
      }
    },
    {
      "cell_type": "markdown",
      "source": [
        "- By\n",
        "  - find element와 같이 웹페이지의 요소를 찾는 방법\n",
        "  - 유지 관리하기 쉬움"
      ],
      "metadata": {
        "id": "lVTsryEVbzcL"
      }
    },
    {
      "cell_type": "markdown",
      "source": [
        "|element(단일) , elements(복수)\t|설명|\n",
        "|:---|:---|\n",
        "|By.ID\t| 태그의 id값으로 추출 |\n",
        "|By.NAME\t| 태그의 name값으로 추출 |\n",
        "|By.XPATH\t| 태그의 경로로 추출 |\n",
        "|By.LINK_TEXT\t| 링크 텍스트값으로 추출 |\n",
        "|By.PARTIAL_LINK_TEXT\t| 링크 텍스트의 자식 텍스트 값을 추출 |\n",
        "|By.TAG_NAME\t| 태그 이름으로 추출 |\n",
        "|By.CLASS_NAME\t| 태그의 클래스명으로 추출 |\n",
        "|By.CSS_SELECTOR\t| css선택자로 추출 |"
      ],
      "metadata": {
        "id": "0L4rTOO7cBfl"
      }
    },
    {
      "cell_type": "markdown",
      "source": [
        "### 최종 코드\n",
        "\n",
        "1. 네이버 쇼핑 페이지에 접속\n",
        "2. \"아이폰 케이스\" 검색어 입력\n",
        "3. 브라우저로 검색 결과를 보여주고 종료"
      ],
      "metadata": {
        "id": "RciAizzqcjZx"
      }
    },
    {
      "cell_type": "code",
      "source": [
        "import time\n",
        "from selenium import webdriver\n",
        "from selenium.webdriver.common.by import By\n",
        "from selenium.webdriver.support.ui import WebDriverWait\n",
        "from selenium.webdriver.support import expected_conditions as EC\n",
        " \n",
        "# 모바일 페이지로 변경\n",
        "mobile_emulation = { \"deviceName\": \"iPhone X\" }\n",
        "options = webdriver.ChromeOptions()\n",
        "# options.add_argument('--headless')        # Head-less 설정\n",
        "# options.add_argument(\"window-size-279,1000\")\n",
        "options.add_argument(\"no-sandbox\")\n",
        "options.add_experimental_option(\"mobileEmulation\", mobile_emulation)\n",
        "# options.add_argument('disable-dev-shm-usage')\n",
        "chrome = webdriver.Chrome('./chromedriver', options=options)\n",
        "\n",
        "#해당 url로 이동\n",
        "url = \"https://m.shopping.naver.com/home\" \n",
        "\n",
        "chrome.get(url)\n",
        "\n",
        "# Explicit waits\n",
        "wait = WebDriverWait(chrome, 10)\n",
        "\n",
        "def find(wait, css_selector):\n",
        "    return wait.until(EC.presence_of_element_located((By.CSS_SELECTOR, css_selector)))\n",
        "\n",
        "search = find(wait, \"input[name=query]\")\n",
        "\n",
        "# 검색어 입력 후 Enter\n",
        "search.send_keys(\"아이폰 케이스\\n\")\n",
        "\n",
        "time.sleep(5)\n",
        "\n",
        "# 버튼 찾아서 클릭\n",
        "# button = find(wait, \"button._gnb_button_search_qteu8.N\\=a\\:scb\\.search\")\n",
        "# button.click()\n",
        "# time.sleep(3)\n",
        "\n",
        "chrome.close()"
      ],
      "metadata": {
        "id": "2iBSO6kAcaQu"
      },
      "execution_count": null,
      "outputs": []
    },
    {
      "cell_type": "markdown",
      "source": [
        "- 검색할 때 버튼의 element를 찾아서 `.click()`을 해줄 수 도 있지만  \n",
        "`send_keys(\"아이폰 케이스\\n\")` 와 같이 `\\n`으로 바로 엔터키를 입력하는 방법으로도 가능 "
      ],
      "metadata": {
        "id": "o2qMgMLAc4mN"
      }
    },
    {
      "cell_type": "markdown",
      "source": [
        "- 출처\n",
        "  - https://unh6uoj.com/crawling/selenium-%EC%83%81%ED%83%9C-%ED%99%95%EC%9D%B8-ExpectedConditions-Class/\n",
        "  - https://pythonblog.co.kr/coding/22/\n",
        "  - https://wkdtjsgur100.github.io/selenium-xpath/\n",
        "  - https://private.tistory.com/127"
      ],
      "metadata": {
        "id": "1bHZgxJtYdsc"
      }
    }
  ]
}