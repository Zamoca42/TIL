{
  "nbformat": 4,
  "nbformat_minor": 0,
  "metadata": {
    "colab": {
      "provenance": [],
      "authorship_tag": "ABX9TyNMRVbmDhOKUnpV5ZAr3syg",
      "include_colab_link": true
    },
    "kernelspec": {
      "name": "python3",
      "display_name": "Python 3"
    },
    "language_info": {
      "name": "python"
    }
  },
  "cells": [
    {
      "cell_type": "markdown",
      "metadata": {
        "id": "view-in-github",
        "colab_type": "text"
      },
      "source": [
        "<a href=\"https://colab.research.google.com/github/Zamoca42/TIL/blob/main/Python/Static_Page_Crawling.ipynb\" target=\"_parent\"><img src=\"https://colab.research.google.com/assets/colab-badge.svg\" alt=\"Open In Colab\"/></a>"
      ]
    },
    {
      "cell_type": "markdown",
      "source": [
        "# 정적 크롤링"
      ],
      "metadata": {
        "id": "WbvAqm9dmsU3"
      }
    },
    {
      "cell_type": "markdown",
      "source": [
        "## Requests 라이브러리\n",
        "\n",
        "- https://requests.readthedocs.io/en/latest/"
      ],
      "metadata": {
        "id": "Y7lDN0bwieSO"
      }
    },
    {
      "cell_type": "markdown",
      "source": [
        "## Requests 주요함수\n",
        "\n",
        "- get()\n",
        "- post()\n",
        "- put()\n",
        "- delete()\n",
        "\n",
        "- text\n",
        "- json()"
      ],
      "metadata": {
        "id": "YqASObihi6lP"
      }
    },
    {
      "cell_type": "code",
      "execution_count": 8,
      "metadata": {
        "id": "jSQ88bcDfLis"
      },
      "outputs": [],
      "source": [
        "import requests as req"
      ]
    },
    {
      "cell_type": "code",
      "source": [
        "res = req.get(\"https://www.naver.com/\")\n",
        "res"
      ],
      "metadata": {
        "colab": {
          "base_uri": "https://localhost:8080/"
        },
        "id": "TzFv3ns2fuEi",
        "outputId": "494a1e2f-2886-430e-fd17-a53bc952ee3d"
      },
      "execution_count": 9,
      "outputs": [
        {
          "output_type": "execute_result",
          "data": {
            "text/plain": [
              "<Response [200]>"
            ]
          },
          "metadata": {},
          "execution_count": 9
        }
      ]
    },
    {
      "cell_type": "code",
      "source": [
        "print(res.text)"
      ],
      "metadata": {
        "id": "h-NrZaRTkaj3"
      },
      "execution_count": null,
      "outputs": []
    },
    {
      "cell_type": "markdown",
      "source": [
        "```\n",
        "GET / HTTP/1.1  \n",
        "Host: www.naver.com  \n",
        "```"
      ],
      "metadata": {
        "id": "ksqQGidhkNVA"
      }
    },
    {
      "cell_type": "markdown",
      "source": [
        "## GET 접속해보기"
      ],
      "metadata": {
        "id": "7u7EhtIBmqUS"
      }
    },
    {
      "cell_type": "code",
      "source": [
        "res = req.get(\"https://api.ipify.org/\")\n",
        "print(res.status_code)\n",
        "print(res.text)"
      ],
      "metadata": {
        "id": "iViRDfqmoK3J"
      },
      "execution_count": null,
      "outputs": []
    },
    {
      "cell_type": "code",
      "source": [
        "res.request.method"
      ],
      "metadata": {
        "colab": {
          "base_uri": "https://localhost:8080/",
          "height": 36
        },
        "id": "gYsUS3vTos4G",
        "outputId": "17444b05-44cf-4e5a-fc04-62ed04ad4d2a"
      },
      "execution_count": 11,
      "outputs": [
        {
          "output_type": "execute_result",
          "data": {
            "text/plain": [
              "'GET'"
            ],
            "application/vnd.google.colaboratory.intrinsic+json": {
              "type": "string"
            }
          },
          "metadata": {},
          "execution_count": 11
        }
      ]
    },
    {
      "cell_type": "code",
      "source": [
        "res.request.headers"
      ],
      "metadata": {
        "colab": {
          "base_uri": "https://localhost:8080/"
        },
        "id": "nQVbMtb7q_KD",
        "outputId": "56414b64-bbb3-49c6-bcfb-65c64b7ed9f4"
      },
      "execution_count": 12,
      "outputs": [
        {
          "output_type": "execute_result",
          "data": {
            "text/plain": [
              "{'User-Agent': 'python-requests/2.25.1', 'Accept-Encoding': 'gzip, deflate', 'Accept': '*/*', 'Connection': 'keep-alive'}"
            ]
          },
          "metadata": {},
          "execution_count": 12
        }
      ]
    },
    {
      "cell_type": "code",
      "source": [
        "res = req.get(\"https://api.ipify.org/\", headers={\"fast\": \"campus\"})\n",
        "res.request.headers"
      ],
      "metadata": {
        "colab": {
          "base_uri": "https://localhost:8080/"
        },
        "id": "ZmVWiqMQrA1t",
        "outputId": "66b2156a-b19c-438a-d217-36d49d5c9c16"
      },
      "execution_count": 13,
      "outputs": [
        {
          "output_type": "execute_result",
          "data": {
            "text/plain": [
              "{'User-Agent': 'python-requests/2.25.1', 'Accept-Encoding': 'gzip, deflate', 'Accept': '*/*', 'Connection': 'keep-alive', 'fast': 'campus'}"
            ]
          },
          "metadata": {},
          "execution_count": 13
        }
      ]
    },
    {
      "cell_type": "code",
      "source": [
        "res.elapsed"
      ],
      "metadata": {
        "colab": {
          "base_uri": "https://localhost:8080/"
        },
        "id": "BhgYaOCMrTMK",
        "outputId": "9d7228ce-0186-4173-f302-233029194754"
      },
      "execution_count": 14,
      "outputs": [
        {
          "output_type": "execute_result",
          "data": {
            "text/plain": [
              "datetime.timedelta(seconds=3, microseconds=171207)"
            ]
          },
          "metadata": {},
          "execution_count": 14
        }
      ]
    },
    {
      "cell_type": "code",
      "source": [
        "res.raw"
      ],
      "metadata": {
        "colab": {
          "base_uri": "https://localhost:8080/"
        },
        "id": "epS_ngL6tIeR",
        "outputId": "cfc06680-43c7-4688-e001-1a4566f57258"
      },
      "execution_count": 15,
      "outputs": [
        {
          "output_type": "execute_result",
          "data": {
            "text/plain": [
              "<urllib3.response.HTTPResponse at 0x7f8a0b3285b0>"
            ]
          },
          "metadata": {},
          "execution_count": 15
        }
      ]
    },
    {
      "cell_type": "code",
      "source": [],
      "metadata": {
        "id": "zpEBSSo3tJsP"
      },
      "execution_count": null,
      "outputs": []
    }
  ]
}