{
  "nbformat": 4,
  "nbformat_minor": 0,
  "metadata": {
    "colab": {
      "provenance": [],
      "authorship_tag": "ABX9TyMhXv2ZWjw2GhTn1azgCsiZ",
      "include_colab_link": true
    },
    "kernelspec": {
      "name": "python3",
      "display_name": "Python 3"
    },
    "language_info": {
      "name": "python"
    }
  },
  "cells": [
    {
      "cell_type": "markdown",
      "metadata": {
        "id": "view-in-github",
        "colab_type": "text"
      },
      "source": [
        "<a href=\"https://colab.research.google.com/github/Zamoca42/TIL/blob/main/Python/Static_Page_Crawling.ipynb\" target=\"_parent\"><img src=\"https://colab.research.google.com/assets/colab-badge.svg\" alt=\"Open In Colab\"/></a>"
      ]
    },
    {
      "cell_type": "markdown",
      "source": [
        "# 정적 크롤링"
      ],
      "metadata": {
        "id": "WbvAqm9dmsU3"
      }
    },
    {
      "cell_type": "markdown",
      "source": [
        "## Requests 라이브러리\n",
        "\n",
        "- https://requests.readthedocs.io/en/latest/"
      ],
      "metadata": {
        "id": "Y7lDN0bwieSO"
      }
    },
    {
      "cell_type": "markdown",
      "source": [
        "## Requests 주요함수\n",
        "\n",
        "- get()\n",
        "- post()\n",
        "- put()\n",
        "- delete()\n",
        "\n",
        "- text\n",
        "- json()"
      ],
      "metadata": {
        "id": "YqASObihi6lP"
      }
    },
    {
      "cell_type": "code",
      "execution_count": null,
      "metadata": {
        "id": "jSQ88bcDfLis"
      },
      "outputs": [],
      "source": [
        "import requests as req"
      ]
    },
    {
      "cell_type": "code",
      "source": [
        "res = req.get(\"https://www.naver.com/\")\n",
        "res"
      ],
      "metadata": {
        "colab": {
          "base_uri": "https://localhost:8080/"
        },
        "id": "TzFv3ns2fuEi",
        "outputId": "494a1e2f-2886-430e-fd17-a53bc952ee3d"
      },
      "execution_count": null,
      "outputs": [
        {
          "output_type": "execute_result",
          "data": {
            "text/plain": [
              "<Response [200]>"
            ]
          },
          "metadata": {},
          "execution_count": 9
        }
      ]
    },
    {
      "cell_type": "code",
      "source": [
        "print(res.text)"
      ],
      "metadata": {
        "id": "h-NrZaRTkaj3"
      },
      "execution_count": null,
      "outputs": []
    },
    {
      "cell_type": "markdown",
      "source": [
        "```\n",
        "GET / HTTP/1.1  \n",
        "Host: www.naver.com  \n",
        "```"
      ],
      "metadata": {
        "id": "ksqQGidhkNVA"
      }
    },
    {
      "cell_type": "markdown",
      "source": [
        "## GET 접속해보기"
      ],
      "metadata": {
        "id": "7u7EhtIBmqUS"
      }
    },
    {
      "cell_type": "code",
      "source": [
        "res = req.get(\"https://api.ipify.org/\")\n",
        "print(res.status_code)\n",
        "print(res.text)"
      ],
      "metadata": {
        "id": "iViRDfqmoK3J"
      },
      "execution_count": null,
      "outputs": []
    },
    {
      "cell_type": "code",
      "source": [
        "res.request.method"
      ],
      "metadata": {
        "colab": {
          "base_uri": "https://localhost:8080/",
          "height": 36
        },
        "id": "gYsUS3vTos4G",
        "outputId": "17444b05-44cf-4e5a-fc04-62ed04ad4d2a"
      },
      "execution_count": null,
      "outputs": [
        {
          "output_type": "execute_result",
          "data": {
            "text/plain": [
              "'GET'"
            ],
            "application/vnd.google.colaboratory.intrinsic+json": {
              "type": "string"
            }
          },
          "metadata": {},
          "execution_count": 11
        }
      ]
    },
    {
      "cell_type": "code",
      "source": [
        "res.request.headers"
      ],
      "metadata": {
        "colab": {
          "base_uri": "https://localhost:8080/"
        },
        "id": "nQVbMtb7q_KD",
        "outputId": "56414b64-bbb3-49c6-bcfb-65c64b7ed9f4"
      },
      "execution_count": null,
      "outputs": [
        {
          "output_type": "execute_result",
          "data": {
            "text/plain": [
              "{'User-Agent': 'python-requests/2.25.1', 'Accept-Encoding': 'gzip, deflate', 'Accept': '*/*', 'Connection': 'keep-alive'}"
            ]
          },
          "metadata": {},
          "execution_count": 12
        }
      ]
    },
    {
      "cell_type": "code",
      "source": [
        "res = req.get(\"https://api.ipify.org/\", headers={\"fast\": \"campus\"})\n",
        "res.request.headers"
      ],
      "metadata": {
        "colab": {
          "base_uri": "https://localhost:8080/"
        },
        "id": "ZmVWiqMQrA1t",
        "outputId": "66b2156a-b19c-438a-d217-36d49d5c9c16"
      },
      "execution_count": null,
      "outputs": [
        {
          "output_type": "execute_result",
          "data": {
            "text/plain": [
              "{'User-Agent': 'python-requests/2.25.1', 'Accept-Encoding': 'gzip, deflate', 'Accept': '*/*', 'Connection': 'keep-alive', 'fast': 'campus'}"
            ]
          },
          "metadata": {},
          "execution_count": 13
        }
      ]
    },
    {
      "cell_type": "code",
      "source": [
        "res.elapsed"
      ],
      "metadata": {
        "colab": {
          "base_uri": "https://localhost:8080/"
        },
        "id": "BhgYaOCMrTMK",
        "outputId": "9d7228ce-0186-4173-f302-233029194754"
      },
      "execution_count": null,
      "outputs": [
        {
          "output_type": "execute_result",
          "data": {
            "text/plain": [
              "datetime.timedelta(seconds=3, microseconds=171207)"
            ]
          },
          "metadata": {},
          "execution_count": 14
        }
      ]
    },
    {
      "cell_type": "code",
      "source": [
        "res.raw"
      ],
      "metadata": {
        "colab": {
          "base_uri": "https://localhost:8080/"
        },
        "id": "epS_ngL6tIeR",
        "outputId": "cfc06680-43c7-4688-e001-1a4566f57258"
      },
      "execution_count": null,
      "outputs": [
        {
          "output_type": "execute_result",
          "data": {
            "text/plain": [
              "<urllib3.response.HTTPResponse at 0x7f8a0b3285b0>"
            ]
          },
          "metadata": {},
          "execution_count": 15
        }
      ]
    },
    {
      "cell_type": "markdown",
      "source": [
        "## 만들어볼 프로젝트 : 환율 계산기"
      ],
      "metadata": {
        "id": "UO7cnFgkUqNt"
      }
    },
    {
      "cell_type": "markdown",
      "source": [
        "### 프로젝트 진행하며 배울 내용\n",
        "\n",
        "- requests 활용한 기초적인 파싱\n",
        "- find(), split()등을 활용한 기초적인 문자열 파싱\n",
        "- 정규식(regex)을 활용한 패턴 검색\n",
        "- 쿼리스트링에 대한 이해\n",
        "- beautifulsoup을 활용한 편리한 html 파싱\n",
        "- css selector를 활용한 손쉬운 파싱"
      ],
      "metadata": {
        "id": "Ptd_zklKUvOj"
      }
    },
    {
      "cell_type": "markdown",
      "source": [
        "### 문자열 조작 파싱\n",
        "\n",
        "- HTML 문서를 일반 문자열로 취급하여 원하는 문자열의 위치 등을 이용해 원하는 데이터를 추출하는 방법\n",
        "\n",
        "- `find()`\n",
        "  - 문자열의 위치와 길이를 기반으로 작업\n",
        "\n",
        "- `split()`\n",
        "  - 문자열을 배열로 쪼개내어 작업"
      ],
      "metadata": {
        "id": "r3tzEparV1x-"
      }
    },
    {
      "cell_type": "code",
      "source": [
        "s = 'apple'\n",
        "\n",
        "print(s.find('e'))"
      ],
      "metadata": {
        "colab": {
          "base_uri": "https://localhost:8080/"
        },
        "id": "iCQFAyilWSOx",
        "outputId": "fe6872c8-f5f4-48e0-9102-cc0a557049c5"
      },
      "execution_count": null,
      "outputs": [
        {
          "output_type": "stream",
          "name": "stdout",
          "text": [
            "4\n"
          ]
        }
      ]
    },
    {
      "cell_type": "code",
      "source": [
        "arr = s.split('p')\n",
        "arr"
      ],
      "metadata": {
        "colab": {
          "base_uri": "https://localhost:8080/"
        },
        "id": "yjn-J5meWdVI",
        "outputId": "e4318104-1e62-4ea1-d29d-1b3fd82bb3e1"
      },
      "execution_count": null,
      "outputs": [
        {
          "output_type": "execute_result",
          "data": {
            "text/plain": [
              "['a', '', 'le']"
            ]
          },
          "metadata": {},
          "execution_count": 3
        }
      ]
    },
    {
      "cell_type": "code",
      "source": [
        "# 달러환율 가져오기\n",
        "\n",
        "import requests as req\n",
        "\n",
        "res = req.get('https://finance.naver.com/marketindex/?tabSel=exchange#tab_section')\n",
        "\n",
        "html = res.text\n",
        "\n",
        "pos = html.find('미국 USD')\n",
        "pos"
      ],
      "metadata": {
        "colab": {
          "base_uri": "https://localhost:8080/"
        },
        "id": "cwzIt5CSWwV6",
        "outputId": "ec7dbc46-1afd-4374-ac93-963b1c5e47e2"
      },
      "execution_count": null,
      "outputs": [
        {
          "output_type": "execute_result",
          "data": {
            "text/plain": [
              "1076"
            ]
          },
          "metadata": {},
          "execution_count": 5
        }
      ]
    },
    {
      "cell_type": "code",
      "source": [
        "# 예외\n",
        "\n",
        "pos = html.find('Zamoca')\n",
        "pos"
      ],
      "metadata": {
        "colab": {
          "base_uri": "https://localhost:8080/"
        },
        "id": "Eeq-51Fqmg7E",
        "outputId": "6259391e-ceae-488a-c330-beccc6db18f3"
      },
      "execution_count": null,
      "outputs": [
        {
          "output_type": "execute_result",
          "data": {
            "text/plain": [
              "-1"
            ]
          },
          "metadata": {},
          "execution_count": 6
        }
      ]
    },
    {
      "cell_type": "code",
      "source": [
        "s = html.split('<span class=\"value\">')[1].split('</span>')[0]\n",
        "s"
      ],
      "metadata": {
        "colab": {
          "base_uri": "https://localhost:8080/",
          "height": 36
        },
        "id": "Qyitdap0m7Qz",
        "outputId": "f3b5825a-221b-4e85-9845-65a88b1c57c5"
      },
      "execution_count": null,
      "outputs": [
        {
          "output_type": "execute_result",
          "data": {
            "text/plain": [
              "'1,247.00'"
            ],
            "application/vnd.google.colaboratory.intrinsic+json": {
              "type": "string"
            }
          },
          "metadata": {},
          "execution_count": 8
        }
      ]
    },
    {
      "cell_type": "markdown",
      "source": [
        "### 정규식(Regular Expression)\n",
        "\n",
        "- ( \\) : 캡쳐\n",
        "- [ \\] : 이중 아무거나\n",
        "- \\. : 아무거나\n",
        "- \\* : 0개 이상\n",
        "- \\+ : 1개이상\n",
        "- \\? : 없을 수도 (가장 좁은 범위)\n",
        "- \\\\ : 위 특수 기호 무효화"
      ],
      "metadata": {
        "id": "g2_NSrPEpbO7"
      }
    },
    {
      "cell_type": "code",
      "source": [
        "import re\n",
        "\n",
        "s = 'hi'\n",
        "print(re.match(r'hi', s))"
      ],
      "metadata": {
        "colab": {
          "base_uri": "https://localhost:8080/"
        },
        "id": "U_gM95SBnLCh",
        "outputId": "fb69780d-e493-4e2b-8487-94b72f2e417b"
      },
      "execution_count": null,
      "outputs": [
        {
          "output_type": "stream",
          "name": "stdout",
          "text": [
            "None\n"
          ]
        }
      ]
    },
    {
      "cell_type": "code",
      "source": [
        "print(re.match(r'hey', s))"
      ],
      "metadata": {
        "colab": {
          "base_uri": "https://localhost:8080/"
        },
        "id": "Pf-A4ethrYA4",
        "outputId": "0bd69c8e-34a5-413c-bb59-0454039b20fa"
      },
      "execution_count": null,
      "outputs": [
        {
          "output_type": "stream",
          "name": "stdout",
          "text": [
            "None\n"
          ]
        }
      ]
    },
    {
      "cell_type": "code",
      "source": [
        "print(re.match(r'.', s))"
      ],
      "metadata": {
        "colab": {
          "base_uri": "https://localhost:8080/"
        },
        "id": "dhPrDlOzrg-V",
        "outputId": "fd642102-bb11-4d2a-ddad-28bee034baa2"
      },
      "execution_count": null,
      "outputs": [
        {
          "output_type": "stream",
          "name": "stdout",
          "text": [
            "<re.Match object; span=(0, 1), match='h'>\n"
          ]
        }
      ]
    },
    {
      "cell_type": "code",
      "source": [
        "print(re.match(r'hi1*', s))"
      ],
      "metadata": {
        "colab": {
          "base_uri": "https://localhost:8080/"
        },
        "id": "GDwnG-ecrnhz",
        "outputId": "9b6e4e6d-209b-4962-8e64-387774ee1a7b"
      },
      "execution_count": null,
      "outputs": [
        {
          "output_type": "stream",
          "name": "stdout",
          "text": [
            "<re.Match object; span=(0, 2), match='hi'>\n"
          ]
        }
      ]
    },
    {
      "cell_type": "code",
      "source": [
        "print(re.match(r'hi1+', 'hi'))"
      ],
      "metadata": {
        "colab": {
          "base_uri": "https://localhost:8080/"
        },
        "id": "6d70UD2HsEK3",
        "outputId": "4d623805-f1d7-4746-d570-d971ba0ab6c7"
      },
      "execution_count": null,
      "outputs": [
        {
          "output_type": "stream",
          "name": "stdout",
          "text": [
            "None\n"
          ]
        }
      ]
    },
    {
      "cell_type": "code",
      "source": [
        "s = 'color'\n",
        "print(re.match(r'colou?r',s))"
      ],
      "metadata": {
        "colab": {
          "base_uri": "https://localhost:8080/"
        },
        "id": "lzURkObysK0H",
        "outputId": "1cc26d6b-244c-4975-aa81-7b8fffc3e12b"
      },
      "execution_count": null,
      "outputs": [
        {
          "output_type": "stream",
          "name": "stdout",
          "text": [
            "<re.Match object; span=(0, 5), match='color'>\n"
          ]
        }
      ]
    },
    {
      "cell_type": "code",
      "source": [
        "# A B C F\n",
        "\n",
        "s = '이 영화는 C등급 입니다'\n",
        "\n",
        "print(re.match(r'이 영화는 [ABCF]등급 입니다',s))"
      ],
      "metadata": {
        "colab": {
          "base_uri": "https://localhost:8080/"
        },
        "id": "iDZMZj7gxs88",
        "outputId": "a4d97803-2123-413f-c24c-0a34812c31d3"
      },
      "execution_count": null,
      "outputs": [
        {
          "output_type": "stream",
          "name": "stdout",
          "text": [
            "<re.Match object; span=(0, 13), match='이 영화는 C등급 입니다'>\n"
          ]
        }
      ]
    },
    {
      "cell_type": "code",
      "source": [
        "# 캡쳐\n",
        "\n",
        "s = '이 영화는 C등급 입니다'\n",
        "\n",
        "print(re.findall(r'이 (..)는 (.)등급 입니다',s))"
      ],
      "metadata": {
        "colab": {
          "base_uri": "https://localhost:8080/"
        },
        "id": "a46fFKMNyOdq",
        "outputId": "f3fe6ce1-ff66-420b-f187-7bd0338d8b5e"
      },
      "execution_count": null,
      "outputs": [
        {
          "output_type": "stream",
          "name": "stdout",
          "text": [
            "[('영화', 'C')]\n"
          ]
        }
      ]
    },
    {
      "cell_type": "markdown",
      "source": [
        "### 정규식 함수\n",
        "\n",
        "- match()\n",
        "- search()\n",
        "- findall()"
      ],
      "metadata": {
        "id": "QRUWSNHGyn9v"
      }
    },
    {
      "cell_type": "code",
      "source": [
        "# 정규표현식으로 환율 가져오기\n",
        "\n",
        "import requests as req\n",
        "import re\n",
        "\n",
        "url = 'https://finance.naver.com/marketindex/?tabSel=exchange#tab_section'\n",
        "res = req.get(url)\n",
        "body = res.text\n",
        "\n",
        "# 정규식 미리 준비\n",
        "r = re.compile(r\"미국 USD.*?value\\\">(.*?)</\", re.DOTALL)\n",
        "\n",
        "# 달러 환율 찾기\n",
        "\n",
        "captures = r.findall(body)\n",
        "print(captures)"
      ],
      "metadata": {
        "colab": {
          "base_uri": "https://localhost:8080/"
        },
        "id": "hR-O4y1CyWel",
        "outputId": "cf6d05c0-989b-4edd-f7ef-14e76b244374"
      },
      "execution_count": null,
      "outputs": [
        {
          "output_type": "stream",
          "name": "stdout",
          "text": [
            "['1,250.00']\n"
          ]
        }
      ]
    },
    {
      "cell_type": "code",
      "source": [
        "# 정규식 미리 준비\n",
        "r = re.compile(r\"h_lst.*?blind\\\">(.*?)</span>.*?value\\\">(.*?)</\", re.DOTALL)\n",
        "\n",
        "# 여러나라 환율 찾기\n",
        "\n",
        "captures = r.findall(body)\n",
        "print(captures)"
      ],
      "metadata": {
        "colab": {
          "base_uri": "https://localhost:8080/"
        },
        "id": "MwXDusUN_40G",
        "outputId": "a9cca63c-49e0-41d1-b2e9-607ff32f507f"
      },
      "execution_count": null,
      "outputs": [
        {
          "output_type": "stream",
          "name": "stdout",
          "text": [
            "[('미국 USD', '1,250.00'), ('일본 JPY(100엔)', '944.93'), ('유럽연합 EUR', '1,339.75'), ('중국 CNY', '184.01'), ('달러/일본 엔', '131.8800'), ('유로/달러', '1.0728'), ('영국 파운드/달러', '1.2188'), ('달러인덱스', '102.7400'), ('WTI', '74.63'), ('휘발유', '1562.26'), ('국제 금', '1877.8'), ('국내 금', '75212.8')]\n"
          ]
        }
      ]
    },
    {
      "cell_type": "code",
      "source": [
        "print(\"-\"*6)\n",
        "print(\"환율 계산기\")\n",
        "print(\"-\"*6)\n",
        "print(\"\")\n",
        "\n",
        "for c in captures:\n",
        "  print(c[0] + \" : \" + c[1])"
      ],
      "metadata": {
        "colab": {
          "base_uri": "https://localhost:8080/"
        },
        "id": "oPMn1z3SALfY",
        "outputId": "d18207f0-5c70-41d9-a004-04d6717753dd"
      },
      "execution_count": null,
      "outputs": [
        {
          "output_type": "stream",
          "name": "stdout",
          "text": [
            "------\n",
            "환율 계산기\n",
            "------\n",
            "\n",
            "미국 USD : 1,250.00\n",
            "일본 JPY(100엔) : 944.93\n",
            "유럽연합 EUR : 1,339.75\n",
            "중국 CNY : 184.01\n",
            "달러/일본 엔 : 131.8800\n",
            "유로/달러 : 1.0728\n",
            "영국 파운드/달러 : 1.2188\n",
            "달러인덱스 : 102.7400\n",
            "WTI : 74.63\n",
            "휘발유 : 1562.26\n",
            "국제 금 : 1877.8\n",
            "국내 금 : 75212.8\n"
          ]
        }
      ]
    }
  ]
}