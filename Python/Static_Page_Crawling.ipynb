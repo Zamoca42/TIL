{
  "nbformat": 4,
  "nbformat_minor": 0,
  "metadata": {
    "colab": {
      "provenance": [],
      "collapsed_sections": [
        "Y7lDN0bwieSO",
        "YqASObihi6lP",
        "7u7EhtIBmqUS",
        "UO7cnFgkUqNt"
      ],
      "authorship_tag": "ABX9TyPzmHtq08kpYdFZyWqoB+Ri",
      "include_colab_link": true
    },
    "kernelspec": {
      "name": "python3",
      "display_name": "Python 3"
    },
    "language_info": {
      "name": "python"
    }
  },
  "cells": [
    {
      "cell_type": "markdown",
      "metadata": {
        "id": "view-in-github",
        "colab_type": "text"
      },
      "source": [
        "<a href=\"https://colab.research.google.com/github/Zamoca42/TIL/blob/main/Python/Static_Page_Crawling.ipynb\" target=\"_parent\"><img src=\"https://colab.research.google.com/assets/colab-badge.svg\" alt=\"Open In Colab\"/></a>"
      ]
    },
    {
      "cell_type": "markdown",
      "source": [
        "# 정적 크롤링"
      ],
      "metadata": {
        "id": "WbvAqm9dmsU3"
      }
    },
    {
      "cell_type": "markdown",
      "source": [
        "## Requests 라이브러리"
      ],
      "metadata": {
        "id": "Y7lDN0bwieSO"
      }
    },
    {
      "cell_type": "markdown",
      "source": [
        "- https://requests.readthedocs.io/en/latest/"
      ],
      "metadata": {
        "id": "usQaf-0WQemJ"
      }
    },
    {
      "cell_type": "markdown",
      "source": [
        "### Requests 주요함수\n",
        "\n",
        "- get()\n",
        "- post()\n",
        "- put()\n",
        "- delete()\n",
        "\n",
        "- text\n",
        "- json()"
      ],
      "metadata": {
        "id": "YqASObihi6lP"
      }
    },
    {
      "cell_type": "code",
      "execution_count": null,
      "metadata": {
        "id": "jSQ88bcDfLis"
      },
      "outputs": [],
      "source": [
        "import requests as req"
      ]
    },
    {
      "cell_type": "code",
      "source": [
        "res = req.get(\"https://www.naver.com/\")\n",
        "res"
      ],
      "metadata": {
        "colab": {
          "base_uri": "https://localhost:8080/"
        },
        "id": "TzFv3ns2fuEi",
        "outputId": "494a1e2f-2886-430e-fd17-a53bc952ee3d"
      },
      "execution_count": null,
      "outputs": [
        {
          "output_type": "execute_result",
          "data": {
            "text/plain": [
              "<Response [200]>"
            ]
          },
          "metadata": {},
          "execution_count": 9
        }
      ]
    },
    {
      "cell_type": "code",
      "source": [
        "print(res.text)"
      ],
      "metadata": {
        "id": "h-NrZaRTkaj3"
      },
      "execution_count": null,
      "outputs": []
    },
    {
      "cell_type": "markdown",
      "source": [
        "```\n",
        "GET / HTTP/1.1  \n",
        "Host: www.naver.com  \n",
        "```"
      ],
      "metadata": {
        "id": "ksqQGidhkNVA"
      }
    },
    {
      "cell_type": "markdown",
      "source": [
        "## GET 접속해보기"
      ],
      "metadata": {
        "id": "7u7EhtIBmqUS"
      }
    },
    {
      "cell_type": "code",
      "source": [
        "res = req.get(\"https://api.ipify.org/\")\n",
        "print(res.status_code)\n",
        "print(res.text)"
      ],
      "metadata": {
        "id": "iViRDfqmoK3J"
      },
      "execution_count": null,
      "outputs": []
    },
    {
      "cell_type": "code",
      "source": [
        "res.request.method"
      ],
      "metadata": {
        "colab": {
          "base_uri": "https://localhost:8080/",
          "height": 36
        },
        "id": "gYsUS3vTos4G",
        "outputId": "17444b05-44cf-4e5a-fc04-62ed04ad4d2a"
      },
      "execution_count": null,
      "outputs": [
        {
          "output_type": "execute_result",
          "data": {
            "text/plain": [
              "'GET'"
            ],
            "application/vnd.google.colaboratory.intrinsic+json": {
              "type": "string"
            }
          },
          "metadata": {},
          "execution_count": 11
        }
      ]
    },
    {
      "cell_type": "code",
      "source": [
        "res.request.headers"
      ],
      "metadata": {
        "colab": {
          "base_uri": "https://localhost:8080/"
        },
        "id": "nQVbMtb7q_KD",
        "outputId": "56414b64-bbb3-49c6-bcfb-65c64b7ed9f4"
      },
      "execution_count": null,
      "outputs": [
        {
          "output_type": "execute_result",
          "data": {
            "text/plain": [
              "{'User-Agent': 'python-requests/2.25.1', 'Accept-Encoding': 'gzip, deflate', 'Accept': '*/*', 'Connection': 'keep-alive'}"
            ]
          },
          "metadata": {},
          "execution_count": 12
        }
      ]
    },
    {
      "cell_type": "code",
      "source": [
        "res = req.get(\"https://api.ipify.org/\", headers={\"fast\": \"campus\"})\n",
        "res.request.headers"
      ],
      "metadata": {
        "colab": {
          "base_uri": "https://localhost:8080/"
        },
        "id": "ZmVWiqMQrA1t",
        "outputId": "66b2156a-b19c-438a-d217-36d49d5c9c16"
      },
      "execution_count": null,
      "outputs": [
        {
          "output_type": "execute_result",
          "data": {
            "text/plain": [
              "{'User-Agent': 'python-requests/2.25.1', 'Accept-Encoding': 'gzip, deflate', 'Accept': '*/*', 'Connection': 'keep-alive', 'fast': 'campus'}"
            ]
          },
          "metadata": {},
          "execution_count": 13
        }
      ]
    },
    {
      "cell_type": "code",
      "source": [
        "res.elapsed"
      ],
      "metadata": {
        "colab": {
          "base_uri": "https://localhost:8080/"
        },
        "id": "BhgYaOCMrTMK",
        "outputId": "9d7228ce-0186-4173-f302-233029194754"
      },
      "execution_count": null,
      "outputs": [
        {
          "output_type": "execute_result",
          "data": {
            "text/plain": [
              "datetime.timedelta(seconds=3, microseconds=171207)"
            ]
          },
          "metadata": {},
          "execution_count": 14
        }
      ]
    },
    {
      "cell_type": "code",
      "source": [
        "res.raw"
      ],
      "metadata": {
        "colab": {
          "base_uri": "https://localhost:8080/"
        },
        "id": "epS_ngL6tIeR",
        "outputId": "cfc06680-43c7-4688-e001-1a4566f57258"
      },
      "execution_count": null,
      "outputs": [
        {
          "output_type": "execute_result",
          "data": {
            "text/plain": [
              "<urllib3.response.HTTPResponse at 0x7f8a0b3285b0>"
            ]
          },
          "metadata": {},
          "execution_count": 15
        }
      ]
    },
    {
      "cell_type": "markdown",
      "source": [
        "## 만들어볼 프로젝트 : 환율 계산기"
      ],
      "metadata": {
        "id": "UO7cnFgkUqNt"
      }
    },
    {
      "cell_type": "markdown",
      "source": [
        "### 프로젝트 진행하며 배울 내용\n",
        "\n",
        "- requests 활용한 기초적인 파싱\n",
        "- find(), split()등을 활용한 기초적인 문자열 파싱\n",
        "- 정규식(regex)을 활용한 패턴 검색\n",
        "- 쿼리스트링에 대한 이해\n",
        "- beautifulsoup을 활용한 편리한 html 파싱\n",
        "- css selector를 활용한 손쉬운 파싱"
      ],
      "metadata": {
        "id": "Ptd_zklKUvOj"
      }
    },
    {
      "cell_type": "markdown",
      "source": [
        "### 문자열 조작 파싱\n",
        "\n",
        "- HTML 문서를 일반 문자열로 취급하여 원하는 문자열의 위치 등을 이용해 원하는 데이터를 추출하는 방법\n",
        "\n",
        "- `find()`\n",
        "  - 문자열의 위치와 길이를 기반으로 작업\n",
        "\n",
        "- `split()`\n",
        "  - 문자열을 배열로 쪼개내어 작업"
      ],
      "metadata": {
        "id": "r3tzEparV1x-"
      }
    },
    {
      "cell_type": "code",
      "source": [
        "s = 'apple'\n",
        "\n",
        "print(s.find('e'))"
      ],
      "metadata": {
        "colab": {
          "base_uri": "https://localhost:8080/"
        },
        "id": "iCQFAyilWSOx",
        "outputId": "fe6872c8-f5f4-48e0-9102-cc0a557049c5"
      },
      "execution_count": null,
      "outputs": [
        {
          "output_type": "stream",
          "name": "stdout",
          "text": [
            "4\n"
          ]
        }
      ]
    },
    {
      "cell_type": "code",
      "source": [
        "arr = s.split('p')\n",
        "arr"
      ],
      "metadata": {
        "colab": {
          "base_uri": "https://localhost:8080/"
        },
        "id": "yjn-J5meWdVI",
        "outputId": "e4318104-1e62-4ea1-d29d-1b3fd82bb3e1"
      },
      "execution_count": null,
      "outputs": [
        {
          "output_type": "execute_result",
          "data": {
            "text/plain": [
              "['a', '', 'le']"
            ]
          },
          "metadata": {},
          "execution_count": 3
        }
      ]
    },
    {
      "cell_type": "code",
      "source": [
        "# 달러환율 가져오기\n",
        "\n",
        "import requests as req\n",
        "\n",
        "res = req.get('https://finance.naver.com/marketindex/?tabSel=exchange#tab_section')\n",
        "\n",
        "html = res.text\n",
        "\n",
        "pos = html.find('미국 USD')\n",
        "pos"
      ],
      "metadata": {
        "colab": {
          "base_uri": "https://localhost:8080/"
        },
        "id": "cwzIt5CSWwV6",
        "outputId": "ec7dbc46-1afd-4374-ac93-963b1c5e47e2"
      },
      "execution_count": null,
      "outputs": [
        {
          "output_type": "execute_result",
          "data": {
            "text/plain": [
              "1076"
            ]
          },
          "metadata": {},
          "execution_count": 5
        }
      ]
    },
    {
      "cell_type": "code",
      "source": [
        "# 예외\n",
        "\n",
        "pos = html.find('Zamoca')\n",
        "pos"
      ],
      "metadata": {
        "colab": {
          "base_uri": "https://localhost:8080/"
        },
        "id": "Eeq-51Fqmg7E",
        "outputId": "6259391e-ceae-488a-c330-beccc6db18f3"
      },
      "execution_count": null,
      "outputs": [
        {
          "output_type": "execute_result",
          "data": {
            "text/plain": [
              "-1"
            ]
          },
          "metadata": {},
          "execution_count": 6
        }
      ]
    },
    {
      "cell_type": "code",
      "source": [
        "s = html.split('<span class=\"value\">')[1].split('</span>')[0]\n",
        "s"
      ],
      "metadata": {
        "colab": {
          "base_uri": "https://localhost:8080/",
          "height": 36
        },
        "id": "Qyitdap0m7Qz",
        "outputId": "f3b5825a-221b-4e85-9845-65a88b1c57c5"
      },
      "execution_count": null,
      "outputs": [
        {
          "output_type": "execute_result",
          "data": {
            "text/plain": [
              "'1,247.00'"
            ],
            "application/vnd.google.colaboratory.intrinsic+json": {
              "type": "string"
            }
          },
          "metadata": {},
          "execution_count": 8
        }
      ]
    },
    {
      "cell_type": "markdown",
      "source": [
        "### 정규식(Regular Expression)\n",
        "\n",
        "- ( \\) : 캡쳐\n",
        "- [ \\] : 이중 아무거나\n",
        "- \\. : 아무거나\n",
        "- \\* : 0개 이상\n",
        "- \\+ : 1개이상\n",
        "- \\? : 없을 수도 (가장 좁은 범위)\n",
        "- \\\\ : 위 특수 기호 무효화"
      ],
      "metadata": {
        "id": "g2_NSrPEpbO7"
      }
    },
    {
      "cell_type": "code",
      "source": [
        "import re\n",
        "\n",
        "s = 'hi'\n",
        "print(re.match(r'hi', s))"
      ],
      "metadata": {
        "colab": {
          "base_uri": "https://localhost:8080/"
        },
        "id": "U_gM95SBnLCh",
        "outputId": "fb69780d-e493-4e2b-8487-94b72f2e417b"
      },
      "execution_count": null,
      "outputs": [
        {
          "output_type": "stream",
          "name": "stdout",
          "text": [
            "None\n"
          ]
        }
      ]
    },
    {
      "cell_type": "code",
      "source": [
        "print(re.match(r'hey', s))"
      ],
      "metadata": {
        "colab": {
          "base_uri": "https://localhost:8080/"
        },
        "id": "Pf-A4ethrYA4",
        "outputId": "0bd69c8e-34a5-413c-bb59-0454039b20fa"
      },
      "execution_count": null,
      "outputs": [
        {
          "output_type": "stream",
          "name": "stdout",
          "text": [
            "None\n"
          ]
        }
      ]
    },
    {
      "cell_type": "code",
      "source": [
        "print(re.match(r'.', s))"
      ],
      "metadata": {
        "colab": {
          "base_uri": "https://localhost:8080/"
        },
        "id": "dhPrDlOzrg-V",
        "outputId": "fd642102-bb11-4d2a-ddad-28bee034baa2"
      },
      "execution_count": null,
      "outputs": [
        {
          "output_type": "stream",
          "name": "stdout",
          "text": [
            "<re.Match object; span=(0, 1), match='h'>\n"
          ]
        }
      ]
    },
    {
      "cell_type": "code",
      "source": [
        "print(re.match(r'hi1*', s))"
      ],
      "metadata": {
        "colab": {
          "base_uri": "https://localhost:8080/"
        },
        "id": "GDwnG-ecrnhz",
        "outputId": "9b6e4e6d-209b-4962-8e64-387774ee1a7b"
      },
      "execution_count": null,
      "outputs": [
        {
          "output_type": "stream",
          "name": "stdout",
          "text": [
            "<re.Match object; span=(0, 2), match='hi'>\n"
          ]
        }
      ]
    },
    {
      "cell_type": "code",
      "source": [
        "print(re.match(r'hi1+', 'hi'))"
      ],
      "metadata": {
        "colab": {
          "base_uri": "https://localhost:8080/"
        },
        "id": "6d70UD2HsEK3",
        "outputId": "4d623805-f1d7-4746-d570-d971ba0ab6c7"
      },
      "execution_count": null,
      "outputs": [
        {
          "output_type": "stream",
          "name": "stdout",
          "text": [
            "None\n"
          ]
        }
      ]
    },
    {
      "cell_type": "code",
      "source": [
        "s = 'color'\n",
        "print(re.match(r'colou?r',s))"
      ],
      "metadata": {
        "colab": {
          "base_uri": "https://localhost:8080/"
        },
        "id": "lzURkObysK0H",
        "outputId": "1cc26d6b-244c-4975-aa81-7b8fffc3e12b"
      },
      "execution_count": null,
      "outputs": [
        {
          "output_type": "stream",
          "name": "stdout",
          "text": [
            "<re.Match object; span=(0, 5), match='color'>\n"
          ]
        }
      ]
    },
    {
      "cell_type": "code",
      "source": [
        "# A B C F\n",
        "\n",
        "s = '이 영화는 C등급 입니다'\n",
        "\n",
        "print(re.match(r'이 영화는 [ABCF]등급 입니다',s))"
      ],
      "metadata": {
        "colab": {
          "base_uri": "https://localhost:8080/"
        },
        "id": "iDZMZj7gxs88",
        "outputId": "a4d97803-2123-413f-c24c-0a34812c31d3"
      },
      "execution_count": null,
      "outputs": [
        {
          "output_type": "stream",
          "name": "stdout",
          "text": [
            "<re.Match object; span=(0, 13), match='이 영화는 C등급 입니다'>\n"
          ]
        }
      ]
    },
    {
      "cell_type": "code",
      "source": [
        "# 캡쳐\n",
        "\n",
        "s = '이 영화는 C등급 입니다'\n",
        "\n",
        "print(re.findall(r'이 (..)는 (.)등급 입니다',s))"
      ],
      "metadata": {
        "colab": {
          "base_uri": "https://localhost:8080/"
        },
        "id": "a46fFKMNyOdq",
        "outputId": "f3fe6ce1-ff66-420b-f187-7bd0338d8b5e"
      },
      "execution_count": null,
      "outputs": [
        {
          "output_type": "stream",
          "name": "stdout",
          "text": [
            "[('영화', 'C')]\n"
          ]
        }
      ]
    },
    {
      "cell_type": "markdown",
      "source": [
        "### 정규식 함수\n",
        "\n",
        "- match()\n",
        "- search()\n",
        "- findall()"
      ],
      "metadata": {
        "id": "QRUWSNHGyn9v"
      }
    },
    {
      "cell_type": "code",
      "source": [
        "# 정규표현식으로 환율 가져오기\n",
        "\n",
        "import requests as req\n",
        "import re\n",
        "\n",
        "url = 'https://finance.naver.com/marketindex/?tabSel=exchange#tab_section'\n",
        "res = req.get(url)\n",
        "body = res.text\n",
        "\n",
        "# 정규식 미리 준비\n",
        "r = re.compile(r\"미국 USD.*?value\\\">(.*?)</\", re.DOTALL)\n",
        "\n",
        "# 달러 환율 찾기\n",
        "\n",
        "captures = r.findall(body)\n",
        "print(captures)"
      ],
      "metadata": {
        "colab": {
          "base_uri": "https://localhost:8080/"
        },
        "id": "hR-O4y1CyWel",
        "outputId": "cf6d05c0-989b-4edd-f7ef-14e76b244374"
      },
      "execution_count": null,
      "outputs": [
        {
          "output_type": "stream",
          "name": "stdout",
          "text": [
            "['1,250.00']\n"
          ]
        }
      ]
    },
    {
      "cell_type": "code",
      "source": [
        "# 정규식 미리 준비\n",
        "r = re.compile(r\"h_lst.*?blind\\\">(.*?)</span>.*?value\\\">(.*?)</\", re.DOTALL)\n",
        "\n",
        "# 여러나라 환율 찾기\n",
        "\n",
        "captures = r.findall(body)\n",
        "print(captures)"
      ],
      "metadata": {
        "colab": {
          "base_uri": "https://localhost:8080/"
        },
        "id": "MwXDusUN_40G",
        "outputId": "a9cca63c-49e0-41d1-b2e9-607ff32f507f"
      },
      "execution_count": null,
      "outputs": [
        {
          "output_type": "stream",
          "name": "stdout",
          "text": [
            "[('미국 USD', '1,250.00'), ('일본 JPY(100엔)', '944.93'), ('유럽연합 EUR', '1,339.75'), ('중국 CNY', '184.01'), ('달러/일본 엔', '131.8800'), ('유로/달러', '1.0728'), ('영국 파운드/달러', '1.2188'), ('달러인덱스', '102.7400'), ('WTI', '74.63'), ('휘발유', '1562.26'), ('국제 금', '1877.8'), ('국내 금', '75212.8')]\n"
          ]
        }
      ]
    },
    {
      "cell_type": "code",
      "source": [
        "print(\"-\"*6)\n",
        "print(\"환율 계산기\")\n",
        "print(\"-\"*6)\n",
        "print(\"\")\n",
        "\n",
        "for c in captures:\n",
        "  print(c[0] + \" : \" + c[1])"
      ],
      "metadata": {
        "colab": {
          "base_uri": "https://localhost:8080/"
        },
        "id": "oPMn1z3SALfY",
        "outputId": "d18207f0-5c70-41d9-a004-04d6717753dd"
      },
      "execution_count": null,
      "outputs": [
        {
          "output_type": "stream",
          "name": "stdout",
          "text": [
            "------\n",
            "환율 계산기\n",
            "------\n",
            "\n",
            "미국 USD : 1,250.00\n",
            "일본 JPY(100엔) : 944.93\n",
            "유럽연합 EUR : 1,339.75\n",
            "중국 CNY : 184.01\n",
            "달러/일본 엔 : 131.8800\n",
            "유로/달러 : 1.0728\n",
            "영국 파운드/달러 : 1.2188\n",
            "달러인덱스 : 102.7400\n",
            "WTI : 74.63\n",
            "휘발유 : 1562.26\n",
            "국제 금 : 1877.8\n",
            "국내 금 : 75212.8\n"
          ]
        }
      ]
    },
    {
      "cell_type": "markdown",
      "source": [
        "## 쿼리스트링"
      ],
      "metadata": {
        "id": "UsX9xOgJQm1y"
      }
    },
    {
      "cell_type": "markdown",
      "source": [
        "### 쿼리스트링(query string)?\n",
        "\n",
        "- 웹 요청시에 보내는 추가 인자 값"
      ],
      "metadata": {
        "id": "5zsD9nMuQsXp"
      }
    },
    {
      "cell_type": "markdown",
      "source": [
        "### 예시1 - 네이버 환율\n",
        "\n",
        "- marketindexCd 값에 통화 코드를 넣는다\n",
        "\n",
        "  <img width=\"716\" alt=\"스크린샷 2023-01-11 오후 11 39 15\" src=\"https://user-images.githubusercontent.com/96982072/211835177-91438aa0-efb4-4819-b9b0-f89dfd2e1c85.png\">\n",
        "\n",
        "\n"
      ],
      "metadata": {
        "id": "zFxlgU4KRF95"
      }
    },
    {
      "cell_type": "markdown",
      "source": [
        "### 예시2 - 스카이스캐너\n",
        "\n",
        "- 인원수, 날짜, 목적지 등 다양한 정보를 넣는다\n",
        "\n",
        "  <img width=\"523\" alt=\"스크린샷 2023-01-11 오후 11 39 30\" src=\"https://user-images.githubusercontent.com/96982072/211835155-b2851dba-5f70-4c79-9a71-c40270f55e1c.png\">"
      ],
      "metadata": {
        "id": "JHrIa95ZRe6e"
      }
    },
    {
      "cell_type": "markdown",
      "source": [
        "### 쿼리스트링 형식\n",
        "\n",
        "\n",
        "- ? 로 url 과 구분된다\n",
        "  ```\n",
        "  url?querystring\n",
        "  ```\n",
        "\n",
        "- 값이름=값 \n",
        "  ```\n",
        "  adults=2\n",
        "  children=0\n",
        "  ```\n",
        "\n",
        "- & 로 값들이 구분된다 \n",
        "  ```\n",
        "  adults=2&children=0\n",
        "  ```\n",
        "\n",
        "- 배열은...\n",
        "\n",
        "  ```\n",
        "  arr[]=1 \n",
        "  arr[]=2 \n",
        "  arr[]=3\n",
        "  -> arr[1,2,3]\n",
        "  ```"
      ],
      "metadata": {
        "id": "1H4DgjPJRoj6"
      }
    },
    {
      "cell_type": "markdown",
      "source": [
        "### 예시 3 - 네이버 검색\n",
        "\n",
        "- query에 검색어가 들어간다\n",
        "\n",
        "  <img width=\"548\" alt=\"스크린샷 2023-01-11 오후 11 44 24\" src=\"https://user-images.githubusercontent.com/96982072/211835690-1acfc990-52f8-4ba5-874f-47e3b8b7c900.png\">\n",
        "\n",
        "\n",
        "- 주소창에서는 감자로 보이지만\n",
        "주소를 실제로 복사해오면\n",
        "```\n",
        "https://search.naver.com/ search.naver?where=nexearch&sm=top_hty&fbm=1&i e=utf8&query=%EA%B0%90%EC%9E%90\n",
        "```\n",
        "```\n",
        "query=%EA%B0%90%EC%9E%90\n",
        "query=감자\n",
        "```\n",
        "\n",
        " - 감자 = %EA%B0%90%EC%9E%90\n",
        "\n",
        "- javascript 의 `urlencode()`, `urldecode()`\n",
        "\n",
        "  <img width=\"368\" alt=\"스크린샷 2023-01-11 오후 11 47 07\" src=\"https://user-images.githubusercontent.com/96982072/211836222-0a25cf19-b283-4925-b57e-f135819c54a7.png\">"
      ],
      "metadata": {
        "id": "7-6ZXASKSaEX"
      }
    },
    {
      "cell_type": "markdown",
      "source": [
        "## beautifulsoup"
      ],
      "metadata": {
        "id": "18vU_lzfUPIp"
      }
    },
    {
      "cell_type": "markdown",
      "source": [
        "### beautifulsoup?\n",
        "  - requests \n",
        "    - http 통신을 편하게\n",
        "  - beautifulsoup\n",
        "    - html 통신을 편하게\n",
        "    "
      ],
      "metadata": {
        "id": "kuzYqay-UTVI"
      }
    },
    {
      "cell_type": "markdown",
      "source": [
        "### beautifulsoup 주요 기능\n",
        "\n",
        "- html 문자열 파싱\n",
        "- html 노드 인식 및 편리한 기능들\n",
        "- parent, children, contents, descendants, sibling \n",
        "- string, strings, stripped_strings, get_text()\n",
        "- prettify\n",
        "- html attribute\n",
        "\n"
      ],
      "metadata": {
        "id": "-Sbr6eUXUelq"
      }
    },
    {
      "cell_type": "code",
      "source": [
        "from bs4 import BeautifulSoup as BS\n",
        "import requests as req\n",
        "\n",
        "url = 'https://naver.com'\n",
        "res = req.get(url)\n",
        "# print(res.text)\n",
        "soup = BS(res.text, \"html.parser\")\n",
        "\n",
        "print(soup.title)"
      ],
      "metadata": {
        "colab": {
          "base_uri": "https://localhost:8080/"
        },
        "id": "q2jx4vgWVIYV",
        "outputId": "883cdc55-d2fa-427f-951d-f48c05b1106f"
      },
      "execution_count": 8,
      "outputs": [
        {
          "output_type": "stream",
          "name": "stdout",
          "text": [
            "<title>NAVER</title>\n"
          ]
        }
      ]
    },
    {
      "cell_type": "code",
      "source": [
        "print(soup.title.string)"
      ],
      "metadata": {
        "colab": {
          "base_uri": "https://localhost:8080/"
        },
        "id": "IcpEfjwdWnGq",
        "outputId": "cc02134e-c09e-417e-a540-e7bcc4409ca1"
      },
      "execution_count": 9,
      "outputs": [
        {
          "output_type": "stream",
          "name": "stdout",
          "text": [
            "NAVER\n"
          ]
        }
      ]
    },
    {
      "cell_type": "code",
      "source": [
        "# beautifulsoup로 환율 가져오기\n",
        "\n",
        "# url = 'https://finance.naver.com/marketindex/?tabSel=exchange#tab_section'\n",
        "url = 'https://finance.naver.com/marketindex/exchangeList.naver'\n",
        "\n",
        "res = req.get(url)\n",
        "# print(res.text)\n",
        "soup = BS(res.text, \"html.parser\")\n",
        "\n",
        "tds = soup.find_all('td')\n",
        "for td in tds:\n",
        "    if len(td.find_all(\"a\")) == 0:\n",
        "      continue\n",
        "    print(td.get_text(strip=True))"
      ],
      "metadata": {
        "colab": {
          "base_uri": "https://localhost:8080/"
        },
        "id": "NEYqmYh9YIln",
        "outputId": "2ed66a74-a9a3-48f1-fc74-45a7c1b989fd"
      },
      "execution_count": 17,
      "outputs": [
        {
          "output_type": "stream",
          "name": "stdout",
          "text": [
            "미국 USD\n",
            "유럽연합 EUR\n",
            "일본 JPY (100엔)\n",
            "중국 CNY\n",
            "홍콩 HKD\n",
            "대만 TWD\n",
            "영국 GBP\n",
            "오만 OMR\n",
            "캐나다 CAD\n",
            "스위스 CHF\n",
            "스웨덴 SEK\n",
            "호주 AUD\n",
            "뉴질랜드 NZD\n",
            "체코 CZK\n",
            "칠레 CLP\n",
            "튀르키예 TRY\n",
            "몽골 MNT\n",
            "이스라엘 ILS\n",
            "덴마크 DKK\n",
            "노르웨이 NOK\n",
            "사우디아라비아 SAR\n",
            "쿠웨이트 KWD\n",
            "바레인 BHD\n",
            "아랍에미리트 AED\n",
            "요르단 JOD\n",
            "이집트 EGP\n",
            "태국 THB\n",
            "싱가포르 SGD\n",
            "말레이시아 MYR\n",
            "인도네시아 IDR 100\n",
            "카타르 QAR\n",
            "카자흐스탄 KZT\n",
            "브루나이 BND\n",
            "인도 INR\n",
            "파키스탄 PKR\n",
            "방글라데시 BDT\n",
            "필리핀 PHP\n",
            "멕시코 MXN\n",
            "브라질 BRL\n",
            "베트남 VND 100\n",
            "남아프리카 공화국 ZAR\n",
            "러시아 RUB\n",
            "헝가리 HUF\n",
            "폴란드 PLN\n",
            "스리랑카 LKR\n",
            "알제리 DZD\n",
            "케냐 KES\n",
            "콜롬비아 COP\n",
            "탄자니아 TZS\n",
            "네팔 NPR\n",
            "루마니아 RON\n",
            "리비아 LYD\n",
            "마카오 MOP\n",
            "미얀마 MMK\n",
            "에티오피아 ETB\n",
            "우즈베키스탄 UZS\n",
            "캄보디아 KHR\n",
            "피지 FJD\n"
          ]
        }
      ]
    },
    {
      "cell_type": "code",
      "source": [
        "for td in tds:\n",
        "    if len(td.find_all(\"a\")) == 0:\n",
        "      continue\n",
        "    #print(td.string)\n",
        "    for s in td.stripped_strings:\n",
        "      print(s)"
      ],
      "metadata": {
        "colab": {
          "base_uri": "https://localhost:8080/"
        },
        "id": "tqQBmJEPY5lC",
        "outputId": "fda9174a-9110-40f7-c1a7-444b91b13306"
      },
      "execution_count": 19,
      "outputs": [
        {
          "output_type": "stream",
          "name": "stdout",
          "text": [
            "미국 USD\n",
            "유럽연합 EUR\n",
            "일본 JPY (100엔)\n",
            "중국 CNY\n",
            "홍콩 HKD\n",
            "대만 TWD\n",
            "영국 GBP\n",
            "오만 OMR\n",
            "캐나다 CAD\n",
            "스위스 CHF\n",
            "스웨덴 SEK\n",
            "호주 AUD\n",
            "뉴질랜드 NZD\n",
            "체코 CZK\n",
            "칠레 CLP\n",
            "튀르키예 TRY\n",
            "몽골 MNT\n",
            "이스라엘 ILS\n",
            "덴마크 DKK\n",
            "노르웨이 NOK\n",
            "사우디아라비아 SAR\n",
            "쿠웨이트 KWD\n",
            "바레인 BHD\n",
            "아랍에미리트 AED\n",
            "요르단 JOD\n",
            "이집트 EGP\n",
            "태국 THB\n",
            "싱가포르 SGD\n",
            "말레이시아 MYR\n",
            "인도네시아 IDR 100\n",
            "카타르 QAR\n",
            "카자흐스탄 KZT\n",
            "브루나이 BND\n",
            "인도 INR\n",
            "파키스탄 PKR\n",
            "방글라데시 BDT\n",
            "필리핀 PHP\n",
            "멕시코 MXN\n",
            "브라질 BRL\n",
            "베트남 VND 100\n",
            "남아프리카 공화국 ZAR\n",
            "러시아 RUB\n",
            "헝가리 HUF\n",
            "폴란드 PLN\n",
            "스리랑카 LKR\n",
            "알제리 DZD\n",
            "케냐 KES\n",
            "콜롬비아 COP\n",
            "탄자니아 TZS\n",
            "네팔 NPR\n",
            "루마니아 RON\n",
            "리비아 LYD\n",
            "마카오 MOP\n",
            "미얀마 MMK\n",
            "에티오피아 ETB\n",
            "우즈베키스탄 UZS\n",
            "캄보디아 KHR\n",
            "피지 FJD\n"
          ]
        }
      ]
    },
    {
      "cell_type": "code",
      "source": [
        "names = []\n",
        "for td in tds:\n",
        "    if len(td.find_all(\"a\")) == 0:\n",
        "      continue\n",
        "    names.append(td.get_text(strip=True))\n",
        "\n",
        "prices = []\n",
        "for td in tds:\n",
        "  if \"class\" in td.attrs:\n",
        "    if \"sale\" in td.attrs[\"class\"]:\n",
        "      prices.append(td.get_text(strip=True))\n",
        "\n",
        "print(names)\n",
        "print(prices)"
      ],
      "metadata": {
        "colab": {
          "base_uri": "https://localhost:8080/"
        },
        "id": "3HXEtSf7bdPT",
        "outputId": "38e8b571-51d9-4d6f-ed9a-7fbd8eadc06d"
      },
      "execution_count": 20,
      "outputs": [
        {
          "output_type": "stream",
          "name": "stdout",
          "text": [
            "['미국 USD', '유럽연합 EUR', '일본 JPY (100엔)', '중국 CNY', '홍콩 HKD', '대만 TWD', '영국 GBP', '오만 OMR', '캐나다 CAD', '스위스 CHF', '스웨덴 SEK', '호주 AUD', '뉴질랜드 NZD', '체코 CZK', '칠레 CLP', '튀르키예 TRY', '몽골 MNT', '이스라엘 ILS', '덴마크 DKK', '노르웨이 NOK', '사우디아라비아 SAR', '쿠웨이트 KWD', '바레인 BHD', '아랍에미리트 AED', '요르단 JOD', '이집트 EGP', '태국 THB', '싱가포르 SGD', '말레이시아 MYR', '인도네시아 IDR 100', '카타르 QAR', '카자흐스탄 KZT', '브루나이 BND', '인도 INR', '파키스탄 PKR', '방글라데시 BDT', '필리핀 PHP', '멕시코 MXN', '브라질 BRL', '베트남 VND 100', '남아프리카 공화국 ZAR', '러시아 RUB', '헝가리 HUF', '폴란드 PLN', '스리랑카 LKR', '알제리 DZD', '케냐 KES', '콜롬비아 COP', '탄자니아 TZS', '네팔 NPR', '루마니아 RON', '리비아 LYD', '마카오 MOP', '미얀마 MMK', '에티오피아 ETB', '우즈베키스탄 UZS', '캄보디아 KHR', '피지 FJD']\n",
            "['1,250.00', '1,343.63', '942.65', '184.31', '159.99', '41.04', '1,513.69', '3,250.98', '931.24', '1,345.61', '119.22', '862.00', '794.50', '55.91', '1.51', '66.58', '0.36', '362.50', '180.66', '125.23', '332.80', '4,085.50', '3,316.00', '340.32', '1,760.81', '40.00', '37.41', '938.40', '285.98', '8.09', '342.60', '2.70', '938.40', '15.30', '5.47', '11.93', '22.74', '65.55', '240.15', '5.33', '73.43', '18.23', '3.37', '287.19', '3.41', '9.16', '10.09', '0.26', '0.54', '9.58', '272.32', '261.00', '155.22', '0.60', '23.31', '0.11', '0.30', '572.25']\n"
          ]
        }
      ]
    },
    {
      "cell_type": "markdown",
      "source": [
        "## CSS"
      ],
      "metadata": {
        "id": "UWWGe2pifgni"
      }
    },
    {
      "cell_type": "markdown",
      "source": [
        "### css?\n",
        "\n",
        "- html이 구조를 잡은 곳에 스타일링 하는 것\n",
        "\n",
        "- 스타일링에 스타일 이름을 붙여(class) 구조에 스타일 이름을 넣음\n",
        "\n",
        "- 스타일 이름이 없는 구조에도 스타일링을 함(css selector)\n",
        "\n",
        "- 구조는 스타일 이름으로 특정 지어질 수 있음"
      ],
      "metadata": {
        "id": "fok84ktBfhwt"
      }
    },
    {
      "cell_type": "code",
      "source": [
        "names = []\n",
        "for td in soup.select('td.tit'):\n",
        "  names.append(td.get_text(strip=True))\n",
        "\n",
        "prices = []\n",
        "for td in soup.select('td.sale'):\n",
        "  prices.append(td.get_text(strip=True))\n",
        "\n",
        "print(names)\n",
        "print(prices)"
      ],
      "metadata": {
        "colab": {
          "base_uri": "https://localhost:8080/"
        },
        "id": "Gbln7EJigsgN",
        "outputId": "5908093c-1857-4e32-e619-508fa9191e5d"
      },
      "execution_count": 21,
      "outputs": [
        {
          "output_type": "stream",
          "name": "stdout",
          "text": [
            "['미국 USD', '유럽연합 EUR', '일본 JPY (100엔)', '중국 CNY', '홍콩 HKD', '대만 TWD', '영국 GBP', '오만 OMR', '캐나다 CAD', '스위스 CHF', '스웨덴 SEK', '호주 AUD', '뉴질랜드 NZD', '체코 CZK', '칠레 CLP', '튀르키예 TRY', '몽골 MNT', '이스라엘 ILS', '덴마크 DKK', '노르웨이 NOK', '사우디아라비아 SAR', '쿠웨이트 KWD', '바레인 BHD', '아랍에미리트 AED', '요르단 JOD', '이집트 EGP', '태국 THB', '싱가포르 SGD', '말레이시아 MYR', '인도네시아 IDR 100', '카타르 QAR', '카자흐스탄 KZT', '브루나이 BND', '인도 INR', '파키스탄 PKR', '방글라데시 BDT', '필리핀 PHP', '멕시코 MXN', '브라질 BRL', '베트남 VND 100', '남아프리카 공화국 ZAR', '러시아 RUB', '헝가리 HUF', '폴란드 PLN', '스리랑카 LKR', '알제리 DZD', '케냐 KES', '콜롬비아 COP', '탄자니아 TZS', '네팔 NPR', '루마니아 RON', '리비아 LYD', '마카오 MOP', '미얀마 MMK', '에티오피아 ETB', '우즈베키스탄 UZS', '캄보디아 KHR', '피지 FJD']\n",
            "['1,250.00', '1,343.63', '942.65', '184.31', '159.99', '41.04', '1,513.69', '3,250.98', '931.24', '1,345.61', '119.22', '862.00', '794.50', '55.91', '1.51', '66.58', '0.36', '362.50', '180.66', '125.23', '332.80', '4,085.50', '3,316.00', '340.32', '1,760.81', '40.00', '37.41', '938.40', '285.98', '8.09', '342.60', '2.70', '938.40', '15.30', '5.47', '11.93', '22.74', '65.55', '240.15', '5.33', '73.43', '18.23', '3.37', '287.19', '3.41', '9.16', '10.09', '0.26', '0.54', '9.58', '272.32', '261.00', '155.22', '0.60', '23.31', '0.11', '0.30', '572.25']\n"
          ]
        }
      ]
    }
  ]
}