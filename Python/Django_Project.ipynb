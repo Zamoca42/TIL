{
  "nbformat": 4,
  "nbformat_minor": 0,
  "metadata": {
    "colab": {
      "provenance": [],
      "authorship_tag": "ABX9TyPXsFyVqJPa9raSwjP++wRL",
      "include_colab_link": true
    },
    "kernelspec": {
      "name": "python3",
      "display_name": "Python 3"
    },
    "language_info": {
      "name": "python"
    }
  },
  "cells": [
    {
      "cell_type": "markdown",
      "metadata": {
        "id": "view-in-github",
        "colab_type": "text"
      },
      "source": [
        "<a href=\"https://colab.research.google.com/github/Zamoca42/TIL/blob/main/Python/Django_Project.ipynb\" target=\"_parent\"><img src=\"https://colab.research.google.com/assets/colab-badge.svg\" alt=\"Open In Colab\"/></a>"
      ]
    },
    {
      "cell_type": "markdown",
      "source": [
        "# 프로젝트 소개"
      ],
      "metadata": {
        "id": "h7s57_wDmIjx"
      }
    },
    {
      "cell_type": "markdown",
      "source": [
        "- URL Shrotener\n",
        "  - Front-end 파트보다 더 중요한 비지니스 로직에 집중\n",
        "  - 복잡한 통계 데이터 쿼리 능력 배양\n",
        "  - 클라이언트 정보를 알아내는 기법\n",
        "  - 각종 마이너 테크닉 습득 가능\n",
        "  - 단순 리다이렉팅이 아니라, 통계, 실제 휴먼 트래픽 여부 등 확인\n",
        "  - 특정 환경에서의 페이지 접근 통제"
      ],
      "metadata": {
        "id": "Lb-bdh9JmMJv"
      }
    },
    {
      "cell_type": "markdown",
      "source": [
        "# 프로젝트 Tasks"
      ],
      "metadata": {
        "id": "fpXQjhCHmfDG"
      }
    },
    {
      "cell_type": "markdown",
      "source": [
        "## Front-end\n",
        "  - 메인 랜딩 페이지\n",
        "  - 로그인/회원가입 페이지 \n",
        "  - 비밀번호 찾기 페이지\n",
        "  - 이메일 인증\n",
        "  - URL 단축\n",
        "  - 통계 페이지\n",
        "  - 회원개인프로필설정\n",
        "  - 회사설정\n",
        "  - Vue.js"
      ],
      "metadata": {
        "id": "uofczrkLmjxF"
      }
    },
    {
      "cell_type": "markdown",
      "source": [
        "## Back-end\n",
        "- 정책수립\n",
        "- DB 모델링\n",
        "- Rendering Views\n",
        "- API 만들기\n",
        "- Cache 사용\n",
        "- Django ORM 이용한 쿼리\n"
      ],
      "metadata": {
        "id": "IKgjnYCcmnPE"
      }
    },
    {
      "cell_type": "markdown",
      "source": [
        "## 기타\n",
        "- 텔레그램 봇 만들기 \n",
        "- Static File 관리\n",
        "- CICD 구성"
      ],
      "metadata": {
        "id": "s9o1yNXQmqad"
      }
    },
    {
      "cell_type": "markdown",
      "source": [
        "# 정책"
      ],
      "metadata": {
        "id": "TTTI2_03m3ER"
      }
    },
    {
      "cell_type": "markdown",
      "source": [
        "## 기본\n",
        "  - User당50개생성가능\n",
        "  - 리프레시 하지 않으면 60일 유효\n",
        "  - 이메일 미인증시 사용 불가\n",
        "  - 1초에같은IP에서5회이상호출불가 - 기본통계 제공\n",
        "  - 302리턴\n",
        "  \n",
        "## 유료\n",
        "  - 무제한 생성 가능\n",
        "  - 삭제할때까지 삭제되지 않음\n",
        "  - 이메일 미인증시 사용 불가\n",
        "  - 1초에같은IP에서20회이상호출불가 - 어드벤스드 통계 제공\n",
        "  - 301리턴"
      ],
      "metadata": {
        "id": "e6Nl1n5fmvw5"
      }
    },
    {
      "cell_type": "markdown",
      "source": [
        "# Rendering Views, Json Response Views"
      ],
      "metadata": {
        "id": "ZdOiWB9knKkg"
      }
    },
    {
      "cell_type": "markdown",
      "source": [
        "## 1. HTTPResponse"
      ],
      "metadata": {
        "id": "NO0uwKvRnN3F"
      }
    },
    {
      "cell_type": "markdown",
      "source": [
        "- Rendering View, Json Response View 모두 API의 일종\n",
        "- HTML을 렌더링 하는지, Json의 형태로 단순히 정보만을 주는 차이\n",
        "- 렌더링을 해야할 때는 Django의 render 를 사용 (HTTPResponse 사용)\n",
        "- Json 포맷으로 전달해야 할 때는 JsonResponse를 사용"
      ],
      "metadata": {
        "id": "Owq0MX8onPbn"
      }
    },
    {
      "cell_type": "markdown",
      "source": [
        "## 2. RestAPI"
      ],
      "metadata": {
        "id": "5S9vgVdfnUDK"
      }
    },
    {
      "cell_type": "markdown",
      "source": [
        "### REST(REpresentational State Transfer)\n",
        "- 프로토콜 아님 \n",
        "- 표준 아님\n",
        "\n",
        "### 특징\n",
        "- Uniform\n",
        "- Stateless\n",
        "- Cacheable\n",
        "\n",
        "### 구현\n",
        "- Method로 하는 행위 구별 \n",
        "- Item과 id만 URL에 사용\n",
        "- “-”는가독성을위해사용 \n",
        "- “_” 는 사용하지 않음\n",
        "- 파일 확장자는 uri에 포함하지 않음 \n",
        "- 언제나 소문자만 사용"
      ],
      "metadata": {
        "id": "e7853zqznWb5"
      }
    },
    {
      "cell_type": "markdown",
      "source": [
        "### 예시\n",
        "- GET http://abc.com/users\n",
        "- GET http://abc.com/user/1\n",
        "- POST http://abc.com/users\n",
        "- PUT http://abc.com/user/1\n",
        "- DELETE http://abc.com/user/1\n",
        "- GET http://abc.com/user/1/todos"
      ],
      "metadata": {
        "id": "-YSfLIjengg_"
      }
    },
    {
      "cell_type": "markdown",
      "source": [
        "# DB Modelling"
      ],
      "metadata": {
        "id": "liUh07jtnlLo"
      }
    },
    {
      "cell_type": "markdown",
      "source": [
        "## settings.py"
      ],
      "metadata": {
        "id": "tZRooH_Nob-T"
      }
    },
    {
      "cell_type": "code",
      "source": [
        "# Database\n",
        "# https://docs.djangoproject.com/en/3.2/ref/settings/#databases\n",
        "\n",
        "DATABASES = {\n",
        "    \"default\": {\n",
        "        \"ENGINE\": \"django.db.backends.mysql\",\n",
        "        \"NAME\": \"app_db\",\n",
        "        \"USER\": \"root\",\n",
        "        \"PASSWORD\": \"Xptmxm123!\",\n",
        "        \"HOST\": \"34.64.241.134\",\n",
        "        \"PORT\": 3306,\n",
        "        \"OPTIONS\": {\"autocommit\": True, \"charset\": \"utf8mb4\"},\n",
        "    }\n",
        "}"
      ],
      "metadata": {
        "id": "UAnJ439hodlS"
      },
      "execution_count": null,
      "outputs": []
    },
    {
      "cell_type": "markdown",
      "source": [
        "## 1. User, Org, PayPlan"
      ],
      "metadata": {
        "id": "ARYU-8YGoJBl"
      }
    },
    {
      "cell_type": "code",
      "source": [
        "class PayPlan(models.Model):\n",
        "  name = models.CharField(max_length=20)\n",
        "  price = models.IntegerField()\n",
        "  updated_at = models.DateTimeField(auto_now=True) \n",
        "  create_at = models.DateTimeField(auto_now_add=True)\n",
        "\n",
        "class Organization(models.Model):\n",
        "   class Industries(models.TextChoices):\n",
        "      PERSONAL = \"personal\"\n",
        "      RETAIL = \"retail\"\n",
        "      MANUFACTURING = \"manufacturing\"\n",
        "      IT = \"it\"\n",
        "      OTHERS = \"others\"\n",
        "  name = models.CharField(max_length=50)\n",
        "  industry = models.CharField(max_length=15, choices=Industries.choices, default=Industries.OTHERS) \n",
        "  pay_plan = models.ForeignKey(PayPlan, on_delete=models.DO_NOTHING, null=True)\n",
        "  updated_at = models.DateTimeField(auto_now=True)\n",
        "  create_at = models.DateTimeField(auto_now_add=True)\n",
        "  \n",
        "class Users(AbstractUser):\n",
        "  full_name = models.CharField(max_length=100, null=True)\n",
        "  organization = models.ForeignKey(Organization, on_delete=models.DO_NOTHING, null=True)"
      ],
      "metadata": {
        "id": "htb6xd7KoKPo"
      },
      "execution_count": null,
      "outputs": []
    },
    {
      "cell_type": "markdown",
      "source": [
        "## 2. Email Verification"
      ],
      "metadata": {
        "id": "TAyqMPBZn3uM"
      }
    },
    {
      "cell_type": "code",
      "source": [
        "class EmailVerification(models.Model):\n",
        "  user = models.ForeignKey(Users, on_delete=models.CASCADE) \n",
        "  key = models.CharField(max_length=100, null=True) \n",
        "  verified = models.BooleanField(default=False)\n",
        "  updated_at = models.DateTimeField(auto_now=True) \n",
        "  create_at = models.DateTimeField(auto_now_add=True)\n",
        "class Categories(models.Model):\n",
        "  name = models.CharField(max_length=100)\n",
        "  organization = models.ForeignKey(Organization, on_delete=models.DO_NOTHING, null=True) \n",
        "  creator = models.ForeignKey(Users, on_delete=models.CASCADE)\n",
        "  updated_at = models.DateTimeField(auto_now=True)\n",
        "  created_at = models.DateTimeField(auto_now_add=True)"
      ],
      "metadata": {
        "id": "d26-4fdzn-xD"
      },
      "execution_count": null,
      "outputs": []
    },
    {
      "cell_type": "code",
      "source": [
        "class ShortenedUrls(models.Model):\n",
        "    class UrlCreatedVia(models.TextChoices):\n",
        "        WEBSITE = \"web\"\n",
        "        TELEGRAM = \"telegram\"\n",
        "    def rand_string():\n",
        "      str_pool = string.digits + string.ascii_letters\n",
        "      return (\"\".join([random.choice(str_pool) for _ in range(6)])).lower()\n",
        "\n",
        "    nick_name = models.CharField(max_length=100)\n",
        "    category = models.ForeignKey(Categories, on_delete=models.DO_NOTHING, null=True)\n",
        "    prefix = models.CharField(max_length=50)\n",
        "    creator = models.ForeignKey(Users, on_delete=models.CASCADE)\n",
        "    target_url = models.CharField(max_length=2000)\n",
        "    shortened_url = models.CharField(max_length=6, default=rand_string)\n",
        "    create_via = models.CharField(max_length=8, choices=UrlCreatedVia.choices, default=UrlCreatedVia.WEBSITE) expired_at = models.DateTimeField(null=True)\n",
        "    updated_at = models.DateTimeField(auto_now=True)\n",
        "    created_at = models.DateTimeField(auto_now_add=True)"
      ],
      "metadata": {
        "id": "mtUnQiHknqq8"
      },
      "execution_count": null,
      "outputs": []
    },
    {
      "cell_type": "markdown",
      "source": [
        "# Django Rest Framework"
      ],
      "metadata": {
        "id": "XUBGn67Q0IKT"
      }
    },
    {
      "cell_type": "markdown",
      "source": [
        "- DRF란?\n",
        "  - Django안에서 RESTful API서버를 쉽게 구축할 수 있도록 도와주는 라이브러리\n",
        "  - Micro Framework.\n"
      ],
      "metadata": {
        "id": "UGMbobEM0bfI"
      }
    },
    {
      "cell_type": "markdown",
      "source": [
        "- Serializer\n",
        "  - Json -> Python 객채 \n",
        "  - Python 객체 -> Json  \n",
        "\n",
        "    ![스크린샷 2023-02-04 오후 11 26 34](https://user-images.githubusercontent.com/96982072/216772901-4abeed15-46c3-4b3d-9bf7-d783a032113f.png)\n"
      ],
      "metadata": {
        "id": "vUz1Ysw-0h2y"
      }
    },
    {
      "cell_type": "markdown",
      "source": [
        "- 설치"
      ],
      "metadata": {
        "id": "wU2T4LnB0nbp"
      }
    },
    {
      "cell_type": "code",
      "source": [
        "$> pip install djangorestframework"
      ],
      "metadata": {
        "id": "jLV_SMWn0qUF"
      },
      "execution_count": null,
      "outputs": []
    },
    {
      "cell_type": "markdown",
      "source": [
        "- settings.py"
      ],
      "metadata": {
        "id": "WUyHOWtr0q8d"
      }
    },
    {
      "cell_type": "code",
      "source": [
        "INSTALLED_APPS = [ \n",
        "    ...\n",
        "    'rest_framework’, \n",
        "    ]"
      ],
      "metadata": {
        "id": "gDZX45lH0syQ"
      },
      "execution_count": null,
      "outputs": []
    }
  ]
}