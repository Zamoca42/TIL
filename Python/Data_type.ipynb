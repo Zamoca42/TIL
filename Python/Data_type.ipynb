{
  "nbformat": 4,
  "nbformat_minor": 0,
  "metadata": {
    "colab": {
      "provenance": [],
      "collapsed_sections": [
        "04FyFnEPgOW1"
      ],
      "authorship_tag": "ABX9TyPAoedYvg6XqqsxDNHjA8Kf",
      "include_colab_link": true
    },
    "kernelspec": {
      "name": "python3",
      "display_name": "Python 3"
    },
    "language_info": {
      "name": "python"
    }
  },
  "cells": [
    {
      "cell_type": "markdown",
      "metadata": {
        "id": "view-in-github",
        "colab_type": "text"
      },
      "source": [
        "<a href=\"https://colab.research.google.com/github/Zamoca42/TIL/blob/main/Python/Data_type.ipynb\" target=\"_parent\"><img src=\"https://colab.research.google.com/assets/colab-badge.svg\" alt=\"Open In Colab\"/></a>"
      ]
    },
    {
      "cell_type": "markdown",
      "source": [
        "# 자료형 심화"
      ],
      "metadata": {
        "id": "xgd3Qze8gL5B"
      }
    },
    {
      "cell_type": "markdown",
      "source": [
        "## 1. 문자열 다루기"
      ],
      "metadata": {
        "id": "04FyFnEPgOW1"
      }
    },
    {
      "cell_type": "markdown",
      "source": [
        "- 문자열을 다루는 중요한 메서드 학습\n",
        "- 실습문제를 풀며 메서드 활용해보기"
      ],
      "metadata": {
        "id": "B2jnA4rPgTZs"
      }
    },
    {
      "cell_type": "markdown",
      "source": [
        "- 소문자를 대문자로 바꾸는 방법"
      ],
      "metadata": {
        "id": "jPVs0A97gcDD"
      }
    },
    {
      "cell_type": "code",
      "execution_count": 1,
      "metadata": {
        "colab": {
          "base_uri": "https://localhost:8080/",
          "height": 36
        },
        "id": "R1SPWsJWgF1H",
        "outputId": "9232d3db-5912-459f-acac-3d0c84d4fad2"
      },
      "outputs": [
        {
          "output_type": "execute_result",
          "data": {
            "text/plain": [
              "'BE PROUD OF YOURSELF'"
            ],
            "application/vnd.google.colaboratory.intrinsic+json": {
              "type": "string"
            }
          },
          "metadata": {},
          "execution_count": 1
        }
      ],
      "source": [
        "\"be proud of yourself\".upper()"
      ]
    },
    {
      "cell_type": "markdown",
      "source": [
        "- 대문자를 소문자로 바꾸는 방법"
      ],
      "metadata": {
        "id": "tU8LIBg8giDB"
      }
    },
    {
      "cell_type": "code",
      "source": [
        "\"LOVE YOURSELF\".lower()"
      ],
      "metadata": {
        "colab": {
          "base_uri": "https://localhost:8080/",
          "height": 36
        },
        "id": "8q4-ZbdZgguE",
        "outputId": "5196a339-fc90-4923-e0d6-69338a423948"
      },
      "execution_count": 2,
      "outputs": [
        {
          "output_type": "execute_result",
          "data": {
            "text/plain": [
              "'love yourself'"
            ],
            "application/vnd.google.colaboratory.intrinsic+json": {
              "type": "string"
            }
          },
          "metadata": {},
          "execution_count": 2
        }
      ]
    },
    {
      "cell_type": "markdown",
      "source": [
        "- 문자열 바꾸는 방법"
      ],
      "metadata": {
        "id": "k6sBzIg4go4q"
      }
    },
    {
      "cell_type": "code",
      "source": [
        "\"오늘 날씨는 흐림입니다.\".replace(\"흐림\",\"맑음\")"
      ],
      "metadata": {
        "colab": {
          "base_uri": "https://localhost:8080/",
          "height": 36
        },
        "id": "moTNfmfrgm4r",
        "outputId": "3e28f15f-db21-4a0d-8bc6-86241509504f"
      },
      "execution_count": 3,
      "outputs": [
        {
          "output_type": "execute_result",
          "data": {
            "text/plain": [
              "'오늘 날씨는 맑음입니다.'"
            ],
            "application/vnd.google.colaboratory.intrinsic+json": {
              "type": "string"
            }
          },
          "metadata": {},
          "execution_count": 3
        }
      ]
    },
    {
      "cell_type": "markdown",
      "source": [
        "- 문자열 위치 찾는 방법\n",
        "  - 인덱스"
      ],
      "metadata": {
        "id": "Bj8ZTpfxgwrZ"
      }
    },
    {
      "cell_type": "code",
      "source": [
        "\"Hello World\".find(\"World\") "
      ],
      "metadata": {
        "colab": {
          "base_uri": "https://localhost:8080/"
        },
        "id": "FMhVs6WXgu_q",
        "outputId": "1a00480a-e5a8-4347-8a94-58d5978c1b15"
      },
      "execution_count": 4,
      "outputs": [
        {
          "output_type": "execute_result",
          "data": {
            "text/plain": [
              "6"
            ]
          },
          "metadata": {},
          "execution_count": 4
        }
      ]
    },
    {
      "cell_type": "markdown",
      "source": [
        "- 문자열 개수 세는 방법"
      ],
      "metadata": {
        "id": "K8f-cnqig8xv"
      }
    },
    {
      "cell_type": "code",
      "source": [
        "\"This cat is my cat\".count(\"cat\")"
      ],
      "metadata": {
        "colab": {
          "base_uri": "https://localhost:8080/"
        },
        "id": "UkmVXV3xg2LG",
        "outputId": "943e2580-e825-4ad3-d109-2a739c7ab1f5"
      },
      "execution_count": 6,
      "outputs": [
        {
          "output_type": "execute_result",
          "data": {
            "text/plain": [
              "2"
            ]
          },
          "metadata": {},
          "execution_count": 6
        }
      ]
    },
    {
      "cell_type": "markdown",
      "source": [
        "- 문자열 분리하는 방법"
      ],
      "metadata": {
        "id": "SQ5fsaoPhFFV"
      }
    },
    {
      "cell_type": "code",
      "source": [
        "'나이키신발 265 X2421 78000'.split()"
      ],
      "metadata": {
        "colab": {
          "base_uri": "https://localhost:8080/"
        },
        "id": "CK6F8rZIhAsS",
        "outputId": "a5f234aa-764e-4c71-9798-01135c1200f9"
      },
      "execution_count": 7,
      "outputs": [
        {
          "output_type": "execute_result",
          "data": {
            "text/plain": [
              "['나이키신발', '265', 'X2421', '78000']"
            ]
          },
          "metadata": {},
          "execution_count": 7
        }
      ]
    },
    {
      "cell_type": "code",
      "source": [
        "\"나이키신발:265:X2421:78000\".split(':')"
      ],
      "metadata": {
        "colab": {
          "base_uri": "https://localhost:8080/"
        },
        "id": "PmNOTGoJhKn8",
        "outputId": "8c094874-870a-49f8-acc5-5e5ae8fc50fb"
      },
      "execution_count": 8,
      "outputs": [
        {
          "output_type": "execute_result",
          "data": {
            "text/plain": [
              "['나이키신발', '265', 'X2421', '78000']"
            ]
          },
          "metadata": {},
          "execution_count": 8
        }
      ]
    },
    {
      "cell_type": "markdown",
      "source": [
        "- 문자열을 연결하는 방법"
      ],
      "metadata": {
        "id": "_nzoCC0LhWXI"
      }
    },
    {
      "cell_type": "code",
      "source": [
        "' '.join(['나이키신발', '265', 'X2421', '78000'])"
      ],
      "metadata": {
        "colab": {
          "base_uri": "https://localhost:8080/",
          "height": 36
        },
        "id": "60BvlOynhP8l",
        "outputId": "86d19096-ba06-4827-dd9c-67ba1be1529b"
      },
      "execution_count": 10,
      "outputs": [
        {
          "output_type": "execute_result",
          "data": {
            "text/plain": [
              "'나이키신발 265 X2421 78000'"
            ],
            "application/vnd.google.colaboratory.intrinsic+json": {
              "type": "string"
            }
          },
          "metadata": {},
          "execution_count": 10
        }
      ]
    },
    {
      "cell_type": "code",
      "source": [
        "':'.join(['나이키신발', '265', 'X2421', '78000'])"
      ],
      "metadata": {
        "colab": {
          "base_uri": "https://localhost:8080/",
          "height": 36
        },
        "id": "gKHjQOQvhaym",
        "outputId": "f3d10d22-fcf2-4840-ea93-564fe0db735e"
      },
      "execution_count": 11,
      "outputs": [
        {
          "output_type": "execute_result",
          "data": {
            "text/plain": [
              "'나이키신발:265:X2421:78000'"
            ],
            "application/vnd.google.colaboratory.intrinsic+json": {
              "type": "string"
            }
          },
          "metadata": {},
          "execution_count": 11
        }
      ]
    },
    {
      "cell_type": "markdown",
      "source": [
        "- 공백 삭제하는 방법"
      ],
      "metadata": {
        "id": "KwgawzGWhiwo"
      }
    },
    {
      "cell_type": "code",
      "source": [
        "'       YEAH       '.lstrip()"
      ],
      "metadata": {
        "colab": {
          "base_uri": "https://localhost:8080/",
          "height": 36
        },
        "id": "IJmpdvK-hgNk",
        "outputId": "3c802ae8-3637-44ef-c761-403842cf814a"
      },
      "execution_count": 14,
      "outputs": [
        {
          "output_type": "execute_result",
          "data": {
            "text/plain": [
              "'YEAH       '"
            ],
            "application/vnd.google.colaboratory.intrinsic+json": {
              "type": "string"
            }
          },
          "metadata": {},
          "execution_count": 14
        }
      ]
    },
    {
      "cell_type": "code",
      "source": [
        "'       YEAH       '.rstrip()"
      ],
      "metadata": {
        "colab": {
          "base_uri": "https://localhost:8080/",
          "height": 36
        },
        "id": "YQjIgIQRhnmj",
        "outputId": "49d53e0a-4106-4452-e627-e18986528e3c"
      },
      "execution_count": 15,
      "outputs": [
        {
          "output_type": "execute_result",
          "data": {
            "text/plain": [
              "'       YEAH'"
            ],
            "application/vnd.google.colaboratory.intrinsic+json": {
              "type": "string"
            }
          },
          "metadata": {},
          "execution_count": 15
        }
      ]
    },
    {
      "cell_type": "code",
      "source": [
        "'       YEAH       '.strip()"
      ],
      "metadata": {
        "colab": {
          "base_uri": "https://localhost:8080/",
          "height": 36
        },
        "id": "By_AvM3EhteP",
        "outputId": "c6a22499-b9c3-439b-99b4-34d364b9419e"
      },
      "execution_count": 16,
      "outputs": [
        {
          "output_type": "execute_result",
          "data": {
            "text/plain": [
              "'YEAH'"
            ],
            "application/vnd.google.colaboratory.intrinsic+json": {
              "type": "string"
            }
          },
          "metadata": {},
          "execution_count": 16
        }
      ]
    },
    {
      "cell_type": "markdown",
      "source": [
        "## 2. 문자열 포매팅"
      ],
      "metadata": {
        "id": "8pOGYnZuhzvl"
      }
    },
    {
      "cell_type": "markdown",
      "source": [
        "- 문자열 포매팅 2가지 방법에 대해서 학습\n",
        "- format 메서드\n",
        "- f-string"
      ],
      "metadata": {
        "id": "LWm_Vnglh37m"
      }
    },
    {
      "cell_type": "markdown",
      "source": [
        "- '{인덱스}'.format(데이터)"
      ],
      "metadata": {
        "id": "NFUH0-DIiBlJ"
      }
    },
    {
      "cell_type": "code",
      "source": [
        "'Hello {0}'.format('startcoding')"
      ],
      "metadata": {
        "colab": {
          "base_uri": "https://localhost:8080/",
          "height": 36
        },
        "id": "2U4RUd06hu3z",
        "outputId": "629d3be1-1bf8-4d0b-8baf-d7c3791a3a35"
      },
      "execution_count": 17,
      "outputs": [
        {
          "output_type": "execute_result",
          "data": {
            "text/plain": [
              "'Hello startcoding'"
            ],
            "application/vnd.google.colaboratory.intrinsic+json": {
              "type": "string"
            }
          },
          "metadata": {},
          "execution_count": 17
        }
      ]
    },
    {
      "cell_type": "markdown",
      "source": [
        "- 값을 여러개 넣는 방법"
      ],
      "metadata": {
        "id": "i5h4Q8yIiK-r"
      }
    },
    {
      "cell_type": "code",
      "source": [
        "'Hello {0} {1} {2}'.format('apple', 'pineapple', 'pen')"
      ],
      "metadata": {
        "colab": {
          "base_uri": "https://localhost:8080/",
          "height": 36
        },
        "id": "c1N4vw3ziJdG",
        "outputId": "f54fd9c2-5827-48a3-ea1a-5cfd621e41bd"
      },
      "execution_count": 19,
      "outputs": [
        {
          "output_type": "execute_result",
          "data": {
            "text/plain": [
              "'Hello apple pineapple pen'"
            ],
            "application/vnd.google.colaboratory.intrinsic+json": {
              "type": "string"
            }
          },
          "metadata": {},
          "execution_count": 19
        }
      ]
    },
    {
      "cell_type": "markdown",
      "source": [
        "- 인덱스 생략 방법"
      ],
      "metadata": {
        "id": "YHU5mOx3iU-U"
      }
    },
    {
      "cell_type": "code",
      "source": [
        "'Hello {} {} {}'.format('apple', 'pineapple', 'pen')"
      ],
      "metadata": {
        "colab": {
          "base_uri": "https://localhost:8080/",
          "height": 36
        },
        "id": "nHduy3g3iRi7",
        "outputId": "574bed4b-b710-49cd-97ad-7d9e7a345f4c"
      },
      "execution_count": 20,
      "outputs": [
        {
          "output_type": "execute_result",
          "data": {
            "text/plain": [
              "'Hello apple pineapple pen'"
            ],
            "application/vnd.google.colaboratory.intrinsic+json": {
              "type": "string"
            }
          },
          "metadata": {},
          "execution_count": 20
        }
      ]
    },
    {
      "cell_type": "markdown",
      "source": [
        "- f-string"
      ],
      "metadata": {
        "id": "qTBtlo1ciZMn"
      }
    },
    {
      "cell_type": "code",
      "source": [
        "name1 = 'apple'\n",
        "name2 = 'pineapple'\n",
        "name3 = 'pen'\n",
        "\n",
        "msg = f'Hello {name1} {name2} {name3}'\n",
        "print(msg)"
      ],
      "metadata": {
        "colab": {
          "base_uri": "https://localhost:8080/"
        },
        "id": "rsDSX8NyiYH6",
        "outputId": "4fc2d47e-72f6-485e-a6c9-4132fcc50f63"
      },
      "execution_count": 22,
      "outputs": [
        {
          "output_type": "stream",
          "name": "stdout",
          "text": [
            "Hello apple pineapple pen\n"
          ]
        }
      ]
    }
  ]
}