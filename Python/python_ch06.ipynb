{
  "nbformat": 4,
  "nbformat_minor": 0,
  "metadata": {
    "colab": {
      "provenance": [],
      "authorship_tag": "ABX9TyNavBChYudBZQAl0fVCiAOc",
      "include_colab_link": true
    },
    "kernelspec": {
      "name": "python3",
      "display_name": "Python 3"
    },
    "language_info": {
      "name": "python"
    }
  },
  "cells": [
    {
      "cell_type": "markdown",
      "metadata": {
        "id": "view-in-github",
        "colab_type": "text"
      },
      "source": [
        "<a href=\"https://colab.research.google.com/github/Zamoca42/TIL/blob/main/Python/python_ch06.ipynb\" target=\"_parent\"><img src=\"https://colab.research.google.com/assets/colab-badge.svg\" alt=\"Open In Colab\"/></a>"
      ]
    },
    {
      "cell_type": "markdown",
      "source": [
        "# 객체와 클래스\n",
        "\n",
        " 파이썬에서 class란 변수와 메소드(객체 내에 정의된 함수를 메소드라 부른다)를 정의하는 일종의 틀이다. 그리고 이러한 틀을 통해 생성된 것들을 객체(object) 또는 class의 instance라 부른다.\n",
        " \n",
        "석고상을 만들 때 그것을 만들기 위한 틀을 만들고 거기에 석고를 부어서 잔뜩 찍어내는 걸 생각하면 된다. 여기서 틀이 class이고 찍어져 나온 결과물이 객체이다."
      ],
      "metadata": {
        "id": "J7b9SED0JSHJ"
      }
    },
    {
      "cell_type": "code",
      "execution_count": 2,
      "metadata": {
        "id": "kb9rhazfDoJE"
      },
      "outputs": [],
      "source": [
        "class human:  # class의 이름 정의\n",
        "\n",
        "  def __init__(self, height, age): # class가 처음 호출될 때 실행될 메서드\n",
        "    self.height = height  # class 변수 \n",
        "    self.age = age\n",
        "    new_var = 3\n",
        "\n",
        "  def how_old(self):  # class 메서드\n",
        "    print(self.age, '살 입니다.')\n",
        "\n",
        "  def how_tall(self): \n",
        "    print(self.height, 'cm 입니다.')"
      ]
    },
    {
      "cell_type": "markdown",
      "source": [
        "## 같은 클래스의 두 객체는?\n",
        "\n",
        "  Seunghyun1 = human(180, 31)  \n",
        "  Seunghyun2 = human(180, 31)\n",
        "\n",
        "  Seunghyun1 == Seunghyun2?  \n",
        "  False!  \n",
        "  \n",
        "똑같은 값을 통해 객체를 생성했지만 objec는 생성될 때 마다 새로운 메모리 공간에 값을 생성하기 때문에 엄밀히 말하면 다른 값이다!"
      ],
      "metadata": {
        "id": "escX18rtMYRr"
      }
    },
    {
      "cell_type": "markdown",
      "source": [
        "## 메서드 생성에 유의할 점\n",
        "\n",
        " 메소드를 클래스 내부에 선언할 때는 첫 번째 매개변수는 반드시 현재 클래스의 객체가 되어야 합니다.  \n",
        " 관습적으로 이를 self라는 단어로 표시합니다.  \n",
        "만약 메소드 내부에서 변수선언을 할 때 self.와 함께 선언을 하지 않을 경우 그 변수는 그 메소드의 지역변수가 됩니다."
      ],
      "metadata": {
        "id": "Sct-r0qTM6cd"
      }
    },
    {
      "cell_type": "code",
      "source": [
        "sh = human(180,31)\n",
        "sh.age"
      ],
      "metadata": {
        "colab": {
          "base_uri": "https://localhost:8080/"
        },
        "id": "RAIsmFyIMo-F",
        "outputId": "9f5a8d09-f65e-4dbb-a2b3-df7d3fc1d593"
      },
      "execution_count": 8,
      "outputs": [
        {
          "output_type": "execute_result",
          "data": {
            "text/plain": [
              "31"
            ]
          },
          "metadata": {},
          "execution_count": 8
        }
      ]
    },
    {
      "cell_type": "code",
      "source": [
        "sh.new_var"
      ],
      "metadata": {
        "colab": {
          "base_uri": "https://localhost:8080/",
          "height": 166
        },
        "id": "OVPIM6hkNjSy",
        "outputId": "2f241b3b-9c23-458f-83d8-625a811c9c78"
      },
      "execution_count": 9,
      "outputs": [
        {
          "output_type": "error",
          "ename": "AttributeError",
          "evalue": "ignored",
          "traceback": [
            "\u001b[0;31m---------------------------------------------------------------------------\u001b[0m",
            "\u001b[0;31mAttributeError\u001b[0m                            Traceback (most recent call last)",
            "\u001b[0;32m<ipython-input-9-3b31cd65233c>\u001b[0m in \u001b[0;36m<module>\u001b[0;34m\u001b[0m\n\u001b[0;32m----> 1\u001b[0;31m \u001b[0msh\u001b[0m\u001b[0;34m.\u001b[0m\u001b[0mnew_var\u001b[0m\u001b[0;34m\u001b[0m\u001b[0;34m\u001b[0m\u001b[0m\n\u001b[0m",
            "\u001b[0;31mAttributeError\u001b[0m: 'human' object has no attribute 'new_var'"
          ]
        }
      ]
    },
    {
      "cell_type": "code",
      "source": [],
      "metadata": {
        "id": "6_rGLyCmODF-"
      },
      "execution_count": null,
      "outputs": []
    }
  ]
}