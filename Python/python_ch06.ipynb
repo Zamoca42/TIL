{
  "nbformat": 4,
  "nbformat_minor": 0,
  "metadata": {
    "colab": {
      "provenance": [],
      "collapsed_sections": [],
      "authorship_tag": "ABX9TyO1szIegOS2K7XQguuV6YIW",
      "include_colab_link": true
    },
    "kernelspec": {
      "name": "python3",
      "display_name": "Python 3"
    },
    "language_info": {
      "name": "python"
    }
  },
  "cells": [
    {
      "cell_type": "markdown",
      "metadata": {
        "id": "view-in-github",
        "colab_type": "text"
      },
      "source": [
        "<a href=\"https://colab.research.google.com/github/Zamoca42/TIL/blob/main/Python/python_ch06.ipynb\" target=\"_parent\"><img src=\"https://colab.research.google.com/assets/colab-badge.svg\" alt=\"Open In Colab\"/></a>"
      ]
    },
    {
      "cell_type": "markdown",
      "source": [
        "# 객체와 클래스\n",
        "\n",
        " 파이썬에서 class란 변수와 메소드(객체 내에 정의된 함수를 메소드라 부른다)를 정의하는 일종의 틀이다. 그리고 이러한 틀을 통해 생성된 것들을 객체(object) 또는 class의 instance라 부른다.\n",
        " \n",
        "석고상을 만들 때 그것을 만들기 위한 틀을 만들고 거기에 석고를 부어서 잔뜩 찍어내는 걸 생각하면 된다. 여기서 틀이 class이고 찍어져 나온 결과물이 객체이다."
      ],
      "metadata": {
        "id": "J7b9SED0JSHJ"
      }
    },
    {
      "cell_type": "code",
      "execution_count": null,
      "metadata": {
        "id": "kb9rhazfDoJE"
      },
      "outputs": [],
      "source": [
        "class human:  # class의 이름 정의\n",
        "\n",
        "  def __init__(self, height, age): # class가 처음 호출될 때 실행될 메서드\n",
        "    self.height = height  # class 변수 \n",
        "    self.age = age\n",
        "    new_var = 3\n",
        "\n",
        "  def how_old(self):  # class 메서드\n",
        "    print(self.age, '살 입니다.')\n",
        "\n",
        "  def how_tall(self): \n",
        "    print(self.height, 'cm 입니다.')"
      ]
    },
    {
      "cell_type": "markdown",
      "source": [
        "## 같은 클래스의 두 객체는?\n",
        "\n",
        "  Seunghyun1 = human(180, 31)  \n",
        "  Seunghyun2 = human(180, 31)\n",
        "\n",
        "  Seunghyun1 == Seunghyun2?  \n",
        "  False!  \n",
        "  \n",
        "똑같은 값을 통해 객체를 생성했지만 objec는 생성될 때 마다 새로운 메모리 공간에 값을 생성하기 때문에 엄밀히 말하면 다른 값이다!"
      ],
      "metadata": {
        "id": "escX18rtMYRr"
      }
    },
    {
      "cell_type": "markdown",
      "source": [
        "## 메서드 생성에 유의할 점\n",
        "\n",
        " 메소드를 클래스 내부에 선언할 때는 첫 번째 매개변수는 반드시 현재 클래스의 객체가 되어야 합니다.  \n",
        " 관습적으로 이를 self라는 단어로 표시합니다.  \n",
        "만약 메소드 내부에서 변수선언을 할 때 self.와 함께 선언을 하지 않을 경우 그 변수는 그 메소드의 지역변수가 됩니다."
      ],
      "metadata": {
        "id": "Sct-r0qTM6cd"
      }
    },
    {
      "cell_type": "code",
      "source": [
        "sh = human(180,31)\n",
        "sh.age"
      ],
      "metadata": {
        "colab": {
          "base_uri": "https://localhost:8080/"
        },
        "id": "RAIsmFyIMo-F",
        "outputId": "9f5a8d09-f65e-4dbb-a2b3-df7d3fc1d593"
      },
      "execution_count": null,
      "outputs": [
        {
          "output_type": "execute_result",
          "data": {
            "text/plain": [
              "31"
            ]
          },
          "metadata": {},
          "execution_count": 8
        }
      ]
    },
    {
      "cell_type": "code",
      "source": [
        "sh.new_var"
      ],
      "metadata": {
        "colab": {
          "base_uri": "https://localhost:8080/",
          "height": 166
        },
        "id": "OVPIM6hkNjSy",
        "outputId": "2f241b3b-9c23-458f-83d8-625a811c9c78"
      },
      "execution_count": null,
      "outputs": [
        {
          "output_type": "error",
          "ename": "AttributeError",
          "evalue": "ignored",
          "traceback": [
            "\u001b[0;31m---------------------------------------------------------------------------\u001b[0m",
            "\u001b[0;31mAttributeError\u001b[0m                            Traceback (most recent call last)",
            "\u001b[0;32m<ipython-input-9-3b31cd65233c>\u001b[0m in \u001b[0;36m<module>\u001b[0;34m\u001b[0m\n\u001b[0;32m----> 1\u001b[0;31m \u001b[0msh\u001b[0m\u001b[0;34m.\u001b[0m\u001b[0mnew_var\u001b[0m\u001b[0;34m\u001b[0m\u001b[0;34m\u001b[0m\u001b[0m\n\u001b[0m",
            "\u001b[0;31mAttributeError\u001b[0m: 'human' object has no attribute 'new_var'"
          ]
        }
      ]
    },
    {
      "cell_type": "markdown",
      "source": [
        "# 객체지향과 절차지향\n",
        "\n",
        "절차지향(구조적 프로그래밍): 데이터 구조와 그 데이터를 변화시키는 알고리즘으로 구성\n",
        "\n",
        "객체지향: 객체들이 메시지를 통하여 통신함으로써 원하는 결과를 얻는다. 각 객체는 고유의 데이터와 데이터를 처리할 수 있는 메소드로 구성"
      ],
      "metadata": {
        "id": "U6h9KN0KOeum"
      }
    },
    {
      "cell_type": "markdown",
      "source": [
        "# 특수 메소드\n",
        "\n",
        "### 생성자와 소멸자\n",
        "\n",
        "- 생성자: \\_\\_init__()\n",
        "  - 객체가 생성된 후 가장 먼저 호출되는 메소드\n",
        "  - 첫번째 매개변수는 self이며 이후에 매개변수 추가 가능\n",
        "  - 주로 멤버 변수의 초기화 코드로 작성\n",
        "\n",
        "- 소멸자: \\_\\_del__()\n",
        "  - 객체가 소멸될 때 호출되는 메소드\n",
        "  - 외부 자원을 사용하는 경우 해제하는 코드를 주로 작성\n",
        "  - self이외의 매개변수를 받지 않음\n",
        "\n",
        "\\* del 객체 이름을 입력하면 삭제할 수 있다.\n",
        "\n"
      ],
      "metadata": {
        "id": "X0MNy6JBPapg"
      }
    },
    {
      "cell_type": "code",
      "source": [
        "class human:  \n",
        "\n",
        "  def __init__(self): \n",
        "    self.height = 3\n",
        "    self.age = 3\n",
        "  \n",
        "  @staticmethod\n",
        "  def addition(x,y):\n",
        "    return x+y\n",
        "  # def __del__(self):\n",
        "  #   print('삭제')\n",
        "  "
      ],
      "metadata": {
        "id": "6_rGLyCmODF-"
      },
      "execution_count": 6,
      "outputs": []
    },
    {
      "cell_type": "code",
      "source": [
        "sh=human()"
      ],
      "metadata": {
        "id": "Jio5DlWnRc9T"
      },
      "execution_count": 2,
      "outputs": []
    },
    {
      "cell_type": "code",
      "source": [
        "del sh"
      ],
      "metadata": {
        "colab": {
          "base_uri": "https://localhost:8080/"
        },
        "id": "Pkc0PI_xRfDa",
        "outputId": "68878b72-a79c-416f-bde7-724fc03152d7"
      },
      "execution_count": 3,
      "outputs": [
        {
          "output_type": "stream",
          "name": "stdout",
          "text": [
            "삭제\n"
          ]
        }
      ]
    },
    {
      "cell_type": "code",
      "source": [
        "sh"
      ],
      "metadata": {
        "colab": {
          "base_uri": "https://localhost:8080/",
          "height": 166
        },
        "id": "j8UQrlV9RgeX",
        "outputId": "f4162dbf-7cf0-4ecd-9b5b-7ad7e41be32d"
      },
      "execution_count": 4,
      "outputs": [
        {
          "output_type": "error",
          "ename": "NameError",
          "evalue": "ignored",
          "traceback": [
            "\u001b[0;31m---------------------------------------------------------------------------\u001b[0m",
            "\u001b[0;31mNameError\u001b[0m                                 Traceback (most recent call last)",
            "\u001b[0;32m<ipython-input-4-06ab4892fdbe>\u001b[0m in \u001b[0;36m<module>\u001b[0;34m\u001b[0m\n\u001b[0;32m----> 1\u001b[0;31m \u001b[0msh\u001b[0m\u001b[0;34m\u001b[0m\u001b[0;34m\u001b[0m\u001b[0m\n\u001b[0m",
            "\u001b[0;31mNameError\u001b[0m: name 'sh' is not defined"
          ]
        }
      ]
    },
    {
      "cell_type": "markdown",
      "source": [
        "### 정적  메소드\n",
        "\n",
        "@staticmethod 데코레이터로 수식\n",
        "\n",
        "인스턴스를 생성하지 않고 클래스를 이용해서 직접 호출할 수 있는 메소드\n",
        "메소드 내에서 멤버 변수를 호출할 수 없고, self매개변수도 사용하지 않습니다\n",
        "\n"
      ],
      "metadata": {
        "id": "NICRw4I3Rono"
      }
    },
    {
      "cell_type": "code",
      "source": [
        "class human:  \n",
        "\n",
        "  def __init__(self): \n",
        "    self.height = 3\n",
        "    self.age = 3\n",
        "  \n",
        "  @staticmethod\n",
        "  def addition(x,y):\n",
        "    return x+y"
      ],
      "metadata": {
        "id": "oriM3wHySaj_"
      },
      "execution_count": null,
      "outputs": []
    },
    {
      "cell_type": "code",
      "source": [
        "human.addition(2,4)"
      ],
      "metadata": {
        "colab": {
          "base_uri": "https://localhost:8080/"
        },
        "id": "yPgowDBRR4tm",
        "outputId": "bc8289af-2eb9-46c3-80e7-bc73bf7cfc9e"
      },
      "execution_count": 7,
      "outputs": [
        {
          "output_type": "execute_result",
          "data": {
            "text/plain": [
              "6"
            ]
          },
          "metadata": {},
          "execution_count": 7
        }
      ]
    },
    {
      "cell_type": "markdown",
      "source": [
        "### 클래스 메소드\n",
        "\n",
        "@classmethod 데코레이터로 수식\n",
        "\n",
        "정적 메소드와 유사하지만, 첫 번째 변수로 클래스 객체가 전달되는 것이 다름.\n",
        "cls매개변수 사용\n",
        "\n"
      ],
      "metadata": {
        "id": "Y5_oKa6ySf44"
      }
    },
    {
      "cell_type": "code",
      "source": [
        "class student: \n",
        "  count = 0 \n",
        "  @classmethod \n",
        "  def cmethod(cls):\n",
        "    print(\"클래스 메소드\") \n",
        "    print(cls.count)\n",
        "   \n",
        "  @staticmethod \n",
        "  def smethod():\n",
        "    print(\"정적 메소드\")\n",
        "\n",
        "student.cmethod() \n",
        "student.smethod()"
      ],
      "metadata": {
        "colab": {
          "base_uri": "https://localhost:8080/"
        },
        "id": "oRtXYXnySppF",
        "outputId": "392eed1e-2d3a-40a1-ec34-7e1f58c0f247"
      },
      "execution_count": 8,
      "outputs": [
        {
          "output_type": "stream",
          "name": "stdout",
          "text": [
            "클래스 메소드\n",
            "0\n",
            "정적 메소드\n"
          ]
        }
      ]
    },
    {
      "cell_type": "markdown",
      "source": [
        "### private, public 변수\n",
        "\n",
        "Private 멤버는 내부에서는 접근이 가능하지만 클래스 외부에서 접근이 안 되는 멤버.   \n",
        "Public 멤버는 클래스 외부에서 접근이 가능한 멤버\n",
        "python의 경우 기본적으로 모든 멤버는 public"
      ],
      "metadata": {
        "id": "HJS9jeOCUxU8"
      }
    },
    {
      "cell_type": "code",
      "source": [
        "# 예제\n",
        "\n",
        "# 아래와변수이름앞에__를 붙여주면 은닉할 수 있고, setter를 통해 값을 바꿀 수 있으며 getter를 통해 값을 불러올 수 있다.\n",
        "\n",
        "class human:\n",
        "  def __init__(self):\n",
        "    self.__age = 31\n",
        "  \n",
        "  @property\n",
        "  def age_getter(self): #getter\n",
        "    return self.__age \n",
        "\n",
        "  @age_getter.setter\n",
        "  def age_setter(self, value): #setter\n",
        "    self.__age = value"
      ],
      "metadata": {
        "id": "IDr4wPBBTIZM"
      },
      "execution_count": null,
      "outputs": []
    }
  ]
}