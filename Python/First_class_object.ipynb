{
  "nbformat": 4,
  "nbformat_minor": 0,
  "metadata": {
    "colab": {
      "provenance": [],
      "authorship_tag": "ABX9TyPXYE478ZWqA15xQ+aByzjn",
      "include_colab_link": true
    },
    "kernelspec": {
      "name": "python3",
      "display_name": "Python 3"
    },
    "language_info": {
      "name": "python"
    }
  },
  "cells": [
    {
      "cell_type": "markdown",
      "metadata": {
        "id": "view-in-github",
        "colab_type": "text"
      },
      "source": [
        "<a href=\"https://colab.research.google.com/github/Zamoca42/TIL/blob/main/Python/First_class_object.ipynb\" target=\"_parent\"><img src=\"https://colab.research.google.com/assets/colab-badge.svg\" alt=\"Open In Colab\"/></a>"
      ]
    },
    {
      "cell_type": "markdown",
      "source": [
        "# 함수 고급"
      ],
      "metadata": {
        "id": "3iK_dFXBEq0r"
      }
    },
    {
      "cell_type": "markdown",
      "source": [
        "## 1. 일급객체"
      ],
      "metadata": {
        "id": "0s3bKvBfEs-2"
      }
    },
    {
      "cell_type": "markdown",
      "source": [
        "### 일급객체란?\n",
        "\n",
        "- 데이터처럼 사용이 가능하다\n",
        "- 리스트(튜플, 딕셔너리 등)에 할당 가능\n",
        "- 매개변수에 넘겨 줄 수 있다\n",
        "- 리턴값으로 사용될 수 있다"
      ],
      "metadata": {
        "id": "wjm7LmQ0ExYP"
      }
    },
    {
      "cell_type": "markdown",
      "source": [
        "1. 데이터처럼 사용이 가능하다\n",
        "  - 함수를 변수에 할당 가능"
      ],
      "metadata": {
        "id": "R-C1jVk2E4H7"
      }
    },
    {
      "cell_type": "code",
      "source": [
        "def func(x,y):\n",
        "  return x+y\n",
        "\n",
        "add = func\n",
        "print(add(3,4))"
      ],
      "metadata": {
        "colab": {
          "base_uri": "https://localhost:8080/"
        },
        "id": "jzqWGekRE8DY",
        "outputId": "3b350e31-f55f-47b0-d392-5206e13ea1cd"
      },
      "execution_count": 1,
      "outputs": [
        {
          "output_type": "stream",
          "name": "stdout",
          "text": [
            "7\n"
          ]
        }
      ]
    },
    {
      "cell_type": "markdown",
      "source": [
        "2. 리스트(튜플, 딕셔너리 등)에 할당 가능"
      ],
      "metadata": {
        "id": "t7sAY9qXFC-F"
      }
    },
    {
      "cell_type": "code",
      "source": [
        "def mul(x,y):\n",
        "  return x*y\n",
        "\n",
        "def div(x,y):\n",
        "  return x / y\n",
        "\n",
        "cal = [mul, div]\n",
        "\n",
        "print(cal[0](5,6))"
      ],
      "metadata": {
        "colab": {
          "base_uri": "https://localhost:8080/"
        },
        "id": "scW3-gKHFB78",
        "outputId": "5c2da489-b1ff-4986-88b1-e1daf9912ed4"
      },
      "execution_count": 2,
      "outputs": [
        {
          "output_type": "stream",
          "name": "stdout",
          "text": [
            "30\n"
          ]
        }
      ]
    },
    {
      "cell_type": "markdown",
      "source": [
        "3. 매개변수에 넘겨줄 수 있다"
      ],
      "metadata": {
        "id": "rv48wyN0FXqo"
      }
    },
    {
      "cell_type": "code",
      "source": [
        "def inputData():\n",
        "  data = input(\"데이터 입력 >>> \")\n",
        "  return data\n",
        "\n",
        "def start(func):\n",
        "  print(\"입력한 데이터는\", func())\n",
        "\n",
        "start(inputData)"
      ],
      "metadata": {
        "colab": {
          "base_uri": "https://localhost:8080/"
        },
        "id": "6Xu8UkXGFR0s",
        "outputId": "8d7d0b54-8e6d-43cf-aa78-0ced2f64497b"
      },
      "execution_count": 5,
      "outputs": [
        {
          "output_type": "stream",
          "name": "stdout",
          "text": [
            "데이터 입력 >>> Zamoca\n",
            "입력한 데이터는 Zamoca\n"
          ]
        }
      ]
    },
    {
      "cell_type": "markdown",
      "source": [
        "4. 리턴값으로 사용될 수 있다"
      ],
      "metadata": {
        "id": "KNEH_56FF4-d"
      }
    },
    {
      "cell_type": "code",
      "source": [
        "def plusTen(a):\n",
        "  return a + 10\n",
        "\n",
        "def func(x):\n",
        "  return plusTen(x)\n",
        "\n",
        "print(func(5))"
      ],
      "metadata": {
        "colab": {
          "base_uri": "https://localhost:8080/"
        },
        "id": "xprcQjrgFq1V",
        "outputId": "05ccffe7-5da7-496c-a538-2c309878d5a2"
      },
      "execution_count": 6,
      "outputs": [
        {
          "output_type": "stream",
          "name": "stdout",
          "text": [
            "15\n"
          ]
        }
      ]
    },
    {
      "cell_type": "markdown",
      "source": [
        "## 2. 클로저"
      ],
      "metadata": {
        "id": "AaQ4z2UTIWWG"
      }
    },
    {
      "cell_type": "markdown",
      "source": [
        "### 내부 함수\n",
        "  - 함수 안에서 정의되는 함수\n",
        "\n",
        "### 클로저란?\n",
        "  - 함수가 종료되어도 자원을 사용할 수 있는 함수"
      ],
      "metadata": {
        "id": "vLLbAUTNIYM7"
      }
    },
    {
      "cell_type": "markdown",
      "source": [
        "### 클로저가 될 3가지 조건\n",
        "\n",
        "- 내부 함수여야 한다\n",
        "- 외부 함수의 변수를 **참조**해야 한다\n",
        "- 외부 함수가 내부 함수를 반환해야 한다"
      ],
      "metadata": {
        "id": "tFRg_UWIIstv"
      }
    },
    {
      "cell_type": "markdown",
      "source": [
        "1. 내부 함수\n",
        "  - 함수 안에 또 다른 함수를 정의할 수 있다"
      ],
      "metadata": {
        "id": "RrHSA3JxI8l9"
      }
    },
    {
      "cell_type": "code",
      "source": [
        "def outer(name):\n",
        "   def inner():\n",
        "     print(name, \"님 안녕하세요\")\n",
        "   return inner\n",
        "\n",
        "func = outer(\"Zamoca\")\n",
        "func()"
      ],
      "metadata": {
        "colab": {
          "base_uri": "https://localhost:8080/"
        },
        "id": "lmC2rtX3IzEm",
        "outputId": "37010e62-538d-44b7-9452-523329b1dc26"
      },
      "execution_count": 11,
      "outputs": [
        {
          "output_type": "stream",
          "name": "stdout",
          "text": [
            "Zamoca 님 안녕하세요\n"
          ]
        }
      ]
    },
    {
      "cell_type": "code",
      "source": [
        "def greeting(name, age, gender):\n",
        "  def inner():\n",
        "    print(name, \"님 안녕하세요!\")\n",
        "    print(\"나이 : \", age)\n",
        "    print(\"성별 : \", gender)\n",
        "  return inner\n",
        "\n",
        "closure = greeting('나미', 27, 'female')\n",
        "closure()"
      ],
      "metadata": {
        "colab": {
          "base_uri": "https://localhost:8080/"
        },
        "id": "itR1ByDZJMOJ",
        "outputId": "d3526e33-29d3-462a-baf4-daf3f4083952"
      },
      "execution_count": 20,
      "outputs": [
        {
          "output_type": "stream",
          "name": "stdout",
          "text": [
            "나미 님 안녕하세요!\n",
            "나이 :  27\n",
            "성별 :  female\n"
          ]
        }
      ]
    },
    {
      "cell_type": "code",
      "source": [
        "print(dir(closure))"
      ],
      "metadata": {
        "colab": {
          "base_uri": "https://localhost:8080/"
        },
        "id": "yrgIHNbSeG-N",
        "outputId": "058c8147-6eb1-4d8c-adef-226f33de12c2"
      },
      "execution_count": 16,
      "outputs": [
        {
          "output_type": "stream",
          "name": "stdout",
          "text": [
            "['__annotations__', '__call__', '__class__', '__closure__', '__code__', '__defaults__', '__delattr__', '__dict__', '__dir__', '__doc__', '__eq__', '__format__', '__ge__', '__get__', '__getattribute__', '__globals__', '__gt__', '__hash__', '__init__', '__init_subclass__', '__kwdefaults__', '__le__', '__lt__', '__module__', '__name__', '__ne__', '__new__', '__qualname__', '__reduce__', '__reduce_ex__', '__repr__', '__setattr__', '__sizeof__', '__str__', '__subclasshook__']\n"
          ]
        }
      ]
    },
    {
      "cell_type": "code",
      "source": [
        "print(type(closure.__closure__))"
      ],
      "metadata": {
        "colab": {
          "base_uri": "https://localhost:8080/"
        },
        "id": "RyQ2qg8Id9qF",
        "outputId": "a45fe8d4-bd9b-4b46-fb5f-3131f6bbafca"
      },
      "execution_count": 15,
      "outputs": [
        {
          "output_type": "stream",
          "name": "stdout",
          "text": [
            "<class 'tuple'>\n"
          ]
        }
      ]
    },
    {
      "cell_type": "code",
      "source": [
        "print(closure.__closure__)"
      ],
      "metadata": {
        "colab": {
          "base_uri": "https://localhost:8080/"
        },
        "id": "59RCtA0NeR_o",
        "outputId": "946e1a0b-2991-4a97-9d35-ad75ea184778"
      },
      "execution_count": 17,
      "outputs": [
        {
          "output_type": "stream",
          "name": "stdout",
          "text": [
            "(<cell at 0x7f252a4282b0: str object at 0x7f252a3e3e10>,)\n"
          ]
        }
      ]
    },
    {
      "cell_type": "code",
      "source": [
        "print(dir(closure.__closure__[0]))"
      ],
      "metadata": {
        "colab": {
          "base_uri": "https://localhost:8080/"
        },
        "id": "grjB7FbLeain",
        "outputId": "cd6e7d05-9d81-4825-baf0-4cd5b977b2f5"
      },
      "execution_count": 18,
      "outputs": [
        {
          "output_type": "stream",
          "name": "stdout",
          "text": [
            "['__class__', '__delattr__', '__dir__', '__doc__', '__eq__', '__format__', '__ge__', '__getattribute__', '__gt__', '__hash__', '__init__', '__init_subclass__', '__le__', '__lt__', '__ne__', '__new__', '__reduce__', '__reduce_ex__', '__repr__', '__setattr__', '__sizeof__', '__str__', '__subclasshook__', 'cell_contents']\n"
          ]
        }
      ]
    },
    {
      "cell_type": "code",
      "source": [
        "print(closure.__closure__[0].cell_contents)"
      ],
      "metadata": {
        "colab": {
          "base_uri": "https://localhost:8080/"
        },
        "id": "PBNpeWDMeexq",
        "outputId": "83897611-2d94-4f58-ee96-e62dbef84386"
      },
      "execution_count": 19,
      "outputs": [
        {
          "output_type": "stream",
          "name": "stdout",
          "text": [
            "나미\n"
          ]
        }
      ]
    },
    {
      "cell_type": "code",
      "source": [
        "for i in closure.__closure__:\n",
        "  print(i.cell_contents)"
      ],
      "metadata": {
        "colab": {
          "base_uri": "https://localhost:8080/"
        },
        "id": "imn39Vtae_eH",
        "outputId": "4c4183d0-cc4b-47e3-cd8e-e12174c8e8a0"
      },
      "execution_count": 21,
      "outputs": [
        {
          "output_type": "stream",
          "name": "stdout",
          "text": [
            "27\n",
            "female\n",
            "나미\n"
          ]
        }
      ]
    },
    {
      "cell_type": "markdown",
      "source": [
        "- 전역변수를 사용해서 대체가 가능하다\n",
        "- 전역변수 사용을 최소화 하는 것이 좋다(네이밍,스코프 문제)"
      ],
      "metadata": {
        "id": "gXJMmdVvftS7"
      }
    },
    {
      "cell_type": "markdown",
      "source": [
        "## 3. 이터레이터"
      ],
      "metadata": {
        "id": "icdIhLVzoyNX"
      }
    },
    {
      "cell_type": "markdown",
      "source": [
        "### 이터러블 객체(iterable object)\n",
        "\n",
        "- 순서가 있는 자료형\n",
        "- 문자열, 리스트, 튜플, 딕셔너리, range 객체\n",
        "\n"
      ],
      "metadata": {
        "id": "V2BYbnCpo0j9"
      }
    },
    {
      "cell_type": "markdown",
      "source": [
        "### 이터레이터 생성방법\n",
        "\n",
        "- 이터레이터 클래스를 정의해준다\n",
        "- `__iter__` 메서드를 정의해준다\n",
        "- `__next__` 메서드를 정의해준다"
      ],
      "metadata": {
        "id": "5hk4eZcwpE9U"
      }
    },
    {
      "cell_type": "markdown",
      "source": [
        "1. 이터러블 객체"
      ],
      "metadata": {
        "id": "D1AhiU_4pSbL"
      }
    },
    {
      "cell_type": "code",
      "source": [
        "for i in '123':\n",
        "  print(i)"
      ],
      "metadata": {
        "colab": {
          "base_uri": "https://localhost:8080/"
        },
        "id": "Q6W4zm7hpOWQ",
        "outputId": "9548ca53-ae71-4ea2-dcb6-afba1fd95a6c"
      },
      "execution_count": 23,
      "outputs": [
        {
          "output_type": "stream",
          "name": "stdout",
          "text": [
            "1\n",
            "2\n",
            "3\n"
          ]
        }
      ]
    },
    {
      "cell_type": "code",
      "source": [
        "for i in [10, 20, 30]:\n",
        "  print(i)"
      ],
      "metadata": {
        "colab": {
          "base_uri": "https://localhost:8080/"
        },
        "id": "C6klOOOPpXhO",
        "outputId": "04d269ec-bf31-4d5b-a6dc-bc7a864d64e7"
      },
      "execution_count": 24,
      "outputs": [
        {
          "output_type": "stream",
          "name": "stdout",
          "text": [
            "10\n",
            "20\n",
            "30\n"
          ]
        }
      ]
    },
    {
      "cell_type": "code",
      "source": [
        "dir([10, 20, 30])"
      ],
      "metadata": {
        "colab": {
          "base_uri": "https://localhost:8080/"
        },
        "id": "3XU2D4R6pdMv",
        "outputId": "eeea6ce1-af4c-48a9-c66a-4fc95737f264"
      },
      "execution_count": 27,
      "outputs": [
        {
          "output_type": "execute_result",
          "data": {
            "text/plain": [
              "['__add__',\n",
              " '__class__',\n",
              " '__contains__',\n",
              " '__delattr__',\n",
              " '__delitem__',\n",
              " '__dir__',\n",
              " '__doc__',\n",
              " '__eq__',\n",
              " '__format__',\n",
              " '__ge__',\n",
              " '__getattribute__',\n",
              " '__getitem__',\n",
              " '__gt__',\n",
              " '__hash__',\n",
              " '__iadd__',\n",
              " '__imul__',\n",
              " '__init__',\n",
              " '__init_subclass__',\n",
              " '__iter__',\n",
              " '__le__',\n",
              " '__len__',\n",
              " '__lt__',\n",
              " '__mul__',\n",
              " '__ne__',\n",
              " '__new__',\n",
              " '__reduce__',\n",
              " '__reduce_ex__',\n",
              " '__repr__',\n",
              " '__reversed__',\n",
              " '__rmul__',\n",
              " '__setattr__',\n",
              " '__setitem__',\n",
              " '__sizeof__',\n",
              " '__str__',\n",
              " '__subclasshook__',\n",
              " 'append',\n",
              " 'clear',\n",
              " 'copy',\n",
              " 'count',\n",
              " 'extend',\n",
              " 'index',\n",
              " 'insert',\n",
              " 'pop',\n",
              " 'remove',\n",
              " 'reverse',\n",
              " 'sort']"
            ]
          },
          "metadata": {},
          "execution_count": 27
        }
      ]
    },
    {
      "cell_type": "code",
      "source": [
        "type([10, 20, 30].__iter__)"
      ],
      "metadata": {
        "colab": {
          "base_uri": "https://localhost:8080/"
        },
        "id": "69uInkHPpj3P",
        "outputId": "00f2b1ab-2c29-495e-a55d-c86a92faa5fa"
      },
      "execution_count": 28,
      "outputs": [
        {
          "output_type": "execute_result",
          "data": {
            "text/plain": [
              "method-wrapper"
            ]
          },
          "metadata": {},
          "execution_count": 28
        }
      ]
    },
    {
      "cell_type": "code",
      "source": [
        "iter_obj = [10, 20, 30].__iter__()\n",
        "iter_obj"
      ],
      "metadata": {
        "colab": {
          "base_uri": "https://localhost:8080/"
        },
        "id": "BOIVvZiapx9A",
        "outputId": "47287c0e-e8bd-45e1-f946-0dc8b131cab2"
      },
      "execution_count": 30,
      "outputs": [
        {
          "output_type": "execute_result",
          "data": {
            "text/plain": [
              "<list_iterator at 0x7f252a4462b0>"
            ]
          },
          "metadata": {},
          "execution_count": 30
        }
      ]
    },
    {
      "cell_type": "code",
      "source": [
        "for i in iter_obj:\n",
        "  print(i)"
      ],
      "metadata": {
        "colab": {
          "base_uri": "https://localhost:8080/"
        },
        "id": "wHZ2w__Kp5Q1",
        "outputId": "c1a4ba99-8ff9-491b-8720-54e1ac5c2826"
      },
      "execution_count": 31,
      "outputs": [
        {
          "output_type": "stream",
          "name": "stdout",
          "text": [
            "10\n",
            "20\n",
            "30\n"
          ]
        }
      ]
    },
    {
      "cell_type": "code",
      "source": [
        "dir(iter_obj)"
      ],
      "metadata": {
        "colab": {
          "base_uri": "https://localhost:8080/"
        },
        "id": "w5-57F5NqBAB",
        "outputId": "920199d5-7af5-4f40-be29-9115795e40c4"
      },
      "execution_count": 32,
      "outputs": [
        {
          "output_type": "execute_result",
          "data": {
            "text/plain": [
              "['__class__',\n",
              " '__delattr__',\n",
              " '__dir__',\n",
              " '__doc__',\n",
              " '__eq__',\n",
              " '__format__',\n",
              " '__ge__',\n",
              " '__getattribute__',\n",
              " '__gt__',\n",
              " '__hash__',\n",
              " '__init__',\n",
              " '__init_subclass__',\n",
              " '__iter__',\n",
              " '__le__',\n",
              " '__length_hint__',\n",
              " '__lt__',\n",
              " '__ne__',\n",
              " '__new__',\n",
              " '__next__',\n",
              " '__reduce__',\n",
              " '__reduce_ex__',\n",
              " '__repr__',\n",
              " '__setattr__',\n",
              " '__setstate__',\n",
              " '__sizeof__',\n",
              " '__str__',\n",
              " '__subclasshook__']"
            ]
          },
          "metadata": {},
          "execution_count": 32
        }
      ]
    },
    {
      "cell_type": "code",
      "source": [
        "iter_obj.__next__()"
      ],
      "metadata": {
        "colab": {
          "base_uri": "https://localhost:8080/",
          "height": 171
        },
        "id": "FZK-SuQFqDiY",
        "outputId": "078cb337-06b2-496b-eb78-6b424d28cae0"
      },
      "execution_count": 43,
      "outputs": [
        {
          "output_type": "error",
          "ename": "StopIteration",
          "evalue": "ignored",
          "traceback": [
            "\u001b[0;31m---------------------------------------------------------------------------\u001b[0m",
            "\u001b[0;31mStopIteration\u001b[0m                             Traceback (most recent call last)",
            "\u001b[0;32m<ipython-input-43-15c2801026b1>\u001b[0m in \u001b[0;36m<module>\u001b[0;34m\u001b[0m\n\u001b[0;32m----> 1\u001b[0;31m \u001b[0miter_obj\u001b[0m\u001b[0;34m.\u001b[0m\u001b[0m__next__\u001b[0m\u001b[0;34m(\u001b[0m\u001b[0;34m)\u001b[0m\u001b[0;34m\u001b[0m\u001b[0;34m\u001b[0m\u001b[0m\n\u001b[0m",
            "\u001b[0;31mStopIteration\u001b[0m: "
          ]
        }
      ]
    },
    {
      "cell_type": "markdown",
      "source": [
        "- 더이상 출력할 내용이 없이면 `StopIteration` 에러"
      ],
      "metadata": {
        "id": "eNN7nZi1q7A7"
      }
    },
    {
      "cell_type": "markdown",
      "source": [
        "### 이터레이터 생성 방법 2"
      ],
      "metadata": {
        "id": "hf0D1ujlr1_4"
      }
    },
    {
      "cell_type": "code",
      "source": [
        "class Seasons:\n",
        "  def __init__(self):\n",
        "    self.season_list = ['spring', 'summer', 'autumn', 'winter']\n",
        "    self.idx = 0\n",
        "    self.max_num = 4\n",
        "  \n",
        "  def __iter__(self):\n",
        "    return self\n",
        "  \n",
        "  def __next__(self):\n",
        "    if self.idx < self.max_num:\n",
        "      curr_idx = self.idx\n",
        "      self.idx += 1\n",
        "      return self.season_list[curr_idx]\n",
        "    else:\n",
        "      raise StopIteration\n",
        "\n",
        "for i in Seasons():\n",
        "  print(i)"
      ],
      "metadata": {
        "colab": {
          "base_uri": "https://localhost:8080/"
        },
        "id": "oMleQJyqqLQb",
        "outputId": "ea24ac6f-07fe-4928-a6c5-0670d84d07da"
      },
      "execution_count": 45,
      "outputs": [
        {
          "output_type": "stream",
          "name": "stdout",
          "text": [
            "spring\n",
            "summer\n",
            "autumn\n",
            "winter\n"
          ]
        }
      ]
    },
    {
      "cell_type": "code",
      "source": [
        "iter_obj = Seasons().__iter__()\n",
        "\n",
        "print(iter_obj.__next__())"
      ],
      "metadata": {
        "colab": {
          "base_uri": "https://localhost:8080/"
        },
        "id": "_Q97Chv2r4ov",
        "outputId": "981e10de-872b-478d-a1e3-f6178ebb5773"
      },
      "execution_count": 47,
      "outputs": [
        {
          "output_type": "stream",
          "name": "stdout",
          "text": [
            "spring\n"
          ]
        }
      ]
    },
    {
      "cell_type": "code",
      "source": [
        "print(iter_obj.__next__())"
      ],
      "metadata": {
        "colab": {
          "base_uri": "https://localhost:8080/"
        },
        "id": "1H8Rdo2FsInG",
        "outputId": "4384089f-5c0d-4efd-c564-f14e12b7b3e4"
      },
      "execution_count": 48,
      "outputs": [
        {
          "output_type": "stream",
          "name": "stdout",
          "text": [
            "summer\n"
          ]
        }
      ]
    },
    {
      "cell_type": "code",
      "source": [
        "print(iter_obj.__next__())"
      ],
      "metadata": {
        "colab": {
          "base_uri": "https://localhost:8080/"
        },
        "id": "bYOeu4clsLDi",
        "outputId": "39b03943-2749-430c-9aa6-5f7b3eeb1cc4"
      },
      "execution_count": 49,
      "outputs": [
        {
          "output_type": "stream",
          "name": "stdout",
          "text": [
            "autumn\n"
          ]
        }
      ]
    },
    {
      "cell_type": "code",
      "source": [
        "print(iter_obj.__next__())"
      ],
      "metadata": {
        "colab": {
          "base_uri": "https://localhost:8080/"
        },
        "id": "5arSoBMlsLwX",
        "outputId": "8f18598e-6867-4cda-b1b5-e02262b3ba1b"
      },
      "execution_count": 50,
      "outputs": [
        {
          "output_type": "stream",
          "name": "stdout",
          "text": [
            "winter\n"
          ]
        }
      ]
    },
    {
      "cell_type": "code",
      "source": [
        "print(iter_obj.__next__())"
      ],
      "metadata": {
        "colab": {
          "base_uri": "https://localhost:8080/",
          "height": 298
        },
        "id": "RQsCTfPUsMLC",
        "outputId": "4cf3eac6-9316-433a-9f53-8fbf829b1702"
      },
      "execution_count": 51,
      "outputs": [
        {
          "output_type": "error",
          "ename": "StopIteration",
          "evalue": "ignored",
          "traceback": [
            "\u001b[0;31m---------------------------------------------------------------------------\u001b[0m",
            "\u001b[0;31mStopIteration\u001b[0m                             Traceback (most recent call last)",
            "\u001b[0;32m<ipython-input-51-0e904d9388e3>\u001b[0m in \u001b[0;36m<module>\u001b[0;34m\u001b[0m\n\u001b[0;32m----> 1\u001b[0;31m \u001b[0mprint\u001b[0m\u001b[0;34m(\u001b[0m\u001b[0miter_obj\u001b[0m\u001b[0;34m.\u001b[0m\u001b[0m__next__\u001b[0m\u001b[0;34m(\u001b[0m\u001b[0;34m)\u001b[0m\u001b[0;34m)\u001b[0m\u001b[0;34m\u001b[0m\u001b[0;34m\u001b[0m\u001b[0m\n\u001b[0m",
            "\u001b[0;32m<ipython-input-45-5b6121db8774>\u001b[0m in \u001b[0;36m__next__\u001b[0;34m(self)\u001b[0m\n\u001b[1;32m     14\u001b[0m       \u001b[0;32mreturn\u001b[0m \u001b[0mself\u001b[0m\u001b[0;34m.\u001b[0m\u001b[0mseason_list\u001b[0m\u001b[0;34m[\u001b[0m\u001b[0mcurr_idx\u001b[0m\u001b[0;34m]\u001b[0m\u001b[0;34m\u001b[0m\u001b[0;34m\u001b[0m\u001b[0m\n\u001b[1;32m     15\u001b[0m     \u001b[0;32melse\u001b[0m\u001b[0;34m:\u001b[0m\u001b[0;34m\u001b[0m\u001b[0;34m\u001b[0m\u001b[0m\n\u001b[0;32m---> 16\u001b[0;31m       \u001b[0;32mraise\u001b[0m \u001b[0mStopIteration\u001b[0m\u001b[0;34m\u001b[0m\u001b[0;34m\u001b[0m\u001b[0m\n\u001b[0m\u001b[1;32m     17\u001b[0m \u001b[0;34m\u001b[0m\u001b[0m\n\u001b[1;32m     18\u001b[0m \u001b[0;32mfor\u001b[0m \u001b[0mi\u001b[0m \u001b[0;32min\u001b[0m \u001b[0mSeasons\u001b[0m\u001b[0;34m(\u001b[0m\u001b[0;34m)\u001b[0m\u001b[0;34m:\u001b[0m\u001b[0;34m\u001b[0m\u001b[0;34m\u001b[0m\u001b[0m\n",
            "\u001b[0;31mStopIteration\u001b[0m: "
          ]
        }
      ]
    },
    {
      "cell_type": "markdown",
      "source": [
        "## 4. 제너레이터"
      ],
      "metadata": {
        "id": "h7LCL--IvXV6"
      }
    },
    {
      "cell_type": "markdown",
      "source": [
        "### 제너레이터\n",
        "\n",
        "- 이터레이터를 만드는 함수"
      ],
      "metadata": {
        "id": "vnvB2_JXvbXp"
      }
    },
    {
      "cell_type": "markdown",
      "source": [
        "### 제너레이터 생성방법\n",
        "\n",
        "- 함수에서 yield를 사용하면 된다\n",
        "  - yield : 함수안에서 데이터를 생산해낸다\n"
      ],
      "metadata": {
        "id": "inmnfSNaveuG"
      }
    },
    {
      "cell_type": "markdown",
      "source": [
        "### 제너레이터 3가지 특징\n",
        "\n",
        "- 함수안에 yield를 사용한다.(return과 비교)\n",
        "- 제너레이터 표현식을 사용할 수 있다\n",
        "- 메모리 사용이 효율적이다\n"
      ],
      "metadata": {
        "id": "-wYIgzr5vs7W"
      }
    },
    {
      "cell_type": "markdown",
      "source": [
        "1. 이터레이터를 만드는 함수"
      ],
      "metadata": {
        "id": "LF33Q9sXv-dI"
      }
    },
    {
      "cell_type": "code",
      "source": [
        "def season_generator(*args):\n",
        "  for arg in args:\n",
        "    yield arg\n",
        "\n",
        "g = season_generator('spring', 'summer', 'autumn', 'winter')\n",
        "\n",
        "g"
      ],
      "metadata": {
        "colab": {
          "base_uri": "https://localhost:8080/"
        },
        "id": "yjzDfDs_v5Wo",
        "outputId": "168f86b6-41ca-4b89-a099-21b28ddde23e"
      },
      "execution_count": 52,
      "outputs": [
        {
          "output_type": "execute_result",
          "data": {
            "text/plain": [
              "<generator object season_generator at 0x7f252a2d07b0>"
            ]
          },
          "metadata": {},
          "execution_count": 52
        }
      ]
    },
    {
      "cell_type": "code",
      "source": [
        "dir(g)"
      ],
      "metadata": {
        "colab": {
          "base_uri": "https://localhost:8080/"
        },
        "id": "sCyxbRXQwXP6",
        "outputId": "2fab8458-5da2-4ddf-826f-6249c4018846"
      },
      "execution_count": 53,
      "outputs": [
        {
          "output_type": "execute_result",
          "data": {
            "text/plain": [
              "['__class__',\n",
              " '__del__',\n",
              " '__delattr__',\n",
              " '__dir__',\n",
              " '__doc__',\n",
              " '__eq__',\n",
              " '__format__',\n",
              " '__ge__',\n",
              " '__getattribute__',\n",
              " '__gt__',\n",
              " '__hash__',\n",
              " '__init__',\n",
              " '__init_subclass__',\n",
              " '__iter__',\n",
              " '__le__',\n",
              " '__lt__',\n",
              " '__name__',\n",
              " '__ne__',\n",
              " '__new__',\n",
              " '__next__',\n",
              " '__qualname__',\n",
              " '__reduce__',\n",
              " '__reduce_ex__',\n",
              " '__repr__',\n",
              " '__setattr__',\n",
              " '__sizeof__',\n",
              " '__str__',\n",
              " '__subclasshook__',\n",
              " 'close',\n",
              " 'gi_code',\n",
              " 'gi_frame',\n",
              " 'gi_running',\n",
              " 'gi_yieldfrom',\n",
              " 'send',\n",
              " 'throw']"
            ]
          },
          "metadata": {},
          "execution_count": 53
        }
      ]
    },
    {
      "cell_type": "code",
      "source": [
        "g.__next__()"
      ],
      "metadata": {
        "colab": {
          "base_uri": "https://localhost:8080/",
          "height": 36
        },
        "id": "UW5L5SFYwdQl",
        "outputId": "8bb2011a-55d7-4272-f118-c0f2cf4f2577"
      },
      "execution_count": 54,
      "outputs": [
        {
          "output_type": "execute_result",
          "data": {
            "text/plain": [
              "'spring'"
            ],
            "application/vnd.google.colaboratory.intrinsic+json": {
              "type": "string"
            }
          },
          "metadata": {},
          "execution_count": 54
        }
      ]
    },
    {
      "cell_type": "code",
      "source": [
        "g.__next__()"
      ],
      "metadata": {
        "colab": {
          "base_uri": "https://localhost:8080/",
          "height": 36
        },
        "id": "tYl_Nq7OwhYr",
        "outputId": "aa233e11-da2a-4fc6-eec5-aef91686d868"
      },
      "execution_count": 55,
      "outputs": [
        {
          "output_type": "execute_result",
          "data": {
            "text/plain": [
              "'summer'"
            ],
            "application/vnd.google.colaboratory.intrinsic+json": {
              "type": "string"
            }
          },
          "metadata": {},
          "execution_count": 55
        }
      ]
    },
    {
      "cell_type": "code",
      "source": [
        "g.__next__()"
      ],
      "metadata": {
        "colab": {
          "base_uri": "https://localhost:8080/",
          "height": 36
        },
        "id": "WQTBgTavwjZt",
        "outputId": "1e034d12-fd3c-4720-f7b9-cf75a08419e3"
      },
      "execution_count": 56,
      "outputs": [
        {
          "output_type": "execute_result",
          "data": {
            "text/plain": [
              "'autumn'"
            ],
            "application/vnd.google.colaboratory.intrinsic+json": {
              "type": "string"
            }
          },
          "metadata": {},
          "execution_count": 56
        }
      ]
    },
    {
      "cell_type": "code",
      "source": [
        "g.__next__()"
      ],
      "metadata": {
        "colab": {
          "base_uri": "https://localhost:8080/",
          "height": 36
        },
        "id": "KTrLMU6Mwj7f",
        "outputId": "306f9348-bed2-4883-87d0-1505e07a78b6"
      },
      "execution_count": 57,
      "outputs": [
        {
          "output_type": "execute_result",
          "data": {
            "text/plain": [
              "'winter'"
            ],
            "application/vnd.google.colaboratory.intrinsic+json": {
              "type": "string"
            }
          },
          "metadata": {},
          "execution_count": 57
        }
      ]
    },
    {
      "cell_type": "code",
      "source": [
        "g.__next__()"
      ],
      "metadata": {
        "colab": {
          "base_uri": "https://localhost:8080/",
          "height": 171
        },
        "id": "MXQgb8GJwmu1",
        "outputId": "634bfd1d-581a-4ddf-81c1-67198a8b86e7"
      },
      "execution_count": 58,
      "outputs": [
        {
          "output_type": "error",
          "ename": "StopIteration",
          "evalue": "ignored",
          "traceback": [
            "\u001b[0;31m---------------------------------------------------------------------------\u001b[0m",
            "\u001b[0;31mStopIteration\u001b[0m                             Traceback (most recent call last)",
            "\u001b[0;32m<ipython-input-58-42e506b10868>\u001b[0m in \u001b[0;36m<module>\u001b[0;34m\u001b[0m\n\u001b[0;32m----> 1\u001b[0;31m \u001b[0mg\u001b[0m\u001b[0;34m.\u001b[0m\u001b[0m__next__\u001b[0m\u001b[0;34m(\u001b[0m\u001b[0;34m)\u001b[0m\u001b[0;34m\u001b[0m\u001b[0;34m\u001b[0m\u001b[0m\n\u001b[0m",
            "\u001b[0;31mStopIteration\u001b[0m: "
          ]
        }
      ]
    },
    {
      "cell_type": "markdown",
      "source": [
        "- `yield`의 작동방식\n",
        "  - 함수를 `return` 후 지연\n",
        "  - `__next__`시 다음 `yield`를 리턴"
      ],
      "metadata": {
        "id": "SlXNoci8wqHx"
      }
    },
    {
      "cell_type": "code",
      "source": [
        "def func():\n",
        "  print(\"첫번째 작업 중...\")\n",
        "  yield 1\n",
        "\n",
        "  print(\"두번째 작업 중...\")\n",
        "  yield 2\n",
        "  \n",
        "  print(\"세번째 작업 중...\")\n",
        "  yield 3\n",
        "\n",
        "ge = func()\n",
        "data = ge.__next__()\n",
        "print(data)"
      ],
      "metadata": {
        "colab": {
          "base_uri": "https://localhost:8080/"
        },
        "id": "tJy4hnjFwnLM",
        "outputId": "ea3ba857-c1ef-4d52-8abc-40be65fa571d"
      },
      "execution_count": 59,
      "outputs": [
        {
          "output_type": "stream",
          "name": "stdout",
          "text": [
            "첫번째 작업 중...\n",
            "1\n"
          ]
        }
      ]
    },
    {
      "cell_type": "code",
      "source": [
        "data = ge.__next__()"
      ],
      "metadata": {
        "colab": {
          "base_uri": "https://localhost:8080/"
        },
        "id": "whv2HM24y19A",
        "outputId": "50472856-cc44-441d-aa8e-25ab13c4671e"
      },
      "execution_count": 60,
      "outputs": [
        {
          "output_type": "stream",
          "name": "stdout",
          "text": [
            "두번째 작업 중...\n"
          ]
        }
      ]
    },
    {
      "cell_type": "code",
      "source": [
        "data = ge.__next__()"
      ],
      "metadata": {
        "colab": {
          "base_uri": "https://localhost:8080/"
        },
        "id": "3QckqvaZzC6K",
        "outputId": "e156f932-98f2-4392-b496-89c577fbba43"
      },
      "execution_count": 61,
      "outputs": [
        {
          "output_type": "stream",
          "name": "stdout",
          "text": [
            "세번째 작업 중...\n"
          ]
        }
      ]
    },
    {
      "cell_type": "code",
      "source": [
        "data = ge.__next__()"
      ],
      "metadata": {
        "colab": {
          "base_uri": "https://localhost:8080/",
          "height": 171
        },
        "id": "D2Eh9MPezLJa",
        "outputId": "8e0cabbb-d4f6-409d-9274-5fb659d5756b"
      },
      "execution_count": 62,
      "outputs": [
        {
          "output_type": "error",
          "ename": "StopIteration",
          "evalue": "ignored",
          "traceback": [
            "\u001b[0;31m---------------------------------------------------------------------------\u001b[0m",
            "\u001b[0;31mStopIteration\u001b[0m                             Traceback (most recent call last)",
            "\u001b[0;32m<ipython-input-62-d719148b180e>\u001b[0m in \u001b[0;36m<module>\u001b[0;34m\u001b[0m\n\u001b[0;32m----> 1\u001b[0;31m \u001b[0mdata\u001b[0m \u001b[0;34m=\u001b[0m \u001b[0mge\u001b[0m\u001b[0;34m.\u001b[0m\u001b[0m__next__\u001b[0m\u001b[0;34m(\u001b[0m\u001b[0;34m)\u001b[0m\u001b[0;34m\u001b[0m\u001b[0;34m\u001b[0m\u001b[0m\n\u001b[0m",
            "\u001b[0;31mStopIteration\u001b[0m: "
          ]
        }
      ]
    },
    {
      "cell_type": "markdown",
      "source": [
        "2. 제너레이터 표현식"
      ],
      "metadata": {
        "id": "_SrD-DcpzZUS"
      }
    },
    {
      "cell_type": "code",
      "source": [
        "double_generator = (i * 2 for i in range(1,10))\n",
        "\n",
        "double_generator"
      ],
      "metadata": {
        "colab": {
          "base_uri": "https://localhost:8080/"
        },
        "id": "LO0j62AtzLnC",
        "outputId": "7d0f772a-68a4-4bb7-a9e6-94a797c9a79d"
      },
      "execution_count": 63,
      "outputs": [
        {
          "output_type": "execute_result",
          "data": {
            "text/plain": [
              "<generator object <genexpr> at 0x7f252a2d0660>"
            ]
          },
          "metadata": {},
          "execution_count": 63
        }
      ]
    },
    {
      "cell_type": "code",
      "source": [
        "for i in double_generator:\n",
        "  print(i)"
      ],
      "metadata": {
        "colab": {
          "base_uri": "https://localhost:8080/"
        },
        "id": "LPespj9hzk4O",
        "outputId": "6d6a4877-35b0-4a58-abd4-fe024479e796"
      },
      "execution_count": 64,
      "outputs": [
        {
          "output_type": "stream",
          "name": "stdout",
          "text": [
            "2\n",
            "4\n",
            "6\n",
            "8\n",
            "10\n",
            "12\n",
            "14\n",
            "16\n",
            "18\n"
          ]
        }
      ]
    },
    {
      "cell_type": "markdown",
      "source": [
        "3. 메모리 사용을 효율적으로 하기 위해서 사용\n",
        "  - ex) 숫자 1 - 10000 3배로 만든 결과 리스트 vs 제너레이터"
      ],
      "metadata": {
        "id": "FTo_m56HzxP_"
      }
    },
    {
      "cell_type": "code",
      "source": [
        "import sys\n",
        "\n",
        "list_data = [i * 3 for i in range(1,10000 + 1)]\n",
        "generator_data = (i * 3 for i in range(1,10000 + 1))\n",
        "\n",
        "print('리스트 :', sys.getsizeof(list_data), 'byte')\n",
        "print('제너레이터 :', sys.getsizeof(generator_data), 'byte')"
      ],
      "metadata": {
        "colab": {
          "base_uri": "https://localhost:8080/"
        },
        "id": "KCYHLNZ1zpeX",
        "outputId": "9c224cee-4b28-47d1-da91-03298302857d"
      },
      "execution_count": 67,
      "outputs": [
        {
          "output_type": "stream",
          "name": "stdout",
          "text": [
            "리스트 : 87616 byte\n",
            "제너레이터 : 112 byte\n"
          ]
        }
      ]
    },
    {
      "cell_type": "markdown",
      "source": [
        "- 리스트는 데이터 저장에 필요한 메모리를 모두 사용\n",
        "  - 결과값을 **저장**\n",
        "- 제너레이터는 나중에 필요할 때 값을 만들어 사용\n",
        "  - 메모리 매우 적게 필요"
      ],
      "metadata": {
        "id": "m5G_n63G0mhm"
      }
    },
    {
      "cell_type": "markdown",
      "source": [
        "## 5. 데코레이터"
      ],
      "metadata": {
        "id": "tBDAwrY51RHY"
      }
    },
    {
      "cell_type": "markdown",
      "source": [
        "### 데코레이터\n",
        "\n",
        "- 함수의 앞,뒤로 부가적인 기능을 넣어주고 싶을 때 사용\n",
        "  - 로깅(Logging)\n",
        "  - 권한확인(Log-in required, check)"
      ],
      "metadata": {
        "id": "yYfWM8RI1Si0"
      }
    },
    {
      "cell_type": "markdown",
      "source": [
        "- 클로저를 이용해서 생성\n",
        "- 적용하고 싶은 함수 앞에 `@데코레이터`"
      ],
      "metadata": {
        "id": "n9AiC2nr1i1D"
      }
    },
    {
      "cell_type": "code",
      "source": [
        "def print_hello():\n",
        "  print(\"함수 시작\")\n",
        "  print(\"hello startcoding\")\n",
        "  print(\"함수 끝\")\n",
        "\n",
        "def print_bye():\n",
        "  print(\"함수 시작\")\n",
        "  print(\"bye fastcampus\")\n",
        "  print(\"함수 끝\")\n",
        "\n",
        "# print(\"함수 시작\")을 10개이상을 반복해야한다면?"
      ],
      "metadata": {
        "id": "l0zvmKxn1sSP"
      },
      "execution_count": 69,
      "outputs": []
    },
    {
      "cell_type": "code",
      "source": [
        "def logger(func):\n",
        "  def wrapper():\n",
        "    print(\"함수 시작\")\n",
        "    func() # 함수 실행\n",
        "    print(\"함수 시작\")\n",
        "  return wrapper\n",
        "\n",
        "@logger\n",
        "def print_hello():\n",
        "  print(\"hello startcoding\")\n",
        "\n",
        "@logger\n",
        "def print_bye():\n",
        "  print(\"bye fastcampus\")"
      ],
      "metadata": {
        "id": "ljC93qzu2TkB"
      },
      "execution_count": 70,
      "outputs": []
    },
    {
      "cell_type": "markdown",
      "source": [
        "- 작동 방식   \n",
        "  1. 데코레이터를 먼저 찾음\n",
        "  2. 사용되는 함수를 데코레이터에 입력\n",
        "  3. 실행"
      ],
      "metadata": {
        "id": "-Ubd6xBE2pXt"
      }
    },
    {
      "cell_type": "code",
      "source": [
        "print_hello()\n",
        "print_bye()"
      ],
      "metadata": {
        "colab": {
          "base_uri": "https://localhost:8080/"
        },
        "id": "uN4zqnr627SK",
        "outputId": "026bced7-b71e-44fc-e987-ae4cfb5c2721"
      },
      "execution_count": 71,
      "outputs": [
        {
          "output_type": "stream",
          "name": "stdout",
          "text": [
            "함수 시작\n",
            "hello startcoding\n",
            "함수 시작\n",
            "함수 시작\n",
            "bye fastcampus\n",
            "함수 시작\n"
          ]
        }
      ]
    },
    {
      "cell_type": "code",
      "source": [
        "# 매개변수 지정\n",
        "\n",
        "def logger(func):\n",
        "  def wrapper(arg):\n",
        "    print(\"함수 시작\")\n",
        "    func(arg) # 함수 실행\n",
        "    print(\"함수 시작\")\n",
        "  return wrapper\n",
        "\n",
        "@logger\n",
        "def print_hello(name):\n",
        "  print(\"hello\",name)\n",
        "\n",
        "@logger\n",
        "def print_bye(name):\n",
        "  print(\"bye\", name)"
      ],
      "metadata": {
        "id": "IB8Yn5kG29cw"
      },
      "execution_count": 73,
      "outputs": []
    },
    {
      "cell_type": "code",
      "source": [
        "print_hello('Zamoca')\n",
        "print_bye('fastcampus')"
      ],
      "metadata": {
        "colab": {
          "base_uri": "https://localhost:8080/"
        },
        "id": "jVzKUDH83TWk",
        "outputId": "c0f1eb39-edb0-417b-b612-6c140f5c7b87"
      },
      "execution_count": 74,
      "outputs": [
        {
          "output_type": "stream",
          "name": "stdout",
          "text": [
            "함수 시작\n",
            "hello Zamoca\n",
            "함수 시작\n",
            "함수 시작\n",
            "bye fastcampus\n",
            "함수 시작\n"
          ]
        }
      ]
    }
  ]
}