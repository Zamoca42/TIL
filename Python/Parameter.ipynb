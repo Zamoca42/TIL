{
  "nbformat": 4,
  "nbformat_minor": 0,
  "metadata": {
    "colab": {
      "provenance": [],
      "authorship_tag": "ABX9TyM7f+ckC5zPmn2kLcbZra6D",
      "include_colab_link": true
    },
    "kernelspec": {
      "name": "python3",
      "display_name": "Python 3"
    },
    "language_info": {
      "name": "python"
    }
  },
  "cells": [
    {
      "cell_type": "markdown",
      "metadata": {
        "id": "view-in-github",
        "colab_type": "text"
      },
      "source": [
        "<a href=\"https://colab.research.google.com/github/Zamoca42/TIL/blob/main/Python/Parameter.ipynb\" target=\"_parent\"><img src=\"https://colab.research.google.com/assets/colab-badge.svg\" alt=\"Open In Colab\"/></a>"
      ]
    },
    {
      "cell_type": "markdown",
      "source": [
        "# 함수 중급"
      ],
      "metadata": {
        "id": "0GvLwz-PfWnI"
      }
    },
    {
      "cell_type": "markdown",
      "source": [
        "## 1. 다양한 매개변수"
      ],
      "metadata": {
        "id": "8WvP2mEifZBQ"
      }
    },
    {
      "cell_type": "markdown",
      "source": [
        "### 위치 매개변수(positional parameter)\n",
        "\n",
        "- 가장 기본적인 매개변수\n",
        "- 함수를 호출할 때 순서대로 데이터(인자)를 넘겨줘야 한다\n",
        "- 다른 매개변수와 함께 쓸 때는 항상 맨 앞에 써야 한다\n",
        "  "
      ],
      "metadata": {
        "id": "Ddehxik3gIcg"
      }
    },
    {
      "cell_type": "code",
      "source": [
        "# 함수 정의\n",
        "\n",
        "def my_func(a,b):\n",
        "  print(a,b)"
      ],
      "metadata": {
        "id": "6OoTdWV1gZSX"
      },
      "execution_count": 1,
      "outputs": []
    },
    {
      "cell_type": "code",
      "source": [
        "# 함수호출\n",
        "\n",
        "my_func(1,2)"
      ],
      "metadata": {
        "colab": {
          "base_uri": "https://localhost:8080/"
        },
        "id": "HyJTB0ATgeA5",
        "outputId": "25be2a69-1b73-43c2-91ac-ca0013e26620"
      },
      "execution_count": 2,
      "outputs": [
        {
          "output_type": "stream",
          "name": "stdout",
          "text": [
            "1 2\n"
          ]
        }
      ]
    },
    {
      "cell_type": "markdown",
      "source": [
        "### 기본 매개변수(default parameter)\n",
        "  "
      ],
      "metadata": {
        "id": "IOhB36ZygMae"
      }
    },
    {
      "cell_type": "markdown",
      "source": [
        "- 매개변수의 기본적인(Default) 값\n",
        "- 함수를 정의할 때 매개변수의 기본 값을 지정할 수 있다"
      ],
      "metadata": {
        "id": "V3KhH8g9gjbK"
      }
    },
    {
      "cell_type": "code",
      "source": [
        "# 함수 정의\n",
        "def post_info(title, content='내용없음'):\n",
        "\t\tprint('제목 : ', title)\n",
        "\t\tprint('내용 : ', content)"
      ],
      "metadata": {
        "id": "1ILPDkJ2goA7"
      },
      "execution_count": 3,
      "outputs": []
    },
    {
      "cell_type": "code",
      "source": [
        "# 함수 호출\n",
        "\n",
        "post_info('출석합니다!')"
      ],
      "metadata": {
        "colab": {
          "base_uri": "https://localhost:8080/"
        },
        "id": "gTv5T2X6goGW",
        "outputId": "608fca2a-d17a-4541-9498-89b4a502db41"
      },
      "execution_count": 4,
      "outputs": [
        {
          "output_type": "stream",
          "name": "stdout",
          "text": [
            "제목 :  출석합니다!\n",
            "내용 :  내용없음\n"
          ]
        }
      ]
    },
    {
      "cell_type": "markdown",
      "source": [
        "### 키워드 매개변수(keyword parameter)"
      ],
      "metadata": {
        "id": "MJg2hl3xgNaK"
      }
    },
    {
      "cell_type": "markdown",
      "source": [
        "- 함수 호출 시에 키워드를 붙여 호출한다\n",
        "- 매개변수의 순서를 지키지 않아도 된다"
      ],
      "metadata": {
        "id": "E8h-0PdYgw2j"
      }
    },
    {
      "cell_type": "code",
      "execution_count": null,
      "metadata": {
        "id": "DI5XnHCBfN91"
      },
      "outputs": [],
      "source": [
        "# 함수 정의\n",
        "\n",
        "def post_info(title, content):\n",
        "\t\tprint('제목 : ', title)\n",
        "\t\tprint('내용 : ', content)"
      ]
    },
    {
      "cell_type": "code",
      "source": [
        "# 함수 호출\n",
        "post_info(content='없어요', title='여자친구 만드는 방법')"
      ],
      "metadata": {
        "colab": {
          "base_uri": "https://localhost:8080/"
        },
        "id": "KOso-pH_gzCh",
        "outputId": "ff26944a-8048-499d-c399-9ee98cc3c5b3"
      },
      "execution_count": 6,
      "outputs": [
        {
          "output_type": "stream",
          "name": "stdout",
          "text": [
            "제목 :  여자친구 만드는 방법\n",
            "내용 :  없어요\n"
          ]
        }
      ]
    },
    {
      "cell_type": "markdown",
      "source": [
        "## 2. 다양한 매개변수 2\n"
      ],
      "metadata": {
        "id": "fSDKn7_GiGhj"
      }
    },
    {
      "cell_type": "markdown",
      "source": [
        "### 위치 가변 매개변수\n",
        "\n"
      ],
      "metadata": {
        "id": "95FpMGNOiSmQ"
      }
    },
    {
      "cell_type": "markdown",
      "source": [
        "- 가변 매개변수 = 개수가 정해지지 않은 매개변수\n",
        "- 매개변수 앞에 *가 붙는다. (튜플형)\n"
      ],
      "metadata": {
        "id": "fLcvljqsibxK"
      }
    },
    {
      "cell_type": "code",
      "source": [
        "# 함수 정의 \n",
        "def print_fruits(*args):\n",
        "\tfor arg in args:\n",
        "\t\tprint(arg)\t\t"
      ],
      "metadata": {
        "id": "sJ_kfV4biY5Y"
      },
      "execution_count": 7,
      "outputs": []
    },
    {
      "cell_type": "code",
      "source": [
        "# 함수 호출\n",
        "\n",
        "print_fruits('apple', 'orange', 'mango')\n"
      ],
      "metadata": {
        "colab": {
          "base_uri": "https://localhost:8080/"
        },
        "id": "h77_9nhCiY9e",
        "outputId": "4665a0b2-056b-4cbf-bf57-b1f8e4bd63f7"
      },
      "execution_count": 8,
      "outputs": [
        {
          "output_type": "stream",
          "name": "stdout",
          "text": [
            "apple\n",
            "orange\n",
            "mango\n"
          ]
        }
      ]
    },
    {
      "cell_type": "markdown",
      "source": [
        "### 키워드 가변 매개변수"
      ],
      "metadata": {
        "id": "3nvDiUFSiZ4x"
      }
    },
    {
      "cell_type": "markdown",
      "source": [
        "- 가변 매개변수 = 개수가 정해지지 않은 매개변수\n",
        "- 매개변수 앞에 **가 붙는다. (딕셔너리형)\n"
      ],
      "metadata": {
        "id": "enzWYnALinTT"
      }
    },
    {
      "cell_type": "code",
      "source": [
        "# 함수 정의\n",
        "\n",
        "def comment_info(**kwargs):\n",
        "\tfor key, value in kwargs.items():\n",
        "\t\tprint(f'{key} : {value}')\t\t"
      ],
      "metadata": {
        "id": "CoCKLxOxiq8i"
      },
      "execution_count": 9,
      "outputs": []
    },
    {
      "cell_type": "code",
      "source": [
        "# 함수 호출\n",
        "\n",
        "comment_info(name='파린이', content='정말 감사합니다!')\n"
      ],
      "metadata": {
        "colab": {
          "base_uri": "https://localhost:8080/"
        },
        "id": "40rV-0A9irAY",
        "outputId": "64134627-e473-4257-a662-56e202d9b7d6"
      },
      "execution_count": 10,
      "outputs": [
        {
          "output_type": "stream",
          "name": "stdout",
          "text": [
            "name : 파린이\n",
            "content : 정말 감사합니다!\n"
          ]
        }
      ]
    },
    {
      "cell_type": "markdown",
      "source": [
        "## 3. 람다 함수 (lambda)"
      ],
      "metadata": {
        "id": "uk18o2Hji01w"
      }
    },
    {
      "cell_type": "markdown",
      "source": [
        "### 람다 함수란?\n",
        "\n",
        "- 이름을 지을 필요도 없을 간단한 형태의 함수\n",
        "- 다른 함수의 인자(argument)로 넣을 수 있다.\n",
        "- 코드가 간결해 지고, 메모리가 절약된다."
      ],
      "metadata": {
        "id": "WVz-JYkri08t"
      }
    },
    {
      "cell_type": "markdown",
      "source": [
        "### 람다 함수 사용방법"
      ],
      "metadata": {
        "id": "L3JFnblQkRiI"
      }
    },
    {
      "cell_type": "markdown",
      "source": [
        "- 기존 함수 정의 방법\n",
        "\n",
        "  ```python\n",
        "  def 함수이름(매개변수):\n",
        "  \treturn 결과\n",
        "  ```"
      ],
      "metadata": {
        "id": "x_ANX99Pi1Cs"
      }
    },
    {
      "cell_type": "code",
      "source": [
        "def minus_one(a):\n",
        "  return a - 1"
      ],
      "metadata": {
        "id": "SSxFsPtDj2FM"
      },
      "execution_count": 13,
      "outputs": []
    },
    {
      "cell_type": "markdown",
      "source": [
        "- 람다 함수 정의 방법\n",
        "\n",
        "  ```python\n",
        "  lambda 매개변수 : 결과\n",
        "  ```"
      ],
      "metadata": {
        "id": "fjCfkSxbjaTW"
      }
    },
    {
      "cell_type": "code",
      "source": [
        "lambda a : a - 1"
      ],
      "metadata": {
        "colab": {
          "base_uri": "https://localhost:8080/"
        },
        "id": "mSgRnyw7j43E",
        "outputId": "19a74d74-4c0a-46d2-fb07-fec93426c77d"
      },
      "execution_count": 14,
      "outputs": [
        {
          "output_type": "execute_result",
          "data": {
            "text/plain": [
              "<function __main__.<lambda>(a)>"
            ]
          },
          "metadata": {},
          "execution_count": 14
        }
      ]
    },
    {
      "cell_type": "markdown",
      "source": [
        "- 기존 함수 호출 방법"
      ],
      "metadata": {
        "id": "oLK4-sX_jnQh"
      }
    },
    {
      "cell_type": "code",
      "source": [
        "minus_one(10)"
      ],
      "metadata": {
        "colab": {
          "base_uri": "https://localhost:8080/"
        },
        "id": "cZwOn22ZjLxy",
        "outputId": "f408c99a-b1bc-4597-99d8-9a7db245862f"
      },
      "execution_count": 15,
      "outputs": [
        {
          "output_type": "execute_result",
          "data": {
            "text/plain": [
              "9"
            ]
          },
          "metadata": {},
          "execution_count": 15
        }
      ]
    },
    {
      "cell_type": "markdown",
      "source": [
        "- 람다 함수 호출 방법"
      ],
      "metadata": {
        "id": "ifo71sNSjxpb"
      }
    },
    {
      "cell_type": "code",
      "source": [
        "(lambda a : a - 1)(10)"
      ],
      "metadata": {
        "colab": {
          "base_uri": "https://localhost:8080/"
        },
        "id": "tpaLxNMzjrKr",
        "outputId": "a1900406-9d13-4ac6-84a3-b6c034120d4d"
      },
      "execution_count": 18,
      "outputs": [
        {
          "output_type": "execute_result",
          "data": {
            "text/plain": [
              "9"
            ]
          },
          "metadata": {},
          "execution_count": 18
        }
      ]
    },
    {
      "cell_type": "code",
      "source": [
        "minus_one = lambda a : a - 1\n",
        "minus_one(10)"
      ],
      "metadata": {
        "colab": {
          "base_uri": "https://localhost:8080/"
        },
        "id": "39qv02mdj-GZ",
        "outputId": "b13e0971-9f55-41ae-e6f6-f421cb3ed545"
      },
      "execution_count": 20,
      "outputs": [
        {
          "output_type": "execute_result",
          "data": {
            "text/plain": [
              "9"
            ]
          },
          "metadata": {},
          "execution_count": 20
        }
      ]
    },
    {
      "cell_type": "markdown",
      "source": [
        "### 람다 함수 사용방법 (if문 사용)"
      ],
      "metadata": {
        "id": "OCeBKZRnkXJS"
      }
    },
    {
      "cell_type": "markdown",
      "source": [
        "- 기존 함수 정의 방법"
      ],
      "metadata": {
        "id": "r97Uul6lkYUc"
      }
    },
    {
      "cell_type": "code",
      "source": [
        "def is_positive_number(a):\n",
        "\tif a > 0:\n",
        "\t\treturn True\n",
        "\telse:\n",
        "\t\treturn False"
      ],
      "metadata": {
        "id": "-jeO5sDFkb8A"
      },
      "execution_count": 21,
      "outputs": []
    },
    {
      "cell_type": "markdown",
      "source": [
        "- 람다 함수 정의 방법\n",
        "\n"
      ],
      "metadata": {
        "id": "vQwy7_4-kfWH"
      }
    },
    {
      "cell_type": "code",
      "source": [
        "lambda a : True if a > 0 else False"
      ],
      "metadata": {
        "colab": {
          "base_uri": "https://localhost:8080/"
        },
        "id": "DmhKP3Cikcjr",
        "outputId": "cc447e0b-9837-41da-86d6-fd6b74032df5"
      },
      "execution_count": 22,
      "outputs": [
        {
          "output_type": "execute_result",
          "data": {
            "text/plain": [
              "<function __main__.<lambda>(a)>"
            ]
          },
          "metadata": {},
          "execution_count": 22
        }
      ]
    },
    {
      "cell_type": "markdown",
      "source": [
        "- 기존 함수 호출 방법"
      ],
      "metadata": {
        "id": "qgze504-kkHQ"
      }
    },
    {
      "cell_type": "code",
      "source": [
        "is_positive_number(-2)"
      ],
      "metadata": {
        "colab": {
          "base_uri": "https://localhost:8080/"
        },
        "id": "zkemHFH5kh9t",
        "outputId": "e9ed437f-7963-43aa-972a-69332ac1151d"
      },
      "execution_count": 23,
      "outputs": [
        {
          "output_type": "execute_result",
          "data": {
            "text/plain": [
              "False"
            ]
          },
          "metadata": {},
          "execution_count": 23
        }
      ]
    },
    {
      "cell_type": "markdown",
      "source": [
        "- 람다 함수 호출 방법"
      ],
      "metadata": {
        "id": "KdzeiF-Zkv6w"
      }
    },
    {
      "cell_type": "code",
      "source": [
        "is_positive_number = lambda a : True if a > 0 else False\n",
        "is_positive_number(-2)"
      ],
      "metadata": {
        "colab": {
          "base_uri": "https://localhost:8080/"
        },
        "id": "HhA0gffMkoCT",
        "outputId": "26767b5a-1303-40bd-8773-f420705bc4ab"
      },
      "execution_count": 31,
      "outputs": [
        {
          "output_type": "execute_result",
          "data": {
            "text/plain": [
              "False"
            ]
          },
          "metadata": {},
          "execution_count": 31
        }
      ]
    },
    {
      "cell_type": "markdown",
      "source": [
        "## 4. map, filter 함수"
      ],
      "metadata": {
        "id": "c7o-elzDs_Hn"
      }
    },
    {
      "cell_type": "markdown",
      "source": [
        "### map 함수"
      ],
      "metadata": {
        "id": "mqDIqvoytfQl"
      }
    },
    {
      "cell_type": "markdown",
      "source": [
        "- map 함수 사용방법\n",
        "\n",
        "  ```python\n",
        "  map(함수, 순서가있는자료형)\n",
        "  map(int, ['3', '4', '5', '6'])\n",
        "  ```\n",
        "  ![스크린샷 2023-01-08 오후 6 27 29](https://user-images.githubusercontent.com/96982072/211189018-3ce2107b-3ecc-4e88-9fed-3bb837f3fe67.png)\n"
      ],
      "metadata": {
        "id": "2mwvCnUQtCE7"
      }
    },
    {
      "cell_type": "markdown",
      "source": [
        "- 리스트 모든 요소의 공백 제거"
      ],
      "metadata": {
        "id": "q-zLrKBRtkV9"
      }
    },
    {
      "cell_type": "markdown",
      "source": [
        "  1. for문 사용했을 때"
      ],
      "metadata": {
        "id": "zZF3_hYDtnbs"
      }
    },
    {
      "cell_type": "code",
      "source": [
        "items = ['  로지덱마우스  ', '  앱솔키보드  ']\n",
        "\n",
        "for i in range(len(items)):\n",
        "\titems[i] = items[i].strip()\n",
        "\n",
        "print(items)"
      ],
      "metadata": {
        "colab": {
          "base_uri": "https://localhost:8080/"
        },
        "id": "n7KnrTYAtqCZ",
        "outputId": "e763453c-1339-40ba-da33-ecd15b190216"
      },
      "execution_count": 35,
      "outputs": [
        {
          "output_type": "stream",
          "name": "stdout",
          "text": [
            "['로지덱마우스', '앱솔키보드']\n"
          ]
        }
      ]
    },
    {
      "cell_type": "markdown",
      "source": [
        "  2. map함수 사용했을 때"
      ],
      "metadata": {
        "id": "ChrVhie-tzGb"
      }
    },
    {
      "cell_type": "code",
      "source": [
        "def strip_all(x):\n",
        "    return x.strip()\n",
        "items = ['  로지덱마우스  ', '  앱솔키보드  ']\n",
        "items = list(map(strip_all, items))\n",
        "\n",
        "print(items)"
      ],
      "metadata": {
        "colab": {
          "base_uri": "https://localhost:8080/"
        },
        "id": "ed6nefBttrLU",
        "outputId": "b407392f-33d7-4762-c2fa-8a7e4c07eee2"
      },
      "execution_count": 34,
      "outputs": [
        {
          "output_type": "stream",
          "name": "stdout",
          "text": [
            "['로지덱마우스', '앱솔키보드']\n"
          ]
        }
      ]
    },
    {
      "cell_type": "markdown",
      "source": [
        "  3. 람다 함수 사용했을 때"
      ],
      "metadata": {
        "id": "qROua1tjuE2i"
      }
    },
    {
      "cell_type": "code",
      "source": [
        "items = ['  로지덱마우스  ', '  앱솔키보드  ']\n",
        "items = list(map(lambda x: x.strip(), items))\n",
        "\n",
        "print(items)"
      ],
      "metadata": {
        "colab": {
          "base_uri": "https://localhost:8080/"
        },
        "id": "WF9b8iAiuIBV",
        "outputId": "f09de2ab-2841-41c9-c6c2-0a0837c3f907"
      },
      "execution_count": 36,
      "outputs": [
        {
          "output_type": "stream",
          "name": "stdout",
          "text": [
            "['로지덱마우스', '앱솔키보드']\n"
          ]
        }
      ]
    },
    {
      "cell_type": "markdown",
      "source": [
        "### filter 함수\n"
      ],
      "metadata": {
        "id": "Es_-NbshuO9N"
      }
    },
    {
      "cell_type": "markdown",
      "source": [
        "- filter 함수 사용방법\n",
        "\n",
        "  ```python\n",
        "  filter(함수, 순서가있는자료형)\n",
        "  def func(x):\n",
        "  \treturn x < 0\n",
        "  filter(func, [-3, -2, 0, 5, 7])\n",
        "  ```\n",
        "\n",
        "  ![스크린샷 2023-01-08 오후 6 33 04](https://user-images.githubusercontent.com/96982072/211189282-f7392476-81a2-49c1-9d7c-b040870d497e.png)\n"
      ],
      "metadata": {
        "id": "nM9DDCKVuRGT"
      }
    },
    {
      "cell_type": "markdown",
      "source": [
        "- 리스트에서 길이가 3이하인 문자들만 필터링"
      ],
      "metadata": {
        "id": "wsQYlYhluhgH"
      }
    },
    {
      "cell_type": "markdown",
      "source": [
        "1. for문 사용했을 때\n"
      ],
      "metadata": {
        "id": "DPhZBj1uui3y"
      }
    },
    {
      "cell_type": "code",
      "source": [
        "animals = ['cat', 'tiger', 'dog', 'bird', 'monkey']\n",
        "result = []\n",
        "for i in animals:\n",
        "\tif len(i) <= 3:\n",
        "\t\t\tresult.append(i)\n",
        "   \n",
        "result"
      ],
      "metadata": {
        "colab": {
          "base_uri": "https://localhost:8080/"
        },
        "id": "z2CkMyqjuTk4",
        "outputId": "fa14c3a3-91bd-4ed0-a5e5-4941c5def031"
      },
      "execution_count": 38,
      "outputs": [
        {
          "output_type": "execute_result",
          "data": {
            "text/plain": [
              "['cat', 'dog']"
            ]
          },
          "metadata": {},
          "execution_count": 38
        }
      ]
    },
    {
      "cell_type": "markdown",
      "source": [
        "2. filter 사용했을 때\n"
      ],
      "metadata": {
        "id": "2ib1fS9Xuske"
      }
    },
    {
      "cell_type": "code",
      "source": [
        "animals = ['cat', 'tiger', 'dog', 'bird', 'monkey']\n",
        "def word_check(x):\n",
        "\treturn len(x) <=3\n",
        "result = list(filter(word_check, animals))\n",
        "\n",
        "result"
      ],
      "metadata": {
        "colab": {
          "base_uri": "https://localhost:8080/"
        },
        "id": "Zdtd6LuWuLX-",
        "outputId": "0ce5013c-18c7-458d-d6bd-9d24391edff5"
      },
      "execution_count": 39,
      "outputs": [
        {
          "output_type": "execute_result",
          "data": {
            "text/plain": [
              "['cat', 'dog']"
            ]
          },
          "metadata": {},
          "execution_count": 39
        }
      ]
    },
    {
      "cell_type": "markdown",
      "source": [
        "3. 람다 함수 사용했을 때\n"
      ],
      "metadata": {
        "id": "fXw8PpmRu1sv"
      }
    },
    {
      "cell_type": "code",
      "source": [
        "animals = ['cat', 'tiger', 'dog', 'bird', 'monkey']\n",
        "result = list(filter(lambda x : len(x) <= 3, animals))\n",
        "\n",
        "result"
      ],
      "metadata": {
        "colab": {
          "base_uri": "https://localhost:8080/"
        },
        "id": "vJ9koxsauuv1",
        "outputId": "f15a8706-6d07-42ba-a374-7cac8e3372b2"
      },
      "execution_count": 40,
      "outputs": [
        {
          "output_type": "execute_result",
          "data": {
            "text/plain": [
              "['cat', 'dog']"
            ]
          },
          "metadata": {},
          "execution_count": 40
        }
      ]
    }
  ]
}