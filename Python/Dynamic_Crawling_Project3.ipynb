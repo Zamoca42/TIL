{
  "nbformat": 4,
  "nbformat_minor": 0,
  "metadata": {
    "colab": {
      "provenance": [],
      "authorship_tag": "ABX9TyP/N+mudqgugW9JQdzwLQaE",
      "include_colab_link": true
    },
    "kernelspec": {
      "name": "python3",
      "display_name": "Python 3"
    },
    "language_info": {
      "name": "python"
    }
  },
  "cells": [
    {
      "cell_type": "markdown",
      "metadata": {
        "id": "view-in-github",
        "colab_type": "text"
      },
      "source": [
        "<a href=\"https://colab.research.google.com/github/Zamoca42/TIL/blob/main/Python/Dynamic_Crawling_Project3.ipynb\" target=\"_parent\"><img src=\"https://colab.research.google.com/assets/colab-badge.svg\" alt=\"Open In Colab\"/></a>"
      ]
    },
    {
      "cell_type": "markdown",
      "source": [
        "# 동적 크롤링 - 다나와 PC견적"
      ],
      "metadata": {
        "id": "wvz4-EB7thTZ"
      }
    },
    {
      "cell_type": "markdown",
      "source": [
        "## 소개"
      ],
      "metadata": {
        "id": "30fkcC8XuMDf"
      }
    },
    {
      "cell_type": "markdown",
      "source": [
        "- 다나와 PC 견적페이지에서 부품을 선택해서 견적을 맞춰보는 프로젝트\n",
        "- 2023.1.21 기준 강의내용과 다름 \n",
        "  - CPU 종류 선택부분부터 셀렉박스 -> 체크박스로 변경된 부분\n",
        "  - html 소스에서 iframe 삭제\n",
        "- 변경된 부분에 맞춰서 코드작성\n",
        "- vscode로 작성,실행하고 colab으로 기록함"
      ],
      "metadata": {
        "id": "WbnG-drwuOKD"
      }
    },
    {
      "cell_type": "markdown",
      "source": [
        "### 선행코드"
      ],
      "metadata": {
        "id": "CQTbFrh_v1-5"
      }
    },
    {
      "cell_type": "code",
      "source": [
        "# 필요한 라이브러리\n",
        "\n",
        "import time\n",
        "import pyperclip\n",
        "from selenium import webdriver\n",
        "from selenium.webdriver.common.by import By\n",
        "from selenium.webdriver.support.ui import WebDriverWait\n",
        "from selenium.webdriver.support import expected_conditions as EC\n",
        "\n",
        "# 드라이버 자동 업데이트\n",
        "# pip install webdriver_manager\n",
        "from selenium.webdriver.chrome.service import Service\n",
        "from webdriver_manager.chrome import ChromeDriverManager"
      ],
      "metadata": {
        "id": "JBDZYLJavHkQ"
      },
      "execution_count": null,
      "outputs": []
    },
    {
      "cell_type": "markdown",
      "source": [
        "- 앞선 프로젝트와 같은 크롬 드라이버와 wait코드 미리 작성"
      ],
      "metadata": {
        "id": "Rht36LZAvRdh"
      }
    },
    {
      "cell_type": "code",
      "source": [
        "chrome = webdriver.Chrome(service=Service(ChromeDriverManager().install()))\n",
        "\n",
        "wait = WebDriverWait(chrome, 10)\n",
        "short_wait = WebDriverWait(chrome, 3)"
      ],
      "metadata": {
        "id": "k7S8BVKsvPtV"
      },
      "execution_count": null,
      "outputs": []
    },
    {
      "cell_type": "markdown",
      "source": [
        "- 자주사용할 함수를 미리 작성해준다\n",
        "  - CSS선택자를 이용한 Explicit wait\n",
        "  - find_elements를 이용한 요소찾기"
      ],
      "metadata": {
        "id": "a4fBDhw0vbcr"
      }
    },
    {
      "cell_type": "code",
      "source": [
        "def find_present(css):\n",
        "    return wait.until(EC.presence_of_element_located((By.CSS_SELECTOR, css)))\n",
        "\n",
        "def finds_present(css):\n",
        "    find_present(css)\n",
        "    return chrome.find_elements(By.CSS_SELECTOR, css)\n",
        "\n",
        "def find_visible(css):\n",
        "    return wait.until(EC.visibility_of_element_located((By.CSS_SELECTOR, css)))\n",
        "\n",
        "def finds_visible(css):\n",
        "    find_visible(css)\n",
        "    return chrome.find_elements(By.CSS_SELECTOR, css)"
      ],
      "metadata": {
        "id": "DH5niSN7vayv"
      },
      "execution_count": null,
      "outputs": []
    },
    {
      "cell_type": "code",
      "source": [
        "# 다나와 PC 견적페이지\n",
        "chrome.get('https://shop.danawa.com/virtualestimate/?controller=estimateMain&methods=index&marketPlaceSeq=16')"
      ],
      "metadata": {
        "id": "VwoOM2j9v7zz"
      },
      "execution_count": null,
      "outputs": []
    },
    {
      "cell_type": "markdown",
      "source": [
        "## 카테고리 선택"
      ],
      "metadata": {
        "id": "b04UxJ2Pt4ET"
      }
    },
    {
      "cell_type": "markdown",
      "source": [
        "### CPU 카테고리 클릭"
      ],
      "metadata": {
        "id": "PbCLjoDNu_dI"
      }
    },
    {
      "cell_type": "markdown",
      "source": [
        "- 먼저 iframe을 이동해주어야하지만 다나와 업데이트로 iframe이 삭제\n"
      ],
      "metadata": {
        "id": "t2aqt3dcwGxC"
      }
    },
    {
      "cell_type": "code",
      "source": [
        "# frame 이동\n",
        "# find_visible(\"iframe#ifrmWish\")\n",
        "# chrome.switch_to.frame(\"ifrmWish\")"
      ],
      "metadata": {
        "id": "C1jJ63y3wOa5"
      },
      "execution_count": null,
      "outputs": []
    },
    {
      "cell_type": "markdown",
      "source": [
        "![스크린샷 2023-01-21 오전 12 17 37](https://user-images.githubusercontent.com/96982072/213733834-8d77841a-bf49-403c-a360-db5b76f6d371.png)\n",
        "\n",
        "- 다나와 PC주요부품에서 차례로 부품선택\n",
        "  - CPU\n",
        "  - 메인보드\n",
        "  - 메모리\n",
        "  - 그래픽카드\n",
        "  - ssd\n",
        "  - 케이스\n",
        "  - 파워\n",
        "\n"
      ],
      "metadata": {
        "id": "v9vCGVBPwlXt"
      }
    },
    {
      "cell_type": "markdown",
      "source": [
        "- CPU의 element는 F12를 눌러서 확인해보면 \n",
        "`<dd class=\"category_873 pd_item select\">`\n",
        "로 category_873\n",
        "- 메인보드의 element는 `<dd class=\"category_875 pd_item\">`로 category_875\n",
        "- 하나하나씩 입력해줄 수 있지만 반복하는 것은 좋지 않음\n",
        "  - 카테고리를 맵핑"
      ],
      "metadata": {
        "id": "07c8hm49w5KJ"
      }
    },
    {
      "cell_type": "code",
      "source": [
        "# 카테고리 맵핑 테이블\n",
        "category = {\n",
        "    \"cpu\" : \"873\",\n",
        "    \"메인보드\" : \"875\",\n",
        "    \"메모리\" : \"874\",\n",
        "    \"그래픽카드\" : \"876\",\n",
        "    \"ssd\" : \"32617\",\n",
        "    \"케이스\" : \"879\",\n",
        "    \"파워\" : \"880\",\n",
        "}\n",
        "\n",
        "# 카테고리 클릭\n",
        "mainboard = find_visible(\"dd.category_\" + category[\"메인보드\"] + \" a\")\n",
        "mainboard.click()"
      ],
      "metadata": {
        "id": "JAvIlPJdx8_S"
      },
      "execution_count": null,
      "outputs": []
    },
    {
      "cell_type": "markdown",
      "source": [
        "- 이렇게 카테고리별로 작성할 수 있으나 dict comprehension을 이용\n",
        "  - `{ key:value for 원소 in 반복가능한 객체 }`\n",
        "  - `{ key:value for 원소 in 반복가능한 객체 if문 }`\n",
        "  - 한줄로 작성해 혹시 모를 오타 방지"
      ],
      "metadata": {
        "id": "qAtv29-YyFre"
      }
    },
    {
      "cell_type": "code",
      "source": [
        "# 카테고리 맵핑 테이블\n",
        "category = {\n",
        "    \"cpu\" : \"873\",\n",
        "    \"메인보드\" : \"875\",\n",
        "    \"메모리\" : \"874\",\n",
        "    \"그래픽카드\" : \"876\",\n",
        "    \"ssd\" : \"32617\",\n",
        "    \"케이스\" : \"879\",\n",
        "    \"파워\" : \"880\",\n",
        "}\n",
        "\n",
        "# dict comprehension\n",
        "category_css = {\n",
        "    c: \"dd.category_\" + category[c] + \" a\" for c in category\n",
        "}\n",
        "\n",
        "find_visible(category_css[\"cpu\"]).click()\n",
        "time.sleep(1)"
      ],
      "metadata": {
        "id": "Pjbkw2sJyR78"
      },
      "execution_count": null,
      "outputs": []
    },
    {
      "cell_type": "markdown",
      "source": [
        "## CPU 제조사 선택"
      ],
      "metadata": {
        "id": "PoOWmxYRt5Ms"
      }
    },
    {
      "cell_type": "markdown",
      "source": [
        "### 필터링\n",
        "\n",
        "![스크린샷 2023-01-21 오전 12 28 49](https://user-images.githubusercontent.com/96982072/213736170-dbdd311d-2464-402d-b6a0-990d8ccddd0c.png)\n",
        "\n",
        "- 강의내용에서는 셀렉박스였으나 2023.1.21 기준 체크박스로 변경\n",
        "- 제조사에서 인텔 or AMD를 선택하고 제조사에 맞는 CPU 종류를 고르는 순서"
      ],
      "metadata": {
        "id": "Dz_ItL0SywPI"
      }
    },
    {
      "cell_type": "markdown",
      "source": [
        "### 체크박스 선택\n",
        "\n",
        "<img width=\"859\" alt=\"스크린샷 2023-01-21 오전 12 32 31\" src=\"https://user-images.githubusercontent.com/96982072/213737990-7fbd1be8-5f06-4554-84e6-ab9603bf3376.png\">\n",
        "\n",
        "- 체크박스에서 인텔을 클릭하려면 span을 선택해 클릭해야함\n",
        "  - 특이한 패턴으로 input의 `name=makerCode`가 있음\n",
        "  - `+`선택자로 형제노드인 span으로 이동가능\n"
      ],
      "metadata": {
        "id": "cG-hsjqfzuyK"
      }
    },
    {
      "cell_type": "code",
      "source": [
        "# cpu 제조사 불러오기\n",
        "options = finds_visible(\"input[name=makerCode]+span\")\n",
        "\n",
        "for o in options:\n",
        "     print(o.text)"
      ],
      "metadata": {
        "id": "EPmEKBE4zlxr"
      },
      "execution_count": null,
      "outputs": []
    },
    {
      "cell_type": "markdown",
      "source": [
        "- 출력\n",
        "  \n",
        "  ![스크린샷 2023-01-21 오전 12 35 54](https://user-images.githubusercontent.com/96982072/213740389-40bbf81a-a6d0-4723-aa19-9b632b321a55.png)\n"
      ],
      "metadata": {
        "id": "BfrBZV7U0cjm"
      }
    },
    {
      "cell_type": "code",
      "source": [
        "finds_visible(\"input[name=makerCode]+span\")[0].click()"
      ],
      "metadata": {
        "id": "y-6lTfpK1Fzj"
      },
      "execution_count": null,
      "outputs": []
    },
    {
      "cell_type": "markdown",
      "source": [
        "- 리스트로 받기 때문에 0번 인덱스에 `.click()`하면 인텔에 체크"
      ],
      "metadata": {
        "id": "W54PlM1q1Hcz"
      }
    },
    {
      "cell_type": "markdown",
      "source": [
        "### 제조사 입력 후 선택"
      ],
      "metadata": {
        "id": "yd6QkXbF1bcu"
      }
    },
    {
      "cell_type": "markdown",
      "source": [
        "- 동적인 동작을 하기 위해 인텔 혹은 AMD로 입력을 받음"
      ],
      "metadata": {
        "id": "uQBrWiVt1kUG"
      }
    },
    {
      "cell_type": "code",
      "source": [
        "def choose_one(text, options):\n",
        "    print(\"-\"*10)\n",
        "    print(text)\n",
        "    print(\"-\"*10)\n",
        "    for i in range(len(options)):\n",
        "        print(f\"{i+1}. {options[i]}\")\n",
        "    choose = input(\"-> \")\n",
        "    return int(choose) - 1\n",
        "\n",
        "# cpu 제조사 불러오기\n",
        "options = finds_visible(\"input[name=makerCode]+span\")\n",
        "i = choose_one(\"cpu 제조사를 골라주세요\",[x.text for x in options])\n",
        "print(options[i].text)\n",
        "options[i].click()"
      ],
      "metadata": {
        "id": "F79Y-EGY18Z4"
      },
      "execution_count": null,
      "outputs": []
    },
    {
      "cell_type": "markdown",
      "source": [
        "- `choose_one` 함수를 작성해 1.에는 인텔 2.에는 AMD로 입력받음\n",
        "  - 1인 인텔로 입력받았지만 인텔은 0번 인덱스에 들어가있으므로\n",
        "  반환값에 -1을 한다\n"
      ],
      "metadata": {
        "id": "wsnQi6eB1-g3"
      }
    },
    {
      "cell_type": "markdown",
      "source": [
        "- 결과  \n",
        "\n",
        "  ![스크린샷 2023-01-21 오전 12 41 05](https://user-images.githubusercontent.com/96982072/213742399-d1b48621-62c2-4f4a-b309-c5c87397311c.png)\n"
      ],
      "metadata": {
        "id": "q17WhLG02yjP"
      }
    },
    {
      "cell_type": "markdown",
      "source": [
        "## CPU 종류 선택"
      ],
      "metadata": {
        "id": "JBWRM-EpuEY9"
      }
    },
    {
      "cell_type": "markdown",
      "source": [
        "### 문제점1\n",
        "\n",
        "<img width=\"900\" alt=\"스크린샷 2023-01-21 오전 12 48 34\" src=\"https://user-images.githubusercontent.com/96982072/213743032-94f25861-762d-44c6-ad7e-a514af34b528.png\">\n",
        "\n",
        "- 제조사 이하 모든 체크박스가 `name=\"attribute\"`을 가짐\n",
        "- key로 제조사를 나누기 힘듬\n",
        "- 해결방법\n",
        "  - 특정 패턴을 찾기 어려웠기 때문에 제일 많은 단어를 포함한 것을 추출"
      ],
      "metadata": {
        "id": "HRH6TC3euH6f"
      }
    },
    {
      "cell_type": "code",
      "execution_count": null,
      "metadata": {
        "id": "bWIyfAb0oM1A"
      },
      "outputs": [],
      "source": [
        "# cpu 종류 불러오기\n",
        "title = \"\"\n",
        "if i == 0:\n",
        "    title = \"코어\"\n",
        "elif i == 1:\n",
        "    title = \"라이젠\"\n",
        "\n",
        "options = finds_visible(f\"input[name='attribute'][data^='{title}']+span\")\n",
        "i = choose_one(\"CPU 종류를 선택해 주세요\", [x.text for x in options])\n",
        "options[i].click()"
      ]
    },
    {
      "cell_type": "markdown",
      "source": [
        "- 결과  \n",
        "\n",
        "  ![스크린샷 2023-01-21 오전 12 52 28](https://user-images.githubusercontent.com/96982072/213743919-990bca1b-9861-4b9d-a2f8-3b2d17f44706.png)\n",
        "\n",
        "- 문제점\n",
        "  - 모든 체크박스가 view되지 않았기 때문에 나머지 옵션은 빈칸\n",
        "\n",
        "- 해결방법\n",
        "  - 해당제조사의 옵션더보기 또한 인덱스와 같으므로 옵션더보기도 클릭하는 명령어를 추가"
      ],
      "metadata": {
        "id": "e2JUF_az4RdN"
      }
    },
    {
      "cell_type": "code",
      "source": [
        "# cpu 종류 불러오기\n",
        "title = \"\"\n",
        "if i == 0:\n",
        "    title = \"코어\"\n",
        "elif i == 1:\n",
        "    title = \"라이젠\"\n",
        "\n",
        "# 옵션 더보기\n",
        "finds_visible(\"div.search_option_list button\")[i].click()\n",
        "# 제조사 선택\n",
        "options = finds_visible(f\"input[name='attribute'][data^='{title}']+span\")\n",
        "i = choose_one(\"CPU 종류를 선택해 주세요\", [x.text for x in options])\n",
        "options[i].click()"
      ],
      "metadata": {
        "id": "EoGB-LLM44KW"
      },
      "execution_count": null,
      "outputs": []
    },
    {
      "cell_type": "markdown",
      "source": [
        "- 결과  \n",
        "\n",
        "  ![스크린샷 2023-01-21 오전 12 55 09](https://user-images.githubusercontent.com/96982072/213744603-65b7975c-d306-4bbd-89bb-718b2f64f402.png)\n",
        "\n",
        "- 많은 목록을 불러올 수 있게됨\n",
        "\n",
        "- 작동 화면\n",
        "\n",
        "  ![스크린샷 2023-01-21 오전 12 59 13](https://user-images.githubusercontent.com/96982072/213745524-c849e25f-0349-458d-9149-522b9ea1e0a5.png)"
      ],
      "metadata": {
        "id": "mN7nJbo75GYL"
      }
    },
    {
      "cell_type": "markdown",
      "source": [
        "- 문제점\n",
        "  - 포함되지 않은 체크박스가 있다면 그 숫자만큼 인덱스가 밀린다\n",
        "    - 펜티엄 골드를 체크할 수 없음\n",
        "\n",
        "- 해결방법  \n",
        "  \n",
        "  <img width=\"884\" alt=\"스크린샷 2023-01-21 오전 1 58 08\" src=\"https://user-images.githubusercontent.com/96982072/213757915-13b330b8-d5ad-401e-8251-c36ea62f0316.png\">\n",
        "  \n",
        "  - value값의 숫자가 카테고리별로 공통된 것을 발견\n",
        "    - 인텔 CPU종류의 attribute 중 value값을 `873|40|`포함하는 값으로 변경  \n",
        "  \n",
        "\n",
        "\n",
        "\n",
        "\n",
        "  "
      ],
      "metadata": {
        "id": "ieD7-MNOGvyn"
      }
    },
    {
      "cell_type": "code",
      "source": [
        "# cpu 종류 불러오기\n",
        "value = \"\"\n",
        "if i == 0:\n",
        "    # 인텔\n",
        "    value = \"873|40|\"\n",
        "elif i == 1:\n",
        "    # 라이젠\n",
        "    value = \"873|312287|\"\n",
        "finds_visible(\"div.search_option_list button\")[i].click()\n",
        "options = finds_visible(f\"input[name='attribute'][value^='{ value }']+span\")\n",
        "#options = finds_visible(f\"input[name='attribute'][data^='{ title }']+span\")\n",
        "i = choose_one(\"CPU 종류를 선택해 주세요\", [x.text for x in options])\n",
        "options[i].click()\n",
        "\n",
        "time.sleep(10)\n",
        "\n",
        "chrome.quit()"
      ],
      "metadata": {
        "id": "SXN3yyzXHsEz"
      },
      "execution_count": null,
      "outputs": []
    },
    {
      "cell_type": "markdown",
      "source": [
        "- 결과  \n",
        "\n",
        "  ![스크린샷 2023-01-21 오전 1 59 45](https://user-images.githubusercontent.com/96982072/213759818-c5fa10b0-4237-458f-b474-79ad2424ec40.png)"
      ],
      "metadata": {
        "id": "KwqbB4Y9IsvY"
      }
    },
    {
      "cell_type": "markdown",
      "source": [
        "## 최종코드"
      ],
      "metadata": {
        "id": "8KCdTP8GW4ux"
      }
    },
    {
      "cell_type": "markdown",
      "source": [
        "1. 반복되는 코드는 함수로 바꿈\n",
        "  - 제품 선택에서 `value='876|655|'`과 같이 `value='category|menu|'`로 반복되는 패턴 발견\n",
        "    - 추가적인 함수화 가능\n",
        "2. Message: stale element reference: element is not attached to the page document 오류 해결\n",
        "  - 목록을 받아오는 로딩시간이 길어질 수 있으므로 `time.sleep`으로 시간을 벌어줌\n",
        "  - https://moondol-ai.tistory.com/239\n",
        "3. 메인보드 이후로 반복되는 코드이기 때문에 그래픽카드까지만 작성\n"
      ],
      "metadata": {
        "id": "N_4c3jPAXLzg"
      }
    },
    {
      "cell_type": "code",
      "source": [
        "# 그래픽카드 제품시리즈\n",
        "finds_visible(\"div.search_option_list button\")[1].click()\n",
        "options = finds_visible(\"input[value^='876|655|']+span\")\n",
        "i = choose_one(\"제품시리즈를 선택해주세요\", [x.text for x in options])\n",
        "options[i].click()"
      ],
      "metadata": {
        "id": "_4aNJIBFYfvU"
      },
      "execution_count": null,
      "outputs": []
    },
    {
      "cell_type": "code",
      "source": [
        "import time\n",
        "import pyperclip\n",
        "from selenium import webdriver\n",
        "from selenium.webdriver.common.by import By\n",
        "from selenium.webdriver.support.ui import WebDriverWait\n",
        "from selenium.webdriver.support import expected_conditions as EC\n",
        "\n",
        "# 드라이버 자동 업데이트\n",
        "# pip install webdriver_manager\n",
        "from selenium.webdriver.chrome.service import Service\n",
        "from webdriver_manager.chrome import ChromeDriverManager\n",
        "\n",
        "# 카테고리 맵핑 테이블\n",
        "category = {\n",
        "    \"cpu\" : \"873\",\n",
        "    \"메인보드\" : \"875\",\n",
        "    \"메모리\" : \"874\",\n",
        "    \"그래픽카드\" : \"876\",\n",
        "    \"ssd\" : \"32617\",\n",
        "    \"케이스\" : \"879\",\n",
        "    \"파워\" : \"880\",\n",
        "}\n",
        "\n",
        "# dict comprehension\n",
        "category_css = {\n",
        "    c: \"dd.category_\" + category[c] + \" a\" for c in category\n",
        "}\n",
        "\n",
        "chrome = webdriver.Chrome(service=Service(ChromeDriverManager().install()))\n",
        "\n",
        "wait = WebDriverWait(chrome, 10)\n",
        "short_wait = WebDriverWait(chrome, 3)\n",
        "\n",
        "def find_present(css):\n",
        "    return wait.until(EC.presence_of_element_located((By.CSS_SELECTOR, css)))\n",
        "\n",
        "def finds_present(css):\n",
        "    find_present(css)\n",
        "    return chrome.find_elements(By.CSS_SELECTOR, css)\n",
        "\n",
        "def find_visible(css):\n",
        "    return wait.until(EC.visibility_of_element_located((By.CSS_SELECTOR, css)))\n",
        "\n",
        "def finds_visible(css):\n",
        "    find_visible(css)\n",
        "    return chrome.find_elements(By.CSS_SELECTOR, css)\n",
        "\n",
        "def choose_one(text, options):\n",
        "    print(\"-\"*10)\n",
        "    print(text)\n",
        "    print(\"-\"*10)\n",
        "    for i in range(len(options)):\n",
        "        print(f\"{i+1}. {options[i]}\")\n",
        "    choose = input(\"-> \")\n",
        "    return int(choose) - 1\n",
        "\n",
        "def parse_products():\n",
        "    time.sleep(2)\n",
        "    products = []\n",
        "    for p in finds_visible(\"div.scroll_box tr[class^=productList_]\"):\n",
        "        name = p.find_element(By.CSS_SELECTOR, \"p.subject a\").text\n",
        "        try:\n",
        "            price = p.find_element(By.CSS_SELECTOR, \"span.prod_price\").text\n",
        "        except:\n",
        "            continue\n",
        "        products.append((name, price))\n",
        "    return products\n",
        "\n",
        "def go_to_category(category_name):\n",
        "    find_visible(category_css[category_name]).click()\n",
        "    time.sleep(1)\n",
        "# print(category_css)\n",
        "\n",
        "def choose_maker(text):\n",
        "    options = finds_visible(\"input[name=makerCode]+span\")\n",
        "    try: \n",
        "        finds_visible(\"div.search_option_list button\")[0].click()\n",
        "    except:\n",
        "        pass\n",
        "    \n",
        "    i = choose_one(text,[x.text for x in options])\n",
        "    print(options[i].text)\n",
        "    # finds_visible(\"input[name=makerCode]+span\")[0].click()\n",
        "    options[i].click()\n",
        "    return i\n",
        "\n",
        "# 다나와 PC 견적\n",
        "chrome.get('https://shop.danawa.com/virtualestimate/?controller=estimateMain&methods=index&marketPlaceSeq=16')\n",
        "\n",
        "###### cpu #######\n",
        "\n",
        "# 카테고리 클릭\n",
        "go_to_category(\"cpu\")\n",
        "\n",
        "# 제조사 불러오기\n",
        "options = finds_visible(\"input[name=makerCode]+span\")\n",
        "maker_idx = choose_one(\"cpu 제조사를 골라주세요\",[x.text for x in options])\n",
        "print(options[maker_idx].text)\n",
        "options[maker_idx].click()\n",
        "\n",
        "# 종류 불러오기\n",
        "is_intel = False\n",
        "is_amd = False\n",
        "value = \"\"\n",
        "if maker_idx == 0:\n",
        "    # 인텔\n",
        "    is_intel = True\n",
        "    value = \"873|40|\"\n",
        "elif maker_idx == 1:\n",
        "    # 라이젠\n",
        "    is_amd = True\n",
        "    value = \"873|312287|\"\n",
        "\n",
        "finds_visible(\"div.search_option_list button\")[maker_idx].click()\n",
        "options = finds_visible(f\"input[name='attribute'][value^='{ value }']+span\")\n",
        "#options = finds_visible(f\"input[name='attribute'][data^='{ title }']+span\")\n",
        "i = choose_one(\"CPU 종류를 선택해 주세요\", [x.text for x in options])\n",
        "options[i].click()\n",
        "\n",
        "# 목록 선택하기\n",
        "\n",
        "cpus = parse_products()\n",
        "# for cpu in cpus:\n",
        "#     print(cpu)\n",
        "\n",
        "###### 메인보드 #######\n",
        "\n",
        "# 카테고리\n",
        "go_to_category(\"메인보드\")\n",
        "\n",
        "# 제조사\n",
        "choose_maker(\"메인보드 제조사를 골라주세요\")\n",
        "\n",
        "options = finds_visible(\"input[value^='875|499|']+span\")\n",
        "# 종류\n",
        "if is_intel:\n",
        "    # 인텔\n",
        "    options[0].click()\n",
        "elif is_amd:\n",
        "    # 라이젠\n",
        "    options[1].click()\n",
        "\n",
        "\n",
        "# 목록 선택\n",
        "mainboards = parse_products()\n",
        "\n",
        "###### 메모리 #######\n",
        "\n",
        "# 카테고리\n",
        "go_to_category(\"메모리\")\n",
        "\n",
        "# 제조사\n",
        "choose_maker(\"메모리 제조사를 골라주세요\")\n",
        "\n",
        "# 데스크탑\n",
        "finds_visible(\"input[value^='874|278|']+span\")[0].click()\n",
        "\n",
        "# DDR4\n",
        "finds_visible(\"input[value^='874|277|']+span\")[1].click()\n",
        "\n",
        "# 메모리 용량\n",
        "finds_visible(\"div.search_option_list button\")[2].click()\n",
        "options = finds_visible(\"input[value^='874|282|']+span\")\n",
        "i = choose_one(\"메모리 용량을 선택해주세요\", [x.text for x in options])\n",
        "options[i].click()\n",
        "\n",
        "# 목록 선택\n",
        "memories = parse_products()\n",
        "\n",
        "###### 그래픽카드 #######\n",
        "\n",
        "# 카테고리\n",
        "go_to_category(\"그래픽카드\")\n",
        "\n",
        "# 제조사\n",
        "choose_maker(\"그래픽카드 제조사를 골라주세요\")\n",
        "\n",
        "# 칩셋\n",
        "options = finds_visible(\"input[value^='876|654|']+span\")\n",
        "i = choose_one(\"칩셋 제조사를 선택해주세요\", [x.text for x in options])\n",
        "options[i].click()\n",
        "\n",
        "# 제품시리즈\n",
        "finds_visible(\"div.search_option_list button\")[1].click()\n",
        "options = finds_visible(\"input[value^='876|655|']+span\")\n",
        "i = choose_one(\"제품시리즈를 선택해주세요\", [x.text for x in options])\n",
        "options[i].click()\n",
        "\n",
        "# 목록 선택\n",
        "graphics = parse_products()\n",
        "\n",
        "# cpus, mainboards, memories, graphics\n",
        "\n",
        "popular = {\n",
        "    \"cpu\": cpus[0],\n",
        "    \"mainboard\": mainboards[0],\n",
        "    \"memory\" : memories[0], \n",
        "    \"graphic\" : graphics[0]\n",
        "}\n",
        "print(\"-\"*50)\n",
        "print(\"인기 1위 조합 입니다\")\n",
        "print(\"cpu : \", popular[\"cpu\"])\n",
        "print(\"mainboard : \", popular[\"mainboard\"])\n",
        "print(\"memory : \", popular[\"memory\"])\n",
        "print(\"graphic : \", popular[\"graphic\"])\n",
        "\n",
        "\n",
        "def find_cheap(arr):\n",
        "    cheap_idx = 0\n",
        "    for i in range(len(arr)):\n",
        "        cheap = arr[cheap_idx]\n",
        "        a = arr[i]\n",
        "        if int(a[1].replace(',','')) < int(cheap[1].replace(',','')):\n",
        "            cheap_idx = i\n",
        "    return arr[cheap_idx]\n",
        "\n",
        "# 가장 가성비\n",
        "recommend = {\n",
        "    \"cpu\": find_cheap(cpus),\n",
        "    \"mainboard\": find_cheap(mainboards),\n",
        "    \"memory\" : find_cheap(memories), \n",
        "    \"graphic\" : find_cheap(graphics)\n",
        "}\n",
        "print(\"-\"*50)\n",
        "print(\"가성비 1위 조합 입니다\")\n",
        "print(\"cpu :\", recommend[\"cpu\"])\n",
        "print(\"mainboard :\", recommend[\"mainboard\"])\n",
        "print(\"memory :\", recommend[\"memory\"])\n",
        "print(\"graphic :\", recommend[\"graphic\"])\n",
        "\n",
        "time.sleep(10)\n",
        "\n",
        "chrome.quit()"
      ],
      "metadata": {
        "id": "-kvdUpCzW69S"
      },
      "execution_count": null,
      "outputs": []
    },
    {
      "cell_type": "markdown",
      "source": [
        "- 결과  \n",
        "\n",
        "  ![스크린샷 2023-01-21 오후 9 43 37](https://user-images.githubusercontent.com/96982072/213867511-9f14b6e3-ce5c-4806-a647-792d318b8287.png)\n"
      ],
      "metadata": {
        "id": "JnUO47btX310"
      }
    }
  ]
}