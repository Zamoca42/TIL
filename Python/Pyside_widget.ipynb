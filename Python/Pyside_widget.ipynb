{
  "nbformat": 4,
  "nbformat_minor": 0,
  "metadata": {
    "colab": {
      "provenance": [],
      "authorship_tag": "ABX9TyM9gOimWsZGYZKkLvBtSQUt",
      "include_colab_link": true
    },
    "kernelspec": {
      "name": "python3",
      "display_name": "Python 3"
    },
    "language_info": {
      "name": "python"
    }
  },
  "cells": [
    {
      "cell_type": "markdown",
      "metadata": {
        "id": "view-in-github",
        "colab_type": "text"
      },
      "source": [
        "<a href=\"https://colab.research.google.com/github/Zamoca42/TIL/blob/main/Python/Pyside_widget.ipynb\" target=\"_parent\"><img src=\"https://colab.research.google.com/assets/colab-badge.svg\" alt=\"Open In Colab\"/></a>"
      ]
    },
    {
      "cell_type": "markdown",
      "source": [
        "# 메신저 만들어보기"
      ],
      "metadata": {
        "id": "ZZB3uz5rO_3i"
      }
    },
    {
      "cell_type": "markdown",
      "source": [
        "## ui design"
      ],
      "metadata": {
        "id": "jscURYqpPFdS"
      }
    },
    {
      "cell_type": "markdown",
      "source": [
        "<img width=\"399\" alt=\"스크린샷 2023-01-25 오후 5 52 19\" src=\"https://user-images.githubusercontent.com/96982072/214583838-8217fa89-74d9-4027-a081-a062f7abad1b.png\">\n",
        "\n",
        "- list view box\n",
        "  - object name : `list_chat`\n",
        "\n",
        "- line edit(입력 박스)\n",
        "  - nickname_object : `edit_nickname`\n",
        "  - chat_object : `edit_text`\n",
        "\n",
        "- push button\n",
        "  - object name : `btn_send`"
      ],
      "metadata": {
        "id": "xMspw1voPYe5"
      }
    },
    {
      "cell_type": "markdown",
      "source": [
        "### 실습코드"
      ],
      "metadata": {
        "id": "IBIp1zw7gp-k"
      }
    },
    {
      "cell_type": "markdown",
      "source": [
        "1. 위의 ui를 python 파일로 변환  \n",
        "  ```\n",
        "  pyside6-uic ui.ui > ui.py\n",
        "  ```\n",
        "2. `edit_text`에 내용 입력 시 메세지 박스로 출력"
      ],
      "metadata": {
        "id": "SzYPiaPjQg0e"
      }
    },
    {
      "cell_type": "code",
      "source": [
        "#...\n",
        "\n",
        "class MainWindow(QMainWindow):\n",
        "    def __init__(self):\n",
        "        super(MainWindow, self).__init__()\n",
        "        self.ui = Ui_MainWindow()\n",
        "        self.ui.setupUi(self)\n",
        "\n",
        "        self.ui.btn_send.clicked.connect(self.send)\n",
        "    \n",
        "    def send(self):\n",
        "        mb = QMessageBox()\n",
        "        mb.setText(self.ui.edit_text.text())\n",
        "        mb.exec()\n",
        "\n",
        "#..."
      ],
      "metadata": {
        "id": "wusN0u6sgdLo"
      },
      "execution_count": null,
      "outputs": []
    },
    {
      "cell_type": "markdown",
      "source": [
        "- 결과  \n",
        "\n",
        "  ![스크린샷 2023-01-25 오후 7 37 38](https://user-images.githubusercontent.com/96982072/214542052-4952ea7c-7d60-4a29-a539-eb09a770586d.png)"
      ],
      "metadata": {
        "id": "2cP3QRF3gei2"
      }
    },
    {
      "cell_type": "markdown",
      "source": [
        "## List View"
      ],
      "metadata": {
        "id": "XwweKTywRKWq"
      }
    },
    {
      "cell_type": "markdown",
      "source": [
        "- List View\n",
        "  - model이 포함되지 않음\n",
        "    - item과 model을 설정해주어야함\n",
        "\n",
        "- Model \n",
        "  - 어플리케이션에서 사용되는 데이터와 그 데이터를 처리하는 부분\n",
        "- View \n",
        "  - 사용자에서 보여지는 UI 부분\n",
        "- Controller \n",
        "  - 사용자의 입력(Action)을 받고 처리하는 부분\n",
        "\n",
        "- MVC, MVVM 패턴\n",
        "  - https://beomy.tistory.com/43\n"
      ],
      "metadata": {
        "id": "rdk-f5VdRMY3"
      }
    },
    {
      "cell_type": "markdown",
      "source": [
        "### 실습코드2"
      ],
      "metadata": {
        "id": "Ii48eMBTqXte"
      }
    },
    {
      "cell_type": "markdown",
      "source": [
        "1. `list_chat`에서 setModel\n",
        "2. text를 입력하고 전송을 누르면 list_view에서 보여줌"
      ],
      "metadata": {
        "id": "f1_MovSaS3lB"
      }
    },
    {
      "cell_type": "code",
      "execution_count": null,
      "metadata": {
        "id": "0YEvhVbEgcGW"
      },
      "outputs": [],
      "source": [
        "import sys\n",
        "from PySide6.QtWidgets import QMainWindow, QApplication, QMessageBox\n",
        "from ui import Ui_MainWindow # ui.py\n",
        "\n",
        "from PySide6.QtGui import QStandardItemModel, QStandardItem\n",
        "\n",
        "class MainWindow(QMainWindow):\n",
        "    def __init__(self):\n",
        "        super(MainWindow, self).__init__()\n",
        "        self.ui = Ui_MainWindow()\n",
        "        self.ui.setupUi(self)\n",
        "\n",
        "        self.model = QStandardItemModel()\n",
        "        self.ui.list_chat.setModel(self.model)\n",
        "\n",
        "        self.ui.btn_send.clicked.connect(self.send)\n",
        "    \n",
        "    def send(self):\n",
        "        text = self.ui.edit_text.text()\n",
        "        item = QStandardItem(text)\n",
        "        self.model.appendRow(item)\n",
        "\n",
        "#..."
      ]
    },
    {
      "cell_type": "markdown",
      "source": [
        "- 결과  \n",
        "  \n",
        "  ![스크린샷 2023-01-25 오후 7 51 54](https://user-images.githubusercontent.com/96982072/214550593-36cc1c4a-cc81-4f0a-a74b-9955fbce32fa.png)\n"
      ],
      "metadata": {
        "id": "5l6LfW1xjTbe"
      }
    },
    {
      "cell_type": "markdown",
      "source": [
        "## List widget, line edit event"
      ],
      "metadata": {
        "id": "93z0PW5UTUp0"
      }
    },
    {
      "cell_type": "markdown",
      "source": [
        "- list_view -> list widget으로 변경  \n",
        "\n",
        "  <img width=\"529\" alt=\"스크린샷 2023-01-25 오후 10 37 06\" src=\"https://user-images.githubusercontent.com/96982072/214589519-b1484341-f835-4216-823b-ae8c74b370e8.png\">\n",
        "\n",
        "  - list widget은 model이 포함\n",
        "    - 설정할 필요 없음"
      ],
      "metadata": {
        "id": "1bq4RRpLThH3"
      }
    },
    {
      "cell_type": "markdown",
      "source": [
        "### 실습코드3\n"
      ],
      "metadata": {
        "id": "crotHqrh-nA-"
      }
    },
    {
      "cell_type": "markdown",
      "source": [
        "- list_view -> list widget으로 변경\n",
        "- nickname 추가\n",
        "- 전송버튼 대신 enter키 누르면 전송기능\n",
        "  - `returnPressed.connect(self.send)`"
      ],
      "metadata": {
        "id": "vfNJUyi4TfYF"
      }
    },
    {
      "cell_type": "code",
      "source": [
        "class MainWindow(QMainWindow):\n",
        "    def __init__(self):\n",
        "        super(MainWindow, self).__init__()\n",
        "        self.ui = Ui_MainWindow()\n",
        "        self.ui.setupUi(self)\n",
        "\n",
        "        #self.model = QStandardItemModel()\n",
        "        #self.ui.list_chat.setModel(self.model)\n",
        "\n",
        "        self.ui.btn_send.clicked.connect(self.send)\n",
        "        self.ui.edit_text.returnPressed.connect(self.send)\n",
        "    \n",
        "    def send(self):\n",
        "        nickname = self.ui.edit_nickname.text()\n",
        "        text = self.ui.edit_text.text()\n",
        "        # item = QStandardItem(text)\n",
        "        # self.model.appendRow(item)\n",
        "        self.ui.list_chat.addItem(f\"{nickname}: {text}\")\n",
        "#..."
      ],
      "metadata": {
        "id": "qYGACOOV-rqe"
      },
      "execution_count": null,
      "outputs": []
    },
    {
      "cell_type": "markdown",
      "source": [
        "- 결과  \n",
        "  \n",
        "  ![스크린샷 2023-01-25 오후 9 52 54](https://user-images.githubusercontent.com/96982072/214588253-5563b9d7-71a3-4391-88fd-077635d5e549.png)\n"
      ],
      "metadata": {
        "id": "5RgS1urwT1Oa"
      }
    },
    {
      "cell_type": "markdown",
      "source": [
        "## file"
      ],
      "metadata": {
        "id": "NPVIaOMYJpY_"
      }
    },
    {
      "cell_type": "markdown",
      "source": [
        "### 실습 코드"
      ],
      "metadata": {
        "id": "olaizdhvVUYM"
      }
    },
    {
      "cell_type": "markdown",
      "source": [
        "- 메신저을 위한 브로드캐스트 서버대신 파일을 사용\n",
        "- 랜덤닉네임 생성해서 불러오기\n",
        "- 채팅 내용을 전송후에는 비우기\n"
      ],
      "metadata": {
        "id": "cr7EoLIoJr1a"
      }
    },
    {
      "cell_type": "code",
      "source": [
        "#...\n",
        "\n",
        "class MainWindow(QMainWindow):\n",
        "    def __init__(self):\n",
        "        super(MainWindow, self).__init__()\n",
        "        self.ui = Ui_MainWindow()\n",
        "        self.ui.setupUi(self)\n",
        "\n",
        "        #self.model = QStandardItemModel()\n",
        "        #self.ui.list_chat.setModel(self.model)\n",
        "\n",
        "        self.ui.btn_send.clicked.connect(self.send)\n",
        "        self.ui.edit_text.returnPressed.connect(self.send)\n",
        "\n",
        "        nickname = self.random_nickname()\n",
        "        self.ui.edit_nickname.setText(nickname)\n",
        "    \n",
        "    def send(self):\n",
        "        nickname = self.ui.edit_nickname.text()\n",
        "        text = self.ui.edit_text.text()\n",
        "        # item = QStandardItem(text)\n",
        "        # self.model.appendRow(item)\n",
        "        # self.ui.list_chat.addItem(f\"{nickname}: {text}\")\n",
        "        msg = f\"{nickname}: {text}\"\n",
        "\n",
        "        # 파일에다가 msg 쓰기\n",
        "        with open(\"./server.txt\", \"a+\") as f:\n",
        "            f.writelines(msg)\n",
        "        \n",
        "        self.ui.edit_text.clear()\n",
        "    \n",
        "    def random_nickname(self):\n",
        "        nickname = random.choice([\"홍길동\", \"박보검\", \"한소희\"])\n",
        "        num = random.randint(1,1000)\n",
        "        return f\"{nickname}{num}\"\n",
        "\n",
        "#..."
      ],
      "metadata": {
        "id": "bUt5p6YPYRr5"
      },
      "execution_count": null,
      "outputs": []
    },
    {
      "cell_type": "markdown",
      "source": [
        "- 결과  \n",
        "  \n",
        "  ![스크린샷 2023-01-25 오후 10 14 40](https://user-images.githubusercontent.com/96982072/214594096-b24326d9-742d-4f11-9e01-5843f1695ac1.png)\n",
        "\n",
        "\n"
      ],
      "metadata": {
        "id": "SQrzI9JbZMsT"
      }
    },
    {
      "cell_type": "markdown",
      "source": [
        "## 여러명 채팅"
      ],
      "metadata": {
        "id": "o9GZ7Gd4ZbXi"
      }
    },
    {
      "cell_type": "markdown",
      "source": [
        "- 창 여러개를 띄워 여러명과 채팅하는 상황 만들기\n",
        "- 서버 파일 로드해보기\n",
        "  - listen\n",
        "  - server.txt에 저장된 메세지 리스트 박스로 불러오기\n",
        "  - 한번 불러온 메세지는 다시 불러오지 않기\n",
        "  - 처음 실행할 때 저장된 메세지 모두 불러오기\n",
        "\n",
        "- 타이머 만들고 특정 시간마다 server.txt 불러오기\n",
        "  - `QTimer()`\n",
        "\n",
        "- 처음 실행 시 환영 메세지 추가"
      ],
      "metadata": {
        "id": "KLNA-m71ZfR2"
      }
    },
    {
      "cell_type": "code",
      "source": [
        "from PySide6.QtCore import QTimer\n",
        "\n",
        "# 타이머\n",
        "self.timer = QTimer()\n",
        "self.timer.setInterval(500)\n",
        "self.timer.timeout.connect(self.listen)\n",
        "self.timer.start()"
      ],
      "metadata": {
        "id": "mX09VTwRuLOi"
      },
      "execution_count": null,
      "outputs": []
    },
    {
      "cell_type": "markdown",
      "source": [
        "### 실습코드"
      ],
      "metadata": {
        "id": "o1M7qlCLuZGU"
      }
    },
    {
      "cell_type": "code",
      "source": [
        "class MainWindow(QMainWindow):\n",
        "    last_read = 0\n",
        "\n",
        "    def __init__(self):\n",
        "        super(MainWindow, self).__init__()\n",
        "        self.ui = Ui_MainWindow()\n",
        "        self.ui.setupUi(self)\n",
        "\n",
        "        self.ui.btn_send.clicked.connect(self.send)\n",
        "        self.ui.edit_text.returnPressed.connect(self.send)\n",
        "\n",
        "        nickname = self.random_nickname()\n",
        "        self.ui.edit_nickname.setText(nickname)\n",
        "\n",
        "        # 환영합니다 메세지\n",
        "        with open(\"./server.txt\", \"a+\") as f:\n",
        "            f.writelines(f\"---------{nickname}님이 입장하셨습니다\\n\")\n",
        "\n",
        "        self.listen()\n",
        "\n",
        "        self.timer = QTimer()\n",
        "        self.timer.setInterval(500)\n",
        "        self.timer.timeout.connect(self.listen)\n",
        "        self.timer.start()\n",
        "        \n",
        "    def send(self):\n",
        "        nickname = self.ui.edit_nickname.text()\n",
        "        text = self.ui.edit_text.text()\n",
        "        msg = f\"{nickname}: {text}\"\n",
        "\n",
        "        # 파일에다가 msg 쓰기\n",
        "        with open(\"./server.txt\", \"a+\") as f:\n",
        "            f.writelines(msg + \"\\n\")\n",
        "        \n",
        "        self.ui.edit_text.clear()\n",
        "\n",
        "        # # 읽어오기\n",
        "        # self.listen()\n",
        "    \n",
        "    def random_nickname(self):\n",
        "        nickname = random.choice([\"홍길동\", \"박보검\", \"한소희\"])\n",
        "        num = random.randint(1,1000)\n",
        "        return f\"{nickname}{num}\"\n",
        "    \n",
        "    def listen(self):\n",
        "        try:\n",
        "            with open(\"./server.txt\", \"r\") as f:\n",
        "                lines = f.readlines()\n",
        "            lines = [x.strip() for x in lines]\n",
        "            self.ui.list_chat.addItems(lines[self.last_read:])\n",
        "            self.last_read = len(lines)\n",
        "            self.ui.list_chat.scrollToBottom()\n",
        "        except:\n",
        "            pass"
      ],
      "metadata": {
        "id": "2TUJjlbKuYid"
      },
      "execution_count": null,
      "outputs": []
    },
    {
      "cell_type": "markdown",
      "source": [
        "- 결과\n",
        "\n",
        "  ![스크린샷 2023-01-26 오전 1 15 28](https://user-images.githubusercontent.com/96982072/214617579-6a9d503f-c695-4a92-b709-5f02cc78f1e3.png)\n"
      ],
      "metadata": {
        "id": "xqCGYAHduio3"
      }
    },
    {
      "cell_type": "markdown",
      "source": [
        "# 포스 만들어보기"
      ],
      "metadata": {
        "id": "2S9Q1F99Y9m4"
      }
    },
    {
      "cell_type": "markdown",
      "source": [
        "## 디자인"
      ],
      "metadata": {
        "id": "3IBmEPt1ZXde"
      }
    },
    {
      "cell_type": "markdown",
      "source": [
        "## Table widget"
      ],
      "metadata": {
        "id": "AbPo0oliZYug"
      }
    },
    {
      "cell_type": "markdown",
      "source": [
        "- 현재 시각 표시\n",
        "- 더미 데이터 만들고 주문 내역 가져오기\n",
        "  - `QTableWidgetItem()`\n",
        "\n"
      ],
      "metadata": {
        "id": "Al8lvBNBhWz8"
      }
    },
    {
      "cell_type": "code",
      "source": [
        "import sys\n",
        "import datetime\n",
        "from PySide6.QtWidgets import QMainWindow, QApplication, QTableWidgetItem\n",
        "from PySide6.QtCore import QTimer\n",
        "\n",
        "from ui import Ui_MainWindow # ui.py\n",
        "\n",
        "dummy = [\n",
        "    {\"menu\": \"에스프레소 L\", \"quantity\": \"10\", \"order_amount\": \"10000\", \"time\": \"2021-07-22 09:14\", \"status\": \"waiting\"},\n",
        "    {\"menu\": \"에스프레소 L\", \"quantity\": \"10\", \"order_amount\": \"10000\", \"time\": \"2021-07-22 09:14\", \"status\": \"waiting\"}\n",
        "]\n",
        "\n",
        "class MainWindow(QMainWindow):\n",
        "    def __init__(self):\n",
        "        super(MainWindow, self).__init__()\n",
        "        self.ui = Ui_MainWindow()\n",
        "        self.ui.setupUi(self)\n",
        "\n",
        "        self.timer = QTimer()\n",
        "        self.timer.setInterval(990)\n",
        "        self.timer.timeout.connect(self.tick)\n",
        "        self.timer.start()\n",
        "\n",
        "        self.load()\n",
        "\n",
        "    def tick(self):\n",
        "        now = datetime.datetime.now()\n",
        "        self.ui.lb_now.setText(f\"현재시각 : {now}\")\n",
        "    \n",
        "    def load(self):\n",
        "        for d in dummy:\n",
        "            r = self.ui.table_orders.rowCount()\n",
        "            self.ui.table_orders.insertRow(r)\n",
        "            self.ui.table_orders.setItem(r, 0, QTableWidgetItem(d[\"menu\"]))\n",
        "            self.ui.table_orders.setItem(r, 1, QTableWidgetItem(d[\"quantity\"]))\n",
        "            self.ui.table_orders.setItem(r, 2, QTableWidgetItem(d[\"order_amount\"]))\n",
        "            self.ui.table_orders.setItem(r, 3, QTableWidgetItem(d[\"time\"]))\n",
        "            self.ui.table_orders.setItem(r, 4, QTableWidgetItem(d[\"status\"]))\n",
        "\n",
        "\n",
        "\n",
        "if __name__ == \"__main__\":\n",
        "    app = QApplication()\n",
        "\n",
        "    window = MainWindow()\n",
        "    window.show()\n",
        "\n",
        "    sys.exit(app.exec())"
      ],
      "metadata": {
        "id": "iUaQlflfhtdW"
      },
      "execution_count": null,
      "outputs": []
    },
    {
      "cell_type": "markdown",
      "source": [
        "## 주문 금액 계산"
      ],
      "metadata": {
        "id": "Aje1aL7iZbQC"
      }
    },
    {
      "cell_type": "markdown",
      "source": [
        "- lcd 주문 업데이트\n",
        "- 더미 데이터를 주문데이터로 바꾸기\n",
        "- 주문 넣기탭\n",
        "  - 메뉴별 금액\n",
        "  - 사이즈\n",
        "  - 주문 수량\n",
        "  - 총 주문 수량"
      ],
      "metadata": {
        "id": "TrHcPkQOmYHZ"
      }
    },
    {
      "cell_type": "code",
      "source": [
        "orders = [\n",
        "    {\"menu\": \"에스프레소 L\", \"quantity\": \"10\", \"order_amount\": \"10000\", \"time\": \"2021-07-22 09:14\", \"status\": \"waiting\"},\n",
        "    {\"menu\": \"에스프레소 L\", \"quantity\": \"10\", \"order_amount\": \"10000\", \"time\": \"2021-07-22 09:14\", \"status\": \"complete\"}\n",
        "]\n",
        "\n",
        "menu_widegets = [\n",
        "    \"radio_espresso\",\n",
        "    \"radio_americano\",\n",
        "    \"radio_latte\",\n",
        "    \"radio_mocca\",\n",
        "    \"radio_choco_smoothie\",\n",
        "    \"radio_berry_smoothie\"\n",
        "]\n",
        "\n",
        "size_widegets = [\n",
        "    \"radio_size_s\",\n",
        "    \"radio_size_m\",\n",
        "    \"radio_size_l\",\n",
        "    \"radio_size_xl\"\n",
        "]\n",
        "\n",
        "class MainWindow(QMainWindow):\n",
        "    def __init__(self):\n",
        "        super(MainWindow, self).__init__()\n",
        "        self.ui = Ui_MainWindow()\n",
        "        self.ui.setupUi(self)\n",
        "\n",
        "        self.timer = QTimer()\n",
        "        self.timer.setInterval(990)\n",
        "        self.timer.timeout.connect(self.tick)\n",
        "        self.timer.start()\n",
        "\n",
        "        self.load()\n",
        "\n",
        "        for w in menu_widegets + size_widegets:\n",
        "            widget = getattr(self.ui, w)\n",
        "            widget.clicked.connect(self.calc)\n",
        "\n",
        "        self.calc()\n",
        "\n",
        "    def tick(self):\n",
        "        now = datetime.datetime.now()\n",
        "        self.ui.lb_now.setText(f\"현재시각 : {now}\")\n",
        "    \n",
        "    def load(self):\n",
        "        for d in orders:\n",
        "            r = self.ui.table_orders.rowCount()\n",
        "            self.ui.table_orders.insertRow(r)\n",
        "            self.ui.table_orders.setItem(r, 0, QTableWidgetItem(d[\"menu\"]))\n",
        "            self.ui.table_orders.setItem(r, 1, QTableWidgetItem(d[\"quantity\"]))\n",
        "            self.ui.table_orders.setItem(r, 2, QTableWidgetItem(d[\"order_amount\"]))\n",
        "            self.ui.table_orders.setItem(r, 3, QTableWidgetItem(d[\"time\"]))\n",
        "            self.ui.table_orders.setItem(r, 4, QTableWidgetItem(d[\"status\"]))\n",
        "        \n",
        "        # lcd 주문 업데이트\n",
        "        self.ui.lcd_num_orders.display(len(orders))\n",
        "        waiting = [x for x in orders if x[\"status\"] == \"waiting\"]\n",
        "        self.ui.lcd_num_waiting.display(len(waiting))\n",
        "        processing = [x for x in orders if x[\"status\"] == \"processing\"]\n",
        "        self.ui.lcd_num_processing.display(len(processing))\n",
        "        delivery = [x for x in orders if x[\"status\"] == \"delivery\"]\n",
        "        self.ui.lcd_num_delivery.display(len(delivery))\n",
        "        complete = [x for x in orders if x[\"status\"] == \"complete\"]\n",
        "        self.ui.lcd_num_complete.display(len(complete))\n",
        "    \n",
        "    def calc(self):\n",
        "        menu_price = {\n",
        "            \"에스프레소\" : 1000,\n",
        "            \"아메리카노\" : 1500,\n",
        "            \"라떼\" : 3000,\n",
        "            \"모카\" : 3500,\n",
        "            \"초코 스무디\" : 5500,\n",
        "            \"딸기 스무디\" : 5500,\n",
        "        }\n",
        "\n",
        "        size_price = {\n",
        "            \"S\": 0,\n",
        "            \"M\": 500,\n",
        "            \"L\": 1000,\n",
        "            \"XL\": 1500,\n",
        "        }\n",
        "\n",
        "        price = 0\n",
        "        for w in menu_widegets:\n",
        "            menu = getattr(self.ui, w)\n",
        "            if menu.isChecked():\n",
        "                price = menu_price[menu.text()]\n",
        "                break\n",
        "\n",
        "        for w in size_widegets:\n",
        "            size = getattr(self.ui, w)\n",
        "            if size.isChecked():\n",
        "                price += size_price[size.text()]\n",
        "                break\n",
        "        \n",
        "        quantity = self.ui.spin_quantity.value()\n",
        "        price = price * quantity\n",
        "\n",
        "        self.ui.lb_order_amount.setText(f\"총 주문 금액 : {price}원\")\n",
        "        return price\n",
        "#..."
      ],
      "metadata": {
        "id": "z5t67MJbuPz9"
      },
      "execution_count": null,
      "outputs": []
    },
    {
      "cell_type": "markdown",
      "source": [
        "## 주문 넣기"
      ],
      "metadata": {
        "id": "avSBnODcZfU3"
      }
    },
    {
      "cell_type": "markdown",
      "source": [
        "- 수량 변경 시 업데이트\n",
        "- 수량 조절 스크롤, 다이얼 연동\n",
        "  - `quantity_lock`으로 재귀상태 회피\n",
        "- 발주 버튼을 누르면 주문내역으로 이동\n",
        "  - 이전 내용까지 모두 불러오는 문제\n"
      ],
      "metadata": {
        "id": "3jUdZKU61YwQ"
      }
    },
    {
      "cell_type": "markdown",
      "source": [
        "### 실습코드"
      ],
      "metadata": {
        "id": "m8WjS_fFrx_6"
      }
    },
    {
      "cell_type": "code",
      "source": [
        "class MainWindow(QMainWindow):\n",
        "    quantity_lock = False\n",
        "\n",
        "    def __init__(self):\n",
        "        super(MainWindow, self).__init__()\n",
        "        self.ui = Ui_MainWindow()\n",
        "        self.ui.setupUi(self)\n",
        "\n",
        "        self.timer = QTimer()\n",
        "        self.timer.setInterval(990)\n",
        "        self.timer.timeout.connect(self.tick)\n",
        "        self.timer.start()\n",
        "\n",
        "        self.load()\n",
        "\n",
        "        for w in menu_widegets + size_widegets:\n",
        "            widget = getattr(self.ui, w)\n",
        "            widget.clicked.connect(self.calc)\n",
        "\n",
        "        self.calc()\n",
        "\n",
        "        self.ui.spin_quantity.valueChanged.connect(self.sync_quantity)\n",
        "        self.ui.hs_quantity.valueChanged.connect(self.sync_quantity)\n",
        "        self.ui.vs_quantity.valueChanged.connect(self.sync_quantity)\n",
        "        self.ui.dial_quantity.valueChanged.connect(self.sync_quantity)\n",
        "\n",
        "        self.ui.btn_order.clicked.connect(self.order)\n",
        "\n",
        "# tick, load, calc 함수 생략...\n",
        "\n",
        "\n",
        "    def sync_quantity(self):\n",
        "        if self.quantity_lock:\n",
        "            return\n",
        "        \n",
        "        self.quantity_lock = True\n",
        "\n",
        "        spin = self.ui.spin_quantity\n",
        "        hs = self.ui.hs_quantity\n",
        "        vs = self.ui.vs_quantity\n",
        "        dial = self.ui.dial_quantity\n",
        "\n",
        "        values = [spin.value(), hs.value(), vs.value(), dial.value()]\n",
        "        dup = {}\n",
        "        target = 0\n",
        "        for v in values:\n",
        "            dup[v] = dup.get(v, 0) + 1\n",
        "        for k, v in dup.items():\n",
        "            if v == 1:\n",
        "                target = k\n",
        "        \n",
        "        spin.setValue(target)\n",
        "        hs.setValue(target)\n",
        "        vs.setValue(target)\n",
        "        dial.setValue(target)\n",
        "\n",
        "        self.calc()\n",
        "\n",
        "        self.quantity_lock = False\n",
        "    \n",
        "    def order(self):\n",
        "        menu = \"\"\n",
        "        for w in menu_widegets:\n",
        "            radio = getattr(self.ui, w)\n",
        "            if radio.isChecked():\n",
        "                menu = radio.text()\n",
        "            \n",
        "        for w in size_widegets:\n",
        "            radio = getattr(self.ui, w)\n",
        "            if radio.isChecked():\n",
        "                menu += \" \" + radio.text()\n",
        "                break\n",
        "        \n",
        "        quantity = self.ui.spin_quantity.value()\n",
        "\n",
        "        order = {\n",
        "            \"menu\": menu,\n",
        "            \"quantity\": str(quantity),\n",
        "            \"order_amount\": self.calc(),\n",
        "            \"time\": str(datetime.datetime.now()),\n",
        "            \"status\": \"waiting\",\n",
        "        }\n",
        "        \n",
        "        orders.append(order)\n",
        "\n",
        "        mb = QMessageBox()\n",
        "        mb.setText(\"발주되었습니다\")\n",
        "        mb.exec()\n",
        "\n",
        "        self.load()\n",
        "\n",
        "# ..."
      ],
      "metadata": {
        "id": "5pbmTnP4rb4x"
      },
      "execution_count": null,
      "outputs": []
    },
    {
      "cell_type": "markdown",
      "source": [
        "## 주문 상태 변경"
      ],
      "metadata": {
        "id": "ouGgu_6_Zho5"
      }
    },
    {
      "cell_type": "markdown",
      "source": [
        "- 주문내역 상태 변경 (대기중 -> 완료)"
      ],
      "metadata": {
        "id": "8V63h8ngy-hB"
      }
    },
    {
      "cell_type": "code",
      "source": [
        "class MainWindow(QMainWindow):\n",
        "    quantity_lock = False\n",
        "\n",
        "    def __init__(self):\n",
        "      #...\n",
        "      self.ui.table_orders.cellDoubleClicked.connect(self.change_order)\n",
        "    \n",
        "    #...\n",
        "    def change_order(self, r, c):\n",
        "\n",
        "        status = [\"waiting\", \"processing\", \"delivery\", \"complete\"]\n",
        "        orders[r][\"status\"] = status[status.index(orders[r][\"status\"]) + 1]\n",
        "        \n",
        "        self.load()\n",
        "\n",
        "#..."
      ],
      "metadata": {
        "id": "2KlOeTRyy9_8"
      },
      "execution_count": null,
      "outputs": []
    }
  ]
}