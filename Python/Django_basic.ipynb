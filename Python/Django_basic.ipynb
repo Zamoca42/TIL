{
  "nbformat": 4,
  "nbformat_minor": 0,
  "metadata": {
    "colab": {
      "provenance": [],
      "collapsed_sections": [
        "wAH2QwC_gCZF",
        "PNw8K2CTVrz2"
      ],
      "authorship_tag": "ABX9TyP8ThZ6kP30jUzChXld8FOX",
      "include_colab_link": true
    },
    "kernelspec": {
      "name": "python3",
      "display_name": "Python 3"
    },
    "language_info": {
      "name": "python"
    }
  },
  "cells": [
    {
      "cell_type": "markdown",
      "metadata": {
        "id": "view-in-github",
        "colab_type": "text"
      },
      "source": [
        "<a href=\"https://colab.research.google.com/github/Zamoca42/TIL/blob/main/Python/Django_basic.ipynb\" target=\"_parent\"><img src=\"https://colab.research.google.com/assets/colab-badge.svg\" alt=\"Open In Colab\"/></a>"
      ]
    },
    {
      "cell_type": "markdown",
      "source": [
        "# Django와 친해지기"
      ],
      "metadata": {
        "id": "wAH2QwC_gCZF"
      }
    },
    {
      "cell_type": "markdown",
      "source": [
        "- Django 이해\n",
        "- Coding Convention(Ft.Black)\n",
        "- 데이터 베이스 관리\n",
        "- Django 작동 원리\n",
        "- Django ORM 기초\n",
        "- Django Templete 사용법\n",
        "- 회원가입, 로그인 등 만들기\n",
        "- 소셜 로그인 (Google)\n",
        "- 배포를 위한 Django 설정\n",
        "- Static File 이해하기\n",
        "- DigitalOcean에 배포하기"
      ],
      "metadata": {
        "id": "5jGe3SsvgEcx"
      }
    },
    {
      "cell_type": "markdown",
      "source": [
        "# Django 웹프레임워크의 이해"
      ],
      "metadata": {
        "id": "PNw8K2CTVrz2"
      }
    },
    {
      "cell_type": "markdown",
      "source": [
        "## Why Django?"
      ],
      "metadata": {
        "id": "uSJEV674VzVd"
      }
    },
    {
      "cell_type": "markdown",
      "source": [
        "![스크린샷 2023-01-31 오후 7 20 19](https://user-images.githubusercontent.com/96982072/215733692-bc3669ad-41f2-41a1-8928-30edf53add15.png)  \n",
        "\n",
        "- 다양한 사용이 가능\n",
        "- 기본적인 보안기능 지원\n",
        "- Shared-nothing Architecture \n",
        "- 쉬운 유지보수"
      ],
      "metadata": {
        "id": "yoPepl3BV0rn"
      }
    },
    {
      "cell_type": "markdown",
      "source": [
        "## 프레임워크 vs 라이브러리"
      ],
      "metadata": {
        "id": "hfzxvOPSWVgj"
      }
    },
    {
      "cell_type": "markdown",
      "source": [
        "- 프레임워크\n",
        "  - 내 코드 ▶ Django ▶ Serving\n",
        "- 라이브러리\n",
        "  - 라이브러리 ▶ 내 코드 ▶ Serving"
      ],
      "metadata": {
        "id": "DYYW_aqsWYDL"
      }
    },
    {
      "cell_type": "markdown",
      "source": [
        "## Django 의 구조"
      ],
      "metadata": {
        "id": "yeo76prWWlnL"
      }
    },
    {
      "cell_type": "markdown",
      "source": [
        "![스크린샷 2023-01-31 오후 7 23 42](https://user-images.githubusercontent.com/96982072/215735323-50326197-83ad-4a89-872c-44ff1265904c.png)\n",
        "\n"
      ],
      "metadata": {
        "id": "DNerPHrmWmlE"
      }
    },
    {
      "cell_type": "markdown",
      "source": [
        "# Django 프로젝트 시작"
      ],
      "metadata": {
        "id": "m6uNSGLPekKM"
      }
    },
    {
      "cell_type": "markdown",
      "source": [
        "## Coding Convention"
      ],
      "metadata": {
        "id": "HqxEbel9epXx"
      }
    },
    {
      "cell_type": "markdown",
      "source": [
        "- 여러사람이 협업을 해도 모두가 읽기 편한 코드를 작성하기 위한 기본 규칙\n",
        "  - 하지만, Local Rule이 더 중요\n",
        "\n",
        "- [PEP8](https://peps.python.org/pep-0008/)\n",
        "  - 한줄의 문자열은 79자\n",
        "  - DocString은 72자\n",
        "  - snake_case 사용\n",
        "  - 모듈 레벨 상수는 모두 대문자\n",
        "  - ClassName은 Capitalized Word\n",
        "  - 한줄로된,if,try...except,for,while구문은 사용하지 않는다.\n",
        "\n",
        "- 하지만, Django 에서는?\n",
        "  - 한줄의 문자열은 119자 추천 \n",
        "  - DocString은 72자"
      ],
      "metadata": {
        "id": "E8sXLMWOesTi"
      }
    },
    {
      "cell_type": "markdown",
      "source": [
        "## PEP 20 ‒ Zen of Python"
      ],
      "metadata": {
        "id": "ZbZDODA5fVxl"
      }
    },
    {
      "cell_type": "code",
      "source": [
        "import this"
      ],
      "metadata": {
        "colab": {
          "base_uri": "https://localhost:8080/"
        },
        "id": "Ehf49oZefXy-",
        "outputId": "d139c38c-7991-4b11-91bb-0b89e8e61123"
      },
      "execution_count": 1,
      "outputs": [
        {
          "output_type": "stream",
          "name": "stdout",
          "text": [
            "The Zen of Python, by Tim Peters\n",
            "\n",
            "Beautiful is better than ugly.\n",
            "Explicit is better than implicit.\n",
            "Simple is better than complex.\n",
            "Complex is better than complicated.\n",
            "Flat is better than nested.\n",
            "Sparse is better than dense.\n",
            "Readability counts.\n",
            "Special cases aren't special enough to break the rules.\n",
            "Although practicality beats purity.\n",
            "Errors should never pass silently.\n",
            "Unless explicitly silenced.\n",
            "In the face of ambiguity, refuse the temptation to guess.\n",
            "There should be one-- and preferably only one --obvious way to do it.\n",
            "Although that way may not be obvious at first unless you're Dutch.\n",
            "Now is better than never.\n",
            "Although never is often better than *right* now.\n",
            "If the implementation is hard to explain, it's a bad idea.\n",
            "If the implementation is easy to explain, it may be a good idea.\n",
            "Namespaces are one honking great idea -- let's do more of those!\n"
          ]
        }
      ]
    },
    {
      "cell_type": "markdown",
      "source": [
        "## 프로젝트 시작하기"
      ],
      "metadata": {
        "id": "20wOzyCFfkri"
      }
    },
    {
      "cell_type": "code",
      "source": [
        "pip install django==3.2"
      ],
      "metadata": {
        "colab": {
          "base_uri": "https://localhost:8080/"
        },
        "id": "WvCIW-hlfnGf",
        "outputId": "ccf92b6a-4d8f-4c94-c779-b43e8bf322c2"
      },
      "execution_count": 3,
      "outputs": [
        {
          "output_type": "stream",
          "name": "stdout",
          "text": [
            "Looking in indexes: https://pypi.org/simple, https://us-python.pkg.dev/colab-wheels/public/simple/\n",
            "Collecting django==3.2\n",
            "  Downloading Django-3.2-py3-none-any.whl (7.9 MB)\n",
            "\u001b[2K     \u001b[90m━━━━━━━━━━━━━━━━━━━━━━━━━━━━━━━━━━━━━━━━\u001b[0m \u001b[32m7.9/7.9 MB\u001b[0m \u001b[31m67.7 MB/s\u001b[0m eta \u001b[36m0:00:00\u001b[0m\n",
            "\u001b[?25hRequirement already satisfied: sqlparse>=0.2.2 in /usr/local/lib/python3.8/dist-packages (from django==3.2) (0.4.3)\n",
            "Collecting asgiref<4,>=3.3.2\n",
            "  Downloading asgiref-3.6.0-py3-none-any.whl (23 kB)\n",
            "Requirement already satisfied: pytz in /usr/local/lib/python3.8/dist-packages (from django==3.2) (2022.7)\n",
            "Installing collected packages: asgiref, django\n",
            "Successfully installed asgiref-3.6.0 django-3.2\n"
          ]
        }
      ]
    },
    {
      "cell_type": "code",
      "source": [
        "# 프로젝트 시작\n",
        "django-admin startproject shrinkers "
      ],
      "metadata": {
        "id": "sW9mScIvforJ"
      },
      "execution_count": null,
      "outputs": []
    },
    {
      "cell_type": "code",
      "source": [
        "# 가상환경 만들기\n",
        "python3 -m venv 가상환경이름"
      ],
      "metadata": {
        "id": "Oi3gmIkSf7DV"
      },
      "execution_count": null,
      "outputs": []
    },
    {
      "cell_type": "code",
      "source": [
        "# 프로젝트 실행\n",
        "python manage.py runserver"
      ],
      "metadata": {
        "id": "fQ9FV5FffzQe"
      },
      "execution_count": null,
      "outputs": []
    },
    {
      "cell_type": "code",
      "source": [
        "# 프로젝트 내에서 앱만들기\n",
        "python manage.py startapp shortener"
      ],
      "metadata": {
        "id": "GZ9a85eCgG_-"
      },
      "execution_count": null,
      "outputs": []
    },
    {
      "cell_type": "markdown",
      "source": [
        "# Django ORM"
      ],
      "metadata": {
        "id": "KPavbcYIW5a6"
      }
    },
    {
      "cell_type": "markdown",
      "source": [
        "## 1. Frontend, Backend 그리고 DB\n"
      ],
      "metadata": {
        "id": "k_fikwKZW_31"
      }
    },
    {
      "cell_type": "markdown",
      "source": [
        "\n",
        "![스크린샷 2023-02-01 오후 11 24 35](https://user-images.githubusercontent.com/96982072/216069417-60b931af-f421-4934-a7a2-ed4e63bb52cf.png)\n"
      ],
      "metadata": {
        "id": "yPdGtMXlXgZb"
      }
    },
    {
      "cell_type": "markdown",
      "source": [
        "## 2. ORM이란?\n"
      ],
      "metadata": {
        "id": "TTHGHJjfXiFS"
      }
    },
    {
      "cell_type": "markdown",
      "source": [
        "### Object Relational Mapping, 객체-관계 매핑\n",
        "\n",
        "- Python 객체와 관계형 데이터베이스 연결\n",
        "- SQL 쿼리를 자동으로 생성함\n",
        "- 데이터베이스 데이터 <—매핑—> Python Object\n",
        "- 객체를 통해 간접적으로 데이터베이스 데이터 핸들링\n",
        "- Django ORM, SQLAlchemy, Pony"
      ],
      "metadata": {
        "id": "0ZgYCt4FXnRD"
      }
    },
    {
      "cell_type": "markdown",
      "source": [
        "|장점|단점|\n",
        "|:---|:---|\n",
        "| 직관적이다.| Raw 쿼리가 필요한 구간이 반드시 있다.|\n",
        "| SQL 학습 시간 보다 Business Logic에 더 집중할 수 있다.|프로젝트의 복잡도가 올라가면, ORM 난이도도 올라간다.|\n",
        "| 가독성이 올라간다. Zen of Python| 프로시저 사용이 수월하지 않다.|\n",
        "| 코드 재사용 및 유지보수가 수월함|\n",
        "| DBMS 종속성이 줄어든다.|\n",
        "| SQL Injection 을 막아준다.|\n"
      ],
      "metadata": {
        "id": "vqoMuFoKXr4Y"
      }
    },
    {
      "cell_type": "markdown",
      "source": [
        "![스크린샷 2023-02-01 오후 11 29 18](https://user-images.githubusercontent.com/96982072/216070785-bbc68bde-8974-487f-9aad-c2184c63a558.png)"
      ],
      "metadata": {
        "id": "XypS0yOfYm9F"
      }
    },
    {
      "cell_type": "markdown",
      "source": [
        "### 3. Django ORM\n",
        "\n",
        "- 공식문서 : https://docs.djangoproject.com/en/3.2/topics/db/queries/\n",
        "\n",
        "```\n",
        ".get()\n",
        ".all()\n",
        ".filter()\n",
        ".save()\n",
        ".delete()\n",
        ".update()\n",
        ".exists()\n",
        ".first()\n",
        ".count() \n",
        ".select_related() \n",
        ".prefetch_related() \n",
        ".order_by()\n",
        "```"
      ],
      "metadata": {
        "id": "tAppTWcBYYeN"
      }
    },
    {
      "cell_type": "markdown",
      "source": [
        "# Django Form"
      ],
      "metadata": {
        "id": "S1pTHLTQY3rc"
      }
    },
    {
      "cell_type": "markdown",
      "source": [
        "- 단순 정보 전달성 홈페이지를 만드는 것이 아니라면, 유저의 입력을 받아야 한다. 우리는 이것을 Form 이라고 한다.\n",
        "\n",
        "- Django Form\n",
        "  - Django가 만들어 놓은 이미 존재하는 Form"
      ],
      "metadata": {
        "id": "SHnHHE6FY5-v"
      }
    },
    {
      "cell_type": "code",
      "source": [
        " from django.contrib.auth.forms import (\n",
        "  AuthenticationForm,\n",
        "  PasswordResetForm,\n",
        "  PasswordChangeForm\n",
        ")"
      ],
      "metadata": {
        "id": "jv4mnb32Zhwp"
      },
      "execution_count": null,
      "outputs": []
    },
    {
      "cell_type": "code",
      "source": [
        "from django import forms\n",
        "from django.contrib.auth.forms import UserCreationForm \n",
        "from shortener.models import Users\n",
        "\n",
        "class RegisterForm(UserCreationForm):\n",
        "  full_name = forms.CharField(max_length=30, required=False, help_text=\"Optional.\", label=\"이름\")\n",
        "  username = forms.CharField(max_length=30, required=False, help_text=\"Optional.\")\n",
        "  email = forms.EmailField(max_length=254, help_text=\"Required. Inform a valid email address.\")\n",
        "  \n",
        "  class Meta:\n",
        "    model = Users\n",
        "    fields = (\n",
        "     \"username\",\n",
        "     \"full_name\",\n",
        "     \"email\",\n",
        "     \"password1\",\n",
        "     \"password2\",\n",
        "    )"
      ],
      "metadata": {
        "id": "DcL3-5b-ZCPb"
      },
      "execution_count": null,
      "outputs": []
    },
    {
      "cell_type": "markdown",
      "source": [
        "## 회원가입"
      ],
      "metadata": {
        "id": "MGTNxH5KZORC"
      }
    },
    {
      "cell_type": "markdown",
      "source": [
        "![스크린샷 2023-02-01 오후 11 32 55](https://user-images.githubusercontent.com/96982072/216071530-9c470686-9a92-42a0-a982-9512df04c30a.png)"
      ],
      "metadata": {
        "id": "9Zv8KwvvZPoX"
      }
    },
    {
      "cell_type": "markdown",
      "source": [
        "# Django Template Tags\n"
      ],
      "metadata": {
        "id": "9JD2EKFzZyjm"
      }
    },
    {
      "cell_type": "markdown",
      "source": [
        "- 언제 필요한가?\n",
        "  - 데이터베이스 자료와 보여줘야 하는 자료가 다를 때 \n",
        "  - 반복적으로 같은 템플릿 코드를 작성해야 할 때"
      ],
      "metadata": {
        "id": "DUQjwrWhZ1qi"
      }
    },
    {
      "cell_type": "markdown",
      "source": [
        "# 장고 세션 다루기\n"
      ],
      "metadata": {
        "id": "uzCMdfhYaCg9"
      }
    },
    {
      "cell_type": "markdown",
      "source": [
        "## 1. Django 로그인 방식"
      ],
      "metadata": {
        "id": "uARZsCj-aGqL"
      }
    },
    {
      "cell_type": "markdown",
      "source": [
        "\n",
        "![스크린샷 2023-02-01 오후 11 36 45](https://user-images.githubusercontent.com/96982072/216073857-a0ea5ab2-db06-41d7-a796-fd66a8558f49.png)"
      ],
      "metadata": {
        "id": "niSyTsvWaLTk"
      }
    },
    {
      "cell_type": "markdown",
      "source": [
        "## 2. Django 세션 방식 활성화"
      ],
      "metadata": {
        "id": "bs9GsYdpaHmS"
      }
    },
    {
      "cell_type": "markdown",
      "source": [
        "\n",
        "![스크린샷 2023-02-01 오후 11 37 13](https://user-images.githubusercontent.com/96982072/216073864-62291e9e-f893-4d6e-bc12-5480f2f2f7b1.png)"
      ],
      "metadata": {
        "id": "SDxe-CuoaSV6"
      }
    },
    {
      "cell_type": "markdown",
      "source": [
        "## 3. Django 세션 엔진 종류"
      ],
      "metadata": {
        "id": "Io1YrknjaSwI"
      }
    },
    {
      "cell_type": "markdown",
      "source": [
        "### SESSION_ENGINE\n",
        "\n",
        "- 'django.contrib.sessions.backends.db' \n",
        "- 'django.contrib.sessions.backends.file' \n",
        "- 'django.contrib.sessions.backends.cache' \n",
        "- 'django.contrib.sessions.backends.cached_db' \n",
        "- 'django.contrib.sessions.backends.signed_cookies'\n",
        "\n",
        "> 참고 : https://docs.djangoproject.com/en/3.2/ref/settings/#session-engine"
      ],
      "metadata": {
        "id": "HGLpniCjaVn0"
      }
    },
    {
      "cell_type": "markdown",
      "source": [
        "## 4. JWT와는 뭐가 다른가?"
      ],
      "metadata": {
        "id": "c3q1yREOai1j"
      }
    },
    {
      "cell_type": "markdown",
      "source": [
        "- JWT  \n",
        "\n",
        "  ![스크린샷 2023-02-01 오후 11 38 36](https://user-images.githubusercontent.com/96982072/216073865-52de4312-be9b-4196-ba9b-79da9d525ba1.png)"
      ],
      "metadata": {
        "id": "NenVQhHmbxMk"
      }
    },
    {
      "cell_type": "markdown",
      "source": [
        "| | JWT | 장고 세션 |\n",
        "|---|:---:|:---:|\n",
        "|요청마다 DB 조회|Optional|Must|\n",
        "|정보 변경|가능|가능|\n",
        "|저장 방식|모든방법가능|쿠키|\n",
        "|보안|우수|매우 우수(HTTPS 사용)|"
      ],
      "metadata": {
        "id": "zd_CabtHanEE"
      }
    },
    {
      "cell_type": "markdown",
      "source": [
        "## 5. 세션 다루기"
      ],
      "metadata": {
        "id": "d0R6D9vTbBqV"
      }
    },
    {
      "cell_type": "markdown",
      "source": [
        "> https://docs.djangoproject.com/en/3.2/topics/http/sessions/#using-sessions-in-views\n",
        "\n"
      ],
      "metadata": {
        "id": "hqtX8evMbDc8"
      }
    },
    {
      "cell_type": "markdown",
      "source": [
        "\n",
        "![스크린샷 2023-02-01 오후 11 40 52](https://user-images.githubusercontent.com/96982072/216073868-ec536229-f307-4839-9b44-81d5ed152a14.png)\n"
      ],
      "metadata": {
        "id": "x7Nh7pctam1d"
      }
    },
    {
      "cell_type": "markdown",
      "source": [
        "- SESSION_COOKIE_AGE = 1209600\n",
        "- SESSION_COOKIE_DOMAIN = None (example.com) \n",
        "- SESSION_COOKIE_HTTPONLY = True\n",
        "- SESSION_COOKIE_NAME = True \n",
        "- SESSION_COOKIE_SAMESITE = Lax \n",
        "- SESSION_COOKIE_SECURE = False \n",
        "- SESSION_SAVE_EVERY_REQUEST = False"
      ],
      "metadata": {
        "id": "T73zLNw2bHLQ"
      }
    },
    {
      "cell_type": "markdown",
      "source": [
        "# GCP 배포"
      ],
      "metadata": {
        "id": "L7Xuqf7jg7So"
      }
    },
    {
      "cell_type": "markdown",
      "source": [
        "1. 인스턴스 만들기\n",
        "2. 필수 설치\n",
        "3. 코드 불러오기\n",
        "4. Gunicorn 서비스 만들기\n",
        "5. NginX 설정"
      ],
      "metadata": {
        "id": "3JTY4pfPg9N-"
      }
    },
    {
      "cell_type": "markdown",
      "source": [
        "## 1. 인스턴스 만들기"
      ],
      "metadata": {
        "id": "WFlmns5_hCmg"
      }
    },
    {
      "cell_type": "markdown",
      "source": [
        "![스크린샷 2023-02-02 오후 11 25 13](https://user-images.githubusercontent.com/96982072/216352869-01f5a9b1-e710-4835-ac47-64fd6e50df8f.png)\n",
        "\n"
      ],
      "metadata": {
        "id": "k07j5IWMhIKL"
      }
    },
    {
      "cell_type": "markdown",
      "source": [
        "## 2. 필수 설치"
      ],
      "metadata": {
        "id": "c6rX_HVEhIZp"
      }
    },
    {
      "cell_type": "markdown",
      "source": [
        "![스크린샷 2023-02-02 오후 11 31 10](https://user-images.githubusercontent.com/96982072/216352752-a17b4827-11dc-4810-b657-1baa9c022b99.png)"
      ],
      "metadata": {
        "id": "Qybh26hki-m7"
      }
    },
    {
      "cell_type": "markdown",
      "source": [
        "## 3. 코드 불러오기"
      ],
      "metadata": {
        "id": "nkl6P6S3hr_6"
      }
    },
    {
      "cell_type": "markdown",
      "source": [
        "![스크린샷 2023-02-02 오후 11 31 02](https://user-images.githubusercontent.com/96982072/216352751-96c88245-ed82-4808-bc4c-eeea3b31a0c0.png)\n"
      ],
      "metadata": {
        "id": "RmJvWSJ4jA9C"
      }
    },
    {
      "cell_type": "markdown",
      "source": [
        "## 4. Gunicorn Service 만들기"
      ],
      "metadata": {
        "id": "mIOsswegiD89"
      }
    },
    {
      "cell_type": "markdown",
      "source": [
        "\n",
        "![스크린샷 2023-02-02 오후 11 29 34](https://user-images.githubusercontent.com/96982072/216352733-c5b098af-717a-432a-b13c-671b58714dfb.png)\n"
      ],
      "metadata": {
        "id": "lHcwP2XwiJcI"
      }
    },
    {
      "cell_type": "markdown",
      "source": [
        "## 5. NginX 설정"
      ],
      "metadata": {
        "id": "LeXOjMDXiHuR"
      }
    },
    {
      "cell_type": "markdown",
      "source": [
        "![스크린샷 2023-02-02 오후 11 30 54](https://user-images.githubusercontent.com/96982072/216352747-f8fe8569-bb04-489f-a9cf-415ec3e2c226.png)\n"
      ],
      "metadata": {
        "id": "7susMqzAiJ7P"
      }
    }
  ]
}