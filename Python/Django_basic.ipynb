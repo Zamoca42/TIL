{
  "nbformat": 4,
  "nbformat_minor": 0,
  "metadata": {
    "colab": {
      "provenance": [],
      "authorship_tag": "ABX9TyMmVEv8RjWmv8lW72Pm72eW",
      "include_colab_link": true
    },
    "kernelspec": {
      "name": "python3",
      "display_name": "Python 3"
    },
    "language_info": {
      "name": "python"
    }
  },
  "cells": [
    {
      "cell_type": "markdown",
      "metadata": {
        "id": "view-in-github",
        "colab_type": "text"
      },
      "source": [
        "<a href=\"https://colab.research.google.com/github/Zamoca42/TIL/blob/main/Python/Django_basic.ipynb\" target=\"_parent\"><img src=\"https://colab.research.google.com/assets/colab-badge.svg\" alt=\"Open In Colab\"/></a>"
      ]
    },
    {
      "cell_type": "markdown",
      "source": [
        "# Django와 친해지기"
      ],
      "metadata": {
        "id": "wAH2QwC_gCZF"
      }
    },
    {
      "cell_type": "markdown",
      "source": [
        "- Django 이해\n",
        "- Coding Convention(Ft.Black)\n",
        "- 데이터 베이스 관리\n",
        "- Django 작동 원리\n",
        "- Django ORM 기초\n",
        "- Django Templete 사용법\n",
        "- 회원가입, 로그인 등 만들기\n",
        "- 소셜 로그인 (Google)\n",
        "- 배포를 위한 Django 설정\n",
        "- Static File 이해하기\n",
        "- DigitalOcean에 배포하기"
      ],
      "metadata": {
        "id": "5jGe3SsvgEcx"
      }
    },
    {
      "cell_type": "markdown",
      "source": [
        "# Django 웹프레임워크의 이해"
      ],
      "metadata": {
        "id": "PNw8K2CTVrz2"
      }
    },
    {
      "cell_type": "markdown",
      "source": [
        "## Why Django?"
      ],
      "metadata": {
        "id": "uSJEV674VzVd"
      }
    },
    {
      "cell_type": "markdown",
      "source": [
        "![스크린샷 2023-01-31 오후 7 20 19](https://user-images.githubusercontent.com/96982072/215733692-bc3669ad-41f2-41a1-8928-30edf53add15.png)  \n",
        "\n",
        "- 다양한 사용이 가능\n",
        "- 기본적인 보안기능 지원\n",
        "- Shared-nothing Architecture \n",
        "- 쉬운 유지보수"
      ],
      "metadata": {
        "id": "yoPepl3BV0rn"
      }
    },
    {
      "cell_type": "markdown",
      "source": [
        "## 프레임워크 vs 라이브러리"
      ],
      "metadata": {
        "id": "hfzxvOPSWVgj"
      }
    },
    {
      "cell_type": "markdown",
      "source": [
        "- 프레임워크\n",
        "  - 내 코드 ▶ Django ▶ Serving\n",
        "- 라이브러리\n",
        "  - 라이브러리 ▶ 내 코드 ▶ Serving"
      ],
      "metadata": {
        "id": "DYYW_aqsWYDL"
      }
    },
    {
      "cell_type": "markdown",
      "source": [
        "## Django 의 구조"
      ],
      "metadata": {
        "id": "yeo76prWWlnL"
      }
    },
    {
      "cell_type": "markdown",
      "source": [
        "![스크린샷 2023-01-31 오후 7 23 42](https://user-images.githubusercontent.com/96982072/215735323-50326197-83ad-4a89-872c-44ff1265904c.png)\n",
        "\n"
      ],
      "metadata": {
        "id": "DNerPHrmWmlE"
      }
    },
    {
      "cell_type": "markdown",
      "source": [
        "# Django 프로젝트 시작"
      ],
      "metadata": {
        "id": "m6uNSGLPekKM"
      }
    },
    {
      "cell_type": "markdown",
      "source": [
        "## Coding Convention"
      ],
      "metadata": {
        "id": "HqxEbel9epXx"
      }
    },
    {
      "cell_type": "markdown",
      "source": [
        "- 여러사람이 협업을 해도 모두가 읽기 편한 코드를 작성하기 위한 기본 규칙\n",
        "  - 하지만, Local Rule이 더 중요\n",
        "\n",
        "- [PEP8](https://peps.python.org/pep-0008/)\n",
        "  - 한줄의 문자열은 79자\n",
        "  - DocString은 72자\n",
        "  - snake_case 사용\n",
        "  - 모듈 레벨 상수는 모두 대문자\n",
        "  - ClassName은 Capitalized Word\n",
        "  - 한줄로된,if,try...except,for,while구문은 사용하지 않는다.\n",
        "\n",
        "- 하지만, Django 에서는?\n",
        "  - 한줄의 문자열은 119자 추천 \n",
        "  - DocString은 72자"
      ],
      "metadata": {
        "id": "E8sXLMWOesTi"
      }
    },
    {
      "cell_type": "markdown",
      "source": [
        "## PEP 20 ‒ Zen of Python"
      ],
      "metadata": {
        "id": "ZbZDODA5fVxl"
      }
    },
    {
      "cell_type": "code",
      "source": [
        "import this"
      ],
      "metadata": {
        "colab": {
          "base_uri": "https://localhost:8080/"
        },
        "id": "Ehf49oZefXy-",
        "outputId": "d139c38c-7991-4b11-91bb-0b89e8e61123"
      },
      "execution_count": 1,
      "outputs": [
        {
          "output_type": "stream",
          "name": "stdout",
          "text": [
            "The Zen of Python, by Tim Peters\n",
            "\n",
            "Beautiful is better than ugly.\n",
            "Explicit is better than implicit.\n",
            "Simple is better than complex.\n",
            "Complex is better than complicated.\n",
            "Flat is better than nested.\n",
            "Sparse is better than dense.\n",
            "Readability counts.\n",
            "Special cases aren't special enough to break the rules.\n",
            "Although practicality beats purity.\n",
            "Errors should never pass silently.\n",
            "Unless explicitly silenced.\n",
            "In the face of ambiguity, refuse the temptation to guess.\n",
            "There should be one-- and preferably only one --obvious way to do it.\n",
            "Although that way may not be obvious at first unless you're Dutch.\n",
            "Now is better than never.\n",
            "Although never is often better than *right* now.\n",
            "If the implementation is hard to explain, it's a bad idea.\n",
            "If the implementation is easy to explain, it may be a good idea.\n",
            "Namespaces are one honking great idea -- let's do more of those!\n"
          ]
        }
      ]
    },
    {
      "cell_type": "markdown",
      "source": [
        "## 프로젝트 시작하기"
      ],
      "metadata": {
        "id": "20wOzyCFfkri"
      }
    },
    {
      "cell_type": "code",
      "source": [
        "pip install django==3.2"
      ],
      "metadata": {
        "colab": {
          "base_uri": "https://localhost:8080/"
        },
        "id": "WvCIW-hlfnGf",
        "outputId": "ccf92b6a-4d8f-4c94-c779-b43e8bf322c2"
      },
      "execution_count": 3,
      "outputs": [
        {
          "output_type": "stream",
          "name": "stdout",
          "text": [
            "Looking in indexes: https://pypi.org/simple, https://us-python.pkg.dev/colab-wheels/public/simple/\n",
            "Collecting django==3.2\n",
            "  Downloading Django-3.2-py3-none-any.whl (7.9 MB)\n",
            "\u001b[2K     \u001b[90m━━━━━━━━━━━━━━━━━━━━━━━━━━━━━━━━━━━━━━━━\u001b[0m \u001b[32m7.9/7.9 MB\u001b[0m \u001b[31m67.7 MB/s\u001b[0m eta \u001b[36m0:00:00\u001b[0m\n",
            "\u001b[?25hRequirement already satisfied: sqlparse>=0.2.2 in /usr/local/lib/python3.8/dist-packages (from django==3.2) (0.4.3)\n",
            "Collecting asgiref<4,>=3.3.2\n",
            "  Downloading asgiref-3.6.0-py3-none-any.whl (23 kB)\n",
            "Requirement already satisfied: pytz in /usr/local/lib/python3.8/dist-packages (from django==3.2) (2022.7)\n",
            "Installing collected packages: asgiref, django\n",
            "Successfully installed asgiref-3.6.0 django-3.2\n"
          ]
        }
      ]
    },
    {
      "cell_type": "code",
      "source": [
        "# 프로젝트 시작\n",
        "django-admin startproject shrinkers "
      ],
      "metadata": {
        "id": "sW9mScIvforJ"
      },
      "execution_count": null,
      "outputs": []
    },
    {
      "cell_type": "code",
      "source": [
        "# 가상환경 만들기\n",
        "python3 -m venv 가상환경이름"
      ],
      "metadata": {
        "id": "Oi3gmIkSf7DV"
      },
      "execution_count": null,
      "outputs": []
    },
    {
      "cell_type": "code",
      "source": [
        "# 프로젝트 실행\n",
        "python manage.py runserver"
      ],
      "metadata": {
        "id": "fQ9FV5FffzQe"
      },
      "execution_count": null,
      "outputs": []
    },
    {
      "cell_type": "code",
      "source": [
        "# 프로젝트 내에서 앱만들기\n",
        "python manage.py startapp shortener"
      ],
      "metadata": {
        "id": "GZ9a85eCgG_-"
      },
      "execution_count": null,
      "outputs": []
    },
    {
      "cell_type": "markdown",
      "source": [
        "# Django Modeling"
      ],
      "metadata": {
        "id": "5vTivKzwO-kV"
      }
    },
    {
      "cell_type": "markdown",
      "source": [],
      "metadata": {
        "id": "9LKIXKL5PE11"
      }
    },
    {
      "cell_type": "code",
      "source": [],
      "metadata": {
        "id": "c2E0TAS1PFX6"
      },
      "execution_count": null,
      "outputs": []
    }
  ]
}