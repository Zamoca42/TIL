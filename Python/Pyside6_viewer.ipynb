{
  "nbformat": 4,
  "nbformat_minor": 0,
  "metadata": {
    "colab": {
      "provenance": [],
      "authorship_tag": "ABX9TyPY904lVCX5rVXo2ox/XoQC",
      "include_colab_link": true
    },
    "kernelspec": {
      "name": "python3",
      "display_name": "Python 3"
    },
    "language_info": {
      "name": "python"
    }
  },
  "cells": [
    {
      "cell_type": "markdown",
      "metadata": {
        "id": "view-in-github",
        "colab_type": "text"
      },
      "source": [
        "<a href=\"https://colab.research.google.com/github/Zamoca42/TIL/blob/main/Python/Pyside6_viewer.ipynb\" target=\"_parent\"><img src=\"https://colab.research.google.com/assets/colab-badge.svg\" alt=\"Open In Colab\"/></a>"
      ]
    },
    {
      "cell_type": "markdown",
      "source": [
        "# Ch01. Pyside 들어가기"
      ],
      "metadata": {
        "id": "n7jboYYRBZLs"
      }
    },
    {
      "cell_type": "markdown",
      "source": [
        "## Pyside6 설치하기"
      ],
      "metadata": {
        "id": "3_5NKF2_BcHk"
      }
    },
    {
      "cell_type": "markdown",
      "source": [
        "### PySide6"
      ],
      "metadata": {
        "id": "GtnaFDQ2BsxU"
      }
    },
    {
      "cell_type": "markdown",
      "source": [
        "- PySide6 = Qt For Python\n",
        "  - https://doc.qt.io/qtforpython/"
      ],
      "metadata": {
        "id": "hModhMJkBvpj"
      }
    },
    {
      "cell_type": "markdown",
      "source": [
        "- Installation"
      ],
      "metadata": {
        "id": "tOrU6lKzB_7j"
      }
    },
    {
      "cell_type": "code",
      "source": [
        "# start\n",
        "pip install pyside6"
      ],
      "metadata": {
        "id": "DlOHMMRwBiSX"
      },
      "execution_count": null,
      "outputs": []
    },
    {
      "cell_type": "markdown",
      "source": [
        "- Test your installation"
      ],
      "metadata": {
        "id": "t8M5OPb-B9jl"
      }
    },
    {
      "cell_type": "code",
      "execution_count": null,
      "metadata": {
        "id": "9s0uyQH_BUJ6"
      },
      "outputs": [],
      "source": [
        "import PySide6.QtCore\n",
        "\n",
        "# Prints PySide6 version\n",
        "print(PySide6.__version__)\n",
        "\n",
        "# Prints the Qt version used to compile PySide6\n",
        "print(PySide6.QtCore.__version__)"
      ]
    },
    {
      "cell_type": "markdown",
      "source": [
        "### Create a Simple Application"
      ],
      "metadata": {
        "id": "prLJO-lDCJfx"
      }
    },
    {
      "cell_type": "code",
      "source": [
        "import sys\n",
        "import random\n",
        "from PySide6 import QtCore, QtWidgets, QtGui\n",
        "\n",
        "class MyWidget(QtWidgets.QWidget):\n",
        "    def __init__(self):\n",
        "        super().__init__()\n",
        "\n",
        "        self.hello = [\"Hallo Welt\", \"Hei maailma\", \"Hola Mundo\", \"Привет мир\"]\n",
        "\n",
        "        self.button = QtWidgets.QPushButton(\"Click me!\")\n",
        "        self.text = QtWidgets.QLabel(\"Hello World\",\n",
        "                                     alignment=QtCore.Qt.AlignCenter)\n",
        "\n",
        "        self.layout = QtWidgets.QVBoxLayout(self)\n",
        "        self.layout.addWidget(self.text)\n",
        "        self.layout.addWidget(self.button)\n",
        "\n",
        "        self.button.clicked.connect(self.magic)\n",
        "\n",
        "    @QtCore.Slot()\n",
        "    def magic(self):\n",
        "        self.text.setText(random.choice(self.hello))\n",
        "\n",
        "if __name__ == \"__main__\":\n",
        "    app = QtWidgets.QApplication([])\n",
        "\n",
        "    widget = MyWidget()\n",
        "    widget.resize(800, 600)\n",
        "    widget.show()\n",
        "\n",
        "    sys.exit(app.exec())"
      ],
      "metadata": {
        "id": "6hSco64FCMGE"
      },
      "execution_count": null,
      "outputs": []
    },
    {
      "cell_type": "markdown",
      "source": [
        "- 실행시키기. \n",
        "  \n",
        "  ![스크린샷 2023-01-23 오후 6 37 39](https://user-images.githubusercontent.com/96982072/214064895-c2fa4611-9986-48f9-826a-f3cc98cac8ea.png)\n"
      ],
      "metadata": {
        "id": "mpZ3x9Z1CTuA"
      }
    },
    {
      "cell_type": "markdown",
      "source": [
        "## TUI, GUI\n"
      ],
      "metadata": {
        "id": "EIZhCX_1Cfu3"
      }
    },
    {
      "cell_type": "markdown",
      "source": [
        "- TUI \n",
        "  - Text-based User Interface\n",
        "\n",
        "- GUI\n",
        "  - Graphic User Interface\n",
        "  \n",
        "![스크린샷 2023-01-23 오후 11 31 56](https://user-images.githubusercontent.com/96982072/214065337-6d000193-2b60-464d-8a2a-4fb0ac0da193.png)\n"
      ],
      "metadata": {
        "id": "L-KbjI1QC-Jl"
      }
    },
    {
      "cell_type": "markdown",
      "source": [
        "### TUI, GUI 코드 예시"
      ],
      "metadata": {
        "id": "rBApEXmgDJ0f"
      }
    },
    {
      "cell_type": "code",
      "source": [
        "# TUI\n",
        "\n",
        "money = input(\"입력해주세요\")\n",
        "print(money)"
      ],
      "metadata": {
        "id": "OdnQPemjDOMr"
      },
      "execution_count": null,
      "outputs": []
    },
    {
      "cell_type": "code",
      "source": [
        "# GUI\n",
        "\n",
        "window = new Window()\n",
        "window.size = (600,400)\n",
        "window.title = \"프로그램 이름\"\n",
        "\n",
        "label = new Label()\n",
        "label.size = (50,100)\n",
        "label.x = 100\n",
        "label.y = 100\n",
        "window.add_widget(label)\n",
        "\n",
        "#..."
      ],
      "metadata": {
        "id": "L5K2hmPeDUVt"
      },
      "execution_count": null,
      "outputs": []
    },
    {
      "cell_type": "markdown",
      "source": [
        "## Cross Platform GUI 대표주자 QT"
      ],
      "metadata": {
        "id": "Z633PvZbDujz"
      }
    },
    {
      "cell_type": "markdown",
      "source": [
        "### 크로스 플랫폼?"
      ],
      "metadata": {
        "id": "hJUXvXTzD4kZ"
      }
    },
    {
      "cell_type": "markdown",
      "source": [
        "- 맥, 윈도우, 리눅스 상관 없이 동일한 GUI를 띄우는 기술"
      ],
      "metadata": {
        "id": "VVj5ilXxD6og"
      }
    },
    {
      "cell_type": "markdown",
      "source": [
        "### 그래서 QT란?\n"
      ],
      "metadata": {
        "id": "tLSDEShID__4"
      }
    },
    {
      "cell_type": "markdown",
      "source": [
        "- QT 회사가 만든 크로스 플랫폼 GUI 라이브러리 및 툴\n",
        "- 오픈소스, 커머셜 두가지 버전\n",
        "- 1995년 5월 20일 최초 공개\n",
        "  - qt1\n",
        "- 2020년 \n",
        "  - qt6"
      ],
      "metadata": {
        "id": "zcHQyde-EBgU"
      }
    },
    {
      "cell_type": "markdown",
      "source": [
        "- 주요 특징\n",
        "  - 완벽한 GUI 추상화\n",
        "    - 자체 렌더링 엔진\n",
        "  - 다양한 언어 지원"
      ],
      "metadata": {
        "id": "rNH6e_j6EUoF"
      }
    },
    {
      "cell_type": "markdown",
      "source": [
        "## PySide6 Designer 소개"
      ],
      "metadata": {
        "id": "oedYsiEDEh-i"
      }
    },
    {
      "cell_type": "markdown",
      "source": [
        "### PySide6 Designer"
      ],
      "metadata": {
        "id": "KW1Udr-CEqvm"
      }
    },
    {
      "cell_type": "markdown",
      "source": [
        "- GUI 편집기\n",
        "- 다운로드\n",
        "  - https://build-system.fman.io/qt-designer-download"
      ],
      "metadata": {
        "id": "VeMZ_Jm_EvDO"
      }
    },
    {
      "cell_type": "markdown",
      "source": [
        "### UI만들고 Python 코드로 변환하기"
      ],
      "metadata": {
        "id": "Eug1IhIuFasN"
      }
    },
    {
      "cell_type": "markdown",
      "source": [
        "![스크린샷 2023-01-23 오후 11 42 53](https://user-images.githubusercontent.com/96982072/214068212-6d66a4c6-59f1-4654-8158-4d333687d96b.png)"
      ],
      "metadata": {
        "id": "Js3TpESSFhjP"
      }
    },
    {
      "cell_type": "markdown",
      "source": [
        "1. 위의 사진과 같이 ui만들기\n",
        "2. `저장할 이름.ui`로 저장  \n",
        "  - 예시에서는 `ui.ui`로 저장\n",
        "3. `ui.ui`가 저장된 폴더 위치에서 터미널열기\n",
        "4. `pyside6-uic ui.ui > ui.py` 실행\n",
        "5. 해당 폴더에 `ui.py`가 생성된 것을 확인"
      ],
      "metadata": {
        "id": "oLa7X20TFmmK"
      }
    },
    {
      "cell_type": "code",
      "source": [
        "# ui.py\n",
        "\n",
        "# -*- coding: utf-8 -*-\n",
        "\n",
        "################################################################################\n",
        "## Form generated from reading UI file 'ui.ui'\n",
        "##\n",
        "## Created by: Qt User Interface Compiler version 6.4.2\n",
        "##\n",
        "## WARNING! All changes made in this file will be lost when recompiling UI file!\n",
        "################################################################################\n",
        "\n",
        "from PySide6.QtCore import (QCoreApplication, QDate, QDateTime, QLocale,\n",
        "    QMetaObject, QObject, QPoint, QRect,\n",
        "    QSize, QTime, QUrl, Qt)\n",
        "from PySide6.QtGui import (QBrush, QColor, QConicalGradient, QCursor,\n",
        "    QFont, QFontDatabase, QGradient, QIcon,\n",
        "    QImage, QKeySequence, QLinearGradient, QPainter,\n",
        "    QPalette, QPixmap, QRadialGradient, QTransform)\n",
        "from PySide6.QtWidgets import (QApplication, QMainWindow, QMenuBar, QPushButton,\n",
        "    QSizePolicy, QStatusBar, QWidget)\n",
        "\n",
        "class Ui_MainWindow(object):\n",
        "    def setupUi(self, MainWindow):\n",
        "        if not MainWindow.objectName():\n",
        "            MainWindow.setObjectName(u\"MainWindow\")\n",
        "        MainWindow.resize(800, 600)\n",
        "        self.centralwidget = QWidget(MainWindow)\n",
        "        self.centralwidget.setObjectName(u\"centralwidget\")\n",
        "        self.pushButton = QPushButton(self.centralwidget)\n",
        "        self.pushButton.setObjectName(u\"pushButton\")\n",
        "        self.pushButton.setGeometry(QRect(330, 150, 113, 32))\n",
        "        self.pushButton_2 = QPushButton(self.centralwidget)\n",
        "        self.pushButton_2.setObjectName(u\"pushButton_2\")\n",
        "        self.pushButton_2.setGeometry(QRect(330, 180, 113, 32))\n",
        "        MainWindow.setCentralWidget(self.centralwidget)\n",
        "        self.menubar = QMenuBar(MainWindow)\n",
        "        self.menubar.setObjectName(u\"menubar\")\n",
        "        self.menubar.setGeometry(QRect(0, 0, 800, 24))\n",
        "        MainWindow.setMenuBar(self.menubar)\n",
        "        self.statusbar = QStatusBar(MainWindow)\n",
        "        self.statusbar.setObjectName(u\"statusbar\")\n",
        "        MainWindow.setStatusBar(self.statusbar)\n",
        "\n",
        "        self.retranslateUi(MainWindow)\n",
        "\n",
        "        QMetaObject.connectSlotsByName(MainWindow)\n",
        "    # setupUi\n",
        "\n",
        "    def retranslateUi(self, MainWindow):\n",
        "        MainWindow.setWindowTitle(QCoreApplication.translate(\"MainWindow\", u\"MainWindow\", None))\n",
        "        self.pushButton.setText(QCoreApplication.translate(\"MainWindow\", u\"PushButton\", None))\n",
        "        self.pushButton_2.setText(QCoreApplication.translate(\"MainWindow\", u\"PushButton\", None))\n",
        "    # retranslateUi"
      ],
      "metadata": {
        "id": "yzH4PcEoGSX-"
      },
      "execution_count": null,
      "outputs": []
    },
    {
      "cell_type": "markdown",
      "source": [
        "### ui.py를 다른 프로젝트에서 불러오기"
      ],
      "metadata": {
        "id": "2y7TA8e3Hudm"
      }
    },
    {
      "cell_type": "code",
      "source": [
        "import sys\n",
        "from PySide6.QtWidgets import QMainWindow, QApplication\n",
        "from ui import Ui_MainWindow # ui.py\n",
        "\n",
        "class MainWindow(QMainWindow):\n",
        "    def __init__(self):\n",
        "        super(MainWindow, self).__init__()\n",
        "        self.ui = Ui_MainWindow()\n",
        "        self.ui.setupUi(self)\n",
        "\n",
        "if __name__ == \"__main__\":\n",
        "    app = QApplication()\n",
        "\n",
        "    window = MainWindow()\n",
        "    window.show()\n",
        "\n",
        "    sys.exit(app.exec())"
      ],
      "metadata": {
        "id": "4H7HUSwSHzCG"
      },
      "execution_count": null,
      "outputs": []
    },
    {
      "cell_type": "markdown",
      "source": [
        "# Pyside 위젯"
      ],
      "metadata": {
        "id": "_L8QoNvlIKp8"
      }
    },
    {
      "cell_type": "markdown",
      "source": [
        "## 인사하는 프로그램 만들어보기"
      ],
      "metadata": {
        "id": "JeR7ruAq2rza"
      }
    },
    {
      "cell_type": "markdown",
      "source": [
        "![스크린샷 2023-01-24 오후 3 50 15](https://user-images.githubusercontent.com/96982072/214298214-d5143cbb-24c6-4a40-bf66-124c4ea8909d.png)"
      ],
      "metadata": {
        "id": "0TubTylm3k8m"
      }
    },
    {
      "cell_type": "markdown",
      "source": [
        "### 1. 버튼\n"
      ],
      "metadata": {
        "id": "b_puIN40kGtS"
      }
    },
    {
      "cell_type": "markdown",
      "source": [
        "\n",
        "![스크린샷 2023-01-24 오후 4 14 38](https://user-images.githubusercontent.com/96982072/214298522-8dba564a-9035-4200-b3fc-bf3f356872f1.png)\n",
        "\n",
        "- 인사하기 클릭 시\n",
        "  - 콘솔에 \"클릭되었습니다\" 출력\n",
        "  - \"인사했어요\"버튼으로 바꾸기\n"
      ],
      "metadata": {
        "id": "L-UXuxJU3xGd"
      }
    },
    {
      "cell_type": "markdown",
      "source": [
        "### 실습코드"
      ],
      "metadata": {
        "id": "Dw9k8_s_-60k"
      }
    },
    {
      "cell_type": "markdown",
      "source": [
        "1. qt 디자이너에서 푸쉬버튼 오브젝트 만들기\n",
        "2. 버튼 오브젝트를 `btn_hi`이름으로 변경\n",
        "3. ui를 파이썬 파일로 변환\n",
        "4. 가져와서 수정, 추가하기"
      ],
      "metadata": {
        "id": "JiPhWaLf4Pd6"
      }
    },
    {
      "cell_type": "code",
      "source": [
        "# 인사했어요 클릭 시 버튼 변경\n",
        "\n",
        "import sys\n",
        "from PySide6.QtWidgets import QMainWindow, QApplication\n",
        "from ui import Ui_MainWindow # ui.py\n",
        "\n",
        "class MainWindow(QMainWindow):\n",
        "    def __init__(self):\n",
        "        super(MainWindow, self).__init__()\n",
        "        self.ui = Ui_MainWindow()\n",
        "        self.ui.setupUi(self)\n",
        "\n",
        "        self.ui.btn_hi.clicked.connect(self.click)\n",
        "    \n",
        "    def click(self):\n",
        "        self.ui.btn_hi.setText(\"인사했어요\")\n",
        "        print(\"클릭되었습니다\")\n",
        "\n",
        "if __name__ == \"__main__\":\n",
        "    app = QApplication()\n",
        "\n",
        "    window = MainWindow()\n",
        "    window.show()\n",
        "\n",
        "    sys.exit(app.exec())"
      ],
      "metadata": {
        "id": "J7ABaNz3oFcl"
      },
      "execution_count": null,
      "outputs": []
    },
    {
      "cell_type": "code",
      "source": [
        "def click(self):\n",
        "        self.ui.btn_hi.setText(\"인사했어요\")\n",
        "        print(\"클릭되었습니다\")"
      ],
      "metadata": {
        "id": "tt8es4Rd4jaY"
      },
      "execution_count": null,
      "outputs": []
    },
    {
      "cell_type": "markdown",
      "source": [
        "- `def click(self)`으로 클릭 시 출력할 결과 수정 가능\n",
        "- 슬롯생성 -> 버튼클릭 -> 슬롯이동\n",
        "- 결과  \n",
        "\n",
        "  ![스크린샷 2023-01-24 오후 4 14 49](https://user-images.githubusercontent.com/96982072/214299325-2d94cd1c-5183-4527-adea-0fa5d0065496.png)  \n",
        "\n",
        "  ![스크린샷 2023-01-24 오후 4 14 27](https://user-images.githubusercontent.com/96982072/214299333-6d17a593-562d-44bd-a09c-6fa4f522547b.png)\n",
        "\n"
      ],
      "metadata": {
        "id": "vt83fmGk4j-x"
      }
    },
    {
      "cell_type": "markdown",
      "source": [
        "### 2. 메세지박스"
      ],
      "metadata": {
        "id": "NwqsjRZH5R2e"
      }
    },
    {
      "cell_type": "markdown",
      "source": [
        "![스크린샷 2023-01-24 오후 8 20 30](https://user-images.githubusercontent.com/96982072/214302843-3f6f045f-2815-4b8f-8e22-91a03b8dd721.png)"
      ],
      "metadata": {
        "id": "-wiWxkFA6Ayv"
      }
    },
    {
      "cell_type": "markdown",
      "source": [
        "- 인사하기 클릭 시\n",
        "  1. \"안녕하세요\" 메세지박스 출럭\n",
        "  2. \"ok\"를 누르면 퀴즈 출력\n",
        "  3. 정답을 맞추면 \"정답!\", 오답이면 \"오답!\" 메세지박스 출력"
      ],
      "metadata": {
        "id": "sAaVdX1l5am1"
      }
    },
    {
      "cell_type": "markdown",
      "source": [
        "### 실습코드"
      ],
      "metadata": {
        "id": "In3fjCgB9weQ"
      }
    },
    {
      "cell_type": "code",
      "source": [
        "# 메세지박스 활용법\n",
        "\n",
        "# ...\n",
        "\n",
        "    def click(self):\n",
        "        mb_hi = QMessageBox()\n",
        "        mb_hi.setText(\"안녕하세요\")\n",
        "        mb_hi.exec()\n",
        "        # self.ui.btn_hi.setText(\"인사했어요\")\n",
        "        # print(\"클릭되었습니다\")\n",
        "\n",
        "        mb_quiz = QMessageBox()\n",
        "        mb_quiz.setText(\"1+1=?\")\n",
        "        btn_answer_2 = mb_quiz.addButton(\"2\", QMessageBox.ActionRole) #NoRole\n",
        "        btn_answer_3 = mb_quiz.addButton(\"3\", QMessageBox.ActionRole)\n",
        "        mb_quiz.exec()\n",
        "\n",
        "        if mb_quiz.clickedButton() == btn_answer_2:\n",
        "            print(\"정답!\")\n",
        "        elif mb_quiz.clickedButton() == btn_answer_3:\n",
        "            print(\"오답!\")"
      ],
      "metadata": {
        "id": "RC8IerNKpsBN"
      },
      "execution_count": null,
      "outputs": []
    },
    {
      "cell_type": "markdown",
      "source": [
        "1. `mb_hi`를 메세지박스로 만들기\n",
        "2. 텍스트 세팅\n",
        "3. `mb_quiz`로 다음 메세지박스 만들기\n",
        "4. 1+1=? 퀴즈 입력하고 2를 누르면 정답, 3을 누르면 오답\n",
        "5. 콘솔로 정답, 오답 출력\n"
      ],
      "metadata": {
        "id": "C6qdBhfr6V8_"
      }
    },
    {
      "cell_type": "markdown",
      "source": [
        "### NoRole vs ActionRole의 차이"
      ],
      "metadata": {
        "id": "vDSzUrln9Imp"
      }
    },
    {
      "cell_type": "code",
      "source": [
        "btn_answer_2 = mb_quiz.addButton(\"2\", QMessageBox.NoRole) #NoRole\n",
        "btn_answer_3 = mb_quiz.addButton(\"3\", QMessageBox.ActionRole)"
      ],
      "metadata": {
        "id": "qvjnojTo7TKP"
      },
      "execution_count": null,
      "outputs": []
    },
    {
      "cell_type": "markdown",
      "source": [
        "![스크린샷 2023-01-24 오후 8 20 39](https://user-images.githubusercontent.com/96982072/214305172-939d06ea-0af6-4c42-ac81-3a260dfb5588.png)\n",
        "\n",
        "  - `QMessageBox.NoRole`은 메세지박스 코드 위치에 상관없이 메세지박스 오른쪽에 위치\n",
        "  - `QMessageBox.ActionRole`은 메시지 박스 왼쪽에 위치함\n",
        "  - 위치에 상관없이 설정하고 싶다면 버튼 모두 `Action Role` 사용"
      ],
      "metadata": {
        "id": "7nDIkvdv7L59"
      }
    },
    {
      "cell_type": "markdown",
      "source": [
        "- 결과   \n",
        " \n",
        "  ![스크린샷 2023-01-24 오후 10 12 49](https://user-images.githubusercontent.com/96982072/214305546-27f4949e-2ecf-4d95-a15f-fbb4763f8034.png)"
      ],
      "metadata": {
        "id": "eITumNA37CRA"
      }
    },
    {
      "cell_type": "markdown",
      "source": [
        "### 실습코드"
      ],
      "metadata": {
        "id": "sx244tQi9zR4"
      }
    },
    {
      "cell_type": "markdown",
      "source": [
        "- 정답, 오답을 메세지 박스로 보여주기"
      ],
      "metadata": {
        "id": "ITyNdsOd8Zzs"
      }
    },
    {
      "cell_type": "code",
      "source": [
        "    def click(self):\n",
        "        mb_hi = QMessageBox()\n",
        "        mb_hi.setText(\"안녕하세요\")\n",
        "        mb_hi.exec()\n",
        "        # self.ui.btn_hi.setText(\"인사했어요\")\n",
        "        # print(\"클릭되었습니다\")\n",
        "\n",
        "        mb_quiz = QMessageBox()\n",
        "        mb_quiz.setText(\"1+1=?\")\n",
        "        btn_answer_3 = mb_quiz.addButton(\"3\", QMessageBox.ActionRole) #NoRole\n",
        "        btn_answer_2 = mb_quiz.addButton(\"2\", QMessageBox.ActionRole)\n",
        "        mb_quiz.exec()\n",
        "\n",
        "        if mb_quiz.clickedButton() == btn_answer_2:\n",
        "            mb_success = QMessageBox()\n",
        "            mb_success.setText(\"정답!\")\n",
        "            mb_success.exec()\n",
        "        elif mb_quiz.clickedButton() == btn_answer_3:\n",
        "            mb_success = QMessageBox()\n",
        "            mb_success.setText(\"오답!\")\n",
        "            mb_success.exec()"
      ],
      "metadata": {
        "id": "AW8hT115qXeF"
      },
      "execution_count": null,
      "outputs": []
    },
    {
      "cell_type": "markdown",
      "source": [
        "- 결과  \n",
        "\n",
        "  ![스크린샷 2023-01-24 오후 10 23 49](https://user-images.githubusercontent.com/96982072/214306110-41d10884-01a4-49fc-b3f3-edb129e077c0.png)  \n",
        "  ![스크린샷 2023-01-24 오후 10 23 31](https://user-images.githubusercontent.com/96982072/214306104-4f1b25c3-d7bf-44b2-ab73-c584a2a89cbe.png)  \n",
        "\n"
      ],
      "metadata": {
        "id": "2uojw7o48dem"
      }
    },
    {
      "cell_type": "markdown",
      "source": [
        "### 3. 라디오 버튼, 체크버튼"
      ],
      "metadata": {
        "id": "FIR9dA7i9TEM"
      }
    },
    {
      "cell_type": "markdown",
      "source": [
        "- 라디오버튼\n",
        "  - 같은 라디오 버튼이 여러개 있다면 한개만 선택가능\n",
        "\n",
        "- 체크버튼\n",
        "  - 중복으로 선택가능"
      ],
      "metadata": {
        "id": "6tvxU5A49Vsk"
      }
    },
    {
      "cell_type": "markdown",
      "source": [
        "### 실습코드"
      ],
      "metadata": {
        "id": "z47vpNHZ9qg_"
      }
    },
    {
      "cell_type": "markdown",
      "source": [
        "- \"인사하기\" 버튼 클릭 시  \n",
        "  1. 체크박스는 모두 체크  \n",
        "\n",
        "    - 체크박스버튼 오브젝트는 `chk_1,2,3`으로 이름 변경\n",
        "  2. 라디오버튼은 \"인사하기\"버튼을 누를 때 마다 변경  \n",
        "  \n",
        "    - 라디오버튼 오브젝트는 `radio_1,2`로 이름 변경\n",
        "  "
      ],
      "metadata": {
        "id": "zXvyIoIa9sQ1"
      }
    },
    {
      "cell_type": "code",
      "source": [
        "#...\n",
        "\n",
        "  def click(self):\n",
        "       self.ui.chk_1.setChecked(True)\n",
        "       self.ui.chk_2.setChecked(True)\n",
        "       self.ui.chk_3.setChecked(True)\n",
        "\n",
        "       if self.ui.radio_1.isChecked():\n",
        "        self.ui.radio_2.setChecked(True)\n",
        "       elif self.ui.radio_2.isChecked():\n",
        "        self.ui.radio_1.setChecked(True)\n",
        "       else:\n",
        "        self.ui.radio_1.setChecked(True)"
      ],
      "metadata": {
        "id": "Ex1jbmoH0Wlu"
      },
      "execution_count": null,
      "outputs": []
    },
    {
      "cell_type": "markdown",
      "source": [
        "- 결과  \n",
        "\n",
        "  ![스크린샷 2023-01-24 오후 10 31 51](https://user-images.githubusercontent.com/96982072/214307904-ec1c429c-13fb-498a-8bd8-7c534632dac6.png)\n",
        "\n",
        "  ![스크린샷 2023-01-24 오후 9 35 52](https://user-images.githubusercontent.com/96982072/214307698-94ffa357-0d64-43bc-a385-a36d0ababe22.png)\n",
        "\n",
        "  ![스크린샷 2023-01-24 오후 9 35 59](https://user-images.githubusercontent.com/96982072/214307703-40721b42-0d5b-41bc-a323-9fa57eaa127b.png)\n"
      ],
      "metadata": {
        "id": "fJpyyee2-aiT"
      }
    }
  ]
}