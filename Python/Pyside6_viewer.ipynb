{
  "nbformat": 4,
  "nbformat_minor": 0,
  "metadata": {
    "colab": {
      "provenance": [],
      "authorship_tag": "ABX9TyPTI4Hpo0A8hj0+iQe/6gzP",
      "include_colab_link": true
    },
    "kernelspec": {
      "name": "python3",
      "display_name": "Python 3"
    },
    "language_info": {
      "name": "python"
    }
  },
  "cells": [
    {
      "cell_type": "markdown",
      "metadata": {
        "id": "view-in-github",
        "colab_type": "text"
      },
      "source": [
        "<a href=\"https://colab.research.google.com/github/Zamoca42/TIL/blob/main/Python/Pyside6_viewer.ipynb\" target=\"_parent\"><img src=\"https://colab.research.google.com/assets/colab-badge.svg\" alt=\"Open In Colab\"/></a>"
      ]
    },
    {
      "cell_type": "markdown",
      "source": [
        "# Ch01. Pyside 들어가기"
      ],
      "metadata": {
        "id": "n7jboYYRBZLs"
      }
    },
    {
      "cell_type": "markdown",
      "source": [
        "## Pyside6 설치하기"
      ],
      "metadata": {
        "id": "3_5NKF2_BcHk"
      }
    },
    {
      "cell_type": "markdown",
      "source": [
        "### PySide6"
      ],
      "metadata": {
        "id": "GtnaFDQ2BsxU"
      }
    },
    {
      "cell_type": "markdown",
      "source": [
        "- PySide6 = Qt For Python\n",
        "  - https://doc.qt.io/qtforpython/"
      ],
      "metadata": {
        "id": "hModhMJkBvpj"
      }
    },
    {
      "cell_type": "markdown",
      "source": [
        "- Installation"
      ],
      "metadata": {
        "id": "tOrU6lKzB_7j"
      }
    },
    {
      "cell_type": "code",
      "source": [
        "# start\n",
        "pip install pyside6"
      ],
      "metadata": {
        "id": "DlOHMMRwBiSX"
      },
      "execution_count": null,
      "outputs": []
    },
    {
      "cell_type": "markdown",
      "source": [
        "- Test your installation"
      ],
      "metadata": {
        "id": "t8M5OPb-B9jl"
      }
    },
    {
      "cell_type": "code",
      "execution_count": null,
      "metadata": {
        "id": "9s0uyQH_BUJ6"
      },
      "outputs": [],
      "source": [
        "import PySide6.QtCore\n",
        "\n",
        "# Prints PySide6 version\n",
        "print(PySide6.__version__)\n",
        "\n",
        "# Prints the Qt version used to compile PySide6\n",
        "print(PySide6.QtCore.__version__)"
      ]
    },
    {
      "cell_type": "markdown",
      "source": [
        "### Create a Simple Application"
      ],
      "metadata": {
        "id": "prLJO-lDCJfx"
      }
    },
    {
      "cell_type": "code",
      "source": [
        "import sys\n",
        "import random\n",
        "from PySide6 import QtCore, QtWidgets, QtGui\n",
        "\n",
        "class MyWidget(QtWidgets.QWidget):\n",
        "    def __init__(self):\n",
        "        super().__init__()\n",
        "\n",
        "        self.hello = [\"Hallo Welt\", \"Hei maailma\", \"Hola Mundo\", \"Привет мир\"]\n",
        "\n",
        "        self.button = QtWidgets.QPushButton(\"Click me!\")\n",
        "        self.text = QtWidgets.QLabel(\"Hello World\",\n",
        "                                     alignment=QtCore.Qt.AlignCenter)\n",
        "\n",
        "        self.layout = QtWidgets.QVBoxLayout(self)\n",
        "        self.layout.addWidget(self.text)\n",
        "        self.layout.addWidget(self.button)\n",
        "\n",
        "        self.button.clicked.connect(self.magic)\n",
        "\n",
        "    @QtCore.Slot()\n",
        "    def magic(self):\n",
        "        self.text.setText(random.choice(self.hello))\n",
        "\n",
        "if __name__ == \"__main__\":\n",
        "    app = QtWidgets.QApplication([])\n",
        "\n",
        "    widget = MyWidget()\n",
        "    widget.resize(800, 600)\n",
        "    widget.show()\n",
        "\n",
        "    sys.exit(app.exec())"
      ],
      "metadata": {
        "id": "6hSco64FCMGE"
      },
      "execution_count": null,
      "outputs": []
    },
    {
      "cell_type": "markdown",
      "source": [
        "- 실행시키기. \n",
        "  \n",
        "  ![스크린샷 2023-01-23 오후 6 37 39](https://user-images.githubusercontent.com/96982072/214064895-c2fa4611-9986-48f9-826a-f3cc98cac8ea.png)\n"
      ],
      "metadata": {
        "id": "mpZ3x9Z1CTuA"
      }
    },
    {
      "cell_type": "markdown",
      "source": [
        "## TUI, GUI\n"
      ],
      "metadata": {
        "id": "EIZhCX_1Cfu3"
      }
    },
    {
      "cell_type": "markdown",
      "source": [
        "- TUI \n",
        "  - Text-based User Interface\n",
        "\n",
        "- GUI\n",
        "  - Graphic User Interface\n",
        "  \n",
        "![스크린샷 2023-01-23 오후 11 31 56](https://user-images.githubusercontent.com/96982072/214065337-6d000193-2b60-464d-8a2a-4fb0ac0da193.png)\n"
      ],
      "metadata": {
        "id": "L-KbjI1QC-Jl"
      }
    },
    {
      "cell_type": "markdown",
      "source": [
        "### TUI, GUI 코드 예시"
      ],
      "metadata": {
        "id": "rBApEXmgDJ0f"
      }
    },
    {
      "cell_type": "code",
      "source": [
        "# TUI\n",
        "\n",
        "money = input(\"입력해주세요\")\n",
        "print(money)"
      ],
      "metadata": {
        "id": "OdnQPemjDOMr"
      },
      "execution_count": null,
      "outputs": []
    },
    {
      "cell_type": "code",
      "source": [
        "# GUI\n",
        "\n",
        "window = new Window()\n",
        "window.size = (600,400)\n",
        "window.title = \"프로그램 이름\"\n",
        "\n",
        "label = new Label()\n",
        "label.size = (50,100)\n",
        "label.x = 100\n",
        "label.y = 100\n",
        "window.add_widget(label)\n",
        "\n",
        "#..."
      ],
      "metadata": {
        "id": "L5K2hmPeDUVt"
      },
      "execution_count": null,
      "outputs": []
    },
    {
      "cell_type": "markdown",
      "source": [
        "## Cross Platform GUI 대표주자 QT"
      ],
      "metadata": {
        "id": "Z633PvZbDujz"
      }
    },
    {
      "cell_type": "markdown",
      "source": [
        "### 크로스 플랫폼?"
      ],
      "metadata": {
        "id": "hJUXvXTzD4kZ"
      }
    },
    {
      "cell_type": "markdown",
      "source": [
        "- 맥, 윈도우, 리눅스 상관 없이 동일한 GUI를 띄우는 기술"
      ],
      "metadata": {
        "id": "VVj5ilXxD6og"
      }
    },
    {
      "cell_type": "markdown",
      "source": [
        "### 그래서 QT란?\n"
      ],
      "metadata": {
        "id": "tLSDEShID__4"
      }
    },
    {
      "cell_type": "markdown",
      "source": [
        "- QT 회사가 만든 크로스 플랫폼 GUI 라이브러리 및 툴\n",
        "- 오픈소스, 커머셜 두가지 버전\n",
        "- 1995년 5월 20일 최초 공개\n",
        "  - qt1\n",
        "- 2020년 \n",
        "  - qt6"
      ],
      "metadata": {
        "id": "zcHQyde-EBgU"
      }
    },
    {
      "cell_type": "markdown",
      "source": [
        "- 주요 특징\n",
        "  - 완벽한 GUI 추상화\n",
        "    - 자체 렌더링 엔진\n",
        "  - 다양한 언어 지원"
      ],
      "metadata": {
        "id": "rNH6e_j6EUoF"
      }
    },
    {
      "cell_type": "markdown",
      "source": [
        "## PySide6 Designer 소개"
      ],
      "metadata": {
        "id": "oedYsiEDEh-i"
      }
    },
    {
      "cell_type": "markdown",
      "source": [
        "### PySide6 Designer"
      ],
      "metadata": {
        "id": "KW1Udr-CEqvm"
      }
    },
    {
      "cell_type": "markdown",
      "source": [
        "- GUI 편집기\n",
        "- 다운로드\n",
        "  - https://build-system.fman.io/qt-designer-download"
      ],
      "metadata": {
        "id": "VeMZ_Jm_EvDO"
      }
    },
    {
      "cell_type": "markdown",
      "source": [
        "### UI만들고 Python 코드로 변환하기"
      ],
      "metadata": {
        "id": "Eug1IhIuFasN"
      }
    },
    {
      "cell_type": "markdown",
      "source": [
        "![스크린샷 2023-01-23 오후 11 42 53](https://user-images.githubusercontent.com/96982072/214068212-6d66a4c6-59f1-4654-8158-4d333687d96b.png)"
      ],
      "metadata": {
        "id": "Js3TpESSFhjP"
      }
    },
    {
      "cell_type": "markdown",
      "source": [
        "1. 위의 사진과 같이 ui만들기\n",
        "2. `저장할 이름.ui`로 저장  \n",
        "  - 예시에서는 `ui.ui`로 저장\n",
        "3. `ui.ui`가 저장된 폴더 위치에서 터미널열기\n",
        "4. `pyside6-uic ui.ui > ui.py` 실행\n",
        "5. 해당 폴더에 `ui.py`가 생성된 것을 확인"
      ],
      "metadata": {
        "id": "oLa7X20TFmmK"
      }
    },
    {
      "cell_type": "code",
      "source": [
        "# ui.py\n",
        "\n",
        "# -*- coding: utf-8 -*-\n",
        "\n",
        "################################################################################\n",
        "## Form generated from reading UI file 'ui.ui'\n",
        "##\n",
        "## Created by: Qt User Interface Compiler version 6.4.2\n",
        "##\n",
        "## WARNING! All changes made in this file will be lost when recompiling UI file!\n",
        "################################################################################\n",
        "\n",
        "from PySide6.QtCore import (QCoreApplication, QDate, QDateTime, QLocale,\n",
        "    QMetaObject, QObject, QPoint, QRect,\n",
        "    QSize, QTime, QUrl, Qt)\n",
        "from PySide6.QtGui import (QBrush, QColor, QConicalGradient, QCursor,\n",
        "    QFont, QFontDatabase, QGradient, QIcon,\n",
        "    QImage, QKeySequence, QLinearGradient, QPainter,\n",
        "    QPalette, QPixmap, QRadialGradient, QTransform)\n",
        "from PySide6.QtWidgets import (QApplication, QMainWindow, QMenuBar, QPushButton,\n",
        "    QSizePolicy, QStatusBar, QWidget)\n",
        "\n",
        "class Ui_MainWindow(object):\n",
        "    def setupUi(self, MainWindow):\n",
        "        if not MainWindow.objectName():\n",
        "            MainWindow.setObjectName(u\"MainWindow\")\n",
        "        MainWindow.resize(800, 600)\n",
        "        self.centralwidget = QWidget(MainWindow)\n",
        "        self.centralwidget.setObjectName(u\"centralwidget\")\n",
        "        self.pushButton = QPushButton(self.centralwidget)\n",
        "        self.pushButton.setObjectName(u\"pushButton\")\n",
        "        self.pushButton.setGeometry(QRect(330, 150, 113, 32))\n",
        "        self.pushButton_2 = QPushButton(self.centralwidget)\n",
        "        self.pushButton_2.setObjectName(u\"pushButton_2\")\n",
        "        self.pushButton_2.setGeometry(QRect(330, 180, 113, 32))\n",
        "        MainWindow.setCentralWidget(self.centralwidget)\n",
        "        self.menubar = QMenuBar(MainWindow)\n",
        "        self.menubar.setObjectName(u\"menubar\")\n",
        "        self.menubar.setGeometry(QRect(0, 0, 800, 24))\n",
        "        MainWindow.setMenuBar(self.menubar)\n",
        "        self.statusbar = QStatusBar(MainWindow)\n",
        "        self.statusbar.setObjectName(u\"statusbar\")\n",
        "        MainWindow.setStatusBar(self.statusbar)\n",
        "\n",
        "        self.retranslateUi(MainWindow)\n",
        "\n",
        "        QMetaObject.connectSlotsByName(MainWindow)\n",
        "    # setupUi\n",
        "\n",
        "    def retranslateUi(self, MainWindow):\n",
        "        MainWindow.setWindowTitle(QCoreApplication.translate(\"MainWindow\", u\"MainWindow\", None))\n",
        "        self.pushButton.setText(QCoreApplication.translate(\"MainWindow\", u\"PushButton\", None))\n",
        "        self.pushButton_2.setText(QCoreApplication.translate(\"MainWindow\", u\"PushButton\", None))\n",
        "    # retranslateUi"
      ],
      "metadata": {
        "id": "yzH4PcEoGSX-"
      },
      "execution_count": null,
      "outputs": []
    },
    {
      "cell_type": "markdown",
      "source": [
        "### ui.py를 다른 프로젝트에서 불러오기"
      ],
      "metadata": {
        "id": "2y7TA8e3Hudm"
      }
    },
    {
      "cell_type": "code",
      "source": [
        "import sys\n",
        "from PySide6.QtWidgets import QMainWindow, QApplication\n",
        "from ui import Ui_MainWindow # ui.py\n",
        "\n",
        "class MainWindow(QMainWindow):\n",
        "    def __init__(self):\n",
        "        super(MainWindow, self).__init__()\n",
        "        self.ui = Ui_MainWindow()\n",
        "        self.ui.setupUi(self)\n",
        "\n",
        "if __name__ == \"__main__\":\n",
        "    app = QApplication()\n",
        "\n",
        "    window = MainWindow()\n",
        "    window.show()\n",
        "\n",
        "    sys.exit(app.exec())"
      ],
      "metadata": {
        "id": "4H7HUSwSHzCG"
      },
      "execution_count": null,
      "outputs": []
    }
  ]
}