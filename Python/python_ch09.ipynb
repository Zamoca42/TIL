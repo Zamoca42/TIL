{
  "nbformat": 4,
  "nbformat_minor": 0,
  "metadata": {
    "colab": {
      "provenance": [],
      "authorship_tag": "ABX9TyMii1Fe24RMYbK9e8TKLfI/",
      "include_colab_link": true
    },
    "kernelspec": {
      "name": "python3",
      "display_name": "Python 3"
    },
    "language_info": {
      "name": "python"
    }
  },
  "cells": [
    {
      "cell_type": "markdown",
      "metadata": {
        "id": "view-in-github",
        "colab_type": "text"
      },
      "source": [
        "<a href=\"https://colab.research.google.com/github/Zamoca42/TIL/blob/main/Python/python_ch09.ipynb\" target=\"_parent\"><img src=\"https://colab.research.google.com/assets/colab-badge.svg\" alt=\"Open In Colab\"/></a>"
      ]
    },
    {
      "cell_type": "markdown",
      "source": [
        "# 파이썬의 쓰레드\n",
        "\n",
        "파이썬은 인터프리터 언어로서 기본적으로 싱글 쓰레드에서 순차적으로 동작. 따라서 병렬처리를 위해선 별도의 모듈 을 사용하여 수행해야 한다."
      ],
      "metadata": {
        "id": "RVacpwN1n1c_"
      }
    },
    {
      "cell_type": "code",
      "execution_count": 1,
      "metadata": {
        "colab": {
          "base_uri": "https://localhost:8080/"
        },
        "id": "XeiyWPuLfrcG",
        "outputId": "3f6f76eb-a55d-4f3d-d1d2-fcf1fefa8ea8"
      },
      "outputs": [
        {
          "output_type": "stream",
          "name": "stdout",
          "text": [
            "199980000\n"
          ]
        }
      ],
      "source": [
        "from threading import Thread\n",
        "\n",
        "def work(work_id, start, end, result): \n",
        "  total = 0\n",
        "  for i in range(start, end):\n",
        "    total += i \n",
        "  result.append(total)\n",
        "\n",
        "if __name__ == \"__main__\":\n",
        "  result = []\n",
        "  th1 = Thread(target=work, args=(1, 0, 10000, result))\n",
        "  th2 = Thread(target=work, args=(2, 10001, 20000, result))\n",
        "\n",
        "  th1.start()\n",
        "  th2.start()\n",
        "  th1.join()  # join () 메소드는 파이썬에게 프로세스가 종료 될 때까지 대기하도록 지시합니다. \n",
        "  th2.join()\n",
        "\n",
        "print(sum(result))"
      ]
    },
    {
      "cell_type": "markdown",
      "source": [
        "### 잠깐!\n",
        "\n",
        "사실 파이썬에서 멀티 쓰레드를 쓴 것과 싱글 쓰레드로 실행시킨 것은 실행시간이 거의 차이가 없습니다.  \n",
        "그것은 파이 썬의 GIL(Global Interpreter Lock) 정책 때문입니다.  \n",
        "\n",
        "단, 이 GIL 정책은 cpu 작업에서만 적용되므로 I/O 작업이 많은 병렬처리 작업에서는 멀티 쓰레드가 효과적일 수 있다 !"
      ],
      "metadata": {
        "id": "8GYUNUaKn8_I"
      }
    },
    {
      "cell_type": "code",
      "source": [
        "# 멀티 프로세싱(POOL)\n",
        "\n",
        "from multiprocessing import Pool \n",
        "\n",
        "def f(x):\n",
        "  return x*x\n",
        "\n",
        "if __name__ == '__main__': # 반드시 필요\n",
        "  p = Pool(4)\n",
        "  result = p.map(f, [1,2,3,4]) \n",
        "  p.close()\n",
        "  print(result)"
      ],
      "metadata": {
        "id": "EUq20z7Xhr57"
      },
      "execution_count": null,
      "outputs": []
    },
    {
      "cell_type": "code",
      "source": [
        "import os\n",
        "from multiprocessing import Process\n",
        "\n",
        "def f(x): \n",
        "  print(x*x)\n",
        "\n",
        "if __name__ == '__main__':\n",
        "  numbers = [1,2,3,4]\n",
        "  proc1 = Process(target=f, args=(numbers[0],)) \n",
        "  proc1.start()\n",
        "  proc2 = Process(target=f, args=(numbers[1],)) \n",
        "  proc2.start()\n",
        "  proc3 = Process(target=f, args=(numbers[2],)) \n",
        "  proc3.start()\n",
        "  proc4 = Process(target=f, args=(numbers[3],)) \n",
        "  proc4.start()\n",
        "  proc1.join()\n",
        "  proc2.join()\n",
        "  proc3.join()\n",
        "  proc4.join()"
      ],
      "metadata": {
        "id": "--ZuiE852T_X"
      },
      "execution_count": null,
      "outputs": []
    },
    {
      "cell_type": "markdown",
      "source": [
        "###  Process vs Pool\n",
        "\n",
        "Pool과 Process 모두 병렬 처리를 위해 사용되지만 차이가 존재한다.  \n",
        "쉽게 설명하자면, Pool은 처리할 일들 을 pool에 뿌려 놓고 알아서 병렬 처리를 하게 만드는 것이고  \n",
        "Process는 각 프로세스별로 할당량을 명시적으로 적어두고 그걸 처리하게 하는 것이다.\n",
        "\n",
        "- 물론 이는 이해를 돕기 위해 간단하게 설명했을 뿐 실제로 둘의 차이는 조금 더 복잡하다."
      ],
      "metadata": {
        "id": "1joecxEZ2juG"
      }
    }
  ]
}