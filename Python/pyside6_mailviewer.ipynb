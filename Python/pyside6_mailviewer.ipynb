{
  "nbformat": 4,
  "nbformat_minor": 0,
  "metadata": {
    "colab": {
      "provenance": [],
      "authorship_tag": "ABX9TyOxwyBn7/l5WrqaOhyXEzTN",
      "include_colab_link": true
    },
    "kernelspec": {
      "name": "python3",
      "display_name": "Python 3"
    },
    "language_info": {
      "name": "python"
    }
  },
  "cells": [
    {
      "cell_type": "markdown",
      "metadata": {
        "id": "view-in-github",
        "colab_type": "text"
      },
      "source": [
        "<a href=\"https://colab.research.google.com/github/Zamoca42/TIL/blob/main/Python/pyside6_mailviewer.ipynb\" target=\"_parent\"><img src=\"https://colab.research.google.com/assets/colab-badge.svg\" alt=\"Open In Colab\"/></a>"
      ]
    },
    {
      "cell_type": "markdown",
      "source": [
        "# 메일뷰어 프로그램 만들어보기"
      ],
      "metadata": {
        "id": "spORDkfLvs1e"
      }
    },
    {
      "cell_type": "markdown",
      "source": [
        "![스크린샷 2023-01-29 오후 10 24 53](https://user-images.githubusercontent.com/96982072/215329907-6183f64d-644b-45ad-a0ab-2bb87a936ef0.png)\n",
        "\n",
        "- pyside6 + selenium을 이용한 메일뷰어 프로그램 만들기"
      ],
      "metadata": {
        "id": "GhcBuxGZvxmo"
      }
    },
    {
      "cell_type": "markdown",
      "source": [
        "- Text label\n",
        "  - 우측 메일 제목 : `lb_title`\n",
        "  - 우측 내용 보기 : `lb_content`\n",
        "\n",
        "- Table widget\n",
        "  - 오브젝트명 : `table`\n",
        "  - column: 날짜, 사이트, 보낸이, 첨부파일 수, 제목  \n",
        "\n",
        "    <img width=\"928\" alt=\"스크린샷 2023-01-29 오후 10 32 12\" src=\"https://user-images.githubusercontent.com/96982072/215329912-601c669a-a04a-42f6-87de-20f3a6012528.png\">"
      ],
      "metadata": {
        "id": "EBpzqCbvwQgz"
      }
    },
    {
      "cell_type": "markdown",
      "source": [
        "## Selenium 세팅"
      ],
      "metadata": {
        "id": "AAIFkWRixAaM"
      }
    },
    {
      "cell_type": "markdown",
      "source": [
        "- 크롬 동작에 필요한 셀레니움 패키지 가져오기\n",
        "- 네이버 메일에 진입하고 아이디 입력 찾기"
      ],
      "metadata": {
        "id": "7LREMOqw8VzR"
      }
    },
    {
      "cell_type": "code",
      "execution_count": null,
      "metadata": {
        "id": "aasxfe7EvgdT"
      },
      "outputs": [],
      "source": [
        "import time\n",
        "import pyperclip\n",
        "import sys\n",
        "from PySide6.QtWidgets import QMainWindow, QApplication, QTableWidgetItem, QMessageBox\n",
        "from PySide6.QtCore import QTimer\n",
        "from ui import Ui_MainWindow # ui.py\n",
        "\n",
        "from selenium import webdriver\n",
        "from selenium.webdriver.chrome.service import Service\n",
        "from webdriver_manager.chrome import ChromeDriverManager\n",
        "\n",
        "from selenium import webdriver\n",
        "from selenium.webdriver.chrome.service import Service\n",
        "from webdriver_manager.chrome import ChromeDriverManager\n",
        "\n",
        "from selenium.webdriver.common.by import By\n",
        "from selenium.webdriver.support.ui import WebDriverWait\n",
        "from selenium.webdriver.support import expected_conditions as EC\n",
        "\n",
        "def find(chrome, css):\n",
        "    wait = WebDriverWait(chrome, 5)\n",
        "    return wait.until(EC.visibility_of_element_located((By.CSS_SELECTOR, css)))\n",
        "\n",
        "class MainWindow(QMainWindow):\n",
        "    def __init__(self):\n",
        "        super(MainWindow, self).__init__()\n",
        "        self.ui = Ui_MainWindow()\n",
        "        self.ui.setupUi(self)\n",
        "\n",
        "        # selenium up\n",
        "        chrome = webdriver.Chrome(service=Service(ChromeDriverManager().install()))\n",
        "\n",
        "        wait = WebDriverWait(chrome, 10)\n",
        "        short_wait = WebDriverWait(chrome, 3)\n",
        "\n",
        "        # naver login\n",
        "        chrome.get(\"https://mail.naver.com\")\n",
        "        input_id = find(chrome, \"#id\")\n",
        "        print(input_id)\n",
        "\n",
        "\n",
        "if __name__ == \"__main__\":\n",
        "    app = QApplication()\n",
        "\n",
        "    window = MainWindow()\n",
        "    window.show()\n",
        "\n",
        "    sys.exit(app.exec())"
      ]
    },
    {
      "cell_type": "markdown",
      "source": [
        "## 네이버 메일 파싱"
      ],
      "metadata": {
        "id": "Sv5MllKwxEfB"
      }
    },
    {
      "cell_type": "code",
      "source": [],
      "metadata": {
        "id": "th4hAY0wxHW_"
      },
      "execution_count": null,
      "outputs": []
    },
    {
      "cell_type": "markdown",
      "source": [
        "## 네이버 메일 열어보기"
      ],
      "metadata": {
        "id": "vPvh84NlxHn7"
      }
    },
    {
      "cell_type": "code",
      "source": [],
      "metadata": {
        "id": "OxFBD7ADxLSp"
      },
      "execution_count": null,
      "outputs": []
    },
    {
      "cell_type": "markdown",
      "source": [
        "## 다음메일 파싱 및 열어보기"
      ],
      "metadata": {
        "id": "euYQVCbHxLdg"
      }
    },
    {
      "cell_type": "code",
      "source": [],
      "metadata": {
        "id": "gLLqplhOyZmn"
      },
      "execution_count": null,
      "outputs": []
    }
  ]
}