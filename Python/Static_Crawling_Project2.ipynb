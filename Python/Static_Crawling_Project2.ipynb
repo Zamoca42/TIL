{
  "nbformat": 4,
  "nbformat_minor": 0,
  "metadata": {
    "colab": {
      "provenance": [],
      "authorship_tag": "ABX9TyPxaE6MVnyblvmG2ImbFXul",
      "include_colab_link": true
    },
    "kernelspec": {
      "name": "python3",
      "display_name": "Python 3"
    },
    "language_info": {
      "name": "python"
    }
  },
  "cells": [
    {
      "cell_type": "markdown",
      "metadata": {
        "id": "view-in-github",
        "colab_type": "text"
      },
      "source": [
        "<a href=\"https://colab.research.google.com/github/Zamoca42/TIL/blob/main/Python/Static_Crawling_Project2.ipynb\" target=\"_parent\"><img src=\"https://colab.research.google.com/assets/colab-badge.svg\" alt=\"Open In Colab\"/></a>"
      ]
    },
    {
      "cell_type": "markdown",
      "source": [
        "# imgur 이미지 업로드하기"
      ],
      "metadata": {
        "id": "Orht7ksKTEQF"
      }
    },
    {
      "cell_type": "markdown",
      "source": [
        "## HTTP GET vs POST\n",
        "\n",
        "- GET \n",
        "  - 리소스 얻기\n",
        "- POST \n",
        "  - 리소스 생성"
      ],
      "metadata": {
        "id": "0Z8ZAvzhTIhx"
      }
    },
    {
      "cell_type": "code",
      "execution_count": 2,
      "metadata": {
        "colab": {
          "base_uri": "https://localhost:8080/"
        },
        "id": "3nM9UZo_TAp7",
        "outputId": "6d3c35a8-a1ba-41f4-8c07-46d75a6e1586"
      },
      "outputs": [
        {
          "output_type": "stream",
          "name": "stdout",
          "text": [
            "\n"
          ]
        }
      ],
      "source": [
        "# webhook.site로 GET 요청 보내고 결과 보기\n",
        "\n",
        "import requests as req\n",
        "\n",
        "res = req.get('https://webhook.site/f54d6c72-983b-4c9f-a9ad-32f2dabd7e6a')\n",
        "print(res.text)"
      ]
    },
    {
      "cell_type": "code",
      "source": [
        "# query string -> name = hi\n",
        "res = req.get('https://webhook.site/f54d6c72-983b-4c9f-a9ad-32f2dabd7e6a?name=hi')\n",
        "print(res.text)"
      ],
      "metadata": {
        "colab": {
          "base_uri": "https://localhost:8080/"
        },
        "id": "qnSEpKZrU3gm",
        "outputId": "9fbb9a2f-c7d1-4fb4-bd4e-a995f385d9dd"
      },
      "execution_count": 3,
      "outputs": [
        {
          "output_type": "stream",
          "name": "stdout",
          "text": [
            "\n"
          ]
        }
      ]
    },
    {
      "cell_type": "code",
      "source": [
        "# hearders 넣어서 요청해보기\n",
        "res = req.get('https://webhook.site/f54d6c72-983b-4c9f-a9ad-32f2dabd7e6a', headers = {\n",
        "    \"User-Agent\" : \"Anam/B1\"\n",
        "})\n",
        "print(res.text)"
      ],
      "metadata": {
        "colab": {
          "base_uri": "https://localhost:8080/"
        },
        "id": "LFzLBMIcVGAv",
        "outputId": "791a471e-bc61-4dcd-8188-889b27e25022"
      },
      "execution_count": 4,
      "outputs": [
        {
          "output_type": "stream",
          "name": "stdout",
          "text": [
            "\n"
          ]
        }
      ]
    },
    {
      "cell_type": "code",
      "source": [
        "# POST 요청보내기\n",
        "\n",
        "url = 'https://webhook.site/f54d6c72-983b-4c9f-a9ad-32f2dabd7e6a'\n",
        "\n",
        "res = req.post(url)\n",
        "\n",
        "print(res.text)"
      ],
      "metadata": {
        "colab": {
          "base_uri": "https://localhost:8080/"
        },
        "id": "T5fxNZncVb71",
        "outputId": "7b5abe02-7989-4fb7-960b-eb0113cdc368"
      },
      "execution_count": 5,
      "outputs": [
        {
          "output_type": "stream",
          "name": "stdout",
          "text": [
            "\n"
          ]
        }
      ]
    },
    {
      "cell_type": "code",
      "source": [
        "# POST 요청에 데이터 추가\n",
        "\n",
        "url = 'https://webhook.site/f54d6c72-983b-4c9f-a9ad-32f2dabd7e6a'\n",
        "\n",
        "res = req.post(url, data={\n",
        "    \"name\" : \"hi\"\n",
        "})\n",
        "\n",
        "print(res.text)"
      ],
      "metadata": {
        "colab": {
          "base_uri": "https://localhost:8080/"
        },
        "id": "dpsqYKddWKQ8",
        "outputId": "bf8d1685-ea55-496d-fb6f-f66adbfd5677"
      },
      "execution_count": 6,
      "outputs": [
        {
          "output_type": "stream",
          "name": "stdout",
          "text": [
            "\n"
          ]
        }
      ]
    },
    {
      "cell_type": "markdown",
      "source": [
        "- POST 요청에 데이터 추가 결과\n",
        "\n",
        "  <img width=\"1257\" alt=\"스크린샷 2023-01-13 오후 10 38 43\" src=\"https://user-images.githubusercontent.com/96982072/212333494-6e83dd33-9a76-402a-acf6-beeb0564141d.png\">\n",
        "  \n",
        "  - GET 요청과 다르게 size, content-type, Form values 등이 추가, 변경 되었음\n"
      ],
      "metadata": {
        "id": "U001-VXPXTMI"
      }
    },
    {
      "cell_type": "markdown",
      "source": [
        "- 요청 결과 모음\n",
        "\n",
        "  - [webhook.site](https://webhook.site/#!/f54d6c72-983b-4c9f-a9ad-32f2dabd7e6a/4213a36e-b9b1-4664-bfd9-45b97044ff5f/1)"
      ],
      "metadata": {
        "id": "yFDz9Qv3ULUf"
      }
    },
    {
      "cell_type": "markdown",
      "source": [
        "## imgur\n",
        "\n",
        "- [imgur 링크](https://imgur.com)\n",
        "- 이미지 올려보기\n",
        "  - https://imgur.com/a/8jpcGUJ"
      ],
      "metadata": {
        "id": "LrqQSaydX_Fv"
      }
    },
    {
      "cell_type": "markdown",
      "source": [
        "### 이미지를 HTTP(문자열)로 보내는 방법?\n",
        "  - Multipart/form-data\n",
        "    - 이미지란? -> 문자열 데이터!\n",
        "  \n"
      ],
      "metadata": {
        "id": "gOWHgH-5ZWPG"
      }
    },
    {
      "cell_type": "markdown",
      "source": [
        "- 이미지를 데이터로 바꾼 예시\n",
        "\n",
        "  <img width=\"957\" alt=\"스크린샷 2023-01-13 오후 11 23 03\" src=\"https://user-images.githubusercontent.com/96982072/212342521-537e60a7-c097-46ac-9779-209a5477d4e0.png\">"
      ],
      "metadata": {
        "id": "1mYu7PW0bgP8"
      }
    },
    {
      "cell_type": "markdown",
      "source": [
        "- 그럼 HTTP에 이렇게 보내면 되나?\n",
        "\n",
        "  <img width=\"1365\" alt=\"스크린샷 2023-01-13 오후 11 23 22\" src=\"https://user-images.githubusercontent.com/96982072/212342499-c7aa74fe-7bad-4858-9837-886272df0f24.png\">\n",
        "\n",
        "  - 안됀다  \n",
        "  \n",
        "  - 안되는 이유\n",
        "    - 큰 파일 보낼 때 비효율적\n",
        "    - ASCII 문자 아닌 것 보낼 때 비효율적\n",
        "    - MIME을 같이 보낼 수 없음\n",
        "    - 정해진 형식이 있음"
      ],
      "metadata": {
        "id": "CmnlJkcnbZWC"
      }
    }
  ]
}