{
  "cells": [
    {
      "cell_type": "markdown",
      "metadata": {
        "colab_type": "text",
        "id": "view-in-github"
      },
      "source": [
        "<a href=\"https://colab.research.google.com/github/Zamoca42/TIL/blob/main/Python/python_ch08.ipynb\" target=\"_parent\"><img src=\"https://colab.research.google.com/assets/colab-badge.svg\" alt=\"Open In Colab\"/></a>"
      ]
    },
    {
      "cell_type": "markdown",
      "metadata": {
        "id": "1jqbOoJmO7qe"
      },
      "source": [
        "# 직렬화\n",
        "\n",
        "### 직렬화란?\n",
        "\n",
        "- 객체를 연속적인 데이터로 변환하는것.그래서 이름이 직렬화(Serialize)이다. \n",
        "\n",
        "- 객체를 컴퓨터에 저장하기 위해서는 직렬화가 필요\n",
        "\n",
        "### Pickle 모듈\n",
        "\n",
        "- 파이썬에서 객체를 직렬화하는 모듈은 pickle이다.\n",
        "  - pickle.load(파일객체) : pickle을 통해 바이트화 되어 저장된 파일객체를 다시 원본의 모습으로 반환\n",
        "  - pickle.loads(바이트 객체) : pickle을 통해 바이트화 된 객체를 다시 원본의 모습으로 반환 \n",
        "  - pickle.loads(pickle.dumps([1,2,3,4]))\n",
        "\n"
      ]
    },
    {
      "cell_type": "code",
      "execution_count": 2,
      "metadata": {
        "colab": {
          "base_uri": "https://localhost:8080/"
        },
        "id": "NzNUnQBZNaLa",
        "outputId": "9866ba8d-785b-4a6d-f563-2d6871560c17"
      },
      "outputs": [
        {
          "data": {
            "text/plain": [
              "b'\\x80\\x03]q\\x00(K\\x01K\\x02K\\x03K\\x04e.'"
            ]
          },
          "execution_count": 2,
          "metadata": {},
          "output_type": "execute_result"
        }
      ],
      "source": [
        "import pickle\n",
        "\n",
        "pickle.dumps([1,2,3,4])"
      ]
    },
    {
      "cell_type": "code",
      "execution_count": 4,
      "metadata": {
        "colab": {
          "base_uri": "https://localhost:8080/"
        },
        "id": "RUNuM4YWPjHd",
        "outputId": "2de99e65-341c-4575-a7b5-9a4bba50ece2"
      },
      "outputs": [
        {
          "data": {
            "text/plain": [
              "[1, 2, 3, 4]"
            ]
          },
          "execution_count": 4,
          "metadata": {},
          "output_type": "execute_result"
        }
      ],
      "source": [
        "pickle.loads(b'\\x80\\x03]q\\x00(K\\x01K\\x02K\\x03K\\x04e.')"
      ]
    },
    {
      "cell_type": "markdown",
      "metadata": {
        "id": "xXE9J5swQO_1"
      },
      "source": [
        "###  Json 모듈\n",
        "\n",
        " - Json은 pickle과는 또 다른 직렬화 방식으로,서로 다른 언어로 작성된 프로그램에서 통신할 때 쓸 수도 있고 인간이 보기에 알아보기 편한 형식으로 저장할 수 있기 때문에 널리 사용. 단, json으로 직렬화 할 수 있는 객체는 한정되어 있음.\n",
        "\n",
        "```python\n",
        "import json\n",
        "\n",
        "json.dumps([1, 2, 3, {'4': 5, '6': 7}]) \n",
        "# => String 형식으로 반환\n",
        "\n",
        "import json\n",
        "\n",
        "json.loads('[1, 2, 3, {\"4\": 5, \"6\": 7}]’)\n",
        "# => String 형식의 data를 list와 dictionary 등으로 복원\n",
        "```"
      ]
    },
    {
      "cell_type": "code",
      "execution_count": 5,
      "metadata": {
        "colab": {
          "base_uri": "https://localhost:8080/",
          "height": 36
        },
        "id": "fWI0_gP3QJsP",
        "outputId": "e5063c15-2287-496a-92d0-0675279c00b9"
      },
      "outputs": [
        {
          "data": {
            "application/vnd.google.colaboratory.intrinsic+json": {
              "type": "string"
            },
            "text/plain": [
              "'{\"a\": \"b\", \"c\": \"d\"}'"
            ]
          },
          "execution_count": 5,
          "metadata": {},
          "output_type": "execute_result"
        }
      ],
      "source": [
        "import json\n",
        "\n",
        "json.dumps({'a':'b', 'c':'d'})"
      ]
    },
    {
      "cell_type": "code",
      "execution_count": 6,
      "metadata": {
        "colab": {
          "base_uri": "https://localhost:8080/"
        },
        "id": "Copb9zcjRM3M",
        "outputId": "1166820a-0dcf-4053-8708-bdff5f09ae34"
      },
      "outputs": [
        {
          "data": {
            "text/plain": [
              "{'a': 'b', 'c': 'd'}"
            ]
          },
          "execution_count": 6,
          "metadata": {},
          "output_type": "execute_result"
        }
      ],
      "source": [
        "json.loads('{\"a\": \"b\", \"c\": \"d\"}')"
      ]
    },
    {
      "cell_type": "markdown",
      "metadata": {
        "id": "mdDbCWSPe10v"
      },
      "source": [
        "```py\n",
        "\n",
        "import json\n",
        "\n",
        "with open('test.txt','w') as f:\n",
        "  json.dump([1, 2, 3, {'4': 5, '6': 7}], f) \n",
        "  # => 파일에 json화된 객체를 저장\n",
        "\n",
        "import json\n",
        "\n",
        "with open('test.txt','r') as f:\n",
        "  json.load(f)\n",
        "  #=> Json화된 data를 list와 dictionary 등으로 복원\n",
        "```"
      ]
    },
    {
      "cell_type": "code",
      "execution_count": null,
      "metadata": {
        "id": "dKNniWhRRUpt"
      },
      "outputs": [],
      "source": []
    }
  ],
  "metadata": {
    "colab": {
      "authorship_tag": "ABX9TyNFgAcuLx/mW1lKV5Zx5EkU",
      "include_colab_link": true,
      "provenance": []
    },
    "kernelspec": {
      "display_name": "Python 3.10.6 64-bit",
      "language": "python",
      "name": "python3"
    },
    "language_info": {
      "name": "python",
      "version": "3.10.6"
    },
    "vscode": {
      "interpreter": {
        "hash": "b0fa6594d8f4cbf19f97940f81e996739fb7646882a419484c72d19e05852a7e"
      }
    }
  },
  "nbformat": 4,
  "nbformat_minor": 0
}
